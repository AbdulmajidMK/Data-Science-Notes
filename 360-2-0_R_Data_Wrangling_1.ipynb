{
 "cells": [
  {
   "cell_type": "raw",
   "metadata": {},
   "source": [
    "From: https://github.com/ksatola\n",
    "Version: 0.0.1"
   ]
  },
  {
   "cell_type": "markdown",
   "metadata": {},
   "source": [
    "# Data Wrangling in R (part 1)\n",
    "\n",
    "**Data wrangling** covers loading, manipulating, reshaping, and exploring data structures."
   ]
  },
  {
   "cell_type": "markdown",
   "metadata": {},
   "source": [
    "## Table of Contents\n",
    "\n",
    "- [Understanding Data](#data)\n",
    "- [Data Frames](#dataframe)\n",
    "- [Working with CSV Data](#csv)\n",
    "- [Factors](#fac)\n",
    "- [Manipulating Data with dplyr](#dplyr)\n",
    "- [The Pipe Operator](#pipe)\n",
    "- [Tibble](#tib)\n",
    "- [Joining Data Frames Together](#join)"
   ]
  },
  {
   "cell_type": "markdown",
   "metadata": {},
   "source": [
    "---\n",
    "<a id='data'></a>"
   ]
  },
  {
   "cell_type": "markdown",
   "metadata": {},
   "source": [
    "## Understanding Data\n",
    "\n",
    "1. **Where data come from?** - `When working with any data set, it is vital to consider where the data came from, who, how and why recorded it - to effectively and meaningfully analyze it`.\n",
    "    - **Sensors** - assuming these devices have been properly calibrated, they offer a reliable and consistent mechanism for data collection.\n",
    "    - **Surveys** - are dependent on individuals self-reporting, their quality may vary. The biases inherent in survey responses should be recognized and (if possible) adjusted.\n",
    "    - **Record keeping** - based on manual or automatic process to keep track of different (business) activities. The reliability depends on quality of systems producing it and the way they are gathered. Record keeping may only focus on particular tasks.\n",
    "    - **Secondary data analysis** - data compiled from existing knowledge artifacts or measurements (such as historical texts). These artifacts may already exclude perspectives.\n",
    "    \n",
    "\n",
    "2. **Dataset sources**:\n",
    "\n",
    "    - Government piblications\n",
    "    - News and journalism (New York time, FiveThirtyEight)\n",
    "    - Scientific research (Nature Recommended Data Repositories)\n",
    "    - Social networks and media organizations (Facebook, Twitter, Google)\n",
    "    - Online communities (Kaggle, Socrata, UCI ML Repository)\n",
    "    \n",
    "\n",
    "3. Once you acquire a data set, you will have to **understand its structure and content** before (programmatically) investigating it. You need to know what kinds of statistical analysis will be valid for different types of data, as well as how to interpret what that data are measuring.\n",
    "\n",
    "4. **Data interpretation**. Working with data requires domain knowledge, at least a basic level of understanding of the problem domain (the meaning of data), significance and purpose of any feature (to detect outliers and errors), and some of the subtleties that may not be explicit in the data set (such as biases or aggregations that may hide important causalities). `Gathering domain knowledge almost always requires outside research`.\n",
    "\n",
    "5. **Organize your data into data structures**. Usually these structures allow building one or more (connected) tables where columns represent features and rows observations. You need to understand data schema and specific context for all values. Use meta-data (data about data) as a starter.\n",
    "\n",
    "6. **Use data to answer questions**, this will require translating from various domain questions to specific observations and features in your data set. You need to be able to decide **what precisely is meant by a question** - a task that requires understanding the nuances found in the questions' problem domain."
   ]
  },
  {
   "cell_type": "markdown",
   "metadata": {},
   "source": [
    "---\n",
    "<a id='dataframe'></a>"
   ]
  },
  {
   "cell_type": "markdown",
   "metadata": {},
   "source": [
    "## Data Frames\n",
    "\n",
    "**Data Frames** act like tables, where data is organized into rows and columns. Technically, data frames are lists in which each element is a vector of the same length (as other vectors). Each vector represents a column, not a row. The elements at corresponding indices in the vectors are considered part of the same row (record). With this design, each row may have a different type of data, and vector's elements must all be of the same type."
   ]
  },
  {
   "cell_type": "markdown",
   "metadata": {},
   "source": [
    "### Create"
   ]
  },
  {
   "cell_type": "code",
   "execution_count": 21,
   "metadata": {},
   "outputs": [],
   "source": [
    "# Create a data frame\n",
    "name <- c(\"Alice\", \"John\", \"Melinda\")\n",
    "height <- c(150, 170, 165)\n",
    "weight <- c(60, 70, 65)\n",
    "\n",
    "# Factors are categorical variables (like: small, medium, large)\n",
    "people <- data.frame(name, height, weight, stringsAsFactors = FALSE)\n",
    "\n",
    "# or\n",
    "\n",
    "people <- data.frame(\n",
    "    name = c(\"Alice\", \"John\", \"Melinda\"), \n",
    "    height = c(150, 170, 165), \n",
    "    weight = c(60, 70, 65), \n",
    "    stringsAsFactors = FALSE)"
   ]
  },
  {
   "cell_type": "code",
   "execution_count": 22,
   "metadata": {},
   "outputs": [
    {
     "data": {
      "text/html": [
       "<table>\n",
       "<caption>A data.frame: 3 × 3</caption>\n",
       "<thead>\n",
       "\t<tr><th scope=col>name</th><th scope=col>height</th><th scope=col>weight</th></tr>\n",
       "\t<tr><th scope=col>&lt;chr&gt;</th><th scope=col>&lt;dbl&gt;</th><th scope=col>&lt;dbl&gt;</th></tr>\n",
       "</thead>\n",
       "<tbody>\n",
       "\t<tr><td>Alice  </td><td>150</td><td>60</td></tr>\n",
       "\t<tr><td>John   </td><td>170</td><td>70</td></tr>\n",
       "\t<tr><td>Melinda</td><td>165</td><td>65</td></tr>\n",
       "</tbody>\n",
       "</table>\n"
      ],
      "text/latex": [
       "A data.frame: 3 × 3\n",
       "\\begin{tabular}{r|lll}\n",
       " name & height & weight\\\\\n",
       " <chr> & <dbl> & <dbl>\\\\\n",
       "\\hline\n",
       "\t Alice   & 150 & 60\\\\\n",
       "\t John    & 170 & 70\\\\\n",
       "\t Melinda & 165 & 65\\\\\n",
       "\\end{tabular}\n"
      ],
      "text/markdown": [
       "\n",
       "A data.frame: 3 × 3\n",
       "\n",
       "| name &lt;chr&gt; | height &lt;dbl&gt; | weight &lt;dbl&gt; |\n",
       "|---|---|---|\n",
       "| Alice   | 150 | 60 |\n",
       "| John    | 170 | 70 |\n",
       "| Melinda | 165 | 65 |\n",
       "\n"
      ],
      "text/plain": [
       "  name    height weight\n",
       "1 Alice   150    60    \n",
       "2 John    170    70    \n",
       "3 Melinda 165    65    "
      ]
     },
     "metadata": {},
     "output_type": "display_data"
    }
   ],
   "source": [
    "people"
   ]
  },
  {
   "cell_type": "code",
   "execution_count": 23,
   "metadata": {},
   "outputs": [
    {
     "name": "stdout",
     "output_type": "stream",
     "text": [
      "[1] 60 70 65\n"
     ]
    }
   ],
   "source": [
    "# Dollar notation\n",
    "people_weights <- people$weight\n",
    "print(people_weights)"
   ]
  },
  {
   "cell_type": "code",
   "execution_count": 24,
   "metadata": {},
   "outputs": [
    {
     "name": "stdout",
     "output_type": "stream",
     "text": [
      "[1] 60 70 65\n"
     ]
    }
   ],
   "source": [
    "# Double-bracket notation\n",
    "people_weights <- people[[\"weight\"]]\n",
    "print(people_weights)"
   ]
  },
  {
   "cell_type": "code",
   "execution_count": 25,
   "metadata": {},
   "outputs": [],
   "source": [
    "# Single-bracket notation\n",
    "# see below"
   ]
  },
  {
   "cell_type": "markdown",
   "metadata": {},
   "source": [
    "### Inspect"
   ]
  },
  {
   "cell_type": "code",
   "execution_count": 26,
   "metadata": {},
   "outputs": [
    {
     "data": {
      "text/html": [
       "3"
      ],
      "text/latex": [
       "3"
      ],
      "text/markdown": [
       "3"
      ],
      "text/plain": [
       "[1] 3"
      ]
     },
     "metadata": {},
     "output_type": "display_data"
    }
   ],
   "source": [
    "nrow(people)"
   ]
  },
  {
   "cell_type": "code",
   "execution_count": 27,
   "metadata": {},
   "outputs": [
    {
     "data": {
      "text/html": [
       "3"
      ],
      "text/latex": [
       "3"
      ],
      "text/markdown": [
       "3"
      ],
      "text/plain": [
       "[1] 3"
      ]
     },
     "metadata": {},
     "output_type": "display_data"
    }
   ],
   "source": [
    "ncol(people)"
   ]
  },
  {
   "cell_type": "code",
   "execution_count": 28,
   "metadata": {},
   "outputs": [
    {
     "name": "stdout",
     "output_type": "stream",
     "text": [
      "[1] 3 3\n"
     ]
    }
   ],
   "source": [
    "print(dim(people)) # rows, cols"
   ]
  },
  {
   "cell_type": "code",
   "execution_count": 29,
   "metadata": {},
   "outputs": [
    {
     "name": "stdout",
     "output_type": "stream",
     "text": [
      "[1] \"name\"   \"height\" \"weight\"\n"
     ]
    }
   ],
   "source": [
    "print(colnames(people))"
   ]
  },
  {
   "cell_type": "code",
   "execution_count": 30,
   "metadata": {},
   "outputs": [
    {
     "name": "stdout",
     "output_type": "stream",
     "text": [
      "[1] \"1\" \"2\" \"3\"\n"
     ]
    }
   ],
   "source": [
    "print(rownames(people))"
   ]
  },
  {
   "cell_type": "code",
   "execution_count": 31,
   "metadata": {},
   "outputs": [
    {
     "name": "stdout",
     "output_type": "stream",
     "text": [
      "     name height weight\n",
      "1   Alice    150     60\n",
      "2    John    170     70\n",
      "3 Melinda    165     65\n"
     ]
    }
   ],
   "source": [
    "print(head(people))"
   ]
  },
  {
   "cell_type": "code",
   "execution_count": 32,
   "metadata": {},
   "outputs": [
    {
     "name": "stdout",
     "output_type": "stream",
     "text": [
      "     name height weight\n",
      "1   Alice    150     60\n",
      "2    John    170     70\n",
      "3 Melinda    165     65\n"
     ]
    }
   ],
   "source": [
    "print(tail(people))"
   ]
  },
  {
   "cell_type": "code",
   "execution_count": 33,
   "metadata": {},
   "outputs": [
    {
     "ename": "ERROR",
     "evalue": "Error in View(people): ‘View()’ not yet supported in the Jupyter R kernel\n",
     "output_type": "error",
     "traceback": [
      "Error in View(people): ‘View()’ not yet supported in the Jupyter R kernel\nTraceback:\n",
      "1. View(people)",
      "2. stop(sQuote(\"View()\"), \" not yet supported in the Jupyter R kernel\")"
     ]
    }
   ],
   "source": [
    "# Open the data frame in a spreadsheet-like viewer (only in RStudio)\n",
    "View(people)"
   ]
  },
  {
   "cell_type": "markdown",
   "metadata": {},
   "source": [
    "### Access"
   ]
  },
  {
   "cell_type": "code",
   "execution_count": 37,
   "metadata": {},
   "outputs": [
    {
     "data": {
      "text/html": [
       "'Alice'"
      ],
      "text/latex": [
       "'Alice'"
      ],
      "text/markdown": [
       "'Alice'"
      ],
      "text/plain": [
       "[1] \"Alice\""
      ]
     },
     "metadata": {},
     "output_type": "display_data"
    }
   ],
   "source": [
    "# Single-bracket notation\n",
    "# Elements by row and column names or mixed\n",
    "people[1, \"name\"]"
   ]
  },
  {
   "cell_type": "code",
   "execution_count": 38,
   "metadata": {},
   "outputs": [
    {
     "data": {
      "text/html": [
       "'Alice'"
      ],
      "text/latex": [
       "'Alice'"
      ],
      "text/markdown": [
       "'Alice'"
      ],
      "text/plain": [
       "[1] \"Alice\""
      ]
     },
     "metadata": {},
     "output_type": "display_data"
    }
   ],
   "source": [
    "# Elements by row and column indices\n",
    "people[1,1]"
   ]
  },
  {
   "cell_type": "code",
   "execution_count": 39,
   "metadata": {},
   "outputs": [
    {
     "data": {
      "text/html": [
       "<table>\n",
       "<caption>A data.frame: 1 × 3</caption>\n",
       "<thead>\n",
       "\t<tr><th scope=col>name</th><th scope=col>height</th><th scope=col>weight</th></tr>\n",
       "\t<tr><th scope=col>&lt;chr&gt;</th><th scope=col>&lt;dbl&gt;</th><th scope=col>&lt;dbl&gt;</th></tr>\n",
       "</thead>\n",
       "<tbody>\n",
       "\t<tr><td>Alice</td><td>150</td><td>60</td></tr>\n",
       "</tbody>\n",
       "</table>\n"
      ],
      "text/latex": [
       "A data.frame: 1 × 3\n",
       "\\begin{tabular}{r|lll}\n",
       " name & height & weight\\\\\n",
       " <chr> & <dbl> & <dbl>\\\\\n",
       "\\hline\n",
       "\t Alice & 150 & 60\\\\\n",
       "\\end{tabular}\n"
      ],
      "text/markdown": [
       "\n",
       "A data.frame: 1 × 3\n",
       "\n",
       "| name &lt;chr&gt; | height &lt;dbl&gt; | weight &lt;dbl&gt; |\n",
       "|---|---|---|\n",
       "| Alice | 150 | 60 |\n",
       "\n"
      ],
      "text/plain": [
       "  name  height weight\n",
       "1 Alice 150    60    "
      ]
     },
     "metadata": {},
     "output_type": "display_data"
    }
   ],
   "source": [
    "# Row by name/index\n",
    "people[1,]"
   ]
  },
  {
   "cell_type": "code",
   "execution_count": 41,
   "metadata": {},
   "outputs": [
    {
     "name": "stdout",
     "output_type": "stream",
     "text": [
      "[1] \"Alice\"   \"John\"    \"Melinda\"\n"
     ]
    }
   ],
   "source": [
    "# Column by name/index\n",
    "print(people[,1])"
   ]
  },
  {
   "cell_type": "code",
   "execution_count": 44,
   "metadata": {},
   "outputs": [
    {
     "name": "stdout",
     "output_type": "stream",
     "text": [
      "[1] \"1\" \"2\" \"3\"\n",
      "[1] \"Alice\"   \"John\"    \"Melinda\"\n"
     ]
    }
   ],
   "source": [
    "# Assign a set of row names for the vector\n",
    "print(rownames(people))\n",
    "rownames(people) <- people$name\n",
    "print(rownames(people))"
   ]
  },
  {
   "cell_type": "code",
   "execution_count": 45,
   "metadata": {},
   "outputs": [
    {
     "data": {
      "text/html": [
       "'Alice'"
      ],
      "text/latex": [
       "'Alice'"
      ],
      "text/markdown": [
       "'Alice'"
      ],
      "text/plain": [
       "[1] \"Alice\""
      ]
     },
     "metadata": {},
     "output_type": "display_data"
    }
   ],
   "source": [
    "people[\"Alice\", \"name\"]"
   ]
  },
  {
   "cell_type": "code",
   "execution_count": 48,
   "metadata": {},
   "outputs": [
    {
     "data": {
      "text/html": [
       "<table>\n",
       "<caption>A data.frame: 3 × 2</caption>\n",
       "<thead>\n",
       "\t<tr><th></th><th scope=col>height</th><th scope=col>weight</th></tr>\n",
       "\t<tr><th></th><th scope=col>&lt;dbl&gt;</th><th scope=col>&lt;dbl&gt;</th></tr>\n",
       "</thead>\n",
       "<tbody>\n",
       "\t<tr><th scope=row>Alice</th><td>150</td><td>60</td></tr>\n",
       "\t<tr><th scope=row>John</th><td>170</td><td>70</td></tr>\n",
       "\t<tr><th scope=row>Melinda</th><td>165</td><td>65</td></tr>\n",
       "</tbody>\n",
       "</table>\n"
      ],
      "text/latex": [
       "A data.frame: 3 × 2\n",
       "\\begin{tabular}{r|ll}\n",
       "  & height & weight\\\\\n",
       "  & <dbl> & <dbl>\\\\\n",
       "\\hline\n",
       "\tAlice & 150 & 60\\\\\n",
       "\tJohn & 170 & 70\\\\\n",
       "\tMelinda & 165 & 65\\\\\n",
       "\\end{tabular}\n"
      ],
      "text/markdown": [
       "\n",
       "A data.frame: 3 × 2\n",
       "\n",
       "| <!--/--> | height &lt;dbl&gt; | weight &lt;dbl&gt; |\n",
       "|---|---|---|\n",
       "| Alice | 150 | 60 |\n",
       "| John | 170 | 70 |\n",
       "| Melinda | 165 | 65 |\n",
       "\n"
      ],
      "text/plain": [
       "        height weight\n",
       "Alice   150    60    \n",
       "John    170    70    \n",
       "Melinda 165    65    "
      ]
     },
     "metadata": {},
     "output_type": "display_data"
    }
   ],
   "source": [
    "# Get multiple rows and columns\n",
    "people[,c(\"height\", \"weight\")]"
   ]
  },
  {
   "cell_type": "code",
   "execution_count": 49,
   "metadata": {},
   "outputs": [
    {
     "data": {
      "text/html": [
       "<table>\n",
       "<caption>A data.frame: 2 × 3</caption>\n",
       "<thead>\n",
       "\t<tr><th></th><th scope=col>name</th><th scope=col>height</th><th scope=col>weight</th></tr>\n",
       "\t<tr><th></th><th scope=col>&lt;chr&gt;</th><th scope=col>&lt;dbl&gt;</th><th scope=col>&lt;dbl&gt;</th></tr>\n",
       "</thead>\n",
       "<tbody>\n",
       "\t<tr><th scope=row>John</th><td>John   </td><td>170</td><td>70</td></tr>\n",
       "\t<tr><th scope=row>Melinda</th><td>Melinda</td><td>165</td><td>65</td></tr>\n",
       "</tbody>\n",
       "</table>\n"
      ],
      "text/latex": [
       "A data.frame: 2 × 3\n",
       "\\begin{tabular}{r|lll}\n",
       "  & name & height & weight\\\\\n",
       "  & <chr> & <dbl> & <dbl>\\\\\n",
       "\\hline\n",
       "\tJohn & John    & 170 & 70\\\\\n",
       "\tMelinda & Melinda & 165 & 65\\\\\n",
       "\\end{tabular}\n"
      ],
      "text/markdown": [
       "\n",
       "A data.frame: 2 × 3\n",
       "\n",
       "| <!--/--> | name &lt;chr&gt; | height &lt;dbl&gt; | weight &lt;dbl&gt; |\n",
       "|---|---|---|---|\n",
       "| John | John    | 170 | 70 |\n",
       "| Melinda | Melinda | 165 | 65 |\n",
       "\n"
      ],
      "text/plain": [
       "        name    height weight\n",
       "John    John    170    70    \n",
       "Melinda Melinda 165    65    "
      ]
     },
     "metadata": {},
     "output_type": "display_data"
    }
   ],
   "source": [
    "people[2:3,]"
   ]
  },
  {
   "cell_type": "code",
   "execution_count": 51,
   "metadata": {},
   "outputs": [
    {
     "data": {
      "text/html": [
       "<table>\n",
       "<caption>A data.frame: 2 × 3</caption>\n",
       "<thead>\n",
       "\t<tr><th></th><th scope=col>name</th><th scope=col>height</th><th scope=col>weight</th></tr>\n",
       "\t<tr><th></th><th scope=col>&lt;chr&gt;</th><th scope=col>&lt;dbl&gt;</th><th scope=col>&lt;dbl&gt;</th></tr>\n",
       "</thead>\n",
       "<tbody>\n",
       "\t<tr><th scope=row>John</th><td>John   </td><td>170</td><td>70</td></tr>\n",
       "\t<tr><th scope=row>Melinda</th><td>Melinda</td><td>165</td><td>65</td></tr>\n",
       "</tbody>\n",
       "</table>\n"
      ],
      "text/latex": [
       "A data.frame: 2 × 3\n",
       "\\begin{tabular}{r|lll}\n",
       "  & name & height & weight\\\\\n",
       "  & <chr> & <dbl> & <dbl>\\\\\n",
       "\\hline\n",
       "\tJohn & John    & 170 & 70\\\\\n",
       "\tMelinda & Melinda & 165 & 65\\\\\n",
       "\\end{tabular}\n"
      ],
      "text/markdown": [
       "\n",
       "A data.frame: 2 × 3\n",
       "\n",
       "| <!--/--> | name &lt;chr&gt; | height &lt;dbl&gt; | weight &lt;dbl&gt; |\n",
       "|---|---|---|---|\n",
       "| John | John    | 170 | 70 |\n",
       "| Melinda | Melinda | 165 | 65 |\n",
       "\n"
      ],
      "text/plain": [
       "        name    height weight\n",
       "John    John    170    70    \n",
       "Melinda Melinda 165    65    "
      ]
     },
     "metadata": {},
     "output_type": "display_data"
    }
   ],
   "source": [
    "people[people$height > 160,]"
   ]
  },
  {
   "cell_type": "markdown",
   "metadata": {},
   "source": [
    "### Type & Convertion"
   ]
  },
  {
   "cell_type": "code",
   "execution_count": 52,
   "metadata": {},
   "outputs": [
    {
     "data": {
      "text/html": [
       "TRUE"
      ],
      "text/latex": [
       "TRUE"
      ],
      "text/markdown": [
       "TRUE"
      ],
      "text/plain": [
       "[1] TRUE"
      ]
     },
     "metadata": {},
     "output_type": "display_data"
    }
   ],
   "source": [
    "is.data.frame(people)"
   ]
  },
  {
   "cell_type": "code",
   "execution_count": 58,
   "metadata": {},
   "outputs": [
    {
     "data": {
      "text/html": [
       "FALSE"
      ],
      "text/latex": [
       "FALSE"
      ],
      "text/markdown": [
       "FALSE"
      ],
      "text/plain": [
       "[1] FALSE"
      ]
     },
     "metadata": {},
     "output_type": "display_data"
    },
    {
     "name": "stdout",
     "output_type": "stream",
     "text": [
      "  v1\n",
      "1  1\n",
      "2  2\n",
      "3  3\n"
     ]
    }
   ],
   "source": [
    "v1 = c(1,2,3)\n",
    "is.data.frame(v1)\n",
    "print(as.data.frame(v1))"
   ]
  },
  {
   "cell_type": "markdown",
   "metadata": {},
   "source": [
    "---\n",
    "<a id='csv'></a>"
   ]
  },
  {
   "cell_type": "markdown",
   "metadata": {},
   "source": [
    "## Working with CSV Data\n",
    "\n",
    "- For a script to work on any computer, **relative (not absolute) path** is the best choice.\n",
    "- Setup a working directory via `Session > Set Working Directory` (in RStudio).\n",
    "- You should always include `stringsAsFactors = FALSE` argument when either loading or creating data frames. Factors are categorical variables (like: small, medium, large)"
   ]
  },
  {
   "cell_type": "code",
   "execution_count": 62,
   "metadata": {},
   "outputs": [
    {
     "data": {
      "text/html": [
       "<table>\n",
       "<caption>A data.frame: 5 × 3</caption>\n",
       "<thead>\n",
       "\t<tr><th scope=col>first_name</th><th scope=col>weight</th><th scope=col>height</th></tr>\n",
       "\t<tr><th scope=col>&lt;chr&gt;</th><th scope=col>&lt;int&gt;</th><th scope=col>&lt;dbl&gt;</th></tr>\n",
       "</thead>\n",
       "<tbody>\n",
       "\t<tr><td>Ada  </td><td>64</td><td>135</td></tr>\n",
       "\t<tr><td>Bob  </td><td>74</td><td>156</td></tr>\n",
       "\t<tr><td>Chris</td><td>69</td><td>139</td></tr>\n",
       "\t<tr><td>Diya </td><td>69</td><td>144</td></tr>\n",
       "\t<tr><td>Emma </td><td>71</td><td>152</td></tr>\n",
       "</tbody>\n",
       "</table>\n"
      ],
      "text/latex": [
       "A data.frame: 5 × 3\n",
       "\\begin{tabular}{r|lll}\n",
       " first\\_name & weight & height\\\\\n",
       " <chr> & <int> & <dbl>\\\\\n",
       "\\hline\n",
       "\t Ada   & 64 & 135\\\\\n",
       "\t Bob   & 74 & 156\\\\\n",
       "\t Chris & 69 & 139\\\\\n",
       "\t Diya  & 69 & 144\\\\\n",
       "\t Emma  & 71 & 152\\\\\n",
       "\\end{tabular}\n"
      ],
      "text/markdown": [
       "\n",
       "A data.frame: 5 × 3\n",
       "\n",
       "| first_name &lt;chr&gt; | weight &lt;int&gt; | height &lt;dbl&gt; |\n",
       "|---|---|---|\n",
       "| Ada   | 64 | 135 |\n",
       "| Bob   | 74 | 156 |\n",
       "| Chris | 69 | 139 |\n",
       "| Diya  | 69 | 144 |\n",
       "| Emma  | 71 | 152 |\n",
       "\n"
      ],
      "text/plain": [
       "  first_name weight height\n",
       "1 Ada        64     135   \n",
       "2 Bob        74     156   \n",
       "3 Chris      69     139   \n",
       "4 Diya       69     144   \n",
       "5 Emma       71     152   "
      ]
     },
     "metadata": {},
     "output_type": "display_data"
    }
   ],
   "source": [
    "# Read from a CSV file\n",
    "people <- read.csv(\"data/simpleR.csv\", stringsAsFactors = FALSE)\n",
    "head(people)"
   ]
  },
  {
   "cell_type": "code",
   "execution_count": 63,
   "metadata": {},
   "outputs": [],
   "source": [
    "# Write to a CSV file\n",
    "write.csv(people, \"data/simpleRwrite.csv\", row.names = FALSE)"
   ]
  },
  {
   "cell_type": "code",
   "execution_count": 64,
   "metadata": {},
   "outputs": [
    {
     "data": {
      "text/html": [
       "<h3>Data sets</h3>\n",
       "<table>\n",
       "<caption>A data.frame: 181 × 3</caption>\n",
       "<thead>\n",
       "\t<tr><th scope=col>Package</th><th scope=col>Item</th><th scope=col>Title</th></tr>\n",
       "\t<tr><th scope=col>&lt;chr&gt;</th><th scope=col>&lt;chr&gt;</th><th scope=col>&lt;chr&gt;</th></tr>\n",
       "</thead>\n",
       "<tbody>\n",
       "\t<tr><td>datasets</td><td>AirPassengers                      </td><td>Monthly Airline Passenger Numbers 1949-1960                    </td></tr>\n",
       "\t<tr><td>datasets</td><td>BJsales                            </td><td>Sales Data with Leading Indicator                              </td></tr>\n",
       "\t<tr><td>datasets</td><td>BJsales.lead (BJsales)             </td><td>Sales Data with Leading Indicator                              </td></tr>\n",
       "\t<tr><td>datasets</td><td>BOD                                </td><td>Biochemical Oxygen Demand                                      </td></tr>\n",
       "\t<tr><td>datasets</td><td>CO2                                </td><td>Carbon Dioxide Uptake in Grass Plants                          </td></tr>\n",
       "\t<tr><td>datasets</td><td>ChickWeight                        </td><td>Weight versus age of chicks on different diets                 </td></tr>\n",
       "\t<tr><td>datasets</td><td>DNase                              </td><td>Elisa assay of DNase                                           </td></tr>\n",
       "\t<tr><td>datasets</td><td>EuStockMarkets                     </td><td>Daily Closing Prices of Major European Stock Indices, 1991-1998</td></tr>\n",
       "\t<tr><td>datasets</td><td>Formaldehyde                       </td><td>Determination of Formaldehyde                                  </td></tr>\n",
       "\t<tr><td>datasets</td><td>HairEyeColor                       </td><td>Hair and Eye Color of Statistics Students                      </td></tr>\n",
       "\t<tr><td>datasets</td><td>Harman23.cor                       </td><td>Harman Example 2.3                                             </td></tr>\n",
       "\t<tr><td>datasets</td><td>Harman74.cor                       </td><td>Harman Example 7.4                                             </td></tr>\n",
       "\t<tr><td>datasets</td><td>Indometh                           </td><td>Pharmacokinetics of Indomethacin                               </td></tr>\n",
       "\t<tr><td>datasets</td><td>InsectSprays                       </td><td>Effectiveness of Insect Sprays                                 </td></tr>\n",
       "\t<tr><td>datasets</td><td><span style=white-space:pre-wrap>JohnsonJohnson                     </span></td><td><span style=white-space:pre-wrap>Quarterly Earnings per Johnson &amp; Johnson Share                 </span></td></tr>\n",
       "\t<tr><td>datasets</td><td>LakeHuron                          </td><td>Level of Lake Huron 1875-1972                                  </td></tr>\n",
       "\t<tr><td>datasets</td><td>LifeCycleSavings                   </td><td>Intercountry Life-Cycle Savings Data                           </td></tr>\n",
       "\t<tr><td>datasets</td><td>Loblolly                           </td><td>Growth of Loblolly pine trees                                  </td></tr>\n",
       "\t<tr><td>datasets</td><td>Nile                               </td><td>Flow of the River Nile                                         </td></tr>\n",
       "\t<tr><td>datasets</td><td>Orange                             </td><td>Growth of Orange Trees                                         </td></tr>\n",
       "\t<tr><td>datasets</td><td>OrchardSprays                      </td><td>Potency of Orchard Sprays                                      </td></tr>\n",
       "\t<tr><td>datasets</td><td>PlantGrowth                        </td><td>Results from an Experiment on Plant Growth                     </td></tr>\n",
       "\t<tr><td>datasets</td><td>Puromycin                          </td><td>Reaction Velocity of an Enzymatic Reaction                     </td></tr>\n",
       "\t<tr><td>datasets</td><td>Seatbelts                          </td><td>Road Casualties in Great Britain 1969-84                       </td></tr>\n",
       "\t<tr><td>datasets</td><td>Theoph                             </td><td>Pharmacokinetics of Theophylline                               </td></tr>\n",
       "\t<tr><td>datasets</td><td>Titanic                            </td><td>Survival of passengers on the Titanic                          </td></tr>\n",
       "\t<tr><td>datasets</td><td>ToothGrowth                        </td><td>The Effect of Vitamin C on Tooth Growth in Guinea Pigs         </td></tr>\n",
       "\t<tr><td>datasets</td><td>UCBAdmissions                      </td><td>Student Admissions at UC Berkeley                              </td></tr>\n",
       "\t<tr><td>datasets</td><td>UKDriverDeaths                     </td><td>Road Casualties in Great Britain 1969-84                       </td></tr>\n",
       "\t<tr><td>datasets</td><td>UKgas                              </td><td>UK Quarterly Gas Consumption                                   </td></tr>\n",
       "\t<tr><td>datasets</td><td>USAccDeaths                        </td><td>Accidental Deaths in the US 1973-1978                          </td></tr>\n",
       "\t<tr><td>datasets</td><td>USArrests                          </td><td>Violent Crime Rates by US State                                </td></tr>\n",
       "\t<tr><td>datasets</td><td>USJudgeRatings                     </td><td>Lawyers' Ratings of State Judges in the US Superior Court      </td></tr>\n",
       "\t<tr><td>datasets</td><td>USPersonalExpenditure              </td><td>Personal Expenditure Data                                      </td></tr>\n",
       "\t<tr><td>datasets</td><td>UScitiesD                          </td><td>Distances Between European Cities and Between US Cities        </td></tr>\n",
       "\t<tr><td>datasets</td><td>VADeaths                           </td><td>Death Rates in Virginia (1940)                                 </td></tr>\n",
       "\t<tr><td>datasets</td><td>WWWusage                           </td><td>Internet Usage per Minute                                      </td></tr>\n",
       "\t<tr><td>datasets</td><td>WorldPhones                        </td><td>The World's Telephones                                         </td></tr>\n",
       "\t<tr><td>datasets</td><td>ability.cov                        </td><td>Ability and Intelligence Tests                                 </td></tr>\n",
       "\t<tr><td>datasets</td><td>airmiles                           </td><td>Passenger Miles on Commercial US Airlines, 1937-1960           </td></tr>\n",
       "\t<tr><td>datasets</td><td>airquality                         </td><td>New York Air Quality Measurements                              </td></tr>\n",
       "\t<tr><td>datasets</td><td>anscombe                           </td><td>Anscombe's Quartet of 'Identical' Simple Linear Regressions    </td></tr>\n",
       "\t<tr><td>datasets</td><td>attenu                             </td><td>The Joyner-Boore Attenuation Data                              </td></tr>\n",
       "\t<tr><td>datasets</td><td>attitude                           </td><td>The Chatterjee-Price Attitude Data                             </td></tr>\n",
       "\t<tr><td>datasets</td><td>austres                            </td><td>Quarterly Time Series of the Number of Australian Residents    </td></tr>\n",
       "\t<tr><td>datasets</td><td>beaver1 (beavers)                  </td><td>Body Temperature Series of Two Beavers                         </td></tr>\n",
       "\t<tr><td>datasets</td><td>beaver2 (beavers)                  </td><td>Body Temperature Series of Two Beavers                         </td></tr>\n",
       "\t<tr><td>datasets</td><td>cars                               </td><td>Speed and Stopping Distances of Cars                           </td></tr>\n",
       "\t<tr><td>datasets</td><td>chickwts                           </td><td>Chicken Weights by Feed Type                                   </td></tr>\n",
       "\t<tr><td>datasets</td><td>co2                                </td><td>Mauna Loa Atmospheric CO2 Concentration                        </td></tr>\n",
       "\t<tr><td>datasets</td><td>crimtab                            </td><td>Student's 3000 Criminals Data                                  </td></tr>\n",
       "\t<tr><td>datasets</td><td>discoveries                        </td><td>Yearly Numbers of Important Discoveries                        </td></tr>\n",
       "\t<tr><td>datasets</td><td>esoph                              </td><td>Smoking, Alcohol and (O)esophageal Cancer                      </td></tr>\n",
       "\t<tr><td>datasets</td><td>euro                               </td><td>Conversion Rates of Euro Currencies                            </td></tr>\n",
       "\t<tr><td>datasets</td><td>euro.cross (euro)                  </td><td>Conversion Rates of Euro Currencies                            </td></tr>\n",
       "\t<tr><td>datasets</td><td>eurodist                           </td><td>Distances Between European Cities and Between US Cities        </td></tr>\n",
       "\t<tr><td>datasets</td><td>faithful                           </td><td>Old Faithful Geyser Data                                       </td></tr>\n",
       "\t<tr><td>datasets</td><td>fdeaths (UKLungDeaths)             </td><td>Monthly Deaths from Lung Diseases in the UK                    </td></tr>\n",
       "\t<tr><td>datasets</td><td>freeny                             </td><td>Freeny's Revenue Data                                          </td></tr>\n",
       "\t<tr><td>datasets</td><td>freeny.x (freeny)                  </td><td>Freeny's Revenue Data                                          </td></tr>\n",
       "\t<tr><td>datasets</td><td>freeny.y (freeny)                  </td><td>Freeny's Revenue Data                                          </td></tr>\n",
       "\t<tr><td>datasets</td><td>infert                             </td><td>Infertility after Spontaneous and Induced Abortion             </td></tr>\n",
       "\t<tr><td>datasets</td><td>iris                               </td><td>Edgar Anderson's Iris Data                                     </td></tr>\n",
       "\t<tr><td>datasets</td><td>iris3                              </td><td>Edgar Anderson's Iris Data                                     </td></tr>\n",
       "\t<tr><td>datasets</td><td>islands                            </td><td>Areas of the World's Major Landmasses                          </td></tr>\n",
       "\t<tr><td>datasets</td><td>ldeaths (UKLungDeaths)             </td><td>Monthly Deaths from Lung Diseases in the UK                    </td></tr>\n",
       "\t<tr><td>datasets</td><td>lh                                 </td><td>Luteinizing Hormone in Blood Samples                           </td></tr>\n",
       "\t<tr><td>datasets</td><td>longley                            </td><td>Longley's Economic Regression Data                             </td></tr>\n",
       "\t<tr><td>datasets</td><td>lynx                               </td><td>Annual Canadian Lynx trappings 1821-1934                       </td></tr>\n",
       "\t<tr><td>datasets</td><td>mdeaths (UKLungDeaths)             </td><td>Monthly Deaths from Lung Diseases in the UK                    </td></tr>\n",
       "\t<tr><td>datasets</td><td>morley                             </td><td>Michelson Speed of Light Data                                  </td></tr>\n",
       "\t<tr><td>datasets</td><td>mtcars                             </td><td>Motor Trend Car Road Tests                                     </td></tr>\n",
       "\t<tr><td>datasets</td><td>nhtemp                             </td><td>Average Yearly Temperatures in New Haven                       </td></tr>\n",
       "\t<tr><td>datasets</td><td>nottem                             </td><td>Average Monthly Temperatures at Nottingham, 1920-1939          </td></tr>\n",
       "\t<tr><td>datasets</td><td>npk                                </td><td>Classical N, P, K Factorial Experiment                         </td></tr>\n",
       "\t<tr><td>datasets</td><td>occupationalStatus                 </td><td>Occupational Status of Fathers and their Sons                  </td></tr>\n",
       "\t<tr><td>datasets</td><td>precip                             </td><td>Annual Precipitation in US Cities                              </td></tr>\n",
       "\t<tr><td>datasets</td><td>presidents                         </td><td>Quarterly Approval Ratings of US Presidents                    </td></tr>\n",
       "\t<tr><td>datasets</td><td>pressure                           </td><td>Vapor Pressure of Mercury as a Function of Temperature         </td></tr>\n",
       "\t<tr><td>datasets</td><td>quakes                             </td><td>Locations of Earthquakes off Fiji                              </td></tr>\n",
       "\t<tr><td>datasets</td><td>randu                              </td><td>Random Numbers from Congruential Generator RANDU               </td></tr>\n",
       "\t<tr><td>datasets</td><td>rivers                             </td><td>Lengths of Major North American Rivers                         </td></tr>\n",
       "\t<tr><td>datasets</td><td>rock                               </td><td>Measurements on Petroleum Rock Samples                         </td></tr>\n",
       "\t<tr><td>datasets</td><td>sleep                              </td><td>Student's Sleep Data                                           </td></tr>\n",
       "\t<tr><td>datasets</td><td>stack.loss (stackloss)             </td><td>Brownlee's Stack Loss Plant Data                               </td></tr>\n",
       "\t<tr><td>datasets</td><td>stack.x (stackloss)                </td><td>Brownlee's Stack Loss Plant Data                               </td></tr>\n",
       "\t<tr><td>datasets</td><td>stackloss                          </td><td>Brownlee's Stack Loss Plant Data                               </td></tr>\n",
       "\t<tr><td>datasets</td><td>state.abb (state)                  </td><td>US State Facts and Figures                                     </td></tr>\n",
       "\t<tr><td>datasets</td><td>state.area (state)                 </td><td>US State Facts and Figures                                     </td></tr>\n",
       "\t<tr><td>datasets</td><td>state.center (state)               </td><td>US State Facts and Figures                                     </td></tr>\n",
       "\t<tr><td>datasets</td><td>state.division (state)             </td><td>US State Facts and Figures                                     </td></tr>\n",
       "\t<tr><td>datasets</td><td>state.name (state)                 </td><td>US State Facts and Figures                                     </td></tr>\n",
       "\t<tr><td>datasets</td><td>state.region (state)               </td><td>US State Facts and Figures                                     </td></tr>\n",
       "\t<tr><td>datasets</td><td>state.x77 (state)                  </td><td>US State Facts and Figures                                     </td></tr>\n",
       "\t<tr><td>datasets</td><td>sunspot.month                      </td><td>Monthly Sunspot Data, from 1749 to \"Present\"                   </td></tr>\n",
       "\t<tr><td>datasets</td><td>sunspot.year                       </td><td>Yearly Sunspot Data, 1700-1988                                 </td></tr>\n",
       "\t<tr><td>datasets</td><td>sunspots                           </td><td>Monthly Sunspot Numbers, 1749-1983                             </td></tr>\n",
       "\t<tr><td>datasets</td><td>swiss                              </td><td>Swiss Fertility and Socioeconomic Indicators (1888) Data       </td></tr>\n",
       "\t<tr><td>datasets</td><td>treering                           </td><td>Yearly Treering Data, -6000-1979                               </td></tr>\n",
       "\t<tr><td>datasets</td><td>trees                              </td><td>Diameter, Height and Volume for Black Cherry Trees             </td></tr>\n",
       "\t<tr><td>datasets</td><td>uspop                              </td><td>Populations Recorded by the US Census                          </td></tr>\n",
       "\t<tr><td>datasets</td><td>volcano                            </td><td>Topographic Information on Auckland's Maunga Whau Volcano      </td></tr>\n",
       "\t<tr><td>datasets</td><td>warpbreaks                         </td><td>The Number of Breaks in Yarn during Weaving                    </td></tr>\n",
       "\t<tr><td>datasets</td><td>women                              </td><td>Average Heights and Weights for American Women                 </td></tr>\n",
       "\t<tr><td>.       </td><td>NOAA_QCLCD_2011_hourly_13904       </td><td>                                                               </td></tr>\n",
       "\t<tr><td>.       </td><td>airquality                         </td><td>                                                               </td></tr>\n",
       "\t<tr><td>.       </td><td>airquality_dup                     </td><td>                                                               </td></tr>\n",
       "\t<tr><td>.       </td><td>billboard                          </td><td>                                                               </td></tr>\n",
       "\t<tr><td>.       </td><td>cars                               </td><td>                                                               </td></tr>\n",
       "\t<tr><td>.       </td><td>digits                             </td><td>                                                               </td></tr>\n",
       "\t<tr><td>.       </td><td>digits_header                      </td><td>                                                               </td></tr>\n",
       "\t<tr><td>.       </td><td>dob_job_application_filings        </td><td>                                                               </td></tr>\n",
       "\t<tr><td>.       </td><td>dob_job_application_filings2       </td><td>                                                               </td></tr>\n",
       "\t<tr><td>.       </td><td>dob_job_application_filings_subset </td><td>                                                               </td></tr>\n",
       "\t<tr><td>.       </td><td>dob_job_application_filings_subset2</td><td>                                                               </td></tr>\n",
       "\t<tr><td>.       </td><td>ebola                              </td><td>                                                               </td></tr>\n",
       "\t<tr><td>.       </td><td>ebola2                             </td><td>                                                               </td></tr>\n",
       "\t<tr><td>.       </td><td>ebola_melt                         </td><td>                                                               </td></tr>\n",
       "\t<tr><td>.       </td><td>election                           </td><td>                                                               </td></tr>\n",
       "\t<tr><td>.       </td><td>election2                          </td><td>                                                               </td></tr>\n",
       "\t<tr><td>.       </td><td>etl_population_data                </td><td>                                                               </td></tr>\n",
       "\t<tr><td>.       </td><td>etl_projects_data                  </td><td>                                                               </td></tr>\n",
       "\t<tr><td>.       </td><td>g1800s                             </td><td>                                                               </td></tr>\n",
       "\t<tr><td>.       </td><td>g1900s                             </td><td>                                                               </td></tr>\n",
       "\t<tr><td>.       </td><td>g2000s                             </td><td>                                                               </td></tr>\n",
       "\t<tr><td>.       </td><td>gapminder                          </td><td>                                                               </td></tr>\n",
       "\t<tr><td>.       </td><td>gapminder2                         </td><td>                                                               </td></tr>\n",
       "\t<tr><td>.       </td><td>gapminder_2010                     </td><td>                                                               </td></tr>\n",
       "\t<tr><td>.       </td><td>gapminder_agg_final                </td><td>                                                               </td></tr>\n",
       "\t<tr><td>.       </td><td>gapminder_final                    </td><td>                                                               </td></tr>\n",
       "\t<tr><td>.       </td><td>ind_pop                            </td><td>                                                               </td></tr>\n",
       "\t<tr><td>.       </td><td>ind_pop_data                       </td><td>                                                               </td></tr>\n",
       "\t<tr><td>.       </td><td>mnist_kaggle_some_rows             </td><td>                                                               </td></tr>\n",
       "\t<tr><td>.       </td><td>moby_dick                          </td><td>                                                               </td></tr>\n",
       "\t<tr><td>.       </td><td>numerical_data                     </td><td>                                                               </td></tr>\n",
       "\t<tr><td>.       </td><td>nyc_uber_2014                      </td><td>                                                               </td></tr>\n",
       "\t<tr><td>.       </td><td>olympics                           </td><td>                                                               </td></tr>\n",
       "\t<tr><td>.       </td><td>sales2                             </td><td>                                                               </td></tr>\n",
       "\t<tr><td>.       </td><td>sales3                             </td><td>                                                               </td></tr>\n",
       "\t<tr><td>.       </td><td>sales4                             </td><td>                                                               </td></tr>\n",
       "\t<tr><td>.       </td><td>sales5                             </td><td>                                                               </td></tr>\n",
       "\t<tr><td>.       </td><td>seaslug                            </td><td>                                                               </td></tr>\n",
       "\t<tr><td>.       </td><td>simpleR                            </td><td>                                                               </td></tr>\n",
       "\t<tr><td>.       </td><td>simpleRwrite                       </td><td>                                                               </td></tr>\n",
       "\t<tr><td>.       </td><td>site                               </td><td>                                                               </td></tr>\n",
       "\t<tr><td>.       </td><td>status_country                     </td><td>                                                               </td></tr>\n",
       "\t<tr><td>.       </td><td>survey                             </td><td>                                                               </td></tr>\n",
       "\t<tr><td>.       </td><td>tb                                 </td><td>                                                               </td></tr>\n",
       "\t<tr><td>.       </td><td>timeseries1                        </td><td>                                                               </td></tr>\n",
       "\t<tr><td>.       </td><td>timeseries2                        </td><td>                                                               </td></tr>\n",
       "\t<tr><td>.       </td><td>timeseries3                        </td><td>                                                               </td></tr>\n",
       "\t<tr><td>.       </td><td>timeseries4                        </td><td>                                                               </td></tr>\n",
       "\t<tr><td>.       </td><td>timeseries5                        </td><td>                                                               </td></tr>\n",
       "\t<tr><td>.       </td><td>timeseries6                        </td><td>                                                               </td></tr>\n",
       "\t<tr><td>.       </td><td>timeseries7                        </td><td>                                                               </td></tr>\n",
       "\t<tr><td>.       </td><td>timeseries8                        </td><td>                                                               </td></tr>\n",
       "\t<tr><td>.       </td><td>tips                               </td><td>                                                               </td></tr>\n",
       "\t<tr><td>.       </td><td>tips2                              </td><td>                                                               </td></tr>\n",
       "\t<tr><td>.       </td><td>tips3                              </td><td>                                                               </td></tr>\n",
       "\t<tr><td>.       </td><td>tips4                              </td><td>                                                               </td></tr>\n",
       "\t<tr><td>.       </td><td>tips5                              </td><td>                                                               </td></tr>\n",
       "\t<tr><td>.       </td><td>titanic                            </td><td>                                                               </td></tr>\n",
       "\t<tr><td>.       </td><td>titanic2                           </td><td>                                                               </td></tr>\n",
       "\t<tr><td>.       </td><td>titanic_corrupt                    </td><td>                                                               </td></tr>\n",
       "\t<tr><td>.       </td><td>titanic_gender_submission          </td><td>                                                               </td></tr>\n",
       "\t<tr><td>.       </td><td>titanic_test                       </td><td>                                                               </td></tr>\n",
       "\t<tr><td>.       </td><td>titanic_train                      </td><td>                                                               </td></tr>\n",
       "\t<tr><td>.       </td><td>tweets                             </td><td>                                                               </td></tr>\n",
       "\t<tr><td>.       </td><td>tweets3                            </td><td>                                                               </td></tr>\n",
       "\t<tr><td>.       </td><td>tweets_api                         </td><td>                                                               </td></tr>\n",
       "\t<tr><td>.       </td><td>uber1                              </td><td>                                                               </td></tr>\n",
       "\t<tr><td>.       </td><td>uber2                              </td><td>                                                               </td></tr>\n",
       "\t<tr><td>.       </td><td>uber3                              </td><td>                                                               </td></tr>\n",
       "\t<tr><td>.       </td><td>users                              </td><td>                                                               </td></tr>\n",
       "\t<tr><td>.       </td><td>visited                            </td><td>                                                               </td></tr>\n",
       "\t<tr><td>.       </td><td>visited2                           </td><td>                                                               </td></tr>\n",
       "\t<tr><td>.       </td><td>weather2                           </td><td>                                                               </td></tr>\n",
       "\t<tr><td>.       </td><td>weather_case_study                 </td><td>                                                               </td></tr>\n",
       "\t<tr><td>.       </td><td>weather_case_study2                </td><td>                                                               </td></tr>\n",
       "\t<tr><td>.       </td><td>winequality-red                    </td><td>                                                               </td></tr>\n",
       "\t<tr><td>.       </td><td>world_dev_ind                      </td><td>                                                               </td></tr>\n",
       "</tbody>\n",
       "</table>\n",
       "\n",
       "<p>Use ‘data(package = .packages(all.available = TRUE))’\n",
       "to list the data sets in all *available* packages.</p>"
      ],
      "text/plain": [
       "Data sets in package ‘.’:\n",
       "\n",
       "NOAA_QCLCD_2011_hourly_13904\n",
       "                        \n",
       "airquality              \n",
       "airquality_dup          \n",
       "billboard               \n",
       "cars                    \n",
       "digits                  \n",
       "digits_header           \n",
       "dob_job_application_filings\n",
       "                        \n",
       "dob_job_application_filings2\n",
       "                        \n",
       "dob_job_application_filings_subset\n",
       "                        \n",
       "dob_job_application_filings_subset2\n",
       "                        \n",
       "ebola                   \n",
       "ebola2                  \n",
       "ebola_melt              \n",
       "election                \n",
       "election2               \n",
       "etl_population_data     \n",
       "etl_projects_data       \n",
       "g1800s                  \n",
       "g1900s                  \n",
       "g2000s                  \n",
       "gapminder               \n",
       "gapminder2              \n",
       "gapminder_2010          \n",
       "gapminder_agg_final     \n",
       "gapminder_final         \n",
       "ind_pop                 \n",
       "ind_pop_data            \n",
       "mnist_kaggle_some_rows\n",
       "                        \n",
       "moby_dick               \n",
       "numerical_data          \n",
       "nyc_uber_2014           \n",
       "olympics                \n",
       "sales2                  \n",
       "sales3                  \n",
       "sales4                  \n",
       "sales5                  \n",
       "seaslug                 \n",
       "simpleR                 \n",
       "simpleRwrite            \n",
       "site                    \n",
       "status_country          \n",
       "survey                  \n",
       "tb                      \n",
       "timeseries1             \n",
       "timeseries2             \n",
       "timeseries3             \n",
       "timeseries4             \n",
       "timeseries5             \n",
       "timeseries6             \n",
       "timeseries7             \n",
       "timeseries8             \n",
       "tips                    \n",
       "tips2                   \n",
       "tips3                   \n",
       "tips4                   \n",
       "tips5                   \n",
       "titanic                 \n",
       "titanic2                \n",
       "titanic_corrupt         \n",
       "titanic_gender_submission\n",
       "                        \n",
       "titanic_test            \n",
       "titanic_train           \n",
       "tweets                  \n",
       "tweets3                 \n",
       "tweets_api              \n",
       "uber1                   \n",
       "uber2                   \n",
       "uber3                   \n",
       "users                   \n",
       "visited                 \n",
       "visited2                \n",
       "weather2                \n",
       "weather_case_study      \n",
       "weather_case_study2     \n",
       "winequality-red         \n",
       "world_dev_ind           \n",
       "Data sets in package ‘datasets’:\n",
       "\n",
       "AirPassengers           Monthly Airline Passenger Numbers 1949-1960\n",
       "BJsales                 Sales Data with Leading Indicator\n",
       "BJsales.lead (BJsales)\n",
       "                        Sales Data with Leading Indicator\n",
       "BOD                     Biochemical Oxygen Demand\n",
       "CO2                     Carbon Dioxide Uptake in Grass Plants\n",
       "ChickWeight             Weight versus age of chicks on different diets\n",
       "DNase                   Elisa assay of DNase\n",
       "EuStockMarkets          Daily Closing Prices of Major European Stock\n",
       "                        Indices, 1991-1998\n",
       "Formaldehyde            Determination of Formaldehyde\n",
       "HairEyeColor            Hair and Eye Color of Statistics Students\n",
       "Harman23.cor            Harman Example 2.3\n",
       "Harman74.cor            Harman Example 7.4\n",
       "Indometh                Pharmacokinetics of Indomethacin\n",
       "InsectSprays            Effectiveness of Insect Sprays\n",
       "JohnsonJohnson          Quarterly Earnings per Johnson & Johnson Share\n",
       "LakeHuron               Level of Lake Huron 1875-1972\n",
       "LifeCycleSavings        Intercountry Life-Cycle Savings Data\n",
       "Loblolly                Growth of Loblolly pine trees\n",
       "Nile                    Flow of the River Nile\n",
       "Orange                  Growth of Orange Trees\n",
       "OrchardSprays           Potency of Orchard Sprays\n",
       "PlantGrowth             Results from an Experiment on Plant Growth\n",
       "Puromycin               Reaction Velocity of an Enzymatic Reaction\n",
       "Seatbelts               Road Casualties in Great Britain 1969-84\n",
       "Theoph                  Pharmacokinetics of Theophylline\n",
       "Titanic                 Survival of passengers on the Titanic\n",
       "ToothGrowth             The Effect of Vitamin C on Tooth Growth in\n",
       "                        Guinea Pigs\n",
       "UCBAdmissions           Student Admissions at UC Berkeley\n",
       "UKDriverDeaths          Road Casualties in Great Britain 1969-84\n",
       "UKgas                   UK Quarterly Gas Consumption\n",
       "USAccDeaths             Accidental Deaths in the US 1973-1978\n",
       "USArrests               Violent Crime Rates by US State\n",
       "USJudgeRatings          Lawyers' Ratings of State Judges in the US\n",
       "                        Superior Court\n",
       "USPersonalExpenditure   Personal Expenditure Data\n",
       "UScitiesD               Distances Between European Cities and Between\n",
       "                        US Cities\n",
       "VADeaths                Death Rates in Virginia (1940)\n",
       "WWWusage                Internet Usage per Minute\n",
       "WorldPhones             The World's Telephones\n",
       "ability.cov             Ability and Intelligence Tests\n",
       "airmiles                Passenger Miles on Commercial US Airlines,\n",
       "                        1937-1960\n",
       "airquality              New York Air Quality Measurements\n",
       "anscombe                Anscombe's Quartet of 'Identical' Simple Linear\n",
       "                        Regressions\n",
       "attenu                  The Joyner-Boore Attenuation Data\n",
       "attitude                The Chatterjee-Price Attitude Data\n",
       "austres                 Quarterly Time Series of the Number of\n",
       "                        Australian Residents\n",
       "beaver1 (beavers)       Body Temperature Series of Two Beavers\n",
       "beaver2 (beavers)       Body Temperature Series of Two Beavers\n",
       "cars                    Speed and Stopping Distances of Cars\n",
       "chickwts                Chicken Weights by Feed Type\n",
       "co2                     Mauna Loa Atmospheric CO2 Concentration\n",
       "crimtab                 Student's 3000 Criminals Data\n",
       "discoveries             Yearly Numbers of Important Discoveries\n",
       "esoph                   Smoking, Alcohol and (O)esophageal Cancer\n",
       "euro                    Conversion Rates of Euro Currencies\n",
       "euro.cross (euro)       Conversion Rates of Euro Currencies\n",
       "eurodist                Distances Between European Cities and Between\n",
       "                        US Cities\n",
       "faithful                Old Faithful Geyser Data\n",
       "fdeaths (UKLungDeaths)\n",
       "                        Monthly Deaths from Lung Diseases in the UK\n",
       "freeny                  Freeny's Revenue Data\n",
       "freeny.x (freeny)       Freeny's Revenue Data\n",
       "freeny.y (freeny)       Freeny's Revenue Data\n",
       "infert                  Infertility after Spontaneous and Induced\n",
       "                        Abortion\n",
       "iris                    Edgar Anderson's Iris Data\n",
       "iris3                   Edgar Anderson's Iris Data\n",
       "islands                 Areas of the World's Major Landmasses\n",
       "ldeaths (UKLungDeaths)\n",
       "                        Monthly Deaths from Lung Diseases in the UK\n",
       "lh                      Luteinizing Hormone in Blood Samples\n",
       "longley                 Longley's Economic Regression Data\n",
       "lynx                    Annual Canadian Lynx trappings 1821-1934\n",
       "mdeaths (UKLungDeaths)\n",
       "                        Monthly Deaths from Lung Diseases in the UK\n",
       "morley                  Michelson Speed of Light Data\n",
       "mtcars                  Motor Trend Car Road Tests\n",
       "nhtemp                  Average Yearly Temperatures in New Haven\n",
       "nottem                  Average Monthly Temperatures at Nottingham,\n",
       "                        1920-1939\n",
       "npk                     Classical N, P, K Factorial Experiment\n",
       "occupationalStatus      Occupational Status of Fathers and their Sons\n",
       "precip                  Annual Precipitation in US Cities\n",
       "presidents              Quarterly Approval Ratings of US Presidents\n",
       "pressure                Vapor Pressure of Mercury as a Function of\n",
       "                        Temperature\n",
       "quakes                  Locations of Earthquakes off Fiji\n",
       "randu                   Random Numbers from Congruential Generator\n",
       "                        RANDU\n",
       "rivers                  Lengths of Major North American Rivers\n",
       "rock                    Measurements on Petroleum Rock Samples\n",
       "sleep                   Student's Sleep Data\n",
       "stack.loss (stackloss)\n",
       "                        Brownlee's Stack Loss Plant Data\n",
       "stack.x (stackloss)     Brownlee's Stack Loss Plant Data\n",
       "stackloss               Brownlee's Stack Loss Plant Data\n",
       "state.abb (state)       US State Facts and Figures\n",
       "state.area (state)      US State Facts and Figures\n",
       "state.center (state)    US State Facts and Figures\n",
       "state.division (state)\n",
       "                        US State Facts and Figures\n",
       "state.name (state)      US State Facts and Figures\n",
       "state.region (state)    US State Facts and Figures\n",
       "state.x77 (state)       US State Facts and Figures\n",
       "sunspot.month           Monthly Sunspot Data, from 1749 to \"Present\"\n",
       "sunspot.year            Yearly Sunspot Data, 1700-1988\n",
       "sunspots                Monthly Sunspot Numbers, 1749-1983\n",
       "swiss                   Swiss Fertility and Socioeconomic Indicators\n",
       "                        (1888) Data\n",
       "treering                Yearly Treering Data, -6000-1979\n",
       "trees                   Diameter, Height and Volume for Black Cherry\n",
       "                        Trees\n",
       "uspop                   Populations Recorded by the US Census\n",
       "volcano                 Topographic Information on Auckland's Maunga\n",
       "                        Whau Volcano\n",
       "warpbreaks              The Number of Breaks in Yarn during Weaving\n",
       "women                   Average Heights and Weights for American Women\n",
       "\n",
       "Use ‘data(package = .packages(all.available = TRUE))’\n",
       "to list the data sets in all *available* packages."
      ]
     },
     "metadata": {},
     "output_type": "display_data"
    }
   ],
   "source": [
    "# See available in R datasets\n",
    "data()"
   ]
  },
  {
   "cell_type": "code",
   "execution_count": 65,
   "metadata": {},
   "outputs": [
    {
     "ename": "ERROR",
     "evalue": "Error in View(mtcars): ‘View()’ not yet supported in the Jupyter R kernel\n",
     "output_type": "error",
     "traceback": [
      "Error in View(mtcars): ‘View()’ not yet supported in the Jupyter R kernel\nTraceback:\n",
      "1. View(mtcars)",
      "2. stop(sQuote(\"View()\"), \" not yet supported in the Jupyter R kernel\")"
     ]
    }
   ],
   "source": [
    "View(mtcars)"
   ]
  },
  {
   "cell_type": "code",
   "execution_count": 66,
   "metadata": {},
   "outputs": [
    {
     "data": {
      "text/html": [
       "'/Users/ksatola/Documents/git/Data-Science-Notes'"
      ],
      "text/latex": [
       "'/Users/ksatola/Documents/git/Data-Science-Notes'"
      ],
      "text/markdown": [
       "'/Users/ksatola/Documents/git/Data-Science-Notes'"
      ],
      "text/plain": [
       "[1] \"/Users/ksatola/Documents/git/Data-Science-Notes\""
      ]
     },
     "metadata": {},
     "output_type": "display_data"
    }
   ],
   "source": [
    "# Get an absolute path to the current working directory\n",
    "getwd()"
   ]
  },
  {
   "cell_type": "markdown",
   "metadata": {},
   "source": [
    "---\n",
    "<a id='fac'></a>"
   ]
  },
  {
   "cell_type": "markdown",
   "metadata": {},
   "source": [
    "## Factors\n",
    "\n",
    "Factors are categorical variables (like: small, medium, large). Factors are not vectors, vector methods will not work on them."
   ]
  },
  {
   "cell_type": "code",
   "execution_count": 70,
   "metadata": {},
   "outputs": [
    {
     "name": "stdout",
     "output_type": "stream",
     "text": [
      "[1] \"small\"  \"medium\" \"large\"  \"small\"  \"large\" \n"
     ]
    }
   ],
   "source": [
    "shirt_sizes <- c(\"small\", \"medium\", \"large\", \"small\", \"large\")\n",
    "print(shirt_sizes)"
   ]
  },
  {
   "cell_type": "code",
   "execution_count": 71,
   "metadata": {},
   "outputs": [
    {
     "name": "stdout",
     "output_type": "stream",
     "text": [
      "[1] small  medium large  small  large \n",
      "Levels: large medium small\n"
     ]
    }
   ],
   "source": [
    "shirt_sizes_factor <- as.factor(shirt_sizes)\n",
    "print(shirt_sizes_factor)"
   ]
  },
  {
   "cell_type": "code",
   "execution_count": 72,
   "metadata": {},
   "outputs": [
    {
     "data": {
      "text/html": [
       "5"
      ],
      "text/latex": [
       "5"
      ],
      "text/markdown": [
       "5"
      ],
      "text/plain": [
       "[1] 5"
      ]
     },
     "metadata": {},
     "output_type": "display_data"
    }
   ],
   "source": [
    "length(shirt_sizes_factor)"
   ]
  },
  {
   "cell_type": "code",
   "execution_count": 73,
   "metadata": {},
   "outputs": [
    {
     "data": {
      "text/html": [
       "TRUE"
      ],
      "text/latex": [
       "TRUE"
      ],
      "text/markdown": [
       "TRUE"
      ],
      "text/plain": [
       "[1] TRUE"
      ]
     },
     "metadata": {},
     "output_type": "display_data"
    }
   ],
   "source": [
    "is.factor(shirt_sizes_factor)"
   ]
  },
  {
   "cell_type": "markdown",
   "metadata": {},
   "source": [
    "---\n",
    "<a id='dplyr'></a>"
   ]
  },
  {
   "cell_type": "markdown",
   "metadata": {},
   "source": [
    "## Manipulating Data with dplyr\n",
    "\n",
    "The [**dplyr**](https://dplyr.tidyverse.org/) (\"Dee-ply-er\") package is the preeminent tool for data wrangling in R. It provides programmers with an intuitive vocabulary for executing data management and analysis tasks.\n",
    "\n",
    "**dplyr** is a `grammar of data manipulation`, providing a consistent set of verbs that help you solve the most common data manipulation challenges:\n",
    "\n",
    "- `mutate()` adds new variables that are functions of existing variables\n",
    "- `select()` picks variables based on their names.\n",
    "- `filter()` picks cases based on their values.\n",
    "- `summarise()` reduces multiple values down to a single summary.\n",
    "- `arrange()` changes the ordering of the rows."
   ]
  },
  {
   "cell_type": "code",
   "execution_count": 77,
   "metadata": {},
   "outputs": [
    {
     "name": "stdout",
     "output_type": "stream",
     "text": [
      "\n",
      "The downloaded binary packages are in\n",
      "\t/var/folders/qk/0l3zx9w11959pqp8tr5s_1780000gn/T//Rtmp61f83k/downloaded_packages\n",
      "\n",
      "The downloaded binary packages are in\n",
      "\t/var/folders/qk/0l3zx9w11959pqp8tr5s_1780000gn/T//Rtmp61f83k/downloaded_packages\n"
     ]
    }
   ],
   "source": [
    "# Once per machine\n",
    "install.packages(\"dplyr\")\n",
    "# or\n",
    "install.packages(\"tidyverse\") # dplyr is one of the package of tidyverse collection"
   ]
  },
  {
   "cell_type": "code",
   "execution_count": 76,
   "metadata": {},
   "outputs": [
    {
     "name": "stderr",
     "output_type": "stream",
     "text": [
      "\n",
      "Attaching package: ‘dplyr’\n",
      "\n",
      "\n",
      "The following objects are masked from ‘package:stats’:\n",
      "\n",
      "    filter, lag\n",
      "\n",
      "\n",
      "The following objects are masked from ‘package:base’:\n",
      "\n",
      "    intersect, setdiff, setequal, union\n",
      "\n",
      "\n"
     ]
    }
   ],
   "source": [
    "# In each relevant script\n",
    "library(\"dplyr\")"
   ]
  },
  {
   "cell_type": "code",
   "execution_count": 78,
   "metadata": {},
   "outputs": [
    {
     "name": "stdout",
     "output_type": "stream",
     "text": [
      "\n",
      "The downloaded binary packages are in\n",
      "\t/var/folders/qk/0l3zx9w11959pqp8tr5s_1780000gn/T//Rtmp61f83k/downloaded_packages\n"
     ]
    },
    {
     "name": "stderr",
     "output_type": "stream",
     "text": [
      "Classes and Methods for R developed in the\n",
      "Political Science Computational Laboratory\n",
      "Department of Political Science\n",
      "Stanford University\n",
      "Simon Jackman\n",
      "hurdle and zeroinfl functions by Achim Zeileis\n",
      "\n"
     ]
    }
   ],
   "source": [
    "# Load a dataset from pscl package\n",
    "install.packages(\"pscl\")\n",
    "library(\"pscl\")"
   ]
  },
  {
   "cell_type": "code",
   "execution_count": 79,
   "metadata": {},
   "outputs": [
    {
     "ename": "ERROR",
     "evalue": "Error in View(presidentialElections): ‘View()’ not yet supported in the Jupyter R kernel\n",
     "output_type": "error",
     "traceback": [
      "Error in View(presidentialElections): ‘View()’ not yet supported in the Jupyter R kernel\nTraceback:\n",
      "1. View(presidentialElections)",
      "2. stop(sQuote(\"View()\"), \" not yet supported in the Jupyter R kernel\")"
     ]
    }
   ],
   "source": [
    "View(presidentialElections)"
   ]
  },
  {
   "cell_type": "code",
   "execution_count": 80,
   "metadata": {},
   "outputs": [
    {
     "data": {
      "text/html": [
       "\n",
       "<table width=\"100%\" summary=\"page for presidentialElections {pscl}\"><tr><td>presidentialElections {pscl}</td><td style=\"text-align: right;\">R Documentation</td></tr></table>\n",
       "\n",
       "<h2>elections for U.S. President, 1932-2016, by state</h2>\n",
       "\n",
       "<h3>Description</h3>\n",
       "\n",
       "<p>Democratic share of the\n",
       "presidential vote, 1932-2016, in each state and the District of Columbia.</p>\n",
       "\n",
       "\n",
       "<h3>Usage</h3>\n",
       "\n",
       "<pre>data(presidentialElections)</pre>\n",
       "\n",
       "\n",
       "<h3>Format</h3>\n",
       "\n",
       "\n",
       "<ul>\n",
       "<li><p><code>state</code>character, name of state\n",
       "</p>\n",
       "</li>\n",
       "<li><p>demVotenumeric, percent of the vote for president won by the\n",
       "Democratic candidate\n",
       "</p>\n",
       "</li>\n",
       "<li><p>yearnumeric, integer\n",
       "</p>\n",
       "</li>\n",
       "<li><p>southlogical, <code>TRUE</code> if state is one of the 11 states\n",
       "of the former Confederacy\n",
       "</p>\n",
       "</li></ul>\n",
       "\n",
       "\n",
       "\n",
       "<h3>Note</h3>\n",
       "\n",
       "<p>1,047 observations, unbalanced panel data in long format. Hawaii and Alaska contribute data\n",
       "from 1960 onwards the District of Columbia contributes data\n",
       "from 1964 onward; Alabama has missing data for 1948 and\n",
       "1964.</p>\n",
       "\n",
       "\n",
       "<h3>Source</h3>\n",
       "\n",
       "<p>David Leip's Atlas of U.S. Presidential Elections <a href=\"uselectionatlas.org\">uselectionatlas.org</a>\n",
       "</p>\n",
       "\n",
       "\n",
       "<h3>Examples</h3>\n",
       "\n",
       "<pre>\n",
       "data(presidentialElections)\n",
       "if(require(lattice)) {\n",
       "    lattice::xyplot(demVote ~ year | state,\n",
       "       panel=lattice::panel.lines,\n",
       "       ylab=\"Democratic Vote for President (percent)\",\n",
       "       xlab=\"Year\",\n",
       "       data=presidentialElections,\n",
       "       scales=list(y=list(cex=.6),x=list(cex=.35)),\n",
       "       strip=strip.custom(par.strip.text=list(cex=.6)))\n",
       "}\n",
       "\n",
       "## Obama vs Kerry, except DC\n",
       "y08 &lt;- presidentialElections$year==2008\n",
       "y04 &lt;- presidentialElections$year==2004\n",
       "tmpData &lt;- merge(y=presidentialElections[y08,],\n",
       "\t         x=presidentialElections[y04,],\n",
       "                 by=\"state\")\n",
       "tmpData &lt;- tmpData[tmpData$state!=\"DC\",]\n",
       "xlim &lt;- range(tmpData$demVote.x,tmpData$demVote.y)\n",
       "col &lt;- rep(\"black\",dim(tmpData)[1])\n",
       "col[tmpData$south.x] &lt;- \"red\"\n",
       "\n",
       "plot(demVote.y ~ demVote.x,\n",
       "     xlab=\"Kerry Vote Share, 2004 (percent)\",\n",
       "     ylab=\"Obama Vote Share, 2008 (percent)\",\n",
       "     xlim=xlim,\n",
       "     ylim=xlim,\n",
       "     type=\"n\",\n",
       "     las=1,\n",
       "     data=tmpData)\n",
       "abline(0,1,lwd=2,col=gray(.65))\n",
       "ols &lt;- lm(demVote.y ~ demVote.x,\n",
       "          data=tmpData)\n",
       "abline(ols,lwd=2)\t\n",
       "\n",
       "text(tmpData$demVote.x,\n",
       "     tmpData$demVote.y,\n",
       "     tmpData$state,\n",
       "     col=col,\n",
       "     cex=.65)\n",
       "legend(x=\"topleft\",\n",
       "       bty=\"n\",\n",
       "       lwd=c(2,2),\n",
       "       col=c(gray(.65),\"black\"),\n",
       "       legend=c(\"No Change from 2004\",\"Regression\"))\n",
       "legend(x=\"bottomright\",\n",
       "       bty=\"n\",\n",
       "       text.col=c(\"red\",\"black\"),\n",
       "       legend=c(\"South\",\"Non-South\"))\n",
       "\n",
       "</pre>\n",
       "\n",
       "<hr /><div style=\"text-align: center;\">[Package <em>pscl</em> version 1.5.2 ]</div>"
      ],
      "text/latex": [
       "\\inputencoding{utf8}\n",
       "\\HeaderA{presidentialElections}{elections for U.S. President, 1932-2016, by state}{presidentialElections}\n",
       "\\keyword{datasets}{presidentialElections}\n",
       "%\n",
       "\\begin{Description}\\relax\n",
       "Democratic share of the\n",
       "presidential vote, 1932-2016, in each state and the District of Columbia.\n",
       "\\end{Description}\n",
       "%\n",
       "\\begin{Usage}\n",
       "\\begin{verbatim}\n",
       "data(presidentialElections)\n",
       "\\end{verbatim}\n",
       "\\end{Usage}\n",
       "%\n",
       "\\begin{Format}\n",
       "\\begin{itemize}\n",
       "\n",
       "\\item{} \\code{state}character, name of state\n",
       "\\item{} demVotenumeric, percent of the vote for president won by the\n",
       "Democratic candidate\n",
       "\\item{} yearnumeric, integer\n",
       "\\item{} southlogical, \\code{TRUE} if state is one of the 11 states\n",
       "of the former Confederacy\n",
       "\n",
       "\\end{itemize}\n",
       "\n",
       "\\end{Format}\n",
       "%\n",
       "\\begin{Note}\\relax\n",
       "1,047 observations, unbalanced panel data in long format. Hawaii and Alaska contribute data\n",
       "from 1960 onwards the District of Columbia contributes data\n",
       "from 1964 onward; Alabama has missing data for 1948 and\n",
       "1964.\n",
       "\\end{Note}\n",
       "%\n",
       "\\begin{Source}\\relax\n",
       "David Leip's Atlas of U.S. Presidential Elections \\url{uselectionatlas.org}\n",
       "\\end{Source}\n",
       "%\n",
       "\\begin{Examples}\n",
       "\\begin{ExampleCode}\n",
       "data(presidentialElections)\n",
       "if(require(lattice)) {\n",
       "    lattice::xyplot(demVote ~ year | state,\n",
       "       panel=lattice::panel.lines,\n",
       "       ylab=\"Democratic Vote for President (percent)\",\n",
       "       xlab=\"Year\",\n",
       "       data=presidentialElections,\n",
       "       scales=list(y=list(cex=.6),x=list(cex=.35)),\n",
       "       strip=strip.custom(par.strip.text=list(cex=.6)))\n",
       "}\n",
       "\n",
       "## Obama vs Kerry, except DC\n",
       "y08 <- presidentialElections$year==2008\n",
       "y04 <- presidentialElections$year==2004\n",
       "tmpData <- merge(y=presidentialElections[y08,],\n",
       "\t         x=presidentialElections[y04,],\n",
       "                 by=\"state\")\n",
       "tmpData <- tmpData[tmpData$state!=\"DC\",]\n",
       "xlim <- range(tmpData$demVote.x,tmpData$demVote.y)\n",
       "col <- rep(\"black\",dim(tmpData)[1])\n",
       "col[tmpData$south.x] <- \"red\"\n",
       "\n",
       "plot(demVote.y ~ demVote.x,\n",
       "     xlab=\"Kerry Vote Share, 2004 (percent)\",\n",
       "     ylab=\"Obama Vote Share, 2008 (percent)\",\n",
       "     xlim=xlim,\n",
       "     ylim=xlim,\n",
       "     type=\"n\",\n",
       "     las=1,\n",
       "     data=tmpData)\n",
       "abline(0,1,lwd=2,col=gray(.65))\n",
       "ols <- lm(demVote.y ~ demVote.x,\n",
       "          data=tmpData)\n",
       "abline(ols,lwd=2)\t\n",
       "\n",
       "text(tmpData$demVote.x,\n",
       "     tmpData$demVote.y,\n",
       "     tmpData$state,\n",
       "     col=col,\n",
       "     cex=.65)\n",
       "legend(x=\"topleft\",\n",
       "       bty=\"n\",\n",
       "       lwd=c(2,2),\n",
       "       col=c(gray(.65),\"black\"),\n",
       "       legend=c(\"No Change from 2004\",\"Regression\"))\n",
       "legend(x=\"bottomright\",\n",
       "       bty=\"n\",\n",
       "       text.col=c(\"red\",\"black\"),\n",
       "       legend=c(\"South\",\"Non-South\"))\n",
       "\n",
       "\\end{ExampleCode}\n",
       "\\end{Examples}"
      ],
      "text/plain": [
       "presidentialElections           package:pscl           R Documentation\n",
       "\n",
       "_\be_\bl_\be_\bc_\bt_\bi_\bo_\bn_\bs _\bf_\bo_\br _\bU._\bS. _\bP_\br_\be_\bs_\bi_\bd_\be_\bn_\bt, _\b1_\b9_\b3_\b2-_\b2_\b0_\b1_\b6, _\bb_\by _\bs_\bt_\ba_\bt_\be\n",
       "\n",
       "_\bD_\be_\bs_\bc_\br_\bi_\bp_\bt_\bi_\bo_\bn:\n",
       "\n",
       "     Democratic share of the presidential vote, 1932-2016, in each\n",
       "     state and the District of Columbia.\n",
       "\n",
       "_\bU_\bs_\ba_\bg_\be:\n",
       "\n",
       "     data(presidentialElections)\n",
       "     \n",
       "_\bF_\bo_\br_\bm_\ba_\bt:\n",
       "\n",
       "        • ‘state’character, name of state\n",
       "\n",
       "        • demVotenumeric, percent of the vote for president won by the\n",
       "          Democratic candidate\n",
       "\n",
       "        • yearnumeric, integer\n",
       "\n",
       "        • southlogical, ‘TRUE’ if state is one of the 11 states of the\n",
       "          former Confederacy\n",
       "\n",
       "_\bN_\bo_\bt_\be:\n",
       "\n",
       "     1,047 observations, unbalanced panel data in long format. Hawaii\n",
       "     and Alaska contribute data from 1960 onwards the District of\n",
       "     Columbia contributes data from 1964 onward; Alabama has missing\n",
       "     data for 1948 and 1964.\n",
       "\n",
       "_\bS_\bo_\bu_\br_\bc_\be:\n",
       "\n",
       "     David Leip's Atlas of U.S. Presidential Elections <URL:\n",
       "     uselectionatlas.org>\n",
       "\n",
       "_\bE_\bx_\ba_\bm_\bp_\bl_\be_\bs:\n",
       "\n",
       "     data(presidentialElections)\n",
       "     if(require(lattice)) {\n",
       "         lattice::xyplot(demVote ~ year | state,\n",
       "            panel=lattice::panel.lines,\n",
       "            ylab=\"Democratic Vote for President (percent)\",\n",
       "            xlab=\"Year\",\n",
       "            data=presidentialElections,\n",
       "            scales=list(y=list(cex=.6),x=list(cex=.35)),\n",
       "            strip=strip.custom(par.strip.text=list(cex=.6)))\n",
       "     }\n",
       "     \n",
       "     ## Obama vs Kerry, except DC\n",
       "     y08 <- presidentialElections$year==2008\n",
       "     y04 <- presidentialElections$year==2004\n",
       "     tmpData <- merge(y=presidentialElections[y08,],\n",
       "                      x=presidentialElections[y04,],\n",
       "                      by=\"state\")\n",
       "     tmpData <- tmpData[tmpData$state!=\"DC\",]\n",
       "     xlim <- range(tmpData$demVote.x,tmpData$demVote.y)\n",
       "     col <- rep(\"black\",dim(tmpData)[1])\n",
       "     col[tmpData$south.x] <- \"red\"\n",
       "     \n",
       "     plot(demVote.y ~ demVote.x,\n",
       "          xlab=\"Kerry Vote Share, 2004 (percent)\",\n",
       "          ylab=\"Obama Vote Share, 2008 (percent)\",\n",
       "          xlim=xlim,\n",
       "          ylim=xlim,\n",
       "          type=\"n\",\n",
       "          las=1,\n",
       "          data=tmpData)\n",
       "     abline(0,1,lwd=2,col=gray(.65))\n",
       "     ols <- lm(demVote.y ~ demVote.x,\n",
       "               data=tmpData)\n",
       "     abline(ols,lwd=2)       \n",
       "     \n",
       "     text(tmpData$demVote.x,\n",
       "          tmpData$demVote.y,\n",
       "          tmpData$state,\n",
       "          col=col,\n",
       "          cex=.65)\n",
       "     legend(x=\"topleft\",\n",
       "            bty=\"n\",\n",
       "            lwd=c(2,2),\n",
       "            col=c(gray(.65),\"black\"),\n",
       "            legend=c(\"No Change from 2004\",\"Regression\"))\n",
       "     legend(x=\"bottomright\",\n",
       "            bty=\"n\",\n",
       "            text.col=c(\"red\",\"black\"),\n",
       "            legend=c(\"South\",\"Non-South\"))\n",
       "     "
      ]
     },
     "metadata": {},
     "output_type": "display_data"
    }
   ],
   "source": [
    "?presidentialElections"
   ]
  },
  {
   "cell_type": "code",
   "execution_count": 84,
   "metadata": {},
   "outputs": [
    {
     "data": {
      "text/html": [
       "<table>\n",
       "<caption>A tibble: 6 × 4</caption>\n",
       "<thead>\n",
       "\t<tr><th scope=col>state</th><th scope=col>demVote</th><th scope=col>year</th><th scope=col>south</th></tr>\n",
       "\t<tr><th scope=col>&lt;chr&gt;</th><th scope=col>&lt;dbl&gt;</th><th scope=col>&lt;int&gt;</th><th scope=col>&lt;lgl&gt;</th></tr>\n",
       "</thead>\n",
       "<tbody>\n",
       "\t<tr><td>Alabama    </td><td>84.76</td><td>1932</td><td> TRUE</td></tr>\n",
       "\t<tr><td>Arizona    </td><td>67.03</td><td>1932</td><td>FALSE</td></tr>\n",
       "\t<tr><td>Arkansas   </td><td>86.27</td><td>1932</td><td> TRUE</td></tr>\n",
       "\t<tr><td>California </td><td>58.41</td><td>1932</td><td>FALSE</td></tr>\n",
       "\t<tr><td>Colorado   </td><td>54.81</td><td>1932</td><td>FALSE</td></tr>\n",
       "\t<tr><td>Connecticut</td><td>47.40</td><td>1932</td><td>FALSE</td></tr>\n",
       "</tbody>\n",
       "</table>\n"
      ],
      "text/latex": [
       "A tibble: 6 × 4\n",
       "\\begin{tabular}{r|llll}\n",
       " state & demVote & year & south\\\\\n",
       " <chr> & <dbl> & <int> & <lgl>\\\\\n",
       "\\hline\n",
       "\t Alabama     & 84.76 & 1932 &  TRUE\\\\\n",
       "\t Arizona     & 67.03 & 1932 & FALSE\\\\\n",
       "\t Arkansas    & 86.27 & 1932 &  TRUE\\\\\n",
       "\t California  & 58.41 & 1932 & FALSE\\\\\n",
       "\t Colorado    & 54.81 & 1932 & FALSE\\\\\n",
       "\t Connecticut & 47.40 & 1932 & FALSE\\\\\n",
       "\\end{tabular}\n"
      ],
      "text/markdown": [
       "\n",
       "A tibble: 6 × 4\n",
       "\n",
       "| state &lt;chr&gt; | demVote &lt;dbl&gt; | year &lt;int&gt; | south &lt;lgl&gt; |\n",
       "|---|---|---|---|\n",
       "| Alabama     | 84.76 | 1932 |  TRUE |\n",
       "| Arizona     | 67.03 | 1932 | FALSE |\n",
       "| Arkansas    | 86.27 | 1932 |  TRUE |\n",
       "| California  | 58.41 | 1932 | FALSE |\n",
       "| Colorado    | 54.81 | 1932 | FALSE |\n",
       "| Connecticut | 47.40 | 1932 | FALSE |\n",
       "\n"
      ],
      "text/plain": [
       "  state       demVote year south\n",
       "1 Alabama     84.76   1932  TRUE\n",
       "2 Arizona     67.03   1932 FALSE\n",
       "3 Arkansas    86.27   1932  TRUE\n",
       "4 California  58.41   1932 FALSE\n",
       "5 Colorado    54.81   1932 FALSE\n",
       "6 Connecticut 47.40   1932 FALSE"
      ]
     },
     "metadata": {},
     "output_type": "display_data"
    }
   ],
   "source": [
    "head(presidentialElections)"
   ]
  },
  {
   "cell_type": "code",
   "execution_count": 88,
   "metadata": {},
   "outputs": [
    {
     "data": {
      "text/html": [
       "<table>\n",
       "<caption>A tibble: 6 × 2</caption>\n",
       "<thead>\n",
       "\t<tr><th scope=col>year</th><th scope=col>demVote</th></tr>\n",
       "\t<tr><th scope=col>&lt;int&gt;</th><th scope=col>&lt;dbl&gt;</th></tr>\n",
       "</thead>\n",
       "<tbody>\n",
       "\t<tr><td>1932</td><td>84.76</td></tr>\n",
       "\t<tr><td>1932</td><td>67.03</td></tr>\n",
       "\t<tr><td>1932</td><td>86.27</td></tr>\n",
       "\t<tr><td>1932</td><td>58.41</td></tr>\n",
       "\t<tr><td>1932</td><td>54.81</td></tr>\n",
       "\t<tr><td>1932</td><td>47.40</td></tr>\n",
       "</tbody>\n",
       "</table>\n"
      ],
      "text/latex": [
       "A tibble: 6 × 2\n",
       "\\begin{tabular}{r|ll}\n",
       " year & demVote\\\\\n",
       " <int> & <dbl>\\\\\n",
       "\\hline\n",
       "\t 1932 & 84.76\\\\\n",
       "\t 1932 & 67.03\\\\\n",
       "\t 1932 & 86.27\\\\\n",
       "\t 1932 & 58.41\\\\\n",
       "\t 1932 & 54.81\\\\\n",
       "\t 1932 & 47.40\\\\\n",
       "\\end{tabular}\n"
      ],
      "text/markdown": [
       "\n",
       "A tibble: 6 × 2\n",
       "\n",
       "| year &lt;int&gt; | demVote &lt;dbl&gt; |\n",
       "|---|---|\n",
       "| 1932 | 84.76 |\n",
       "| 1932 | 67.03 |\n",
       "| 1932 | 86.27 |\n",
       "| 1932 | 58.41 |\n",
       "| 1932 | 54.81 |\n",
       "| 1932 | 47.40 |\n",
       "\n"
      ],
      "text/plain": [
       "  year demVote\n",
       "1 1932 84.76  \n",
       "2 1932 67.03  \n",
       "3 1932 86.27  \n",
       "4 1932 58.41  \n",
       "5 1932 54.81  \n",
       "6 1932 47.40  "
      ]
     },
     "metadata": {},
     "output_type": "display_data"
    }
   ],
   "source": [
    "votes <- select(presidentialElections, year, demVote)\n",
    "head(votes)\n",
    "# or in a classical way:\n",
    "#votes <- presidentialElections[, c(\"year\", \"demVote\")]"
   ]
  },
  {
   "cell_type": "code",
   "execution_count": 89,
   "metadata": {},
   "outputs": [
    {
     "data": {
      "text/html": [
       "<table>\n",
       "<caption>A tibble: 6 × 2</caption>\n",
       "<thead>\n",
       "\t<tr><th scope=col>year</th><th scope=col>demVote</th></tr>\n",
       "\t<tr><th scope=col>&lt;int&gt;</th><th scope=col>&lt;dbl&gt;</th></tr>\n",
       "</thead>\n",
       "<tbody>\n",
       "\t<tr><td>1932</td><td>84.76</td></tr>\n",
       "\t<tr><td>1932</td><td>67.03</td></tr>\n",
       "\t<tr><td>1932</td><td>86.27</td></tr>\n",
       "\t<tr><td>1932</td><td>58.41</td></tr>\n",
       "\t<tr><td>1932</td><td>54.81</td></tr>\n",
       "\t<tr><td>1932</td><td>47.40</td></tr>\n",
       "</tbody>\n",
       "</table>\n"
      ],
      "text/latex": [
       "A tibble: 6 × 2\n",
       "\\begin{tabular}{r|ll}\n",
       " year & demVote\\\\\n",
       " <int> & <dbl>\\\\\n",
       "\\hline\n",
       "\t 1932 & 84.76\\\\\n",
       "\t 1932 & 67.03\\\\\n",
       "\t 1932 & 86.27\\\\\n",
       "\t 1932 & 58.41\\\\\n",
       "\t 1932 & 54.81\\\\\n",
       "\t 1932 & 47.40\\\\\n",
       "\\end{tabular}\n"
      ],
      "text/markdown": [
       "\n",
       "A tibble: 6 × 2\n",
       "\n",
       "| year &lt;int&gt; | demVote &lt;dbl&gt; |\n",
       "|---|---|\n",
       "| 1932 | 84.76 |\n",
       "| 1932 | 67.03 |\n",
       "| 1932 | 86.27 |\n",
       "| 1932 | 58.41 |\n",
       "| 1932 | 54.81 |\n",
       "| 1932 | 47.40 |\n",
       "\n"
      ],
      "text/plain": [
       "  year demVote\n",
       "1 1932 84.76  \n",
       "2 1932 67.03  \n",
       "3 1932 86.27  \n",
       "4 1932 58.41  \n",
       "5 1932 54.81  \n",
       "6 1932 47.40  "
      ]
     },
     "metadata": {},
     "output_type": "display_data"
    }
   ],
   "source": [
    "# Select range\n",
    "votes <- select(presidentialElections, year:demVote)\n",
    "head(votes)"
   ]
  },
  {
   "cell_type": "code",
   "execution_count": null,
   "metadata": {},
   "outputs": [],
   "source": [
    "# Select except 'year'"
   ]
  },
  {
   "cell_type": "code",
   "execution_count": 90,
   "metadata": {},
   "outputs": [
    {
     "data": {
      "text/html": [
       "<table>\n",
       "<caption>A tibble: 6 × 3</caption>\n",
       "<thead>\n",
       "\t<tr><th scope=col>state</th><th scope=col>demVote</th><th scope=col>south</th></tr>\n",
       "\t<tr><th scope=col>&lt;chr&gt;</th><th scope=col>&lt;dbl&gt;</th><th scope=col>&lt;lgl&gt;</th></tr>\n",
       "</thead>\n",
       "<tbody>\n",
       "\t<tr><td>Alabama    </td><td>84.76</td><td> TRUE</td></tr>\n",
       "\t<tr><td>Arizona    </td><td>67.03</td><td>FALSE</td></tr>\n",
       "\t<tr><td>Arkansas   </td><td>86.27</td><td> TRUE</td></tr>\n",
       "\t<tr><td>California </td><td>58.41</td><td>FALSE</td></tr>\n",
       "\t<tr><td>Colorado   </td><td>54.81</td><td>FALSE</td></tr>\n",
       "\t<tr><td>Connecticut</td><td>47.40</td><td>FALSE</td></tr>\n",
       "</tbody>\n",
       "</table>\n"
      ],
      "text/latex": [
       "A tibble: 6 × 3\n",
       "\\begin{tabular}{r|lll}\n",
       " state & demVote & south\\\\\n",
       " <chr> & <dbl> & <lgl>\\\\\n",
       "\\hline\n",
       "\t Alabama     & 84.76 &  TRUE\\\\\n",
       "\t Arizona     & 67.03 & FALSE\\\\\n",
       "\t Arkansas    & 86.27 &  TRUE\\\\\n",
       "\t California  & 58.41 & FALSE\\\\\n",
       "\t Colorado    & 54.81 & FALSE\\\\\n",
       "\t Connecticut & 47.40 & FALSE\\\\\n",
       "\\end{tabular}\n"
      ],
      "text/markdown": [
       "\n",
       "A tibble: 6 × 3\n",
       "\n",
       "| state &lt;chr&gt; | demVote &lt;dbl&gt; | south &lt;lgl&gt; |\n",
       "|---|---|---|\n",
       "| Alabama     | 84.76 |  TRUE |\n",
       "| Arizona     | 67.03 | FALSE |\n",
       "| Arkansas    | 86.27 |  TRUE |\n",
       "| California  | 58.41 | FALSE |\n",
       "| Colorado    | 54.81 | FALSE |\n",
       "| Connecticut | 47.40 | FALSE |\n",
       "\n"
      ],
      "text/plain": [
       "  state       demVote south\n",
       "1 Alabama     84.76    TRUE\n",
       "2 Arizona     67.03   FALSE\n",
       "3 Arkansas    86.27    TRUE\n",
       "4 California  58.41   FALSE\n",
       "5 Colorado    54.81   FALSE\n",
       "6 Connecticut 47.40   FALSE"
      ]
     },
     "metadata": {},
     "output_type": "display_data"
    }
   ],
   "source": [
    "votes <- select(presidentialElections, -year)\n",
    "head(votes)"
   ]
  },
  {
   "cell_type": "code",
   "execution_count": 95,
   "metadata": {},
   "outputs": [
    {
     "data": {
      "text/html": [
       "<table>\n",
       "<caption>A tibble: 6 × 4</caption>\n",
       "<thead>\n",
       "\t<tr><th scope=col>state</th><th scope=col>demVote</th><th scope=col>year</th><th scope=col>south</th></tr>\n",
       "\t<tr><th scope=col>&lt;chr&gt;</th><th scope=col>&lt;dbl&gt;</th><th scope=col>&lt;int&gt;</th><th scope=col>&lt;lgl&gt;</th></tr>\n",
       "</thead>\n",
       "<tbody>\n",
       "\t<tr><td>Alabama   </td><td>38.74</td><td>2008</td><td> TRUE</td></tr>\n",
       "\t<tr><td>Alaska    </td><td>37.89</td><td>2008</td><td>FALSE</td></tr>\n",
       "\t<tr><td>Arizona   </td><td>44.91</td><td>2008</td><td>FALSE</td></tr>\n",
       "\t<tr><td>Arkansas  </td><td>38.86</td><td>2008</td><td> TRUE</td></tr>\n",
       "\t<tr><td>California</td><td>60.94</td><td>2008</td><td>FALSE</td></tr>\n",
       "\t<tr><td>Colorado  </td><td>53.66</td><td>2008</td><td>FALSE</td></tr>\n",
       "</tbody>\n",
       "</table>\n"
      ],
      "text/latex": [
       "A tibble: 6 × 4\n",
       "\\begin{tabular}{r|llll}\n",
       " state & demVote & year & south\\\\\n",
       " <chr> & <dbl> & <int> & <lgl>\\\\\n",
       "\\hline\n",
       "\t Alabama    & 38.74 & 2008 &  TRUE\\\\\n",
       "\t Alaska     & 37.89 & 2008 & FALSE\\\\\n",
       "\t Arizona    & 44.91 & 2008 & FALSE\\\\\n",
       "\t Arkansas   & 38.86 & 2008 &  TRUE\\\\\n",
       "\t California & 60.94 & 2008 & FALSE\\\\\n",
       "\t Colorado   & 53.66 & 2008 & FALSE\\\\\n",
       "\\end{tabular}\n"
      ],
      "text/markdown": [
       "\n",
       "A tibble: 6 × 4\n",
       "\n",
       "| state &lt;chr&gt; | demVote &lt;dbl&gt; | year &lt;int&gt; | south &lt;lgl&gt; |\n",
       "|---|---|---|---|\n",
       "| Alabama    | 38.74 | 2008 |  TRUE |\n",
       "| Alaska     | 37.89 | 2008 | FALSE |\n",
       "| Arizona    | 44.91 | 2008 | FALSE |\n",
       "| Arkansas   | 38.86 | 2008 |  TRUE |\n",
       "| California | 60.94 | 2008 | FALSE |\n",
       "| Colorado   | 53.66 | 2008 | FALSE |\n",
       "\n"
      ],
      "text/plain": [
       "  state      demVote year south\n",
       "1 Alabama    38.74   2008  TRUE\n",
       "2 Alaska     37.89   2008 FALSE\n",
       "3 Arizona    44.91   2008 FALSE\n",
       "4 Arkansas   38.86   2008  TRUE\n",
       "5 California 60.94   2008 FALSE\n",
       "6 Colorado   53.66   2008 FALSE"
      ]
     },
     "metadata": {},
     "output_type": "display_data"
    }
   ],
   "source": [
    "# filter()\n",
    "votes_2008 <- filter(presidentialElections, year == 2008)\n",
    "head(votes_2008)\n",
    "# or in a classical way:\n",
    "# votes_2008 <- presidentialElections[presidentialElections$year == 2008, ] #selected rows, all cols"
   ]
  },
  {
   "cell_type": "code",
   "execution_count": 97,
   "metadata": {},
   "outputs": [
    {
     "data": {
      "text/html": [
       "<table>\n",
       "<caption>A tibble: 1 × 4</caption>\n",
       "<thead>\n",
       "\t<tr><th scope=col>state</th><th scope=col>demVote</th><th scope=col>year</th><th scope=col>south</th></tr>\n",
       "\t<tr><th scope=col>&lt;chr&gt;</th><th scope=col>&lt;dbl&gt;</th><th scope=col>&lt;int&gt;</th><th scope=col>&lt;lgl&gt;</th></tr>\n",
       "</thead>\n",
       "<tbody>\n",
       "\t<tr><td>Colorado</td><td>53.66</td><td>2008</td><td>FALSE</td></tr>\n",
       "</tbody>\n",
       "</table>\n"
      ],
      "text/latex": [
       "A tibble: 1 × 4\n",
       "\\begin{tabular}{r|llll}\n",
       " state & demVote & year & south\\\\\n",
       " <chr> & <dbl> & <int> & <lgl>\\\\\n",
       "\\hline\n",
       "\t Colorado & 53.66 & 2008 & FALSE\\\\\n",
       "\\end{tabular}\n"
      ],
      "text/markdown": [
       "\n",
       "A tibble: 1 × 4\n",
       "\n",
       "| state &lt;chr&gt; | demVote &lt;dbl&gt; | year &lt;int&gt; | south &lt;lgl&gt; |\n",
       "|---|---|---|---|\n",
       "| Colorado | 53.66 | 2008 | FALSE |\n",
       "\n"
      ],
      "text/plain": [
       "  state    demVote year south\n",
       "1 Colorado 53.66   2008 FALSE"
      ]
     },
     "metadata": {},
     "output_type": "display_data"
    }
   ],
   "source": [
    "# Extract rows for the state of Colorado in 2008\n",
    "votes_colorado_2008 <- filter(\n",
    "    presidentialElections, \n",
    "    year == 2008, \n",
    "    state == \"Colorado\"\n",
    ")\n",
    "head(votes_colorado_2008)"
   ]
  },
  {
   "cell_type": "code",
   "execution_count": null,
   "metadata": {},
   "outputs": [],
   "source": [
    "# Add row names of a dataframe as a new column called row_names\n",
    "df <- mutate(df, row_names = rownames(df))"
   ]
  },
  {
   "cell_type": "code",
   "execution_count": 99,
   "metadata": {},
   "outputs": [
    {
     "data": {
      "text/html": [
       "<table>\n",
       "<caption>A tibble: 6 × 6</caption>\n",
       "<thead>\n",
       "\t<tr><th scope=col>state</th><th scope=col>demVote</th><th scope=col>year</th><th scope=col>south</th><th scope=col>other_parties_vote</th><th scope=col>abs_vote_difference</th></tr>\n",
       "\t<tr><th scope=col>&lt;chr&gt;</th><th scope=col>&lt;dbl&gt;</th><th scope=col>&lt;int&gt;</th><th scope=col>&lt;lgl&gt;</th><th scope=col>&lt;dbl&gt;</th><th scope=col>&lt;dbl&gt;</th></tr>\n",
       "</thead>\n",
       "<tbody>\n",
       "\t<tr><td>Alabama    </td><td>84.76</td><td>1932</td><td> TRUE</td><td>15.24</td><td>69.52</td></tr>\n",
       "\t<tr><td>Arizona    </td><td>67.03</td><td>1932</td><td>FALSE</td><td>32.97</td><td>34.06</td></tr>\n",
       "\t<tr><td>Arkansas   </td><td>86.27</td><td>1932</td><td> TRUE</td><td>13.73</td><td>72.54</td></tr>\n",
       "\t<tr><td>California </td><td>58.41</td><td>1932</td><td>FALSE</td><td>41.59</td><td>16.82</td></tr>\n",
       "\t<tr><td>Colorado   </td><td>54.81</td><td>1932</td><td>FALSE</td><td>45.19</td><td> 9.62</td></tr>\n",
       "\t<tr><td>Connecticut</td><td>47.40</td><td>1932</td><td>FALSE</td><td>52.60</td><td> 5.20</td></tr>\n",
       "</tbody>\n",
       "</table>\n"
      ],
      "text/latex": [
       "A tibble: 6 × 6\n",
       "\\begin{tabular}{r|llllll}\n",
       " state & demVote & year & south & other\\_parties\\_vote & abs\\_vote\\_difference\\\\\n",
       " <chr> & <dbl> & <int> & <lgl> & <dbl> & <dbl>\\\\\n",
       "\\hline\n",
       "\t Alabama     & 84.76 & 1932 &  TRUE & 15.24 & 69.52\\\\\n",
       "\t Arizona     & 67.03 & 1932 & FALSE & 32.97 & 34.06\\\\\n",
       "\t Arkansas    & 86.27 & 1932 &  TRUE & 13.73 & 72.54\\\\\n",
       "\t California  & 58.41 & 1932 & FALSE & 41.59 & 16.82\\\\\n",
       "\t Colorado    & 54.81 & 1932 & FALSE & 45.19 &  9.62\\\\\n",
       "\t Connecticut & 47.40 & 1932 & FALSE & 52.60 &  5.20\\\\\n",
       "\\end{tabular}\n"
      ],
      "text/markdown": [
       "\n",
       "A tibble: 6 × 6\n",
       "\n",
       "| state &lt;chr&gt; | demVote &lt;dbl&gt; | year &lt;int&gt; | south &lt;lgl&gt; | other_parties_vote &lt;dbl&gt; | abs_vote_difference &lt;dbl&gt; |\n",
       "|---|---|---|---|---|---|\n",
       "| Alabama     | 84.76 | 1932 |  TRUE | 15.24 | 69.52 |\n",
       "| Arizona     | 67.03 | 1932 | FALSE | 32.97 | 34.06 |\n",
       "| Arkansas    | 86.27 | 1932 |  TRUE | 13.73 | 72.54 |\n",
       "| California  | 58.41 | 1932 | FALSE | 41.59 | 16.82 |\n",
       "| Colorado    | 54.81 | 1932 | FALSE | 45.19 |  9.62 |\n",
       "| Connecticut | 47.40 | 1932 | FALSE | 52.60 |  5.20 |\n",
       "\n"
      ],
      "text/plain": [
       "  state       demVote year south other_parties_vote abs_vote_difference\n",
       "1 Alabama     84.76   1932  TRUE 15.24              69.52              \n",
       "2 Arizona     67.03   1932 FALSE 32.97              34.06              \n",
       "3 Arkansas    86.27   1932  TRUE 13.73              72.54              \n",
       "4 California  58.41   1932 FALSE 41.59              16.82              \n",
       "5 Colorado    54.81   1932 FALSE 45.19               9.62              \n",
       "6 Connecticut 47.40   1932 FALSE 52.60               5.20              "
      ]
     },
     "metadata": {},
     "output_type": "display_data"
    }
   ],
   "source": [
    "# mutate() to create new columns, returns a new dataframe\n",
    "presidentialElections <- mutate(\n",
    "    presidentialElections,\n",
    "    other_parties_vote = 100 - demVote,\n",
    "    abs_vote_difference = abs(demVote - other_parties_vote)\n",
    ")\n",
    "head(presidentialElections)"
   ]
  },
  {
   "cell_type": "code",
   "execution_count": 100,
   "metadata": {},
   "outputs": [
    {
     "data": {
      "text/html": [
       "<table>\n",
       "<caption>A tibble: 6 × 6</caption>\n",
       "<thead>\n",
       "\t<tr><th scope=col>state</th><th scope=col>demVote</th><th scope=col>year</th><th scope=col>south</th><th scope=col>other_parties_vote</th><th scope=col>abs_vote_difference</th></tr>\n",
       "\t<tr><th scope=col>&lt;chr&gt;</th><th scope=col>&lt;dbl&gt;</th><th scope=col>&lt;int&gt;</th><th scope=col>&lt;lgl&gt;</th><th scope=col>&lt;dbl&gt;</th><th scope=col>&lt;dbl&gt;</th></tr>\n",
       "</thead>\n",
       "<tbody>\n",
       "\t<tr><td>West Virginia</td><td>26.18</td><td>2016</td><td>FALSE</td><td>73.82</td><td>47.64</td></tr>\n",
       "\t<tr><td>Utah         </td><td>27.17</td><td>2016</td><td>FALSE</td><td>72.83</td><td>45.66</td></tr>\n",
       "\t<tr><td>North Dakota </td><td>27.23</td><td>2016</td><td>FALSE</td><td>72.77</td><td>45.54</td></tr>\n",
       "\t<tr><td>Idaho        </td><td>27.48</td><td>2016</td><td>FALSE</td><td>72.52</td><td>45.04</td></tr>\n",
       "\t<tr><td>Oklahoma     </td><td>28.93</td><td>2016</td><td>FALSE</td><td>71.07</td><td>42.14</td></tr>\n",
       "\t<tr><td>South Dakota </td><td>31.74</td><td>2016</td><td>FALSE</td><td>68.26</td><td>36.52</td></tr>\n",
       "</tbody>\n",
       "</table>\n"
      ],
      "text/latex": [
       "A tibble: 6 × 6\n",
       "\\begin{tabular}{r|llllll}\n",
       " state & demVote & year & south & other\\_parties\\_vote & abs\\_vote\\_difference\\\\\n",
       " <chr> & <dbl> & <int> & <lgl> & <dbl> & <dbl>\\\\\n",
       "\\hline\n",
       "\t West Virginia & 26.18 & 2016 & FALSE & 73.82 & 47.64\\\\\n",
       "\t Utah          & 27.17 & 2016 & FALSE & 72.83 & 45.66\\\\\n",
       "\t North Dakota  & 27.23 & 2016 & FALSE & 72.77 & 45.54\\\\\n",
       "\t Idaho         & 27.48 & 2016 & FALSE & 72.52 & 45.04\\\\\n",
       "\t Oklahoma      & 28.93 & 2016 & FALSE & 71.07 & 42.14\\\\\n",
       "\t South Dakota  & 31.74 & 2016 & FALSE & 68.26 & 36.52\\\\\n",
       "\\end{tabular}\n"
      ],
      "text/markdown": [
       "\n",
       "A tibble: 6 × 6\n",
       "\n",
       "| state &lt;chr&gt; | demVote &lt;dbl&gt; | year &lt;int&gt; | south &lt;lgl&gt; | other_parties_vote &lt;dbl&gt; | abs_vote_difference &lt;dbl&gt; |\n",
       "|---|---|---|---|---|---|\n",
       "| West Virginia | 26.18 | 2016 | FALSE | 73.82 | 47.64 |\n",
       "| Utah          | 27.17 | 2016 | FALSE | 72.83 | 45.66 |\n",
       "| North Dakota  | 27.23 | 2016 | FALSE | 72.77 | 45.54 |\n",
       "| Idaho         | 27.48 | 2016 | FALSE | 72.52 | 45.04 |\n",
       "| Oklahoma      | 28.93 | 2016 | FALSE | 71.07 | 42.14 |\n",
       "| South Dakota  | 31.74 | 2016 | FALSE | 68.26 | 36.52 |\n",
       "\n"
      ],
      "text/plain": [
       "  state         demVote year south other_parties_vote abs_vote_difference\n",
       "1 West Virginia 26.18   2016 FALSE 73.82              47.64              \n",
       "2 Utah          27.17   2016 FALSE 72.83              45.66              \n",
       "3 North Dakota  27.23   2016 FALSE 72.77              45.54              \n",
       "4 Idaho         27.48   2016 FALSE 72.52              45.04              \n",
       "5 Oklahoma      28.93   2016 FALSE 71.07              42.14              \n",
       "6 South Dakota  31.74   2016 FALSE 68.26              36.52              "
      ]
     },
     "metadata": {},
     "output_type": "display_data"
    }
   ],
   "source": [
    "# arrange() to sort rows by some feature (column value), returns a new dataframe\n",
    "# Arrange rows in decreasing order by year, then by demVote\n",
    "presidentialElections <- arrange(presidentialElections, -year, demVote)\n",
    "head(presidentialElections)"
   ]
  },
  {
   "cell_type": "code",
   "execution_count": 101,
   "metadata": {},
   "outputs": [
    {
     "data": {
      "text/html": [
       "<table>\n",
       "<caption>A tibble: 6 × 6</caption>\n",
       "<thead>\n",
       "\t<tr><th scope=col>state</th><th scope=col>demVote</th><th scope=col>year</th><th scope=col>south</th><th scope=col>other_parties_vote</th><th scope=col>abs_vote_difference</th></tr>\n",
       "\t<tr><th scope=col>&lt;chr&gt;</th><th scope=col>&lt;dbl&gt;</th><th scope=col>&lt;int&gt;</th><th scope=col>&lt;lgl&gt;</th><th scope=col>&lt;dbl&gt;</th><th scope=col>&lt;dbl&gt;</th></tr>\n",
       "</thead>\n",
       "<tbody>\n",
       "\t<tr><td>West Virginia</td><td>26.18</td><td>2016</td><td>FALSE</td><td>73.82</td><td>47.64</td></tr>\n",
       "\t<tr><td>Utah         </td><td>27.17</td><td>2016</td><td>FALSE</td><td>72.83</td><td>45.66</td></tr>\n",
       "\t<tr><td>North Dakota </td><td>27.23</td><td>2016</td><td>FALSE</td><td>72.77</td><td>45.54</td></tr>\n",
       "\t<tr><td>Idaho        </td><td>27.48</td><td>2016</td><td>FALSE</td><td>72.52</td><td>45.04</td></tr>\n",
       "\t<tr><td>Oklahoma     </td><td>28.93</td><td>2016</td><td>FALSE</td><td>71.07</td><td>42.14</td></tr>\n",
       "\t<tr><td>South Dakota </td><td>31.74</td><td>2016</td><td>FALSE</td><td>68.26</td><td>36.52</td></tr>\n",
       "</tbody>\n",
       "</table>\n"
      ],
      "text/latex": [
       "A tibble: 6 × 6\n",
       "\\begin{tabular}{r|llllll}\n",
       " state & demVote & year & south & other\\_parties\\_vote & abs\\_vote\\_difference\\\\\n",
       " <chr> & <dbl> & <int> & <lgl> & <dbl> & <dbl>\\\\\n",
       "\\hline\n",
       "\t West Virginia & 26.18 & 2016 & FALSE & 73.82 & 47.64\\\\\n",
       "\t Utah          & 27.17 & 2016 & FALSE & 72.83 & 45.66\\\\\n",
       "\t North Dakota  & 27.23 & 2016 & FALSE & 72.77 & 45.54\\\\\n",
       "\t Idaho         & 27.48 & 2016 & FALSE & 72.52 & 45.04\\\\\n",
       "\t Oklahoma      & 28.93 & 2016 & FALSE & 71.07 & 42.14\\\\\n",
       "\t South Dakota  & 31.74 & 2016 & FALSE & 68.26 & 36.52\\\\\n",
       "\\end{tabular}\n"
      ],
      "text/markdown": [
       "\n",
       "A tibble: 6 × 6\n",
       "\n",
       "| state &lt;chr&gt; | demVote &lt;dbl&gt; | year &lt;int&gt; | south &lt;lgl&gt; | other_parties_vote &lt;dbl&gt; | abs_vote_difference &lt;dbl&gt; |\n",
       "|---|---|---|---|---|---|\n",
       "| West Virginia | 26.18 | 2016 | FALSE | 73.82 | 47.64 |\n",
       "| Utah          | 27.17 | 2016 | FALSE | 72.83 | 45.66 |\n",
       "| North Dakota  | 27.23 | 2016 | FALSE | 72.77 | 45.54 |\n",
       "| Idaho         | 27.48 | 2016 | FALSE | 72.52 | 45.04 |\n",
       "| Oklahoma      | 28.93 | 2016 | FALSE | 71.07 | 42.14 |\n",
       "| South Dakota  | 31.74 | 2016 | FALSE | 68.26 | 36.52 |\n",
       "\n"
      ],
      "text/plain": [
       "  state         demVote year south other_parties_vote abs_vote_difference\n",
       "1 West Virginia 26.18   2016 FALSE 73.82              47.64              \n",
       "2 Utah          27.17   2016 FALSE 72.83              45.66              \n",
       "3 North Dakota  27.23   2016 FALSE 72.77              45.54              \n",
       "4 Idaho         27.48   2016 FALSE 72.52              45.04              \n",
       "5 Oklahoma      28.93   2016 FALSE 71.07              42.14              \n",
       "6 South Dakota  31.74   2016 FALSE 68.26              36.52              "
      ]
     },
     "metadata": {},
     "output_type": "display_data"
    }
   ],
   "source": [
    "presidentialElections <- arrange(presidentialElections, desc(year), demVote)\n",
    "head(presidentialElections)"
   ]
  },
  {
   "cell_type": "code",
   "execution_count": 102,
   "metadata": {},
   "outputs": [
    {
     "data": {
      "text/html": [
       "<table>\n",
       "<caption>A tibble: 1 × 2</caption>\n",
       "<thead>\n",
       "\t<tr><th scope=col>mean_dem_vote</th><th scope=col>mean_other_parties</th></tr>\n",
       "\t<tr><th scope=col>&lt;dbl&gt;</th><th scope=col>&lt;dbl&gt;</th></tr>\n",
       "</thead>\n",
       "<tbody>\n",
       "\t<tr><td>48.3594</td><td>51.6406</td></tr>\n",
       "</tbody>\n",
       "</table>\n"
      ],
      "text/latex": [
       "A tibble: 1 × 2\n",
       "\\begin{tabular}{r|ll}\n",
       " mean\\_dem\\_vote & mean\\_other\\_parties\\\\\n",
       " <dbl> & <dbl>\\\\\n",
       "\\hline\n",
       "\t 48.3594 & 51.6406\\\\\n",
       "\\end{tabular}\n"
      ],
      "text/markdown": [
       "\n",
       "A tibble: 1 × 2\n",
       "\n",
       "| mean_dem_vote &lt;dbl&gt; | mean_other_parties &lt;dbl&gt; |\n",
       "|---|---|\n",
       "| 48.3594 | 51.6406 |\n",
       "\n"
      ],
      "text/plain": [
       "  mean_dem_vote mean_other_parties\n",
       "1 48.3594       51.6406           "
      ]
     },
     "metadata": {},
     "output_type": "display_data"
    }
   ],
   "source": [
    "# summarize() to aggregate each collumn to a single value\n",
    "average_votes <- summarize(\n",
    "    presidentialElections,\n",
    "    mean_dem_vote = mean(demVote),\n",
    "    mean_other_parties = mean(other_parties_vote)\n",
    ")\n",
    "head(average_votes)"
   ]
  },
  {
   "cell_type": "markdown",
   "metadata": {},
   "source": [
    "---\n",
    "<a id='pipe'></a>"
   ]
  },
  {
   "cell_type": "markdown",
   "metadata": {},
   "source": [
    "## The Pipe Operator\n",
    "\n",
    "The **pipe operator** `%>%` takes the result from one function and passes it in as the first argument to the next function. This operator is loaded with dplyr but works with any R function."
   ]
  },
  {
   "cell_type": "code",
   "execution_count": 104,
   "metadata": {},
   "outputs": [
    {
     "name": "stdout",
     "output_type": "stream",
     "text": [
      "\u001b[38;5;246m# A tibble: 1 x 1\u001b[39m\n",
      "  state\n",
      "  \u001b[3m\u001b[38;5;246m<chr>\u001b[39m\u001b[23m\n",
      "\u001b[38;5;250m1\u001b[39m DC   \n"
     ]
    }
   ],
   "source": [
    "# Question: Which state had the highest percentage of votes for the Democratic Party \n",
    "#  (B. Obama) candidate in 2008?\n",
    "most_dem_state <- presidentialElections %>% # data frame to start with\n",
    "    filter(year == 2008) %>% # 1. Filter down to only 2008 votes\n",
    "    filter(demVote == max(demVote)) %>% # 2. Filter down to the the highest demVote\n",
    "    select(state) # 3. Select name of the state\n",
    "print(most_dem_state)"
   ]
  },
  {
   "cell_type": "code",
   "execution_count": 107,
   "metadata": {},
   "outputs": [
    {
     "data": {
      "text/html": [
       "<table>\n",
       "<caption>A grouped_df: 6 × 6</caption>\n",
       "<thead>\n",
       "\t<tr><th scope=col>state</th><th scope=col>demVote</th><th scope=col>year</th><th scope=col>south</th><th scope=col>other_parties_vote</th><th scope=col>abs_vote_difference</th></tr>\n",
       "\t<tr><th scope=col>&lt;chr&gt;</th><th scope=col>&lt;dbl&gt;</th><th scope=col>&lt;int&gt;</th><th scope=col>&lt;lgl&gt;</th><th scope=col>&lt;dbl&gt;</th><th scope=col>&lt;dbl&gt;</th></tr>\n",
       "</thead>\n",
       "<tbody>\n",
       "\t<tr><td>West Virginia</td><td>26.18</td><td>2016</td><td>FALSE</td><td>73.82</td><td>47.64</td></tr>\n",
       "\t<tr><td>Utah         </td><td>27.17</td><td>2016</td><td>FALSE</td><td>72.83</td><td>45.66</td></tr>\n",
       "\t<tr><td>North Dakota </td><td>27.23</td><td>2016</td><td>FALSE</td><td>72.77</td><td>45.54</td></tr>\n",
       "\t<tr><td>Idaho        </td><td>27.48</td><td>2016</td><td>FALSE</td><td>72.52</td><td>45.04</td></tr>\n",
       "\t<tr><td>Oklahoma     </td><td>28.93</td><td>2016</td><td>FALSE</td><td>71.07</td><td>42.14</td></tr>\n",
       "\t<tr><td>South Dakota </td><td>31.74</td><td>2016</td><td>FALSE</td><td>68.26</td><td>36.52</td></tr>\n",
       "</tbody>\n",
       "</table>\n"
      ],
      "text/latex": [
       "A grouped_df: 6 × 6\n",
       "\\begin{tabular}{r|llllll}\n",
       " state & demVote & year & south & other\\_parties\\_vote & abs\\_vote\\_difference\\\\\n",
       " <chr> & <dbl> & <int> & <lgl> & <dbl> & <dbl>\\\\\n",
       "\\hline\n",
       "\t West Virginia & 26.18 & 2016 & FALSE & 73.82 & 47.64\\\\\n",
       "\t Utah          & 27.17 & 2016 & FALSE & 72.83 & 45.66\\\\\n",
       "\t North Dakota  & 27.23 & 2016 & FALSE & 72.77 & 45.54\\\\\n",
       "\t Idaho         & 27.48 & 2016 & FALSE & 72.52 & 45.04\\\\\n",
       "\t Oklahoma      & 28.93 & 2016 & FALSE & 71.07 & 42.14\\\\\n",
       "\t South Dakota  & 31.74 & 2016 & FALSE & 68.26 & 36.52\\\\\n",
       "\\end{tabular}\n"
      ],
      "text/markdown": [
       "\n",
       "A grouped_df: 6 × 6\n",
       "\n",
       "| state &lt;chr&gt; | demVote &lt;dbl&gt; | year &lt;int&gt; | south &lt;lgl&gt; | other_parties_vote &lt;dbl&gt; | abs_vote_difference &lt;dbl&gt; |\n",
       "|---|---|---|---|---|---|\n",
       "| West Virginia | 26.18 | 2016 | FALSE | 73.82 | 47.64 |\n",
       "| Utah          | 27.17 | 2016 | FALSE | 72.83 | 45.66 |\n",
       "| North Dakota  | 27.23 | 2016 | FALSE | 72.77 | 45.54 |\n",
       "| Idaho         | 27.48 | 2016 | FALSE | 72.52 | 45.04 |\n",
       "| Oklahoma      | 28.93 | 2016 | FALSE | 71.07 | 42.14 |\n",
       "| South Dakota  | 31.74 | 2016 | FALSE | 68.26 | 36.52 |\n",
       "\n"
      ],
      "text/plain": [
       "  state         demVote year south other_parties_vote abs_vote_difference\n",
       "1 West Virginia 26.18   2016 FALSE 73.82              47.64              \n",
       "2 Utah          27.17   2016 FALSE 72.83              45.66              \n",
       "3 North Dakota  27.23   2016 FALSE 72.77              45.54              \n",
       "4 Idaho         27.48   2016 FALSE 72.52              45.04              \n",
       "5 Oklahoma      28.93   2016 FALSE 71.07              42.14              \n",
       "6 South Dakota  31.74   2016 FALSE 68.26              36.52              "
      ]
     },
     "metadata": {},
     "output_type": "display_data"
    }
   ],
   "source": [
    "# group_by() to create associations among groups of rows in a data frame\n",
    "# Group observations by state\n",
    "grouped <- group_by(presidentialElections, state)\n",
    "head(grouped)"
   ]
  },
  {
   "cell_type": "code",
   "execution_count": 110,
   "metadata": {},
   "outputs": [
    {
     "data": {
      "text/html": [
       "<table>\n",
       "<caption>A tibble: 6 × 3</caption>\n",
       "<thead>\n",
       "\t<tr><th scope=col>state</th><th scope=col>mean_dem_vote</th><th scope=col>mean_other_parties</th></tr>\n",
       "\t<tr><th scope=col>&lt;chr&gt;</th><th scope=col>&lt;dbl&gt;</th><th scope=col>&lt;dbl&gt;</th></tr>\n",
       "</thead>\n",
       "<tbody>\n",
       "\t<tr><td>Alabama   </td><td>50.75250</td><td>49.24750</td></tr>\n",
       "\t<tr><td>Alaska    </td><td>37.49600</td><td>62.50400</td></tr>\n",
       "\t<tr><td>Arizona   </td><td>45.43545</td><td>54.56455</td></tr>\n",
       "\t<tr><td>Arkansas  </td><td>52.43364</td><td>47.56636</td></tr>\n",
       "\t<tr><td>California</td><td>51.29955</td><td>48.70045</td></tr>\n",
       "\t<tr><td>Colorado  </td><td>45.60955</td><td>54.39045</td></tr>\n",
       "</tbody>\n",
       "</table>\n"
      ],
      "text/latex": [
       "A tibble: 6 × 3\n",
       "\\begin{tabular}{r|lll}\n",
       " state & mean\\_dem\\_vote & mean\\_other\\_parties\\\\\n",
       " <chr> & <dbl> & <dbl>\\\\\n",
       "\\hline\n",
       "\t Alabama    & 50.75250 & 49.24750\\\\\n",
       "\t Alaska     & 37.49600 & 62.50400\\\\\n",
       "\t Arizona    & 45.43545 & 54.56455\\\\\n",
       "\t Arkansas   & 52.43364 & 47.56636\\\\\n",
       "\t California & 51.29955 & 48.70045\\\\\n",
       "\t Colorado   & 45.60955 & 54.39045\\\\\n",
       "\\end{tabular}\n"
      ],
      "text/markdown": [
       "\n",
       "A tibble: 6 × 3\n",
       "\n",
       "| state &lt;chr&gt; | mean_dem_vote &lt;dbl&gt; | mean_other_parties &lt;dbl&gt; |\n",
       "|---|---|---|\n",
       "| Alabama    | 50.75250 | 49.24750 |\n",
       "| Alaska     | 37.49600 | 62.50400 |\n",
       "| Arizona    | 45.43545 | 54.56455 |\n",
       "| Arkansas   | 52.43364 | 47.56636 |\n",
       "| California | 51.29955 | 48.70045 |\n",
       "| Colorado   | 45.60955 | 54.39045 |\n",
       "\n"
      ],
      "text/plain": [
       "  state      mean_dem_vote mean_other_parties\n",
       "1 Alabama    50.75250      49.24750          \n",
       "2 Alaska     37.49600      62.50400          \n",
       "3 Arizona    45.43545      54.56455          \n",
       "4 Arkansas   52.43364      47.56636          \n",
       "5 California 51.29955      48.70045          \n",
       "6 Colorado   45.60955      54.39045          "
      ]
     },
     "metadata": {},
     "output_type": "display_data"
    }
   ],
   "source": [
    "# Once rows are groupped other verbs can be applied, \n",
    "#  and they will be automatically applied to each group\n",
    "state_voting_summary <- presidentialElections %>%\n",
    "    group_by(state) %>%\n",
    "    summarize(\n",
    "        mean_dem_vote = mean(demVote),\n",
    "        mean_other_parties = mean(other_parties_vote)\n",
    "    )\n",
    "head(state_voting_summary)"
   ]
  },
  {
   "cell_type": "markdown",
   "metadata": {},
   "source": [
    "---\n",
    "<a id='tib'></a>"
   ]
  },
  {
   "cell_type": "markdown",
   "metadata": {},
   "source": [
    "## Tibble\n",
    "**Tibble** is a kind of data frame used in tidyverse."
   ]
  },
  {
   "cell_type": "code",
   "execution_count": 112,
   "metadata": {},
   "outputs": [
    {
     "data": {
      "text/html": [
       "<table>\n",
       "<caption>A data.frame: 6 × 3</caption>\n",
       "<thead>\n",
       "\t<tr><th scope=col>state</th><th scope=col>mean_dem_vote</th><th scope=col>mean_other_parties</th></tr>\n",
       "\t<tr><th scope=col>&lt;chr&gt;</th><th scope=col>&lt;dbl&gt;</th><th scope=col>&lt;dbl&gt;</th></tr>\n",
       "</thead>\n",
       "<tbody>\n",
       "\t<tr><td>Alabama   </td><td>50.75250</td><td>49.24750</td></tr>\n",
       "\t<tr><td>Alaska    </td><td>37.49600</td><td>62.50400</td></tr>\n",
       "\t<tr><td>Arizona   </td><td>45.43545</td><td>54.56455</td></tr>\n",
       "\t<tr><td>Arkansas  </td><td>52.43364</td><td>47.56636</td></tr>\n",
       "\t<tr><td>California</td><td>51.29955</td><td>48.70045</td></tr>\n",
       "\t<tr><td>Colorado  </td><td>45.60955</td><td>54.39045</td></tr>\n",
       "</tbody>\n",
       "</table>\n"
      ],
      "text/latex": [
       "A data.frame: 6 × 3\n",
       "\\begin{tabular}{r|lll}\n",
       " state & mean\\_dem\\_vote & mean\\_other\\_parties\\\\\n",
       " <chr> & <dbl> & <dbl>\\\\\n",
       "\\hline\n",
       "\t Alabama    & 50.75250 & 49.24750\\\\\n",
       "\t Alaska     & 37.49600 & 62.50400\\\\\n",
       "\t Arizona    & 45.43545 & 54.56455\\\\\n",
       "\t Arkansas   & 52.43364 & 47.56636\\\\\n",
       "\t California & 51.29955 & 48.70045\\\\\n",
       "\t Colorado   & 45.60955 & 54.39045\\\\\n",
       "\\end{tabular}\n"
      ],
      "text/markdown": [
       "\n",
       "A data.frame: 6 × 3\n",
       "\n",
       "| state &lt;chr&gt; | mean_dem_vote &lt;dbl&gt; | mean_other_parties &lt;dbl&gt; |\n",
       "|---|---|---|\n",
       "| Alabama    | 50.75250 | 49.24750 |\n",
       "| Alaska     | 37.49600 | 62.50400 |\n",
       "| Arizona    | 45.43545 | 54.56455 |\n",
       "| Arkansas   | 52.43364 | 47.56636 |\n",
       "| California | 51.29955 | 48.70045 |\n",
       "| Colorado   | 45.60955 | 54.39045 |\n",
       "\n"
      ],
      "text/plain": [
       "  state      mean_dem_vote mean_other_parties\n",
       "1 Alabama    50.75250      49.24750          \n",
       "2 Alaska     37.49600      62.50400          \n",
       "3 Arizona    45.43545      54.56455          \n",
       "4 Arkansas   52.43364      47.56636          \n",
       "5 California 51.29955      48.70045          \n",
       "6 Colorado   45.60955      54.39045          "
      ]
     },
     "metadata": {},
     "output_type": "display_data"
    }
   ],
   "source": [
    "# convert tibble into a normal data frame\n",
    "normal_df <- as.data.frame(state_voting_summary)\n",
    "head(normal_df)"
   ]
  },
  {
   "cell_type": "markdown",
   "metadata": {},
   "source": [
    "---\n",
    "<a id='join'></a>"
   ]
  },
  {
   "cell_type": "markdown",
   "metadata": {},
   "source": [
    "## Joining Data Frames Together"
   ]
  },
  {
   "cell_type": "code",
   "execution_count": null,
   "metadata": {},
   "outputs": [],
   "source": [
    "# Combine (join) donations and donors data frames by their shared column donor_name\n",
    "combined_data <- left_join(donations, donors, by = \"donor_name\")\n",
    "\n",
    "# When the tables have different identifiers\n",
    "combined_data <- left_join(donations, donors, by = c(\"donor_name\" = \"another_column\"))"
   ]
  },
  {
   "cell_type": "code",
   "execution_count": null,
   "metadata": {},
   "outputs": [],
   "source": [
    "right_join()\n",
    "inner_join()\n",
    "full_join()"
   ]
  },
  {
   "cell_type": "code",
   "execution_count": null,
   "metadata": {},
   "outputs": [],
   "source": []
  },
  {
   "cell_type": "code",
   "execution_count": null,
   "metadata": {},
   "outputs": [],
   "source": [
    "---\n",
    "<a id='dataframe'></a>"
   ]
  },
  {
   "cell_type": "code",
   "execution_count": null,
   "metadata": {},
   "outputs": [],
   "source": []
  }
 ],
 "metadata": {
  "kernelspec": {
   "display_name": "R",
   "language": "R",
   "name": "ir"
  },
  "language_info": {
   "codemirror_mode": "r",
   "file_extension": ".r",
   "mimetype": "text/x-r-source",
   "name": "R",
   "pygments_lexer": "r",
   "version": "3.6.1"
  }
 },
 "nbformat": 4,
 "nbformat_minor": 4
}

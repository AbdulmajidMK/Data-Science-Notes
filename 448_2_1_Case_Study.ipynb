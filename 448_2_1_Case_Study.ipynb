{
 "cells": [
  {
   "cell_type": "raw",
   "metadata": {},
   "source": [
    "From: https://github.com/ksatola\n",
    "Version: 1.0.0"
   ]
  },
  {
   "cell_type": "markdown",
   "metadata": {},
   "source": [
    "# Building a value-weighted index\n",
    "\n",
    "In this notebook you create a **value-weighted index**. This index uses market-cap data contained in the stock exchange listings to calculate weights and 2016 stock price information. Index performance is then compared against benchmarks to evaluate the performance of the index you created."
   ]
  },
  {
   "cell_type": "markdown",
   "metadata": {},
   "source": [
    "## Table of Contents\n",
    "\n",
    "- [Select index components & import data](#intro)\n",
    "- [Build a market-cap weighted index](#build)\n",
    "- [Evaluate index performance](#eval)\n",
    "- [Index correlation & exporting to excel](#corr)"
   ]
  },
  {
   "cell_type": "code",
   "execution_count": 76,
   "metadata": {},
   "outputs": [],
   "source": [
    "import pandas as pd\n",
    "import numpy as np\n",
    "import matplotlib.pyplot as plt\n",
    "%matplotlib inline\n",
    "import seaborn as sns\n",
    "\n",
    "path = \"data/dc27/\""
   ]
  },
  {
   "cell_type": "markdown",
   "metadata": {},
   "source": [
    "---\n",
    "<a id='intro'></a>"
   ]
  },
  {
   "cell_type": "markdown",
   "metadata": {},
   "source": [
    "## Select index components & import data"
   ]
  },
  {
   "cell_type": "markdown",
   "metadata": {},
   "source": [
    "## Explore and clean company listing information\n",
    "\n",
    "To get started with the construction of a **market-value based index**, you'll work with the combined listing info for the three largest US stock exchanges, the NYSE, the NASDAQ and the AMEX.\n",
    "\n",
    "In this and the next exercise, you will calculate **market-cap weights** for these stocks.\n",
    "\n",
    "We have already imported pandas as pd, and loaded the `listings` data set with listings information from the NYSE, NASDAQ, and AMEX. The column 'Market Capitalization' is already measured in USD mn."
   ]
  },
  {
   "cell_type": "code",
   "execution_count": 5,
   "metadata": {},
   "outputs": [
    {
     "data": {
      "text/html": [
       "<div>\n",
       "<style scoped>\n",
       "    .dataframe tbody tr th:only-of-type {\n",
       "        vertical-align: middle;\n",
       "    }\n",
       "\n",
       "    .dataframe tbody tr th {\n",
       "        vertical-align: top;\n",
       "    }\n",
       "\n",
       "    .dataframe thead th {\n",
       "        text-align: right;\n",
       "    }\n",
       "</style>\n",
       "<table border=\"1\" class=\"dataframe\">\n",
       "  <thead>\n",
       "    <tr style=\"text-align: right;\">\n",
       "      <th></th>\n",
       "      <th>Exchange</th>\n",
       "      <th>Stock Symbol</th>\n",
       "      <th>Company Name</th>\n",
       "      <th>Last Sale</th>\n",
       "      <th>Market Capitalization</th>\n",
       "      <th>IPO Year</th>\n",
       "      <th>Sector</th>\n",
       "      <th>Industry</th>\n",
       "    </tr>\n",
       "  </thead>\n",
       "  <tbody>\n",
       "    <tr>\n",
       "      <td>0</td>\n",
       "      <td>amex</td>\n",
       "      <td>XXII</td>\n",
       "      <td>22nd Century Group, Inc</td>\n",
       "      <td>1.3300</td>\n",
       "      <td>120.628490</td>\n",
       "      <td>NaN</td>\n",
       "      <td>Consumer Non-Durables</td>\n",
       "      <td>Farming/Seeds/Milling</td>\n",
       "    </tr>\n",
       "    <tr>\n",
       "      <td>1</td>\n",
       "      <td>amex</td>\n",
       "      <td>FAX</td>\n",
       "      <td>Aberdeen Asia-Pacific Income Fund Inc</td>\n",
       "      <td>5.0000</td>\n",
       "      <td>1266.332595</td>\n",
       "      <td>1986.0</td>\n",
       "      <td>NaN</td>\n",
       "      <td>NaN</td>\n",
       "    </tr>\n",
       "    <tr>\n",
       "      <td>2</td>\n",
       "      <td>amex</td>\n",
       "      <td>IAF</td>\n",
       "      <td>Aberdeen Australia Equity Fund Inc</td>\n",
       "      <td>6.1500</td>\n",
       "      <td>139.865305</td>\n",
       "      <td>NaN</td>\n",
       "      <td>NaN</td>\n",
       "      <td>NaN</td>\n",
       "    </tr>\n",
       "    <tr>\n",
       "      <td>3</td>\n",
       "      <td>amex</td>\n",
       "      <td>CH</td>\n",
       "      <td>Aberdeen Chile Fund, Inc.</td>\n",
       "      <td>7.2201</td>\n",
       "      <td>67.563458</td>\n",
       "      <td>NaN</td>\n",
       "      <td>NaN</td>\n",
       "      <td>NaN</td>\n",
       "    </tr>\n",
       "    <tr>\n",
       "      <td>4</td>\n",
       "      <td>amex</td>\n",
       "      <td>ABE</td>\n",
       "      <td>Aberdeen Emerging Markets Smaller Company Oppo...</td>\n",
       "      <td>13.3600</td>\n",
       "      <td>128.842972</td>\n",
       "      <td>NaN</td>\n",
       "      <td>NaN</td>\n",
       "      <td>NaN</td>\n",
       "    </tr>\n",
       "  </tbody>\n",
       "</table>\n",
       "</div>"
      ],
      "text/plain": [
       "  Exchange    Stock Symbol                                       Company Name  \\\n",
       "0     amex            XXII                            22nd Century Group, Inc   \n",
       "1     amex             FAX              Aberdeen Asia-Pacific Income Fund Inc   \n",
       "2     amex             IAF                 Aberdeen Australia Equity Fund Inc   \n",
       "3     amex              CH                          Aberdeen Chile Fund, Inc.   \n",
       "4     amex  ABE             Aberdeen Emerging Markets Smaller Company Oppo...   \n",
       "\n",
       "   Last Sale  Market Capitalization  IPO Year                 Sector  \\\n",
       "0     1.3300             120.628490       NaN  Consumer Non-Durables   \n",
       "1     5.0000            1266.332595    1986.0                    NaN   \n",
       "2     6.1500             139.865305       NaN                    NaN   \n",
       "3     7.2201              67.563458       NaN                    NaN   \n",
       "4    13.3600             128.842972       NaN                    NaN   \n",
       "\n",
       "                Industry  \n",
       "0  Farming/Seeds/Milling  \n",
       "1                    NaN  \n",
       "2                    NaN  \n",
       "3                    NaN  \n",
       "4                    NaN  "
      ]
     },
     "execution_count": 5,
     "metadata": {},
     "output_type": "execute_result"
    }
   ],
   "source": [
    "listings = pd.read_csv(path+'listings.csv', index_col=0)\n",
    "listings.head()"
   ]
  },
  {
   "cell_type": "code",
   "execution_count": 6,
   "metadata": {},
   "outputs": [
    {
     "name": "stdout",
     "output_type": "stream",
     "text": [
      "<class 'pandas.core.frame.DataFrame'>\n",
      "Int64Index: 6674 entries, 0 to 6673\n",
      "Data columns (total 8 columns):\n",
      "Exchange                 6674 non-null object\n",
      "Stock Symbol             6674 non-null object\n",
      "Company Name             6674 non-null object\n",
      "Last Sale                6590 non-null float64\n",
      "Market Capitalization    6674 non-null float64\n",
      "IPO Year                 2852 non-null float64\n",
      "Sector                   5182 non-null object\n",
      "Industry                 5182 non-null object\n",
      "dtypes: float64(3), object(5)\n",
      "memory usage: 469.3+ KB\n",
      "None\n"
     ]
    }
   ],
   "source": [
    "# Inspect listings\n",
    "print(listings.info())"
   ]
  },
  {
   "cell_type": "code",
   "execution_count": 7,
   "metadata": {},
   "outputs": [
    {
     "data": {
      "text/html": [
       "<div>\n",
       "<style scoped>\n",
       "    .dataframe tbody tr th:only-of-type {\n",
       "        vertical-align: middle;\n",
       "    }\n",
       "\n",
       "    .dataframe tbody tr th {\n",
       "        vertical-align: top;\n",
       "    }\n",
       "\n",
       "    .dataframe thead th {\n",
       "        text-align: right;\n",
       "    }\n",
       "</style>\n",
       "<table border=\"1\" class=\"dataframe\">\n",
       "  <thead>\n",
       "    <tr style=\"text-align: right;\">\n",
       "      <th></th>\n",
       "      <th>Exchange</th>\n",
       "      <th>Company Name</th>\n",
       "      <th>Last Sale</th>\n",
       "      <th>Market Capitalization</th>\n",
       "      <th>IPO Year</th>\n",
       "      <th>Sector</th>\n",
       "      <th>Industry</th>\n",
       "    </tr>\n",
       "    <tr>\n",
       "      <th>Stock Symbol</th>\n",
       "      <th></th>\n",
       "      <th></th>\n",
       "      <th></th>\n",
       "      <th></th>\n",
       "      <th></th>\n",
       "      <th></th>\n",
       "      <th></th>\n",
       "    </tr>\n",
       "  </thead>\n",
       "  <tbody>\n",
       "    <tr>\n",
       "      <td>XXII</td>\n",
       "      <td>amex</td>\n",
       "      <td>22nd Century Group, Inc</td>\n",
       "      <td>1.3300</td>\n",
       "      <td>120.628490</td>\n",
       "      <td>NaN</td>\n",
       "      <td>Consumer Non-Durables</td>\n",
       "      <td>Farming/Seeds/Milling</td>\n",
       "    </tr>\n",
       "    <tr>\n",
       "      <td>FAX</td>\n",
       "      <td>amex</td>\n",
       "      <td>Aberdeen Asia-Pacific Income Fund Inc</td>\n",
       "      <td>5.0000</td>\n",
       "      <td>1266.332595</td>\n",
       "      <td>1986.0</td>\n",
       "      <td>NaN</td>\n",
       "      <td>NaN</td>\n",
       "    </tr>\n",
       "    <tr>\n",
       "      <td>IAF</td>\n",
       "      <td>amex</td>\n",
       "      <td>Aberdeen Australia Equity Fund Inc</td>\n",
       "      <td>6.1500</td>\n",
       "      <td>139.865305</td>\n",
       "      <td>NaN</td>\n",
       "      <td>NaN</td>\n",
       "      <td>NaN</td>\n",
       "    </tr>\n",
       "    <tr>\n",
       "      <td>CH</td>\n",
       "      <td>amex</td>\n",
       "      <td>Aberdeen Chile Fund, Inc.</td>\n",
       "      <td>7.2201</td>\n",
       "      <td>67.563458</td>\n",
       "      <td>NaN</td>\n",
       "      <td>NaN</td>\n",
       "      <td>NaN</td>\n",
       "    </tr>\n",
       "    <tr>\n",
       "      <td>ABE</td>\n",
       "      <td>amex</td>\n",
       "      <td>Aberdeen Emerging Markets Smaller Company Oppo...</td>\n",
       "      <td>13.3600</td>\n",
       "      <td>128.842972</td>\n",
       "      <td>NaN</td>\n",
       "      <td>NaN</td>\n",
       "      <td>NaN</td>\n",
       "    </tr>\n",
       "  </tbody>\n",
       "</table>\n",
       "</div>"
      ],
      "text/plain": [
       "               Exchange                                       Company Name  \\\n",
       "Stock Symbol                                                                 \n",
       "XXII               amex                            22nd Century Group, Inc   \n",
       "FAX                amex              Aberdeen Asia-Pacific Income Fund Inc   \n",
       "IAF                amex                 Aberdeen Australia Equity Fund Inc   \n",
       "CH                 amex                          Aberdeen Chile Fund, Inc.   \n",
       "ABE                amex  Aberdeen Emerging Markets Smaller Company Oppo...   \n",
       "\n",
       "                Last Sale  Market Capitalization  IPO Year  \\\n",
       "Stock Symbol                                                 \n",
       "XXII               1.3300             120.628490       NaN   \n",
       "FAX                5.0000            1266.332595    1986.0   \n",
       "IAF                6.1500             139.865305       NaN   \n",
       "CH                 7.2201              67.563458       NaN   \n",
       "ABE               13.3600             128.842972       NaN   \n",
       "\n",
       "                               Sector               Industry  \n",
       "Stock Symbol                                                  \n",
       "XXII            Consumer Non-Durables  Farming/Seeds/Milling  \n",
       "FAX                               NaN                    NaN  \n",
       "IAF                               NaN                    NaN  \n",
       "CH                                NaN                    NaN  \n",
       "ABE                               NaN                    NaN  "
      ]
     },
     "execution_count": 7,
     "metadata": {},
     "output_type": "execute_result"
    }
   ],
   "source": [
    "# Move 'stock symbol' into the index\n",
    "listings.set_index('Stock Symbol', inplace=True)\n",
    "listings.head()"
   ]
  },
  {
   "cell_type": "code",
   "execution_count": 8,
   "metadata": {},
   "outputs": [
    {
     "data": {
      "text/html": [
       "<div>\n",
       "<style scoped>\n",
       "    .dataframe tbody tr th:only-of-type {\n",
       "        vertical-align: middle;\n",
       "    }\n",
       "\n",
       "    .dataframe tbody tr th {\n",
       "        vertical-align: top;\n",
       "    }\n",
       "\n",
       "    .dataframe thead th {\n",
       "        text-align: right;\n",
       "    }\n",
       "</style>\n",
       "<table border=\"1\" class=\"dataframe\">\n",
       "  <thead>\n",
       "    <tr style=\"text-align: right;\">\n",
       "      <th></th>\n",
       "      <th>Exchange</th>\n",
       "      <th>Company Name</th>\n",
       "      <th>Last Sale</th>\n",
       "      <th>Market Capitalization</th>\n",
       "      <th>IPO Year</th>\n",
       "      <th>Sector</th>\n",
       "      <th>Industry</th>\n",
       "    </tr>\n",
       "    <tr>\n",
       "      <th>Stock Symbol</th>\n",
       "      <th></th>\n",
       "      <th></th>\n",
       "      <th></th>\n",
       "      <th></th>\n",
       "      <th></th>\n",
       "      <th></th>\n",
       "      <th></th>\n",
       "    </tr>\n",
       "  </thead>\n",
       "  <tbody>\n",
       "    <tr>\n",
       "      <td>XXII</td>\n",
       "      <td>amex</td>\n",
       "      <td>22nd Century Group, Inc</td>\n",
       "      <td>1.33</td>\n",
       "      <td>120.628490</td>\n",
       "      <td>NaN</td>\n",
       "      <td>Consumer Non-Durables</td>\n",
       "      <td>Farming/Seeds/Milling</td>\n",
       "    </tr>\n",
       "    <tr>\n",
       "      <td>ACU</td>\n",
       "      <td>amex</td>\n",
       "      <td>Acme United Corporation.</td>\n",
       "      <td>27.39</td>\n",
       "      <td>91.138992</td>\n",
       "      <td>1988.0</td>\n",
       "      <td>Capital Goods</td>\n",
       "      <td>Industrial Machinery/Components</td>\n",
       "    </tr>\n",
       "    <tr>\n",
       "      <td>AIII</td>\n",
       "      <td>amex</td>\n",
       "      <td>ACRE Realty Investors, Inc.</td>\n",
       "      <td>1.16</td>\n",
       "      <td>23.768939</td>\n",
       "      <td>NaN</td>\n",
       "      <td>Consumer Services</td>\n",
       "      <td>Real Estate Investment Trusts</td>\n",
       "    </tr>\n",
       "    <tr>\n",
       "      <td>ATNM</td>\n",
       "      <td>amex</td>\n",
       "      <td>Actinium Pharmaceuticals, Inc.</td>\n",
       "      <td>1.47</td>\n",
       "      <td>82.037381</td>\n",
       "      <td>NaN</td>\n",
       "      <td>Health Care</td>\n",
       "      <td>Major Pharmaceuticals</td>\n",
       "    </tr>\n",
       "    <tr>\n",
       "      <td>AE</td>\n",
       "      <td>amex</td>\n",
       "      <td>Adams Resources &amp; Energy, Inc.</td>\n",
       "      <td>37.80</td>\n",
       "      <td>159.425129</td>\n",
       "      <td>NaN</td>\n",
       "      <td>Energy</td>\n",
       "      <td>Oil Refining/Marketing</td>\n",
       "    </tr>\n",
       "  </tbody>\n",
       "</table>\n",
       "</div>"
      ],
      "text/plain": [
       "             Exchange                    Company Name  Last Sale  \\\n",
       "Stock Symbol                                                       \n",
       "XXII             amex         22nd Century Group, Inc       1.33   \n",
       "ACU              amex        Acme United Corporation.      27.39   \n",
       "AIII             amex     ACRE Realty Investors, Inc.       1.16   \n",
       "ATNM             amex  Actinium Pharmaceuticals, Inc.       1.47   \n",
       "AE               amex  Adams Resources & Energy, Inc.      37.80   \n",
       "\n",
       "              Market Capitalization  IPO Year                 Sector  \\\n",
       "Stock Symbol                                                           \n",
       "XXII                     120.628490       NaN  Consumer Non-Durables   \n",
       "ACU                       91.138992    1988.0          Capital Goods   \n",
       "AIII                      23.768939       NaN      Consumer Services   \n",
       "ATNM                      82.037381       NaN            Health Care   \n",
       "AE                       159.425129       NaN                 Energy   \n",
       "\n",
       "                                     Industry  \n",
       "Stock Symbol                                   \n",
       "XXII                    Farming/Seeds/Milling  \n",
       "ACU           Industrial Machinery/Components  \n",
       "AIII            Real Estate Investment Trusts  \n",
       "ATNM                    Major Pharmaceuticals  \n",
       "AE                     Oil Refining/Marketing  "
      ]
     },
     "execution_count": 8,
     "metadata": {},
     "output_type": "execute_result"
    }
   ],
   "source": [
    "# Drop rows with missing 'sector' data\n",
    "listings.dropna(subset=['Sector'], inplace=True)\n",
    "listings.head()"
   ]
  },
  {
   "cell_type": "code",
   "execution_count": 9,
   "metadata": {},
   "outputs": [
    {
     "data": {
      "text/html": [
       "<div>\n",
       "<style scoped>\n",
       "    .dataframe tbody tr th:only-of-type {\n",
       "        vertical-align: middle;\n",
       "    }\n",
       "\n",
       "    .dataframe tbody tr th {\n",
       "        vertical-align: top;\n",
       "    }\n",
       "\n",
       "    .dataframe thead th {\n",
       "        text-align: right;\n",
       "    }\n",
       "</style>\n",
       "<table border=\"1\" class=\"dataframe\">\n",
       "  <thead>\n",
       "    <tr style=\"text-align: right;\">\n",
       "      <th></th>\n",
       "      <th>Exchange</th>\n",
       "      <th>Company Name</th>\n",
       "      <th>Last Sale</th>\n",
       "      <th>Market Capitalization</th>\n",
       "      <th>IPO Year</th>\n",
       "      <th>Sector</th>\n",
       "      <th>Industry</th>\n",
       "    </tr>\n",
       "    <tr>\n",
       "      <th>Stock Symbol</th>\n",
       "      <th></th>\n",
       "      <th></th>\n",
       "      <th></th>\n",
       "      <th></th>\n",
       "      <th></th>\n",
       "      <th></th>\n",
       "      <th></th>\n",
       "    </tr>\n",
       "  </thead>\n",
       "  <tbody>\n",
       "    <tr>\n",
       "      <td>ACU</td>\n",
       "      <td>amex</td>\n",
       "      <td>Acme United Corporation.</td>\n",
       "      <td>27.3900</td>\n",
       "      <td>91.138992</td>\n",
       "      <td>1988.0</td>\n",
       "      <td>Capital Goods</td>\n",
       "      <td>Industrial Machinery/Components</td>\n",
       "    </tr>\n",
       "    <tr>\n",
       "      <td>AAU</td>\n",
       "      <td>amex</td>\n",
       "      <td>Almaden Minerals, Ltd.</td>\n",
       "      <td>1.7200</td>\n",
       "      <td>154.891745</td>\n",
       "      <td>2015.0</td>\n",
       "      <td>Basic Industries</td>\n",
       "      <td>Precious Metals</td>\n",
       "    </tr>\n",
       "    <tr>\n",
       "      <td>USAS</td>\n",
       "      <td>amex</td>\n",
       "      <td>Americas Silver Corporation</td>\n",
       "      <td>3.0500</td>\n",
       "      <td>120.694838</td>\n",
       "      <td>2017.0</td>\n",
       "      <td>Basic Industries</td>\n",
       "      <td>Precious Metals</td>\n",
       "    </tr>\n",
       "    <tr>\n",
       "      <td>AINC</td>\n",
       "      <td>amex</td>\n",
       "      <td>Ashford Inc.</td>\n",
       "      <td>57.3373</td>\n",
       "      <td>115.550771</td>\n",
       "      <td>2014.0</td>\n",
       "      <td>Consumer Services</td>\n",
       "      <td>Professional Services</td>\n",
       "    </tr>\n",
       "    <tr>\n",
       "      <td>AUXO</td>\n",
       "      <td>amex</td>\n",
       "      <td>Auxilio, Inc.</td>\n",
       "      <td>6.3043</td>\n",
       "      <td>59.131037</td>\n",
       "      <td>2017.0</td>\n",
       "      <td>Miscellaneous</td>\n",
       "      <td>Business Services</td>\n",
       "    </tr>\n",
       "  </tbody>\n",
       "</table>\n",
       "</div>"
      ],
      "text/plain": [
       "             Exchange                 Company Name  Last Sale  \\\n",
       "Stock Symbol                                                    \n",
       "ACU              amex     Acme United Corporation.    27.3900   \n",
       "AAU              amex       Almaden Minerals, Ltd.     1.7200   \n",
       "USAS             amex  Americas Silver Corporation     3.0500   \n",
       "AINC             amex                 Ashford Inc.    57.3373   \n",
       "AUXO             amex                Auxilio, Inc.     6.3043   \n",
       "\n",
       "              Market Capitalization  IPO Year             Sector  \\\n",
       "Stock Symbol                                                       \n",
       "ACU                       91.138992    1988.0      Capital Goods   \n",
       "AAU                      154.891745    2015.0   Basic Industries   \n",
       "USAS                     120.694838    2017.0   Basic Industries   \n",
       "AINC                     115.550771    2014.0  Consumer Services   \n",
       "AUXO                      59.131037    2017.0      Miscellaneous   \n",
       "\n",
       "                                     Industry  \n",
       "Stock Symbol                                   \n",
       "ACU           Industrial Machinery/Components  \n",
       "AAU                           Precious Metals  \n",
       "USAS                          Precious Metals  \n",
       "AINC                    Professional Services  \n",
       "AUXO                        Business Services  "
      ]
     },
     "execution_count": 9,
     "metadata": {},
     "output_type": "execute_result"
    }
   ],
   "source": [
    "# Select companies with IPO Year before 2019\n",
    "listings = listings.loc[listings['IPO Year'] < 2019]\n",
    "listings.head()"
   ]
  },
  {
   "cell_type": "code",
   "execution_count": 10,
   "metadata": {},
   "outputs": [
    {
     "name": "stdout",
     "output_type": "stream",
     "text": [
      "<class 'pandas.core.frame.DataFrame'>\n",
      "Index: 2349 entries, ACU to ZTO\n",
      "Data columns (total 7 columns):\n",
      "Exchange                 2349 non-null object\n",
      "Company Name             2349 non-null object\n",
      "Last Sale                2349 non-null float64\n",
      "Market Capitalization    2349 non-null float64\n",
      "IPO Year                 2349 non-null float64\n",
      "Sector                   2349 non-null object\n",
      "Industry                 2349 non-null object\n",
      "dtypes: float64(3), object(4)\n",
      "memory usage: 146.8+ KB\n",
      "None\n"
     ]
    }
   ],
   "source": [
    "# Inspect the new listings data\n",
    "print(listings.info())"
   ]
  },
  {
   "cell_type": "code",
   "execution_count": 11,
   "metadata": {},
   "outputs": [
    {
     "name": "stdout",
     "output_type": "stream",
     "text": [
      "Sector\n",
      "Health Care              445\n",
      "Consumer Services        402\n",
      "Technology               386\n",
      "Finance                  351\n",
      "Energy                   144\n",
      "Capital Goods            143\n",
      "Public Utilities         104\n",
      "Basic Industries         104\n",
      "Consumer Non-Durables     89\n",
      "Miscellaneous             68\n",
      "Transportation            58\n",
      "Consumer Durables         55\n",
      "dtype: int64\n"
     ]
    }
   ],
   "source": [
    "# Show the number of companies per sector\n",
    "print(listings.groupby('Sector').size().sort_values(ascending=False))"
   ]
  },
  {
   "cell_type": "markdown",
   "metadata": {},
   "source": [
    "## Select and inspect index components\n",
    "\n",
    "Now that you have imported and cleaned the `listings` data, you can proceed to select the index components as the largest company for each sector by market capitalization.\n",
    "\n",
    "You'll also have the opportunity to take a closer look at the components, their last market value, and last price."
   ]
  },
  {
   "cell_type": "code",
   "execution_count": 17,
   "metadata": {},
   "outputs": [],
   "source": [
    "# Select largest company for each sector\n",
    "components = listings.groupby('Sector')['Market Capitalization'].nlargest(1)"
   ]
  },
  {
   "cell_type": "code",
   "execution_count": 16,
   "metadata": {},
   "outputs": [
    {
     "name": "stdout",
     "output_type": "stream",
     "text": [
      "Sector                 Stock Symbol\n",
      "Technology             AAPL            740024.467000\n",
      "Consumer Services      AMZN            422138.530626\n",
      "Miscellaneous          BABA            275525.000000\n",
      "Health Care            AMGN            118927.210535\n",
      "Transportation         UPS              90180.886756\n",
      "Finance                GS               88840.590477\n",
      "Consumer Non-Durables  ABEV             88240.198455\n",
      "Basic Industries       RIO              70431.476895\n",
      "Public Utilities       TEF              54609.806092\n",
      "Capital Goods          GM               50086.335099\n",
      "Energy                 PAA              22223.001416\n",
      "Consumer Durables      CPRT             13620.922869\n",
      "Name: Market Capitalization, dtype: float64\n"
     ]
    }
   ],
   "source": [
    "# Print components, sorted by market cap\n",
    "print(components.sort_values(ascending=False))"
   ]
  },
  {
   "cell_type": "code",
   "execution_count": 18,
   "metadata": {},
   "outputs": [
    {
     "name": "stdout",
     "output_type": "stream",
     "text": [
      "Index(['RIO', 'GM', 'CPRT', 'ABEV', 'AMZN', 'PAA', 'GS', 'AMGN', 'BABA', 'TEF',\n",
      "       'AAPL', 'UPS'],\n",
      "      dtype='object', name='Stock Symbol')\n"
     ]
    }
   ],
   "source": [
    "# Select stock symbols and print the result\n",
    "tickers = components.index.get_level_values('Stock Symbol')\n",
    "print(tickers)"
   ]
  },
  {
   "cell_type": "code",
   "execution_count": 20,
   "metadata": {},
   "outputs": [
    {
     "data": {
      "text/html": [
       "<div>\n",
       "<style scoped>\n",
       "    .dataframe tbody tr th:only-of-type {\n",
       "        vertical-align: middle;\n",
       "    }\n",
       "\n",
       "    .dataframe tbody tr th {\n",
       "        vertical-align: top;\n",
       "    }\n",
       "\n",
       "    .dataframe thead th {\n",
       "        text-align: right;\n",
       "    }\n",
       "</style>\n",
       "<table border=\"1\" class=\"dataframe\">\n",
       "  <thead>\n",
       "    <tr style=\"text-align: right;\">\n",
       "      <th></th>\n",
       "      <th>Company Name</th>\n",
       "      <th>Market Capitalization</th>\n",
       "      <th>Last Sale</th>\n",
       "    </tr>\n",
       "    <tr>\n",
       "      <th>Stock Symbol</th>\n",
       "      <th></th>\n",
       "      <th></th>\n",
       "      <th></th>\n",
       "    </tr>\n",
       "  </thead>\n",
       "  <tbody>\n",
       "    <tr>\n",
       "      <td>AAPL</td>\n",
       "      <td>Apple Inc.</td>\n",
       "      <td>740024.467000</td>\n",
       "      <td>141.05</td>\n",
       "    </tr>\n",
       "    <tr>\n",
       "      <td>AMZN</td>\n",
       "      <td>Amazon.com, Inc.</td>\n",
       "      <td>422138.530626</td>\n",
       "      <td>884.67</td>\n",
       "    </tr>\n",
       "    <tr>\n",
       "      <td>BABA</td>\n",
       "      <td>Alibaba Group Holding Limited</td>\n",
       "      <td>275525.000000</td>\n",
       "      <td>110.21</td>\n",
       "    </tr>\n",
       "    <tr>\n",
       "      <td>AMGN</td>\n",
       "      <td>Amgen Inc.</td>\n",
       "      <td>118927.210535</td>\n",
       "      <td>161.61</td>\n",
       "    </tr>\n",
       "    <tr>\n",
       "      <td>UPS</td>\n",
       "      <td>United Parcel Service, Inc.</td>\n",
       "      <td>90180.886756</td>\n",
       "      <td>103.74</td>\n",
       "    </tr>\n",
       "    <tr>\n",
       "      <td>GS</td>\n",
       "      <td>Goldman Sachs Group, Inc. (The)</td>\n",
       "      <td>88840.590477</td>\n",
       "      <td>223.32</td>\n",
       "    </tr>\n",
       "    <tr>\n",
       "      <td>ABEV</td>\n",
       "      <td>Ambev S.A.</td>\n",
       "      <td>88240.198455</td>\n",
       "      <td>5.62</td>\n",
       "    </tr>\n",
       "    <tr>\n",
       "      <td>RIO</td>\n",
       "      <td>Rio Tinto Plc</td>\n",
       "      <td>70431.476895</td>\n",
       "      <td>38.94</td>\n",
       "    </tr>\n",
       "    <tr>\n",
       "      <td>TEF</td>\n",
       "      <td>Telefonica SA</td>\n",
       "      <td>54609.806092</td>\n",
       "      <td>10.84</td>\n",
       "    </tr>\n",
       "    <tr>\n",
       "      <td>GM</td>\n",
       "      <td>General Motors Company</td>\n",
       "      <td>50086.335099</td>\n",
       "      <td>33.39</td>\n",
       "    </tr>\n",
       "    <tr>\n",
       "      <td>PAA</td>\n",
       "      <td>Plains All American Pipeline, L.P.</td>\n",
       "      <td>22223.001416</td>\n",
       "      <td>30.72</td>\n",
       "    </tr>\n",
       "    <tr>\n",
       "      <td>CPRT</td>\n",
       "      <td>Copart, Inc.</td>\n",
       "      <td>13620.922869</td>\n",
       "      <td>29.65</td>\n",
       "    </tr>\n",
       "  </tbody>\n",
       "</table>\n",
       "</div>"
      ],
      "text/plain": [
       "                                    Company Name  Market Capitalization  \\\n",
       "Stock Symbol                                                              \n",
       "AAPL                                  Apple Inc.          740024.467000   \n",
       "AMZN                            Amazon.com, Inc.          422138.530626   \n",
       "BABA               Alibaba Group Holding Limited          275525.000000   \n",
       "AMGN                                  Amgen Inc.          118927.210535   \n",
       "UPS                  United Parcel Service, Inc.           90180.886756   \n",
       "GS               Goldman Sachs Group, Inc. (The)           88840.590477   \n",
       "ABEV                                  Ambev S.A.           88240.198455   \n",
       "RIO                                Rio Tinto Plc           70431.476895   \n",
       "TEF                                Telefonica SA           54609.806092   \n",
       "GM                        General Motors Company           50086.335099   \n",
       "PAA           Plains All American Pipeline, L.P.           22223.001416   \n",
       "CPRT                                Copart, Inc.           13620.922869   \n",
       "\n",
       "              Last Sale  \n",
       "Stock Symbol             \n",
       "AAPL             141.05  \n",
       "AMZN             884.67  \n",
       "BABA             110.21  \n",
       "AMGN             161.61  \n",
       "UPS              103.74  \n",
       "GS               223.32  \n",
       "ABEV               5.62  \n",
       "RIO               38.94  \n",
       "TEF               10.84  \n",
       "GM                33.39  \n",
       "PAA               30.72  \n",
       "CPRT              29.65  "
      ]
     },
     "execution_count": 20,
     "metadata": {},
     "output_type": "execute_result"
    }
   ],
   "source": [
    "# Print company name, market cap, and last price for each component\n",
    "info_cols = ['Company Name', 'Market Capitalization', 'Last Sale']\n",
    "info_cols = listings.loc[tickers, info_cols].sort_values('Market Capitalization', ascending=False)\n",
    "info_cols"
   ]
  },
  {
   "cell_type": "markdown",
   "metadata": {},
   "source": [
    "## Import index component price information\n",
    "\n",
    "Now you'll use the stock symbols for the companies you selected in the last exercise to calculate returns for each company."
   ]
  },
  {
   "cell_type": "code",
   "execution_count": 21,
   "metadata": {},
   "outputs": [
    {
     "name": "stdout",
     "output_type": "stream",
     "text": [
      "Index(['RIO', 'GM', 'CPRT', 'ABEV', 'AMZN', 'PAA', 'GS', 'AMGN', 'BABA', 'TEF',\n",
      "       'AAPL', 'UPS'],\n",
      "      dtype='object', name='Stock Symbol')\n"
     ]
    }
   ],
   "source": [
    "# Print tickers\n",
    "print(tickers)"
   ]
  },
  {
   "cell_type": "code",
   "execution_count": 22,
   "metadata": {},
   "outputs": [
    {
     "name": "stdout",
     "output_type": "stream",
     "text": [
      "<class 'pandas.core.frame.DataFrame'>\n",
      "DatetimeIndex: 1762 entries, 2010-01-04 to 2016-12-30\n",
      "Data columns (total 12 columns):\n",
      "AAPL    1761 non-null float64\n",
      "AMGN    1761 non-null float64\n",
      "AMZN    1761 non-null float64\n",
      "CPRT    1761 non-null float64\n",
      "EL      1762 non-null float64\n",
      "GS      1762 non-null float64\n",
      "ILMN    1761 non-null float64\n",
      "MA      1762 non-null float64\n",
      "PAA     1762 non-null float64\n",
      "RIO     1762 non-null float64\n",
      "TEF     1762 non-null float64\n",
      "UPS     1762 non-null float64\n",
      "dtypes: float64(12)\n",
      "memory usage: 179.0 KB\n",
      "None\n"
     ]
    },
    {
     "data": {
      "text/html": [
       "<div>\n",
       "<style scoped>\n",
       "    .dataframe tbody tr th:only-of-type {\n",
       "        vertical-align: middle;\n",
       "    }\n",
       "\n",
       "    .dataframe tbody tr th {\n",
       "        vertical-align: top;\n",
       "    }\n",
       "\n",
       "    .dataframe thead th {\n",
       "        text-align: right;\n",
       "    }\n",
       "</style>\n",
       "<table border=\"1\" class=\"dataframe\">\n",
       "  <thead>\n",
       "    <tr style=\"text-align: right;\">\n",
       "      <th></th>\n",
       "      <th>AAPL</th>\n",
       "      <th>AMGN</th>\n",
       "      <th>AMZN</th>\n",
       "      <th>CPRT</th>\n",
       "      <th>EL</th>\n",
       "      <th>GS</th>\n",
       "      <th>ILMN</th>\n",
       "      <th>MA</th>\n",
       "      <th>PAA</th>\n",
       "      <th>RIO</th>\n",
       "      <th>TEF</th>\n",
       "      <th>UPS</th>\n",
       "    </tr>\n",
       "    <tr>\n",
       "      <th>Date</th>\n",
       "      <th></th>\n",
       "      <th></th>\n",
       "      <th></th>\n",
       "      <th></th>\n",
       "      <th></th>\n",
       "      <th></th>\n",
       "      <th></th>\n",
       "      <th></th>\n",
       "      <th></th>\n",
       "      <th></th>\n",
       "      <th></th>\n",
       "      <th></th>\n",
       "    </tr>\n",
       "  </thead>\n",
       "  <tbody>\n",
       "    <tr>\n",
       "      <td>2010-01-04</td>\n",
       "      <td>30.57</td>\n",
       "      <td>57.72</td>\n",
       "      <td>133.90</td>\n",
       "      <td>4.55</td>\n",
       "      <td>24.27</td>\n",
       "      <td>173.08</td>\n",
       "      <td>30.55</td>\n",
       "      <td>25.68</td>\n",
       "      <td>27.00</td>\n",
       "      <td>56.03</td>\n",
       "      <td>28.55</td>\n",
       "      <td>58.18</td>\n",
       "    </tr>\n",
       "    <tr>\n",
       "      <td>2010-01-05</td>\n",
       "      <td>30.63</td>\n",
       "      <td>57.22</td>\n",
       "      <td>134.69</td>\n",
       "      <td>4.55</td>\n",
       "      <td>24.18</td>\n",
       "      <td>176.14</td>\n",
       "      <td>30.35</td>\n",
       "      <td>25.61</td>\n",
       "      <td>27.30</td>\n",
       "      <td>56.90</td>\n",
       "      <td>28.53</td>\n",
       "      <td>58.28</td>\n",
       "    </tr>\n",
       "    <tr>\n",
       "      <td>2010-01-06</td>\n",
       "      <td>30.14</td>\n",
       "      <td>56.79</td>\n",
       "      <td>132.25</td>\n",
       "      <td>4.53</td>\n",
       "      <td>24.25</td>\n",
       "      <td>174.26</td>\n",
       "      <td>32.22</td>\n",
       "      <td>25.56</td>\n",
       "      <td>27.29</td>\n",
       "      <td>58.64</td>\n",
       "      <td>28.23</td>\n",
       "      <td>57.85</td>\n",
       "    </tr>\n",
       "    <tr>\n",
       "      <td>2010-01-07</td>\n",
       "      <td>30.08</td>\n",
       "      <td>56.27</td>\n",
       "      <td>130.00</td>\n",
       "      <td>4.50</td>\n",
       "      <td>24.56</td>\n",
       "      <td>177.67</td>\n",
       "      <td>32.77</td>\n",
       "      <td>25.39</td>\n",
       "      <td>26.96</td>\n",
       "      <td>58.65</td>\n",
       "      <td>27.75</td>\n",
       "      <td>57.41</td>\n",
       "    </tr>\n",
       "    <tr>\n",
       "      <td>2010-01-08</td>\n",
       "      <td>30.28</td>\n",
       "      <td>56.77</td>\n",
       "      <td>133.52</td>\n",
       "      <td>4.52</td>\n",
       "      <td>24.66</td>\n",
       "      <td>174.31</td>\n",
       "      <td>33.15</td>\n",
       "      <td>25.40</td>\n",
       "      <td>27.05</td>\n",
       "      <td>59.30</td>\n",
       "      <td>27.57</td>\n",
       "      <td>60.17</td>\n",
       "    </tr>\n",
       "  </tbody>\n",
       "</table>\n",
       "</div>"
      ],
      "text/plain": [
       "             AAPL   AMGN    AMZN  CPRT     EL      GS   ILMN     MA    PAA  \\\n",
       "Date                                                                         \n",
       "2010-01-04  30.57  57.72  133.90  4.55  24.27  173.08  30.55  25.68  27.00   \n",
       "2010-01-05  30.63  57.22  134.69  4.55  24.18  176.14  30.35  25.61  27.30   \n",
       "2010-01-06  30.14  56.79  132.25  4.53  24.25  174.26  32.22  25.56  27.29   \n",
       "2010-01-07  30.08  56.27  130.00  4.50  24.56  177.67  32.77  25.39  26.96   \n",
       "2010-01-08  30.28  56.77  133.52  4.52  24.66  174.31  33.15  25.40  27.05   \n",
       "\n",
       "              RIO    TEF    UPS  \n",
       "Date                             \n",
       "2010-01-04  56.03  28.55  58.18  \n",
       "2010-01-05  56.90  28.53  58.28  \n",
       "2010-01-06  58.64  28.23  57.85  \n",
       "2010-01-07  58.65  27.75  57.41  \n",
       "2010-01-08  59.30  27.57  60.17  "
      ]
     },
     "execution_count": 22,
     "metadata": {},
     "output_type": "execute_result"
    }
   ],
   "source": [
    "# Import prices and inspect result\n",
    "stock_prices = pd.read_csv(path+'stock_data.csv', parse_dates=['Date'], index_col='Date')\n",
    "print(stock_prices.info())\n",
    "stock_prices.head()"
   ]
  },
  {
   "cell_type": "code",
   "execution_count": 23,
   "metadata": {},
   "outputs": [],
   "source": [
    "# Calculate the returns  \n",
    "price_return = stock_prices.iloc[-1].div(stock_prices.iloc[0]).sub(1).mul(100)"
   ]
  },
  {
   "cell_type": "code",
   "execution_count": 24,
   "metadata": {},
   "outputs": [
    {
     "data": {
      "image/png": "[encoded data removed]",
      "text/plain": [
       "<Figure size 432x288 with 1 Axes>"
      ]
     },
     "metadata": {
      "needs_background": "light"
     },
     "output_type": "display_data"
    }
   ],
   "source": [
    "# Plot horizontal bar chart of sorted price_return   \n",
    "price_return.sort_values().plot(kind='barh', title='Stock Price Returns')\n",
    "plt.show();"
   ]
  },
  {
   "cell_type": "markdown",
   "metadata": {},
   "source": [
    "---\n",
    "<a id='build'></a>"
   ]
  },
  {
   "cell_type": "markdown",
   "metadata": {},
   "source": [
    "## Build a market-cap weighted index"
   ]
  },
  {
   "cell_type": "markdown",
   "metadata": {},
   "source": [
    "## Calculate number of shares outstanding\n",
    "\n",
    "The next step towards building a **value-weighted index** is to calculate the number of shares for each index component.\n",
    "\n",
    "The number of shares will allow you to calculate the total market capitalization for each component given the historical price series in the next exercise."
   ]
  },
  {
   "cell_type": "code",
   "execution_count": 25,
   "metadata": {},
   "outputs": [
    {
     "name": "stdout",
     "output_type": "stream",
     "text": [
      "<class 'pandas.core.frame.DataFrame'>\n",
      "Index: 2349 entries, ACU to ZTO\n",
      "Data columns (total 7 columns):\n",
      "Exchange                 2349 non-null object\n",
      "Company Name             2349 non-null object\n",
      "Last Sale                2349 non-null float64\n",
      "Market Capitalization    2349 non-null float64\n",
      "IPO Year                 2349 non-null float64\n",
      "Sector                   2349 non-null object\n",
      "Industry                 2349 non-null object\n",
      "dtypes: float64(3), object(4)\n",
      "memory usage: 226.8+ KB\n",
      "None\n"
     ]
    }
   ],
   "source": [
    "# Inspect listings and print tickers\n",
    "print(listings.info())"
   ]
  },
  {
   "cell_type": "code",
   "execution_count": 26,
   "metadata": {},
   "outputs": [
    {
     "name": "stdout",
     "output_type": "stream",
     "text": [
      "Index(['RIO', 'GM', 'CPRT', 'ABEV', 'AMZN', 'PAA', 'GS', 'AMGN', 'BABA', 'TEF',\n",
      "       'AAPL', 'UPS'],\n",
      "      dtype='object', name='Stock Symbol')\n"
     ]
    }
   ],
   "source": [
    "print(tickers)"
   ]
  },
  {
   "cell_type": "code",
   "execution_count": 40,
   "metadata": {},
   "outputs": [],
   "source": [
    "# Select components and relevant columns from listings\n",
    "components = listings.loc[tickers, ['Market Capitalization', 'Last Sale']]"
   ]
  },
  {
   "cell_type": "code",
   "execution_count": 41,
   "metadata": {},
   "outputs": [
    {
     "name": "stdout",
     "output_type": "stream",
     "text": [
      "              Market Capitalization  Last Sale\n",
      "Stock Symbol                                  \n",
      "RIO                    70431.476895      38.94\n",
      "GM                     50086.335099      33.39\n",
      "CPRT                   13620.922869      29.65\n",
      "ABEV                   88240.198455       5.62\n",
      "AMZN                  422138.530626     884.67\n"
     ]
    }
   ],
   "source": [
    "# Print the first rows of components\n",
    "print(components.head())"
   ]
  },
  {
   "cell_type": "code",
   "execution_count": 42,
   "metadata": {},
   "outputs": [
    {
     "data": {
      "text/plain": [
       "pandas.core.series.Series"
      ]
     },
     "execution_count": 42,
     "metadata": {},
     "output_type": "execute_result"
    }
   ],
   "source": [
    "# Calculate the number of shares here\n",
    "no_shares = components['Market Capitalization'].div(components['Last Sale'])\n",
    "type(no_shares)"
   ]
  },
  {
   "cell_type": "code",
   "execution_count": 43,
   "metadata": {},
   "outputs": [
    {
     "name": "stdout",
     "output_type": "stream",
     "text": [
      "Stock Symbol\n",
      "ABEV    15701.102928\n",
      "AAPL     5246.540000\n",
      "TEF      5037.804990\n",
      "BABA     2500.000000\n",
      "RIO      1808.717948\n",
      "GM       1500.039985\n",
      "UPS       869.297154\n",
      "AMGN      735.890171\n",
      "PAA       723.404994\n",
      "AMZN      477.170618\n",
      "CPRT      459.390316\n",
      "GS        397.817439\n",
      "dtype: float64\n"
     ]
    }
   ],
   "source": [
    "# Print the sorted no_shares -> companies with most shares\n",
    "print(no_shares.sort_values(ascending=False))"
   ]
  },
  {
   "cell_type": "markdown",
   "metadata": {},
   "source": [
    "## Create time series of market value\n",
    "\n",
    "You can now use the number of shares to calculate the total market capitalization for each component and trading date from the historical price series.\n",
    "\n",
    "The result will be the key input to construct the value-weighted stock index, which you will complete in the next exercise."
   ]
  },
  {
   "cell_type": "code",
   "execution_count": 44,
   "metadata": {},
   "outputs": [
    {
     "data": {
      "text/html": [
       "<div>\n",
       "<style scoped>\n",
       "    .dataframe tbody tr th:only-of-type {\n",
       "        vertical-align: middle;\n",
       "    }\n",
       "\n",
       "    .dataframe tbody tr th {\n",
       "        vertical-align: top;\n",
       "    }\n",
       "\n",
       "    .dataframe thead th {\n",
       "        text-align: right;\n",
       "    }\n",
       "</style>\n",
       "<table border=\"1\" class=\"dataframe\">\n",
       "  <thead>\n",
       "    <tr style=\"text-align: right;\">\n",
       "      <th></th>\n",
       "      <th>Market Capitalization</th>\n",
       "      <th>Last Sale</th>\n",
       "      <th>Number of Shares</th>\n",
       "    </tr>\n",
       "    <tr>\n",
       "      <th>Stock Symbol</th>\n",
       "      <th></th>\n",
       "      <th></th>\n",
       "      <th></th>\n",
       "    </tr>\n",
       "  </thead>\n",
       "  <tbody>\n",
       "    <tr>\n",
       "      <td>RIO</td>\n",
       "      <td>70431.476895</td>\n",
       "      <td>38.94</td>\n",
       "      <td>1808.717948</td>\n",
       "    </tr>\n",
       "    <tr>\n",
       "      <td>GM</td>\n",
       "      <td>50086.335099</td>\n",
       "      <td>33.39</td>\n",
       "      <td>1500.039985</td>\n",
       "    </tr>\n",
       "    <tr>\n",
       "      <td>CPRT</td>\n",
       "      <td>13620.922869</td>\n",
       "      <td>29.65</td>\n",
       "      <td>459.390316</td>\n",
       "    </tr>\n",
       "    <tr>\n",
       "      <td>ABEV</td>\n",
       "      <td>88240.198455</td>\n",
       "      <td>5.62</td>\n",
       "      <td>15701.102928</td>\n",
       "    </tr>\n",
       "    <tr>\n",
       "      <td>AMZN</td>\n",
       "      <td>422138.530626</td>\n",
       "      <td>884.67</td>\n",
       "      <td>477.170618</td>\n",
       "    </tr>\n",
       "    <tr>\n",
       "      <td>PAA</td>\n",
       "      <td>22223.001416</td>\n",
       "      <td>30.72</td>\n",
       "      <td>723.404994</td>\n",
       "    </tr>\n",
       "    <tr>\n",
       "      <td>GS</td>\n",
       "      <td>88840.590477</td>\n",
       "      <td>223.32</td>\n",
       "      <td>397.817439</td>\n",
       "    </tr>\n",
       "    <tr>\n",
       "      <td>AMGN</td>\n",
       "      <td>118927.210535</td>\n",
       "      <td>161.61</td>\n",
       "      <td>735.890171</td>\n",
       "    </tr>\n",
       "    <tr>\n",
       "      <td>BABA</td>\n",
       "      <td>275525.000000</td>\n",
       "      <td>110.21</td>\n",
       "      <td>2500.000000</td>\n",
       "    </tr>\n",
       "    <tr>\n",
       "      <td>TEF</td>\n",
       "      <td>54609.806092</td>\n",
       "      <td>10.84</td>\n",
       "      <td>5037.804990</td>\n",
       "    </tr>\n",
       "    <tr>\n",
       "      <td>AAPL</td>\n",
       "      <td>740024.467000</td>\n",
       "      <td>141.05</td>\n",
       "      <td>5246.540000</td>\n",
       "    </tr>\n",
       "    <tr>\n",
       "      <td>UPS</td>\n",
       "      <td>90180.886756</td>\n",
       "      <td>103.74</td>\n",
       "      <td>869.297154</td>\n",
       "    </tr>\n",
       "  </tbody>\n",
       "</table>\n",
       "</div>"
      ],
      "text/plain": [
       "              Market Capitalization  Last Sale  Number of Shares\n",
       "Stock Symbol                                                    \n",
       "RIO                    70431.476895      38.94       1808.717948\n",
       "GM                     50086.335099      33.39       1500.039985\n",
       "CPRT                   13620.922869      29.65        459.390316\n",
       "ABEV                   88240.198455       5.62      15701.102928\n",
       "AMZN                  422138.530626     884.67        477.170618\n",
       "PAA                    22223.001416      30.72        723.404994\n",
       "GS                     88840.590477     223.32        397.817439\n",
       "AMGN                  118927.210535     161.61        735.890171\n",
       "BABA                  275525.000000     110.21       2500.000000\n",
       "TEF                    54609.806092      10.84       5037.804990\n",
       "AAPL                  740024.467000     141.05       5246.540000\n",
       "UPS                    90180.886756     103.74        869.297154"
      ]
     },
     "execution_count": 44,
     "metadata": {},
     "output_type": "execute_result"
    }
   ],
   "source": [
    "components = pd.concat([components, no_shares], axis=1)\n",
    "cols = list(components.columns)\n",
    "cols[2] = 'Number of Shares'\n",
    "components.columns = cols\n",
    "components"
   ]
  },
  {
   "cell_type": "code",
   "execution_count": 45,
   "metadata": {},
   "outputs": [
    {
     "name": "stdout",
     "output_type": "stream",
     "text": [
      "Stock Symbol\n",
      "GS        397.817439\n",
      "CPRT      459.390316\n",
      "AMZN      477.170618\n",
      "PAA       723.404994\n",
      "AMGN      735.890171\n",
      "UPS       869.297154\n",
      "GM       1500.039985\n",
      "RIO      1808.717948\n",
      "BABA     2500.000000\n",
      "TEF      5037.804990\n",
      "AAPL     5246.540000\n",
      "ABEV    15701.102928\n",
      "Name: Number of Shares, dtype: float64\n"
     ]
    }
   ],
   "source": [
    "# Select the number of shares\n",
    "no_shares = components['Number of Shares']\n",
    "print(no_shares.sort_values())"
   ]
  },
  {
   "cell_type": "code",
   "execution_count": 46,
   "metadata": {},
   "outputs": [],
   "source": [
    "# Create the series of market cap per ticker\n",
    "market_cap = stock_prices.mul(no_shares)"
   ]
  },
  {
   "cell_type": "code",
   "execution_count": 47,
   "metadata": {},
   "outputs": [],
   "source": [
    "# Select first and last market cap here\n",
    "first_value = market_cap.iloc[0]\n",
    "last_value = market_cap.iloc[-1]"
   ]
  },
  {
   "cell_type": "code",
   "execution_count": 48,
   "metadata": {},
   "outputs": [
    {
     "data": {
      "image/png": "[encoded data removed]",
      "text/plain": [
       "<Figure size 432x288 with 1 Axes>"
      ]
     },
     "metadata": {
      "needs_background": "light"
     },
     "output_type": "display_data"
    }
   ],
   "source": [
    "# Concatenate and plot first and last market cap here\n",
    "pd.concat([first_value, last_value], axis=1).plot(kind='barh')\n",
    "plt.show();"
   ]
  },
  {
   "cell_type": "markdown",
   "metadata": {},
   "source": [
    "## Calculate & plot the composite index\n",
    "\n",
    "By now you have all ingredients that you need to calculate the aggregate stock performance for your group of companies.\n",
    "\n",
    "Use the time series of market capitalization that you created in the last exercise to aggregate the market value for each period, and then normalize this series to convert it to an index."
   ]
  },
  {
   "cell_type": "code",
   "execution_count": 50,
   "metadata": {},
   "outputs": [
    {
     "name": "stdout",
     "output_type": "stream",
     "text": [
      "Date\n",
      "2010-01-04    6.529794e+05\n",
      "2010-01-05    6.562973e+05\n",
      "2010-01-06    6.527435e+05\n",
      "2010-01-07    6.492939e+05\n",
      "2010-01-08    6.537965e+05\n",
      "                  ...     \n",
      "2016-12-23    1.425208e+06\n",
      "2016-12-27    1.435541e+06\n",
      "2016-12-28    1.431656e+06\n",
      "2016-12-29    1.427209e+06\n",
      "2016-12-30    1.413611e+06\n",
      "Length: 1762, dtype: float64\n"
     ]
    }
   ],
   "source": [
    "# Aggregate and print the market cap per trading day\n",
    "raw_index = market_cap.sum(axis=1)\n",
    "print(raw_index)"
   ]
  },
  {
   "cell_type": "code",
   "execution_count": 51,
   "metadata": {},
   "outputs": [
    {
     "name": "stdout",
     "output_type": "stream",
     "text": [
      "Date\n",
      "2010-01-04    100.000000\n",
      "2010-01-05    100.508119\n",
      "2010-01-06     99.963872\n",
      "2010-01-07     99.435588\n",
      "2010-01-08    100.125141\n",
      "                 ...    \n",
      "2016-12-23    218.262332\n",
      "2016-12-27    219.844835\n",
      "2016-12-28    219.249834\n",
      "2016-12-29    218.568789\n",
      "2016-12-30    216.486276\n",
      "Length: 1762, dtype: float64\n"
     ]
    }
   ],
   "source": [
    "# Normalize the aggregate market cap here \n",
    "index = raw_index.div(raw_index.iloc[0]).mul(100)\n",
    "print(index)"
   ]
  },
  {
   "cell_type": "code",
   "execution_count": 52,
   "metadata": {},
   "outputs": [
    {
     "data": {
      "image/png": "[encoded data removed]",
      "text/plain": [
       "<Figure size 432x288 with 1 Axes>"
      ]
     },
     "metadata": {
      "needs_background": "light"
     },
     "output_type": "display_data"
    }
   ],
   "source": [
    "# Plot the index here\n",
    "index.plot(title='Market-Cap Weighted Index')\n",
    "plt.show();"
   ]
  },
  {
   "cell_type": "markdown",
   "metadata": {},
   "source": [
    "---\n",
    "<a id='eval'></a>"
   ]
  },
  {
   "cell_type": "markdown",
   "metadata": {},
   "source": [
    "## Evaluate index performance"
   ]
  },
  {
   "cell_type": "markdown",
   "metadata": {},
   "source": [
    "## Calculate the contribution of each stock to the index\n",
    "\n",
    "You have successfully built the **value-weighted index**. Let's now explore how it performed over the 2010-2016 period. Let's also determine how much each stock has contributed to the index return."
   ]
  },
  {
   "cell_type": "code",
   "execution_count": 53,
   "metadata": {},
   "outputs": [
    {
     "name": "stdout",
     "output_type": "stream",
     "text": [
      "116.48627582170694\n"
     ]
    }
   ],
   "source": [
    "# Calculate and print the index return here\n",
    "index_return = (index[-1] / index[0] - 1) * 100\n",
    "print(index_return)"
   ]
  },
  {
   "cell_type": "code",
   "execution_count": 54,
   "metadata": {},
   "outputs": [],
   "source": [
    "# Select the market capitalization\n",
    "market_cap = components['Market Capitalization']"
   ]
  },
  {
   "cell_type": "code",
   "execution_count": 55,
   "metadata": {},
   "outputs": [],
   "source": [
    "# Calculate the total market cap\n",
    "total_market_cap = market_cap.sum()"
   ]
  },
  {
   "cell_type": "code",
   "execution_count": 56,
   "metadata": {},
   "outputs": [
    {
     "name": "stdout",
     "output_type": "stream",
     "text": [
      "Stock Symbol\n",
      "CPRT    0.006694\n",
      "PAA     0.010921\n",
      "GM      0.024614\n",
      "TEF     0.026837\n",
      "RIO     0.034613\n",
      "ABEV    0.043365\n",
      "GS      0.043660\n",
      "UPS     0.044318\n",
      "AMGN    0.058445\n",
      "BABA    0.135403\n",
      "AMZN    0.207455\n",
      "AAPL    0.363675\n",
      "Name: Market Capitalization, dtype: float64\n"
     ]
    }
   ],
   "source": [
    "# Calculate the component weights, and print the result\n",
    "weights = market_cap / total_market_cap\n",
    "print(weights.sort_values())"
   ]
  },
  {
   "cell_type": "code",
   "execution_count": 57,
   "metadata": {},
   "outputs": [
    {
     "data": {
      "image/png": "[encoded data removed]",
      "text/plain": [
       "<Figure size 432x288 with 1 Axes>"
      ]
     },
     "metadata": {
      "needs_background": "light"
     },
     "output_type": "display_data"
    }
   ],
   "source": [
    "# Calculate and plot the contribution by component\n",
    "weights.mul(index_return).sort_values().plot(kind='barh')\n",
    "plt.show();"
   ]
  },
  {
   "cell_type": "markdown",
   "metadata": {},
   "source": [
    "## Compare index performance against benchmark I\n",
    "\n",
    "The next step in analyzing the performance of your index is to compare it against a benchmark. You can use the Dow Jones Industrial Average, which contains the 30 largest stocks, and would also be a reasonable benchmark for the largest stocks from all sectors across the three exchanges."
   ]
  },
  {
   "cell_type": "code",
   "execution_count": 58,
   "metadata": {},
   "outputs": [],
   "source": [
    "# Convert index series to dataframe here\n",
    "data = index.to_frame('Index')"
   ]
  },
  {
   "cell_type": "code",
   "execution_count": 64,
   "metadata": {},
   "outputs": [
    {
     "data": {
      "text/html": [
       "<div>\n",
       "<style scoped>\n",
       "    .dataframe tbody tr th:only-of-type {\n",
       "        vertical-align: middle;\n",
       "    }\n",
       "\n",
       "    .dataframe tbody tr th {\n",
       "        vertical-align: top;\n",
       "    }\n",
       "\n",
       "    .dataframe thead th {\n",
       "        text-align: right;\n",
       "    }\n",
       "</style>\n",
       "<table border=\"1\" class=\"dataframe\">\n",
       "  <thead>\n",
       "    <tr style=\"text-align: right;\">\n",
       "      <th></th>\n",
       "      <th>djia</th>\n",
       "    </tr>\n",
       "    <tr>\n",
       "      <th>date</th>\n",
       "      <th></th>\n",
       "    </tr>\n",
       "  </thead>\n",
       "  <tbody>\n",
       "    <tr>\n",
       "      <td>2007-06-29</td>\n",
       "      <td>13408.62</td>\n",
       "    </tr>\n",
       "    <tr>\n",
       "      <td>2007-07-02</td>\n",
       "      <td>13535.43</td>\n",
       "    </tr>\n",
       "    <tr>\n",
       "      <td>2007-07-03</td>\n",
       "      <td>13577.30</td>\n",
       "    </tr>\n",
       "    <tr>\n",
       "      <td>2007-07-04</td>\n",
       "      <td>NaN</td>\n",
       "    </tr>\n",
       "    <tr>\n",
       "      <td>2007-07-05</td>\n",
       "      <td>13565.84</td>\n",
       "    </tr>\n",
       "    <tr>\n",
       "      <td>...</td>\n",
       "      <td>...</td>\n",
       "    </tr>\n",
       "    <tr>\n",
       "      <td>2017-06-23</td>\n",
       "      <td>21394.76</td>\n",
       "    </tr>\n",
       "    <tr>\n",
       "      <td>2017-06-26</td>\n",
       "      <td>21409.55</td>\n",
       "    </tr>\n",
       "    <tr>\n",
       "      <td>2017-06-27</td>\n",
       "      <td>21310.66</td>\n",
       "    </tr>\n",
       "    <tr>\n",
       "      <td>2017-06-28</td>\n",
       "      <td>21454.61</td>\n",
       "    </tr>\n",
       "    <tr>\n",
       "      <td>2017-06-29</td>\n",
       "      <td>21287.03</td>\n",
       "    </tr>\n",
       "  </tbody>\n",
       "</table>\n",
       "<p>2610 rows × 1 columns</p>\n",
       "</div>"
      ],
      "text/plain": [
       "                djia\n",
       "date                \n",
       "2007-06-29  13408.62\n",
       "2007-07-02  13535.43\n",
       "2007-07-03  13577.30\n",
       "2007-07-04       NaN\n",
       "2007-07-05  13565.84\n",
       "...              ...\n",
       "2017-06-23  21394.76\n",
       "2017-06-26  21409.55\n",
       "2017-06-27  21310.66\n",
       "2017-06-28  21454.61\n",
       "2017-06-29  21287.03\n",
       "\n",
       "[2610 rows x 1 columns]"
      ]
     },
     "execution_count": 64,
     "metadata": {},
     "output_type": "execute_result"
    }
   ],
   "source": [
    "djia = pd.read_csv(path+'djia.csv', parse_dates=True, index_col='date')\n",
    "djia"
   ]
  },
  {
   "cell_type": "code",
   "execution_count": 65,
   "metadata": {},
   "outputs": [],
   "source": [
    "# Normalize djia series and add as new column to data\n",
    "djia = djia.div(djia.iloc[0]).mul(100)\n",
    "data['DJIA'] = djia"
   ]
  },
  {
   "cell_type": "code",
   "execution_count": 66,
   "metadata": {},
   "outputs": [
    {
     "name": "stdout",
     "output_type": "stream",
     "text": [
      "Index    116.486276\n",
      "DJIA      86.722172\n",
      "dtype: float64\n"
     ]
    }
   ],
   "source": [
    "# Show total return for both index and djia\n",
    "print((data.iloc[-1] / data.iloc[0] -1 ) * 100)"
   ]
  },
  {
   "cell_type": "code",
   "execution_count": 67,
   "metadata": {},
   "outputs": [
    {
     "data": {
      "image/png": "[encoded data removed]",
      "text/plain": [
       "<Figure size 432x288 with 1 Axes>"
      ]
     },
     "metadata": {
      "needs_background": "light"
     },
     "output_type": "display_data"
    }
   ],
   "source": [
    "# Plot both series\n",
    "data.plot()\n",
    "plt.show();"
   ]
  },
  {
   "cell_type": "markdown",
   "metadata": {},
   "source": [
    "## Compare index performance against benchmark II\n",
    "\n",
    "The next step in analyzing the performance of your index is to compare it against a benchmark. You can use the Dow Jones Industrial Average, which contains the 30 largest stocks, and would also be a reasonable benchmark for the largest stocks from all sectors across the three exchanges."
   ]
  },
  {
   "cell_type": "code",
   "execution_count": 68,
   "metadata": {},
   "outputs": [
    {
     "data": {
      "text/html": [
       "<div>\n",
       "<style scoped>\n",
       "    .dataframe tbody tr th:only-of-type {\n",
       "        vertical-align: middle;\n",
       "    }\n",
       "\n",
       "    .dataframe tbody tr th {\n",
       "        vertical-align: top;\n",
       "    }\n",
       "\n",
       "    .dataframe thead th {\n",
       "        text-align: right;\n",
       "    }\n",
       "</style>\n",
       "<table border=\"1\" class=\"dataframe\">\n",
       "  <thead>\n",
       "    <tr style=\"text-align: right;\">\n",
       "      <th></th>\n",
       "      <th>Index</th>\n",
       "      <th>DJIA</th>\n",
       "    </tr>\n",
       "    <tr>\n",
       "      <th>Date</th>\n",
       "      <th></th>\n",
       "      <th></th>\n",
       "    </tr>\n",
       "  </thead>\n",
       "  <tbody>\n",
       "    <tr>\n",
       "      <td>2010-01-04</td>\n",
       "      <td>100.000000</td>\n",
       "      <td>78.933999</td>\n",
       "    </tr>\n",
       "    <tr>\n",
       "      <td>2010-01-05</td>\n",
       "      <td>100.508119</td>\n",
       "      <td>78.844952</td>\n",
       "    </tr>\n",
       "    <tr>\n",
       "      <td>2010-01-06</td>\n",
       "      <td>99.963872</td>\n",
       "      <td>78.857332</td>\n",
       "    </tr>\n",
       "    <tr>\n",
       "      <td>2010-01-07</td>\n",
       "      <td>99.435588</td>\n",
       "      <td>79.104785</td>\n",
       "    </tr>\n",
       "    <tr>\n",
       "      <td>2010-01-08</td>\n",
       "      <td>100.125141</td>\n",
       "      <td>79.189283</td>\n",
       "    </tr>\n",
       "    <tr>\n",
       "      <td>...</td>\n",
       "      <td>...</td>\n",
       "      <td>...</td>\n",
       "    </tr>\n",
       "    <tr>\n",
       "      <td>2016-12-23</td>\n",
       "      <td>218.262332</td>\n",
       "      <td>148.664143</td>\n",
       "    </tr>\n",
       "    <tr>\n",
       "      <td>2016-12-27</td>\n",
       "      <td>219.844835</td>\n",
       "      <td>148.747895</td>\n",
       "    </tr>\n",
       "    <tr>\n",
       "      <td>2016-12-28</td>\n",
       "      <td>219.249834</td>\n",
       "      <td>147.917384</td>\n",
       "    </tr>\n",
       "    <tr>\n",
       "      <td>2016-12-29</td>\n",
       "      <td>218.568789</td>\n",
       "      <td>147.813720</td>\n",
       "    </tr>\n",
       "    <tr>\n",
       "      <td>2016-12-30</td>\n",
       "      <td>216.486276</td>\n",
       "      <td>147.387278</td>\n",
       "    </tr>\n",
       "  </tbody>\n",
       "</table>\n",
       "<p>1762 rows × 2 columns</p>\n",
       "</div>"
      ],
      "text/plain": [
       "                 Index        DJIA\n",
       "Date                              \n",
       "2010-01-04  100.000000   78.933999\n",
       "2010-01-05  100.508119   78.844952\n",
       "2010-01-06   99.963872   78.857332\n",
       "2010-01-07   99.435588   79.104785\n",
       "2010-01-08  100.125141   79.189283\n",
       "...                ...         ...\n",
       "2016-12-23  218.262332  148.664143\n",
       "2016-12-27  219.844835  148.747895\n",
       "2016-12-28  219.249834  147.917384\n",
       "2016-12-29  218.568789  147.813720\n",
       "2016-12-30  216.486276  147.387278\n",
       "\n",
       "[1762 rows x 2 columns]"
      ]
     },
     "execution_count": 68,
     "metadata": {},
     "output_type": "execute_result"
    }
   ],
   "source": [
    "data"
   ]
  },
  {
   "cell_type": "code",
   "execution_count": 69,
   "metadata": {},
   "outputs": [
    {
     "name": "stdout",
     "output_type": "stream",
     "text": [
      "<class 'pandas.core.frame.DataFrame'>\n",
      "DatetimeIndex: 1762 entries, 2010-01-04 to 2016-12-30\n",
      "Data columns (total 2 columns):\n",
      "Index    1762 non-null float64\n",
      "DJIA     1762 non-null float64\n",
      "dtypes: float64(2)\n",
      "memory usage: 121.3 KB\n",
      "None\n",
      "                 Index       DJIA\n",
      "Date                             \n",
      "2010-01-04  100.000000  78.933999\n",
      "2010-01-05  100.508119  78.844952\n",
      "2010-01-06   99.963872  78.857332\n",
      "2010-01-07   99.435588  79.104785\n",
      "2010-01-08  100.125141  79.189283\n"
     ]
    }
   ],
   "source": [
    "# Inspect data\n",
    "print(data.info())\n",
    "print(data.head())"
   ]
  },
  {
   "cell_type": "code",
   "execution_count": 70,
   "metadata": {},
   "outputs": [],
   "source": [
    "# Create multi_period_return function here\n",
    "def multi_period_return(r):\n",
    "    return (np.prod(r + 1) - 1) * 100"
   ]
  },
  {
   "cell_type": "code",
   "execution_count": 73,
   "metadata": {},
   "outputs": [
    {
     "name": "stderr",
     "output_type": "stream",
     "text": [
      "/Users/ksatola/anaconda3/lib/python3.7/site-packages/ipykernel_launcher.py:2: FutureWarning: Currently, 'apply' passes the values as ndarrays to the applied function. In the future, this will change to passing it as Series objects. You need to specify 'raw=True' to keep the current behaviour, and you can pass 'raw=False' to silence this warning\n",
      "  \n"
     ]
    }
   ],
   "source": [
    "# Calculate rolling_return_360\n",
    "rolling_return_360 = data.pct_change().rolling('360D').apply(multi_period_return)"
   ]
  },
  {
   "cell_type": "code",
   "execution_count": 74,
   "metadata": {},
   "outputs": [
    {
     "data": {
      "image/png": "[encoded data removed]",
      "text/plain": [
       "<Figure size 432x288 with 1 Axes>"
      ]
     },
     "metadata": {
      "needs_background": "light"
     },
     "output_type": "display_data"
    }
   ],
   "source": [
    "# Plot rolling_return_360 here\n",
    "rolling_return_360.plot(title='Rolling 360D Return')\n",
    "plt.show();"
   ]
  },
  {
   "cell_type": "markdown",
   "metadata": {},
   "source": [
    "---\n",
    "<a id='corr'></a>"
   ]
  },
  {
   "cell_type": "markdown",
   "metadata": {},
   "source": [
    "## Index correlation & exporting to excel"
   ]
  },
  {
   "cell_type": "markdown",
   "metadata": {},
   "source": [
    "## Visualize your index constituent correlations\n",
    "\n",
    "To better understand the characteristics of your index constituents, you can calculate the return correlations. Use the daily stock prices or your index companies, and show a heatmap of the daily return correlations!"
   ]
  },
  {
   "cell_type": "code",
   "execution_count": 75,
   "metadata": {},
   "outputs": [
    {
     "name": "stdout",
     "output_type": "stream",
     "text": [
      "<class 'pandas.core.frame.DataFrame'>\n",
      "DatetimeIndex: 1762 entries, 2010-01-04 to 2016-12-30\n",
      "Data columns (total 12 columns):\n",
      "AAPL    1761 non-null float64\n",
      "AMGN    1761 non-null float64\n",
      "AMZN    1761 non-null float64\n",
      "CPRT    1761 non-null float64\n",
      "EL      1762 non-null float64\n",
      "GS      1762 non-null float64\n",
      "ILMN    1761 non-null float64\n",
      "MA      1762 non-null float64\n",
      "PAA     1762 non-null float64\n",
      "RIO     1762 non-null float64\n",
      "TEF     1762 non-null float64\n",
      "UPS     1762 non-null float64\n",
      "dtypes: float64(12)\n",
      "memory usage: 259.0 KB\n",
      "None\n"
     ]
    }
   ],
   "source": [
    "# Inspect stock_prices here\n",
    "print(stock_prices.info())"
   ]
  },
  {
   "cell_type": "code",
   "execution_count": 77,
   "metadata": {},
   "outputs": [],
   "source": [
    "# Calculate the daily returns\n",
    "returns = stock_prices.pct_change()"
   ]
  },
  {
   "cell_type": "code",
   "execution_count": 78,
   "metadata": {},
   "outputs": [
    {
     "name": "stdout",
     "output_type": "stream",
     "text": [
      "          AAPL      AMGN      AMZN      CPRT        EL        GS      ILMN  \\\n",
      "AAPL  1.000000  0.286898  0.327611  0.346616  0.306770  0.344981  0.264791   \n",
      "AMGN  0.286898  1.000000  0.323408  0.355892  0.349893  0.390076  0.336927   \n",
      "AMZN  0.327611  0.323408  1.000000  0.298929  0.334031  0.333402  0.242726   \n",
      "CPRT  0.346616  0.355892  0.298929  1.000000  0.371763  0.423160  0.265665   \n",
      "EL    0.306770  0.349893  0.334031  0.371763  1.000000  0.358318  0.214027   \n",
      "GS    0.344981  0.390076  0.333402  0.423160  0.358318  1.000000  0.266063   \n",
      "ILMN  0.264791  0.336927  0.242726  0.265665  0.214027  0.266063  1.000000   \n",
      "MA    0.391421  0.400230  0.428330  0.401352  0.431556  0.466796  0.301392   \n",
      "PAA   0.212960  0.229255  0.182438  0.221273  0.206056  0.271982  0.162796   \n",
      "RIO   0.361684  0.313878  0.326229  0.384944  0.415416  0.527298  0.234445   \n",
      "TEF   0.325309  0.374555  0.331867  0.376767  0.428925  0.498230  0.231173   \n",
      "UPS   0.366039  0.432468  0.378399  0.462716  0.456952  0.506407  0.267801   \n",
      "\n",
      "            MA       PAA       RIO       TEF       UPS  \n",
      "AAPL  0.391421  0.212960  0.361684  0.325309  0.366039  \n",
      "AMGN  0.400230  0.229255  0.313878  0.374555  0.432468  \n",
      "AMZN  0.428330  0.182438  0.326229  0.331867  0.378399  \n",
      "CPRT  0.401352  0.221273  0.384944  0.376767  0.462716  \n",
      "EL    0.431556  0.206056  0.415416  0.428925  0.456952  \n",
      "GS    0.466796  0.271982  0.527298  0.498230  0.506407  \n",
      "ILMN  0.301392  0.162796  0.234445  0.231173  0.267801  \n",
      "MA    1.000000  0.243761  0.437778  0.448438  0.486512  \n",
      "PAA   0.243761  1.000000  0.337448  0.253598  0.217523  \n",
      "RIO   0.437778  0.337448  1.000000  0.559264  0.509809  \n",
      "TEF   0.448438  0.253598  0.559264  1.000000  0.516242  \n",
      "UPS   0.486512  0.217523  0.509809  0.516242  1.000000  \n"
     ]
    }
   ],
   "source": [
    "# Calculate and print the pairwise correlations\n",
    "correlations = returns.corr()\n",
    "print(correlations)"
   ]
  },
  {
   "cell_type": "code",
   "execution_count": 79,
   "metadata": {},
   "outputs": [
    {
     "data": {
      "image/png": "[encoded data removed]",
      "text/plain": [
       "<Figure size 432x288 with 2 Axes>"
      ]
     },
     "metadata": {
      "needs_background": "light"
     },
     "output_type": "display_data"
    }
   ],
   "source": [
    "# Plot a heatmap of daily return correlations\n",
    "sns.heatmap(correlations, annot=True)\n",
    "plt.title('Daily Return Correlations')\n",
    "plt.show();"
   ]
  },
  {
   "cell_type": "markdown",
   "metadata": {},
   "source": [
    "## Save your analysis to multiple excel worksheets\n",
    "\n",
    "Now that you have completed your analysis, you may want to save all results into a single Excel workbook. Let's practice exporting various DataFrame to multiple Excel worksheets."
   ]
  },
  {
   "cell_type": "code",
   "execution_count": 83,
   "metadata": {},
   "outputs": [
    {
     "data": {
      "text/html": [
       "<div>\n",
       "<style scoped>\n",
       "    .dataframe tbody tr th:only-of-type {\n",
       "        vertical-align: middle;\n",
       "    }\n",
       "\n",
       "    .dataframe tbody tr th {\n",
       "        vertical-align: top;\n",
       "    }\n",
       "\n",
       "    .dataframe thead th {\n",
       "        text-align: right;\n",
       "    }\n",
       "</style>\n",
       "<table border=\"1\" class=\"dataframe\">\n",
       "  <thead>\n",
       "    <tr style=\"text-align: right;\">\n",
       "      <th></th>\n",
       "      <th>Index</th>\n",
       "    </tr>\n",
       "    <tr>\n",
       "      <th>Date</th>\n",
       "      <th></th>\n",
       "    </tr>\n",
       "  </thead>\n",
       "  <tbody>\n",
       "    <tr>\n",
       "      <td>2010-01-04</td>\n",
       "      <td>100.000000</td>\n",
       "    </tr>\n",
       "    <tr>\n",
       "      <td>2010-01-05</td>\n",
       "      <td>100.457394</td>\n",
       "    </tr>\n",
       "    <tr>\n",
       "      <td>2010-01-06</td>\n",
       "      <td>99.981005</td>\n",
       "    </tr>\n",
       "    <tr>\n",
       "      <td>2010-01-07</td>\n",
       "      <td>99.485328</td>\n",
       "    </tr>\n",
       "    <tr>\n",
       "      <td>2010-01-08</td>\n",
       "      <td>100.148231</td>\n",
       "    </tr>\n",
       "    <tr>\n",
       "      <td>...</td>\n",
       "      <td>...</td>\n",
       "    </tr>\n",
       "    <tr>\n",
       "      <td>2016-12-23</td>\n",
       "      <td>228.675001</td>\n",
       "    </tr>\n",
       "    <tr>\n",
       "      <td>2016-12-27</td>\n",
       "      <td>230.172669</td>\n",
       "    </tr>\n",
       "    <tr>\n",
       "      <td>2016-12-28</td>\n",
       "      <td>229.360223</td>\n",
       "    </tr>\n",
       "    <tr>\n",
       "      <td>2016-12-29</td>\n",
       "      <td>228.753821</td>\n",
       "    </tr>\n",
       "    <tr>\n",
       "      <td>2016-12-30</td>\n",
       "      <td>226.658267</td>\n",
       "    </tr>\n",
       "  </tbody>\n",
       "</table>\n",
       "<p>1761 rows × 1 columns</p>\n",
       "</div>"
      ],
      "text/plain": [
       "                 Index\n",
       "Date                  \n",
       "2010-01-04  100.000000\n",
       "2010-01-05  100.457394\n",
       "2010-01-06   99.981005\n",
       "2010-01-07   99.485328\n",
       "2010-01-08  100.148231\n",
       "...                ...\n",
       "2016-12-23  228.675001\n",
       "2016-12-27  230.172669\n",
       "2016-12-28  229.360223\n",
       "2016-12-29  228.753821\n",
       "2016-12-30  226.658267\n",
       "\n",
       "[1761 rows x 1 columns]"
      ]
     },
     "execution_count": 83,
     "metadata": {},
     "output_type": "execute_result"
    }
   ],
   "source": [
    "index = pd.read_csv(path+'index.csv', parse_dates=True, index_col='Date')\n",
    "index"
   ]
  },
  {
   "cell_type": "code",
   "execution_count": 84,
   "metadata": {},
   "outputs": [
    {
     "name": "stdout",
     "output_type": "stream",
     "text": [
      "<class 'pandas.core.frame.DataFrame'>\n",
      "DatetimeIndex: 1761 entries, 2010-01-04 to 2016-12-30\n",
      "Data columns (total 1 columns):\n",
      "Index    1761 non-null float64\n",
      "dtypes: float64(1)\n",
      "memory usage: 27.5 KB\n",
      "None\n",
      "<class 'pandas.core.frame.DataFrame'>\n",
      "DatetimeIndex: 1762 entries, 2010-01-04 to 2016-12-30\n",
      "Data columns (total 12 columns):\n",
      "AAPL    1761 non-null float64\n",
      "AMGN    1761 non-null float64\n",
      "AMZN    1761 non-null float64\n",
      "CPRT    1761 non-null float64\n",
      "EL      1762 non-null float64\n",
      "GS      1762 non-null float64\n",
      "ILMN    1761 non-null float64\n",
      "MA      1762 non-null float64\n",
      "PAA     1762 non-null float64\n",
      "RIO     1762 non-null float64\n",
      "TEF     1762 non-null float64\n",
      "UPS     1762 non-null float64\n",
      "dtypes: float64(12)\n",
      "memory usage: 259.0 KB\n",
      "None\n"
     ]
    }
   ],
   "source": [
    "# Inspect index and stock_prices\n",
    "print(index.info())\n",
    "print(stock_prices.info())"
   ]
  },
  {
   "cell_type": "code",
   "execution_count": 85,
   "metadata": {},
   "outputs": [
    {
     "name": "stdout",
     "output_type": "stream",
     "text": [
      "<class 'pandas.core.frame.DataFrame'>\n",
      "DatetimeIndex: 1762 entries, 2010-01-04 to 2016-12-30\n",
      "Data columns (total 13 columns):\n",
      "AAPL     1761 non-null float64\n",
      "AMGN     1761 non-null float64\n",
      "AMZN     1761 non-null float64\n",
      "CPRT     1761 non-null float64\n",
      "EL       1762 non-null float64\n",
      "GS       1762 non-null float64\n",
      "ILMN     1761 non-null float64\n",
      "MA       1762 non-null float64\n",
      "PAA      1762 non-null float64\n",
      "RIO      1762 non-null float64\n",
      "TEF      1762 non-null float64\n",
      "UPS      1762 non-null float64\n",
      "Index    1761 non-null float64\n",
      "dtypes: float64(13)\n",
      "memory usage: 272.7 KB\n",
      "None\n"
     ]
    }
   ],
   "source": [
    "# Join index to stock_prices, and inspect the result\n",
    "data = stock_prices.join(index)\n",
    "print(data.info())"
   ]
  },
  {
   "cell_type": "code",
   "execution_count": 86,
   "metadata": {},
   "outputs": [],
   "source": [
    "# Create index & stock price returns\n",
    "returns = data.pct_change()"
   ]
  },
  {
   "cell_type": "code",
   "execution_count": 88,
   "metadata": {},
   "outputs": [],
   "source": [
    "# Export data and data as returns to excel\n",
    "with pd.ExcelWriter(path+'data.xls') as writer:\n",
    "    data.to_excel(writer, sheet_name='data')\n",
    "    returns.to_excel(writer, sheet_name='returns')"
   ]
  },
  {
   "cell_type": "code",
   "execution_count": null,
   "metadata": {},
   "outputs": [],
   "source": []
  }
 ],
 "metadata": {
  "kernelspec": {
   "display_name": "Python 3",
   "language": "python",
   "name": "python3"
  },
  "language_info": {
   "codemirror_mode": {
    "name": "ipython",
    "version": 3
   },
   "file_extension": ".py",
   "mimetype": "text/x-python",
   "name": "python",
   "nbconvert_exporter": "python",
   "pygments_lexer": "ipython3",
   "version": "3.7.1"
  }
 },
 "nbformat": 4,
 "nbformat_minor": 4
}

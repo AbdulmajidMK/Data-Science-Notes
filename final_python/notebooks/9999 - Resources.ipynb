{
 "cells": [
  {
   "cell_type": "markdown",
   "metadata": {},
   "source": [
    "```\n",
    "From: https://github.com/ksatola\n",
    "Version: 0.0.1\n",
    "\n",
    "TODOs\n",
    "1. https://deepai.org/definitions\n",
    "2. https://stanford.edu/~shervine/teaching/cs-229/cheatsheet-machine-learning-tips-and-tricks\n",
    "3. https://www.mit.edu/~amidi/teaching/data-science-tools/\n",
    "```"
   ]
  },
  {
   "cell_type": "markdown",
   "metadata": {},
   "source": [
    "# Resources\n",
    "\n",
    "## Table of Contents\n",
    "\n",
    "- [Important People](#people)\n",
    "- [Glossary, Definitions](#def)\n",
    "- [Great Books](#books)\n",
    "- [Great Posts](#posts)\n",
    "- [To Read](#read)"
   ]
  },
  {
   "cell_type": "markdown",
   "metadata": {},
   "source": [
    "---\n",
    "<a id='people'></a>"
   ]
  },
  {
   "cell_type": "markdown",
   "metadata": {},
   "source": [
    "## Important People\n",
    "\n",
    "- [Arthur Samuel's bio](https://history.computer.org/pioneers/samuel.html) - Samuel's papers on machine learning are still worth studying. With great creativity and working essentially alone, doing his own programming, he invented several seminal techniques in rote learning and generalization learning, using such underlying techniques as mutable evaluation functions, hill climbing, and signature tables. A pioneer of artificial intelligence research (best known for his program that played championship level checkers - the world's first self-learning program).\n",
    "- [Francis Galton and his regression to the mean](https://rss.onlinelibrary.wiley.com/doi/full/10.1111/j.1740-9713.2011.00509.x?utm_campaign=G-F5LCVLH01Y&utm_medium=email&utm_source=Revue+newsletter) - Many words in our statistical lexicon were coined by Galton. For example, correlation and deviate are due to him, as is regression, and he was the originator of terms and concepts such as quartile, decile and percentile, and of the use of median as the midpoint of a distribution. Galton compared the height of children to that of their parents. He found that adult children are closer to average height than their parents are. \"Aa tall child will have parents, on average, less tall than himself\" and that \"a short child will have parents, on average, taller than himself\". See also [this text (in Polish)](http://idane.pl/minipodrecznik/regresja-liniowa.html)."
   ]
  },
  {
   "cell_type": "markdown",
   "metadata": {},
   "source": [
    "---\n",
    "<a id='def'></a>"
   ]
  },
  {
   "cell_type": "markdown",
   "metadata": {},
   "source": [
    "## Glossary, Definitions\n",
    "\n",
    "- [Deepai.org Glossary](https://deepai.org/definitions) - The data science and artificial intelligence terms you need while reading the latest research.\n",
    "- [Jim’s Statistics Glossary](https://statisticsbyjim.com/glossary/) - lists and explains the most commonly used terms in statistics. This is the best place for those learning statistics to start and familiarize themselves with statistical jargon."
   ]
  },
  {
   "cell_type": "markdown",
   "metadata": {},
   "source": [
    "---\n",
    "<a id='books'></a>"
   ]
  },
  {
   "cell_type": "markdown",
   "metadata": {},
   "source": [
    "## Great Books\n",
    "- [Introduction to Statistics: An Intuitive Guide by Jim Frost](https://statisticsbyjim.com/basics/introduction-statistics-intuitive-guide/) - By reading this ebook, you will build a solid foundation for the field of statistics and data analysis.\n",
    "\n",
    "\n",
    "- [Machine Learning with Python for Everyone by Mark E. Fenner](https://www.amazon.com/Machine-Learning-Everyone-Addison-Wesley-Analytics/dp/0134845625) - The Complete Beginner’s Guide to Understanding and Building Machine Learning Systems with Python.\n",
    "- [Data Science from Scratch: First Principles with Python by Joel Grus](https://www.amazon.com/Data-Science-Scratch-Principles-Python/dp/1492041130) - To really learn data science, you should not only master the tools—data science libraries, frameworks, modules, and toolkits — but also understand the ideas and principles underlying them. The book shows you how these tools and algorithms work by implementing them from scratch.\n",
    "\n",
    "\n",
    "- [Building Analytics Teams: Harnessing analytics and artificial intelligence for business improvement by John K. Thompson](https://www.amazon.com/Building-Analytics-Teams-intelligence-improvement/dp/1800201184) - Master the skills necessary to hire and manage a team of highly skilled individuals to design, build, and implement applications and systems based on advanced analytics and AI."
   ]
  },
  {
   "cell_type": "markdown",
   "metadata": {},
   "source": [
    "---\n",
    "<a id='posts'></a>"
   ]
  },
  {
   "cell_type": "markdown",
   "metadata": {},
   "source": [
    "## Great Posts\n",
    "- [Regression Tutorial with Analysis Examples by Jim Frost](https://statisticsbyjim.com/regression/regression-tutorial-analysis-examples/) - This tutorial covers many facets of regression analysis including selecting the correct type of regression analysis, specifying the best model, interpreting the results, assessing the fit of the model, generating predictions, and checking the assumptions. I close the post with examples of different types of regression analyses."
   ]
  },
  {
   "cell_type": "markdown",
   "metadata": {},
   "source": [
    "---\n",
    "<a id='read'></a>"
   ]
  },
  {
   "cell_type": "markdown",
   "metadata": {},
   "source": [
    "## To Read\n",
    "- [Hands-On Machine Learning with Scikit-Learn, Keras, and TensorFlow: Concepts, Tools, and Techniques to Build Intelligent Systems](https://www.amazon.com/Hands-Machine-Learning-Scikit-Learn-TensorFlow/dp/1492032646)\n",
    "- [Linear Algebra !!!](https://hefferon.net/linearalgebra/)\n",
    "- [Linear Algebra and Optimization for Machine Learning](https://www.amazon.com/Linear-Algebra-Optimization-Machine-Learning/dp/3030403432)\n",
    "- [Algorithms for Optimization (The MIT Press)](https://www.amazon.com/dp/0262039427)\n",
    "- [Deep Learning Illustrated: A Visual, Interactive Guide to Artificial Intelligence](https://www.amazon.com/Deep-Learning-Illustrated-Intelligence-Addison-Wesley/dp/0135116694)\n",
    "- [Foundations of Deep Reinforcement Learning: Theory and Practice in Python](https://www.amazon.com/Deep-Reinforcement-Learning-Python-Hands/dp/0135172381)\n",
    "- [Hands-On Machine Learning with scikit-learn and Scientific Python Toolkits: A practical guide to implementing supervised and unsupervised machine learning algorithms in Python](https://www.amazon.com/gp/product/1838826041)\n",
    "- [Beginning Anomaly Detection Using Python-Based Deep Learning: With Keras and PyTorch](https://www.amazon.com/Beginning-Anomaly-Detection-Python-Based-Learning-dp-1484251768/dp/1484251768)\n",
    "- [Outlier Analysis](https://www.amazon.com/gp/product/3319475770)\n",
    "- Machine Learning (Tom Mithcel)\n",
    "- Data Science for Business (Foster Provost and Tom Fawcett)\n",
    "\n",
    "- [Data Mining and Machine Learning: Fundamental Concepts and Algorithms, 2ed (2020)](https://dataminingbook.info/)\n"
   ]
  },
  {
   "cell_type": "code",
   "execution_count": null,
   "metadata": {},
   "outputs": [],
   "source": []
  },
  {
   "cell_type": "code",
   "execution_count": null,
   "metadata": {},
   "outputs": [],
   "source": []
  }
 ],
 "metadata": {
  "kernelspec": {
   "display_name": "Python 3",
   "language": "python",
   "name": "python3"
  },
  "language_info": {
   "codemirror_mode": {
    "name": "ipython",
    "version": 3
   },
   "file_extension": ".py",
   "mimetype": "text/x-python",
   "name": "python",
   "nbconvert_exporter": "python",
   "pygments_lexer": "ipython3",
   "version": "3.8.5"
  }
 },
 "nbformat": 4,
 "nbformat_minor": 4
}

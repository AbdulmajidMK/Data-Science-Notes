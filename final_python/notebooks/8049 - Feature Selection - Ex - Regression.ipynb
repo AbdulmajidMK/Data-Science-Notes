{
 "cells": [
  {
   "cell_type": "markdown",
   "metadata": {},
   "source": [
    "```\n",
    "From: https://github.com/ksatola\n",
    "Version: 0.0.1\n",
    "\n",
    "TODOs\n",
    "1. \n",
    "\n",
    "```"
   ]
  },
  {
   "cell_type": "markdown",
   "metadata": {},
   "source": [
    "# Feature Selection - Ex - Regression\n",
    "\n",
    "## Table of Contents\n",
    "\n",
    "Feature Selection (this Notebook):\n",
    "- [Regression Dataset](#)\n",
    "- XXXX dokonczyc\n",
    "- [Introduction](#intro)\n",
    "    - Cross Validation\n",
    "    - Methods\n",
    "- [Feature Selection Checklist](#check)\n"
   ]
  },
  {
   "cell_type": "code",
   "execution_count": 1,
   "metadata": {},
   "outputs": [],
   "source": [
    "# Connect with underlying Python code\n",
    "%load_ext autoreload\n",
    "%autoreload 2\n",
    "import sys\n",
    "sys.path.insert(0, '../src')"
   ]
  },
  {
   "cell_type": "code",
   "execution_count": 2,
   "metadata": {},
   "outputs": [],
   "source": [
    "from datasets import (\n",
    "    get_dataset\n",
    ")\n",
    "\n",
    "from feature_selection import (\n",
    "    select_features\n",
    ")"
   ]
  },
  {
   "cell_type": "code",
   "execution_count": 3,
   "metadata": {},
   "outputs": [],
   "source": [
    "import pandas as pd\n",
    "import numpy as np\n",
    "\n",
    "import matplotlib.pyplot as plt\n",
    "%matplotlib inline\n",
    "\n",
    "import seaborn as sns"
   ]
  },
  {
   "cell_type": "code",
   "execution_count": 4,
   "metadata": {},
   "outputs": [
    {
     "name": "stdout",
     "output_type": "stream",
     "text": [
      "0.23.2\n"
     ]
    }
   ],
   "source": [
    "import sklearn\n",
    "print(sklearn.__version__)"
   ]
  },
  {
   "cell_type": "markdown",
   "metadata": {},
   "source": [
    "---\n",
    "<a id='intro'></a>"
   ]
  },
  {
   "cell_type": "markdown",
   "metadata": {},
   "source": [
    "## Regression Dataset\n",
    "The [make_regression()](https://scikit-learn.org/stable/modules/generated/sklearn.datasets.make_regression.html) function from the scikit-learn library can be used to define a dataset. It provides control over the number of samples, number of input features, and, importantly, the number of relevant and redundant input features. This is critical as we specifically desire a dataset that we know has some redundant input features.\n",
    "\n",
    "We will define a dataset with 1,000 samples, each with 100 input features where 10 are informative and the remaining 90 are redundant."
   ]
  },
  {
   "cell_type": "code",
   "execution_count": 5,
   "metadata": {},
   "outputs": [],
   "source": [
    "# load and summarize the dataset\n",
    "from sklearn.datasets import make_regression\n",
    "\n",
    "X, y = make_regression(n_samples=1000, n_features=100, n_informative=10, noise=0.1, random_state=1)"
   ]
  },
  {
   "cell_type": "code",
   "execution_count": 6,
   "metadata": {},
   "outputs": [
    {
     "data": {
      "text/html": [
       "<div>\n",
       "<style scoped>\n",
       "    .dataframe tbody tr th:only-of-type {\n",
       "        vertical-align: middle;\n",
       "    }\n",
       "\n",
       "    .dataframe tbody tr th {\n",
       "        vertical-align: top;\n",
       "    }\n",
       "\n",
       "    .dataframe thead th {\n",
       "        text-align: right;\n",
       "    }\n",
       "</style>\n",
       "<table border=\"1\" class=\"dataframe\">\n",
       "  <thead>\n",
       "    <tr style=\"text-align: right;\">\n",
       "      <th></th>\n",
       "      <th>0</th>\n",
       "      <th>1</th>\n",
       "      <th>2</th>\n",
       "      <th>3</th>\n",
       "      <th>4</th>\n",
       "      <th>5</th>\n",
       "      <th>6</th>\n",
       "      <th>7</th>\n",
       "      <th>8</th>\n",
       "      <th>9</th>\n",
       "      <th>...</th>\n",
       "      <th>90</th>\n",
       "      <th>91</th>\n",
       "      <th>92</th>\n",
       "      <th>93</th>\n",
       "      <th>94</th>\n",
       "      <th>95</th>\n",
       "      <th>96</th>\n",
       "      <th>97</th>\n",
       "      <th>98</th>\n",
       "      <th>99</th>\n",
       "    </tr>\n",
       "  </thead>\n",
       "  <tbody>\n",
       "    <tr>\n",
       "      <th>0</th>\n",
       "      <td>0.308937</td>\n",
       "      <td>-1.358117</td>\n",
       "      <td>1.799673</td>\n",
       "      <td>0.370344</td>\n",
       "      <td>-1.089044</td>\n",
       "      <td>-0.611431</td>\n",
       "      <td>-0.335119</td>\n",
       "      <td>1.147323</td>\n",
       "      <td>-1.054796</td>\n",
       "      <td>0.139363</td>\n",
       "      <td>...</td>\n",
       "      <td>-0.450311</td>\n",
       "      <td>-0.015725</td>\n",
       "      <td>-0.080910</td>\n",
       "      <td>-0.809523</td>\n",
       "      <td>-0.615246</td>\n",
       "      <td>0.251029</td>\n",
       "      <td>-0.161305</td>\n",
       "      <td>-0.552200</td>\n",
       "      <td>-1.508041</td>\n",
       "      <td>0.149237</td>\n",
       "    </tr>\n",
       "    <tr>\n",
       "      <th>1</th>\n",
       "      <td>-0.714677</td>\n",
       "      <td>-0.911399</td>\n",
       "      <td>0.704543</td>\n",
       "      <td>0.072666</td>\n",
       "      <td>-0.146416</td>\n",
       "      <td>-1.417644</td>\n",
       "      <td>-0.267344</td>\n",
       "      <td>0.963182</td>\n",
       "      <td>1.159643</td>\n",
       "      <td>-0.782204</td>\n",
       "      <td>...</td>\n",
       "      <td>1.002065</td>\n",
       "      <td>-1.594992</td>\n",
       "      <td>1.299482</td>\n",
       "      <td>0.285062</td>\n",
       "      <td>0.109400</td>\n",
       "      <td>0.049349</td>\n",
       "      <td>1.239483</td>\n",
       "      <td>-0.770401</td>\n",
       "      <td>0.497540</td>\n",
       "      <td>0.836287</td>\n",
       "    </tr>\n",
       "    <tr>\n",
       "      <th>2</th>\n",
       "      <td>-2.414273</td>\n",
       "      <td>0.270416</td>\n",
       "      <td>-1.890207</td>\n",
       "      <td>-0.984467</td>\n",
       "      <td>-0.509132</td>\n",
       "      <td>-0.236473</td>\n",
       "      <td>0.924821</td>\n",
       "      <td>-1.554528</td>\n",
       "      <td>0.220635</td>\n",
       "      <td>-1.079696</td>\n",
       "      <td>...</td>\n",
       "      <td>-0.240047</td>\n",
       "      <td>1.455053</td>\n",
       "      <td>-0.853952</td>\n",
       "      <td>0.227808</td>\n",
       "      <td>-1.869735</td>\n",
       "      <td>0.606788</td>\n",
       "      <td>-0.503986</td>\n",
       "      <td>0.434974</td>\n",
       "      <td>0.967623</td>\n",
       "      <td>1.107183</td>\n",
       "    </tr>\n",
       "    <tr>\n",
       "      <th>3</th>\n",
       "      <td>1.537630</td>\n",
       "      <td>-0.936710</td>\n",
       "      <td>0.922793</td>\n",
       "      <td>-0.003897</td>\n",
       "      <td>-1.335670</td>\n",
       "      <td>-0.665940</td>\n",
       "      <td>0.716759</td>\n",
       "      <td>-0.155484</td>\n",
       "      <td>1.408668</td>\n",
       "      <td>2.234314</td>\n",
       "      <td>...</td>\n",
       "      <td>0.171679</td>\n",
       "      <td>-2.075227</td>\n",
       "      <td>0.357591</td>\n",
       "      <td>-0.653531</td>\n",
       "      <td>-0.516247</td>\n",
       "      <td>-1.373571</td>\n",
       "      <td>0.145010</td>\n",
       "      <td>1.631103</td>\n",
       "      <td>-1.623318</td>\n",
       "      <td>1.773253</td>\n",
       "    </tr>\n",
       "    <tr>\n",
       "      <th>4</th>\n",
       "      <td>-0.484542</td>\n",
       "      <td>1.470649</td>\n",
       "      <td>1.364323</td>\n",
       "      <td>-0.467492</td>\n",
       "      <td>1.580360</td>\n",
       "      <td>-0.009018</td>\n",
       "      <td>0.412203</td>\n",
       "      <td>0.587010</td>\n",
       "      <td>-0.461107</td>\n",
       "      <td>-0.079273</td>\n",
       "      <td>...</td>\n",
       "      <td>-0.292875</td>\n",
       "      <td>-1.347707</td>\n",
       "      <td>-0.473457</td>\n",
       "      <td>-0.345626</td>\n",
       "      <td>-0.040660</td>\n",
       "      <td>-1.085091</td>\n",
       "      <td>0.174213</td>\n",
       "      <td>-0.919603</td>\n",
       "      <td>-0.324808</td>\n",
       "      <td>0.019620</td>\n",
       "    </tr>\n",
       "  </tbody>\n",
       "</table>\n",
       "<p>5 rows × 100 columns</p>\n",
       "</div>"
      ],
      "text/plain": [
       "         0         1         2         3         4         5         6   \\\n",
       "0  0.308937 -1.358117  1.799673  0.370344 -1.089044 -0.611431 -0.335119   \n",
       "1 -0.714677 -0.911399  0.704543  0.072666 -0.146416 -1.417644 -0.267344   \n",
       "2 -2.414273  0.270416 -1.890207 -0.984467 -0.509132 -0.236473  0.924821   \n",
       "3  1.537630 -0.936710  0.922793 -0.003897 -1.335670 -0.665940  0.716759   \n",
       "4 -0.484542  1.470649  1.364323 -0.467492  1.580360 -0.009018  0.412203   \n",
       "\n",
       "         7         8         9   ...        90        91        92        93  \\\n",
       "0  1.147323 -1.054796  0.139363  ... -0.450311 -0.015725 -0.080910 -0.809523   \n",
       "1  0.963182  1.159643 -0.782204  ...  1.002065 -1.594992  1.299482  0.285062   \n",
       "2 -1.554528  0.220635 -1.079696  ... -0.240047  1.455053 -0.853952  0.227808   \n",
       "3 -0.155484  1.408668  2.234314  ...  0.171679 -2.075227  0.357591 -0.653531   \n",
       "4  0.587010 -0.461107 -0.079273  ... -0.292875 -1.347707 -0.473457 -0.345626   \n",
       "\n",
       "         94        95        96        97        98        99  \n",
       "0 -0.615246  0.251029 -0.161305 -0.552200 -1.508041  0.149237  \n",
       "1  0.109400  0.049349  1.239483 -0.770401  0.497540  0.836287  \n",
       "2 -1.869735  0.606788 -0.503986  0.434974  0.967623  1.107183  \n",
       "3 -0.516247 -1.373571  0.145010  1.631103 -1.623318  1.773253  \n",
       "4 -0.040660 -1.085091  0.174213 -0.919603 -0.324808  0.019620  \n",
       "\n",
       "[5 rows x 100 columns]"
      ]
     },
     "execution_count": 6,
     "metadata": {},
     "output_type": "execute_result"
    }
   ],
   "source": [
    "X_df = pd.DataFrame(X)#, columns = ['Column_A','Column_B','Column_C'])\n",
    "X_df.head()"
   ]
  },
  {
   "cell_type": "code",
   "execution_count": 7,
   "metadata": {},
   "outputs": [],
   "source": [
    "# Split into train and test sets\n",
    "from sklearn.model_selection import train_test_split\n",
    "\n",
    "X_train, X_test, y_train, y_test = train_test_split(X, y, test_size=0.33, random_state=1)"
   ]
  },
  {
   "cell_type": "code",
   "execution_count": 8,
   "metadata": {},
   "outputs": [
    {
     "name": "stdout",
     "output_type": "stream",
     "text": [
      "Train (670, 100) (670,)\n",
      "Test (330, 100) (330,)\n"
     ]
    }
   ],
   "source": [
    "# Summarize\n",
    "print('Train', X_train.shape, y_train.shape)\n",
    "print('Test', X_test.shape, y_test.shape)"
   ]
  },
  {
   "cell_type": "markdown",
   "metadata": {},
   "source": [
    "## Numerical Feature Selection\n",
    "\n",
    "Low variance:\n",
    "- **Remove features with low variance**\n",
    "\n",
    "Univariate feature selection:\n",
    "- **Correlation Feature Selection:** Correlation is a measure of how two variables change together. Perhaps the most common correlation measure is Pearson’s correlation that assumes a Gaussian distribution to each variable and reports on their linear relationship.\n",
    "- **Mutual Information Feature Selection:** Mutual information is calculated between two variables and measures the reduction in uncertainty for one variable given a known value of the other variable.\n",
    "\n",
    "Recursive feature elimination:\n",
    "- XXX"
   ]
  },
  {
   "cell_type": "markdown",
   "metadata": {},
   "source": [
    "### Remove features with low variance\n",
    "VarianceThreshold is a simple baseline approach to feature selection. It removes all features whose variance doesn’t meet some threshold. By default, it removes all zero-variance features, i.e. features that have the same value in all samples.\n",
    "\n",
    "As an example, suppose that we have a dataset with boolean features, and we want to remove all features that are either one or zero (on or off) in more than 80% of the samples. Boolean features are Bernoulli random variables, and the variance of such variables is given by\n",
    "```\n",
    "Var[X] = p(1-p)\n",
    "```\n",
    "so we can select using the threshold .8 * (1 - .8)."
   ]
  },
  {
   "cell_type": "code",
   "execution_count": 9,
   "metadata": {},
   "outputs": [
    {
     "data": {
      "text/plain": [
       "0.15999999999999998"
      ]
     },
     "execution_count": 9,
     "metadata": {},
     "output_type": "execute_result"
    }
   ],
   "source": [
    ".8 * (1 - .8)"
   ]
  },
  {
   "cell_type": "code",
   "execution_count": 10,
   "metadata": {},
   "outputs": [
    {
     "data": {
      "text/plain": [
       "array([[0, 1],\n",
       "       [1, 0],\n",
       "       [0, 0],\n",
       "       [1, 1],\n",
       "       [1, 0],\n",
       "       [1, 1]])"
      ]
     },
     "execution_count": 10,
     "metadata": {},
     "output_type": "execute_result"
    }
   ],
   "source": [
    "from sklearn.feature_selection import VarianceThreshold\n",
    "\n",
    "X1 = [[0, 0, 1], [0, 1, 0], [1, 0, 0], [0, 1, 1], [0, 1, 0], [0, 1, 1]]\n",
    "sel = VarianceThreshold(threshold=(.8 * (1 - .8)))\n",
    "sel.fit_transform(X1)"
   ]
  },
  {
   "cell_type": "code",
   "execution_count": 11,
   "metadata": {},
   "outputs": [],
   "source": [
    "# Just make a convenience function; this one wraps the VarianceThreshold\n",
    "# transformer but you can pass it a pandas dataframe and get one in return\n",
    "# https://stackoverflow.com/questions/29298973/removing-features-with-low-variance-using-scikit-learn\n",
    "\n",
    "def get_low_variance_columns(dframe=None, columns=None,\n",
    "                             skip_columns=None, thresh=0.0,\n",
    "                             autoremove=False):\n",
    "    \"\"\"\n",
    "    Wrapper for sklearn VarianceThreshold for use on pandas dataframes.\n",
    "    \"\"\"\n",
    "    print(\"Finding low-variance features.\")\n",
    "    try:\n",
    "        # get list of all the original df columns\n",
    "        all_columns = dframe.columns\n",
    "\n",
    "        # remove `skip_columns`\n",
    "        remaining_columns = all_columns.drop(skip_columns)\n",
    "\n",
    "        # get length of new index\n",
    "        max_index = len(remaining_columns) - 1\n",
    "\n",
    "        # get indices for `skip_columns`\n",
    "        skipped_idx = [all_columns.get_loc(column)\n",
    "                       for column\n",
    "                       in skip_columns]\n",
    "\n",
    "        # adjust insert location by the number of columns removed\n",
    "        # (for non-zero insertion locations) to keep relative\n",
    "        # locations intact\n",
    "        for idx, item in enumerate(skipped_idx):\n",
    "            if item > max_index:\n",
    "                diff = item - max_index\n",
    "                skipped_idx[idx] -= diff\n",
    "            if item == max_index:\n",
    "                diff = item - len(skip_columns)\n",
    "                skipped_idx[idx] -= diff\n",
    "            if idx == 0:\n",
    "                skipped_idx[idx] = item\n",
    "\n",
    "        # get values of `skip_columns`\n",
    "        skipped_values = dframe.iloc[:, skipped_idx].values\n",
    "\n",
    "        # get dataframe values\n",
    "        X = dframe.loc[:, remaining_columns].values\n",
    "\n",
    "        # instantiate VarianceThreshold object\n",
    "        vt = VarianceThreshold(threshold=thresh)\n",
    "\n",
    "        # fit vt to data\n",
    "        vt.fit(X)\n",
    "\n",
    "        # get the indices of the features that are being kept\n",
    "        feature_indices = vt.get_support(indices=True)\n",
    "\n",
    "        # remove low-variance columns from index\n",
    "        feature_names = [remaining_columns[idx]\n",
    "                         for idx, _\n",
    "                         in enumerate(remaining_columns)\n",
    "                         if idx\n",
    "                         in feature_indices]\n",
    "\n",
    "        # get the columns to be removed\n",
    "        removed_features = list(np.setdiff1d(remaining_columns,\n",
    "                                             feature_names))\n",
    "        print(\"Found {0} low-variance columns.\"\n",
    "              .format(len(removed_features)))\n",
    "\n",
    "        # remove the columns\n",
    "        if autoremove:\n",
    "            print(\"Removing low-variance features.\")\n",
    "            # remove the low-variance columns\n",
    "            X_removed = vt.transform(X)\n",
    "\n",
    "            print(\"Reassembling the dataframe (with low-variance \"\n",
    "                  \"features removed).\")\n",
    "            # re-assemble the dataframe\n",
    "            dframe = pd.DataFrame(data=X_removed,\n",
    "                                  columns=feature_names)\n",
    "\n",
    "            # add back the `skip_columns`\n",
    "            for idx, index in enumerate(skipped_idx):\n",
    "                dframe.insert(loc=index,\n",
    "                              column=skip_columns[idx],\n",
    "                              value=skipped_values[:, idx])\n",
    "            print(\"Succesfully removed low-variance columns.\")\n",
    "\n",
    "        # do not remove columns\n",
    "        else:\n",
    "            print(\"No changes have been made to the dataframe.\")\n",
    "\n",
    "    except Exception as e:\n",
    "        print(e)\n",
    "        print(\"Could not remove low-variance features. Something \"\n",
    "              \"went wrong.\")\n",
    "        pass\n",
    "\n",
    "    return dframe, removed_features"
   ]
  },
  {
   "cell_type": "code",
   "execution_count": 12,
   "metadata": {},
   "outputs": [
    {
     "data": {
      "text/html": [
       "<div>\n",
       "<style scoped>\n",
       "    .dataframe tbody tr th:only-of-type {\n",
       "        vertical-align: middle;\n",
       "    }\n",
       "\n",
       "    .dataframe tbody tr th {\n",
       "        vertical-align: top;\n",
       "    }\n",
       "\n",
       "    .dataframe thead th {\n",
       "        text-align: right;\n",
       "    }\n",
       "</style>\n",
       "<table border=\"1\" class=\"dataframe\">\n",
       "  <thead>\n",
       "    <tr style=\"text-align: right;\">\n",
       "      <th></th>\n",
       "      <th>0</th>\n",
       "      <th>1</th>\n",
       "      <th>2</th>\n",
       "      <th>3</th>\n",
       "      <th>4</th>\n",
       "      <th>5</th>\n",
       "      <th>6</th>\n",
       "      <th>7</th>\n",
       "      <th>8</th>\n",
       "      <th>9</th>\n",
       "      <th>...</th>\n",
       "      <th>90</th>\n",
       "      <th>91</th>\n",
       "      <th>92</th>\n",
       "      <th>93</th>\n",
       "      <th>94</th>\n",
       "      <th>95</th>\n",
       "      <th>96</th>\n",
       "      <th>97</th>\n",
       "      <th>98</th>\n",
       "      <th>99</th>\n",
       "    </tr>\n",
       "  </thead>\n",
       "  <tbody>\n",
       "    <tr>\n",
       "      <th>0</th>\n",
       "      <td>-1.871971</td>\n",
       "      <td>-0.291231</td>\n",
       "      <td>0.902389</td>\n",
       "      <td>-0.869972</td>\n",
       "      <td>0.979617</td>\n",
       "      <td>-1.481788</td>\n",
       "      <td>0.074030</td>\n",
       "      <td>0.379316</td>\n",
       "      <td>-0.656935</td>\n",
       "      <td>0.317963</td>\n",
       "      <td>...</td>\n",
       "      <td>1.245430</td>\n",
       "      <td>-0.723215</td>\n",
       "      <td>0.169526</td>\n",
       "      <td>0.487529</td>\n",
       "      <td>-0.248418</td>\n",
       "      <td>0.827471</td>\n",
       "      <td>-1.259159</td>\n",
       "      <td>1.355173</td>\n",
       "      <td>0.720103</td>\n",
       "      <td>1.332368</td>\n",
       "    </tr>\n",
       "    <tr>\n",
       "      <th>1</th>\n",
       "      <td>1.220610</td>\n",
       "      <td>-0.123730</td>\n",
       "      <td>0.985174</td>\n",
       "      <td>-0.010736</td>\n",
       "      <td>-0.022537</td>\n",
       "      <td>0.313770</td>\n",
       "      <td>1.470754</td>\n",
       "      <td>-1.306269</td>\n",
       "      <td>1.581214</td>\n",
       "      <td>-0.981034</td>\n",
       "      <td>...</td>\n",
       "      <td>-0.889007</td>\n",
       "      <td>0.305280</td>\n",
       "      <td>-1.030287</td>\n",
       "      <td>0.346769</td>\n",
       "      <td>-0.924873</td>\n",
       "      <td>0.676581</td>\n",
       "      <td>0.577162</td>\n",
       "      <td>0.408939</td>\n",
       "      <td>-0.836799</td>\n",
       "      <td>0.786225</td>\n",
       "    </tr>\n",
       "    <tr>\n",
       "      <th>2</th>\n",
       "      <td>-1.494456</td>\n",
       "      <td>-0.553212</td>\n",
       "      <td>1.305315</td>\n",
       "      <td>-0.809376</td>\n",
       "      <td>1.467617</td>\n",
       "      <td>-0.681215</td>\n",
       "      <td>-0.771241</td>\n",
       "      <td>1.261611</td>\n",
       "      <td>-1.097849</td>\n",
       "      <td>0.712218</td>\n",
       "      <td>...</td>\n",
       "      <td>-0.671565</td>\n",
       "      <td>0.195052</td>\n",
       "      <td>0.960592</td>\n",
       "      <td>-0.799993</td>\n",
       "      <td>0.570993</td>\n",
       "      <td>0.056986</td>\n",
       "      <td>-0.286504</td>\n",
       "      <td>-1.681562</td>\n",
       "      <td>-0.305025</td>\n",
       "      <td>0.452569</td>\n",
       "    </tr>\n",
       "    <tr>\n",
       "      <th>3</th>\n",
       "      <td>0.900339</td>\n",
       "      <td>-0.935345</td>\n",
       "      <td>-0.192279</td>\n",
       "      <td>1.289228</td>\n",
       "      <td>0.925454</td>\n",
       "      <td>-1.165921</td>\n",
       "      <td>-0.562240</td>\n",
       "      <td>0.950477</td>\n",
       "      <td>-1.316410</td>\n",
       "      <td>-0.259530</td>\n",
       "      <td>...</td>\n",
       "      <td>-0.917765</td>\n",
       "      <td>0.817614</td>\n",
       "      <td>-0.730616</td>\n",
       "      <td>0.304676</td>\n",
       "      <td>-1.410802</td>\n",
       "      <td>-0.169603</td>\n",
       "      <td>-0.625380</td>\n",
       "      <td>-0.532919</td>\n",
       "      <td>-0.432969</td>\n",
       "      <td>-0.981493</td>\n",
       "    </tr>\n",
       "    <tr>\n",
       "      <th>4</th>\n",
       "      <td>0.033686</td>\n",
       "      <td>-2.041298</td>\n",
       "      <td>-2.634345</td>\n",
       "      <td>-1.545732</td>\n",
       "      <td>-0.604669</td>\n",
       "      <td>0.088849</td>\n",
       "      <td>-0.899741</td>\n",
       "      <td>-0.366217</td>\n",
       "      <td>0.601805</td>\n",
       "      <td>-0.240145</td>\n",
       "      <td>...</td>\n",
       "      <td>0.876640</td>\n",
       "      <td>-0.340806</td>\n",
       "      <td>-1.490400</td>\n",
       "      <td>0.068468</td>\n",
       "      <td>0.399456</td>\n",
       "      <td>-1.260501</td>\n",
       "      <td>-0.223374</td>\n",
       "      <td>0.137358</td>\n",
       "      <td>-0.881357</td>\n",
       "      <td>-0.672122</td>\n",
       "    </tr>\n",
       "  </tbody>\n",
       "</table>\n",
       "<p>5 rows × 100 columns</p>\n",
       "</div>"
      ],
      "text/plain": [
       "         0         1         2         3         4         5         6   \\\n",
       "0 -1.871971 -0.291231  0.902389 -0.869972  0.979617 -1.481788  0.074030   \n",
       "1  1.220610 -0.123730  0.985174 -0.010736 -0.022537  0.313770  1.470754   \n",
       "2 -1.494456 -0.553212  1.305315 -0.809376  1.467617 -0.681215 -0.771241   \n",
       "3  0.900339 -0.935345 -0.192279  1.289228  0.925454 -1.165921 -0.562240   \n",
       "4  0.033686 -2.041298 -2.634345 -1.545732 -0.604669  0.088849 -0.899741   \n",
       "\n",
       "         7         8         9   ...        90        91        92        93  \\\n",
       "0  0.379316 -0.656935  0.317963  ...  1.245430 -0.723215  0.169526  0.487529   \n",
       "1 -1.306269  1.581214 -0.981034  ... -0.889007  0.305280 -1.030287  0.346769   \n",
       "2  1.261611 -1.097849  0.712218  ... -0.671565  0.195052  0.960592 -0.799993   \n",
       "3  0.950477 -1.316410 -0.259530  ... -0.917765  0.817614 -0.730616  0.304676   \n",
       "4 -0.366217  0.601805 -0.240145  ...  0.876640 -0.340806 -1.490400  0.068468   \n",
       "\n",
       "         94        95        96        97        98        99  \n",
       "0 -0.248418  0.827471 -1.259159  1.355173  0.720103  1.332368  \n",
       "1 -0.924873  0.676581  0.577162  0.408939 -0.836799  0.786225  \n",
       "2  0.570993  0.056986 -0.286504 -1.681562 -0.305025  0.452569  \n",
       "3 -1.410802 -0.169603 -0.625380 -0.532919 -0.432969 -0.981493  \n",
       "4  0.399456 -1.260501 -0.223374  0.137358 -0.881357 -0.672122  \n",
       "\n",
       "[5 rows x 100 columns]"
      ]
     },
     "execution_count": 12,
     "metadata": {},
     "output_type": "execute_result"
    }
   ],
   "source": [
    "df = pd.DataFrame(X_train)#, columns = ['Column_A','Column_B','Column_C'])\n",
    "df.head()"
   ]
  },
  {
   "cell_type": "code",
   "execution_count": 13,
   "metadata": {},
   "outputs": [
    {
     "name": "stdout",
     "output_type": "stream",
     "text": [
      "Finding low-variance features.\n",
      "Found 0 low-variance columns.\n",
      "No changes have been made to the dataframe.\n"
     ]
    },
    {
     "data": {
      "text/plain": [
       "(           0         1         2         3         4         5         6   \\\n",
       " 0   -1.871971 -0.291231  0.902389 -0.869972  0.979617 -1.481788  0.074030   \n",
       " 1    1.220610 -0.123730  0.985174 -0.010736 -0.022537  0.313770  1.470754   \n",
       " 2   -1.494456 -0.553212  1.305315 -0.809376  1.467617 -0.681215 -0.771241   \n",
       " 3    0.900339 -0.935345 -0.192279  1.289228  0.925454 -1.165921 -0.562240   \n",
       " 4    0.033686 -2.041298 -2.634345 -1.545732 -0.604669  0.088849 -0.899741   \n",
       " ..        ...       ...       ...       ...       ...       ...       ...   \n",
       " 665  1.204892  1.199805 -1.501007 -0.257250 -0.360571 -1.430155  0.434164   \n",
       " 666 -0.820832  1.533342 -0.504243 -0.060644 -0.669185  0.884871  0.601132   \n",
       " 667  0.746176  0.354306 -0.626249  0.981839  0.374672 -0.530459 -0.600365   \n",
       " 668 -0.498498  1.514459 -1.094931  0.188624 -0.936138 -1.431263 -1.003676   \n",
       " 669  0.452704  0.317291  0.645293 -0.766670  0.223224 -0.625196 -0.727168   \n",
       " \n",
       "            7         8         9   ...        90        91        92  \\\n",
       " 0    0.379316 -0.656935  0.317963  ...  1.245430 -0.723215  0.169526   \n",
       " 1   -1.306269  1.581214 -0.981034  ... -0.889007  0.305280 -1.030287   \n",
       " 2    1.261611 -1.097849  0.712218  ... -0.671565  0.195052  0.960592   \n",
       " 3    0.950477 -1.316410 -0.259530  ... -0.917765  0.817614 -0.730616   \n",
       " 4   -0.366217  0.601805 -0.240145  ...  0.876640 -0.340806 -1.490400   \n",
       " ..        ...       ...       ...  ...       ...       ...       ...   \n",
       " 665 -1.399627  0.464270  1.069494  ... -0.499199 -0.882016 -0.525783   \n",
       " 666  0.666608  1.243511 -0.312586  ...  1.665381 -0.195842  0.397679   \n",
       " 667  2.218231 -0.192415  0.216295  ...  0.118431  0.098028  1.721131   \n",
       " 668  0.085901 -1.720344  0.050197  ... -0.187065 -0.739818  0.618837   \n",
       " 669 -0.102701 -0.848309 -0.882189  ... -0.109093 -0.021059 -0.462445   \n",
       " \n",
       "            93        94        95        96        97        98        99  \n",
       " 0    0.487529 -0.248418  0.827471 -1.259159  1.355173  0.720103  1.332368  \n",
       " 1    0.346769 -0.924873  0.676581  0.577162  0.408939 -0.836799  0.786225  \n",
       " 2   -0.799993  0.570993  0.056986 -0.286504 -1.681562 -0.305025  0.452569  \n",
       " 3    0.304676 -1.410802 -0.169603 -0.625380 -0.532919 -0.432969 -0.981493  \n",
       " 4    0.068468  0.399456 -1.260501 -0.223374  0.137358 -0.881357 -0.672122  \n",
       " ..        ...       ...       ...       ...       ...       ...       ...  \n",
       " 665 -1.109296 -1.225551  0.649369  1.692752  0.323299 -0.711202 -0.284744  \n",
       " 666  0.585141  0.524915  0.561862  1.003468 -0.405893 -0.708565  1.101494  \n",
       " 667  0.839082 -0.076888  0.794086  0.133749 -1.202256 -1.054103  0.507903  \n",
       " 668  1.376664 -1.016521  0.249521 -1.163532 -0.975300  0.156993  0.806942  \n",
       " 669  1.102275  0.899203  0.981582  1.186722  0.574898  0.303635  0.478512  \n",
       " \n",
       " [670 rows x 100 columns],\n",
       " [])"
      ]
     },
     "execution_count": 13,
     "metadata": {},
     "output_type": "execute_result"
    }
   ],
   "source": [
    "get_low_variance_columns(dframe=df, columns=df.columns, skip_columns=[], thresh=0.0, autoremove=False)"
   ]
  },
  {
   "cell_type": "markdown",
   "metadata": {},
   "source": [
    "### Correlation Feature Selection\n",
    "Linear correlation scores are typically a value between -1 and 1 with 0 representing no relationship. `For feature selection, we are often interested in a positive score with the larger the positive value`, the larger the relationship, and, more likely, the feature should be selected for modeling. As such the linear correlation can be converted into a correlation statistic with only positive values.\n",
    "\n",
    "The scikit-learn machine library provides an implementation of the correlation statistic in the [f_regression()](https://scikit-learn.org/stable/modules/generated/sklearn.feature_selection.f_regression.html) function. This function can be used in a feature selection strategy, such as selecting the top k most relevant features (largest values) via the [SelectKBest](https://scikit-learn.org/stable/modules/generated/sklearn.feature_selection.SelectKBest.html) class."
   ]
  },
  {
   "cell_type": "code",
   "execution_count": 17,
   "metadata": {},
   "outputs": [],
   "source": [
    "from sklearn.feature_selection import SelectKBest\n",
    "from sklearn.feature_selection import f_regression\n",
    "\n",
    "# Feature selection\n",
    "def select_features(X_train, y_train, X_test, score_func):\n",
    "    \n",
    "    # Configure to select all features\n",
    "    fs = SelectKBest(score_func=score_func, k='all')\n",
    "    \n",
    "    # Learn relationship from training data\n",
    "    fs.fit(X_train, y_train)\n",
    "    \n",
    "    # Transform train input data\n",
    "    X_train_fs = fs.transform(X_train)\n",
    "    \n",
    "    # Transform test input data\n",
    "    X_test_fs = fs.transform(X_test)\n",
    "\n",
    "    return X_train_fs, X_test_fs, fs"
   ]
  },
  {
   "cell_type": "code",
   "execution_count": 18,
   "metadata": {},
   "outputs": [
    {
     "name": "stdout",
     "output_type": "stream",
     "text": [
      "Feature 00:   231.89\n",
      "Feature 01:   198.71\n",
      "Feature 02:   122.13\n",
      "Feature 03:   101.39\n",
      "Feature 04:    63.96\n",
      "Feature 05:    52.20\n",
      "Feature 06:    45.74\n",
      "Feature 07:    13.95\n",
      "Feature 08:     9.57\n",
      "Feature 09:     5.99\n",
      "Feature 10:     5.96\n",
      "Feature 11:     5.72\n",
      "Feature 12:     5.59\n",
      "Feature 13:     5.36\n",
      "Feature 14:     4.30\n"
     ]
    }
   ],
   "source": [
    "# Feature selection\n",
    "X_train_fs, X_test_fs, fs = select_features(X_train=X_train, y_train=y_train, X_test=X_test, score_func=f_regression)\n",
    "\n",
    "########## Zrobic dataframe i powiazac scoring z nazwami kolumn, teraz to jest niepowiazane\n",
    "sorted_results = np.sort(fs.scores_)[::-1] # descending order\n",
    "\n",
    "# What are scores for the features\n",
    "for i in range(len(sorted_results[:15])):\n",
    "    print(f'Feature {i:02}: {sorted_results[i]:>8.2f}')"
   ]
  },
  {
   "cell_type": "code",
   "execution_count": 31,
   "metadata": {},
   "outputs": [
    {
     "data": {
      "image/png": "[encoded data removed]",
      "text/plain": [
       "<Figure size 432x288 with 1 Axes>"
      ]
     },
     "metadata": {
      "needs_background": "light"
     },
     "output_type": "display_data"
    }
   ],
   "source": [
    "# Bar Chart of the Input Features (x) vs. Correlation Feature Importance (y)\n",
    "plt.bar([i for i in range(len(fs.scores_))], fs.scores_)\n",
    "plt.show()"
   ]
  },
  {
   "cell_type": "markdown",
   "metadata": {},
   "source": [
    "### Mutual Information Feature Selection\n",
    "**Mutual information** from the field of information theory is the application of information gain (typically used in the construction of decision trees) to feature selection. Mutual information is calculated between two variables and measures the reduction in uncertainty for one variable given a known value of the other variable.\n",
    "\n",
    "Mutual information is straightforward when considering the distribution of two discrete (categorical or ordinal) variables, such as categorical input and categorical output data. Nevertheless, it can be adapted for use with numerical input and output data. See [Mutual Information between Discrete and Continuous Data Sets'](https://www.ncbi.nlm.nih.gov/pmc/articles/PMC3929353/).\n",
    "\n",
    "The scikit-learn machine learning library provides an implementation of mutual information for feature selection with numeric input and output variables via the [mutual_info_regression()](https://scikit-learn.org/stable/modules/generated/sklearn.feature_selection.mutual_info_regression.html) function."
   ]
  },
  {
   "cell_type": "code",
   "execution_count": 75,
   "metadata": {},
   "outputs": [],
   "source": [
    "from sklearn.feature_selection import SelectKBest\n",
    "from sklearn.feature_selection import mutual_info_regression"
   ]
  },
  {
   "cell_type": "code",
   "execution_count": 76,
   "metadata": {},
   "outputs": [],
   "source": [
    "# example of mutual information feature selection for numerical input data\n",
    "from sklearn.datasets import make_regression\n",
    "from sklearn.model_selection import train_test_split\n",
    "\n",
    "# Feature selection\n",
    "X_train_fs, X_test_fs, fs = select_features(X_train=X_train, y_train=y_train, X_test=X_test, score_func=f_regression)"
   ]
  },
  {
   "cell_type": "code",
   "execution_count": 77,
   "metadata": {},
   "outputs": [
    {
     "name": "stdout",
     "output_type": "stream",
     "text": [
      "Feature 00:   231.89\n",
      "Feature 01:   198.71\n",
      "Feature 02:   122.13\n",
      "Feature 03:   101.39\n",
      "Feature 04:    63.96\n",
      "Feature 05:    52.20\n",
      "Feature 06:    45.74\n",
      "Feature 07:    13.95\n",
      "Feature 08:     9.57\n",
      "Feature 09:     5.99\n",
      "Feature 10:     5.96\n",
      "Feature 11:     5.72\n",
      "Feature 12:     5.59\n",
      "Feature 13:     5.36\n",
      "Feature 14:     4.30\n"
     ]
    }
   ],
   "source": [
    "sorted_results = np.sort(fs.scores_)[::-1] # descending order\n",
    "\n",
    "# What are scores for the features\n",
    "for i in range(len(sorted_results[:15])):\n",
    "    print(f'Feature {i:02}: {sorted_results[i]:>8.2f}')"
   ]
  },
  {
   "cell_type": "code",
   "execution_count": 78,
   "metadata": {},
   "outputs": [
    {
     "data": {
      "image/png": "[encoded data removed]",
      "text/plain": [
       "<Figure size 432x288 with 1 Axes>"
      ]
     },
     "metadata": {
      "needs_background": "light"
     },
     "output_type": "display_data"
    }
   ],
   "source": [
    "# Bar Chart of the Input Features (x) vs. Correlation Feature Importance (y)\n",
    "plt.bar([i for i in range(len(fs.scores_))], fs.scores_)\n",
    "plt.show()"
   ]
  },
  {
   "cell_type": "code",
   "execution_count": null,
   "metadata": {},
   "outputs": [],
   "source": []
  },
  {
   "cell_type": "markdown",
   "metadata": {},
   "source": [
    "## Feature selection using SelectFromModel and LassoCV\n",
    "[Use SelectFromModel meta-transformer along with Lasso to select the best couple of features from the diabetes dataset](https://scikit-learn.org/stable/auto_examples/feature_selection/plot_select_from_model_diabetes.html#sphx-glr-auto-examples-feature-selection-plot-select-from-model-diabetes-py).\n",
    "\n",
    "Since the `L1 norm` promotes sparsity of features we might be interested in selecting only a subset of the most interesting features from the dataset. This example shows how to select two the most interesting features from the diabetes dataset.\n",
    "\n",
    "Diabetes dataset consists of 10 variables (features) collected from 442 diabetes patients. This example shows how to use SelectFromModel and LassoCv to find the best two features predicting disease progression after one year from the baseline."
   ]
  },
  {
   "cell_type": "code",
   "execution_count": 5,
   "metadata": {},
   "outputs": [],
   "source": [
    "from sklearn.datasets import load_diabetes\n",
    "from sklearn.feature_selection import SelectFromModel\n",
    "from sklearn.linear_model import LassoCV"
   ]
  },
  {
   "cell_type": "code",
   "execution_count": 6,
   "metadata": {},
   "outputs": [
    {
     "name": "stdout",
     "output_type": "stream",
     "text": [
      "['age', 'sex', 'bmi', 'bp', 's1', 's2', 's3', 's4', 's5', 's6']\n"
     ]
    }
   ],
   "source": [
    "diabetes = load_diabetes()\n",
    "\n",
    "X = diabetes.data\n",
    "y = diabetes.target\n",
    "\n",
    "feature_names = diabetes.feature_names\n",
    "print(feature_names)"
   ]
  },
  {
   "cell_type": "markdown",
   "metadata": {},
   "source": [
    "To decide on the importance of the features we are going to use `LassoCV` estimator. The features with the highest absolute `coef_` value are considered the most important."
   ]
  },
  {
   "cell_type": "code",
   "execution_count": 10,
   "metadata": {},
   "outputs": [
    {
     "name": "stdout",
     "output_type": "stream",
     "text": [
      "[  6.49684455 235.99640534 521.73854261 321.06689245 569.4426838\n",
      " 302.45627915   0.         143.6995665  669.92633112  66.83430445]\n"
     ]
    }
   ],
   "source": [
    "clf = LassoCV().fit(X, y)\n",
    "importance = np.abs(clf.coef_)\n",
    "print(importance)"
   ]
  },
  {
   "cell_type": "markdown",
   "metadata": {},
   "source": [
    "Now we want to select the two features which are the most important. `SelectFromModel()` allows for setting the threshold. Only the features with the `coef_` higher than the threshold will remain. Here, we want to set the threshold slightly above the third highest `coef_` calculated by `LassoCV()` from our data."
   ]
  },
  {
   "cell_type": "code",
   "execution_count": 11,
   "metadata": {},
   "outputs": [
    {
     "name": "stdout",
     "output_type": "stream",
     "text": [
      "Selected features: ['s5' 's1']\n"
     ]
    }
   ],
   "source": [
    "idx_third = importance.argsort()[-3]\n",
    "threshold = importance[idx_third] + 0.01\n",
    "\n",
    "idx_features = (-importance).argsort()[:2]\n",
    "name_features = np.array(feature_names)[idx_features]\n",
    "print('Selected features: {}'.format(name_features))"
   ]
  },
  {
   "cell_type": "code",
   "execution_count": 18,
   "metadata": {},
   "outputs": [
    {
     "data": {
      "text/plain": [
       "2"
      ]
     },
     "execution_count": 18,
     "metadata": {},
     "output_type": "execute_result"
    }
   ],
   "source": [
    "sfm = SelectFromModel(clf, threshold=threshold)\n",
    "sfm.fit(X, y)\n",
    "X_transform = sfm.transform(X)\n",
    "\n",
    "n_features = sfm.transform(X).shape[1]\n",
    "n_features"
   ]
  },
  {
   "cell_type": "code",
   "execution_count": 20,
   "metadata": {},
   "outputs": [
    {
     "data": {
      "image/png": "[encoded data removed]",
      "text/plain": [
       "<Figure size 864x576 with 1 Axes>"
      ]
     },
     "metadata": {
      "needs_background": "light"
     },
     "output_type": "display_data"
    }
   ],
   "source": [
    "# Plot the selected two features from the data\n",
    "fig, ax = plt.subplots(figsize=(12, 8))\n",
    "plt.title(\n",
    "    \"Features from diabets using SelectFromModel with \"\n",
    "    \"threshold {sfm.threshold:.3f}\")\n",
    "feature1 = X_transform[:, 0]\n",
    "feature2 = X_transform[:, 1]\n",
    "plt.plot(feature1, feature2, 'r.')\n",
    "plt.xlabel(\"First feature: {}\".format(name_features[0]))\n",
    "plt.ylabel(\"Second feature: {}\".format(name_features[1]))\n",
    "plt.ylim([np.min(feature2), np.max(feature2)])\n",
    "plt.show()"
   ]
  },
  {
   "cell_type": "markdown",
   "metadata": {},
   "source": [
    "## Feature importances with forests of trees\n",
    "[This example](https://scikit-learn.org/stable/auto_examples/ensemble/plot_forest_importances.html#sphx-glr-auto-examples-ensemble-plot-forest-importances-py) shows the use of forests of trees to evaluate the importance of features on an artificial classification task. The red bars are the impurity-based feature importances of the forest, along with their inter-trees variability.\n",
    "\n",
    "As expected, the plot suggests that 3 features are informative, while the remaining are not.\n",
    "\n",
    "**Warning:** impurity-based feature importances can be misleading for high cardinality features (many unique values). See [sklearn.inspection.permutation_importance](https://scikit-learn.org/stable/modules/generated/sklearn.inspection.permutation_importance.html#sklearn.inspection.permutation_importance) as an alternative."
   ]
  },
  {
   "cell_type": "code",
   "execution_count": 21,
   "metadata": {},
   "outputs": [],
   "source": [
    "import numpy as np\n",
    "import matplotlib.pyplot as plt\n",
    "\n",
    "from sklearn.datasets import make_classification\n",
    "from sklearn.ensemble import ExtraTreesClassifier"
   ]
  },
  {
   "cell_type": "code",
   "execution_count": 22,
   "metadata": {},
   "outputs": [],
   "source": [
    "# Build a classification task using 3 informative features\n",
    "X, y = make_classification(n_samples=1000,\n",
    "                           n_features=10,\n",
    "                           n_informative=3,\n",
    "                           n_redundant=0,\n",
    "                           n_repeated=0,\n",
    "                           n_classes=2,\n",
    "                           random_state=0,\n",
    "                           shuffle=False)"
   ]
  },
  {
   "cell_type": "code",
   "execution_count": 23,
   "metadata": {},
   "outputs": [],
   "source": [
    "# Build a forest and compute the impurity-based feature importances\n",
    "forest = ExtraTreesClassifier(n_estimators=250,\n",
    "                              random_state=0)\n",
    "forest.fit(X, y)\n",
    "importances = forest.feature_importances_\n",
    "std = np.std([tree.feature_importances_ for tree in forest.estimators_],\n",
    "             axis=0)\n",
    "indices = np.argsort(importances)[::-1]"
   ]
  },
  {
   "cell_type": "code",
   "execution_count": 24,
   "metadata": {},
   "outputs": [
    {
     "name": "stdout",
     "output_type": "stream",
     "text": [
      "Feature ranking:\n",
      "1. feature 1 (0.295902)\n",
      "2. feature 2 (0.208351)\n",
      "3. feature 0 (0.177632)\n",
      "4. feature 3 (0.047121)\n",
      "5. feature 6 (0.046303)\n",
      "6. feature 8 (0.046013)\n",
      "7. feature 7 (0.045575)\n",
      "8. feature 4 (0.044614)\n",
      "9. feature 9 (0.044577)\n",
      "10. feature 5 (0.043912)\n"
     ]
    }
   ],
   "source": [
    "# Print the feature ranking\n",
    "print(\"Feature ranking:\")\n",
    "\n",
    "for f in range(X.shape[1]):\n",
    "    print(\"%d. feature %d (%f)\" % (f + 1, indices[f], importances[indices[f]]))"
   ]
  },
  {
   "cell_type": "code",
   "execution_count": 25,
   "metadata": {},
   "outputs": [
    {
     "data": {
      "image/png": "[encoded data removed]",
      "text/plain": [
       "<Figure size 864x576 with 1 Axes>"
      ]
     },
     "metadata": {
      "needs_background": "light"
     },
     "output_type": "display_data"
    }
   ],
   "source": [
    "# Plot the impurity-based feature importances of the forest\n",
    "fig, ax = plt.subplots(figsize=(12, 8))\n",
    "plt.title(\"Feature importances\")\n",
    "plt.bar(range(X.shape[1]), importances[indices],\n",
    "        color=\"r\", yerr=std[indices], align=\"center\")\n",
    "plt.xticks(range(X.shape[1]), indices)\n",
    "plt.xlim([-1, X.shape[1]])\n",
    "plt.show()"
   ]
  },
  {
   "cell_type": "markdown",
   "metadata": {},
   "source": []
  },
  {
   "cell_type": "markdown",
   "metadata": {},
   "source": [
    "## Modeling With Selected Features\n",
    "A robust approach is to evaluate models using different feature selection methods (and numbers of features) and select the method that results in a model with the best performance. Linear regression is a good model for testing feature selection methods as it can perform better if irrelevant features are removed from the model."
   ]
  },
  {
   "cell_type": "markdown",
   "metadata": {},
   "source": [
    "### Model Built Using All Features"
   ]
  },
  {
   "cell_type": "code",
   "execution_count": 19,
   "metadata": {},
   "outputs": [
    {
     "name": "stdout",
     "output_type": "stream",
     "text": [
      "MAE: 0.086\n"
     ]
    }
   ],
   "source": [
    "# Evaluation of a model using all input features\n",
    "from sklearn.datasets import make_regression\n",
    "from sklearn.model_selection import train_test_split\n",
    "from sklearn.linear_model import LinearRegression\n",
    "from sklearn.metrics import mean_absolute_error\n",
    "\n",
    "# Load the dataset\n",
    "X, y = make_regression(n_samples=1000, n_features=100, n_informative=10, noise=0.1, random_state=1)\n",
    "\n",
    "# Split into train and test sets\n",
    "X_train, X_test, y_train, y_test = train_test_split(X, y, test_size=0.33, random_state=1)\n",
    "\n",
    "# Fit the model\n",
    "model = LinearRegression()\n",
    "model.fit(X_train, y_train)\n",
    "\n",
    "# Evaluate the model\n",
    "yhat = model.predict(X_test)\n",
    "\n",
    "# Evaluate predictions\n",
    "mae = mean_absolute_error(y_test, yhat)\n",
    "print('MAE: %.3f' % mae)"
   ]
  },
  {
   "cell_type": "markdown",
   "metadata": {},
   "source": [
    "### Model Built Using Correlation Features"
   ]
  },
  {
   "cell_type": "code",
   "execution_count": 20,
   "metadata": {},
   "outputs": [
    {
     "name": "stdout",
     "output_type": "stream",
     "text": [
      "MAE: 2.740\n"
     ]
    }
   ],
   "source": [
    "# Evaluation of a model using 10 features chosen with correlation\n",
    "from sklearn.datasets import make_regression\n",
    "from sklearn.model_selection import train_test_split\n",
    "from sklearn.feature_selection import SelectKBest\n",
    "from sklearn.feature_selection import f_regression\n",
    "from sklearn.linear_model import LinearRegression\n",
    "from sklearn.metrics import mean_absolute_error\n",
    "\n",
    "# Feature selection\n",
    "def select_features(X_train, y_train, X_test):\n",
    "    # configure to select a subset of features\n",
    "    fs = SelectKBest(score_func=f_regression, k=10)\n",
    "    # learn relationship from training data\n",
    "    fs.fit(X_train, y_train)\n",
    "    # transform train input data\n",
    "    X_train_fs = fs.transform(X_train)\n",
    "    # transform test input data\n",
    "    X_test_fs = fs.transform(X_test)\n",
    "    return X_train_fs, X_test_fs, fs\n",
    "\n",
    "# Load the dataset\n",
    "X, y = make_regression(n_samples=1000, n_features=100, n_informative=10, noise=0.1, random_state=1)\n",
    "\n",
    "# Split into train and test sets\n",
    "X_train, X_test, y_train, y_test = train_test_split(X, y, test_size=0.33, random_state=1)\n",
    "\n",
    "# Feature selection\n",
    "X_train_fs, X_test_fs, fs = select_features(X_train, y_train, X_test)\n",
    "\n",
    "# Fit the model\n",
    "model = LinearRegression()\n",
    "model.fit(X_train_fs, y_train)\n",
    "\n",
    "# Evaluate the model\n",
    "yhat = model.predict(X_test_fs)\n",
    "\n",
    "# Evaluate predictions\n",
    "mae = mean_absolute_error(y_test, yhat)\n",
    "print('MAE: %.3f' % mae)"
   ]
  },
  {
   "cell_type": "markdown",
   "metadata": {},
   "source": [
    "In this case, we see that the model achieved an error score of about 2.7, which is much larger than the baseline model that used all features and achieved an MAE of 0.086.\n",
    "\n",
    "This suggests that although the method has a strong idea of what features to select, building a model from these features alone does not result in a more skillful model. This could be because features that are important to the target are being left out, meaning that the method is being deceived about what is important."
   ]
  },
  {
   "cell_type": "markdown",
   "metadata": {},
   "source": [
    "### Model Built Using Mutual Information Features\n",
    "Running the example fits the model on the 88 top selected features chosen using mutual information."
   ]
  },
  {
   "cell_type": "code",
   "execution_count": 21,
   "metadata": {},
   "outputs": [
    {
     "name": "stdout",
     "output_type": "stream",
     "text": [
      "MAE: 0.084\n"
     ]
    }
   ],
   "source": [
    "# Evaluation of a model using 88 features chosen with mutual information\n",
    "from sklearn.datasets import make_regression\n",
    "from sklearn.model_selection import train_test_split\n",
    "from sklearn.feature_selection import SelectKBest\n",
    "from sklearn.feature_selection import mutual_info_regression\n",
    "from sklearn.linear_model import LinearRegression\n",
    "from sklearn.metrics import mean_absolute_error\n",
    "\n",
    "# feature selection\n",
    "def select_features(X_train, y_train, X_test):\n",
    "    # configure to select a subset of features\n",
    "    fs = SelectKBest(score_func=mutual_info_regression, k=88)\n",
    "    # learn relationship from training data\n",
    "    fs.fit(X_train, y_train)\n",
    "    # transform train input data\n",
    "    X_train_fs = fs.transform(X_train)\n",
    "    # transform test input data\n",
    "    X_test_fs = fs.transform(X_test)\n",
    "    return X_train_fs, X_test_fs, fs\n",
    "\n",
    "# Load the dataset\n",
    "X, y = make_regression(n_samples=1000, n_features=100, n_informative=10, noise=0.1, random_state=1)\n",
    "\n",
    "# Split into train and test sets\n",
    "X_train, X_test, y_train, y_test = train_test_split(X, y, test_size=0.33, random_state=1)\n",
    "\n",
    "# Feature selection\n",
    "X_train_fs, X_test_fs, fs = select_features(X_train, y_train, X_test)\n",
    "\n",
    "# Fit the model\n",
    "model = LinearRegression()\n",
    "model.fit(X_train_fs, y_train)\n",
    "\n",
    "# Evaluate the model\n",
    "yhat = model.predict(X_test_fs)\n",
    "\n",
    "# Evaluate predictions\n",
    "mae = mean_absolute_error(y_test, yhat)\n",
    "print('MAE: %.3f' % mae)"
   ]
  },
  {
   "cell_type": "markdown",
   "metadata": {},
   "source": [
    "In this case, we can see a further reduction in error as compared to the correlation statistic, in this case, achieving a MAE of about 0.084."
   ]
  },
  {
   "cell_type": "markdown",
   "metadata": {},
   "source": [
    "## Tune the Number of Selected Features\n",
    "In the previous example, we selected 88 features, but how do we know that is a good or best number of features to select?\n",
    "\n",
    "Instead of guessing, we can systematically test a range of different numbers of selected features and discover which results in the best performing model. This is called a grid search, where the k argument to the SelectKBest class can be tuned.\n",
    "\n",
    "It is a good practice to evaluate model configurations on regression tasks using repeated stratified k-fold cross-validation. We will use three repeats of 10-fold cross-validation via the RepeatedKFold class."
   ]
  },
  {
   "cell_type": "markdown",
   "metadata": {},
   "source": [
    "We can define a Pipeline that correctly prepares the feature selection transform on the training set and applies it to the train set and test set for each fold of the cross-validation.\n",
    "\n",
    "In this case, we will use the mutual information statistical method for selecting features. \n",
    "\n",
    "We can then define the grid of values to evaluate as 80 to 100.\n",
    "\n",
    "Note that the grid is a dictionary mapping of parameter-to-values to search, and given that we are using a Pipeline, we can access the SelectKBest object via the name we gave it ‘sel‘ and then the parameter name ‘k‘ separated by two underscores, or ‘sel__k‘.\n",
    "\n",
    "In this case, we will evaluate models using the negative mean absolute error (neg_mean_absolute_error). It is negative because the scikit-learn requires the score to be maximized, so the MAE is made negative, meaning scores scale from -infinity to 0 (best)."
   ]
  },
  {
   "cell_type": "code",
   "execution_count": 22,
   "metadata": {},
   "outputs": [
    {
     "name": "stdout",
     "output_type": "stream",
     "text": [
      "Best MAE: -0.010\n",
      "Best Config: {'sel__k': 81}\n",
      ">-50.101 with: {'sel__k': 80}\n",
      ">-0.010 with: {'sel__k': 81}\n",
      ">-0.010 with: {'sel__k': 82}\n",
      ">-0.010 with: {'sel__k': 83}\n",
      ">-0.010 with: {'sel__k': 84}\n",
      ">-0.010 with: {'sel__k': 85}\n",
      ">-0.010 with: {'sel__k': 86}\n",
      ">-0.010 with: {'sel__k': 87}\n",
      ">-0.010 with: {'sel__k': 88}\n",
      ">-0.010 with: {'sel__k': 89}\n",
      ">-0.010 with: {'sel__k': 90}\n",
      ">-0.011 with: {'sel__k': 91}\n",
      ">-0.011 with: {'sel__k': 92}\n",
      ">-0.011 with: {'sel__k': 93}\n",
      ">-0.011 with: {'sel__k': 94}\n",
      ">-0.011 with: {'sel__k': 95}\n",
      ">-0.011 with: {'sel__k': 96}\n",
      ">-0.011 with: {'sel__k': 97}\n",
      ">-0.011 with: {'sel__k': 98}\n",
      ">-0.011 with: {'sel__k': 99}\n",
      ">-0.011 with: {'sel__k': 100}\n"
     ]
    }
   ],
   "source": [
    "# Compare different numbers of features selected using mutual information\n",
    "from sklearn.datasets import make_regression\n",
    "from sklearn.model_selection import RepeatedKFold\n",
    "from sklearn.feature_selection import SelectKBest\n",
    "from sklearn.feature_selection import mutual_info_regression\n",
    "from sklearn.linear_model import LinearRegression\n",
    "from sklearn.pipeline import Pipeline\n",
    "from sklearn.model_selection import GridSearchCV\n",
    "\n",
    "# Define dataset\n",
    "X, y = make_regression(n_samples=1000, n_features=100, n_informative=10, noise=0.1, random_state=1)\n",
    "\n",
    "# Define the evaluation method\n",
    "cv = RepeatedKFold(n_splits=10, n_repeats=3, random_state=1)\n",
    "\n",
    "# Define the pipeline to evaluate\n",
    "model = LinearRegression()\n",
    "fs = SelectKBest(score_func=mutual_info_regression)\n",
    "pipeline = Pipeline(steps=[\n",
    "    ('sel',fs), \n",
    "    ('lr', model),\n",
    "])\n",
    "\n",
    "# Define the grid\n",
    "grid = dict()\n",
    "grid['sel__k'] = [i for i in range(X.shape[1]-20, X.shape[1]+1)]\n",
    "\n",
    "# Define the grid search\n",
    "search = GridSearchCV(pipeline, grid, scoring='neg_mean_squared_error', n_jobs=-1, cv=cv)\n",
    "\n",
    "# Perform the search\n",
    "results = search.fit(X, y)\n",
    "\n",
    "# Summarize best\n",
    "print('Best MAE: %.3f' % results.best_score_)\n",
    "print('Best Config: %s' % results.best_params_)\n",
    "\n",
    "# Summarize all\n",
    "means = results.cv_results_['mean_test_score']\n",
    "params = results.cv_results_['params']\n",
    "for mean, param in zip(means, params):\n",
    "    print(\">%.3f with: %r\" % (mean, param))"
   ]
  },
  {
   "cell_type": "markdown",
   "metadata": {},
   "source": [
    "Running the example grid searches different numbers of selected features using mutual information statistics, where each modeling pipeline is evaluated using repeated cross-validation.\n",
    "\n",
    "In this case, we can see that the best number of selected features is 81, which achieves a MAE of about 0.01 (ignoring the sign).\n",
    "\n",
    "We might want to see the relationship between the number of selected features and MAE. In this relationship, we may expect that more features result in better performance, to a point.\n",
    "\n",
    "This relationship can be explored by manually evaluating each configuration of k for the SelectKBest from 81 to 100, gathering the sample of MAE scores, and plotting the results using box and whisker plots side by side. The spread and mean of these box plots would be expected to show any interesting relationship between the number of selected features and the MAE of the pipeline.\n",
    "\n",
    "Note that we started the spread of k values at 81 instead of 80 because the distribution of MAE scores for k=80 is dramatically larger than all other values of k considered and it washed out the plot of the results on the graph."
   ]
  },
  {
   "cell_type": "code",
   "execution_count": 25,
   "metadata": {},
   "outputs": [
    {
     "name": "stdout",
     "output_type": "stream",
     "text": [
      ">81 -0.082 (0.006)\n",
      ">82 -0.082 (0.006)\n",
      ">83 -0.082 (0.006)\n",
      ">84 -0.082 (0.006)\n",
      ">85 -0.082 (0.006)\n",
      ">86 -0.082 (0.006)\n",
      ">87 -0.082 (0.006)\n",
      ">88 -0.082 (0.006)\n",
      ">89 -0.083 (0.006)\n",
      ">90 -0.083 (0.006)\n",
      ">91 -0.083 (0.006)\n",
      ">92 -0.083 (0.006)\n",
      ">93 -0.083 (0.006)\n",
      ">94 -0.083 (0.006)\n",
      ">95 -0.083 (0.006)\n",
      ">96 -0.083 (0.006)\n",
      ">97 -0.083 (0.006)\n",
      ">98 -0.083 (0.006)\n",
      ">99 -0.083 (0.006)\n",
      ">100 -0.083 (0.006)\n"
     ]
    },
    {
     "data": {
      "image/png": "[encoded data removed]",
      "text/plain": [
       "<Figure size 432x288 with 1 Axes>"
      ]
     },
     "metadata": {
      "needs_background": "light"
     },
     "output_type": "display_data"
    }
   ],
   "source": [
    "# Compare different numbers of features selected using mutual information\n",
    "from numpy import mean\n",
    "from numpy import std\n",
    "from sklearn.datasets import make_regression\n",
    "from sklearn.model_selection import cross_val_score\n",
    "from sklearn.model_selection import RepeatedKFold\n",
    "from sklearn.feature_selection import SelectKBest\n",
    "from sklearn.feature_selection import mutual_info_regression\n",
    "from sklearn.linear_model import LinearRegression\n",
    "from sklearn.pipeline import Pipeline\n",
    "\n",
    "import matplotlib.pyplot as plt\n",
    "%matplotlib inline\n",
    "\n",
    "# Define dataset\n",
    "X, y = make_regression(n_samples=1000, n_features=100, n_informative=10, noise=0.1, random_state=1)\n",
    "\n",
    "# Define number of features to evaluate\n",
    "num_features = [i for i in range(X.shape[1]-19, X.shape[1]+1)]\n",
    "\n",
    "# Enumerate each number of features\n",
    "results = list()\n",
    "for k in num_features:\n",
    "    # create pipeline\n",
    "    model = LinearRegression()\n",
    "    fs = SelectKBest(score_func=mutual_info_regression, k=k)\n",
    "    pipeline = Pipeline(steps=[('sel',fs), ('lr', model)])\n",
    "    # evaluate the model\n",
    "    cv = RepeatedKFold(n_splits=10, n_repeats=3, random_state=1)\n",
    "    scores = cross_val_score(pipeline, X, y, scoring='neg_mean_absolute_error', cv=cv, n_jobs=-1)\n",
    "    results.append(scores)\n",
    "    # summarize the results\n",
    "    print('>%d %.3f (%.3f)' % (k, mean(scores), std(scores)))\n",
    "\n",
    "# Plot model performance for comparison\n",
    "plt.boxplot(results, labels=num_features, showmeans=True)\n",
    "plt.show()"
   ]
  },
  {
   "cell_type": "markdown",
   "metadata": {},
   "source": [
    "Running the example first reports the mean and standard deviation MAE for each number of selected features. Box and whisker plots are created side by side showing the trend of k vs. MAE where the green triangle represents the mean and orange line represents the median of the distribution."
   ]
  },
  {
   "cell_type": "code",
   "execution_count": null,
   "metadata": {},
   "outputs": [],
   "source": []
  },
  {
   "cell_type": "code",
   "execution_count": null,
   "metadata": {},
   "outputs": [],
   "source": []
  },
  {
   "cell_type": "code",
   "execution_count": null,
   "metadata": {},
   "outputs": [],
   "source": []
  }
 ],
 "metadata": {
  "kernelspec": {
   "display_name": "Python 3",
   "language": "python",
   "name": "python3"
  },
  "language_info": {
   "codemirror_mode": {
    "name": "ipython",
    "version": 3
   },
   "file_extension": ".py",
   "mimetype": "text/x-python",
   "name": "python",
   "nbconvert_exporter": "python",
   "pygments_lexer": "ipython3",
   "version": "3.8.5"
  }
 },
 "nbformat": 4,
 "nbformat_minor": 4
}

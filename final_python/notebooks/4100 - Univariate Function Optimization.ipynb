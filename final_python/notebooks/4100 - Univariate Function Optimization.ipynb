{
 "cells": [
  {
   "cell_type": "markdown",
   "metadata": {},
   "source": [
    "```\n",
    "From: https://github.com/ksatola\n",
    "Version: 0.0.1\n",
    "\n",
    "TODOs\n",
    "1. https://docs.scipy.org/doc/scipy/reference/tutorial/optimize.html\n",
    "\n",
    "```"
   ]
  },
  {
   "cell_type": "markdown",
   "metadata": {},
   "source": [
    "# Univariate Function Optimization\n",
    "`Univariate function optimization` involves finding the input to a function that results in the optimal output from an objective function. This is a common procedure in machine learning when fitting a model with one parameter or tuning a model that has a single hyperparameter."
   ]
  },
  {
   "cell_type": "markdown",
   "metadata": {},
   "source": [
    "- Univariate Function Optimization\n",
    "- Convex Univariate Function Optimization\n",
    "- Non-Convex Univariate Function Optimization"
   ]
  },
  {
   "cell_type": "code",
   "execution_count": 1,
   "metadata": {},
   "outputs": [],
   "source": [
    "# Connect with underlying Python code\n",
    "%load_ext autoreload\n",
    "%autoreload 2\n",
    "import sys\n",
    "sys.path.insert(0, '../src')"
   ]
  },
  {
   "cell_type": "code",
   "execution_count": 2,
   "metadata": {},
   "outputs": [],
   "source": [
    "from datasets import (\n",
    "    get_dataset\n",
    ")"
   ]
  },
  {
   "cell_type": "code",
   "execution_count": 6,
   "metadata": {},
   "outputs": [],
   "source": [
    "import pandas as pd\n",
    "import numpy as np\n",
    "\n",
    "import matplotlib.pyplot as plt\n",
    "%matplotlib inline\n",
    "\n",
    "import seaborn as sns"
   ]
  },
  {
   "cell_type": "markdown",
   "metadata": {},
   "source": [
    "## Univariate Function Optimization\n",
    "We may need to find an optimal value of a function that takes a single parameter.\n",
    "\n",
    "In machine learning, this may occur in many situations, such as:\n",
    "\n",
    "- Finding the coefficient of a model to fit to a training dataset.\n",
    "- Finding the value of a single hyperparameter that results in the best model performance.\n",
    "\n",
    "This is called `univariate function optimization`.\n",
    "\n",
    "We may be interested in the minimum outcome or maximum outcome of the function, although this can be simplified to minimization as a maximizing function can be made minimizing by adding a negative sign to all outcomes of the function.\n",
    "\n",
    "There may or may not be limits on the inputs to the function, so-called `unconstrained or constrained optimization`, and we assume that small changes in input correspond to small changes in the output of the function, e.g. that it is smooth.\n",
    "\n",
    "The function may or may not have a single optima, although we prefer that it does have a single optima and that shape of the function looks like a large basin. If this is the case, we know we can sample the function at one point and find the path down to the minima of the function. Technically, this is referred to as a `convex function` ([link](https://en.wikipedia.org/wiki/Convex_function)) for minimization (`concave` for maximization), and functions that don’t have this basin shape are referred to as `non-convex`. \n",
    "\n",
    "<img src=\"images/ConvexFunction.svg\" alt=\"\" style=\"width: 600px;\"/>\n",
    "\n",
    "**Convex Target Function:** There is a single optima and the shape of the target function leads to this optima. Nevertheless, the target function is sufficiently complex that we don’t know the derivative, meaning we cannot just use calculus to analytically compute the minimum or maximum of the function where the gradient is zero. This is referred to as a `function that is non-differentiable`.\n",
    "\n",
    "Although we might be able to sample the function with candidate values, we don’t know the input that will result in the best outcome. This may be because of the many reasons it is expensive to evaluate candidate solutions.\n",
    "\n",
    "Therefore, we require an algorithm that efficiently samples input values to the function.\n",
    "\n",
    "One approach to solving univariate function optimization problems is to use [Brent’s method](https://en.wikipedia.org/wiki/Brent%27s_method). `Brent’s method` is an optimization algorithm that combines a bisecting algorithm (Dekker’s method) and [inverse quadratic interpolation](https://en.wikipedia.org/wiki/Inverse_quadratic_interpolation). It can be used for constrained and unconstrained univariate function optimization. Brent’s method modifies Dekker’s method to avoid getting stuck and also approximates the second derivative of the objective function (called the [Secant Method](https://en.wikipedia.org/wiki/Secant_method)) in an effort to accelerate the search. As such, Brent’s method for univariate function optimization is generally preferred over most other univariate function optimization algorithms given its efficiency.\n",
    "\n",
    "`Brent’s method` is available in Python via the `minimize_scalar()` [SciPy function](https://docs.scipy.org/doc/scipy/reference/generated/scipy.optimize.minimize_scalar.html) that takes the name of the function to be minimized. If your target function is constrained to a range, it can be specified via the “bounds” argument. It returns an [OptimizeResult](https://docs.scipy.org/doc/scipy/reference/generated/scipy.optimize.OptimizeResult.html) object that is a dictionary containing the solution. Importantly, the ‘x‘ key summarizes the input for the optima, the ‘fun‘ key summarizes the function output for the optima, and the ‘nfev‘ summarizes the number of evaluations of the target function that were performed."
   ]
  },
  {
   "cell_type": "markdown",
   "metadata": {},
   "source": [
    "## Convex Univariate Function Optimization\n",
    "In this section, we will solve a convex univariate function optimization problem.\n",
    "\n",
    "First, we can define a function that implements our function.\n",
    "\n",
    "In this case, we will use a simple offset version of the x^2 function e.g. a simple [parabola](https://en.wikipedia.org/wiki/Parabola) (u-shape) function.\n",
    "\n",
    "<img src=\"images/Parts_of_Parabola.svg\" alt=\"\" style=\"width: 400px;\"/>\n",
    "\n",
    "In our case it is a minimization objective function with an optima at -5.0 (not like in the picture above which has an optima at 1)."
   ]
  },
  {
   "cell_type": "code",
   "execution_count": 4,
   "metadata": {},
   "outputs": [],
   "source": [
    "# objective function\n",
    "def objective(x):\n",
    "    return (5.0 + x)**2.0"
   ]
  },
  {
   "cell_type": "markdown",
   "metadata": {},
   "source": [
    "We can plot a coarse grid of this function with input values from -10 to 10 to get an idea of the shape of the target function."
   ]
  },
  {
   "cell_type": "code",
   "execution_count": 8,
   "metadata": {},
   "outputs": [
    {
     "data": {
      "image/png": "[encoded data removed]",
      "text/plain": [
       "<Figure size 432x288 with 1 Axes>"
      ]
     },
     "metadata": {
      "needs_background": "light"
     },
     "output_type": "display_data"
    }
   ],
   "source": [
    "# Line Plot of a Convex Objective Function\n",
    "\n",
    "# define range\n",
    "r_min, r_max = -10.0, 10.0\n",
    "\n",
    "# prepare inputs\n",
    "inputs = np.arange(r_min, r_max, 0.1)\n",
    "\n",
    "# compute targets\n",
    "targets = [objective(x) for x in inputs]\n",
    "\n",
    "# plot inputs vs target\n",
    "plt.plot(inputs, targets, '--')\n",
    "plt.show()"
   ]
  },
  {
   "cell_type": "markdown",
   "metadata": {},
   "source": [
    "Running the example evaluates input values in our specified range using our target function and creates a plot of the function inputs to function outputs.\n",
    "\n",
    "We can see the U-shape of the function and that the objective is at -5.0.\n",
    "\n",
    "Note: in a real optimization problem, we would not be able to perform so many evaluations of the objective function so easily. This simple function is used for demonstration purposes so we can learn how to use the optimization algorithm.\n",
    "\n",
    "Next, we can use the optimization algorithm to find the optima."
   ]
  },
  {
   "cell_type": "code",
   "execution_count": 11,
   "metadata": {},
   "outputs": [
    {
     "data": {
      "text/plain": [
       "     fun: 3.1554436208840472e-30\n",
       "    nfev: 10\n",
       "     nit: 4\n",
       " success: True\n",
       "       x: -4.999999999999998"
      ]
     },
     "execution_count": 11,
     "metadata": {},
     "output_type": "execute_result"
    }
   ],
   "source": [
    "from scipy.optimize import minimize_scalar\n",
    "\n",
    "# minimize the function\n",
    "result = minimize_scalar(objective, method='brent')\n",
    "result"
   ]
  },
  {
   "cell_type": "markdown",
   "metadata": {},
   "source": [
    "Once optimized, we can summarize the result, including the input and evaluation of the optima and the number of function evaluations required to locate the optima."
   ]
  },
  {
   "cell_type": "code",
   "execution_count": 23,
   "metadata": {},
   "outputs": [
    {
     "name": "stdout",
     "output_type": "stream",
     "text": [
      "Optimal Input x: -5.000000\n",
      "Optimal Output f(x): 0.000000\n",
      "Total Evaluations n: 10\n"
     ]
    }
   ],
   "source": [
    "# summarize the result\n",
    "opt_x, opt_y = result['x'], result['fun']\n",
    "print(f'Optimal Input x: {opt_x:.6f}')\n",
    "print(f'Optimal Output f(x): {opt_y:.6f}')\n",
    "print(f'Total Evaluations n: {result[\"nfev\"]:d}')"
   ]
  },
  {
   "cell_type": "markdown",
   "metadata": {},
   "source": [
    "In this case, we can see that the optima was located after 10 evaluations of the objective function with an input of -5.0, achieving an objective function value of 0.0."
   ]
  },
  {
   "cell_type": "code",
   "execution_count": 26,
   "metadata": {},
   "outputs": [
    {
     "data": {
      "image/png": "[encoded data removed]",
      "text/plain": [
       "<Figure size 432x288 with 1 Axes>"
      ]
     },
     "metadata": {
      "needs_background": "light"
     },
     "output_type": "display_data"
    }
   ],
   "source": [
    "# prepare inputs\n",
    "inputs = np.arange(r_min, r_max, 0.1)\n",
    "\n",
    "# compute targets\n",
    "targets = [objective(x) for x in inputs]\n",
    "\n",
    "# plot inputs vs target\n",
    "plt.plot(inputs, targets, '--')\n",
    "\n",
    "# plot the optima\n",
    "plt.plot([opt_x], [opt_y], 's', color='r')\n",
    "\n",
    "# show the plot\n",
    "plt.show()"
   ]
  },
  {
   "cell_type": "markdown",
   "metadata": {},
   "source": [
    "## Non-Convex Univariate Function Optimization\n",
    "A `non-convex function` is one that does not resemble a basin, meaning that it may have more than one hill or valley.\n",
    "\n",
    "This can make it more challenging to locate the global optima as the multiple hills and valleys can cause the search to get stuck and report a false or local optima instead.\n",
    "\n",
    "We can define a non-convex univariate function as follows:"
   ]
  },
  {
   "cell_type": "code",
   "execution_count": 28,
   "metadata": {},
   "outputs": [],
   "source": [
    "# objective function\n",
    "def objective2(x):\n",
    "    return (x - 2.0) * x * (x + 2.0)**2.0"
   ]
  },
  {
   "cell_type": "code",
   "execution_count": 30,
   "metadata": {},
   "outputs": [
    {
     "data": {
      "image/png": "[encoded data removed]",
      "text/plain": [
       "<Figure size 432x288 with 1 Axes>"
      ]
     },
     "metadata": {
      "needs_background": "light"
     },
     "output_type": "display_data"
    }
   ],
   "source": [
    "# Line Plot of a Non-Convex Objective Function\n",
    "\n",
    "# define range\n",
    "r_min, r_max = -3.0, 2.5\n",
    "\n",
    "# prepare inputs\n",
    "inputs = np.arange(r_min, r_max, 0.1)\n",
    "\n",
    "# compute targets\n",
    "targets = [objective2(x) for x in inputs]\n",
    "\n",
    "# plot inputs vs target\n",
    "plt.plot(inputs, targets, '--')\n",
    "plt.show()"
   ]
  },
  {
   "cell_type": "markdown",
   "metadata": {},
   "source": [
    "We can see a function with one false optima around -2.0 and a global optima around 1.2.\n",
    "\n",
    "Note: in a real optimization problem, we would not be able to perform so many evaluations of the objective function so easily. This simple function is used for demonstration purposes so we can learn how to use the optimization algorithm.\n",
    "\n",
    "Next, we can use the optimization algorithm to find the optima.\n",
    "\n",
    "As before, we can call the` minimize_scalar()` function to optimize the function, then summarize the result and plot the optima on a line plot."
   ]
  },
  {
   "cell_type": "code",
   "execution_count": 32,
   "metadata": {},
   "outputs": [
    {
     "data": {
      "text/plain": [
       "     fun: -9.914949590828147\n",
       "    nfev: 15\n",
       "     nit: 11\n",
       " success: True\n",
       "       x: 1.2807764040333458"
      ]
     },
     "execution_count": 32,
     "metadata": {},
     "output_type": "execute_result"
    }
   ],
   "source": [
    "# minimize the function\n",
    "result = minimize_scalar(objective2, method='brent')\n",
    "result"
   ]
  },
  {
   "cell_type": "code",
   "execution_count": 33,
   "metadata": {},
   "outputs": [
    {
     "name": "stdout",
     "output_type": "stream",
     "text": [
      "Optimal Input x: 1.280776\n",
      "Optimal Output f(x): -9.914950\n",
      "Total Evaluations n: 15\n"
     ]
    }
   ],
   "source": [
    "# minimize the function\n",
    "result = minimize_scalar(objective2, method='brent')\n",
    "\n",
    "# summarize the result\n",
    "opt_x, opt_y = result['x'], result['fun']\n",
    "print(f'Optimal Input x: {opt_x:.6f}')\n",
    "print(f'Optimal Output f(x): {opt_y:.6f}')\n",
    "print(f'Total Evaluations n: {result[\"nfev\"]:d}')"
   ]
  },
  {
   "cell_type": "markdown",
   "metadata": {},
   "source": [
    "In this case, we can see that the optima was located after 15 evaluations of the objective function with an input of about 1.28, achieving an objective function value of about -9.91."
   ]
  },
  {
   "cell_type": "code",
   "execution_count": 34,
   "metadata": {},
   "outputs": [
    {
     "data": {
      "image/png": "[encoded data removed]",
      "text/plain": [
       "<Figure size 432x288 with 1 Axes>"
      ]
     },
     "metadata": {
      "needs_background": "light"
     },
     "output_type": "display_data"
    }
   ],
   "source": [
    "# prepare inputs\n",
    "inputs = np.arange(r_min, r_max, 0.1)\n",
    "\n",
    "# compute targets\n",
    "targets = [objective2(x) for x in inputs]\n",
    "\n",
    "# plot inputs vs target\n",
    "plt.plot(inputs, targets, '--')\n",
    "\n",
    "# plot the optima\n",
    "plt.plot([opt_x], [opt_y], 's', color='r')\n",
    "\n",
    "# show the plot\n",
    "plt.show()"
   ]
  },
  {
   "cell_type": "markdown",
   "metadata": {},
   "source": [
    "We can see that the optimization was not deceived by the false optima and successfully located the global optima."
   ]
  },
  {
   "cell_type": "code",
   "execution_count": null,
   "metadata": {},
   "outputs": [],
   "source": []
  }
 ],
 "metadata": {
  "kernelspec": {
   "display_name": "Python 3",
   "language": "python",
   "name": "python3"
  },
  "language_info": {
   "codemirror_mode": {
    "name": "ipython",
    "version": 3
   },
   "file_extension": ".py",
   "mimetype": "text/x-python",
   "name": "python",
   "nbconvert_exporter": "python",
   "pygments_lexer": "ipython3",
   "version": "3.8.5"
  }
 },
 "nbformat": 4,
 "nbformat_minor": 4
}

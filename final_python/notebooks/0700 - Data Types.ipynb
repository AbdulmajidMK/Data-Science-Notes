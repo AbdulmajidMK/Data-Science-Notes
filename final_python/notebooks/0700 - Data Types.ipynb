{
 "cells": [
  {
   "cell_type": "markdown",
   "metadata": {},
   "source": [
    "```\n",
    "From: https://github.com/ksatola\n",
    "Version: 0.0.1\n",
    "\n",
    "TODOs\n",
    "1. \n",
    "\n",
    "```"
   ]
  },
  {
   "cell_type": "markdown",
   "metadata": {},
   "source": [
    "# Data Types"
   ]
  },
  {
   "cell_type": "markdown",
   "metadata": {},
   "source": [
    "Data can be stored in a table, where each row is an example. Each column contains values for a given `attribute`. Together, `each attribute-value pair is a feature` of an example. We call the rows of the table the examples of the dataset and we refer to the columns as the features. Features are the measurements or values of our attributes. Often, people use “features” and “attributes” as synonyms describing the same thing; what they are referring to are the column of values. Still, some people like to distinguish among three concepts: what-is-measured, what-the-value-is, and what-the-measured-value-is. For those strict folks, the first is an attribute, the second is a value, and the last is a feature— an attribute and a value paired together."
   ]
  },
  {
   "cell_type": "markdown",
   "metadata": {},
   "source": [
    "## Categorical Data\n",
    "Let’s take a moment and look at the types of values our attributes—what is measured—can take. One type of value distinguishes between different groups of people.\n",
    "We might see such groups in a census or an epidemiological medical study—for example, sex {male, female} or a broad record of ethnic-cultural-genetic heritage {African,Asian, European, Native American, Polynesian}. Attributes like these are called discrete, symbolic, categorical, or nominal attributes, but we are not going to stress about those names.\n",
    "\n",
    "Here are two important, or at least practical, points about `categorical data`. \n",
    "- One point is that these values are discrete. They take a small, limited number of possibilities that typically represent one of several options. You’re right that small and several are relative terms—just go with it. \n",
    "- The second point is that the information in those attributes can be recorded in two distinct ways:\n",
    "    - As a single feature that takes one value for each option, or\n",
    "    - As several features, one per option, where one, and only one, of those features is marked as yes or true and the remainder are marked as no or false.\n",
    "    \n",
    "While we can record categorical data as numbers, we can’t necessarily perform meaningful numerical calculations directly on those values. There is an exception: if, by design, those values mean something beyond a unique identifier, we might be able to do some or all of the maths."
   ]
  },
  {
   "cell_type": "markdown",
   "metadata": {},
   "source": [
    "## Numerical Data\n",
    "Some feature values can be recorded and operated on as numbers. We may lump them together under the term `numerical features`. In other contexts, they are known as `continuous` or, depending on other details, `interval` or `ratio` values. Values for attributes like height and weight are typically recorded as decimal numbers. Values for attributes like age and blood pressure are often recorded as whole numbers. Values like counts - say, how many wheels are on a vehicle - are strictly whole numbers. Conveniently, we can perform arithmetic (+, −, ×, / ) on these. "
   ]
  },
  {
   "cell_type": "code",
   "execution_count": null,
   "metadata": {},
   "outputs": [],
   "source": []
  },
  {
   "cell_type": "markdown",
   "metadata": {},
   "source": [
    "## Time Series\n",
    "Time series of data are repeated measurements over time."
   ]
  },
  {
   "cell_type": "code",
   "execution_count": null,
   "metadata": {},
   "outputs": [],
   "source": []
  },
  {
   "cell_type": "code",
   "execution_count": null,
   "metadata": {},
   "outputs": [],
   "source": []
  },
  {
   "cell_type": "code",
   "execution_count": null,
   "metadata": {},
   "outputs": [],
   "source": []
  },
  {
   "cell_type": "code",
   "execution_count": null,
   "metadata": {},
   "outputs": [],
   "source": []
  },
  {
   "cell_type": "code",
   "execution_count": null,
   "metadata": {},
   "outputs": [],
   "source": []
  },
  {
   "cell_type": "code",
   "execution_count": null,
   "metadata": {},
   "outputs": [],
   "source": []
  },
  {
   "cell_type": "code",
   "execution_count": null,
   "metadata": {},
   "outputs": [],
   "source": []
  },
  {
   "cell_type": "code",
   "execution_count": null,
   "metadata": {},
   "outputs": [],
   "source": []
  }
 ],
 "metadata": {
  "kernelspec": {
   "display_name": "Python 3",
   "language": "python",
   "name": "python3"
  },
  "language_info": {
   "codemirror_mode": {
    "name": "ipython",
    "version": 3
   },
   "file_extension": ".py",
   "mimetype": "text/x-python",
   "name": "python",
   "nbconvert_exporter": "python",
   "pygments_lexer": "ipython3",
   "version": "3.8.5"
  }
 },
 "nbformat": 4,
 "nbformat_minor": 4
}

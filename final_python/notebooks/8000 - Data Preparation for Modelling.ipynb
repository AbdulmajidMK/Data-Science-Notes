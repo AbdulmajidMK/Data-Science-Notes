{
 "cells": [
  {
   "cell_type": "markdown",
   "metadata": {},
   "source": [
    "```\n",
    "From: https://github.com/ksatola\n",
    "Version: 0.0.1\n",
    "\n",
    "TODOs\n",
    "1. \n",
    "\n",
    "```"
   ]
  },
  {
   "cell_type": "markdown",
   "metadata": {},
   "source": [
    "# Data Preparation for Modelling\n",
    "Data preparation may be the most important part of a machine learning project. It is the most time consuming part. **`Data preparation` is the act of transforming raw data into a form that is appropriate for modeling**. `Data preparation` is also sometimes referred to as `data pre-processing`, `data wrangling`, `data cleaning`, `feature engineering` but some of these names may better fit as sub-tasks for the broader data preparation process. Machine learning algorithms require input data to be numbers, and most algorithm implementations maintain this expectation. If your data contains data types and values that are not numbers, such as labels, you will need to change the data\n",
    "into numbers. Further, specific machine learning algorithms have expectations regarding the data types, scale, probability distribution, and relationships between input variables, and you may need to change the data to meet these expectations.\n",
    "\n",
    "The philosophy of data preparation is to discover how to best expose the unknown underlying structure of the problem to the learning algorithms. This often requires an iterative path of experimentation through a suite of different data preparation techniques in order to discover what works well or best. The vast majority of the machine learning algorithms you may use on\n",
    "a project are years to decades old. The implementation and application of the algorithms are well understood. So much so that they are routine, with amazing fully featured open-source machine learning libraries like scikit-learn in Python. The thing that is different from project to project is the data. **The preparation of the data in order to best present it to the problem of the learning algorithms is the primary task of any modern machine learning project**.\n",
    "\n",
    "To summarize:\n",
    "- Each predictive modeling project with machine learning is different, but there are common steps performed on each project.\n",
    "- Data preparation involves best exposing the unknown underlying structure of the problem to learning algorithms.\n",
    "- The steps before and after data preparation in a project can inform what data preparation methods to apply, or at least explore."
   ]
  },
  {
   "cell_type": "markdown",
   "metadata": {},
   "source": [
    "There are common or standard tasks that you may use or explore during the data preparation step in a machine learning project. These tasks include:\n",
    "- **Data Cleaning:** Identifying and correcting mistakes or errors in the data.\n",
    "- **Feature Selection:** Identifying those input variables that are most relevant to the task.\n",
    "- **Data Transforms:** Changing the scale or distribution of variables.\n",
    "- **Feature Engineering:** Deriving new variables from available data.\n",
    "- **Dimensionality Reduction:** Creating compact projections of the data.\n",
    "\n",
    "Data preparation is not performed blindly. In some cases, variables must be encoded or transformed before we can apply a machine learning algorithm, such as converting strings to numbers. In other cases, it is less clear, for example: scaling a variable may or may not be useful to an algorithm.\n",
    "\n",
    "The broader philosophy of data preparation is to discover how to best expose the underlying structure of the problem to the learning algorithms. This is the guiding light. We don't know the underlying structure of the problem; if we did, we wouldn't need a learning algorithm to discover it and learn how to make skillful predictions. Therefore, exposing the unknown underlying structure of the problem is a process of discovery, along with discovering the well- or best-performing learning algorithms for the project."
   ]
  },
  {
   "cell_type": "code",
   "execution_count": null,
   "metadata": {},
   "outputs": [],
   "source": []
  },
  {
   "cell_type": "code",
   "execution_count": null,
   "metadata": {},
   "outputs": [],
   "source": []
  },
  {
   "cell_type": "code",
   "execution_count": null,
   "metadata": {},
   "outputs": [],
   "source": []
  },
  {
   "cell_type": "code",
   "execution_count": null,
   "metadata": {},
   "outputs": [],
   "source": []
  },
  {
   "cell_type": "code",
   "execution_count": null,
   "metadata": {},
   "outputs": [],
   "source": []
  },
  {
   "cell_type": "code",
   "execution_count": null,
   "metadata": {},
   "outputs": [],
   "source": []
  },
  {
   "cell_type": "code",
   "execution_count": null,
   "metadata": {},
   "outputs": [],
   "source": []
  },
  {
   "cell_type": "code",
   "execution_count": null,
   "metadata": {},
   "outputs": [],
   "source": []
  },
  {
   "cell_type": "code",
   "execution_count": null,
   "metadata": {},
   "outputs": [],
   "source": []
  }
 ],
 "metadata": {
  "kernelspec": {
   "display_name": "Python 3",
   "language": "python",
   "name": "python3"
  },
  "language_info": {
   "codemirror_mode": {
    "name": "ipython",
    "version": 3
   },
   "file_extension": ".py",
   "mimetype": "text/x-python",
   "name": "python",
   "nbconvert_exporter": "python",
   "pygments_lexer": "ipython3",
   "version": "3.8.5"
  }
 },
 "nbformat": 4,
 "nbformat_minor": 4
}

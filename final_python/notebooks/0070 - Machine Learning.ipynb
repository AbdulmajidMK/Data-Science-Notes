{
 "cells": [
  {
   "cell_type": "markdown",
   "metadata": {},
   "source": [
    "```\n",
    "From: https://github.com/ksatola\n",
    "Version: 0.0.1\n",
    "\n",
    "TODOs\n",
    "1. \n",
    "\n",
    "```"
   ]
  },
  {
   "cell_type": "markdown",
   "metadata": {},
   "source": [
    "# Machine Learning\n",
    "**Machine learning techniques are used for problems that cannot be solved efficiently or effectively in other ways**. For example, if we need to classify emails as spam or not spam, we need a software program to do this. We could sit down, manually review a ton of email, and write if-statements to perform this task. People have tried. It turns out that this approach is slow, fragile, and not very effective. Instead, we can use machine learning techniques to solve this problem. Specifically, an algorithm like Naive Bayes can learn how to classify email messages as spam and not spam from a large dataset of historical examples of email."
   ]
  },
  {
   "cell_type": "markdown",
   "metadata": {},
   "source": [
    "From time to time, people trot out a tired claim that computers can “only do what they are told to do.” The claim is taken to mean that computers can only do what their programmers know how to do and can explain to the computer. This claim is false. Computers can perform tasks that their programmers cannot explain to them. Computers can solve tasks that their programmers do not understand. We can break down this paradox with an example of a computer program that learns. Computers do what they are told, but they can be told to develop a capability. Computers can be told to learn."
   ]
  },
  {
   "cell_type": "markdown",
   "metadata": {},
   "source": [
    "There are many kinds of `computational learning systems` out there. The academic field that studies these systems is called **machine learning**."
   ]
  },
  {
   "cell_type": "code",
   "execution_count": null,
   "metadata": {},
   "outputs": [],
   "source": []
  },
  {
   "cell_type": "markdown",
   "metadata": {},
   "source": [
    "An algorithm is a finite, well-defined sequence of steps to solve a task. An implementation of an algorithm is the specification of those steps in a particular programming language. The algorithm is the abstract idea; the implementation is the concrete existence of that idea— at least, as concrete as a computer program can be! In reality, algorithms can also be implemented in hardware."
   ]
  },
  {
   "cell_type": "markdown",
   "metadata": {},
   "source": [
    "## Machine learning is not magic\n",
    "Learning cannot go beyond some fundamental limits. What are those limits? Two of them are directly related to the data we have available. \n",
    "- If we are trying to predict heart disease, having information about preferred hair styles and sock colors is—likely—not going to help us build a useful model. If we have no useful features, we’ll only pick up on illusory patterns — random noise — in the data. Even with useful features, in the face of many irrelevant features, learning methods may bog down and stop finding useful relationships. Thus, we have a fundamental limit: `we need features that are relevant to the task at hand`.\n",
    "- The second data limit relates to quantity. An entire subject called `computational learning theory` is devoted to the details of telling us how many examples we need to learn relationships under certain mathematically idealized conditions. From a practical standpoint, however, the short answer is more. We want more data. This rule-of-thumb is often summarized as `data is greater than (more important than) algorithms: data > algorithms`.\n",
    "\n",
    "But if our data is excessively noisy — whether due to errors or randomness — it might not actually be useful. Also, bumping up to a stronger learning machine might not get us better results.\n",
    "\n",
    "Speaking of errors in measurements, not every value we have in a data table is going to be 100% accurate. Our measuring rulers might be off by a bit; our ruler-readers might be rounding off their measurements in different ways. Worse yet, we might ask questions in surveys and receive lies in response.\n",
    "\n",
    "Even when we measure with great attention to detail, there can be differences when we repeat the process. Mistakes and uncertainty happen. The good news is that learning systems can tolerate these foibles. The bad news is that with enough noise it can be impossible to pick out intelligible patterns.\n",
    "\n",
    "Another issue is that, in general, we don’t know every relevant piece of information. Our outcomes may not be known with complete accuracy. Taken together, these give us unaccounted-for differences when we try to relate inputs to outputs. Even if we have every relevant piece of information measured with perfect accuracy, some processes in the world are fundamentally random. \n",
    "\n",
    "If we are missing a critical measurement, it may appear as if the relationship in our data is random. This loss of perspective is like trying to live in a three-dimensional world while only seeing two-dimensional shadows. There are many 3D objects that can give the same 2D shadow when illuminated from various angles; a can, a ball, and a coffee cup are all circles from the bird’s eye view. In the same way, missing measurements can obscure the real, detectable nature of a relationship.\n",
    "\n",
    "Perspective can shape our view of reality\n",
    "\n",
    "<img src=\"images/same_shadow.png\" alt=\"\" style=\"width: 600px;\"/>\n",
    "\n",
    "The biggest risk in developing learning systems is lying to ourselves about how well we are doing. The second biggest risk is blindly using a system without respect for the evolving and complex systems that surround it. Specifically, components in a complex socio-technical system are not swappable like parts in a car. We also need to tread very carefully with the assumption that the future is like the past.\n",
    "\n",
    "There are many other issues that make real-world data hard to process. Missing values is one of these issues. For example, data may be missing randomly, or it may be missing in concert with other values, or it may be missing because our data isn’t really a good sample of all the data we might consider. Each of these may require different steps to try to fill in the missing values."
   ]
  },
  {
   "cell_type": "markdown",
   "metadata": {},
   "source": []
  },
  {
   "cell_type": "code",
   "execution_count": null,
   "metadata": {},
   "outputs": [],
   "source": []
  },
  {
   "cell_type": "code",
   "execution_count": null,
   "metadata": {},
   "outputs": [],
   "source": []
  }
 ],
 "metadata": {
  "kernelspec": {
   "display_name": "Python 3",
   "language": "python",
   "name": "python3"
  },
  "language_info": {
   "codemirror_mode": {
    "name": "ipython",
    "version": 3
   },
   "file_extension": ".py",
   "mimetype": "text/x-python",
   "name": "python",
   "nbconvert_exporter": "python",
   "pygments_lexer": "ipython3",
   "version": "3.8.5"
  }
 },
 "nbformat": 4,
 "nbformat_minor": 4
}

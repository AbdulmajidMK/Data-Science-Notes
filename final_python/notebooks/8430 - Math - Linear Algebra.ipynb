{
 "cells": [
  {
   "cell_type": "markdown",
   "metadata": {},
   "source": [
    "```\n",
    "From: https://github.com/ksatola\n",
    "Version: 0.0.1\n",
    "\n",
    "TODOs\n",
    "1. \n",
    "\n",
    "```"
   ]
  },
  {
   "cell_type": "markdown",
   "metadata": {},
   "source": [
    "# Math - Linear Algebra"
   ]
  },
  {
   "cell_type": "code",
   "execution_count": 1,
   "metadata": {},
   "outputs": [],
   "source": [
    "# Connect with underlying Python code\n",
    "%load_ext autoreload\n",
    "%autoreload 2\n",
    "import sys\n",
    "sys.path.insert(0, '../src')"
   ]
  },
  {
   "cell_type": "code",
   "execution_count": 2,
   "metadata": {},
   "outputs": [],
   "source": [
    "from datasets import (\n",
    "    get_dataset,\n",
    ")"
   ]
  },
  {
   "cell_type": "code",
   "execution_count": 3,
   "metadata": {},
   "outputs": [],
   "source": [
    "import pandas as pd\n",
    "import numpy as np\n",
    "\n",
    "import matplotlib.pyplot as plt\n",
    "%matplotlib inline\n",
    "\n",
    "import seaborn as sns"
   ]
  },
  {
   "cell_type": "markdown",
   "metadata": {},
   "source": [
    "- Linear combinations\n",
    "- Weighted Average\n",
    "- Sums of Squares\n",
    "- Sum of Squared Errors"
   ]
  },
  {
   "cell_type": "markdown",
   "metadata": {},
   "source": [
    "## Linear Combinations\n",
    "\n",
    "When mathematical folks talk about a `linear combination`, they are using a technical term for what we do when we check out from the grocery store. If your grocery store bill looks like:\n",
    "```\n",
    "Product      Quantity     Cost Per\n",
    "----------------------------------\n",
    "Wine         2            12.50\n",
    "Orange       12           .50\n",
    "Muffin       3            1.75\n",
    "```\n",
    "you can figure out the `total cost` with some arithmetic:"
   ]
  },
  {
   "cell_type": "code",
   "execution_count": 4,
   "metadata": {},
   "outputs": [
    {
     "data": {
      "text/plain": [
       "36.25"
      ]
     },
     "execution_count": 4,
     "metadata": {},
     "output_type": "execute_result"
    }
   ],
   "source": [
    "(2 * 12.50) + (12 * .5) + (3 * 1.75)"
   ]
  },
  {
   "cell_type": "markdown",
   "metadata": {},
   "source": [
    "We might think of this as a `weighted sum`. A `sum` by itself is simply adding things up. The total number of items we bought is:"
   ]
  },
  {
   "cell_type": "code",
   "execution_count": 5,
   "metadata": {},
   "outputs": [
    {
     "data": {
      "text/plain": [
       "17"
      ]
     },
     "execution_count": 5,
     "metadata": {},
     "output_type": "execute_result"
    }
   ],
   "source": [
    "2 + 12 + 3"
   ]
  },
  {
   "cell_type": "markdown",
   "metadata": {},
   "source": [
    "However, when we buy things, we pay for each item based on its cost. To get a total\n",
    "cost, we have to add up a sequence of costs times quantities. I can phrase that in a slightly different way: `we have to weight the quantities of different items by their respective prices`."
   ]
  },
  {
   "cell_type": "code",
   "execution_count": 6,
   "metadata": {},
   "outputs": [
    {
     "data": {
      "text/plain": [
       "36.25"
      ]
     },
     "execution_count": 6,
     "metadata": {},
     "output_type": "execute_result"
    }
   ],
   "source": [
    "# pure python, old-school\n",
    "quantity = [2, 12, 3]\n",
    "costs = [12.5, .5, 1.75]\n",
    "partial_cost = []\n",
    "\n",
    "for q, c in zip(quantity, costs):\n",
    "    partial_cost.append(q*c)\n",
    "\n",
    "sum(partial_cost)"
   ]
  },
  {
   "cell_type": "code",
   "execution_count": 7,
   "metadata": {},
   "outputs": [
    {
     "data": {
      "text/plain": [
       "36.25"
      ]
     },
     "execution_count": 7,
     "metadata": {},
     "output_type": "execute_result"
    }
   ],
   "source": [
    "# pure python, for the new-school, cool kids\n",
    "quantity = [2, 12, 3]\n",
    "costs = [12.5, .5, 1.75]\n",
    "\n",
    "sum(q * c for q, c in zip(quantity, costs))"
   ]
  },
  {
   "cell_type": "markdown",
   "metadata": {},
   "source": [
    "Let’s return to computing the total cost. If I line up the quantities and costs in NumPy arrays, I can run the same calculation. I can also get the benefits of data that is more organized under the hood, concise code that is easily extendible for more quantities and costs, and better small- and large-scale performance:"
   ]
  },
  {
   "cell_type": "code",
   "execution_count": 8,
   "metadata": {},
   "outputs": [
    {
     "data": {
      "text/plain": [
       "36.25"
      ]
     },
     "execution_count": 8,
     "metadata": {},
     "output_type": "execute_result"
    }
   ],
   "source": [
    "quantity = np.array([2, 12, 3])\n",
    "costs = np.array([12.5, .5, 1.75])\n",
    "\n",
    "np.sum(quantity * costs) # element-wise multiplication"
   ]
  },
  {
   "cell_type": "markdown",
   "metadata": {},
   "source": [
    "This calculation can also be performed by NumPy with `np.dot`. `dot` multiplies the\n",
    "elements pairwise, selecting the pairs in lockstep down the two arrays, and then adds them up:"
   ]
  },
  {
   "cell_type": "code",
   "execution_count": 9,
   "metadata": {},
   "outputs": [
    {
     "name": "stdout",
     "output_type": "stream",
     "text": [
      "36.25\n",
      "36.25\n",
      "36.25\n"
     ]
    }
   ],
   "source": [
    "print(quantity.dot(costs),     # dot-product way 1\n",
    "      np.dot(quantity, costs), # dot-product way 2\n",
    "      quantity @ costs,        # dot-product way 3\n",
    "                               # (new addition to the family!)\n",
    "      sep='\\n')"
   ]
  },
  {
   "cell_type": "markdown",
   "metadata": {},
   "source": [
    "There are two things that make the `linear combination` (expressed in a `dot\n",
    "product`): (1) we multiply the values pairwise, and (2) we add up all those subresults. These correspond to (1) a single multiplication to create subtotals for each line on a receipt and (2) adding those subtotals together to get your final bill."
   ]
  },
  {
   "cell_type": "markdown",
   "metadata": {},
   "source": [
    "You’ll also see the dot product written mathematically (using q for quantity and c for cost) as $\\sum \\limits _{i} q_{i}c_{i}$. If you haven’t seen this notation before, here’s a breakdown:\n",
    "1. The $\\sum$, a capital Greek sigma, means add up,\n",
    "2. The $q_{i}c_{i}$ means multiply two things, and\n",
    "3. The i ties the pieces together in lockstep like a sequence index.\n",
    "\n",
    "More briefly, it says, “add up all of the element-wise multiplied q and c.” Even more briefly, we might call this `the sum product of the quantities and costs`. At our level, we can use sum product as a synonym for `dot product`.\n",
    "So, combining NumPy on the left-hand side and mathematics on the right-hand side,\n",
    "we have:\n",
    "\n",
    "np.dot(quantity, cost) = $\\sum \\limits _{i} q_{i}c_{i}$\n",
    "\n",
    "Sometimes, that will be written as briefly as qc. If I want to emphasize the dot product, or remind you of it, I’ll use a bullet (•) as its symbol: q • c. If you are uncertain about the element-wise or lockstep part, you can use Python’s zip function to help you out. It is designed precisely to march, in lockstep, through multiple sequences."
   ]
  },
  {
   "cell_type": "code",
   "execution_count": 11,
   "metadata": {},
   "outputs": [
    {
     "name": "stdout",
     "output_type": "stream",
     "text": [
      " 2  12.50 --> 25.00\n",
      "12   0.50 -->  6.00\n",
      " 3   1.75 -->  5.25\n",
      "Total: 36.25\n"
     ]
    }
   ],
   "source": [
    "for q_i, c_i in zip(quantity, costs):\n",
    "    print(\"{:2d} {:6.2f} --> {:5.2f}\".format(q_i, c_i, q_i * c_i))\n",
    "\n",
    "print(\"Total:\", sum(q*c for q,c in zip(quantity, costs))) # cool-kid method"
   ]
  },
  {
   "cell_type": "markdown",
   "metadata": {},
   "source": [
    "## Weighted Average\n",
    "The `simple average` — also called the `mean` — is an `equally weighted average` computed from a set of values. For example, if I have three values (10, 20, 30), I divide up my weights equally among the three values and, presto, I get thirds: \n",
    "```\n",
    "1/3*10 + 1/3*20 + 1/3*30\n",
    "```\n",
    "You might be looking at me with a distinct side eye, but if I rearrange that as (10+20+30)/3 you might be happier. I simply do sum(values)/3: add them all\n",
    "up and divide by the number of values. Look what happens, however, if I go back to the more expanded method:"
   ]
  },
  {
   "cell_type": "code",
   "execution_count": 14,
   "metadata": {},
   "outputs": [
    {
     "name": "stdout",
     "output_type": "stream",
     "text": [
      "weights: [0.33333333 0.33333333 0.33333333]\n",
      "via mean: 20.0\n",
      "via weights and dot: 20.0\n",
      "via weights and dot: 20.0\n",
      "via weights and dot: 20.0\n"
     ]
    }
   ],
   "source": [
    "values = np.array([10.0, 20.0, 30.0])\n",
    "weights = np.full_like(values, 1/3) # repeated (1/3)\n",
    "\n",
    "print(\"weights:\", weights)\n",
    "print(\"via mean:\", np.mean(values))\n",
    "print(\"via weights and dot:\", np.dot(weights, values))\n",
    "print(\"via weights and dot:\", weights.dot(values))\n",
    "print(\"via weights and dot:\", weights @ values)"
   ]
  },
  {
   "cell_type": "markdown",
   "metadata": {},
   "source": [
    "We can write the mean as a weighted sum — a sum product between values and weights. If we start playing around with the weights, we end up with the concept of `weighted averages`. With weighted averages, instead of using equal portions, we break the portions up any way we choose. In some scenarios, we insist that the portions add up to one. Let’s say we weighted our three values by 1/2, 1/4, 1/4. Why might we do this? These weights could express the idea that the first option is valued twice as much as the other two and that the other two are valued equally. It might also mean that the first one is twice as likely in a random scenario. These two interpretations are close to what we would get if we applied those weights to underlying costs or quantities. You can view them as two sides of the same double-sided coin."
   ]
  },
  {
   "cell_type": "code",
   "execution_count": 17,
   "metadata": {},
   "outputs": [
    {
     "data": {
      "text/plain": [
       "17.5"
      ]
     },
     "execution_count": 17,
     "metadata": {},
     "output_type": "execute_result"
    }
   ],
   "source": [
    "values = np.array([10, 20, 30])\n",
    "weights = np.array([.5, .25, .25])\n",
    "\n",
    "np.dot(weights, values)"
   ]
  },
  {
   "cell_type": "markdown",
   "metadata": {},
   "source": [
    "One special weighted average occurs when the values are the different outcomes of a\n",
    "random scenario and the weights represent the probabilities of those outcomes. In this case, the weighted average is called the `expected value` of that set of outcomes. \n",
    "\n",
    "Here’s a simple game. Suppose I roll a standard six-sided die and I get USD 1.00 if the die turns out odd and I lose USD .50 if the die comes up even. Let’s compute a dot product between the payoffs and the probabilities of each payoff. My expected outcome is to make:"
   ]
  },
  {
   "cell_type": "code",
   "execution_count": 18,
   "metadata": {},
   "outputs": [
    {
     "data": {
      "text/plain": [
       "0.25"
      ]
     },
     "execution_count": 18,
     "metadata": {},
     "output_type": "execute_result"
    }
   ],
   "source": [
    "                  # odd, even\n",
    "payoffs = np.array([1.0, -.5])\n",
    "probs = np.array([ .5, .5])\n",
    "\n",
    "np.dot(payoffs, probs)"
   ]
  },
  {
   "cell_type": "markdown",
   "metadata": {},
   "source": [
    "Mathematically, we write the expected value of the game as \n",
    "\n",
    "E(game) = $\\sum \\limits _{i} p_{i}v_{i}$\n",
    "\n",
    "with `p` being the probabilities of the events and `v` being the values or payoffs of those events. \n",
    "\n",
    "Now, in any single run of that game, I’ll either make USD 1.00 or lose USD .50. But, if I were to play the game, say 100 times, I’d expect to come out ahead by about USD 25.00 — the expected gain per game times the number of games. In reality, this outcome is a random event. Sometimes, I’ll do better. Sometimes, I’ll do worse. But USD 25.00 is my best guess before heading into a game with 100 tosses. With many, many tosses, we’re highly likely to get very close to that `expected value`.\n",
    "\n",
    "Here’s a simulation of 10000 rounds of the game. You can compare the outcome:"
   ]
  },
  {
   "cell_type": "code",
   "execution_count": 19,
   "metadata": {},
   "outputs": [
    {
     "data": {
      "text/plain": [
       "2500.0"
      ]
     },
     "execution_count": 19,
     "metadata": {},
     "output_type": "execute_result"
    }
   ],
   "source": [
    "# The expected value\n",
    "np.dot(payoffs, probs) * 10000"
   ]
  },
  {
   "cell_type": "code",
   "execution_count": 22,
   "metadata": {},
   "outputs": [
    {
     "name": "stdout",
     "output_type": "stream",
     "text": [
      "2552.5\n"
     ]
    }
   ],
   "source": [
    "# Game simulation\n",
    "\n",
    "def is_even(n):\n",
    "    # if remainder 0, value is even\n",
    "    return n % 2 == 0\n",
    "\n",
    "winnings = 0.0\n",
    "\n",
    "for toss_ct in range(10000):\n",
    "    die_toss = np.random.randint(1, 7)\n",
    "    winnings += 1.0 if is_even(die_toss) else -0.5\n",
    "\n",
    "print(winnings)"
   ]
  },
  {
   "cell_type": "markdown",
   "metadata": {},
   "source": [
    "## Sums of Squares\n",
    "One other, very special, sum-of-products is when both the quantity and the value are two copies of the same thing. For example, \n",
    "```\n",
    "5 · 5 + (−3)·(−3) + 2 · 2 + 1 · 1 = \n",
    "52 + 32 + 22 + 12 = \n",
    "25 + 9 + 4 + 1 = \n",
    "39\n",
    "```\n",
    "This is called a `sum of squares` since each element, multiplied by itself, gives the square of the original value. Here is how we can do that in code:"
   ]
  },
  {
   "cell_type": "code",
   "execution_count": 23,
   "metadata": {},
   "outputs": [
    {
     "name": "stdout",
     "output_type": "stream",
     "text": [
      "[25  9  4  1]\n",
      "39\n",
      "39\n"
     ]
    }
   ],
   "source": [
    "values = np.array([5, -3, 2, 1])\n",
    "squares = values * values # element-wise multiplication\n",
    "\n",
    "print(squares,\n",
    "      np.sum(squares),        # sum of squares\n",
    "      np.dot(values, values), \n",
    "      sep=\"\\n\")"
   ]
  },
  {
   "cell_type": "markdown",
   "metadata": {},
   "source": [
    "If I wrote this mathematically, it would look like: \n",
    "\n",
    "dot(values, values) = $\\sum \\limits _{i} v_{i}v_{i}$ = $\\sum \\limits _{i} v^{2}_{i}$"
   ]
  },
  {
   "cell_type": "markdown",
   "metadata": {},
   "source": [
    "## Sum of Squared Errors\n"
   ]
  },
  {
   "cell_type": "code",
   "execution_count": null,
   "metadata": {},
   "outputs": [],
   "source": []
  },
  {
   "cell_type": "code",
   "execution_count": null,
   "metadata": {},
   "outputs": [],
   "source": []
  },
  {
   "cell_type": "code",
   "execution_count": null,
   "metadata": {},
   "outputs": [],
   "source": []
  },
  {
   "cell_type": "code",
   "execution_count": null,
   "metadata": {},
   "outputs": [],
   "source": []
  },
  {
   "cell_type": "code",
   "execution_count": null,
   "metadata": {},
   "outputs": [],
   "source": []
  },
  {
   "cell_type": "code",
   "execution_count": null,
   "metadata": {},
   "outputs": [],
   "source": []
  },
  {
   "cell_type": "code",
   "execution_count": null,
   "metadata": {},
   "outputs": [],
   "source": []
  },
  {
   "cell_type": "code",
   "execution_count": null,
   "metadata": {},
   "outputs": [],
   "source": []
  },
  {
   "cell_type": "code",
   "execution_count": null,
   "metadata": {},
   "outputs": [],
   "source": []
  }
 ],
 "metadata": {
  "kernelspec": {
   "display_name": "Python 3",
   "language": "python",
   "name": "python3"
  },
  "language_info": {
   "codemirror_mode": {
    "name": "ipython",
    "version": 3
   },
   "file_extension": ".py",
   "mimetype": "text/x-python",
   "name": "python",
   "nbconvert_exporter": "python",
   "pygments_lexer": "ipython3",
   "version": "3.8.5"
  }
 },
 "nbformat": 4,
 "nbformat_minor": 4
}

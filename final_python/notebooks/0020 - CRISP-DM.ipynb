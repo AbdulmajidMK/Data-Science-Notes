{
 "cells": [
  {
   "cell_type": "markdown",
   "metadata": {},
   "source": []
  },
  {
   "cell_type": "markdown",
   "metadata": {},
   "source": [
    "# CRISP-DM\n",
    "Cross-Industry Standard Process for Data Mining (building a learning system), known as CRISP-DM, is an open standard process model that describes common approaches used by data mining experts. It is the most widely-used analytics model.\n",
    "\n",
    "<img src=\"images/crisp-dm.png\" alt=\"\" style=\"width: 600px;\"/>\n",
    "\n",
    "CRISP-DM breaks the process of data mining into six major phases:\n",
    "- **Business / Task Understanding** - Develop an understanding of our task\n",
    "- **Data Understanding** - Collect and understand our data\n",
    "- **Data Preparation** - Prepare the data for modeling\n",
    "- **Modeling** - Build models of relationships in the data\n",
    "- **Evaluation** - Evaluate and compare one or more models\n",
    "- **Deployment** - Transition the model into a deployable system\n",
    "\n",
    "The sequence of the phases is not strict and moving back and forth between different phases as it is always required. The arrows in the process diagram indicate the most important and frequent dependencies between phases. The outer circle in the diagram symbolizes the cyclic nature of data mining itself. A data mining process continues after a solution has been deployed. The lessons learned during the process can trigger new, often more focused business questions, and subsequent data mining processes will benefit from the experiences of previous ones.\n",
    "\n",
    "from: [Wikipedia](https://en.wikipedia.org/wiki/Cross-industry_standard_process_for_data_mining)"
   ]
  },
  {
   "cell_type": "markdown",
   "metadata": {},
   "source": [
    "We normally have to iterate, or repeat, these steps. Some steps may feed back to prior steps. As with most real-world processes, progress isn’t always a straight line forward.\n",
    "\n",
    "Within the high-level modeling step—that’s step 4 above — there are a number of important choices for a `supervised learning system`:\n",
    "1. What part of the data is our target and what are the features?\n",
    "2. What sort of machine (algorithm), or learning model, do we want to use to relate our input features to our target feature?\n",
    "3. Do the data and machine have any negative interactions? If so, do we need to do additional data preparation as part of our model building?\n",
    "4. How do we set the hyper-parameters on the machine? \n",
    "\n",
    "<img src=\"images/crisp-dm2.png\" alt=\"\" style=\"width: 600px;\"/>"
   ]
  },
  {
   "cell_type": "code",
   "execution_count": null,
   "metadata": {},
   "outputs": [],
   "source": []
  },
  {
   "cell_type": "code",
   "execution_count": null,
   "metadata": {},
   "outputs": [],
   "source": []
  },
  {
   "cell_type": "code",
   "execution_count": null,
   "metadata": {},
   "outputs": [],
   "source": []
  },
  {
   "cell_type": "code",
   "execution_count": null,
   "metadata": {},
   "outputs": [],
   "source": []
  },
  {
   "cell_type": "code",
   "execution_count": null,
   "metadata": {},
   "outputs": [],
   "source": []
  },
  {
   "cell_type": "code",
   "execution_count": null,
   "metadata": {},
   "outputs": [],
   "source": []
  }
 ],
 "metadata": {
  "kernelspec": {
   "display_name": "Python 3",
   "language": "python",
   "name": "python3"
  },
  "language_info": {
   "codemirror_mode": {
    "name": "ipython",
    "version": 3
   },
   "file_extension": ".py",
   "mimetype": "text/x-python",
   "name": "python",
   "nbconvert_exporter": "python",
   "pygments_lexer": "ipython3",
   "version": "3.8.5"
  }
 },
 "nbformat": 4,
 "nbformat_minor": 4
}

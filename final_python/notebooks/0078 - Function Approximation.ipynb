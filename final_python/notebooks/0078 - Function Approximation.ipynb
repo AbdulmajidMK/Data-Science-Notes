{
 "cells": [
  {
   "cell_type": "markdown",
   "metadata": {},
   "source": [
    "```\n",
    "From: https://github.com/ksatola\n",
    "Version: 0.0.1\n",
    "\n",
    "TODOs\n",
    "1. \n",
    "\n",
    "```"
   ]
  },
  {
   "cell_type": "markdown",
   "metadata": {},
   "source": [
    "# Function Approximation\n",
    "\n",
    "`Supervised learning` in machine learning can be described in terms of `function approximation`. Given a dataset comprised of inputs and outputs, we assume that there is an unknown underlying function that is consistent in mapping inputs to outputs in the target domain and resulted in the dataset. **We** then **use supervised learning algorithms to approximate this function**.\n",
    "\n",
    "`Function approximation` is a technique for estimating an unknown underlying function using historical or available observations from the domain.\n",
    "\n",
    "Artificial neural networks learn to approximate a function. We can think of this mapping as being governed by a mathematical function, called the `mapping function`, and it is this function that a supervised learning algorithm seeks to best approximate.\n",
    "\n",
    "We say `approximate` because although we suspect such a mapping function exists, we don’t know anything about it. The true function that maps inputs to outputs is unknown and is often referred to as the `target function`. It is the target of the learning process, the function we are trying to approximate using only the data that is available. If we knew the target function, we would not need to approximate it, i.e. we would not need a supervised machine learning algorithm. Therefore, function approximation is only a useful tool when the underlying target mapping function is unknown.\n",
    "\n",
    "All we have are observations from the domain that contain examples of inputs and outputs. This implies things about the size and quality of the data; for example:\n",
    "- The more examples we have, the more we might be able to figure out about the mapping function.\n",
    "- The less noise we have in observations, the more crisp approximation we can make of the mapping function.\n",
    "\n",
    "For instance, `neural networks` are `a universal approximator` as in theory, they can be used to approximate any target function. `Regression predictive modeling` involves predicting a numerical quantity given inputs. `Classification predictive modeling` involves predicting a class label given inputs. These predictive modeling problems can be seen as examples of `function approximation`.\n"
   ]
  },
  {
   "cell_type": "code",
   "execution_count": 1,
   "metadata": {},
   "outputs": [],
   "source": [
    "# Connect with underlying Python code\n",
    "%load_ext autoreload\n",
    "%autoreload 2\n",
    "import sys\n",
    "sys.path.insert(0, '../src')"
   ]
  },
  {
   "cell_type": "code",
   "execution_count": 49,
   "metadata": {},
   "outputs": [],
   "source": [
    "import pandas as pd\n",
    "import numpy as np\n",
    "\n",
    "import matplotlib.pyplot as plt\n",
    "%matplotlib inline\n",
    "\n",
    "import seaborn as sns"
   ]
  },
  {
   "cell_type": "markdown",
   "metadata": {},
   "source": [
    "## A Simple Target Function\n",
    "We can define a simple function with one numerical input variable and one numerical output variable. Later we will try to approximate this simple function.\n",
    "\n",
    "We can define a domain of numbers as our input, such as floating-point values from -50 to 50. We can then select a mathematical operation to apply to the inputs to get the output values. The selected mathematical operation will be the `mapping function`, and because we are choosing it, we will know what it is. In practice, this is not the case and is the reason why we would use a `supervised learning algorithm` like a neural network to learn or discover the mapping function.\n",
    "\n",
    "In this case, we will use the square of the input as the mapping function, defined as:\n",
    "```\n",
    "y = x^2\n",
    "```\n",
    "Where `y` is the output variable and `x` is the input variable.\n",
    "\n",
    "Below there is an example of creating a univariate dataset with a given `mapping function`."
   ]
  },
  {
   "cell_type": "code",
   "execution_count": 54,
   "metadata": {},
   "outputs": [
    {
     "name": "stdout",
     "output_type": "stream",
     "text": [
      "[-50, -49, -48, -47, -46, -45, -44, -43, -42, -41, -40, -39, -38, -37, -36, -35, -34, -33, -32, -31, -30, -29, -28, -27, -26, -25, -24, -23, -22, -21, -20, -19, -18, -17, -16, -15, -14, -13, -12, -11, -10, -9, -8, -7, -6, -5, -4, -3, -2, -1, 0, 1, 2, 3, 4, 5, 6, 7, 8, 9, 10, 11, 12, 13, 14, 15, 16, 17, 18, 19, 20, 21, 22, 23, 24, 25, 26, 27, 28, 29, 30, 31, 32, 33, 34, 35, 36, 37, 38, 39, 40, 41, 42, 43, 44, 45, 46, 47, 48, 49, 50]\n"
     ]
    }
   ],
   "source": [
    "# Define the input data\n",
    "x = [i for i in range(-50,51)]\n",
    "print(x)"
   ]
  },
  {
   "cell_type": "code",
   "execution_count": 55,
   "metadata": {},
   "outputs": [
    {
     "name": "stdout",
     "output_type": "stream",
     "text": [
      "[2500, 2401, 2304, 2209, 2116, 2025, 1936, 1849, 1764, 1681, 1600, 1521, 1444, 1369, 1296, 1225, 1156, 1089, 1024, 961, 900, 841, 784, 729, 676, 625, 576, 529, 484, 441, 400, 361, 324, 289, 256, 225, 196, 169, 144, 121, 100, 81, 64, 49, 36, 25, 16, 9, 4, 1, 0, 1, 4, 9, 16, 25, 36, 49, 64, 81, 100, 121, 144, 169, 196, 225, 256, 289, 324, 361, 400, 441, 484, 529, 576, 625, 676, 729, 784, 841, 900, 961, 1024, 1089, 1156, 1225, 1296, 1369, 1444, 1521, 1600, 1681, 1764, 1849, 1936, 2025, 2116, 2209, 2304, 2401, 2500]\n"
     ]
    }
   ],
   "source": [
    "# Define the output data\n",
    "y = [i**2 for i in x] # y's are calculated using the mapping function\n",
    "print(y)"
   ]
  },
  {
   "cell_type": "code",
   "execution_count": 56,
   "metadata": {},
   "outputs": [
    {
     "data": {
      "image/png": "[encoded data removed]",
      "text/plain": [
       "<Figure size 432x288 with 1 Axes>"
      ]
     },
     "metadata": {
      "needs_background": "light"
     },
     "output_type": "display_data"
    }
   ],
   "source": [
    "# Plot the input versus the output\n",
    "plt.scatter(x, y)\n",
    "plt.title('Input (x) versus Output (y)')\n",
    "plt.xlabel('Input Variable (x)')\n",
    "plt.ylabel('Output Variable (y)')\n",
    "plt.show()"
   ]
  },
  {
   "cell_type": "markdown",
   "metadata": {},
   "source": [
    "## Approximating the Simple Target Function Using Neural Netoworks\n",
    "The input and output variables represent our dataset. Now, we can pretend to forget that we know what the `mapping function` is and **use a neural network to re-learn or re-discover the mapping function**. \n",
    "\n",
    "We can fit a neural network model on examples of inputs and outputs and see if the model can learn the mapping function. This is a very simple mapping function, so we would expect a small neural network could learn it quickly. We will define the network using the `Keras` deep learning library and use some data preparation tools from the `scikit-learn` library."
   ]
  },
  {
   "cell_type": "code",
   "execution_count": 4,
   "metadata": {},
   "outputs": [
    {
     "name": "stdout",
     "output_type": "stream",
     "text": [
      "-50 50 0.0 2500.0\n"
     ]
    }
   ],
   "source": [
    "# Define the dataset\n",
    "x = np.asarray([i for i in range(-50,51)])\n",
    "y = np.asarray([i**2.0 for i in x])\n",
    "print(x.min(), x.max(), y.min(), y.max())"
   ]
  },
  {
   "cell_type": "code",
   "execution_count": 5,
   "metadata": {},
   "outputs": [
    {
     "name": "stdout",
     "output_type": "stream",
     "text": [
      "[-50 -49 -48 -47 -46 -45 -44 -43 -42 -41 -40 -39 -38 -37 -36 -35 -34 -33\n",
      " -32 -31 -30 -29 -28 -27 -26 -25 -24 -23 -22 -21 -20 -19 -18 -17 -16 -15\n",
      " -14 -13 -12 -11 -10  -9  -8  -7  -6  -5  -4  -3  -2  -1   0   1   2   3\n",
      "   4   5   6   7   8   9  10  11  12  13  14  15  16  17  18  19  20  21\n",
      "  22  23  24  25  26  27  28  29  30  31  32  33  34  35  36  37  38  39\n",
      "  40  41  42  43  44  45  46  47  48  49  50]\n"
     ]
    }
   ],
   "source": [
    "print(x)"
   ]
  },
  {
   "cell_type": "code",
   "execution_count": 6,
   "metadata": {},
   "outputs": [
    {
     "name": "stdout",
     "output_type": "stream",
     "text": [
      "[2.500e+03 2.401e+03 2.304e+03 2.209e+03 2.116e+03 2.025e+03 1.936e+03\n",
      " 1.849e+03 1.764e+03 1.681e+03 1.600e+03 1.521e+03 1.444e+03 1.369e+03\n",
      " 1.296e+03 1.225e+03 1.156e+03 1.089e+03 1.024e+03 9.610e+02 9.000e+02\n",
      " 8.410e+02 7.840e+02 7.290e+02 6.760e+02 6.250e+02 5.760e+02 5.290e+02\n",
      " 4.840e+02 4.410e+02 4.000e+02 3.610e+02 3.240e+02 2.890e+02 2.560e+02\n",
      " 2.250e+02 1.960e+02 1.690e+02 1.440e+02 1.210e+02 1.000e+02 8.100e+01\n",
      " 6.400e+01 4.900e+01 3.600e+01 2.500e+01 1.600e+01 9.000e+00 4.000e+00\n",
      " 1.000e+00 0.000e+00 1.000e+00 4.000e+00 9.000e+00 1.600e+01 2.500e+01\n",
      " 3.600e+01 4.900e+01 6.400e+01 8.100e+01 1.000e+02 1.210e+02 1.440e+02\n",
      " 1.690e+02 1.960e+02 2.250e+02 2.560e+02 2.890e+02 3.240e+02 3.610e+02\n",
      " 4.000e+02 4.410e+02 4.840e+02 5.290e+02 5.760e+02 6.250e+02 6.760e+02\n",
      " 7.290e+02 7.840e+02 8.410e+02 9.000e+02 9.610e+02 1.024e+03 1.089e+03\n",
      " 1.156e+03 1.225e+03 1.296e+03 1.369e+03 1.444e+03 1.521e+03 1.600e+03\n",
      " 1.681e+03 1.764e+03 1.849e+03 1.936e+03 2.025e+03 2.116e+03 2.209e+03\n",
      " 2.304e+03 2.401e+03 2.500e+03]\n"
     ]
    }
   ],
   "source": [
    "print(y)"
   ]
  },
  {
   "cell_type": "code",
   "execution_count": 7,
   "metadata": {},
   "outputs": [],
   "source": [
    "# Reshape arrays into into rows and cols so that the input and output variables are columns \n",
    "# with one observation per row, as is expected when using supervised learning models\n",
    "x = x.reshape((len(x), 1))\n",
    "y = y.reshape((len(y), 1))"
   ]
  },
  {
   "cell_type": "code",
   "execution_count": 8,
   "metadata": {},
   "outputs": [
    {
     "data": {
      "text/plain": [
       "array([[-50],\n",
       "       [-49],\n",
       "       [-48],\n",
       "       [-47],\n",
       "       [-46],\n",
       "       [-45],\n",
       "       [-44],\n",
       "       [-43],\n",
       "       [-42],\n",
       "       [-41]])"
      ]
     },
     "execution_count": 8,
     "metadata": {},
     "output_type": "execute_result"
    }
   ],
   "source": [
    "x[:10]"
   ]
  },
  {
   "cell_type": "code",
   "execution_count": 9,
   "metadata": {},
   "outputs": [
    {
     "data": {
      "text/plain": [
       "array([[2500.],\n",
       "       [2401.],\n",
       "       [2304.],\n",
       "       [2209.],\n",
       "       [2116.],\n",
       "       [2025.],\n",
       "       [1936.],\n",
       "       [1849.],\n",
       "       [1764.],\n",
       "       [1681.]])"
      ]
     },
     "execution_count": 9,
     "metadata": {},
     "output_type": "execute_result"
    }
   ],
   "source": [
    "y[:10]"
   ]
  },
  {
   "cell_type": "markdown",
   "metadata": {},
   "source": [
    "The inputs will have a range between -50 and 50, whereas the outputs will have a range between -50^2 (2500) and 0^2 (0). Large input and output values can make training neural networks unstable, therefore, it is a good idea to scale data first. We can use the `MinMaxScaler` to separately normalize the input values and the output values to values in the range between 0 and 1."
   ]
  },
  {
   "cell_type": "code",
   "execution_count": 10,
   "metadata": {},
   "outputs": [
    {
     "name": "stdout",
     "output_type": "stream",
     "text": [
      "0.0 1.0 0.0 1.0\n"
     ]
    }
   ],
   "source": [
    "from sklearn.preprocessing import MinMaxScaler\n",
    "\n",
    "# Separately scale the input and output variables\n",
    "scale_x = MinMaxScaler()\n",
    "x = scale_x.fit_transform(x)\n",
    "\n",
    "scale_y = MinMaxScaler()\n",
    "y = scale_y.fit_transform(y)\n",
    "\n",
    "print(x.min(), x.max(), y.min(), y.max())"
   ]
  },
  {
   "cell_type": "markdown",
   "metadata": {},
   "source": [
    "With some trial and error, we can choose a model with two hidden layers and 10 nodes in each layer. Perhaps experiment with other configurations to see if you can do better."
   ]
  },
  {
   "cell_type": "code",
   "execution_count": 11,
   "metadata": {},
   "outputs": [],
   "source": [
    "from keras.models import Sequential\n",
    "from keras.layers import Dense\n",
    "\n",
    "# Design the neural network model\n",
    "model = Sequential()\n",
    "model.add(Dense(10, input_dim=1, activation='relu', kernel_initializer='he_uniform'))\n",
    "model.add(Dense(10, activation='relu', kernel_initializer='he_uniform'))\n",
    "model.add(Dense(1))"
   ]
  },
  {
   "cell_type": "markdown",
   "metadata": {},
   "source": [
    "We will fit the model using a `mean squared loss` and use the `efficient adam version of stochastic gradient descent` to optimize the model. This means the model will seek to minimize the `mean squared error` between the predictions made and the expected output values (y) while it tries to approximate the mapping function."
   ]
  },
  {
   "cell_type": "code",
   "execution_count": 12,
   "metadata": {},
   "outputs": [],
   "source": [
    "# Define the loss function and optimization algorithm\n",
    "model.compile(loss='mse', optimizer='adam')"
   ]
  },
  {
   "cell_type": "code",
   "execution_count": null,
   "metadata": {},
   "outputs": [],
   "source": []
  },
  {
   "cell_type": "code",
   "execution_count": null,
   "metadata": {},
   "outputs": [],
   "source": []
  },
  {
   "cell_type": "code",
   "execution_count": null,
   "metadata": {},
   "outputs": [],
   "source": []
  },
  {
   "cell_type": "markdown",
   "metadata": {},
   "source": [
    "## Approximating the Simple Target Function Using DecisionTreeRegressor"
   ]
  },
  {
   "cell_type": "code",
   "execution_count": 37,
   "metadata": {},
   "outputs": [
    {
     "name": "stdout",
     "output_type": "stream",
     "text": [
      "-50 50 0.0 2500.0\n"
     ]
    }
   ],
   "source": [
    "# Define the dataset\n",
    "x = np.asarray([i for i in range(-50, 51)])\n",
    "y = np.asarray([i**2.0 for i in x])\n",
    "print(x.min(), x.max(), y.min(), y.max())"
   ]
  },
  {
   "cell_type": "code",
   "execution_count": 38,
   "metadata": {},
   "outputs": [],
   "source": [
    "# Reshape arrays into into rows and cols so that the input and output variables are columns \n",
    "# with one observation per row, as is expected when using supervised learning models\n",
    "x = x.reshape((len(x), 1))\n",
    "y = y.reshape((len(y), 1))"
   ]
  },
  {
   "cell_type": "code",
   "execution_count": 39,
   "metadata": {},
   "outputs": [],
   "source": [
    "from sklearn.model_selection import train_test_split\n",
    "\n",
    "X_train, X_test, y_train, y_test = train_test_split(x, y, test_size=0.3, random_state=42)"
   ]
  },
  {
   "cell_type": "code",
   "execution_count": 41,
   "metadata": {},
   "outputs": [
    {
     "data": {
      "text/plain": [
       "DecisionTreeRegressor()"
      ]
     },
     "execution_count": 41,
     "metadata": {},
     "output_type": "execute_result"
    }
   ],
   "source": [
    "from sklearn.tree import DecisionTreeRegressor\n",
    "\n",
    "# Non-standardized data\n",
    "m = DecisionTreeRegressor()\n",
    "m.fit(X_train, y_train.ravel())"
   ]
  },
  {
   "cell_type": "code",
   "execution_count": 42,
   "metadata": {},
   "outputs": [
    {
     "data": {
      "text/plain": [
       "0.9906775429359957"
      ]
     },
     "execution_count": 42,
     "metadata": {},
     "output_type": "execute_result"
    }
   ],
   "source": [
    "m.score(X_test, y_test)"
   ]
  },
  {
   "cell_type": "code",
   "execution_count": 45,
   "metadata": {},
   "outputs": [
    {
     "data": {
      "text/plain": [
       "array([2401.,    4.,    0.,    4., 2500.])"
      ]
     },
     "execution_count": 45,
     "metadata": {},
     "output_type": "execute_result"
    }
   ],
   "source": [
    "m.predict([[-50], [-2], [0], [2], [50]])"
   ]
  },
  {
   "cell_type": "code",
   "execution_count": 47,
   "metadata": {},
   "outputs": [],
   "source": [
    "yhat = m.predict(x)"
   ]
  },
  {
   "cell_type": "code",
   "execution_count": 53,
   "metadata": {},
   "outputs": [
    {
     "data": {
      "image/png": "[encoded data removed]",
      "text/plain": [
       "<Figure size 1152x1152 with 1 Axes>"
      ]
     },
     "metadata": {
      "needs_background": "light"
     },
     "output_type": "display_data"
    }
   ],
   "source": [
    "fig, ax = plt.subplots(figsize=(16, 16))\n",
    "\n",
    "# Plot x vs y\n",
    "plt.scatter(x, y, label='Actual')\n",
    "\n",
    "# Plot x vs yhat\n",
    "plt.scatter(x, yhat, label='Predicted')\n",
    "plt.title('Input (x) versus Output (y)')\n",
    "plt.xlabel('Input Variable (x)')\n",
    "plt.ylabel('Output Variable (y)')\n",
    "plt.legend()\n",
    "plt.show()"
   ]
  },
  {
   "cell_type": "code",
   "execution_count": null,
   "metadata": {},
   "outputs": [],
   "source": []
  }
 ],
 "metadata": {
  "kernelspec": {
   "display_name": "Python 3",
   "language": "python",
   "name": "python3"
  },
  "language_info": {
   "codemirror_mode": {
    "name": "ipython",
    "version": 3
   },
   "file_extension": ".py",
   "mimetype": "text/x-python",
   "name": "python",
   "nbconvert_exporter": "python",
   "pygments_lexer": "ipython3",
   "version": "3.8.5"
  }
 },
 "nbformat": 4,
 "nbformat_minor": 4
}

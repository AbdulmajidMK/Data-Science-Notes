{
 "cells": [
  {
   "cell_type": "markdown",
   "metadata": {},
   "source": [
    "```\n",
    "From: https://github.com/ksatola\n",
    "Version: 0.0.1\n",
    "\n",
    "TODOs\n",
    "1. \n",
    "\n",
    "```"
   ]
  },
  {
   "cell_type": "markdown",
   "metadata": {},
   "source": [
    "# Why Do I Get Different Results Each Time in Machine Learning?\n",
    "In applied machine learning, we run a machine learning `algorithm` on a dataset to get a machine learning `model`. The model can then be evaluated on data not used during training or used to make predictions on new data, also not seen during training.\n",
    "- **Algorithm:** Procedure run on data that results in a model (e.g. training or learning).\n",
    "- **Model:** Data structure and coefficients used to make predictions on data.\n",
    "\n",
    "`Supervised machine learning` means we have examples (rows) with input and output variables (columns). We cannot write code to predict outputs given inputs because it is too hard, so we use machine learning algorithms to learn how to predict outputs from inputs given historical examples. This is called `function approximation`, and we are learning or searching for a function that maps inputs to outputs on our specific prediction task in such a way that it has skill, meaning the performance of the mapping is better than random and ideally better than all other algorithms and algorithm configurations we have tried.\n",
    "\n",
    "In this sense, a `machine learning model` is a program we intend to use for some project or application; it just so happens that the program was learned from examples (using an algorithm) rather than written explicitly with if-statements and such. It’s a type of `automatic programming`.\n",
    "\n",
    "Unlike the programming that we may be used to, the automatic programs may not be entirely deterministic. The **machine learning models may be different each time they are trained**. In turn, the models may make different predictions, and when evaluated, may have a different level of error or accuracy.\n",
    "\n",
    "There are at least four cases where you will get different results; they are:\n",
    "- Different results because of differences in training data.\n",
    "- Different results because of stochastic learning algorithms.\n",
    "- Different results because of stochastic evaluation procedures.\n",
    "- Different results because of differences in platform."
   ]
  },
  {
   "cell_type": "markdown",
   "metadata": {},
   "source": [
    "## Differences Caused by Training Data\n"
   ]
  },
  {
   "cell_type": "code",
   "execution_count": null,
   "metadata": {},
   "outputs": [],
   "source": []
  },
  {
   "cell_type": "code",
   "execution_count": null,
   "metadata": {},
   "outputs": [],
   "source": []
  },
  {
   "cell_type": "code",
   "execution_count": null,
   "metadata": {},
   "outputs": [],
   "source": []
  },
  {
   "cell_type": "code",
   "execution_count": null,
   "metadata": {},
   "outputs": [],
   "source": []
  },
  {
   "cell_type": "code",
   "execution_count": null,
   "metadata": {},
   "outputs": [],
   "source": []
  },
  {
   "cell_type": "code",
   "execution_count": null,
   "metadata": {},
   "outputs": [],
   "source": []
  },
  {
   "cell_type": "code",
   "execution_count": null,
   "metadata": {},
   "outputs": [],
   "source": []
  }
 ],
 "metadata": {
  "kernelspec": {
   "display_name": "Python 3",
   "language": "python",
   "name": "python3"
  },
  "language_info": {
   "codemirror_mode": {
    "name": "ipython",
    "version": 3
   },
   "file_extension": ".py",
   "mimetype": "text/x-python",
   "name": "python",
   "nbconvert_exporter": "python",
   "pygments_lexer": "ipython3",
   "version": "3.8.2"
  }
 },
 "nbformat": 4,
 "nbformat_minor": 4
}

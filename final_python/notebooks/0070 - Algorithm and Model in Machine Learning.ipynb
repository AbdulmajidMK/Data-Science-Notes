{
 "cells": [
  {
   "cell_type": "markdown",
   "metadata": {},
   "source": [
    "```\n",
    "From: https://github.com/ksatola\n",
    "Version: 0.0.1\n",
    "\n",
    "TODOs\n",
    "1. \n",
    "\n",
    "```"
   ]
  },
  {
   "cell_type": "markdown",
   "metadata": {},
   "source": [
    "# Algorithm and Model in Machine Learning\n",
    "Machine learning involves the use of machine learning algorithms and models:\n",
    "- **Machine learning algorithms** are procedures that are implemented in code and are run on data.\n",
    "- **Machine learning models** are output by algorithms and are comprised of model data and a prediction algorithm. They provide a type of `automatic programming` where machine learning models represent the program."
   ]
  },
  {
   "cell_type": "markdown",
   "metadata": {},
   "source": [
    "## Machine Learning Algorithms\n",
    "An algorithm in machine learning is a procedure that is run on data to create a machine learning model. Machine learning algorithms perform `pattern recognition`. Algorithms learn from data, or are `fit` on a dataset. There are many machine learning algorithms. We have algorithms for classification, regression, clustering, and more. You can think of a machine learning algorithm like any other algorithm in computer science.\n",
    "\n",
    "Machine learning algorithms have a number of properties:\n",
    "- They can be described using math and pseudocode.\n",
    "- Their efficiency can be analyzed and described.\n",
    "- They can be implemented with any one of a range of modern programming languages.\n",
    "\n",
    "Academics can devise entirely new machine learning algorithms and machine learning practitioners can use standard machine learning algorithms on their projects. This is just like other areas of computer science where academics can devise entirely new sorting algorithms, and programmers can use the standard sorting algorithms in their applications.\n",
    "\n",
    "You are also likely to see multiple machine learning algorithms implemented together and provided in a library with a standard application programming interface (API). A popular example is the `scikit-learn` library that provides implementations of many classification, regression, and clustering machine learning algorithms in Python."
   ]
  },
  {
   "cell_type": "markdown",
   "metadata": {},
   "source": [
    "## Machine Learning Models\n",
    "A model in machine learning is the output of a machine learning algorithm run on data. The model represents what was learned by a machine learning algorithm. A model is the thing that is saved after running a machine learning algorithm on training data and represents the rules, numbers, and any other algorithm-specific data structures required to make predictions.\n",
    "\n",
    "Some examples might make this clearer:\n",
    "- The linear regression algorithm results in a model comprised of a vector of coefficients with specific values.\n",
    "- The decision tree algorithm results in a model comprised of a tree of if-then statements with specific values.\n",
    "- The neural network / backpropagation / gradient descent algorithms together result in a model comprised of a graph structure with vectors or matrices of weights with specific values.\n",
    "\n",
    "A machine learning model has no clear analogy with other algorithms output in computer science. For example, the sorted list output of a sorting algorithm is not really a model. The best analogy is to **think of the machine learning model as a program**.\n",
    "\n",
    "**The machine learning model `program` is comprised of both data and a procedure for using the data to make a prediction**. For example, consider the linear regression algorithm and resulting model. The model is comprised of a vector of coefficients (`data`) that are multiplied and summed with a row of new data taken as input in order to make a prediction (`prediction procedure`). The prediction precedure contains not only an `algorithm` but also all other information needed to prepare new data for making predictions with the model (`meta-data`, like all data trasformations or data inputation details which should be applied to new data before predicting) and some other algorithms parameters for model's execution (`hyper-parameters` of a an algorithm). **We save the data and the prediction procedure of the machine learning model for later use**."
   ]
  },
  {
   "cell_type": "markdown",
   "metadata": {},
   "source": [
    "## Algorithm vs. Model\n",
    "**Typically, an algorithm is some sort of optimization procedure that minimizes error of the model (data + prediction algorithm) on the training dataset**. \n",
    "\n",
    "The `linear regression algorithm` is a good example. It performs an optimization process (or is solved analytically using linear algebra) to find a set of weights that minimize the sum squared error on the training dataset.\n",
    "- Linear Regression\n",
    "    - **Algorithm**: Find set of coefficients that minimize error on training dataset\n",
    "    - **Model**:\n",
    "        - Model Data: Vector of coefficients\n",
    "        - Prediction Algorithm: Multiple and sum coefficients with input row\n",
    "\n",
    "Some algorithms are trivial or even do nothing, and all of the work is in the model or prediction algorithm.\n",
    "\n",
    "The `k-nearest neighbor algorithm` has no algorithm other than saving the entire training dataset. The model data, therefore, is the entire training dataset and all of the work is in the prediction algorithm, i.e. how a new row of data interacts with the saved training dataset to make a prediction.\n",
    "- k-Nearest Neighbors\n",
    "    - **Algorithm**: Save training data.\n",
    "    - **Model**:\n",
    "        - **Model Data**: Entire training dataset.\n",
    "        - **Prediction Algorithm**: Find k most similar rows and average their target variable."
   ]
  },
  {
   "cell_type": "code",
   "execution_count": null,
   "metadata": {},
   "outputs": [],
   "source": []
  },
  {
   "cell_type": "code",
   "execution_count": null,
   "metadata": {},
   "outputs": [],
   "source": []
  },
  {
   "cell_type": "code",
   "execution_count": null,
   "metadata": {},
   "outputs": [],
   "source": []
  },
  {
   "cell_type": "code",
   "execution_count": null,
   "metadata": {},
   "outputs": [],
   "source": []
  },
  {
   "cell_type": "code",
   "execution_count": null,
   "metadata": {},
   "outputs": [],
   "source": []
  },
  {
   "cell_type": "code",
   "execution_count": null,
   "metadata": {},
   "outputs": [],
   "source": []
  },
  {
   "cell_type": "code",
   "execution_count": null,
   "metadata": {},
   "outputs": [],
   "source": []
  },
  {
   "cell_type": "code",
   "execution_count": null,
   "metadata": {},
   "outputs": [],
   "source": []
  }
 ],
 "metadata": {
  "kernelspec": {
   "display_name": "Python 3",
   "language": "python",
   "name": "python3"
  },
  "language_info": {
   "codemirror_mode": {
    "name": "ipython",
    "version": 3
   },
   "file_extension": ".py",
   "mimetype": "text/x-python",
   "name": "python",
   "nbconvert_exporter": "python",
   "pygments_lexer": "ipython3",
   "version": "3.8.5"
  }
 },
 "nbformat": 4,
 "nbformat_minor": 4
}

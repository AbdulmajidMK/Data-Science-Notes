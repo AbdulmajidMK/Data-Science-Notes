{
 "cells": [
  {
   "cell_type": "markdown",
   "metadata": {},
   "source": [
    "```\n",
    "From: https://github.com/ksatola\n",
    "Version: 0.0.1\n",
    "\n",
    "TODOs\n",
    "1. https://machinelearningmastery.com/calculate-principal-component-analysis-scratch-python/\n",
    "2. https://machinelearningmastery.com/dimensionality-reduction-for-machine-learning/\n",
    "\n",
    "```"
   ]
  },
  {
   "cell_type": "markdown",
   "metadata": {},
   "source": [
    "# Dimensionality Reduction\n",
    "Imagine we have a dataset with 3-variables. In order to represent each of those points, we have used 3 values – one for each dimension. In some cases, we can find a 2D plane very close to the data. Something like this:\n",
    "\n",
    "<img src=\"images/dimensionality_reduction_3d-2d.png\" alt=\"\" style=\"width: 650px;\"/>\n",
    "\n",
    "This plane is two-dimensional, so it is defined by two variables. As you can see, not all points lie on this plane, but we can say that they approximately do.\n",
    "\n",
    "Linear algebraic operations allow us to transform this 3-dimensional data into 2-dimensional data. Of course, some information is lost, but the total number of features is reduced.\n",
    "\n",
    "In this way, instead of having 3 variables, we reduce the problem to 2 variables. In fact, if you have 50 variables, you can reduce them to 40, or 20, or even 10. And that’s where dimensionality reduction has the biggest impact."
   ]
  },
  {
   "cell_type": "markdown",
   "metadata": {},
   "source": [
    "## Principal Component Analysis (PCA)\n",
    "**Principal Components Analysis** or **PCA** dates all the way back to the early work of Pearson in 1901. Nowadays, however, it’s commonly used in preprocessing. PCA is often employed prior to modeling and clustering, in particular, to reduce the number of variables.\n",
    "\n",
    "To define it more formally, PCA tries to find the best possible subspace which explains most of the variance in the data. It transforms our initial features into so-called `components`. These components are basically new variables, derived from the original ones, and they are usually displayed in order of importance. At the end of the PCA analysis, we aim to choose only a few components, while preserving as much of the original information as possible.\n",
    "\n",
    "[Principal Component Analysis (or PCA)](https://scikit-learn.org/stable/modules/generated/sklearn.decomposition.PCA.html) is a popular dimensionality reduction technique you can use to avoid `the curse of dimensionality` (if your data has too many features and possibly not enough data points). A property of PCA is that you can choose the number of `dimensions` or `principal components` to see in the transformed result."
   ]
  },
  {
   "cell_type": "code",
   "execution_count": 1,
   "metadata": {},
   "outputs": [],
   "source": [
    "# Connect with underlying Python code\n",
    "%load_ext autoreload\n",
    "%autoreload 2\n",
    "import sys\n",
    "sys.path.insert(0, '../src')"
   ]
  },
  {
   "cell_type": "code",
   "execution_count": 2,
   "metadata": {},
   "outputs": [],
   "source": [
    "from datasets import (\n",
    "    get_dataset\n",
    ")"
   ]
  },
  {
   "cell_type": "code",
   "execution_count": 3,
   "metadata": {},
   "outputs": [],
   "source": [
    "import pandas as pd\n",
    "import numpy as np\n",
    "\n",
    "import matplotlib.pyplot as plt\n",
    "%matplotlib inline\n",
    "\n",
    "import seaborn as sns"
   ]
  },
  {
   "cell_type": "markdown",
   "metadata": {},
   "source": [
    "### Use PCA and select 3 principal components"
   ]
  },
  {
   "cell_type": "code",
   "execution_count": 4,
   "metadata": {},
   "outputs": [],
   "source": [
    "# Feature Extraction with PCA\n",
    "import numpy\n",
    "from pandas import read_csv\n",
    "from sklearn.decomposition import PCA"
   ]
  },
  {
   "cell_type": "code",
   "execution_count": 5,
   "metadata": {},
   "outputs": [
    {
     "data": {
      "text/html": [
       "<div>\n",
       "<style scoped>\n",
       "    .dataframe tbody tr th:only-of-type {\n",
       "        vertical-align: middle;\n",
       "    }\n",
       "\n",
       "    .dataframe tbody tr th {\n",
       "        vertical-align: top;\n",
       "    }\n",
       "\n",
       "    .dataframe thead th {\n",
       "        text-align: right;\n",
       "    }\n",
       "</style>\n",
       "<table border=\"1\" class=\"dataframe\">\n",
       "  <thead>\n",
       "    <tr style=\"text-align: right;\">\n",
       "      <th></th>\n",
       "      <th>v0</th>\n",
       "      <th>v1</th>\n",
       "      <th>v2</th>\n",
       "      <th>v3</th>\n",
       "      <th>v4</th>\n",
       "      <th>v5</th>\n",
       "      <th>v6</th>\n",
       "      <th>v7</th>\n",
       "      <th>v8</th>\n",
       "      <th>v9</th>\n",
       "      <th>...</th>\n",
       "      <th>v51</th>\n",
       "      <th>v52</th>\n",
       "      <th>v53</th>\n",
       "      <th>v54</th>\n",
       "      <th>v55</th>\n",
       "      <th>v56</th>\n",
       "      <th>v57</th>\n",
       "      <th>v58</th>\n",
       "      <th>v59</th>\n",
       "      <th>class</th>\n",
       "    </tr>\n",
       "  </thead>\n",
       "  <tbody>\n",
       "    <tr>\n",
       "      <th>0</th>\n",
       "      <td>0.0200</td>\n",
       "      <td>0.0371</td>\n",
       "      <td>0.0428</td>\n",
       "      <td>0.0207</td>\n",
       "      <td>0.0954</td>\n",
       "      <td>0.0986</td>\n",
       "      <td>0.1539</td>\n",
       "      <td>0.1601</td>\n",
       "      <td>0.3109</td>\n",
       "      <td>0.2111</td>\n",
       "      <td>...</td>\n",
       "      <td>0.0027</td>\n",
       "      <td>0.0065</td>\n",
       "      <td>0.0159</td>\n",
       "      <td>0.0072</td>\n",
       "      <td>0.0167</td>\n",
       "      <td>0.0180</td>\n",
       "      <td>0.0084</td>\n",
       "      <td>0.0090</td>\n",
       "      <td>0.0032</td>\n",
       "      <td>R</td>\n",
       "    </tr>\n",
       "    <tr>\n",
       "      <th>1</th>\n",
       "      <td>0.0453</td>\n",
       "      <td>0.0523</td>\n",
       "      <td>0.0843</td>\n",
       "      <td>0.0689</td>\n",
       "      <td>0.1183</td>\n",
       "      <td>0.2583</td>\n",
       "      <td>0.2156</td>\n",
       "      <td>0.3481</td>\n",
       "      <td>0.3337</td>\n",
       "      <td>0.2872</td>\n",
       "      <td>...</td>\n",
       "      <td>0.0084</td>\n",
       "      <td>0.0089</td>\n",
       "      <td>0.0048</td>\n",
       "      <td>0.0094</td>\n",
       "      <td>0.0191</td>\n",
       "      <td>0.0140</td>\n",
       "      <td>0.0049</td>\n",
       "      <td>0.0052</td>\n",
       "      <td>0.0044</td>\n",
       "      <td>R</td>\n",
       "    </tr>\n",
       "    <tr>\n",
       "      <th>2</th>\n",
       "      <td>0.0262</td>\n",
       "      <td>0.0582</td>\n",
       "      <td>0.1099</td>\n",
       "      <td>0.1083</td>\n",
       "      <td>0.0974</td>\n",
       "      <td>0.2280</td>\n",
       "      <td>0.2431</td>\n",
       "      <td>0.3771</td>\n",
       "      <td>0.5598</td>\n",
       "      <td>0.6194</td>\n",
       "      <td>...</td>\n",
       "      <td>0.0232</td>\n",
       "      <td>0.0166</td>\n",
       "      <td>0.0095</td>\n",
       "      <td>0.0180</td>\n",
       "      <td>0.0244</td>\n",
       "      <td>0.0316</td>\n",
       "      <td>0.0164</td>\n",
       "      <td>0.0095</td>\n",
       "      <td>0.0078</td>\n",
       "      <td>R</td>\n",
       "    </tr>\n",
       "    <tr>\n",
       "      <th>3</th>\n",
       "      <td>0.0100</td>\n",
       "      <td>0.0171</td>\n",
       "      <td>0.0623</td>\n",
       "      <td>0.0205</td>\n",
       "      <td>0.0205</td>\n",
       "      <td>0.0368</td>\n",
       "      <td>0.1098</td>\n",
       "      <td>0.1276</td>\n",
       "      <td>0.0598</td>\n",
       "      <td>0.1264</td>\n",
       "      <td>...</td>\n",
       "      <td>0.0121</td>\n",
       "      <td>0.0036</td>\n",
       "      <td>0.0150</td>\n",
       "      <td>0.0085</td>\n",
       "      <td>0.0073</td>\n",
       "      <td>0.0050</td>\n",
       "      <td>0.0044</td>\n",
       "      <td>0.0040</td>\n",
       "      <td>0.0117</td>\n",
       "      <td>R</td>\n",
       "    </tr>\n",
       "    <tr>\n",
       "      <th>4</th>\n",
       "      <td>0.0762</td>\n",
       "      <td>0.0666</td>\n",
       "      <td>0.0481</td>\n",
       "      <td>0.0394</td>\n",
       "      <td>0.0590</td>\n",
       "      <td>0.0649</td>\n",
       "      <td>0.1209</td>\n",
       "      <td>0.2467</td>\n",
       "      <td>0.3564</td>\n",
       "      <td>0.4459</td>\n",
       "      <td>...</td>\n",
       "      <td>0.0031</td>\n",
       "      <td>0.0054</td>\n",
       "      <td>0.0105</td>\n",
       "      <td>0.0110</td>\n",
       "      <td>0.0015</td>\n",
       "      <td>0.0072</td>\n",
       "      <td>0.0048</td>\n",
       "      <td>0.0107</td>\n",
       "      <td>0.0094</td>\n",
       "      <td>R</td>\n",
       "    </tr>\n",
       "  </tbody>\n",
       "</table>\n",
       "<p>5 rows × 61 columns</p>\n",
       "</div>"
      ],
      "text/plain": [
       "       v0      v1      v2      v3      v4      v5      v6      v7      v8  \\\n",
       "0  0.0200  0.0371  0.0428  0.0207  0.0954  0.0986  0.1539  0.1601  0.3109   \n",
       "1  0.0453  0.0523  0.0843  0.0689  0.1183  0.2583  0.2156  0.3481  0.3337   \n",
       "2  0.0262  0.0582  0.1099  0.1083  0.0974  0.2280  0.2431  0.3771  0.5598   \n",
       "3  0.0100  0.0171  0.0623  0.0205  0.0205  0.0368  0.1098  0.1276  0.0598   \n",
       "4  0.0762  0.0666  0.0481  0.0394  0.0590  0.0649  0.1209  0.2467  0.3564   \n",
       "\n",
       "       v9  ...     v51     v52     v53     v54     v55     v56     v57  \\\n",
       "0  0.2111  ...  0.0027  0.0065  0.0159  0.0072  0.0167  0.0180  0.0084   \n",
       "1  0.2872  ...  0.0084  0.0089  0.0048  0.0094  0.0191  0.0140  0.0049   \n",
       "2  0.6194  ...  0.0232  0.0166  0.0095  0.0180  0.0244  0.0316  0.0164   \n",
       "3  0.1264  ...  0.0121  0.0036  0.0150  0.0085  0.0073  0.0050  0.0044   \n",
       "4  0.4459  ...  0.0031  0.0054  0.0105  0.0110  0.0015  0.0072  0.0048   \n",
       "\n",
       "      v58     v59  class  \n",
       "0  0.0090  0.0032      R  \n",
       "1  0.0052  0.0044      R  \n",
       "2  0.0095  0.0078      R  \n",
       "3  0.0040  0.0117      R  \n",
       "4  0.0107  0.0094      R  \n",
       "\n",
       "[5 rows x 61 columns]"
      ]
     },
     "execution_count": 5,
     "metadata": {},
     "output_type": "execute_result"
    }
   ],
   "source": [
    "# Load data\n",
    "# target = 'class'\n",
    "df = get_dataset('sonar')\n",
    "df.head()"
   ]
  },
  {
   "cell_type": "code",
   "execution_count": 6,
   "metadata": {},
   "outputs": [],
   "source": [
    "y = df[['class']]\n",
    "X = df.drop(columns='class')"
   ]
  },
  {
   "cell_type": "code",
   "execution_count": 8,
   "metadata": {},
   "outputs": [],
   "source": [
    "from sklearn.preprocessing import StandardScaler\n",
    "\n",
    "X_std = StandardScaler().fit_transform(X)"
   ]
  },
  {
   "cell_type": "code",
   "execution_count": 9,
   "metadata": {},
   "outputs": [],
   "source": [
    "# Feature extraction\n",
    "pca = PCA(n_components=3)\n",
    "pca_fit = pca.fit(X_std)"
   ]
  },
  {
   "cell_type": "code",
   "execution_count": 10,
   "metadata": {},
   "outputs": [
    {
     "name": "stdout",
     "output_type": "stream",
     "text": [
      "Explained Variance by feature: [0.20346557 0.18897216 0.08549989]\n"
     ]
    }
   ],
   "source": [
    "# Summarize components\n",
    "print(f\"Explained Variance by feature: {pca_fit.explained_variance_ratio_}\")"
   ]
  },
  {
   "cell_type": "code",
   "execution_count": 11,
   "metadata": {},
   "outputs": [
    {
     "name": "stdout",
     "output_type": "stream",
     "text": [
      "Explained Variance: 0.47793761535378304\n"
     ]
    }
   ],
   "source": [
    "print(f\"Explained Variance: {pca_fit.explained_variance_ratio_.sum()}\")"
   ]
  },
  {
   "cell_type": "markdown",
   "metadata": {},
   "source": [
    "You can see that the transformed dataset (3 principal components) bare little resemblance to the source data. These 3 components together explain 0.48 (0.20346557+0.18897216+0.08549989) of the variability of the data."
   ]
  },
  {
   "cell_type": "code",
   "execution_count": 12,
   "metadata": {},
   "outputs": [
    {
     "name": "stdout",
     "output_type": "stream",
     "text": [
      "[[ 0.13637827  0.14605308  0.11572088  0.09390192  0.05534548  0.05175506\n",
      "   0.06277561  0.10505479  0.09819727  0.08792121  0.05737586  0.0308139\n",
      "   0.02096966  0.00565212 -0.00499061 -0.01605679 -0.05123473 -0.08379166\n",
      "  -0.08118428 -0.06291526 -0.07874026 -0.12946268 -0.14856242 -0.15392681\n",
      "  -0.1574534  -0.14694989 -0.12488242 -0.04932885 -0.0106657   0.06581839\n",
      "   0.09111568  0.11181154  0.12645906  0.14392336  0.15326044  0.15280375\n",
      "   0.14977473  0.18505684  0.18878735  0.17984796  0.2019245   0.19820399\n",
      "   0.18461869  0.17019463  0.20081527  0.1992613   0.1770997   0.18409097\n",
      "   0.17550399  0.15881935  0.14528385  0.13967971  0.1237217   0.11516458\n",
      "   0.12757326  0.11365105  0.11225071  0.134271    0.14375632  0.11784172]\n",
      " [ 0.12230469  0.13107841  0.14241443  0.15442073  0.16045643  0.14585445\n",
      "   0.14089145  0.13486377  0.11915595  0.12444406  0.15768295  0.135537\n",
      "   0.1842973   0.23177202  0.2379487   0.23845089  0.22249418  0.21338807\n",
      "   0.21661646  0.20977192  0.18768796  0.1358295   0.06601759  0.00977718\n",
      "  -0.04065219 -0.08205691 -0.11213968 -0.15523975 -0.18451083 -0.17583662\n",
      "  -0.16918636 -0.15744908 -0.15820694 -0.12447548 -0.09746716 -0.08695675\n",
      "  -0.06268234 -0.04129737 -0.02564119 -0.03670223 -0.04419354 -0.04044216\n",
      "  -0.05631136 -0.05452049 -0.02872443 -0.03432288 -0.02952946 -0.00954426\n",
      "   0.01220987  0.01910567  0.05447991  0.0687513   0.068412    0.10707318\n",
      "   0.10915533  0.0973339   0.0860728   0.11031767  0.09028263  0.0752713 ]\n",
      " [ 0.01599221  0.01670347  0.00835943 -0.0237799   0.02541998  0.06828625\n",
      "   0.07461466  0.07973558  0.10105776  0.11463842  0.14775786  0.13607429\n",
      "   0.12848131  0.0549581  -0.01143198 -0.04427725 -0.05680726 -0.08081329\n",
      "  -0.04439202 -0.02607493  0.01596828  0.0996606   0.13605623  0.17092568\n",
      "   0.20538308  0.22671736  0.23977586  0.23309776  0.17995942  0.11494067\n",
      "   0.09256031  0.04348618 -0.0804888  -0.17837537 -0.21491983 -0.21606927\n",
      "  -0.20415745 -0.17222081 -0.11274347 -0.09612973 -0.02745192  0.07241527\n",
      "   0.1425944   0.16332753  0.19198135  0.19615275  0.22657525  0.21522157\n",
      "   0.20746938  0.12757039  0.16784725  0.10679974 -0.00664423 -0.0231564\n",
      "  -0.03283806 -0.03279281 -0.04515908 -0.01700485 -0.07281863 -0.06901339]]\n"
     ]
    }
   ],
   "source": [
    "print(pca_fit.components_)"
   ]
  },
  {
   "cell_type": "markdown",
   "metadata": {},
   "source": [
    "### How to choose the right number of components"
   ]
  },
  {
   "cell_type": "code",
   "execution_count": 13,
   "metadata": {},
   "outputs": [],
   "source": [
    "from sklearn.preprocessing import StandardScaler\n",
    "\n",
    "X_std = StandardScaler().fit_transform(X)"
   ]
  },
  {
   "cell_type": "code",
   "execution_count": 14,
   "metadata": {},
   "outputs": [
    {
     "data": {
      "text/plain": [
       "PCA()"
      ]
     },
     "execution_count": 14,
     "metadata": {},
     "output_type": "execute_result"
    }
   ],
   "source": [
    "from sklearn.decomposition import PCA\n",
    "\n",
    "pca = PCA() \n",
    "pca.fit(X_std) # creates as many components as features in the data set"
   ]
  },
  {
   "cell_type": "code",
   "execution_count": 15,
   "metadata": {},
   "outputs": [
    {
     "data": {
      "text/plain": [
       "array([2.03465567e-01, 1.88972164e-01, 8.54998852e-02, 5.67919035e-02,\n",
       "       5.00707995e-02, 4.06499523e-02, 3.27899181e-02, 3.04646584e-02,\n",
       "       2.56596098e-02, 2.49110230e-02, 2.07528022e-02, 1.90198997e-02,\n",
       "       1.74697957e-02, 1.53848421e-02, 1.42779702e-02, 1.36095862e-02,\n",
       "       1.23460825e-02, 1.16864603e-02, 1.03077448e-02, 9.79001875e-03,\n",
       "       9.44079287e-03, 8.87560657e-03, 8.39874096e-03, 7.70838079e-03,\n",
       "       7.21929579e-03, 6.96370919e-03, 6.15371046e-03, 5.31600397e-03,\n",
       "       5.24714746e-03, 4.95397252e-03, 4.76203236e-03, 4.36167127e-03,\n",
       "       3.72450789e-03, 3.36705265e-03, 3.10510516e-03, 3.03165574e-03,\n",
       "       2.87697343e-03, 2.44574090e-03, 2.19495027e-03, 2.10115014e-03,\n",
       "       1.84558556e-03, 1.58235827e-03, 1.36752681e-03, 1.25733376e-03,\n",
       "       1.02731989e-03, 9.49170287e-04, 9.38182230e-04, 7.07668927e-04,\n",
       "       5.93650363e-04, 5.21305809e-04, 4.87269602e-04, 4.74212197e-04,\n",
       "       3.83734054e-04, 3.66705614e-04, 3.21878907e-04, 2.70234769e-04,\n",
       "       2.46454290e-04, 1.93255608e-04, 1.87161202e-04, 1.10109146e-04])"
      ]
     },
     "execution_count": 15,
     "metadata": {},
     "output_type": "execute_result"
    }
   ],
   "source": [
    "evr = pca.explained_variance_ratio_\n",
    "evr"
   ]
  },
  {
   "cell_type": "markdown",
   "metadata": {},
   "source": [
    "So, our task now will be to select a subset of components while preserving as much information as possible.\n",
    "Logically, we want to include the most prominent components. Therefore, if we want to choose 2 components, we would choose the first 2, as they contain most of the variance. If we opt for 3, we would take the first 3 and so on.\n",
    "\n",
    "A very useful graph here would be a line chart that shows the **cumulative explained variance against the number of components chosen**."
   ]
  },
  {
   "cell_type": "code",
   "execution_count": 16,
   "metadata": {},
   "outputs": [
    {
     "data": {
      "image/png": "[encoded data removed]",
      "text/plain": [
       "<Figure size 864x576 with 1 Axes>"
      ]
     },
     "metadata": {
      "needs_background": "light"
     },
     "output_type": "display_data"
    }
   ],
   "source": [
    "plt.figure(figsize=(12, 8))\n",
    "plt.plot(\n",
    "    range(1, len(evr)+1),\n",
    "    evr.cumsum(),\n",
    "    marker=\"o\",\n",
    "    linestyle=\"--\",\n",
    ")\n",
    "plt.title('Cumulative Explained Variance by Number of Components')\n",
    "plt.xlabel('Number of Components')\n",
    "plt.ylabel('Cumulative Explained Variance')\n",
    "plt.show();"
   ]
  },
  {
   "cell_type": "markdown",
   "metadata": {},
   "source": [
    "The graph shows the amount of variance captured (on the y-axis) depending on the number of components we include (the x-axis). A rule of thumb is to preserve around 80 % of the variance. So, in this instance, we decide to keep 13 components.\n",
    "\n",
    "Next, we perform PCA with the chosen number of components"
   ]
  },
  {
   "cell_type": "code",
   "execution_count": 17,
   "metadata": {},
   "outputs": [],
   "source": [
    "# Feature extraction\n",
    "pca = PCA(n_components=13)\n",
    "pca_fit = pca.fit(X_std)"
   ]
  },
  {
   "cell_type": "code",
   "execution_count": 18,
   "metadata": {},
   "outputs": [
    {
     "name": "stdout",
     "output_type": "stream",
     "text": [
      "Explained Variance: 0.7965179775011404\n"
     ]
    }
   ],
   "source": [
    "print(f\"Explained Variance: {pca_fit.explained_variance_ratio_.sum()}\")"
   ]
  },
  {
   "cell_type": "code",
   "execution_count": null,
   "metadata": {},
   "outputs": [],
   "source": []
  }
 ],
 "metadata": {
  "kernelspec": {
   "display_name": "Python 3",
   "language": "python",
   "name": "python3"
  },
  "language_info": {
   "codemirror_mode": {
    "name": "ipython",
    "version": 3
   },
   "file_extension": ".py",
   "mimetype": "text/x-python",
   "name": "python",
   "nbconvert_exporter": "python",
   "pygments_lexer": "ipython3",
   "version": "3.8.5"
  }
 },
 "nbformat": 4,
 "nbformat_minor": 4
}

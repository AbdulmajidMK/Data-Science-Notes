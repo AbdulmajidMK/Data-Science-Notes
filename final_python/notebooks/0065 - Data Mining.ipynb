{
 "cells": [
  {
   "cell_type": "markdown",
   "metadata": {},
   "source": [
    "```\n",
    "From: https://github.com/ksatola\n",
    "Version: 0.0.1\n",
    "\n",
    "TODOs\n",
    "1. \n",
    "\n",
    "```"
   ]
  },
  {
   "cell_type": "markdown",
   "metadata": {},
   "source": [
    "# Data Mining\n",
    "\n",
    "## Table of Contents\n",
    "\n",
    "- [Introduction & Problems in Data Mining](#intro)\n",
    "\n"
   ]
  },
  {
   "cell_type": "code",
   "execution_count": null,
   "metadata": {},
   "outputs": [],
   "source": [
    "# Connect with underlying Python code\n",
    "%load_ext autoreload\n",
    "%autoreload 2\n",
    "import sys\n",
    "sys.path.insert(0, '../src')"
   ]
  },
  {
   "cell_type": "code",
   "execution_count": 2,
   "metadata": {},
   "outputs": [],
   "source": [
    "from datasets import (\n",
    "    get_dataset\n",
    ")"
   ]
  },
  {
   "cell_type": "code",
   "execution_count": 3,
   "metadata": {},
   "outputs": [],
   "source": [
    "import pandas as pd\n",
    "import numpy as np\n",
    "\n",
    "import matplotlib.pyplot as plt\n",
    "%matplotlib inline\n",
    "\n",
    "# To eliminate Yellowbrick warming: findfont: Font family ['sans-serif'] not found. Falling back to DejaVu Sans.\n",
    "import matplotlib.font_manager\n",
    "\n",
    "import seaborn as sns"
   ]
  },
  {
   "cell_type": "code",
   "execution_count": 4,
   "metadata": {},
   "outputs": [],
   "source": [
    "#pd.show_versions()"
   ]
  },
  {
   "cell_type": "code",
   "execution_count": 5,
   "metadata": {},
   "outputs": [],
   "source": [
    "from sklearn import (\n",
    "    model_selection,\n",
    "    preprocessing,\n",
    ")"
   ]
  },
  {
   "cell_type": "code",
   "execution_count": 6,
   "metadata": {},
   "outputs": [
    {
     "data": {
      "text/html": [
       "<div>\n",
       "<style scoped>\n",
       "    .dataframe tbody tr th:only-of-type {\n",
       "        vertical-align: middle;\n",
       "    }\n",
       "\n",
       "    .dataframe tbody tr th {\n",
       "        vertical-align: top;\n",
       "    }\n",
       "\n",
       "    .dataframe thead th {\n",
       "        text-align: right;\n",
       "    }\n",
       "</style>\n",
       "<table border=\"1\" class=\"dataframe\">\n",
       "  <thead>\n",
       "    <tr style=\"text-align: right;\">\n",
       "      <th></th>\n",
       "      <th>C1</th>\n",
       "      <th>C2</th>\n",
       "      <th>C3</th>\n",
       "      <th>C4</th>\n",
       "      <th>C5</th>\n",
       "      <th>C6</th>\n",
       "      <th>C7</th>\n",
       "      <th>C8</th>\n",
       "      <th>C9</th>\n",
       "      <th>C10</th>\n",
       "      <th>...</th>\n",
       "      <th>C92</th>\n",
       "      <th>C93</th>\n",
       "      <th>C94</th>\n",
       "      <th>C95</th>\n",
       "      <th>C96</th>\n",
       "      <th>C97</th>\n",
       "      <th>C98</th>\n",
       "      <th>C99</th>\n",
       "      <th>C100</th>\n",
       "      <th>C101</th>\n",
       "    </tr>\n",
       "  </thead>\n",
       "  <tbody>\n",
       "    <tr>\n",
       "      <th>0</th>\n",
       "      <td>-0.635418</td>\n",
       "      <td>-0.579130</td>\n",
       "      <td>-0.676321</td>\n",
       "      <td>-0.604970</td>\n",
       "      <td>-0.625573</td>\n",
       "      <td>-0.076850</td>\n",
       "      <td>-0.117557</td>\n",
       "      <td>0.052531</td>\n",
       "      <td>-2.148799</td>\n",
       "      <td>-0.708732</td>\n",
       "      <td>...</td>\n",
       "      <td>-0.340362</td>\n",
       "      <td>0.454675</td>\n",
       "      <td>0.680194</td>\n",
       "      <td>-0.853380</td>\n",
       "      <td>-0.519645</td>\n",
       "      <td>0.325074</td>\n",
       "      <td>-0.398741</td>\n",
       "      <td>-0.865025</td>\n",
       "      <td>0.987153</td>\n",
       "      <td>2.083426</td>\n",
       "    </tr>\n",
       "    <tr>\n",
       "      <th>1</th>\n",
       "      <td>0.789120</td>\n",
       "      <td>-0.029943</td>\n",
       "      <td>-0.030433</td>\n",
       "      <td>1.015895</td>\n",
       "      <td>0.402405</td>\n",
       "      <td>-0.967939</td>\n",
       "      <td>-0.416510</td>\n",
       "      <td>0.046567</td>\n",
       "      <td>0.103896</td>\n",
       "      <td>-0.218818</td>\n",
       "      <td>...</td>\n",
       "      <td>0.636485</td>\n",
       "      <td>0.562326</td>\n",
       "      <td>0.127324</td>\n",
       "      <td>-1.577315</td>\n",
       "      <td>-0.930546</td>\n",
       "      <td>-0.901475</td>\n",
       "      <td>-0.763227</td>\n",
       "      <td>-0.703632</td>\n",
       "      <td>0.637635</td>\n",
       "      <td>0.384451</td>\n",
       "    </tr>\n",
       "    <tr>\n",
       "      <th>2</th>\n",
       "      <td>1.605939</td>\n",
       "      <td>1.049132</td>\n",
       "      <td>0.162055</td>\n",
       "      <td>-0.516985</td>\n",
       "      <td>0.109957</td>\n",
       "      <td>0.458772</td>\n",
       "      <td>-0.531809</td>\n",
       "      <td>2.613801</td>\n",
       "      <td>-1.506208</td>\n",
       "      <td>0.184250</td>\n",
       "      <td>...</td>\n",
       "      <td>0.155942</td>\n",
       "      <td>-0.908405</td>\n",
       "      <td>0.955394</td>\n",
       "      <td>0.780379</td>\n",
       "      <td>-0.656410</td>\n",
       "      <td>-0.047792</td>\n",
       "      <td>0.088879</td>\n",
       "      <td>-0.465415</td>\n",
       "      <td>1.063126</td>\n",
       "      <td>0.900271</td>\n",
       "    </tr>\n",
       "    <tr>\n",
       "      <th>3</th>\n",
       "      <td>0.339110</td>\n",
       "      <td>1.150962</td>\n",
       "      <td>1.701447</td>\n",
       "      <td>-0.129415</td>\n",
       "      <td>1.278501</td>\n",
       "      <td>-0.960337</td>\n",
       "      <td>-0.075751</td>\n",
       "      <td>-0.864351</td>\n",
       "      <td>-1.610699</td>\n",
       "      <td>-1.797953</td>\n",
       "      <td>...</td>\n",
       "      <td>1.039415</td>\n",
       "      <td>0.018883</td>\n",
       "      <td>0.476241</td>\n",
       "      <td>1.050285</td>\n",
       "      <td>0.589970</td>\n",
       "      <td>-1.162643</td>\n",
       "      <td>0.172146</td>\n",
       "      <td>0.357803</td>\n",
       "      <td>1.946083</td>\n",
       "      <td>-1.153739</td>\n",
       "    </tr>\n",
       "    <tr>\n",
       "      <th>4</th>\n",
       "      <td>0.422166</td>\n",
       "      <td>-0.557173</td>\n",
       "      <td>-0.669985</td>\n",
       "      <td>-0.148770</td>\n",
       "      <td>-0.791304</td>\n",
       "      <td>0.318879</td>\n",
       "      <td>-0.946038</td>\n",
       "      <td>0.002033</td>\n",
       "      <td>-1.048584</td>\n",
       "      <td>-0.956571</td>\n",
       "      <td>...</td>\n",
       "      <td>0.227441</td>\n",
       "      <td>-1.820885</td>\n",
       "      <td>-1.356901</td>\n",
       "      <td>-1.550917</td>\n",
       "      <td>-0.298832</td>\n",
       "      <td>0.694426</td>\n",
       "      <td>0.293901</td>\n",
       "      <td>0.494673</td>\n",
       "      <td>1.134619</td>\n",
       "      <td>1.084429</td>\n",
       "    </tr>\n",
       "  </tbody>\n",
       "</table>\n",
       "<p>5 rows × 101 columns</p>\n",
       "</div>"
      ],
      "text/plain": [
       "         C1        C2        C3        C4        C5        C6        C7  \\\n",
       "0 -0.635418 -0.579130 -0.676321 -0.604970 -0.625573 -0.076850 -0.117557   \n",
       "1  0.789120 -0.029943 -0.030433  1.015895  0.402405 -0.967939 -0.416510   \n",
       "2  1.605939  1.049132  0.162055 -0.516985  0.109957  0.458772 -0.531809   \n",
       "3  0.339110  1.150962  1.701447 -0.129415  1.278501 -0.960337 -0.075751   \n",
       "4  0.422166 -0.557173 -0.669985 -0.148770 -0.791304  0.318879 -0.946038   \n",
       "\n",
       "         C8        C9       C10  ...       C92       C93       C94       C95  \\\n",
       "0  0.052531 -2.148799 -0.708732  ... -0.340362  0.454675  0.680194 -0.853380   \n",
       "1  0.046567  0.103896 -0.218818  ...  0.636485  0.562326  0.127324 -1.577315   \n",
       "2  2.613801 -1.506208  0.184250  ...  0.155942 -0.908405  0.955394  0.780379   \n",
       "3 -0.864351 -1.610699 -1.797953  ...  1.039415  0.018883  0.476241  1.050285   \n",
       "4  0.002033 -1.048584 -0.956571  ...  0.227441 -1.820885 -1.356901 -1.550917   \n",
       "\n",
       "        C96       C97       C98       C99      C100      C101  \n",
       "0 -0.519645  0.325074 -0.398741 -0.865025  0.987153  2.083426  \n",
       "1 -0.930546 -0.901475 -0.763227 -0.703632  0.637635  0.384451  \n",
       "2 -0.656410 -0.047792  0.088879 -0.465415  1.063126  0.900271  \n",
       "3  0.589970 -1.162643  0.172146  0.357803  1.946083 -1.153739  \n",
       "4 -0.298832  0.694426  0.293901  0.494673  1.134619  1.084429  \n",
       "\n",
       "[5 rows x 101 columns]"
      ]
     },
     "execution_count": 6,
     "metadata": {},
     "output_type": "execute_result"
    }
   ],
   "source": [
    "df = get_dataset('random')\n",
    "df.head()"
   ]
  },
  {
   "cell_type": "code",
   "execution_count": 7,
   "metadata": {},
   "outputs": [
    {
     "data": {
      "text/plain": [
       "(30, 101)"
      ]
     },
     "execution_count": 7,
     "metadata": {},
     "output_type": "execute_result"
    }
   ],
   "source": [
    "df.shape"
   ]
  },
  {
   "cell_type": "code",
   "execution_count": 8,
   "metadata": {},
   "outputs": [
    {
     "data": {
      "text/plain": [
       "0.0    101\n",
       "dtype: int64"
      ]
     },
     "execution_count": 8,
     "metadata": {},
     "output_type": "execute_result"
    }
   ],
   "source": [
    "# Missing values?\n",
    "df.isnull().mean().value_counts()"
   ]
  },
  {
   "cell_type": "code",
   "execution_count": 9,
   "metadata": {},
   "outputs": [],
   "source": [
    "y = df[['C1']]\n",
    "X = df.drop(columns=['C1'])"
   ]
  },
  {
   "cell_type": "code",
   "execution_count": 10,
   "metadata": {},
   "outputs": [
    {
     "data": {
      "text/html": [
       "<div>\n",
       "<style scoped>\n",
       "    .dataframe tbody tr th:only-of-type {\n",
       "        vertical-align: middle;\n",
       "    }\n",
       "\n",
       "    .dataframe tbody tr th {\n",
       "        vertical-align: top;\n",
       "    }\n",
       "\n",
       "    .dataframe thead th {\n",
       "        text-align: right;\n",
       "    }\n",
       "</style>\n",
       "<table border=\"1\" class=\"dataframe\">\n",
       "  <thead>\n",
       "    <tr style=\"text-align: right;\">\n",
       "      <th></th>\n",
       "      <th>C1</th>\n",
       "    </tr>\n",
       "  </thead>\n",
       "  <tbody>\n",
       "    <tr>\n",
       "      <th>0</th>\n",
       "      <td>-0.635418</td>\n",
       "    </tr>\n",
       "    <tr>\n",
       "      <th>1</th>\n",
       "      <td>0.789120</td>\n",
       "    </tr>\n",
       "    <tr>\n",
       "      <th>2</th>\n",
       "      <td>1.605939</td>\n",
       "    </tr>\n",
       "    <tr>\n",
       "      <th>3</th>\n",
       "      <td>0.339110</td>\n",
       "    </tr>\n",
       "    <tr>\n",
       "      <th>4</th>\n",
       "      <td>0.422166</td>\n",
       "    </tr>\n",
       "  </tbody>\n",
       "</table>\n",
       "</div>"
      ],
      "text/plain": [
       "         C1\n",
       "0 -0.635418\n",
       "1  0.789120\n",
       "2  1.605939\n",
       "3  0.339110\n",
       "4  0.422166"
      ]
     },
     "execution_count": 10,
     "metadata": {},
     "output_type": "execute_result"
    }
   ],
   "source": [
    "y[:5]"
   ]
  },
  {
   "cell_type": "markdown",
   "metadata": {},
   "source": [
    "---\n",
    "<a id='intro'></a>"
   ]
  },
  {
   "cell_type": "markdown",
   "metadata": {},
   "source": [
    "## Introduction\n",
    "\n",
    "`Data mining` is the process of exploring a data set and allowing the patterns in the sample to suggest the correct model rather than being guided by theory. This process is easy because you can quickly test numerous combinations of independent variables to uncover statistically significant relationships. In fact, automated model building procedures, such as stepwise and best subsets regression, can fit thousands of models quickly. You can continue adding statistically significant variables as you find them, and R-squared always increases.\n",
    "\n",
    "Over the years, I’ve heard numerous comments about how it makes sense to look at many different variables, their interactions, and polynomials in all sorts of combinations. After all, if you end up with a model that is full of statistically significant variables, a high R-squared, and good looking residual plots, what can possibly be wrong? That’s exactly what I’m going to show you!\n",
    "\n",
    "### Regression Example that Illustrates the Problems of Data Mining\n",
    "The first thing I want to show is the severity of the problems. That way, if you use this approach, you understand the potential problems. Luckily, it’s easy to demonstrate because data mining can find statistically significant correlations in data that are randomly generated. `Data mining can take a set of randomly generated independent variables and use them to explain the majority of the variation in a randomly generated dependent variable`.\n",
    "\n",
    "For this demonstration, I’ve created 101 columns of data, and each one contains 30 rows of entirely random data. The first column (C1) will be the dependent variable, and the other 100 columns are potential independent variables. I’ll use stepwise regression to pick the model.\n",
    "\n",
    "This scenario forces the procedure to dredge through 100 models just to pick the first variable, and then repeat that for the next variables. That’s a lot of models to fit! We’ll talk more about that later because it’s a defining characteristic of data mining.\n",
    "\n",
    "### Using Stepwise Regression on Random Data\n",
    "In simple terms, `stepwise regression` is a process that helps determine which factors are important and which are not. Certain variables have a rather high p-value and were not meaningfully contributing to the accuracy of our prediction. From there, only important factors are kept to ensure that the linear model does its prediction based on factors that can help it produce the most accurate result."
   ]
  },
  {
   "cell_type": "markdown",
   "metadata": {},
   "source": [
    "### Forward Selection with statsmodels\n",
    "Python's statsmodels doesn't have a built-in method for choosing a linear model by forward selection. It tries to optimize adjusted R-squared by adding features that help the most one at a time until the score goes down or you run out of features."
   ]
  },
  {
   "cell_type": "code",
   "execution_count": 11,
   "metadata": {},
   "outputs": [],
   "source": [
    "# https://planspace.org/20150423-forward_selection_with_statsmodels/\n",
    "\n",
    "import statsmodels.formula.api as smf\n",
    "\n",
    "def forward_selected(data, response):\n",
    "    \"\"\"Linear model designed by forward selection.\n",
    "\n",
    "    Parameters:\n",
    "    -----------\n",
    "    data : pandas DataFrame with all possible predictors and response\n",
    "\n",
    "    response: string, name of response column in data\n",
    "\n",
    "    Returns:\n",
    "    --------\n",
    "    model: an \"optimal\" fitted statsmodels linear model\n",
    "           with an intercept\n",
    "           selected by forward selection\n",
    "           evaluated by adjusted R-squared\n",
    "    \"\"\"\n",
    "    remaining = set(data.columns)\n",
    "    remaining.remove(response)\n",
    "    selected = []\n",
    "    current_score, best_new_score = 0.0, 0.0\n",
    "    \n",
    "    while remaining and current_score <= best_new_score:\n",
    "        \n",
    "        scores_with_candidates = []\n",
    "        \n",
    "        for candidate in remaining:\n",
    "            formula = \"{} ~ {} + 1\".format(response, ' + '.join(selected + [candidate]))\n",
    "            score = smf.ols(formula, data).fit().rsquared_adj\n",
    "            scores_with_candidates.append((score, candidate))\n",
    "        \n",
    "        scores_with_candidates.sort()\n",
    "        best_new_score, best_candidate = scores_with_candidates.pop()\n",
    "        \n",
    "        if current_score < best_new_score:\n",
    "            remaining.remove(best_candidate)\n",
    "            selected.append(best_candidate)\n",
    "            current_score = best_new_score\n",
    "    \n",
    "    formula = \"{} ~ {} + 1\".format(response, ' + '.join(selected))\n",
    "    model = smf.ols(formula, data).fit()\n",
    "    \n",
    "    return model"
   ]
  },
  {
   "cell_type": "code",
   "execution_count": 12,
   "metadata": {},
   "outputs": [
    {
     "name": "stderr",
     "output_type": "stream",
     "text": [
      "/usr/local/lib/python3.8/dist-packages/statsmodels/regression/linear_model.py:1728: RuntimeWarning: divide by zero encountered in true_divide\n",
      "  return 1 - (np.divide(self.nobs - self.k_constant, self.df_resid)\n",
      "/usr/local/lib/python3.8/dist-packages/statsmodels/regression/linear_model.py:1728: RuntimeWarning: invalid value encountered in double_scalars\n",
      "  return 1 - (np.divide(self.nobs - self.k_constant, self.df_resid)\n"
     ]
    },
    {
     "name": "stdout",
     "output_type": "stream",
     "text": [
      "C1 ~ C35 + C28 + C87 + C81 + C45 + C90 + C57 + C99 + C26 + C66 + C84 + C7 + C58 + C59 + C51 + C65 + C92 + C41 + C83 + C61 + C64 + C20 + C70 + C76 + C63 + C33 + C67 + C16 + 1\n",
      "0.9999999999773144\n"
     ]
    }
   ],
   "source": [
    "model = forward_selected(df, 'C1')\n",
    "\n",
    "print(model.model.formula)\n",
    "print(model.rsquared_adj)"
   ]
  },
  {
   "cell_type": "markdown",
   "metadata": {},
   "source": [
    "Initially, the stepwise procedure adds 28 independent variables to the model, which explains 100% of the variance! Because we have a sample size of only 30, we’re obviously overfitting the model. Overfitting a model is a different issue that also inflates R-squared.\n",
    "\n",
    "I want to address only the problems related to data mining, so I’ll reduce the number of independent variables to avoid an overfit model. A good rule of thumb is to include a maximum of one variable for every 10 observations. With 30 observations, I’ll include only the first three variables that stepwise regression picks: C35, C28, and C87. The stepwise regression output for the first three variables is below."
   ]
  },
  {
   "cell_type": "code",
   "execution_count": 13,
   "metadata": {},
   "outputs": [],
   "source": [
    "X = df[['C35', 'C28', 'C87']]"
   ]
  },
  {
   "cell_type": "code",
   "execution_count": 14,
   "metadata": {},
   "outputs": [
    {
     "name": "stdout",
     "output_type": "stream",
     "text": [
      "                                 OLS Regression Results                                \n",
      "=======================================================================================\n",
      "Dep. Variable:                     C1   R-squared (uncentered):                   0.427\n",
      "Model:                            OLS   Adj. R-squared (uncentered):              0.364\n",
      "Method:                 Least Squares   F-statistic:                              6.719\n",
      "Date:                Tue, 20 Apr 2021   Prob (F-statistic):                     0.00156\n",
      "Time:                        17:21:59   Log-Likelihood:                         -33.553\n",
      "No. Observations:                  30   AIC:                                      73.11\n",
      "Df Residuals:                      27   BIC:                                      77.31\n",
      "Df Model:                           3                                                  \n",
      "Covariance Type:            nonrobust                                                  \n",
      "==============================================================================\n",
      "                 coef    std err          t      P>|t|      [0.025      0.975]\n",
      "------------------------------------------------------------------------------\n",
      "C35           -0.4913      0.132     -3.711      0.001      -0.763      -0.220\n",
      "C28            0.2636      0.141      1.875      0.072      -0.025       0.552\n",
      "C87            0.2703      0.142      1.909      0.067      -0.020       0.561\n",
      "==============================================================================\n",
      "Omnibus:                        0.066   Durbin-Watson:                   1.292\n",
      "Prob(Omnibus):                  0.968   Jarque-Bera (JB):                0.253\n",
      "Skew:                          -0.079   Prob(JB):                        0.881\n",
      "Kurtosis:                       2.579   Cond. No.                         1.11\n",
      "==============================================================================\n",
      "\n",
      "Notes:\n",
      "[1] R² is computed without centering (uncentered) since the model does not contain a constant.\n",
      "[2] Standard Errors assume that the covariance matrix of the errors is correctly specified.\n"
     ]
    }
   ],
   "source": [
    "import statsmodels.api as sm\n",
    "\n",
    "model = sm.OLS(y, X)\n",
    "results = model.fit(method='qr')\n",
    "print(results.summary())"
   ]
  },
  {
   "cell_type": "markdown",
   "metadata": {},
   "source": [
    "The coefficient P value for C35 is statistically significant. The R-squared of 42%% can be considered moderate depending on the field of study. However, for random data, it’s unbelievable—literally! In actual research, you’re likely to have some real effects mixed in, which can produce an even higher R-squared. The residual plots look good."
   ]
  },
  {
   "cell_type": "code",
   "execution_count": 15,
   "metadata": {},
   "outputs": [
    {
     "data": {
      "image/png": "[encoded data removed]",
      "text/plain": [
       "<Figure size 864x576 with 4 Axes>"
      ]
     },
     "metadata": {
      "needs_background": "light"
     },
     "output_type": "display_data"
    }
   ],
   "source": [
    "plt.rc(\"figure\", figsize=(12, 8))\n",
    "fig = sm.graphics.plot_regress_exog(results, \"C35\")\n",
    "fig.tight_layout(pad=1.0)"
   ]
  },
  {
   "cell_type": "markdown",
   "metadata": {},
   "source": [
    "Just to be sure, let’s graph the relationship between an independent variable (C35) and the dependent variable (C1). We’ll see if it looks like a real relationship. Seeing is believing!"
   ]
  },
  {
   "cell_type": "code",
   "execution_count": 16,
   "metadata": {},
   "outputs": [
    {
     "data": {
      "image/png": "[encoded data removed]",
      "text/plain": [
       "<Figure size 864x576 with 1 Axes>"
      ]
     },
     "metadata": {
      "needs_background": "light"
     },
     "output_type": "display_data"
    }
   ],
   "source": [
    "sns.regplot(x=\"C35\", y=\"C1\", data=df[['C1', 'C35', 'C28', 'C87']]);"
   ]
  },
  {
   "cell_type": "markdown",
   "metadata": {},
   "source": [
    "This plot looks good. The graph shows that as C35 increases, the dependent variable (C1) tends to decrease, which is consistent with the negative coefficient in the output. The data sure look like they follow a real relationship. If we didn’t know that the data are random, we’d think it’s a great model!"
   ]
  },
  {
   "cell_type": "markdown",
   "metadata": {},
   "source": [
    "### Lessons Learned from the Data Mining Example\n",
    "The example above shows how data mining symptoms can be hard to detect. There are no visible signs of problems even though all of the results are deceptive. The statistical output and chart look great. Unfortunately, these results don’t reflect actual relationships but instead represent chance correlations that are guaranteed to occur with enough opportunities.\n",
    "\n",
    "In the introduction, I asked, “What can possibly be wrong?” Now you know—everything can be wrong! The regression model suggests that random data can explain other random data, which is impossible. If you didn’t already know that there are no actual relationships between these variables, these results would lead you to completely inaccurate conclusions. Additionally, the capability of this model to predict new observations is zero despite the predicted R-squared.\n",
    "\n",
    "The problems are real. Now, let’s move on to explaining how they happen and how to avoid them.\n",
    "\n",
    "### How Data Mining Causes these Problems\n",
    "For all hypothesis tests, including tests for regression coefficients, there is always the chance of rejecting a null hypothesis that is actually true (Type I error). This error rate equals your significance level, which is often 5%. In other words, in cases where the null hypothesis is correct, you’ll have false positives 5% of the time.\n",
    "\n",
    "A false positive in this context indicates that you have a statistically significant P value, but no effect or relationship exists in the population. These false positives occur due to chance patterns in the sample data that are not present in the population. The more hypothesis tests you perform, the greater your probability of encountering false positives.\n",
    "\n",
    "Let’s apply these concepts to data mining with regression analysis. When you fit many models with different combinations of variables, you are performing many hypothesis tests. In fact, if you use an automated procedure like stepwise or best subsets regression, you are performing hundreds if not thousands of hypothesis tests on the same data.\n",
    "\n",
    "With this many tests, you will inevitably find variables that appear to be significant but are actually false positives. If you are guided mainly by statistical significance, you’ll keep these variables in the model, and it will fill up with false positives.\n",
    "\n",
    "That’s precisely what occurred in our example. We had 100 candidate independent variables and stepwise regression scoured through hundreds of potential models to find the chance correlations.\n",
    "\n",
    "### Let Theory Guide You and Avoid Data Mining\n",
    "Don’t get me wrong. Data mining can help build a regression model in the exploratory stage, particularly when there isn’t much theory to guide you. However, if you use data mining as the primary way to specify your model, you are likely to experience some problems. You should perform a confirmation study using a new dataset to verify data mining results. There can be costly consequences if you don’t. Imagine if we made decisions based on the example model!\n",
    "\n",
    "Instead of data mining, use theory to guide you while fitting models and evaluating results. This approach reduces the number of models that you need to fit. Additionally, you can evaluate the model’s properties using subject-area considerations.\n",
    "\n",
    "The best practice is to develop an understanding of the relevant independent variables, their relationships with the dependent variable, and the expected coefficient signs and effect magnitudes before you begin collecting data. This method requires that you review the subject-area literature and similar studies.\n",
    "\n",
    "The advance research allows you to:\n",
    "\n",
    "- Collect the correct data in the first place.\n",
    "- Specify a good model without data mining.\n",
    "- Compare your results to theory.\n",
    "\n",
    "Using statistics in a scientific study requires a lot of planning. For more information about this process, read 5 Steps for Conducting Scientific Studies with Statistical Analyses.\n",
    "\n",
    "Never make a decision about including a variable in the model based on statistical significance alone. If there are discrepancies between the results and theory, be sure to investigate. Either explain the discrepancy or alter your model. For instance, compare the coefficient signs in your results to those that theory predicts. And, compare your R-squared to those from similar studies.\n",
    "\n",
    "In conclusion, you want to develop knowledge that can guide you rather than relying on automated procedures to build your model. After all, it’s unreasonable to expect simple algorithms based on statistical significant to model the complex world better than a subject-area expert. Use your smarts before brute force!"
   ]
  },
  {
   "cell_type": "code",
   "execution_count": null,
   "metadata": {},
   "outputs": [],
   "source": []
  }
 ],
 "metadata": {
  "kernelspec": {
   "display_name": "Python 3",
   "language": "python",
   "name": "python3"
  },
  "language_info": {
   "codemirror_mode": {
    "name": "ipython",
    "version": 3
   },
   "file_extension": ".py",
   "mimetype": "text/x-python",
   "name": "python",
   "nbconvert_exporter": "python",
   "pygments_lexer": "ipython3",
   "version": "3.8.5"
  }
 },
 "nbformat": 4,
 "nbformat_minor": 4
}

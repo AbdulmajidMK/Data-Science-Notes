{
 "cells": [
  {
   "cell_type": "markdown",
   "metadata": {},
   "source": [
    "```\n",
    "From: https://github.com/ksatola\n",
    "Version: 0.0.0\n",
    "```"
   ]
  },
  {
   "cell_type": "markdown",
   "metadata": {},
   "source": [
    "# Synthetic Datasets Generation\n"
   ]
  },
  {
   "cell_type": "code",
   "execution_count": 1,
   "metadata": {},
   "outputs": [],
   "source": [
    "# Connect with underlying Python code\n",
    "%load_ext autoreload\n",
    "%autoreload 2\n",
    "import sys\n",
    "sys.path.insert(0, '../src')"
   ]
  },
  {
   "cell_type": "code",
   "execution_count": 2,
   "metadata": {},
   "outputs": [],
   "source": [
    "import pandas as pd\n",
    "import numpy as np\n",
    "\n",
    "import matplotlib.pyplot as plt\n",
    "%matplotlib inline\n",
    "\n",
    "# To eliminate Yellowbrick warming: findfont: Font family ['sans-serif'] not found. Falling back to DejaVu Sans.\n",
    "import matplotlib.font_manager\n",
    "\n",
    "import seaborn as sns"
   ]
  },
  {
   "cell_type": "markdown",
   "metadata": {},
   "source": [
    "---\n",
    "\n",
    "## Regression\n",
    "The [make_regression()](https://scikit-learn.org/stable/modules/generated/sklearn.datasets.make_regression.html) function from the scikit-learn library can be used to define a dataset. It provides control over the number of samples, number of input features, and, importantly, the number of relevant and redundant input features. "
   ]
  },
  {
   "cell_type": "code",
   "execution_count": 3,
   "metadata": {},
   "outputs": [
    {
     "data": {
      "text/plain": [
       "array([[-0.35327269, -1.46920143, -0.74867396,  0.56832597,  0.442359  ,\n",
       "        -0.2098729 ,  0.48296544, -0.08654811, -0.27612319,  0.32845342,\n",
       "         0.36697483,  1.4116349 , -0.47735134,  1.00938685,  0.38587655,\n",
       "        -0.16266788, -0.69595893, -1.12391152, -0.0333786 ,  0.91569887,\n",
       "         0.01509605,  0.12716749, -0.0617523 , -1.21019613,  0.53888247,\n",
       "         0.36816415, -1.85967954,  0.05570509, -0.33430215,  0.78232871,\n",
       "         0.44475834,  0.51282893, -0.66875255,  0.29463573,  0.42644646,\n",
       "         1.83024856, -0.01897557, -0.46777615,  0.30113826, -1.23725692,\n",
       "         0.45374338,  0.41727583, -0.15008832, -1.76726887,  0.16306499,\n",
       "        -0.7593587 , -0.0652204 , -0.65089772, -0.18573257, -0.31933449,\n",
       "         1.40522828,  0.75961813, -0.53790334, -0.10618352,  0.38602263,\n",
       "         2.19959551, -1.3402175 , -1.21264274, -2.13120957, -0.12046564,\n",
       "         0.00489506,  2.69353229, -1.32490965,  1.17708632,  0.2150338 ,\n",
       "         0.07220661, -1.07234004,  1.23015745,  0.60560037,  2.05389386,\n",
       "         0.75406156, -0.05520352,  1.52110088, -2.35029027,  0.61431162,\n",
       "        -1.0799872 , -1.95049551, -0.51161584,  0.45910795,  1.4833457 ,\n",
       "        -0.1454523 ,  0.46732817, -0.10846855,  0.51375522, -1.07816206,\n",
       "         0.91759437, -0.96449612, -1.85678689, -0.92989824,  0.4092505 ,\n",
       "        -0.64892383, -0.72159549, -0.62737307,  2.20257788,  1.79592394,\n",
       "        -0.39701068,  1.39278103, -0.71967805,  0.24467163, -2.45750652]])"
      ]
     },
     "execution_count": 3,
     "metadata": {},
     "output_type": "execute_result"
    }
   ],
   "source": [
    "from sklearn.datasets import make_regression\n",
    "\n",
    "# Define a dataset with 1,000 samples, each with 100 input features where 10 are informative and the remaining 90 are redundant\n",
    "X, y = make_regression(n_samples=1000, n_features=100, n_informative=10, noise=0.1, random_state=42)\n",
    "\n",
    "# First row\n",
    "X[:1]"
   ]
  },
  {
   "cell_type": "markdown",
   "metadata": {},
   "source": [
    "---\n",
    "\n",
    "## Classification\n",
    "We can use the [make_classification()](https://scikit-learn.org/stable/modules/generated/sklearn.datasets.make_classification.html) function to create a synthetic binary classification problem."
   ]
  },
  {
   "cell_type": "code",
   "execution_count": 4,
   "metadata": {},
   "outputs": [
    {
     "name": "stdout",
     "output_type": "stream",
     "text": [
      "(1000, 10) (1000,)\n"
     ]
    }
   ],
   "source": [
    "from sklearn.datasets import make_classification\n",
    "\n",
    "# Define dataset with 1,000 examples and 10 input features, five of which are important and five of which are redundant\n",
    "X, y = make_classification(n_samples=1000, n_features=10, n_informative=5, n_redundant=5, random_state=1)\n",
    "# summarize the dataset\n",
    "print(X.shape, y.shape)"
   ]
  },
  {
   "cell_type": "code",
   "execution_count": null,
   "metadata": {},
   "outputs": [],
   "source": []
  },
  {
   "cell_type": "code",
   "execution_count": null,
   "metadata": {},
   "outputs": [],
   "source": []
  },
  {
   "cell_type": "code",
   "execution_count": null,
   "metadata": {},
   "outputs": [],
   "source": []
  },
  {
   "cell_type": "code",
   "execution_count": null,
   "metadata": {},
   "outputs": [],
   "source": []
  },
  {
   "cell_type": "code",
   "execution_count": null,
   "metadata": {},
   "outputs": [],
   "source": []
  },
  {
   "cell_type": "code",
   "execution_count": null,
   "metadata": {},
   "outputs": [],
   "source": []
  },
  {
   "cell_type": "code",
   "execution_count": null,
   "metadata": {},
   "outputs": [],
   "source": []
  },
  {
   "cell_type": "code",
   "execution_count": null,
   "metadata": {},
   "outputs": [],
   "source": []
  }
 ],
 "metadata": {
  "kernelspec": {
   "display_name": "Python 3",
   "language": "python",
   "name": "python3"
  },
  "language_info": {
   "codemirror_mode": {
    "name": "ipython",
    "version": 3
   },
   "file_extension": ".py",
   "mimetype": "text/x-python",
   "name": "python",
   "nbconvert_exporter": "python",
   "pygments_lexer": "ipython3",
   "version": "3.8.2"
  }
 },
 "nbformat": 4,
 "nbformat_minor": 4
}

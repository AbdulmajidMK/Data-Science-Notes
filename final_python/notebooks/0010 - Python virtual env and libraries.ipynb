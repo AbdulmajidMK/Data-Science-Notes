{
 "cells": [
  {
   "cell_type": "markdown",
   "metadata": {},
   "source": []
  },
  {
   "cell_type": "markdown",
   "metadata": {},
   "source": [
    "# Python Virtual Environment(s) and Installed Libraries\n",
    "Installing and managing various Python libraries used in data analysis and ML."
   ]
  },
  {
   "cell_type": "markdown",
   "metadata": {},
   "source": [
    "## Non-Conda Setup\n",
    "After entering Python virtual env, there is no need to use `pip3` anymore, `pip` works fine.\n",
    "\n",
    "In the current setup, all Python environments are in the ~/environments folder, not in projects.\n",
    "\n",
    "If not using sudo and pip3, than libraries are not visible inside Jupyter.\n",
    "\n",
    "Search for pip packages: [https://pypi.org/](https://pypi.org/)"
   ]
  },
  {
   "cell_type": "code",
   "execution_count": null,
   "metadata": {},
   "outputs": [],
   "source": [
    "```\n",
    "sudo pip3 install xgboost\n",
    "sudo pip3 install pandas\n",
    "sudo pip3 install matplotlib\n",
    "sudo pip3 install seaborn\n",
    "sudo pip3 install scikit-learn\n",
    "sudo pip3 install yellowbrick\n",
    "sudo pip3 install pydotplus\n",
    "sudo apt install graphviz\n",
    "sudo pip3 install dtreeviz\n",
    "sudo pip3 install rfpimp\n",
    "sudo pip3 install xgbfir\n",
    "sudo pip3 install xlrd\n",
    "sudo pip3 install pandas-profiling\n",
    "sudo pip3 install statsmodels\n",
    "sudo pip3 install shap\n",
    "sudo pip3 install phik\n",
    "```"
   ]
  },
  {
   "cell_type": "markdown",
   "metadata": {},
   "source": [
    "### LightGBM\n",
    "1. [Install CMake](https://vitux.com/how-to-install-cmake-on-ubuntu-18-04/) - CMake is an open-source, cross-platform family of tools designed to build, test and package software. CMake is used to control the software compilation process using simple platform and compiler-independent configuration files, and generate native makefiles and workspaces that can be used in the compiler environment of your choice. \n",
    "\n",
    "```\n",
    "# Check the latest version on https://cmake.org/download/\n",
    "$ wget https://github.com/Kitware/CMake/releases/download/v3.18.3/cmake-3.18.3.tar.gz\n",
    "\n",
    "$ mkdir cmake\n",
    "$ mv cmake-3.18.3.tar.gz cmake/cmake-3.18.3.tar.gz\n",
    "$ cd cmake\n",
    "$ tar -zxvf cmake-3.18.3.tar.gz\n",
    "$ cd cmake-3.18.3\n",
    "$ ./bootstrap\n",
    "$ make -j12\n",
    "$ sudo make install\n",
    "$ cmake --version\n",
    "```\n",
    "\n",
    "2. [Install LightGBM](https://lightgbm.readthedocs.io/en/latest/Installation-Guide.html#linux)\n",
    "\n",
    "```\n",
    "$ cd ~/git\n",
    "$ git clone --recursive https://github.com/microsoft/LightGBM ; cd LightGBM\n",
    "$ mkdir build ; cd build\n",
    "$ cmake ..\n",
    "$ make -j4\n",
    "```\n",
    "\n",
    "3. Make it available to Jupyter\n",
    "\n",
    "```\n",
    "$ cd .. ; cd python-package\n",
    "$ sudo python3 setup.py install\n",
    "```"
   ]
  },
  {
   "cell_type": "markdown",
   "metadata": {},
   "source": [
    "## TPOT\n",
    "Consider [TPOT](https://epistasislab.github.io/tpot/) your Data Science Assistant. TPOT is a Python Automated Machine Learning tool that optimizes machine learning pipelines using genetic programming.\n",
    "\n",
    "```\n",
    "sudo pip3 install deap update_checker tqdm stopit\n",
    "sudo pip3 install dask[delayed] dask[dataframe] dask-ml fsspec>=0.3.3\n",
    "sudo pip3 install scikit-mdr skrebate\n",
    "sudo pip3 install tpot\n",
    "```"
   ]
  },
  {
   "cell_type": "markdown",
   "metadata": {},
   "source": [
    "## Node.js\n",
    "```\n",
    "To be able to install Jupyter Lab extensions\n",
    "https://www.geeksforgeeks.org/installation-of-node-js-on-linux/\n",
    "\n",
    "$ sudo apt install nodejs\n",
    "$ node --version\n",
    "\n",
    "# Node Package Manager(NPM)\n",
    "$ sudo apt install npm\n",
    "$ npm --version\n",
    "\n",
    "$ sudo apt-get update\n",
    "$ sudo apt-get upgrade\n",
    "```"
   ]
  },
  {
   "cell_type": "markdown",
   "metadata": {},
   "source": [
    "## Missingno\n",
    "```\n",
    "https://github.com/ResidentMario/missingno\n",
    "$ sudo pip3 install missingno\n",
    "$ sudo pip3 install quilt\n",
    "$ sudo quilt install ResidentMario/missingno_data\n",
    "```"
   ]
  },
  {
   "cell_type": "markdown",
   "metadata": {},
   "source": [
    "## Keras\n",
    "```\n",
    "https://keras.io/\n",
    "https://github.com/hsekia/learning-keras/wiki/How-to-install-Keras-to-Ubuntu-18.04\n",
    "\n",
    "# With no GPU support\n",
    "$ sudo pip3 install tensorflow\n",
    "$ sudo pip3 install keras\n",
    "\n",
    "```"
   ]
  },
  {
   "cell_type": "markdown",
   "metadata": {},
   "source": [
    "## Catboost\n",
    "```\n",
    "https://catboost.ai/docs/concepts/about.html\n",
    "https://catboost.ai/docs/installation/python-installation-method-pip-install.html\n",
    "\n",
    "$ sudo pip3 install catboost\n",
    "\n",
    "# visualization tools\n",
    "$ sudo pip3 install ipywidgets \n",
    "$ sudo jupyter nbextension enable --py widgetsnbextension\n",
    "\n",
    "```"
   ]
  },
  {
   "cell_type": "markdown",
   "metadata": {},
   "source": [
    "## imblearn\n",
    "```\n",
    "https://imbalanced-learn.readthedocs.io/en/stable/index.html\n",
    "https://imbalanced-learn.readthedocs.io/en/stable/install.html\n",
    "\n",
    "$ sudo pip3 install -U imbalanced-learn\n",
    "\n",
    "```"
   ]
  },
  {
   "cell_type": "markdown",
   "metadata": {},
   "source": [
    "## scikit-plot\n",
    "```\n",
    "https://scikit-plot.readthedocs.io/en/stable/index.html\n",
    "\n",
    "$ sudo pip3 install scikit-plot\n",
    "\n",
    "```"
   ]
  },
  {
   "cell_type": "markdown",
   "metadata": {},
   "source": [
    "## missingpy\n",
    "Missingpy is a library for missing data imputation in Python. It has an API consistent with scikit-learn, so users already comfortable with that interface will find themselves in familiar terrain. Currently, the library supports k-Nearest Neighbors based imputation and Random Forest based imputation (MissForest)\n",
    "```\n",
    "https://pypi.org/project/missingpy/\n",
    "\n",
    "$ sudo pip3 install missingpy\n",
    "\n",
    "```"
   ]
  },
  {
   "cell_type": "markdown",
   "metadata": {},
   "source": [
    "## plotnine\n",
    "Plotnine is an implementation of a grammar of graphics in Python, it is based on ggplot2. The grammar allows users to compose plots by explicitly mapping data to the visual objects that make up the plot.\n",
    "```\n",
    "https://plotnine.readthedocs.io/en/stable/index.html\n",
    "\n",
    "$ sudo pip3 install plotnine\n",
    "\n",
    "```"
   ]
  },
  {
   "cell_type": "code",
   "execution_count": null,
   "metadata": {},
   "outputs": [],
   "source": []
  },
  {
   "cell_type": "markdown",
   "metadata": {},
   "source": [
    "# Deprecated:"
   ]
  },
  {
   "cell_type": "markdown",
   "metadata": {},
   "source": [
    "## Conda Cheatsheet\n",
    "[Conda Cheatseet](https://docs.conda.io/projects/conda/en/4.6.0/_downloads/52a95608c49671267e40c689e0bc00ca/conda-cheatsheet.pdf)"
   ]
  },
  {
   "cell_type": "markdown",
   "metadata": {},
   "source": [
    "## Python virtual environment\n",
    "There are confirmed problems when using conda and virtual environments together. As for WSL I use conda (and pip sometimes) to manage packages, I do not use virtualenv library here. **Conda keeps environments in a common directory, whereas virtualenv environment can be stored anywhere, usually inside project folder**."
   ]
  },
  {
   "cell_type": "markdown",
   "metadata": {},
   "source": [
    "```\n",
    "# I do not use it in WSL (Windows Ubuntu)\n",
    "pip install virtualenv\n",
    "\n",
    "# Create an environment while inside a git repository folder\n",
    "virtualenv venv\n",
    "\n",
    "# Activate the environment\n",
    "source venv/bin/activate\n",
    "\n",
    "# Register libraries available in the environment\n",
    "pip freeze > requirements.txt\n",
    "\n",
    "# Install libraries from a file\n",
    "pip install -r requirements.txt\n",
    "\n",
    "# Deactivate the environment\n",
    "deactivate\n",
    "```"
   ]
  },
  {
   "cell_type": "markdown",
   "metadata": {},
   "source": [
    "### In WSL use conda virtual environments:\n",
    "```\n",
    "# Create an empty environment while inside a git repository folder (not able to run Jupyter Lab)\n",
    "conda create --name cenv\n",
    "\n",
    "# Create an environment while inside a git repository folder (but copy the base environment with Jupyter Lab)\n",
    "conda create --clone base --name venv\n",
    "\n",
    "# Activate the environment\n",
    "conda activate venv\n",
    "\n",
    "# Register libraries available in the environment\n",
    "pip freeze > requirements.txt\n",
    "\n",
    "# Install libraries from a file\n",
    "pip install -r requirements.txt\n",
    "\n",
    "# Deactivate the environment\n",
    "conda deactivate\n",
    "```"
   ]
  },
  {
   "cell_type": "markdown",
   "metadata": {},
   "source": [
    "## Required Libraries\n",
    "For Anaconda, use conda package manager whenever possible to ensure all dependencies are managed properly"
   ]
  },
  {
   "cell_type": "markdown",
   "metadata": {},
   "source": [
    "```\n",
    "python -m pip install --upgrade pip\n",
    "conda install -c conda-forge pip\n",
    "\n",
    "# Find the packet name for a library name\n",
    "pip search janitor\n",
    "\n",
    "pip install --no-deps fastai\n",
    "conda install -c fastai -c pytorch -c anaconda fastai gh anaconda\n",
    "\n",
    "pip install umap-learn\n",
    "conda install -c conda-forge umap-learn\n",
    "\n",
    "pip install pandas\n",
    "conda install -c conda-forge pandas\n",
    "\n",
    "pip install pyjanitor\n",
    "conda install -c conda-forge pyjanitor\n",
    "\n",
    "pip install imbalanced-learn\n",
    "conda install -c conda-forge imbalanced-learn\n",
    "\n",
    "\n",
    "conda install -c conda-forge rfpimp\n",
    "\n",
    "conda install -c conda-forge pydotplus\n",
    "\n",
    "conda install -c anaconda py-xgboost\n",
    "\n",
    "```"
   ]
  },
  {
   "cell_type": "markdown",
   "metadata": {},
   "source": [
    "```\n",
    "auto-sklearn\n",
    "https://automl.github.io/auto-sklearn/master/installation.html\n",
    "# For Ubuntu:\n",
    "sudo apt-get install build-essential swig\n",
    "# or conda\n",
    "conda install gxx_linux-64 gcc_linux-64 swig\n",
    "```"
   ]
  },
  {
   "cell_type": "markdown",
   "metadata": {},
   "source": [
    "```\n",
    "Yellowbrick\n",
    "https://www.scikit-yb.org/en/latest/\n",
    "conda install -c districtdatalabs yellowbrick\n",
    "```"
   ]
  },
  {
   "cell_type": "markdown",
   "metadata": {},
   "source": [
    "```\n",
    "Pandas Profiling\n",
    "https://pandas-profiling.github.io/pandas-profiling/docs/master/rtd/pages/installation.html\n",
    "conda install -c conda-forge pandas-profiling\n",
    "```"
   ]
  },
  {
   "cell_type": "markdown",
   "metadata": {},
   "source": [
    "```\n",
    "MLxtend\n",
    "http://rasbt.github.io/mlxtend/\n",
    "conda install -c conda-forge mlxtend\n",
    "```"
   ]
  },
  {
   "cell_type": "markdown",
   "metadata": {},
   "source": [
    "```\n",
    "Graphviz - Graph Visualization Software\n",
    "https://graphviz.org/download/\n",
    "sudo apt install graphviz\n",
    "```"
   ]
  },
  {
   "cell_type": "markdown",
   "metadata": {},
   "source": [
    "```\n",
    "dtreeviz : Decision Tree Visualization\n",
    "https://github.com/parrt/dtreeviz\n",
    "pip install dtreeviz\n",
    "or\n",
    "sudo apt install graphviz\n",
    "```"
   ]
  },
  {
   "cell_type": "markdown",
   "metadata": {},
   "source": [
    "```\n",
    "which python\n",
    "```"
   ]
  },
  {
   "cell_type": "code",
   "execution_count": 2,
   "metadata": {},
   "outputs": [],
   "source": [
    "import autosklearn\n",
    "import yellowbrick\n",
    "import pandas_profiling"
   ]
  },
  {
   "cell_type": "code",
   "execution_count": null,
   "metadata": {},
   "outputs": [],
   "source": []
  },
  {
   "cell_type": "code",
   "execution_count": 3,
   "metadata": {},
   "outputs": [
    {
     "name": "stdout",
     "output_type": "stream",
     "text": [
      "autosklearn 0.8.0\n",
      "yellowbrick 1.1\n",
      "pandas_profiling 2.9.0\n",
      "-- Missing catboost\n"
     ]
    }
   ],
   "source": [
    "for lib in ['autosklearn', \n",
    "            'yellowbrick', \n",
    "            'pandas_profiling',\n",
    "            'catboost']:\n",
    "    try:\n",
    "        lib_var = vars()[lib]\n",
    "        print(lib_var.__name__, lib_var.__version__)\n",
    "    except:\n",
    "        print(\"-- Missing\", lib)"
   ]
  },
  {
   "cell_type": "code",
   "execution_count": null,
   "metadata": {},
   "outputs": [],
   "source": []
  }
 ],
 "metadata": {
  "kernelspec": {
   "display_name": "Python 3",
   "language": "python",
   "name": "python3"
  },
  "language_info": {
   "codemirror_mode": {
    "name": "ipython",
    "version": 3
   },
   "file_extension": ".py",
   "mimetype": "text/x-python",
   "name": "python",
   "nbconvert_exporter": "python",
   "pygments_lexer": "ipython3",
   "version": "3.8.5"
  }
 },
 "nbformat": 4,
 "nbformat_minor": 4
}

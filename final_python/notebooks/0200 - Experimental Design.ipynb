{
 "cells": [
  {
   "cell_type": "markdown",
   "metadata": {},
   "source": [
    "```\n",
    "From: https://github.com/ksatola\n",
    "Version: 0.0.1\n",
    "\n",
    "TODOs\n",
    "1. \n",
    "```"
   ]
  },
  {
   "cell_type": "markdown",
   "metadata": {},
   "source": [
    "# Experimental Design\n",
    "\n",
    "## Table of Contents\n",
    "\n",
    "- [AAA](#matrix)\n",
    "- [BBB](#metrics)"
   ]
  },
  {
   "cell_type": "markdown",
   "metadata": {},
   "source": [
    "---\n",
    "<a id='matrix'></a>"
   ]
  },
  {
   "cell_type": "markdown",
   "metadata": {},
   "source": [
    "## Introduction to Exeprimental Testing\n",
    "\n",
    "### Experiment is a type of study\n",
    "As you may already know, an experiment is a type of study. Whenever we choose to analyze data, whether it's data already in a database or data we collected ourselves, we always have to have some sort of study design behind it. An experiment is just one type of study design. \n",
    "\n",
    "To better understand the features of experimental study designs, it's helpful to understand the other study designs first. I'm going to explain them to you using terminology from my field, which is public health. But please understand that the same study designs might be called something different in another field, such as psychology. But lucky for you, in every field, we all agree on what an experiment is. \n",
    "\n",
    "<img src=\"images/exp_design_001.png\" alt=\"\" style=\"width: 600px;\"/>\n",
    "\n",
    "In epidemiology, I find it helpful to think of the study designs not as equals but as a hierarchy, so I'm going to show you this helpful diagram I call the study design hierarchy. It starts at the top with human research, which is epidemiologists do, and if you are studying user behavior in your experiment, you will be researching humans as well. Let's start going down the hierarchy. Our first stop on the left side of the diagram is called `observational studies`. These are where we collect data about humans by simply recording what they do naturally. Perhaps I enroll a group of people who suffer migraines in a study, and ask them to record what medications they take when they get sick. If I do that, I'm just observing their behavior. This seems like a nice study design, right? Well, it is nice, but there are caveats. Let's move down the hierarchy from observational and you will see that it splits. On one side we have `descriptive studies`. Descriptive study designs do not test a hypothesis, but simply try to describe the data. You will learn more about this in this course actually because it is necessary to do some descriptive analysis as part of preparation for an experiment. Here, you will see the other way that observational studies split is called `analytic`. Those study designs are intended to test hypotheses. And trust me, they are really challenging. Remember, when you have a hypothesis, you are trying to figure out a cause, and in an analytic study, you are trying to test a hypothesis, but the data are very biased. \n",
    "\n",
    "I'll give you some examples. I'm vegetarian and I also do yoga, and if you look in the world, you'll find a lot of people who are vegetarian and do yoga. Many video game fans are also comic books fans, and many history buffs like to both read about history and visit historical museums. So these observational biases, while interesting, can interfere with being able to tell what causes what in the data. So if I find out in my observational study that vegetarians are healthier than everyone else, is it because they are vegetarian, or because a lot of them do yoga? Or could it be caused by some other healthy behavior they do that we don't even know about? So we have this problem with being able to tell what caused what. This is where `experiment` comes in. Let's go back to the study design hierarchy. You will see I added experiment as a type of human research, opposite to observational studies. \n",
    "\n",
    "<img src=\"images/exp_design_002.png\" alt=\"\" style=\"width: 600px;\"/>\n",
    "\n",
    "In `experiment`, you are not simply observing what people are doing. You are actually controlling what they are doing. Well, only to some extent. There are boundaries and limitations. In fact, you will learn about those later in the course. But that basic idea that the researcher controls the choices, not the research participant, is the hallmark of an experiment. It is what makes an experiment different from an observational study. So, although we will do some descriptive analysis in this course to prepare for our experiment, the focus of this course will be on the specific steps to take when conducting a data science experiment."
   ]
  },
  {
   "cell_type": "markdown",
   "metadata": {},
   "source": [
    "### Features of an experiment\n",
    "Now we are going to look at specific features of experiments. This study design hierarchy diagram is one that I've shown you before. Just as a reminder, the experiment is counterpoised against or basically the opposite of an observational study. In an `observational study`, the researcher collects data about humans but does not assign them to do anything they would not normally do. In contrast, in an `experiment`, the researcher actually makes choices for the research participant and controls their choices in the study. So that is the first feature I want you to remember about experiments, and that is `in an experiment, the researcher makes choices for the participants`. Not the participant. \n",
    "\n",
    "<img src=\"images/exp_design_003.png\" alt=\"\" style=\"width: 600px;\"/>\n",
    "\n",
    "Let's get into the details of what I mean by choices. Here is what the researcher assigns in an experiment, the conditions. Let's talk about the word conditions. \n",
    "\n",
    "<img src=\"images/exp_design_004.png\" alt=\"\" style=\"width: 300px;\"/>\n",
    "\n",
    "In experimental research, the word `condition` roughly means the environment in which the study or research occurred. Think of a study testing a new uniform for army soldiers. One condition might be desert and one might be rainy. So another feature of an experiment is that `you need at least two conditions and the goal is to compare the conditions`. \n",
    "\n",
    "Let's sum what we have gone over so far as features of experiments, but let me put them in a slightly different way. We just talked about how experiments need to have at least two conditions, so you can compare them and tell which is better. Earlier, we talked about another feature of an experiment, which is that the researcher makes choices for the participants. Actually, the technical term for participants is experimental units, which means the type of entity on which you are doing your experiment. \n",
    "\n",
    "<img src=\"images/exp_design_005.png\" alt=\"\" style=\"width: 600px;\"/>\n",
    "\n",
    "`So the two features of experimental design we have talked about so far are that the experiment must have at least two comparable conditions and that the researcher must be the one to assign the participants to the conditions, not the participants themselves`. \n",
    "\n",
    "<img src=\"images/exp_design_006.png\" alt=\"\" style=\"width: 400px;\"/>\n",
    "\n",
    "So why would you ever do an experiment? As I showed you earlier, you could just do an observational study. That way, you would not need any conditions and you would not need to assign anyone to them. But `experimental design is really what you need if you want to see if something new is better without completely converting over to the new way`. In an experiment, the old way can be one condition and the new way can be the other condition, and you can compare them. That way, you have the information to choose whether or not to convert to the new way or stay with the old way. \n",
    "\n",
    "<img src=\"images/exp_design_006.png\" alt=\"\" style=\"width: 400px;\"/>\n",
    "\n",
    "So up to now, experiments might sound like a pretty good deal but a lot of people do not appreciate how much work they are. Imagine an app developer who develops her app with a blue color scheme and wonders if users would respond more positively to a green color scheme. To do an experiment, she would basically have to build two versions of the app, one blue and one green. This would be a lot of work, especially if it was found at the end of the experiment that the blue-themed app was preferable. And it is also effort intensive and time consuming to keep all these assignments straight and to collect two different buckets of data, one for each condition. This is why you will find that observational studies are much more common than experiments. They are expensive and more work but on the other hand, experiments can be very valuable. Remember how I talked about all the bias involved in observational studies? That is what `all the effort in experiments is going towards, reducing the bias so you can see which condition is really better, the old way or the new way`. Experiments can provide uniquely valuable information that cannot be provided by other study designs. So under the right circumstances, the extra expense and time are worth it."
   ]
  },
  {
   "cell_type": "markdown",
   "metadata": {},
   "source": [
    "### Circumstances for experimental testing\n",
    "I'd like you to think about a thing you've studied over and over. I'm an epidemiologist, so I've studied a lot about certain diseases, but maybe you've studied your social media account over and over, trying to increase engagement. Or maybe you are a data analyst and have studied the behavior of your customers. Think about it, when you first encountered that topic, how did you study it? What study designs did you use? and didn't that lead to changes in the way you did things? Maybe you started using social media differently after seeing what posts or tweets work better than others. Or maybe you found parts of the database that were messy and cleaned them up. My point is that, if you do things right when studying the same thing over and over, you actually iterate in your study designs. You start by studying a problem, figuring out an `intervention` that you think would work to fix it, and applying it. If it doesn't work, you try something else. Which is a way of iterating. If it does work, that's great, but it means you can move on to `intervening` on another problem, and that's another way of iterating. \n",
    "\n",
    "<img src=\"images/exp_design_008.png\" alt=\"\" style=\"width: 600px;\"/>\n",
    "\n",
    "To be clear, what I mean by `intervention` is a change you make that intervenes on the system to make it run differently. One intervention you could do is fix a known problem. \n",
    "\n",
    "Now that we've talked about how we can evolve and iterate through our study designs if we keep studying and working on the same topic over and over, I want to bring up the concept of `Scientific Equipoise`. It roughly `means scientifically equal`.\n",
    "\n",
    "<img src=\"images/exp_design_009.png\" alt=\"\" style=\"width: 600px;\"/>\n",
    "\n",
    "This is the concept we epidemiologists use to help us decide if we need to do an experiment. For example, to see what treatment works better for a certain disease. But since experiments are effort intensive and expensive, we want to choose wisely. \n",
    "\n",
    "Now just imagine I design this experiment. We want students to buy healthy food on a campus. So we give half of them a \\\\$20 gift card for healthy food and the other half we give \\\\$40 gift card and we want to see which group buys more food. Can you see what is wrong with this experiment? \n",
    "\n",
    "Well, obviously, if you give someone \\\\$40 for free food and someone else \\\\$20 of free food, you can probably guess that the person given the $40 is going to go get more food. So these conditions are not at Scientific Equipoise. If you actually did an experiment like this it would be a waste of money because the two groups are not comparable. \n",
    "\n",
    "<img src=\"images/exp_design_010.png\" alt=\"\" style=\"width: 600px;\"/>\n",
    "\n",
    "Here is an example of how we could change the scenario to bring about Scientific Equipoise. Let's say we give both groups a \\\\$20 gift card but one group has to go to the cafeteria to redeem their card and get their food, and the other group can use an app to arrange for delivery of their \\\\$20 worth of food. Let's face it, we really don't know which one they would use more. In a colder climate, they may prefer the app. But in places where students like to meet in the cafeteria, they may prefer going out for food. \n",
    "\n",
    "`The point is, we really don't know which is better before we start the experiment`. When you really don't know at the beginning which group will be ahead at the end, then you have `Scientific Equipoise.` \n",
    "\n",
    "Now, I want to return to talking about that thing you study all the time. Whatever it is. We are like the people on the slide. We feel the panic and the pain. We already know what the problems are. `Experiments are actually for when you run out of ideas on how to optimize your system`. Let's go back to the college students. \n",
    "\n",
    "<img src=\"images/exp_design_011.png\" alt=\"\" style=\"width: 600px;\"/>\n",
    "\n",
    "The college wants them to eat healthy food. There are a lot of things it could do to encourage this. Such as making healthy food cheap and available on campus. They don't need to do an experiment to surmise that this will help them optimize the part of their system that's trying to get college students to have good nutrition. Only after they do those things could they get any insight from the experiment I described earlier. If they don't first make sure there is healthy food available to the students, that experiment definitely will not work."
   ]
  },
  {
   "cell_type": "markdown",
   "metadata": {},
   "source": [
    "### When not to do an experiment\n",
    "I have a lot of customers coming to me wanting to do experiments at the wrong time. Maybe they just installed some new software at their workplace or they just upgraded their software or they just bought an additional location for their business. Or they just hired a volunteer coordinator. Whatever it is, let me just say, `when things are new, it's not necessary to do an experiment`. \n",
    "\n",
    "<img src=\"images/exp_design_012.png\" alt=\"\" style=\"width: 300px;\"/>\n",
    "\n",
    "I know, I know, my customers are always itching to do experiments for some reason and they cry, \"But why?\" I just gently tell them, \"Let's think about it together. \"Let's logic this one out.\" Remember, an experiment is what you do after you've tried everything else. You are going to make some conditions, A and B, and they are going to be almost the same but different. `Condition A must be comparable to Condition B so B can only represent an incremental change from A`. But if you just did a new big thing, that's not an incremental change. That's a big change, and you did that for a reason, because you knew it would make things a whole lot better. That's why we upgrade software or hire volunteer coordinators or do whatever we do to make big changes in our business. We are being logical. Fixing big problems and preventing others. So the only way to realistically make changes to this hopefully new improved system is to have it settle down into a new normal before you start experimenting with incremental changes. \n",
    "\n",
    "<img src=\"images/exp_design_013.png\" alt=\"\" style=\"width: 600px;\"/>\n",
    "\n",
    "It might be easier to illustrate with an example. I have this friend who works at this educational technology company. They offer online training for certification in some different occupations. So my friend told me that they recently upgraded their online application process to take their courses. They streamlined it so the application was easier to fill out. They were hoping they might get more customers that way as people had been complaining the application was too much trouble. So now that they had upgraded the application process, my friend wanted me to teach him how to design an experiment to determine what is the best format for the application process. Do you see any red flags with this request? They just recently upgraded because of complaints about the application process so they were aiming to fix these problems by doing the upgrade. Did the problems get fixed? We don't know yet. Since this place often has repeat customers, people who keep getting certified and re-certified, they have a lot of access to just talking to their customers. That's much more powerful than an experiment. \n",
    "\n",
    "<img src=\"images/exp_design_014.png\" alt=\"\" style=\"width: 600px;\"/>\n",
    "\n",
    "I told my friend to have their new system settle down and see what their customers are thinking because if it wasn't perfect, we'd have to design conditions, condition A versus condition B. And `condition B should be some sort of improvement over A but we don't even know what is considered good`. The place said that their last process was bad. Now they fixed it hopefully. `So what is the new normal? You need to know that before you design an experiment`. `The system has to be so stable that you can predict the metrics you want to change. That way you can create a reasonable B condition that might improve that metric`. My friend was thinking of the components of the business, the application, the customers paying, the customers taking courses but in experimentation, you have to think of the whole system as one thing. `You are experimenting on the whole system, so the system must be stable before you contemplate an experiment`. You need to be able to imagine a better way, a slight incremental change to the system. You need to have stable predictable metrics in your system that you can measure reliably. \n",
    "\n",
    "<img src=\"images/exp_design_015.png\" alt=\"\" style=\"width: 600px;\"/>\n",
    "\n",
    "You know, in my business, I noticed something ironic. I noticed that a lot of people are like my friend. They want to do experiments when things are new. They are all excited right after something happens, a new hire, a new software, and they want to do an experiment even though that's the way wrong time. The customers who I tell need to do experiments are the ones that are exasperated. They have tried everything to make their system better and they just don't know what to do next. They are often exhausted and not in the mood for an experiment but that's the perfect time! So ironic.\n",
    "\n",
    "<img src=\"images/exp_design_016.png\" alt=\"\" style=\"width: 300px;\"/>"
   ]
  },
  {
   "cell_type": "markdown",
   "metadata": {},
   "source": [
    "### Systems ready for experimental testing\n",
    "So, when should you do an experiment? Now I'm going to talk to you about the perfect situation in which to do an experiment. Remember, a test is going to be done on the entire system, so the entire system has to be ready for testing, like that case study of my friend at the education company. If they change the application process for their courses, it will change everything about their system, like how many sales they will ultimately expect. But what I didn't really mention is `not only do you need to have the business part of the system in order before you do an experiment, but you need the management part of the system to be in order as well`.\n",
    "\n",
    "<img src=\"images/exp_design_017.png\" alt=\"\" style=\"width: 600px;\"/>\n",
    "\n",
    "Okay, let's imagine that the `business part` is in good shape for an experiment. Maybe you are on a team that launched an app last year and you have a stable customer base and you have not really changed your app in awhile. That's a very predictable system, `you know what to expect with your metrics and your system's performance`. That's an ideal state of business for an experiment. \n",
    "\n",
    "Then you have to turn to `management` and `find out what their priorities are, what do they want to improve?` Usually this is framed in terms of metrics, like they want sales to go up, or to increase web traffic hits, or increase customer signups. \n",
    "\n",
    "In my friend's example, he wanted to increase applications to his online courses. So that's the first thing managers need to talk about with respect to the experiment. What are we trying to change exactly? Now you need management to get creative with you because `in each A/B experiment you can test only one change`. Remember how I said you can only choose one B condition to test per experiment, so you need to choose wisely? These managers can help you brainstorm what might be a good change to test. So have them help you prioritize. What is a top barrier we can remove to sales, or whatever metric is important? Or maybe a slight redesign of the app will increase sales. In fact, whatever your role in the organization, your experiment is the most useful if you actually interview management who are in the know about the challenges they are prioritizing and the metrics they really want to change. If you ask them directly, you can get great information around which to design your experiment. The take home message is that `you are really going to have to get management on board for any experiment to work`. Even if you are really smart yourself, if you don't have management there on your side, you will miss important perspectives. Management is what really knows all parts of the system and they need to okay changes to the system because they have a better idea of how those changes will impact the system. `They will need to help you be creative in designing the B condition because you will need them to commit to adopting the condition that wins in the experiment, either A or B`. \n",
    "\n",
    "<img src=\"images/exp_design_018.png\" alt=\"\" style=\"width: 600px;\"/>\n",
    "\n",
    "So if your system is in good shape for an experiment, you have to also ask yourself, is management on board and in it for the long haul? Because if they are not, then the experiment won't work. The experiment itself is problematic, it's time consuming, expensive, and often disruptive to different departments. \n",
    "\n",
    "<img src=\"images/exp_design_019.png\" alt=\"\" style=\"width: 300px;\"/>\n",
    "\n",
    "But imagine you've found a way to increase sales a lot by just a little change. That's why experiments can be worth the trouble, but only if management is really committed to it. If they are not, the experiment will likely be disrupted and you won't get a good read on the result. Or you'll get the result and management won't implement it. You really need to make sure management is in it for the long haul before embarking on an experiment."
   ]
  },
  {
   "cell_type": "markdown",
   "metadata": {},
   "source": [
    "### Comparability of experimental conditions\n",
    "The really picky thing in experiments is setting up the conditions. Imagine that the blue star on the left represents condition A which might be how you are doing things now. You will have to make one minor change to condition A to invent a condition B and then see which one works better. \n",
    "\n",
    "<img src=\"images/exp_design_020.png\" alt=\"\" style=\"width: 600px;\"/>\n",
    "\n",
    "I have made a visual of an example of trying to come up with condition B on the right side of this slide. In one case I just changed the color of the star from blue to orange. In another, I kept the star blue and put a yellow dot on it. In the third, I kept the star blue, but just made it a little bigger. This visual demonstrates making one little change to condition A. The thing is, to represent condition B, I only made one change to the star, like I did not change the color and the size at the same time for condition B. `In AB testing, you can only make one change from condition A to condition B. So, basically you can only choose one condition B for the whole experiment`. So, that actually becomes the difficult thing, choosing what the exact change you are going to make to condition A to test as conditioned B. Because the idea is if you find condition B is better, then you will want to throw away A and start using B. \n",
    "\n",
    "`And you'd be surprised that I run into this common problem when coaching people on experimental design. And that is why they keep picking conditioned B's that we already know are better than condition A's. So, we already know the answer and don't need an experiment`. I'll show you what I mean. \n",
    "\n",
    "<img src=\"images/exp_design_021.png\" alt=\"\" style=\"width: 600px;\"/>\n",
    "\n",
    "So, let's say you have an online store that sells purses. Which do you think will increase your sales? Selling the purse for \\\\$100, like we have in conditioned A or selling the exact same purse for only \\\\$90 like in condition B? Obviously, I only want to spend \\\\$90 on a purse, not $100, so, I'll take condition B. Everyone would take condition B. Sometimes my clients want to do an experiment by offering some customers a coupon for a discount and not others. Which condition do you think will perform better? \n",
    "\n",
    "<img src=\"images/exp_design_022.png\" alt=\"\" style=\"width: 600px;\"/>\n",
    "\n",
    "Obviously the one with the coupon. So, I just say `if you have this problem, where you want to compare condition B to a condition A that we can obviously already tell is better than condition A, then just change your system to do the condition B you are going to test because you already know it's obviously better`. Aha, I made you realize why we are not using the imagined conditioned B of the \\\\$90 purse right now, because then our business of selling purses would lose money. We'd lose \\\\$10 per purse. That's why we are charging \\\\$100 in the first place. So, `the conditions must represent an equal trade-off`. I assume if you are selling purses, you have already set the price that you need to have in order to break even in your business. And remember, `experiments only can help you with incremental changes, they are for taking something to the next level when you are out of ideas`. \n",
    "\n",
    "<img src=\"images/exp_design_023.png\" alt=\"\" style=\"width: 600px;\"/>\n",
    "\n",
    "So, let's look at a better example of how you might experiment with your online purse store. Okay, let's look at this different purse now. It still costs \\\\$100, but this time the A and B conditions represent a trade-off. \n",
    "\n",
    "<img src=\"images/exp_design_024.png\" alt=\"\" style=\"width: 600px;\"/>\n",
    "\n",
    "Right now, your business's offering that have customers buy this purse, they get free shipping, which is a \\\\$20 value, but what if you did in the experiment and in condition B, instead of giving free shipping, you make them pay for shipping, but you give them a coupon for \\\\$20 off their next purchase. \n",
    "\n",
    "<img src=\"images/exp_design_025.png\" alt=\"\" style=\"width: 600px;\"/>\n",
    "\n",
    "Here, the cost to the business is the same for each condition: \\\\$20. We don't obviously know which one is better, because `they represent a trade-off for both the business and the customer`, and which one is better will depend on what you are going for. Are you trying to sell these purses right now? Then condition A is probably better, free shipping, so you can ship these puppies out of there. Or, are you trying to cultivate repeat customers? Then condition B would likely be better. And, if you are trying to do both, maybe you actually need to do an experiment to figure out what improves your bottom line the best overall."
   ]
  },
  {
   "cell_type": "markdown",
   "metadata": {},
   "source": [
    "### Q1\n",
    "Why should you wait after making big changes to a system before conducting an experiment?\n",
    "- You are not really in the right frame of mind to do an experiment right after a big change to the system.\n",
    "- You want to give yourself a chance to make many changes right after you upgrade the system before experimenting on it.\n",
    "- You just spent a lot of money on big changes, so you should save money before spending it on the experiment.\n",
    "- (correct) You want the system to settle down to a \"new normal\" before trying to incrementally improve it.\n",
    "\n",
    "This is correct - you will not be able to imagine incremental changes that would improve the system until you can measure the \"new normal\".\n",
    "\n",
    "### Q2\n",
    "Which of these is an example of scientific equipoise?\n",
    "- You run a boutique and are thinking of offering either a free \\\\$5 gift card with a \\\\$20 order, or a free \\\\$10 gift card with a \\\\$20 order, but you don't know which one customers will like more.\n",
    "- You run a boutique, and you currently only offer sales in-person in your store. You do not know if you started also selling your items online if your sales would go up.\n",
    "- You currently run a boutique, and you do not accept Credit Card X because if its high fees, even though your customers prefer this card. You do not know if also accepting this card will increase sales.\n",
    "- (correct) You run a boutique, and you know that if you use a fragrance in the store, people purchase more, you just don't know which fragrance is associated with them purchasing the most.\n",
    "\n",
    "This is a good example of equipoise. It is already known that the fragrance has an effect, but which fragrance has the strongest effect is not known.\n",
    "\n",
    "### Q3\n",
    "What are two characteristics a study must have in order to be an experiment?\n",
    "- 1) (correct) at least two conditions 2) the conditions are assigned by the researcher\n",
    "- 1) at least two conditions 2) must be in survey format\n",
    "- 1) must use a placebo 2) the conditions are randomly assigned\n",
    "- 1) more than two conditions 2) the conditions are assigned by the researcher\n",
    "\n",
    "An experiment must have at least two conditions, and the conditions must be assigned\n",
    "\n",
    "### Q4\n",
    "```\n",
    "A(n) _____ study is where the researcher observes the participant's choices, but does not assign the participant to any particular choice.\n",
    "\n",
    "observational\n",
    "\n",
    "In an observational study, participants make their own choices, and the researcher observes and collects data on those choices.\n",
    "```\n",
    "\n",
    "### Q5\n",
    "Which of the following statements is correct about experimental conditions?\n",
    "- (correct) They must be comparable and represent a fair tradeoff for business and customer.\n",
    "- Condition A can be an unstable system.\n",
    "- There must be at least two differences between the A and B conditions.\n",
    "- One must be obviously better than the other one.\n",
    "\n",
    "If conditions are not comparable, and one is obviously a better deal than the other for the customer, you can predict the outcome of the experiment, so it's not worth doing.\n",
    "\n",
    "### Q6\n",
    "What is a function of the management team in experimental testing?\n",
    "- (correct) to prioritize metrics to improve, and commit to implement the results of the experiment\n",
    "- to limit their involvement in experimental testing to simply receiving the results and not providing guidance\n",
    "- to delegate all the work of doing the experiment, including designing it and implementing the results, to lower level employees\n",
    "- to execute the technical effort on the experiment, such as programming in experimental conditions\n",
    "\n",
    "If management does not choose which metrics to prioritize and commit to implementing the results of the experiment, the experiment will be a total waste, as it will not be aimed at improving the business."
   ]
  },
  {
   "cell_type": "markdown",
   "metadata": {},
   "source": [
    "## Defining Convertions"
   ]
  },
  {
   "cell_type": "markdown",
   "metadata": {},
   "source": [
    "### Trying to increase conversions\n",
    "`The goal of an experiment is typically to figure out the best way to maximize conversions`. But let's stop and think about the word conversion for a moment. \n",
    "\n",
    "When I was a little girl, my grandfather sold some boutique health products. He didn't have many customers, mostly family and friends. But when we go to his sales meetings, they would talk about making a list of leads or potential customers. And then going to visit the leads and demonstrate the product. If the lead bought the product, they would convert to a customer. So a conversion was basically a customer buying something, a sale and that's pretty easy to track.\n",
    "\n",
    "<img src=\"images/exp_design_026.png\" alt=\"\" style=\"width: 300px;\"/>\n",
    "\n",
    "Fast forward, now I'm an adult, and we have the internet. The internet is interesting, because when you buy something on the internet, you usually do all this pre sales behavior. Looking at products, maybe joining a mailing list, or liking a social media post. These are all conversions, but not like my grandfather would think about them. This means there are more options for different types of conversions with social media and the internet. So things got more interesting, but also more complicated. Now there were more marketing channels. And because we could capture data along the way of the customer's journey, we could optimize how we use these channels to get to the customer. So while we have an opportunity to do a really good job of marketing now, which we did not have before, we also have more decisions to make and more to think about. It definitely got more complicated than when my grandpa was selling his health products. So the goal of an experiment, should be to figure out the best way to get conversions. \n",
    "\n",
    "So you should have readied to your system, and have it be in condition A. Which is the condition that represents your best attempt at getting all the types of conversions you want out of your website, social media effort or whatever you are doing that you want conversions. Of course, you may be trying to get different types of conversions with one campaign, maybe increase your blog readers, increase your emailing list and also get sales.\n",
    "\n",
    "<img src=\"images/exp_design_027.png\" alt=\"\" style=\"width: 600px;\"/>\n",
    "\n",
    "`The main advantage of an experiment, is that you can take a system that is an optimal shape like you think it is getting the most conversions you can, and test one little change and see if it actually increases conversions`. It's a good way to get guidance on whether you should actually make that change. Remember, a change could increase some kinds of conversions and decrease others. \n",
    "\n",
    "For example, if you try to rebrand your website to appeal to a younger audience, your brand may attract more social media followers, since social media is dominated by younger people, but you might have lower sales, as younger people tend to have less disposable income than older people. Therefore, you want to be fully informed on what the impact will be of the change. And an experiment can do that for you. \n",
    "\n",
    "If we are really going to hang our hat on these conversions, we really need to know what we are talking about. We might have multiple kinds of conversions as I said, and we might even care about specific types of conversions, like selling a particular item, rather than just making a sale. This means we have to count conversions. So we have to get in the business of doing a good job of counting. And to do that, you have to define exactly what you are counting. And more importantly, you have to make sure what you are counting is important. \n",
    "\n",
    "<img src=\"images/exp_design_028.png\" alt=\"\" style=\"width: 300px;\"/>\n",
    "\n",
    "But imagine we had to compare conversions. Let's say we had two different online stores selling the same products. They were just branded differently. If we had 100 sales conversions at both online stores, without knowing what the traffic is at the stores, that number would not mean much. Let's say one store gets a thousand hits a day, and the other gets a million hits a day. The fact that they both have a hundred conversions, does not tell the whole story. We don't want to compare conversions. Instead we want to be able to make a rate, which is a fraction with a numerator and a denominator and compare rates. \n",
    "\n",
    "<img src=\"images/exp_design_029.png\" alt=\"\" style=\"width: 600px;\"/>\n",
    "\n",
    "The numerator would be the number of conversions, and the denominator has to be some number that makes sense. Like in the example I just gave, web traffic was the denominator. For my grandpa, the number of leads he had could be the denominator, and the number of sales conversions could be the numerator. \n",
    "\n",
    "<img src=\"images/exp_design_030.png\" alt=\"\" style=\"width: 300px;\"/>\n",
    "\n",
    "Imagine he went out one week and visited a hundred leads, and demonstrated his products. And 25 of them bought something, he could use his leads as his denominator for a conversion rate of 25%. That's pretty efficient. But what if he only visited 25 leads and all 25 bought something? That would be a conversion rate of 100% much more efficient. That's why you need rates. You need to see how efficient each method of getting conversions is. And `rates are an efficiency measure, you can compare across methods`. But for my grandpa is using leads in the denominator of the conversion rate accurate. \n",
    "\n",
    "<img src=\"images/exp_design_031.png\" alt=\"\" style=\"width: 600px;\"/>\n",
    "\n",
    "It is not obvious what goes in the denominator of a conversion rate. Even in the example I just gave, it is possible that some of the web traffic to those stores would have been people not even looking to buy anything. So do they really belong in the denominator? `The denominator for conversion rates is always a conceptual problem`. Even for my grandpa, my dad loved the products from my grandpa's business, and would introduce his friends to the products and place orders together with them. My dad's friends, were never really leads in the traditional sense, because many of them never even met my grandpa. So as you can see from this brief example, even before the internet, exactly what goes in the denominator of a conversion rate, is a big question conceptually. And we face the same challenges in defining how to measure the denominator as we do when we think about measuring our conversions in the numerator. But please put your mind at ease. We will walk through all these issues in this course, so that you are empowered with the knowledge when it comes time for you to define the numerator and denominator for your conversion rates."
   ]
  },
  {
   "cell_type": "markdown",
   "metadata": {},
   "source": [
    "### Different types of conversions\n",
    "Now that we have the internet and social media, we have many kinds of conversions to think about. Although my background is in experimenting in the context of medical research, specifically epidemiology, the kinds of experiments done in data science are usually online, and have to do with marketing. Therefore, the types of conversions you study will depend on your marketing objectives. \n",
    "\n",
    "<img src=\"images/exp_design_032.png\" alt=\"\" style=\"width: 600px;\"/>\n",
    "\n",
    "For example, I wrote a book with a coauthor about data science. And I could choose a marketing objective of selling more of those books. How the books are sold is that the publisher sells them to customers like distributors, or directly to individuals, and I get a royalty statement every six months. So, my desired action would be to have customers, distributors, and individuals purchase more books from the publisher. And I could measure this conversion, a record of the purchase of my book, by simply looking at the royalty statement. So, let's say I did a marketing campaign. I could look at that royalty statement, and see if the number of books I sold, or the number of conversions went up. My book hasn't been out very long, so I looked up the two royalty statements I have. In the first six month period, I sold 47 books. And in the second, I sold 44. So, I could really increase this number. And it's pretty clear where my baseline is. But let's be honest, I don't make much money, or have much fun, when I sell a book. What I really like to do is speak at data science conferences. I don't make any money when I do that, but I have a heck of a good time. So, I decided to make that my next marketing objective. I want to get more speaking gigs at data science conferences so, for my desired customer action, I need to somehow get people to invite me more often to speak at conferences. A record of an invite would be my conversion. \n",
    "\n",
    "<img src=\"images/exp_design_033.png\" alt=\"\" style=\"width: 600px;\"/>\n",
    "\n",
    "Only this one is a little weird, because it's so small. I speak at a conference about once a year, as you can see. And I could not really speak at 100 conferences per year. I couldn't afford it, and I don't want to just go to any old conference. So, is this really a good conversion to be chasing? \n",
    "\n",
    "<img src=\"images/exp_design_034.png\" alt=\"\" style=\"width: 600px;\"/>\n",
    "\n",
    "In marketing courses, we learn about the concept of a `marketing funnel`. This is a concept of a funnel that can help you think about your marketing campaigns. At the top of the funnel are awareness related conversions, where a customer might learn about your brand or product, and may even engage in that conversion associated with your brand. Like, liking your brand on Facebook. You hope this will lead them down the conceptual funnel to the bottom, where there are sales conversions. In the `marketing funnel`, you are trying to funnel your customers down to a sale, or whatever conversion you pick. \n",
    "\n",
    "So maybe if I go to the top of the funnel, and just increase my profile within the data science community, it might get more customers into the funnel, and then spiraling down the funnel toward conversions, such as speaking engagements, and book sales. Okay, let's talk about the kind of conversion at the top of the marketing funnel now. All right, now I am considering a conversion that is higher in the funnel. The conversion I'm considering is to raise my profile among the data science community. Here's the conversion I selected, having more customers know about me, and want me to actually speak at a conference. I believe that one way I can measure that conversion is to count the connections I get on LinkedIn whenever I post an article about data science. It's a great way to meet other data scientists actually. I could choose many different conversions to track, but my effort is limited. Therefore, I want to prioritize which conversions I track. To continue with my scenario, here are the priority conversions I selected. \n",
    "\n",
    "<img src=\"images/exp_design_035.png\" alt=\"\" style=\"width: 600px;\"/>\n",
    "\n",
    "Selling my books, speaking invitations for conferences, and LinkedIn connections resulting from data science articles. But let's really get into the weeds here, and look at this different conversion. It's not really straightforward how I might operationalize this. When I say the word operationalize, I mean figure out how to operationally measure the conversion. \n",
    "\n",
    "<img src=\"images/exp_design_036.png\" alt=\"\" style=\"width: 600px;\"/>\n",
    "\n",
    "Any metric used in a study that needs to be measured will need to be operationalized into a measurement. Since measuring conversions is so important, it is very important that we do a good job of operationalizing how we measure them. Let's look at the problems I'm having with operationalizing these priority conversions. \n",
    "\n",
    "<img src=\"images/exp_design_037.png\" alt=\"\" style=\"width: 600px;\"/>\n",
    "\n",
    "With the book, I just get royalty statements twice a year. So measurement in smaller increments than six months is a problem. With my conference invites, what actually counts? I often receive invites to speak at nursing conferences I turn down, because I'm not a clinician. Which of those would count? And my LinkedIn connections, how can I exactly tell if someone connected to me because of my post? My point is that `it might not be too hard to select priority conversions, but then, when you really get into the details, you realize there are operational challenges that you may not have even considered`. Conversions themselves have characteristics that make them easier or harder to study, or less meaningful, depending upon your objectives."
   ]
  },
  {
   "cell_type": "markdown",
   "metadata": {},
   "source": [
    "### "
   ]
  },
  {
   "cell_type": "code",
   "execution_count": null,
   "metadata": {},
   "outputs": [],
   "source": []
  },
  {
   "cell_type": "code",
   "execution_count": null,
   "metadata": {},
   "outputs": [],
   "source": []
  },
  {
   "cell_type": "code",
   "execution_count": null,
   "metadata": {},
   "outputs": [],
   "source": []
  },
  {
   "cell_type": "code",
   "execution_count": null,
   "metadata": {},
   "outputs": [],
   "source": [
    "<img src=\"images/exp_design_001.png\" alt=\"\" style=\"width: 600px;\"/>"
   ]
  },
  {
   "cell_type": "code",
   "execution_count": null,
   "metadata": {},
   "outputs": [],
   "source": []
  },
  {
   "cell_type": "code",
   "execution_count": null,
   "metadata": {},
   "outputs": [],
   "source": []
  },
  {
   "cell_type": "code",
   "execution_count": null,
   "metadata": {},
   "outputs": [],
   "source": []
  },
  {
   "cell_type": "code",
   "execution_count": null,
   "metadata": {},
   "outputs": [],
   "source": []
  },
  {
   "cell_type": "code",
   "execution_count": null,
   "metadata": {},
   "outputs": [],
   "source": []
  }
 ],
 "metadata": {
  "kernelspec": {
   "display_name": "Python 3",
   "language": "python",
   "name": "python3"
  },
  "language_info": {
   "codemirror_mode": {
    "name": "ipython",
    "version": 3
   },
   "file_extension": ".py",
   "mimetype": "text/x-python",
   "name": "python",
   "nbconvert_exporter": "python",
   "pygments_lexer": "ipython3",
   "version": "3.8.5"
  }
 },
 "nbformat": 4,
 "nbformat_minor": 4
}

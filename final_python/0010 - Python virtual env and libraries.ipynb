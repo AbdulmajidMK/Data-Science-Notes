{
 "cells": [
  {
   "cell_type": "markdown",
   "metadata": {},
   "source": []
  },
  {
   "cell_type": "markdown",
   "metadata": {},
   "source": [
    "# Python Virtual Environment(s) and Installed Libraries\n",
    "Installing and managing various Python libraries used in data analysis and ML."
   ]
  },
  {
   "cell_type": "markdown",
   "metadata": {},
   "source": [
    "## Conda Cheatsheet\n",
    "[Conda Cheatseet](https://docs.conda.io/projects/conda/en/4.6.0/_downloads/52a95608c49671267e40c689e0bc00ca/conda-cheatsheet.pdf)"
   ]
  },
  {
   "cell_type": "markdown",
   "metadata": {},
   "source": [
    "## Python virtual environment\n",
    "There are confirmed problems when using conda and virtual environments together. As for WSL I use conda (and pip sometimes) to manage packages, I do not use virtualenv library here. **Conda keeps environments in a common directory, whereas virtualenv environment can be stored anywhere, usually inside project folder**."
   ]
  },
  {
   "cell_type": "markdown",
   "metadata": {},
   "source": [
    "```\n",
    "# I do not use it in WSL (Windows Ubuntu)\n",
    "pip install virtualenv\n",
    "\n",
    "# Create an environment while inside a git repository folder\n",
    "virtualenv venv\n",
    "\n",
    "# Activate the environment\n",
    "source venv/bin/activate\n",
    "\n",
    "# Register libraries available in the environment\n",
    "pip freeze > requirements.txt\n",
    "\n",
    "# Install libraries from a file\n",
    "pip install -r requirements.txt\n",
    "\n",
    "# Deactivate the environment\n",
    "deactivate\n",
    "```"
   ]
  },
  {
   "cell_type": "markdown",
   "metadata": {},
   "source": [
    "### In WSL use conda virtual environments:\n",
    "```\n",
    "# Create an empty environment while inside a git repository folder (not able to run Jupyter Lab)\n",
    "conda create --name cenv\n",
    "\n",
    "# Create an environment while inside a git repository folder (but copy the base environment with Jupyter Lab)\n",
    "conda create --clone base --name venv\n",
    "\n",
    "# Activate the environment\n",
    "conda activate venv\n",
    "\n",
    "# Register libraries available in the environment\n",
    "pip freeze > requirements.txt\n",
    "\n",
    "# Install libraries from a file\n",
    "pip install -r requirements.txt\n",
    "\n",
    "# Deactivate the environment\n",
    "conda deactivate\n",
    "```"
   ]
  },
  {
   "cell_type": "markdown",
   "metadata": {},
   "source": [
    "## Required Libraries\n",
    "For Anaconda, use conda package manager whenever possible to ensure all dependencies are managed properly"
   ]
  },
  {
   "cell_type": "markdown",
   "metadata": {},
   "source": [
    "```\n",
    "python -m pip install --upgrade pip\n",
    "conda install -c conda-forge pip\n",
    "\n",
    "# Find the packet name for a library name\n",
    "pip search janitor\n",
    "\n",
    "pip install --no-deps fastai\n",
    "conda install -c fastai -c pytorch -c anaconda fastai gh anaconda\n",
    "\n",
    "pip install umap-learn\n",
    "conda install -c conda-forge umap-learn\n",
    "\n",
    "pip install pandas\n",
    "conda install -c conda-forge pandas\n",
    "\n",
    "pip install pyjanitor\n",
    "conda install -c conda-forge pyjanitor\n",
    "\n",
    "pip install imbalanced-learn\n",
    "conda install -c conda-forge imbalanced-learn\n",
    "\n",
    "\n",
    "\n",
    "\n",
    "\n",
    "```"
   ]
  },
  {
   "cell_type": "markdown",
   "metadata": {},
   "source": [
    "```\n",
    "auto-sklearn\n",
    "https://automl.github.io/auto-sklearn/master/installation.html\n",
    "# For Ubuntu:\n",
    "sudo apt-get install build-essential swig\n",
    "# or conda\n",
    "conda install gxx_linux-64 gcc_linux-64 swig\n",
    "```"
   ]
  },
  {
   "cell_type": "markdown",
   "metadata": {},
   "source": [
    "```\n",
    "Yellowbrick\n",
    "https://www.scikit-yb.org/en/latest/\n",
    "conda install -c districtdatalabs yellowbrick\n",
    "```"
   ]
  },
  {
   "cell_type": "markdown",
   "metadata": {},
   "source": [
    "```\n",
    "Pandas Profiling\n",
    "https://pandas-profiling.github.io/pandas-profiling/docs/master/rtd/pages/installation.html\n",
    "conda install -c conda-forge pandas-profiling\n",
    "```"
   ]
  },
  {
   "cell_type": "markdown",
   "metadata": {},
   "source": [
    "```\n",
    "MLxtend\n",
    "http://rasbt.github.io/mlxtend/\n",
    "conda install -c conda-forge mlxtend\n",
    "```"
   ]
  },
  {
   "cell_type": "markdown",
   "metadata": {},
   "source": [
    "```\n",
    "which python\n",
    "```"
   ]
  },
  {
   "cell_type": "code",
   "execution_count": 2,
   "metadata": {},
   "outputs": [],
   "source": [
    "import autosklearn\n",
    "import yellowbrick\n",
    "import pandas_profiling"
   ]
  },
  {
   "cell_type": "code",
   "execution_count": null,
   "metadata": {},
   "outputs": [],
   "source": []
  },
  {
   "cell_type": "code",
   "execution_count": 3,
   "metadata": {},
   "outputs": [
    {
     "name": "stdout",
     "output_type": "stream",
     "text": [
      "autosklearn 0.8.0\n",
      "yellowbrick 1.1\n",
      "pandas_profiling 2.9.0\n",
      "-- Missing catboost\n"
     ]
    }
   ],
   "source": [
    "for lib in ['autosklearn', \n",
    "            'yellowbrick', \n",
    "            'pandas_profiling',\n",
    "            'catboost']:\n",
    "    try:\n",
    "        lib_var = vars()[lib]\n",
    "        print(lib_var.__name__, lib_var.__version__)\n",
    "    except:\n",
    "        print(\"-- Missing\", lib)"
   ]
  },
  {
   "cell_type": "code",
   "execution_count": null,
   "metadata": {},
   "outputs": [],
   "source": []
  }
 ],
 "metadata": {
  "kernelspec": {
   "display_name": "Python 3",
   "language": "python",
   "name": "python3"
  },
  "language_info": {
   "codemirror_mode": {
    "name": "ipython",
    "version": 3
   },
   "file_extension": ".py",
   "mimetype": "text/x-python",
   "name": "python",
   "nbconvert_exporter": "python",
   "pygments_lexer": "ipython3",
   "version": "3.8.3"
  }
 },
 "nbformat": 4,
 "nbformat_minor": 4
}

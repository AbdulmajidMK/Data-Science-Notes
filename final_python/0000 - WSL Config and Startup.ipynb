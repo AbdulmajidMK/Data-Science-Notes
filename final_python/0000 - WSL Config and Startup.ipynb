{
 "cells": [
  {
   "cell_type": "markdown",
   "metadata": {},
   "source": [
    "# Windows Subsystem for Linux Configuration and Startup Code Snippets"
   ]
  },
  {
   "cell_type": "markdown",
   "metadata": {},
   "source": [
    "After logging into the Ubuntu WSL:\n",
    "\n",
    "Session 1 Terminal:\n",
    "```\n",
    "conda activate venv ; cd git/Data-Science-Notes\n",
    "```\n",
    "\n",
    "Session 2 Terminal:\n",
    "```\n",
    "conda activate venv ; jupyter lab --no-browser\n",
    "```\n",
    "\n",
    "Session 3 Terminal:\n",
    "```\n",
    "conda activate venv ; htop\n",
    "```"
   ]
  },
  {
   "cell_type": "code",
   "execution_count": null,
   "metadata": {},
   "outputs": [],
   "source": []
  }
 ],
 "metadata": {
  "kernelspec": {
   "display_name": "Python 3",
   "language": "python",
   "name": "python3"
  },
  "language_info": {
   "codemirror_mode": {
    "name": "ipython",
    "version": 3
   },
   "file_extension": ".py",
   "mimetype": "text/x-python",
   "name": "python",
   "nbconvert_exporter": "python",
   "pygments_lexer": "ipython3",
   "version": "3.8.3"
  }
 },
 "nbformat": 4,
 "nbformat_minor": 4
}

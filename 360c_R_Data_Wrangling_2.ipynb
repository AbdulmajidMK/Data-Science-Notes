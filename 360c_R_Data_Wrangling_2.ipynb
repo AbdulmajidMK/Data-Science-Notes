{
 "cells": [
  {
   "cell_type": "raw",
   "metadata": {},
   "source": [
    "From: https://github.com/ksatola\n",
    "Version: 0.0.1"
   ]
  },
  {
   "cell_type": "markdown",
   "metadata": {},
   "source": [
    "# Data Wrangling in R (part 2)"
   ]
  },
  {
   "cell_type": "markdown",
   "metadata": {},
   "source": [
    "## Table of Contents\n",
    "\n",
    "- [Reshaping Data with tidyr](#resh)\n"
   ]
  },
  {
   "cell_type": "markdown",
   "metadata": {},
   "source": [
    "---\n",
    "<a id='resh'></a>"
   ]
  },
  {
   "cell_type": "markdown",
   "metadata": {},
   "source": [
    "## Reshaping Data with tidyr\n",
    "\n",
    "One of the most common data wrangling challenges is adjusting how exactly rows and columns are used to represent data. [**tidyr (\"tidy-er\")**](https://tidyr.tidyverse.org/) is a package helping in structuring data frames to have the desired shape (transforming orientation) for visualization, running a statistical model or implementing a machine learning algorithm. **tidyr** helps in following the **principles of tidy data**. Tidy data is data where:\n",
    "\n",
    "- Every column is variable.\n",
    "- Every row is an observation.\n",
    "- Every cell is a single value.\n",
    "\n",
    "\n",
    "<img src=\"images/data-wide.png\" alt=\"\" style=\"width: 500px;\"/>\n",
    "\n",
    "The format is wide, because the price data is spread wide across multiple columns.\n",
    "\n",
    "<img src=\"images/data-long.png\" alt=\"\" style=\"width: 500px;\"/>\n",
    "\n",
    "The format is long, because the price data has ist own column. This format includes duplicated cities and bands."
   ]
  },
  {
   "cell_type": "code",
   "execution_count": null,
   "metadata": {},
   "outputs": [],
   "source": [
    "# gather() - to move from wide format to long format \n",
    "#  you need to gather all of the prices into a single columns\n",
    "\n",
    "# Reshape by gathering prices into a single feature\n",
    "band_data_long <- gather(\n",
    "    band_data_wide, # data frame to gather from\n",
    "    # name for new column listing the gathered features \n",
    "    # (will contain values of column names from the wide form)\n",
    "    key = band, \n",
    "    # name for new column listing the gathered values \n",
    "    # (here will be all gathered values)\n",
    "    value = price, \n",
    "    # columns to gather data from\n",
    "    # (gather from all columns except city)\n",
    "    -city \n",
    ")"
   ]
  },
  {
   "cell_type": "markdown",
   "metadata": {},
   "source": [
    "<img src=\"images/data-tidyr-gather.png\" alt=\"\" style=\"width: 600px;\"/>\n"
   ]
  },
  {
   "cell_type": "code",
   "execution_count": null,
   "metadata": {},
   "outputs": [],
   "source": [
    "# spread() - from rows to columns, from long into wide format\n",
    "\n",
    "# Reshape by spreading prices out among multiple features\n",
    "price_by_band <- spread(\n",
    "    band_data_long, # data frame to spread from\n",
    "    key = city, # get new colum names from this column\n",
    "    value = price # get values for the new columns from this column\n",
    ")"
   ]
  },
  {
   "cell_type": "markdown",
   "metadata": {},
   "source": [
    "<img src=\"images/data-tidyr-spread.png\" alt=\"\" style=\"width: 600px;\"/>\n"
   ]
  },
  {
   "cell_type": "code",
   "execution_count": null,
   "metadata": {},
   "outputs": [],
   "source": [
    "# Unite multiple columns into a single column\n",
    "# unite()\n",
    "\n",
    "# Separate a single column into multiple columns\n",
    "# separate()"
   ]
  },
  {
   "cell_type": "code",
   "execution_count": null,
   "metadata": {},
   "outputs": [],
   "source": []
  },
  {
   "cell_type": "code",
   "execution_count": null,
   "metadata": {},
   "outputs": [],
   "source": []
  },
  {
   "cell_type": "code",
   "execution_count": null,
   "metadata": {},
   "outputs": [],
   "source": []
  },
  {
   "cell_type": "code",
   "execution_count": null,
   "metadata": {},
   "outputs": [],
   "source": []
  },
  {
   "cell_type": "code",
   "execution_count": null,
   "metadata": {},
   "outputs": [],
   "source": []
  },
  {
   "cell_type": "code",
   "execution_count": null,
   "metadata": {},
   "outputs": [],
   "source": [
    "---\n",
    "<a id='data'></a>"
   ]
  }
 ],
 "metadata": {
  "kernelspec": {
   "display_name": "R",
   "language": "R",
   "name": "ir"
  },
  "language_info": {
   "codemirror_mode": "r",
   "file_extension": ".r",
   "mimetype": "text/x-r-source",
   "name": "R",
   "pygments_lexer": "r",
   "version": "3.6.1"
  }
 },
 "nbformat": 4,
 "nbformat_minor": 4
}

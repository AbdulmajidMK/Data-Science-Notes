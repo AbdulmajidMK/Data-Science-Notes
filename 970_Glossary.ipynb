{
 "cells": [
  {
   "cell_type": "markdown",
   "metadata": {},
   "source": [
    "# Definitions"
   ]
  },
  {
   "cell_type": "markdown",
   "metadata": {},
   "source": [
    "- **data engineer** - prepare, guard, and curate data\n",
    "- **data scientist** - analyze the data with a view toward the organization's goals"
   ]
  },
  {
   "cell_type": "markdown",
   "metadata": {},
   "source": [
    "Observation\n",
    "A single unit in our level of observation—for example, a person, a sale, or a record.\n",
    "\n",
    "Learning algorithms\n",
    "An algorithm used to learn the best parameters of a model—for example, linear regression, naive Bayes, or decision trees.\n",
    "\n",
    "Models\n",
    "An output of a learning algorithm’s training. Learning algorithms train models, which we then use to make predictions.\n",
    "\n",
    "Parameters\n",
    "The weights or coefficients of a model learned through training.\n",
    "\n",
    "Hyperparameters\n",
    "The settings of a learning algorithm that need to be set before training.\n",
    "\n",
    "Performance\n",
    "A metric used to evaluate a model.\n",
    "\n",
    "Loss\n",
    "A metric to maximize or minimize through training.\n",
    "\n",
    "An objective function (loss function) \n",
    "\n",
    "Train\n",
    "Applying a learning algorithm to data using numerical approaches like gradient descent.\n",
    "\n",
    "Fit\n",
    "Applying a learning algorithm to data using analytical approaches.\n",
    "\n",
    "Data\n",
    "A collection of observations."
   ]
  },
  {
   "cell_type": "markdown",
   "metadata": {},
   "source": [
    "[**decision intelligence engineering**](https://www.youtube.com/watch?v=Qr4P_jCdUFs) (Decision intelligence is an engineering discipline that augments data science with theory from social science, decision theory, and managerial science.), and it spans all the applied aspects of machine learning and data science.\n",
    "\n",
    "To put it another way, if research machine learning is building microwaves and applied machine learning is using microwaves, decision intelligence engineering is using microwaves safely to meet your goals and using something else when you don’t need a microwave.\n",
    "\n",
    "Decision intelligence (DI) is all about decisions, including decision-making at scale with data, which makes it an engineering discipline. It augments the applied aspects of data science with ideas from the social and managerial sciences. Decision intelligence adds components from the social and managerial sciences.\n",
    "\n",
    "In other words, it’s a superset of those bits of data science not concerned with researchy things like creating fundamental methodologies for general-purpose use."
   ]
  },
  {
   "cell_type": "raw",
   "metadata": {},
   "source": [
    "convex function https://en.wikipedia.org/wiki/Convex_function\n",
    "\n",
    "funkcja wypukla\n",
    "\n",
    "non-convex - funkcja wklesla, nie ma jednego obvious global minimum"
   ]
  },
  {
   "cell_type": "code",
   "execution_count": null,
   "metadata": {},
   "outputs": [],
   "source": []
  },
  {
   "cell_type": "code",
   "execution_count": null,
   "metadata": {},
   "outputs": [],
   "source": []
  },
  {
   "cell_type": "code",
   "execution_count": null,
   "metadata": {},
   "outputs": [],
   "source": []
  },
  {
   "cell_type": "code",
   "execution_count": null,
   "metadata": {},
   "outputs": [],
   "source": []
  },
  {
   "cell_type": "code",
   "execution_count": null,
   "metadata": {},
   "outputs": [],
   "source": [
    "AI - Artificial Intelligence\n",
    "ML - Machine Learning"
   ]
  },
  {
   "cell_type": "markdown",
   "metadata": {},
   "source": [
    "## overfitting and generalization\n",
    "When an algorithm can only work with data that’s close to what it’s seen before, the model is considered overfitting to the data; it can’t understand anything more general past those examples. On the other hand, if a model doesn’t pick up the right patterns between the data, it’s overgeneralizing."
   ]
  },
  {
   "cell_type": "markdown",
   "metadata": {},
   "source": [
    "## democratization of data\n",
    "is a necessary step towards accelerating AI, it means giving available, well-courated datasets to researchers and professionals to make and train better models"
   ]
  }
 ],
 "metadata": {
  "kernelspec": {
   "display_name": "Python 3",
   "language": "python",
   "name": "python3"
  },
  "language_info": {
   "codemirror_mode": {
    "name": "ipython",
    "version": 3
   },
   "file_extension": ".py",
   "mimetype": "text/x-python",
   "name": "python",
   "nbconvert_exporter": "python",
   "pygments_lexer": "ipython3",
   "version": "3.7.1"
  }
 },
 "nbformat": 4,
 "nbformat_minor": 2
}

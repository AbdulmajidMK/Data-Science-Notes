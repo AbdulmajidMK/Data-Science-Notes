{
 "cells": [
  {
   "cell_type": "markdown",
   "metadata": {},
   "source": [
    "# Summary Statistics\n",
    "\n",
    "Summary statistics represent an entire dataset and describe where an observation falls within it. These statistics in- clude measures of central tendency, measures of variability, percen- tiles, and correlation."
   ]
  },
  {
   "cell_type": "markdown",
   "metadata": {},
   "source": [
    "## Data Types\n",
    "\n",
    "**Statistics** is the science of learning from data. However, there are different types of variables, and they record various kinds of information. Crucially, the type of information determines what you can learn from it, and, importantly, what you cannot learn from it. Consequently, you must understand the different types of data. **Data** carries information that you are gathering for an inquiry. **Data** are evidence you can use to answer questions."
   ]
  },
  {
   "cell_type": "markdown",
   "metadata": {},
   "source": [
    "### Quantitative versus Qualitative Data\n",
    "\n",
    "- **Quantitative**: The information is recorded as `numbers` and represents an objective measurement or a count. Temperature, weight, and a count of transactions are all quantitative data. Analysts also refer to this type as `numerical data`.\n",
    "\n",
    "    - **Continuous** variables can take on any numeric value, and the scale can be meaningfully divided into smaller increments, including fractional and decimal values. There are an infinite number of possible values between any two values. And differences between any two values are always meaningful. Typically, you measure continuous variables on a scale. For example, when you measure height, weight, and tempera- ture, you have continuous data.\n",
    "    \n",
    "        - **Intervals**: On interval scales, the interval, or distance, between any two points is meaningful. For example, the 20-degree difference between 10 and 30 Celsius is equivalent to the difference between 50 and 70 degrees. However, `these scales don’t have a zero measurement that indicates the lack of the characteristic`. For example, Celsius has a zero measure, but it does not mean there is no temperature.\n",
    "        \n",
    "        Due to this lack of a true zero, `measurement ratios are not valid on interval scales`. Thirty degrees Celsius is not three times the temperature as 10 degrees Celsius. **You can add and subtract values on an in-terval scale, but you cannot multiply or divide them**.\n",
    "        \n",
    "        - **Ratio**: On ratio scales, intervals are still meaningful. Additionally, `these scales have a zero measurement that represents a lack of the property`. For example, zero kilograms indicates a lack of weight. Consequently, measurements ratios are valid for these scales. 30 kg is three times the weight of 10 kg. **You can add, subtract, multiply, and divide values on an interval scale**.\n",
    "        \n",
    "        With continuous variables, you can assess properties such as the `mean`, `median`, `distribution`, `range`, and `standard deviation`.\n",
    "\n",
    "\n",
    "- **Qualitative**: The information represents characteristics that you do `not measure with numbers`. Instead, observations fall within a countable number of groups. This type of variable can capture information that isn’t easily measured and can be subjective. Taste, eye color, architectural style, and marital status are all types of qualitative variables.\n",
    "\n",
    "Within these two broad divisions, there are various subtypes."
   ]
  },
  {
   "cell_type": "markdown",
   "metadata": {},
   "source": [
    "### Histograms\n",
    "\n",
    "**Histograms** are an excellent way `to graph continuous variables` because they show the distribution of values. Understanding the distribution allows you to determine which values are more and less common amongst other properties.\n",
    "\n",
    "Each histogram bar spans a range of values for the continuous variable on the horizontal X-axis. These ranges are also known as `bins`. The height of each bar represents either the number or proportion of observations that fall within each bin.\n",
    "\n",
    "Histograms help in determining whether the distribution is symmetric or skewed, understanding the spread of values, and identifying where the most common values fall."
   ]
  },
  {
   "cell_type": "code",
   "execution_count": null,
   "metadata": {},
   "outputs": [],
   "source": []
  },
  {
   "cell_type": "code",
   "execution_count": null,
   "metadata": {},
   "outputs": [],
   "source": []
  },
  {
   "cell_type": "code",
   "execution_count": null,
   "metadata": {},
   "outputs": [],
   "source": []
  },
  {
   "cell_type": "code",
   "execution_count": null,
   "metadata": {},
   "outputs": [],
   "source": []
  },
  {
   "cell_type": "code",
   "execution_count": null,
   "metadata": {},
   "outputs": [],
   "source": []
  },
  {
   "cell_type": "code",
   "execution_count": null,
   "metadata": {},
   "outputs": [],
   "source": []
  },
  {
   "cell_type": "markdown",
   "metadata": {},
   "source": [
    "A relationship between a pair of variables indicates the value of one variable depends on the value of another variable. In other words, if you know the value of one variable, you can predict the value of the other variable more accurately."
   ]
  },
  {
   "cell_type": "code",
   "execution_count": null,
   "metadata": {},
   "outputs": [],
   "source": []
  },
  {
   "cell_type": "code",
   "execution_count": null,
   "metadata": {},
   "outputs": [],
   "source": []
  },
  {
   "cell_type": "code",
   "execution_count": null,
   "metadata": {},
   "outputs": [],
   "source": []
  },
  {
   "cell_type": "code",
   "execution_count": null,
   "metadata": {},
   "outputs": [],
   "source": []
  },
  {
   "cell_type": "code",
   "execution_count": null,
   "metadata": {},
   "outputs": [],
   "source": []
  }
 ],
 "metadata": {
  "kernelspec": {
   "display_name": "Python 3",
   "language": "python",
   "name": "python3"
  },
  "language_info": {
   "codemirror_mode": {
    "name": "ipython",
    "version": 3
   },
   "file_extension": ".py",
   "mimetype": "text/x-python",
   "name": "python",
   "nbconvert_exporter": "python",
   "pygments_lexer": "ipython3",
   "version": "3.7.1"
  }
 },
 "nbformat": 4,
 "nbformat_minor": 4
}

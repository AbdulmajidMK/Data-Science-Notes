{
 "cells": [
  {
   "cell_type": "markdown",
   "metadata": {},
   "source": [
    "# Computational Statistics"
   ]
  },
  {
   "cell_type": "markdown",
   "metadata": {},
   "source": [
    "Computational Statistics in Python\n",
    "- https://people.duke.edu/~ccc14/sta-663/\n",
    "- https://www.youtube.com/watch?v=VR52vSbHBAk&feature=youtu.be\n",
    "- https://www.datasciencecentral.com/profiles/blogs/machine-learning-vs-traditional-statistics-different-philosophi-1\n",
    "- https://www.quora.com/What-is-the-difference-between-Computational-Statistics-and-Data-Science"
   ]
  },
  {
   "cell_type": "markdown",
   "metadata": {},
   "source": [
    "Resources related to computational statistics\n",
    "\n",
    "https://github.com/brianspiering\n",
    "\n",
    "https://www.bbc.com/bitesize/guides/zp92mp3/revision/1\n",
    "\n",
    "https://www.datasciencecentral.com/profiles/blogs/machine-learning-vs-traditional-statistics-different-philosophi-1\n",
    "\n",
    "https://www.jstor.org/stable/24536995?seq=1#page_scan_tab_contents\n",
    "\n",
    "https://stats.stackexchange.com/questions/157912/difference-between-computational-statistics-and-statistical-computing"
   ]
  },
  {
   "cell_type": "code",
   "execution_count": null,
   "metadata": {},
   "outputs": [],
   "source": []
  },
  {
   "cell_type": "code",
   "execution_count": null,
   "metadata": {},
   "outputs": [],
   "source": []
  }
 ],
 "metadata": {
  "kernelspec": {
   "display_name": "Python 3",
   "language": "python",
   "name": "python3"
  },
  "language_info": {
   "codemirror_mode": {
    "name": "ipython",
    "version": 3
   },
   "file_extension": ".py",
   "mimetype": "text/x-python",
   "name": "python",
   "nbconvert_exporter": "python",
   "pygments_lexer": "ipython3",
   "version": "3.7.1"
  }
 },
 "nbformat": 4,
 "nbformat_minor": 4
}

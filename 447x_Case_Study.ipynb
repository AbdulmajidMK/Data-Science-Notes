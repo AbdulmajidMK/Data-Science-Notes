{
 "cells": [
  {
   "cell_type": "markdown",
   "metadata": {},
   "source": [
    "# College forum posting dataset\n",
    "\n",
    "<img src=\"images/graphs228.png\" alt=\"\" style=\"width: 400px;\"/>\n"
   ]
  },
  {
   "cell_type": "code",
   "execution_count": 23,
   "metadata": {},
   "outputs": [],
   "source": [
    "import matplotlib.pyplot as plt\n",
    "%matplotlib inline\n",
    "\n",
    "import pickle\n",
    "\n",
    "import networkx as nx\n",
    "from nxviz import CircosPlot\n",
    "\n",
    "import datetime as dt\n",
    "\n",
    "import numpy as np\n",
    "import pandas as pd\n",
    "\n",
    "path = 'data/dc24/'"
   ]
  },
  {
   "cell_type": "markdown",
   "metadata": {},
   "source": [
    "## Create a graph from the pandas DataFrame\n",
    "\n",
    "Let's start by creating a graph from a pandas DataFrame. In this exercise, you'll create a new **bipartite graph** by looping over the `edgelist` (which is a DataFrame object).\n",
    "\n",
    "For simplicity's sake, in this graph construction procedure, any edge between a student and a forum node will be the 'last' edge (in time) that a student posted to a forum over the entire time span of the dataset, though there are ways to get around this.\n",
    "\n",
    "Additionally, to shorten the runtime of the exercise, we have provided a sub-sampled version of the edge list as data."
   ]
  },
  {
   "cell_type": "code",
   "execution_count": 2,
   "metadata": {},
   "outputs": [
    {
     "data": {
      "text/html": [
       "<div>\n",
       "<style scoped>\n",
       "    .dataframe tbody tr th:only-of-type {\n",
       "        vertical-align: middle;\n",
       "    }\n",
       "\n",
       "    .dataframe tbody tr th {\n",
       "        vertical-align: top;\n",
       "    }\n",
       "\n",
       "    .dataframe thead th {\n",
       "        text-align: right;\n",
       "    }\n",
       "</style>\n",
       "<table border=\"1\" class=\"dataframe\">\n",
       "  <thead>\n",
       "    <tr style=\"text-align: right;\">\n",
       "      <th></th>\n",
       "      <th>student</th>\n",
       "      <th>forum</th>\n",
       "      <th>date</th>\n",
       "    </tr>\n",
       "  </thead>\n",
       "  <tbody>\n",
       "    <tr>\n",
       "      <td>13275</td>\n",
       "      <td>s397</td>\n",
       "      <td>f287</td>\n",
       "      <td>2004-05-31 00:34:50</td>\n",
       "    </tr>\n",
       "    <tr>\n",
       "      <td>2677</td>\n",
       "      <td>s55</td>\n",
       "      <td>f19</td>\n",
       "      <td>2004-05-19 22:29:05</td>\n",
       "    </tr>\n",
       "    <tr>\n",
       "      <td>29120</td>\n",
       "      <td>s17</td>\n",
       "      <td>f43</td>\n",
       "      <td>2004-08-15 18:03:05</td>\n",
       "    </tr>\n",
       "    <tr>\n",
       "      <td>13722</td>\n",
       "      <td>s397</td>\n",
       "      <td>f427</td>\n",
       "      <td>2004-05-31 15:11:06</td>\n",
       "    </tr>\n",
       "    <tr>\n",
       "      <td>14385</td>\n",
       "      <td>s484</td>\n",
       "      <td>f340</td>\n",
       "      <td>2004-05-31 22:30:14</td>\n",
       "    </tr>\n",
       "  </tbody>\n",
       "</table>\n",
       "</div>"
      ],
      "text/plain": [
       "      student forum                 date\n",
       "13275    s397  f287  2004-05-31 00:34:50\n",
       "2677      s55   f19  2004-05-19 22:29:05\n",
       "29120     s17   f43  2004-08-15 18:03:05\n",
       "13722    s397  f427  2004-05-31 15:11:06\n",
       "14385    s484  f340  2004-05-31 22:30:14"
      ]
     },
     "execution_count": 2,
     "metadata": {},
     "output_type": "execute_result"
    }
   ],
   "source": [
    "data = pd.read_csv(path+'data2.csv', index_col=0)\n",
    "data.head()"
   ]
  },
  {
   "cell_type": "code",
   "execution_count": 3,
   "metadata": {},
   "outputs": [],
   "source": [
    "# Instantiate a new Graph: G\n",
    "G = nx.Graph()"
   ]
  },
  {
   "cell_type": "code",
   "execution_count": 4,
   "metadata": {},
   "outputs": [],
   "source": [
    "# Add nodes from each of the partitions\n",
    "G.add_nodes_from(data['student'], bipartite='student')\n",
    "G.add_nodes_from(data['forum'], bipartite='forum')"
   ]
  },
  {
   "cell_type": "code",
   "execution_count": 5,
   "metadata": {},
   "outputs": [
    {
     "data": {
      "text/plain": [
       "{'s397': {'bipartite': 'student'},\n",
       " 's55': {'bipartite': 'student'},\n",
       " 's17': {'bipartite': 'student'},\n",
       " 's484': {'bipartite': 'student'},\n",
       " 's167': {'bipartite': 'student'},\n",
       " 's354': {'bipartite': 'student'},\n",
       " 's332': {'bipartite': 'student'},\n",
       " 's47': {'bipartite': 'student'},\n",
       " 's381': {'bipartite': 'student'},\n",
       " 's65': {'bipartite': 'student'}}"
      ]
     },
     "execution_count": 5,
     "metadata": {},
     "output_type": "execute_result"
    }
   ],
   "source": [
    "dict(list(G.nodes().items())[:10])"
   ]
  },
  {
   "cell_type": "code",
   "execution_count": 6,
   "metadata": {},
   "outputs": [
    {
     "data": {
      "text/plain": [
       "{'f502': {'bipartite': 'forum'},\n",
       " 'f501': {'bipartite': 'forum'},\n",
       " 'f351': {'bipartite': 'forum'},\n",
       " 'f213': {'bipartite': 'forum'},\n",
       " 'f79': {'bipartite': 'forum'},\n",
       " 'f204': {'bipartite': 'forum'},\n",
       " 'f200': {'bipartite': 'forum'},\n",
       " 'f446': {'bipartite': 'forum'},\n",
       " 'f400': {'bipartite': 'forum'},\n",
       " 'f449': {'bipartite': 'forum'}}"
      ]
     },
     "execution_count": 6,
     "metadata": {},
     "output_type": "execute_result"
    }
   ],
   "source": [
    "dict(list(G.nodes().items())[-10:])"
   ]
  },
  {
   "cell_type": "code",
   "execution_count": 7,
   "metadata": {},
   "outputs": [
    {
     "data": {
      "text/plain": [
       "EdgeView([])"
      ]
     },
     "execution_count": 7,
     "metadata": {},
     "output_type": "execute_result"
    }
   ],
   "source": [
    "G.edges()"
   ]
  },
  {
   "cell_type": "code",
   "execution_count": 8,
   "metadata": {},
   "outputs": [],
   "source": [
    "# Add in each edge along with the date the edge was created\n",
    "for r, d in data.iterrows():\n",
    "    G.add_edge(d['student'], d['forum'], date=d['date'])"
   ]
  },
  {
   "cell_type": "code",
   "execution_count": 9,
   "metadata": {},
   "outputs": [
    {
     "data": {
      "text/plain": [
       "[('s397', 'f287', {'date': '2004-05-31 15:45:08'}),\n",
       " ('s397', 'f427', {'date': '2004-05-31 15:11:06'}),\n",
       " ('s397', 'f73', {'date': '2004-05-24 23:33:06'}),\n",
       " ('s397', 'f63', {'date': '2004-05-26 01:26:21'}),\n",
       " ('s397', 'f336', {'date': '2004-06-04 22:22:10'}),\n",
       " ('s397', 'f82', {'date': '2004-06-04 19:20:18'}),\n",
       " ('s397', 'f377', {'date': '2004-05-30 14:33:37'}),\n",
       " ('s55', 'f19', {'date': '2004-05-26 10:16:55'}),\n",
       " ('s55', 'f169', {'date': '2004-05-31 18:07:39'}),\n",
       " ('s17', 'f43', {'date': '2004-09-18 20:44:34'})]"
      ]
     },
     "execution_count": 9,
     "metadata": {},
     "output_type": "execute_result"
    }
   ],
   "source": [
    "list(G.edges(data=True))[:10]"
   ]
  },
  {
   "cell_type": "markdown",
   "metadata": {},
   "source": [
    "## Visualize the degree centrality distribution of the students projection\n",
    "\n",
    "In this exercise, you will `visualize the degree centrality distribution of the students projection`."
   ]
  },
  {
   "cell_type": "code",
   "execution_count": 10,
   "metadata": {},
   "outputs": [
    {
     "data": {
      "text/plain": [
       "['s397', 's55', 's17', 's484', 's167', 's354', 's332', 's47', 's381', 's65']"
      ]
     },
     "execution_count": 10,
     "metadata": {},
     "output_type": "execute_result"
    }
   ],
   "source": [
    "# Get the student partition's nodes: student_nodes\n",
    "student_nodes = [n for n, d in G.nodes(data=True) if d['bipartite'] == 'student']\n",
    "student_nodes[:10]"
   ]
  },
  {
   "cell_type": "code",
   "execution_count": 11,
   "metadata": {},
   "outputs": [
    {
     "data": {
      "text/plain": [
       "[('s397', 's243', {}),\n",
       " ('s397', 's38', {}),\n",
       " ('s397', 's99', {}),\n",
       " ('s397', 's290', {}),\n",
       " ('s397', 's286', {}),\n",
       " ('s397', 's160', {}),\n",
       " ('s397', 's213', {}),\n",
       " ('s397', 's209', {}),\n",
       " ('s397', 's259', {}),\n",
       " ('s397', 's455', {})]"
      ]
     },
     "execution_count": 11,
     "metadata": {},
     "output_type": "execute_result"
    }
   ],
   "source": [
    "# Create the students nodes projection as a graph: G_students\n",
    "G_students = nx.bipartite.projected_graph(G, nodes=student_nodes)\n",
    "list(G_students.edges(data=True))[:10]"
   ]
  },
  {
   "cell_type": "code",
   "execution_count": 12,
   "metadata": {},
   "outputs": [
    {
     "data": {
      "text/plain": [
       "{'s90': 0.018018018018018018,\n",
       " 's436': 0.012012012012012012,\n",
       " 's694': 0.0,\n",
       " 's287': 0.018018018018018018,\n",
       " 's30': 0.018018018018018018,\n",
       " 's42': 0.006006006006006006,\n",
       " 's836': 0.018018018018018018,\n",
       " 's259': 0.015015015015015015,\n",
       " 's749': 0.003003003003003003,\n",
       " 's166': 0.012012012012012012}"
      ]
     },
     "execution_count": 12,
     "metadata": {},
     "output_type": "execute_result"
    }
   ],
   "source": [
    "# Calculate the degree centrality using nx.degree_centrality: dcs\n",
    "dcs = nx.degree_centrality(G_students)\n",
    "dict(list(dcs.items())[-10:])"
   ]
  },
  {
   "cell_type": "code",
   "execution_count": 13,
   "metadata": {},
   "outputs": [
    {
     "data": {
      "image/png": "[encoded data removed]",
      "text/plain": [
       "<Figure size 432x288 with 1 Axes>"
      ]
     },
     "metadata": {
      "needs_background": "light"
     },
     "output_type": "display_data"
    }
   ],
   "source": [
    "# Plot the histogram of degree centrality values\n",
    "plt.hist(list(dcs.values()))\n",
    "plt.yscale('log')  \n",
    "plt.show();"
   ]
  },
  {
   "cell_type": "markdown",
   "metadata": {},
   "source": [
    "## Visualize the degree centrality distribution of the forums projection\n",
    "\n",
    "This exercise is also to reinforce the concepts of degree centrality and projections. This time round, you'll `plot the degree centrality distribution for the 'forum' projection`. Follow the same steps as in the previous exercise!"
   ]
  },
  {
   "cell_type": "code",
   "execution_count": 14,
   "metadata": {},
   "outputs": [
    {
     "data": {
      "image/png": "[encoded data removed]",
      "text/plain": [
       "<Figure size 432x288 with 1 Axes>"
      ]
     },
     "metadata": {
      "needs_background": "light"
     },
     "output_type": "display_data"
    }
   ],
   "source": [
    "# Get the forums partition's nodes: forum_nodes\n",
    "forum_nodes = [n for n, d in G.nodes(data=True) if d['bipartite'] == 'forum']\n",
    "\n",
    "# Create the forum nodes projection as a graph: G_forum\n",
    "G_forum = nx.bipartite.projected_graph(G, nodes=forum_nodes)\n",
    "\n",
    "# Calculate the degree centrality using nx.degree_centrality: dcs\n",
    "dcs = nx.degree_centrality(G_forum)\n",
    "\n",
    "# Plot the histogram of degree centrality values\n",
    "plt.hist(list(dcs.values()))\n",
    "plt.yscale('log') \n",
    "plt.show();"
   ]
  },
  {
   "cell_type": "markdown",
   "metadata": {},
   "source": [
    "## Time filter on edges\n",
    "\n",
    "You're now going to practice `filtering the graph using a conditional as applied to the edges`. This will help you gain practice and become comfortable with list comprehensions that contain conditionals.\n",
    "\n",
    "To help you with the exercises, remember that you can import `datetime` objects from the datetime module. On the graph, the metadata has a `date` key that is paired with a datetime object as a value."
   ]
  },
  {
   "cell_type": "code",
   "execution_count": 26,
   "metadata": {},
   "outputs": [],
   "source": [
    "# Instantiate a new graph: G_sub\n",
    "G_sub = nx.Graph()\n",
    "\n",
    "# Add nodes from the original graph\n",
    "G_sub.add_nodes_from(G.nodes(data=True))\n",
    "\n",
    "# Add edges using a list comprehension with one conditional on the edge dates, \n",
    "#  that the date of the edge is earlier than 2004-05-16.\n",
    "G_sub.add_edges_from([(u, v, d) for u, v, d in G.edges(data=True) if pd.to_datetime(d['date']) < dt.date(2004, 5, 16)])\n"
   ]
  },
  {
   "cell_type": "code",
   "execution_count": 28,
   "metadata": {},
   "outputs": [
    {
     "data": {
      "text/plain": [
       "EdgeDataView([('s17', 'f8', {'date': '2004-05-15 14:47:41'}), ('s89', 'f32', {'date': '2004-05-15 22:07:44'}), ('s20', 'f10', {'date': '2004-05-15 18:23:38'}), ('s73', 'f13', {'date': '2004-05-15 15:28:20'}), ('s12', 'f1', {'date': '2004-05-14 19:50:12'}), ('s84', 'f10', {'date': '2004-05-15 17:52:14'}), ('s94', 'f2', {'date': '2004-05-15 19:38:00'}), ('s30', 'f1', {'date': '2004-05-14 23:47:40'})])"
      ]
     },
     "execution_count": 28,
     "metadata": {},
     "output_type": "execute_result"
    }
   ],
   "source": [
    "G_sub.edges(data=True)"
   ]
  },
  {
   "cell_type": "markdown",
   "metadata": {},
   "source": [
    "## Visualize filtered graph using nxviz\n",
    "\n",
    "Here, you'll visualize the filtered graph using a `CircosPlot`. The `CircosPlot` is a natural choice for this visualization, as you can use node grouping and coloring to visualize the partitions, while the circular layout preserves the aesthetics of the visualization."
   ]
  },
  {
   "cell_type": "code",
   "execution_count": 30,
   "metadata": {},
   "outputs": [
    {
     "data": {
      "image/png": "[encoded data removed]",
      "text/plain": [
       "<Figure size 432x432 with 1 Axes>"
      ]
     },
     "metadata": {
      "needs_background": "light"
     },
     "output_type": "display_data"
    }
   ],
   "source": [
    "# Compute degree centrality scores of each node\n",
    "dcs = nx.bipartite.degree_centrality(G, nodes=forum_nodes)\n",
    "for n, d in G_sub.nodes(data=True):\n",
    "    G_sub.node[n]['dc'] = dcs[n]\n",
    "\n",
    "# Create the CircosPlot object: c\n",
    "c = CircosPlot(G_sub, node_color='bipartite', node_grouping='bipartite', node_order='dc')\n",
    "\n",
    "# Draw c to screen\n",
    "c.draw()\n",
    "\n",
    "# Display the plot\n",
    "plt.show();"
   ]
  },
  {
   "cell_type": "markdown",
   "metadata": {},
   "source": [
    "We see that the most connected users overall aren't posting to the most popular forums early on. This trend may change as we go forward."
   ]
  },
  {
   "cell_type": "markdown",
   "metadata": {},
   "source": [
    "## Plot number of posts being made over time\n",
    "\n",
    "Let's recap how you can plot evolving graph statistics from the graph data. First off, you will `use the graph data to quantify the number of edges that show up within a chunking time window` of `td` days, which is 2 days in the exercise below.\n",
    "\n",
    "The datetime variables `dayone` and `lastday` have been provided for you."
   ]
  },
  {
   "cell_type": "code",
   "execution_count": 31,
   "metadata": {},
   "outputs": [],
   "source": [
    "dayone = dt.datetime(2004, 5, 14, 0, 0)\n",
    "lastday = dt.datetime(2004, 10, 26, 0, 0)"
   ]
  },
  {
   "cell_type": "code",
   "execution_count": 33,
   "metadata": {},
   "outputs": [
    {
     "name": "stdout",
     "output_type": "stream",
     "text": [
      "2004-06-01 00:00:00\n",
      "2004-07-01 00:00:00\n",
      "2004-09-01 00:00:00\n",
      "2004-10-01 00:00:00\n"
     ]
    },
    {
     "data": {
      "image/png": "[encoded data removed]",
      "text/plain": [
       "<Figure size 432x288 with 1 Axes>"
      ]
     },
     "metadata": {
      "needs_background": "light"
     },
     "output_type": "display_data"
    }
   ],
   "source": [
    "# Import necessary modules\n",
    "from datetime import timedelta  \n",
    "import matplotlib.pyplot as plt\n",
    "\n",
    "# Define current day and timedelta of 2 days\n",
    "curr_day = dayone\n",
    "td = timedelta(2)\n",
    "\n",
    "# Initialize an empty list of posts by day\n",
    "n_posts = []\n",
    "while curr_day < lastday:\n",
    "    if curr_day.day == 1:\n",
    "        print(curr_day) \n",
    "    # Filter edges such that they are within the sliding time window: edges\n",
    "    edges = [(u, v, d) for u, v, d in G.edges(data=True) \\\n",
    "             if pd.to_datetime(d['date']) >= curr_day and pd.to_datetime(d['date']) < curr_day + td]\n",
    "    \n",
    "    # Append number of edges to the n_posts list\n",
    "    n_posts.append(len(edges))\n",
    "    \n",
    "    # Increment the curr_day by the time delta\n",
    "    curr_day += td\n",
    "    \n",
    "# Create the plot\n",
    "plt.plot(n_posts)  \n",
    "plt.xlabel('Days elapsed')\n",
    "plt.ylabel('Number of posts')\n",
    "plt.show();"
   ]
  },
  {
   "cell_type": "markdown",
   "metadata": {},
   "source": [
    "We can see the initial spike in the number of posts, but it eventually flattens out."
   ]
  },
  {
   "cell_type": "markdown",
   "metadata": {},
   "source": [
    "## Extract the mean degree centrality day-by-day on the students partition\n",
    "\n",
    "Here, you're going to `see if the mean degree centrality over all nodes is correlated with the number of edges that are plotted over time`. There might not necessarily be a strong correlation, and you'll take a look to see if that's the case."
   ]
  },
  {
   "cell_type": "code",
   "execution_count": 34,
   "metadata": {},
   "outputs": [],
   "source": [
    "dayone = dt.datetime(2004, 5, 14, 0, 0)\n",
    "lastday = dt.datetime(2004, 10, 26, 0, 0)"
   ]
  },
  {
   "cell_type": "code",
   "execution_count": 36,
   "metadata": {},
   "outputs": [
    {
     "name": "stdout",
     "output_type": "stream",
     "text": [
      "2004-06-01 00:00:00\n",
      "2004-07-01 00:00:00\n",
      "2004-09-01 00:00:00\n",
      "2004-10-01 00:00:00\n"
     ]
    },
    {
     "data": {
      "image/png": "[encoded data removed]",
      "text/plain": [
       "<Figure size 432x288 with 1 Axes>"
      ]
     },
     "metadata": {
      "needs_background": "light"
     },
     "output_type": "display_data"
    }
   ],
   "source": [
    "from datetime import datetime, timedelta\n",
    "import numpy as np\n",
    "import networkx as nx\n",
    "import matplotlib.pyplot as plt\n",
    "\n",
    "# Initialize a new list: mean_dcs\n",
    "mean_dcs = []\n",
    "curr_day = dayone\n",
    "td = timedelta(days=2)\n",
    "\n",
    "while curr_day < lastday:\n",
    "    if curr_day.day == 1:\n",
    "        print(curr_day)  \n",
    "    # Instantiate a new graph containing a subset of edges: G_sub\n",
    "    G_sub = nx.Graph()\n",
    "    # Add nodes from G\n",
    "    G_sub.add_nodes_from(G.nodes(data=True))\n",
    "    # Add in edges that fulfill the criteria\n",
    "    G_sub.add_edges_from([(u, v, d) for u, v, d in G.edges(data=True) if pd.to_datetime(d['date']) \\\n",
    "                          >= curr_day and pd.to_datetime(d['date']) < curr_day + td])\n",
    "    \n",
    "    # Get the students projection\n",
    "    G_student_sub = nx.bipartite.projected_graph(G_sub, nodes=student_nodes)\n",
    "    # Compute the degree centrality of the students projection\n",
    "    dc = nx.degree_centrality(G_student_sub)\n",
    "    # Append mean degree centrality to the list mean_dcs\n",
    "    mean_dcs.append(np.mean(list(dc.values())))\n",
    "    # Increment the time\n",
    "    curr_day += td\n",
    "    \n",
    "plt.plot(mean_dcs)\n",
    "plt.xlabel('Time elapsed')\n",
    "plt.ylabel('Degree centrality.')\n",
    "plt.show();"
   ]
  },
  {
   "cell_type": "markdown",
   "metadata": {},
   "source": [
    "## Find the most popular forums day-by-day: I\n",
    "\n",
    "Great stuff! You're onto the final two exercises - which are really just one long exercise. These will be a good memory workout for your Python programming skills!\n",
    "\n",
    "We're going to `see how many forums took the title of \"the most popular forum\" on any given time window`."
   ]
  },
  {
   "cell_type": "code",
   "execution_count": 37,
   "metadata": {},
   "outputs": [
    {
     "name": "stdout",
     "output_type": "stream",
     "text": [
      "2004-06-01 00:00:00\n",
      "2004-07-01 00:00:00\n",
      "2004-08-01 00:00:00\n",
      "2004-09-01 00:00:00\n",
      "2004-10-01 00:00:00\n"
     ]
    }
   ],
   "source": [
    "# Import necessary modules\n",
    "from datetime import timedelta\n",
    "import networkx as nx\n",
    "import matplotlib.pyplot as plt\n",
    "\n",
    "# Instantiate a list to hold the list of most popular forums by day: most_popular_forums\n",
    "most_popular_forums = []\n",
    "# Instantiate a list to hold the degree centrality scores of the most popular forums: highest_dcs\n",
    "highest_dcs = []\n",
    "curr_day = dayone  \n",
    "td = timedelta(days=1)  \n",
    "\n",
    "while curr_day < lastday:  \n",
    "    if curr_day.day == 1: \n",
    "        print(curr_day) \n",
    "    # Instantiate new graph: G_sub\n",
    "    G_sub = nx.Graph()\n",
    "    \n",
    "    # Add in nodes from original graph G\n",
    "    G_sub.add_nodes_from(G.nodes(data=True))\n",
    "    \n",
    "    # Add in edges from the original graph G that fulfill the criteria\n",
    "    G_sub.add_edges_from([(u, v, d) for u, v, d in G.edges(data=True) \\\n",
    "                          if pd.to_datetime(d['date']) >= curr_day \\\n",
    "                          and pd.to_datetime(d['date']) < curr_day + td])\n",
    "    \n",
    "    # CODE CONTINUES ON NEXT EXERCISE\n",
    "    curr_day += td"
   ]
  },
  {
   "cell_type": "markdown",
   "metadata": {},
   "source": [
    "## Find the most popular forums day-by-day: II\n",
    "\n",
    "Now, you're going to finish that exercise - that is, you'll `find out how many forums had the most popular forum score on a per-day basis`!\n",
    "\n",
    "One of the things you will be doing here is a **\"dictionary comprehension\"** to filter a dictionary. It is very similar to a list comprehension to filter a list, except the syntax looks like: `{key: val for key, val in dict.items() if ...}`. Keep that in mind!"
   ]
  },
  {
   "cell_type": "code",
   "execution_count": 38,
   "metadata": {},
   "outputs": [
    {
     "name": "stdout",
     "output_type": "stream",
     "text": [
      "2004-06-01 00:00:00\n",
      "2004-07-01 00:00:00\n",
      "2004-08-01 00:00:00\n",
      "2004-09-01 00:00:00\n",
      "2004-10-01 00:00:00\n"
     ]
    },
    {
     "data": {
      "image/png": "[encoded data removed]",
      "text/plain": [
       "<Figure size 432x288 with 1 Axes>"
      ]
     },
     "metadata": {
      "needs_background": "light"
     },
     "output_type": "display_data"
    },
    {
     "data": {
      "image/png": "[encoded data removed]",
      "text/plain": [
       "<Figure size 432x288 with 1 Axes>"
      ]
     },
     "metadata": {
      "needs_background": "light"
     },
     "output_type": "display_data"
    }
   ],
   "source": [
    "# Import necessary modules\n",
    "from datetime import timedelta\n",
    "import networkx as nx\n",
    "import matplotlib.pyplot as plt\n",
    "\n",
    "most_popular_forums = []\n",
    "highest_dcs = []\n",
    "curr_day = dayone \n",
    "td = timedelta(days=1)  \n",
    "\n",
    "while curr_day < lastday:  \n",
    "    if curr_day.day == 1:  \n",
    "        print(curr_day)  \n",
    "    G_sub = nx.Graph()\n",
    "    G_sub.add_nodes_from(G.nodes(data=True))   \n",
    "    G_sub.add_edges_from([(u, v, d) for u, v, d in G.edges(data=True) \\\n",
    "                          if pd.to_datetime(d['date']) >= curr_day \\\n",
    "                          and pd.to_datetime(d['date']) < curr_day + td])\n",
    "    \n",
    "    # Get the degree centrality \n",
    "    dc = nx.bipartite.degree_centrality(G_sub, forum_nodes)\n",
    "    # Filter the dictionary such that there's only forum degree centralities\n",
    "    forum_dcs = {n:dc for n, dc in dc.items() if n in forum_nodes}\n",
    "    # Identify the most popular forum(s) \n",
    "    most_popular_forum = [n for n, dc in forum_dcs.items() if dc == max(forum_dcs.values()) and dc != 0] \n",
    "    most_popular_forums.append(most_popular_forum) \n",
    "    # Store the highest dc values in highest_dcs\n",
    "    highest_dcs.append(max(forum_dcs.values()))\n",
    "    \n",
    "    curr_day += td  \n",
    "    \n",
    "plt.figure(1) \n",
    "plt.plot([len(forums) for forums in most_popular_forums], color='blue', label='Forums')\n",
    "plt.ylabel('Number of Most Popular Forums')\n",
    "plt.show();\n",
    "\n",
    "plt.figure(2)\n",
    "plt.plot(highest_dcs, color='orange', label='DC Score')\n",
    "plt.ylabel('Top Degree Centrality Score')\n",
    "plt.show();"
   ]
  },
  {
   "cell_type": "markdown",
   "metadata": {},
   "source": [
    "On a per-day basis, it would be interesting to see which forums were the most popular over time. Some further questions might include - was it the same set over time? Or were some forums really popular early on and others popular later on?"
   ]
  },
  {
   "cell_type": "code",
   "execution_count": null,
   "metadata": {},
   "outputs": [],
   "source": []
  }
 ],
 "metadata": {
  "kernelspec": {
   "display_name": "Python 3",
   "language": "python",
   "name": "python3"
  },
  "language_info": {
   "codemirror_mode": {
    "name": "ipython",
    "version": 3
   },
   "file_extension": ".py",
   "mimetype": "text/x-python",
   "name": "python",
   "nbconvert_exporter": "python",
   "pygments_lexer": "ipython3",
   "version": "3.7.1"
  }
 },
 "nbformat": 4,
 "nbformat_minor": 2
}

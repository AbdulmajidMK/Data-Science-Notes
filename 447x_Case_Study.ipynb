{
 "cells": [
  {
   "cell_type": "markdown",
   "metadata": {},
   "source": [
    "# College forum posting dataset\n",
    "\n",
    "<img src=\"images/graphs228.png\" alt=\"\" style=\"width: 400px;\"/>\n"
   ]
  },
  {
   "cell_type": "code",
   "execution_count": 1,
   "metadata": {},
   "outputs": [],
   "source": [
    "import matplotlib.pyplot as plt\n",
    "%matplotlib inline\n",
    "import pickle\n",
    "import networkx as nx\n",
    "\n",
    "import numpy as np\n",
    "import pandas as pd\n",
    "\n",
    "path = 'data/dc24/'"
   ]
  },
  {
   "cell_type": "markdown",
   "metadata": {},
   "source": [
    "## Create a graph from the pandas DataFrame\n",
    "\n",
    "Let's start by creating a graph from a pandas DataFrame. In this exercise, you'll create a new **bipartite graph** by looping over the `edgelist` (which is a DataFrame object).\n",
    "\n",
    "For simplicity's sake, in this graph construction procedure, any edge between a student and a forum node will be the 'last' edge (in time) that a student posted to a forum over the entire time span of the dataset, though there are ways to get around this.\n",
    "\n",
    "Additionally, to shorten the runtime of the exercise, we have provided a sub-sampled version of the edge list as data."
   ]
  },
  {
   "cell_type": "code",
   "execution_count": 23,
   "metadata": {},
   "outputs": [
    {
     "data": {
      "text/html": [
       "<div>\n",
       "<style scoped>\n",
       "    .dataframe tbody tr th:only-of-type {\n",
       "        vertical-align: middle;\n",
       "    }\n",
       "\n",
       "    .dataframe tbody tr th {\n",
       "        vertical-align: top;\n",
       "    }\n",
       "\n",
       "    .dataframe thead th {\n",
       "        text-align: right;\n",
       "    }\n",
       "</style>\n",
       "<table border=\"1\" class=\"dataframe\">\n",
       "  <thead>\n",
       "    <tr style=\"text-align: right;\">\n",
       "      <th></th>\n",
       "      <th>student</th>\n",
       "      <th>forum</th>\n",
       "      <th>date</th>\n",
       "    </tr>\n",
       "  </thead>\n",
       "  <tbody>\n",
       "    <tr>\n",
       "      <td>13275</td>\n",
       "      <td>s397</td>\n",
       "      <td>f287</td>\n",
       "      <td>2004-05-31 00:34:50</td>\n",
       "    </tr>\n",
       "    <tr>\n",
       "      <td>2677</td>\n",
       "      <td>s55</td>\n",
       "      <td>f19</td>\n",
       "      <td>2004-05-19 22:29:05</td>\n",
       "    </tr>\n",
       "    <tr>\n",
       "      <td>29120</td>\n",
       "      <td>s17</td>\n",
       "      <td>f43</td>\n",
       "      <td>2004-08-15 18:03:05</td>\n",
       "    </tr>\n",
       "    <tr>\n",
       "      <td>13722</td>\n",
       "      <td>s397</td>\n",
       "      <td>f427</td>\n",
       "      <td>2004-05-31 15:11:06</td>\n",
       "    </tr>\n",
       "    <tr>\n",
       "      <td>14385</td>\n",
       "      <td>s484</td>\n",
       "      <td>f340</td>\n",
       "      <td>2004-05-31 22:30:14</td>\n",
       "    </tr>\n",
       "  </tbody>\n",
       "</table>\n",
       "</div>"
      ],
      "text/plain": [
       "      student forum                 date\n",
       "13275    s397  f287  2004-05-31 00:34:50\n",
       "2677      s55   f19  2004-05-19 22:29:05\n",
       "29120     s17   f43  2004-08-15 18:03:05\n",
       "13722    s397  f427  2004-05-31 15:11:06\n",
       "14385    s484  f340  2004-05-31 22:30:14"
      ]
     },
     "execution_count": 23,
     "metadata": {},
     "output_type": "execute_result"
    }
   ],
   "source": [
    "data = pd.read_csv(path+'data2.csv', index_col=0)\n",
    "data.head()"
   ]
  },
  {
   "cell_type": "code",
   "execution_count": 24,
   "metadata": {},
   "outputs": [],
   "source": [
    "# Instantiate a new Graph: G\n",
    "G = nx.Graph()"
   ]
  },
  {
   "cell_type": "code",
   "execution_count": 25,
   "metadata": {},
   "outputs": [],
   "source": [
    "# Add nodes from each of the partitions\n",
    "G.add_nodes_from(data['student'], bipartite='student')\n",
    "G.add_nodes_from(data['forum'], bipartite='forum')"
   ]
  },
  {
   "cell_type": "code",
   "execution_count": 26,
   "metadata": {},
   "outputs": [
    {
     "data": {
      "text/plain": [
       "{'s397': {'bipartite': 'student'},\n",
       " 's55': {'bipartite': 'student'},\n",
       " 's17': {'bipartite': 'student'},\n",
       " 's484': {'bipartite': 'student'},\n",
       " 's167': {'bipartite': 'student'},\n",
       " 's354': {'bipartite': 'student'},\n",
       " 's332': {'bipartite': 'student'},\n",
       " 's47': {'bipartite': 'student'},\n",
       " 's381': {'bipartite': 'student'},\n",
       " 's65': {'bipartite': 'student'}}"
      ]
     },
     "execution_count": 26,
     "metadata": {},
     "output_type": "execute_result"
    }
   ],
   "source": [
    "dict(list(G.nodes().items())[:10])"
   ]
  },
  {
   "cell_type": "code",
   "execution_count": 27,
   "metadata": {},
   "outputs": [
    {
     "data": {
      "text/plain": [
       "{'f502': {'bipartite': 'forum'},\n",
       " 'f501': {'bipartite': 'forum'},\n",
       " 'f351': {'bipartite': 'forum'},\n",
       " 'f213': {'bipartite': 'forum'},\n",
       " 'f79': {'bipartite': 'forum'},\n",
       " 'f204': {'bipartite': 'forum'},\n",
       " 'f200': {'bipartite': 'forum'},\n",
       " 'f446': {'bipartite': 'forum'},\n",
       " 'f400': {'bipartite': 'forum'},\n",
       " 'f449': {'bipartite': 'forum'}}"
      ]
     },
     "execution_count": 27,
     "metadata": {},
     "output_type": "execute_result"
    }
   ],
   "source": [
    "dict(list(G.nodes().items())[-10:])"
   ]
  },
  {
   "cell_type": "code",
   "execution_count": 28,
   "metadata": {},
   "outputs": [
    {
     "data": {
      "text/plain": [
       "EdgeView([])"
      ]
     },
     "execution_count": 28,
     "metadata": {},
     "output_type": "execute_result"
    }
   ],
   "source": [
    "G.edges()"
   ]
  },
  {
   "cell_type": "code",
   "execution_count": 31,
   "metadata": {},
   "outputs": [],
   "source": [
    "# Add in each edge along with the date the edge was created\n",
    "for r, d in data.iterrows():\n",
    "    G.add_edge(d['student'], d['forum'], date=d['date'])"
   ]
  },
  {
   "cell_type": "code",
   "execution_count": 35,
   "metadata": {},
   "outputs": [
    {
     "data": {
      "text/plain": [
       "[('s397', 'f287', {'date': '2004-05-31 15:45:08'}),\n",
       " ('s397', 'f427', {'date': '2004-05-31 15:11:06'}),\n",
       " ('s397', 'f73', {'date': '2004-05-24 23:33:06'}),\n",
       " ('s397', 'f63', {'date': '2004-05-26 01:26:21'}),\n",
       " ('s397', 'f336', {'date': '2004-06-04 22:22:10'}),\n",
       " ('s397', 'f82', {'date': '2004-06-04 19:20:18'}),\n",
       " ('s397', 'f377', {'date': '2004-05-30 14:33:37'}),\n",
       " ('s55', 'f19', {'date': '2004-05-26 10:16:55'}),\n",
       " ('s55', 'f169', {'date': '2004-05-31 18:07:39'}),\n",
       " ('s17', 'f43', {'date': '2004-09-18 20:44:34'})]"
      ]
     },
     "execution_count": 35,
     "metadata": {},
     "output_type": "execute_result"
    }
   ],
   "source": [
    "list(G.edges(data=True))[:10]"
   ]
  },
  {
   "cell_type": "markdown",
   "metadata": {},
   "source": [
    "## Visualize the degree centrality distribution of the students projection\n",
    "\n",
    "In this exercise, you will `visualize the degree centrality distribution of the students projection`."
   ]
  },
  {
   "cell_type": "code",
   "execution_count": 37,
   "metadata": {},
   "outputs": [
    {
     "data": {
      "text/plain": [
       "['s397', 's55', 's17', 's484', 's167', 's354', 's332', 's47', 's381', 's65']"
      ]
     },
     "execution_count": 37,
     "metadata": {},
     "output_type": "execute_result"
    }
   ],
   "source": [
    "# Get the student partition's nodes: student_nodes\n",
    "student_nodes = [n for n, d in G.nodes(data=True) if d['bipartite'] == 'student']\n",
    "student_nodes[:10]"
   ]
  },
  {
   "cell_type": "code",
   "execution_count": 42,
   "metadata": {},
   "outputs": [
    {
     "data": {
      "text/plain": [
       "[('s397', 's270', {}),\n",
       " ('s397', 's243', {}),\n",
       " ('s397', 's286', {}),\n",
       " ('s397', 's693', {}),\n",
       " ('s397', 's398', {}),\n",
       " ('s397', 's736', {}),\n",
       " ('s397', 's571', {}),\n",
       " ('s397', 's34', {}),\n",
       " ('s397', 's567', {}),\n",
       " ('s397', 's260', {})]"
      ]
     },
     "execution_count": 42,
     "metadata": {},
     "output_type": "execute_result"
    }
   ],
   "source": [
    "# Create the students nodes projection as a graph: G_students\n",
    "G_students = nx.bipartite.projected_graph(G, nodes=student_nodes)\n",
    "list(G_students.edges(data=True))[:10]"
   ]
  },
  {
   "cell_type": "code",
   "execution_count": 48,
   "metadata": {},
   "outputs": [
    {
     "data": {
      "text/plain": [
       "{'s90': 0.018018018018018018,\n",
       " 's436': 0.012012012012012012,\n",
       " 's694': 0.0,\n",
       " 's287': 0.018018018018018018,\n",
       " 's30': 0.018018018018018018,\n",
       " 's42': 0.006006006006006006,\n",
       " 's836': 0.018018018018018018,\n",
       " 's259': 0.015015015015015015,\n",
       " 's749': 0.003003003003003003,\n",
       " 's166': 0.012012012012012012}"
      ]
     },
     "execution_count": 48,
     "metadata": {},
     "output_type": "execute_result"
    }
   ],
   "source": [
    "# Calculate the degree centrality using nx.degree_centrality: dcs\n",
    "dcs = nx.degree_centrality(G_students)\n",
    "dict(list(dcs.items())[-10:])"
   ]
  },
  {
   "cell_type": "code",
   "execution_count": 51,
   "metadata": {},
   "outputs": [
    {
     "data": {
      "image/png": "[encoded data removed]",
      "text/plain": [
       "<Figure size 432x288 with 1 Axes>"
      ]
     },
     "metadata": {
      "needs_background": "light"
     },
     "output_type": "display_data"
    }
   ],
   "source": [
    "# Plot the histogram of degree centrality values\n",
    "plt.hist(list(dcs.values()))\n",
    "plt.yscale('log')  \n",
    "plt.show();"
   ]
  },
  {
   "cell_type": "markdown",
   "metadata": {},
   "source": [
    "## Visualize the degree centrality distribution of the forums projection\n",
    "\n",
    "This exercise is also to reinforce the concepts of degree centrality and projections. This time round, you'll `plot the degree centrality distribution for the 'forum' projection`. Follow the same steps as in the previous exercise!"
   ]
  },
  {
   "cell_type": "code",
   "execution_count": 52,
   "metadata": {},
   "outputs": [
    {
     "data": {
      "image/png": "[encoded data removed]",
      "text/plain": [
       "<Figure size 432x288 with 1 Axes>"
      ]
     },
     "metadata": {
      "needs_background": "light"
     },
     "output_type": "display_data"
    }
   ],
   "source": [
    "# Import necessary modules\n",
    "import matplotlib.pyplot as plt \n",
    "import networkx as nx\n",
    "\n",
    "# Get the forums partition's nodes: forum_nodes\n",
    "forum_nodes = [n for n, d in G.nodes(data=True) if d['bipartite'] == 'forum']\n",
    "\n",
    "# Create the forum nodes projection as a graph: G_forum\n",
    "G_forum = nx.bipartite.projected_graph(G, nodes=forum_nodes)\n",
    "\n",
    "# Calculate the degree centrality using nx.degree_centrality: dcs\n",
    "dcs = nx.degree_centrality(G_forum)\n",
    "\n",
    "# Plot the histogram of degree centrality values\n",
    "plt.hist(list(dcs.values()))\n",
    "plt.yscale('log') \n",
    "plt.show();"
   ]
  },
  {
   "cell_type": "code",
   "execution_count": null,
   "metadata": {},
   "outputs": [],
   "source": []
  },
  {
   "cell_type": "code",
   "execution_count": null,
   "metadata": {},
   "outputs": [],
   "source": []
  },
  {
   "cell_type": "code",
   "execution_count": null,
   "metadata": {},
   "outputs": [],
   "source": []
  },
  {
   "cell_type": "code",
   "execution_count": null,
   "metadata": {},
   "outputs": [],
   "source": []
  },
  {
   "cell_type": "code",
   "execution_count": null,
   "metadata": {},
   "outputs": [],
   "source": []
  },
  {
   "cell_type": "code",
   "execution_count": null,
   "metadata": {},
   "outputs": [],
   "source": []
  },
  {
   "cell_type": "code",
   "execution_count": null,
   "metadata": {},
   "outputs": [],
   "source": []
  },
  {
   "cell_type": "code",
   "execution_count": null,
   "metadata": {},
   "outputs": [],
   "source": []
  },
  {
   "cell_type": "code",
   "execution_count": null,
   "metadata": {},
   "outputs": [],
   "source": []
  },
  {
   "cell_type": "code",
   "execution_count": null,
   "metadata": {},
   "outputs": [],
   "source": []
  },
  {
   "cell_type": "code",
   "execution_count": null,
   "metadata": {},
   "outputs": [],
   "source": []
  },
  {
   "cell_type": "code",
   "execution_count": null,
   "metadata": {},
   "outputs": [],
   "source": []
  },
  {
   "cell_type": "code",
   "execution_count": null,
   "metadata": {},
   "outputs": [],
   "source": []
  }
 ],
 "metadata": {
  "kernelspec": {
   "display_name": "Python 3",
   "language": "python",
   "name": "python3"
  },
  "language_info": {
   "codemirror_mode": {
    "name": "ipython",
    "version": 3
   },
   "file_extension": ".py",
   "mimetype": "text/x-python",
   "name": "python",
   "nbconvert_exporter": "python",
   "pygments_lexer": "ipython3",
   "version": "3.7.1"
  }
 },
 "nbformat": 4,
 "nbformat_minor": 2
}

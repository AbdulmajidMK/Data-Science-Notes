{
 "cells": [
  {
   "cell_type": "markdown",
   "metadata": {},
   "source": [
    "# Data Science \n",
    "\n",
    "I.   Definitions\n",
    "II.  Data Mining / Analytics\n",
    "III. Statistical Inference\n",
    "IV.  Machine Learning / AI\n",
    "V.   Data Engineering\n",
    "VI.  Advantages of using big data and statistics\n",
    "VII. Three Types of Analytics\n",
    "VIII.Big Data and Data Science Industries"
   ]
  },
  {
   "cell_type": "markdown",
   "metadata": {},
   "source": [
    "## I. Definitions\n",
    "\n",
    "1. **Data science** is the discipline of making data useful.\n",
    "(from [What on earth is data science?](https://hackernoon.com/what-on-earth-is-data-science-eb1237d8cb37))\n",
    "\n",
    "2. **Data science** is a ‘concept to unify statistics, data analysis, machine learning and their related methods’ in order to ‘understand and analyze actual phenomena’ with data. (from [Wikipedia](https://en.wikipedia.org/wiki/Data_science))\n",
    "\n",
    "3. **Data Science** is the act of engineering value from data.\n",
    "(from [What Is Data Science?](https://winderresearch.com/what-is-data-science/))\n",
    "\n",
    "Data science is a team sport that benefits from skills diversity."
   ]
  },
  {
   "cell_type": "markdown",
   "metadata": {},
   "source": [
    "## A Map of Data Science\n",
    "\n",
    "<img src=\"images/data_science2.png\" alt=\"Analytics, Data Science, Machine Learning\" style=\"width: 800px;\"/>\n",
    "\n",
    "<img src=\"images/data_science.png\" alt=\"Analytics, Data Science, Machine Learning\" style=\"width: 800px;\"/>\n",
    "\n",
    "From: [What on earth is data science?](https://hackernoon.com/what-on-earth-is-data-science-eb1237d8cb37)"
   ]
  },
  {
   "cell_type": "markdown",
   "metadata": {},
   "source": [
    "<img src=\"images/data_science3.png\" alt=\"Analytics, Data Science, Machine Learning\" style=\"width: 800px;\"/>\n",
    "\n",
    "Or, how many decisions are to be made?\n",
    "\n",
    "<img src=\"images/data_science4.png\" alt=\"Analytics, Data Science, Machine Learning\" style=\"width: 800px;\"/>\n",
    "\n",
    "From: [What on earth is data science?](https://hackernoon.com/what-on-earth-is-data-science-eb1237d8cb37)"
   ]
  },
  {
   "cell_type": "markdown",
   "metadata": {},
   "source": [
    "### II. Data-mining / Analytics\n",
    "\n",
    "If you don’t know what decisions you want to make yet, the best you can do is go out there in search of inspiration. That’s called **data-mining** or **analytics** or **descriptive analytics** or **exploratory data analysis (EDA)** or **knowledge discovery (KD)**, depending on which crowd you hung out with during your impressionable years.\n",
    "\n",
    "`Golden rule of analytics: only make conclusions about what you can see.`\n",
    "\n",
    "Unless you know how you intend to frame your decision-making, start here. The great news is that this one is easy. Think of your dataset as a bunch of negatives you found in a darkroom. Data-mining is about working the equipment to expose all the images as quickly as possible so you can see whether there’s anything inspiring on them. As with photos, remember not to take what you see too seriously. You didn’t take the photos, so you don’t know much about what’s off-screen. The golden rule of data-mining is: stick to what is here. Only make conclusions about what you can see, never about what you can’t see (for that you need statistics and lot more expertise).\n",
    "\n",
    "The darkroom’s intimidating at first, but there’s not that much to it. Just learn to work the equipment (R, Python, etc.). You can call yourself a data analyst as soon as you start having fun and you can call yourself an expert analyst when you’re able to expose photos (and all the other kinds of datasets) with lightning speed."
   ]
  },
  {
   "cell_type": "markdown",
   "metadata": {},
   "source": [
    "### III. Statistical inference\n",
    "\n",
    "Inspiration is cheap, but rigor is expensive. If you want to leap beyond the data, you’re going to need specialist training. Statistical inference (statistics for short) is the most difficult and philosophy-laden of the three areas. Getting good at it takes the most time.\n",
    "\n",
    "If you intend to make high-quality, risk-controlled, important decisions that rely on conclusions about the world beyond the data available to you, you’re going to have to bring statistical skills onto your team. A great example is that moment when your finger is hovering over the launch button for an AI system and it occurs to you that you need to check it works before releasing it (always a good idea). Step away from the button and call in the statistician.\n",
    "\n",
    "**(Inferential) Statistics** is the science of changing your mind (under uncertainty)."
   ]
  },
  {
   "cell_type": "markdown",
   "metadata": {},
   "source": [
    "### IV. Machine Learning / AI\n",
    "\n",
    "`Machine learning is essentially making thing-labeling recipes using examples instead of instructions.` At its core, machine learning is just a thing-labeler, taking your description of something and telling you what label it should get. Machine learning is a new programming paradigm, a new way of communicating your wishes to a computer.\n",
    "\n",
    "You just took in some pretty complex data through your senses (looking at a picture of cat) and, as if by magic, you labeled it ‘cat.’ That was so easy for you! How about if we wanted a computer to do the same task, to classify (label) photos as cat/not-cat?\n",
    "\n",
    "In the traditional programming approach, a programmer would think hard about the pixels and the labels, communicate with the universe, channel inspiration, and finally handcraft a model. A **model** is just a fancy word for recipe, or a set of instructions your computer has to follow to turn pixels into labels. It’s just some code that the machine uses to convert inputs into outputs, and could be handcrafted by a programmer or learned from data by an algorithm.\n",
    "\n",
    "But think about what those instructions would be. What are you actually doing with these pixels? Can you express it? Your brain had the benefit of eons of evolution and now it just works, you don’t even know how does it. That recipe is pretty hard to come up with.\n",
    "\n",
    "#### A tale of two machine learnings\n",
    "\n",
    "When people say ‘machine learning’ it sounds like there’s only one discipline here. There are two, and if businesses don’t understand the difference, they can experience a world of trouble. When it comes to machine learning, many organizations are in the wrong business.\n",
    "\n",
    "##### Machine learning research\n",
    "\n",
    "If you build machine learning algorithms, your focus is general purpose tools for others to use. This business is called **machine learning research** and is typically done by places like academia or Google.\n",
    "\n",
    "You need quite a lot of education to be in this line of work, because there’s a long history here. Some popular algorithms have been around for centuries. For example, the method of least squares for regression, was published in 1805.\n",
    "\n",
    "Today, there are some pretty sophisticated appliances out there... how are you going to build a better microwave if you don’t know how this one works? Of course you need all that immersive study! Becoming a researcher takes years and there’s a good reason that the 101 course starts with the basics of calculus.\n",
    "\n",
    "##### Applied machine learning\n",
    "\n",
    "Most businesses just want to get cooking — to solve their business problems. They have no interest in selling microwaves, and yet often make the mistake of trying to build those appliances from scratch. It’s hard to blame them — the current hype and education cycle dominantly focuses on research, instead of application.\n",
    "\n",
    "If you’re innovating with recipes, don’t reinvent the wheel. Those microwaves exist already. You can get them for free from many places. And if setting up your own machine learning kitchen sounds like a chore, providers like Google Cloud Platform let you use theirs, complete with appliances, ingredients, and recipe books.\n",
    "\n",
    "For most applications, your team doesn’t need to understand the mathematics of backpropagation in neural networks any more than a chef needs to know the wiring diagram for a microwave. But there’s a lot that you do need to know if you’re planning on running an industrial-scale kitchen, everything from curating your ingredients to checking that your dishes are good before you serve them.\n",
    "\n",
    "##### Crashing and burning with machine learning\n",
    "\n",
    "Unfortunately, I see a lot of businesses failing to get value from machine learning because they don’t realize that the applied side is a very different discipline from the algorithms research side. Instead, leaders try to start their kitchens by hiring those folks who’ve been building microwave parts their whole lives but have never cooked a thing. What could possibly go wrong? If that works out, it’s because you got lucky and accidentally hired an engineer who is a great chef.\n",
    "\n",
    "But usually you’re not lucky. There are only so many hours in one lifetime, and if you spend them learning how a microwave is wired, you’ve got fewer to devote to mastering the art of pastry or business. Where — and when! — would your PhD-trained artificial intelligence researcher have gained the skills required for applied machine learning? If you set your heart on the hybrid who’s an expert in both, no wonder you’re complaining about the talent shortage!\n",
    "\n",
    "Whom should you hire instead? Just like in an industrial kitchen, you need an interdisciplinary team with leadership that understands this space. Otherwise, projects fizzle and go nowhere.\n",
    "\n",
    "#### AI projects should start with the business decision-maker\n",
    "\n",
    "You don’t need a PhD in machine learning to produce such a document. Instead, you need to understand what’s important for your business. Every data science project begins with a business decision-maker, and machine learning is no exception.\n",
    "\n",
    "#### Machine learning algorithms\n",
    "\n",
    "If you like variety, you’ll love algorithms. There are plenty of them. One way they differ from one another is in how they try on different positions for the separating boundary. Optimization nerds will tell you that rotating the fence in tiny increments is certifiably lame and there are much better ways to get to the optimal position faster. Some researchers devote their whole lives to coming up with ways to get the best fence position in fewest hops, no matter how perverse the terrain (determined by your inputs) becomes.\n",
    "\n",
    "<img src=\"images/machine_learning_algorithms.png\" alt=\"Analytics, Data Science, Machine Learning\" style=\"width: 800px;\"/>\n",
    "\n",
    "From: [Machine learning — Is the emperor wearing clothes?](https://hackernoon.com/machine-learning-is-the-emperor-wearing-clothes-59933d12a3cc)\n",
    "\n",
    "These days, no data science hipster is into the humble straight line. Flexible, squiggly shapes are all the rage among today’s fashionable crowd (you may know these as neural networks, though there isn’t much that’s neural about them — they were named rather aspirationally more than half a century ago and no one seems to like my suggestion that we rename them to “yoga networks” or “many-layers-of-mathematical-operations”).\n",
    "\n",
    "Those gobbledygook algorithm names tell you what shape of fence they’re going try to put in your data. If you’re an applied machine learning enthusiast, it’s okay if you don’t memorize them — in practice you’ll just shove your data through as many algorithms as you can and iterate on what seems promising. The proof of the pudding’s always in the eating so let’s eat.\n",
    "\n",
    "Even if you study the textbook, you won’t get the solution right on your first try. Don’t sweat it. This isn’t a game with one right answer and no one gets their solution on the first try. Give yourself permission to tinker, dabble, and play. The proof of machine learning pudding’s in the eating — does it work on new data? Leave the “how does it work” for researchers who design new algorithms. (And you’ll probably end up getting familiar with those names the same way you learned the characters of whichever bad soap opera haunts your town’s TV screens. Against your will. Give it time.)\n",
    "\n",
    "#### Explain with examples, not instructions\n",
    "\n",
    "Wouldn’t it be better if you could just say to the computer, “Here, look at a bunch of examples of cats, look at a bunch of examples of not-cats, and just figure it out yourself”? That is the essence of machine learning. It is a completely different programming paradigm. Now, instead of giving explicit instructions, you program with examples and the machine learning algorithm finds patterns in your data and turns them into those instructions you couldn’t write yourself. No more handcrafting of recipes!\n",
    "\n",
    "#### AI allows you to automate the ineffable\n",
    "\n",
    "Why is that exciting? This is about expressing our wishes to computers in a way we couldn’t before. We love to get computers to do stuff for us. But how can we possibly give instructions if the instructions are really hard to think up? If they’re ineffable?\n",
    "\n",
    "AI and machine learning are about automating the ineffable. They’re about explaining yourself using examples instead of instructions. This unlocks a huge class of tasks that we couldn’t get computers to help us with in the past because we couldn’t express the instructions. Now all of these tasks become possible — machine learning represents a fundamental leap in human progress. It is the future and the future is here!\n",
    "\n",
    "#### Machine learning uses patterns in data to label things\n",
    "\n",
    "Traditionally in ML (machine learning), we like sticks more than carrots — the points are penalties for mistakes (getting a label on the wrong side of the fence) and the game is to get as few of these bad points as possible. That’s why the **objective function** in ML tends to be called a **“loss function”** and `the goal is to minimize loss`.\n",
    "\n",
    "The loss function is like the rule for scoring a board game, optimizing it is figuring out how to play so you get the best score possible.\n",
    "\n",
    "#### Model\n",
    "\n",
    "Once the fence in place, the algorithm is finished and what you get out of it is what you wanted along: a `model, which is just a fancy word for recipe`. It’s now some instructions for the computer to use to convert data into a decision next time I show it a new bottle of wine. If the data lands in the blue bit, call it blue. In the red bit? Call it red.\n",
    "\n",
    "<img src=\"images/machine_learning_model.png\" alt=\"Analytics, Data Science, Machine Learning\" style=\"width: 800px;\"/>\n",
    "\n",
    "From: [Machine learning — Is the emperor wearing clothes?](https://hackernoon.com/machine-learning-is-the-emperor-wearing-clothes-59933d12a3cc)\n",
    "\n",
    "#### Label\n",
    "\n",
    "Once you put your freshly-minted model into production, you use it by feeding the computer an age and review score. Your system looks up which region that corresponds to and it outputs a label.\n",
    "\n",
    "How do we know if it works? By checking the output! The proof of the pudding is in the eating. Test your system by running a bunch of new data through it and make sure it performs well on it. In fact, do that anyway, regardless of whether an algorithm or a programmer came up with that recipe for you.\n",
    "\n",
    "#### ML models vs traditional code\n",
    "\n",
    "I’d like to point out that the recipe isn’t all that different from code that a programmer might have written by eyeballing the problem and manually making up some rules. Quit anthropomorphizing machine learning already. `A model is conceptually the same kind of thing as regular code.` You know, the kind of recipe that’s handcrafted by some human armed with an opinion and a caffeine source.\n",
    "\n",
    "And don’t go around saying that **retraining** — jargon for rerunning the algorithm to adjust the boundary as new examples are gathered — makes it creature-like or inherently different from your programmer’s standard work product. Humans can sit there tweaking the code in response to new info too. If you’re worried that your machine learning system now does the update much faster, invest in good testing or avail yourself of a long time.sleep().\n",
    "\n",
    "#### Is this all there is to it?\n",
    "\n",
    "Yeah, pretty much. The hard part of ML engineering is installing packages and then wrangling your hairy beast of a dataset so a finicky algorithm deigns to run on it. This is followed by an eternity of fiddling with the code settings (don’t let the noble name **hyperparameter tuning** fool you) until voila! A model! One that turns out not to work when you evaluate its performance on new data... and you’re back to the drawing board, over and over, until finally the heavens open up and your solution stops embarrassing itself. That’s why it’s so important to hire failure-tolerant personalities for this endeavor.\n",
    "\n",
    "If you were expecting magic, well, the sooner you’re disappointed, the better. The death of superstitious excitement for sci-fi makes way for rebirth: excitement for getting cool things done. Machine learning may be prosaic, but what you can do with it is incredible! It lets helps you write the code you couldn’t come up with yourself, allowing you to automate the ineffable. `Don’t hate it for being simple. Levers are simple too, but they can move the world.`\n",
    "\n",
    "### You need to know what it means to do your task right\n",
    "\n",
    "Unless the business decision-maker responsible for your project is able to articulate how to score performance, machine learning is a nonstarter for you. You’re not ready to dive into a serious machine learning project until you are in possession of a document that outlines:\n",
    "\n",
    "- What does it mean to do your task correctly?\n",
    "- Which mistakes are worse than which other mistakes?\n",
    "- If 1000 units of work were done — some imperfectly — how do you give that pile of work a score? (That’s entirely up to your business leader.)\n",
    "\n",
    "#### Good luck and have fun!\n",
    "\n",
    "When it comes to applied machine learning, the hardest part is knowing what you want to cook and how you plan to check it before you serve it to your customers. That part is actually not that hard — just don’t forget to do it.\n",
    "\n",
    "As for the rest, solving business problems with machine learning is far easier than most people think. Those gleaming kitchens are waiting for you to come play in them. Dive in as you would in a real kitchen. Start tinkering! Every time I meet someone who believes they need to take a traditional machine learning algorithms course — or, goodness! a whole degree — in order to get started, I can’t help but imagine them refusing to use microwaves until they built one themselves. `Don’t fall for the lie that says you need a PhD to do amazing things with machine learning.` Instead, what you really need is a bit of human creativity. Good luck and have fun!"
   ]
  },
  {
   "cell_type": "markdown",
   "metadata": {},
   "source": [
    "## Data Engineering\n",
    "\n",
    "What about data engineering, the work that delivers data to the data science team in the first place? Since it’s a sophisticated field in its own right, I prefer to shield it from data science’s hegemonic aspirations. Besides, it’s much closer in species to software engineering than to statistics.\n",
    "\n",
    "`The difference between data engineering and data science is a difference of before and after.`\n",
    "\n",
    "Feel free to see the **data engineering versus data science difference as before versus after**. Most of the technical work leading up to the birthing of the data (before) may comfortably be called “data engineering” and everything we do once some data have arrived (after) is “data science”."
   ]
  },
  {
   "cell_type": "markdown",
   "metadata": {},
   "source": [
    "## Advantages of using big data and statistics\n",
    "\n",
    "- finding hidden opportunities for efficiency,\n",
    "- using data to become more responsive to clients,\n",
    "- developing entirely new and unanticipated product lines.\n",
    "\n",
    "## Three Types of Analytics\n",
    "\n",
    "- **Descriptive analytics** tell you what happened.\n",
    "- **Predictive analytics** tell you what is likely to happen in the future.\n",
    "- **Prescriptive analytics** are build on top of predictive analytics to make recommendations."
   ]
  },
  {
   "cell_type": "markdown",
   "metadata": {},
   "source": [
    "## VIII. Big Data and Data Science Industries\n",
    "\n",
    "- Agriculture (Precision Farming), [Big Data in Smart Farming](https://www.sciencedirect.com/science/article/pii/S0308521X16303754)\n",
    "- [Manufacturing](https://www.mckinsey.com/business-functions/operations/our-insights/how-big-data-can-improve-manufacturing), [Modeling Smart Farm](https://pdf.sciencedirectassets.com/287278/1-s2.0-S2214317317X00048/1-s2.0-S2214317316301287/main.pdf)\n",
    "- [Construction](https://www.bostonglobe.com/business/2018/11/23/she-building-better-construction-process/tkR6qB9Ngp6ELpqw0AVfHO/story.html)\n",
    "- [Smart Cities](https://datafloq.com/read/how-barcelona-deploys-big-data-to-improve-lives-an/297)\n",
    "\n"
   ]
  },
  {
   "cell_type": "markdown",
   "metadata": {},
   "source": []
  }
 ],
 "metadata": {
  "kernelspec": {
   "display_name": "Python 3",
   "language": "python",
   "name": "python3"
  },
  "language_info": {
   "codemirror_mode": {
    "name": "ipython",
    "version": 3
   },
   "file_extension": ".py",
   "mimetype": "text/x-python",
   "name": "python",
   "nbconvert_exporter": "python",
   "pygments_lexer": "ipython3",
   "version": "3.7.1"
  }
 },
 "nbformat": 4,
 "nbformat_minor": 2
}

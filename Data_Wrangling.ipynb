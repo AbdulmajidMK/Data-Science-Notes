{
  "cells": [
    {
      "cell_type": "markdown",
      "metadata": {
        "id": "view-in-github",
        "colab_type": "text"
      },
      "source": [
        "<a href=\"https://colab.research.google.com/github/PyCoded/Data-Science-Notes/blob/master/Data_Wrangling.ipynb\" target=\"_parent\"><img src=\"https://colab.research.google.com/assets/colab-badge.svg\" alt=\"Open In Colab\"/></a>"
      ]
    },
    {
      "cell_type": "code",
      "execution_count": null,
      "metadata": {
        "colab": {
          "base_uri": "https://localhost:8080/"
        },
        "id": "6jrmc-EDntVW",
        "outputId": "4bdd2440-6d8f-418b-cfbe-dff218d619c4"
      },
      "outputs": [
        {
          "output_type": "execute_result",
          "data": {
            "text/plain": [
              "Area Code       0.0\n",
              "Area            0.0\n",
              "Item Code       0.0\n",
              "Item            0.0\n",
              "Element Code    0.0\n",
              "Element         0.0\n",
              "Unit            0.0\n",
              "Y2014           0.0\n",
              "Y2015           0.0\n",
              "Y2016           0.0\n",
              "Y2017           0.0\n",
              "Y2018           0.0\n",
              "dtype: float64"
            ]
          },
          "metadata": {},
          "execution_count": 19
        }
      ],
      "source": [
        "import pandas as pd\n",
        "import numpy as np\n",
        "\n",
        "url = 'https://github.com/HamoyeHQ/HDSC-Introduction-to-Python-for-machine-learning/files/7768140/FoodBalanceSheets_E_Africa_NOFLAG.csv'\n",
        "food_data = pd.read_csv(url, encoding='ISO-8859-1')\n",
        "food_data.describe(include='all')\n",
        "\n",
        "#counting the sum of each value in the Unit colum\n",
        "food_data.groupby('Item')['Item'].sum()\n",
        "\n",
        "#printing the first item it all specified coloums\n",
        "food_data.groupby('Item').first()\n",
        "\n",
        "#Printing a spefific item from a dataset\n",
        "food_data[food_data['Element']=='Import Quantity'].sum()\n",
        "\n",
        "#Calculating the central tendencies etc\n",
        "#food_data['Y2015'].mean()\n",
        "\n",
        "#Selecting a single item within a dataset\n",
        "#food_data.at[5901, 'Area']\n",
        "#food_data.iat[2, 5]\n",
        "\n",
        "\n",
        "#count the missing data\n",
        "#pd.isnull(food_data[\"Y2016\"]).sum()\n",
        "\n",
        "\n",
        "#Check for missing values\n",
        "#food_data.dropna()\n",
        "\n",
        "#Splitting datasets\n",
        "#fd1 = food_data.iloc[0:30000].reset_index(drop=True)\n",
        "#fd2 = food_data.iloc[30000:].reset_index(drop=True)\n",
        "\n",
        "#Defining the length\n",
        "#assert len(food_data) == (len(fd1) + len(fd2))\n",
        "\n",
        "#Marging the two datasets\n",
        "#pd.merge(fd1, fd2, how='inner')\n",
        "#pd.merge(fd1, fd2, how='outer')\n",
        "#pd.merge(fd1, fd2, how='left')\n",
        "\n",
        "#Concatinating datasets\n",
        "#new_dataset = food_data.copy()\n",
        "#pd.concat([food_data, new_dataset]).reset_index(drop=True)\n",
        "\n",
        "#Check for duplicate raw\n",
        "#food_data.drop_duplicates().any()\n",
        "\n",
        "#Plotting a density graph for dataset\n",
        "#food_data.plot.kde()\n",
        "\n",
        "#Exporting a dataset into zip\n",
        "#Output_data = dict(method='zip', achieve_name='Output.csv')\n",
        "#food_data.to_csv('Output.zip', index=False, compression='zip')\n",
        "#food_data.iloc[0:1313].sum()"
      ]
    }
  ],
  "metadata": {
    "colab": {
      "collapsed_sections": [],
      "name": "pandas.ipynb",
      "provenance": [],
      "authorship_tag": "ABX9TyM4qeSZR6v1UuRk/zFiOp5w",
      "include_colab_link": true
    },
    "kernelspec": {
      "display_name": "Python 3",
      "name": "python3"
    },
    "language_info": {
      "name": "python"
    }
  },
  "nbformat": 4,
  "nbformat_minor": 0
}
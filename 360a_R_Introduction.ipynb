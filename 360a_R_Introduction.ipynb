{
 "cells": [
  {
   "cell_type": "raw",
   "metadata": {},
   "source": [
    "From: https://github.com/ksatola\n",
    "Version: 0.0.1"
   ]
  },
  {
   "cell_type": "markdown",
   "metadata": {},
   "source": [
    "# Introduction to R\n",
    "\n",
    "**R** is a `statistical programming language` that allows you to write code to work with data: read, analyze and visualize data sets. **R** was inspired by the language `S`, a language for **S**tatistics developed by AT&T, and because it was developed by **R**oss Ihaka and **R**obert Gentleman.\n",
    "\n",
    "- **R** is an interpreted language (there is no code compilation step) and gives you the ability to separately execute each individual line of code in your script.\n",
    "- **R** is dynamically typed language.\n",
    "\n",
    "### To install **R**:\n",
    "\n",
    "1. Install **R** language interpreter from [The R Project for Statistical Computing](https://www.r-project.org/).\n",
    "2. Install **RStudio Desktop** IDE from [The Comprehensive R Archive Network](https://cran.rstudio.com/).\n",
    "3. [Installing the R kernel in Jupyter Lab](https://richpauloo.github.io/2018-05-16-Installing-the-R-kernel-in-Jupyter-Lab/):\n",
    "\n",
    "- `$ r`\n",
    "- `> install.packages(c('repr', 'IRdisplay', 'evaluate', 'crayon', 'pbdZMQ', 'devtools', 'uuid', 'digest'))`\n",
    "- `> devtools::install_github('IRkernel/IRkernel')`\n",
    "- `> q()`\n",
    "- `$ /Library/Frameworks/R.framework/Versions/Current/Resources/bin/R`\n",
    "- `> IRkernel::installspec() # install for the current user`\n",
    "- `> IRkernel::installspec(user = FALSE) # install system-wide`\n",
    "- `q()`\n",
    "- restart Jupuyter Lab\n",
    "\n",
    "\n",
    "### To run **R** code:\n",
    "\n",
    "- In RStudio\n",
    "    - Select code to run and press `cmd+enter`\n",
    "    - Run entire script by clicking \"Source\" button or via `shift+cmd+enter`\n",
    "- From terminal\n",
    "    - interactive **R** session:\n",
    "        - `$ r`\n",
    "        - `> <your code> + enter`\n",
    "        - `$ q()`\n",
    "    - run entire script:\n",
    "        - `$ RScript <script name>.R`\n",
    "\n",
    "### Help\n",
    "\n",
    "- Use `Help` from top RStudio menu to find many resources including various cheatsheets.\n",
    "- [RDocumentation](https://www.rdocumentation.org/) with examples\n",
    "- [RStudio Community](https://community.rstudio.com/)\n",
    "- see below: `?`, `??`, `help()`, `example()`\n",
    "- Free ebook [R for Data Science](https://r4ds.had.co.nz/)\n",
    "\n",
    "### Syntax & Style\n",
    "\n",
    "- For **commenting** one line of code use the pound symbol (`#`).\n",
    "- **Variable names** and `case sensitive` can contain any combination of letters, numbers, periods(.) and underscores(_) and must begin with a letter.\n",
    "- [Tidyverse style guide](https://style.tidyverse.org/)"
   ]
  },
  {
   "cell_type": "markdown",
   "metadata": {},
   "source": [
    "## Data types"
   ]
  },
  {
   "cell_type": "code",
   "execution_count": 1,
   "metadata": {},
   "outputs": [],
   "source": [
    "# Assign a value 3 to the variable\n",
    "num_cups_coffee <- 3"
   ]
  },
  {
   "cell_type": "code",
   "execution_count": 3,
   "metadata": {},
   "outputs": [
    {
     "name": "stdout",
     "output_type": "stream",
     "text": [
      "[1] 3\n"
     ]
    }
   ],
   "source": [
    "# [1] means: the first value in the variable num_cups_coffee\n",
    "print(num_cups_coffee)"
   ]
  },
  {
   "cell_type": "code",
   "execution_count": 4,
   "metadata": {},
   "outputs": [],
   "source": [
    "too_much_coffe <- 3 + 4"
   ]
  },
  {
   "cell_type": "code",
   "execution_count": 5,
   "metadata": {},
   "outputs": [
    {
     "name": "stdout",
     "output_type": "stream",
     "text": [
      "[1] 7\n"
     ]
    }
   ],
   "source": [
    "print(too_much_coffe)"
   ]
  },
  {
   "cell_type": "code",
   "execution_count": 12,
   "metadata": {},
   "outputs": [],
   "source": [
    "# Numeric data type/mode\n",
    "num <- 3.0"
   ]
  },
  {
   "cell_type": "code",
   "execution_count": 13,
   "metadata": {},
   "outputs": [
    {
     "name": "stdout",
     "output_type": "stream",
     "text": [
      "[1] 3\n"
     ]
    }
   ],
   "source": [
    "print(num)"
   ]
  },
  {
   "cell_type": "code",
   "execution_count": 7,
   "metadata": {},
   "outputs": [],
   "source": [
    "# Character data type/mode\n",
    "str <- \"abc\""
   ]
  },
  {
   "cell_type": "code",
   "execution_count": 10,
   "metadata": {},
   "outputs": [
    {
     "name": "stdout",
     "output_type": "stream",
     "text": [
      "[1] TRUE\n"
     ]
    }
   ],
   "source": [
    "# Logical data type/mode\n",
    "logical <- TRUE\n",
    "logical2 <- FALSE\n",
    "logical3 <- T\n",
    "logical4 <- F\n",
    "logical5 <- num == num_cups_coffee\n",
    "print(logical5)"
   ]
  },
  {
   "cell_type": "code",
   "execution_count": 14,
   "metadata": {},
   "outputs": [],
   "source": [
    "# Integer (whole-number) type/mode\n",
    "# L stands for \"long integer\"\n",
    "my_integer <- 10L"
   ]
  },
  {
   "cell_type": "code",
   "execution_count": 15,
   "metadata": {},
   "outputs": [],
   "source": [
    "# Complex (imaginary) data type/mode\n",
    "complex = 2i"
   ]
  },
  {
   "cell_type": "markdown",
   "metadata": {},
   "source": [
    "## Help"
   ]
  },
  {
   "cell_type": "code",
   "execution_count": 17,
   "metadata": {},
   "outputs": [
    {
     "data": {
      "text/html": [
       "\n",
       "<table width=\"100%\" summary=\"page for sum {base}\"><tr><td>sum {base}</td><td style=\"text-align: right;\">R Documentation</td></tr></table>\n",
       "\n",
       "<h2>Sum of Vector Elements</h2>\n",
       "\n",
       "<h3>Description</h3>\n",
       "\n",
       "<p><code>sum</code> returns the sum of all the values\n",
       "present in its arguments.\n",
       "</p>\n",
       "\n",
       "\n",
       "<h3>Usage</h3>\n",
       "\n",
       "<pre>\n",
       "sum(..., na.rm = FALSE)\n",
       "</pre>\n",
       "\n",
       "\n",
       "<h3>Arguments</h3>\n",
       "\n",
       "<table summary=\"R argblock\">\n",
       "<tr valign=\"top\"><td><code>...</code></td>\n",
       "<td>\n",
       "<p>numeric or complex or logical vectors.</p>\n",
       "</td></tr>\n",
       "<tr valign=\"top\"><td><code>na.rm</code></td>\n",
       "<td>\n",
       "<p>logical.  Should missing values (including <code>NaN</code>) be\n",
       "removed?</p>\n",
       "</td></tr>\n",
       "</table>\n",
       "\n",
       "\n",
       "<h3>Details</h3>\n",
       "\n",
       "<p>This is a generic function: methods can be defined for it\n",
       "directly or via the <code>Summary</code> group generic.\n",
       "For this to work properly, the arguments <code>...</code> should be\n",
       "unnamed, and dispatch is on the first argument.\n",
       "</p>\n",
       "<p>If <code>na.rm</code> is <code>FALSE</code> an <code>NA</code> or <code>NaN</code> value in\n",
       "any of the arguments will cause a value of <code>NA</code> or <code>NaN</code> to\n",
       "be returned, otherwise <code>NA</code> and <code>NaN</code> values are ignored.\n",
       "</p>\n",
       "<p>Logical true values are regarded as one, false values as zero.\n",
       "For historical reasons, <code>NULL</code> is accepted and treated as if it\n",
       "were <code>integer(0)</code>.\n",
       "</p>\n",
       "<p>Loss of accuracy can occur when summing values of different signs:\n",
       "this can even occur for sufficiently long integer inputs if the\n",
       "partial sums would cause integer overflow.  Where possible\n",
       "extended-precision accumulators are used, typically well supported\n",
       "with C99 and newer, but possibly platform-dependent.\n",
       "</p>\n",
       "\n",
       "\n",
       "<h3>Value</h3>\n",
       "\n",
       "<p>The sum.  If all of the <i>M</i> <code>...</code> arguments are of type\n",
       "integer or logical, then the sum is <code>integer</code> when\n",
       "possible and is <code>double</code> otherwise.  Integer overflow should no\n",
       "longer happen since <span style=\"font-family: Courier New, Courier; color: #666666;\"><b>R</b></span> version 3.5.0.\n",
       "For other argument types it is a length-one numeric\n",
       "(<code>double</code>) or complex vector.\n",
       "</p>\n",
       "<p><strong>NB:</strong> the sum of an empty set is zero, by definition.\n",
       "</p>\n",
       "\n",
       "\n",
       "<h3>S4 methods</h3>\n",
       "\n",
       "<p>This is part of the S4 <code>Summary</code>\n",
       "group generic.  Methods for it must use the signature\n",
       "<code>x, ..., na.rm</code>.\n",
       "</p>\n",
       "<p>&lsquo;plotmath&rsquo; for the use of <code>sum</code> in plot annotation.\n",
       "</p>\n",
       "\n",
       "\n",
       "<h3>References</h3>\n",
       "\n",
       "<p>Becker, R. A., Chambers, J. M. and Wilks, A. R. (1988)\n",
       "<em>The New S Language</em>.\n",
       "Wadsworth &amp; Brooks/Cole.\n",
       "</p>\n",
       "\n",
       "\n",
       "<h3>See Also</h3>\n",
       "\n",
       "<p><code>colSums</code> for row and column sums.\n",
       "</p>\n",
       "\n",
       "\n",
       "<h3>Examples</h3>\n",
       "\n",
       "<pre>\n",
       "## Pass a vector to sum, and it will add the elements together.\n",
       "sum(1:5)\n",
       "\n",
       "## Pass several numbers to sum, and it also adds the elements.\n",
       "sum(1, 2, 3, 4, 5)\n",
       "\n",
       "## In fact, you can pass vectors into several arguments, and everything gets added.\n",
       "sum(1:2, 3:5)\n",
       "\n",
       "## If there are missing values, the sum is unknown, i.e., also missing, ....\n",
       "sum(1:5, NA)\n",
       "## ... unless  we exclude missing values explicitly:\n",
       "sum(1:5, NA, na.rm = TRUE)\n",
       "</pre>\n",
       "\n",
       "<hr /><div style=\"text-align: center;\">[Package <em>base</em> version 3.6.1 ]</div>"
      ],
      "text/latex": [
       "\\inputencoding{utf8}\n",
       "\\HeaderA{sum}{Sum of Vector Elements}{sum}\n",
       "\\keyword{arith}{sum}\n",
       "%\n",
       "\\begin{Description}\\relax\n",
       "\\code{sum} returns the sum of all the values\n",
       "present in its arguments.\n",
       "\\end{Description}\n",
       "%\n",
       "\\begin{Usage}\n",
       "\\begin{verbatim}\n",
       "sum(..., na.rm = FALSE)\n",
       "\\end{verbatim}\n",
       "\\end{Usage}\n",
       "%\n",
       "\\begin{Arguments}\n",
       "\\begin{ldescription}\n",
       "\\item[\\code{...}] numeric or complex or logical vectors.\n",
       "\\item[\\code{na.rm}] logical.  Should missing values (including \\code{NaN}) be\n",
       "removed?\n",
       "\\end{ldescription}\n",
       "\\end{Arguments}\n",
       "%\n",
       "\\begin{Details}\\relax\n",
       "This is a generic function: methods can be defined for it\n",
       "directly or via the \\code{\\LinkA{Summary}{S3groupGeneric}} group generic.\n",
       "For this to work properly, the arguments \\code{...} should be\n",
       "unnamed, and dispatch is on the first argument.\n",
       "\n",
       "If \\code{na.rm} is \\code{FALSE} an \\code{NA} or \\code{NaN} value in\n",
       "any of the arguments will cause a value of \\code{NA} or \\code{NaN} to\n",
       "be returned, otherwise \\code{NA} and \\code{NaN} values are ignored.\n",
       "\n",
       "Logical true values are regarded as one, false values as zero.\n",
       "For historical reasons, \\code{NULL} is accepted and treated as if it\n",
       "were \\code{integer(0)}.\n",
       "\n",
       "Loss of accuracy can occur when summing values of different signs:\n",
       "this can even occur for sufficiently long integer inputs if the\n",
       "partial sums would cause integer overflow.  Where possible\n",
       "extended-precision accumulators are used, typically well supported\n",
       "with C99 and newer, but possibly platform-dependent.\n",
       "\\end{Details}\n",
       "%\n",
       "\\begin{Value}\n",
       "The sum.  If all of the \\eqn{M}{} \\code{...} arguments are of type\n",
       "integer or logical, then the sum is \\code{\\LinkA{integer}{integer}} when\n",
       "possible and is \\code{double} otherwise.  Integer overflow should no\n",
       "longer happen since \\R{} version 3.5.0.\n",
       "For other argument types it is a length-one numeric\n",
       "(\\code{\\LinkA{double}{double}}) or complex vector.\n",
       "\n",
       "\\strong{NB:} the sum of an empty set is zero, by definition.\n",
       "\\end{Value}\n",
       "%\n",
       "\\begin{Section}{S4 methods}\n",
       "This is part of the S4 \\code{\\LinkA{Summary}{S4groupGeneric}}\n",
       "group generic.  Methods for it must use the signature\n",
       "\\code{x, ..., na.rm}.\n",
       "\n",
       "`\\LinkA{plotmath}{plotmath}' for the use of \\code{sum} in plot annotation.\n",
       "\\end{Section}\n",
       "%\n",
       "\\begin{References}\\relax\n",
       "Becker, R. A., Chambers, J. M. and Wilks, A. R. (1988)\n",
       "\\emph{The New S Language}.\n",
       "Wadsworth \\& Brooks/Cole.\n",
       "\\end{References}\n",
       "%\n",
       "\\begin{SeeAlso}\\relax\n",
       "\\code{\\LinkA{colSums}{colSums}} for row and column sums.\n",
       "\\end{SeeAlso}\n",
       "%\n",
       "\\begin{Examples}\n",
       "\\begin{ExampleCode}\n",
       "\n",
       "## Pass a vector to sum, and it will add the elements together.\n",
       "sum(1:5)\n",
       "\n",
       "## Pass several numbers to sum, and it also adds the elements.\n",
       "sum(1, 2, 3, 4, 5)\n",
       "\n",
       "## In fact, you can pass vectors into several arguments, and everything gets added.\n",
       "sum(1:2, 3:5)\n",
       "\n",
       "## If there are missing values, the sum is unknown, i.e., also missing, ....\n",
       "sum(1:5, NA)\n",
       "## ... unless  we exclude missing values explicitly:\n",
       "sum(1:5, NA, na.rm = TRUE)\n",
       "\\end{ExampleCode}\n",
       "\\end{Examples}"
      ],
      "text/plain": [
       "sum                    package:base                    R Documentation\n",
       "\n",
       "_\bS_\bu_\bm _\bo_\bf _\bV_\be_\bc_\bt_\bo_\br _\bE_\bl_\be_\bm_\be_\bn_\bt_\bs\n",
       "\n",
       "_\bD_\be_\bs_\bc_\br_\bi_\bp_\bt_\bi_\bo_\bn:\n",
       "\n",
       "     ‘sum’ returns the sum of all the values present in its arguments.\n",
       "\n",
       "_\bU_\bs_\ba_\bg_\be:\n",
       "\n",
       "     sum(..., na.rm = FALSE)\n",
       "     \n",
       "_\bA_\br_\bg_\bu_\bm_\be_\bn_\bt_\bs:\n",
       "\n",
       "     ...: numeric or complex or logical vectors.\n",
       "\n",
       "   na.rm: logical.  Should missing values (including ‘NaN’) be removed?\n",
       "\n",
       "_\bD_\be_\bt_\ba_\bi_\bl_\bs:\n",
       "\n",
       "     This is a generic function: methods can be defined for it directly\n",
       "     or via the ‘Summary’ group generic.  For this to work properly,\n",
       "     the arguments ‘...’ should be unnamed, and dispatch is on the\n",
       "     first argument.\n",
       "\n",
       "     If ‘na.rm’ is ‘FALSE’ an ‘NA’ or ‘NaN’ value in any of the\n",
       "     arguments will cause a value of ‘NA’ or ‘NaN’ to be returned,\n",
       "     otherwise ‘NA’ and ‘NaN’ values are ignored.\n",
       "\n",
       "     Logical true values are regarded as one, false values as zero.\n",
       "     For historical reasons, ‘NULL’ is accepted and treated as if it\n",
       "     were ‘integer(0)’.\n",
       "\n",
       "     Loss of accuracy can occur when summing values of different signs:\n",
       "     this can even occur for sufficiently long integer inputs if the\n",
       "     partial sums would cause integer overflow.  Where possible\n",
       "     extended-precision accumulators are used, typically well supported\n",
       "     with C99 and newer, but possibly platform-dependent.\n",
       "\n",
       "_\bV_\ba_\bl_\bu_\be:\n",
       "\n",
       "     The sum.  If all of the M ‘...’ arguments are of type integer or\n",
       "     logical, then the sum is ‘integer’ when possible and is ‘double’\n",
       "     otherwise.  Integer overflow should no longer happen since R\n",
       "     version 3.5.0.  For other argument types it is a length-one\n",
       "     numeric (‘double’) or complex vector.\n",
       "\n",
       "     *NB:* the sum of an empty set is zero, by definition.\n",
       "\n",
       "_\bS_\b4 _\bm_\be_\bt_\bh_\bo_\bd_\bs:\n",
       "\n",
       "     This is part of the S4 ‘Summary’ group generic.  Methods for it\n",
       "     must use the signature ‘x, ..., na.rm’.\n",
       "\n",
       "     ‘plotmath’ for the use of ‘sum’ in plot annotation.\n",
       "\n",
       "_\bR_\be_\bf_\be_\br_\be_\bn_\bc_\be_\bs:\n",
       "\n",
       "     Becker, R. A., Chambers, J. M. and Wilks, A. R. (1988) _The New S\n",
       "     Language_.  Wadsworth & Brooks/Cole.\n",
       "\n",
       "_\bS_\be_\be _\bA_\bl_\bs_\bo:\n",
       "\n",
       "     ‘colSums’ for row and column sums.\n",
       "\n",
       "_\bE_\bx_\ba_\bm_\bp_\bl_\be_\bs:\n",
       "\n",
       "     ## Pass a vector to sum, and it will add the elements together.\n",
       "     sum(1:5)\n",
       "     \n",
       "     ## Pass several numbers to sum, and it also adds the elements.\n",
       "     sum(1, 2, 3, 4, 5)\n",
       "     \n",
       "     ## In fact, you can pass vectors into several arguments, and everything gets added.\n",
       "     sum(1:2, 3:5)\n",
       "     \n",
       "     ## If there are missing values, the sum is unknown, i.e., also missing, ....\n",
       "     sum(1:5, NA)\n",
       "     ## ... unless  we exclude missing values explicitly:\n",
       "     sum(1:5, NA, na.rm = TRUE)\n",
       "     "
      ]
     },
     "metadata": {},
     "output_type": "display_data"
    }
   ],
   "source": [
    "# Using built-in documentation\n",
    "?sum"
   ]
  },
  {
   "cell_type": "code",
   "execution_count": 19,
   "metadata": {},
   "outputs": [],
   "source": [
    "# Search broader\n",
    "#??sum"
   ]
  },
  {
   "cell_type": "code",
   "execution_count": 21,
   "metadata": {},
   "outputs": [],
   "source": [
    "#help(sum)"
   ]
  },
  {
   "cell_type": "code",
   "execution_count": 22,
   "metadata": {},
   "outputs": [
    {
     "name": "stdout",
     "output_type": "stream",
     "text": [
      "\n",
      "sum> ## Pass a vector to sum, and it will add the elements together.\n",
      "sum> sum(1:5)\n",
      "[1] 15\n",
      "\n",
      "sum> ## Pass several numbers to sum, and it also adds the elements.\n",
      "sum> sum(1, 2, 3, 4, 5)\n",
      "[1] 15\n",
      "\n",
      "sum> ## In fact, you can pass vectors into several arguments, and everything gets added.\n",
      "sum> sum(1:2, 3:5)\n",
      "[1] 15\n",
      "\n",
      "sum> ## If there are missing values, the sum is unknown, i.e., also missing, ....\n",
      "sum> sum(1:5, NA)\n",
      "[1] NA\n",
      "\n",
      "sum> ## ... unless  we exclude missing values explicitly:\n",
      "sum> sum(1:5, NA, na.rm = TRUE)\n",
      "[1] 15\n"
     ]
    }
   ],
   "source": [
    "example(sum)"
   ]
  },
  {
   "cell_type": "code",
   "execution_count": null,
   "metadata": {},
   "outputs": [],
   "source": []
  },
  {
   "cell_type": "code",
   "execution_count": null,
   "metadata": {},
   "outputs": [],
   "source": []
  },
  {
   "cell_type": "code",
   "execution_count": null,
   "metadata": {},
   "outputs": [],
   "source": []
  },
  {
   "cell_type": "code",
   "execution_count": null,
   "metadata": {},
   "outputs": [],
   "source": []
  },
  {
   "cell_type": "code",
   "execution_count": null,
   "metadata": {},
   "outputs": [],
   "source": []
  },
  {
   "cell_type": "code",
   "execution_count": null,
   "metadata": {},
   "outputs": [],
   "source": []
  },
  {
   "cell_type": "code",
   "execution_count": null,
   "metadata": {},
   "outputs": [],
   "source": []
  },
  {
   "cell_type": "code",
   "execution_count": null,
   "metadata": {},
   "outputs": [],
   "source": []
  },
  {
   "cell_type": "code",
   "execution_count": null,
   "metadata": {},
   "outputs": [],
   "source": []
  },
  {
   "cell_type": "code",
   "execution_count": null,
   "metadata": {},
   "outputs": [],
   "source": []
  },
  {
   "cell_type": "code",
   "execution_count": null,
   "metadata": {},
   "outputs": [],
   "source": []
  }
 ],
 "metadata": {
  "kernelspec": {
   "display_name": "R",
   "language": "R",
   "name": "ir"
  },
  "language_info": {
   "codemirror_mode": "r",
   "file_extension": ".r",
   "mimetype": "text/x-r-source",
   "name": "R",
   "pygments_lexer": "r",
   "version": "3.6.1"
  }
 },
 "nbformat": 4,
 "nbformat_minor": 4
}

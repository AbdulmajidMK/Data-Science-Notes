{
 "cells": [
  {
   "cell_type": "raw",
   "metadata": {},
   "source": [
    "From: https://github.com/ksatola\n",
    "Version: 0.0.1"
   ]
  },
  {
   "cell_type": "markdown",
   "metadata": {},
   "source": [
    "# Introduction to R\n",
    "\n",
    "**R** is a `statistical programming language` that allows you to write code to work with data: read, analyze and visualize data sets. **R** was inspired by the language `S`, a language for **S**tatistics developed by AT&T, and because it was developed by **R**oss Ihaka and **R**obert Gentleman.\n",
    "\n",
    "**R** is an interpreted language (there is no code compilation step) and gives you the ability to separately execute each individual line of code in your script.\n",
    "\n",
    "### To install **R**:\n",
    "\n",
    "1. Install **R** language interpreter from [The R Project for Statistical Computing](https://www.r-project.org/).\n",
    "2. Install **RStudio Desktop** IDE from [The Comprehensive R Archive Network](https://cran.rstudio.com/).\n",
    "\n",
    "### To run **R** code:\n",
    "\n",
    "- In RStudio\n",
    "    - Select code to run and press `cmd+enter`\n",
    "    - Run entire script by clicking \"Source\" button or via `shift+cmd+enter`\n",
    "- From terminal\n",
    "    - interactive **R** session:\n",
    "        - `$ r`\n",
    "        - `> <your code> + enter`\n",
    "        - `$ q()`\n",
    "    - run entire script:\n",
    "        - `$ RScript <script name>.R`\n",
    "\n",
    "### Help\n",
    "\n",
    "Use `Help` from top RStudio menu to find many resources including various cheatsheets.\n",
    "\n",
    "### Syntax & Style\n",
    "\n",
    "- For **commenting** one line of code use the pound symbol (`#`).\n",
    "- **Variable names** and `case sensitive` can contain any combination of letters, numbers, periods(.) and underscores(_) and must begin with a letter.\n",
    "- [Tidyverse style guide](https://style.tidyverse.org/)"
   ]
  },
  {
   "cell_type": "code",
   "execution_count": null,
   "metadata": {},
   "outputs": [],
   "source": []
  },
  {
   "cell_type": "code",
   "execution_count": null,
   "metadata": {},
   "outputs": [],
   "source": []
  },
  {
   "cell_type": "code",
   "execution_count": null,
   "metadata": {},
   "outputs": [],
   "source": []
  },
  {
   "cell_type": "code",
   "execution_count": null,
   "metadata": {},
   "outputs": [],
   "source": []
  },
  {
   "cell_type": "code",
   "execution_count": null,
   "metadata": {},
   "outputs": [],
   "source": []
  },
  {
   "cell_type": "code",
   "execution_count": null,
   "metadata": {},
   "outputs": [],
   "source": []
  },
  {
   "cell_type": "code",
   "execution_count": null,
   "metadata": {},
   "outputs": [],
   "source": []
  },
  {
   "cell_type": "code",
   "execution_count": null,
   "metadata": {},
   "outputs": [],
   "source": []
  },
  {
   "cell_type": "code",
   "execution_count": null,
   "metadata": {},
   "outputs": [],
   "source": []
  },
  {
   "cell_type": "code",
   "execution_count": null,
   "metadata": {},
   "outputs": [],
   "source": []
  },
  {
   "cell_type": "code",
   "execution_count": null,
   "metadata": {},
   "outputs": [],
   "source": []
  },
  {
   "cell_type": "code",
   "execution_count": null,
   "metadata": {},
   "outputs": [],
   "source": []
  },
  {
   "cell_type": "code",
   "execution_count": null,
   "metadata": {},
   "outputs": [],
   "source": []
  },
  {
   "cell_type": "code",
   "execution_count": null,
   "metadata": {},
   "outputs": [],
   "source": []
  }
 ],
 "metadata": {
  "kernelspec": {
   "display_name": "Python 3",
   "language": "python",
   "name": "python3"
  },
  "language_info": {
   "codemirror_mode": {
    "name": "ipython",
    "version": 3
   },
   "file_extension": ".py",
   "mimetype": "text/x-python",
   "name": "python",
   "nbconvert_exporter": "python",
   "pygments_lexer": "ipython3",
   "version": "3.7.1"
  }
 },
 "nbformat": 4,
 "nbformat_minor": 4
}

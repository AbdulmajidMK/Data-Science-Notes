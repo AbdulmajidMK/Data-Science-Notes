{
 "cells": [
  {
   "cell_type": "raw",
   "metadata": {},
   "source": [
    "From: https://github.com/ksatola\n",
    "Version: 0.0.1"
   ]
  },
  {
   "cell_type": "markdown",
   "metadata": {},
   "source": [
    "# Introduction to R\n",
    "\n",
    "**R** is a `statistical programming language` that allows you to write code to work with data: read, analyze and visualize data sets. **R** was inspired by the language `S`, a language for **S**tatistics developed by AT&T, and because it was developed by **R**oss Ihaka and **R**obert Gentleman.\n",
    "\n",
    "**R** is an interpreted language (there is no code compilation step) and gives you the ability to separately execute each individual line of code in your script.\n",
    "\n",
    "### To install **R**:\n",
    "\n",
    "1. Install **R** language interpreter from [The R Project for Statistical Computing](https://www.r-project.org/).\n",
    "2. Install **RStudio Desktop** IDE from [The Comprehensive R Archive Network](https://cran.rstudio.com/).\n",
    "3. [Installing the R kernel in Jupyter Lab](https://richpauloo.github.io/2018-05-16-Installing-the-R-kernel-in-Jupyter-Lab/):\n",
    "\n",
    "- `$ r`\n",
    "- `> install.packages(c('repr', 'IRdisplay', 'evaluate', 'crayon', 'pbdZMQ', 'devtools', 'uuid', 'digest'))`\n",
    "- `> devtools::install_github('IRkernel/IRkernel')`\n",
    "- `> q()`\n",
    "- `$ /Library/Frameworks/R.framework/Versions/Current/Resources/bin/R`\n",
    "- `> IRkernel::installspec() # install for the current user`\n",
    "- `> IRkernel::installspec(user = FALSE) # install system-wide`\n",
    "- `q()`\n",
    "- restart Jupuyter Lab\n",
    "\n",
    "\n",
    "### To run **R** code:\n",
    "\n",
    "- In RStudio\n",
    "    - Select code to run and press `cmd+enter`\n",
    "    - Run entire script by clicking \"Source\" button or via `shift+cmd+enter`\n",
    "- From terminal\n",
    "    - interactive **R** session:\n",
    "        - `$ r`\n",
    "        - `> <your code> + enter`\n",
    "        - `$ q()`\n",
    "    - run entire script:\n",
    "        - `$ RScript <script name>.R`\n",
    "\n",
    "### Help\n",
    "\n",
    "Use `Help` from top RStudio menu to find many resources including various cheatsheets.\n",
    "\n",
    "### Syntax & Style\n",
    "\n",
    "- For **commenting** one line of code use the pound symbol (`#`).\n",
    "- **Variable names** and `case sensitive` can contain any combination of letters, numbers, periods(.) and underscores(_) and must begin with a letter.\n",
    "- [Tidyverse style guide](https://style.tidyverse.org/)"
   ]
  },
  {
   "cell_type": "code",
   "execution_count": 1,
   "metadata": {},
   "outputs": [],
   "source": [
    "# Assign a value 3 to the variable\n",
    "num_cups_coffee <- 3"
   ]
  },
  {
   "cell_type": "code",
   "execution_count": 3,
   "metadata": {},
   "outputs": [
    {
     "name": "stdout",
     "output_type": "stream",
     "text": [
      "[1] 3\n"
     ]
    }
   ],
   "source": [
    "print(num_cups_coffee)"
   ]
  },
  {
   "cell_type": "code",
   "execution_count": null,
   "metadata": {},
   "outputs": [],
   "source": []
  },
  {
   "cell_type": "code",
   "execution_count": null,
   "metadata": {},
   "outputs": [],
   "source": []
  },
  {
   "cell_type": "code",
   "execution_count": null,
   "metadata": {},
   "outputs": [],
   "source": []
  },
  {
   "cell_type": "code",
   "execution_count": null,
   "metadata": {},
   "outputs": [],
   "source": []
  },
  {
   "cell_type": "code",
   "execution_count": null,
   "metadata": {},
   "outputs": [],
   "source": []
  },
  {
   "cell_type": "code",
   "execution_count": null,
   "metadata": {},
   "outputs": [],
   "source": []
  },
  {
   "cell_type": "code",
   "execution_count": null,
   "metadata": {},
   "outputs": [],
   "source": []
  },
  {
   "cell_type": "code",
   "execution_count": null,
   "metadata": {},
   "outputs": [],
   "source": []
  },
  {
   "cell_type": "code",
   "execution_count": null,
   "metadata": {},
   "outputs": [],
   "source": []
  },
  {
   "cell_type": "code",
   "execution_count": null,
   "metadata": {},
   "outputs": [],
   "source": []
  },
  {
   "cell_type": "code",
   "execution_count": null,
   "metadata": {},
   "outputs": [],
   "source": []
  },
  {
   "cell_type": "code",
   "execution_count": null,
   "metadata": {},
   "outputs": [],
   "source": []
  }
 ],
 "metadata": {
  "kernelspec": {
   "display_name": "R",
   "language": "R",
   "name": "ir"
  },
  "language_info": {
   "codemirror_mode": "r",
   "file_extension": ".r",
   "mimetype": "text/x-r-source",
   "name": "R",
   "pygments_lexer": "r",
   "version": "3.6.1"
  }
 },
 "nbformat": 4,
 "nbformat_minor": 4
}

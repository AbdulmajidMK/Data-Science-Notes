{
 "cells": [
  {
   "cell_type": "markdown",
   "metadata": {},
   "source": [
    "# Network Analysis with Python 2\n",
    "\n",
    "You'll gain the conceptual and practical skills to analyze evolving time series of networks, learn about bipartite graphs, and how to use bipartite graphs in product recommendation systems. You'll also learn about graph projections, why they're so useful in Data Science, and figure out the best ways to store and load graph data from files."
   ]
  },
  {
   "cell_type": "code",
   "execution_count": 1,
   "metadata": {},
   "outputs": [],
   "source": [
    "import matplotlib.pyplot as plt\n",
    "%matplotlib inline\n",
    "import pickle\n",
    "import networkx as nx\n",
    "\n",
    "path = 'data/dc24/'"
   ]
  },
  {
   "cell_type": "markdown",
   "metadata": {},
   "source": [
    "## Definitions and Recap\n",
    "\n",
    "<img src=\"images/graphs201.png\" alt=\"\" style=\"width: 400px;\"/>\n",
    "\n",
    "<img src=\"images/graphs202.png\" alt=\"\" style=\"width: 400px;\"/>\n"
   ]
  },
  {
   "cell_type": "code",
   "execution_count": null,
   "metadata": {},
   "outputs": [],
   "source": [
    "# Add the degree centrality score of each node to their metadata dictionary\n",
    "dcs = nx.degree_centrality(G)\n",
    "for n in G.nodes():\n",
    "    G.node[n]['centrality'] = dcs[n]"
   ]
  },
  {
   "cell_type": "markdown",
   "metadata": {},
   "source": [
    "## Bipartite graphs\n",
    "\n",
    "<img src=\"images/graphs203.png\" alt=\"\" style=\"width: 400px;\"/>\n",
    "\n",
    "<img src=\"images/graphs204.png\" alt=\"\" style=\"width: 400px;\"/>\n",
    "\n",
    "<img src=\"images/graphs205.png\" alt=\"\" style=\"width: 400px;\"/>\n",
    "\n",
    "<img src=\"images/graphs206.png\" alt=\"\" style=\"width: 400px;\"/>\n"
   ]
  },
  {
   "cell_type": "code",
   "execution_count": null,
   "metadata": {},
   "outputs": [],
   "source": [
    "# https://networkx.github.io/documentation/stable/reference/readwrite/yaml.html\n",
    "#nx.write_yaml(G, 'path_for_yaml_file')\n",
    "\n",
    "# https://networkx.github.io/documentation/stable/reference/readwrite/gexf.html\n",
    "# nx.write_gexf(G, 'file_name')"
   ]
  },
  {
   "cell_type": "code",
   "execution_count": 11,
   "metadata": {},
   "outputs": [],
   "source": [
    "G = nx.read_gexf(path+'G.xml')"
   ]
  },
  {
   "cell_type": "code",
   "execution_count": 13,
   "metadata": {},
   "outputs": [
    {
     "data": {
      "text/plain": [
       "networkx.classes.reportviews.EdgeView"
      ]
     },
     "execution_count": 13,
     "metadata": {},
     "output_type": "execute_result"
    }
   ],
   "source": [
    "type(G.edges())"
   ]
  },
  {
   "cell_type": "markdown",
   "metadata": {},
   "source": [
    "## The bipartite keyword\n",
    "\n",
    "The `'bipartite'` keyword is part of a `node's metadata dictionary`, and can be assigned both when you add a node and after the node is added. Remember, though, that by definition, in a **bipartite graph**, `a node cannot be connected to another node in the same partition`.\n",
    "\n",
    "Here, you're going to write a function that returns the nodes from a given partition in a **bipartite graph**. In this case, the relevant partitions of the Github bipartite graph you'll be working with are 'projects' and 'users'.\n",
    "\n",
    "- Write a function called `get_nodes_from_partition()` which accepts two arguments - a bipartite graph G and a partition of G - and returns just the nodes from that partition.\n",
    "    - Iterate over all the nodes of G (not including the metadata) using a for loop.\n",
    "    - Access the `'bipartite'` keyword of the current node's metadata dictionary. If it equals partition, append the current node to the list nodes.\n",
    "- Use your `get_nodes_from_partition()` function together with the `len()` function to:\n",
    "    - Print the number of nodes in the 'projects' partition of G.\n",
    "    - Print the number of nodes in the 'users' partition of G."
   ]
  },
  {
   "cell_type": "code",
   "execution_count": 15,
   "metadata": {},
   "outputs": [],
   "source": [
    "# Define get_nodes_from_partition()\n",
    "def get_nodes_from_partition(G, partition):\n",
    "    # Initialize an empty list for nodes to be returned\n",
    "    nodes = []\n",
    "    # Iterate over each node in the graph G\n",
    "    for n in G.nodes():\n",
    "        # Check that the node belongs to the particular partition\n",
    "        if G.node[n]['bipartite'] == partition:\n",
    "            # If so, append it to the list of nodes\n",
    "            nodes.append(n)\n",
    "    return nodes"
   ]
  },
  {
   "cell_type": "code",
   "execution_count": 16,
   "metadata": {},
   "outputs": [
    {
     "name": "stdout",
     "output_type": "stream",
     "text": [
      "11774\n",
      "10677\n"
     ]
    }
   ],
   "source": [
    "# Print the number of nodes in the 'projects' partition\n",
    "print(len(get_nodes_from_partition(G, 'projects')))\n",
    "\n",
    "# Print the number of nodes in the 'users' partition\n",
    "print(len(get_nodes_from_partition(G, 'users')))"
   ]
  },
  {
   "cell_type": "markdown",
   "metadata": {},
   "source": [
    "## Degree centrality distribution of user nodes\n",
    "\n",
    "In this exercise and the next one, you're going to do a final recap of material from the previous course. Your task is to plot the **degree centrality distributions** for each node partition in the **bipartite** version of the GitHub collaboration network. Here, you'll do this for the `'users'` partition. In the next exercise, you'll do this for the `'projects'` partition.\n",
    "\n",
    "The function you wrote before, `get_nodes_from_partition()`, has been loaded for you. Just to remind you, the **\"degree centrality\"** `is a measure of node importance`, and the **\"degree centrality distribution\"** `is the list of degree centrality scores for all nodes in the graph`.\n",
    "\n",
    "- Import matplotlib.pyplot as plt.\n",
    "- Use your `get_nodes_from_partition()` function from the previous exercise to get a list called user_nodes corresponding to the 'users' nodes of G.\n",
    "- Using the `nx.degree_centrality()` function, compute the degree centralities for each node in G. Store the result as `dcs`.\n",
    "- Use a list comprehension to compute the degree centralities for each node in `user_nodes`. Store the result as `user_dcs`.\n",
    "    - Remember, `dcs` is a dictionary, in which the keys are the nodes. The relevant nodes here are contained in `user_nodes`. How can you use this information to obtain the degree centralities of the user nodes? Use n as your iterator variable.\n",
    "- Plot a histogram of the degree distribution of users, using `plt.hist()` and `user_dcs`."
   ]
  },
  {
   "cell_type": "code",
   "execution_count": 17,
   "metadata": {},
   "outputs": [],
   "source": [
    "# Get the 'users' nodes: user_nodes\n",
    "user_nodes = get_nodes_from_partition(G, 'users')\n",
    "\n",
    "# Compute the degree centralities: dcs\n",
    "dcs = nx.degree_centrality(G)"
   ]
  },
  {
   "cell_type": "code",
   "execution_count": 20,
   "metadata": {},
   "outputs": [
    {
     "data": {
      "text/plain": [
       "['u10002',\n",
       " 'u21097',\n",
       " 'u24070',\n",
       " 'u31908',\n",
       " 'u3885',\n",
       " 'u5520',\n",
       " 'u19224',\n",
       " 'u16890',\n",
       " 'u8121',\n",
       " 'u753']"
      ]
     },
     "execution_count": 20,
     "metadata": {},
     "output_type": "execute_result"
    }
   ],
   "source": [
    "user_nodes[:10]"
   ]
  },
  {
   "cell_type": "code",
   "execution_count": 23,
   "metadata": {},
   "outputs": [
    {
     "data": {
      "text/plain": [
       "{'u10002': 4.4543429844097995e-05, 'u21097': 4.4543429844097995e-05}"
      ]
     },
     "execution_count": 23,
     "metadata": {},
     "output_type": "execute_result"
    }
   ],
   "source": [
    "dict(list(dcs.items())[0:2])"
   ]
  },
  {
   "cell_type": "code",
   "execution_count": 24,
   "metadata": {},
   "outputs": [],
   "source": [
    "# Get the degree centralities for user_nodes: user_dcs\n",
    "user_dcs = [dcs[n] for n in user_nodes]"
   ]
  },
  {
   "cell_type": "code",
   "execution_count": 26,
   "metadata": {},
   "outputs": [
    {
     "data": {
      "text/plain": [
       "[4.4543429844097995e-05,\n",
       " 4.4543429844097995e-05,\n",
       " 8.908685968819599e-05,\n",
       " 4.4543429844097995e-05,\n",
       " 0.00017817371937639198,\n",
       " 0.00013363028953229398,\n",
       " 4.4543429844097995e-05,\n",
       " 4.4543429844097995e-05,\n",
       " 4.4543429844097995e-05,\n",
       " 4.4543429844097995e-05]"
      ]
     },
     "execution_count": 26,
     "metadata": {},
     "output_type": "execute_result"
    }
   ],
   "source": [
    "user_dcs[:10]"
   ]
  },
  {
   "cell_type": "code",
   "execution_count": 29,
   "metadata": {},
   "outputs": [
    {
     "data": {
      "image/png": "[encoded data removed]",
      "text/plain": [
       "<Figure size 432x288 with 1 Axes>"
      ]
     },
     "metadata": {
      "needs_background": "light"
     },
     "output_type": "display_data"
    }
   ],
   "source": [
    "# Plot the degree distribution of users_dcs\n",
    "plt.yscale('log')\n",
    "plt.hist(user_dcs, bins=20)\n",
    "plt.show();"
   ]
  },
  {
   "cell_type": "markdown",
   "metadata": {},
   "source": [
    "## Degree centrality distribution of project nodes\n",
    "\n",
    "Now it's time to plot the **degree cenrality distribution** for the 'projects' partition of G. The steps to do this are exactly the same as in the previous exercise."
   ]
  },
  {
   "cell_type": "code",
   "execution_count": 32,
   "metadata": {},
   "outputs": [
    {
     "data": {
      "image/png": "[encoded data removed]",
      "text/plain": [
       "<Figure size 432x288 with 1 Axes>"
      ]
     },
     "metadata": {
      "needs_background": "light"
     },
     "output_type": "display_data"
    }
   ],
   "source": [
    "project_nodes = get_nodes_from_partition(G, 'projects')\n",
    "project_dcs = [dcs[n] for n in project_nodes]\n",
    "plt.yscale('log')\n",
    "plt.hist(project_dcs, bins=20)\n",
    "plt.show();"
   ]
  },
  {
   "cell_type": "markdown",
   "metadata": {},
   "source": [
    "## Bipartite graphs and recommendation systems\n",
    "\n",
    "<img src=\"images/graphs207.png\" alt=\"\" style=\"width: 400px;\"/>\n"
   ]
  },
  {
   "cell_type": "markdown",
   "metadata": {},
   "source": [
    "## Shared nodes in other partition\n",
    "\n",
    "In order to build up your concept of **recommendation systems**, we are going to start with the fundamentals. The focus here is on `computing user similarity in bipartite graphs`.\n",
    "\n",
    "Your job is to write a function that takes in two nodes, and returns the set of repository nodes that are shared between the two user nodes.\n",
    "\n",
    "You'll find the following methods and functions helpful in this exercise - `.neighbors()`, `set()`, and `.intersection()` - besides, of course, the `shared_partition_nodes` function that you will define!\n",
    "\n",
    "- Write a function called `shared_partition_nodes()` that takes in 3 arguments - a graph G, node1, and node2 - and returns the set of nodes that are shared between node1 and node2.\n",
    "    - Check that node1 and node2 belong to the same partition using an assert statement and the 'bipartite' keyword.\n",
    "    - Obtain the neighbors of node1 and store them as nbrs1.\n",
    "    - Obtain the neighbors of node2 and store them as nbrs2.\n",
    "- Compute the overlap between nbrs1 and nbrs2 using the set `.intersection()` method.\n",
    "- Print the number of shared repositories between users 'u7909' and 'u2148' using your shared_partition_nodes() function together with the len() function."
   ]
  },
  {
   "cell_type": "code",
   "execution_count": 33,
   "metadata": {},
   "outputs": [],
   "source": [
    "def shared_partition_nodes(G, node1, node2):\n",
    "    # Check that the nodes belong to the same partition\n",
    "    assert G.node[node1]['bipartite'] == G.node[node2]['bipartite']\n",
    "\n",
    "    # Get neighbors of node 1: nbrs1\n",
    "    nbrs1 = G.neighbors(node1)\n",
    "    # Get neighbors of node 2: nbrs2\n",
    "    nbrs2 = G.neighbors(node2)\n",
    "\n",
    "    # Compute the overlap using set intersections\n",
    "    overlap = set(nbrs1).intersection(nbrs2)\n",
    "    return overlap"
   ]
  },
  {
   "cell_type": "code",
   "execution_count": 34,
   "metadata": {},
   "outputs": [
    {
     "name": "stdout",
     "output_type": "stream",
     "text": [
      "3\n"
     ]
    }
   ],
   "source": [
    "# Print the number of shared repositories between users 'u7909' and 'u2148'\n",
    "print(len(shared_partition_nodes(G, 'u7909', 'u2148')))"
   ]
  },
  {
   "cell_type": "markdown",
   "metadata": {},
   "source": [
    "## User similarity metric\n",
    "\n",
    "Having written a function to calculate the set of nodes that are shared between two nodes, you're now going to `write a function to compute a metric of similarity between two users`: the number of projects shared between two users divided by the total number of nodes in the other partition. This can then be used to find users that are similar to one another.\n",
    "\n",
    "- Complete the `user_similarity()` function to calculate the similarity between user1 and user2.\n",
    "    - Use assert statements to check that user1 and user2 belong to the 'users' partition.\n",
    "    - Use your `shared_partition_nodes()` function from the previous exercise to get the set of nodes shared between the two users user1 and user2.\n",
    "    - Return the fraction of nodes in the projects partition. That is, divide the number of shared_nodes by the total number of nodes in the 'projects' partition.\n",
    "- Compute the similarity score between users 'u4560' and 'u1880'. To do this:\n",
    "    - First obtain the nodes in the 'projects' partition using your `get_nodes_from_partition()` function.\n",
    "    - Then use your `user_similarity()` function to compute the score."
   ]
  },
  {
   "cell_type": "code",
   "execution_count": 35,
   "metadata": {},
   "outputs": [],
   "source": [
    "def user_similarity(G, user1, user2, proj_nodes):\n",
    "    # Check that the nodes belong to the 'users' partition\n",
    "    assert G.node[user1]['bipartite'] == 'users'\n",
    "    assert G.node[user2]['bipartite'] == 'users'\n",
    "\n",
    "    # Get the set of nodes shared between the two users\n",
    "    shared_nodes = shared_partition_nodes(G, user1, user2)\n",
    "\n",
    "    # Return the fraction of nodes in the projects partition\n",
    "    return len(shared_nodes) / len(proj_nodes)"
   ]
  },
  {
   "cell_type": "code",
   "execution_count": 36,
   "metadata": {},
   "outputs": [
    {
     "name": "stdout",
     "output_type": "stream",
     "text": [
      "0.0\n"
     ]
    }
   ],
   "source": [
    "# Compute the similarity score between users 'u4560' and 'u1880'\n",
    "project_nodes = get_nodes_from_partition(G, 'projects')\n",
    "similarity_score = user_similarity(G, 'u4560', 'u1880', project_nodes)\n",
    "\n",
    "print(similarity_score)"
   ]
  },
  {
   "cell_type": "markdown",
   "metadata": {},
   "source": [
    "It looks like these two users are not very similar!"
   ]
  },
  {
   "cell_type": "markdown",
   "metadata": {},
   "source": [
    "## Find similar users\n",
    "\n",
    "You're now going to build upon what you've learned so far to write a function called `most_similar_users()` that finds the users most similar to another given user.\n",
    "\n",
    "The beginnings of this function have been written for you. A list of nodes, `user_nodes` has been created, which contains all of the users except the given user that has been passed into the function. Your task is to complete the function such that it finds the users most similar to this given user. You'll make use of your `user_similarity()` function from the previous exercise to help do this.\n",
    "\n",
    "A dictionary called `similarities` has been setup, in which the keys are the scores and the list of values are the nodes.\n",
    "\n",
    "- Iterate over user_nodes and compute the similarity between user and each user_node (n) using your user_similarity() function. Store the result as similarity.\n",
    "- Append the score and node to the similarities dictionary. The key is the score - similarity - and the value is the node - n.\n",
    "- Compute the maximum similarity score. To do this, first access the keys (which contain the scores) of similarities using the .keys() method and then use the max() function. Store the result as max_similarity.\n",
    "- Return the list of users that share maximal similarity. This list of users is the value of the max_similarity key of similarities.\n",
    "- Use your most_similar_users() function to print the list of users most similar to the user 'u4560'."
   ]
  },
  {
   "cell_type": "code",
   "execution_count": 48,
   "metadata": {},
   "outputs": [],
   "source": [
    "from collections import defaultdict\n",
    "\n",
    "def most_similar_users(G, user, user_nodes, proj_nodes):\n",
    "    # Data checks\n",
    "    assert G.node[user]['bipartite'] == 'users'\n",
    "\n",
    "    # Get other nodes from user partition\n",
    "    user_nodes = set(user_nodes)\n",
    "    user_nodes.remove(user)\n",
    "    \n",
    "    #print(len(user_nodes))\n",
    "\n",
    "    # Create the dictionary: similarities\n",
    "    similarities = defaultdict(list)\n",
    "    for n in user_nodes:\n",
    "        similarity = user_similarity(G, user, n, proj_nodes)\n",
    "        similarities[similarity].append(n)\n",
    "        \n",
    "        #print(similarity)\n",
    "\n",
    "    # Compute maximum similarity score: max_similarity\n",
    "    max_similarity = max(similarities.keys())\n",
    "\n",
    "    # Return list of users that share maximal similarity\n",
    "    return similarities[max_similarity], similarities"
   ]
  },
  {
   "cell_type": "code",
   "execution_count": 44,
   "metadata": {},
   "outputs": [
    {
     "name": "stdout",
     "output_type": "stream",
     "text": [
      "10676\n",
      "['u9525', 'u1570', 'u53', 'u363', 'u14984', 'u2800']\n"
     ]
    }
   ],
   "source": [
    "user_nodes = get_nodes_from_partition(G, 'users')\n",
    "project_nodes = get_nodes_from_partition(G, 'projects')\n",
    "\n",
    "similar_users, similarities = most_similar_users(G, 'u4560', user_nodes, project_nodes)\n",
    "\n",
    "print(similar_users)"
   ]
  },
  {
   "cell_type": "code",
   "execution_count": 46,
   "metadata": {},
   "outputs": [
    {
     "data": {
      "text/plain": [
       "dict_keys([0.0, 8.493290300662476e-05])"
      ]
     },
     "execution_count": 46,
     "metadata": {},
     "output_type": "execute_result"
    }
   ],
   "source": [
    "similarities.keys()"
   ]
  },
  {
   "cell_type": "code",
   "execution_count": 47,
   "metadata": {},
   "outputs": [
    {
     "data": {
      "text/plain": [
       "['u9525', 'u1570', 'u53', 'u363', 'u14984', 'u2800']"
      ]
     },
     "execution_count": 47,
     "metadata": {},
     "output_type": "execute_result"
    }
   ],
   "source": [
    "similarities[8.493290300662476e-05]"
   ]
  },
  {
   "cell_type": "code",
   "execution_count": null,
   "metadata": {},
   "outputs": [],
   "source": []
  },
  {
   "cell_type": "code",
   "execution_count": null,
   "metadata": {},
   "outputs": [],
   "source": []
  },
  {
   "cell_type": "code",
   "execution_count": null,
   "metadata": {},
   "outputs": [],
   "source": []
  },
  {
   "cell_type": "code",
   "execution_count": null,
   "metadata": {},
   "outputs": [],
   "source": []
  },
  {
   "cell_type": "code",
   "execution_count": null,
   "metadata": {},
   "outputs": [],
   "source": []
  },
  {
   "cell_type": "code",
   "execution_count": null,
   "metadata": {},
   "outputs": [],
   "source": []
  },
  {
   "cell_type": "code",
   "execution_count": null,
   "metadata": {},
   "outputs": [],
   "source": []
  },
  {
   "cell_type": "code",
   "execution_count": null,
   "metadata": {},
   "outputs": [],
   "source": []
  },
  {
   "cell_type": "code",
   "execution_count": null,
   "metadata": {},
   "outputs": [],
   "source": []
  },
  {
   "cell_type": "code",
   "execution_count": null,
   "metadata": {},
   "outputs": [],
   "source": []
  },
  {
   "cell_type": "code",
   "execution_count": null,
   "metadata": {},
   "outputs": [],
   "source": []
  },
  {
   "cell_type": "code",
   "execution_count": null,
   "metadata": {},
   "outputs": [],
   "source": []
  },
  {
   "cell_type": "code",
   "execution_count": null,
   "metadata": {},
   "outputs": [],
   "source": []
  },
  {
   "cell_type": "code",
   "execution_count": null,
   "metadata": {},
   "outputs": [],
   "source": []
  }
 ],
 "metadata": {
  "kernelspec": {
   "display_name": "Python 3",
   "language": "python",
   "name": "python3"
  },
  "language_info": {
   "codemirror_mode": {
    "name": "ipython",
    "version": 3
   },
   "file_extension": ".py",
   "mimetype": "text/x-python",
   "name": "python",
   "nbconvert_exporter": "python",
   "pygments_lexer": "ipython3",
   "version": "3.7.1"
  }
 },
 "nbformat": 4,
 "nbformat_minor": 2
}

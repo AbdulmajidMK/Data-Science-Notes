{
 "cells": [
  {
   "cell_type": "markdown",
   "metadata": {},
   "source": [
    "# Unix Shell for Data Science\n",
    "\n",
    "The Unix command line has survived and thrived for almost 50 years because it lets people do complex things with just a few keystrokes. Sometimes called \"the universal glue of programming,\" it helps users combine existing programs in new ways, automate repetitive tasks, and run programs on clusters and clouds that may be halfway around the world. This notebook will introduce its key elements and show you how to use them efficiently."
   ]
  },
  {
   "cell_type": "markdown",
   "metadata": {},
   "source": [
    "## How does the shell compare to a desktop interface?\n",
    "\n",
    "An operating system like Windows, Linux, or Mac OS is a special kind of program. It controls the computer's processor, hard drive, and network connection, but its most important job is to run other programs.\n",
    "\n",
    "Since human beings aren't digital, they need an interface to interact with the operating system. The most common one these days is a graphical file explorer, which translates clicks and double-clicks into commands to open files and run programs. Before computers had graphical displays, though, people typed instructions into a program called a command-line shell. Each time a command is entered, the shell runs some other programs, prints their output in human-readable form, and then displays a prompt to signal that it's ready to accept the next command. (Its name comes from the notion that it's the \"outer shell\" of the computer.)\n",
    "\n",
    "Typing commands instead of clicking and dragging may seem clumsy at first, but as you will see, once you start spelling out what you want the computer to do, you can combine old commands to create new ones and automate repetitive operations with just a few keystrokes."
   ]
  },
  {
   "cell_type": "markdown",
   "metadata": {},
   "source": [
    "## Where am I?\n",
    "\n",
    "The filesystem manages files and directories (or folders). Each is identified by an **absolute path** that shows how to reach it from the filesystem's root directory: /home/repl is the directory repl in the directory home, while /home/repl/course.txt is a file course.txt in that directory, and / on its own is the root directory.\n",
    "\n",
    "To find out where you are in the filesystem, run the command `pwd` (short for \"print working directory\"). This prints the absolute path of your current working directory, which is where the shell runs commands and looks for files by default."
   ]
  },
  {
   "cell_type": "raw",
   "metadata": {},
   "source": [
    "$ pwd\n",
    "/home/repl"
   ]
  },
  {
   "cell_type": "markdown",
   "metadata": {},
   "source": [
    "## How can I identify files and directories?\n",
    "\n",
    "`pwd` tells you where you are. To find out what's there, type `ls` (which is short for \"listing\") and press the enter key. On its own, ls lists the contents of your current directory (the one displayed by pwd). If you add the names of some files, `ls` will list them, and if you add the names of directories, it will list their contents. For example, `ls /home/repl` shows you what's in your starting directory (usually called your home directory)."
   ]
  },
  {
   "cell_type": "raw",
   "metadata": {},
   "source": [
    "$ ls /home/repl/seasonal\n",
    "autumn.csv  spring.csv  summer.csv  winter.csv"
   ]
  },
  {
   "cell_type": "markdown",
   "metadata": {},
   "source": [
    "## How else can I identify files and directories?\n",
    "\n",
    "An **absolute path** is like a latitude and longitude: it has the same value no matter where you are. A **relative path**, on the other hand, specifies a location starting from where you are: it's like saying \"20 kilometers north\".\n",
    "\n",
    "For example, if you are in the directory /home/repl, the relative path seasonal specifies the same directory as /home/repl/seasonal, while seasonal/winter.csv specifies the same file as /home/repl/seasonal/winter.csv. The shell decides if a path is absolute or relative by looking at its first character: if it begins with `/`, it is absolute, and if it doesn't, it is relative."
   ]
  },
  {
   "cell_type": "raw",
   "metadata": {},
   "source": [
    "$ pwd\n",
    "/home/repl\n",
    "$ cd seasonal\n",
    "$ pwd\n",
    "/home/repl/seasonal"
   ]
  },
  {
   "cell_type": "markdown",
   "metadata": {},
   "source": [
    "## How can I move to another directory?\n",
    "\n",
    "Just as you can move around in a file browser by double-clicking on folders, you can move around in the filesystem using the command `cd` (which stands for \"change directory\").\n",
    "\n",
    "If you type cd seasonal and then type `pwd`, the shell will tell you that you are now in /home/repl/seasonal. If you then run `ls` on its own, it shows you the contents of /home/repl/seasonal, because that's where you are. If you want to get back to your home directory /home/repl, you can use the command `cd` /home/repl."
   ]
  },
  {
   "cell_type": "raw",
   "metadata": {},
   "source": [
    "$ cd seasonal\n",
    "$ pwd\n",
    "/home/repl/seasonal\n",
    "$ ls\n",
    "autumn.csv  spring.csv  summer.csv  winter.csv"
   ]
  },
  {
   "cell_type": "markdown",
   "metadata": {},
   "source": [
    "## How can I move up a directory?\n",
    "\n",
    "The parent of a directory is the directory above it. For example, /home is the parent of /home/repl, and /home/repl is the parent of /home/repl/seasonal. You can always give the absolute path of your parent directory to commands like cd and ls. More often, though, you will take advantage of the fact that the special path `..` (two dots with no spaces) means \"the directory above the one I'm currently in\". If you are in /home/repl/seasonal, then `cd ..` moves you up to /home/repl. If you use `cd ..` once again, it puts you in /home. One more `cd ..` puts you in the root directory `/`, which is the very top of the filesystem. (Remember to put a space between cd and .. - it is a command and a path, not a single four-letter command.)\n",
    "\n",
    "A single dot on its own, `.`, always means \"the current directory\", so ls on its own and `ls .` do the same thing, while `cd .` has no effect (because it moves you into the directory you're currently in).\n",
    "\n",
    "One final special path is `~` (the tilde character), which means \"your home directory\", such as /home/repl. No matter where you are, `ls ~` will always list the contents of your home directory, and `cd ~` will always take you home."
   ]
  },
  {
   "cell_type": "markdown",
   "metadata": {},
   "source": [
    "## How can I copy files?\n",
    "\n",
    "You will often want to copy files, move them into other directories to organize them, or rename them. One command to do this is `cp`, which is short for \"copy\". If original.txt is an existing file, then:"
   ]
  },
  {
   "cell_type": "raw",
   "metadata": {},
   "source": [
    "cp original.txt duplicate.txt"
   ]
  },
  {
   "cell_type": "markdown",
   "metadata": {},
   "source": [
    "creates a copy of original.txt called duplicate.txt. If there already was a file called duplicate.txt, it is overwritten. If the last parameter to cp is an existing directory, then a command like:"
   ]
  },
  {
   "cell_type": "raw",
   "metadata": {},
   "source": [
    "cp seasonal/autumn.csv seasonal/winter.csv backup"
   ]
  },
  {
   "cell_type": "markdown",
   "metadata": {},
   "source": [
    "copies all of the files into that directory."
   ]
  },
  {
   "cell_type": "markdown",
   "metadata": {},
   "source": [
    "## How can I move a file?\n",
    "\n",
    "While `cp` copies a file, `mv` moves it from one directory to another, just as if you had dragged it in a graphical file browser. It handles its parameters the same way as cp, so the command:"
   ]
  },
  {
   "cell_type": "raw",
   "metadata": {},
   "source": [
    "mv autumn.csv winter.csv .."
   ]
  },
  {
   "cell_type": "markdown",
   "metadata": {},
   "source": [
    "moves the files autumn.csv and winter.csv from the current working directory up one level to its parent directory (because .. always refers to the directory above your current location).\n",
    "\n",
    "- You are in /home/repl, which has sub-directories seasonal and backup. Using a single command, move spring.csv and summer.csv from seasonal to backup."
   ]
  },
  {
   "cell_type": "raw",
   "metadata": {},
   "source": [
    "$ mv seasonal/spring.csv seasonal/summer.csv backup"
   ]
  },
  {
   "cell_type": "markdown",
   "metadata": {},
   "source": [
    "## How can I rename files?\n",
    "\n",
    "`mv` can also be used to rename files. If you run:"
   ]
  },
  {
   "cell_type": "raw",
   "metadata": {},
   "source": [
    "mv course.txt old-course.txt"
   ]
  },
  {
   "cell_type": "markdown",
   "metadata": {},
   "source": [
    "then the file course.txt in the current working directory is \"moved\" to the file old-course.txt. This is different from the way file browsers work, but is often handy.\n",
    "\n",
    "**One warning:** just like `cp`, `mv` will **overwrite existing files**. If, for example, you already have a file called old-course.txt, then the command shown above will replace it with whatever is in course.txt."
   ]
  },
  {
   "cell_type": "raw",
   "metadata": {},
   "source": [
    "$ cd seasonal\n",
    "$ ls\n",
    "autumn.csv  spring.csv  summer.csv  winter.csv\n",
    "$ mv winter.csv winter.csv.bck\n",
    "$ ls\n",
    "autumn.csv  spring.csv  summer.csv  winter.csv.bck"
   ]
  },
  {
   "cell_type": "markdown",
   "metadata": {},
   "source": [
    "## How can I delete files?\n",
    "\n",
    "We can copy files and move them around; to delete them, we use `rm,` which stands for \"remove\". As with `cp` and `mv`, you can give `rm` the names of as many files as you'd like, so:"
   ]
  },
  {
   "cell_type": "raw",
   "metadata": {},
   "source": [
    "rm thesis.txt backup/thesis-2017-08.txt"
   ]
  },
  {
   "cell_type": "markdown",
   "metadata": {},
   "source": [
    "removes both thesis.txt and backup/thesis-2017-08.txt\n",
    "\n",
    "`rm` does exactly what its name says, and it does it right away: unlike graphical file browsers, the shell doesn't have a trash can, so when you type the command above, your thesis is gone for good."
   ]
  },
  {
   "cell_type": "markdown",
   "metadata": {},
   "source": [
    "## How can I create and delete directories?\n",
    "\n",
    "`mv` treats directories the same way it treats files: if you are in your home directory and run `mv seasonal by-season`, for example, mv changes the name of the seasonal directory to by-season. However, `rm` works differently.\n",
    "\n",
    "If you try to `rm` a directory, the shell prints an error message telling you it can't do that, primarily to stop you from accidentally deleting an entire directory full of work. Instead, you can use a separate command called `rmdir`. For added safety, it only works when the directory is empty, so you must delete the files in a directory before you delete the directory. (Experienced users can use the `-r` option to `rm` to get the same effect.)\n",
    "\n",
    "Since a directory is not a file, you must use the command `mkdir` directory_name to create a new (empty) directory. Use this command to create a new directory called yearly below your home directory."
   ]
  },
  {
   "cell_type": "raw",
   "metadata": {},
   "source": [
    "$ rm people/agarwal.txt\n",
    "$ rmdir people\n",
    "$ mkdir yearly\n",
    "$ mkdir yearly/2017"
   ]
  },
  {
   "cell_type": "markdown",
   "metadata": {},
   "source": [
    "## How can I view a file's contents?\n",
    "\n",
    "Before you rename or delete files, you may want to have a look at their contents. The simplest way to do this is with `cat`, which just prints the contents of files onto the screen. (Its name is short for \"concatenate\", meaning \"to link things together\", since it will print all the files whose names you give it, one after the other.)"
   ]
  },
  {
   "cell_type": "raw",
   "metadata": {},
   "source": [
    "$ cat agarwal.txt\n",
    "name: Agarwal, Jasmine\n",
    "position: RCT2\n",
    "start: 2017-04-01\n",
    "benefits: full"
   ]
  },
  {
   "cell_type": "markdown",
   "metadata": {},
   "source": [
    "## How can I view a file's contents piece by piece?\n",
    "\n",
    "You can use `cat` to print large files and then scroll through the output, but it is usually more convenient to page the output. The original command for doing this was called `more`, but it has been superseded by a more powerful command called `less`. (This kind of naming is what passes for humor in the Unix world.) When you `less` a file, one page is displayed at a time; you can press `spacebar` to page down or type `q` to quit.\n",
    "\n",
    "If you give `less` the names of several files, you can type `:n` (colon and a lower-case 'n') to move to the next file, `:p` to go back to the previous one, or `:q` to quit."
   ]
  },
  {
   "cell_type": "raw",
   "metadata": {},
   "source": [
    "less seasonal/spring.csv seasonal/summer.csv"
   ]
  },
  {
   "cell_type": "markdown",
   "metadata": {},
   "source": [
    "## How can I look at the start of a file?\n",
    "\n",
    "The first thing most data scientists do when given a new dataset to analyze is figure out what fields it contains and what values those fields have. If the dataset has been exported from a database or spreadsheet, it will often be stored as comma-separated values (CSV). A quick way to figure out what it contains is to look at the first few rows.\n",
    "\n",
    "We can do this in the shell using a command called `head`. As its name suggests, it prints the first few lines of a file (where \"a few\" means 10), so the command below displays:"
   ]
  },
  {
   "cell_type": "raw",
   "metadata": {},
   "source": [
    "$ head seasonal/summer.csv\n",
    "\n",
    "Date,Tooth\n",
    "2017-01-11,canine\n",
    "2017-01-18,wisdom\n",
    "2017-01-21,bicuspid\n",
    "2017-02-02,molar\n",
    "2017-02-27,wisdom\n",
    "2017-02-27,wisdom\n",
    "2017-03-07,bicuspid\n",
    "2017-03-15,wisdom\n",
    "2017-03-20,canine"
   ]
  },
  {
   "cell_type": "markdown",
   "metadata": {},
   "source": [
    "What does `head` do if there aren't 10 lines in the file? (To find out, use it to look at the top of people/agarwal.txt.)"
   ]
  },
  {
   "cell_type": "raw",
   "metadata": {},
   "source": [
    "$ head people/agarwal.txt\n",
    "name: Agarwal, Jasmine\n",
    "position: RCT2start: 2017-04-01\n",
    "benefits: full"
   ]
  },
  {
   "cell_type": "markdown",
   "metadata": {},
   "source": [
    "## How can I type less?\n",
    "\n",
    "One of the shell's power tools is **tab completion**. If you start typing the name of a file and then press the `tab key`, the shell will do its best to auto-complete the path. For example, if you type sea and press tab, it will fill in the directory name seasonal/ (with a trailing slash). If you then type a and tab, it will complete the path as seasonal/autumn.csv.\n",
    "\n",
    "If the path is ambiguous, such as seasonal/s, pressing tab a second time will display a list of possibilities. Typing another character or two to make your path more specific and then pressing tab will fill in the rest of the name."
   ]
  },
  {
   "cell_type": "markdown",
   "metadata": {},
   "source": [
    "## How can I control what commands do?\n",
    "\n",
    "You won't always want to look at the first 10 lines of a file, so the shell lets you change head's behavior by giving it a **command-line flag** (or just \"flag\" for short). If you run the command:"
   ]
  },
  {
   "cell_type": "raw",
   "metadata": {},
   "source": [
    "head -n 3 seasonal/summer.csv"
   ]
  },
  {
   "cell_type": "markdown",
   "metadata": {},
   "source": [
    "`head` will only display the first three lines of the file. If you run `head -n 100`, it will display the first 100 (assuming there are that many), and so on.\n",
    "\n",
    "A flag's name usually indicates its purpose (for example, -n is meant to signal \"number of lines\"). Command flags don't have to be a - followed by a single letter, but it's a widely-used convention.\n",
    "\n",
    "**Note:** it's considered good style to put all flags before any filenames."
   ]
  },
  {
   "cell_type": "raw",
   "metadata": {},
   "source": [
    "$ head -n 5 seasonal/winter.csv\n",
    "Date,Tooth\n",
    "2017-01-03,bicuspid2017-01-05,incisor\n",
    "2017-01-21,wisdom\n",
    "2017-02-05,molar"
   ]
  },
  {
   "cell_type": "markdown",
   "metadata": {},
   "source": [
    "## How can I list everything below a directory?\n",
    "\n",
    "In order to see everything underneath a directory, no matter how deeply nested it is, you can give ls the flag `-R` (which means \"recursive\"). If you use `ls -R` in your home directory, you will see something like this:"
   ]
  },
  {
   "cell_type": "raw",
   "metadata": {},
   "source": [
    "backup          course.txt      people          seasonal\n",
    "\n",
    "./backup:\n",
    "\n",
    "./people:\n",
    "agarwal.txt\n",
    "\n",
    "./seasonal:\n",
    "autumn.csv      spring.csv      summer.csv      winter.csv"
   ]
  },
  {
   "cell_type": "markdown",
   "metadata": {},
   "source": [
    "This shows every file and directory in the current level, then everything in each sub-directory, and so on.\n",
    "\n",
    "`ls` has another flag `-F` that prints a `/` after the name of every directory and a `*` after the name of every runnable program. Run ls with the two flags, -R and -F, and the absolute path to your home directory to see everything it contains. (The order of the flags doesn't matter, but the directory name must come last.)"
   ]
  },
  {
   "cell_type": "raw",
   "metadata": {},
   "source": [
    "$ ls -R -F ~\n",
    "/home/repl:\n",
    "backup/  bin/  course.txt  people/  seasonal/\n",
    "\n",
    "/home/repl/backup:\n",
    "\n",
    "/home/repl/bin:\n",
    "\n",
    "/home/repl/people:\n",
    "agarwal.txt\n",
    "\n",
    "/home/repl/seasonal:\n",
    "autumn.csv  spring.csv  summer.csv  winter.csv"
   ]
  },
  {
   "cell_type": "markdown",
   "metadata": {},
   "source": [
    "## How can I get help for a command?\n",
    "\n",
    "To find out what commands do, people used to use the `man` command (short for \"manual\"). For example, the command man head brings up this information:"
   ]
  },
  {
   "cell_type": "raw",
   "metadata": {},
   "source": [
    "HEAD(1)               BSD General Commands Manual              HEAD(1)\n",
    "\n",
    "NAME\n",
    "     head -- display first lines of a file\n",
    "\n",
    "SYNOPSIS\n",
    "     head [-n count | -c bytes] [file ...]\n",
    "\n",
    "DESCRIPTION\n",
    "     This filter displays the first count lines or bytes of each of\n",
    "     the specified files, or of the standard input if no files are\n",
    "     specified.  If count is omitted it defaults to 10.\n",
    "\n",
    "     If more than a single file is specified, each file is preceded by\n",
    "     a header consisting of the string ``==> XXX <=='' where ``XXX''\n",
    "     is the name of the file.\n",
    "\n",
    "SEE ALSO\n",
    "     tail(1)"
   ]
  },
  {
   "cell_type": "markdown",
   "metadata": {},
   "source": [
    "`man` automatically invokes `less`, so you may need to press `spacebar` to page through the information and `:q` to quit.\n",
    "\n",
    "The one-line description under `NAME` tells you briefly what the command does, and the summary under `SYNOPSIS` lists all the flags it understands. Anything that is optional is shown in square brackets `[...]`, either/or alternatives are separated by `|`, and things that can be repeated are shown by `...`, so head's manual page is telling you that you can either give a line count with -n or a byte count with -c, and that you can give it any number of filenames.\n",
    "\n",
    "The problem with the Unix manual is that you have to know what you're looking for. If you don't, you can search Stack Overflow, or look at the `SEE ALSO` sections of the commands you already know.\n",
    "\n",
    "- Use tail with the flag -n +7 to display all but the first six lines of seasonal/spring.csv."
   ]
  },
  {
   "cell_type": "raw",
   "metadata": {},
   "source": [
    "$ man tail\n",
    "$ tail -n +7 seasonal/spring.csv\n",
    "2017-03-12,wisdom2017-03-14,incisor\n",
    "2017-03-21,molar\n",
    "2017-04-29,wisdom\n",
    "2017-05-08,canine"
   ]
  },
  {
   "cell_type": "markdown",
   "metadata": {},
   "source": [
    "## How can I select columns from a file?\n",
    "\n",
    "`head` and `tail` let you select rows from a text file. If you want to select columns, you can use the command `cut`. It has several options (use man cut to explore them), but the most common is something like:"
   ]
  },
  {
   "cell_type": "raw",
   "metadata": {},
   "source": [
    "cut -f 2-5,8 -d , values.csv"
   ]
  },
  {
   "cell_type": "markdown",
   "metadata": {},
   "source": [
    "which means \"select columns 2 through 5 and columns 8, using comma as the separator\". cut uses `-f` (meaning \"fields\") to specify columns and `-d` (meaning \"delimiter\") to specify the separator. You need to specify the latter because some files may use spaces, tabs, or colons to separate columns.\n",
    "\n",
    "- What command will select the first column (containing dates) from the file spring.csv?"
   ]
  },
  {
   "cell_type": "raw",
   "metadata": {},
   "source": [
    "$ cut -d , -f 1 seasonal/spring.csv\n",
    "Date\n",
    "2017-01-252017-02-19\n",
    "2017-02-24\n",
    "\n",
    "$ cut -d, -f1 seasonal/spring.csv\n",
    "Date\n",
    "2017-01-252017-02-19\n",
    "2017-02-24"
   ]
  },
  {
   "cell_type": "markdown",
   "metadata": {},
   "source": [
    "## What can't cut do?\n",
    "\n",
    "`cut` is a simple-minded command. In particular, it doesn't understand quoted strings. If, for example, your file is:"
   ]
  },
  {
   "cell_type": "raw",
   "metadata": {},
   "source": [
    "Name,Age\n",
    "\"Johel,Ranjit\",28\n",
    "\"Sharma,Rupinder\",26\n",
    "then:"
   ]
  },
  {
   "cell_type": "markdown",
   "metadata": {},
   "source": [
    "`cut -f 2 -d , everyone.csv` will produce:"
   ]
  },
  {
   "cell_type": "raw",
   "metadata": {},
   "source": [
    "Age\n",
    "Ranjit\"\n",
    "Rupinder\""
   ]
  },
  {
   "cell_type": "markdown",
   "metadata": {},
   "source": [
    "rather than everyone's age, because it will think the comma between last and first names is a column separator."
   ]
  },
  {
   "cell_type": "markdown",
   "metadata": {},
   "source": [
    "## How can I repeat commands?\n",
    "\n",
    "One of the biggest advantages of using the shell is that it makes it easy for you to do things over again. If you run some commands, you can then **press the up-arrow key** to cycle back through them. You can also use the left and right arrow keys and the delete key to edit them. Pressing return will then run the modified command.\n",
    "\n",
    "Even better, `history` will print a list of commands you have run recently. Each one is preceded by a serial number to make it easy to re-run particular commands: just type `!55` to re-run the 55th command in your history (if you have that many). You can also re-run a command by typing an exclamation mark followed by the command's name, such as `!head` or `!cut`, which will re-run the most recent use of that command."
   ]
  },
  {
   "cell_type": "raw",
   "metadata": {},
   "source": [
    "$ head summer.csv\n",
    "head: cannot open 'summer.csv' for reading: No such file or directory\n",
    "\n",
    "$ cd seasonal\n",
    "\n",
    "$ !head\n",
    "head summer.csv\n",
    "Date,Tooth\n",
    "2017-01-11,canine\n",
    "2017-01-18,wisdom\n",
    "\n",
    "$ history\n",
    "    1  head summer.csv\n",
    "    2  cd seasonal\n",
    "    3  head summer.csv\n",
    "    4  history\n",
    "\n",
    "$ !3\n",
    "head summer.csv\n",
    "Date,Tooth\n",
    "2017-01-11,canine\n",
    "2017-01-18,wisdom"
   ]
  },
  {
   "cell_type": "markdown",
   "metadata": {},
   "source": [
    "## How can I select lines containing specific values?\n",
    "\n",
    "`head` and `tail` select rows, `cut` selects columns, and `grep` selects lines according to what they contain. In its simplest form, `grep` takes a piece of text followed by one or more filenames and prints all of the lines in those files that contain that text. For example, `grep bicuspid seasonal/winter.csv` prints lines from winter.csv that contain \"bicuspid\".\n",
    "\n",
    "`grep` can search for patterns as well. What's more important right now is some of grep's more common flags:\n",
    "- `-c`: print a count of matching lines rather than the lines themselves\n",
    "- `-h`: do not print the names of files when searching multiple files\n",
    "- `-i`: ignore case (e.g., treat \"Regression\" and \"regression\" as matches)\n",
    "- `-l`: print the names of files that contain matches, not the matches\n",
    "- `-n`: print line numbers for matching lines\n",
    "- `-v`: invert the match, i.e., only show lines that don't match"
   ]
  },
  {
   "cell_type": "markdown",
   "metadata": {},
   "source": [
    "- Print the contents of all of the lines containing the word molar in seasonal/autumn.csv by running a single command while in your home directory. Don't use any flags.\n",
    "- Invert the match to find all of the lines that don't contain the word molar in seasonal/spring.csv, and show their line numbers. Remember, **it's considered good style to put all of the flags before other values like filenames or the search term \"molar\"**.\n",
    "- Count how many lines contain the word incisor in autumn.csv and winter.csv combined. (Again, run a single command from your home directory.)"
   ]
  },
  {
   "cell_type": "raw",
   "metadata": {},
   "source": [
    "$ grep molar seasonal/autumn.csv\n",
    "2017-02-01,molar\n",
    "2017-05-25,molar\n",
    "\n",
    "$ grep -n -v  molar seasonal/spring.csv\n",
    "1:Date,Tooth\n",
    "2:2017-01-25,wisdom\n",
    "3:2017-02-19,canine\n",
    "4:2017-02-24,canine\n",
    "5:2017-02-28,wisdom\n",
    "\n",
    "$ grep -c incisor  seasonal/autumn.csv seasonal/winter.csv\n",
    "seasonal/autumn.csv:3\n",
    "seasonal/winter.csv:6"
   ]
  },
  {
   "cell_type": "markdown",
   "metadata": {},
   "source": [
    "## Why isn't it always safe to treat data as text?\n",
    "\n",
    "The `SEE ALSO` section of the manual page for `cut` refers to a command called `paste` that can be used to combine data files instead of cutting them up.\n",
    "\n",
    "Read the manual page for `paste`, and then run `paste` to combine the autumn and winter data files in a single table using a comma as a separator. What's wrong with the output from a data analysis point of view? (answer: joining the lines with columns creates only one empty column at the start, not two.)"
   ]
  },
  {
   "cell_type": "raw",
   "metadata": {},
   "source": [
    "$ paste seasonal/autumn.csv seasonal/winter.csv\n",
    "Date,Tooth      Date,Tooth\n",
    "2017-01-05,canine       2017-01-03,bicuspid\n",
    "2017-01-17,wisdom       2017-01-05,incisor\n",
    "2017-01-18,canine       2017-01-21,wisdom\n",
    "2017-02-01,molar        2017-02-05,molar\n",
    "        2017-07-17,canine\n",
    "        2017-08-10,incisor\n",
    "        2017-08-11,bicuspid\n",
    "        2017-08-11,wisdom\n",
    "        2017-08-13,canine"
   ]
  },
  {
   "cell_type": "markdown",
   "metadata": {},
   "source": [
    "## How can I store a command's output in a file?\n",
    "\n",
    "All of the tools you have seen so far let you name input files. Most don't have an option for naming an output file because they don't need one. Instead, you can use redirection to save any command's output anywhere you want. If you run this command:"
   ]
  },
  {
   "cell_type": "raw",
   "metadata": {},
   "source": [
    "head -n 5 seasonal/summer.csv"
   ]
  },
  {
   "cell_type": "markdown",
   "metadata": {},
   "source": [
    "it prints the first 5 lines of the summer data on the screen. If you run this command instead:"
   ]
  },
  {
   "cell_type": "raw",
   "metadata": {},
   "source": [
    "head -n 5 seasonal/summer.csv > top.csv"
   ]
  },
  {
   "cell_type": "markdown",
   "metadata": {},
   "source": [
    "nothing appears on the screen. Instead, head's output is put in a new file called top.csv. You can take a look at that file's contents using cat:"
   ]
  },
  {
   "cell_type": "raw",
   "metadata": {},
   "source": [
    "cat top.csv"
   ]
  },
  {
   "cell_type": "markdown",
   "metadata": {},
   "source": [
    "The greater-than sign `>` tells the shell to redirect head's output to a file. It isn't part of the head command; instead, it works with every shell command that produces output."
   ]
  },
  {
   "cell_type": "markdown",
   "metadata": {},
   "source": [
    "## How can I use a command's output as an input?\n",
    "\n",
    "Suppose you want to get lines from the middle of a file. More specifically, suppose you want to get lines 3-5 from one of our data files. You can start by using `head` to get the first 5 lines and redirect that to a file, and then use `tail` to select the last 3:"
   ]
  },
  {
   "cell_type": "raw",
   "metadata": {},
   "source": [
    "head -n 5 seasonal/winter.csv > top.csv\n",
    "tail -n 3 top.csv"
   ]
  },
  {
   "cell_type": "markdown",
   "metadata": {},
   "source": [
    "A quick check confirms that this is lines 3-5 of our original file, because it is the last 3 lines of the first 5."
   ]
  },
  {
   "cell_type": "markdown",
   "metadata": {},
   "source": [
    "## What's a better way to combine commands?\n",
    "\n",
    "Using redirection to combine commands has two drawbacks:\n",
    "\n",
    "1. It leaves a lot of intermediate files lying around (like top.csv).\n",
    "2. The commands to produce your final result are scattered across several lines of history.\n",
    "\n",
    "The shell provides another tool that solves both of these problems at once called a **pipe**. Once again, start by running head:"
   ]
  },
  {
   "cell_type": "raw",
   "metadata": {},
   "source": [
    "head -n 5 seasonal/summer.csv"
   ]
  },
  {
   "cell_type": "markdown",
   "metadata": {},
   "source": [
    "Instead of sending head's output to a file, add a vertical bar `|` and the tail command without a filename:"
   ]
  },
  {
   "cell_type": "raw",
   "metadata": {},
   "source": [
    "head -n 5 seasonal/summer.csv | tail -n 3"
   ]
  },
  {
   "cell_type": "markdown",
   "metadata": {},
   "source": [
    "The **pipe symbol** tells the shell to use the output of the command on the left as the input to the command on the right.\n",
    "\n",
    "- Use `cut` to select all of the tooth names from column 2 of the comma delimited file seasonal/summer.csv, then `pipe` the result to `grep`, with an inverted match, to exclude the header line containing the word \"Tooth\"."
   ]
  },
  {
   "cell_type": "raw",
   "metadata": {},
   "source": [
    "$ cut -d , -f 2 seasonal/summer.csv | grep -v Tooth\n",
    "canine\n",
    "wisdom\n",
    "bicuspid"
   ]
  },
  {
   "cell_type": "markdown",
   "metadata": {},
   "source": [
    "## How can I combine many commands?\n",
    "\n",
    "You can chain any number of commands together. For example, this command:"
   ]
  },
  {
   "cell_type": "raw",
   "metadata": {},
   "source": [
    "cut -d , -f 1 seasonal/spring.csv | grep -v Date | head -n 10"
   ]
  },
  {
   "cell_type": "markdown",
   "metadata": {},
   "source": [
    "will:\n",
    "\n",
    "- select the first column from the spring data;\n",
    "- remove the header line containing the word \"Date\"; and\n",
    "- select the first 10 lines of actual data."
   ]
  },
  {
   "cell_type": "markdown",
   "metadata": {},
   "source": [
    "## How can I count the records in a file?\n",
    "\n",
    "The command `wc` (short for \"word count\") prints the number of characters, words, and lines in a file. You can make it print only one of these using `-c`, `-w`, or `-l` respectively.\n",
    "\n",
    "- Count how many records in seasonal/spring.csv have dates in July 2017. To do this, use grep with a partial date to select the lines and pipe this result into wc with an appropriate flag to count the lines."
   ]
  },
  {
   "cell_type": "raw",
   "metadata": {},
   "source": [
    "$ grep 2017-07 seasonal/spring.csv | wc -l\n",
    "3"
   ]
  },
  {
   "cell_type": "markdown",
   "metadata": {},
   "source": [
    "## How can I specify many files at once?\n",
    "\n",
    "Most shell commands will work on multiple files if you give them multiple filenames. For example, you can get the first column from all of the seasonal data files at once like this:"
   ]
  },
  {
   "cell_type": "raw",
   "metadata": {},
   "source": [
    "cut -d , -f 1 seasonal/winter.csv seasonal/spring.csv seasonal/summer.csv seasonal/autumn.csv"
   ]
  },
  {
   "cell_type": "markdown",
   "metadata": {},
   "source": [
    "But typing the names of many files over and over is a bad idea: it wastes time, and sooner or later you will either leave a file out or repeat a file's name. To make your life better, the shell allows you to use **wildcards** to specify a list of files with a single expression. The most common wildcard is `*`, which means \"match zero or more characters\". Using it, we can shorten the cut command above to this:"
   ]
  },
  {
   "cell_type": "raw",
   "metadata": {},
   "source": [
    "cut -d , -f 1 seasonal/*\n",
    "\n",
    "or:\n",
    "\n",
    "cut -d , -f 1 seasonal/*.csv"
   ]
  },
  {
   "cell_type": "markdown",
   "metadata": {},
   "source": [
    "- Write a single command using head to get the first three lines from both seasonal/spring.csv and seasonal/summer.csv, a total of six lines of data, but not from the autumn or winter data files. Use a wildcard instead of spelling out the files' names in full."
   ]
  },
  {
   "cell_type": "raw",
   "metadata": {},
   "source": [
    "$ head -n 3 seasonal/s*.csv==> seasonal/spring.csv <==\n",
    "Date,Tooth2017-01-25,wisdom\n",
    "2017-02-19,canine\n",
    "\n",
    "==> seasonal/summer.csv <==\n",
    "Date,Tooth\n",
    "2017-01-11,canine\n",
    "2017-01-18,wisdom"
   ]
  },
  {
   "cell_type": "markdown",
   "metadata": {},
   "source": [
    "## What other wildcards can I use?\n",
    "\n",
    "The shell has other wildcards as well, though they are less commonly used:\n",
    "\n",
    "- `?` matches a single character, so 201?.txt will match 2017.txt or 2018.txt, but not 2017-01.txt.\n",
    "- `[...]` matches any one of the characters inside the square brackets, so 201[78].txt matches 2017.txt or 2018.txt, but not 2016.txt.\n",
    "- `{...}` matches any of the comma-separated patterns inside the curly brackets, so {*.txt, *.csv} matches any file whose name ends with .txt or .csv, but not files whose names end with .pdf.\n",
    "\n",
    "Which expression would match singh.pdf and johel.txt but not sandhu.pdf or sandhu.txt?"
   ]
  },
  {
   "cell_type": "raw",
   "metadata": {},
   "source": [
    "[sj]*.{.pdf, .txt}\n",
    "{s*.pdf, j*.txt}\n",
    "[singh,johel]{*.pdf, *.txt}\n",
    "{singh.pdf, j*.txt} -> correct"
   ]
  },
  {
   "cell_type": "markdown",
   "metadata": {},
   "source": [
    "## How can I sort lines of text?\n",
    "\n",
    "As its name suggests, `sort` puts data in order. By default it does this in ascending alphabetical order, but the flags `-n` and `-r` can be used to sort numerically and reverse the order of its output, while `-b` tells it to ignore leading blanks and `-f` tells it to fold case (i.e., be case-insensitive). Pipelines often use `grep` to get rid of unwanted records and then `sort` to put the remaining records in order.\n",
    "\n",
    "Remember the combination of cut and grep to select all the tooth names from column 2 of seasonal/summer.csv?"
   ]
  },
  {
   "cell_type": "raw",
   "metadata": {},
   "source": [
    "cut -d , -f 2 seasonal/summer.csv | grep -v Tooth"
   ]
  },
  {
   "cell_type": "markdown",
   "metadata": {},
   "source": [
    "Starting from this recipe, sort the names of the teeth in seasonal/winter.csv (not summer.csv) in descending alphabetical order. To do this, extend the pipeline with a sort step."
   ]
  },
  {
   "cell_type": "raw",
   "metadata": {},
   "source": [
    "$ cut -d , -f 2 seasonal/winter.csv | grep -v Tooth | sort -r\n",
    "wisdom\n",
    "molar\n",
    "molar\n",
    "incisor\n",
    "canine\n",
    "canine"
   ]
  },
  {
   "cell_type": "markdown",
   "metadata": {},
   "source": [
    "`sort` has many uses. For example, piping `sort -n` to `head` shows you the largest values."
   ]
  },
  {
   "cell_type": "code",
   "execution_count": null,
   "metadata": {},
   "outputs": [],
   "source": []
  },
  {
   "cell_type": "code",
   "execution_count": null,
   "metadata": {},
   "outputs": [],
   "source": []
  },
  {
   "cell_type": "code",
   "execution_count": null,
   "metadata": {},
   "outputs": [],
   "source": []
  },
  {
   "cell_type": "code",
   "execution_count": null,
   "metadata": {},
   "outputs": [],
   "source": []
  },
  {
   "cell_type": "code",
   "execution_count": null,
   "metadata": {},
   "outputs": [],
   "source": []
  },
  {
   "cell_type": "code",
   "execution_count": null,
   "metadata": {},
   "outputs": [],
   "source": []
  },
  {
   "cell_type": "code",
   "execution_count": null,
   "metadata": {},
   "outputs": [],
   "source": []
  },
  {
   "cell_type": "code",
   "execution_count": null,
   "metadata": {},
   "outputs": [],
   "source": []
  },
  {
   "cell_type": "code",
   "execution_count": null,
   "metadata": {},
   "outputs": [],
   "source": []
  },
  {
   "cell_type": "code",
   "execution_count": null,
   "metadata": {},
   "outputs": [],
   "source": []
  },
  {
   "cell_type": "code",
   "execution_count": null,
   "metadata": {},
   "outputs": [],
   "source": []
  },
  {
   "cell_type": "code",
   "execution_count": null,
   "metadata": {},
   "outputs": [],
   "source": []
  }
 ],
 "metadata": {
  "kernelspec": {
   "display_name": "Python 3",
   "language": "python",
   "name": "python3"
  },
  "language_info": {
   "codemirror_mode": {
    "name": "ipython",
    "version": 3
   },
   "file_extension": ".py",
   "mimetype": "text/x-python",
   "name": "python",
   "nbconvert_exporter": "python",
   "pygments_lexer": "ipython3",
   "version": "3.7.1"
  }
 },
 "nbformat": 4,
 "nbformat_minor": 2
}

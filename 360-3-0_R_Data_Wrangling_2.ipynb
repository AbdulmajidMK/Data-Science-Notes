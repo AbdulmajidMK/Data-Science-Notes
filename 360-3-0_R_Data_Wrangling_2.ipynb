{
 "cells": [
  {
   "cell_type": "raw",
   "metadata": {},
   "source": [
    "From: https://github.com/ksatola\n",
    "Version: 0.0.1"
   ]
  },
  {
   "cell_type": "markdown",
   "metadata": {},
   "source": [
    "# Data Wrangling in R (part 2)"
   ]
  },
  {
   "cell_type": "markdown",
   "metadata": {},
   "source": [
    "## Table of Contents\n",
    "\n",
    "- [Reshaping Data with tidyr](#resh)\n",
    "- [Accessing databases with dbplyr](#db)\n",
    "- [Accessing Web APIs](#api)"
   ]
  },
  {
   "cell_type": "markdown",
   "metadata": {},
   "source": [
    "---\n",
    "<a id='resh'></a>"
   ]
  },
  {
   "cell_type": "markdown",
   "metadata": {},
   "source": [
    "## Reshaping Data with tidyr\n",
    "\n",
    "One of the most common data wrangling challenges is adjusting how exactly rows and columns are used to represent data. [**tidyr (\"tidy-er\")**](https://tidyr.tidyverse.org/) is a package helping in structuring data frames to have the desired shape (transforming orientation) for visualization, running a statistical model or implementing a machine learning algorithm. **tidyr** helps in following the **principles of tidy data**. Tidy data is data where:\n",
    "\n",
    "- Every column is variable.\n",
    "- Every row is an observation.\n",
    "- Every cell is a single value.\n",
    "\n",
    "\n",
    "<img src=\"images/data-wide.png\" alt=\"\" style=\"width: 500px;\"/>\n",
    "\n",
    "The format is wide, because the price data is spread wide across multiple columns.\n",
    "\n",
    "<img src=\"images/data-long.png\" alt=\"\" style=\"width: 500px;\"/>\n",
    "\n",
    "The format is long, because the price data has ist own column. This format includes duplicated cities and bands."
   ]
  },
  {
   "cell_type": "code",
   "execution_count": null,
   "metadata": {},
   "outputs": [],
   "source": [
    "# gather() - to move from wide format to long format \n",
    "#  you need to gather all of the prices into a single columns\n",
    "\n",
    "# Reshape by gathering prices into a single feature\n",
    "band_data_long <- gather(\n",
    "    band_data_wide, # data frame to gather from\n",
    "    # name for new column listing the gathered featu \n",
    "    # (will contain values of column names from the wide form)\n",
    "    key = band, \n",
    "    # name for new column listing the gathered values \n",
    "    # (here will be all gathered values)\n",
    "    value = price, \n",
    "    # columns to gather data from\n",
    "    # (gather from all columns except city)\n",
    "    -city \n",
    ")"
   ]
  },
  {
   "cell_type": "markdown",
   "metadata": {},
   "source": [
    "<img src=\"images/data-tidyr-gather.png\" alt=\"\" style=\"width: 600px;\"/>\n"
   ]
  },
  {
   "cell_type": "code",
   "execution_count": null,
   "metadata": {},
   "outputs": [],
   "source": [
    "# spread() - from rows to columns, from long into wide format\n",
    "\n",
    "# Reshape by spreading prices out among multiple features\n",
    "price_by_band <- spread(\n",
    "    band_data_long, # data frame to spread from\n",
    "    key = city, # get new colum names from this column\n",
    "    value = price # get values for the new columns from this column\n",
    ")"
   ]
  },
  {
   "cell_type": "markdown",
   "metadata": {},
   "source": [
    "<img src=\"images/data-tidyr-spread.png\" alt=\"\" style=\"width: 600px;\"/>\n"
   ]
  },
  {
   "cell_type": "code",
   "execution_count": null,
   "metadata": {},
   "outputs": [],
   "source": [
    "# Unite multiple columns into a single column\n",
    "# unite()\n",
    "\n",
    "# Separate a single column into multiple columns\n",
    "# separate() "
   ]
  },
  {
   "cell_type": "markdown",
   "metadata": {},
   "source": [
    "---\n",
    "<a id='db'></a>"
   ]
  },
  {
   "cell_type": "markdown",
   "metadata": {},
   "source": [
    "## Accessing databases with dbplyr\n",
    "\n",
    "**[dplyr](https://github.com/tidyverse/dbplyr)** is the database backend for [dplyr](https://dplyr.tidyverse.org/). It allows you to use remote database tables as if they are in-memory data frames by automatically converting dplyr code into SQL.\n",
    "\n",
    "To learn more about why you might use dbplyr instead of writing SQL, see vignette(\"sql\"). To learn more about the details of the SQL translation, see vignette(\"translation-verb\") and vignette(\"translation-function\")."
   ]
  },
  {
   "cell_type": "code",
   "execution_count": 2,
   "metadata": {},
   "outputs": [
    {
     "name": "stdout",
     "output_type": "stream",
     "text": [
      "\n",
      "The downloaded binary packages are in\n",
      "\t/var/folders/qk/0l3zx9w11959pqp8tr5s_1780000gn/T//RtmpjGbWsk/downloaded_packages\n"
     ]
    },
    {
     "name": "stderr",
     "output_type": "stream",
     "text": [
      "\n",
      "Attaching package: ‘dplyr’\n",
      "\n",
      "\n",
      "The following objects are masked from ‘package:stats’:\n",
      "\n",
      "    filter, lag\n",
      "\n",
      "\n",
      "The following objects are masked from ‘package:base’:\n",
      "\n",
      "    intersect, setdiff, setequal, union\n",
      "\n",
      "\n"
     ]
    }
   ],
   "source": [
    "install.packages(\"dbplyr\")\n",
    "library(\"DBI\")\n",
    "library(\"dplyr\")"
   ]
  },
  {
   "cell_type": "code",
   "execution_count": 3,
   "metadata": {},
   "outputs": [
    {
     "name": "stderr",
     "output_type": "stream",
     "text": [
      "also installing the dependencies ‘bit’, ‘bit64’, ‘blob’\n",
      "\n",
      "\n"
     ]
    },
    {
     "name": "stdout",
     "output_type": "stream",
     "text": [
      "\n",
      "The downloaded binary packages are in\n",
      "\t/var/folders/qk/0l3zx9w11959pqp8tr5s_1780000gn/T//RtmpjGbWsk/downloaded_packages\n",
      "\n",
      "The downloaded binary packages are in\n",
      "\t/var/folders/qk/0l3zx9w11959pqp8tr5s_1780000gn/T//RtmpjGbWsk/downloaded_packages\n"
     ]
    }
   ],
   "source": [
    "# To access an SQLite database \n",
    "install.packages(\"RSQLite\") # once per machine \n",
    "library(\"RSQLite\") # in each relevant script\n",
    "\n",
    "# To access a Postgres database \n",
    "install.packages(\"RPostgreSQL\") # once per machine \n",
    "library(\"RPostgreSQL\") # in each relevant script"
   ]
  },
  {
   "cell_type": "code",
   "execution_count": 7,
   "metadata": {},
   "outputs": [],
   "source": [
    "# Install and load the `dplyr`, `DBI`, and `RSQLite` packages for accessing\n",
    "# databases\n",
    "library(\"dplyr\")\n",
    "library(\"DBI\")\n",
    "library(\"RSQLite\")"
   ]
  },
  {
   "cell_type": "code",
   "execution_count": 8,
   "metadata": {},
   "outputs": [],
   "source": [
    "# Create a connection to the `Chinook_Sqlite.sqlite` file in the `data` folder\n",
    "# Be sure to set your working directory!\n",
    "db_connection <- dbConnect(SQLite(), dbname = \"data/r/Chinook_Sqlite.sqlite\")"
   ]
  },
  {
   "cell_type": "code",
   "execution_count": 9,
   "metadata": {},
   "outputs": [
    {
     "data": {
      "text/html": [
       "<ol class=list-inline>\n",
       "\t<li>'Album'</li>\n",
       "\t<li>'Artist'</li>\n",
       "\t<li>'Customer'</li>\n",
       "\t<li>'Employee'</li>\n",
       "\t<li>'Genre'</li>\n",
       "\t<li>'Invoice'</li>\n",
       "\t<li>'InvoiceLine'</li>\n",
       "\t<li>'MediaType'</li>\n",
       "\t<li>'Playlist'</li>\n",
       "\t<li>'PlaylistTrack'</li>\n",
       "\t<li>'Track'</li>\n",
       "</ol>\n"
      ],
      "text/latex": [
       "\\begin{enumerate*}\n",
       "\\item 'Album'\n",
       "\\item 'Artist'\n",
       "\\item 'Customer'\n",
       "\\item 'Employee'\n",
       "\\item 'Genre'\n",
       "\\item 'Invoice'\n",
       "\\item 'InvoiceLine'\n",
       "\\item 'MediaType'\n",
       "\\item 'Playlist'\n",
       "\\item 'PlaylistTrack'\n",
       "\\item 'Track'\n",
       "\\end{enumerate*}\n"
      ],
      "text/markdown": [
       "1. 'Album'\n",
       "2. 'Artist'\n",
       "3. 'Customer'\n",
       "4. 'Employee'\n",
       "5. 'Genre'\n",
       "6. 'Invoice'\n",
       "7. 'InvoiceLine'\n",
       "8. 'MediaType'\n",
       "9. 'Playlist'\n",
       "10. 'PlaylistTrack'\n",
       "11. 'Track'\n",
       "\n",
       "\n"
      ],
      "text/plain": [
       " [1] \"Album\"         \"Artist\"        \"Customer\"      \"Employee\"     \n",
       " [5] \"Genre\"         \"Invoice\"       \"InvoiceLine\"   \"MediaType\"    \n",
       " [9] \"Playlist\"      \"PlaylistTrack\" \"Track\"        "
      ]
     },
     "metadata": {},
     "output_type": "display_data"
    }
   ],
   "source": [
    "# Use the `dbListTables()` function (passing in the connection) to get a list\n",
    "# of tables in the database.\n",
    "dbListTables(db_connection)"
   ]
  },
  {
   "cell_type": "code",
   "execution_count": 12,
   "metadata": {},
   "outputs": [
    {
     "data": {
      "text/plain": [
       "\u001b[38;5;246m# Source:   table<Genre> [?? x 2]\u001b[39m\n",
       "\u001b[38;5;246m# Database: sqlite 3.29.0\n",
       "#   [/Users/ksatola/Documents/git/Data-Science-Notes/data/r/Chinook_Sqlite.sqlite]\u001b[39m\n",
       "   GenreId Name              \n",
       "     \u001b[3m\u001b[38;5;246m<int>\u001b[39m\u001b[23m \u001b[3m\u001b[38;5;246m<chr>\u001b[39m\u001b[23m             \n",
       "\u001b[38;5;250m 1\u001b[39m       1 Rock              \n",
       "\u001b[38;5;250m 2\u001b[39m       2 Jazz              \n",
       "\u001b[38;5;250m 3\u001b[39m       3 Metal             \n",
       "\u001b[38;5;250m 4\u001b[39m       4 Alternative & Punk\n",
       "\u001b[38;5;250m 5\u001b[39m       5 Rock And Roll     \n",
       "\u001b[38;5;250m 6\u001b[39m       6 Blues             \n",
       "\u001b[38;5;250m 7\u001b[39m       7 Latin             \n",
       "\u001b[38;5;250m 8\u001b[39m       8 Reggae            \n",
       "\u001b[38;5;250m 9\u001b[39m       9 Pop               \n",
       "\u001b[38;5;250m10\u001b[39m      10 Soundtrack        \n",
       "\u001b[38;5;246m# … with more rows\u001b[39m"
      ]
     },
     "metadata": {},
     "output_type": "display_data"
    }
   ],
   "source": [
    "# Use the `tbl()`function to create a reference to the table of music genres.\n",
    "# Print out the the table to confirm that you've accessed it.\n",
    "genre_tbl <- tbl(db_connection, \"Genre\")\n",
    "genre_tbl"
   ]
  },
  {
   "cell_type": "code",
   "execution_count": 13,
   "metadata": {},
   "outputs": [
    {
     "ename": "ERROR",
     "evalue": "Error in View(genre_tbl): ‘View()’ not yet supported in the Jupyter R kernel\n",
     "output_type": "error",
     "traceback": [
      "Error in View(genre_tbl): ‘View()’ not yet supported in the Jupyter R kernel\nTraceback:\n",
      "1. View(genre_tbl)",
      "2. stop(sQuote(\"View()\"), \" not yet supported in the Jupyter R kernel\")"
     ]
    }
   ],
   "source": [
    "# Try to use `View()` to see the contents of the table. What happened?\n",
    "View(genre_tbl)"
   ]
  },
  {
   "cell_type": "code",
   "execution_count": 14,
   "metadata": {},
   "outputs": [
    {
     "ename": "ERROR",
     "evalue": "Error in View(genre_df): ‘View()’ not yet supported in the Jupyter R kernel\n",
     "output_type": "error",
     "traceback": [
      "Error in View(genre_df): ‘View()’ not yet supported in the Jupyter R kernel\nTraceback:\n",
      "1. View(genre_df)",
      "2. stop(sQuote(\"View()\"), \" not yet supported in the Jupyter R kernel\")"
     ]
    }
   ],
   "source": [
    "# Use the `collect()` function to actually load the genre table into memory\n",
    "# as a data frame. View that data frame.\n",
    "genre_df <- collect(genre_tbl)\n",
    "View(genre_df)"
   ]
  },
  {
   "cell_type": "code",
   "execution_count": 15,
   "metadata": {},
   "outputs": [
    {
     "data": {
      "text/plain": [
       "\u001b[38;5;246m# Source:   lazy query [?? x 1]\u001b[39m\n",
       "\u001b[38;5;246m# Database: sqlite 3.29.0\n",
       "#   [/Users/ksatola/Documents/git/Data-Science-Notes/data/r/Chinook_Sqlite.sqlite]\u001b[39m\n",
       "      n\n",
       "  \u001b[3m\u001b[38;5;246m<int>\u001b[39m\u001b[23m\n",
       "\u001b[38;5;250m1\u001b[39m    25"
      ]
     },
     "metadata": {},
     "output_type": "display_data"
    }
   ],
   "source": [
    "# Use dplyr's `count()` function to see how many rows are in the genre table\n",
    "genre_tbl %>% count()"
   ]
  },
  {
   "cell_type": "code",
   "execution_count": 16,
   "metadata": {},
   "outputs": [
    {
     "name": "stdout",
     "output_type": "stream",
     "text": [
      "\u001b[38;5;246m# Source:   table<Track> [?? x 9]\u001b[39m\n",
      "\u001b[38;5;246m# Database: sqlite 3.29.0\n",
      "#   [/Users/ksatola/Documents/git/Data-Science-Notes/data/r/Chinook_Sqlite.sqlite]\u001b[39m\n",
      "   TrackId Name  AlbumId MediaTypeId GenreId Composer Milliseconds  Bytes\n",
      "     \u001b[3m\u001b[38;5;246m<int>\u001b[39m\u001b[23m \u001b[3m\u001b[38;5;246m<chr>\u001b[39m\u001b[23m   \u001b[3m\u001b[38;5;246m<int>\u001b[39m\u001b[23m       \u001b[3m\u001b[38;5;246m<int>\u001b[39m\u001b[23m   \u001b[3m\u001b[38;5;246m<int>\u001b[39m\u001b[23m \u001b[3m\u001b[38;5;246m<chr>\u001b[39m\u001b[23m           \u001b[3m\u001b[38;5;246m<int>\u001b[39m\u001b[23m  \u001b[3m\u001b[38;5;246m<int>\u001b[39m\u001b[23m\n",
      "\u001b[38;5;250m 1\u001b[39m       1 For …       1           1       1 Angus Y…       \u001b[4m3\u001b[24m\u001b[4m4\u001b[24m\u001b[4m3\u001b[24m719 1.12\u001b[38;5;246me\u001b[39m7\n",
      "\u001b[38;5;250m 2\u001b[39m       2 Ball…       2           2       1 \u001b[31mNA\u001b[39m             \u001b[4m3\u001b[24m\u001b[4m4\u001b[24m\u001b[4m2\u001b[24m562 5.51\u001b[38;5;246me\u001b[39m6\n",
      "\u001b[38;5;250m 3\u001b[39m       3 Fast…       3           2       1 F. Balt…       \u001b[4m2\u001b[24m\u001b[4m3\u001b[24m\u001b[4m0\u001b[24m619 3.99\u001b[38;5;246me\u001b[39m6\n",
      "\u001b[38;5;250m 4\u001b[39m       4 Rest…       3           2       1 F. Balt…       \u001b[4m2\u001b[24m\u001b[4m5\u001b[24m\u001b[4m2\u001b[24m051 4.33\u001b[38;5;246me\u001b[39m6\n",
      "\u001b[38;5;250m 5\u001b[39m       5 Prin…       3           2       1 Deaffy …       \u001b[4m3\u001b[24m\u001b[4m7\u001b[24m\u001b[4m5\u001b[24m418 6.29\u001b[38;5;246me\u001b[39m6\n",
      "\u001b[38;5;250m 6\u001b[39m       6 Put …       1           1       1 Angus Y…       \u001b[4m2\u001b[24m\u001b[4m0\u001b[24m\u001b[4m5\u001b[24m662 6.71\u001b[38;5;246me\u001b[39m6\n",
      "\u001b[38;5;250m 7\u001b[39m       7 Let'…       1           1       1 Angus Y…       \u001b[4m2\u001b[24m\u001b[4m3\u001b[24m\u001b[4m3\u001b[24m926 7.64\u001b[38;5;246me\u001b[39m6\n",
      "\u001b[38;5;250m 8\u001b[39m       8 Inje…       1           1       1 Angus Y…       \u001b[4m2\u001b[24m\u001b[4m1\u001b[24m\u001b[4m0\u001b[24m834 6.85\u001b[38;5;246me\u001b[39m6\n",
      "\u001b[38;5;250m 9\u001b[39m       9 Snow…       1           1       1 Angus Y…       \u001b[4m2\u001b[24m\u001b[4m0\u001b[24m\u001b[4m3\u001b[24m102 6.60\u001b[38;5;246me\u001b[39m6\n",
      "\u001b[38;5;250m10\u001b[39m      10 Evil…       1           1       1 Angus Y…       \u001b[4m2\u001b[24m\u001b[4m6\u001b[24m\u001b[4m3\u001b[24m497 8.61\u001b[38;5;246me\u001b[39m6\n",
      "\u001b[38;5;246m# … with more rows, and 1 more variable: UnitPrice \u001b[3m\u001b[38;5;246m<dbl>\u001b[38;5;246m\u001b[23m\u001b[39m\n"
     ]
    }
   ],
   "source": [
    "# Use the `tbl()` function to create a reference the table with track data.\n",
    "# Print out the the table to confirm that you've accessed it.\n",
    "track_tbl <- tbl(db_connection, \"Track\")\n",
    "print(track_tbl)"
   ]
  },
  {
   "cell_type": "code",
   "execution_count": 17,
   "metadata": {},
   "outputs": [
    {
     "name": "stdout",
     "output_type": "stream",
     "text": [
      "\u001b[38;5;246m# Source:     lazy query [?? x 2]\u001b[39m\n",
      "\u001b[38;5;246m# Database:   sqlite 3.29.0\n",
      "#   [/Users/ksatola/Documents/git/Data-Science-Notes/data/r/Chinook_Sqlite.sqlite]\u001b[39m\n",
      "\u001b[38;5;246m# Groups:     Composer\u001b[39m\n",
      "\u001b[38;5;246m# Ordered by: -n\u001b[39m\n",
      "   Composer                                           n\n",
      "   \u001b[3m\u001b[38;5;246m<chr>\u001b[39m\u001b[23m                                          \u001b[3m\u001b[38;5;246m<int>\u001b[39m\u001b[23m\n",
      "\u001b[38;5;250m 1\u001b[39m Steve Harris                                      80\n",
      "\u001b[38;5;250m 2\u001b[39m U2                                                44\n",
      "\u001b[38;5;250m 3\u001b[39m Jagger/Richards                                   35\n",
      "\u001b[38;5;250m 4\u001b[39m Billy Corgan                                      31\n",
      "\u001b[38;5;250m 5\u001b[39m Kurt Cobain                                       26\n",
      "\u001b[38;5;250m 6\u001b[39m Bill Berry-Peter Buck-Mike Mills-Michael Stipe    25\n",
      "\u001b[38;5;250m 7\u001b[39m The Tea Party                                     24\n",
      "\u001b[38;5;250m 8\u001b[39m Chico Science                                     23\n",
      "\u001b[38;5;250m 9\u001b[39m Chris Cornell                                     23\n",
      "\u001b[38;5;250m10\u001b[39m Gilberto Gil                                      23\n",
      "\u001b[38;5;246m# … with more rows\u001b[39m\n"
     ]
    }
   ],
   "source": [
    "# Use dplyr functions to query for a list of artists in descending order by\n",
    "# popularity in the database (e.g., the artist with the most tracks at the top)\n",
    "# - Start by filting for rows that have an artist listed (use `is.na()`), then\n",
    "#   group rows by the artist and count them. Finally, arrange the results.\n",
    "# - Use pipes to do this all as one statement without collecting the data into\n",
    "#   memory!\n",
    "popular_artists <- track_tbl %>%\n",
    "  filter(is.na(Composer) == FALSE) %>%\n",
    "  group_by(Composer) %>%\n",
    "  count() %>%\n",
    "  arrange(-n)\n",
    "print(popular_artists)"
   ]
  },
  {
   "cell_type": "code",
   "execution_count": 19,
   "metadata": {},
   "outputs": [
    {
     "ename": "ERROR",
     "evalue": "Error in eval(lhs, parent, parent): object 'genre_counts' not found\n",
     "output_type": "error",
     "traceback": [
      "Error in eval(lhs, parent, parent): object 'genre_counts' not found\nTraceback:\n",
      "1. genre_counts %>% group_by(GenreId) %>% count() %>% left_join(genre_tbl) %>% \n .     arrange(-count) %>% collect()",
      "2. eval(lhs, parent, parent)",
      "3. eval(lhs, parent, parent)"
     ]
    }
   ],
   "source": [
    "# Use dplyr functions to query for the most popular _genre_ in the library.\n",
    "# You will need to count the number of occurrences of each genre, and join the\n",
    "# two tables together in order to also access the genre name.\n",
    "# Collect the resulting data into memory in order to access the specific row of\n",
    "# interest\n",
    "genre_count_names_df <- genre_counts %>%\n",
    "  group_by(GenreId) %>%\n",
    "  count() %>%\n",
    "  left_join(genre_tbl) %>%\n",
    "  arrange(-count) %>%\n",
    "  collect()\n",
    "print(genre_count_names_df[1, \"Name\"])"
   ]
  },
  {
   "cell_type": "code",
   "execution_count": 20,
   "metadata": {},
   "outputs": [
    {
     "name": "stderr",
     "output_type": "stream",
     "text": [
      "Joining, by = \"GenreId\"\n",
      "\n"
     ]
    },
    {
     "data": {
      "text/html": [
       "<table>\n",
       "<caption>A grouped_df: 20 × 4</caption>\n",
       "<thead>\n",
       "\t<tr><th scope=col>GenreId</th><th scope=col>Genre</th><th scope=col>Composer</th><th scope=col>count</th></tr>\n",
       "\t<tr><th scope=col>&lt;int&gt;</th><th scope=col>&lt;chr&gt;</th><th scope=col>&lt;chr&gt;</th><th scope=col>&lt;int&gt;</th></tr>\n",
       "</thead>\n",
       "<tbody>\n",
       "\t<tr><td> 1</td><td>Rock              </td><td>U2                                                         </td><td>44</td></tr>\n",
       "\t<tr><td> 3</td><td>Metal             </td><td>Steve Harris                                               </td><td>36</td></tr>\n",
       "\t<tr><td> 4</td><td>Alternative &amp; Punk</td><td><span style=white-space:pre-wrap>Billy Corgan                                               </span></td><td>31</td></tr>\n",
       "\t<tr><td> 2</td><td>Jazz              </td><td>Miles Davis                                                </td><td>23</td></tr>\n",
       "\t<tr><td> 7</td><td>Latin             </td><td>Chico Science                                              </td><td>23</td></tr>\n",
       "\t<tr><td> 6</td><td>Blues             </td><td>Chris Robinson/Rich Robinson                               </td><td>18</td></tr>\n",
       "\t<tr><td>10</td><td><span style=white-space:pre-wrap>Soundtrack        </span></td><td>Brian Eno, Bono, Adam Clayton, The Edge &amp; Larry Mullen Jnr.</td><td>14</td></tr>\n",
       "\t<tr><td>16</td><td>World             </td><td>João Suplicy                                               </td><td>14</td></tr>\n",
       "\t<tr><td>13</td><td>Heavy Metal       </td><td>Steve Harris                                               </td><td>13</td></tr>\n",
       "\t<tr><td>23</td><td>Alternative       </td><td>Chris Cornell                                              </td><td>13</td></tr>\n",
       "\t<tr><td>24</td><td>Classical         </td><td>Johann Sebastian Bach                                      </td><td> 7</td></tr>\n",
       "\t<tr><td>15</td><td>Electronica/Dance </td><td>Toby Smith                                                 </td><td> 6</td></tr>\n",
       "\t<tr><td>17</td><td>Hip Hop/Rap       </td><td>E. Schrody/L. Dimant                                       </td><td> 6</td></tr>\n",
       "\t<tr><td>14</td><td><span style=white-space:pre-wrap>R&amp;B/Soul          </span></td><td><span style=white-space:pre-wrap>Jay Kay/Toby Smith                                         </span></td><td> 5</td></tr>\n",
       "\t<tr><td> 8</td><td>Reggae            </td><td>Bino Farias/Da Gama/Lazão/Toni Garrido                     </td><td> 4</td></tr>\n",
       "\t<tr><td>12</td><td>Easy Listening    </td><td>jimmy van heusen/sammy cahn                                </td><td> 3</td></tr>\n",
       "\t<tr><td> 5</td><td>Rock And Roll     </td><td>Chuck Berry                                                </td><td> 2</td></tr>\n",
       "\t<tr><td> 5</td><td>Rock And Roll     </td><td>Larry Williams                                             </td><td> 2</td></tr>\n",
       "\t<tr><td> 9</td><td>Pop               </td><td>Salaam Remi                                                </td><td> 2</td></tr>\n",
       "\t<tr><td>25</td><td>Opera             </td><td>Wolfgang Amadeus Mozart                                    </td><td> 1</td></tr>\n",
       "</tbody>\n",
       "</table>\n"
      ],
      "text/latex": [
       "A grouped_df: 20 × 4\n",
       "\\begin{tabular}{r|llll}\n",
       " GenreId & Genre & Composer & count\\\\\n",
       " <int> & <chr> & <chr> & <int>\\\\\n",
       "\\hline\n",
       "\t  1 & Rock               & U2                                                          & 44\\\\\n",
       "\t  3 & Metal              & Steve Harris                                                & 36\\\\\n",
       "\t  4 & Alternative \\& Punk & Billy Corgan                                                & 31\\\\\n",
       "\t  2 & Jazz               & Miles Davis                                                 & 23\\\\\n",
       "\t  7 & Latin              & Chico Science                                               & 23\\\\\n",
       "\t  6 & Blues              & Chris Robinson/Rich Robinson                                & 18\\\\\n",
       "\t 10 & Soundtrack         & Brian Eno, Bono, Adam Clayton, The Edge \\& Larry Mullen Jnr. & 14\\\\\n",
       "\t 16 & World              & João Suplicy                                                & 14\\\\\n",
       "\t 13 & Heavy Metal        & Steve Harris                                                & 13\\\\\n",
       "\t 23 & Alternative        & Chris Cornell                                               & 13\\\\\n",
       "\t 24 & Classical          & Johann Sebastian Bach                                       &  7\\\\\n",
       "\t 15 & Electronica/Dance  & Toby Smith                                                  &  6\\\\\n",
       "\t 17 & Hip Hop/Rap        & E. Schrody/L. Dimant                                        &  6\\\\\n",
       "\t 14 & R\\&B/Soul           & Jay Kay/Toby Smith                                          &  5\\\\\n",
       "\t  8 & Reggae             & Bino Farias/Da Gama/Lazão/Toni Garrido                      &  4\\\\\n",
       "\t 12 & Easy Listening     & jimmy van heusen/sammy cahn                                 &  3\\\\\n",
       "\t  5 & Rock And Roll      & Chuck Berry                                                 &  2\\\\\n",
       "\t  5 & Rock And Roll      & Larry Williams                                              &  2\\\\\n",
       "\t  9 & Pop                & Salaam Remi                                                 &  2\\\\\n",
       "\t 25 & Opera              & Wolfgang Amadeus Mozart                                     &  1\\\\\n",
       "\\end{tabular}\n"
      ],
      "text/markdown": [
       "\n",
       "A grouped_df: 20 × 4\n",
       "\n",
       "| GenreId &lt;int&gt; | Genre &lt;chr&gt; | Composer &lt;chr&gt; | count &lt;int&gt; |\n",
       "|---|---|---|---|\n",
       "|  1 | Rock               | U2                                                          | 44 |\n",
       "|  3 | Metal              | Steve Harris                                                | 36 |\n",
       "|  4 | Alternative &amp; Punk | Billy Corgan                                                | 31 |\n",
       "|  2 | Jazz               | Miles Davis                                                 | 23 |\n",
       "|  7 | Latin              | Chico Science                                               | 23 |\n",
       "|  6 | Blues              | Chris Robinson/Rich Robinson                                | 18 |\n",
       "| 10 | Soundtrack         | Brian Eno, Bono, Adam Clayton, The Edge &amp; Larry Mullen Jnr. | 14 |\n",
       "| 16 | World              | João Suplicy                                                | 14 |\n",
       "| 13 | Heavy Metal        | Steve Harris                                                | 13 |\n",
       "| 23 | Alternative        | Chris Cornell                                               | 13 |\n",
       "| 24 | Classical          | Johann Sebastian Bach                                       |  7 |\n",
       "| 15 | Electronica/Dance  | Toby Smith                                                  |  6 |\n",
       "| 17 | Hip Hop/Rap        | E. Schrody/L. Dimant                                        |  6 |\n",
       "| 14 | R&amp;B/Soul           | Jay Kay/Toby Smith                                          |  5 |\n",
       "|  8 | Reggae             | Bino Farias/Da Gama/Lazão/Toni Garrido                      |  4 |\n",
       "| 12 | Easy Listening     | jimmy van heusen/sammy cahn                                 |  3 |\n",
       "|  5 | Rock And Roll      | Chuck Berry                                                 |  2 |\n",
       "|  5 | Rock And Roll      | Larry Williams                                              |  2 |\n",
       "|  9 | Pop                | Salaam Remi                                                 |  2 |\n",
       "| 25 | Opera              | Wolfgang Amadeus Mozart                                     |  1 |\n",
       "\n"
      ],
      "text/plain": [
       "   GenreId Genre             \n",
       "1   1      Rock              \n",
       "2   3      Metal             \n",
       "3   4      Alternative & Punk\n",
       "4   2      Jazz              \n",
       "5   7      Latin             \n",
       "6   6      Blues             \n",
       "7  10      Soundtrack        \n",
       "8  16      World             \n",
       "9  13      Heavy Metal       \n",
       "10 23      Alternative       \n",
       "11 24      Classical         \n",
       "12 15      Electronica/Dance \n",
       "13 17      Hip Hop/Rap       \n",
       "14 14      R&B/Soul          \n",
       "15  8      Reggae            \n",
       "16 12      Easy Listening    \n",
       "17  5      Rock And Roll     \n",
       "18  5      Rock And Roll     \n",
       "19  9      Pop               \n",
       "20 25      Opera             \n",
       "   Composer                                                    count\n",
       "1  U2                                                          44   \n",
       "2  Steve Harris                                                36   \n",
       "3  Billy Corgan                                                31   \n",
       "4  Miles Davis                                                 23   \n",
       "5  Chico Science                                               23   \n",
       "6  Chris Robinson/Rich Robinson                                18   \n",
       "7  Brian Eno, Bono, Adam Clayton, The Edge & Larry Mullen Jnr. 14   \n",
       "8  João Suplicy                                                14   \n",
       "9  Steve Harris                                                13   \n",
       "10 Chris Cornell                                               13   \n",
       "11 Johann Sebastian Bach                                        7   \n",
       "12 Toby Smith                                                   6   \n",
       "13 E. Schrody/L. Dimant                                         6   \n",
       "14 Jay Kay/Toby Smith                                           5   \n",
       "15 Bino Farias/Da Gama/Lazão/Toni Garrido                       4   \n",
       "16 jimmy van heusen/sammy cahn                                  3   \n",
       "17 Chuck Berry                                                  2   \n",
       "18 Larry Williams                                               2   \n",
       "19 Salaam Remi                                                  2   \n",
       "20 Wolfgang Amadeus Mozart                                      1   "
      ]
     },
     "metadata": {},
     "output_type": "display_data"
    }
   ],
   "source": [
    "# Bonus: Query for a list of the most popular artist for each genre in the\n",
    "# library (a \"representative\" artist for each).\n",
    "# Consider using multiple grouping operations. Note that you can only filter\n",
    "# for a `max()` value if you've collected the data into memory.\n",
    "track_tbl %>%\n",
    "  filter(is.na(Composer) == FALSE) %>%\n",
    "  group_by(GenreId, Composer) %>%\n",
    "  count() %>%\n",
    "  left_join(genre_tbl) %>%\n",
    "  select(Genre = Name, Composer, count = n) %>%\n",
    "  collect() %>%\n",
    "  group_by(Genre) %>%\n",
    "  filter(count == max(count)) %>%\n",
    "  arrange(-count)"
   ]
  },
  {
   "cell_type": "code",
   "execution_count": 21,
   "metadata": {},
   "outputs": [],
   "source": [
    "# Remember to disconnect from the database once you are done with it!\n",
    "dbDisconnect(db_connection)"
   ]
  },
  {
   "cell_type": "markdown",
   "metadata": {},
   "source": [
    "---\n",
    "<a id='api'></a>"
   ]
  },
  {
   "cell_type": "markdown",
   "metadata": {},
   "source": [
    "## Accessing Web APIs"
   ]
  },
  {
   "cell_type": "markdown",
   "metadata": {},
   "source": [
    "Access tokens are a lot like passwords; you will want to keep them secret and not share them with others. This means that you should not include them in any files you commit to git and push to GitHub. The best way to ensure the secrecy of access tokens in R is to create a separate script file in your repo (e.g., api_keys.R) that includes exactly one line, assigning the key to a variable:"
   ]
  },
  {
   "cell_type": "code",
   "execution_count": 22,
   "metadata": {},
   "outputs": [],
   "source": [
    "# Store your API key from a web service in a variable \n",
    "# It should be in a separate file (e.g., `api_keys.R`) \n",
    "api_key <- \"123456789abcdefg\""
   ]
  },
  {
   "cell_type": "code",
   "execution_count": 24,
   "metadata": {},
   "outputs": [
    {
     "name": "stdout",
     "output_type": "stream",
     "text": [
      "[1] \"123456789abcdefg\"\n"
     ]
    }
   ],
   "source": [
    "# In your \"main\" script (e.g., `my_script.R`) load your API key from another file\n",
    "# (Make sure working directory is set before running the following code!)\n",
    "source(\"data/r/api_keys.R\") # load the script using a *relative path* \n",
    "print(api_key) # the key is now available!"
   ]
  },
  {
   "cell_type": "markdown",
   "metadata": {},
   "source": [
    "Anyone else who runs the script will need to provide an `api_key` variable to access the API using that user’s own key. This practice keeps everyone’s account separate.\n",
    "You can keep your `api_keys.R` file from being committed by including the filename in the `.gitignore` file in your repo; that will keep it from even possibly being committed with your code!"
   ]
  },
  {
   "cell_type": "code",
   "execution_count": 25,
   "metadata": {},
   "outputs": [
    {
     "ename": "ERROR",
     "evalue": "Error in parse(text = x, srcfile = src): <text>:2:7: unexpected '/'\n1: # The URI for the search/repositories endpoint of the GitHub API\n2: https:/\n         ^\n",
     "output_type": "error",
     "traceback": [
      "Error in parse(text = x, srcfile = src): <text>:2:7: unexpected '/'\n1: # The URI for the search/repositories endpoint of the GitHub API\n2: https:/\n         ^\nTraceback:\n"
     ]
    }
   ],
   "source": [
    "# The URI for the search/repositories endpoint of the GitHub API\n",
    "https://api.github.com/search/repositories?q=dplyr&sort=forks"
   ]
  },
  {
   "cell_type": "markdown",
   "metadata": {},
   "source": [
    "Official quickstart guide for **[httr](https://cran.r-project.org/web/packages/httr/vignettes/quickstart.html)**, a package designed to map closely to the underlying http protocol."
   ]
  },
  {
   "cell_type": "code",
   "execution_count": 26,
   "metadata": {},
   "outputs": [
    {
     "name": "stdout",
     "output_type": "stream",
     "text": [
      "\n",
      "The downloaded binary packages are in\n",
      "\t/var/folders/qk/0l3zx9w11959pqp8tr5s_1780000gn/T//RtmpjGbWsk/downloaded_packages\n"
     ]
    }
   ],
   "source": [
    "install.packages(\"httr\") # once per machine\n",
    "library(\"httr\") # in each relevant script"
   ]
  },
  {
   "cell_type": "code",
   "execution_count": 27,
   "metadata": {},
   "outputs": [],
   "source": [
    "# Make a GET request to the GitHub API's \"search/\" endpoint\n",
    "# Request repositories that match the search \"dplyr\", and sort the results b \n",
    "url <- \"https://api.github.com/search/repositories?q=dplyr&sort=forks\"\n",
    "response <- GET(url)"
   ]
  },
  {
   "cell_type": "code",
   "execution_count": 28,
   "metadata": {},
   "outputs": [
    {
     "name": "stdout",
     "output_type": "stream",
     "text": [
      "Response [https://api.github.com/search/repositories?q=dplyr&sort=forks]\n",
      "  Date: 2019-10-31 20:26\n",
      "  Status: 200\n",
      "  Content-Type: application/json; charset=utf-8\n",
      "  Size: 181 kB\n",
      "{\n",
      "  \"total_count\": 980,\n",
      "  \"incomplete_results\": false,\n",
      "  \"items\": [\n",
      "    {\n",
      "      \"id\": 6427813,\n",
      "      \"node_id\": \"MDEwOlJlcG9zaXRvcnk2NDI3ODEz\",\n",
      "      \"name\": \"dplyr\",\n",
      "      \"full_name\": \"tidyverse/dplyr\",\n",
      "      \"private\": false,\n",
      "...\n"
     ]
    }
   ],
   "source": [
    "print(response)"
   ]
  },
  {
   "cell_type": "code",
   "execution_count": 29,
   "metadata": {},
   "outputs": [],
   "source": [
    "# Restructure the previous request to make it easier to read and update.\n",
    "\n",
    "# Make a GET request to the GitHub API's \"search/\" endpoint\n",
    "# Request repositories that match the search \"dplyr\", sorted by forks\n",
    "\n",
    "# Construct your `resource_uri` from a `base_uri` that you may reuse and an `endpoint`\n",
    "base_uri <- \"https://api.github.com\" \n",
    "endpoint <- \"/search/repositories\" \n",
    "resource_uri <- paste0(base_uri, endpoint)\n",
    "\n",
    "# Store any query parameters you want to use in a list\n",
    "query_params <- list(q = \"dplyr\", sort = \"forks\")\n",
    "\n",
    "# Make your request, specifying the query parameters via the `query` argumen\n",
    "response <- GET(resource_uri, query = query_params)"
   ]
  },
  {
   "cell_type": "code",
   "execution_count": 30,
   "metadata": {},
   "outputs": [
    {
     "data": {
      "text/plain": [
       "Response [https://api.github.com/search/repositories?q=dplyr&sort=forks]\n",
       "  Date: 2019-10-31 20:29\n",
       "  Status: 200\n",
       "  Content-Type: application/json; charset=utf-8\n",
       "  Size: 181 kB\n",
       "{\n",
       "  \"total_count\": 980,\n",
       "  \"incomplete_results\": false,\n",
       "  \"items\": [\n",
       "    {\n",
       "      \"id\": 6427813,\n",
       "      \"node_id\": \"MDEwOlJlcG9zaXRvcnk2NDI3ODEz\",\n",
       "      \"name\": \"dplyr\",\n",
       "      \"full_name\": \"tidyverse/dplyr\",\n",
       "      \"private\": false,\n",
       "..."
      ]
     },
     "metadata": {},
     "output_type": "display_data"
    }
   ],
   "source": [
    "response"
   ]
  },
  {
   "cell_type": "code",
   "execution_count": 31,
   "metadata": {},
   "outputs": [
    {
     "name": "stderr",
     "output_type": "stream",
     "text": [
      "No encoding supplied: defaulting to UTF-8.\n",
      "\n"
     ]
    }
   ],
   "source": [
    "# Extract content from `response`, as a text string\n",
    "response_text <- content(response, type = \"text\")"
   ]
  },
  {
   "cell_type": "markdown",
   "metadata": {},
   "source": [
    "While the **httr** package is able to parse the JSON body of a response into a list, it doesn’t do a very clean job of it (particularly for complex data structures). A more effective solution for transforming JSON data is to use the **[jsonlite package](https://cran.r-project.org/web/packages/jsonlite/jsonlite.pdf)**. This package provides helpful methods to convert JSON data into R data, and is particularly well suited for converting content into data frames."
   ]
  },
  {
   "cell_type": "code",
   "execution_count": 33,
   "metadata": {},
   "outputs": [
    {
     "name": "stdout",
     "output_type": "stream",
     "text": [
      "\n",
      "The downloaded binary packages are in\n",
      "\t/var/folders/qk/0l3zx9w11959pqp8tr5s_1780000gn/T//RtmpjGbWsk/downloaded_packages\n"
     ]
    }
   ],
   "source": [
    "install.packages(\"jsonlite\") # once per machine \n",
    "library(\"jsonlite\") # in each relevant script"
   ]
  },
  {
   "cell_type": "code",
   "execution_count": 35,
   "metadata": {},
   "outputs": [],
   "source": [
    "# Make a request to a given `uri` with a set of `query_params` \n",
    "# Then extract and parse the results\n",
    "\n",
    "# Make the request\n",
    "response <- GET(resource_uri, query = query_params) \n",
    "\n",
    "# Extract the content of the response\n",
    "response_text <- content(response, \"text\")\n",
    "\n",
    "# Convert the JSON string to a list\n",
    "response_data <- fromJSON(response_text)"
   ]
  },
  {
   "cell_type": "code",
   "execution_count": 41,
   "metadata": {},
   "outputs": [
    {
     "data": {
      "text/html": [
       "FALSE"
      ],
      "text/latex": [
       "FALSE"
      ],
      "text/markdown": [
       "FALSE"
      ],
      "text/plain": [
       "[1] FALSE"
      ]
     },
     "metadata": {},
     "output_type": "display_data"
    }
   ],
   "source": [
    "# Use various methods to explore and extract information from API results \n",
    "\n",
    "# Check: is it a data frame already?\n",
    "is.data.frame(response_data) # FALSE"
   ]
  },
  {
   "cell_type": "code",
   "execution_count": 42,
   "metadata": {},
   "outputs": [
    {
     "name": "stdout",
     "output_type": "stream",
     "text": [
      "List of 3\n",
      " $ total_count       : int 981\n",
      " $ incomplete_results: logi FALSE\n",
      " $ items             :'data.frame':\t30 obs. of  74 variables:\n",
      "  ..$ id               : int [1:30] 6427813 67845042 59305491 84520584 24485567 66818484 55175084 128841385 76831311 77705369 ...\n",
      "  ..$ node_id          : chr [1:30] \"MDEwOlJlcG9zaXRvcnk2NDI3ODEz\" \"MDEwOlJlcG9zaXRvcnk2Nzg0NTA0Mg==\" \"MDEwOlJlcG9zaXRvcnk1OTMwNTQ5MQ==\" \"MDEwOlJlcG9zaXRvcnk4NDUyMDU4NA==\" ...\n",
      "  ..$ name             : chr [1:30] \"dplyr\" \"m9-dplyr\" \"sparklyr\" \"Data-Analysis-with-R\" ...\n",
      "  ..$ full_name        : chr [1:30] \"tidyverse/dplyr\" \"INFO-201/m9-dplyr\" \"rstudio/sparklyr\" \"susanli2016/Data-Analysis-with-R\" ...\n",
      "  ..$ private          : logi [1:30] FALSE FALSE FALSE FALSE FALSE FALSE ...\n",
      "  ..$ owner            :'data.frame':\t30 obs. of  18 variables:\n",
      "  .. ..$ login              : chr [1:30] \"tidyverse\" \"INFO-201\" \"rstudio\" \"susanli2016\" ...\n",
      "  .. ..$ id                 : int [1:30] 22032646 19807570 513560 24217243 6509492 34749559 12505835 35281457 123968 26503379 ...\n",
      "  .. ..$ node_id            : chr [1:30] \"MDEyOk9yZ2FuaXphdGlvbjIyMDMyNjQ2\" \"MDEyOk9yZ2FuaXphdGlvbjE5ODA3NTcw\" \"MDEyOk9yZ2FuaXphdGlvbjUxMzU2MA==\" \"MDQ6VXNlcjI0MjE3MjQz\" ...\n",
      "  .. ..$ avatar_url         : chr [1:30] \"https://avatars2.githubusercontent.com/u/22032646?v=4\" \"https://avatars0.githubusercontent.com/u/19807570?v=4\" \"https://avatars1.githubusercontent.com/u/513560?v=4\" \"https://avatars1.githubusercontent.com/u/24217243?v=4\" ...\n",
      "  .. ..$ gravatar_id        : chr [1:30] \"\" \"\" \"\" \"\" ...\n",
      "  .. ..$ url                : chr [1:30] \"https://api.github.com/users/tidyverse\" \"https://api.github.com/users/INFO-201\" \"https://api.github.com/users/rstudio\" \"https://api.github.com/users/susanli2016\" ...\n",
      "  .. ..$ html_url           : chr [1:30] \"https://github.com/tidyverse\" \"https://github.com/INFO-201\" \"https://github.com/rstudio\" \"https://github.com/susanli2016\" ...\n",
      "  .. ..$ followers_url      : chr [1:30] \"https://api.github.com/users/tidyverse/followers\" \"https://api.github.com/users/INFO-201/followers\" \"https://api.github.com/users/rstudio/followers\" \"https://api.github.com/users/susanli2016/followers\" ...\n",
      "  .. ..$ following_url      : chr [1:30] \"https://api.github.com/users/tidyverse/following{/other_user}\" \"https://api.github.com/users/INFO-201/following{/other_user}\" \"https://api.github.com/users/rstudio/following{/other_user}\" \"https://api.github.com/users/susanli2016/following{/other_user}\" ...\n",
      "  .. ..$ gists_url          : chr [1:30] \"https://api.github.com/users/tidyverse/gists{/gist_id}\" \"https://api.github.com/users/INFO-201/gists{/gist_id}\" \"https://api.github.com/users/rstudio/gists{/gist_id}\" \"https://api.github.com/users/susanli2016/gists{/gist_id}\" ...\n",
      "  .. ..$ starred_url        : chr [1:30] \"https://api.github.com/users/tidyverse/starred{/owner}{/repo}\" \"https://api.github.com/users/INFO-201/starred{/owner}{/repo}\" \"https://api.github.com/users/rstudio/starred{/owner}{/repo}\" \"https://api.github.com/users/susanli2016/starred{/owner}{/repo}\" ...\n",
      "  .. ..$ subscriptions_url  : chr [1:30] \"https://api.github.com/users/tidyverse/subscriptions\" \"https://api.github.com/users/INFO-201/subscriptions\" \"https://api.github.com/users/rstudio/subscriptions\" \"https://api.github.com/users/susanli2016/subscriptions\" ...\n",
      "  .. ..$ organizations_url  : chr [1:30] \"https://api.github.com/users/tidyverse/orgs\" \"https://api.github.com/users/INFO-201/orgs\" \"https://api.github.com/users/rstudio/orgs\" \"https://api.github.com/users/susanli2016/orgs\" ...\n",
      "  .. ..$ repos_url          : chr [1:30] \"https://api.github.com/users/tidyverse/repos\" \"https://api.github.com/users/INFO-201/repos\" \"https://api.github.com/users/rstudio/repos\" \"https://api.github.com/users/susanli2016/repos\" ...\n",
      "  .. ..$ events_url         : chr [1:30] \"https://api.github.com/users/tidyverse/events{/privacy}\" \"https://api.github.com/users/INFO-201/events{/privacy}\" \"https://api.github.com/users/rstudio/events{/privacy}\" \"https://api.github.com/users/susanli2016/events{/privacy}\" ...\n",
      "  .. ..$ received_events_url: chr [1:30] \"https://api.github.com/users/tidyverse/received_events\" \"https://api.github.com/users/INFO-201/received_events\" \"https://api.github.com/users/rstudio/received_events\" \"https://api.github.com/users/susanli2016/received_events\" ...\n",
      "  .. ..$ type               : chr [1:30] \"Organization\" \"Organization\" \"Organization\" \"User\" ...\n",
      "  .. ..$ site_admin         : logi [1:30] FALSE FALSE FALSE FALSE FALSE FALSE ...\n",
      "  ..$ html_url         : chr [1:30] \"https://github.com/tidyverse/dplyr\" \"https://github.com/INFO-201/m9-dplyr\" \"https://github.com/rstudio/sparklyr\" \"https://github.com/susanli2016/Data-Analysis-with-R\" ...\n",
      "  ..$ description      : chr [1:30] \"dplyr: A grammar of data manipulation\" \"Module 9: Introduction to the DPLYR Package\" \"R interface for Apache Spark\" \"Using gglot2, tidyr, dplyr, ggmap, choroplethr, shiny, logistic regression, clustering models and more\" ...\n",
      "  ..$ fork             : logi [1:30] FALSE FALSE FALSE FALSE FALSE FALSE ...\n",
      "  ..$ url              : chr [1:30] \"https://api.github.com/repos/tidyverse/dplyr\" \"https://api.github.com/repos/INFO-201/m9-dplyr\" \"https://api.github.com/repos/rstudio/sparklyr\" \"https://api.github.com/repos/susanli2016/Data-Analysis-with-R\" ...\n",
      "  ..$ forks_url        : chr [1:30] \"https://api.github.com/repos/tidyverse/dplyr/forks\" \"https://api.github.com/repos/INFO-201/m9-dplyr/forks\" \"https://api.github.com/repos/rstudio/sparklyr/forks\" \"https://api.github.com/repos/susanli2016/Data-Analysis-with-R/forks\" ...\n",
      "  ..$ keys_url         : chr [1:30] \"https://api.github.com/repos/tidyverse/dplyr/keys{/key_id}\" \"https://api.github.com/repos/INFO-201/m9-dplyr/keys{/key_id}\" \"https://api.github.com/repos/rstudio/sparklyr/keys{/key_id}\" \"https://api.github.com/repos/susanli2016/Data-Analysis-with-R/keys{/key_id}\" ...\n",
      "  ..$ collaborators_url: chr [1:30] \"https://api.github.com/repos/tidyverse/dplyr/collaborators{/collaborator}\" \"https://api.github.com/repos/INFO-201/m9-dplyr/collaborators{/collaborator}\" \"https://api.github.com/repos/rstudio/sparklyr/collaborators{/collaborator}\" \"https://api.github.com/repos/susanli2016/Data-Analysis-with-R/collaborators{/collaborator}\" ...\n",
      "  ..$ teams_url        : chr [1:30] \"https://api.github.com/repos/tidyverse/dplyr/teams\" \"https://api.github.com/repos/INFO-201/m9-dplyr/teams\" \"https://api.github.com/repos/rstudio/sparklyr/teams\" \"https://api.github.com/repos/susanli2016/Data-Analysis-with-R/teams\" ...\n",
      "  ..$ hooks_url        : chr [1:30] \"https://api.github.com/repos/tidyverse/dplyr/hooks\" \"https://api.github.com/repos/INFO-201/m9-dplyr/hooks\" \"https://api.github.com/repos/rstudio/sparklyr/hooks\" \"https://api.github.com/repos/susanli2016/Data-Analysis-with-R/hooks\" ...\n",
      "  ..$ issue_events_url : chr [1:30] \"https://api.github.com/repos/tidyverse/dplyr/issues/events{/number}\" \"https://api.github.com/repos/INFO-201/m9-dplyr/issues/events{/number}\" \"https://api.github.com/repos/rstudio/sparklyr/issues/events{/number}\" \"https://api.github.com/repos/susanli2016/Data-Analysis-with-R/issues/events{/number}\" ...\n",
      "  ..$ events_url       : chr [1:30] \"https://api.github.com/repos/tidyverse/dplyr/events\" \"https://api.github.com/repos/INFO-201/m9-dplyr/events\" \"https://api.github.com/repos/rstudio/sparklyr/events\" \"https://api.github.com/repos/susanli2016/Data-Analysis-with-R/events\" ...\n",
      "  ..$ assignees_url    : chr [1:30] \"https://api.github.com/repos/tidyverse/dplyr/assignees{/user}\" \"https://api.github.com/repos/INFO-201/m9-dplyr/assignees{/user}\" \"https://api.github.com/repos/rstudio/sparklyr/assignees{/user}\" \"https://api.github.com/repos/susanli2016/Data-Analysis-with-R/assignees{/user}\" ...\n",
      "  ..$ branches_url     : chr [1:30] \"https://api.github.com/repos/tidyverse/dplyr/branches{/branch}\" \"https://api.github.com/repos/INFO-201/m9-dplyr/branches{/branch}\" \"https://api.github.com/repos/rstudio/sparklyr/branches{/branch}\" \"https://api.github.com/repos/susanli2016/Data-Analysis-with-R/branches{/branch}\" ...\n",
      "  ..$ tags_url         : chr [1:30] \"https://api.github.com/repos/tidyverse/dplyr/tags\" \"https://api.github.com/repos/INFO-201/m9-dplyr/tags\" \"https://api.github.com/repos/rstudio/sparklyr/tags\" \"https://api.github.com/repos/susanli2016/Data-Analysis-with-R/tags\" ...\n",
      "  ..$ blobs_url        : chr [1:30] \"https://api.github.com/repos/tidyverse/dplyr/git/blobs{/sha}\" \"https://api.github.com/repos/INFO-201/m9-dplyr/git/blobs{/sha}\" \"https://api.github.com/repos/rstudio/sparklyr/git/blobs{/sha}\" \"https://api.github.com/repos/susanli2016/Data-Analysis-with-R/git/blobs{/sha}\" ...\n",
      "  ..$ git_tags_url     : chr [1:30] \"https://api.github.com/repos/tidyverse/dplyr/git/tags{/sha}\" \"https://api.github.com/repos/INFO-201/m9-dplyr/git/tags{/sha}\" \"https://api.github.com/repos/rstudio/sparklyr/git/tags{/sha}\" \"https://api.github.com/repos/susanli2016/Data-Analysis-with-R/git/tags{/sha}\" ...\n",
      "  ..$ git_refs_url     : chr [1:30] \"https://api.github.com/repos/tidyverse/dplyr/git/refs{/sha}\" \"https://api.github.com/repos/INFO-201/m9-dplyr/git/refs{/sha}\" \"https://api.github.com/repos/rstudio/sparklyr/git/refs{/sha}\" \"https://api.github.com/repos/susanli2016/Data-Analysis-with-R/git/refs{/sha}\" ...\n",
      "  ..$ trees_url        : chr [1:30] \"https://api.github.com/repos/tidyverse/dplyr/git/trees{/sha}\" \"https://api.github.com/repos/INFO-201/m9-dplyr/git/trees{/sha}\" \"https://api.github.com/repos/rstudio/sparklyr/git/trees{/sha}\" \"https://api.github.com/repos/susanli2016/Data-Analysis-with-R/git/trees{/sha}\" ...\n",
      "  ..$ statuses_url     : chr [1:30] \"https://api.github.com/repos/tidyverse/dplyr/statuses/{sha}\" \"https://api.github.com/repos/INFO-201/m9-dplyr/statuses/{sha}\" \"https://api.github.com/repos/rstudio/sparklyr/statuses/{sha}\" \"https://api.github.com/repos/susanli2016/Data-Analysis-with-R/statuses/{sha}\" ...\n",
      "  ..$ languages_url    : chr [1:30] \"https://api.github.com/repos/tidyverse/dplyr/languages\" \"https://api.github.com/repos/INFO-201/m9-dplyr/languages\" \"https://api.github.com/repos/rstudio/sparklyr/languages\" \"https://api.github.com/repos/susanli2016/Data-Analysis-with-R/languages\" ...\n",
      "  ..$ stargazers_url   : chr [1:30] \"https://api.github.com/repos/tidyverse/dplyr/stargazers\" \"https://api.github.com/repos/INFO-201/m9-dplyr/stargazers\" \"https://api.github.com/repos/rstudio/sparklyr/stargazers\" \"https://api.github.com/repos/susanli2016/Data-Analysis-with-R/stargazers\" ...\n",
      "  ..$ contributors_url : chr [1:30] \"https://api.github.com/repos/tidyverse/dplyr/contributors\" \"https://api.github.com/repos/INFO-201/m9-dplyr/contributors\" \"https://api.github.com/repos/rstudio/sparklyr/contributors\" \"https://api.github.com/repos/susanli2016/Data-Analysis-with-R/contributors\" ...\n",
      "  ..$ subscribers_url  : chr [1:30] \"https://api.github.com/repos/tidyverse/dplyr/subscribers\" \"https://api.github.com/repos/INFO-201/m9-dplyr/subscribers\" \"https://api.github.com/repos/rstudio/sparklyr/subscribers\" \"https://api.github.com/repos/susanli2016/Data-Analysis-with-R/subscribers\" ...\n",
      "  ..$ subscription_url : chr [1:30] \"https://api.github.com/repos/tidyverse/dplyr/subscription\" \"https://api.github.com/repos/INFO-201/m9-dplyr/subscription\" \"https://api.github.com/repos/rstudio/sparklyr/subscription\" \"https://api.github.com/repos/susanli2016/Data-Analysis-with-R/subscription\" ...\n",
      "  ..$ commits_url      : chr [1:30] \"https://api.github.com/repos/tidyverse/dplyr/commits{/sha}\" \"https://api.github.com/repos/INFO-201/m9-dplyr/commits{/sha}\" \"https://api.github.com/repos/rstudio/sparklyr/commits{/sha}\" \"https://api.github.com/repos/susanli2016/Data-Analysis-with-R/commits{/sha}\" ...\n",
      "  ..$ git_commits_url  : chr [1:30] \"https://api.github.com/repos/tidyverse/dplyr/git/commits{/sha}\" \"https://api.github.com/repos/INFO-201/m9-dplyr/git/commits{/sha}\" \"https://api.github.com/repos/rstudio/sparklyr/git/commits{/sha}\" \"https://api.github.com/repos/susanli2016/Data-Analysis-with-R/git/commits{/sha}\" ...\n",
      "  ..$ comments_url     : chr [1:30] \"https://api.github.com/repos/tidyverse/dplyr/comments{/number}\" \"https://api.github.com/repos/INFO-201/m9-dplyr/comments{/number}\" \"https://api.github.com/repos/rstudio/sparklyr/comments{/number}\" \"https://api.github.com/repos/susanli2016/Data-Analysis-with-R/comments{/number}\" ...\n",
      "  ..$ issue_comment_url: chr [1:30] \"https://api.github.com/repos/tidyverse/dplyr/issues/comments{/number}\" \"https://api.github.com/repos/INFO-201/m9-dplyr/issues/comments{/number}\" \"https://api.github.com/repos/rstudio/sparklyr/issues/comments{/number}\" \"https://api.github.com/repos/susanli2016/Data-Analysis-with-R/issues/comments{/number}\" ...\n",
      "  ..$ contents_url     : chr [1:30] \"https://api.github.com/repos/tidyverse/dplyr/contents/{+path}\" \"https://api.github.com/repos/INFO-201/m9-dplyr/contents/{+path}\" \"https://api.github.com/repos/rstudio/sparklyr/contents/{+path}\" \"https://api.github.com/repos/susanli2016/Data-Analysis-with-R/contents/{+path}\" ...\n",
      "  ..$ compare_url      : chr [1:30] \"https://api.github.com/repos/tidyverse/dplyr/compare/{base}...{head}\" \"https://api.github.com/repos/INFO-201/m9-dplyr/compare/{base}...{head}\" \"https://api.github.com/repos/rstudio/sparklyr/compare/{base}...{head}\" \"https://api.github.com/repos/susanli2016/Data-Analysis-with-R/compare/{base}...{head}\" ...\n",
      "  ..$ merges_url       : chr [1:30] \"https://api.github.com/repos/tidyverse/dplyr/merges\" \"https://api.github.com/repos/INFO-201/m9-dplyr/merges\" \"https://api.github.com/repos/rstudio/sparklyr/merges\" \"https://api.github.com/repos/susanli2016/Data-Analysis-with-R/merges\" ...\n",
      "  ..$ archive_url      : chr [1:30] \"https://api.github.com/repos/tidyverse/dplyr/{archive_format}{/ref}\" \"https://api.github.com/repos/INFO-201/m9-dplyr/{archive_format}{/ref}\" \"https://api.github.com/repos/rstudio/sparklyr/{archive_format}{/ref}\" \"https://api.github.com/repos/susanli2016/Data-Analysis-with-R/{archive_format}{/ref}\" ...\n",
      "  ..$ downloads_url    : chr [1:30] \"https://api.github.com/repos/tidyverse/dplyr/downloads\" \"https://api.github.com/repos/INFO-201/m9-dplyr/downloads\" \"https://api.github.com/repos/rstudio/sparklyr/downloads\" \"https://api.github.com/repos/susanli2016/Data-Analysis-with-R/downloads\" ...\n",
      "  ..$ issues_url       : chr [1:30] \"https://api.github.com/repos/tidyverse/dplyr/issues{/number}\" \"https://api.github.com/repos/INFO-201/m9-dplyr/issues{/number}\" \"https://api.github.com/repos/rstudio/sparklyr/issues{/number}\" \"https://api.github.com/repos/susanli2016/Data-Analysis-with-R/issues{/number}\" ...\n",
      "  ..$ pulls_url        : chr [1:30] \"https://api.github.com/repos/tidyverse/dplyr/pulls{/number}\" \"https://api.github.com/repos/INFO-201/m9-dplyr/pulls{/number}\" \"https://api.github.com/repos/rstudio/sparklyr/pulls{/number}\" \"https://api.github.com/repos/susanli2016/Data-Analysis-with-R/pulls{/number}\" ...\n",
      "  ..$ milestones_url   : chr [1:30] \"https://api.github.com/repos/tidyverse/dplyr/milestones{/number}\" \"https://api.github.com/repos/INFO-201/m9-dplyr/milestones{/number}\" \"https://api.github.com/repos/rstudio/sparklyr/milestones{/number}\" \"https://api.github.com/repos/susanli2016/Data-Analysis-with-R/milestones{/number}\" ...\n",
      "  ..$ notifications_url: chr [1:30] \"https://api.github.com/repos/tidyverse/dplyr/notifications{?since,all,participating}\" \"https://api.github.com/repos/INFO-201/m9-dplyr/notifications{?since,all,participating}\" \"https://api.github.com/repos/rstudio/sparklyr/notifications{?since,all,participating}\" \"https://api.github.com/repos/susanli2016/Data-Analysis-with-R/notifications{?since,all,participating}\" ...\n",
      "  ..$ labels_url       : chr [1:30] \"https://api.github.com/repos/tidyverse/dplyr/labels{/name}\" \"https://api.github.com/repos/INFO-201/m9-dplyr/labels{/name}\" \"https://api.github.com/repos/rstudio/sparklyr/labels{/name}\" \"https://api.github.com/repos/susanli2016/Data-Analysis-with-R/labels{/name}\" ...\n",
      "  ..$ releases_url     : chr [1:30] \"https://api.github.com/repos/tidyverse/dplyr/releases{/id}\" \"https://api.github.com/repos/INFO-201/m9-dplyr/releases{/id}\" \"https://api.github.com/repos/rstudio/sparklyr/releases{/id}\" \"https://api.github.com/repos/susanli2016/Data-Analysis-with-R/releases{/id}\" ...\n",
      "  ..$ deployments_url  : chr [1:30] \"https://api.github.com/repos/tidyverse/dplyr/deployments\" \"https://api.github.com/repos/INFO-201/m9-dplyr/deployments\" \"https://api.github.com/repos/rstudio/sparklyr/deployments\" \"https://api.github.com/repos/susanli2016/Data-Analysis-with-R/deployments\" ...\n",
      "  ..$ created_at       : chr [1:30] \"2012-10-28T13:39:17Z\" \"2016-09-10T02:07:39Z\" \"2016-05-20T15:28:53Z\" \"2017-03-10T04:53:25Z\" ...\n",
      "  ..$ updated_at       : chr [1:30] \"2019-10-31T10:26:24Z\" \"2018-09-15T22:59:13Z\" \"2019-10-30T19:48:01Z\" \"2019-10-31T05:55:08Z\" ...\n",
      "  ..$ pushed_at        : chr [1:30] \"2019-10-31T10:41:12Z\" \"2017-01-26T21:44:19Z\" \"2019-10-29T13:49:12Z\" \"2018-09-06T19:47:34Z\" ...\n",
      "  ..$ git_url          : chr [1:30] \"git://github.com/tidyverse/dplyr.git\" \"git://github.com/INFO-201/m9-dplyr.git\" \"git://github.com/rstudio/sparklyr.git\" \"git://github.com/susanli2016/Data-Analysis-with-R.git\" ...\n",
      "  ..$ ssh_url          : chr [1:30] \"git@github.com:tidyverse/dplyr.git\" \"git@github.com:INFO-201/m9-dplyr.git\" \"git@github.com:rstudio/sparklyr.git\" \"git@github.com:susanli2016/Data-Analysis-with-R.git\" ...\n",
      "  ..$ clone_url        : chr [1:30] \"https://github.com/tidyverse/dplyr.git\" \"https://github.com/INFO-201/m9-dplyr.git\" \"https://github.com/rstudio/sparklyr.git\" \"https://github.com/susanli2016/Data-Analysis-with-R.git\" ...\n",
      "  ..$ svn_url          : chr [1:30] \"https://github.com/tidyverse/dplyr\" \"https://github.com/INFO-201/m9-dplyr\" \"https://github.com/rstudio/sparklyr\" \"https://github.com/susanli2016/Data-Analysis-with-R\" ...\n",
      "  ..$ homepage         : chr [1:30] \"https://dplyr.tidyverse.org\" NA \"https://spark.rstudio.com\" \"\" ...\n",
      "  ..$ size             : int [1:30] 24861 1097 61467 6315 113 748450 84713 22 113146 39801 ...\n",
      "  ..$ stargazers_count : int [1:30] 3097 12 703 152 116 318 822 0 144 433 ...\n",
      "  ..$ watchers_count   : int [1:30] 3097 12 703 152 116 318 822 0 144 433 ...\n",
      "  ..$ language         : chr [1:30] \"R\" \"R\" \"R\" \"R\" ...\n",
      "  ..$ has_issues       : logi [1:30] TRUE TRUE TRUE TRUE TRUE TRUE ...\n",
      "  ..$ has_projects     : logi [1:30] TRUE TRUE TRUE TRUE TRUE TRUE ...\n",
      "  ..$ has_downloads    : logi [1:30] TRUE TRUE TRUE TRUE TRUE TRUE ...\n",
      "  ..$ has_wiki         : logi [1:30] FALSE TRUE TRUE TRUE TRUE TRUE ...\n",
      "  ..$ has_pages        : logi [1:30] TRUE FALSE FALSE FALSE FALSE TRUE ...\n",
      "  ..$ forks_count      : int [1:30] 1133 640 259 209 202 177 163 137 110 104 ...\n",
      "  ..$ mirror_url       : logi [1:30] NA NA NA NA NA NA ...\n",
      "  ..$ archived         : logi [1:30] FALSE FALSE FALSE FALSE FALSE FALSE ...\n",
      "  ..$ disabled         : logi [1:30] FALSE FALSE FALSE FALSE FALSE FALSE ...\n",
      "  ..$ open_issues_count: int [1:30] 168 0 461 1 1 8 6 0 8 48 ...\n",
      "  ..$ license          :'data.frame':\t30 obs. of  5 variables:\n",
      "  .. ..$ key    : chr [1:30] \"other\" \"mit\" \"apache-2.0\" NA ...\n",
      "  .. ..$ name   : chr [1:30] \"Other\" \"MIT License\" \"Apache License 2.0\" NA ...\n",
      "  .. ..$ spdx_id: chr [1:30] \"NOASSERTION\" \"MIT\" \"Apache-2.0\" NA ...\n",
      "  .. ..$ url    : chr [1:30] NA \"https://api.github.com/licenses/mit\" \"https://api.github.com/licenses/apache-2.0\" NA ...\n",
      "  .. ..$ node_id: chr [1:30] \"MDc6TGljZW5zZTA=\" \"MDc6TGljZW5zZTEz\" \"MDc6TGljZW5zZTI=\" NA ...\n",
      "  ..$ forks            : int [1:30] 1133 640 259 209 202 177 163 137 110 104 ...\n",
      "  ..$ open_issues      : int [1:30] 168 0 461 1 1 8 6 0 8 48 ...\n",
      "  ..$ watchers         : int [1:30] 3097 12 703 152 116 318 822 0 144 433 ...\n",
      "  ..$ default_branch   : chr [1:30] \"master\" \"master\" \"master\" \"master\" ...\n",
      "  ..$ score            : num [1:30] 160.8 102.7 55.7 70.1 106.9 ...\n"
     ]
    },
    {
     "data": {
      "text/html": [
       "<ol class=list-inline>\n",
       "\t<li>'total_count'</li>\n",
       "\t<li>'incomplete_results'</li>\n",
       "\t<li>'items'</li>\n",
       "</ol>\n"
      ],
      "text/latex": [
       "\\begin{enumerate*}\n",
       "\\item 'total\\_count'\n",
       "\\item 'incomplete\\_results'\n",
       "\\item 'items'\n",
       "\\end{enumerate*}\n"
      ],
      "text/markdown": [
       "1. 'total_count'\n",
       "2. 'incomplete_results'\n",
       "3. 'items'\n",
       "\n",
       "\n"
      ],
      "text/plain": [
       "[1] \"total_count\"        \"incomplete_results\" \"items\"             "
      ]
     },
     "metadata": {},
     "output_type": "display_data"
    }
   ],
   "source": [
    "# Inspect the data!\n",
    "str(response_data) # view as a formatted string\n",
    "names(response_data) # \"href\" \"items\" \"limit\" \"next\" \"offset\" \"previous\" \"total\""
   ]
  },
  {
   "cell_type": "code",
   "execution_count": 43,
   "metadata": {},
   "outputs": [
    {
     "data": {
      "text/html": [
       "TRUE"
      ],
      "text/latex": [
       "TRUE"
      ],
      "text/markdown": [
       "TRUE"
      ],
      "text/plain": [
       "[1] TRUE"
      ]
     },
     "metadata": {},
     "output_type": "display_data"
    }
   ],
   "source": [
    "# Looking at the JSON data itself (e.g., in the browser), \n",
    "# `items` is the key that contains the value you want\n",
    "\n",
    "# Extract the (useful) data\n",
    "items <- response_data$items # extract from the list \n",
    "is.data.frame(items) # TRUE; you can work with that!"
   ]
  },
  {
   "cell_type": "code",
   "execution_count": 49,
   "metadata": {},
   "outputs": [],
   "source": [
    "#print(items)"
   ]
  },
  {
   "cell_type": "code",
   "execution_count": 52,
   "metadata": {},
   "outputs": [
    {
     "name": "stdout",
     "output_type": "stream",
     "text": [
      "    names favorites.food favorites.music\n",
      "1      Ed          Pizza       Bluegrass\n",
      "2 Jessica          Pasta           Indie\n",
      "3  Keagan          salad      Electronic\n"
     ]
    },
    {
     "data": {
      "text/plain": [
       "NULL"
      ]
     },
     "metadata": {},
     "output_type": "display_data"
    },
    {
     "data": {
      "text/html": [
       "<ol class=list-inline>\n",
       "\t<li>Pizza</li>\n",
       "\t<li>Pasta</li>\n",
       "\t<li>salad</li>\n",
       "</ol>\n",
       "\n",
       "<details>\n",
       "\t<summary style=display:list-item;cursor:pointer>\n",
       "\t\t<strong>Levels</strong>:\n",
       "\t</summary>\n",
       "\t<ol class=list-inline>\n",
       "\t\t<li>'Pasta'</li>\n",
       "\t\t<li>'Pizza'</li>\n",
       "\t\t<li>'salad'</li>\n",
       "\t</ol>\n",
       "</details>"
      ],
      "text/latex": [
       "\\begin{enumerate*}\n",
       "\\item Pizza\n",
       "\\item Pasta\n",
       "\\item salad\n",
       "\\end{enumerate*}\n",
       "\n",
       "\\emph{Levels}: \\begin{enumerate*}\n",
       "\\item 'Pasta'\n",
       "\\item 'Pizza'\n",
       "\\item 'salad'\n",
       "\\end{enumerate*}\n"
      ],
      "text/markdown": [
       "1. Pizza\n",
       "2. Pasta\n",
       "3. salad\n",
       "\n",
       "\n",
       "\n",
       "**Levels**: 1. 'Pasta'\n",
       "2. 'Pizza'\n",
       "3. 'salad'\n",
       "\n",
       "\n"
      ],
      "text/plain": [
       "[1] Pizza Pasta salad\n",
       "Levels: Pasta Pizza salad"
      ]
     },
     "metadata": {},
     "output_type": "display_data"
    }
   ],
   "source": [
    "# A demonstration of the structure of \"nested\" data frames \n",
    "# Create a `people` data frame with a `names` column\n",
    "people <- data.frame(names = c(\"Ed\", \"Jessica\", \"Keagan\"))\n",
    "\n",
    "# Create a data frame of favorites with two columns\n",
    "favorites <- data.frame(\n",
    "    food = c(\"Pizza\", \"Pasta\", \"salad\"),\n",
    "    music = c(\"Bluegrass\", \"Indie\", \"Electronic\")\n",
    ")\n",
    "\n",
    "# Store the second data frame as a column of the first -- A BAD IDEA \n",
    "people$favorites <- favorites # the `favorites` column is a data frame!\n",
    "\n",
    "# This prints nicely, but is misleading\n",
    "print(people) \n",
    "\n",
    "# Despite what RStudio prints, there is not actually a column `favorites.foo` \n",
    "people$favorites.food # NULL\n",
    "\n",
    "# Access the `food` column of the data frame stored in `people$favorites` \n",
    "people$favorites$food # [1] Pizza Pasta salad"
   ]
  },
  {
   "cell_type": "markdown",
   "metadata": {},
   "source": [
    "Nested data frames make it hard to work with the data using previously established techniques and syntax. Luckily, the jsonlite package provides a helpful function for addressing this issue, called **flatten()**. This function takes the columns of each nested data frame and converts them into appropriately named columns in the “outer” data frame."
   ]
  },
  {
   "cell_type": "code",
   "execution_count": 53,
   "metadata": {},
   "outputs": [
    {
     "data": {
      "text/html": [
       "<ol class=list-inline>\n",
       "\t<li>Pizza</li>\n",
       "\t<li>Pasta</li>\n",
       "\t<li>salad</li>\n",
       "</ol>\n",
       "\n",
       "<details>\n",
       "\t<summary style=display:list-item;cursor:pointer>\n",
       "\t\t<strong>Levels</strong>:\n",
       "\t</summary>\n",
       "\t<ol class=list-inline>\n",
       "\t\t<li>'Pasta'</li>\n",
       "\t\t<li>'Pizza'</li>\n",
       "\t\t<li>'salad'</li>\n",
       "\t</ol>\n",
       "</details>"
      ],
      "text/latex": [
       "\\begin{enumerate*}\n",
       "\\item Pizza\n",
       "\\item Pasta\n",
       "\\item salad\n",
       "\\end{enumerate*}\n",
       "\n",
       "\\emph{Levels}: \\begin{enumerate*}\n",
       "\\item 'Pasta'\n",
       "\\item 'Pizza'\n",
       "\\item 'salad'\n",
       "\\end{enumerate*}\n"
      ],
      "text/markdown": [
       "1. Pizza\n",
       "2. Pasta\n",
       "3. salad\n",
       "\n",
       "\n",
       "\n",
       "**Levels**: 1. 'Pasta'\n",
       "2. 'Pizza'\n",
       "3. 'salad'\n",
       "\n",
       "\n"
      ],
      "text/plain": [
       "[1] Pizza Pasta salad\n",
       "Levels: Pasta Pizza salad"
      ]
     },
     "metadata": {},
     "output_type": "display_data"
    }
   ],
   "source": [
    "# Use `flatten()` to format nested data frames\n",
    "people <- flatten(people)\n",
    "people$favorites.food # this just got created! Woo!"
   ]
  },
  {
   "cell_type": "code",
   "execution_count": null,
   "metadata": {},
   "outputs": [],
   "source": []
  },
  {
   "cell_type": "code",
   "execution_count": null,
   "metadata": {},
   "outputs": [],
   "source": []
  },
  {
   "cell_type": "code",
   "execution_count": null,
   "metadata": {},
   "outputs": [],
   "source": []
  },
  {
   "cell_type": "code",
   "execution_count": null,
   "metadata": {},
   "outputs": [],
   "source": []
  },
  {
   "cell_type": "code",
   "execution_count": null,
   "metadata": {},
   "outputs": [],
   "source": []
  },
  {
   "cell_type": "code",
   "execution_count": null,
   "metadata": {},
   "outputs": [],
   "source": [
    "---\n",
    "<a id='data'></a>"
   ]
  }
 ],
 "metadata": {
  "kernelspec": {
   "display_name": "R",
   "language": "R",
   "name": "ir"
  },
  "language_info": {
   "codemirror_mode": "r",
   "file_extension": ".r",
   "mimetype": "text/x-r-source",
   "name": "R",
   "pygments_lexer": "r",
   "version": "3.6.1"
  }
 },
 "nbformat": 4,
 "nbformat_minor": 4
}

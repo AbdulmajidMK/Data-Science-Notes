{
 "cells": [
  {
   "cell_type": "markdown",
   "metadata": {},
   "source": [
    "# Introduction to Databases in Python\n",
    "\n",
    "In this notebook, you'll learn the basics of using SQL with Python. This will be useful because databases are ubiquitous and data scientists, analysts, and engineers must interact with them constantly. The Python SQL toolkit **SQLAlchemy** provides an accessible and intuitive way to query, build, and write to essential databases, including `SQLite`, `MySQL`, and `PostgreSQL`."
   ]
  },
  {
   "cell_type": "markdown",
   "metadata": {},
   "source": [
    "## SQL Alchemy\n",
    "\n",
    "An **engine** is a common interface to the database from SQLAlchemy. A **connection string** consists of all information required to connect to the database (and login, if necessary). A **reflection** process reads the database and creates SQLAlchemy table objects."
   ]
  },
  {
   "cell_type": "code",
   "execution_count": 1,
   "metadata": {},
   "outputs": [],
   "source": [
    "from sqlalchemy import create_engine\n",
    "\n",
    "path='data/dc25/'"
   ]
  },
  {
   "cell_type": "markdown",
   "metadata": {},
   "source": [
    "## Engines and connection strings\n",
    "\n",
    "Alright, it's time to create your first engine! An **engine** is just a common interface to a database, and the information it requires to connect to one is contained in a **connection string**, for example `sqlite:///example.sqlite`. Here, `sqlite` in `sqlite:///` is the **database driver**, while `example.sqlite` is a SQLite file contained in the local directory.\n",
    "\n",
    "You can learn a lot more about connection strings in the [SQLAlchemy documentation](https://docs.sqlalchemy.org/en/13/core/engines.html#database-urls).\n",
    "\n",
    "Your job in this exercise is to create an engine that connects to a local SQLite file named `census.sqlite`. Then, print the names of the tables the engine contains using the `.table_names()` method. Note that when you just want to print the table names, you do not need to use `engine.connect()` after creating the engine."
   ]
  },
  {
   "cell_type": "code",
   "execution_count": 4,
   "metadata": {},
   "outputs": [
    {
     "name": "stdout",
     "output_type": "stream",
     "text": [
      "['census', 'state_fact']\n"
     ]
    }
   ],
   "source": [
    "# Import create_engine\n",
    "from sqlalchemy import create_engine\n",
    "\n",
    "# Create an engine that connects to the census.sqlite file: engine\n",
    "#cs = 'sqlite:///'+path+'census_nyc.sqlite'\n",
    "#print(cs)\n",
    "\n",
    "engine = create_engine('sqlite:///'+path+'census.sqlite')\n",
    "\n",
    "# Print table names\n",
    "print(engine.table_names())"
   ]
  },
  {
   "cell_type": "markdown",
   "metadata": {},
   "source": [
    "## Autoloading Tables from a database\n",
    "\n",
    "**SQLAlchemy** can be used to automatically load tables from a database using something called **reflection**. **Reflection** is the process of reading the database and building the metadata based on that information. It's the opposite of creating a Table by hand and is very useful for working with existing databases.\n",
    "\n",
    "To perform **reflection**, you will first need to import and initialize a `MetaData` object. MetaData objects contain information about tables stored in a database. During reflection, the MetaData object will be populated with information about the reflected table automatically, so we only need to initialize it before reflecting by calling `MetaData()`.\n",
    "\n",
    "You will also need to import the `Table` object from the SQLAlchemy package. Then, you use this Table object to read your table from the engine, autoload the columns, and populate the metadata. This can be done with a single call to `Table()`: using the Table object in this manner is a lot like passing arguments to a function. For example, to autoload the columns with the engine, you have to specify the keyword arguments `autoload=True` and `autoload_with=engine` to `Table()`.\n",
    "\n",
    "Finally, to view information about the object you just created, you will use the `repr()` function. For any Python object, `repr()` returns a text representation of that object. For SQLAlchemy Table objects, it will return the information about that table contained in the metadata.\n",
    "\n",
    "In this exercise, your job is to reflect the \"census\" table available on your engine into a variable called `census`."
   ]
  },
  {
   "cell_type": "code",
   "execution_count": null,
   "metadata": {},
   "outputs": [],
   "source": []
  },
  {
   "cell_type": "code",
   "execution_count": null,
   "metadata": {},
   "outputs": [],
   "source": []
  },
  {
   "cell_type": "code",
   "execution_count": null,
   "metadata": {},
   "outputs": [],
   "source": []
  },
  {
   "cell_type": "code",
   "execution_count": null,
   "metadata": {},
   "outputs": [],
   "source": []
  },
  {
   "cell_type": "code",
   "execution_count": null,
   "metadata": {},
   "outputs": [],
   "source": []
  },
  {
   "cell_type": "code",
   "execution_count": null,
   "metadata": {},
   "outputs": [],
   "source": []
  },
  {
   "cell_type": "code",
   "execution_count": null,
   "metadata": {},
   "outputs": [],
   "source": []
  },
  {
   "cell_type": "code",
   "execution_count": null,
   "metadata": {},
   "outputs": [],
   "source": []
  },
  {
   "cell_type": "code",
   "execution_count": null,
   "metadata": {},
   "outputs": [],
   "source": []
  }
 ],
 "metadata": {
  "kernelspec": {
   "display_name": "Python 3",
   "language": "python",
   "name": "python3"
  },
  "language_info": {
   "codemirror_mode": {
    "name": "ipython",
    "version": 3
   },
   "file_extension": ".py",
   "mimetype": "text/x-python",
   "name": "python",
   "nbconvert_exporter": "python",
   "pygments_lexer": "ipython3",
   "version": "3.7.1"
  }
 },
 "nbformat": 4,
 "nbformat_minor": 4
}

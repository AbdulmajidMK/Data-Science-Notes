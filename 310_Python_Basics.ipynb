{
 "cells": [
  {
   "cell_type": "markdown",
   "metadata": {},
   "source": [
    "# Python Basics"
   ]
  },
  {
   "cell_type": "markdown",
   "metadata": {},
   "source": [
    "## Basics"
   ]
  },
  {
   "cell_type": "markdown",
   "metadata": {},
   "source": [
    "### Calculator\n",
    "\n",
    "Suppose you have $100, which you can invest with a 10% return each year. After one year, it's 100×1.1=110 dollars, and after two years it's 100×1.1×1.1=121. Add code on the right to calculate how much money you end up with after 7 years."
   ]
  },
  {
   "cell_type": "code",
   "execution_count": 1,
   "metadata": {},
   "outputs": [
    {
     "name": "stdout",
     "output_type": "stream",
     "text": [
      "10\n",
      "0\n",
      "15\n",
      "5.0\n",
      "4\n",
      "16\n",
      "194.87171000000012\n"
     ]
    }
   ],
   "source": [
    "# Addition, subtraction\n",
    "print(5 + 5)\n",
    "print(5 - 5)\n",
    "\n",
    "# Multiplication, division, modulo, and exponentiation\n",
    "print(3 * 5)\n",
    "print(10 / 2)\n",
    "print(18 % 7)\n",
    "print(4 ** 2)\n",
    "\n",
    "# How much is your $100 worth after 7 years?\n",
    "print(100 * 1.1 ** 7)"
   ]
  },
  {
   "cell_type": "code",
   "execution_count": 2,
   "metadata": {},
   "outputs": [
    {
     "name": "stdout",
     "output_type": "stream",
     "text": [
      "100\n"
     ]
    }
   ],
   "source": [
    "# Create a variable savings\n",
    "savings = 100\n",
    "\n",
    "# Print out savings\n",
    "print(savings)"
   ]
  },
  {
   "cell_type": "code",
   "execution_count": 3,
   "metadata": {},
   "outputs": [
    {
     "name": "stdout",
     "output_type": "stream",
     "text": [
      "194.87171000000012\n"
     ]
    }
   ],
   "source": [
    "# Create a variable savings\n",
    "savings = 100\n",
    "\n",
    "# Create a variable growth_multiplier\n",
    "growth_multiplier = 1.1\n",
    "\n",
    "# Calculate result\n",
    "result = savings * growth_multiplier ** 7\n",
    "\n",
    "# Print out result\n",
    "print(result)"
   ]
  },
  {
   "cell_type": "code",
   "execution_count": 4,
   "metadata": {},
   "outputs": [],
   "source": [
    "# Create a variable desc\n",
    "desc = \"compound interest\"\n",
    "\n",
    "# Create a variable profitable\n",
    "profitable = True"
   ]
  },
  {
   "cell_type": "markdown",
   "metadata": {},
   "source": [
    "To find out the type of a value or a variable that refers to that value, you can use the `type()` function. \n",
    "\n",
    "When you sum two strings, for example, you'll get different behavior than when you sum two integers or two booleans."
   ]
  },
  {
   "cell_type": "code",
   "execution_count": 5,
   "metadata": {},
   "outputs": [
    {
     "name": "stdout",
     "output_type": "stream",
     "text": [
      "<class 'float'>\n",
      "compound interestcompound interest\n"
     ]
    }
   ],
   "source": [
    "savings = 100\n",
    "growth_multiplier = 1.1\n",
    "desc = \"compound interest\"\n",
    "\n",
    "# Assign product of growth_multiplier and savings to year1\n",
    "year1 = growth_multiplier * savings\n",
    "\n",
    "# Print the type of year1\n",
    "print(type(year1))\n",
    "\n",
    "# Assign sum of desc and desc to doubledesc\n",
    "doubledesc = desc + desc\n",
    "\n",
    "# Print out doubledesc\n",
    "print(doubledesc)"
   ]
  },
  {
   "cell_type": "markdown",
   "metadata": {},
   "source": [
    "You can explicitly convert the types of your variables. More specifically, you'll need `str()`, to convert a value into a string. `str(savings)`, for example, will convert the float savings to a string.\n",
    "\n",
    "Similar functions such as `int()`, `float()` and `bool()` will help you convert Python values into any type."
   ]
  },
  {
   "cell_type": "code",
   "execution_count": 6,
   "metadata": {},
   "outputs": [
    {
     "name": "stdout",
     "output_type": "stream",
     "text": [
      "I started with $100 and now have $194.87171000000012. Awesome!\n"
     ]
    }
   ],
   "source": [
    "# Definition of savings and result\n",
    "savings = 100\n",
    "result = 100 * 1.10 ** 7\n",
    "\n",
    "# Fix the printout\n",
    "print(\"I started with $\" + str(savings) + \" and now have $\" + str(result) + \". Awesome!\")\n",
    "\n",
    "# Definition of pi_string\n",
    "pi_string = \"3.1415926\"\n",
    "\n",
    "# Convert pi_string into float: pi_float\n",
    "pi_float = float(pi_string)"
   ]
  },
  {
   "cell_type": "markdown",
   "metadata": {},
   "source": [
    "## List\n",
    "\n",
    "As opposed to int, bool etc., a list is a **compound data type**; you can group values together:"
   ]
  },
  {
   "cell_type": "code",
   "execution_count": 10,
   "metadata": {},
   "outputs": [
    {
     "name": "stdout",
     "output_type": "stream",
     "text": [
      "[1, 3, 4, 2]\n",
      "[[1, 2, 3], [4, 5, 7]]\n",
      "[3, 'aaaaa', 3]\n"
     ]
    }
   ],
   "source": [
    "a = \"is\"\n",
    "b = \"nice\"\n",
    "my_list = [\"my\", \"list\", a, b]\n",
    "\n",
    "l1 = [1, 3, 4, 2]\n",
    "l2 = [[1, 2, 3], [4, 5, 7]]\n",
    "l3 = [1 + 2, \"a\" * 5, 3]\n",
    "\n",
    "print(l1)\n",
    "print(l2)\n",
    "print(l3)"
   ]
  },
  {
   "cell_type": "markdown",
   "metadata": {},
   "source": [
    "### Create"
   ]
  },
  {
   "cell_type": "code",
   "execution_count": 8,
   "metadata": {},
   "outputs": [
    {
     "name": "stdout",
     "output_type": "stream",
     "text": [
      "[11.25, 18.0, 20.0, 10.75, 9.5]\n"
     ]
    }
   ],
   "source": [
    "# area variables (in square meters)\n",
    "hall = 11.25\n",
    "kit = 18.0\n",
    "liv = 20.0\n",
    "bed = 10.75\n",
    "bath = 9.50\n",
    "\n",
    "# Create list areas\n",
    "areas = [hall, kit, liv, bed, bath]\n",
    "\n",
    "# Print areas\n",
    "print(areas)"
   ]
  },
  {
   "cell_type": "markdown",
   "metadata": {},
   "source": [
    "### Different Types\n",
    "\n",
    "A list can contain any Python type. Although it's not really common, a list can also contain a mix of Python types including strings, floats, booleans, etc."
   ]
  },
  {
   "cell_type": "code",
   "execution_count": 11,
   "metadata": {},
   "outputs": [
    {
     "name": "stdout",
     "output_type": "stream",
     "text": [
      "['hallway', 11.25, 'kitchen', 18.0, 'living room', 20.0, 'bedroom', 10.75, 'bathroom', 9.5]\n"
     ]
    }
   ],
   "source": [
    "# area variables (in square meters)\n",
    "hall = 11.25\n",
    "kit = 18.0\n",
    "liv = 20.0\n",
    "bed = 10.75\n",
    "bath = 9.50\n",
    "\n",
    "# Adapt list areas\n",
    "areas = [\"hallway\", hall, \"kitchen\", kit, \"living room\", liv, \"bedroom\", bed, \"bathroom\", bath]\n",
    "\n",
    "# Print areas\n",
    "print(areas)"
   ]
  },
  {
   "cell_type": "markdown",
   "metadata": {},
   "source": [
    "### List of Lists"
   ]
  },
  {
   "cell_type": "code",
   "execution_count": 12,
   "metadata": {},
   "outputs": [
    {
     "name": "stdout",
     "output_type": "stream",
     "text": [
      "[['hallway', 11.25], ['kitchen', 18.0], ['living room', 20.0], ['bedroom', 10.75], ['bathroom', 9.5]]\n",
      "<class 'list'>\n"
     ]
    }
   ],
   "source": [
    "# area variables (in square meters)\n",
    "hall = 11.25\n",
    "kit = 18.0\n",
    "liv = 20.0\n",
    "bed = 10.75\n",
    "bath = 9.50\n",
    "\n",
    "# house information as list of lists\n",
    "house = [[\"hallway\", hall],\n",
    "         [\"kitchen\", kit],\n",
    "         [\"living room\", liv],\n",
    "         [\"bedroom\", bed],\n",
    "         [\"bathroom\", bath]]\n",
    "\n",
    "# Print out house\n",
    "print(house)\n",
    "\n",
    "# Print out the type of house\n",
    "print(type(house))"
   ]
  },
  {
   "cell_type": "markdown",
   "metadata": {},
   "source": [
    "### Subsetting\n",
    "\n",
    "Subsetting Python lists is a piece of cake. Take the code sample below, which creates a list x and then selects \"b\" from it. Remember that this is the second element, so it has index 1. You can also use negative indexing."
   ]
  },
  {
   "cell_type": "code",
   "execution_count": 14,
   "metadata": {},
   "outputs": [
    {
     "name": "stdout",
     "output_type": "stream",
     "text": [
      "b\n",
      "b\n"
     ]
    }
   ],
   "source": [
    "x = [\"a\", \"b\", \"c\", \"d\"]\n",
    "print(x[1])\n",
    "print(x[-3]) # same result!"
   ]
  },
  {
   "cell_type": "code",
   "execution_count": 15,
   "metadata": {},
   "outputs": [
    {
     "name": "stdout",
     "output_type": "stream",
     "text": [
      "11.25\n",
      "9.5\n",
      "20.0\n"
     ]
    }
   ],
   "source": [
    "# Create the areas list\n",
    "areas = [\"hallway\", 11.25, \"kitchen\", 18.0, \"living room\", 20.0, \"bedroom\", 10.75, \"bathroom\", 9.50]\n",
    "\n",
    "# Print out second element from areas\n",
    "print(areas[1])\n",
    "\n",
    "# Print out last element from areas\n",
    "print(areas[-1])\n",
    "\n",
    "# Print out the area of the living room\n",
    "print(areas[5])"
   ]
  },
  {
   "cell_type": "code",
   "execution_count": 16,
   "metadata": {},
   "outputs": [
    {
     "name": "stdout",
     "output_type": "stream",
     "text": [
      "bd\n"
     ]
    }
   ],
   "source": [
    "x = [\"a\", \"b\", \"c\", \"d\"]\n",
    "print(x[1] + x[3])"
   ]
  },
  {
   "cell_type": "code",
   "execution_count": 17,
   "metadata": {},
   "outputs": [
    {
     "name": "stdout",
     "output_type": "stream",
     "text": [
      "28.75\n"
     ]
    }
   ],
   "source": [
    "# Create the areas list\n",
    "areas = [\"hallway\", 11.25, \"kitchen\", 18.0, \"living room\", 20.0, \"bedroom\", 10.75, \"bathroom\", 9.50]\n",
    "\n",
    "# Sum of kitchen and bedroom area: eat_sleep_area\n",
    "eat_sleep_area = areas[3] + areas[-3]\n",
    "\n",
    "# Print the variable eat_sleep_area\n",
    "print(eat_sleep_area)"
   ]
  },
  {
   "cell_type": "markdown",
   "metadata": {},
   "source": [
    "### Slicing and Dicing\n",
    "\n",
    "Selecting single values from a list is just one part of the story. It's also possible to slice your list, which means selecting multiple elements from your list. Use the following syntax: `my_list[start:end]`. The start index will be included, while the end index is not.\n",
    "\n",
    "The code sample below shows an example. A list with \"b\" and \"c\", corresponding to indexes 1 and 2, are selected from a list x:"
   ]
  },
  {
   "cell_type": "code",
   "execution_count": 18,
   "metadata": {},
   "outputs": [
    {
     "data": {
      "text/plain": [
       "['b', 'c']"
      ]
     },
     "execution_count": 18,
     "metadata": {},
     "output_type": "execute_result"
    }
   ],
   "source": [
    "x = [\"a\", \"b\", \"c\", \"d\"]\n",
    "x[1:3]"
   ]
  },
  {
   "cell_type": "markdown",
   "metadata": {},
   "source": [
    "The elements with index 1 and 2 are included, while the element with index 3 is not."
   ]
  },
  {
   "cell_type": "code",
   "execution_count": 19,
   "metadata": {},
   "outputs": [
    {
     "name": "stdout",
     "output_type": "stream",
     "text": [
      "['hallway', 11.25, 'kitchen', 18.0, 'living room', 20.0]\n",
      "['bedroom', 10.75, 'bathroom', 9.5]\n"
     ]
    }
   ],
   "source": [
    "# Create the areas list\n",
    "areas = [\"hallway\", 11.25, \"kitchen\", 18.0, \"living room\", 20.0, \"bedroom\", 10.75, \"bathroom\", 9.50]\n",
    "\n",
    "# Use slicing to create downstairs\n",
    "downstairs = areas[:6]\n",
    "\n",
    "# Use slicing to create upstairs\n",
    "upstairs = areas[-4:]\n",
    "\n",
    "# Print out downstairs and upstairs\n",
    "print(downstairs)\n",
    "print(upstairs)"
   ]
  },
  {
   "cell_type": "markdown",
   "metadata": {},
   "source": [
    "It's also possible not to specify these indexes. If you don't specify the begin index, Python figures out that you want to start your slice at the beginning of your list. If you don't specify the end index, the slice will go all the way to the last element of your list."
   ]
  },
  {
   "cell_type": "code",
   "execution_count": 22,
   "metadata": {},
   "outputs": [
    {
     "name": "stdout",
     "output_type": "stream",
     "text": [
      "['a', 'b']\n",
      "['c', 'd']\n",
      "['a', 'b', 'c', 'd']\n"
     ]
    }
   ],
   "source": [
    "x = [\"a\", \"b\", \"c\", \"d\"]\n",
    "print(x[:2])\n",
    "print(x[2:])\n",
    "print(x[:])"
   ]
  },
  {
   "cell_type": "code",
   "execution_count": 20,
   "metadata": {},
   "outputs": [],
   "source": [
    "# Create the areas list\n",
    "areas = [\"hallway\", 11.25, \"kitchen\", 18.0, \"living room\", 20.0, \"bedroom\", 10.75, \"bathroom\", 9.50]\n",
    "\n",
    "# Alternative slicing to create downstairs\n",
    "downstairs = areas[:6]\n",
    "\n",
    "# Alternative slicing to create upstairs\n",
    "upstairs = areas[-4:]"
   ]
  },
  {
   "cell_type": "markdown",
   "metadata": {},
   "source": [
    "### Subsetting Lists of Lists"
   ]
  },
  {
   "cell_type": "code",
   "execution_count": 24,
   "metadata": {},
   "outputs": [
    {
     "name": "stdout",
     "output_type": "stream",
     "text": [
      "g\n",
      "['g', 'h']\n"
     ]
    }
   ],
   "source": [
    "x = [[\"a\", \"b\", \"c\"],\n",
    "     [\"d\", \"e\", \"f\"],\n",
    "     [\"g\", \"h\", \"i\"]]\n",
    "print(x[2][0])\n",
    "print(x[2][:2])"
   ]
  },
  {
   "cell_type": "markdown",
   "metadata": {},
   "source": [
    "### Manipulate"
   ]
  },
  {
   "cell_type": "code",
   "execution_count": 27,
   "metadata": {},
   "outputs": [
    {
     "name": "stdout",
     "output_type": "stream",
     "text": [
      "['a', 'r', 'c', 'd']\n",
      "['a', 'r', 's', 't']\n"
     ]
    }
   ],
   "source": [
    "# Replace\n",
    "\n",
    "x = [\"a\", \"b\", \"c\", \"d\"]\n",
    "x[1] = \"r\"\n",
    "\n",
    "print(x)\n",
    "\n",
    "x[2:] = [\"s\", \"t\"]\n",
    "\n",
    "print(x)"
   ]
  },
  {
   "cell_type": "code",
   "execution_count": 28,
   "metadata": {},
   "outputs": [],
   "source": [
    "# Create the areas list\n",
    "areas = [\"hallway\", 11.25, \"kitchen\", 18.0, \"living room\", 20.0, \"bedroom\", 10.75, \"bathroom\", 9.50]\n",
    "\n",
    "# Correct the bathroom area\n",
    "areas[-1] = 10.5\n",
    "\n",
    "# Change \"living room\" to \"chill zone\"\n",
    "areas[4] = \"chill zone\""
   ]
  },
  {
   "cell_type": "code",
   "execution_count": 30,
   "metadata": {},
   "outputs": [
    {
     "name": "stdout",
     "output_type": "stream",
     "text": [
      "['a', 'b', 'c', 'd', 'e', 'f']\n"
     ]
    }
   ],
   "source": [
    "# Extend the list\n",
    "\n",
    "x = [\"a\", \"b\", \"c\", \"d\"]\n",
    "y = x + [\"e\", \"f\"]\n",
    "\n",
    "print(y)"
   ]
  },
  {
   "cell_type": "code",
   "execution_count": 31,
   "metadata": {},
   "outputs": [],
   "source": [
    "# Create the areas list and make some changes\n",
    "areas = [\"hallway\", 11.25, \"kitchen\", 18.0, \"chill zone\", 20.0,\n",
    "         \"bedroom\", 10.75, \"bathroom\", 10.50]\n",
    "\n",
    "# Add poolhouse data to areas, new list is areas_1\n",
    "areas_1 = areas + [\"poolhouse\", 24.5]\n",
    "\n",
    "# Add garage data to areas_1, new list is areas_2\n",
    "areas_2 = areas_1 + [\"garage\", 15.45]"
   ]
  },
  {
   "cell_type": "code",
   "execution_count": 32,
   "metadata": {},
   "outputs": [
    {
     "name": "stdout",
     "output_type": "stream",
     "text": [
      "['a', 'c', 'd']\n"
     ]
    }
   ],
   "source": [
    "# Delete list elements\n",
    "\n",
    "x = [\"a\", \"b\", \"c\", \"d\"]\n",
    "del(x[1])\n",
    "\n",
    "print(x)"
   ]
  },
  {
   "cell_type": "markdown",
   "metadata": {},
   "source": [
    "The Python code in the script already creates a list with the name areas and a copy named areas_copy. Next, the first element in the areas_copy list is changed and the areas list is printed out. If you hit Run Code you'll see that, although you've changed areas_copy, the change also takes effect in the areas list. That's because areas and areas_copy point to the same list.\n",
    "\n",
    "If you want to prevent changes in areas_copy from also taking effect in areas, you'll have to do a more **explicit copy of the areas list**. You can do this with `list()` or by using `[:]`."
   ]
  },
  {
   "cell_type": "code",
   "execution_count": 33,
   "metadata": {},
   "outputs": [
    {
     "name": "stdout",
     "output_type": "stream",
     "text": [
      "[11.25, 18.0, 20.0, 10.75, 9.5]\n"
     ]
    }
   ],
   "source": [
    "# Create list areas\n",
    "areas = [11.25, 18.0, 20.0, 10.75, 9.50]\n",
    "\n",
    "# Create areas_copy\n",
    "areas_copy = list(areas)\n",
    "\n",
    "# Change areas_copy\n",
    "areas_copy[0] = 5.0\n",
    "\n",
    "# Print areas\n",
    "print(areas)"
   ]
  },
  {
   "cell_type": "markdown",
   "metadata": {},
   "source": [
    "### Functions available to lists"
   ]
  },
  {
   "cell_type": "code",
   "execution_count": 37,
   "metadata": {},
   "outputs": [
    {
     "name": "stdout",
     "output_type": "stream",
     "text": [
      "<class 'list'>\n",
      "4\n",
      "<class 'int'>\n"
     ]
    }
   ],
   "source": [
    "# Create variables var1 and var2\n",
    "var1 = [1, 2, 3, 4]\n",
    "var2 = True\n",
    "\n",
    "# Print out type of var1\n",
    "print(type(var1))\n",
    "\n",
    "# Print out length of var1\n",
    "print(len(var1))\n",
    "\n",
    "# Convert var2 to an integer: out2\n",
    "out2 = int(var2)\n",
    "\n",
    "print(type(out2))"
   ]
  },
  {
   "cell_type": "markdown",
   "metadata": {},
   "source": [
    "### Getting help"
   ]
  },
  {
   "cell_type": "code",
   "execution_count": 39,
   "metadata": {},
   "outputs": [
    {
     "name": "stdout",
     "output_type": "stream",
     "text": [
      "Help on built-in function max in module builtins:\n",
      "\n",
      "max(...)\n",
      "    max(iterable, *[, default=obj, key=func]) -> value\n",
      "    max(arg1, arg2, *args, *[, key=func]) -> value\n",
      "    \n",
      "    With a single iterable argument, return its biggest item. The\n",
      "    default keyword-only argument specifies an object to return if\n",
      "    the provided iterable is empty.\n",
      "    With two or more arguments, return the largest argument.\n",
      "\n"
     ]
    }
   ],
   "source": [
    "help(max)"
   ]
  },
  {
   "cell_type": "code",
   "execution_count": 40,
   "metadata": {},
   "outputs": [
    {
     "data": {
      "text/plain": [
       "\u001b[0;31mDocstring:\u001b[0m\n",
       "max(iterable, *[, default=obj, key=func]) -> value\n",
       "max(arg1, arg2, *args, *[, key=func]) -> value\n",
       "\n",
       "With a single iterable argument, return its biggest item. The\n",
       "default keyword-only argument specifies an object to return if\n",
       "the provided iterable is empty.\n",
       "With two or more arguments, return the largest argument.\n",
       "\u001b[0;31mType:\u001b[0m      builtin_function_or_method\n"
      ]
     },
     "metadata": {},
     "output_type": "display_data"
    }
   ],
   "source": [
    "?max"
   ]
  },
  {
   "cell_type": "markdown",
   "metadata": {},
   "source": [
    "### Function example (sorted)"
   ]
  },
  {
   "cell_type": "code",
   "execution_count": 42,
   "metadata": {},
   "outputs": [
    {
     "name": "stdout",
     "output_type": "stream",
     "text": [
      "[20.0, 18.0, 11.25, 10.75, 9.5]\n"
     ]
    }
   ],
   "source": [
    "# Create lists first and second\n",
    "first = [11.25, 18.0, 20.0]\n",
    "second = [10.75, 9.50]\n",
    "\n",
    "# Paste together first and second: full\n",
    "full = first + second\n",
    "\n",
    "# Sort full in descending order: full_sorted\n",
    "full_sorted = sorted(full, reverse=True)\n",
    "\n",
    "# Print out full_sorted\n",
    "print(full_sorted)"
   ]
  },
  {
   "cell_type": "markdown",
   "metadata": {},
   "source": [
    "## String Methods"
   ]
  },
  {
   "cell_type": "code",
   "execution_count": 41,
   "metadata": {},
   "outputs": [
    {
     "name": "stdout",
     "output_type": "stream",
     "text": [
      "Help on class str in module builtins:\n",
      "\n",
      "class str(object)\n",
      " |  str(object='') -> str\n",
      " |  str(bytes_or_buffer[, encoding[, errors]]) -> str\n",
      " |  \n",
      " |  Create a new string object from the given object. If encoding or\n",
      " |  errors is specified, then the object must expose a data buffer\n",
      " |  that will be decoded using the given encoding and error handler.\n",
      " |  Otherwise, returns the result of object.__str__() (if defined)\n",
      " |  or repr(object).\n",
      " |  encoding defaults to sys.getdefaultencoding().\n",
      " |  errors defaults to 'strict'.\n",
      " |  \n",
      " |  Methods defined here:\n",
      " |  \n",
      " |  __add__(self, value, /)\n",
      " |      Return self+value.\n",
      " |  \n",
      " |  __contains__(self, key, /)\n",
      " |      Return key in self.\n",
      " |  \n",
      " |  __eq__(self, value, /)\n",
      " |      Return self==value.\n",
      " |  \n",
      " |  __format__(self, format_spec, /)\n",
      " |      Return a formatted version of the string as described by format_spec.\n",
      " |  \n",
      " |  __ge__(self, value, /)\n",
      " |      Return self>=value.\n",
      " |  \n",
      " |  __getattribute__(self, name, /)\n",
      " |      Return getattr(self, name).\n",
      " |  \n",
      " |  __getitem__(self, key, /)\n",
      " |      Return self[key].\n",
      " |  \n",
      " |  __getnewargs__(...)\n",
      " |  \n",
      " |  __gt__(self, value, /)\n",
      " |      Return self>value.\n",
      " |  \n",
      " |  __hash__(self, /)\n",
      " |      Return hash(self).\n",
      " |  \n",
      " |  __iter__(self, /)\n",
      " |      Implement iter(self).\n",
      " |  \n",
      " |  __le__(self, value, /)\n",
      " |      Return self<=value.\n",
      " |  \n",
      " |  __len__(self, /)\n",
      " |      Return len(self).\n",
      " |  \n",
      " |  __lt__(self, value, /)\n",
      " |      Return self<value.\n",
      " |  \n",
      " |  __mod__(self, value, /)\n",
      " |      Return self%value.\n",
      " |  \n",
      " |  __mul__(self, value, /)\n",
      " |      Return self*value.\n",
      " |  \n",
      " |  __ne__(self, value, /)\n",
      " |      Return self!=value.\n",
      " |  \n",
      " |  __repr__(self, /)\n",
      " |      Return repr(self).\n",
      " |  \n",
      " |  __rmod__(self, value, /)\n",
      " |      Return value%self.\n",
      " |  \n",
      " |  __rmul__(self, value, /)\n",
      " |      Return value*self.\n",
      " |  \n",
      " |  __sizeof__(self, /)\n",
      " |      Return the size of the string in memory, in bytes.\n",
      " |  \n",
      " |  __str__(self, /)\n",
      " |      Return str(self).\n",
      " |  \n",
      " |  capitalize(self, /)\n",
      " |      Return a capitalized version of the string.\n",
      " |      \n",
      " |      More specifically, make the first character have upper case and the rest lower\n",
      " |      case.\n",
      " |  \n",
      " |  casefold(self, /)\n",
      " |      Return a version of the string suitable for caseless comparisons.\n",
      " |  \n",
      " |  center(self, width, fillchar=' ', /)\n",
      " |      Return a centered string of length width.\n",
      " |      \n",
      " |      Padding is done using the specified fill character (default is a space).\n",
      " |  \n",
      " |  count(...)\n",
      " |      S.count(sub[, start[, end]]) -> int\n",
      " |      \n",
      " |      Return the number of non-overlapping occurrences of substring sub in\n",
      " |      string S[start:end].  Optional arguments start and end are\n",
      " |      interpreted as in slice notation.\n",
      " |  \n",
      " |  encode(self, /, encoding='utf-8', errors='strict')\n",
      " |      Encode the string using the codec registered for encoding.\n",
      " |      \n",
      " |      encoding\n",
      " |        The encoding in which to encode the string.\n",
      " |      errors\n",
      " |        The error handling scheme to use for encoding errors.\n",
      " |        The default is 'strict' meaning that encoding errors raise a\n",
      " |        UnicodeEncodeError.  Other possible values are 'ignore', 'replace' and\n",
      " |        'xmlcharrefreplace' as well as any other name registered with\n",
      " |        codecs.register_error that can handle UnicodeEncodeErrors.\n",
      " |  \n",
      " |  endswith(...)\n",
      " |      S.endswith(suffix[, start[, end]]) -> bool\n",
      " |      \n",
      " |      Return True if S ends with the specified suffix, False otherwise.\n",
      " |      With optional start, test S beginning at that position.\n",
      " |      With optional end, stop comparing S at that position.\n",
      " |      suffix can also be a tuple of strings to try.\n",
      " |  \n",
      " |  expandtabs(self, /, tabsize=8)\n",
      " |      Return a copy where all tab characters are expanded using spaces.\n",
      " |      \n",
      " |      If tabsize is not given, a tab size of 8 characters is assumed.\n",
      " |  \n",
      " |  find(...)\n",
      " |      S.find(sub[, start[, end]]) -> int\n",
      " |      \n",
      " |      Return the lowest index in S where substring sub is found,\n",
      " |      such that sub is contained within S[start:end].  Optional\n",
      " |      arguments start and end are interpreted as in slice notation.\n",
      " |      \n",
      " |      Return -1 on failure.\n",
      " |  \n",
      " |  format(...)\n",
      " |      S.format(*args, **kwargs) -> str\n",
      " |      \n",
      " |      Return a formatted version of S, using substitutions from args and kwargs.\n",
      " |      The substitutions are identified by braces ('{' and '}').\n",
      " |  \n",
      " |  format_map(...)\n",
      " |      S.format_map(mapping) -> str\n",
      " |      \n",
      " |      Return a formatted version of S, using substitutions from mapping.\n",
      " |      The substitutions are identified by braces ('{' and '}').\n",
      " |  \n",
      " |  index(...)\n",
      " |      S.index(sub[, start[, end]]) -> int\n",
      " |      \n",
      " |      Return the lowest index in S where substring sub is found, \n",
      " |      such that sub is contained within S[start:end].  Optional\n",
      " |      arguments start and end are interpreted as in slice notation.\n",
      " |      \n",
      " |      Raises ValueError when the substring is not found.\n",
      " |  \n",
      " |  isalnum(self, /)\n",
      " |      Return True if the string is an alpha-numeric string, False otherwise.\n",
      " |      \n",
      " |      A string is alpha-numeric if all characters in the string are alpha-numeric and\n",
      " |      there is at least one character in the string.\n",
      " |  \n",
      " |  isalpha(self, /)\n",
      " |      Return True if the string is an alphabetic string, False otherwise.\n",
      " |      \n",
      " |      A string is alphabetic if all characters in the string are alphabetic and there\n",
      " |      is at least one character in the string.\n",
      " |  \n",
      " |  isascii(self, /)\n",
      " |      Return True if all characters in the string are ASCII, False otherwise.\n",
      " |      \n",
      " |      ASCII characters have code points in the range U+0000-U+007F.\n",
      " |      Empty string is ASCII too.\n",
      " |  \n",
      " |  isdecimal(self, /)\n",
      " |      Return True if the string is a decimal string, False otherwise.\n",
      " |      \n",
      " |      A string is a decimal string if all characters in the string are decimal and\n",
      " |      there is at least one character in the string.\n",
      " |  \n",
      " |  isdigit(self, /)\n",
      " |      Return True if the string is a digit string, False otherwise.\n",
      " |      \n",
      " |      A string is a digit string if all characters in the string are digits and there\n",
      " |      is at least one character in the string.\n",
      " |  \n",
      " |  isidentifier(self, /)\n",
      " |      Return True if the string is a valid Python identifier, False otherwise.\n",
      " |      \n",
      " |      Use keyword.iskeyword() to test for reserved identifiers such as \"def\" and\n",
      " |      \"class\".\n",
      " |  \n",
      " |  islower(self, /)\n",
      " |      Return True if the string is a lowercase string, False otherwise.\n",
      " |      \n",
      " |      A string is lowercase if all cased characters in the string are lowercase and\n",
      " |      there is at least one cased character in the string.\n",
      " |  \n",
      " |  isnumeric(self, /)\n",
      " |      Return True if the string is a numeric string, False otherwise.\n",
      " |      \n",
      " |      A string is numeric if all characters in the string are numeric and there is at\n",
      " |      least one character in the string.\n",
      " |  \n",
      " |  isprintable(self, /)\n",
      " |      Return True if the string is printable, False otherwise.\n",
      " |      \n",
      " |      A string is printable if all of its characters are considered printable in\n",
      " |      repr() or if it is empty.\n",
      " |  \n",
      " |  isspace(self, /)\n",
      " |      Return True if the string is a whitespace string, False otherwise.\n",
      " |      \n",
      " |      A string is whitespace if all characters in the string are whitespace and there\n",
      " |      is at least one character in the string.\n",
      " |  \n",
      " |  istitle(self, /)\n",
      " |      Return True if the string is a title-cased string, False otherwise.\n",
      " |      \n",
      " |      In a title-cased string, upper- and title-case characters may only\n",
      " |      follow uncased characters and lowercase characters only cased ones.\n",
      " |  \n",
      " |  isupper(self, /)\n",
      " |      Return True if the string is an uppercase string, False otherwise.\n",
      " |      \n",
      " |      A string is uppercase if all cased characters in the string are uppercase and\n",
      " |      there is at least one cased character in the string.\n",
      " |  \n",
      " |  join(self, iterable, /)\n",
      " |      Concatenate any number of strings.\n",
      " |      \n",
      " |      The string whose method is called is inserted in between each given string.\n",
      " |      The result is returned as a new string.\n",
      " |      \n",
      " |      Example: '.'.join(['ab', 'pq', 'rs']) -> 'ab.pq.rs'\n",
      " |  \n",
      " |  ljust(self, width, fillchar=' ', /)\n",
      " |      Return a left-justified string of length width.\n",
      " |      \n",
      " |      Padding is done using the specified fill character (default is a space).\n",
      " |  \n",
      " |  lower(self, /)\n",
      " |      Return a copy of the string converted to lowercase.\n",
      " |  \n",
      " |  lstrip(self, chars=None, /)\n",
      " |      Return a copy of the string with leading whitespace removed.\n",
      " |      \n",
      " |      If chars is given and not None, remove characters in chars instead.\n",
      " |  \n",
      " |  partition(self, sep, /)\n",
      " |      Partition the string into three parts using the given separator.\n",
      " |      \n",
      " |      This will search for the separator in the string.  If the separator is found,\n",
      " |      returns a 3-tuple containing the part before the separator, the separator\n",
      " |      itself, and the part after it.\n",
      " |      \n",
      " |      If the separator is not found, returns a 3-tuple containing the original string\n",
      " |      and two empty strings.\n",
      " |  \n",
      " |  replace(self, old, new, count=-1, /)\n",
      " |      Return a copy with all occurrences of substring old replaced by new.\n",
      " |      \n",
      " |        count\n",
      " |          Maximum number of occurrences to replace.\n",
      " |          -1 (the default value) means replace all occurrences.\n",
      " |      \n",
      " |      If the optional argument count is given, only the first count occurrences are\n",
      " |      replaced.\n",
      " |  \n",
      " |  rfind(...)\n",
      " |      S.rfind(sub[, start[, end]]) -> int\n",
      " |      \n",
      " |      Return the highest index in S where substring sub is found,\n",
      " |      such that sub is contained within S[start:end].  Optional\n",
      " |      arguments start and end are interpreted as in slice notation.\n",
      " |      \n",
      " |      Return -1 on failure.\n",
      " |  \n",
      " |  rindex(...)\n",
      " |      S.rindex(sub[, start[, end]]) -> int\n",
      " |      \n",
      " |      Return the highest index in S where substring sub is found,\n",
      " |      such that sub is contained within S[start:end].  Optional\n",
      " |      arguments start and end are interpreted as in slice notation.\n",
      " |      \n",
      " |      Raises ValueError when the substring is not found.\n",
      " |  \n",
      " |  rjust(self, width, fillchar=' ', /)\n",
      " |      Return a right-justified string of length width.\n",
      " |      \n",
      " |      Padding is done using the specified fill character (default is a space).\n",
      " |  \n",
      " |  rpartition(self, sep, /)\n",
      " |      Partition the string into three parts using the given separator.\n",
      " |      \n",
      " |      This will search for the separator in the string, starting at the end. If\n",
      " |      the separator is found, returns a 3-tuple containing the part before the\n",
      " |      separator, the separator itself, and the part after it.\n",
      " |      \n",
      " |      If the separator is not found, returns a 3-tuple containing two empty strings\n",
      " |      and the original string.\n",
      " |  \n",
      " |  rsplit(self, /, sep=None, maxsplit=-1)\n",
      " |      Return a list of the words in the string, using sep as the delimiter string.\n",
      " |      \n",
      " |        sep\n",
      " |          The delimiter according which to split the string.\n",
      " |          None (the default value) means split according to any whitespace,\n",
      " |          and discard empty strings from the result.\n",
      " |        maxsplit\n",
      " |          Maximum number of splits to do.\n",
      " |          -1 (the default value) means no limit.\n",
      " |      \n",
      " |      Splits are done starting at the end of the string and working to the front.\n",
      " |  \n",
      " |  rstrip(self, chars=None, /)\n",
      " |      Return a copy of the string with trailing whitespace removed.\n",
      " |      \n",
      " |      If chars is given and not None, remove characters in chars instead.\n",
      " |  \n",
      " |  split(self, /, sep=None, maxsplit=-1)\n",
      " |      Return a list of the words in the string, using sep as the delimiter string.\n",
      " |      \n",
      " |      sep\n",
      " |        The delimiter according which to split the string.\n",
      " |        None (the default value) means split according to any whitespace,\n",
      " |        and discard empty strings from the result.\n",
      " |      maxsplit\n",
      " |        Maximum number of splits to do.\n",
      " |        -1 (the default value) means no limit.\n",
      " |  \n",
      " |  splitlines(self, /, keepends=False)\n",
      " |      Return a list of the lines in the string, breaking at line boundaries.\n",
      " |      \n",
      " |      Line breaks are not included in the resulting list unless keepends is given and\n",
      " |      true.\n",
      " |  \n",
      " |  startswith(...)\n",
      " |      S.startswith(prefix[, start[, end]]) -> bool\n",
      " |      \n",
      " |      Return True if S starts with the specified prefix, False otherwise.\n",
      " |      With optional start, test S beginning at that position.\n",
      " |      With optional end, stop comparing S at that position.\n",
      " |      prefix can also be a tuple of strings to try.\n",
      " |  \n",
      " |  strip(self, chars=None, /)\n",
      " |      Return a copy of the string with leading and trailing whitespace remove.\n",
      " |      \n",
      " |      If chars is given and not None, remove characters in chars instead.\n",
      " |  \n",
      " |  swapcase(self, /)\n",
      " |      Convert uppercase characters to lowercase and lowercase characters to uppercase.\n",
      " |  \n",
      " |  title(self, /)\n",
      " |      Return a version of the string where each word is titlecased.\n",
      " |      \n",
      " |      More specifically, words start with uppercased characters and all remaining\n",
      " |      cased characters have lower case.\n",
      " |  \n",
      " |  translate(self, table, /)\n",
      " |      Replace each character in the string using the given translation table.\n",
      " |      \n",
      " |        table\n",
      " |          Translation table, which must be a mapping of Unicode ordinals to\n",
      " |          Unicode ordinals, strings, or None.\n",
      " |      \n",
      " |      The table must implement lookup/indexing via __getitem__, for instance a\n",
      " |      dictionary or list.  If this operation raises LookupError, the character is\n",
      " |      left untouched.  Characters mapped to None are deleted.\n",
      " |  \n",
      " |  upper(self, /)\n",
      " |      Return a copy of the string converted to uppercase.\n",
      " |  \n",
      " |  zfill(self, width, /)\n",
      " |      Pad a numeric string with zeros on the left, to fill a field of the given width.\n",
      " |      \n",
      " |      The string is never truncated.\n",
      " |  \n",
      " |  ----------------------------------------------------------------------\n",
      " |  Static methods defined here:\n",
      " |  \n",
      " |  __new__(*args, **kwargs) from builtins.type\n",
      " |      Create and return a new object.  See help(type) for accurate signature.\n",
      " |  \n",
      " |  maketrans(x, y=None, z=None, /)\n",
      " |      Return a translation table usable for str.translate().\n",
      " |      \n",
      " |      If there is only one argument, it must be a dictionary mapping Unicode\n",
      " |      ordinals (integers) or characters to Unicode ordinals, strings or None.\n",
      " |      Character keys will be then converted to ordinals.\n",
      " |      If there are two arguments, they must be strings of equal length, and\n",
      " |      in the resulting dictionary, each character in x will be mapped to the\n",
      " |      character at the same position in y. If there is a third argument, it\n",
      " |      must be a string, whose characters will be mapped to None in the result.\n",
      "\n"
     ]
    }
   ],
   "source": [
    "help(str)"
   ]
  },
  {
   "cell_type": "code",
   "execution_count": 43,
   "metadata": {},
   "outputs": [
    {
     "name": "stdout",
     "output_type": "stream",
     "text": [
      "poolhouse\n",
      "POOLHOUSE\n",
      "3\n"
     ]
    }
   ],
   "source": [
    "# string to experiment with: place\n",
    "place = \"poolhouse\"\n",
    "\n",
    "# Use upper() on place: place_up\n",
    "place_up = place.upper()\n",
    "\n",
    "# Print out place and place_up\n",
    "print(place)\n",
    "print(place_up)\n",
    "\n",
    "# Print out the number of o's in place\n",
    "print(place.count('o'))"
   ]
  },
  {
   "cell_type": "markdown",
   "metadata": {},
   "source": [
    "Strings are not the only Python types that have methods associated with them. Lists, floats, integers and booleans are also types that come packaged with a bunch of useful methods. In this exercise, you'll be experimenting with:\n",
    "\n",
    "- **index()**, to get the index of the first element of a list that matches its input and\n",
    "- **count()**, to get the number of times an element appears in a list,\n",
    "- **append()**, that adds an element to the list it is called on,\n",
    "- **remove()**, that removes the first element of a list that matches the input, and\n",
    "- **reverse()**, that reverses the order of the elements in the list it is called on."
   ]
  },
  {
   "cell_type": "code",
   "execution_count": 44,
   "metadata": {},
   "outputs": [
    {
     "name": "stdout",
     "output_type": "stream",
     "text": [
      "2\n",
      "1\n"
     ]
    }
   ],
   "source": [
    "# Create list areas\n",
    "areas = [11.25, 18.0, 20.0, 10.75, 9.50]\n",
    "\n",
    "# Print out the index of the element 20.0\n",
    "print(areas.index(20.0))\n",
    "\n",
    "# Print out how often 9.50 appears in areas\n",
    "print(areas.count(9.50))"
   ]
  },
  {
   "cell_type": "code",
   "execution_count": 45,
   "metadata": {},
   "outputs": [
    {
     "name": "stdout",
     "output_type": "stream",
     "text": [
      "[11.25, 18.0, 20.0, 10.75, 9.5, 24.5, 15.45]\n",
      "[15.45, 24.5, 9.5, 10.75, 20.0, 18.0, 11.25]\n"
     ]
    }
   ],
   "source": [
    "# Create list areas\n",
    "areas = [11.25, 18.0, 20.0, 10.75, 9.50]\n",
    "\n",
    "# Use append twice to add poolhouse and garage size\n",
    "areas.append(24.5)\n",
    "areas.append(15.45)\n",
    "\n",
    "# Print out areas\n",
    "print(areas)\n",
    "\n",
    "# Reverse the orders of the elements in areas\n",
    "areas.reverse()\n",
    "\n",
    "# Print out areas\n",
    "print(areas)"
   ]
  },
  {
   "cell_type": "markdown",
   "metadata": {},
   "source": [
    "## Packages"
   ]
  },
  {
   "cell_type": "code",
   "execution_count": 46,
   "metadata": {},
   "outputs": [
    {
     "name": "stdout",
     "output_type": "stream",
     "text": [
      "Circumference: 2.701769682087222\n",
      "Area: 0.5808804816487527\n"
     ]
    }
   ],
   "source": [
    "# Definition of radius\n",
    "r = 0.43\n",
    "\n",
    "# Import the math package (general import)\n",
    "import math\n",
    "\n",
    "# Calculate C\n",
    "C = 2*math.pi*r\n",
    "\n",
    "# Calculate A\n",
    "A = math.pi*r**2\n",
    "\n",
    "# Build printout\n",
    "print(\"Circumference: \" + str(C))\n",
    "print(\"Area: \" + str(A))"
   ]
  },
  {
   "cell_type": "markdown",
   "metadata": {},
   "source": [
    "**General imports**, like import math, make all functionality from the math package available to you. However, if you decide to only use a specific part of a package, you can always make your import more **selective**:"
   ]
  },
  {
   "cell_type": "code",
   "execution_count": 47,
   "metadata": {},
   "outputs": [
    {
     "name": "stdout",
     "output_type": "stream",
     "text": [
      "40317.10572106901\n"
     ]
    }
   ],
   "source": [
    "# Definition of radius\n",
    "r = 192500\n",
    "\n",
    "# Import radians function of math package (selective import)\n",
    "from math import radians\n",
    "\n",
    "# Travel distance of Moon over 12 degrees. Store in dist.\n",
    "dist = r * radians(12)\n",
    "\n",
    "# Print out dist\n",
    "print(dist)"
   ]
  },
  {
   "cell_type": "code",
   "execution_count": 51,
   "metadata": {},
   "outputs": [],
   "source": [
    "# Different ways of importing\n",
    "\n",
    "import math\n",
    "import matplotlib.pyplot\n",
    "from math import pi\n",
    "from matplotlib import pyplot as plt"
   ]
  },
  {
   "cell_type": "markdown",
   "metadata": {},
   "source": [
    "## Numpy Array"
   ]
  },
  {
   "cell_type": "code",
   "execution_count": 52,
   "metadata": {},
   "outputs": [
    {
     "name": "stdout",
     "output_type": "stream",
     "text": [
      "<class 'numpy.ndarray'>\n"
     ]
    }
   ],
   "source": [
    "# Create list baseball\n",
    "baseball = [180, 215, 210, 210, 188, 176, 209, 200]\n",
    "\n",
    "# Import the numpy package as np\n",
    "import numpy as np\n",
    "\n",
    "# Create a numpy array from baseball: np_baseball\n",
    "np_baseball = np.array(baseball)\n",
    "\n",
    "# Print out type of np_baseball\n",
    "print(type(np_baseball))"
   ]
  },
  {
   "cell_type": "code",
   "execution_count": 54,
   "metadata": {},
   "outputs": [],
   "source": [
    "# Data source: http://wiki.stat.ucla.edu/socr/index.php/SOCR_Data_MLB_HeightsWeights\n",
    "height_in = [74, 74, 72, 72, 73, 69, 69, 71, 76, 71, 73, 73, 74, 74, 69, 70, 73, 75, 78, 79, \n",
    "             76, 74, 76, 72, 71, 75, 77, 74, 73, 74, 78, 73, 75, 73, 75, 75, 74, 69, 71, 74, \n",
    "             73, 73, 76, 74, 74, 70, 72, 77, 74, 70, 73, 75, 76, 76, 78, 74, 74, 76, 77, 81, \n",
    "             78, 75, 77, 75, 76, 74, 72, 72, 75, 73, 73, 73, 70, 70, 70, 76, 68, 71, 72, 75, \n",
    "             75, 75, 75, 68, 74, 78, 71, 73, 76, 74, 74, 79, 75, 73, 76, 74, 74, 73, 72, 74, \n",
    "             73, 74, 72, 73, 69, 72, 73, 75, 75, 73, 72, 72, 76, 74, 72, 77, 74, 77, 75, 76, \n",
    "             80, 74, 74, 75, 78, 73, 73, 74, 75, 76, 71, 73, 74, 76, 76, 74, 73, 74, 70, 72, \n",
    "             73, 73, 73, 73, 71, 74, 74, 72, 74, 71, 74, 73, 75, 75, 79, 73, 75, 76, 74, 76, \n",
    "             78, 74, 76, 72, 74, 76, 74, 75, 78, 75, 72, 74, 72, 74, 70, 71, 70, 75, 71, 71, \n",
    "             73, 72, 71, 73, 72, 75, 74, 74, 75, 73, 77, 73, 76, 75, 74, 76, 75, 73, 71, 76, \n",
    "             75, 72, 71, 77, 73, 74, 71, 72, 74, 75, 73, 72, 75, 75, 74, 72, 74, 71, 70, 74, \n",
    "             77, 77, 75, 75, 78, 75, 76, 73, 75, 75, 79, 77, 76, 71, 75, 74, 69, 71, 76, 72, \n",
    "             72, 70, 72, 73, 71, 72, 71, 73, 72, 73, 74, 74, 72, 75, 74, 74, 77, 75, 73, 72, \n",
    "             71, 74, 77, 75, 75, 75, 78, 78, 74, 76, 78, 76, 70, 72, 80, 74, 74, 71, 70, 72, \n",
    "             71, 74, 71, 72, 71, 74, 69, 76, 75, 75, 76, 73, 76, 73, 77, 73, 72, 72, 77, 77, \n",
    "             71, 74, 74, 73, 78, 75, 73, 70, 74, 72, 73, 73, 75, 75, 74, 76, 73, 74, 75, 75, \n",
    "             72, 73, 73, 72, 74, 78, 76, 73, 74, 75, 70, 75, 71, 72, 78, 75, 73, 73, 71, 75, \n",
    "             77, 72, 69, 73, 74, 72, 70, 75, 70, 72, 72, 74, 73, 74, 76, 75, 80, 72, 75, 73, \n",
    "             74, 74, 73, 75, 75, 71, 73, 75, 74, 74, 72, 74, 74, 74, 73, 76, 75, 72, 73, 73, \n",
    "             73, 72, 72, 72, 72, 71, 75, 75, 74, 73, 75, 79, 74, 76, 73, 74, 74, 72, 74, 74, \n",
    "             75, 78, 74, 74, 74, 77, 70, 73, 74, 73, 71, 75, 71, 72, 77, 74, 70, 77, 73, 72, \n",
    "             76, 71, 76, 78, 75, 73, 78, 74, 79, 75, 76, 72, 75, 75, 70, 72, 70, 74, 71, 76, \n",
    "             73, 76, 71, 69, 72, 72, 69, 73, 69, 73, 74, 74, 72, 71, 72, 72, 76, 76, 76, 74, \n",
    "             76, 75, 71, 72, 71, 73, 75, 76, 75, 71, 75, 74, 72, 73, 73, 73, 73, 76, 72, 76, \n",
    "             73, 73, 73, 75, 75, 77, 73, 72, 75, 70, 74, 72, 80, 71, 71, 74, 74, 73, 75, 76, \n",
    "             73, 77, 72, 73, 77, 76, 71, 75, 73, 74, 77, 71, 72, 73, 69, 73, 70, 74, 76, 73, \n",
    "             73, 75, 73, 79, 74, 73, 74, 77, 75, 74, 73, 77, 73, 77, 74, 74, 73, 77, 74, 77, \n",
    "             75, 77, 75, 71, 74, 70, 79, 72, 72, 70, 74, 74, 72, 73, 72, 74, 74, 76, 82, 74, \n",
    "             74, 70, 73, 73, 74, 77, 72, 76, 73, 73, 72, 74, 74, 71, 72, 75, 74, 74, 77, 70, \n",
    "             71, 73, 76, 71, 75, 74, 72, 76, 79, 76, 73, 76, 78, 75, 76, 72, 72, 73, 73, 75, \n",
    "             71, 76, 70, 75, 74, 75, 73, 71, 71, 72, 73, 73, 72, 69, 73, 78, 71, 73, 75, 76, \n",
    "             70, 74, 77, 75, 79, 72, 77, 73, 75, 75, 75, 73, 73, 76, 77, 75, 70, 71, 71, 75, \n",
    "             74, 69, 70, 75, 72, 75, 73, 72, 72, 72, 76, 75, 74, 69, 73, 72, 72, 75, 77, 76, \n",
    "             80, 77, 76, 79, 71, 75, 73, 76, 77, 73, 76, 70, 75, 73, 75, 70, 69, 71, 72, 72, \n",
    "             73, 70, 70, 73, 76, 75, 72, 73, 79, 71, 72, 74, 74, 74, 72, 76, 76, 72, 72, 71, \n",
    "             72, 72, 70, 77, 74, 72, 76, 71, 76, 71, 73, 70, 73, 73, 72, 71, 71, 71, 72, 72, \n",
    "             74, 74, 74, 71, 72, 75, 72, 71, 72, 72, 72, 72, 74, 74, 77, 75, 73, 75, 73, 76, \n",
    "             72, 77, 75, 72, 71, 71, 75, 72, 73, 73, 71, 70, 75, 71, 76, 73, 68, 71, 72, 74, \n",
    "             77, 72, 76, 78, 81, 72, 73, 76, 72, 72, 74, 76, 73, 76, 75, 70, 71, 74, 72, 73, \n",
    "             76, 76, 73, 71, 68, 71, 71, 74, 77, 69, 72, 76, 75, 76, 75, 76, 72, 74, 76, 74, \n",
    "             72, 75, 78, 77, 70, 72, 79, 74, 71, 68, 77, 75, 71, 72, 70, 72, 72, 73, 72, 74, \n",
    "             72, 72, 75, 72, 73, 74, 72, 78, 75, 72, 74, 75, 75, 76, 74, 74, 73, 74, 71, 74, \n",
    "             75, 76, 74, 76, 76, 73, 75, 75, 74, 68, 72, 75, 71, 70, 72, 73, 72, 75, 74, 70, \n",
    "             76, 71, 82, 72, 73, 74, 71, 75, 77, 72, 74, 72, 73, 78, 77, 73, 73, 73, 73, 73, \n",
    "             76, 75, 70, 73, 72, 73, 75, 74, 73, 73, 76, 73, 75, 70, 77, 72, 77, 74, 75, 75, \n",
    "             75, 75, 72, 74, 71, 76, 71, 75, 76, 83, 75, 74, 76, 72, 72, 75, 75, 72, 77, 73, \n",
    "             72, 70, 74, 72, 74, 72, 71, 70, 71, 76, 74, 76, 74, 74, 74, 75, 75, 71, 71, 74, \n",
    "             77, 71, 74, 75, 77, 76, 74, 76, 72, 71, 72, 75, 73, 68, 72, 69, 73, 73, 75, 70, \n",
    "             70, 74, 75, 74, 74, 73, 74, 75, 77, 73, 74, 76, 74, 75, 73, 76, 78, 75, 73, 77, \n",
    "             74, 72, 74, 72, 71, 73, 75, 73, 67, 67, 76, 74, 73, 70, 75, 70, 72, 77, 79, 78, \n",
    "             74, 75, 75, 78, 76, 75, 69, 75, 72, 75, 73, 74, 75, 75, 73]"
   ]
  },
  {
   "cell_type": "code",
   "execution_count": 55,
   "metadata": {},
   "outputs": [
    {
     "name": "stdout",
     "output_type": "stream",
     "text": [
      "[74 74 72 ... 75 75 73]\n",
      "[1.8796 1.8796 1.8288 ... 1.905  1.905  1.8542]\n"
     ]
    }
   ],
   "source": [
    "# Import numpy\n",
    "import numpy as np\n",
    "\n",
    "# Create a numpy array from height_in: np_height_in\n",
    "np_height_in = np.array(height_in)\n",
    "\n",
    "# Print out np_height_in\n",
    "print(np_height_in)\n",
    "\n",
    "# Convert np_height_in to m: np_height_m\n",
    "np_height_m = np_height_in * 0.0254\n",
    "\n",
    "# Print np_height_m\n",
    "print(np_height_m)"
   ]
  },
  {
   "cell_type": "code",
   "execution_count": 56,
   "metadata": {},
   "outputs": [],
   "source": [
    "weight_lb = [180, 215, 210, 210, 188, 176, 209, 200, 231, 180, 188, 180, 185, 160, 180, 185, 189, 185, 219, 230, 205, 230, 195, 180, 192, 225, 203, 195, 182, 188, 200, 180, 200, 200, 245, 240, 215, 185, 175, 199, 200, 215, 200, 205, 206, 186, 188, 220, 210, 195, 200, 200, 212, 224, 210, 205, 220, 195, 200, 260, 228, 270, 200, 210, 190, 220, 180, 205, 210, 220, 211, 200, 180, 190, 170, 230, 155, 185, 185, 200, 225, 225, 220, 160, 205, 235, 250, 210, 190, 160, 200, 205, 222, 195, 205, 220, 220, 170, 185, 195, 220, 230, 180, 220, 180, 180, 170, 210, 215, 200, 213, 180, 192, 235, 185, 235, 210, 222, 210, 230, 220, 180, 190, 200, 210, 194, 180, 190, 240, 200, 198, 200, 195, 210, 220, 190, 210, 225, 180, 185, 170, 185, 185, 180, 178, 175, 200, 204, 211, 190, 210, 190, 190, 185, 290, 175, 185, 200, 220, 170, 220, 190, 220, 205, 200, 250, 225, 215, 210, 215, 195, 200, 194, 220, 180, 180, 170, 195, 180, 170, 206, 205, 200, 225, 201, 225, 233, 180, 225, 180, 220, 180, 237, 215, 190, 235, 190, 180, 165, 195, 200, 190, 190, 185, 185, 205, 190, 205, 206, 220, 208, 170, 195, 210, 190, 211, 230, 170, 185, 185, 241, 225, 210, 175, 230, 200, 215, 198, 226, 278, 215, 230, 240, 184, 219, 170, 218, 190, 225, 220, 176, 190, 197, 204, 167, 180, 195, 220, 215, 185, 190, 205, 205, 200, 210, 215, 200, 205, 211, 190, 208, 200, 210, 232, 230, 210, 220, 210, 202, 212, 225, 170, 190, 200, 237, 220, 170, 193, 190, 150, 220, 200, 190, 185, 185, 200, 172, 220, 225, 190, 195, 219, 190, 197, 200, 195, 210, 177, 220, 235, 180, 195, 195, 190, 230, 190, 200, 190, 190, 200, 200, 184, 200, 180, 219, 187, 200, 220, 205, 190, 170, 160, 215, 175, 205, 200, 214, 200, 190, 180, 205, 220, 190, 215, 235, 191, 200, 181, 200, 210, 240, 185, 165, 190, 185, 175, 155, 210, 170, 175, 220, 210, 205, 200, 205, 195, 240, 150, 200, 215, 202, 200, 190, 205, 190, 160, 215, 185, 200, 190, 210, 185, 220, 190, 202, 205, 220, 175, 160, 190, 200, 229, 206, 220, 180, 195, 175, 188, 230, 190, 200, 190, 219, 235, 180, 180, 180, 200, 234, 185, 220, 223, 200, 210, 200, 210, 190, 177, 227, 180, 195, 199, 175, 185, 240, 210, 180, 194, 225, 180, 205, 193, 230, 230, 220, 200, 249, 190, 208, 245, 250, 160, 192, 220, 170, 197, 155, 190, 200, 220, 210, 228, 190, 160, 184, 180, 180, 200, 176, 160, 222, 211, 195, 200, 175, 206, 240, 185, 260, 185, 221, 205, 200, 170, 201, 205, 185, 205, 245, 220, 210, 220, 185, 175, 170, 180, 200, 210, 175, 220, 206, 180, 210, 195, 200, 200, 164, 180, 220, 195, 205, 170, 240, 210, 195, 200, 205, 192, 190, 170, 240, 200, 205, 175, 250, 220, 224, 210, 195, 180, 245, 175, 180, 215, 175, 180, 195, 230, 230, 205, 215, 195, 180, 205, 180, 190, 180, 190, 190, 220, 210, 255, 190, 230, 200, 205, 210, 225, 215, 220, 205, 200, 220, 197, 225, 187, 245, 185, 185, 175, 200, 180, 188, 225, 200, 210, 245, 213, 231, 165, 228, 210, 250, 191, 190, 200, 215, 254, 232, 180, 215, 220, 180, 200, 170, 195, 210, 200, 220, 165, 180, 200, 200, 170, 224, 220, 180, 198, 240, 239, 185, 210, 220, 200, 195, 220, 230, 170, 220, 230, 165, 205, 192, 210, 205, 200, 210, 185, 195, 202, 205, 195, 180, 200, 185, 240, 185, 220, 205, 205, 180, 201, 190, 208, 240, 180, 230, 195, 215, 190, 195, 215, 215, 220, 220, 230, 195, 190, 195, 209, 204, 170, 185, 205, 175, 210, 190, 180, 180, 160, 235, 200, 210, 180, 190, 197, 203, 205, 170, 200, 250, 200, 220, 200, 190, 170, 190, 220, 215, 206, 215, 185, 235, 188, 230, 195, 168, 190, 160, 200, 200, 189, 180, 190, 200, 220, 187, 240, 190, 180, 185, 210, 220, 219, 190, 193, 175, 180, 215, 210, 200, 190, 185, 220, 170, 195, 205, 195, 210, 190, 190, 180, 220, 190, 186, 185, 190, 180, 190, 170, 210, 240, 220, 180, 210, 210, 195, 160, 180, 205, 200, 185, 245, 190, 210, 200, 200, 222, 215, 240, 170, 220, 156, 190, 202, 221, 200, 190, 210, 190, 200, 165, 190, 185, 230, 208, 209, 175, 180, 200, 205, 200, 250, 210, 230, 244, 202, 240, 200, 215, 177, 210, 170, 215, 217, 198, 200, 220, 170, 200, 230, 231, 183, 192, 167, 190, 180, 180, 215, 160, 205, 223, 175, 170, 190, 240, 175, 230, 223, 196, 167, 195, 190, 250, 190, 190, 190, 170, 160, 150, 225, 220, 209, 210, 176, 260, 195, 190, 184, 180, 195, 195, 219, 225, 212, 202, 185, 200, 209, 200, 195, 228, 210, 190, 212, 190, 218, 220, 190, 235, 210, 200, 188, 210, 235, 188, 215, 216, 220, 180, 185, 200, 210, 220, 185, 231, 210, 195, 200, 205, 200, 190, 250, 185, 180, 170, 180, 208, 235, 215, 244, 220, 185, 230, 190, 200, 180, 190, 196, 180, 230, 224, 160, 178, 205, 185, 210, 180, 190, 200, 257, 190, 220, 165, 205, 200, 208, 185, 215, 170, 235, 210, 170, 180, 170, 190, 150, 230, 203, 260, 246, 186, 210, 198, 210, 215, 180, 200, 245, 200, 192, 192, 200, 192, 205, 190, 186, 170, 197, 219, 200, 220, 207, 225, 207, 212, 225, 170, 190, 210, 230, 210, 200, 238, 234, 222, 200, 190, 170, 220, 223, 210, 215, 196, 175, 175, 189, 205, 210, 180, 180, 197, 220, 228, 190, 204, 165, 216, 220, 208, 210, 215, 195, 200, 215, 229, 240, 207, 205, 208, 185, 190, 170, 208, 225, 190, 225, 185, 180, 165, 240, 220, 212, 163, 215, 175, 205, 210, 205, 208, 215, 180, 200, 230, 211, 230, 190, 220, 180, 205, 190, 180, 205, 190, 195]\n"
   ]
  },
  {
   "cell_type": "code",
   "execution_count": 57,
   "metadata": {},
   "outputs": [
    {
     "name": "stdout",
     "output_type": "stream",
     "text": [
      "[23.11037639 27.60406069 28.48080465 ... 25.62295933 23.74810865\n",
      " 25.72686361]\n"
     ]
    }
   ],
   "source": [
    "# height and weight are available as regular lists\n",
    "\n",
    "# Import numpy\n",
    "import numpy as np\n",
    "\n",
    "# Create array from height_in with metric units: np_height_m\n",
    "np_height_m = np.array(height_in) * 0.0254\n",
    "\n",
    "# Create array from weight_lb with metric units: np_weight_kg\n",
    "np_weight_kg = np.array(weight_lb) * 0.453592\n",
    "\n",
    "# Calculate the BMI: bmi\n",
    "bmi = np_weight_kg / (np_height_m ** 2)\n",
    "\n",
    "# Print out bmi\n",
    "print(bmi)"
   ]
  },
  {
   "cell_type": "markdown",
   "metadata": {},
   "source": [
    "To subset both `regular Python lists` and `numpy arrays`, you can use square brackets:"
   ]
  },
  {
   "cell_type": "code",
   "execution_count": 58,
   "metadata": {},
   "outputs": [
    {
     "data": {
      "text/plain": [
       "9"
      ]
     },
     "execution_count": 58,
     "metadata": {},
     "output_type": "execute_result"
    }
   ],
   "source": [
    "x = [4 , 9 , 6, 3, 1]\n",
    "x[1]\n",
    "import numpy as np\n",
    "y = np.array(x)\n",
    "y[1]"
   ]
  },
  {
   "cell_type": "markdown",
   "metadata": {},
   "source": [
    "For `numpy` specifically, you can also use `boolean numpy arrays`:"
   ]
  },
  {
   "cell_type": "code",
   "execution_count": 59,
   "metadata": {},
   "outputs": [
    {
     "data": {
      "text/plain": [
       "array([9, 6])"
      ]
     },
     "execution_count": 59,
     "metadata": {},
     "output_type": "execute_result"
    }
   ],
   "source": [
    "high = y > 5\n",
    "y[high]"
   ]
  },
  {
   "cell_type": "code",
   "execution_count": 60,
   "metadata": {},
   "outputs": [
    {
     "name": "stdout",
     "output_type": "stream",
     "text": [
      "[False False False ... False False False]\n",
      "[20.54255679 20.54255679 20.69282047 20.69282047 20.34343189 20.34343189\n",
      " 20.69282047 20.15883472 19.4984471  20.69282047 20.9205219 ]\n"
     ]
    }
   ],
   "source": [
    "# Import numpy\n",
    "import numpy as np\n",
    "\n",
    "# Calculate the BMI: bmi\n",
    "np_height_m = np.array(height_in) * 0.0254\n",
    "np_weight_kg = np.array(weight_lb) * 0.453592\n",
    "bmi = np_weight_kg / np_height_m ** 2\n",
    "\n",
    "# Create the light array\n",
    "light = bmi < 21\n",
    "\n",
    "# Print out light\n",
    "print(light)\n",
    "\n",
    "# Print out BMIs of all baseball players whose BMI is below 21\n",
    "print(bmi[light])"
   ]
  },
  {
   "cell_type": "markdown",
   "metadata": {},
   "source": [
    "`Numpy` is great for doing **vector arithmetic**. If you compare its functionality with regular Python lists, however, some things have changed:\n",
    "- First of all, **numpy arrays** cannot contain elements with different types. If you try to build such a list, some of the elements' types are changed to end up with a homogeneous list. This is known as **type coercion**.\n",
    "- Second, the **typical arithmetic operators**, such as +, -, * and / **have a different meaning** for regular Python lists and numpy arrays."
   ]
  },
  {
   "cell_type": "code",
   "execution_count": 61,
   "metadata": {},
   "outputs": [
    {
     "data": {
      "text/plain": [
       "array([4, 5, 2])"
      ]
     },
     "execution_count": 61,
     "metadata": {},
     "output_type": "execute_result"
    }
   ],
   "source": [
    "np.array([True, 1, 2]) + np.array([3, 4, False])"
   ]
  },
  {
   "cell_type": "code",
   "execution_count": 62,
   "metadata": {},
   "outputs": [
    {
     "data": {
      "text/plain": [
       "array([4, 5, 2])"
      ]
     },
     "execution_count": 62,
     "metadata": {},
     "output_type": "execute_result"
    }
   ],
   "source": [
    "np.array([4, 3, 0]) + np.array([0, 2, 2])"
   ]
  },
  {
   "cell_type": "markdown",
   "metadata": {},
   "source": [
    "### Subsetting numpy arrays\n",
    "\n",
    "Subsetting (using the square bracket notation on lists or arrays) works exactly the same as with Python lists."
   ]
  },
  {
   "cell_type": "code",
   "execution_count": 63,
   "metadata": {},
   "outputs": [
    {
     "name": "stdout",
     "output_type": "stream",
     "text": [
      "b\n",
      "b\n"
     ]
    }
   ],
   "source": [
    "x = [\"a\", \"b\", \"c\"]\n",
    "print(x[1])\n",
    "\n",
    "np_x = np.array(x)\n",
    "print(np_x[1])"
   ]
  },
  {
   "cell_type": "code",
   "execution_count": 64,
   "metadata": {},
   "outputs": [
    {
     "name": "stdout",
     "output_type": "stream",
     "text": [
      "200\n",
      "[73 74 72 73 69 72 73 75 75 73 72]\n"
     ]
    }
   ],
   "source": [
    "# Import numpy\n",
    "import numpy as np\n",
    "\n",
    "# Store weight and height lists as numpy arrays\n",
    "np_weight_lb = np.array(weight_lb)\n",
    "np_height_in = np.array(height_in)\n",
    "\n",
    "# Print out the weight at index 50\n",
    "print(np_weight_lb[50])\n",
    "\n",
    "# Print out sub-array of np_height_in: index 100 up to and including index 110\n",
    "print(np_height_in[100:111])"
   ]
  },
  {
   "cell_type": "markdown",
   "metadata": {},
   "source": [
    "### 2D NumPy Arrays"
   ]
  },
  {
   "cell_type": "code",
   "execution_count": 65,
   "metadata": {},
   "outputs": [
    {
     "name": "stdout",
     "output_type": "stream",
     "text": [
      "<class 'numpy.ndarray'>\n",
      "(4, 2)\n"
     ]
    }
   ],
   "source": [
    "# Create baseball, a list of lists\n",
    "baseball = [[180, 78.4],\n",
    "            [215, 102.7],\n",
    "            [210, 98.5],\n",
    "            [188, 75.2]]\n",
    "\n",
    "# Import numpy\n",
    "import numpy as np\n",
    "\n",
    "# Create a 2D numpy array from baseball: np_baseball\n",
    "np_baseball = np.array(baseball)\n",
    "\n",
    "# Print out the type of np_baseball\n",
    "print(type(np_baseball))\n",
    "\n",
    "# Print out the shape of np_baseball\n",
    "print(np_baseball.shape)"
   ]
  },
  {
   "cell_type": "code",
   "execution_count": 66,
   "metadata": {},
   "outputs": [],
   "source": [
    "baseball = [[74, 180], [74, 215], [72, 210], [72, 210], [73, 188], [69, 176], [69, 209], [71, 200], [76, 231], [71, 180], [73, 188], [73, 180], [74, 185], [74, 160], [69, 180], [70, 185], [73, 189], [75, 185], [78, 219], [79, 230], [76, 205], [74, 230], [76, 195], [72, 180], [71, 192], [75, 225], [77, 203], [74, 195], [73, 182], [74, 188], [78, 200], [73, 180], [75, 200], [73, 200], [75, 245], [75, 240], [74, 215], [69, 185], [71, 175], [74, 199], [73, 200], [73, 215], [76, 200], [74, 205], [74, 206], [70, 186], [72, 188], [77, 220], [74, 210], [70, 195], [73, 200], [75, 200], [76, 212], [76, 224], [78, 210], [74, 205], [74, 220], [76, 195], [77, 200], [81, 260], [78, 228], [75, 270], [77, 200], [75, 210], [76, 190], [74, 220], [72, 180], [72, 205], [75, 210], [73, 220], [73, 211], [73, 200], [70, 180], [70, 190], [70, 170], [76, 230], [68, 155], [71, 185], [72, 185], [75, 200], [75, 225], [75, 225], [75, 220], [68, 160], [74, 205], [78, 235], [71, 250], [73, 210], [76, 190], [74, 160], [74, 200], [79, 205], [75, 222], [73, 195], [76, 205], [74, 220], [74, 220], [73, 170], [72, 185], [74, 195], [73, 220], [74, 230], [72, 180], [73, 220], [69, 180], [72, 180], [73, 170], [75, 210], [75, 215], [73, 200], [72, 213], [72, 180], [76, 192], [74, 235], [72, 185], [77, 235], [74, 210], [77, 222], [75, 210], [76, 230], [80, 220], [74, 180], [74, 190], [75, 200], [78, 210], [73, 194], [73, 180], [74, 190], [75, 240], [76, 200], [71, 198], [73, 200], [74, 195], [76, 210], [76, 220], [74, 190], [73, 210], [74, 225], [70, 180], [72, 185], [73, 170], [73, 185], [73, 185], [73, 180], [71, 178], [74, 175], [74, 200], [72, 204], [74, 211], [71, 190], [74, 210], [73, 190], [75, 190], [75, 185], [79, 290], [73, 175], [75, 185], [76, 200], [74, 220], [76, 170], [78, 220], [74, 190], [76, 220], [72, 205], [74, 200], [76, 250], [74, 225], [75, 215], [78, 210], [75, 215], [72, 195], [74, 200], [72, 194], [74, 220], [70, 180], [71, 180], [70, 170], [75, 195], [71, 180], [71, 170], [73, 206], [72, 205], [71, 200], [73, 225], [72, 201], [75, 225], [74, 233], [74, 180], [75, 225], [73, 180], [77, 220], [73, 180], [76, 237], [75, 215], [74, 190], [76, 235], [75, 190], [73, 180], [71, 165], [76, 195], [75, 200], [72, 190], [71, 190], [77, 185], [73, 185], [74, 205], [71, 190], [72, 205], [74, 206], [75, 220], [73, 208], [72, 170], [75, 195], [75, 210], [74, 190], [72, 211], [74, 230], [71, 170], [70, 185], [74, 185], [77, 241], [77, 225], [75, 210], [75, 175], [78, 230], [75, 200], [76, 215], [73, 198], [75, 226], [75, 278], [79, 215], [77, 230], [76, 240], [71, 184], [75, 219], [74, 170], [69, 218], [71, 190], [76, 225], [72, 220], [72, 176], [70, 190], [72, 197], [73, 204], [71, 167], [72, 180], [71, 195], [73, 220], [72, 215], [73, 185], [74, 190], [74, 205], [72, 205], [75, 200], [74, 210], [74, 215], [77, 200], [75, 205], [73, 211], [72, 190], [71, 208], [74, 200], [77, 210], [75, 232], [75, 230], [75, 210], [78, 220], [78, 210], [74, 202], [76, 212], [78, 225], [76, 170], [70, 190], [72, 200], [80, 237], [74, 220], [74, 170], [71, 193], [70, 190], [72, 150], [71, 220], [74, 200], [71, 190], [72, 185], [71, 185], [74, 200], [69, 172], [76, 220], [75, 225], [75, 190], [76, 195], [73, 219], [76, 190], [73, 197], [77, 200], [73, 195], [72, 210], [72, 177], [77, 220], [77, 235], [71, 180], [74, 195], [74, 195], [73, 190], [78, 230], [75, 190], [73, 200], [70, 190], [74, 190], [72, 200], [73, 200], [73, 184], [75, 200], [75, 180], [74, 219], [76, 187], [73, 200], [74, 220], [75, 205], [75, 190], [72, 170], [73, 160], [73, 215], [72, 175], [74, 205], [78, 200], [76, 214], [73, 200], [74, 190], [75, 180], [70, 205], [75, 220], [71, 190], [72, 215], [78, 235], [75, 191], [73, 200], [73, 181], [71, 200], [75, 210], [77, 240], [72, 185], [69, 165], [73, 190], [74, 185], [72, 175], [70, 155], [75, 210], [70, 170], [72, 175], [72, 220], [74, 210], [73, 205], [74, 200], [76, 205], [75, 195], [80, 240], [72, 150], [75, 200], [73, 215], [74, 202], [74, 200], [73, 190], [75, 205], [75, 190], [71, 160], [73, 215], [75, 185], [74, 200], [74, 190], [72, 210], [74, 185], [74, 220], [74, 190], [73, 202], [76, 205], [75, 220], [72, 175], [73, 160], [73, 190], [73, 200], [72, 229], [72, 206], [72, 220], [72, 180], [71, 195], [75, 175], [75, 188], [74, 230], [73, 190], [75, 200], [79, 190], [74, 219], [76, 235], [73, 180], [74, 180], [74, 180], [72, 200], [74, 234], [74, 185], [75, 220], [78, 223], [74, 200], [74, 210], [74, 200], [77, 210], [70, 190], [73, 177], [74, 227], [73, 180], [71, 195], [75, 199], [71, 175], [72, 185], [77, 240], [74, 210], [70, 180], [77, 194], [73, 225], [72, 180], [76, 205], [71, 193], [76, 230], [78, 230], [75, 220], [73, 200], [78, 249], [74, 190], [79, 208], [75, 245], [76, 250], [72, 160], [75, 192], [75, 220], [70, 170], [72, 197], [70, 155], [74, 190], [71, 200], [76, 220], [73, 210], [76, 228], [71, 190], [69, 160], [72, 184], [72, 180], [69, 180], [73, 200], [69, 176], [73, 160], [74, 222], [74, 211], [72, 195], [71, 200], [72, 175], [72, 206], [76, 240], [76, 185], [76, 260], [74, 185], [76, 221], [75, 205], [71, 200], [72, 170], [71, 201], [73, 205], [75, 185], [76, 205], [75, 245], [71, 220], [75, 210], [74, 220], [72, 185], [73, 175], [73, 170], [73, 180], [73, 200], [76, 210], [72, 175], [76, 220], [73, 206], [73, 180], [73, 210], [75, 195], [75, 200], [77, 200], [73, 164], [72, 180], [75, 220], [70, 195], [74, 205], [72, 170], [80, 240], [71, 210], [71, 195], [74, 200], [74, 205], [73, 192], [75, 190], [76, 170], [73, 240], [77, 200], [72, 205], [73, 175], [77, 250], [76, 220], [71, 224], [75, 210], [73, 195], [74, 180], [77, 245], [71, 175], [72, 180], [73, 215], [69, 175], [73, 180], [70, 195], [74, 230], [76, 230], [73, 205], [73, 215], [75, 195], [73, 180], [79, 205], [74, 180], [73, 190], [74, 180], [77, 190], [75, 190], [74, 220], [73, 210], [77, 255], [73, 190], [77, 230], [74, 200], [74, 205], [73, 210], [77, 225], [74, 215], [77, 220], [75, 205], [77, 200], [75, 220], [71, 197], [74, 225], [70, 187], [79, 245], [72, 185], [72, 185], [70, 175], [74, 200], [74, 180], [72, 188], [73, 225], [72, 200], [74, 210], [74, 245], [76, 213], [82, 231], [74, 165], [74, 228], [70, 210], [73, 250], [73, 191], [74, 190], [77, 200], [72, 215], [76, 254], [73, 232], [73, 180], [72, 215], [74, 220], [74, 180], [71, 200], [72, 170], [75, 195], [74, 210], [74, 200], [77, 220], [70, 165], [71, 180], [73, 200], [76, 200], [71, 170], [75, 224], [74, 220], [72, 180], [76, 198], [79, 240], [76, 239], [73, 185], [76, 210], [78, 220], [75, 200], [76, 195], [72, 220], [72, 230], [73, 170], [73, 220], [75, 230], [71, 165], [76, 205], [70, 192], [75, 210], [74, 205], [75, 200], [73, 210], [71, 185], [71, 195], [72, 202], [73, 205], [73, 195], [72, 180], [69, 200], [73, 185], [78, 240], [71, 185], [73, 220], [75, 205], [76, 205], [70, 180], [74, 201], [77, 190], [75, 208], [79, 240], [72, 180], [77, 230], [73, 195], [75, 215], [75, 190], [75, 195], [73, 215], [73, 215], [76, 220], [77, 220], [75, 230], [70, 195], [71, 190], [71, 195], [75, 209], [74, 204], [69, 170], [70, 185], [75, 205], [72, 175], [75, 210], [73, 190], [72, 180], [72, 180], [72, 160], [76, 235], [75, 200], [74, 210], [69, 180], [73, 190], [72, 197], [72, 203], [75, 205], [77, 170], [76, 200], [80, 250], [77, 200], [76, 220], [79, 200], [71, 190], [75, 170], [73, 190], [76, 220], [77, 215], [73, 206], [76, 215], [70, 185], [75, 235], [73, 188], [75, 230], [70, 195], [69, 168], [71, 190], [72, 160], [72, 200], [73, 200], [70, 189], [70, 180], [73, 190], [76, 200], [75, 220], [72, 187], [73, 240], [79, 190], [71, 180], [72, 185], [74, 210], [74, 220], [74, 219], [72, 190], [76, 193], [76, 175], [72, 180], [72, 215], [71, 210], [72, 200], [72, 190], [70, 185], [77, 220], [74, 170], [72, 195], [76, 205], [71, 195], [76, 210], [71, 190], [73, 190], [70, 180], [73, 220], [73, 190], [72, 186], [71, 185], [71, 190], [71, 180], [72, 190], [72, 170], [74, 210], [74, 240], [74, 220], [71, 180], [72, 210], [75, 210], [72, 195], [71, 160], [72, 180], [72, 205], [72, 200], [72, 185], [74, 245], [74, 190], [77, 210], [75, 200], [73, 200], [75, 222], [73, 215], [76, 240], [72, 170], [77, 220], [75, 156], [72, 190], [71, 202], [71, 221], [75, 200], [72, 190], [73, 210], [73, 190], [71, 200], [70, 165], [75, 190], [71, 185], [76, 230], [73, 208], [68, 209], [71, 175], [72, 180], [74, 200], [77, 205], [72, 200], [76, 250], [78, 210], [81, 230], [72, 244], [73, 202], [76, 240], [72, 200], [72, 215], [74, 177], [76, 210], [73, 170], [76, 215], [75, 217], [70, 198], [71, 200], [74, 220], [72, 170], [73, 200], [76, 230], [76, 231], [73, 183], [71, 192], [68, 167], [71, 190], [71, 180], [74, 180], [77, 215], [69, 160], [72, 205], [76, 223], [75, 175], [76, 170], [75, 190], [76, 240], [72, 175], [74, 230], [76, 223], [74, 196], [72, 167], [75, 195], [78, 190], [77, 250], [70, 190], [72, 190], [79, 190], [74, 170], [71, 160], [68, 150], [77, 225], [75, 220], [71, 209], [72, 210], [70, 176], [72, 260], [72, 195], [73, 190], [72, 184], [74, 180], [72, 195], [72, 195], [75, 219], [72, 225], [73, 212], [74, 202], [72, 185], [78, 200], [75, 209], [72, 200], [74, 195], [75, 228], [75, 210], [76, 190], [74, 212], [74, 190], [73, 218], [74, 220], [71, 190], [74, 235], [75, 210], [76, 200], [74, 188], [76, 210], [76, 235], [73, 188], [75, 215], [75, 216], [74, 220], [68, 180], [72, 185], [75, 200], [71, 210], [70, 220], [72, 185], [73, 231], [72, 210], [75, 195], [74, 200], [70, 205], [76, 200], [71, 190], [82, 250], [72, 185], [73, 180], [74, 170], [71, 180], [75, 208], [77, 235], [72, 215], [74, 244], [72, 220], [73, 185], [78, 230], [77, 190], [73, 200], [73, 180], [73, 190], [73, 196], [73, 180], [76, 230], [75, 224], [70, 160], [73, 178], [72, 205], [73, 185], [75, 210], [74, 180], [73, 190], [73, 200], [76, 257], [73, 190], [75, 220], [70, 165], [77, 205], [72, 200], [77, 208], [74, 185], [75, 215], [75, 170], [75, 235], [75, 210], [72, 170], [74, 180], [71, 170], [76, 190], [71, 150], [75, 230], [76, 203], [83, 260], [75, 246], [74, 186], [76, 210], [72, 198], [72, 210], [75, 215], [75, 180], [72, 200], [77, 245], [73, 200], [72, 192], [70, 192], [74, 200], [72, 192], [74, 205], [72, 190], [71, 186], [70, 170], [71, 197], [76, 219], [74, 200], [76, 220], [74, 207], [74, 225], [74, 207], [75, 212], [75, 225], [71, 170], [71, 190], [74, 210], [77, 230], [71, 210], [74, 200], [75, 238], [77, 234], [76, 222], [74, 200], [76, 190], [72, 170], [71, 220], [72, 223], [75, 210], [73, 215], [68, 196], [72, 175], [69, 175], [73, 189], [73, 205], [75, 210], [70, 180], [70, 180], [74, 197], [75, 220], [74, 228], [74, 190], [73, 204], [74, 165], [75, 216], [77, 220], [73, 208], [74, 210], [76, 215], [74, 195], [75, 200], [73, 215], [76, 229], [78, 240], [75, 207], [73, 205], [77, 208], [74, 185], [72, 190], [74, 170], [72, 208], [71, 225], [73, 190], [75, 225], [73, 185], [67, 180], [67, 165], [76, 240], [74, 220], [73, 212], [70, 163], [75, 215], [70, 175], [72, 205], [77, 210], [79, 205], [78, 208], [74, 215], [75, 180], [75, 200], [78, 230], [76, 211], [75, 230], [69, 190], [75, 220], [72, 180], [75, 205], [73, 190], [74, 180], [75, 205], [75, 190], [73, 195]]"
   ]
  },
  {
   "cell_type": "code",
   "execution_count": 67,
   "metadata": {},
   "outputs": [
    {
     "name": "stdout",
     "output_type": "stream",
     "text": [
      "(1015, 2)\n"
     ]
    }
   ],
   "source": [
    "# Import numpy package\n",
    "import numpy as np\n",
    "\n",
    "# Create a 2D numpy array from baseball: np_baseball\n",
    "np_baseball = np.array(baseball)\n",
    "\n",
    "# Print out the shape of np_baseball\n",
    "print(np_baseball.shape)"
   ]
  },
  {
   "cell_type": "markdown",
   "metadata": {},
   "source": [
    "### Subsetting 2D NumPy Arrays"
   ]
  },
  {
   "cell_type": "code",
   "execution_count": 68,
   "metadata": {},
   "outputs": [
    {
     "name": "stdout",
     "output_type": "stream",
     "text": [
      "['a', 'c']\n",
      "['a' 'c']\n"
     ]
    }
   ],
   "source": [
    "# regular list of lists\n",
    "x = [[\"a\", \"b\"], [\"c\", \"d\"]]\n",
    "print([x[0][0], x[1][0]])\n",
    "\n",
    "# numpy\n",
    "import numpy as np\n",
    "np_x = np.array(x)\n",
    "print(np_x[:,0])"
   ]
  },
  {
   "cell_type": "markdown",
   "metadata": {},
   "source": [
    "For regular Python lists, this is a real pain. For 2D numpy arrays, however, it's pretty intuitive! **The indexes before the comma refer to the rows, while those after the comma refer to the columns**. The `:` is for slicing; in this example, it tells Python to include all rows."
   ]
  },
  {
   "cell_type": "code",
   "execution_count": 69,
   "metadata": {},
   "outputs": [
    {
     "name": "stdout",
     "output_type": "stream",
     "text": [
      "[ 70 195]\n",
      "75\n"
     ]
    }
   ],
   "source": [
    "# Import numpy package\n",
    "import numpy as np\n",
    "\n",
    "# Create np_baseball (2 cols)\n",
    "np_baseball = np.array(baseball)\n",
    "\n",
    "# Print out the 50th row of np_baseball\n",
    "print(np_baseball[49])\n",
    "\n",
    "# Select the entire second column of np_baseball: np_weight_lb\n",
    "np_weight_lb = np_baseball[:,1]\n",
    "\n",
    "# Print out height of 124th player\n",
    "print(np_baseball[123,0])"
   ]
  },
  {
   "cell_type": "markdown",
   "metadata": {},
   "source": [
    "### 2D Arithmetic\n",
    "\n",
    "Remember how you calculated the Body Mass Index for all baseball players? numpy was able to perform all calculations `element-wise (i.e. element by element)`. For 2D numpy arrays this isn't any different! **You can combine matrices with single numbers, with vectors, and with other matrices**."
   ]
  },
  {
   "cell_type": "code",
   "execution_count": 72,
   "metadata": {},
   "outputs": [
    {
     "name": "stdout",
     "output_type": "stream",
     "text": [
      "[[ 2  4]\n",
      " [ 6  8]\n",
      " [10 12]]\n",
      "\n",
      "[[11 12]\n",
      " [13 14]\n",
      " [15 16]]\n",
      "\n",
      "[[ 2  4]\n",
      " [ 6  8]\n",
      " [10 12]]\n"
     ]
    }
   ],
   "source": [
    "import numpy as np\n",
    "np_mat = np.array([[1, 2],\n",
    "                   [3, 4],\n",
    "                   [5, 6]])\n",
    "print(np_mat * 2)\n",
    "print()\n",
    "print(np_mat + np.array([10, 10]))\n",
    "print()\n",
    "print(np_mat + np_mat)"
   ]
  },
  {
   "cell_type": "code",
   "execution_count": null,
   "metadata": {},
   "outputs": [],
   "source": [
    "# Do not truncate numpy array while printing\n",
    "import sys\n",
    "import numpy\n",
    "numpy.set_printoptions(threshold=sys.maxsize)"
   ]
  },
  {
   "cell_type": "code",
   "execution_count": null,
   "metadata": {},
   "outputs": [],
   "source": [
    "# np_baseball & np_updated"
   ]
  },
  {
   "cell_type": "code",
   "execution_count": 78,
   "metadata": {},
   "outputs": [],
   "source": [
    "# np_baseball is a 2D numpy array with 3 columns representing height (in inches), \n",
    "# weight (in pounds) and age (in years).\n",
    "np_baseball = np.array([[  74.  ,  180.  ,   22.99],\n",
    "       [  74.  ,  215.  ,   34.69],\n",
    "       [  72.  ,  210.  ,   30.78],\n",
    "       [  72.  ,  210.  ,   35.43],\n",
    "       [  73.  ,  188.  ,   35.71],\n",
    "       [  69.  ,  176.  ,   29.39],\n",
    "       [  69.  ,  209.  ,   30.77],\n",
    "       [  71.  ,  200.  ,   35.07],\n",
    "       [  76.  ,  231.  ,   30.19],\n",
    "       [  71.  ,  180.  ,   27.05],\n",
    "       [  73.  ,  188.  ,   23.88],\n",
    "       [  73.  ,  180.  ,   26.96],\n",
    "       [  74.  ,  185.  ,   23.29],\n",
    "       [  74.  ,  160.  ,   26.11],\n",
    "       [  69.  ,  180.  ,   27.55],\n",
    "       [  70.  ,  185.  ,   34.27],\n",
    "       [  73.  ,  189.  ,   27.99],\n",
    "       [  75.  ,  185.  ,   22.38],\n",
    "       [  78.  ,  219.  ,   22.89],\n",
    "       [  79.  ,  230.  ,   25.76],\n",
    "       [  76.  ,  205.  ,   36.33],\n",
    "       [  74.  ,  230.  ,   31.17],\n",
    "       [  76.  ,  195.  ,   32.31],\n",
    "       [  72.  ,  180.  ,   31.03],\n",
    "       [  71.  ,  192.  ,   29.26],\n",
    "       [  75.  ,  225.  ,   29.47],\n",
    "       [  77.  ,  203.  ,   32.46],\n",
    "       [  74.  ,  195.  ,   35.67],\n",
    "       [  73.  ,  182.  ,   25.89],\n",
    "       [  74.  ,  188.  ,   26.55],\n",
    "       [  78.  ,  200.  ,   24.17],\n",
    "       [  73.  ,  180.  ,   26.69],\n",
    "       [  75.  ,  200.  ,   25.13],\n",
    "       [  73.  ,  200.  ,   27.9 ],\n",
    "       [  75.  ,  245.  ,   30.17],\n",
    "       [  75.  ,  240.  ,   31.36],\n",
    "       [  74.  ,  215.  ,   30.99],\n",
    "       [  69.  ,  185.  ,   32.24],\n",
    "       [  71.  ,  175.  ,   27.61],\n",
    "       [  74.  ,  199.  ,   28.2 ],\n",
    "       [  73.  ,  200.  ,   28.85],\n",
    "       [  73.  ,  215.  ,   24.21],\n",
    "       [  76.  ,  200.  ,   22.02],\n",
    "       [  74.  ,  205.  ,   24.97],\n",
    "       [  74.  ,  206.  ,   26.78],\n",
    "       [  70.  ,  186.  ,   32.51],\n",
    "       [  72.  ,  188.  ,   30.95],\n",
    "       [  77.  ,  220.  ,   33.09],\n",
    "       [  74.  ,  210.  ,   32.74],\n",
    "       [  70.  ,  195.  ,   30.69],\n",
    "       [  73.  ,  200.  ,   23.45],\n",
    "       [  75.  ,  200.  ,   24.94],\n",
    "       [  76.  ,  212.  ,   24.09],\n",
    "       [  76.  ,  224.  ,   35.23],\n",
    "       [  78.  ,  210.  ,   27.43],\n",
    "       [  74.  ,  205.  ,   30.6 ],\n",
    "       [  74.  ,  220.  ,   27.94],\n",
    "       [  76.  ,  195.  ,   29.99],\n",
    "       [  77.  ,  200.  ,   25.17],\n",
    "       [  81.  ,  260.  ,   24.13],\n",
    "       [  78.  ,  228.  ,   30.46],\n",
    "       [  75.  ,  270.  ,   25.96],\n",
    "       [  77.  ,  200.  ,   22.55],\n",
    "       [  75.  ,  210.  ,   26.29],\n",
    "       [  76.  ,  190.  ,   24.79],\n",
    "       [  74.  ,  220.  ,   31.74],\n",
    "       [  72.  ,  180.  ,   23.92],\n",
    "       [  72.  ,  205.  ,   25.33],\n",
    "       [  75.  ,  210.  ,   24.02],\n",
    "       [  73.  ,  220.  ,   23.7 ],\n",
    "       [  73.  ,  211.  ,   31.59],\n",
    "       [  73.  ,  200.  ,   29.95],\n",
    "       [  70.  ,  180.  ,   23.64],\n",
    "       [  70.  ,  190.  ,   32.33],\n",
    "       [  70.  ,  170.  ,   23.13],\n",
    "       [  76.  ,  230.  ,   26.6 ],\n",
    "       [  68.  ,  155.  ,   26.46],\n",
    "       [  71.  ,  185.  ,   25.75],\n",
    "       [  72.  ,  185.  ,   27.51],\n",
    "       [  75.  ,  200.  ,   25.11],\n",
    "       [  75.  ,  225.  ,   32.51],\n",
    "       [  75.  ,  225.  ,   34.67],\n",
    "       [  75.  ,  220.  ,   31.06],\n",
    "       [  68.  ,  160.  ,   29.1 ],\n",
    "       [  74.  ,  205.  ,   28.66],\n",
    "       [  78.  ,  235.  ,   28.35],\n",
    "       [  71.  ,  250.  ,   33.77],\n",
    "       [  73.  ,  210.  ,   30.89],\n",
    "       [  76.  ,  190.  ,   37.74],\n",
    "       [  74.  ,  160.  ,   24.14],\n",
    "       [  74.  ,  200.  ,   25.71],\n",
    "       [  79.  ,  205.  ,   24.41],\n",
    "       [  75.  ,  222.  ,   24.32],\n",
    "       [  73.  ,  195.  ,   28.09],\n",
    "       [  76.  ,  205.  ,   33.31],\n",
    "       [  74.  ,  220.  ,   36.4 ],\n",
    "       [  74.  ,  220.  ,   37.36],\n",
    "       [  73.  ,  170.  ,   31.61],\n",
    "       [  72.  ,  185.  ,   25.14],\n",
    "       [  74.  ,  195.  ,   30.29],\n",
    "       [  73.  ,  220.  ,   36.37],\n",
    "       [  74.  ,  230.  ,   34.89],\n",
    "       [  72.  ,  180.  ,   23.79],\n",
    "       [  73.  ,  220.  ,   27.96],\n",
    "       [  69.  ,  180.  ,   23.54],\n",
    "       [  72.  ,  180.  ,   31.37],\n",
    "       [  73.  ,  170.  ,   31.29],\n",
    "       [  75.  ,  210.  ,   33.01],\n",
    "       [  75.  ,  215.  ,   25.1 ],\n",
    "       [  73.  ,  200.  ,   31.28],\n",
    "       [  72.  ,  213.  ,   34.75],\n",
    "       [  72.  ,  180.  ,   23.46],\n",
    "       [  76.  ,  192.  ,   25.37],\n",
    "       [  74.  ,  235.  ,   29.57],\n",
    "       [  72.  ,  185.  ,   27.33],\n",
    "       [  77.  ,  235.  ,   40.29],\n",
    "       [  74.  ,  210.  ,   40.58],\n",
    "       [  77.  ,  222.  ,   26.79],\n",
    "       [  75.  ,  210.  ,   32.55],\n",
    "       [  76.  ,  230.  ,   26.27],\n",
    "       [  80.  ,  220.  ,   29.47],\n",
    "       [  74.  ,  180.  ,   29.07],\n",
    "       [  74.  ,  190.  ,   23.15],\n",
    "       [  75.  ,  200.  ,   24.9 ],\n",
    "       [  78.  ,  210.  ,   23.29],\n",
    "       [  73.  ,  194.  ,   31.18],\n",
    "       [  73.  ,  180.  ,   26.56],\n",
    "       [  74.  ,  190.  ,   25.03],\n",
    "       [  75.  ,  240.  ,   35.66],\n",
    "       [  76.  ,  200.  ,   29.64],\n",
    "       [  71.  ,  198.  ,   30.74],\n",
    "       [  73.  ,  200.  ,   28.43],\n",
    "       [  74.  ,  195.  ,   33.77],\n",
    "       [  76.  ,  210.  ,   40.97],\n",
    "       [  76.  ,  220.  ,   23.52],\n",
    "       [  74.  ,  190.  ,   28.19],\n",
    "       [  73.  ,  210.  ,   26.84],\n",
    "       [  74.  ,  225.  ,   26.16],\n",
    "       [  70.  ,  180.  ,   28.67],\n",
    "       [  72.  ,  185.  ,   24.2 ],\n",
    "       [  73.  ,  170.  ,   27.08],\n",
    "       [  73.  ,  185.  ,   24.76],\n",
    "       [  73.  ,  185.  ,   23.36],\n",
    "       [  73.  ,  180.  ,   25.35],\n",
    "       [  71.  ,  178.  ,   24.63],\n",
    "       [  74.  ,  175.  ,   24.02],\n",
    "       [  74.  ,  200.  ,   24.58],\n",
    "       [  72.  ,  204.  ,   30.82],\n",
    "       [  74.  ,  211.  ,   32.89],\n",
    "       [  71.  ,  190.  ,   33.33],\n",
    "       [  74.  ,  210.  ,   33.52],\n",
    "       [  73.  ,  190.  ,   36.24],\n",
    "       [  75.  ,  190.  ,   28.5 ],\n",
    "       [  75.  ,  185.  ,   29.42],\n",
    "       [  79.  ,  290.  ,   26.61],\n",
    "       [  73.  ,  175.  ,   23.79],\n",
    "       [  75.  ,  185.  ,   24.96],\n",
    "       [  76.  ,  200.  ,   25.93],\n",
    "       [  74.  ,  220.  ,   22.81],\n",
    "       [  76.  ,  170.  ,   25.29],\n",
    "       [  78.  ,  220.  ,   26.07],\n",
    "       [  74.  ,  190.  ,   26.09],\n",
    "       [  76.  ,  220.  ,   23.23],\n",
    "       [  72.  ,  205.  ,   33.49],\n",
    "       [  74.  ,  200.  ,   31.84],\n",
    "       [  76.  ,  250.  ,   42.3 ],\n",
    "       [  74.  ,  225.  ,   35.82],\n",
    "       [  75.  ,  215.  ,   35.27],\n",
    "       [  78.  ,  210.  ,   26.81],\n",
    "       [  75.  ,  215.  ,   38.49],\n",
    "       [  72.  ,  195.  ,   32.68],\n",
    "       [  74.  ,  200.  ,   34.93],\n",
    "       [  72.  ,  194.  ,   26.26],\n",
    "       [  74.  ,  220.  ,   27.56],\n",
    "       [  70.  ,  180.  ,   23.98],\n",
    "       [  71.  ,  180.  ,   29.73],\n",
    "       [  70.  ,  170.  ,   31.33],\n",
    "       [  75.  ,  195.  ,   27.13],\n",
    "       [  71.  ,  180.  ,   26.75],\n",
    "       [  71.  ,  170.  ,   27.09],\n",
    "       [  73.  ,  206.  ,   29.23],\n",
    "       [  72.  ,  205.  ,   28.88],\n",
    "       [  71.  ,  200.  ,   33.01],\n",
    "       [  73.  ,  225.  ,   30.57],\n",
    "       [  72.  ,  201.  ,   31.24],\n",
    "       [  75.  ,  225.  ,   24.95],\n",
    "       [  74.  ,  233.  ,   24.62],\n",
    "       [  74.  ,  180.  ,   24.98],\n",
    "       [  75.  ,  225.  ,   26.22],\n",
    "       [  73.  ,  180.  ,   26.04],\n",
    "       [  77.  ,  220.  ,   26.45],\n",
    "       [  73.  ,  180.  ,   25.25],\n",
    "       [  76.  ,  237.  ,   27.77],\n",
    "       [  75.  ,  215.  ,   35.16],\n",
    "       [  74.  ,  190.  ,   37.1 ],\n",
    "       [  76.  ,  235.  ,   34.51],\n",
    "       [  75.  ,  190.  ,   29.28],\n",
    "       [  73.  ,  180.  ,   32.14],\n",
    "       [  71.  ,  165.  ,   23.94],\n",
    "       [  76.  ,  195.  ,   27.45],\n",
    "       [  75.  ,  200.  ,   28.77],\n",
    "       [  72.  ,  190.  ,   23.58],\n",
    "       [  71.  ,  190.  ,   27.56],\n",
    "       [  77.  ,  185.  ,   24.01],\n",
    "       [  73.  ,  185.  ,   26.52],\n",
    "       [  74.  ,  205.  ,   35.54],\n",
    "       [  71.  ,  190.  ,   29.43],\n",
    "       [  72.  ,  205.  ,   29.9 ],\n",
    "       [  74.  ,  206.  ,   32.7 ],\n",
    "       [  75.  ,  220.  ,   28.8 ],\n",
    "       [  73.  ,  208.  ,   32.82],\n",
    "       [  72.  ,  170.  ,   24.36],\n",
    "       [  75.  ,  195.  ,   32.68],\n",
    "       [  75.  ,  210.  ,   31.59],\n",
    "       [  74.  ,  190.  ,   33.32],\n",
    "       [  72.  ,  211.  ,   32.97],\n",
    "       [  74.  ,  230.  ,   32.72],\n",
    "       [  71.  ,  170.  ,   22.55],\n",
    "       [  70.  ,  185.  ,   27.45],\n",
    "       [  74.  ,  185.  ,   38.23],\n",
    "       [  77.  ,  241.  ,   31.14],\n",
    "       [  77.  ,  225.  ,   34.71],\n",
    "       [  75.  ,  210.  ,   26.13],\n",
    "       [  75.  ,  175.  ,   24.43],\n",
    "       [  78.  ,  230.  ,   23.76],\n",
    "       [  75.  ,  200.  ,   26.92],\n",
    "       [  76.  ,  215.  ,   25.85],\n",
    "       [  73.  ,  198.  ,   30.16],\n",
    "       [  75.  ,  226.  ,   25.03],\n",
    "       [  75.  ,  278.  ,   24.21],\n",
    "       [  79.  ,  215.  ,   26.51],\n",
    "       [  77.  ,  230.  ,   26.36],\n",
    "       [  76.  ,  240.  ,   30.88],\n",
    "       [  71.  ,  184.  ,   32.57],\n",
    "       [  75.  ,  219.  ,   37.68],\n",
    "       [  74.  ,  170.  ,   37.25],\n",
    "       [  69.  ,  218.  ,   35.25],\n",
    "       [  71.  ,  190.  ,   33.95],\n",
    "       [  76.  ,  225.  ,   32.66],\n",
    "       [  72.  ,  220.  ,   26.68],\n",
    "       [  72.  ,  176.  ,   25.18],\n",
    "       [  70.  ,  190.  ,   31.39],\n",
    "       [  72.  ,  197.  ,   33.74],\n",
    "       [  73.  ,  204.  ,   31.42],\n",
    "       [  71.  ,  167.  ,   27.5 ],\n",
    "       [  72.  ,  180.  ,   24.25],\n",
    "       [  71.  ,  195.  ,   29.78],\n",
    "       [  73.  ,  220.  ,   30.  ],\n",
    "       [  72.  ,  215.  ,   33.09],\n",
    "       [  73.  ,  185.  ,   25.96],\n",
    "       [  74.  ,  190.  ,   23.34],\n",
    "       [  74.  ,  205.  ,   29.98],\n",
    "       [  72.  ,  205.  ,   38.28],\n",
    "       [  75.  ,  200.  ,   24.97],\n",
    "       [  74.  ,  210.  ,   24.34],\n",
    "       [  74.  ,  215.  ,   29.49],\n",
    "       [  77.  ,  200.  ,   24.02],\n",
    "       [  75.  ,  205.  ,   24.73],\n",
    "       [  73.  ,  211.  ,   42.3 ],\n",
    "       [  72.  ,  190.  ,   29.54],\n",
    "       [  71.  ,  208.  ,   29.95],\n",
    "       [  74.  ,  200.  ,   29.24],\n",
    "       [  77.  ,  210.  ,   30.3 ],\n",
    "       [  75.  ,  232.  ,   40.77],\n",
    "       [  75.  ,  230.  ,   38.85],\n",
    "       [  75.  ,  210.  ,   22.31],\n",
    "       [  78.  ,  220.  ,   25.44],\n",
    "       [  78.  ,  210.  ,   21.78],\n",
    "       [  74.  ,  202.  ,   22.64],\n",
    "       [  76.  ,  212.  ,   26.11],\n",
    "       [  78.  ,  225.  ,   27.55],\n",
    "       [  76.  ,  170.  ,   24.63],\n",
    "       [  70.  ,  190.  ,   23.58],\n",
    "       [  72.  ,  200.  ,   30.73],\n",
    "       [  80.  ,  237.  ,   32.17],\n",
    "       [  74.  ,  220.  ,   30.43],\n",
    "       [  74.  ,  170.  ,   23.27],\n",
    "       [  71.  ,  193.  ,   32.51],\n",
    "       [  70.  ,  190.  ,   25.08],\n",
    "       [  72.  ,  150.  ,   22.41],\n",
    "       [  71.  ,  220.  ,   27.9 ],\n",
    "       [  74.  ,  200.  ,   34.74],\n",
    "       [  71.  ,  190.  ,   30.79],\n",
    "       [  72.  ,  185.  ,   25.71],\n",
    "       [  71.  ,  185.  ,   29.26],\n",
    "       [  74.  ,  200.  ,   21.58],\n",
    "       [  69.  ,  172.  ,   33.36],\n",
    "       [  76.  ,  220.  ,   24.94],\n",
    "       [  75.  ,  225.  ,   20.9 ],\n",
    "       [  75.  ,  190.  ,   21.52],\n",
    "       [  76.  ,  195.  ,   25.85],\n",
    "       [  73.  ,  219.  ,   27.27],\n",
    "       [  76.  ,  190.  ,   26.75],\n",
    "       [  73.  ,  197.  ,   36.03],\n",
    "       [  77.  ,  200.  ,   30.52],\n",
    "       [  73.  ,  195.  ,   32.55],\n",
    "       [  72.  ,  210.  ,   29.86],\n",
    "       [  72.  ,  177.  ,   29.58],\n",
    "       [  77.  ,  220.  ,   30.02],\n",
    "       [  77.  ,  235.  ,   29.16],\n",
    "       [  71.  ,  180.  ,   22.3 ],\n",
    "       [  74.  ,  195.  ,   22.06],\n",
    "       [  74.  ,  195.  ,   25.65],\n",
    "       [  73.  ,  190.  ,   25.49],\n",
    "       [  78.  ,  230.  ,   27.86],\n",
    "       [  75.  ,  190.  ,   23.73],\n",
    "       [  73.  ,  200.  ,   31.78],\n",
    "       [  70.  ,  190.  ,   23.06],\n",
    "       [  74.  ,  190.  ,   26.6 ],\n",
    "       [  72.  ,  200.  ,   29.39],\n",
    "       [  73.  ,  200.  ,   26.51],\n",
    "       [  73.  ,  184.  ,   25.08],\n",
    "       [  75.  ,  200.  ,   25.76],\n",
    "       [  75.  ,  180.  ,   22.52],\n",
    "       [  74.  ,  219.  ,   25.57],\n",
    "       [  76.  ,  187.  ,   25.43],\n",
    "       [  73.  ,  200.  ,   34.65],\n",
    "       [  74.  ,  220.  ,   22.68],\n",
    "       [  75.  ,  205.  ,   21.46],\n",
    "       [  75.  ,  190.  ,   23.47],\n",
    "       [  72.  ,  170.  ,   23.1 ],\n",
    "       [  73.  ,  160.  ,   29.14],\n",
    "       [  73.  ,  215.  ,   29.77],\n",
    "       [  72.  ,  175.  ,   23.85],\n",
    "       [  74.  ,  205.  ,   28.88],\n",
    "       [  78.  ,  200.  ,   24.49],\n",
    "       [  76.  ,  214.  ,   25.19],\n",
    "       [  73.  ,  200.  ,   27.48],\n",
    "       [  74.  ,  190.  ,   28.31],\n",
    "       [  75.  ,  180.  ,   26.54],\n",
    "       [  70.  ,  205.  ,   26.77],\n",
    "       [  75.  ,  220.  ,   23.75],\n",
    "       [  71.  ,  190.  ,   26.41],\n",
    "       [  72.  ,  215.  ,   36.47],\n",
    "       [  78.  ,  235.  ,   26.06],\n",
    "       [  75.  ,  191.  ,   27.55],\n",
    "       [  73.  ,  200.  ,   31.28],\n",
    "       [  73.  ,  181.  ,   29.04],\n",
    "       [  71.  ,  200.  ,   32.95],\n",
    "       [  75.  ,  210.  ,   26.65],\n",
    "       [  77.  ,  240.  ,   27.5 ],\n",
    "       [  72.  ,  185.  ,   30.9 ],\n",
    "       [  69.  ,  165.  ,   29.09],\n",
    "       [  73.  ,  190.  ,   36.67],\n",
    "       [  74.  ,  185.  ,   23.44],\n",
    "       [  72.  ,  175.  ,   29.09],\n",
    "       [  70.  ,  155.  ,   22.89],\n",
    "       [  75.  ,  210.  ,   25.48],\n",
    "       [  70.  ,  170.  ,   25.84],\n",
    "       [  72.  ,  175.  ,   27.2 ],\n",
    "       [  72.  ,  220.  ,   25.22],\n",
    "       [  74.  ,  210.  ,   24.67],\n",
    "       [  73.  ,  205.  ,   39.25],\n",
    "       [  74.  ,  200.  ,   32.17],\n",
    "       [  76.  ,  205.  ,   32.77],\n",
    "       [  75.  ,  195.  ,   29.83],\n",
    "       [  80.  ,  240.  ,   31.02],\n",
    "       [  72.  ,  150.  ,   29.73],\n",
    "       [  75.  ,  200.  ,   28.48],\n",
    "       [  73.  ,  215.  ,   26.51],\n",
    "       [  74.  ,  202.  ,   26.  ],\n",
    "       [  74.  ,  200.  ,   23.36],\n",
    "       [  73.  ,  190.  ,   25.9 ],\n",
    "       [  75.  ,  205.  ,   28.5 ],\n",
    "       [  75.  ,  190.  ,   25.62],\n",
    "       [  71.  ,  160.  ,   30.94],\n",
    "       [  73.  ,  215.  ,   26.59],\n",
    "       [  75.  ,  185.  ,   22.78],\n",
    "       [  74.  ,  200.  ,   32.26],\n",
    "       [  74.  ,  190.  ,   30.35],\n",
    "       [  72.  ,  210.  ,   33.26],\n",
    "       [  74.  ,  185.  ,   32.35],\n",
    "       [  74.  ,  220.  ,   27.3 ],\n",
    "       [  74.  ,  190.  ,   32.08],\n",
    "       [  73.  ,  202.  ,   25.25],\n",
    "       [  76.  ,  205.  ,   25.03],\n",
    "       [  75.  ,  220.  ,   26.89],\n",
    "       [  72.  ,  175.  ,   24.69],\n",
    "       [  73.  ,  160.  ,   22.44],\n",
    "       [  73.  ,  190.  ,   30.36],\n",
    "       [  73.  ,  200.  ,   26.27],\n",
    "       [  72.  ,  229.  ,   29.5 ],\n",
    "       [  72.  ,  206.  ,   29.75],\n",
    "       [  72.  ,  220.  ,   38.3 ],\n",
    "       [  72.  ,  180.  ,   39.75],\n",
    "       [  71.  ,  195.  ,   32.84],\n",
    "       [  75.  ,  175.  ,   26.66],\n",
    "       [  75.  ,  188.  ,   24.94],\n",
    "       [  74.  ,  230.  ,   27.76],\n",
    "       [  73.  ,  190.  ,   23.66],\n",
    "       [  75.  ,  200.  ,   24.96],\n",
    "       [  79.  ,  190.  ,   23.65],\n",
    "       [  74.  ,  219.  ,   29.42],\n",
    "       [  76.  ,  235.  ,   32.18],\n",
    "       [  73.  ,  180.  ,   26.66],\n",
    "       [  74.  ,  180.  ,   27.47],\n",
    "       [  74.  ,  180.  ,   25.66],\n",
    "       [  72.  ,  200.  ,   35.13],\n",
    "       [  74.  ,  234.  ,   31.15],\n",
    "       [  74.  ,  185.  ,   35.67],\n",
    "       [  75.  ,  220.  ,   29.6 ],\n",
    "       [  78.  ,  223.  ,   30.14],\n",
    "       [  74.  ,  200.  ,   24.53],\n",
    "       [  74.  ,  210.  ,   24.49],\n",
    "       [  74.  ,  200.  ,   26.28],\n",
    "       [  77.  ,  210.  ,   24.06],\n",
    "       [  70.  ,  190.  ,   35.88],\n",
    "       [  73.  ,  177.  ,   30.42],\n",
    "       [  74.  ,  227.  ,   30.09],\n",
    "       [  73.  ,  180.  ,   26.5 ],\n",
    "       [  71.  ,  195.  ,   24.94],\n",
    "       [  75.  ,  199.  ,   29.6 ],\n",
    "       [  71.  ,  175.  ,   32.43],\n",
    "       [  72.  ,  185.  ,   37.16],\n",
    "       [  77.  ,  240.  ,   30.57],\n",
    "       [  74.  ,  210.  ,   27.01],\n",
    "       [  70.  ,  180.  ,   30.23],\n",
    "       [  77.  ,  194.  ,   26.03],\n",
    "       [  73.  ,  225.  ,   28.23],\n",
    "       [  72.  ,  180.  ,   25.21],\n",
    "       [  76.  ,  205.  ,   25.45],\n",
    "       [  71.  ,  193.  ,   26.24],\n",
    "       [  76.  ,  230.  ,   30.15],\n",
    "       [  78.  ,  230.  ,   29.8 ],\n",
    "       [  75.  ,  220.  ,   33.41],\n",
    "       [  73.  ,  200.  ,   30.95],\n",
    "       [  78.  ,  249.  ,   31.17],\n",
    "       [  74.  ,  190.  ,   30.95],\n",
    "       [  79.  ,  208.  ,   29.44],\n",
    "       [  75.  ,  245.  ,   27.14],\n",
    "       [  76.  ,  250.  ,   26.21],\n",
    "       [  72.  ,  160.  ,   24.08],\n",
    "       [  75.  ,  192.  ,   23.96],\n",
    "       [  75.  ,  220.  ,   24.94],\n",
    "       [  70.  ,  170.  ,   29.56],\n",
    "       [  72.  ,  197.  ,   26.42],\n",
    "       [  70.  ,  155.  ,   23.92],\n",
    "       [  74.  ,  190.  ,   25.23],\n",
    "       [  71.  ,  200.  ,   35.82],\n",
    "       [  76.  ,  220.  ,   23.87],\n",
    "       [  73.  ,  210.  ,   32.57],\n",
    "       [  76.  ,  228.  ,   25.79],\n",
    "       [  71.  ,  190.  ,   31.47],\n",
    "       [  69.  ,  160.  ,   22.61],\n",
    "       [  72.  ,  184.  ,   24.85],\n",
    "       [  72.  ,  180.  ,   27.33],\n",
    "       [  69.  ,  180.  ,   26.67],\n",
    "       [  73.  ,  200.  ,   37.43],\n",
    "       [  69.  ,  176.  ,   29.31],\n",
    "       [  73.  ,  160.  ,   29.85],\n",
    "       [  74.  ,  222.  ,   27.93],\n",
    "       [  74.  ,  211.  ,   31.62],\n",
    "       [  72.  ,  195.  ,   30.55],\n",
    "       [  71.  ,  200.  ,   24.77],\n",
    "       [  72.  ,  175.  ,   33.77],\n",
    "       [  72.  ,  206.  ,   27.97],\n",
    "       [  76.  ,  240.  ,   27.85],\n",
    "       [  76.  ,  185.  ,   23.26],\n",
    "       [  76.  ,  260.  ,   25.38],\n",
    "       [  74.  ,  185.  ,   23.35],\n",
    "       [  76.  ,  221.  ,   25.45],\n",
    "       [  75.  ,  205.  ,   26.49],\n",
    "       [  71.  ,  200.  ,   24.  ],\n",
    "       [  72.  ,  170.  ,   24.16],\n",
    "       [  71.  ,  201.  ,   28.1 ],\n",
    "       [  73.  ,  205.  ,   25.65],\n",
    "       [  75.  ,  185.  ,   28.58],\n",
    "       [  76.  ,  205.  ,   32.27],\n",
    "       [  75.  ,  245.  ,   29.86],\n",
    "       [  71.  ,  220.  ,   25.14],\n",
    "       [  75.  ,  210.  ,   23.03],\n",
    "       [  74.  ,  220.  ,   30.25],\n",
    "       [  72.  ,  185.  ,   30.67],\n",
    "       [  73.  ,  175.  ,   27.73],\n",
    "       [  73.  ,  170.  ,   23.34],\n",
    "       [  73.  ,  180.  ,   25.94],\n",
    "       [  73.  ,  200.  ,   31.56],\n",
    "       [  76.  ,  210.  ,   34.85],\n",
    "       [  72.  ,  175.  ,   23.98],\n",
    "       [  76.  ,  220.  ,   23.14],\n",
    "       [  73.  ,  206.  ,   28.99],\n",
    "       [  73.  ,  180.  ,   25.02],\n",
    "       [  73.  ,  210.  ,   29.85],\n",
    "       [  75.  ,  195.  ,   27.03],\n",
    "       [  75.  ,  200.  ,   25.15],\n",
    "       [  77.  ,  200.  ,   27.12],\n",
    "       [  73.  ,  164.  ,   31.63],\n",
    "       [  72.  ,  180.  ,   32.62],\n",
    "       [  75.  ,  220.  ,   39.79],\n",
    "       [  70.  ,  195.  ,   34.47],\n",
    "       [  74.  ,  205.  ,   23.47],\n",
    "       [  72.  ,  170.  ,   25.31],\n",
    "       [  80.  ,  240.  ,   27.1 ],\n",
    "       [  71.  ,  210.  ,   24.35],\n",
    "       [  71.  ,  195.  ,   23.45],\n",
    "       [  74.  ,  200.  ,   28.24],\n",
    "       [  74.  ,  205.  ,   28.77],\n",
    "       [  73.  ,  192.  ,   26.53],\n",
    "       [  75.  ,  190.  ,   25.64],\n",
    "       [  76.  ,  170.  ,   25.83],\n",
    "       [  73.  ,  240.  ,   38.06],\n",
    "       [  77.  ,  200.  ,   36.38],\n",
    "       [  72.  ,  205.  ,   25.27],\n",
    "       [  73.  ,  175.  ,   27.2 ],\n",
    "       [  77.  ,  250.  ,   31.59],\n",
    "       [  76.  ,  220.  ,   29.56],\n",
    "       [  71.  ,  224.  ,   35.5 ],\n",
    "       [  75.  ,  210.  ,   30.35],\n",
    "       [  73.  ,  195.  ,   24.11],\n",
    "       [  74.  ,  180.  ,   23.29],\n",
    "       [  77.  ,  245.  ,   31.48],\n",
    "       [  71.  ,  175.  ,   27.23],\n",
    "       [  72.  ,  180.  ,   24.07],\n",
    "       [  73.  ,  215.  ,   28.68],\n",
    "       [  69.  ,  175.  ,   27.05],\n",
    "       [  73.  ,  180.  ,   31.15],\n",
    "       [  70.  ,  195.  ,   31.85],\n",
    "       [  74.  ,  230.  ,   31.68],\n",
    "       [  76.  ,  230.  ,   34.23],\n",
    "       [  73.  ,  205.  ,   32.01],\n",
    "       [  73.  ,  215.  ,   25.41],\n",
    "       [  75.  ,  195.  ,   24.73],\n",
    "       [  73.  ,  180.  ,   25.66],\n",
    "       [  79.  ,  205.  ,   24.5 ],\n",
    "       [  74.  ,  180.  ,   24.38],\n",
    "       [  73.  ,  190.  ,   26.89],\n",
    "       [  74.  ,  180.  ,   24.2 ],\n",
    "       [  77.  ,  190.  ,   26.97],\n",
    "       [  75.  ,  190.  ,   25.21],\n",
    "       [  74.  ,  220.  ,   30.46],\n",
    "       [  73.  ,  210.  ,   28.53],\n",
    "       [  77.  ,  255.  ,   25.75],\n",
    "       [  73.  ,  190.  ,   31.15],\n",
    "       [  77.  ,  230.  ,   26.48],\n",
    "       [  74.  ,  200.  ,   26.93],\n",
    "       [  74.  ,  205.  ,   29.55],\n",
    "       [  73.  ,  210.  ,   34.75],\n",
    "       [  77.  ,  225.  ,   29.71],\n",
    "       [  74.  ,  215.  ,   29.83],\n",
    "       [  77.  ,  220.  ,   33.57],\n",
    "       [  75.  ,  205.  ,   28.21],\n",
    "       [  77.  ,  200.  ,   27.54],\n",
    "       [  75.  ,  220.  ,   26.05],\n",
    "       [  71.  ,  197.  ,   23.64],\n",
    "       [  74.  ,  225.  ,   24.82],\n",
    "       [  70.  ,  187.  ,   29.8 ],\n",
    "       [  79.  ,  245.  ,   34.71],\n",
    "       [  72.  ,  185.  ,   29.22],\n",
    "       [  72.  ,  185.  ,   23.96],\n",
    "       [  70.  ,  175.  ,   23.87],\n",
    "       [  74.  ,  200.  ,   26.77],\n",
    "       [  74.  ,  180.  ,   23.49],\n",
    "       [  72.  ,  188.  ,   26.77],\n",
    "       [  73.  ,  225.  ,   24.51],\n",
    "       [  72.  ,  200.  ,   33.23],\n",
    "       [  74.  ,  210.  ,   31.04],\n",
    "       [  74.  ,  245.  ,   32.02],\n",
    "       [  76.  ,  213.  ,   31.44],\n",
    "       [  82.  ,  231.  ,   43.47],\n",
    "       [  74.  ,  165.  ,   28.38],\n",
    "       [  74.  ,  228.  ,   27.81],\n",
    "       [  70.  ,  210.  ,   24.57],\n",
    "       [  73.  ,  250.  ,   23.34],\n",
    "       [  73.  ,  191.  ,   27.09],\n",
    "       [  74.  ,  190.  ,   25.14],\n",
    "       [  77.  ,  200.  ,   27.07],\n",
    "       [  72.  ,  215.  ,   24.02],\n",
    "       [  76.  ,  254.  ,   27.6 ],\n",
    "       [  73.  ,  232.  ,   27.99],\n",
    "       [  73.  ,  180.  ,   27.56],\n",
    "       [  72.  ,  215.  ,   28.63],\n",
    "       [  74.  ,  220.  ,   30.99],\n",
    "       [  74.  ,  180.  ,   26.33],\n",
    "       [  71.  ,  200.  ,   26.97],\n",
    "       [  72.  ,  170.  ,   22.85],\n",
    "       [  75.  ,  195.  ,   23.19],\n",
    "       [  74.  ,  210.  ,   23.87],\n",
    "       [  74.  ,  200.  ,   33.98],\n",
    "       [  77.  ,  220.  ,   28.26],\n",
    "       [  70.  ,  165.  ,   29.12],\n",
    "       [  71.  ,  180.  ,   26.18],\n",
    "       [  73.  ,  200.  ,   28.03],\n",
    "       [  76.  ,  200.  ,   23.08],\n",
    "       [  71.  ,  170.  ,   26.24],\n",
    "       [  75.  ,  224.  ,   26.63],\n",
    "       [  74.  ,  220.  ,   24.21],\n",
    "       [  72.  ,  180.  ,   23.01],\n",
    "       [  76.  ,  198.  ,   23.13],\n",
    "       [  79.  ,  240.  ,   23.08],\n",
    "       [  76.  ,  239.  ,   25.13],\n",
    "       [  73.  ,  185.  ,   24.66],\n",
    "       [  76.  ,  210.  ,   26.03],\n",
    "       [  78.  ,  220.  ,   28.7 ],\n",
    "       [  75.  ,  200.  ,   25.57],\n",
    "       [  76.  ,  195.  ,   24.65],\n",
    "       [  72.  ,  220.  ,   25.55],\n",
    "       [  72.  ,  230.  ,   22.27],\n",
    "       [  73.  ,  170.  ,   24.76],\n",
    "       [  73.  ,  220.  ,   23.98],\n",
    "       [  75.  ,  230.  ,   27.85],\n",
    "       [  71.  ,  165.  ,   22.14],\n",
    "       [  76.  ,  205.  ,   27.05],\n",
    "       [  70.  ,  192.  ,   31.45],\n",
    "       [  75.  ,  210.  ,   32.03],\n",
    "       [  74.  ,  205.  ,   29.95],\n",
    "       [  75.  ,  200.  ,   23.47],\n",
    "       [  73.  ,  210.  ,   37.21],\n",
    "       [  71.  ,  185.  ,   25.67],\n",
    "       [  71.  ,  195.  ,   34.69],\n",
    "       [  72.  ,  202.  ,   30.04],\n",
    "       [  73.  ,  205.  ,   32.52],\n",
    "       [  73.  ,  195.  ,   24.15],\n",
    "       [  72.  ,  180.  ,   26.86],\n",
    "       [  69.  ,  200.  ,   27.94],\n",
    "       [  73.  ,  185.  ,   26.63],\n",
    "       [  78.  ,  240.  ,   27.31],\n",
    "       [  71.  ,  185.  ,   30.55],\n",
    "       [  73.  ,  220.  ,   40.68],\n",
    "       [  75.  ,  205.  ,   37.27],\n",
    "       [  76.  ,  205.  ,   25.78],\n",
    "       [  70.  ,  180.  ,   30.98],\n",
    "       [  74.  ,  201.  ,   28.41],\n",
    "       [  77.  ,  190.  ,   30.01],\n",
    "       [  75.  ,  208.  ,   31.57],\n",
    "       [  79.  ,  240.  ,   28.81],\n",
    "       [  72.  ,  180.  ,   24.09],\n",
    "       [  77.  ,  230.  ,   26.47],\n",
    "       [  73.  ,  195.  ,   30.5 ],\n",
    "       [  75.  ,  215.  ,   23.74],\n",
    "       [  75.  ,  190.  ,   24.49],\n",
    "       [  75.  ,  195.  ,   26.73],\n",
    "       [  73.  ,  215.  ,   27.01],\n",
    "       [  73.  ,  215.  ,   39.75],\n",
    "       [  76.  ,  220.  ,   27.16],\n",
    "       [  77.  ,  220.  ,   25.74],\n",
    "       [  75.  ,  230.  ,   37.43],\n",
    "       [  70.  ,  195.  ,   39.85],\n",
    "       [  71.  ,  190.  ,   28.62],\n",
    "       [  71.  ,  195.  ,   23.9 ],\n",
    "       [  75.  ,  209.  ,   25.18],\n",
    "       [  74.  ,  204.  ,   33.53],\n",
    "       [  69.  ,  170.  ,   33.03],\n",
    "       [  70.  ,  185.  ,   31.35],\n",
    "       [  75.  ,  205.  ,   22.39],\n",
    "       [  72.  ,  175.  ,   27.99],\n",
    "       [  75.  ,  210.  ,   27.22],\n",
    "       [  73.  ,  190.  ,   27.49],\n",
    "       [  72.  ,  180.  ,   27.53],\n",
    "       [  72.  ,  180.  ,   26.26],\n",
    "       [  72.  ,  160.  ,   25.18],\n",
    "       [  76.  ,  235.  ,   27.12],\n",
    "       [  75.  ,  200.  ,   27.69],\n",
    "       [  74.  ,  210.  ,   25.69],\n",
    "       [  69.  ,  180.  ,   28.11],\n",
    "       [  73.  ,  190.  ,   31.21],\n",
    "       [  72.  ,  197.  ,   30.8 ],\n",
    "       [  72.  ,  203.  ,   30.21],\n",
    "       [  75.  ,  205.  ,   28.06],\n",
    "       [  77.  ,  170.  ,   26.52],\n",
    "       [  76.  ,  200.  ,   23.1 ],\n",
    "       [  80.  ,  250.  ,   25.02],\n",
    "       [  77.  ,  200.  ,   26.14],\n",
    "       [  76.  ,  220.  ,   25.38],\n",
    "       [  79.  ,  200.  ,   27.6 ],\n",
    "       [  71.  ,  190.  ,   25.5 ],\n",
    "       [  75.  ,  170.  ,   24.24],\n",
    "       [  73.  ,  190.  ,   23.32],\n",
    "       [  76.  ,  220.  ,   31.56],\n",
    "       [  77.  ,  215.  ,   34.19],\n",
    "       [  73.  ,  206.  ,   36.78],\n",
    "       [  76.  ,  215.  ,   27.73],\n",
    "       [  70.  ,  185.  ,   34.88],\n",
    "       [  75.  ,  235.  ,   31.  ],\n",
    "       [  73.  ,  188.  ,   48.52],\n",
    "       [  75.  ,  230.  ,   34.68],\n",
    "       [  70.  ,  195.  ,   37.38],\n",
    "       [  69.  ,  168.  ,   24.33],\n",
    "       [  71.  ,  190.  ,   37.3 ],\n",
    "       [  72.  ,  160.  ,   23.72],\n",
    "       [  72.  ,  200.  ,   24.19],\n",
    "       [  73.  ,  200.  ,   25.7 ],\n",
    "       [  70.  ,  189.  ,   29.06],\n",
    "       [  70.  ,  180.  ,   33.48],\n",
    "       [  73.  ,  190.  ,   29.85],\n",
    "       [  76.  ,  200.  ,   34.3 ],\n",
    "       [  75.  ,  220.  ,   40.66],\n",
    "       [  72.  ,  187.  ,   21.9 ],\n",
    "       [  73.  ,  240.  ,   27.39],\n",
    "       [  79.  ,  190.  ,   23.13],\n",
    "       [  71.  ,  180.  ,   35.35],\n",
    "       [  72.  ,  185.  ,   40.93],\n",
    "       [  74.  ,  210.  ,   33.67],\n",
    "       [  74.  ,  220.  ,   37.39],\n",
    "       [  74.  ,  219.  ,   27.97],\n",
    "       [  72.  ,  190.  ,   25.54],\n",
    "       [  76.  ,  193.  ,   25.81],\n",
    "       [  76.  ,  175.  ,   22.53],\n",
    "       [  72.  ,  180.  ,   22.86],\n",
    "       [  72.  ,  215.  ,   24.07],\n",
    "       [  71.  ,  210.  ,   29.5 ],\n",
    "       [  72.  ,  200.  ,   30.03],\n",
    "       [  72.  ,  190.  ,   27.38],\n",
    "       [  70.  ,  185.  ,   30.51],\n",
    "       [  77.  ,  220.  ,   28.3 ],\n",
    "       [  74.  ,  170.  ,   29.84],\n",
    "       [  72.  ,  195.  ,   33.41],\n",
    "       [  76.  ,  205.  ,   33.6 ],\n",
    "       [  71.  ,  195.  ,   35.6 ],\n",
    "       [  76.  ,  210.  ,   24.19],\n",
    "       [  71.  ,  190.  ,   37.88],\n",
    "       [  73.  ,  190.  ,   27.56],\n",
    "       [  70.  ,  180.  ,   24.42],\n",
    "       [  73.  ,  220.  ,   31.05],\n",
    "       [  73.  ,  190.  ,   31.56],\n",
    "       [  72.  ,  186.  ,   35.55],\n",
    "       [  71.  ,  185.  ,   41.21],\n",
    "       [  71.  ,  190.  ,   27.12],\n",
    "       [  71.  ,  180.  ,   26.97],\n",
    "       [  72.  ,  190.  ,   28.92],\n",
    "       [  72.  ,  170.  ,   30.06],\n",
    "       [  74.  ,  210.  ,   31.51],\n",
    "       [  74.  ,  240.  ,   30.69],\n",
    "       [  74.  ,  220.  ,   30.19],\n",
    "       [  71.  ,  180.  ,   38.11],\n",
    "       [  72.  ,  210.  ,   28.68],\n",
    "       [  75.  ,  210.  ,   27.44],\n",
    "       [  72.  ,  195.  ,   24.63],\n",
    "       [  71.  ,  160.  ,   28.11],\n",
    "       [  72.  ,  180.  ,   28.9 ],\n",
    "       [  72.  ,  205.  ,   24.11],\n",
    "       [  72.  ,  200.  ,   40.53],\n",
    "       [  72.  ,  185.  ,   29.5 ],\n",
    "       [  74.  ,  245.  ,   28.62],\n",
    "       [  74.  ,  190.  ,   26.42],\n",
    "       [  77.  ,  210.  ,   30.18],\n",
    "       [  75.  ,  200.  ,   33.75],\n",
    "       [  73.  ,  200.  ,   30.06],\n",
    "       [  75.  ,  222.  ,   29.22],\n",
    "       [  73.  ,  215.  ,   24.47],\n",
    "       [  76.  ,  240.  ,   24.94],\n",
    "       [  72.  ,  170.  ,   28.77],\n",
    "       [  77.  ,  220.  ,   28.54],\n",
    "       [  75.  ,  156.  ,   27.32],\n",
    "       [  72.  ,  190.  ,   35.12],\n",
    "       [  71.  ,  202.  ,   24.04],\n",
    "       [  71.  ,  221.  ,   36.39],\n",
    "       [  75.  ,  200.  ,   22.81],\n",
    "       [  72.  ,  190.  ,   33.6 ],\n",
    "       [  73.  ,  210.  ,   38.98],\n",
    "       [  73.  ,  190.  ,   34.39],\n",
    "       [  71.  ,  200.  ,   33.15],\n",
    "       [  70.  ,  165.  ,   29.35],\n",
    "       [  75.  ,  190.  ,   26.59],\n",
    "       [  71.  ,  185.  ,   23.46],\n",
    "       [  76.  ,  230.  ,   22.43],\n",
    "       [  73.  ,  208.  ,   24.89],\n",
    "       [  68.  ,  209.  ,   24.67],\n",
    "       [  71.  ,  175.  ,   26.17],\n",
    "       [  72.  ,  180.  ,   29.54],\n",
    "       [  74.  ,  200.  ,   39.49],\n",
    "       [  77.  ,  205.  ,   34.08],\n",
    "       [  72.  ,  200.  ,   30.52],\n",
    "       [  76.  ,  250.  ,   28.77],\n",
    "       [  78.  ,  210.  ,   33.75],\n",
    "       [  81.  ,  230.  ,   32.69],\n",
    "       [  72.  ,  244.  ,   22.59],\n",
    "       [  73.  ,  202.  ,   37.04],\n",
    "       [  76.  ,  240.  ,   22.7 ],\n",
    "       [  72.  ,  200.  ,   25.6 ],\n",
    "       [  72.  ,  215.  ,   27.23],\n",
    "       [  74.  ,  177.  ,   25.74],\n",
    "       [  76.  ,  210.  ,   30.29],\n",
    "       [  73.  ,  170.  ,   26.72],\n",
    "       [  76.  ,  215.  ,   33.9 ],\n",
    "       [  75.  ,  217.  ,   29.86],\n",
    "       [  70.  ,  198.  ,   36.13],\n",
    "       [  71.  ,  200.  ,   27.54],\n",
    "       [  74.  ,  220.  ,   31.49],\n",
    "       [  72.  ,  170.  ,   28.1 ],\n",
    "       [  73.  ,  200.  ,   34.07],\n",
    "       [  76.  ,  230.  ,   27.28],\n",
    "       [  76.  ,  231.  ,   30.8 ],\n",
    "       [  73.  ,  183.  ,   28.2 ],\n",
    "       [  71.  ,  192.  ,   27.9 ],\n",
    "       [  68.  ,  167.  ,   28.26],\n",
    "       [  71.  ,  190.  ,   30.96],\n",
    "       [  71.  ,  180.  ,   24.18],\n",
    "       [  74.  ,  180.  ,   27.52],\n",
    "       [  77.  ,  215.  ,   27.78],\n",
    "       [  69.  ,  160.  ,   26.25],\n",
    "       [  72.  ,  205.  ,   29.5 ],\n",
    "       [  76.  ,  223.  ,   30.39],\n",
    "       [  75.  ,  175.  ,   23.18],\n",
    "       [  76.  ,  170.  ,   25.81],\n",
    "       [  75.  ,  190.  ,   23.01],\n",
    "       [  76.  ,  240.  ,   31.72],\n",
    "       [  72.  ,  175.  ,   44.28],\n",
    "       [  74.  ,  230.  ,   36.91],\n",
    "       [  76.  ,  223.  ,   26.54],\n",
    "       [  74.  ,  196.  ,   29.27],\n",
    "       [  72.  ,  167.  ,   30.51],\n",
    "       [  75.  ,  195.  ,   31.28],\n",
    "       [  78.  ,  190.  ,   26.51],\n",
    "       [  77.  ,  250.  ,   34.87],\n",
    "       [  70.  ,  190.  ,   39.28],\n",
    "       [  72.  ,  190.  ,   28.56],\n",
    "       [  79.  ,  190.  ,   27.82],\n",
    "       [  74.  ,  170.  ,   25.94],\n",
    "       [  71.  ,  160.  ,   28.53],\n",
    "       [  68.  ,  150.  ,   22.11],\n",
    "       [  77.  ,  225.  ,   27.71],\n",
    "       [  75.  ,  220.  ,   37.38],\n",
    "       [  71.  ,  209.  ,   30.67],\n",
    "       [  72.  ,  210.  ,   30.48],\n",
    "       [  70.  ,  176.  ,   27.12],\n",
    "       [  72.  ,  260.  ,   22.81],\n",
    "       [  72.  ,  195.  ,   24.46],\n",
    "       [  73.  ,  190.  ,   34.73],\n",
    "       [  72.  ,  184.  ,   36.53],\n",
    "       [  74.  ,  180.  ,   24.53],\n",
    "       [  72.  ,  195.  ,   27.17],\n",
    "       [  72.  ,  195.  ,   26.9 ],\n",
    "       [  75.  ,  219.  ,   33.67],\n",
    "       [  72.  ,  225.  ,   29.14],\n",
    "       [  73.  ,  212.  ,   32.61],\n",
    "       [  74.  ,  202.  ,   33.87],\n",
    "       [  72.  ,  185.  ,   24.41],\n",
    "       [  78.  ,  200.  ,   24.94],\n",
    "       [  75.  ,  209.  ,   27.36],\n",
    "       [  72.  ,  200.  ,   26.33],\n",
    "       [  74.  ,  195.  ,   25.72],\n",
    "       [  75.  ,  228.  ,   28.7 ],\n",
    "       [  75.  ,  210.  ,   28.53],\n",
    "       [  76.  ,  190.  ,   26.07],\n",
    "       [  74.  ,  212.  ,   27.31],\n",
    "       [  74.  ,  190.  ,   23.26],\n",
    "       [  73.  ,  218.  ,   28.62],\n",
    "       [  74.  ,  220.  ,   32.16],\n",
    "       [  71.  ,  190.  ,   38.43],\n",
    "       [  74.  ,  235.  ,   31.81],\n",
    "       [  75.  ,  210.  ,   29.1 ],\n",
    "       [  76.  ,  200.  ,   31.28],\n",
    "       [  74.  ,  188.  ,   29.17],\n",
    "       [  76.  ,  210.  ,   25.89],\n",
    "       [  76.  ,  235.  ,   26.13],\n",
    "       [  73.  ,  188.  ,   29.13],\n",
    "       [  75.  ,  215.  ,   28.92],\n",
    "       [  75.  ,  216.  ,   26.01],\n",
    "       [  74.  ,  220.  ,   24.81],\n",
    "       [  68.  ,  180.  ,   28.79],\n",
    "       [  72.  ,  185.  ,   33.77],\n",
    "       [  75.  ,  200.  ,   33.85],\n",
    "       [  71.  ,  210.  ,   27.36],\n",
    "       [  70.  ,  220.  ,   26.01],\n",
    "       [  72.  ,  185.  ,   29.95],\n",
    "       [  73.  ,  231.  ,   28.12],\n",
    "       [  72.  ,  210.  ,   32.87],\n",
    "       [  75.  ,  195.  ,   31.2 ],\n",
    "       [  74.  ,  200.  ,   34.14],\n",
    "       [  70.  ,  205.  ,   36.11],\n",
    "       [  76.  ,  200.  ,   26.31],\n",
    "       [  71.  ,  190.  ,   27.5 ],\n",
    "       [  82.  ,  250.  ,   27.77],\n",
    "       [  72.  ,  185.  ,   40.88],\n",
    "       [  73.  ,  180.  ,   25.75],\n",
    "       [  74.  ,  170.  ,   31.41],\n",
    "       [  71.  ,  180.  ,   30.84],\n",
    "       [  75.  ,  208.  ,   30.57],\n",
    "       [  77.  ,  235.  ,   39.79],\n",
    "       [  72.  ,  215.  ,   39.38],\n",
    "       [  74.  ,  244.  ,   29.42],\n",
    "       [  72.  ,  220.  ,   26.19],\n",
    "       [  73.  ,  185.  ,   23.74],\n",
    "       [  78.  ,  230.  ,   26.03],\n",
    "       [  77.  ,  190.  ,   28.59],\n",
    "       [  73.  ,  200.  ,   26.77],\n",
    "       [  73.  ,  180.  ,   27.21],\n",
    "       [  73.  ,  190.  ,   24.87],\n",
    "       [  73.  ,  196.  ,   30.26],\n",
    "       [  73.  ,  180.  ,   22.34],\n",
    "       [  76.  ,  230.  ,   26.2 ],\n",
    "       [  75.  ,  224.  ,   28.45],\n",
    "       [  70.  ,  160.  ,   27.63],\n",
    "       [  73.  ,  178.  ,   25.93],\n",
    "       [  72.  ,  205.  ,   28.94],\n",
    "       [  73.  ,  185.  ,   26.8 ],\n",
    "       [  75.  ,  210.  ,   22.42],\n",
    "       [  74.  ,  180.  ,   27.26],\n",
    "       [  73.  ,  190.  ,   28.38],\n",
    "       [  73.  ,  200.  ,   25.23],\n",
    "       [  76.  ,  257.  ,   28.16],\n",
    "       [  73.  ,  190.  ,   28.48],\n",
    "       [  75.  ,  220.  ,   26.78],\n",
    "       [  70.  ,  165.  ,   25.24],\n",
    "       [  77.  ,  205.  ,   27.45],\n",
    "       [  72.  ,  200.  ,   29.05],\n",
    "       [  77.  ,  208.  ,   29.08],\n",
    "       [  74.  ,  185.  ,   25.84],\n",
    "       [  75.  ,  215.  ,   25.4 ],\n",
    "       [  75.  ,  170.  ,   26.54],\n",
    "       [  75.  ,  235.  ,   22.73],\n",
    "       [  75.  ,  210.  ,   28.53],\n",
    "       [  72.  ,  170.  ,   25.37],\n",
    "       [  74.  ,  180.  ,   25.35],\n",
    "       [  71.  ,  170.  ,   26.43],\n",
    "       [  76.  ,  190.  ,   25.43],\n",
    "       [  71.  ,  150.  ,   29.23],\n",
    "       [  75.  ,  230.  ,   30.22],\n",
    "       [  76.  ,  203.  ,   32.3 ],\n",
    "       [  83.  ,  260.  ,   28.42],\n",
    "       [  75.  ,  246.  ,   25.24],\n",
    "       [  74.  ,  186.  ,   29.13],\n",
    "       [  76.  ,  210.  ,   24.63],\n",
    "       [  72.  ,  198.  ,   24.95],\n",
    "       [  72.  ,  210.  ,   28.06],\n",
    "       [  75.  ,  215.  ,   25.86],\n",
    "       [  75.  ,  180.  ,   27.32],\n",
    "       [  72.  ,  200.  ,   25.91],\n",
    "       [  77.  ,  245.  ,   26.63],\n",
    "       [  73.  ,  200.  ,   25.95],\n",
    "       [  72.  ,  192.  ,   29.17],\n",
    "       [  70.  ,  192.  ,   29.19],\n",
    "       [  74.  ,  200.  ,   28.44],\n",
    "       [  72.  ,  192.  ,   26.36],\n",
    "       [  74.  ,  205.  ,   28.29],\n",
    "       [  72.  ,  190.  ,   29.45],\n",
    "       [  71.  ,  186.  ,   25.34],\n",
    "       [  70.  ,  170.  ,   26.86],\n",
    "       [  71.  ,  197.  ,   26.36],\n",
    "       [  76.  ,  219.  ,   27.39],\n",
    "       [  74.  ,  200.  ,   25.84],\n",
    "       [  76.  ,  220.  ,   25.08],\n",
    "       [  74.  ,  207.  ,   23.87],\n",
    "       [  74.  ,  225.  ,   24.68],\n",
    "       [  74.  ,  207.  ,   24.64],\n",
    "       [  75.  ,  212.  ,   29.19],\n",
    "       [  75.  ,  225.  ,   28.84],\n",
    "       [  71.  ,  170.  ,   25.33],\n",
    "       [  71.  ,  190.  ,   24.45],\n",
    "       [  74.  ,  210.  ,   28.32],\n",
    "       [  77.  ,  230.  ,   32.34],\n",
    "       [  71.  ,  210.  ,   34.97],\n",
    "       [  74.  ,  200.  ,   32.04],\n",
    "       [  75.  ,  238.  ,   23.49],\n",
    "       [  77.  ,  234.  ,   26.09],\n",
    "       [  76.  ,  222.  ,   26.41],\n",
    "       [  74.  ,  200.  ,   26.55],\n",
    "       [  76.  ,  190.  ,   24.62],\n",
    "       [  72.  ,  170.  ,   28.49],\n",
    "       [  71.  ,  220.  ,   32.61],\n",
    "       [  72.  ,  223.  ,   28.06],\n",
    "       [  75.  ,  210.  ,   28.08],\n",
    "       [  73.  ,  215.  ,   37.34],\n",
    "       [  68.  ,  196.  ,   35.25],\n",
    "       [  72.  ,  175.  ,   24.77],\n",
    "       [  69.  ,  175.  ,   39.85],\n",
    "       [  73.  ,  189.  ,   35.49],\n",
    "       [  73.  ,  205.  ,   31.84],\n",
    "       [  75.  ,  210.  ,   26.67],\n",
    "       [  70.  ,  180.  ,   34.75],\n",
    "       [  70.  ,  180.  ,   28.91],\n",
    "       [  74.  ,  197.  ,   32.73],\n",
    "       [  75.  ,  220.  ,   35.72],\n",
    "       [  74.  ,  228.  ,   42.6 ],\n",
    "       [  74.  ,  190.  ,   26.22],\n",
    "       [  73.  ,  204.  ,   21.85],\n",
    "       [  74.  ,  165.  ,   24.28],\n",
    "       [  75.  ,  216.  ,   22.41],\n",
    "       [  77.  ,  220.  ,   32.56],\n",
    "       [  73.  ,  208.  ,   32.74],\n",
    "       [  74.  ,  210.  ,   26.39],\n",
    "       [  76.  ,  215.  ,   28.8 ],\n",
    "       [  74.  ,  195.  ,   28.2 ],\n",
    "       [  75.  ,  200.  ,   26.52],\n",
    "       [  73.  ,  215.  ,   34.52],\n",
    "       [  76.  ,  229.  ,   34.32],\n",
    "       [  78.  ,  240.  ,   26.98],\n",
    "       [  75.  ,  207.  ,   28.86],\n",
    "       [  73.  ,  205.  ,   24.96],\n",
    "       [  77.  ,  208.  ,   25.3 ],\n",
    "       [  74.  ,  185.  ,   27.06],\n",
    "       [  72.  ,  190.  ,   25.44],\n",
    "       [  74.  ,  170.  ,   25.53],\n",
    "       [  72.  ,  208.  ,   34.87],\n",
    "       [  71.  ,  225.  ,   24.63],\n",
    "       [  73.  ,  190.  ,   27.99],\n",
    "       [  75.  ,  225.  ,   27.12],\n",
    "       [  73.  ,  185.  ,   31.14],\n",
    "       [  67.  ,  180.  ,   30.21],\n",
    "       [  67.  ,  165.  ,   32.11],\n",
    "       [  76.  ,  240.  ,   31.91],\n",
    "       [  74.  ,  220.  ,   34.44],\n",
    "       [  73.  ,  212.  ,   36.68],\n",
    "       [  70.  ,  163.  ,   37.66],\n",
    "       [  75.  ,  215.  ,   30.98],\n",
    "       [  70.  ,  175.  ,   27.07],\n",
    "       [  72.  ,  205.  ,   29.11],\n",
    "       [  77.  ,  210.  ,   25.82],\n",
    "       [  79.  ,  205.  ,   25.5 ],\n",
    "       [  78.  ,  208.  ,   29.57],\n",
    "       [  74.  ,  215.  ,   25.37],\n",
    "       [  75.  ,  180.  ,   33.99],\n",
    "       [  75.  ,  200.  ,   29.86],\n",
    "       [  78.  ,  230.  ,   31.84],\n",
    "       [  76.  ,  211.  ,   38.31],\n",
    "       [  75.  ,  230.  ,   34.48],\n",
    "       [  69.  ,  190.  ,   36.88],\n",
    "       [  75.  ,  220.  ,   32.34],\n",
    "       [  72.  ,  180.  ,   31.58],\n",
    "       [  75.  ,  205.  ,   28.89],\n",
    "       [  73.  ,  190.  ,   25.08],\n",
    "       [  74.  ,  180.  ,   25.73],\n",
    "       [  75.  ,  205.  ,   25.19],\n",
    "       [  75.  ,  190.  ,   31.01],\n",
    "       [  73.  ,  195.  ,   27.92]])"
   ]
  },
  {
   "cell_type": "code",
   "execution_count": 79,
   "metadata": {},
   "outputs": [],
   "source": [
    "np_updated = np.array([[  1.23035590e+00,  -1.11622490e+01,   1.00000000e+00],\n",
    "       [  1.02614252e+00,   1.60973231e+01,   1.00000000e+00],\n",
    "       [  1.15442280e+00,   5.08167641e+00,   1.00000000e+00],\n",
    "       [  6.44275321e-01,  -5.09538071e+00,   1.00000000e+00],\n",
    "       [  1.00590086e+00,   2.24342718e+00,   1.00000000e+00],\n",
    "       [  9.79535475e-01,   1.21984176e+01,   1.00000000e+00],\n",
    "       [  6.28743238e-01,   1.37232422e+01,   1.00000000e+00],\n",
    "       [  1.27075194e+00,  -8.87946313e+00,   1.00000000e+00],\n",
    "       [  4.76559454e-01,  -1.08249554e+01,   1.00000000e+00],\n",
    "       [  9.16993762e-01,  -7.01116249e+00,   1.00000000e+00],\n",
    "       [  1.17179326e+00,   1.19946614e+00,   1.00000000e+00],\n",
    "       [  1.14509104e+00,  -1.20038568e+01,   1.00000000e+00],\n",
    "       [  1.20684945e+00,  -1.32983065e+01,   1.00000000e+00],\n",
    "       [  1.03436155e+00,   3.01324251e+00,   1.00000000e+00],\n",
    "       [  8.77474537e-01,   1.05177950e+01,   1.00000000e+00],\n",
    "       [  9.81330796e-01,  -1.55666485e+00,   1.00000000e+00],\n",
    "       [  1.03051228e+00,   4.47971582e+00,   1.00000000e+00],\n",
    "       [  1.21042271e+00,  -1.90450274e+01,   1.00000000e+00],\n",
    "       [  1.34612414e+00,   6.74418894e+00,   1.00000000e+00],\n",
    "       [  9.75447264e-01,   7.27211497e+00,   1.00000000e+00],\n",
    "       [  8.47118513e-01,   2.28271492e-02,   1.00000000e+00],\n",
    "       [  8.26148637e-01,   4.64024712e+00,   1.00000000e+00],\n",
    "       [  5.53648712e-01,  -2.94317618e+00,   1.00000000e+00],\n",
    "       [  7.55670499e-01,   1.11495499e+01,   1.00000000e+00],\n",
    "       [  9.85196660e-01,  -2.56945239e+01,   1.00000000e+00],\n",
    "       [  8.62126373e-01,   2.01882766e+00,   1.00000000e+00],\n",
    "       [  7.19775782e-01,   1.48238842e+01,   1.00000000e+00],\n",
    "       [  8.44751158e-01,   5.92416221e+00,   1.00000000e+00],\n",
    "       [  9.91904732e-01,  -9.42474862e+00,   1.00000000e+00],\n",
    "       [  1.04509915e+00,  -1.28390028e+01,   1.00000000e+00],\n",
    "       [  1.01190093e+00,  -6.61469619e+00,   1.00000000e+00],\n",
    "       [  7.44336986e-01,  -1.41233042e+01,   1.00000000e+00],\n",
    "       [  8.53119610e-01,   4.59921617e+00,   1.00000000e+00],\n",
    "       [  7.59425518e-01,   8.02401300e+00,   1.00000000e+00],\n",
    "       [  5.87570351e-01,   1.12257852e+01,   1.00000000e+00],\n",
    "       [  1.24227730e+00,   7.85257416e+00,   1.00000000e+00],\n",
    "       [  9.82614944e-01,   6.34371387e+00,   1.00000000e+00],\n",
    "       [  1.01614715e+00,   5.40345796e+00,   1.00000000e+00],\n",
    "       [  1.18089923e+00,  -1.46176192e-01,   1.00000000e+00],\n",
    "       [  1.17378685e+00,   2.17293935e+01,   1.00000000e+00],\n",
    "       [  1.21762004e+00,  -5.59877709e+00,   1.00000000e+00],\n",
    "       [  1.33124703e+00,   9.74917744e-01,   1.00000000e+00],\n",
    "       [  9.58079791e-01,  -1.79901724e+01,   1.00000000e+00],\n",
    "       [  9.74026483e-01,   3.14487561e+00,   1.00000000e+00],\n",
    "       [  1.06126875e+00,   8.32652888e+00,   1.00000000e+00],\n",
    "       [  8.47865074e-01,   7.83194047e+00,   1.00000000e+00],\n",
    "       [  9.42908091e-01,  -1.18734385e+01,   1.00000000e+00],\n",
    "       [  7.76138097e-01,  -9.22310373e+00,   1.00000000e+00],\n",
    "       [  7.68684276e-01,  -4.21309427e+00,   1.00000000e+00],\n",
    "       [  7.85187650e-01,  -1.68954696e+01,   1.00000000e+00],\n",
    "       [  9.15848886e-01,  -5.96619357e+00,   1.00000000e+00],\n",
    "       [  9.84531183e-01,  -1.46762139e+01,   1.00000000e+00],\n",
    "       [  1.10626605e+00,   3.45103902e+00,   1.00000000e+00],\n",
    "       [  8.53100164e-01,   5.69577055e-01,   1.00000000e+00],\n",
    "       [  1.12869803e+00,  -3.96011563e+00,   1.00000000e+00],\n",
    "       [  9.28513292e-01,  -1.23132496e+00,   1.00000000e+00],\n",
    "       [  1.07512017e+00,   1.72924292e+01,   1.00000000e+00],\n",
    "       [  7.35910830e-01,   1.77271806e+01,   1.00000000e+00],\n",
    "       [  9.81241889e-01,  -7.83222849e+00,   1.00000000e+00],\n",
    "       [  1.22849824e+00,  -2.41199106e+00,   1.00000000e+00],\n",
    "       [  9.68632665e-01,  -5.49584278e+00,   1.00000000e+00],\n",
    "       [  8.22116396e-01,  -2.02656475e+01,   1.00000000e+00],\n",
    "       [  1.35300136e+00,  -7.89083698e+00,   1.00000000e+00],\n",
    "       [  1.27588359e+00,  -4.07022942e+00,   1.00000000e+00],\n",
    "       [  1.12014611e+00,  -5.25433720e+00,   1.00000000e+00],\n",
    "       [  1.20086535e+00,  -4.35920475e+00,   1.00000000e+00],\n",
    "       [  1.01474253e+00,   1.07527743e+01,   1.00000000e+00],\n",
    "       [  1.30559742e+00,   2.01574420e+00,   1.00000000e+00],\n",
    "       [  1.11458670e+00,   9.13482984e+00,   1.00000000e+00],\n",
    "       [  9.83138560e-01,   1.13273019e+00,   1.00000000e+00],\n",
    "       [  1.28281453e+00,  -1.77704107e+01,   1.00000000e+00],\n",
    "       [  7.80627425e-01,  -1.26665317e+01,   1.00000000e+00],\n",
    "       [  1.24417229e+00,   6.09616799e+00,   1.00000000e+00],\n",
    "       [  9.02237548e-01,  -1.43521786e+01,   1.00000000e+00],\n",
    "       [  1.00096375e+00,  -1.21000577e+01,   1.00000000e+00],\n",
    "       [  1.37301747e+00,  -1.15534412e+01,   1.00000000e+00],\n",
    "       [  1.23565502e+00,  -4.91764512e+00,   1.00000000e+00],\n",
    "       [  1.36885262e+00,   2.24273925e-01,   1.00000000e+00],\n",
    "       [  8.04011455e-01,  -4.68100488e+00,   1.00000000e+00],\n",
    "       [  8.99834673e-01,  -1.54869364e+01,   1.00000000e+00],\n",
    "       [  7.81903076e-01,   2.59105269e+00,   1.00000000e+00],\n",
    "       [  1.04114399e+00,   2.64632863e+00,   1.00000000e+00],\n",
    "       [  1.29785513e+00,   8.92850440e-01,   1.00000000e+00],\n",
    "       [  1.07116337e+00,   1.34762494e+00,   1.00000000e+00],\n",
    "       [  1.13793746e+00,   6.38742629e+00,   1.00000000e+00],\n",
    "       [  1.21981376e+00,   1.52186430e+01,   1.00000000e+00],\n",
    "       [  9.06611798e-01,   1.41982744e+01,   1.00000000e+00],\n",
    "       [  1.16829089e+00,   1.73070332e+01,   1.00000000e+00],\n",
    "       [  1.10037453e+00,   3.96675508e+00,   1.00000000e+00],\n",
    "       [  1.15409938e+00,   9.59207164e+00,   1.00000000e+00],\n",
    "       [  1.30192549e+00,   1.32382588e+01,   1.00000000e+00],\n",
    "       [  7.50917082e-01,  -7.44871258e+00,   1.00000000e+00],\n",
    "       [  8.62049287e-01,  -1.06911035e+00,   1.00000000e+00],\n",
    "       [  1.57365214e+00,   7.24248138e-01,   1.00000000e+00],\n",
    "       [  1.32624369e+00,  -1.01004475e+01,   1.00000000e+00],\n",
    "       [  1.26514287e+00,   7.93447934e+00,   1.00000000e+00],\n",
    "       [  1.01105831e+00,   9.48770909e+00,   1.00000000e+00],\n",
    "       [  8.55912489e-01,  -5.69631504e+00,   1.00000000e+00],\n",
    "       [  9.65513218e-01,   5.75500942e+00,   1.00000000e+00],\n",
    "       [  1.16848557e+00,  -9.01626266e+00,   1.00000000e+00],\n",
    "       [  1.01293558e+00,  -6.95968852e+00,   1.00000000e+00],\n",
    "       [  7.63964809e-01,  -4.18809722e+00,   1.00000000e+00],\n",
    "       [  9.29891391e-01,  -1.44010570e+01,   1.00000000e+00],\n",
    "       [  1.18950323e+00,  -2.62295720e+00,   1.00000000e+00],\n",
    "       [  9.70249120e-01,  -1.66534480e+01,   1.00000000e+00],\n",
    "       [  9.89598009e-01,  -7.11283119e+00,   1.00000000e+00],\n",
    "       [  1.18648060e+00,  -5.52771440e+00,   1.00000000e+00],\n",
    "       [  1.01864209e+00,  -8.08163260e+00,   1.00000000e+00],\n",
    "       [  9.67307658e-01,  -8.80011111e+00,   1.00000000e+00],\n",
    "       [  1.28034779e+00,   3.85942772e+00,   1.00000000e+00],\n",
    "       [  5.15423464e-01,   1.20508640e+00,   1.00000000e+00],\n",
    "       [  1.03332146e+00,  -4.97468670e+00,   1.00000000e+00],\n",
    "       [  9.51165635e-01,   2.74427276e+00,   1.00000000e+00],\n",
    "       [  8.09929412e-01,  -2.14157409e+00,   1.00000000e+00],\n",
    "       [  8.83008878e-01,  -2.22054922e+01,   1.00000000e+00],\n",
    "       [  1.10549185e+00,  -1.29494823e+01,   1.00000000e+00],\n",
    "       [  7.78641485e-01,  -6.70594750e+00,   1.00000000e+00],\n",
    "       [  9.17178328e-01,   6.83862615e-02,   1.00000000e+00],\n",
    "       [  9.29118207e-01,   1.28526879e+01,   1.00000000e+00],\n",
    "       [  9.70893714e-01,  -1.22617037e+01,   1.00000000e+00],\n",
    "       [  1.19649132e+00,  -1.47529111e+00,   1.00000000e+00],\n",
    "       [  1.16328581e+00,  -1.04808629e+01,   1.00000000e+00],\n",
    "       [  7.09738932e-01,   4.54818041e+00,   1.00000000e+00],\n",
    "       [  8.90284399e-01,  -2.03046159e-01,   1.00000000e+00],\n",
    "       [  1.38702901e+00,   1.06814137e+01,   1.00000000e+00],\n",
    "       [  1.08198633e+00,   3.68343478e+00,   1.00000000e+00],\n",
    "       [  7.65635969e-01,  -3.63954289e+00,   1.00000000e+00],\n",
    "       [  1.22937497e+00,  -1.28068163e+01,   1.00000000e+00],\n",
    "       [  1.43298260e+00,  -1.01949975e+00,   1.00000000e+00],\n",
    "       [  1.01237228e+00,   2.73456147e+01,   1.00000000e+00],\n",
    "       [  9.64115352e-01,  -1.09861514e+01,   1.00000000e+00],\n",
    "       [  1.00310698e+00,   2.19956942e+00,   1.00000000e+00],\n",
    "       [  1.17226982e+00,  -1.21592034e+01,   1.00000000e+00],\n",
    "       [  1.09358637e+00,   9.79234201e+00,   1.00000000e+00],\n",
    "       [  1.16036905e+00,   5.77730234e+00,   1.00000000e+00],\n",
    "       [  9.06951986e-01,  -1.04359480e+00,   1.00000000e+00],\n",
    "       [  1.26638874e+00,  -1.33911465e+01,   1.00000000e+00],\n",
    "       [  1.04407613e+00,  -9.63173441e-02,   1.00000000e+00],\n",
    "       [  1.00529206e+00,   6.00578038e+00,   1.00000000e+00],\n",
    "       [  8.50427980e-01,   7.87816608e+00,   1.00000000e+00],\n",
    "       [  1.43911179e+00,  -7.07929758e+00,   1.00000000e+00],\n",
    "       [  1.17875604e+00,  -1.93047833e+01,   1.00000000e+00],\n",
    "       [  8.75633488e-01,   5.75314210e+00,   1.00000000e+00],\n",
    "       [  1.06821690e+00,  -1.29560196e+01,   1.00000000e+00],\n",
    "       [  9.26089220e-01,  -2.45039365e+00,   1.00000000e+00],\n",
    "       [  1.10738229e+00,   8.77411029e-02,   1.00000000e+00],\n",
    "       [  1.31569805e+00,   2.48448312e-03,   1.00000000e+00],\n",
    "       [  1.08509415e+00,   6.04013293e+00,   1.00000000e+00],\n",
    "       [  9.67425562e-01,  -8.32530035e+00,   1.00000000e+00],\n",
    "       [  8.87943767e-01,  -7.80131670e+00,   1.00000000e+00],\n",
    "       [  1.40225358e+00,  -4.97747379e+00,   1.00000000e+00],\n",
    "       [  8.38666150e-01,  -1.01121426e+01,   1.00000000e+00],\n",
    "       [  1.07986872e+00,   9.94275024e+00,   1.00000000e+00],\n",
    "       [  1.18274127e+00,   6.23527473e+00,   1.00000000e+00],\n",
    "       [  8.83802888e-01,   1.25516304e+01,   1.00000000e+00],\n",
    "       [  1.18472791e+00,   1.03586289e+01,   1.00000000e+00],\n",
    "       [  1.06628647e+00,   1.07617611e+01,   1.00000000e+00],\n",
    "       [  1.09895831e+00,  -7.79048569e-01,   1.00000000e+00],\n",
    "       [  7.81757514e-01,  -6.08810116e+00,   1.00000000e+00],\n",
    "       [  8.45031969e-01,   4.10655550e+00,   1.00000000e+00],\n",
    "       [  1.10070330e+00,  -8.36011415e+00,   1.00000000e+00],\n",
    "       [  1.09720842e+00,   1.55708570e+01,   1.00000000e+00],\n",
    "       [  1.51228454e+00,   1.62084372e+00,   1.00000000e+00],\n",
    "       [  9.15417111e-01,  -2.22590604e+01,   1.00000000e+00],\n",
    "       [  1.41187694e+00,  -1.82815123e+01,   1.00000000e+00],\n",
    "       [  8.88623955e-01,  -6.43936562e+00,   1.00000000e+00],\n",
    "       [  9.02122719e-01,  -2.00768689e+01,   1.00000000e+00],\n",
    "       [  9.14638997e-01,   1.07176480e+01,   1.00000000e+00],\n",
    "       [  1.20891164e+00,   5.87631471e+00,   1.00000000e+00],\n",
    "       [  1.12670523e+00,  -6.16196302e+00,   1.00000000e+00],\n",
    "       [  1.11083364e+00,  -1.87413955e+01,   1.00000000e+00],\n",
    "       [  7.98033574e-01,   6.11685464e+00,   1.00000000e+00],\n",
    "       [  1.34366323e+00,  -1.19219285e+01,   1.00000000e+00],\n",
    "       [  1.16134840e+00,   1.03248366e+01,   1.00000000e+00],\n",
    "       [  1.25420453e+00,  -7.59790666e-01,   1.00000000e+00],\n",
    "       [  8.99744243e-01,   1.26501499e+01,   1.00000000e+00],\n",
    "       [  1.14383365e+00,   5.34644949e-02,   1.00000000e+00],\n",
    "       [  8.55825310e-01,  -2.32647198e+01,   1.00000000e+00],\n",
    "       [  1.22296211e+00,  -7.98519320e-01,   1.00000000e+00],\n",
    "       [  9.21723625e-01,   1.45011203e+00,   1.00000000e+00],\n",
    "       [  9.76309579e-01,  -1.57207328e+01,   1.00000000e+00],\n",
    "       [  9.67147416e-01,  -3.39598454e+00,   1.00000000e+00],\n",
    "       [  9.66943931e-01,  -5.80002664e+00,   1.00000000e+00],\n",
    "       [  9.85536119e-01,   6.86117639e+00,   1.00000000e+00],\n",
    "       [  1.20361515e+00,  -1.73314575e+00,   1.00000000e+00],\n",
    "       [  8.19398247e-01,   2.83143606e-01,   1.00000000e+00],\n",
    "       [  1.12256634e+00,   7.18331943e-01,   1.00000000e+00],\n",
    "       [  7.84622007e-01,   1.24142567e+01,   1.00000000e+00],\n",
    "       [  9.24921511e-01,   2.12446028e+01,   1.00000000e+00],\n",
    "       [  9.36246335e-01,   2.49080332e+00,   1.00000000e+00],\n",
    "       [  1.08455248e+00,   2.46445253e+01,   1.00000000e+00],\n",
    "       [  8.83228947e-01,  -1.81054094e+01,   1.00000000e+00],\n",
    "       [  1.06422551e+00,  -1.44339134e+01,   1.00000000e+00],\n",
    "       [  7.81345689e-01,  -8.44362920e-01,   1.00000000e+00],\n",
    "       [  1.18269706e+00,   1.36630874e+01,   1.00000000e+00],\n",
    "       [  8.00324642e-01,  -3.45137707e+00,   1.00000000e+00],\n",
    "       [  8.13150389e-01,  -1.22527305e+00,   1.00000000e+00],\n",
    "       [  1.19148807e+00,  -3.37761255e+00,   1.00000000e+00],\n",
    "       [  1.05022766e+00,   1.46476333e+01,   1.00000000e+00],\n",
    "       [  7.85396904e-01,  -1.98680264e+01,   1.00000000e+00],\n",
    "       [  1.16151403e+00,  -5.07562914e+00,   1.00000000e+00],\n",
    "       [  8.78650374e-01,   3.66742523e+00,   1.00000000e+00],\n",
    "       [  1.19608780e+00,  -1.10377730e+01,   1.00000000e+00],\n",
    "       [  1.18155398e+00,  -3.50606827e+00,   1.00000000e+00],\n",
    "       [  8.39959489e-01,   1.13935565e+01,   1.00000000e+00],\n",
    "       [  1.22276108e+00,  -1.71092659e+00,   1.00000000e+00],\n",
    "       [  1.21208070e+00,   5.26035165e+00,   1.00000000e+00],\n",
    "       [  9.82421960e-01,   5.26301160e+00,   1.00000000e+00],\n",
    "       [  8.31628773e-01,  -6.24054635e+00,   1.00000000e+00],\n",
    "       [  9.55529864e-01,  -9.87448955e+00,   1.00000000e+00],\n",
    "       [  6.42655183e-01,   1.23374425e+01,   1.00000000e+00],\n",
    "       [  9.88086103e-01,   5.42622509e+00,   1.00000000e+00],\n",
    "       [  9.60923362e-01,   8.69194784e-01,   1.00000000e+00],\n",
    "       [  1.16040929e+00,  -7.76782163e-01,   1.00000000e+00],\n",
    "       [  8.75957056e-01,  -7.71231563e-01,   1.00000000e+00],\n",
    "       [  1.18175238e+00,   6.59684037e+00,   1.00000000e+00],\n",
    "       [  1.29473351e+00,  -4.37023665e+00,   1.00000000e+00],\n",
    "       [  9.30119334e-01,  -6.43018153e+00,   1.00000000e+00],\n",
    "       [  6.19757920e-01,  -4.08795510e+00,   1.00000000e+00],\n",
    "       [  9.44446979e-01,   5.80680906e-03,   1.00000000e+00],\n",
    "       [  9.82654489e-01,  -8.54508981e+00,   1.00000000e+00],\n",
    "       [  1.09380186e+00,   1.28006522e+01,   1.00000000e+00],\n",
    "       [  5.07324203e-01,   8.65243410e+00,   1.00000000e+00],\n",
    "       [  1.04430850e+00,   2.07287581e+01,   1.00000000e+00],\n",
    "       [  1.03884026e+00,  -1.99239939e+01,   1.00000000e+00],\n",
    "       [  1.05767037e+00,   6.98604981e-02,   1.00000000e+00],\n",
    "       [  9.12771682e-01,  -9.83247421e+00,   1.00000000e+00],\n",
    "       [  1.46795881e+00,   7.56705247e-01,   1.00000000e+00],\n",
    "       [  8.90699502e-01,  -7.40619422e+00,   1.00000000e+00],\n",
    "       [  1.09670271e+00,   8.71434036e+00,   1.00000000e+00],\n",
    "       [  9.76197007e-01,   1.34409756e+01,   1.00000000e+00],\n",
    "       [  1.28303922e+00,   1.72502172e+00,   1.00000000e+00],\n",
    "       [  1.07354148e+00,  -3.02227874e-01,   1.00000000e+00],\n",
    "       [  1.10406628e+00,  -1.55364676e+01,   1.00000000e+00],\n",
    "       [  8.22912996e-01,  -1.37976691e+01,   1.00000000e+00],\n",
    "       [  6.95875925e-01,   1.82815534e+01,   1.00000000e+00],\n",
    "       [  7.89996123e-01,  -8.28777759e+00,   1.00000000e+00],\n",
    "       [  1.33529029e+00,   5.23855023e-01,   1.00000000e+00],\n",
    "       [  1.37724928e+00,  -3.15432245e+01,   1.00000000e+00],\n",
    "       [  1.13188395e+00,  -1.87545051e-01,   1.00000000e+00],\n",
    "       [  9.81345093e-01,  -5.96598135e+00,   1.00000000e+00],\n",
    "       [  8.85838275e-01,   6.49574896e+00,   1.00000000e+00],\n",
    "       [  1.10544746e+00,  -4.73772946e+00,   1.00000000e+00],\n",
    "       [  7.37800563e-01,  -3.11040858e+00,   1.00000000e+00],\n",
    "       [  1.15800960e+00,   5.15995306e+00,   1.00000000e+00],\n",
    "       [  9.54850109e-01,   6.13379149e+00,   1.00000000e+00],\n",
    "       [  7.93945241e-01,   2.79101476e-01,   1.00000000e+00],\n",
    "       [  1.28826526e+00,  -3.54865622e+00,   1.00000000e+00],\n",
    "       [  1.21116417e+00,  -3.37233767e+00,   1.00000000e+00],\n",
    "       [  7.12952793e-01,  -3.74691790e+00,   1.00000000e+00],\n",
    "       [  1.10116658e+00,   2.03871325e+01,   1.00000000e+00],\n",
    "       [  1.03101841e+00,  -7.64444368e+00,   1.00000000e+00],\n",
    "       [  1.23441898e+00,   3.01095435e+00,   1.00000000e+00],\n",
    "       [  7.09368328e-01,   3.52401185e+00,   1.00000000e+00],\n",
    "       [  7.72836880e-01,   1.40298213e+01,   1.00000000e+00],\n",
    "       [  1.20491144e+00,   9.22880630e+00,   1.00000000e+00],\n",
    "       [  7.40532943e-01,  -1.18575367e-01,   1.00000000e+00],\n",
    "       [  9.67953086e-01,  -5.88067911e+00,   1.00000000e+00],\n",
    "       [  1.30315386e+00,  -7.86659777e+00,   1.00000000e+00],\n",
    "       [  1.14416698e+00,  -1.99982567e+01,   1.00000000e+00],\n",
    "       [  1.24885026e+00,   1.77151886e+01,   1.00000000e+00],\n",
    "       [  7.90233557e-01,   1.34620963e+01,   1.00000000e+00],\n",
    "       [  5.43226810e-01,  -6.99583760e-01,   1.00000000e+00],\n",
    "       [  7.16781444e-01,   2.58432892e+01,   1.00000000e+00],\n",
    "       [  9.98245215e-01,  -2.26647353e+00,   1.00000000e+00],\n",
    "       [  1.05558500e+00,   1.75654219e+01,   1.00000000e+00],\n",
    "       [  1.16394380e+00,  -1.31763160e+01,   1.00000000e+00],\n",
    "       [  1.00447615e+00,   2.10534198e+00,   1.00000000e+00],\n",
    "       [  5.60770095e-01,  -7.29722999e+00,   1.00000000e+00],\n",
    "       [  9.72939673e-01,   3.87254052e+00,   1.00000000e+00],\n",
    "       [  8.97650646e-01,   1.62259374e+00,   1.00000000e+00],\n",
    "       [  1.42819133e+00,   7.20008101e+00,   1.00000000e+00],\n",
    "       [  8.21308449e-01,   4.33466166e+00,   1.00000000e+00],\n",
    "       [  7.94843020e-01,   1.12923073e+01,   1.00000000e+00],\n",
    "       [  1.19564207e+00,   2.15660775e+01,   1.00000000e+00],\n",
    "       [  8.45355642e-01,   1.06109173e-01,   1.00000000e+00],\n",
    "       [  9.96497983e-01,  -1.09772301e+01,   1.00000000e+00],\n",
    "       [  9.87378250e-01,   1.23134939e+01,   1.00000000e+00],\n",
    "       [  7.07294182e-01,   1.56637214e+01,   1.00000000e+00],\n",
    "       [  9.44137598e-01,  -4.61763512e+00,   1.00000000e+00],\n",
    "       [  7.27707226e-01,   2.08694754e+00,   1.00000000e+00],\n",
    "       [  9.23726971e-01,   1.02699816e+00,   1.00000000e+00],\n",
    "       [  9.49220057e-01,   2.22545587e+00,   1.00000000e+00],\n",
    "       [  9.42379303e-01,   4.77229513e+00,   1.00000000e+00],\n",
    "       [  9.24710637e-01,   1.17688147e+00,   1.00000000e+00],\n",
    "       [  9.27229672e-01,   9.32112917e+00,   1.00000000e+00],\n",
    "       [  7.38415928e-01,   6.15668350e+00,   1.00000000e+00],\n",
    "       [  8.35762324e-01,  -1.11713015e+01,   1.00000000e+00],\n",
    "       [  1.13774662e+00,  -1.98198053e+01,   1.00000000e+00],\n",
    "       [  1.06097710e+00,  -1.58378078e+00,   1.00000000e+00],\n",
    "       [  1.02104879e+00,  -9.75009952e+00,   1.00000000e+00],\n",
    "       [  8.93070102e-01,   1.04041595e+01,   1.00000000e+00],\n",
    "       [  1.18129810e+00,  -7.05787665e+00,   1.00000000e+00],\n",
    "       [  7.34274727e-01,  -9.32202962e+00,   1.00000000e+00],\n",
    "       [  1.02172310e+00,  -1.17447512e+01,   1.00000000e+00],\n",
    "       [  7.54098721e-01,   1.60200506e+01,   1.00000000e+00],\n",
    "       [  1.37437533e+00,   4.61187946e+00,   1.00000000e+00],\n",
    "       [  1.27827810e+00,  -6.16769799e+00,   1.00000000e+00],\n",
    "       [  8.08029491e-01,   2.02470307e+01,   1.00000000e+00],\n",
    "       [  1.10672134e+00,   1.85224203e+00,   1.00000000e+00],\n",
    "       [  7.54535383e-01,  -8.79121438e-01,   1.00000000e+00],\n",
    "       [  6.85324777e-01,   4.04549016e+00,   1.00000000e+00],\n",
    "       [  7.82912427e-01,   1.73467977e+00,   1.00000000e+00],\n",
    "       [  1.05160066e+00,   5.58308777e+00,   1.00000000e+00],\n",
    "       [  1.25612247e+00,   6.20099419e+00,   1.00000000e+00],\n",
    "       [  1.14419009e+00,   6.02907542e+00,   1.00000000e+00],\n",
    "       [  6.43542719e-01,  -3.88433134e+00,   1.00000000e+00],\n",
    "       [  1.12142621e+00,   5.65503384e+00,   1.00000000e+00],\n",
    "       [  7.02725223e-01,   9.99907525e+00,   1.00000000e+00],\n",
    "       [  1.09612040e+00,   6.46291253e+00,   1.00000000e+00],\n",
    "       [  9.86706672e-01,  -5.93614663e+00,   1.00000000e+00],\n",
    "       [  8.18717705e-01,   7.40393907e+00,   1.00000000e+00],\n",
    "       [  1.08913462e+00,  -5.89520247e+00,   1.00000000e+00],\n",
    "       [  6.73549906e-01,  -1.57261132e+01,   1.00000000e+00],\n",
    "       [  1.30101316e+00,   6.78682325e+00,   1.00000000e+00],\n",
    "       [  6.65345686e-01,   1.09891737e+01,   1.00000000e+00],\n",
    "       [  6.47207889e-01,  -5.95154512e+00,   1.00000000e+00],\n",
    "       [  1.10791135e+00,   2.66077474e+00,   1.00000000e+00],\n",
    "       [  1.18454114e+00,   4.69574222e+00,   1.00000000e+00],\n",
    "       [  8.34198717e-01,  -2.29530523e+00,   1.00000000e+00],\n",
    "       [  9.98353042e-01,   2.10669295e+00,   1.00000000e+00],\n",
    "       [  9.71537835e-01,   1.33361864e+00,   1.00000000e+00],\n",
    "       [  8.26719488e-01,   3.45057831e-01,   1.00000000e+00],\n",
    "       [  1.30146475e+00,   1.38453346e+01,   1.00000000e+00],\n",
    "       [  1.25415933e+00,  -5.74056173e+00,   1.00000000e+00],\n",
    "       [  1.27305860e+00,   8.94552176e+00,   1.00000000e+00],\n",
    "       [  9.09541768e-01,  -1.54753931e+01,   1.00000000e+00],\n",
    "       [  7.02789057e-01,   9.61254473e-01,   1.00000000e+00],\n",
    "       [  8.73954659e-01,  -5.16482264e+00,   1.00000000e+00],\n",
    "       [  1.16908602e+00,   2.80413027e+00,   1.00000000e+00],\n",
    "       [  1.03912684e+00,  -1.07092872e+01,   1.00000000e+00],\n",
    "       [  8.86692907e-01,   1.00558468e+01,   1.00000000e+00],\n",
    "       [  7.62606989e-01,  -8.77580380e+00,   1.00000000e+00],\n",
    "       [  8.70310712e-01,   6.46064216e+00,   1.00000000e+00],\n",
    "       [  1.04477418e+00,   5.15460079e+00,   1.00000000e+00],\n",
    "       [  1.08754930e+00,  -1.06224156e+01,   1.00000000e+00],\n",
    "       [  8.33867383e-01,  -1.53389223e+01,   1.00000000e+00],\n",
    "       [  1.16215216e+00,  -5.10819977e+00,   1.00000000e+00],\n",
    "       [  1.00547930e+00,  -1.82098198e+00,   1.00000000e+00],\n",
    "       [  7.58441940e-01,  -2.44151050e+00,   1.00000000e+00],\n",
    "       [  9.33299685e-01,   1.17705756e+01,   1.00000000e+00],\n",
    "       [  9.23720853e-01,   6.48636510e-01,   1.00000000e+00],\n",
    "       [  1.15454426e+00,  -6.84924339e+00,   1.00000000e+00],\n",
    "       [  9.70706774e-01,  -1.19148524e+01,   1.00000000e+00],\n",
    "       [  7.21101647e-01,  -1.33799978e+01,   1.00000000e+00],\n",
    "       [  1.17861550e+00,   3.59578788e+00,   1.00000000e+00],\n",
    "       [  1.18709659e+00,   3.10955770e+00,   1.00000000e+00],\n",
    "       [  1.03373832e+00,  -7.31619133e+00,   1.00000000e+00],\n",
    "       [  8.00746108e-01,  -1.38409807e+01,   1.00000000e+00],\n",
    "       [  7.17414326e-01,  -2.89096045e+00,   1.00000000e+00],\n",
    "       [  1.04251668e+00,  -1.28502816e+01,   1.00000000e+00],\n",
    "       [  6.84210148e-01,   8.60396458e+00,   1.00000000e+00],\n",
    "       [  9.92976641e-01,   5.22409493e+00,   1.00000000e+00],\n",
    "       [  1.04652662e+00,  -6.66473273e+00,   1.00000000e+00],\n",
    "       [  5.16066185e-01,   1.09490866e+01,   1.00000000e+00],\n",
    "       [  9.47027506e-01,   1.74729700e-01,   1.00000000e+00],\n",
    "       [  1.03613273e+00,  -1.17043439e+01,   1.00000000e+00],\n",
    "       [  9.99666871e-01,  -6.53842605e+00,   1.00000000e+00],\n",
    "       [  7.48600453e-01,   4.94152504e+00,   1.00000000e+00],\n",
    "       [  8.91766157e-01,   9.87164800e+00,   1.00000000e+00],\n",
    "       [  1.03841706e+00,  -3.68670426e+00,   1.00000000e+00],\n",
    "       [  1.07849177e+00,  -7.49754317e-01,   1.00000000e+00],\n",
    "       [  1.00900045e+00,   8.79151881e+00,   1.00000000e+00],\n",
    "       [  4.23678585e-01,   7.09085715e+00,   1.00000000e+00],\n",
    "       [  1.26468514e+00,   7.44263733e+00,   1.00000000e+00],\n",
    "       [  1.07583650e+00,   4.08441519e+00,   1.00000000e+00],\n",
    "       [  1.00886759e+00,   1.10251773e+01,   1.00000000e+00],\n",
    "       [  7.63773407e-01,  -1.17643277e+01,   1.00000000e+00],\n",
    "       [  1.10805559e+00,   1.23169572e+01,   1.00000000e+00],\n",
    "       [  7.05702312e-01,   5.95095470e+00,   1.00000000e+00],\n",
    "       [  1.39712548e+00,  -1.29203926e+00,   1.00000000e+00],\n",
    "       [  9.51591595e-01,  -3.80577044e+00,   1.00000000e+00],\n",
    "       [  1.10068030e+00,   2.15622773e+00,   1.00000000e+00],\n",
    "       [  1.55218141e+00,   2.02229264e+00,   1.00000000e+00],\n",
    "       [  9.08640494e-01,  -1.12847277e+00,   1.00000000e+00],\n",
    "       [  9.69222435e-01,  -8.49430692e+00,   1.00000000e+00],\n",
    "       [  8.51118141e-01,  -2.24981986e+01,   1.00000000e+00],\n",
    "       [  8.45922015e-01,   5.56157857e+00,   1.00000000e+00],\n",
    "       [  8.60759356e-01,   5.27666250e+00,   1.00000000e+00],\n",
    "       [  9.91141686e-01,   1.21037460e+00,   1.00000000e+00],\n",
    "       [  1.17100546e+00,  -1.67332460e+01,   1.00000000e+00],\n",
    "       [  1.30167279e+00,   5.30543094e+00,   1.00000000e+00],\n",
    "       [  1.12243470e+00,   6.57047910e+00,   1.00000000e+00],\n",
    "       [  1.28760186e+00,   9.31387707e+00,   1.00000000e+00],\n",
    "       [  9.53534553e-01,   5.62765545e+00,   1.00000000e+00],\n",
    "       [  1.23226025e+00,  -3.34361968e+00,   1.00000000e+00],\n",
    "       [  9.50820838e-01,  -1.53135163e+00,   1.00000000e+00],\n",
    "       [  8.71162823e-01,  -3.23217763e-02,   1.00000000e+00],\n",
    "       [  1.03926633e+00,  -1.71739963e+00,   1.00000000e+00],\n",
    "       [  1.35266074e+00,  -2.97273227e+00,   1.00000000e+00],\n",
    "       [  6.98296682e-01,   6.99433823e+00,   1.00000000e+00],\n",
    "       [  9.70685732e-01,   1.28148742e+01,   1.00000000e+00],\n",
    "       [  1.08086885e+00,   1.99554138e-01,   1.00000000e+00],\n",
    "       [  1.53633936e+00,   3.24962514e+00,   1.00000000e+00],\n",
    "       [  1.24882668e+00,  -1.51479752e+01,   1.00000000e+00],\n",
    "       [  1.15889799e+00,   2.14138921e+01,   1.00000000e+00],\n",
    "       [  9.61717184e-01,  -5.03285282e+00,   1.00000000e+00],\n",
    "       [  8.54218043e-01,   1.09585545e+01,   1.00000000e+00],\n",
    "       [  7.35040650e-01,   1.48880096e+00,   1.00000000e+00],\n",
    "       [  1.09305687e+00,  -6.46621685e+00,   1.00000000e+00],\n",
    "       [  9.89329942e-01,   8.94953783e+00,   1.00000000e+00],\n",
    "       [  9.72938989e-01,  -1.11923256e+01,   1.00000000e+00],\n",
    "       [  9.66107129e-01,   5.93202339e+00,   1.00000000e+00],\n",
    "       [  9.68478697e-01,   1.05949709e+01,   1.00000000e+00],\n",
    "       [  5.99857744e-01,   5.74298658e+00,   1.00000000e+00],\n",
    "       [  1.03812225e+00,  -3.65485916e+00,   1.00000000e+00],\n",
    "       [  7.85314403e-01,  -3.66275037e+00,   1.00000000e+00],\n",
    "       [  1.12374247e+00,   1.30581461e+01,   1.00000000e+00],\n",
    "       [  1.43528171e+00,   1.15092519e+00,   1.00000000e+00],\n",
    "       [  1.03905474e+00,  -1.49023682e+01,   1.00000000e+00],\n",
    "       [  9.43368193e-01,   8.11289940e+00,   1.00000000e+00],\n",
    "       [  1.22167285e+00,  -1.09033100e+01,   1.00000000e+00],\n",
    "       [  1.14785000e+00,  -8.10994521e-01,   1.00000000e+00],\n",
    "       [  8.53661969e-01,   1.64982787e+01,   1.00000000e+00],\n",
    "       [  1.00295192e+00,   3.46449629e+01,   1.00000000e+00],\n",
    "       [  1.31787235e+00,   3.15860760e+00,   1.00000000e+00],\n",
    "       [  1.02283805e+00,   1.65496723e+01,   1.00000000e+00],\n",
    "       [  1.03147671e+00,  -5.26879864e+00,   1.00000000e+00],\n",
    "       [  7.65810661e-01,   1.28409629e+01,   1.00000000e+00],\n",
    "       [  7.77943597e-01,   8.32536381e+00,   1.00000000e+00],\n",
    "       [  1.07983990e+00,  -2.11012045e+00,   1.00000000e+00],\n",
    "       [  1.31036948e+00,  -1.11182074e+00,   1.00000000e+00],\n",
    "       [  1.29808461e+00,  -2.77349267e+00,   1.00000000e+00],\n",
    "       [  7.90374938e-01,   1.34505182e+01,   1.00000000e+00],\n",
    "       [  1.00276705e+00,  -2.34898071e+01,   1.00000000e+00],\n",
    "       [  9.13573750e-01,  -1.36394168e+01,   1.00000000e+00],\n",
    "       [  1.14830248e+00,  -1.76295417e+00,   1.00000000e+00],\n",
    "       [  1.00282954e+00,   2.70568222e+00,   1.00000000e+00],\n",
    "       [  8.62503186e-01,  -1.95212069e+00,   1.00000000e+00],\n",
    "       [  1.01375100e+00,  -6.61194582e+00,   1.00000000e+00],\n",
    "       [  1.03873425e+00,   5.50732232e+00,   1.00000000e+00],\n",
    "       [  5.36445847e-01,  -7.81916569e-01,   1.00000000e+00],\n",
    "       [  1.17205291e+00,  -8.45218098e+00,   1.00000000e+00],\n",
    "       [  1.08849826e+00,   5.05257524e+00,   1.00000000e+00],\n",
    "       [  1.14303239e+00,  -2.74565719e+00,   1.00000000e+00],\n",
    "       [  1.37784077e+00,   4.05637895e+00,   1.00000000e+00],\n",
    "       [  1.36957632e+00,   2.09262988e+00,   1.00000000e+00],\n",
    "       [  1.51399103e+00,   1.05189754e+00,   1.00000000e+00],\n",
    "       [  1.11131264e+00,  -2.20473087e+01,   1.00000000e+00],\n",
    "       [  1.27923097e+00,   6.03063698e-01,   1.00000000e+00],\n",
    "       [  1.24418468e+00,   9.59976314e+00,   1.00000000e+00],\n",
    "       [  9.12409972e-01,  -7.11491468e+00,   1.00000000e+00],\n",
    "       [  8.14891182e-01,  -1.28409914e+00,   1.00000000e+00],\n",
    "       [  8.77028258e-01,  -1.81363266e+00,   1.00000000e+00],\n",
    "       [  1.06621881e+00,  -9.53265987e+00,   1.00000000e+00],\n",
    "       [  1.49001324e+00,  -6.53590220e+00,   1.00000000e+00],\n",
    "       [  1.24273160e+00,   2.48526884e+01,   1.00000000e+00],\n",
    "       [  1.04684969e+00,  -6.12866558e+00,   1.00000000e+00],\n",
    "       [  5.66215402e-01,   4.54666387e+00,   1.00000000e+00],\n",
    "       [  1.02819736e+00,  -4.39118008e+00,   1.00000000e+00],\n",
    "       [  1.30421113e+00,   1.24177551e+00,   1.00000000e+00],\n",
    "       [  9.79184742e-01,   6.24386281e+00,   1.00000000e+00],\n",
    "       [  7.68107220e-01,  -1.23961044e+01,   1.00000000e+00],\n",
    "       [  9.97808558e-01,  -7.01958196e+00,   1.00000000e+00],\n",
    "       [  1.14046573e+00,  -1.97014019e+01,   1.00000000e+00],\n",
    "       [  1.31457237e+00,  -1.54452619e+01,   1.00000000e+00],\n",
    "       [  9.76082907e-01,  -9.13807992e+00,   1.00000000e+00],\n",
    "       [  1.01284140e+00,   1.71405850e+01,   1.00000000e+00],\n",
    "       [  1.21740653e+00,   2.08037229e+01,   1.00000000e+00],\n",
    "       [  1.00810857e+00,  -1.33130921e+01,   1.00000000e+00],\n",
    "       [  1.03943815e+00,  -5.96540405e-01,   1.00000000e+00],\n",
    "       [  1.18292977e+00,   4.77858647e-01,   1.00000000e+00],\n",
    "       [  8.04643584e-01,   9.56112976e+00,   1.00000000e+00],\n",
    "       [  9.55841193e-01,  -4.88438927e-01,   1.00000000e+00],\n",
    "       [  8.25039459e-01,  -8.38533241e+00,   1.00000000e+00],\n",
    "       [  8.96146709e-01,  -2.98228215e+01,   1.00000000e+00],\n",
    "       [  7.65949582e-01,  -1.96487822e+01,   1.00000000e+00],\n",
    "       [  1.03934896e+00,   1.14893191e+00,   1.00000000e+00],\n",
    "       [  1.22280375e+00,   1.16370237e+01,   1.00000000e+00],\n",
    "       [  1.09563549e+00,   1.14751212e+01,   1.00000000e+00],\n",
    "       [  9.38419145e-01,   3.59955939e+00,   1.00000000e+00],\n",
    "       [  1.03103115e+00,  -1.60690635e+01,   1.00000000e+00],\n",
    "       [  1.05007360e+00,   1.41507306e+01,   1.00000000e+00],\n",
    "       [  1.01598551e+00,  -1.19405558e+01,   1.00000000e+00],\n",
    "       [  8.56862801e-01,  -8.86746421e+00,   1.00000000e+00],\n",
    "       [  1.15121130e+00,  -1.51506313e+01,   1.00000000e+00],\n",
    "       [  6.05945565e-01,  -4.19319579e-01,   1.00000000e+00],\n",
    "       [  1.34381616e+00,   1.41692957e+01,   1.00000000e+00],\n",
    "       [  8.65752003e-01,   5.55236790e+00,   1.00000000e+00],\n",
    "       [  1.09106874e+00,  -5.96263794e+00,   1.00000000e+00],\n",
    "       [  1.18212183e+00,   1.05742014e+01,   1.00000000e+00],\n",
    "       [  1.40215345e+00,   9.30698523e+00,   1.00000000e+00],\n",
    "       [  7.79527930e-01,   1.52933607e+01,   1.00000000e+00],\n",
    "       [  1.15349391e+00,  -2.34436131e+00,   1.00000000e+00],\n",
    "       [  1.26951459e+00,   1.36520222e+01,   1.00000000e+00],\n",
    "       [  1.16575564e+00,  -1.75815520e+00,   1.00000000e+00],\n",
    "       [  9.63683836e-01,  -2.26522755e+01,   1.00000000e+00],\n",
    "       [  8.67510359e-01,  -6.50307355e+00,   1.00000000e+00],\n",
    "       [  7.70501313e-01,   3.06679982e+00,   1.00000000e+00],\n",
    "       [  1.08837830e+00,   1.13843691e+00,   1.00000000e+00],\n",
    "       [  1.17540363e+00,   9.28048228e+00,   1.00000000e+00],\n",
    "       [  1.09651453e+00,   5.20236705e+00,   1.00000000e+00],\n",
    "       [  1.05237303e+00,  -3.74192536e+00,   1.00000000e+00],\n",
    "       [  9.31074138e-01,  -3.52120654e+01,   1.00000000e+00],\n",
    "       [  1.61343854e+00,   3.54308197e+00,   1.00000000e+00],\n",
    "       [  1.09762609e+00,  -1.50371946e+01,   1.00000000e+00],\n",
    "       [  1.13130137e+00,  -1.08987752e+01,   1.00000000e+00],\n",
    "       [  8.17142050e-01,  -8.81486561e+00,   1.00000000e+00],\n",
    "       [  1.17050449e+00,   1.41616561e+01,   1.00000000e+00],\n",
    "       [  9.72228800e-01,  -1.67126265e+01,   1.00000000e+00],\n",
    "       [  9.86745023e-01,   2.92770215e+00,   1.00000000e+00],\n",
    "       [  1.03989836e+00,   1.53933276e+01,   1.00000000e+00],\n",
    "       [  1.21691486e+00,   7.69787835e+00,   1.00000000e+00],\n",
    "       [  8.74870149e-01,   1.18308644e+01,   1.00000000e+00],\n",
    "       [  1.17151643e+00,   1.19239058e+00,   1.00000000e+00],\n",
    "       [  7.65635119e-01,  -9.27565037e+00,   1.00000000e+00],\n",
    "       [  1.11509772e+00,   5.18180128e-01,   1.00000000e+00],\n",
    "       [  1.17636082e+00,   1.78874723e+01,   1.00000000e+00],\n",
    "       [  1.08322013e+00,  -2.80880298e+00,   1.00000000e+00],\n",
    "       [  1.20873349e+00,   2.07632347e+01,   1.00000000e+00],\n",
    "       [  6.90227300e-01,  -1.88912385e+00,   1.00000000e+00],\n",
    "       [  1.05865809e+00,  -1.90277870e+01,   1.00000000e+00],\n",
    "       [  6.68204388e-01,  -6.15540300e+00,   1.00000000e+00],\n",
    "       [  1.06554183e+00,   1.40644940e+01,   1.00000000e+00],\n",
    "       [  1.17880724e+00,   1.15530462e+01,   1.00000000e+00],\n",
    "       [  1.09920494e+00,  -1.92221728e+00,   1.00000000e+00],\n",
    "       [  7.95852121e-01,   2.85738221e+00,   1.00000000e+00],\n",
    "       [  8.83828158e-01,  -1.48208694e+01,   1.00000000e+00],\n",
    "       [  9.54505091e-01,   4.85408721e+00,   1.00000000e+00],\n",
    "       [  5.48858304e-01,  -4.69398416e-01,   1.00000000e+00],\n",
    "       [  9.44063114e-01,   1.64264754e+01,   1.00000000e+00],\n",
    "       [  7.14555697e-01,   4.98530356e+00,   1.00000000e+00],\n",
    "       [  1.03069806e+00,  -7.87887865e+00,   1.00000000e+00],\n",
    "       [  9.60471509e-01,  -1.05096112e+01,   1.00000000e+00],\n",
    "       [  7.89912823e-01,   8.24211815e+00,   1.00000000e+00],\n",
    "       [  9.27769922e-01,   3.62487535e+00,   1.00000000e+00],\n",
    "       [  7.27191474e-01,   4.72589262e+00,   1.00000000e+00],\n",
    "       [  9.58591845e-01,   1.10276590e+01,   1.00000000e+00],\n",
    "       [  1.09339652e+00,  -7.45238865e+00,   1.00000000e+00],\n",
    "       [  1.23998660e+00,   1.27954304e+00,   1.00000000e+00],\n",
    "       [  9.00548383e-01,  -1.46966531e+01,   1.00000000e+00],\n",
    "       [  9.21856722e-01,   1.09596158e+01,   1.00000000e+00],\n",
    "       [  1.03877884e+00,  -1.43797734e+01,   1.00000000e+00],\n",
    "       [  1.21712993e+00,   1.74621021e+01,   1.00000000e+00],\n",
    "       [  9.98548249e-01,  -1.46476064e+01,   1.00000000e+00],\n",
    "       [  6.50899464e-01,  -8.43364720e-01,   1.00000000e+00],\n",
    "       [  1.13807910e+00,  -1.50266345e+00,   1.00000000e+00],\n",
    "       [  9.91741481e-01,  -4.23105600e+00,   1.00000000e+00],\n",
    "       [  1.32683519e+00,  -8.07916914e+00,   1.00000000e+00],\n",
    "       [  1.13673325e+00,  -1.13674201e+01,   1.00000000e+00],\n",
    "       [  1.05864199e+00,  -9.19140063e+00,   1.00000000e+00],\n",
    "       [  8.21294104e-01,  -1.13320934e+01,   1.00000000e+00],\n",
    "       [  8.71417811e-01,   1.39735911e+01,   1.00000000e+00],\n",
    "       [  9.42202454e-01,  -1.50182299e+01,   1.00000000e+00],\n",
    "       [  1.10558175e+00,   8.72247172e+00,   1.00000000e+00],\n",
    "       [  8.94153289e-01,   3.48581478e+00,   1.00000000e+00],\n",
    "       [  9.78747850e-01,   4.72469735e-02,   1.00000000e+00],\n",
    "       [  9.41414234e-01,   5.75699841e+00,   1.00000000e+00],\n",
    "       [  1.09488767e+00,  -2.95344327e+00,   1.00000000e+00],\n",
    "       [  8.38936333e-01,  -6.29659496e+00,   1.00000000e+00],\n",
    "       [  8.62535505e-01,   1.77850751e+01,   1.00000000e+00],\n",
    "       [  9.90081289e-01,  -1.20666944e+01,   1.00000000e+00],\n",
    "       [  7.90589534e-01,  -7.65422179e+00,   1.00000000e+00],\n",
    "       [  1.19487282e+00,  -1.29402604e+01,   1.00000000e+00],\n",
    "       [  1.06841534e+00,   2.70976515e+01,   1.00000000e+00],\n",
    "       [  9.29294815e-01,  -1.18570361e+01,   1.00000000e+00],\n",
    "       [  8.39691763e-01,  -6.34221154e+00,   1.00000000e+00],\n",
    "       [  1.53111371e+00,  -2.01046880e+01,   1.00000000e+00],\n",
    "       [  9.44820963e-01,  -6.60513306e+00,   1.00000000e+00],\n",
    "       [  1.04738517e+00,   2.80848708e+00,   1.00000000e+00],\n",
    "       [  7.72815978e-01,  -5.88534891e+00,   1.00000000e+00],\n",
    "       [  6.87803435e-01,   1.04150120e+00,   1.00000000e+00],\n",
    "       [  1.38930299e+00,  -3.69166132e+00,   1.00000000e+00],\n",
    "       [  7.09823447e-01,   8.80982596e+00,   1.00000000e+00],\n",
    "       [  8.87621111e-01,  -4.30262939e+00,   1.00000000e+00],\n",
    "       [  9.52632960e-01,   6.88986870e+00,   1.00000000e+00],\n",
    "       [  7.93244336e-01,  -1.53292008e+01,   1.00000000e+00],\n",
    "       [  1.08616654e+00,   8.19774983e+00,   1.00000000e+00],\n",
    "       [  1.05053116e+00,   1.05602157e+01,   1.00000000e+00],\n",
    "       [  9.80302252e-01,   1.00181417e+01,   1.00000000e+00],\n",
    "       [  8.50914028e-01,   1.22761451e-01,   1.00000000e+00],\n",
    "       [  8.08980726e-01,   1.22827663e+01,   1.00000000e+00],\n",
    "       [  9.52383626e-01,  -5.90714968e-01,   1.00000000e+00],\n",
    "       [  9.05341666e-01,   8.82677429e+00,   1.00000000e+00],\n",
    "       [  8.69119414e-01,   3.81637772e+00,   1.00000000e+00],\n",
    "       [  8.43248704e-01,   3.59828326e+00,   1.00000000e+00],\n",
    "       [  6.45572016e-01,  -3.81808969e+00,   1.00000000e+00],\n",
    "       [  1.06571671e+00,   6.33602779e-01,   1.00000000e+00],\n",
    "       [  8.05740089e-01,  -5.90387075e+00,   1.00000000e+00],\n",
    "       [  1.15092807e+00,  -8.22861368e+00,   1.00000000e+00],\n",
    "       [  8.59833006e-01,  -5.88920606e+00,   1.00000000e+00],\n",
    "       [  6.07290686e-01,   1.23275507e-01,   1.00000000e+00],\n",
    "       [  8.60689993e-01,  -1.15907003e+01,   1.00000000e+00],\n",
    "       [  8.58855531e-01,  -2.60558168e+00,   1.00000000e+00],\n",
    "       [  9.52423444e-01,  -1.21738824e+00,   1.00000000e+00],\n",
    "       [  1.24690520e+00,  -1.33702625e+01,   1.00000000e+00],\n",
    "       [  1.12910036e+00,  -2.70901237e+01,   1.00000000e+00],\n",
    "       [  1.34237667e+00,  -6.52373641e+00,   1.00000000e+00],\n",
    "       [  1.17850351e+00,  -3.87186046e+00,   1.00000000e+00],\n",
    "       [  1.04190231e+00,  -1.63504767e+01,   1.00000000e+00],\n",
    "       [  1.07120976e+00,  -1.83430973e+01,   1.00000000e+00],\n",
    "       [  9.68374249e-01,  -1.19339737e+01,   1.00000000e+00],\n",
    "       [  9.15203469e-01,   3.35195270e-01,   1.00000000e+00],\n",
    "       [  1.12158918e+00,   1.07530279e+00,   1.00000000e+00],\n",
    "       [  1.22635367e+00,   1.47432459e+01,   1.00000000e+00],\n",
    "       [  1.04599829e+00,   1.34973982e+01,   1.00000000e+00],\n",
    "       [  1.18056149e+00,  -1.62349757e+01,   1.00000000e+00],\n",
    "       [  1.10154815e+00,  -7.31876064e+00,   1.00000000e+00],\n",
    "       [  1.27910346e+00,   4.24224912e+00,   1.00000000e+00],\n",
    "       [  1.05568530e+00,   7.79754703e+00,   1.00000000e+00],\n",
    "       [  7.41624873e-01,   8.32687391e+00,   1.00000000e+00],\n",
    "       [  1.06134853e+00,  -7.17945456e+00,   1.00000000e+00],\n",
    "       [  1.28264159e+00,  -4.84678028e+00,   1.00000000e+00],\n",
    "       [  1.13868585e+00,   1.43282500e-01,   1.00000000e+00],\n",
    "       [  7.57405643e-01,  -8.70728250e+00,   1.00000000e+00],\n",
    "       [  1.10286004e+00,  -1.26749937e+00,   1.00000000e+00],\n",
    "       [  1.10407127e+00,  -1.07933584e+01,   1.00000000e+00],\n",
    "       [  1.27358663e+00,   1.06799301e+01,   1.00000000e+00],\n",
    "       [  8.29070625e-01,   2.07367224e+00,   1.00000000e+00],\n",
    "       [  7.59358338e-01,  -2.73460313e+01,   1.00000000e+00],\n",
    "       [  1.21559108e+00,   1.92497181e+00,   1.00000000e+00],\n",
    "       [  9.98046641e-01,   2.12121452e+00,   1.00000000e+00],\n",
    "       [  7.99019805e-01,   1.05906302e+01,   1.00000000e+00],\n",
    "       [  1.31271221e+00,  -4.50166135e+00,   1.00000000e+00],\n",
    "       [  1.08883810e+00,  -3.25973405e+00,   1.00000000e+00],\n",
    "       [  1.00170661e+00,  -1.44231428e+01,   1.00000000e+00],\n",
    "       [  1.25330409e+00,   6.99368742e+00,   1.00000000e+00],\n",
    "       [  1.37153985e+00,  -4.92014053e+00,   1.00000000e+00],\n",
    "       [  8.96226044e-01,   5.60893236e+00,   1.00000000e+00],\n",
    "       [  1.01578037e+00,  -2.14757373e+01,   1.00000000e+00],\n",
    "       [  1.24905597e+00,   3.80230553e+00,   1.00000000e+00],\n",
    "       [  7.91121159e-01,  -1.16046266e+01,   1.00000000e+00],\n",
    "       [  8.46677323e-01,   9.64974017e+00,   1.00000000e+00],\n",
    "       [  1.16807303e+00,  -3.80398551e+00,   1.00000000e+00],\n",
    "       [  1.18981166e+00,  -4.56958697e+00,   1.00000000e+00],\n",
    "       [  8.78737538e-01,   6.91159546e+00,   1.00000000e+00],\n",
    "       [  1.06568382e+00,   1.00962618e+01,   1.00000000e+00],\n",
    "       [  1.22424150e+00,   8.05490123e+00,   1.00000000e+00],\n",
    "       [  9.79791498e-01,   1.43359199e+01,   1.00000000e+00],\n",
    "       [  1.08147564e+00,   3.20666830e+00,   1.00000000e+00],\n",
    "       [  1.23100365e+00,  -2.61628299e+00,   1.00000000e+00],\n",
    "       [  1.18487157e+00,   1.96264358e+00,   1.00000000e+00],\n",
    "       [  1.18514135e+00,  -1.35856980e+01,   1.00000000e+00],\n",
    "       [  1.06662911e+00,  -1.11985289e+01,   1.00000000e+00],\n",
    "       [  9.33308743e-01,  -8.76657661e+00,   1.00000000e+00],\n",
    "       [  1.07916364e+00,  -2.13690879e+01,   1.00000000e+00],\n",
    "       [  6.75083564e-01,   6.89958046e+00,   1.00000000e+00],\n",
    "       [  8.67751055e-01,   6.95527478e+00,   1.00000000e+00],\n",
    "       [  1.62597830e+00,  -2.86955079e+01,   1.00000000e+00],\n",
    "       [  8.50587893e-01,  -1.17592996e+00,   1.00000000e+00],\n",
    "       [  8.36463831e-01,  -8.60124687e+00,   1.00000000e+00],\n",
    "       [  1.12986573e+00,  -4.40574183e+00,   1.00000000e+00],\n",
    "       [  8.89608614e-01,   1.65528349e+01,   1.00000000e+00],\n",
    "       [  1.09102541e+00,  -1.29993674e+01,   1.00000000e+00],\n",
    "       [  1.19497691e+00,  -1.07610829e+01,   1.00000000e+00],\n",
    "       [  1.07086855e+00,  -5.12382368e+00,   1.00000000e+00],\n",
    "       [  1.08761425e+00,  -3.04798417e+00,   1.00000000e+00],\n",
    "       [  1.30719003e+00,  -1.42207135e+01,   1.00000000e+00],\n",
    "       [  6.98811921e-01,  -2.24210297e+00,   1.00000000e+00],\n",
    "       [  1.05179142e+00,  -1.07831726e+01,   1.00000000e+00],\n",
    "       [  1.15844769e+00,   5.10134028e+00,   1.00000000e+00],\n",
    "       [  9.55187682e-01,  -9.56636605e-01,   1.00000000e+00],\n",
    "       [  8.13688114e-01,  -1.39499600e+01,   1.00000000e+00],\n",
    "       [  1.13339459e+00,   9.55073692e+00,   1.00000000e+00],\n",
    "       [  1.39316798e+00,  -1.85612566e+01,   1.00000000e+00],\n",
    "       [  1.08418725e+00,   2.69133853e+01,   1.00000000e+00],\n",
    "       [  6.57408851e-01,   1.25686472e+01,   1.00000000e+00],\n",
    "       [  1.14639349e+00,   8.10148036e+00,   1.00000000e+00],\n",
    "       [  1.11017231e+00,  -5.34822793e+00,   1.00000000e+00],\n",
    "       [  1.01779817e+00,  -5.69424865e+00,   1.00000000e+00],\n",
    "       [  1.10517044e+00,  -4.61882170e+00,   1.00000000e+00],\n",
    "       [  9.27960132e-01,  -6.23292921e+00,   1.00000000e+00],\n",
    "       [  8.10787747e-01,  -1.27565644e+01,   1.00000000e+00],\n",
    "       [  9.75702525e-01,  -3.62474596e+00,   1.00000000e+00],\n",
    "       [  1.33888460e+00,   3.30687276e+00,   1.00000000e+00],\n",
    "       [  7.90883715e-01,   5.65630108e+00,   1.00000000e+00],\n",
    "       [  8.45718567e-01,  -1.47389913e+01,   1.00000000e+00],\n",
    "       [  1.06010516e+00,   4.09853947e-01,   1.00000000e+00],\n",
    "       [  1.03712289e+00,  -3.63867275e+00,   1.00000000e+00],\n",
    "       [  1.04561840e+00,  -7.41781458e-01,   1.00000000e+00],\n",
    "       [  1.07424780e+00,  -8.75143053e+00,   1.00000000e+00],\n",
    "       [  1.13565605e+00,  -1.24023346e+01,   1.00000000e+00],\n",
    "       [  6.98720688e-01,   1.23302389e+01,   1.00000000e+00],\n",
    "       [  1.16949206e+00,  -1.05389034e+01,   1.00000000e+00],\n",
    "       [  9.11366735e-01,  -1.72213052e+01,   1.00000000e+00],\n",
    "       [  1.27348362e+00,  -6.17682387e-01,   1.00000000e+00],\n",
    "       [  9.97754150e-01,   7.30221357e+00,   1.00000000e+00],\n",
    "       [  7.52525885e-01,  -1.09370203e+01,   1.00000000e+00],\n",
    "       [  1.04975703e+00,  -9.13603757e+00,   1.00000000e+00],\n",
    "       [  6.04037972e-01,  -1.36154284e+00,   1.00000000e+00],\n",
    "       [  8.61105387e-01,  -1.69258187e+00,   1.00000000e+00],\n",
    "       [  1.24043694e+00,   2.53860931e+00,   1.00000000e+00],\n",
    "       [  1.05129963e+00,   6.69799857e+00,   1.00000000e+00],\n",
    "       [  1.21404727e+00,   4.65180615e+00,   1.00000000e+00],\n",
    "       [  9.73471438e-01,  -4.28011104e+00,   1.00000000e+00],\n",
    "       [  1.27303012e+00,  -7.81602726e-01,   1.00000000e+00],\n",
    "       [  5.57638317e-01,  -4.30864973e+00,   1.00000000e+00],\n",
    "       [  1.04799936e+00,   9.69673976e+00,   1.00000000e+00],\n",
    "       [  1.02160937e+00,   6.85262234e+00,   1.00000000e+00],\n",
    "       [  8.23936883e-01,  -1.20303138e+01,   1.00000000e+00],\n",
    "       [  9.04334807e-01,   2.04443496e+00,   1.00000000e+00],\n",
    "       [  8.70777366e-01,  -1.30338149e+01,   1.00000000e+00],\n",
    "       [  1.01954648e+00,   5.02053050e+00,   1.00000000e+00],\n",
    "       [  1.23746334e+00,  -1.19649176e+01,   1.00000000e+00],\n",
    "       [  9.96489592e-01,   8.77057812e-01,   1.00000000e+00],\n",
    "       [  1.09764531e+00,   5.34203624e+00,   1.00000000e+00],\n",
    "       [  1.11986062e+00,  -7.95751792e+00,   1.00000000e+00],\n",
    "       [  5.69694348e-01,  -4.44556560e+00,   1.00000000e+00],\n",
    "       [  1.17176388e+00,   1.66200449e+00,   1.00000000e+00],\n",
    "       [  9.97202914e-01,   1.37432886e+01,   1.00000000e+00],\n",
    "       [  1.28369033e+00,  -8.77524448e+00,   1.00000000e+00],\n",
    "       [  1.05131794e+00,   1.46875586e+01,   1.00000000e+00],\n",
    "       [  9.05847982e-01,  -3.04417859e+00,   1.00000000e+00],\n",
    "       [  4.57493418e-01,   1.68247612e+00,   1.00000000e+00],\n",
    "       [  1.14726388e+00,   2.59404984e+00,   1.00000000e+00],\n",
    "       [  1.19183662e+00,   2.09802358e+00,   1.00000000e+00],\n",
    "       [  7.92670065e-01,   4.14916292e+00,   1.00000000e+00],\n",
    "       [  8.48198745e-01,   2.47001018e+00,   1.00000000e+00],\n",
    "       [  9.08848162e-01,   2.95895359e+00,   1.00000000e+00],\n",
    "       [  1.07532825e+00,   6.36402513e+00,   1.00000000e+00],\n",
    "       [  1.14416568e+00,   2.34229759e+00,   1.00000000e+00],\n",
    "       [  6.90073868e-01,  -2.00362940e+00,   1.00000000e+00],\n",
    "       [  1.13239872e+00,  -1.14287844e+01,   1.00000000e+00],\n",
    "       [  7.94058600e-01,   7.47097818e+00,   1.00000000e+00],\n",
    "       [  8.32700253e-01,  -1.44909913e+00,   1.00000000e+00],\n",
    "       [  9.14971140e-01,   7.50587573e+00,   1.00000000e+00],\n",
    "       [  8.76236150e-01,  -6.28543383e+00,   1.00000000e+00],\n",
    "       [  1.03328623e+00,   3.41545941e+00,   1.00000000e+00],\n",
    "       [  1.30430223e+00,   6.22058698e+00,   1.00000000e+00],\n",
    "       [  1.25517965e+00,  -8.03978447e+00,   1.00000000e+00],\n",
    "       [  9.68625167e-01,  -4.86265128e+00,   1.00000000e+00],\n",
    "       [  1.16681976e+00,   5.37331176e+00,   1.00000000e+00],\n",
    "       [  1.02801788e+00,   4.08912483e-02,   1.00000000e+00],\n",
    "       [  1.68760573e+00,  -8.28554687e+00,   1.00000000e+00],\n",
    "       [  8.69347674e-01,  -1.21331599e+01,   1.00000000e+00],\n",
    "       [  1.10375821e+00,   6.57254252e+00,   1.00000000e+00],\n",
    "       [  1.02817549e+00,   3.72120799e+00,   1.00000000e+00],\n",
    "       [  1.20362300e+00,  -2.69271780e+00,   1.00000000e+00],\n",
    "       [  7.34250933e-01,  -7.70608653e+00,   1.00000000e+00],\n",
    "       [  8.89958983e-01,   3.41909880e-01,   1.00000000e+00],\n",
    "       [  9.23841626e-01,   1.84844380e+00,   1.00000000e+00],\n",
    "       [  6.81951891e-01,  -1.31797592e+00,   1.00000000e+00],\n",
    "       [  1.10606051e+00,  -4.67117448e+00,   1.00000000e+00],\n",
    "       [  1.05399987e+00,  -9.76631291e+00,   1.00000000e+00],\n",
    "       [  1.22135850e+00,   1.76767660e+01,   1.00000000e+00],\n",
    "       [  8.81441136e-01,   2.37677021e+00,   1.00000000e+00],\n",
    "       [  9.07709377e-01,  -4.58952026e-01,   1.00000000e+00],\n",
    "       [  1.05838894e+00,  -4.56236209e+00,   1.00000000e+00],\n",
    "       [  5.96258584e-01,  -1.77519846e+01,   1.00000000e+00],\n",
    "       [  1.11202070e+00,   2.72334272e+01,   1.00000000e+00],\n",
    "       [  5.92550908e-01,   6.56915487e+00,   1.00000000e+00],\n",
    "       [  6.40440186e-01,  -1.70546538e+01,   1.00000000e+00],\n",
    "       [  9.03573553e-01,  -6.87380990e+00,   1.00000000e+00],\n",
    "       [  9.13886162e-01,   7.74247643e+00,   1.00000000e+00],\n",
    "       [  1.04183359e+00,   1.00733532e+01,   1.00000000e+00],\n",
    "       [  8.72903553e-01,  -6.19744728e+00,   1.00000000e+00],\n",
    "       [  7.94324588e-01,  -3.45593580e+00,   1.00000000e+00],\n",
    "       [  9.73289053e-01,   1.51911051e+01,   1.00000000e+00],\n",
    "       [  1.32941789e+00,  -1.69463014e+00,   1.00000000e+00],\n",
    "       [  9.44670678e-01,   8.45417180e+00,   1.00000000e+00],\n",
    "       [  9.34851971e-01,   1.27874791e+01,   1.00000000e+00],\n",
    "       [  9.36932364e-01,   2.16106736e+00,   1.00000000e+00],\n",
    "       [  1.31860792e+00,  -1.26219457e+01,   1.00000000e+00],\n",
    "       [  1.27973939e+00,  -1.07187828e+01,   1.00000000e+00],\n",
    "       [  1.16702534e+00,  -3.35736752e+00,   1.00000000e+00],\n",
    "       [  1.05721007e+00,  -1.36863278e+00,   1.00000000e+00],\n",
    "       [  1.03745953e+00,  -1.12730376e+01,   1.00000000e+00],\n",
    "       [  1.14110264e+00,   4.19627477e+00,   1.00000000e+00],\n",
    "       [  6.87213513e-01,   7.55030167e+00,   1.00000000e+00],\n",
    "       [  1.21940751e+00,   2.05166845e+01,   1.00000000e+00],\n",
    "       [  1.11739936e+00,   1.10907168e+01,   1.00000000e+00],\n",
    "       [  8.48691766e-01,  -7.47730040e+00,   1.00000000e+00],\n",
    "       [  1.14704155e+00,   1.37390342e+01,   1.00000000e+00],\n",
    "       [  9.62558155e-01,   5.06939395e+00,   1.00000000e+00],\n",
    "       [  1.15962240e+00,  -6.22100735e+00,   1.00000000e+00],\n",
    "       [  1.24015420e+00,  -3.74470933e+00,   1.00000000e+00],\n",
    "       [  7.19159365e-01,   4.90660186e-02,   1.00000000e+00],\n",
    "       [  9.01691455e-01,  -8.22834825e+00,   1.00000000e+00],\n",
    "       [  7.17371215e-01,   9.11909425e+00,   1.00000000e+00],\n",
    "       [  6.06058738e-01,   9.32464271e+00,   1.00000000e+00],\n",
    "       [  8.28980409e-01,  -7.01801251e+00,   1.00000000e+00],\n",
    "       [  9.92532466e-01,  -2.51510682e+00,   1.00000000e+00],\n",
    "       [  1.00194493e+00,  -3.81437544e+00,   1.00000000e+00],\n",
    "       [  6.30892702e-01,   7.16786126e-01,   1.00000000e+00],\n",
    "       [  1.07749796e+00,   6.32219797e+00,   1.00000000e+00],\n",
    "       [  9.83433076e-01,   3.74182255e+00,   1.00000000e+00],\n",
    "       [  8.70127788e-01,  -6.33027871e+00,   1.00000000e+00],\n",
    "       [  9.04666889e-01,  -9.03469684e+00,   1.00000000e+00],\n",
    "       [  6.13156364e-01,  -5.49372984e+00,   1.00000000e+00],\n",
    "       [  9.40356977e-01,  -7.74154757e+00,   1.00000000e+00],\n",
    "       [  7.33584778e-01,  -5.58490803e+00,   1.00000000e+00],\n",
    "       [  9.18626370e-01,  -1.06845257e+01,   1.00000000e+00],\n",
    "       [  7.71724258e-01,   2.38324356e+00,   1.00000000e+00],\n",
    "       [  1.05400038e+00,   8.15134669e+00,   1.00000000e+00],\n",
    "       [  1.01520744e+00,   3.87712137e+00,   1.00000000e+00],\n",
    "       [  1.21092516e+00,   1.07958143e+01,   1.00000000e+00],\n",
    "       [  8.54830320e-01,  -5.53961856e+00,   1.00000000e+00],\n",
    "       [  1.53630144e+00,  -1.82448841e+00,   1.00000000e+00],\n",
    "       [  1.10219620e+00,   5.53353368e-01,   1.00000000e+00],\n",
    "       [  1.01710277e+00,  -6.62062610e+00,   1.00000000e+00],\n",
    "       [  1.08348970e+00,   8.54499395e+00,   1.00000000e+00],\n",
    "       [  1.06844772e+00,  -1.60139979e+01,   1.00000000e+00],\n",
    "       [  6.37243617e-01,  -1.30572365e+01,   1.00000000e+00],\n",
    "       [  1.05564651e+00,  -8.45894140e+00,   1.00000000e+00],\n",
    "       [  1.08016975e+00,   1.06838236e+01,   1.00000000e+00],\n",
    "       [  1.59850093e+00,   1.08716624e+00,   1.00000000e+00],\n",
    "       [  1.01273973e+00,   4.05435593e+00,   1.00000000e+00],\n",
    "       [  1.23533500e+00,   8.35970177e+00,   1.00000000e+00],\n",
    "       [  8.54839572e-01,  -2.37719616e+00,   1.00000000e+00],\n",
    "       [  9.53358373e-01,  -1.35433493e+01,   1.00000000e+00],\n",
    "       [  1.02212932e+00,  -1.95665435e+00,   1.00000000e+00],\n",
    "       [  7.82935292e-01,  -4.30036060e+00,   1.00000000e+00],\n",
    "       [  1.22959069e+00,   1.63315917e+01,   1.00000000e+00],\n",
    "       [  9.28377109e-01,  -1.87552469e+00,   1.00000000e+00],\n",
    "       [  1.28328233e+00,  -1.01423397e+01,   1.00000000e+00],\n",
    "       [  1.03036382e+00,   6.07661576e+00,   1.00000000e+00],\n",
    "       [  1.12087032e+00,   1.03898747e+01,   1.00000000e+00],\n",
    "       [  7.78927995e-01,   1.23436111e+01,   1.00000000e+00],\n",
    "       [  7.87029556e-01,  -4.51926880e+00,   1.00000000e+00],\n",
    "       [  9.56661152e-01,  -2.09058371e+01,   1.00000000e+00],\n",
    "       [  9.92926766e-01,  -1.06041209e+01,   1.00000000e+00],\n",
    "       [  1.00279766e+00,  -6.23278471e+00,   1.00000000e+00],\n",
    "       [  1.13750163e+00,   1.33743558e+01,   1.00000000e+00],\n",
    "       [  7.78794974e-01,  -8.52836163e+00,   1.00000000e+00],\n",
    "       [  1.21115621e+00,   6.57259301e+00,   1.00000000e+00],\n",
    "       [  9.17214979e-01,  -6.54536537e+00,   1.00000000e+00],\n",
    "       [  7.78423425e-01,  -1.20433218e+01,   1.00000000e+00],\n",
    "       [  1.04278136e+00,   3.67407692e+00,   1.00000000e+00],\n",
    "       [  1.24412178e+00,   2.29617743e+00,   1.00000000e+00],\n",
    "       [  8.00348382e-01,   6.73251090e+00,   1.00000000e+00],\n",
    "       [  1.18065584e+00,   6.66943275e+00,   1.00000000e+00],\n",
    "       [  9.08283108e-01,   7.08800132e+00,   1.00000000e+00],\n",
    "       [  7.08547981e-01,   6.07350332e+00,   1.00000000e+00],\n",
    "       [  9.76523291e-01,  -1.46136362e+01,   1.00000000e+00],\n",
    "       [  6.30237255e-01,  -4.46507013e+00,   1.00000000e+00],\n",
    "       [  1.62902210e+00,  -8.30061878e+00,   1.00000000e+00],\n",
    "       [  1.01831112e+00,   6.64804161e+00,   1.00000000e+00],\n",
    "       [  9.48547526e-01,  -1.53630285e+01,   1.00000000e+00],\n",
    "       [  9.00883264e-01,   2.92990924e-01,   1.00000000e+00],\n",
    "       [  9.01565196e-01,   1.25503267e+01,   1.00000000e+00],\n",
    "       [  1.03967649e+00,   1.09536400e+01,   1.00000000e+00],\n",
    "       [  1.14872969e+00,  -1.06038036e+01,   1.00000000e+00],\n",
    "       [  9.94273705e-01,   1.09913535e+00,   1.00000000e+00],\n",
    "       [  1.18877877e+00,  -2.26561080e+00,   1.00000000e+00],\n",
    "       [  1.03747731e+00,   1.46968524e+01,   1.00000000e+00],\n",
    "       [  1.04439174e+00,   1.48678701e+00,   1.00000000e+00],\n",
    "       [  6.35718674e-01,   2.44789860e+00,   1.00000000e+00],\n",
    "       [  1.23605739e+00,   8.56875099e-01,   1.00000000e+00],\n",
    "       [  8.65021111e-01,   6.42912229e+00,   1.00000000e+00],\n",
    "       [  9.87933619e-01,  -8.71816235e+00,   1.00000000e+00],\n",
    "       [  8.84789589e-01,   4.03211761e+00,   1.00000000e+00],\n",
    "       [  1.13845630e+00,   8.38170492e+00,   1.00000000e+00],\n",
    "       [  1.08698976e+00,  -7.13387924e+00,   1.00000000e+00],\n",
    "       [  5.19722788e-01,  -6.33117378e+00,   1.00000000e+00],\n",
    "       [  9.12426904e-01,  -9.42034346e-01,   1.00000000e+00],\n",
    "       [  9.61953364e-01,   1.74155196e+01,   1.00000000e+00],\n",
    "       [  1.30754593e+00,   1.01869637e+01,   1.00000000e+00],\n",
    "       [  9.83689532e-01,  -2.16329401e+00,   1.00000000e+00],\n",
    "       [  9.34806222e-01,   7.50481246e-01,   1.00000000e+00],\n",
    "       [  1.02407254e+00,   1.36137102e+01,   1.00000000e+00],\n",
    "       [  8.76300416e-01,   1.84415740e+01,   1.00000000e+00],\n",
    "       [  1.08464527e+00,  -1.00016546e+01,   1.00000000e+00],\n",
    "       [  8.30454849e-01,   3.04908066e+00,   1.00000000e+00],\n",
    "       [  1.18513196e+00,   3.15824441e+00,   1.00000000e+00],\n",
    "       [  6.71279364e-01,  -8.75780259e+00,   1.00000000e+00],\n",
    "       [  9.57804040e-01,   4.88044345e+00,   1.00000000e+00],\n",
    "       [  1.07110392e+00,  -1.01358460e+01,   1.00000000e+00],\n",
    "       [  9.54687731e-01,   7.55040328e+00,   1.00000000e+00],\n",
    "       [  7.31431366e-01,   1.64770564e+00,   1.00000000e+00],\n",
    "       [  8.40619713e-01,   1.31796825e+01,   1.00000000e+00],\n",
    "       [  1.42027777e+00,  -4.35614245e+00,   1.00000000e+00],\n",
    "       [  1.05816901e+00,   8.93649623e+00,   1.00000000e+00],\n",
    "       [  1.05681925e+00,  -2.06706991e+01,   1.00000000e+00],\n",
    "       [  6.16998708e-01,   1.29787793e+01,   1.00000000e+00],\n",
    "       [  8.80374205e-01,   1.55541740e+01,   1.00000000e+00],\n",
    "       [  9.42892615e-01,  -2.11654854e+00,   1.00000000e+00],\n",
    "       [  1.07737015e+00,  -1.13220557e+01,   1.00000000e+00],\n",
    "       [  1.10495478e+00,   6.02255451e+00,   1.00000000e+00],\n",
    "       [  1.06283805e+00,   1.43397068e+00,   1.00000000e+00],\n",
    "       [  1.46950154e+00,  -5.70922579e+00,   1.00000000e+00],\n",
    "       [  9.41071944e-01,   1.25439371e+01,   1.00000000e+00],\n",
    "       [  1.18303169e+00,  -2.15298362e+01,   1.00000000e+00],\n",
    "       [  1.11887241e+00,  -2.49459588e+01,   1.00000000e+00],\n",
    "       [  1.40975490e+00,   6.23173076e-01,   1.00000000e+00],\n",
    "       [  1.52199926e+00,  -8.32295658e+00,   1.00000000e+00],\n",
    "       [  1.25859348e+00,   2.16721592e+01,   1.00000000e+00],\n",
    "       [  1.36788897e+00,   1.57812891e+01,   1.00000000e+00],\n",
    "       [  1.02482304e+00,   1.45968919e+01,   1.00000000e+00],\n",
    "       [  8.51596405e-01,  -1.03905101e+01,   1.00000000e+00],\n",
    "       [  1.07881448e+00,   7.03752613e+00,   1.00000000e+00],\n",
    "       [  1.20899516e+00,   1.31797149e+01,   1.00000000e+00],\n",
    "       [  1.01534630e+00,   1.93668963e+01,   1.00000000e+00],\n",
    "       [  9.90219957e-01,   6.02350291e+00,   1.00000000e+00],\n",
    "       [  8.40654490e-01,  -1.13756291e+01,   1.00000000e+00],\n",
    "       [  7.40763394e-01,   1.77947469e+00,   1.00000000e+00],\n",
    "       [  1.25307262e+00,  -9.44982475e+00,   1.00000000e+00],\n",
    "       [  1.03625968e+00,  -6.07610822e+00,   1.00000000e+00],\n",
    "       [  1.08870434e+00,  -2.51914560e+01,   1.00000000e+00],\n",
    "       [  1.28770623e+00,   7.68637723e+00,   1.00000000e+00],\n",
    "       [  9.98682843e-01,   8.28738598e+00,   1.00000000e+00],\n",
    "       [  1.05999700e+00,  -3.91079413e+00,   1.00000000e+00],\n",
    "       [  5.35270983e-01,   3.26921242e+00,   1.00000000e+00],\n",
    "       [  8.36292390e-01,   1.87807966e+01,   1.00000000e+00],\n",
    "       [  9.83779121e-01,   1.36898885e+00,   1.00000000e+00],\n",
    "       [  8.69480589e-01,  -3.04545922e+00,   1.00000000e+00],\n",
    "       [  9.99557224e-01,   1.51137303e+00,   1.00000000e+00],\n",
    "       [  9.63844158e-01,   6.46433039e+00,   1.00000000e+00],\n",
    "       [  9.14659092e-01,  -9.82214473e+00,   1.00000000e+00],\n",
    "       [  8.51488310e-01,  -1.82994524e+01,   1.00000000e+00],\n",
    "       [  8.82682218e-01,   1.81190202e+01,   1.00000000e+00],\n",
    "       [  1.53983256e+00,  -6.85673121e+00,   1.00000000e+00],\n",
    "       [  8.22562622e-01,   2.76717299e+00,   1.00000000e+00],\n",
    "       [  1.23400858e+00,  -1.53226945e+01,   1.00000000e+00],\n",
    "       [  5.57158580e-01,   3.21328803e+00,   1.00000000e+00],\n",
    "       [  9.19173367e-01,   1.27119543e+01,   1.00000000e+00],\n",
    "       [  1.30750478e+00,   3.33867324e+00,   1.00000000e+00],\n",
    "       [  1.06585467e+00,   5.87625845e+00,   1.00000000e+00],\n",
    "       [  6.74973607e-01,   1.14291768e+01,   1.00000000e+00],\n",
    "       [  1.00511065e+00,   1.81927816e+01,   1.00000000e+00],\n",
    "       [  1.21601819e+00,   8.65975744e+00,   1.00000000e+00],\n",
    "       [  1.05160700e+00,  -1.10155722e+01,   1.00000000e+00],\n",
    "       [  1.00065631e+00,  -7.08140064e+00,   1.00000000e+00],\n",
    "       [  1.01363553e+00,   6.13833429e+00,   1.00000000e+00],\n",
    "       [  1.12092609e+00,   1.52184783e+00,   1.00000000e+00],\n",
    "       [  1.02006569e+00,   2.46758632e+00,   1.00000000e+00],\n",
    "       [  8.43112235e-01,   9.36497278e+00,   1.00000000e+00],\n",
    "       [  1.01444283e+00,   1.45647518e+01,   1.00000000e+00],\n",
    "       [  1.00051842e+00,   1.33619887e+01,   1.00000000e+00],\n",
    "       [  1.21981054e+00,  -6.60871251e+00,   1.00000000e+00],\n",
    "       [  7.17205806e-01,  -9.39999475e+00,   1.00000000e+00],\n",
    "       [  1.09957029e+00,   4.79416197e+00,   1.00000000e+00],\n",
    "       [  7.65725894e-01,   6.22805318e+00,   1.00000000e+00],\n",
    "       [  1.07707224e+00,   2.22641480e+00,   1.00000000e+00],\n",
    "       [  6.71199837e-01,   1.29277711e+00,   1.00000000e+00],\n",
    "       [  9.78260965e-01,  -5.06230634e+00,   1.00000000e+00],\n",
    "       [  1.17116846e+00,  -7.65284505e+00,   1.00000000e+00],\n",
    "       [  9.48080791e-01,   2.85508498e+00,   1.00000000e+00],\n",
    "       [  1.03758626e+00,   2.92566450e+00,   1.00000000e+00],\n",
    "       [  8.92547997e-01,   1.22515987e+01,   1.00000000e+00],\n",
    "       [  1.07870416e+00,   6.68298563e+00,   1.00000000e+00],\n",
    "       [  1.01871879e+00,   5.81880532e-01,   1.00000000e+00],\n",
    "       [  7.94260531e-01,   1.61742827e+01,   1.00000000e+00],\n",
    "       [  8.37611594e-01,   8.91562854e+00,   1.00000000e+00],\n",
    "       [  9.27992697e-01,   6.04111821e+00,   1.00000000e+00],\n",
    "       [  1.32221161e+00,   6.35136852e+00,   1.00000000e+00],\n",
    "       [  1.34639172e+00,   1.02874338e+00,   1.00000000e+00],\n",
    "       [  1.02693717e+00,   4.89107032e+00,   1.00000000e+00],\n",
    "       [  1.02757583e+00,   9.03889496e-01,   1.00000000e+00],\n",
    "       [  1.02738144e+00,   1.86691939e+00,   1.00000000e+00],\n",
    "       [  9.98919480e-01,   1.15204719e+01,   1.00000000e+00],\n",
    "       [  1.17397808e+00,   2.51207966e+00,   1.00000000e+00],\n",
    "       [  1.43204755e+00,   1.40068339e+01,   1.00000000e+00],\n",
    "       [  1.05414937e+00,  -4.26757614e+00,   1.00000000e+00],\n",
    "       [  9.42482592e-01,  -2.30110696e+00,   1.00000000e+00],\n",
    "       [  1.01076449e+00,   1.69568694e+01,   1.00000000e+00],\n",
    "       [  1.35488762e+00,  -1.67690144e+00,   1.00000000e+00],\n",
    "       [  8.35952337e-01,  -1.32226436e+01,   1.00000000e+00],\n",
    "       [  1.03068003e+00,  -1.33747755e+00,   1.00000000e+00],\n",
    "       [  8.98158731e-01,  -1.74446119e+01,   1.00000000e+00],\n",
    "       [  9.84888528e-01,   1.60113115e+01,   1.00000000e+00],\n",
    "       [  1.22907883e+00,   7.68448609e+00,   1.00000000e+00],\n",
    "       [  7.99640372e-01,   1.13337794e+01,   1.00000000e+00],\n",
    "       [  9.00309430e-01,  -6.23742019e+00,   1.00000000e+00],\n",
    "       [  1.33453388e+00,  -8.75849334e+00,   1.00000000e+00],\n",
    "       [  7.73208533e-01,  -5.30680951e+00,   1.00000000e+00],\n",
    "       [  9.76202052e-01,  -7.48258271e+00,   1.00000000e+00],\n",
    "       [  1.02994886e+00,   9.94335529e+00,   1.00000000e+00],\n",
    "       [  1.26105368e+00,  -1.09895768e+01,   1.00000000e+00],\n",
    "       [  1.19121251e+00,   5.43898031e+00,   1.00000000e+00],\n",
    "       [  1.29707015e+00,  -2.67841811e+00,   1.00000000e+00],\n",
    "       [  7.80241581e-01,  -1.97580943e+00,   1.00000000e+00],\n",
    "       [  6.87261938e-01,   1.31013706e+01,   1.00000000e+00],\n",
    "       [  6.75709424e-01,  -4.29441944e+00,   1.00000000e+00],\n",
    "       [  7.42002640e-01,   2.33817454e+01,   1.00000000e+00],\n",
    "       [  9.78220698e-01,   4.09158209e+00,   1.00000000e+00],\n",
    "       [  5.81375878e-01,   2.55355800e+01,   1.00000000e+00],\n",
    "       [  1.46606791e+00,   1.37284145e+01,   1.00000000e+00],\n",
    "       [  8.73564640e-01,  -4.85845471e-02,   1.00000000e+00],\n",
    "       [  1.18930910e+00,  -1.12792634e+00,   1.00000000e+00],\n",
    "       [  9.03641438e-01,  -8.91591674e+00,   1.00000000e+00],\n",
    "       [  1.21379884e+00,  -2.72929419e+00,   1.00000000e+00],\n",
    "       [  8.98891785e-01,   2.04329127e+00,   1.00000000e+00],\n",
    "       [  8.86492146e-01,  -5.11405051e+00,   1.00000000e+00],\n",
    "       [  8.47404613e-01,  -3.40334836e+00,   1.00000000e+00],\n",
    "       [  9.23110123e-01,   5.94130953e-01,   1.00000000e+00],\n",
    "       [  1.14370226e+00,   3.42707869e+00,   1.00000000e+00],\n",
    "       [  1.01806156e+00,  -2.83131909e+01,   1.00000000e+00],\n",
    "       [  9.73697217e-01,   6.33894807e+00,   1.00000000e+00],\n",
    "       [  9.58030959e-01,   1.70270776e+01,   1.00000000e+00],\n",
    "       [  1.30041618e+00,  -3.98444434e+00,   1.00000000e+00],\n",
    "       [  9.63173524e-01,   1.55843869e+00,   1.00000000e+00],\n",
    "       [  1.33999175e+00,  -1.66961460e+01,   1.00000000e+00],\n",
    "       [  1.10152092e+00,   6.77126599e+00,   1.00000000e+00],\n",
    "       [  1.39429764e+00,  -5.51036210e+00,   1.00000000e+00],\n",
    "       [  9.49126656e-01,   1.13945028e+01,   1.00000000e+00],\n",
    "       [  9.58013024e-01,   1.85574642e+01,   1.00000000e+00],\n",
    "       [  8.52538693e-01,  -1.05940674e+01,   1.00000000e+00],\n",
    "       [  1.05826928e+00,  -1.13201406e-01,   1.00000000e+00],\n",
    "       [  1.19720575e+00,  -1.55566516e+01,   1.00000000e+00],\n",
    "       [  6.96418809e-01,  -1.00832757e+01,   1.00000000e+00],\n",
    "       [  1.14883098e+00,  -8.79378157e-01,   1.00000000e+00],\n",
    "       [  1.11735134e+00,   5.57742498e+00,   1.00000000e+00],\n",
    "       [  1.10002593e+00,  -2.02013865e+00,   1.00000000e+00],\n",
    "       [  9.52281935e-01,  -2.17962512e+01,   1.00000000e+00],\n",
    "       [  1.12831437e+00,   4.18244437e+00,   1.00000000e+00],\n",
    "       [  9.38718064e-01,  -2.29042927e+00,   1.00000000e+00],\n",
    "       [  9.54997647e-01,  -7.47673766e+00,   1.00000000e+00],\n",
    "       [  8.03155817e-01,   1.38774568e+01,   1.00000000e+00],\n",
    "       [  1.33382549e+00,   1.62407415e+01,   1.00000000e+00],\n",
    "       [  7.64124798e-01,  -1.10034820e+01,   1.00000000e+00],\n",
    "       [  9.66109312e-01,   1.40888583e+01,   1.00000000e+00],\n",
    "       [  1.12114646e+00,   1.41948678e+01,   1.00000000e+00],\n",
    "       [  9.14398493e-01,  -1.21040240e+01,   1.00000000e+00],\n",
    "       [  1.01649758e+00,   2.07671536e+01,   1.00000000e+00],\n",
    "       [  7.17585738e-01,  -4.19999538e+00,   1.00000000e+00],\n",
    "       [  9.90669922e-01,  -8.51489349e+00,   1.00000000e+00],\n",
    "       [  1.06855771e+00,   8.09310354e+00,   1.00000000e+00],\n",
    "       [  1.02473067e+00,   9.07643940e+00,   1.00000000e+00],\n",
    "       [  7.70577489e-01,  -4.39503371e+00,   1.00000000e+00],\n",
    "       [  1.23448862e+00,  -1.33836244e+01,   1.00000000e+00],\n",
    "       [  9.87187102e-01,   5.66665564e+00,   1.00000000e+00],\n",
    "       [  1.20596869e+00,  -4.52780692e+00,   1.00000000e+00],\n",
    "       [  1.09349925e+00,   4.23890778e+00,   1.00000000e+00],\n",
    "       [  8.22856688e-01,  -1.77820003e+01,   1.00000000e+00],\n",
    "       [  9.94842228e-01,   8.14402711e+00,   1.00000000e+00]])"
   ]
  },
  {
   "cell_type": "code",
   "execution_count": 80,
   "metadata": {},
   "outputs": [
    {
     "name": "stdout",
     "output_type": "stream",
     "text": [
      "[[ 75.2303559  168.837751    23.99      ]\n",
      " [ 75.02614252 231.0973231   35.69      ]\n",
      " [ 73.1544228  215.08167641  31.78      ]\n",
      " ...\n",
      " [ 76.09349925 209.23890778  26.19      ]\n",
      " [ 75.82285669 172.2179997   32.01      ]\n",
      " [ 73.99484223 203.14402711  28.92      ]]\n",
      "[[ 1.8796  81.64656 22.99   ]\n",
      " [ 1.8796  97.52228 34.69   ]\n",
      " [ 1.8288  95.25432 30.78   ]\n",
      " ...\n",
      " [ 1.905   92.98636 25.19   ]\n",
      " [ 1.905   86.18248 31.01   ]\n",
      " [ 1.8542  88.45044 27.92   ]]\n"
     ]
    }
   ],
   "source": [
    "# baseball is available as a regular list of lists\n",
    "# updated is available as 2D numpy array\n",
    "\n",
    "# Import numpy package\n",
    "import numpy as np\n",
    "\n",
    "# Create np_baseball (3 cols)\n",
    "#np_baseball = np.array(baseball)\n",
    "\n",
    "# Print out addition of np_baseball and updated\n",
    "print(np_baseball + np_updated)\n",
    "\n",
    "# Create numpy array: conversion\n",
    "conversion = np.array([0.0254, 0.453592, 1])\n",
    "\n",
    "# Print out product of np_baseball and conversion\n",
    "print(np_baseball * conversion)"
   ]
  },
  {
   "cell_type": "markdown",
   "metadata": {},
   "source": [
    "### Numpy Basic Statistics"
   ]
  },
  {
   "cell_type": "code",
   "execution_count": 81,
   "metadata": {},
   "outputs": [
    {
     "name": "stdout",
     "output_type": "stream",
     "text": [
      "7.0\n",
      "8.0\n"
     ]
    }
   ],
   "source": [
    "import numpy as np\n",
    "x = [1, 4, 8, 10, 12]\n",
    "print(np.mean(x))\n",
    "print(np.median(x))"
   ]
  },
  {
   "cell_type": "code",
   "execution_count": 82,
   "metadata": {},
   "outputs": [
    {
     "name": "stdout",
     "output_type": "stream",
     "text": [
      "73.6896551724138\n",
      "74.0\n"
     ]
    }
   ],
   "source": [
    "# np_baseball is available\n",
    "\n",
    "# Import numpy\n",
    "import numpy as np\n",
    "\n",
    "# Create np_height_in from np_baseball\n",
    "np_height_in = np.array(np_baseball[:,0])\n",
    "\n",
    "# Print out the mean of np_height_in\n",
    "print(np.mean(np_height_in))\n",
    "\n",
    "# Print out the median of np_height_in\n",
    "print(np.median(np_height_in))"
   ]
  },
  {
   "cell_type": "code",
   "execution_count": 83,
   "metadata": {},
   "outputs": [
    {
     "name": "stdout",
     "output_type": "stream",
     "text": [
      "Average: 73.6896551724138\n",
      "Median: 74.0\n",
      "Standard Deviation: 2.312791881046546\n",
      "Correlation: [[1.         0.53153932]\n",
      " [0.53153932 1.        ]]\n"
     ]
    }
   ],
   "source": [
    "# np_baseball is available\n",
    "\n",
    "# Import numpy\n",
    "import numpy as np\n",
    "\n",
    "# Print mean height (first column)\n",
    "avg = np.mean(np_baseball[:,0])\n",
    "print(\"Average: \" + str(avg))\n",
    "\n",
    "# Print median height. Replace 'None'\n",
    "med = np.median(np_baseball[:,0])\n",
    "print(\"Median: \" + str(med))\n",
    "\n",
    "# Print out the standard deviation on height. Replace 'None'\n",
    "stddev = np.std(np_baseball[:,0])\n",
    "print(\"Standard Deviation: \" + str(stddev))\n",
    "\n",
    "# Print out correlation between first and second column. Replace 'None'\n",
    "corr = np.corrcoef(np_baseball[:,0], np_baseball[:,1])\n",
    "print(\"Correlation: \" + str(corr))"
   ]
  },
  {
   "cell_type": "markdown",
   "metadata": {},
   "source": [
    "## Dictionary"
   ]
  },
  {
   "cell_type": "code",
   "execution_count": 84,
   "metadata": {},
   "outputs": [],
   "source": [
    "my_dict = {\n",
    "   \"key1\":\"value1\",\n",
    "   \"key2\":\"value2\",\n",
    "}"
   ]
  },
  {
   "cell_type": "code",
   "execution_count": 85,
   "metadata": {},
   "outputs": [
    {
     "name": "stdout",
     "output_type": "stream",
     "text": [
      "berlin\n"
     ]
    }
   ],
   "source": [
    "# Definition of countries and capital\n",
    "countries = ['spain', 'france', 'germany', 'norway']\n",
    "capitals = ['madrid', 'paris', 'berlin', 'oslo']\n",
    "\n",
    "# Get index of 'germany': ind_ger\n",
    "ind_ger = countries.index('germany')\n",
    "\n",
    "# Use ind_ger to print out capital of Germany\n",
    "print(capitals[ind_ger])"
   ]
  },
  {
   "cell_type": "markdown",
   "metadata": {},
   "source": [
    "### Create"
   ]
  },
  {
   "cell_type": "code",
   "execution_count": 86,
   "metadata": {},
   "outputs": [
    {
     "name": "stdout",
     "output_type": "stream",
     "text": [
      "{'spain': 'madrid', 'france': 'paris', 'germany': 'berlin', 'norway': 'oslo'}\n"
     ]
    }
   ],
   "source": [
    "# Definition of countries and capital\n",
    "countries = ['spain', 'france', 'germany', 'norway']\n",
    "capitals = ['madrid', 'paris', 'berlin', 'oslo']\n",
    "\n",
    "# From string in countries and capitals, create dictionary europe\n",
    "europe = { 'spain':'madrid', 'france':'paris', 'germany':'berlin', 'norway':'oslo' }\n",
    "\n",
    "# Print europe\n",
    "print(europe)"
   ]
  },
  {
   "cell_type": "markdown",
   "metadata": {},
   "source": [
    "### Access"
   ]
  },
  {
   "cell_type": "code",
   "execution_count": 87,
   "metadata": {},
   "outputs": [
    {
     "name": "stdout",
     "output_type": "stream",
     "text": [
      "dict_keys(['spain', 'france', 'germany', 'norway'])\n",
      "oslo\n"
     ]
    }
   ],
   "source": [
    "# Definition of dictionary\n",
    "europe = {'spain':'madrid', 'france':'paris', 'germany':'berlin', 'norway':'oslo' }\n",
    "\n",
    "# Print out the keys in europe\n",
    "print(europe.keys())\n",
    "\n",
    "# Print out value that belongs to key 'norway'\n",
    "print(europe['norway'])"
   ]
  },
  {
   "cell_type": "markdown",
   "metadata": {},
   "source": [
    "### Manipulate"
   ]
  },
  {
   "cell_type": "code",
   "execution_count": 88,
   "metadata": {},
   "outputs": [
    {
     "name": "stdout",
     "output_type": "stream",
     "text": [
      "True\n",
      "{'spain': 'madrid', 'france': 'paris', 'germany': 'berlin', 'norway': 'oslo', 'italy': 'rome', 'poland': 'warsaw'}\n"
     ]
    }
   ],
   "source": [
    "# Definition of dictionary\n",
    "europe = {'spain':'madrid', 'france':'paris', 'germany':'berlin', 'norway':'oslo' }\n",
    "\n",
    "# Add italy to europe\n",
    "europe['italy'] = 'rome'\n",
    "\n",
    "# Print out italy in europe\n",
    "print('italy' in europe)\n",
    "\n",
    "# Add poland to europe\n",
    "europe['poland'] = 'warsaw'\n",
    "\n",
    "# Print europe\n",
    "print(europe)"
   ]
  },
  {
   "cell_type": "code",
   "execution_count": 89,
   "metadata": {},
   "outputs": [
    {
     "name": "stdout",
     "output_type": "stream",
     "text": [
      "{'spain': 'madrid', 'france': 'paris', 'germany': 'berlin', 'norway': 'oslo', 'italy': 'rome', 'poland': 'warsaw'}\n"
     ]
    }
   ],
   "source": [
    "# Definition of dictionary\n",
    "europe = {'spain':'madrid', 'france':'paris', 'germany':'bonn',\n",
    "          'norway':'oslo', 'italy':'rome', 'poland':'warsaw',\n",
    "          'australia':'vienna' }\n",
    "\n",
    "# Update capital of germany\n",
    "europe['germany'] = 'berlin'\n",
    "\n",
    "# Remove australia\n",
    "del(europe['australia'])\n",
    "\n",
    "# Print europe\n",
    "print(europe)"
   ]
  },
  {
   "cell_type": "markdown",
   "metadata": {},
   "source": [
    "### Dictionary of Dictionary"
   ]
  },
  {
   "cell_type": "code",
   "execution_count": 90,
   "metadata": {},
   "outputs": [
    {
     "name": "stdout",
     "output_type": "stream",
     "text": [
      "paris\n",
      "{'spain': {'capital': 'madrid', 'population': 46.77}, 'france': {'capital': 'paris', 'population': 66.03}, 'germany': {'capital': 'berlin', 'population': 80.62}, 'norway': {'capital': 'oslo', 'population': 5.084}, 'italy': {'capital': 'rome', 'population': 59.83}}\n"
     ]
    }
   ],
   "source": [
    "# Dictionary of dictionaries\n",
    "europe = { 'spain': { 'capital':'madrid', 'population':46.77 },\n",
    "           'france': { 'capital':'paris', 'population':66.03 },\n",
    "           'germany': { 'capital':'berlin', 'population':80.62 },\n",
    "           'norway': { 'capital':'oslo', 'population':5.084 } }\n",
    "\n",
    "\n",
    "# Print out the capital of France\n",
    "print(europe['france']['capital'])\n",
    "\n",
    "# Create sub-dictionary data\n",
    "data = {'capital':'rome', 'population':59.83}\n",
    "\n",
    "# Add data to europe under key 'italy'\n",
    "europe['italy'] = data\n",
    "\n",
    "# Print europe\n",
    "print(europe)"
   ]
  },
  {
   "cell_type": "markdown",
   "metadata": {},
   "source": [
    "## Comparison Operators"
   ]
  },
  {
   "cell_type": "code",
   "execution_count": 91,
   "metadata": {},
   "outputs": [
    {
     "name": "stdout",
     "output_type": "stream",
     "text": [
      "False\n",
      "True\n",
      "False\n",
      "True\n"
     ]
    }
   ],
   "source": [
    "# Comparison of booleans\n",
    "print(True == False)\n",
    "\n",
    "# Comparison of integers\n",
    "print(-5 * 15 != 75)\n",
    "\n",
    "# Comparison of strings\n",
    "print(\"pyscript\" == \"PyScript\")\n",
    "\n",
    "# Compare a boolean with an integer\n",
    "print(True == 1)"
   ]
  },
  {
   "cell_type": "code",
   "execution_count": 92,
   "metadata": {},
   "outputs": [
    {
     "name": "stdout",
     "output_type": "stream",
     "text": [
      "False\n",
      "True\n",
      "True\n"
     ]
    }
   ],
   "source": [
    "# Comparison of integers\n",
    "x = -3 * 6\n",
    "print(x >= -10)\n",
    "\n",
    "# Comparison of strings\n",
    "y = \"test\"\n",
    "print('test' <= y)\n",
    "\n",
    "# Comparison of booleans\n",
    "print(True > False)"
   ]
  },
  {
   "cell_type": "markdown",
   "metadata": {},
   "source": [
    "### Compare numpy arrays"
   ]
  },
  {
   "cell_type": "code",
   "execution_count": 93,
   "metadata": {},
   "outputs": [
    {
     "name": "stdout",
     "output_type": "stream",
     "text": [
      "[ True  True False False]\n",
      "[False  True  True False]\n"
     ]
    }
   ],
   "source": [
    "# Create arrays\n",
    "import numpy as np\n",
    "my_house = np.array([18.0, 20.0, 10.75, 9.50])\n",
    "your_house = np.array([14.0, 24.0, 14.25, 9.0])\n",
    "\n",
    "# Which areas in my_house are greater than or equal to 18?\n",
    "# my_house greater than or equal to 18\n",
    "print(my_house >= 18)\n",
    "\n",
    "# Which areas in my_house are smaller than the ones in your_house? \n",
    "# (element-wise comparison)\n",
    "# my_house less than your_house\n",
    "print(my_house < your_house)"
   ]
  },
  {
   "cell_type": "markdown",
   "metadata": {},
   "source": [
    "### Boolean Operators"
   ]
  },
  {
   "cell_type": "code",
   "execution_count": 94,
   "metadata": {},
   "outputs": [
    {
     "name": "stdout",
     "output_type": "stream",
     "text": [
      "False\n",
      "True\n",
      "True\n"
     ]
    }
   ],
   "source": [
    "# Define variables\n",
    "my_kitchen = 18.0\n",
    "your_kitchen = 14.0\n",
    "\n",
    "# my_kitchen bigger than 10 and smaller than 18?\n",
    "print(my_kitchen > 10 and my_kitchen < 18)\n",
    "\n",
    "# my_kitchen smaller than 14 or bigger than 17?\n",
    "print(my_kitchen < 14 or my_kitchen > 17)\n",
    "\n",
    "# Double my_kitchen smaller than triple your_kitchen?\n",
    "print(my_kitchen*2 < your_kitchen*3)"
   ]
  },
  {
   "cell_type": "markdown",
   "metadata": {},
   "source": [
    "### Boolean operators with Numpy\n",
    "\n",
    "Before, the operational operators like `<` and `>=` worked with Numpy arrays out of the box. Unfortunately, this is not true for the boolean operators `and`, `or`, and `not`.\n",
    "\n",
    "To use these operators with Numpy, you will need `np.logical_and()`, `np.logical_or()` and `np.logical_not()`. Here's an example on the my_house and your_house arrays from before to give you an idea:"
   ]
  },
  {
   "cell_type": "code",
   "execution_count": 95,
   "metadata": {},
   "outputs": [
    {
     "data": {
      "text/plain": [
       "array([ True, False,  True, False])"
      ]
     },
     "execution_count": 95,
     "metadata": {},
     "output_type": "execute_result"
    }
   ],
   "source": [
    "np.logical_and(your_house > 13, \n",
    "               your_house < 15)"
   ]
  },
  {
   "cell_type": "code",
   "execution_count": 96,
   "metadata": {},
   "outputs": [
    {
     "name": "stdout",
     "output_type": "stream",
     "text": [
      "[False  True False  True]\n",
      "[False False False  True]\n"
     ]
    }
   ],
   "source": [
    "# Create arrays\n",
    "import numpy as np\n",
    "my_house = np.array([18.0, 20.0, 10.75, 9.50])\n",
    "your_house = np.array([14.0, 24.0, 14.25, 9.0])\n",
    "\n",
    "# my_house greater than 18.5 or smaller than 10\n",
    "print(np.logical_or(my_house > 18.5, my_house < 10))\n",
    "\n",
    "# Both my_house and your_house smaller than 11\n",
    "print(np.logical_and(my_house < 11, your_house < 11))"
   ]
  },
  {
   "cell_type": "markdown",
   "metadata": {},
   "source": [
    "## Conditional Statements (if, elif, else)"
   ]
  },
  {
   "cell_type": "code",
   "execution_count": 97,
   "metadata": {},
   "outputs": [
    {
     "name": "stdout",
     "output_type": "stream",
     "text": [
      "medium\n"
     ]
    }
   ],
   "source": [
    "area = 10.0\n",
    "if(area < 9) :\n",
    "    print(\"small\")\n",
    "elif(area < 12) :\n",
    "    print(\"medium\")\n",
    "else :\n",
    "    print(\"large\")"
   ]
  },
  {
   "cell_type": "code",
   "execution_count": 98,
   "metadata": {},
   "outputs": [
    {
     "name": "stdout",
     "output_type": "stream",
     "text": [
      "looking around in the kitchen.\n"
     ]
    }
   ],
   "source": [
    "# Define variables\n",
    "room = \"kit\"\n",
    "area = 14.0\n",
    "\n",
    "# if statement for room\n",
    "if room == \"kit\" :\n",
    "    print(\"looking around in the kitchen.\")\n",
    "\n",
    "# if statement for area\n",
    "if area > 15 :\n",
    "    print(\"big place!\")"
   ]
  },
  {
   "cell_type": "code",
   "execution_count": 99,
   "metadata": {},
   "outputs": [
    {
     "name": "stdout",
     "output_type": "stream",
     "text": [
      "looking around in the kitchen.\n",
      "pretty small.\n"
     ]
    }
   ],
   "source": [
    "# Define variables\n",
    "room = \"kit\"\n",
    "area = 14.0\n",
    "\n",
    "# if-else construct for room\n",
    "if room == \"kit\" :\n",
    "    print(\"looking around in the kitchen.\")\n",
    "else :\n",
    "    print(\"looking around elsewhere.\")\n",
    "\n",
    "# if-else construct for area\n",
    "if area > 15 :\n",
    "    print(\"big place!\")\n",
    "else :\n",
    "    print(\"pretty small.\")"
   ]
  },
  {
   "cell_type": "code",
   "execution_count": 100,
   "metadata": {},
   "outputs": [
    {
     "name": "stdout",
     "output_type": "stream",
     "text": [
      "looking around in the bedroom.\n",
      "medium size, nice!\n"
     ]
    }
   ],
   "source": [
    "# Define variables\n",
    "room = \"bed\"\n",
    "area = 14.0\n",
    "\n",
    "# if-elif-else construct for room\n",
    "if room == \"kit\" :\n",
    "    print(\"looking around in the kitchen.\")\n",
    "elif room == \"bed\":\n",
    "    print(\"looking around in the bedroom.\")\n",
    "else :\n",
    "    print(\"looking around elsewhere.\")\n",
    "\n",
    "# if-elif-else construct for area\n",
    "if area > 15 :\n",
    "    print(\"big place!\")\n",
    "elif area > 10 :\n",
    "    print(\"medium size, nice!\")\n",
    "else :\n",
    "    print(\"pretty small.\")"
   ]
  },
  {
   "cell_type": "markdown",
   "metadata": {},
   "source": [
    "## Loops"
   ]
  },
  {
   "cell_type": "markdown",
   "metadata": {},
   "source": [
    "### while loop\n",
    "\n",
    "The while loop is like a repeated if statement. The code is executed over and over again, as long as the condition is True."
   ]
  },
  {
   "cell_type": "code",
   "execution_count": 101,
   "metadata": {},
   "outputs": [
    {
     "name": "stdout",
     "output_type": "stream",
     "text": [
      "1\n",
      "2\n",
      "3\n"
     ]
    }
   ],
   "source": [
    "x = 1\n",
    "while x < 4 :\n",
    "    print(x)\n",
    "    x = x + 1"
   ]
  },
  {
   "cell_type": "code",
   "execution_count": 102,
   "metadata": {},
   "outputs": [
    {
     "name": "stdout",
     "output_type": "stream",
     "text": [
      "12.5\n",
      "3.125\n",
      "0.78125\n"
     ]
    }
   ],
   "source": [
    "error = 50.0\n",
    "while error > 1 :\n",
    "    error = error / 4\n",
    "    print(error)"
   ]
  },
  {
   "cell_type": "markdown",
   "metadata": {},
   "source": [
    "### for loop"
   ]
  },
  {
   "cell_type": "code",
   "execution_count": 103,
   "metadata": {},
   "outputs": [
    {
     "name": "stdout",
     "output_type": "stream",
     "text": [
      "1.73\n",
      "1.68\n",
      "1.71\n",
      "1.89\n"
     ]
    }
   ],
   "source": [
    "fam = [1.73, 1.68, 1.71, 1.89]\n",
    "for height in fam : \n",
    "    print(height)"
   ]
  },
  {
   "cell_type": "markdown",
   "metadata": {},
   "source": [
    "Using a for loop to iterate over a list only gives you access to every list element in each run, one after the other. If you also want to **access the index information**, so where the list element you're iterating over is located, you can use `enumerate()`."
   ]
  },
  {
   "cell_type": "code",
   "execution_count": 104,
   "metadata": {},
   "outputs": [
    {
     "name": "stdout",
     "output_type": "stream",
     "text": [
      "person 0: 1.73\n",
      "person 1: 1.68\n",
      "person 2: 1.71\n",
      "person 3: 1.89\n"
     ]
    }
   ],
   "source": [
    "fam = [1.73, 1.68, 1.71, 1.89]\n",
    "for index, height in enumerate(fam) :\n",
    "    print(\"person \" + str(index) + \": \" + str(height))"
   ]
  },
  {
   "cell_type": "code",
   "execution_count": 105,
   "metadata": {},
   "outputs": [
    {
     "name": "stdout",
     "output_type": "stream",
     "text": [
      "the hallway is 11.25 sqm\n",
      "the kitchen is 18.0 sqm\n",
      "the living room is 20.0 sqm\n",
      "the bedroom is 10.75 sqm\n",
      "the bathroom is 9.5 sqm\n"
     ]
    }
   ],
   "source": [
    "# house list of lists\n",
    "house = [[\"hallway\", 11.25], \n",
    "         [\"kitchen\", 18.0], \n",
    "         [\"living room\", 20.0], \n",
    "         [\"bedroom\", 10.75], \n",
    "         [\"bathroom\", 9.50]]\n",
    "         \n",
    "# Build a for loop from scratch\n",
    "for room in house :\n",
    "    print(\"the \" + room[0] + \" is \" + str(room[1]) + \" sqm\")"
   ]
  },
  {
   "cell_type": "code",
   "execution_count": 106,
   "metadata": {},
   "outputs": [
    {
     "name": "stdout",
     "output_type": "stream",
     "text": [
      "H\n",
      "O\n",
      "U\n",
      "S\n",
      "E\n"
     ]
    }
   ],
   "source": [
    "string = \"house\"\n",
    "for c in string :\n",
    "    print(c.capitalize())"
   ]
  },
  {
   "cell_type": "markdown",
   "metadata": {},
   "source": [
    "### Loop over dictionary\n",
    "\n",
    "In Python 3, you need the `items()` method to loop over a dictionary. Important! **dictionaries are inherently unordered**:"
   ]
  },
  {
   "cell_type": "code",
   "execution_count": 107,
   "metadata": {},
   "outputs": [
    {
     "name": "stdout",
     "output_type": "stream",
     "text": [
      "afghanistan -- 30.55\n",
      "albania -- 2.77\n",
      "algeria -- 39.21\n"
     ]
    }
   ],
   "source": [
    "world = { \"afghanistan\":30.55, \n",
    "          \"albania\":2.77,\n",
    "          \"algeria\":39.21 }\n",
    "\n",
    "for key, value in world.items() :\n",
    "    print(key + \" -- \" + str(value))"
   ]
  },
  {
   "cell_type": "code",
   "execution_count": 108,
   "metadata": {},
   "outputs": [
    {
     "name": "stdout",
     "output_type": "stream",
     "text": [
      "the capital of spain is madrid\n",
      "the capital of france is paris\n",
      "the capital of germany is berlin\n",
      "the capital of norway is oslo\n",
      "the capital of italy is rome\n",
      "the capital of poland is warsaw\n",
      "the capital of austria is vienna\n"
     ]
    }
   ],
   "source": [
    "# Definition of dictionary\n",
    "europe = {'spain':'madrid', 'france':'paris', 'germany':'berlin',\n",
    "          'norway':'oslo', 'italy':'rome', 'poland':'warsaw', 'austria':'vienna' }\n",
    "          \n",
    "# Iterate over europe\n",
    "for k, v in europe.items() :\n",
    "    print(\"the capital of \" + k + \" is \" + v)"
   ]
  },
  {
   "cell_type": "markdown",
   "metadata": {},
   "source": [
    "### Loop over Numpy array\n",
    "\n",
    "If you're dealing with a **1D Numpy array**, looping over all elements can be as simple as:"
   ]
  },
  {
   "cell_type": "code",
   "execution_count": null,
   "metadata": {},
   "outputs": [],
   "source": [
    "for x in my_array :\n",
    "    ..."
   ]
  },
  {
   "cell_type": "markdown",
   "metadata": {},
   "source": [
    "If you're dealing with a **2D Numpy array**, it's more complicated. A 2D array is built up of multiple 1D arrays. To explicitly iterate over all separate elements of a multi-dimensional array, you'll need this syntax:"
   ]
  },
  {
   "cell_type": "code",
   "execution_count": null,
   "metadata": {},
   "outputs": [],
   "source": [
    "for x in np.nditer(my_array) :\n",
    "    ..."
   ]
  },
  {
   "cell_type": "code",
   "execution_count": 112,
   "metadata": {},
   "outputs": [
    {
     "name": "stdout",
     "output_type": "stream",
     "text": [
      "74.0 inches\n",
      "74.0 inches\n",
      "72.0 inches\n",
      "72.0 inches\n",
      "73.0 inches\n",
      "69.0 inches\n",
      "69.0 inches\n",
      "71.0 inches\n",
      "76.0 inches\n",
      "71.0 inches\n"
     ]
    }
   ],
   "source": [
    "# Import numpy as np\n",
    "import numpy as np\n",
    "\n",
    "np_height = np_height_in[:10]\n",
    "\n",
    "# For loop over np_height\n",
    "for x in np_height :\n",
    "    print(str(x) + \" inches\")"
   ]
  },
  {
   "cell_type": "code",
   "execution_count": 114,
   "metadata": {},
   "outputs": [
    {
     "name": "stdout",
     "output_type": "stream",
     "text": [
      "[ 74.   180.    22.99]\n",
      "[ 74.   215.    34.69]\n",
      "[ 72.   210.    30.78]\n",
      "[ 72.   210.    35.43]\n",
      "[ 73.   188.    35.71]\n",
      "\n",
      "74.0\n",
      "180.0\n",
      "22.99\n",
      "74.0\n",
      "215.0\n",
      "34.69\n",
      "72.0\n",
      "210.0\n",
      "30.78\n",
      "72.0\n",
      "210.0\n",
      "35.43\n",
      "73.0\n",
      "188.0\n",
      "35.71\n"
     ]
    }
   ],
   "source": [
    "np_bsbl = np_baseball[:5]\n",
    "\n",
    "# For loop over np_baseball\n",
    "for x in np_bsbl :\n",
    "    print(x)\n",
    "\n",
    "print()\n",
    "\n",
    "# For loop over np_baseball\n",
    "for x in np.nditer(np_bsbl) :\n",
    "    print(x)"
   ]
  },
  {
   "cell_type": "markdown",
   "metadata": {},
   "source": [
    "## Random Numbers"
   ]
  },
  {
   "cell_type": "code",
   "execution_count": null,
   "metadata": {},
   "outputs": [],
   "source": []
  },
  {
   "cell_type": "code",
   "execution_count": null,
   "metadata": {},
   "outputs": [],
   "source": []
  },
  {
   "cell_type": "code",
   "execution_count": null,
   "metadata": {},
   "outputs": [],
   "source": []
  },
  {
   "cell_type": "code",
   "execution_count": null,
   "metadata": {},
   "outputs": [],
   "source": []
  },
  {
   "cell_type": "code",
   "execution_count": null,
   "metadata": {},
   "outputs": [],
   "source": []
  },
  {
   "cell_type": "code",
   "execution_count": null,
   "metadata": {},
   "outputs": [],
   "source": []
  },
  {
   "cell_type": "code",
   "execution_count": null,
   "metadata": {},
   "outputs": [],
   "source": []
  },
  {
   "cell_type": "code",
   "execution_count": null,
   "metadata": {},
   "outputs": [],
   "source": []
  },
  {
   "cell_type": "code",
   "execution_count": null,
   "metadata": {},
   "outputs": [],
   "source": []
  },
  {
   "cell_type": "code",
   "execution_count": null,
   "metadata": {},
   "outputs": [],
   "source": []
  }
 ],
 "metadata": {
  "kernelspec": {
   "display_name": "Python 3",
   "language": "python",
   "name": "python3"
  },
  "language_info": {
   "codemirror_mode": {
    "name": "ipython",
    "version": 3
   },
   "file_extension": ".py",
   "mimetype": "text/x-python",
   "name": "python",
   "nbconvert_exporter": "python",
   "pygments_lexer": "ipython3",
   "version": "3.7.1"
  }
 },
 "nbformat": 4,
 "nbformat_minor": 2
}

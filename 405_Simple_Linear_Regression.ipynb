{
 "cells": [
  {
   "cell_type": "markdown",
   "metadata": {},
   "source": [
    "# Simple Linear Regression"
   ]
  },
  {
   "cell_type": "markdown",
   "metadata": {},
   "source": [
    "We use `simple linear regression` where we want to understand the nature of the linear relationship between two independent variables."
   ]
  },
  {
   "cell_type": "markdown",
   "metadata": {},
   "source": [
    "## The Model"
   ]
  },
  {
   "cell_type": "markdown",
   "metadata": {},
   "source": [
    "We assume that having more friends causes people to spend more time on communicating with them. Build a model describing this relationship.\n",
    "\n",
    "<img src=\"images/simplel_linear_regression1.png\" alt=\"\" style=\"width: 600px;\"/>"
   ]
  },
  {
   "cell_type": "code",
   "execution_count": 2,
   "metadata": {},
   "outputs": [],
   "source": [
    "def predict(alpha: float, beta: float, x_i: float) -> float:\n",
    "    return beta * x_i + alpha"
   ]
  },
  {
   "cell_type": "markdown",
   "metadata": {},
   "source": [
    "How do we choose `alpha` and `beta`? Any choice of `alpha` and `beta` gives us a predicted output for each input `x_i`. Since we know the actual output `y_i` we can compute the `error` for each pair:"
   ]
  },
  {
   "cell_type": "code",
   "execution_count": 5,
   "metadata": {},
   "outputs": [],
   "source": [
    "def error(alpha: float, beta: float, x_i: float, y_i: float) -> float:\n",
    "    '''the error from predicting beta * x_i + alpha when the actual value is y_i'''\n",
    "    return y_i - predict(alpha, beta, x_i)"
   ]
  },
  {
   "cell_type": "markdown",
   "metadata": {},
   "source": [
    "What we’d really like to know is the `total error` over the entire data set. But we don’t want to just add the `errors` — if the prediction for `x_1` is too high and the prediction for `x_2` is too low, the errors may just cancel out. So instead we add up the `squared errors`:"
   ]
  },
  {
   "cell_type": "code",
   "execution_count": 6,
   "metadata": {},
   "outputs": [],
   "source": [
    "from scratch.linear_algebra import Vector\n",
    "\n",
    "def sum_of_sqerrors(alpha: float, beta: float, x: Vector, y: Vector) -> float:\n",
    "    return sum(error(alpha, beta, x_i, y_i)**2\n",
    "              for x_i, y_i in zip(x, y))"
   ]
  },
  {
   "cell_type": "markdown",
   "metadata": {},
   "source": [
    "The `least squares solution` is to choose the `alpha` and `beta` that make `sum_of_sqerrors` as small as possible. The error-minimizing `alpha` and `beta` are given by:"
   ]
  },
  {
   "cell_type": "code",
   "execution_count": 9,
   "metadata": {},
   "outputs": [],
   "source": [
    "from typing import Tuple\n",
    "from scratch.linear_algebra import Vector\n",
    "from scratch.statistics import correlation, standard_deviation, mean\n",
    "\n",
    "def least_squares_fit(x: Vector, y: Vector) -> Tuple[float, float]:\n",
    "    '''given training values for x and y, find the least-squares values of alpha and beta'''\n",
    "    beta = correlation(x, y) * standard_deviation(y) / standard_deviation(x)\n",
    "    alpha = mean(y) - beta * mean(x)\n",
    "    return alpha, beta"
   ]
  },
  {
   "cell_type": "code",
   "execution_count": 10,
   "metadata": {},
   "outputs": [
    {
     "data": {
      "text/plain": [
       "([-100,\n",
       "  -90,\n",
       "  -80,\n",
       "  -70,\n",
       "  -60,\n",
       "  -50,\n",
       "  -40,\n",
       "  -30,\n",
       "  -20,\n",
       "  -10,\n",
       "  0,\n",
       "  10,\n",
       "  20,\n",
       "  30,\n",
       "  40,\n",
       "  50,\n",
       "  60,\n",
       "  70,\n",
       "  80,\n",
       "  90,\n",
       "  100],\n",
       " [-305,\n",
       "  -275,\n",
       "  -245,\n",
       "  -215,\n",
       "  -185,\n",
       "  -155,\n",
       "  -125,\n",
       "  -95,\n",
       "  -65,\n",
       "  -35,\n",
       "  -5,\n",
       "  25,\n",
       "  55,\n",
       "  85,\n",
       "  115,\n",
       "  145,\n",
       "  175,\n",
       "  205,\n",
       "  235,\n",
       "  265,\n",
       "  295])"
      ]
     },
     "execution_count": 10,
     "metadata": {},
     "output_type": "execute_result"
    }
   ],
   "source": [
    "# Test\n",
    "x = [i for i in range(-100, 110, 10)]\n",
    "y = [3 * i - 5 for i in x]\n",
    "x, y"
   ]
  },
  {
   "cell_type": "code",
   "execution_count": 12,
   "metadata": {},
   "outputs": [],
   "source": [
    "# Should find that y = 3x - 5\n",
    "assert least_squares_fit(x, y) == (-5, 3)"
   ]
  },
  {
   "cell_type": "code",
   "execution_count": 15,
   "metadata": {},
   "outputs": [
    {
     "data": {
      "text/plain": [
       "([49, 41, 40, 25, 21, 21, 19, 19, 18, 18],\n",
       " [68.77, 51.25, 52.08, 38.36, 44.54, 57.13, 51.4, 41.42, 31.22, 34.76])"
      ]
     },
     "execution_count": 15,
     "metadata": {},
     "output_type": "execute_result"
    }
   ],
   "source": [
    "from scratch.statistics import num_friends_good, daily_minutes_good\n",
    "\n",
    "num_friends_good[:10], daily_minutes_good[:10]"
   ]
  },
  {
   "cell_type": "code",
   "execution_count": 16,
   "metadata": {},
   "outputs": [
    {
     "data": {
      "text/plain": [
       "(22.94755241346903, 0.903865945605865)"
      ]
     },
     "execution_count": 16,
     "metadata": {},
     "output_type": "execute_result"
    }
   ],
   "source": [
    "alpha, beta = least_squares_fit(num_friends_good, daily_minutes_good)\n",
    "alpha, beta"
   ]
  },
  {
   "cell_type": "code",
   "execution_count": 90,
   "metadata": {},
   "outputs": [],
   "source": [
    "from typing import List\n",
    "\n",
    "def predict_y(xs: List[float], alpha: float, beta: float) -> List[float]:\n",
    "    return [beta*x+alpha for x in xs]"
   ]
  },
  {
   "cell_type": "code",
   "execution_count": 93,
   "metadata": {},
   "outputs": [],
   "source": [
    "# Plot the data\n",
    "\n",
    "import matplotlib.pyplot as plt\n",
    "%matplotlib inline\n",
    "\n",
    "def plot_slr(xs, ys, xlabel, ylabel):\n",
    "    \n",
    "    alpha, beta = least_squares_fit(xs, ys)\n",
    "    y = predict_y(xs, alpha, beta)\n",
    "        \n",
    "    plt.figure(figsize=(10,8))\n",
    "\n",
    "    label = f\"y = {beta:.2f}*x + {alpha:.2f}\"\n",
    "    plt.scatter(xs, ys)\n",
    "    plt.plot(xs, y, '-r', label=label)\n",
    "\n",
    "    plt.title(\"Simple Linear Regression Model\")\n",
    "    plt.xlabel(xlabel)\n",
    "    plt.ylabel(ylabel)\n",
    "    plt.legend(loc=9)\n",
    "    plt.savefig('images/slr.png')\n",
    "    plt.show()"
   ]
  },
  {
   "cell_type": "code",
   "execution_count": 94,
   "metadata": {},
   "outputs": [
    {
     "data": {
      "image/png": "[encoded data removed]",
      "text/plain": [
       "<Figure size 720x576 with 1 Axes>"
      ]
     },
     "metadata": {
      "needs_background": "light"
     },
     "output_type": "display_data"
    }
   ],
   "source": [
    "plot_slr(num_friends_good, daily_minutes_good, \"Number of Friends\", \"Minutes per Day on Site\")"
   ]
  },
  {
   "cell_type": "markdown",
   "metadata": {},
   "source": [
    "This gives values of `alpha` = 22.95 and `beta` = 0.903. So our model says that `we expect a user with n friends to spend 22.95 + n * 0.903 minutes on communicating each day`. That is, we predict that a user with no friends would still spend about 23 minutes a day on the site. And for each additional friend, we expect a user to spend almost a minute more on the site each day."
   ]
  },
  {
   "cell_type": "markdown",
   "metadata": {},
   "source": [
    "## R-squared (Coefficient of Determination)\n",
    "Measures the fraction of the total variation in the dependent variable that is captured by the model."
   ]
  },
  {
   "cell_type": "code",
   "execution_count": 46,
   "metadata": {},
   "outputs": [
    {
     "data": {
      "text/plain": [
       "0.3291078377836305"
      ]
     },
     "execution_count": 46,
     "metadata": {},
     "output_type": "execute_result"
    }
   ],
   "source": [
    "from scratch.statistics import de_mean\n",
    "\n",
    "def total_sum_of_squares(y):\n",
    "    '''the total squared variation of y_i's from their mean''' \n",
    "    return sum(v ** 2 for v in de_mean(y))\n",
    "\n",
    "def r_squared(alpha, beta, x, y):\n",
    "    '''the fraction of variation in y captured by the model, which equals\n",
    "        1 - the fraction of variation in y not captured by the model'''\n",
    "    return 1.0 - (sum_of_sqerrors(alpha, beta, x, y) / total_sum_of_squares(y))\n",
    "\n",
    "r_squared(alpha, beta, num_friends_good, daily_minutes_good) # 0.329"
   ]
  },
  {
   "cell_type": "markdown",
   "metadata": {},
   "source": [
    "R-squared of 0 indicates a model that performs no better than just predicting the mean. Our model is only a sort of okay at fitting the data, and there are clearly other factors at play."
   ]
  },
  {
   "cell_type": "markdown",
   "metadata": {},
   "source": [
    "Linear regression assumes normality for the residual errors `epsilon`, which represent variation in `y` which is not explained by the predictors."
   ]
  },
  {
   "cell_type": "code",
   "execution_count": 84,
   "metadata": {},
   "outputs": [
    {
     "data": {
      "text/plain": [
       "[1.533016251843577,\n",
       " -8.756056183309497,\n",
       " -7.022190237703626,\n",
       " -7.184201053615652,\n",
       " 2.6112627288078087,\n",
       " 15.201262728807812,\n",
       " 11.278994620019539,\n",
       " 1.298994620019542,\n",
       " -7.997139434374603,\n",
       " -4.457139434374604]"
      ]
     },
     "execution_count": 84,
     "metadata": {},
     "output_type": "execute_result"
    }
   ],
   "source": [
    "alpha, beta = least_squares_fit(num_friends_good, daily_minutes_good)\n",
    "errors = [error(alpha, beta, x_i, y_i) for (x_i, y_i) in zip(num_friends_good, daily_minutes_good)]\n",
    "errors[:10]"
   ]
  },
  {
   "cell_type": "code",
   "execution_count": 95,
   "metadata": {},
   "outputs": [
    {
     "data": {
      "text/plain": [
       "Text(0.5, 1.0, 'residuals')"
      ]
     },
     "execution_count": 95,
     "metadata": {},
     "output_type": "execute_result"
    },
    {
     "data": {
      "image/png": "[encoded data removed]",
      "text/plain": [
       "<Figure size 432x288 with 1 Axes>"
      ]
     },
     "metadata": {
      "needs_background": "light"
     },
     "output_type": "display_data"
    }
   ],
   "source": [
    "# plot the residual errors\n",
    "#residuals = lr_predicted_y - data['y']\n",
    "\n",
    "alpha, beta = least_squares_fit(num_friends_good, daily_minutes_good)\n",
    "predicted_y = predict_y(num_friends_good, alpha, beta)\n",
    "\n",
    "plt.scatter(x=predicted_y, y=errors)\n",
    "plt.title('residuals')"
   ]
  },
  {
   "cell_type": "code",
   "execution_count": 99,
   "metadata": {},
   "outputs": [
    {
     "data": {
      "image/png": "[encoded data removed]",
      "text/plain": [
       "<Figure size 432x288 with 1 Axes>"
      ]
     },
     "metadata": {
      "needs_background": "light"
     },
     "output_type": "display_data"
    }
   ],
   "source": [
    "# Residuals should have normal distribution, it can be verified using QQ-plot\n",
    "from scipy.stats import probplot\n",
    "\n",
    "probplot(errors, plot=plt);"
   ]
  },
  {
   "cell_type": "code",
   "execution_count": 81,
   "metadata": {},
   "outputs": [
    {
     "data": {
      "text/plain": [
       "Counter({1.0: 11,\n",
       "         -9.0: 11,\n",
       "         -8.0: 8,\n",
       "         2.0: 7,\n",
       "         10: 23,\n",
       "         -5.0: 9,\n",
       "         5.0: 7,\n",
       "         -7.0: 10,\n",
       "         0.0: 5,\n",
       "         -1.0: 15,\n",
       "         7.0: 13,\n",
       "         8.0: 3,\n",
       "         4.0: 2,\n",
       "         -12.0: 7,\n",
       "         -11.0: 3,\n",
       "         -6.0: 3,\n",
       "         -2.0: 8,\n",
       "         -10.0: 5,\n",
       "         -4.0: 5,\n",
       "         9.0: 10,\n",
       "         -13.0: 6,\n",
       "         3.0: 8,\n",
       "         6.0: 10,\n",
       "         -15.0: 3,\n",
       "         -16.0: 3,\n",
       "         -3.0: 5,\n",
       "         -14.0: 3})"
      ]
     },
     "execution_count": 81,
     "metadata": {},
     "output_type": "execute_result"
    }
   ],
   "source": [
    "from collections import Counter\n",
    "histogram = Counter(min(error // 1 * 1, 10) for error in errors)\n",
    "histogram"
   ]
  },
  {
   "cell_type": "code",
   "execution_count": 83,
   "metadata": {},
   "outputs": [
    {
     "data": {
      "image/png": "[encoded data removed]",
      "text/plain": [
       "<Figure size 432x288 with 1 Axes>"
      ]
     },
     "metadata": {
      "needs_background": "light"
     },
     "output_type": "display_data"
    }
   ],
   "source": [
    "plt.bar([x + 5 for x in histogram.keys()],  # Shift bars right by 5\n",
    "        histogram.values(),                 # Give each bar its correct height\n",
    "        10,                                 # Give each bar a width of 10\n",
    "        edgecolor=(0, 0, 0))                # Black edges for each bar\n",
    "\n",
    "#plt.axis([-5, 105, 0, 5])                  # x-axis from -5 to 105,\n",
    "                                           # y-axis from 0 to 5\n",
    "\n",
    "plt.xticks([10 * i for i in range(11)])    # x-axis labels at 0, 10, ..., 100\n",
    "plt.xlabel(\"Decile\")\n",
    "plt.ylabel(\"# of Students\")\n",
    "plt.title(\"Distribution of Exam 1 Grades\")\n",
    "plt.savefig('images/slr2.png')\n",
    "plt.show();"
   ]
  },
  {
   "cell_type": "markdown",
   "metadata": {},
   "source": [
    "## Using Gradient Descent\n",
    "If we write `theta = [alpha, beta]`, we can solve the problem using `gradient descent`:"
   ]
  },
  {
   "cell_type": "code",
   "execution_count": 64,
   "metadata": {},
   "outputs": [],
   "source": [
    "import random\n",
    "import tqdm\n",
    "from scratch.gradient_descent import gradient_step\n",
    "\n",
    "num_epochs = 10_000\n",
    "random.seed(0)\n",
    "\n",
    "# choose random value to start\n",
    "guess = [random.random(), random.random()]\n",
    "\n",
    "learning_rate = 0.00001"
   ]
  },
  {
   "cell_type": "code",
   "execution_count": 65,
   "metadata": {},
   "outputs": [
    {
     "name": "stderr",
     "output_type": "stream",
     "text": [
      "loss: inf: 100%|██████████| 10000/10000 [00:11<00:00, 900.03it/s]\n"
     ]
    }
   ],
   "source": [
    "with tqdm.trange(num_epochs) as t:\n",
    "    for _ in t:\n",
    "        alpha, beta = guess\n",
    "        \n",
    "        # partial derivative of loss with respect to alpha\n",
    "        grad_a = sum(2 * error(alpha, beta, x_i, y_i)\n",
    "                    for x_i, y_i in zip(num_friends_good, daily_minutes_good))\n",
    "        \n",
    "        # partial derivative of loss with respect to beta\n",
    "        grad_b = sum(2 * error(alpha, beta, x_i, y_i) * x_i\n",
    "                    for x_i, y_i in zip(num_friends_good, daily_minutes_good))\n",
    "        \n",
    "        # compiute loss to stick in the tqdm description\n",
    "        #loss = sum_of_sqerrors(alpha, beta, num_friends_good, daily_minutes_good)\n",
    "        t.set_description(f\"loss: {loss:.3f}\")\n",
    "                          \n",
    "        # update the guess\n",
    "        guess = gradient_step(guess, [grad_a, grad_b], -learning_rate)"
   ]
  },
  {
   "cell_type": "code",
   "execution_count": 66,
   "metadata": {},
   "outputs": [
    {
     "data": {
      "text/plain": [
       "(-inf, -inf)"
      ]
     },
     "execution_count": 66,
     "metadata": {},
     "output_type": "execute_result"
    }
   ],
   "source": [
    "alpha, beta = guess\n",
    "alpha, beta"
   ]
  },
  {
   "cell_type": "code",
   "execution_count": null,
   "metadata": {},
   "outputs": [],
   "source": []
  },
  {
   "cell_type": "code",
   "execution_count": null,
   "metadata": {},
   "outputs": [],
   "source": []
  },
  {
   "cell_type": "code",
   "execution_count": null,
   "metadata": {},
   "outputs": [],
   "source": []
  },
  {
   "cell_type": "code",
   "execution_count": null,
   "metadata": {},
   "outputs": [],
   "source": []
  }
 ],
 "metadata": {
  "kernelspec": {
   "display_name": "Python 3",
   "language": "python",
   "name": "python3"
  },
  "language_info": {
   "codemirror_mode": {
    "name": "ipython",
    "version": 3
   },
   "file_extension": ".py",
   "mimetype": "text/x-python",
   "name": "python",
   "nbconvert_exporter": "python",
   "pygments_lexer": "ipython3",
   "version": "3.7.1"
  }
 },
 "nbformat": 4,
 "nbformat_minor": 2
}

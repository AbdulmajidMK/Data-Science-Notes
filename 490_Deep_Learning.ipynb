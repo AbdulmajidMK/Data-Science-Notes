{
 "cells": [
  {
   "cell_type": "markdown",
   "metadata": {},
   "source": [
    "# Deep Learning\n",
    "\n",
    "**Deep learning** is the machine learning technique behind the most exciting capabilities in diverse areas like robotics, natural language processing, image recognition, and artificial intelligence, including the famous AlphaGo. In this notebook, you'll gain hands-on, practical knowledge of how to use deep learning with **Keras 2.0**, the latest version of a cutting-edge library for deep learning in Python."
   ]
  },
  {
   "cell_type": "code",
   "execution_count": 1,
   "metadata": {},
   "outputs": [],
   "source": [
    "import numpy as np\n",
    "import pandas as pd\n",
    "import matplotlib.pyplot as plt\n",
    "%matplotlib inline\n",
    "import seaborn as sns\n",
    "\n",
    "path = 'data/dc22/'"
   ]
  },
  {
   "cell_type": "markdown",
   "metadata": {},
   "source": [
    "## Coding the forward propagation algorithm\n",
    "\n",
    "In this exercise, you'll write code to do **forward propagation (prediction)** for your first neural network:\n",
    "\n",
    "<img src=\"images/deep_learning01.png\" alt=\"\" style=\"width: 400px;\"/>\n",
    "\n",
    "Each data point is a customer. The first input is how many accounts they have, and the second input is how many children they have. The model will predict how many transactions the user makes in the next year.\n",
    "\n",
    "The input data has been pre-loaded as `input_data`, and the weights are available in a dictionary called `weights`. The array of weights for the first node in the hidden layer are in `weights['node_0']`, and the array of weights for the second node in the hidden layer are in `weights['node_1']`.\n",
    "\n",
    "The weights feeding into the output node are available in `weights['output']`.\n",
    "\n",
    "NumPy will be pre-imported for you as np in all exercises."
   ]
  },
  {
   "cell_type": "code",
   "execution_count": 11,
   "metadata": {},
   "outputs": [],
   "source": [
    "input_data = np.array([3, 5])\n",
    "weights = {'output': np.array([2, 7]), \n",
    "           'node_0': np.array([2, 4]), \n",
    "           'node_1': np.array([ 4, -5])}"
   ]
  },
  {
   "cell_type": "code",
   "execution_count": 9,
   "metadata": {},
   "outputs": [
    {
     "data": {
      "text/plain": [
       "array([2, 4])"
      ]
     },
     "execution_count": 9,
     "metadata": {},
     "output_type": "execute_result"
    }
   ],
   "source": [
    "weights['node_0']"
   ]
  },
  {
   "cell_type": "code",
   "execution_count": 10,
   "metadata": {},
   "outputs": [
    {
     "name": "stdout",
     "output_type": "stream",
     "text": [
      "-39\n"
     ]
    }
   ],
   "source": [
    "# Calculate node 0 value: node_0_value (dot product of inputs)\n",
    "node_0_value = (input_data * weights['node_0']).sum()\n",
    "\n",
    "# Calculate node 1 value: node_1_value\n",
    "node_1_value = (input_data * weights['node_1']).sum()\n",
    "\n",
    "# Put node values into array: hidden_layer_outputs\n",
    "hidden_layer_outputs = np.array([node_0_value, node_1_value])\n",
    "\n",
    "# Calculate output: output\n",
    "output = (hidden_layer_outputs * weights['output']).sum()\n",
    "\n",
    "# Print output\n",
    "print(output)"
   ]
  },
  {
   "cell_type": "markdown",
   "metadata": {},
   "source": [
    "## The Rectified Linear Activation Function\n",
    "\n",
    "An **\"activation function\"** is a function applied at each node. It converts the node's input into some output.\n",
    "\n",
    "The **rectified linear activation function (called ReLU)** has been shown to lead to very high-performance networks. This function takes a single number as an input, returning 0 if the input is negative, and the input if the input is positive.\n",
    "\n",
    "<img src=\"images/deep_learning02.png\" alt=\"\" style=\"width: 400px;\"/>\n",
    "\n",
    "Here are some examples:\n",
    "- `relu(3) = 3`\n",
    "- `relu(-3) = 0`"
   ]
  },
  {
   "cell_type": "code",
   "execution_count": 12,
   "metadata": {},
   "outputs": [
    {
     "name": "stdout",
     "output_type": "stream",
     "text": [
      "52\n"
     ]
    }
   ],
   "source": [
    "def relu(input):\n",
    "    '''Define your relu activation function here'''\n",
    "    # Calculate the value for the output of the relu function: output\n",
    "    output = max(input, 0)\n",
    "    \n",
    "    # Return the value just calculated\n",
    "    return(output)\n",
    "\n",
    "# Calculate node 0 value: node_0_output\n",
    "node_0_input = (input_data * weights['node_0']).sum()\n",
    "node_0_output = relu(node_0_input)\n",
    "\n",
    "# Calculate node 1 value: node_1_output\n",
    "node_1_input = (input_data * weights['node_1']).sum()\n",
    "node_1_output = relu(node_1_input)\n",
    "\n",
    "# Put node values into array: hidden_layer_outputs\n",
    "hidden_layer_outputs = np.array([node_0_output, node_1_output])\n",
    "\n",
    "# Calculate model output (do not apply relu)\n",
    "model_output = (hidden_layer_outputs * weights['output']).sum()\n",
    "\n",
    "# Print model output\n",
    "print(model_output)"
   ]
  },
  {
   "cell_type": "markdown",
   "metadata": {},
   "source": [
    "You predicted 52 transactions. Without this activation function, you would have predicted a negative number! The real power of activation functions will come soon when you start tuning model weights."
   ]
  },
  {
   "cell_type": "markdown",
   "metadata": {},
   "source": [
    "## Applying the network to many observations/rows of data\n",
    "\n",
    "You'll now define a function called `predict_with_network()` which will generate predictions for multiple data observations, which are pre-loaded as `input_data`. As before, `weights` are also pre-loaded. In addition, the `relu()` function you defined in the previous exercise has been pre-loaded."
   ]
  },
  {
   "cell_type": "code",
   "execution_count": 13,
   "metadata": {},
   "outputs": [],
   "source": [
    "input_data = [np.array([3, 5]), np.array([ 1, -1]), np.array([0, 0]), np.array([8, 4])]\n",
    "weights = {'node_0': np.array([2, 4]), \n",
    "           'node_1': np.array([ 4, -5]), \n",
    "           'output': np.array([2, 7])}"
   ]
  },
  {
   "cell_type": "code",
   "execution_count": 14,
   "metadata": {},
   "outputs": [
    {
     "name": "stdout",
     "output_type": "stream",
     "text": [
      "[52, 63, 0, 148]\n"
     ]
    }
   ],
   "source": [
    "# Define predict_with_network()\n",
    "def predict_with_network(input_data_row, weights):\n",
    "\n",
    "    # Calculate node 0 value\n",
    "    node_0_input = (input_data_row * weights['node_0']).sum()\n",
    "    node_0_output = relu(node_0_input)\n",
    "\n",
    "    # Calculate node 1 value\n",
    "    node_1_input = (input_data_row * weights['node_1']).sum()\n",
    "    node_1_output = relu(node_1_input)\n",
    "\n",
    "    # Put node values into array: hidden_layer_outputs\n",
    "    hidden_layer_outputs = np.array([node_0_output, node_1_output])\n",
    "    \n",
    "    # Calculate model output\n",
    "    input_to_final_layer = (hidden_layer_outputs * weights['output']).sum()\n",
    "    model_output = relu(input_to_final_layer)\n",
    "    \n",
    "    # Return model output\n",
    "    return(model_output)\n",
    "\n",
    "\n",
    "# Create empty list to store prediction results\n",
    "results = []\n",
    "for input_data_row in input_data:\n",
    "    # Append prediction to results\n",
    "    results.append(predict_with_network(input_data_row, weights))\n",
    "\n",
    "# Print results\n",
    "print(results)"
   ]
  },
  {
   "cell_type": "markdown",
   "metadata": {},
   "source": [
    "## Forward propagation in a deeper network\n",
    "\n",
    "<img src=\"images/deep_learning03.png\" alt=\"\" style=\"width: 400px;\"/>\n",
    "\n",
    "You now have a model with 2 hidden layers. The values for an input data point are shown inside the input nodes. The weights are shown on the edges/lines. What prediction would this model make on this data point?\n",
    "\n",
    "Assume the **activation function** at each node is the **identity function**. That is, each node's output will be the same as its input. So the value of the bottom node in the first hidden layer is -1, and not 0, as it would be if the ReLU activation function was used.\n",
    "\n",
    "<img src=\"images/deep_learning04.png\" alt=\"\" style=\"width: 400px;\"/>\n"
   ]
  },
  {
   "cell_type": "code",
   "execution_count": 30,
   "metadata": {},
   "outputs": [],
   "source": [
    "input_data = np.array([1, 1])\n",
    "weights = {'node_0': np.array([ 2, 4]), \n",
    "           'node_1': np.array([ 4, -5]), \n",
    "           'node_2': np.array([ 0, 1]),\n",
    "           'node_3': np.array([ 1, 1]),\n",
    "           'output': np.array([ 5, 1])}"
   ]
  },
  {
   "cell_type": "code",
   "execution_count": 31,
   "metadata": {},
   "outputs": [
    {
     "name": "stdout",
     "output_type": "stream",
     "text": [
      "6\n",
      "-1\n",
      "[ 6 -1]\n",
      "-1\n",
      "5\n",
      "[-1  5]\n",
      "0\n"
     ]
    }
   ],
   "source": [
    "node_0_output = (input_data * weights['node_0']).sum()\n",
    "print(node_0_output)\n",
    "node_1_output = (input_data * weights['node_1']).sum()\n",
    "print(node_1_output)\n",
    "layer_outputs = np.array([node_0_output, node_1_output])\n",
    "print(layer_outputs)\n",
    "\n",
    "node_2_output = (layer_outputs * weights['node_2']).sum()\n",
    "print(node_2_output)\n",
    "node_3_output = (layer_outputs * weights['node_3']).sum()\n",
    "print(node_3_output)\n",
    "layer_outputs = np.array([node_2_output, node_3_output])\n",
    "print(layer_outputs)\n",
    "\n",
    "# Put node values into array: hidden_layer_outputs\n",
    "hidden_layer_outputs = layer_outputs\n",
    "\n",
    "# Calculate model output (do not apply relu)\n",
    "model_output = (hidden_layer_outputs * weights['output']).sum()\n",
    "\n",
    "# Print model output\n",
    "print(model_output)"
   ]
  },
  {
   "cell_type": "markdown",
   "metadata": {},
   "source": [
    "## Multi-layer neural networks\n",
    "\n",
    "In this exercise, you'll write code to do **forward propagation** for a neural network with 2 hidden layers. Each hidden layer has two nodes. The input data has been preloaded as `input_data`. The nodes in the first hidden layer are called `node_0_0` and `node_0_1`. Their weights are pre-loaded as `weights['node_0_0']` and `weights['node_0_1']` respectively.\n",
    "\n",
    "The nodes in the second hidden layer are called `node_1_0` and `node_1_1`. Their weights are pre-loaded as `weights['node_1_0']` and `weights['node_1_1']` respectively.\n",
    "\n",
    "We then create a model output from the hidden nodes using weights pre-loaded as `weights['output']`.\n",
    "\n",
    "<img src=\"images/deep_learning05.png\" alt=\"\" style=\"width: 400px;\"/>\n"
   ]
  },
  {
   "cell_type": "code",
   "execution_count": 44,
   "metadata": {},
   "outputs": [],
   "source": [
    "input_data = np.array([3, 5])\n",
    "weights = {'node_0_0': np.array([2, 4]),\n",
    "           'node_0_1': np.array([ 4, -5]),\n",
    "           'node_1_0': np.array([-1,  2]),\n",
    "           'node_1_1': np.array([1, 2]),\n",
    "           'output': np.array([2, 7])}"
   ]
  },
  {
   "cell_type": "code",
   "execution_count": 45,
   "metadata": {},
   "outputs": [
    {
     "name": "stdout",
     "output_type": "stream",
     "text": [
      "182\n"
     ]
    }
   ],
   "source": [
    "def predict_with_network(input_data, weights):\n",
    "    # Calculate node 0 in the first hidden layer\n",
    "    node_0_0_input = (input_data * weights['node_0_0']).sum()\n",
    "    node_0_0_output = relu(node_0_0_input)\n",
    "\n",
    "    # Calculate node 1 in the first hidden layer\n",
    "    node_0_1_input = (input_data * weights['node_0_1']).sum()\n",
    "    node_0_1_output = relu(node_0_1_input)\n",
    "\n",
    "    # Put node values into array: hidden_0_outputs\n",
    "    hidden_0_outputs = np.array([node_0_0_output, node_0_1_output])\n",
    "    \n",
    "    # Calculate node 0 in the second hidden layer\n",
    "    node_1_0_input = (hidden_0_outputs * weights['node_1_0']).sum()\n",
    "    node_1_0_output = relu(node_1_0_input)\n",
    "\n",
    "    # Calculate node 1 in the second hidden layer\n",
    "    node_1_1_input = (hidden_0_outputs * weights['node_1_1']).sum()\n",
    "    node_1_1_output = relu(node_1_1_input)\n",
    "\n",
    "    # Put node values into array: hidden_1_outputs\n",
    "    hidden_1_outputs = np.array([node_1_0_output, node_1_1_output])\n",
    "\n",
    "    # Calculate model output: model_output\n",
    "    model_output = relu((hidden_1_outputs * weights['output']).sum())\n",
    "    \n",
    "    # Return model_output\n",
    "    return(model_output)\n",
    "\n",
    "output = predict_with_network(input_data, weights)\n",
    "print(output)"
   ]
  },
  {
   "cell_type": "markdown",
   "metadata": {},
   "source": [
    "## The Need for Optimization\n",
    "\n",
    "<img src=\"images/deep_learning06.png\" alt=\"\" style=\"width: 400px;\"/>\n",
    "\n",
    "<img src=\"images/deep_learning07.png\" alt=\"\" style=\"width: 400px;\"/>\n",
    "\n",
    "<img src=\"images/deep_learning08.png\" alt=\"\" style=\"width: 400px;\"/>\n",
    "\n",
    "<img src=\"images/deep_learning09.png\" alt=\"\" style=\"width: 400px;\"/>\n",
    "\n",
    "<img src=\"images/deep_learning10.png\" alt=\"\" style=\"width: 400px;\"/>\n",
    "\n",
    "<img src=\"images/deep_learning11.png\" alt=\"\" style=\"width: 400px;\"/>\n"
   ]
  },
  {
   "cell_type": "markdown",
   "metadata": {},
   "source": [
    "## Calculating model errors\n",
    "\n",
    "What is the error (predicted - actual) for the following network when the input data is `[3, 2]` and the actual value of the target (what you are trying to predict) is `5`? It may be helpful to get out a pen and piece of paper to calculate these values.\n",
    "\n",
    "<img src=\"images/deep_learning12.png\" alt=\"\" style=\"width: 400px;\"/>\n"
   ]
  },
  {
   "cell_type": "code",
   "execution_count": 71,
   "metadata": {},
   "outputs": [],
   "source": [
    "input_data = np.array([3, 2])\n",
    "weights = {'node_0': np.array([ 2, 1]), \n",
    "           'node_1': np.array([0, 0]),\n",
    "           'output': np.array([ 2, 2])}"
   ]
  },
  {
   "cell_type": "code",
   "execution_count": 74,
   "metadata": {},
   "outputs": [
    {
     "name": "stdout",
     "output_type": "stream",
     "text": [
      "[8 0]\n",
      "16\n"
     ]
    }
   ],
   "source": [
    "# Calculate node 0 value: node_0_output\n",
    "node_0_input = (input_data * weights['node_0']).sum()\n",
    "node_0_output = relu(node_0_input)\n",
    "\n",
    "# Calculate node 1 value: node_1_output\n",
    "node_1_input = (input_data * weights['node_1']).sum()\n",
    "node_1_output = relu(node_1_input)\n",
    "\n",
    "# Put node values into array: hidden_layer_outputs\n",
    "hidden_layer_outputs = np.array([node_0_output, node_1_output])\n",
    "print(hidden_layer_outputs)\n",
    "\n",
    "# Calculate model output (do not apply relu)\n",
    "model_output = (hidden_layer_outputs * weights['output']).sum()\n",
    "\n",
    "# Print model output\n",
    "print(model_output)"
   ]
  },
  {
   "cell_type": "code",
   "execution_count": 73,
   "metadata": {},
   "outputs": [
    {
     "data": {
      "text/plain": [
       "11"
      ]
     },
     "execution_count": 73,
     "metadata": {},
     "output_type": "execute_result"
    }
   ],
   "source": [
    "error = model_output - 5\n",
    "error"
   ]
  },
  {
   "cell_type": "markdown",
   "metadata": {},
   "source": [
    "## Understanding how weights change model accuracy\n",
    "\n",
    "Imagine you have to make a prediction for a single data point. The actual value of the target is `7`. The weight going from `node_0` to the output is `2`, as shown below. If you increased it slightly, changing it to `2.01`, would the predictions become more accurate, less accurate, or stay the same?\n",
    "\n",
    "<img src=\"images/deep_learning13.png\" alt=\"\" style=\"width: 400px;\"/>\n"
   ]
  },
  {
   "cell_type": "code",
   "execution_count": 79,
   "metadata": {},
   "outputs": [],
   "source": [
    "input_data = np.array([3, 2])\n",
    "weights = {'node_0': np.array([ 2, 1]), \n",
    "           'node_1': np.array([0, 0]),\n",
    "           'output': np.array([ 2.01, 2])}"
   ]
  },
  {
   "cell_type": "code",
   "execution_count": 80,
   "metadata": {},
   "outputs": [
    {
     "name": "stdout",
     "output_type": "stream",
     "text": [
      "[8 0]\n",
      "16.08\n"
     ]
    }
   ],
   "source": [
    "# Calculate node 0 value: node_0_output\n",
    "node_0_input = (input_data * weights['node_0']).sum()\n",
    "node_0_output = relu(node_0_input)\n",
    "\n",
    "# Calculate node 1 value: node_1_output\n",
    "node_1_input = (input_data * weights['node_1']).sum()\n",
    "node_1_output = relu(node_1_input)\n",
    "\n",
    "# Put node values into array: hidden_layer_outputs\n",
    "hidden_layer_outputs = np.array([node_0_output, node_1_output])\n",
    "print(hidden_layer_outputs)\n",
    "\n",
    "# Calculate model output (do not apply relu)\n",
    "model_output = (hidden_layer_outputs * weights['output']).sum()\n",
    "\n",
    "# Print model output\n",
    "print(model_output)"
   ]
  },
  {
   "cell_type": "code",
   "execution_count": 81,
   "metadata": {},
   "outputs": [
    {
     "data": {
      "text/plain": [
       "9.079999999999998"
      ]
     },
     "execution_count": 81,
     "metadata": {},
     "output_type": "execute_result"
    }
   ],
   "source": [
    "error = model_output - 7\n",
    "error"
   ]
  },
  {
   "cell_type": "markdown",
   "metadata": {},
   "source": [
    "Increasing the weight to 2.01 would increase the resulting error from 9 to 9.08, making the predictions less accurate."
   ]
  },
  {
   "cell_type": "markdown",
   "metadata": {},
   "source": [
    "## Coding how weight changes affect accuracy\n",
    "\n",
    "Now you'll get to change `weights` in a real network and see how they affect **model accuracy**!\n",
    "\n",
    "Have a look at the following neural network:\n",
    "\n",
    "<img src=\"images/deep_learning14.png\" alt=\"\" style=\"width: 400px;\"/>\n",
    "\n",
    "Its weights have been pre-loaded as `weights_0`. Your task in this exercise is to update a single weight in `weights_0` to create `weights_1`, which gives a perfect prediction (in which the predicted value is equal to `target_actual`: 3).\n",
    "\n",
    "Use a pen and paper if necessary to experiment with different combinations. You'll use the `predict_with_network2()` function, which takes an array of data as the first argument, and weights as the second argument."
   ]
  },
  {
   "cell_type": "code",
   "execution_count": 83,
   "metadata": {},
   "outputs": [],
   "source": [
    "def predict_with_network2(input_data, weights):\n",
    "    # Calculate node 0 value: node_0_output\n",
    "    node_0_input = (input_data * weights['node_0']).sum()\n",
    "    node_0_output = relu(node_0_input)\n",
    "\n",
    "    # Calculate node 1 value: node_1_output\n",
    "    node_1_input = (input_data * weights['node_1']).sum()\n",
    "    node_1_output = relu(node_1_input)\n",
    "\n",
    "    # Put node values into array: hidden_layer_outputs\n",
    "    hidden_layer_outputs = np.array([node_0_output, node_1_output])\n",
    "    print(hidden_layer_outputs)\n",
    "\n",
    "    # Calculate model output (do not apply relu)\n",
    "    model_output = (hidden_layer_outputs * weights['output']).sum()\n",
    "\n",
    "    # Return model output\n",
    "    return model_output"
   ]
  },
  {
   "cell_type": "code",
   "execution_count": 84,
   "metadata": {},
   "outputs": [
    {
     "name": "stdout",
     "output_type": "stream",
     "text": [
      "[3 6]\n",
      "[3 6]\n",
      "6\n",
      "0\n"
     ]
    }
   ],
   "source": [
    "# The data point you will make a prediction for\n",
    "input_data = np.array([0, 3])\n",
    "\n",
    "# Sample weights\n",
    "weights_0 = {'node_0': [2, 1],\n",
    "             'node_1': [1, 2],\n",
    "             'output': [1, 1]\n",
    "            }\n",
    "\n",
    "# The actual target value, used to calculate the error\n",
    "target_actual = 3\n",
    "\n",
    "# Make prediction using original weights\n",
    "model_output_0 = predict_with_network2(input_data, weights_0)\n",
    "\n",
    "# Calculate error: error_0\n",
    "error_0 = model_output_0 - target_actual\n",
    "\n",
    "# Create weights that cause the network to make perfect prediction (3): weights_1\n",
    "weights_1 = {'node_0': [2, 1],\n",
    "             'node_1': [1, 2],\n",
    "             'output': [1, 0]\n",
    "            }\n",
    "\n",
    "# Make prediction using new weights: model_output_1\n",
    "model_output_1 = predict_with_network2(input_data, weights_1)\n",
    "\n",
    "# Calculate error: error_1\n",
    "error_1 = model_output_1 - target_actual\n",
    "\n",
    "# Print error_0 and error_1\n",
    "print(error_0)\n",
    "print(error_1)"
   ]
  },
  {
   "cell_type": "markdown",
   "metadata": {},
   "source": [
    "## Scaling up to multiple data points\n",
    "\n",
    "You've seen how different weights will have different accuracies on a single prediction. But usually, you'll want to measure model accuracy on many points. You'll now write code to compare model accuracies for two different sets of weights, which have been stored as `weights_0` and `weights_1`.\n",
    "\n",
    "`input_data` is a list of arrays. Each item in that list contains the data to make a single prediction. `target_actuals` is a list of numbers. Each item in that list is the actual value we are trying to predict.\n",
    "\n",
    "In this exercise, you'll use the `mean_squared_error()` function from sklearn.metrics. It takes the true values and the predicted values as arguments.\n",
    "\n",
    "You'll also use the preloaded `predict_with_network()` function, which takes an array of data as the first argument, and weights as the second argument."
   ]
  },
  {
   "cell_type": "code",
   "execution_count": 89,
   "metadata": {},
   "outputs": [],
   "source": [
    "input_data = [np.array([0, 3]), \n",
    "              np.array([1, 2]), \n",
    "              np.array([-1, -2]), \n",
    "              np.array([4, 0])]\n",
    "weights_0 = {'node_0': np.array([2, 1]), \n",
    "             'node_1': np.array([1, 2]), \n",
    "             'output': np.array([1, 1])}\n",
    "weights_1 = {'node_0': np.array([2, 1]),\n",
    "             'node_1': np.array([1., 1.5]),\n",
    "             'output': np.array([1., 1.5])}\n",
    "target_actuals = [1, 3, 5, 7]"
   ]
  },
  {
   "cell_type": "code",
   "execution_count": 90,
   "metadata": {},
   "outputs": [
    {
     "name": "stdout",
     "output_type": "stream",
     "text": [
      "[3 6]\n",
      "[3.  4.5]\n",
      "[4 5]\n",
      "[4. 4.]\n",
      "[0 0]\n",
      "[0 0]\n",
      "[8 4]\n",
      "[8. 4.]\n",
      "Mean squared error with weights_0: 37.500000\n",
      "Mean squared error with weights_1: 49.890625\n"
     ]
    }
   ],
   "source": [
    "from sklearn.metrics import mean_squared_error\n",
    "\n",
    "# Create model_output_0 \n",
    "model_output_0 = []\n",
    "# Create model_output_1\n",
    "model_output_1 = []\n",
    "\n",
    "# Loop over input_data\n",
    "for row in input_data:\n",
    "    # Append prediction to model_output_0\n",
    "    model_output_0.append(predict_with_network2(row, weights_0))\n",
    "    \n",
    "    # Append prediction to model_output_1\n",
    "    model_output_1.append(predict_with_network2(row, weights_1))\n",
    "\n",
    "# Calculate the mean squared error for model_output_0: mse_0\n",
    "mse_0 = mean_squared_error(target_actuals, model_output_0)\n",
    "\n",
    "# Calculate the mean squared error for model_output_1: mse_1\n",
    "mse_1 = mean_squared_error(target_actuals, model_output_1)\n",
    "\n",
    "# Print mse_0 and mse_1\n",
    "print(\"Mean squared error with weights_0: %f\" %mse_0)\n",
    "print(\"Mean squared error with weights_1: %f\" %mse_1)"
   ]
  },
  {
   "cell_type": "markdown",
   "metadata": {},
   "source": [
    "## Calculating slopes\n",
    "\n",
    "<img src=\"images/deep_learning15.png\" alt=\"\" style=\"width: 400px;\"/>\n",
    "\n",
    "You're now going to practice calculating slopes. When plotting the **mean-squared error loss function** against predictions, the slope is `2 * x * (y-xb)`, or `2 * input_data * error`. Note that `x` and `b` may have multiple numbers (`x` is a vector for each data point, and `b` is a vector). In this case, the output will also be a vector, which is exactly what you want.\n",
    "\n",
    "You're ready to write the code to calculate this slope while using a single data point. You'll use pre-defined weights called `weights` as well as data for a single point called `input_data`. The actual value of the target you want to predict is stored in `target`."
   ]
  },
  {
   "cell_type": "code",
   "execution_count": 91,
   "metadata": {},
   "outputs": [],
   "source": [
    "target = 0\n",
    "input_data = np.array([1, 2, 3])\n",
    "weights = np.array([0, 2, 1])"
   ]
  },
  {
   "cell_type": "code",
   "execution_count": 92,
   "metadata": {},
   "outputs": [
    {
     "name": "stdout",
     "output_type": "stream",
     "text": [
      "[-14 -28 -42]\n"
     ]
    }
   ],
   "source": [
    "# Calculate the predictions: preds\n",
    "preds = (weights * input_data).sum()\n",
    "\n",
    "# Calculate the error: error\n",
    "# Notice that this error corresponds to y-xb in the gradient expression.\n",
    "error = target - preds\n",
    "\n",
    "# Calculate the slope: slope\n",
    "slope = 2 * input_data * error\n",
    "\n",
    "# Print the slope\n",
    "print(slope)"
   ]
  },
  {
   "cell_type": "markdown",
   "metadata": {},
   "source": [
    "You can now use this slope to improve the weights of the model!"
   ]
  },
  {
   "cell_type": "markdown",
   "metadata": {},
   "source": [
    "## Improving model weights\n",
    "\n",
    "You've just calculated the slopes you need. Now it's time to use those slopes to improve your model. If you add the slopes to your weights, you will move in the right direction. However, it's possible to move too far in that direction. So you will want to take a small step in that direction first, using a lower **learning rate**, and verify that the model is improving.\n",
    "\n",
    "The weights have been pre-loaded as `weights`, the actual value of the target as `target`, and the input data as `input_data`. The predictions from the initial weights are stored as `preds`."
   ]
  },
  {
   "cell_type": "code",
   "execution_count": 93,
   "metadata": {},
   "outputs": [
    {
     "name": "stdout",
     "output_type": "stream",
     "text": [
      "7\n",
      "5.04\n"
     ]
    }
   ],
   "source": [
    "# Set the learning rate: learning_rate\n",
    "learning_rate = 0.01\n",
    "\n",
    "# Calculate the predictions: preds\n",
    "preds = (weights * input_data).sum()\n",
    "\n",
    "# Calculate the error: error\n",
    "error = preds - target\n",
    "\n",
    "# Calculate the slope: slope\n",
    "slope = 2 * input_data * error\n",
    "\n",
    "# Update the weights: weights_updated\n",
    "weights_updated = weights - (learning_rate * slope)\n",
    "\n",
    "# Get updated predictions: preds_updated\n",
    "preds_updated = (weights_updated * input_data).sum()\n",
    "\n",
    "# Calculate updated error: error_updated\n",
    "error_updated = preds_updated - target\n",
    "\n",
    "# Print the original error\n",
    "print(error)\n",
    "\n",
    "# Print the updated error\n",
    "print(error_updated)"
   ]
  },
  {
   "cell_type": "markdown",
   "metadata": {},
   "source": [
    "Updating the model weights did indeed decrease the error!"
   ]
  },
  {
   "cell_type": "markdown",
   "metadata": {},
   "source": [
    "## Making multiple updates to weights\n",
    "\n",
    "You're now going to make multiple updates so you can dramatically improve your model weights, and see how the predictions improve with each update.\n",
    "\n",
    "To keep your code clean, there is a pre-loaded `get_slope()` function that takes `input_data`, `target`, and `weights` as arguments. There is also a `get_mse()` function that takes the same arguments. The `input_data`, `target`, and `weights` have been pre-loaded.\n",
    "\n",
    "This network does not have any hidden layers, and it goes directly from the input (with 3 nodes) to an output node. Note that `weights` is a single array.\n",
    "\n",
    "We have also pre-loaded matplotlib.pyplot, and the error history will be plotted after you have done your gradient descent steps."
   ]
  },
  {
   "cell_type": "code",
   "execution_count": 94,
   "metadata": {},
   "outputs": [],
   "source": [
    "def get_slope(input_data, target, weights):\n",
    "    \n",
    "    # Calculate the predictions: preds\n",
    "    preds = (weights * input_data).sum()\n",
    "\n",
    "    # Calculate the error: error\n",
    "    error = preds - target\n",
    "\n",
    "    # Calculate the slope: slope\n",
    "    slope = 2 * input_data * error\n",
    "    \n",
    "    return slope"
   ]
  },
  {
   "cell_type": "code",
   "execution_count": 97,
   "metadata": {},
   "outputs": [],
   "source": [
    "# Set the learning rate: learning_rate\n",
    "learning_rate = 0.01\n",
    "\n",
    "def get_mse(input_data, target, weights, learning_rate):\n",
    "    # Update the weights: weights_updated\n",
    "    weights_updated = weights - (learning_rate * slope)\n",
    "\n",
    "    # Get updated predictions: preds_updated\n",
    "    preds_updated = (weights_updated * input_data).sum()\n",
    "\n",
    "    # Calculate updated error: error_updated\n",
    "    error_updated = preds_updated - target\n",
    "    \n",
    "    return error_updated"
   ]
  },
  {
   "cell_type": "code",
   "execution_count": 98,
   "metadata": {},
   "outputs": [
    {
     "data": {
      "image/png": "[encoded data removed]",
      "text/plain": [
       "<Figure size 432x288 with 1 Axes>"
      ]
     },
     "metadata": {
      "needs_background": "light"
     },
     "output_type": "display_data"
    }
   ],
   "source": [
    "n_updates = 20\n",
    "mse_hist = []\n",
    "\n",
    "# Iterate over the number of updates\n",
    "for i in range(n_updates):\n",
    "    # Calculate the slope: slope\n",
    "    slope = get_slope(input_data, target, weights)\n",
    "    \n",
    "    # Update the weights: weights\n",
    "    weights = weights - slope * 0.01\n",
    "    \n",
    "    # Calculate mse with new weights: mse\n",
    "    mse = get_mse(input_data, target, weights, learning_rate)\n",
    "    \n",
    "    # Append the mse to mse_hist\n",
    "    mse_hist.append(mse)\n",
    "\n",
    "# Plot the mse history\n",
    "plt.plot(mse_hist)\n",
    "plt.xlabel('Iterations')\n",
    "plt.ylabel('Mean Squared Error')\n",
    "plt.show()"
   ]
  },
  {
   "cell_type": "markdown",
   "metadata": {},
   "source": [
    "As you can see, the mean squared error decreases as the number of iterations go up."
   ]
  },
  {
   "cell_type": "markdown",
   "metadata": {},
   "source": [
    "## Backpropagation\n",
    "\n",
    "<img src=\"images/deep_learning16.png\" alt=\"\" style=\"width: 400px;\"/>\n",
    "\n",
    "<img src=\"images/deep_learning17.png\" alt=\"\" style=\"width: 400px;\"/>\n",
    "\n",
    "<img src=\"images/deep_learning18.png\" alt=\"\" style=\"width: 400px;\"/>\n",
    "\n",
    "<img src=\"images/deep_learning19.png\" alt=\"\" style=\"width: 400px;\"/>\n"
   ]
  },
  {
   "cell_type": "markdown",
   "metadata": {},
   "source": [
    "## Understanding your data\n",
    "\n",
    "You will soon start building models in Keras to predict wages based on various professional and demographic factors. Before you start building a model, it's good to understand your data by performing some exploratory analysis.\n",
    "\n",
    "The data is pre-loaded into a pandas DataFrame called `df`. Use the `.head()` and `.describe()` methods in the IPython Shell for a quick overview of the DataFrame.\n",
    "\n",
    "The target variable you'll be predicting is `wage_per_hour`. Some of the predictor variables are binary indicators, where a value of 1 represents True, and 0 represents False.\n",
    "\n",
    "Of the 9 predictor variables in the DataFrame, how many are binary indicators? The min and max values as shown by `.describe()` will be informative here. How many binary indicator predictors are there? (answer: 6)"
   ]
  },
  {
   "cell_type": "code",
   "execution_count": 99,
   "metadata": {},
   "outputs": [
    {
     "data": {
      "text/html": [
       "<div>\n",
       "<style scoped>\n",
       "    .dataframe tbody tr th:only-of-type {\n",
       "        vertical-align: middle;\n",
       "    }\n",
       "\n",
       "    .dataframe tbody tr th {\n",
       "        vertical-align: top;\n",
       "    }\n",
       "\n",
       "    .dataframe thead th {\n",
       "        text-align: right;\n",
       "    }\n",
       "</style>\n",
       "<table border=\"1\" class=\"dataframe\">\n",
       "  <thead>\n",
       "    <tr style=\"text-align: right;\">\n",
       "      <th></th>\n",
       "      <th>wage_per_hour</th>\n",
       "      <th>union</th>\n",
       "      <th>education_yrs</th>\n",
       "      <th>experience_yrs</th>\n",
       "      <th>age</th>\n",
       "      <th>female</th>\n",
       "      <th>marr</th>\n",
       "      <th>south</th>\n",
       "      <th>manufacturing</th>\n",
       "      <th>construction</th>\n",
       "    </tr>\n",
       "  </thead>\n",
       "  <tbody>\n",
       "    <tr>\n",
       "      <th>0</th>\n",
       "      <td>5.10</td>\n",
       "      <td>0</td>\n",
       "      <td>8</td>\n",
       "      <td>21</td>\n",
       "      <td>35</td>\n",
       "      <td>1</td>\n",
       "      <td>1</td>\n",
       "      <td>0</td>\n",
       "      <td>1</td>\n",
       "      <td>0</td>\n",
       "    </tr>\n",
       "    <tr>\n",
       "      <th>1</th>\n",
       "      <td>4.95</td>\n",
       "      <td>0</td>\n",
       "      <td>9</td>\n",
       "      <td>42</td>\n",
       "      <td>57</td>\n",
       "      <td>1</td>\n",
       "      <td>1</td>\n",
       "      <td>0</td>\n",
       "      <td>1</td>\n",
       "      <td>0</td>\n",
       "    </tr>\n",
       "    <tr>\n",
       "      <th>2</th>\n",
       "      <td>6.67</td>\n",
       "      <td>0</td>\n",
       "      <td>12</td>\n",
       "      <td>1</td>\n",
       "      <td>19</td>\n",
       "      <td>0</td>\n",
       "      <td>0</td>\n",
       "      <td>0</td>\n",
       "      <td>1</td>\n",
       "      <td>0</td>\n",
       "    </tr>\n",
       "    <tr>\n",
       "      <th>3</th>\n",
       "      <td>4.00</td>\n",
       "      <td>0</td>\n",
       "      <td>12</td>\n",
       "      <td>4</td>\n",
       "      <td>22</td>\n",
       "      <td>0</td>\n",
       "      <td>0</td>\n",
       "      <td>0</td>\n",
       "      <td>0</td>\n",
       "      <td>0</td>\n",
       "    </tr>\n",
       "    <tr>\n",
       "      <th>4</th>\n",
       "      <td>7.50</td>\n",
       "      <td>0</td>\n",
       "      <td>12</td>\n",
       "      <td>17</td>\n",
       "      <td>35</td>\n",
       "      <td>0</td>\n",
       "      <td>1</td>\n",
       "      <td>0</td>\n",
       "      <td>0</td>\n",
       "      <td>0</td>\n",
       "    </tr>\n",
       "  </tbody>\n",
       "</table>\n",
       "</div>"
      ],
      "text/plain": [
       "   wage_per_hour  union  education_yrs  experience_yrs  age  female  marr  \\\n",
       "0           5.10      0              8              21   35       1     1   \n",
       "1           4.95      0              9              42   57       1     1   \n",
       "2           6.67      0             12               1   19       0     0   \n",
       "3           4.00      0             12               4   22       0     0   \n",
       "4           7.50      0             12              17   35       0     1   \n",
       "\n",
       "   south  manufacturing  construction  \n",
       "0      0              1             0  \n",
       "1      0              1             0  \n",
       "2      0              1             0  \n",
       "3      0              0             0  \n",
       "4      0              0             0  "
      ]
     },
     "execution_count": 99,
     "metadata": {},
     "output_type": "execute_result"
    }
   ],
   "source": [
    "df = pd.read_csv(path+'wages.csv', index_col=0)\n",
    "df.head()"
   ]
  },
  {
   "cell_type": "code",
   "execution_count": 100,
   "metadata": {},
   "outputs": [
    {
     "data": {
      "text/html": [
       "<div>\n",
       "<style scoped>\n",
       "    .dataframe tbody tr th:only-of-type {\n",
       "        vertical-align: middle;\n",
       "    }\n",
       "\n",
       "    .dataframe tbody tr th {\n",
       "        vertical-align: top;\n",
       "    }\n",
       "\n",
       "    .dataframe thead th {\n",
       "        text-align: right;\n",
       "    }\n",
       "</style>\n",
       "<table border=\"1\" class=\"dataframe\">\n",
       "  <thead>\n",
       "    <tr style=\"text-align: right;\">\n",
       "      <th></th>\n",
       "      <th>wage_per_hour</th>\n",
       "      <th>union</th>\n",
       "      <th>education_yrs</th>\n",
       "      <th>experience_yrs</th>\n",
       "      <th>age</th>\n",
       "      <th>female</th>\n",
       "      <th>marr</th>\n",
       "      <th>south</th>\n",
       "      <th>manufacturing</th>\n",
       "      <th>construction</th>\n",
       "    </tr>\n",
       "  </thead>\n",
       "  <tbody>\n",
       "    <tr>\n",
       "      <th>count</th>\n",
       "      <td>534.000000</td>\n",
       "      <td>534.000000</td>\n",
       "      <td>534.000000</td>\n",
       "      <td>534.000000</td>\n",
       "      <td>534.000000</td>\n",
       "      <td>534.000000</td>\n",
       "      <td>534.000000</td>\n",
       "      <td>534.000000</td>\n",
       "      <td>534.000000</td>\n",
       "      <td>534.000000</td>\n",
       "    </tr>\n",
       "    <tr>\n",
       "      <th>mean</th>\n",
       "      <td>9.024064</td>\n",
       "      <td>0.179775</td>\n",
       "      <td>13.018727</td>\n",
       "      <td>17.822097</td>\n",
       "      <td>36.833333</td>\n",
       "      <td>0.458801</td>\n",
       "      <td>0.655431</td>\n",
       "      <td>0.292135</td>\n",
       "      <td>0.185393</td>\n",
       "      <td>0.044944</td>\n",
       "    </tr>\n",
       "    <tr>\n",
       "      <th>std</th>\n",
       "      <td>5.139097</td>\n",
       "      <td>0.384360</td>\n",
       "      <td>2.615373</td>\n",
       "      <td>12.379710</td>\n",
       "      <td>11.726573</td>\n",
       "      <td>0.498767</td>\n",
       "      <td>0.475673</td>\n",
       "      <td>0.455170</td>\n",
       "      <td>0.388981</td>\n",
       "      <td>0.207375</td>\n",
       "    </tr>\n",
       "    <tr>\n",
       "      <th>min</th>\n",
       "      <td>1.000000</td>\n",
       "      <td>0.000000</td>\n",
       "      <td>2.000000</td>\n",
       "      <td>0.000000</td>\n",
       "      <td>18.000000</td>\n",
       "      <td>0.000000</td>\n",
       "      <td>0.000000</td>\n",
       "      <td>0.000000</td>\n",
       "      <td>0.000000</td>\n",
       "      <td>0.000000</td>\n",
       "    </tr>\n",
       "    <tr>\n",
       "      <th>25%</th>\n",
       "      <td>5.250000</td>\n",
       "      <td>0.000000</td>\n",
       "      <td>12.000000</td>\n",
       "      <td>8.000000</td>\n",
       "      <td>28.000000</td>\n",
       "      <td>0.000000</td>\n",
       "      <td>0.000000</td>\n",
       "      <td>0.000000</td>\n",
       "      <td>0.000000</td>\n",
       "      <td>0.000000</td>\n",
       "    </tr>\n",
       "    <tr>\n",
       "      <th>50%</th>\n",
       "      <td>7.780000</td>\n",
       "      <td>0.000000</td>\n",
       "      <td>12.000000</td>\n",
       "      <td>15.000000</td>\n",
       "      <td>35.000000</td>\n",
       "      <td>0.000000</td>\n",
       "      <td>1.000000</td>\n",
       "      <td>0.000000</td>\n",
       "      <td>0.000000</td>\n",
       "      <td>0.000000</td>\n",
       "    </tr>\n",
       "    <tr>\n",
       "      <th>75%</th>\n",
       "      <td>11.250000</td>\n",
       "      <td>0.000000</td>\n",
       "      <td>15.000000</td>\n",
       "      <td>26.000000</td>\n",
       "      <td>44.000000</td>\n",
       "      <td>1.000000</td>\n",
       "      <td>1.000000</td>\n",
       "      <td>1.000000</td>\n",
       "      <td>0.000000</td>\n",
       "      <td>0.000000</td>\n",
       "    </tr>\n",
       "    <tr>\n",
       "      <th>max</th>\n",
       "      <td>44.500000</td>\n",
       "      <td>1.000000</td>\n",
       "      <td>18.000000</td>\n",
       "      <td>55.000000</td>\n",
       "      <td>64.000000</td>\n",
       "      <td>1.000000</td>\n",
       "      <td>1.000000</td>\n",
       "      <td>1.000000</td>\n",
       "      <td>1.000000</td>\n",
       "      <td>1.000000</td>\n",
       "    </tr>\n",
       "  </tbody>\n",
       "</table>\n",
       "</div>"
      ],
      "text/plain": [
       "       wage_per_hour       union  education_yrs  experience_yrs         age  \\\n",
       "count     534.000000  534.000000     534.000000      534.000000  534.000000   \n",
       "mean        9.024064    0.179775      13.018727       17.822097   36.833333   \n",
       "std         5.139097    0.384360       2.615373       12.379710   11.726573   \n",
       "min         1.000000    0.000000       2.000000        0.000000   18.000000   \n",
       "25%         5.250000    0.000000      12.000000        8.000000   28.000000   \n",
       "50%         7.780000    0.000000      12.000000       15.000000   35.000000   \n",
       "75%        11.250000    0.000000      15.000000       26.000000   44.000000   \n",
       "max        44.500000    1.000000      18.000000       55.000000   64.000000   \n",
       "\n",
       "           female        marr       south  manufacturing  construction  \n",
       "count  534.000000  534.000000  534.000000     534.000000    534.000000  \n",
       "mean     0.458801    0.655431    0.292135       0.185393      0.044944  \n",
       "std      0.498767    0.475673    0.455170       0.388981      0.207375  \n",
       "min      0.000000    0.000000    0.000000       0.000000      0.000000  \n",
       "25%      0.000000    0.000000    0.000000       0.000000      0.000000  \n",
       "50%      0.000000    1.000000    0.000000       0.000000      0.000000  \n",
       "75%      1.000000    1.000000    1.000000       0.000000      0.000000  \n",
       "max      1.000000    1.000000    1.000000       1.000000      1.000000  "
      ]
     },
     "execution_count": 100,
     "metadata": {},
     "output_type": "execute_result"
    }
   ],
   "source": [
    "df.describe()"
   ]
  },
  {
   "cell_type": "markdown",
   "metadata": {},
   "source": [
    "## Specifying a model\n",
    "\n",
    "Now you'll get to work with your first model in Keras, and will immediately be able to run more complex neural network models on larger datasets compared to the earlier exercises.\n",
    "\n",
    "To start, you'll take the skeleton of a neural network and add a hidden layer and an output layer. You'll then fit that model and see Keras do the optimization so your model continually gets better.\n",
    "\n",
    "As a start, you'll predict workers wages based on characteristics like their industry, education and level of experience. You can find the dataset in a pandas dataframe called `df`. For convenience, everything in df except for the target has been converted to a NumPy matrix called `predictors`. The target, `wage_per_hour`, is available as a NumPy matrix called `target`.\n",
    "\n",
    "For all exercises in this chapter, we've imported the Sequential model constructor, the Dense layer constructor, and pandas."
   ]
  },
  {
   "cell_type": "code",
   "execution_count": 102,
   "metadata": {},
   "outputs": [],
   "source": [
    "from keras.layers import Dense\n",
    "from keras.models import Sequential"
   ]
  },
  {
   "cell_type": "code",
   "execution_count": 103,
   "metadata": {},
   "outputs": [],
   "source": [
    "predictors = np.array([[0, 8, 21, 35, 1, 1, 0, 1, 0], [0, 9, 42, 57, 1, 1, 0, 1, 0], [0, 12, 1, 19, 0, 0, 0, 1, 0], [0, 12, 4, 22, 0, 0, 0, 0, 0], [0, 12, 17, 35, 0, 1, 0, 0, 0], [1, 13, 9, 28, 0, 0, 0, 0, 0], [0, 10, 27, 43, 0, 0, 1, 0, 0], [0, 12, 9, 27, 0, 0, 0, 0, 0], [0, 16, 11, 33, 0, 1, 0, 1, 0], [0, 12, 9, 27, 0, 0, 0, 0, 0], [1, 12, 17, 35, 0, 1, 0, 0, 0], [1, 12, 19, 37, 0, 0, 0, 1, 0], [0, 8, 27, 41, 0, 1, 1, 0, 0], [1, 9, 30, 45, 0, 0, 1, 0, 0], [0, 9, 29, 44, 0, 1, 1, 0, 0], [0, 12, 37, 55, 0, 1, 0, 0, 1], [0, 7, 44, 57, 0, 1, 1, 0, 0], [1, 12, 26, 44, 0, 1, 0, 1, 0], [0, 11, 16, 33, 0, 0, 0, 0, 0], [0, 12, 33, 51, 0, 1, 0, 0, 0], [1, 12, 16, 34, 1, 1, 0, 1, 0], [1, 7, 42, 55, 0, 1, 0, 1, 0], [0, 12, 9, 27, 0, 0, 0, 0, 0], [0, 11, 14, 31, 0, 1, 1, 0, 0], [0, 12, 23, 41, 0, 1, 0, 0, 0], [0, 6, 45, 57, 0, 1, 1, 1, 0], [0, 12, 8, 26, 0, 1, 0, 1, 0], [0, 10, 30, 46, 0, 1, 0, 0, 0], [0, 12, 8, 26, 1, 1, 0, 1, 0], [0, 12, 8, 26, 0, 1, 0, 0, 0], [0, 14, 13, 33, 0, 0, 0, 0, 0], [0, 12, 46, 64, 1, 0, 1, 0, 0], [0, 8, 19, 33, 0, 1, 0, 0, 0], [0, 17, 1, 24, 1, 0, 1, 0, 0], [0, 12, 19, 37, 0, 0, 0, 1, 0], [0, 12, 36, 54, 0, 0, 0, 0, 0], [0, 12, 20, 38, 0, 1, 1, 0, 1], [1, 12, 35, 53, 0, 1, 0, 0, 1], [0, 12, 3, 21, 0, 0, 0, 0, 0], [0, 14, 10, 30, 0, 1, 1, 1, 0], [0, 12, 0, 18, 0, 0, 0, 0, 0], [1, 14, 14, 34, 0, 1, 1, 1, 0], [0, 12, 14, 32, 0, 1, 0, 1, 0], [0, 9, 16, 31, 1, 1, 0, 1, 0], [0, 13, 8, 27, 0, 0, 1, 0, 1], [0, 7, 15, 28, 1, 1, 1, 1, 0], [0, 16, 12, 34, 0, 1, 0, 1, 0], [0, 10, 13, 29, 0, 0, 1, 0, 0], [1, 8, 33, 47, 0, 1, 0, 0, 0], [0, 12, 9, 27, 0, 1, 0, 1, 0], [0, 12, 7, 25, 0, 1, 0, 0, 0], [1, 16, 13, 35, 0, 1, 0, 1, 0], [0, 12, 7, 25, 1, 1, 0, 1, 0], [0, 12, 16, 34, 1, 1, 0, 1, 0], [0, 13, 0, 19, 0, 0, 0, 0, 0], [0, 12, 11, 29, 1, 0, 0, 1, 0], [0, 13, 17, 36, 0, 0, 0, 1, 0], [0, 10, 13, 29, 0, 1, 0, 1, 0], [1, 12, 22, 40, 0, 0, 0, 1, 0], [0, 12, 28, 46, 1, 1, 0, 1, 0], [0, 11, 17, 34, 0, 0, 0, 0, 0], [1, 12, 24, 42, 0, 1, 0, 0, 1], [0, 3, 55, 64, 0, 1, 1, 1, 0], [0, 12, 3, 21, 0, 0, 1, 0, 1], [1, 12, 6, 24, 0, 0, 0, 1, 0], [0, 10, 27, 43, 0, 1, 0, 0, 1], [1, 12, 19, 37, 0, 1, 1, 1, 0], [1, 12, 19, 37, 0, 1, 0, 0, 1], [0, 12, 38, 56, 1, 1, 0, 1, 0], [1, 10, 41, 57, 0, 1, 1, 1, 0], [0, 11, 3, 20, 0, 0, 1, 1, 0], [1, 14, 20, 40, 0, 1, 0, 0, 0], [0, 10, 15, 31, 0, 1, 0, 0, 0], [0, 8, 8, 22, 0, 1, 1, 1, 0], [0, 8, 39, 53, 1, 1, 1, 1, 0], [1, 6, 43, 55, 1, 1, 0, 1, 0], [1, 11, 25, 42, 1, 1, 1, 1, 0], [1, 12, 11, 29, 0, 1, 0, 0, 0], [0, 12, 12, 30, 0, 1, 0, 0, 0], [1, 12, 35, 53, 0, 1, 1, 1, 0], [0, 14, 14, 34, 0, 0, 0, 0, 0], [1, 12, 16, 34, 0, 1, 0, 0, 0], [1, 10, 44, 60, 1, 0, 0, 1, 0], [0, 16, 13, 35, 1, 0, 1, 0, 0], [1, 13, 8, 27, 0, 0, 0, 1, 0], [0, 12, 13, 31, 0, 0, 0, 1, 0], [1, 11, 18, 35, 0, 1, 0, 0, 0], [0, 12, 18, 36, 1, 1, 0, 0, 0], [0, 12, 6, 24, 1, 0, 1, 0, 0], [1, 11, 37, 54, 0, 1, 1, 1, 0], [0, 12, 2, 20, 0, 1, 1, 1, 0], [0, 12, 23, 41, 0, 1, 0, 1, 0], [0, 12, 1, 19, 0, 0, 0, 0, 0], [0, 12, 10, 28, 1, 1, 1, 1, 0], [0, 12, 23, 41, 0, 1, 0, 1, 0], [1, 12, 8, 26, 0, 1, 0, 0, 0], [0, 15, 9, 30, 1, 1, 0, 1, 0], [1, 12, 33, 51, 0, 1, 0, 0, 1], [0, 12, 19, 37, 1, 1, 0, 1, 0], [0, 13, 14, 33, 0, 1, 0, 0, 0], [1, 11, 13, 30, 0, 1, 0, 0, 0], [0, 10, 12, 28, 0, 1, 0, 0, 1], [0, 12, 8, 26, 0, 0, 0, 0, 0], [0, 12, 23, 41, 0, 1, 0, 1, 0], [0, 14, 13, 33, 1, 0, 0, 1, 0], [0, 12, 9, 27, 0, 1, 1, 0, 0], [1, 14, 21, 41, 0, 1, 0, 0, 0], [0, 5, 44, 55, 0, 1, 1, 0, 1], [1, 12, 4, 22, 0, 1, 0, 0, 0], [0, 8, 42, 56, 0, 1, 0, 1, 0], [1, 13, 10, 29, 0, 1, 0, 0, 0], [0, 12, 11, 29, 0, 0, 0, 0, 1], [1, 12, 40, 58, 0, 1, 0, 0, 1], [0, 12, 8, 26, 0, 0, 0, 0, 1], [0, 11, 29, 46, 0, 1, 1, 0, 1], [1, 16, 3, 25, 0, 0, 0, 0, 0], [0, 11, 11, 28, 0, 0, 0, 0, 1], [1, 12, 12, 30, 0, 1, 0, 0, 0], [0, 8, 22, 36, 1, 1, 0, 0, 0], [0, 12, 12, 30, 0, 1, 0, 0, 0], [1, 12, 7, 25, 0, 1, 0, 0, 0], [0, 12, 15, 33, 1, 0, 0, 1, 0], [0, 12, 28, 46, 0, 1, 0, 0, 0], [1, 12, 20, 38, 0, 1, 1, 1, 0], [0, 12, 6, 24, 0, 0, 1, 0, 1], [0, 12, 5, 23, 0, 0, 1, 1, 0], [0, 9, 30, 45, 1, 1, 1, 1, 0], [0, 13, 18, 37, 0, 1, 0, 0, 0], [0, 12, 6, 24, 1, 1, 1, 1, 0], [0, 12, 16, 34, 0, 0, 1, 0, 0], [1, 12, 1, 19, 0, 0, 1, 0, 0], [0, 12, 3, 21, 0, 0, 0, 1, 0], [0, 12, 8, 26, 0, 1, 0, 0, 0], [0, 14, 2, 22, 0, 0, 0, 1, 0], [0, 9, 16, 31, 0, 0, 0, 1, 0], [0, 10, 9, 25, 0, 1, 1, 0, 1], [0, 12, 2, 20, 0, 0, 0, 0, 0], [0, 7, 43, 56, 0, 1, 1, 1, 0], [0, 9, 38, 53, 0, 1, 0, 1, 0], [0, 12, 9, 27, 0, 1, 0, 0, 0], [0, 12, 12, 30, 0, 1, 1, 0, 0], [0, 12, 18, 36, 0, 1, 0, 1, 0], [1, 11, 15, 32, 0, 0, 0, 1, 0], [1, 11, 28, 45, 0, 1, 1, 0, 1], [1, 10, 27, 43, 0, 1, 1, 0, 1], [0, 12, 38, 56, 0, 1, 1, 0, 0], [0, 12, 3, 21, 1, 0, 0, 1, 0], [1, 12, 41, 59, 0, 1, 0, 0, 0], [1, 12, 16, 34, 0, 1, 1, 0, 0], [0, 13, 7, 26, 0, 1, 1, 1, 0], [0, 6, 33, 45, 1, 0, 1, 1, 0], [0, 14, 25, 45, 0, 1, 0, 1, 0], [0, 12, 5, 23, 0, 1, 1, 0, 0], [0, 14, 17, 37, 0, 0, 1, 0, 0], [0, 12, 1, 19, 0, 0, 1, 0, 0], [0, 12, 13, 31, 0, 1, 0, 1, 0], [0, 16, 18, 40, 0, 1, 0, 0, 0], [0, 14, 21, 41, 0, 1, 1, 0, 0], [0, 14, 2, 22, 0, 0, 0, 0, 0], [0, 12, 4, 22, 1, 0, 1, 0, 0], [0, 12, 30, 48, 1, 1, 1, 0, 0], [0, 13, 32, 51, 0, 0, 0, 0, 0], [0, 17, 13, 36, 1, 1, 0, 0, 0], [0, 12, 17, 35, 0, 0, 0, 0, 0], [0, 14, 26, 46, 1, 1, 0, 0, 0], [0, 16, 9, 31, 0, 0, 0, 0, 0], [0, 16, 8, 30, 0, 0, 0, 0, 0], [1, 15, 1, 22, 0, 1, 0, 0, 0], [0, 17, 32, 55, 0, 1, 1, 0, 0], [0, 12, 24, 42, 1, 1, 0, 0, 0], [0, 14, 1, 21, 1, 0, 0, 0, 0], [0, 12, 42, 60, 0, 1, 0, 1, 0], [0, 16, 3, 25, 1, 0, 0, 1, 0], [0, 12, 32, 50, 1, 1, 0, 0, 0], [0, 14, 22, 42, 0, 0, 0, 0, 0], [0, 16, 18, 40, 0, 1, 0, 0, 0], [0, 18, 19, 43, 1, 1, 0, 0, 0], [0, 15, 12, 33, 0, 1, 0, 0, 0], [0, 12, 42, 60, 1, 1, 0, 0, 0], [0, 12, 34, 52, 0, 1, 1, 0, 0], [0, 18, 29, 53, 0, 1, 0, 0, 0], [0, 16, 8, 30, 0, 0, 1, 0, 0], [0, 18, 13, 37, 0, 0, 0, 1, 0], [0, 16, 10, 32, 0, 0, 0, 0, 0], [0, 16, 22, 44, 0, 1, 0, 0, 0], [0, 16, 10, 32, 0, 1, 1, 0, 0], [0, 17, 15, 38, 1, 1, 0, 0, 0], [0, 12, 26, 44, 0, 1, 0, 0, 0], [0, 14, 16, 36, 0, 0, 0, 0, 0], [0, 18, 14, 38, 1, 1, 0, 0, 0], [0, 12, 38, 56, 1, 1, 0, 0, 0], [0, 12, 14, 32, 0, 1, 1, 0, 0], [0, 12, 7, 25, 1, 1, 0, 0, 0], [0, 18, 13, 37, 1, 0, 1, 0, 0], [0, 10, 20, 36, 0, 1, 0, 0, 0], [1, 16, 7, 29, 0, 1, 0, 0, 0], [0, 16, 26, 48, 1, 1, 0, 0, 0], [0, 16, 14, 36, 0, 1, 0, 0, 0], [0, 13, 36, 55, 0, 0, 0, 0, 0], [0, 12, 24, 42, 0, 1, 0, 0, 0], [0, 14, 41, 61, 0, 1, 1, 0, 0], [0, 16, 7, 29, 0, 1, 0, 0, 0], [0, 17, 14, 37, 0, 0, 1, 0, 0], [0, 12, 1, 19, 1, 0, 1, 0, 0], [0, 16, 6, 28, 1, 1, 0, 1, 0], [0, 12, 3, 21, 1, 1, 0, 0, 0], [0, 15, 31, 52, 0, 1, 0, 0, 0], [0, 13, 14, 33, 1, 1, 0, 1, 0], [0, 14, 13, 33, 1, 1, 0, 0, 0], [1, 16, 26, 48, 0, 1, 0, 1, 0], [0, 18, 14, 38, 0, 1, 0, 0, 0], [0, 13, 33, 52, 1, 1, 0, 0, 0], [0, 12, 16, 34, 0, 1, 0, 0, 0], [0, 18, 10, 34, 0, 1, 0, 0, 0], [0, 14, 22, 42, 0, 0, 0, 0, 0], [0, 14, 2, 22, 0, 0, 0, 0, 0], [0, 12, 29, 47, 1, 1, 1, 0, 0], [0, 12, 43, 61, 0, 1, 0, 1, 0], [0, 12, 5, 23, 1, 1, 0, 0, 0], [0, 16, 14, 36, 1, 1, 1, 0, 0], [0, 12, 28, 46, 0, 1, 1, 0, 0], [0, 11, 25, 42, 1, 1, 1, 0, 0], [0, 12, 45, 63, 1, 1, 0, 0, 0], [0, 14, 5, 25, 0, 0, 1, 0, 0], [0, 12, 20, 38, 0, 1, 1, 1, 0], [0, 16, 6, 28, 1, 1, 0, 0, 0], [0, 16, 16, 38, 0, 1, 0, 0, 0], [0, 11, 33, 50, 1, 1, 0, 0, 0], [0, 13, 2, 21, 1, 1, 1, 0, 0], [0, 12, 10, 28, 1, 0, 1, 0, 0], [0, 14, 44, 64, 0, 1, 1, 0, 0], [0, 14, 6, 26, 1, 1, 1, 0, 0], [0, 12, 15, 33, 1, 0, 0, 0, 0], [0, 12, 5, 23, 0, 1, 0, 0, 0], [0, 13, 4, 23, 1, 1, 0, 1, 0], [0, 14, 14, 34, 0, 1, 0, 0, 0], [0, 14, 32, 52, 1, 1, 0, 0, 0], [0, 12, 14, 32, 1, 1, 0, 0, 0], [0, 14, 21, 41, 0, 1, 0, 0, 0], [1, 12, 43, 61, 0, 1, 0, 0, 0], [0, 12, 27, 45, 1, 1, 1, 0, 0], [0, 12, 4, 22, 1, 0, 0, 0, 0], [0, 14, 0, 20, 0, 0, 0, 0, 0], [0, 12, 32, 50, 0, 1, 1, 0, 0], [0, 12, 20, 38, 0, 1, 0, 0, 0], [0, 15, 4, 25, 0, 0, 1, 0, 0], [0, 12, 34, 52, 0, 1, 0, 0, 0], [0, 13, 5, 24, 0, 0, 0, 0, 0], [0, 17, 13, 36, 0, 1, 0, 1, 0], [0, 14, 17, 37, 1, 1, 0, 0, 0], [0, 13, 10, 29, 1, 1, 1, 0, 0], [0, 16, 7, 29, 1, 1, 0, 0, 0], [0, 12, 25, 43, 1, 0, 0, 0, 0], [0, 12, 18, 36, 1, 1, 0, 0, 0], [0, 16, 27, 49, 1, 1, 0, 1, 0], [0, 16, 2, 24, 1, 0, 0, 0, 0], [0, 13, 13, 32, 0, 1, 0, 0, 0], [0, 14, 24, 44, 1, 0, 0, 0, 0], [0, 18, 13, 37, 1, 1, 1, 0, 0], [1, 14, 15, 35, 1, 0, 0, 0, 0], [0, 12, 12, 30, 1, 0, 1, 0, 0], [0, 12, 24, 42, 1, 1, 0, 0, 0], [0, 12, 43, 61, 1, 1, 0, 0, 1], [0, 12, 13, 31, 1, 1, 0, 1, 0], [0, 12, 16, 34, 1, 1, 1, 0, 0], [0, 11, 24, 41, 1, 1, 0, 0, 0], [0, 16, 4, 26, 1, 1, 1, 0, 0], [0, 12, 24, 42, 1, 1, 0, 0, 0], [0, 12, 45, 63, 1, 1, 0, 0, 0], [1, 12, 20, 38, 0, 1, 0, 0, 0], [0, 12, 38, 56, 1, 1, 0, 0, 0], [0, 18, 10, 34, 0, 1, 1, 0, 0], [0, 11, 16, 33, 1, 1, 0, 0, 0], [0, 12, 32, 50, 1, 1, 1, 0, 0], [0, 16, 2, 24, 1, 0, 1, 0, 0], [0, 13, 28, 47, 1, 0, 1, 0, 0], [0, 16, 3, 25, 0, 0, 0, 0, 0], [1, 13, 8, 27, 1, 0, 0, 0, 0], [0, 12, 44, 62, 1, 1, 0, 1, 0], [0, 12, 12, 30, 0, 1, 1, 0, 0], [0, 12, 8, 26, 0, 1, 1, 0, 0], [0, 12, 4, 22, 1, 1, 0, 0, 0], [0, 12, 28, 46, 1, 1, 1, 0, 0], [0, 13, 0, 19, 1, 0, 1, 0, 0], [0, 14, 1, 21, 0, 0, 1, 0, 0], [0, 14, 12, 32, 1, 1, 0, 1, 0], [0, 12, 39, 57, 1, 1, 0, 0, 0], [0, 12, 24, 42, 1, 1, 0, 0, 0], [0, 17, 32, 55, 1, 1, 0, 0, 0], [0, 16, 4, 26, 0, 0, 0, 0, 0], [0, 12, 25, 43, 1, 0, 0, 0, 0], [0, 12, 8, 26, 0, 0, 0, 0, 0], [0, 13, 16, 35, 1, 1, 0, 0, 0], [0, 12, 5, 23, 0, 0, 1, 0, 0], [0, 13, 31, 50, 0, 0, 0, 0, 0], [0, 12, 25, 43, 1, 0, 0, 0, 0], [0, 12, 15, 33, 1, 1, 0, 0, 0], [0, 14, 15, 35, 1, 1, 1, 0, 0], [0, 12, 0, 18, 1, 0, 0, 0, 0], [0, 12, 19, 37, 0, 1, 0, 0, 0], [0, 12, 21, 39, 1, 0, 0, 0, 0], [0, 12, 6, 24, 1, 0, 0, 0, 0], [1, 12, 14, 32, 1, 1, 0, 0, 0], [0, 13, 30, 49, 1, 1, 0, 0, 0], [0, 12, 8, 26, 1, 0, 0, 0, 0], [1, 9, 33, 48, 0, 0, 0, 0, 0], [0, 13, 16, 35, 0, 0, 0, 0, 0], [0, 12, 20, 38, 1, 0, 1, 0, 0], [0, 13, 6, 25, 1, 1, 1, 0, 0], [1, 12, 10, 28, 1, 1, 0, 0, 0], [0, 13, 1, 20, 1, 0, 1, 0, 0], [0, 12, 2, 20, 0, 0, 1, 0, 0], [0, 13, 0, 19, 1, 0, 1, 0, 0], [0, 16, 17, 39, 0, 1, 0, 0, 0], [0, 12, 8, 26, 1, 0, 0, 0, 0], [0, 12, 4, 22, 0, 0, 1, 0, 0], [0, 12, 15, 33, 1, 0, 0, 0, 0], [0, 12, 29, 47, 1, 1, 0, 0, 0], [0, 12, 23, 41, 1, 1, 1, 0, 0], [0, 12, 39, 57, 1, 1, 1, 0, 0], [0, 12, 14, 32, 1, 1, 1, 0, 0], [0, 17, 6, 29, 1, 0, 1, 0, 0], [1, 14, 12, 32, 0, 1, 1, 0, 0], [0, 12, 26, 44, 1, 0, 1, 0, 0], [0, 14, 32, 52, 1, 1, 0, 0, 0], [0, 15, 6, 27, 1, 1, 0, 0, 0], [0, 12, 40, 58, 1, 1, 0, 0, 0], [0, 12, 18, 36, 1, 1, 0, 1, 0], [0, 11, 12, 29, 1, 0, 0, 0, 0], [0, 12, 36, 54, 1, 1, 1, 0, 1], [0, 12, 19, 37, 1, 1, 0, 0, 0], [0, 16, 42, 64, 1, 0, 0, 1, 0], [0, 13, 2, 21, 1, 1, 0, 0, 0], [0, 12, 33, 51, 1, 1, 0, 0, 0], [0, 12, 14, 32, 1, 1, 1, 0, 0], [0, 12, 22, 40, 0, 0, 0, 0, 0], [0, 12, 20, 38, 1, 1, 0, 0, 0], [0, 12, 15, 33, 1, 1, 0, 0, 0], [0, 12, 35, 53, 0, 1, 0, 0, 0], [0, 12, 7, 25, 1, 1, 0, 0, 0], [0, 12, 45, 63, 1, 0, 0, 1, 0], [0, 12, 9, 27, 1, 0, 0, 0, 0], [0, 12, 2, 20, 1, 1, 1, 0, 0], [0, 17, 3, 26, 0, 0, 1, 0, 0], [1, 14, 19, 39, 1, 1, 0, 0, 0], [0, 12, 14, 32, 1, 1, 1, 0, 0], [0, 4, 54, 64, 0, 1, 0, 0, 0], [0, 14, 17, 37, 0, 1, 0, 0, 0], [0, 8, 29, 43, 1, 1, 0, 0, 0], [0, 15, 26, 47, 1, 0, 1, 0, 0], [0, 2, 16, 24, 0, 0, 0, 0, 0], [0, 8, 29, 43, 1, 0, 0, 0, 0], [0, 11, 20, 37, 1, 1, 0, 0, 0], [0, 10, 38, 54, 1, 1, 1, 0, 0], [0, 8, 37, 51, 1, 1, 1, 0, 0], [0, 9, 48, 63, 0, 0, 0, 0, 0], [0, 12, 16, 34, 1, 0, 0, 0, 0], [0, 8, 38, 52, 1, 1, 0, 0, 0], [0, 14, 0, 20, 0, 0, 0, 0, 0], [1, 12, 14, 32, 0, 0, 0, 0, 0], [0, 12, 2, 20, 1, 1, 0, 0, 0], [0, 16, 21, 43, 0, 1, 0, 0, 0], [0, 13, 15, 34, 1, 1, 0, 0, 0], [0, 16, 20, 42, 1, 0, 0, 0, 0], [0, 14, 12, 32, 1, 1, 0, 0, 0], [0, 12, 7, 25, 0, 0, 1, 0, 0], [0, 11, 4, 21, 0, 1, 0, 0, 0], [0, 13, 9, 28, 0, 1, 1, 0, 0], [0, 12, 43, 61, 1, 1, 1, 0, 0], [0, 10, 19, 35, 0, 0, 1, 0, 0], [0, 8, 49, 63, 1, 0, 0, 0, 0], [0, 12, 38, 56, 1, 1, 0, 0, 0], [0, 12, 13, 31, 1, 1, 0, 0, 0], [0, 12, 14, 32, 1, 1, 0, 0, 0], [0, 12, 20, 38, 0, 0, 0, 0, 0], [0, 12, 7, 25, 1, 0, 0, 0, 0], [1, 12, 9, 27, 1, 1, 0, 1, 0], [0, 12, 6, 24, 1, 0, 0, 0, 0], [0, 12, 5, 23, 1, 1, 1, 0, 0], [0, 13, 1, 20, 1, 0, 1, 0, 0], [1, 14, 22, 42, 0, 1, 0, 0, 0], [0, 12, 24, 42, 1, 1, 0, 0, 0], [1, 12, 15, 33, 1, 0, 0, 0, 0], [0, 11, 8, 25, 1, 1, 1, 0, 0], [0, 11, 17, 34, 1, 1, 1, 0, 0], [0, 12, 2, 20, 0, 0, 1, 0, 0], [0, 12, 20, 38, 0, 1, 1, 0, 0], [1, 12, 26, 44, 0, 1, 0, 0, 0], [0, 10, 37, 53, 1, 1, 1, 0, 0], [0, 12, 41, 59, 1, 0, 0, 0, 0], [0, 12, 27, 45, 1, 1, 0, 0, 0], [1, 12, 5, 23, 1, 1, 0, 0, 0], [0, 14, 16, 36, 0, 1, 0, 0, 0], [0, 14, 19, 39, 1, 1, 0, 0, 0], [0, 12, 10, 28, 0, 1, 0, 0, 0], [1, 13, 1, 20, 0, 0, 1, 0, 0], [1, 12, 43, 61, 1, 1, 0, 0, 0], [0, 13, 3, 22, 0, 0, 0, 0, 0], [0, 12, 0, 18, 1, 0, 0, 0, 0], [0, 12, 26, 44, 1, 1, 1, 0, 0], [1, 10, 25, 41, 1, 1, 0, 0, 0], [0, 12, 15, 33, 1, 1, 0, 0, 0], [0, 14, 10, 30, 1, 0, 1, 0, 0], [1, 11, 45, 62, 1, 0, 0, 0, 0], [0, 11, 3, 20, 0, 0, 0, 0, 0], [1, 8, 47, 61, 0, 1, 0, 0, 0], [0, 16, 6, 28, 1, 1, 0, 0, 0], [0, 10, 33, 49, 1, 0, 1, 0, 0], [0, 16, 3, 25, 0, 0, 0, 1, 0], [1, 14, 4, 24, 0, 0, 0, 0, 0], [1, 14, 34, 54, 0, 1, 0, 0, 0], [0, 11, 39, 56, 0, 1, 1, 0, 0], [0, 12, 17, 35, 1, 1, 1, 0, 0], [1, 9, 47, 62, 0, 1, 0, 0, 0], [0, 11, 2, 19, 0, 0, 0, 0, 0], [0, 13, 0, 19, 0, 0, 1, 0, 0], [0, 14, 24, 44, 1, 0, 0, 0, 0], [1, 12, 25, 43, 0, 1, 0, 0, 0], [0, 14, 6, 26, 1, 0, 0, 0, 0], [0, 12, 10, 28, 1, 0, 0, 0, 0], [0, 12, 33, 51, 1, 1, 0, 0, 0], [0, 12, 12, 30, 0, 0, 0, 0, 0], [0, 12, 9, 27, 1, 1, 1, 0, 0], [1, 11, 18, 35, 0, 1, 1, 0, 0], [0, 12, 10, 28, 0, 1, 0, 0, 0], [0, 8, 45, 59, 1, 0, 1, 0, 0], [1, 9, 46, 61, 1, 1, 0, 0, 0], [0, 7, 14, 27, 0, 1, 1, 0, 0], [0, 11, 36, 53, 1, 0, 0, 0, 0], [1, 13, 34, 53, 0, 1, 0, 0, 1], [0, 18, 15, 39, 0, 1, 0, 0, 0], [0, 17, 31, 54, 0, 1, 0, 1, 0], [0, 16, 6, 28, 1, 0, 0, 1, 0], [0, 14, 15, 35, 0, 1, 1, 0, 0], [0, 12, 30, 48, 0, 1, 0, 0, 0], [0, 18, 8, 32, 0, 1, 0, 0, 0], [0, 18, 5, 29, 0, 1, 0, 1, 0], [1, 17, 3, 26, 1, 0, 0, 0, 0], [0, 13, 17, 36, 0, 1, 1, 0, 0], [1, 16, 5, 27, 0, 1, 0, 1, 0], [0, 14, 10, 30, 1, 1, 0, 0, 0], [0, 15, 33, 54, 1, 0, 0, 0, 0], [0, 18, 3, 27, 0, 1, 0, 0, 0], [0, 16, 0, 18, 1, 0, 0, 0, 0], [0, 16, 13, 35, 0, 1, 1, 0, 0], [0, 18, 12, 36, 0, 1, 0, 0, 0], [0, 16, 6, 28, 1, 1, 0, 0, 0], [0, 17, 7, 30, 0, 1, 0, 0, 0], [1, 16, 14, 36, 0, 1, 1, 0, 0], [0, 17, 5, 28, 1, 0, 0, 0, 0], [0, 15, 10, 31, 1, 1, 1, 0, 0], [0, 18, 11, 35, 1, 1, 0, 0, 0], [0, 17, 24, 47, 1, 1, 0, 0, 0], [0, 16, 9, 31, 0, 0, 0, 1, 0], [0, 18, 12, 36, 0, 1, 1, 0, 0], [0, 18, 19, 43, 0, 1, 0, 0, 0], [0, 14, 14, 34, 1, 1, 0, 0, 0], [0, 16, 17, 39, 1, 0, 0, 1, 0], [0, 18, 7, 31, 0, 0, 1, 0, 0], [0, 18, 7, 31, 0, 1, 0, 0, 0], [0, 16, 22, 44, 1, 1, 0, 0, 0], [0, 12, 28, 46, 1, 1, 0, 0, 0], [0, 16, 16, 38, 1, 0, 0, 0, 0], [0, 16, 16, 38, 0, 0, 1, 0, 0], [0, 16, 7, 29, 1, 1, 0, 0, 0], [0, 12, 11, 29, 1, 0, 0, 0, 0], [0, 12, 11, 29, 1, 1, 0, 0, 0], [0, 12, 16, 34, 1, 0, 0, 0, 0], [1, 18, 33, 57, 0, 0, 0, 0, 0], [0, 12, 21, 39, 1, 1, 1, 0, 0], [0, 16, 4, 26, 0, 1, 0, 1, 0], [0, 15, 13, 34, 0, 1, 0, 0, 0], [1, 18, 14, 38, 0, 1, 0, 0, 0], [0, 16, 10, 32, 1, 1, 0, 0, 0], [0, 18, 14, 38, 0, 1, 1, 0, 0], [0, 16, 29, 51, 0, 1, 1, 0, 0], [0, 12, 4, 22, 0, 0, 0, 0, 0], [0, 18, 27, 51, 0, 1, 0, 0, 0], [0, 12, 3, 21, 0, 1, 0, 0, 0], [1, 16, 14, 36, 0, 1, 1, 0, 0], [0, 14, 0, 20, 0, 1, 0, 0, 1], [0, 18, 33, 57, 0, 1, 0, 0, 0], [0, 16, 38, 60, 0, 1, 1, 0, 0], [1, 18, 18, 42, 1, 1, 0, 0, 0], [0, 17, 3, 26, 0, 0, 0, 1, 0], [0, 18, 40, 64, 1, 0, 0, 0, 0], [0, 14, 19, 39, 0, 0, 0, 1, 0], [0, 14, 4, 24, 1, 0, 0, 0, 0], [0, 16, 11, 33, 1, 1, 0, 0, 0], [0, 16, 16, 38, 1, 1, 0, 0, 0], [0, 14, 22, 42, 0, 1, 0, 0, 0], [1, 17, 13, 36, 1, 0, 0, 0, 0], [1, 16, 28, 50, 1, 1, 1, 0, 0], [0, 16, 10, 32, 1, 1, 0, 0, 0], [0, 16, 5, 27, 1, 0, 1, 0, 0], [0, 15, 5, 26, 0, 0, 0, 0, 0], [0, 18, 37, 61, 1, 0, 0, 1, 0], [1, 17, 26, 49, 1, 1, 0, 0, 0], [0, 16, 4, 26, 1, 1, 1, 0, 0], [1, 18, 31, 55, 1, 0, 0, 0, 0], [1, 17, 13, 36, 1, 1, 0, 0, 0], [0, 12, 42, 60, 1, 1, 0, 0, 0], [0, 17, 18, 41, 0, 1, 0, 0, 0], [0, 12, 3, 21, 1, 1, 0, 0, 0], [0, 17, 10, 33, 1, 0, 0, 0, 0], [1, 16, 10, 32, 1, 0, 0, 0, 0], [0, 16, 17, 39, 1, 1, 0, 0, 0], [0, 18, 7, 31, 0, 1, 0, 0, 0], [0, 16, 14, 36, 1, 1, 0, 0, 0], [1, 16, 22, 44, 1, 1, 0, 0, 0], [0, 17, 14, 37, 1, 1, 0, 0, 0], [0, 16, 11, 33, 0, 1, 0, 0, 0], [1, 18, 23, 47, 0, 1, 0, 0, 0], [1, 12, 39, 57, 0, 1, 0, 0, 0], [0, 16, 15, 37, 0, 1, 0, 0, 0], [0, 14, 15, 35, 1, 0, 0, 0, 0], [0, 16, 10, 32, 0, 0, 0, 0, 0], [0, 12, 25, 43, 1, 0, 1, 0, 0], [0, 14, 12, 32, 1, 1, 0, 0, 0], [0, 16, 7, 29, 1, 1, 1, 0, 0], [1, 17, 7, 30, 0, 1, 0, 0, 0], [0, 16, 17, 39, 0, 1, 0, 1, 0], [1, 16, 10, 32, 0, 1, 0, 0, 0], [0, 17, 2, 25, 0, 1, 1, 0, 0], [1, 9, 34, 49, 1, 1, 1, 0, 0], [0, 15, 11, 32, 1, 1, 0, 0, 0], [0, 15, 10, 31, 0, 0, 0, 0, 0], [0, 12, 12, 30, 0, 1, 1, 0, 0], [1, 16, 6, 28, 1, 0, 0, 0, 0], [0, 18, 5, 29, 0, 0, 0, 0, 0], [0, 12, 33, 51, 1, 1, 0, 0, 0], [1, 17, 25, 48, 1, 1, 0, 0, 0], [1, 12, 13, 31, 0, 1, 1, 0, 0], [0, 16, 33, 55, 0, 1, 0, 1, 0]])\n",
    "target = np.array([5.1, 4.95, 6.67, 4.0, 7.5, 13.07, 4.45, 19.47, 13.28, 8.75, 11.35, 11.5, 6.5, 6.25, 19.98, 7.3, 8.0, 22.2, 3.65, 20.55, 5.71, 7.0, 3.75, 4.5, 9.56, 5.75, 9.36, 6.5, 3.35, 4.75, 8.9, 4.0, 4.7, 5.0, 9.25, 10.67, 7.61, 10.0, 7.5, 12.2, 3.35, 11.0, 12.0, 4.85, 4.3, 6.0, 15.0, 4.85, 9.0, 6.36, 9.15, 11.0, 4.5, 4.8, 4.0, 5.5, 8.4, 6.75, 10.0, 5.0, 6.5, 10.75, 7.0, 11.43, 4.0, 9.0, 13.0, 12.22, 6.28, 6.75, 3.35, 16.0, 5.25, 3.5, 4.22, 3.0, 4.0, 10.0, 5.0, 16.0, 13.98, 13.26, 6.1, 3.75, 9.0, 9.45, 5.5, 8.93, 6.25, 9.75, 6.73, 7.78, 2.85, 3.35, 19.98, 8.5, 9.75, 15.0, 8.0, 11.25, 14.0, 10.0, 6.5, 9.83, 18.5, 12.5, 26.0, 14.0, 10.5, 11.0, 12.47, 12.5, 15.0, 6.0, 9.5, 5.0, 3.75, 12.57, 6.88, 5.5, 7.0, 4.5, 6.5, 12.0, 5.0, 6.5, 6.8, 8.75, 3.75, 4.5, 6.0, 5.5, 13.0, 5.65, 4.8, 7.0, 5.25, 3.35, 8.5, 6.0, 6.75, 8.89, 14.21, 10.78, 8.9, 7.5, 4.5, 11.25, 13.45, 6.0, 4.62, 10.58, 5.0, 8.2, 6.25, 8.5, 24.98, 16.65, 6.25, 4.55, 11.25, 21.25, 12.65, 7.5, 10.25, 3.35, 13.45, 4.84, 26.29, 6.58, 44.5, 15.0, 11.25, 7.0, 10.0, 14.53, 20.0, 22.5, 3.64, 10.62, 24.98, 6.0, 19.0, 13.2, 22.5, 15.0, 6.88, 11.84, 16.14, 13.95, 13.16, 5.3, 4.5, 10.0, 10.0, 10.0, 9.37, 5.8, 17.86, 1.0, 8.8, 9.0, 18.16, 7.81, 10.62, 4.5, 17.25, 10.5, 9.22, 15.0, 22.5, 4.55, 9.0, 13.33, 15.0, 7.5, 4.25, 12.5, 5.13, 3.35, 11.11, 3.84, 6.4, 5.56, 10.0, 5.65, 11.5, 3.5, 3.35, 4.75, 19.98, 3.5, 4.0, 7.0, 6.25, 4.5, 14.29, 5.0, 13.75, 13.71, 7.5, 3.8, 5.0, 9.42, 5.5, 3.75, 3.5, 5.8, 12.0, 5.0, 8.75, 10.0, 8.5, 8.63, 9.0, 5.5, 11.11, 10.0, 5.2, 8.0, 3.56, 5.2, 11.67, 11.32, 7.5, 5.5, 5.0, 7.75, 5.25, 9.0, 9.65, 5.21, 7.0, 12.16, 5.25, 10.32, 3.35, 7.7, 9.17, 8.43, 4.0, 4.13, 3.0, 4.25, 7.53, 10.53, 5.0, 15.03, 11.25, 6.25, 3.5, 6.85, 12.5, 12.0, 6.0, 9.5, 4.1, 10.43, 5.0, 7.69, 5.5, 6.4, 12.5, 6.25, 8.0, 9.6, 9.1, 7.5, 5.0, 7.0, 3.55, 8.5, 4.5, 7.88, 5.25, 5.0, 9.33, 10.5, 7.5, 9.5, 9.6, 5.87, 11.02, 5.0, 5.62, 12.5, 10.81, 5.4, 7.0, 4.59, 6.0, 11.71, 5.62, 5.5, 4.85, 6.75, 4.25, 5.75, 3.5, 3.35, 10.62, 8.0, 4.75, 8.5, 8.85, 8.0, 6.0, 7.14, 3.4, 6.0, 3.75, 8.89, 4.35, 13.1, 4.35, 3.5, 3.8, 5.26, 3.35, 16.26, 4.25, 4.5, 8.0, 4.0, 7.96, 4.0, 4.15, 5.95, 3.6, 8.75, 3.4, 4.28, 5.35, 5.0, 7.65, 6.94, 7.5, 3.6, 1.75, 3.45, 9.63, 8.49, 8.99, 3.65, 3.5, 3.43, 5.5, 6.93, 3.51, 3.75, 4.17, 9.57, 14.67, 12.5, 5.5, 5.15, 8.0, 5.83, 3.35, 7.0, 10.0, 8.0, 6.88, 5.55, 7.5, 8.93, 9.0, 3.5, 5.77, 25.0, 6.85, 6.5, 3.75, 3.5, 4.5, 2.01, 4.17, 13.0, 3.98, 7.5, 13.12, 4.0, 3.95, 13.0, 9.0, 4.55, 9.5, 4.5, 8.75, 10.0, 18.0, 24.98, 12.05, 22.0, 8.75, 22.2, 17.25, 6.0, 8.06, 9.24, 12.0, 10.61, 5.71, 10.0, 17.5, 15.0, 7.78, 7.8, 10.0, 24.98, 10.28, 15.0, 12.0, 10.58, 5.85, 11.22, 8.56, 13.89, 5.71, 15.79, 7.5, 11.25, 6.15, 13.45, 6.25, 6.5, 12.0, 8.5, 8.0, 5.75, 15.73, 9.86, 13.51, 5.4, 6.25, 5.5, 5.0, 6.25, 5.75, 20.5, 5.0, 7.0, 18.0, 12.0, 20.4, 22.2, 16.42, 8.63, 19.38, 14.0, 10.0, 15.95, 20.0, 10.0, 24.98, 11.25, 22.83, 10.2, 10.0, 14.0, 12.5, 5.79, 24.98, 4.35, 11.25, 6.67, 8.0, 18.16, 12.0, 8.89, 9.5, 13.65, 12.0, 15.0, 12.67, 7.38, 15.56, 7.45, 6.25, 6.25, 9.37, 22.5, 7.5, 7.0, 5.75, 7.67, 12.5, 16.0, 11.79, 11.36, 6.1, 23.25, 19.88, 15.38])\n"
   ]
  },
  {
   "cell_type": "code",
   "execution_count": 104,
   "metadata": {},
   "outputs": [
    {
     "name": "stdout",
     "output_type": "stream",
     "text": [
      "WARNING:tensorflow:From /Users/ksatola/anaconda3/lib/python3.7/site-packages/tensorflow/python/framework/op_def_library.py:263: colocate_with (from tensorflow.python.framework.ops) is deprecated and will be removed in a future version.\n",
      "Instructions for updating:\n",
      "Colocations handled automatically by placer.\n"
     ]
    }
   ],
   "source": [
    "# Import necessary modules\n",
    "import keras\n",
    "from keras.layers import Dense\n",
    "from keras.models import Sequential\n",
    "\n",
    "# Save the number of columns in predictors: n_cols\n",
    "n_cols = predictors.shape[1]\n",
    "\n",
    "# Set up the model: model\n",
    "model = Sequential()\n",
    "\n",
    "# Add the first layer\n",
    "# Add 50 units, specify activation='relu', and the input_shape parameter to be the tuple (n_cols,) which means it has n_cols items in each row of data, and any number of rows of data are acceptable as inputs.\n",
    "model.add(Dense(50, activation='relu', input_shape=(n_cols,)))\n",
    "\n",
    "# Add the second layer\n",
    "model.add(Dense(32, activation='relu'))\n",
    "\n",
    "# Add the output layer\n",
    "model.add(Dense(1))"
   ]
  },
  {
   "cell_type": "markdown",
   "metadata": {},
   "source": [
    "## Compiling the model\n",
    "\n",
    "You're now going to compile the model you specified earlier. To compile the model, you need to specify the `optimizer` and `loss function` to use. The **Adam optimizer** is an excellent choice. You can read more about it as well as other keras optimizers [here](https://keras.io/optimizers/#adam), and if you are really curious to learn more, you can read the [original paper](https://arxiv.org/abs/1412.6980v8) that introduced the Adam optimizer.\n",
    "\n",
    "In this exercise, you'll use the Adam optimizer and the mean squared error loss function. Go for it!"
   ]
  },
  {
   "cell_type": "code",
   "execution_count": 105,
   "metadata": {},
   "outputs": [
    {
     "name": "stdout",
     "output_type": "stream",
     "text": [
      "Loss function: mean_squared_error\n"
     ]
    }
   ],
   "source": [
    "# Import necessary modules\n",
    "import keras\n",
    "from keras.layers import Dense\n",
    "from keras.models import Sequential\n",
    "\n",
    "# Specify the model\n",
    "n_cols = predictors.shape[1]\n",
    "model = Sequential()\n",
    "model.add(Dense(50, activation='relu', input_shape = (n_cols,)))\n",
    "model.add(Dense(32, activation='relu'))\n",
    "model.add(Dense(1))\n",
    "\n",
    "# Compile the model\n",
    "model.compile(optimizer='adam', loss='mean_squared_error')\n",
    "\n",
    "# Verify that model contains information from compiling\n",
    "print(\"Loss function: \" + model.loss)"
   ]
  },
  {
   "cell_type": "markdown",
   "metadata": {},
   "source": [
    "## Fitting the model\n",
    "\n",
    "You're at the most fun part. You'll now fit the model. Recall that the data to be used as predictive features is loaded in a NumPy matrix called `predictors` and the data to be predicted is stored in a NumPy matrix called `target`. Your model is pre-written and it has been compiled with the code from the previous exercise."
   ]
  },
  {
   "cell_type": "code",
   "execution_count": 106,
   "metadata": {},
   "outputs": [
    {
     "name": "stdout",
     "output_type": "stream",
     "text": [
      "WARNING:tensorflow:From /Users/ksatola/anaconda3/lib/python3.7/site-packages/tensorflow/python/ops/math_ops.py:3066: to_int32 (from tensorflow.python.ops.math_ops) is deprecated and will be removed in a future version.\n",
      "Instructions for updating:\n",
      "Use tf.cast instead.\n",
      "Epoch 1/1\n",
      "534/534 [==============================] - 0s 437us/step - loss: 134.8825\n"
     ]
    },
    {
     "data": {
      "text/plain": [
       "<keras.callbacks.History at 0x1a2b951b70>"
      ]
     },
     "execution_count": 106,
     "metadata": {},
     "output_type": "execute_result"
    }
   ],
   "source": [
    "# Import necessary modules\n",
    "import keras\n",
    "from keras.layers import Dense\n",
    "from keras.models import Sequential\n",
    "\n",
    "# Specify the model\n",
    "n_cols = predictors.shape[1]\n",
    "model = Sequential()\n",
    "model.add(Dense(50, activation='relu', input_shape = (n_cols,)))\n",
    "model.add(Dense(32, activation='relu'))\n",
    "model.add(Dense(1))\n",
    "\n",
    "# Compile the model\n",
    "model.compile(optimizer='adam', loss='mean_squared_error')\n",
    "\n",
    "# Fit the model\n",
    "model.fit(predictors, target)"
   ]
  },
  {
   "cell_type": "markdown",
   "metadata": {},
   "source": [
    "You now know how to specify, compile, and fit a deep learning model using keras!"
   ]
  },
  {
   "cell_type": "markdown",
   "metadata": {},
   "source": [
    "## Classification\n",
    "\n",
    "<img src=\"images/deep_learning20.png\" alt=\"\" style=\"width: 400px;\"/>\n"
   ]
  },
  {
   "cell_type": "markdown",
   "metadata": {},
   "source": [
    "## Understanding your classification data\n",
    "\n",
    "Now you will start modeling with a new dataset for a **classification problem**. This data includes information about passengers on the Titanic. You will use predictors such as `age`, `fare` and where each passenger embarked from to predict who will survive. This data is from a [tutorial on data science competitions](https://www.kaggle.com/c/titanic). Look [here](https://www.kaggle.com/c/titanic/data) for descriptions of the features.\n",
    "\n",
    "The data is pre-loaded in a pandas DataFrame called `df`.\n",
    "\n",
    "`It's smart to review the maximum and minimum values of each variable to ensure the data isn't misformatted or corrupted`. What was the maximum age of passengers on the Titanic? Use the `.describe()` method in the IPython Shell to answer this question. (answer: 80)"
   ]
  },
  {
   "cell_type": "code",
   "execution_count": 107,
   "metadata": {},
   "outputs": [
    {
     "data": {
      "text/html": [
       "<div>\n",
       "<style scoped>\n",
       "    .dataframe tbody tr th:only-of-type {\n",
       "        vertical-align: middle;\n",
       "    }\n",
       "\n",
       "    .dataframe tbody tr th {\n",
       "        vertical-align: top;\n",
       "    }\n",
       "\n",
       "    .dataframe thead th {\n",
       "        text-align: right;\n",
       "    }\n",
       "</style>\n",
       "<table border=\"1\" class=\"dataframe\">\n",
       "  <thead>\n",
       "    <tr style=\"text-align: right;\">\n",
       "      <th></th>\n",
       "      <th>survived</th>\n",
       "      <th>pclass</th>\n",
       "      <th>age</th>\n",
       "      <th>sibsp</th>\n",
       "      <th>parch</th>\n",
       "      <th>fare</th>\n",
       "      <th>male</th>\n",
       "      <th>age_was_missing</th>\n",
       "      <th>embarked_from_cherbourg</th>\n",
       "      <th>embarked_from_queenstown</th>\n",
       "      <th>embarked_from_southampton</th>\n",
       "    </tr>\n",
       "  </thead>\n",
       "  <tbody>\n",
       "    <tr>\n",
       "      <th>0</th>\n",
       "      <td>0</td>\n",
       "      <td>3</td>\n",
       "      <td>22.0</td>\n",
       "      <td>1</td>\n",
       "      <td>0</td>\n",
       "      <td>7.2500</td>\n",
       "      <td>1</td>\n",
       "      <td>False</td>\n",
       "      <td>0</td>\n",
       "      <td>0</td>\n",
       "      <td>1</td>\n",
       "    </tr>\n",
       "    <tr>\n",
       "      <th>1</th>\n",
       "      <td>1</td>\n",
       "      <td>1</td>\n",
       "      <td>38.0</td>\n",
       "      <td>1</td>\n",
       "      <td>0</td>\n",
       "      <td>71.2833</td>\n",
       "      <td>0</td>\n",
       "      <td>False</td>\n",
       "      <td>1</td>\n",
       "      <td>0</td>\n",
       "      <td>0</td>\n",
       "    </tr>\n",
       "    <tr>\n",
       "      <th>2</th>\n",
       "      <td>1</td>\n",
       "      <td>3</td>\n",
       "      <td>26.0</td>\n",
       "      <td>0</td>\n",
       "      <td>0</td>\n",
       "      <td>7.9250</td>\n",
       "      <td>0</td>\n",
       "      <td>False</td>\n",
       "      <td>0</td>\n",
       "      <td>0</td>\n",
       "      <td>1</td>\n",
       "    </tr>\n",
       "    <tr>\n",
       "      <th>3</th>\n",
       "      <td>1</td>\n",
       "      <td>1</td>\n",
       "      <td>35.0</td>\n",
       "      <td>1</td>\n",
       "      <td>0</td>\n",
       "      <td>53.1000</td>\n",
       "      <td>0</td>\n",
       "      <td>False</td>\n",
       "      <td>0</td>\n",
       "      <td>0</td>\n",
       "      <td>1</td>\n",
       "    </tr>\n",
       "    <tr>\n",
       "      <th>4</th>\n",
       "      <td>0</td>\n",
       "      <td>3</td>\n",
       "      <td>35.0</td>\n",
       "      <td>0</td>\n",
       "      <td>0</td>\n",
       "      <td>8.0500</td>\n",
       "      <td>1</td>\n",
       "      <td>False</td>\n",
       "      <td>0</td>\n",
       "      <td>0</td>\n",
       "      <td>1</td>\n",
       "    </tr>\n",
       "  </tbody>\n",
       "</table>\n",
       "</div>"
      ],
      "text/plain": [
       "   survived  pclass   age  sibsp  parch     fare  male  age_was_missing  \\\n",
       "0         0       3  22.0      1      0   7.2500     1            False   \n",
       "1         1       1  38.0      1      0  71.2833     0            False   \n",
       "2         1       3  26.0      0      0   7.9250     0            False   \n",
       "3         1       1  35.0      1      0  53.1000     0            False   \n",
       "4         0       3  35.0      0      0   8.0500     1            False   \n",
       "\n",
       "   embarked_from_cherbourg  embarked_from_queenstown  \\\n",
       "0                        0                         0   \n",
       "1                        1                         0   \n",
       "2                        0                         0   \n",
       "3                        0                         0   \n",
       "4                        0                         0   \n",
       "\n",
       "   embarked_from_southampton  \n",
       "0                          1  \n",
       "1                          0  \n",
       "2                          1  \n",
       "3                          1  \n",
       "4                          1  "
      ]
     },
     "execution_count": 107,
     "metadata": {},
     "output_type": "execute_result"
    }
   ],
   "source": [
    "df = pd.read_csv(path+'titanic.csv', index_col=0)\n",
    "df.head()"
   ]
  },
  {
   "cell_type": "code",
   "execution_count": 108,
   "metadata": {},
   "outputs": [
    {
     "data": {
      "text/html": [
       "<div>\n",
       "<style scoped>\n",
       "    .dataframe tbody tr th:only-of-type {\n",
       "        vertical-align: middle;\n",
       "    }\n",
       "\n",
       "    .dataframe tbody tr th {\n",
       "        vertical-align: top;\n",
       "    }\n",
       "\n",
       "    .dataframe thead th {\n",
       "        text-align: right;\n",
       "    }\n",
       "</style>\n",
       "<table border=\"1\" class=\"dataframe\">\n",
       "  <thead>\n",
       "    <tr style=\"text-align: right;\">\n",
       "      <th></th>\n",
       "      <th>survived</th>\n",
       "      <th>pclass</th>\n",
       "      <th>age</th>\n",
       "      <th>sibsp</th>\n",
       "      <th>parch</th>\n",
       "      <th>fare</th>\n",
       "      <th>male</th>\n",
       "      <th>embarked_from_cherbourg</th>\n",
       "      <th>embarked_from_queenstown</th>\n",
       "      <th>embarked_from_southampton</th>\n",
       "    </tr>\n",
       "  </thead>\n",
       "  <tbody>\n",
       "    <tr>\n",
       "      <th>count</th>\n",
       "      <td>891.000000</td>\n",
       "      <td>891.000000</td>\n",
       "      <td>891.000000</td>\n",
       "      <td>891.000000</td>\n",
       "      <td>891.000000</td>\n",
       "      <td>891.000000</td>\n",
       "      <td>891.000000</td>\n",
       "      <td>891.000000</td>\n",
       "      <td>891.000000</td>\n",
       "      <td>891.000000</td>\n",
       "    </tr>\n",
       "    <tr>\n",
       "      <th>mean</th>\n",
       "      <td>0.383838</td>\n",
       "      <td>2.308642</td>\n",
       "      <td>29.699118</td>\n",
       "      <td>0.523008</td>\n",
       "      <td>0.381594</td>\n",
       "      <td>32.204208</td>\n",
       "      <td>0.647587</td>\n",
       "      <td>0.188552</td>\n",
       "      <td>0.086420</td>\n",
       "      <td>0.722783</td>\n",
       "    </tr>\n",
       "    <tr>\n",
       "      <th>std</th>\n",
       "      <td>0.486592</td>\n",
       "      <td>0.836071</td>\n",
       "      <td>13.002015</td>\n",
       "      <td>1.102743</td>\n",
       "      <td>0.806057</td>\n",
       "      <td>49.693429</td>\n",
       "      <td>0.477990</td>\n",
       "      <td>0.391372</td>\n",
       "      <td>0.281141</td>\n",
       "      <td>0.447876</td>\n",
       "    </tr>\n",
       "    <tr>\n",
       "      <th>min</th>\n",
       "      <td>0.000000</td>\n",
       "      <td>1.000000</td>\n",
       "      <td>0.420000</td>\n",
       "      <td>0.000000</td>\n",
       "      <td>0.000000</td>\n",
       "      <td>0.000000</td>\n",
       "      <td>0.000000</td>\n",
       "      <td>0.000000</td>\n",
       "      <td>0.000000</td>\n",
       "      <td>0.000000</td>\n",
       "    </tr>\n",
       "    <tr>\n",
       "      <th>25%</th>\n",
       "      <td>0.000000</td>\n",
       "      <td>2.000000</td>\n",
       "      <td>22.000000</td>\n",
       "      <td>0.000000</td>\n",
       "      <td>0.000000</td>\n",
       "      <td>7.910400</td>\n",
       "      <td>0.000000</td>\n",
       "      <td>0.000000</td>\n",
       "      <td>0.000000</td>\n",
       "      <td>0.000000</td>\n",
       "    </tr>\n",
       "    <tr>\n",
       "      <th>50%</th>\n",
       "      <td>0.000000</td>\n",
       "      <td>3.000000</td>\n",
       "      <td>29.699118</td>\n",
       "      <td>0.000000</td>\n",
       "      <td>0.000000</td>\n",
       "      <td>14.454200</td>\n",
       "      <td>1.000000</td>\n",
       "      <td>0.000000</td>\n",
       "      <td>0.000000</td>\n",
       "      <td>1.000000</td>\n",
       "    </tr>\n",
       "    <tr>\n",
       "      <th>75%</th>\n",
       "      <td>1.000000</td>\n",
       "      <td>3.000000</td>\n",
       "      <td>35.000000</td>\n",
       "      <td>1.000000</td>\n",
       "      <td>0.000000</td>\n",
       "      <td>31.000000</td>\n",
       "      <td>1.000000</td>\n",
       "      <td>0.000000</td>\n",
       "      <td>0.000000</td>\n",
       "      <td>1.000000</td>\n",
       "    </tr>\n",
       "    <tr>\n",
       "      <th>max</th>\n",
       "      <td>1.000000</td>\n",
       "      <td>3.000000</td>\n",
       "      <td>80.000000</td>\n",
       "      <td>8.000000</td>\n",
       "      <td>6.000000</td>\n",
       "      <td>512.329200</td>\n",
       "      <td>1.000000</td>\n",
       "      <td>1.000000</td>\n",
       "      <td>1.000000</td>\n",
       "      <td>1.000000</td>\n",
       "    </tr>\n",
       "  </tbody>\n",
       "</table>\n",
       "</div>"
      ],
      "text/plain": [
       "         survived      pclass         age       sibsp       parch        fare  \\\n",
       "count  891.000000  891.000000  891.000000  891.000000  891.000000  891.000000   \n",
       "mean     0.383838    2.308642   29.699118    0.523008    0.381594   32.204208   \n",
       "std      0.486592    0.836071   13.002015    1.102743    0.806057   49.693429   \n",
       "min      0.000000    1.000000    0.420000    0.000000    0.000000    0.000000   \n",
       "25%      0.000000    2.000000   22.000000    0.000000    0.000000    7.910400   \n",
       "50%      0.000000    3.000000   29.699118    0.000000    0.000000   14.454200   \n",
       "75%      1.000000    3.000000   35.000000    1.000000    0.000000   31.000000   \n",
       "max      1.000000    3.000000   80.000000    8.000000    6.000000  512.329200   \n",
       "\n",
       "             male  embarked_from_cherbourg  embarked_from_queenstown  \\\n",
       "count  891.000000               891.000000                891.000000   \n",
       "mean     0.647587                 0.188552                  0.086420   \n",
       "std      0.477990                 0.391372                  0.281141   \n",
       "min      0.000000                 0.000000                  0.000000   \n",
       "25%      0.000000                 0.000000                  0.000000   \n",
       "50%      1.000000                 0.000000                  0.000000   \n",
       "75%      1.000000                 0.000000                  0.000000   \n",
       "max      1.000000                 1.000000                  1.000000   \n",
       "\n",
       "       embarked_from_southampton  \n",
       "count                 891.000000  \n",
       "mean                    0.722783  \n",
       "std                     0.447876  \n",
       "min                     0.000000  \n",
       "25%                     0.000000  \n",
       "50%                     1.000000  \n",
       "75%                     1.000000  \n",
       "max                     1.000000  "
      ]
     },
     "execution_count": 108,
     "metadata": {},
     "output_type": "execute_result"
    }
   ],
   "source": [
    "df.describe()"
   ]
  },
  {
   "cell_type": "markdown",
   "metadata": {},
   "source": [
    "## Last steps in classification models\n",
    "\n",
    "You'll now create a **classification model** using the titanic dataset, which has been pre-loaded into a DataFrame called `df`. You'll take information about the passengers and predict which ones survived.\n",
    "\n",
    "The predictive variables are stored in a NumPy array `predictors`. The target to predict is in `df.survived`, though you'll have to manipulate it for keras. The number of predictive features is stored in `n_cols`.\n",
    "\n",
    "Here, you'll use the `'sgd'` optimizer, which stands for **Stochastic Gradient Descent** ([info](https://en.wikipedia.org/wiki/Stochastic_gradient_descent)). You'll learn more about this soon!"
   ]
  },
  {
   "cell_type": "code",
   "execution_count": 110,
   "metadata": {},
   "outputs": [],
   "source": [
    "predictors = np.array([[3.0, 22.0, 1.0, 0.0, 7.25, 1.0, 0.0, 0.0, 0.0, 1.0], [1.0, 38.0, 1.0, 0.0, 71.2833, 0.0, 0.0, 1.0, 0.0, 0.0], [3.0, 26.0, 0.0, 0.0, 7.925, 0.0, 0.0, 0.0, 0.0, 1.0], [1.0, 35.0, 1.0, 0.0, 53.1, 0.0, 0.0, 0.0, 0.0, 1.0], [3.0, 35.0, 0.0, 0.0, 8.05, 1.0, 0.0, 0.0, 0.0, 1.0], [3.0, 29.69911764705882, 0.0, 0.0, 8.4583, 1.0, 1.0, 0.0, 1.0, 0.0], [1.0, 54.0, 0.0, 0.0, 51.8625, 1.0, 0.0, 0.0, 0.0, 1.0], [3.0, 2.0, 3.0, 1.0, 21.075, 1.0, 0.0, 0.0, 0.0, 1.0], [3.0, 27.0, 0.0, 2.0, 11.1333, 0.0, 0.0, 0.0, 0.0, 1.0], [2.0, 14.0, 1.0, 0.0, 30.0708, 0.0, 0.0, 1.0, 0.0, 0.0], [3.0, 4.0, 1.0, 1.0, 16.7, 0.0, 0.0, 0.0, 0.0, 1.0], [1.0, 58.0, 0.0, 0.0, 26.55, 0.0, 0.0, 0.0, 0.0, 1.0], [3.0, 20.0, 0.0, 0.0, 8.05, 1.0, 0.0, 0.0, 0.0, 1.0], [3.0, 39.0, 1.0, 5.0, 31.275, 1.0, 0.0, 0.0, 0.0, 1.0], [3.0, 14.0, 0.0, 0.0, 7.8542, 0.0, 0.0, 0.0, 0.0, 1.0], [2.0, 55.0, 0.0, 0.0, 16.0, 0.0, 0.0, 0.0, 0.0, 1.0], [3.0, 2.0, 4.0, 1.0, 29.125, 1.0, 0.0, 0.0, 1.0, 0.0], [2.0, 29.69911764705882, 0.0, 0.0, 13.0, 1.0, 1.0, 0.0, 0.0, 1.0], [3.0, 31.0, 1.0, 0.0, 18.0, 0.0, 0.0, 0.0, 0.0, 1.0], [3.0, 29.69911764705882, 0.0, 0.0, 7.225, 0.0, 1.0, 1.0, 0.0, 0.0], [2.0, 35.0, 0.0, 0.0, 26.0, 1.0, 0.0, 0.0, 0.0, 1.0], [2.0, 34.0, 0.0, 0.0, 13.0, 1.0, 0.0, 0.0, 0.0, 1.0], [3.0, 15.0, 0.0, 0.0, 8.0292, 0.0, 0.0, 0.0, 1.0, 0.0], [1.0, 28.0, 0.0, 0.0, 35.5, 1.0, 0.0, 0.0, 0.0, 1.0], [3.0, 8.0, 3.0, 1.0, 21.075, 0.0, 0.0, 0.0, 0.0, 1.0], [3.0, 38.0, 1.0, 5.0, 31.3875, 0.0, 0.0, 0.0, 0.0, 1.0], [3.0, 29.69911764705882, 0.0, 0.0, 7.225, 1.0, 1.0, 1.0, 0.0, 0.0], [1.0, 19.0, 3.0, 2.0, 263.0, 1.0, 0.0, 0.0, 0.0, 1.0], [3.0, 29.69911764705882, 0.0, 0.0, 7.8792, 0.0, 1.0, 0.0, 1.0, 0.0], [3.0, 29.69911764705882, 0.0, 0.0, 7.8958, 1.0, 1.0, 0.0, 0.0, 1.0], [1.0, 40.0, 0.0, 0.0, 27.7208, 1.0, 0.0, 1.0, 0.0, 0.0], [1.0, 29.69911764705882, 1.0, 0.0, 146.5208, 0.0, 1.0, 1.0, 0.0, 0.0], [3.0, 29.69911764705882, 0.0, 0.0, 7.75, 0.0, 1.0, 0.0, 1.0, 0.0], [2.0, 66.0, 0.0, 0.0, 10.5, 1.0, 0.0, 0.0, 0.0, 1.0], [1.0, 28.0, 1.0, 0.0, 82.1708, 1.0, 0.0, 1.0, 0.0, 0.0], [1.0, 42.0, 1.0, 0.0, 52.0, 1.0, 0.0, 0.0, 0.0, 1.0], [3.0, 29.69911764705882, 0.0, 0.0, 7.2292, 1.0, 1.0, 1.0, 0.0, 0.0], [3.0, 21.0, 0.0, 0.0, 8.05, 1.0, 0.0, 0.0, 0.0, 1.0], [3.0, 18.0, 2.0, 0.0, 18.0, 0.0, 0.0, 0.0, 0.0, 1.0], [3.0, 14.0, 1.0, 0.0, 11.2417, 0.0, 0.0, 1.0, 0.0, 0.0], [3.0, 40.0, 1.0, 0.0, 9.475, 0.0, 0.0, 0.0, 0.0, 1.0], [2.0, 27.0, 1.0, 0.0, 21.0, 0.0, 0.0, 0.0, 0.0, 1.0], [3.0, 29.69911764705882, 0.0, 0.0, 7.8958, 1.0, 1.0, 1.0, 0.0, 0.0], [2.0, 3.0, 1.0, 2.0, 41.5792, 0.0, 0.0, 1.0, 0.0, 0.0], [3.0, 19.0, 0.0, 0.0, 7.8792, 0.0, 0.0, 0.0, 1.0, 0.0], [3.0, 29.69911764705882, 0.0, 0.0, 8.05, 1.0, 1.0, 0.0, 0.0, 1.0], [3.0, 29.69911764705882, 1.0, 0.0, 15.5, 1.0, 1.0, 0.0, 1.0, 0.0], [3.0, 29.69911764705882, 0.0, 0.0, 7.75, 0.0, 1.0, 0.0, 1.0, 0.0], [3.0, 29.69911764705882, 2.0, 0.0, 21.6792, 1.0, 1.0, 1.0, 0.0, 0.0], [3.0, 18.0, 1.0, 0.0, 17.8, 0.0, 0.0, 0.0, 0.0, 1.0], [3.0, 7.0, 4.0, 1.0, 39.6875, 1.0, 0.0, 0.0, 0.0, 1.0], [3.0, 21.0, 0.0, 0.0, 7.8, 1.0, 0.0, 0.0, 0.0, 1.0], [1.0, 49.0, 1.0, 0.0, 76.7292, 0.0, 0.0, 1.0, 0.0, 0.0], [2.0, 29.0, 1.0, 0.0, 26.0, 0.0, 0.0, 0.0, 0.0, 1.0], [1.0, 65.0, 0.0, 1.0, 61.9792, 1.0, 0.0, 1.0, 0.0, 0.0], [1.0, 29.69911764705882, 0.0, 0.0, 35.5, 1.0, 1.0, 0.0, 0.0, 1.0], [2.0, 21.0, 0.0, 0.0, 10.5, 0.0, 0.0, 0.0, 0.0, 1.0], [3.0, 28.5, 0.0, 0.0, 7.2292, 1.0, 0.0, 1.0, 0.0, 0.0], [2.0, 5.0, 1.0, 2.0, 27.75, 0.0, 0.0, 0.0, 0.0, 1.0], [3.0, 11.0, 5.0, 2.0, 46.9, 1.0, 0.0, 0.0, 0.0, 1.0], [3.0, 22.0, 0.0, 0.0, 7.2292, 1.0, 0.0, 1.0, 0.0, 0.0], [1.0, 38.0, 0.0, 0.0, 80.0, 0.0, 0.0, 0.0, 0.0, 0.0], [1.0, 45.0, 1.0, 0.0, 83.475, 1.0, 0.0, 0.0, 0.0, 1.0], [3.0, 4.0, 3.0, 2.0, 27.9, 1.0, 0.0, 0.0, 0.0, 1.0], [1.0, 29.69911764705882, 0.0, 0.0, 27.7208, 1.0, 1.0, 1.0, 0.0, 0.0], [3.0, 29.69911764705882, 1.0, 1.0, 15.2458, 1.0, 1.0, 1.0, 0.0, 0.0], [2.0, 29.0, 0.0, 0.0, 10.5, 0.0, 0.0, 0.0, 0.0, 1.0], [3.0, 19.0, 0.0, 0.0, 8.1583, 1.0, 0.0, 0.0, 0.0, 1.0], [3.0, 17.0, 4.0, 2.0, 7.925, 0.0, 0.0, 0.0, 0.0, 1.0], [3.0, 26.0, 2.0, 0.0, 8.6625, 1.0, 0.0, 0.0, 0.0, 1.0], [2.0, 32.0, 0.0, 0.0, 10.5, 1.0, 0.0, 0.0, 0.0, 1.0], [3.0, 16.0, 5.0, 2.0, 46.9, 0.0, 0.0, 0.0, 0.0, 1.0], [2.0, 21.0, 0.0, 0.0, 73.5, 1.0, 0.0, 0.0, 0.0, 1.0], [3.0, 26.0, 1.0, 0.0, 14.4542, 1.0, 0.0, 1.0, 0.0, 0.0], [3.0, 32.0, 0.0, 0.0, 56.4958, 1.0, 0.0, 0.0, 0.0, 1.0], [3.0, 25.0, 0.0, 0.0, 7.65, 1.0, 0.0, 0.0, 0.0, 1.0], [3.0, 29.69911764705882, 0.0, 0.0, 7.8958, 1.0, 1.0, 0.0, 0.0, 1.0], [3.0, 29.69911764705882, 0.0, 0.0, 8.05, 1.0, 1.0, 0.0, 0.0, 1.0], [2.0, 0.83, 0.0, 2.0, 29.0, 1.0, 0.0, 0.0, 0.0, 1.0], [3.0, 30.0, 0.0, 0.0, 12.475, 0.0, 0.0, 0.0, 0.0, 1.0], [3.0, 22.0, 0.0, 0.0, 9.0, 1.0, 0.0, 0.0, 0.0, 1.0], [3.0, 29.0, 0.0, 0.0, 9.5, 1.0, 0.0, 0.0, 0.0, 1.0], [3.0, 29.69911764705882, 0.0, 0.0, 7.7875, 0.0, 1.0, 0.0, 1.0, 0.0], [1.0, 28.0, 0.0, 0.0, 47.1, 1.0, 0.0, 0.0, 0.0, 1.0], [2.0, 17.0, 0.0, 0.0, 10.5, 0.0, 0.0, 0.0, 0.0, 1.0], [3.0, 33.0, 3.0, 0.0, 15.85, 0.0, 0.0, 0.0, 0.0, 1.0], [3.0, 16.0, 1.0, 3.0, 34.375, 1.0, 0.0, 0.0, 0.0, 1.0], [3.0, 29.69911764705882, 0.0, 0.0, 8.05, 1.0, 1.0, 0.0, 0.0, 1.0], [1.0, 23.0, 3.0, 2.0, 263.0, 0.0, 0.0, 0.0, 0.0, 1.0], [3.0, 24.0, 0.0, 0.0, 8.05, 1.0, 0.0, 0.0, 0.0, 1.0], [3.0, 29.0, 0.0, 0.0, 8.05, 1.0, 0.0, 0.0, 0.0, 1.0], [3.0, 20.0, 0.0, 0.0, 7.8542, 1.0, 0.0, 0.0, 0.0, 1.0], [1.0, 46.0, 1.0, 0.0, 61.175, 1.0, 0.0, 0.0, 0.0, 1.0], [3.0, 26.0, 1.0, 2.0, 20.575, 1.0, 0.0, 0.0, 0.0, 1.0], [3.0, 59.0, 0.0, 0.0, 7.25, 1.0, 0.0, 0.0, 0.0, 1.0], [3.0, 29.69911764705882, 0.0, 0.0, 8.05, 1.0, 1.0, 0.0, 0.0, 1.0], [1.0, 71.0, 0.0, 0.0, 34.6542, 1.0, 0.0, 1.0, 0.0, 0.0], [1.0, 23.0, 0.0, 1.0, 63.3583, 1.0, 0.0, 1.0, 0.0, 0.0], [2.0, 34.0, 0.0, 1.0, 23.0, 0.0, 0.0, 0.0, 0.0, 1.0], [2.0, 34.0, 1.0, 0.0, 26.0, 1.0, 0.0, 0.0, 0.0, 1.0], [3.0, 28.0, 0.0, 0.0, 7.8958, 0.0, 0.0, 0.0, 0.0, 1.0], [3.0, 29.69911764705882, 0.0, 0.0, 7.8958, 1.0, 1.0, 0.0, 0.0, 1.0], [1.0, 21.0, 0.0, 1.0, 77.2875, 1.0, 0.0, 0.0, 0.0, 1.0], [3.0, 33.0, 0.0, 0.0, 8.6542, 1.0, 0.0, 0.0, 0.0, 1.0], [3.0, 37.0, 2.0, 0.0, 7.925, 1.0, 0.0, 0.0, 0.0, 1.0], [3.0, 28.0, 0.0, 0.0, 7.8958, 1.0, 0.0, 0.0, 0.0, 1.0], [3.0, 21.0, 0.0, 0.0, 7.65, 0.0, 0.0, 0.0, 0.0, 1.0], [3.0, 29.69911764705882, 0.0, 0.0, 7.775, 1.0, 1.0, 0.0, 0.0, 1.0], [3.0, 38.0, 0.0, 0.0, 7.8958, 1.0, 0.0, 0.0, 0.0, 1.0], [3.0, 29.69911764705882, 1.0, 0.0, 24.15, 0.0, 1.0, 0.0, 1.0, 0.0], [1.0, 47.0, 0.0, 0.0, 52.0, 1.0, 0.0, 0.0, 0.0, 1.0], [3.0, 14.5, 1.0, 0.0, 14.4542, 0.0, 0.0, 1.0, 0.0, 0.0], [3.0, 22.0, 0.0, 0.0, 8.05, 1.0, 0.0, 0.0, 0.0, 1.0], [3.0, 20.0, 1.0, 0.0, 9.825, 0.0, 0.0, 0.0, 0.0, 1.0], [3.0, 17.0, 0.0, 0.0, 14.4583, 0.0, 0.0, 1.0, 0.0, 0.0], [3.0, 21.0, 0.0, 0.0, 7.925, 1.0, 0.0, 0.0, 0.0, 1.0], [3.0, 70.5, 0.0, 0.0, 7.75, 1.0, 0.0, 0.0, 1.0, 0.0], [2.0, 29.0, 1.0, 0.0, 21.0, 1.0, 0.0, 0.0, 0.0, 1.0], [1.0, 24.0, 0.0, 1.0, 247.5208, 1.0, 0.0, 1.0, 0.0, 0.0], [3.0, 2.0, 4.0, 2.0, 31.275, 0.0, 0.0, 0.0, 0.0, 1.0], [2.0, 21.0, 2.0, 0.0, 73.5, 1.0, 0.0, 0.0, 0.0, 1.0], [3.0, 29.69911764705882, 0.0, 0.0, 8.05, 1.0, 1.0, 0.0, 0.0, 1.0], [2.0, 32.5, 1.0, 0.0, 30.0708, 1.0, 0.0, 1.0, 0.0, 0.0], [2.0, 32.5, 0.0, 0.0, 13.0, 0.0, 0.0, 0.0, 0.0, 1.0], [1.0, 54.0, 0.0, 1.0, 77.2875, 1.0, 0.0, 0.0, 0.0, 1.0], [3.0, 12.0, 1.0, 0.0, 11.2417, 1.0, 0.0, 1.0, 0.0, 0.0], [3.0, 29.69911764705882, 0.0, 0.0, 7.75, 1.0, 1.0, 0.0, 1.0, 0.0], [3.0, 24.0, 0.0, 0.0, 7.1417, 1.0, 0.0, 0.0, 0.0, 1.0], [3.0, 29.69911764705882, 1.0, 1.0, 22.3583, 0.0, 1.0, 1.0, 0.0, 0.0], [3.0, 45.0, 0.0, 0.0, 6.975, 1.0, 0.0, 0.0, 0.0, 1.0], [3.0, 33.0, 0.0, 0.0, 7.8958, 1.0, 0.0, 1.0, 0.0, 0.0], [3.0, 20.0, 0.0, 0.0, 7.05, 1.0, 0.0, 0.0, 0.0, 1.0], [3.0, 47.0, 1.0, 0.0, 14.5, 0.0, 0.0, 0.0, 0.0, 1.0], [2.0, 29.0, 1.0, 0.0, 26.0, 0.0, 0.0, 0.0, 0.0, 1.0], [2.0, 25.0, 0.0, 0.0, 13.0, 1.0, 0.0, 0.0, 0.0, 1.0], [2.0, 23.0, 0.0, 0.0, 15.0458, 1.0, 0.0, 1.0, 0.0, 0.0], [1.0, 19.0, 0.0, 2.0, 26.2833, 0.0, 0.0, 0.0, 0.0, 1.0], [1.0, 37.0, 1.0, 0.0, 53.1, 1.0, 0.0, 0.0, 0.0, 1.0], [3.0, 16.0, 0.0, 0.0, 9.2167, 1.0, 0.0, 0.0, 0.0, 1.0], [1.0, 24.0, 0.0, 0.0, 79.2, 1.0, 0.0, 1.0, 0.0, 0.0], [3.0, 29.69911764705882, 0.0, 2.0, 15.2458, 0.0, 1.0, 1.0, 0.0, 0.0], [3.0, 22.0, 0.0, 0.0, 7.75, 0.0, 0.0, 0.0, 0.0, 1.0], [3.0, 24.0, 1.0, 0.0, 15.85, 0.0, 0.0, 0.0, 0.0, 1.0], [3.0, 19.0, 0.0, 0.0, 6.75, 1.0, 0.0, 0.0, 1.0, 0.0], [2.0, 18.0, 0.0, 0.0, 11.5, 1.0, 0.0, 0.0, 0.0, 1.0], [2.0, 19.0, 1.0, 1.0, 36.75, 1.0, 0.0, 0.0, 0.0, 1.0], [3.0, 27.0, 0.0, 0.0, 7.7958, 1.0, 0.0, 0.0, 0.0, 1.0], [3.0, 9.0, 2.0, 2.0, 34.375, 0.0, 0.0, 0.0, 0.0, 1.0], [2.0, 36.5, 0.0, 2.0, 26.0, 1.0, 0.0, 0.0, 0.0, 1.0], [2.0, 42.0, 0.0, 0.0, 13.0, 1.0, 0.0, 0.0, 0.0, 1.0], [2.0, 51.0, 0.0, 0.0, 12.525, 1.0, 0.0, 0.0, 0.0, 1.0], [1.0, 22.0, 1.0, 0.0, 66.6, 0.0, 0.0, 0.0, 0.0, 1.0], [3.0, 55.5, 0.0, 0.0, 8.05, 1.0, 0.0, 0.0, 0.0, 1.0], [3.0, 40.5, 0.0, 2.0, 14.5, 1.0, 0.0, 0.0, 0.0, 1.0], [3.0, 29.69911764705882, 0.0, 0.0, 7.3125, 1.0, 1.0, 0.0, 0.0, 1.0], [1.0, 51.0, 0.0, 1.0, 61.3792, 1.0, 0.0, 1.0, 0.0, 0.0], [3.0, 16.0, 0.0, 0.0, 7.7333, 0.0, 0.0, 0.0, 1.0, 0.0], [3.0, 30.0, 0.0, 0.0, 8.05, 1.0, 0.0, 0.0, 0.0, 1.0], [3.0, 29.69911764705882, 0.0, 0.0, 8.6625, 1.0, 1.0, 0.0, 0.0, 1.0], [3.0, 29.69911764705882, 8.0, 2.0, 69.55, 1.0, 1.0, 0.0, 0.0, 1.0], [3.0, 44.0, 0.0, 1.0, 16.1, 1.0, 0.0, 0.0, 0.0, 1.0], [2.0, 40.0, 0.0, 0.0, 15.75, 0.0, 0.0, 0.0, 0.0, 1.0], [3.0, 26.0, 0.0, 0.0, 7.775, 1.0, 0.0, 0.0, 0.0, 1.0], [3.0, 17.0, 0.0, 0.0, 8.6625, 1.0, 0.0, 0.0, 0.0, 1.0], [3.0, 1.0, 4.0, 1.0, 39.6875, 1.0, 0.0, 0.0, 0.0, 1.0], [3.0, 9.0, 0.0, 2.0, 20.525, 1.0, 0.0, 0.0, 0.0, 1.0], [1.0, 29.69911764705882, 0.0, 1.0, 55.0, 0.0, 1.0, 0.0, 0.0, 1.0], [3.0, 45.0, 1.0, 4.0, 27.9, 0.0, 0.0, 0.0, 0.0, 1.0], [1.0, 29.69911764705882, 0.0, 0.0, 25.925, 1.0, 1.0, 0.0, 0.0, 1.0], [3.0, 28.0, 0.0, 0.0, 56.4958, 1.0, 0.0, 0.0, 0.0, 1.0], [1.0, 61.0, 0.0, 0.0, 33.5, 1.0, 0.0, 0.0, 0.0, 1.0], [3.0, 4.0, 4.0, 1.0, 29.125, 1.0, 0.0, 0.0, 1.0, 0.0], [3.0, 1.0, 1.0, 1.0, 11.1333, 0.0, 0.0, 0.0, 0.0, 1.0], [3.0, 21.0, 0.0, 0.0, 7.925, 1.0, 0.0, 0.0, 0.0, 1.0], [1.0, 56.0, 0.0, 0.0, 30.6958, 1.0, 0.0, 1.0, 0.0, 0.0], [3.0, 18.0, 1.0, 1.0, 7.8542, 1.0, 0.0, 0.0, 0.0, 1.0], [3.0, 29.69911764705882, 3.0, 1.0, 25.4667, 1.0, 1.0, 0.0, 0.0, 1.0], [1.0, 50.0, 0.0, 0.0, 28.7125, 0.0, 0.0, 1.0, 0.0, 0.0], [2.0, 30.0, 0.0, 0.0, 13.0, 1.0, 0.0, 0.0, 0.0, 1.0], [3.0, 36.0, 0.0, 0.0, 0.0, 1.0, 0.0, 0.0, 0.0, 1.0], [3.0, 29.69911764705882, 8.0, 2.0, 69.55, 0.0, 1.0, 0.0, 0.0, 1.0], [2.0, 29.69911764705882, 0.0, 0.0, 15.05, 1.0, 1.0, 1.0, 0.0, 0.0], [3.0, 9.0, 4.0, 2.0, 31.3875, 1.0, 0.0, 0.0, 0.0, 1.0], [2.0, 1.0, 2.0, 1.0, 39.0, 1.0, 0.0, 0.0, 0.0, 1.0], [3.0, 4.0, 0.0, 2.0, 22.025, 0.0, 0.0, 0.0, 0.0, 1.0], [1.0, 29.69911764705882, 0.0, 0.0, 50.0, 1.0, 1.0, 0.0, 0.0, 1.0], [3.0, 29.69911764705882, 1.0, 0.0, 15.5, 0.0, 1.0, 0.0, 1.0, 0.0], [1.0, 45.0, 0.0, 0.0, 26.55, 1.0, 0.0, 0.0, 0.0, 1.0], [3.0, 40.0, 1.0, 1.0, 15.5, 1.0, 0.0, 0.0, 1.0, 0.0], [3.0, 36.0, 0.0, 0.0, 7.8958, 1.0, 0.0, 0.0, 0.0, 1.0], [2.0, 32.0, 0.0, 0.0, 13.0, 0.0, 0.0, 0.0, 0.0, 1.0], [2.0, 19.0, 0.0, 0.0, 13.0, 1.0, 0.0, 0.0, 0.0, 1.0], [3.0, 19.0, 1.0, 0.0, 7.8542, 0.0, 0.0, 0.0, 0.0, 1.0], [2.0, 3.0, 1.0, 1.0, 26.0, 1.0, 0.0, 0.0, 0.0, 1.0], [1.0, 44.0, 0.0, 0.0, 27.7208, 0.0, 0.0, 1.0, 0.0, 0.0], [1.0, 58.0, 0.0, 0.0, 146.5208, 0.0, 0.0, 1.0, 0.0, 0.0], [3.0, 29.69911764705882, 0.0, 0.0, 7.75, 1.0, 1.0, 0.0, 1.0, 0.0], [3.0, 42.0, 0.0, 1.0, 8.4042, 1.0, 0.0, 0.0, 0.0, 1.0], [3.0, 29.69911764705882, 0.0, 0.0, 7.75, 0.0, 1.0, 0.0, 1.0, 0.0], [2.0, 24.0, 0.0, 0.0, 13.0, 0.0, 0.0, 0.0, 0.0, 1.0], [3.0, 28.0, 0.0, 0.0, 9.5, 1.0, 0.0, 0.0, 0.0, 1.0], [3.0, 29.69911764705882, 8.0, 2.0, 69.55, 1.0, 1.0, 0.0, 0.0, 1.0], [3.0, 34.0, 0.0, 0.0, 6.4958, 1.0, 0.0, 0.0, 0.0, 1.0], [3.0, 45.5, 0.0, 0.0, 7.225, 1.0, 0.0, 1.0, 0.0, 0.0], [3.0, 18.0, 0.0, 0.0, 8.05, 1.0, 0.0, 0.0, 0.0, 1.0], [3.0, 2.0, 0.0, 1.0, 10.4625, 0.0, 0.0, 0.0, 0.0, 1.0], [3.0, 32.0, 1.0, 0.0, 15.85, 1.0, 0.0, 0.0, 0.0, 1.0], [3.0, 26.0, 0.0, 0.0, 18.7875, 1.0, 0.0, 1.0, 0.0, 0.0], [3.0, 16.0, 0.0, 0.0, 7.75, 0.0, 0.0, 0.0, 1.0, 0.0], [1.0, 40.0, 0.0, 0.0, 31.0, 1.0, 0.0, 1.0, 0.0, 0.0], [3.0, 24.0, 0.0, 0.0, 7.05, 1.0, 0.0, 0.0, 0.0, 1.0], [2.0, 35.0, 0.0, 0.0, 21.0, 0.0, 0.0, 0.0, 0.0, 1.0], [3.0, 22.0, 0.0, 0.0, 7.25, 1.0, 0.0, 0.0, 0.0, 1.0], [2.0, 30.0, 0.0, 0.0, 13.0, 1.0, 0.0, 0.0, 0.0, 1.0], [3.0, 29.69911764705882, 1.0, 0.0, 7.75, 1.0, 1.0, 0.0, 1.0, 0.0], [1.0, 31.0, 1.0, 0.0, 113.275, 0.0, 0.0, 1.0, 0.0, 0.0], [3.0, 27.0, 0.0, 0.0, 7.925, 0.0, 0.0, 0.0, 0.0, 1.0], [2.0, 42.0, 1.0, 0.0, 27.0, 1.0, 0.0, 0.0, 0.0, 1.0], [1.0, 32.0, 0.0, 0.0, 76.2917, 0.0, 0.0, 1.0, 0.0, 0.0], [2.0, 30.0, 0.0, 0.0, 10.5, 1.0, 0.0, 0.0, 0.0, 1.0], [3.0, 16.0, 0.0, 0.0, 8.05, 1.0, 0.0, 0.0, 0.0, 1.0], [2.0, 27.0, 0.0, 0.0, 13.0, 1.0, 0.0, 0.0, 0.0, 1.0], [3.0, 51.0, 0.0, 0.0, 8.05, 1.0, 0.0, 0.0, 0.0, 1.0], [3.0, 29.69911764705882, 0.0, 0.0, 7.8958, 1.0, 1.0, 0.0, 0.0, 1.0], [1.0, 38.0, 1.0, 0.0, 90.0, 1.0, 0.0, 0.0, 0.0, 1.0], [3.0, 22.0, 0.0, 0.0, 9.35, 1.0, 0.0, 0.0, 0.0, 1.0], [2.0, 19.0, 0.0, 0.0, 10.5, 1.0, 0.0, 0.0, 0.0, 1.0], [3.0, 20.5, 0.0, 0.0, 7.25, 1.0, 0.0, 0.0, 0.0, 1.0], [2.0, 18.0, 0.0, 0.0, 13.0, 1.0, 0.0, 0.0, 0.0, 1.0], [3.0, 29.69911764705882, 3.0, 1.0, 25.4667, 0.0, 1.0, 0.0, 0.0, 1.0], [1.0, 35.0, 1.0, 0.0, 83.475, 0.0, 0.0, 0.0, 0.0, 1.0], [3.0, 29.0, 0.0, 0.0, 7.775, 1.0, 0.0, 0.0, 0.0, 1.0], [2.0, 59.0, 0.0, 0.0, 13.5, 1.0, 0.0, 0.0, 0.0, 1.0], [3.0, 5.0, 4.0, 2.0, 31.3875, 0.0, 0.0, 0.0, 0.0, 1.0], [2.0, 24.0, 0.0, 0.0, 10.5, 1.0, 0.0, 0.0, 0.0, 1.0], [3.0, 29.69911764705882, 0.0, 0.0, 7.55, 0.0, 1.0, 0.0, 0.0, 1.0], [2.0, 44.0, 1.0, 0.0, 26.0, 1.0, 0.0, 0.0, 0.0, 1.0], [2.0, 8.0, 0.0, 2.0, 26.25, 0.0, 0.0, 0.0, 0.0, 1.0], [2.0, 19.0, 0.0, 0.0, 10.5, 1.0, 0.0, 0.0, 0.0, 1.0], [2.0, 33.0, 0.0, 0.0, 12.275, 1.0, 0.0, 0.0, 0.0, 1.0], [3.0, 29.69911764705882, 1.0, 0.0, 14.4542, 0.0, 1.0, 1.0, 0.0, 0.0], [3.0, 29.69911764705882, 1.0, 0.0, 15.5, 0.0, 1.0, 0.0, 1.0, 0.0], [2.0, 29.0, 0.0, 0.0, 10.5, 1.0, 0.0, 0.0, 0.0, 1.0], [3.0, 22.0, 0.0, 0.0, 7.125, 1.0, 0.0, 0.0, 0.0, 1.0], [3.0, 30.0, 0.0, 0.0, 7.225, 1.0, 0.0, 1.0, 0.0, 0.0], [1.0, 44.0, 2.0, 0.0, 90.0, 1.0, 0.0, 0.0, 1.0, 0.0], [3.0, 25.0, 0.0, 0.0, 7.775, 0.0, 0.0, 0.0, 0.0, 1.0], [2.0, 24.0, 0.0, 2.0, 14.5, 0.0, 0.0, 0.0, 0.0, 1.0], [1.0, 37.0, 1.0, 1.0, 52.5542, 1.0, 0.0, 0.0, 0.0, 1.0], [2.0, 54.0, 1.0, 0.0, 26.0, 1.0, 0.0, 0.0, 0.0, 1.0], [3.0, 29.69911764705882, 0.0, 0.0, 7.25, 1.0, 1.0, 0.0, 0.0, 1.0], [3.0, 29.0, 1.0, 1.0, 10.4625, 0.0, 0.0, 0.0, 0.0, 1.0], [1.0, 62.0, 0.0, 0.0, 26.55, 1.0, 0.0, 0.0, 0.0, 1.0], [3.0, 30.0, 1.0, 0.0, 16.1, 1.0, 0.0, 0.0, 0.0, 1.0], [3.0, 41.0, 0.0, 2.0, 20.2125, 0.0, 0.0, 0.0, 0.0, 1.0], [3.0, 29.0, 0.0, 2.0, 15.2458, 0.0, 0.0, 1.0, 0.0, 0.0], [1.0, 29.69911764705882, 0.0, 0.0, 79.2, 0.0, 1.0, 1.0, 0.0, 0.0], [1.0, 30.0, 0.0, 0.0, 86.5, 0.0, 0.0, 0.0, 0.0, 1.0], [1.0, 35.0, 0.0, 0.0, 512.3292, 0.0, 0.0, 1.0, 0.0, 0.0], [2.0, 50.0, 0.0, 1.0, 26.0, 0.0, 0.0, 0.0, 0.0, 1.0], [3.0, 29.69911764705882, 0.0, 0.0, 7.75, 1.0, 1.0, 0.0, 1.0, 0.0], [3.0, 3.0, 4.0, 2.0, 31.3875, 1.0, 0.0, 0.0, 0.0, 1.0], [1.0, 52.0, 1.0, 1.0, 79.65, 1.0, 0.0, 0.0, 0.0, 1.0], [1.0, 40.0, 0.0, 0.0, 0.0, 1.0, 0.0, 0.0, 0.0, 1.0], [3.0, 29.69911764705882, 0.0, 0.0, 7.75, 0.0, 1.0, 0.0, 1.0, 0.0], [2.0, 36.0, 0.0, 0.0, 10.5, 1.0, 0.0, 0.0, 0.0, 1.0], [3.0, 16.0, 4.0, 1.0, 39.6875, 1.0, 0.0, 0.0, 0.0, 1.0], [3.0, 25.0, 1.0, 0.0, 7.775, 1.0, 0.0, 0.0, 0.0, 1.0], [1.0, 58.0, 0.0, 1.0, 153.4625, 0.0, 0.0, 0.0, 0.0, 1.0], [1.0, 35.0, 0.0, 0.0, 135.6333, 0.0, 0.0, 0.0, 0.0, 1.0], [1.0, 29.69911764705882, 0.0, 0.0, 31.0, 1.0, 1.0, 0.0, 0.0, 1.0], [3.0, 25.0, 0.0, 0.0, 0.0, 1.0, 0.0, 0.0, 0.0, 1.0], [2.0, 41.0, 0.0, 1.0, 19.5, 0.0, 0.0, 0.0, 0.0, 1.0], [1.0, 37.0, 0.0, 1.0, 29.7, 1.0, 0.0, 1.0, 0.0, 0.0], [3.0, 29.69911764705882, 0.0, 0.0, 7.75, 0.0, 1.0, 0.0, 1.0, 0.0], [1.0, 63.0, 1.0, 0.0, 77.9583, 0.0, 0.0, 0.0, 0.0, 1.0], [3.0, 45.0, 0.0, 0.0, 7.75, 0.0, 0.0, 0.0, 0.0, 1.0], [2.0, 29.69911764705882, 0.0, 0.0, 0.0, 1.0, 1.0, 0.0, 0.0, 1.0], [3.0, 7.0, 4.0, 1.0, 29.125, 1.0, 0.0, 0.0, 1.0, 0.0], [3.0, 35.0, 1.0, 1.0, 20.25, 0.0, 0.0, 0.0, 0.0, 1.0], [3.0, 65.0, 0.0, 0.0, 7.75, 1.0, 0.0, 0.0, 1.0, 0.0], [3.0, 28.0, 0.0, 0.0, 7.8542, 1.0, 0.0, 0.0, 0.0, 1.0], [3.0, 16.0, 0.0, 0.0, 9.5, 1.0, 0.0, 0.0, 0.0, 1.0], [3.0, 19.0, 0.0, 0.0, 8.05, 1.0, 0.0, 0.0, 0.0, 1.0], [1.0, 29.69911764705882, 0.0, 0.0, 26.0, 1.0, 1.0, 0.0, 0.0, 1.0], [3.0, 33.0, 0.0, 0.0, 8.6625, 1.0, 0.0, 1.0, 0.0, 0.0], [3.0, 30.0, 0.0, 0.0, 9.5, 1.0, 0.0, 0.0, 0.0, 1.0], [3.0, 22.0, 0.0, 0.0, 7.8958, 1.0, 0.0, 0.0, 0.0, 1.0], [2.0, 42.0, 0.0, 0.0, 13.0, 1.0, 0.0, 0.0, 0.0, 1.0], [3.0, 22.0, 0.0, 0.0, 7.75, 0.0, 0.0, 0.0, 1.0, 0.0], [1.0, 26.0, 0.0, 0.0, 78.85, 0.0, 0.0, 0.0, 0.0, 1.0], [1.0, 19.0, 1.0, 0.0, 91.0792, 0.0, 0.0, 1.0, 0.0, 0.0], [2.0, 36.0, 0.0, 0.0, 12.875, 1.0, 0.0, 1.0, 0.0, 0.0], [3.0, 24.0, 0.0, 0.0, 8.85, 0.0, 0.0, 0.0, 0.0, 1.0], [3.0, 24.0, 0.0, 0.0, 7.8958, 1.0, 0.0, 0.0, 0.0, 1.0], [1.0, 29.69911764705882, 0.0, 0.0, 27.7208, 1.0, 1.0, 1.0, 0.0, 0.0], [3.0, 23.5, 0.0, 0.0, 7.2292, 1.0, 0.0, 1.0, 0.0, 0.0], [1.0, 2.0, 1.0, 2.0, 151.55, 0.0, 0.0, 0.0, 0.0, 1.0], [1.0, 29.69911764705882, 0.0, 0.0, 30.5, 1.0, 1.0, 0.0, 0.0, 1.0], [1.0, 50.0, 0.0, 1.0, 247.5208, 0.0, 0.0, 1.0, 0.0, 0.0], [3.0, 29.69911764705882, 0.0, 0.0, 7.75, 0.0, 1.0, 0.0, 1.0, 0.0], [3.0, 29.69911764705882, 2.0, 0.0, 23.25, 1.0, 1.0, 0.0, 1.0, 0.0], [3.0, 19.0, 0.0, 0.0, 0.0, 1.0, 0.0, 0.0, 0.0, 1.0], [2.0, 29.69911764705882, 0.0, 0.0, 12.35, 0.0, 1.0, 0.0, 1.0, 0.0], [3.0, 29.69911764705882, 0.0, 0.0, 8.05, 1.0, 1.0, 0.0, 0.0, 1.0], [1.0, 0.92, 1.0, 2.0, 151.55, 1.0, 0.0, 0.0, 0.0, 1.0], [1.0, 29.69911764705882, 0.0, 0.0, 110.8833, 0.0, 1.0, 1.0, 0.0, 0.0], [1.0, 17.0, 1.0, 0.0, 108.9, 0.0, 0.0, 1.0, 0.0, 0.0], [2.0, 30.0, 1.0, 0.0, 24.0, 1.0, 0.0, 1.0, 0.0, 0.0], [1.0, 30.0, 0.0, 0.0, 56.9292, 0.0, 0.0, 1.0, 0.0, 0.0], [1.0, 24.0, 0.0, 0.0, 83.1583, 0.0, 0.0, 1.0, 0.0, 0.0], [1.0, 18.0, 2.0, 2.0, 262.375, 0.0, 0.0, 1.0, 0.0, 0.0], [2.0, 26.0, 1.0, 1.0, 26.0, 0.0, 0.0, 0.0, 0.0, 1.0], [3.0, 28.0, 0.0, 0.0, 7.8958, 1.0, 0.0, 0.0, 0.0, 1.0], [2.0, 43.0, 1.0, 1.0, 26.25, 1.0, 0.0, 0.0, 0.0, 1.0], [3.0, 26.0, 0.0, 0.0, 7.8542, 0.0, 0.0, 0.0, 0.0, 1.0], [2.0, 24.0, 1.0, 0.0, 26.0, 0.0, 0.0, 0.0, 0.0, 1.0], [2.0, 54.0, 0.0, 0.0, 14.0, 1.0, 0.0, 0.0, 0.0, 1.0], [1.0, 31.0, 0.0, 2.0, 164.8667, 0.0, 0.0, 0.0, 0.0, 1.0], [1.0, 40.0, 1.0, 1.0, 134.5, 0.0, 0.0, 1.0, 0.0, 0.0], [3.0, 22.0, 0.0, 0.0, 7.25, 1.0, 0.0, 0.0, 0.0, 1.0], [3.0, 27.0, 0.0, 0.0, 7.8958, 1.0, 0.0, 0.0, 0.0, 1.0], [2.0, 30.0, 0.0, 0.0, 12.35, 0.0, 0.0, 0.0, 1.0, 0.0], [2.0, 22.0, 1.0, 1.0, 29.0, 0.0, 0.0, 0.0, 0.0, 1.0], [3.0, 29.69911764705882, 8.0, 2.0, 69.55, 1.0, 1.0, 0.0, 0.0, 1.0], [1.0, 36.0, 0.0, 0.0, 135.6333, 0.0, 0.0, 1.0, 0.0, 0.0], [3.0, 61.0, 0.0, 0.0, 6.2375, 1.0, 0.0, 0.0, 0.0, 1.0], [2.0, 36.0, 0.0, 0.0, 13.0, 0.0, 0.0, 0.0, 0.0, 1.0], [3.0, 31.0, 1.0, 1.0, 20.525, 0.0, 0.0, 0.0, 0.0, 1.0], [1.0, 16.0, 0.0, 1.0, 57.9792, 0.0, 0.0, 1.0, 0.0, 0.0], [3.0, 29.69911764705882, 2.0, 0.0, 23.25, 0.0, 1.0, 0.0, 1.0, 0.0], [1.0, 45.5, 0.0, 0.0, 28.5, 1.0, 0.0, 0.0, 0.0, 1.0], [1.0, 38.0, 0.0, 1.0, 153.4625, 1.0, 0.0, 0.0, 0.0, 1.0], [3.0, 16.0, 2.0, 0.0, 18.0, 1.0, 0.0, 0.0, 0.0, 1.0], [1.0, 29.69911764705882, 1.0, 0.0, 133.65, 0.0, 1.0, 0.0, 0.0, 1.0], [3.0, 29.69911764705882, 0.0, 0.0, 7.8958, 1.0, 1.0, 0.0, 0.0, 1.0], [1.0, 29.0, 1.0, 0.0, 66.6, 1.0, 0.0, 0.0, 0.0, 1.0], [1.0, 41.0, 0.0, 0.0, 134.5, 0.0, 0.0, 1.0, 0.0, 0.0], [3.0, 45.0, 0.0, 0.0, 8.05, 1.0, 0.0, 0.0, 0.0, 1.0], [1.0, 45.0, 0.0, 0.0, 35.5, 1.0, 0.0, 0.0, 0.0, 1.0], [2.0, 2.0, 1.0, 1.0, 26.0, 1.0, 0.0, 0.0, 0.0, 1.0], [1.0, 24.0, 3.0, 2.0, 263.0, 0.0, 0.0, 0.0, 0.0, 1.0], [2.0, 28.0, 0.0, 0.0, 13.0, 1.0, 0.0, 0.0, 0.0, 1.0], [2.0, 25.0, 0.0, 0.0, 13.0, 1.0, 0.0, 0.0, 0.0, 1.0], [2.0, 36.0, 0.0, 0.0, 13.0, 1.0, 0.0, 0.0, 0.0, 1.0], [2.0, 24.0, 0.0, 0.0, 13.0, 0.0, 0.0, 0.0, 0.0, 1.0], [2.0, 40.0, 0.0, 0.0, 13.0, 0.0, 0.0, 0.0, 0.0, 1.0], [3.0, 29.69911764705882, 1.0, 0.0, 16.1, 0.0, 1.0, 0.0, 0.0, 1.0], [3.0, 3.0, 1.0, 1.0, 15.9, 1.0, 0.0, 0.0, 0.0, 1.0], [3.0, 42.0, 0.0, 0.0, 8.6625, 1.0, 0.0, 0.0, 0.0, 1.0], [3.0, 23.0, 0.0, 0.0, 9.225, 1.0, 0.0, 0.0, 0.0, 1.0], [1.0, 29.69911764705882, 0.0, 0.0, 35.0, 1.0, 1.0, 0.0, 0.0, 1.0], [3.0, 15.0, 1.0, 1.0, 7.2292, 1.0, 0.0, 1.0, 0.0, 0.0], [3.0, 25.0, 1.0, 0.0, 17.8, 1.0, 0.0, 0.0, 0.0, 1.0], [3.0, 29.69911764705882, 0.0, 0.0, 7.225, 1.0, 1.0, 1.0, 0.0, 0.0], [3.0, 28.0, 0.0, 0.0, 9.5, 1.0, 0.0, 0.0, 0.0, 1.0], [1.0, 22.0, 0.0, 1.0, 55.0, 0.0, 0.0, 0.0, 0.0, 1.0], [2.0, 38.0, 0.0, 0.0, 13.0, 0.0, 0.0, 0.0, 0.0, 1.0], [3.0, 29.69911764705882, 0.0, 0.0, 7.8792, 0.0, 1.0, 0.0, 1.0, 0.0], [3.0, 29.69911764705882, 0.0, 0.0, 7.8792, 0.0, 1.0, 0.0, 1.0, 0.0], [3.0, 40.0, 1.0, 4.0, 27.9, 1.0, 0.0, 0.0, 0.0, 1.0], [2.0, 29.0, 1.0, 0.0, 27.7208, 1.0, 0.0, 1.0, 0.0, 0.0], [3.0, 45.0, 0.0, 1.0, 14.4542, 0.0, 0.0, 1.0, 0.0, 0.0], [3.0, 35.0, 0.0, 0.0, 7.05, 1.0, 0.0, 0.0, 0.0, 1.0], [3.0, 29.69911764705882, 1.0, 0.0, 15.5, 1.0, 1.0, 0.0, 1.0, 0.0], [3.0, 30.0, 0.0, 0.0, 7.25, 1.0, 0.0, 0.0, 0.0, 1.0], [1.0, 60.0, 1.0, 0.0, 75.25, 0.0, 0.0, 1.0, 0.0, 0.0], [3.0, 29.69911764705882, 0.0, 0.0, 7.2292, 0.0, 1.0, 1.0, 0.0, 0.0], [3.0, 29.69911764705882, 0.0, 0.0, 7.75, 0.0, 1.0, 0.0, 1.0, 0.0], [1.0, 24.0, 0.0, 0.0, 69.3, 0.0, 0.0, 1.0, 0.0, 0.0], [1.0, 25.0, 1.0, 0.0, 55.4417, 1.0, 0.0, 1.0, 0.0, 0.0], [3.0, 18.0, 1.0, 0.0, 6.4958, 1.0, 0.0, 0.0, 0.0, 1.0], [3.0, 19.0, 0.0, 0.0, 8.05, 1.0, 0.0, 0.0, 0.0, 1.0], [1.0, 22.0, 0.0, 0.0, 135.6333, 1.0, 0.0, 1.0, 0.0, 0.0], [3.0, 3.0, 3.0, 1.0, 21.075, 0.0, 0.0, 0.0, 0.0, 1.0], [1.0, 29.69911764705882, 1.0, 0.0, 82.1708, 0.0, 1.0, 1.0, 0.0, 0.0], [3.0, 22.0, 0.0, 0.0, 7.25, 0.0, 0.0, 0.0, 0.0, 1.0], [1.0, 27.0, 0.0, 2.0, 211.5, 1.0, 0.0, 1.0, 0.0, 0.0], [3.0, 20.0, 0.0, 0.0, 4.0125, 1.0, 0.0, 1.0, 0.0, 0.0], [3.0, 19.0, 0.0, 0.0, 7.775, 1.0, 0.0, 0.0, 0.0, 1.0], [1.0, 42.0, 0.0, 0.0, 227.525, 0.0, 0.0, 1.0, 0.0, 0.0], [3.0, 1.0, 0.0, 2.0, 15.7417, 0.0, 0.0, 1.0, 0.0, 0.0], [3.0, 32.0, 0.0, 0.0, 7.925, 1.0, 0.0, 0.0, 0.0, 1.0], [1.0, 35.0, 1.0, 0.0, 52.0, 0.0, 0.0, 0.0, 0.0, 1.0], [3.0, 29.69911764705882, 0.0, 0.0, 7.8958, 1.0, 1.0, 0.0, 0.0, 1.0], [2.0, 18.0, 0.0, 0.0, 73.5, 1.0, 0.0, 0.0, 0.0, 1.0], [3.0, 1.0, 5.0, 2.0, 46.9, 1.0, 0.0, 0.0, 0.0, 1.0], [2.0, 36.0, 0.0, 0.0, 13.0, 0.0, 0.0, 0.0, 0.0, 1.0], [3.0, 29.69911764705882, 0.0, 0.0, 7.7292, 1.0, 1.0, 0.0, 1.0, 0.0], [2.0, 17.0, 0.0, 0.0, 12.0, 0.0, 0.0, 1.0, 0.0, 0.0], [1.0, 36.0, 1.0, 2.0, 120.0, 1.0, 0.0, 0.0, 0.0, 1.0], [3.0, 21.0, 0.0, 0.0, 7.7958, 1.0, 0.0, 0.0, 0.0, 1.0], [3.0, 28.0, 2.0, 0.0, 7.925, 1.0, 0.0, 0.0, 0.0, 1.0], [1.0, 23.0, 1.0, 0.0, 113.275, 0.0, 0.0, 1.0, 0.0, 0.0], [3.0, 24.0, 0.0, 2.0, 16.7, 0.0, 0.0, 0.0, 0.0, 1.0], [3.0, 22.0, 0.0, 0.0, 7.7958, 1.0, 0.0, 0.0, 0.0, 1.0], [3.0, 31.0, 0.0, 0.0, 7.8542, 0.0, 0.0, 0.0, 0.0, 1.0], [2.0, 46.0, 0.0, 0.0, 26.0, 1.0, 0.0, 0.0, 0.0, 1.0], [2.0, 23.0, 0.0, 0.0, 10.5, 1.0, 0.0, 0.0, 0.0, 1.0], [2.0, 28.0, 0.0, 0.0, 12.65, 0.0, 0.0, 0.0, 0.0, 1.0], [3.0, 39.0, 0.0, 0.0, 7.925, 1.0, 0.0, 0.0, 0.0, 1.0], [3.0, 26.0, 0.0, 0.0, 8.05, 1.0, 0.0, 0.0, 0.0, 1.0], [3.0, 21.0, 1.0, 0.0, 9.825, 0.0, 0.0, 0.0, 0.0, 1.0], [3.0, 28.0, 1.0, 0.0, 15.85, 1.0, 0.0, 0.0, 0.0, 1.0], [3.0, 20.0, 0.0, 0.0, 8.6625, 0.0, 0.0, 0.0, 0.0, 1.0], [2.0, 34.0, 1.0, 0.0, 21.0, 1.0, 0.0, 0.0, 0.0, 1.0], [3.0, 51.0, 0.0, 0.0, 7.75, 1.0, 0.0, 0.0, 0.0, 1.0], [2.0, 3.0, 1.0, 1.0, 18.75, 1.0, 0.0, 0.0, 0.0, 1.0], [3.0, 21.0, 0.0, 0.0, 7.775, 1.0, 0.0, 0.0, 0.0, 1.0], [3.0, 29.69911764705882, 3.0, 1.0, 25.4667, 0.0, 1.0, 0.0, 0.0, 1.0], [3.0, 29.69911764705882, 0.0, 0.0, 7.8958, 1.0, 1.0, 0.0, 0.0, 1.0], [3.0, 29.69911764705882, 0.0, 0.0, 6.8583, 1.0, 1.0, 0.0, 1.0, 0.0], [1.0, 33.0, 1.0, 0.0, 90.0, 0.0, 0.0, 0.0, 1.0, 0.0], [2.0, 29.69911764705882, 0.0, 0.0, 0.0, 1.0, 1.0, 0.0, 0.0, 1.0], [3.0, 44.0, 0.0, 0.0, 7.925, 1.0, 0.0, 0.0, 0.0, 1.0], [3.0, 29.69911764705882, 0.0, 0.0, 8.05, 0.0, 1.0, 0.0, 0.0, 1.0], [2.0, 34.0, 1.0, 1.0, 32.5, 0.0, 0.0, 0.0, 0.0, 1.0], [2.0, 18.0, 0.0, 2.0, 13.0, 0.0, 0.0, 0.0, 0.0, 1.0], [2.0, 30.0, 0.0, 0.0, 13.0, 1.0, 0.0, 0.0, 0.0, 1.0], [3.0, 10.0, 0.0, 2.0, 24.15, 0.0, 0.0, 0.0, 0.0, 1.0], [3.0, 29.69911764705882, 0.0, 0.0, 7.8958, 1.0, 1.0, 1.0, 0.0, 0.0], [3.0, 21.0, 0.0, 0.0, 7.7333, 1.0, 0.0, 0.0, 1.0, 0.0], [3.0, 29.0, 0.0, 0.0, 7.875, 1.0, 0.0, 0.0, 0.0, 1.0], [3.0, 28.0, 1.0, 1.0, 14.4, 0.0, 0.0, 0.0, 0.0, 1.0], [3.0, 18.0, 1.0, 1.0, 20.2125, 1.0, 0.0, 0.0, 0.0, 1.0], [3.0, 29.69911764705882, 0.0, 0.0, 7.25, 1.0, 1.0, 0.0, 0.0, 1.0], [2.0, 28.0, 1.0, 0.0, 26.0, 0.0, 0.0, 0.0, 0.0, 1.0], [2.0, 19.0, 0.0, 0.0, 26.0, 0.0, 0.0, 0.0, 0.0, 1.0], [3.0, 29.69911764705882, 0.0, 0.0, 7.75, 1.0, 1.0, 0.0, 1.0, 0.0], [3.0, 32.0, 0.0, 0.0, 8.05, 1.0, 0.0, 0.0, 0.0, 1.0], [1.0, 28.0, 0.0, 0.0, 26.55, 1.0, 0.0, 0.0, 0.0, 1.0], [3.0, 29.69911764705882, 1.0, 0.0, 16.1, 0.0, 1.0, 0.0, 0.0, 1.0], [2.0, 42.0, 1.0, 0.0, 26.0, 0.0, 0.0, 0.0, 0.0, 1.0], [3.0, 17.0, 0.0, 0.0, 7.125, 1.0, 0.0, 0.0, 0.0, 1.0], [1.0, 50.0, 1.0, 0.0, 55.9, 1.0, 0.0, 0.0, 0.0, 1.0], [1.0, 14.0, 1.0, 2.0, 120.0, 0.0, 0.0, 0.0, 0.0, 1.0], [3.0, 21.0, 2.0, 2.0, 34.375, 0.0, 0.0, 0.0, 0.0, 1.0], [2.0, 24.0, 2.0, 3.0, 18.75, 0.0, 0.0, 0.0, 0.0, 1.0], [1.0, 64.0, 1.0, 4.0, 263.0, 1.0, 0.0, 0.0, 0.0, 1.0], [2.0, 31.0, 0.0, 0.0, 10.5, 1.0, 0.0, 0.0, 0.0, 1.0], [2.0, 45.0, 1.0, 1.0, 26.25, 0.0, 0.0, 0.0, 0.0, 1.0], [3.0, 20.0, 0.0, 0.0, 9.5, 1.0, 0.0, 0.0, 0.0, 1.0], [3.0, 25.0, 1.0, 0.0, 7.775, 1.0, 0.0, 0.0, 0.0, 1.0], [2.0, 28.0, 0.0, 0.0, 13.0, 0.0, 0.0, 0.0, 0.0, 1.0], [3.0, 29.69911764705882, 0.0, 0.0, 8.1125, 1.0, 1.0, 0.0, 0.0, 1.0], [1.0, 4.0, 0.0, 2.0, 81.8583, 1.0, 0.0, 0.0, 0.0, 1.0], [2.0, 13.0, 0.0, 1.0, 19.5, 0.0, 0.0, 0.0, 0.0, 1.0], [1.0, 34.0, 0.0, 0.0, 26.55, 1.0, 0.0, 0.0, 0.0, 1.0], [3.0, 5.0, 2.0, 1.0, 19.2583, 0.0, 0.0, 1.0, 0.0, 0.0], [1.0, 52.0, 0.0, 0.0, 30.5, 1.0, 0.0, 0.0, 0.0, 1.0], [2.0, 36.0, 1.0, 2.0, 27.75, 1.0, 0.0, 0.0, 0.0, 1.0], [3.0, 29.69911764705882, 1.0, 0.0, 19.9667, 1.0, 1.0, 0.0, 0.0, 1.0], [1.0, 30.0, 0.0, 0.0, 27.75, 1.0, 0.0, 1.0, 0.0, 0.0], [1.0, 49.0, 1.0, 0.0, 89.1042, 1.0, 0.0, 1.0, 0.0, 0.0], [3.0, 29.69911764705882, 0.0, 0.0, 8.05, 1.0, 1.0, 0.0, 0.0, 1.0], [3.0, 29.0, 0.0, 0.0, 7.8958, 1.0, 0.0, 1.0, 0.0, 0.0], [1.0, 65.0, 0.0, 0.0, 26.55, 1.0, 0.0, 0.0, 0.0, 1.0], [1.0, 29.69911764705882, 1.0, 0.0, 51.8625, 0.0, 1.0, 0.0, 0.0, 1.0], [2.0, 50.0, 0.0, 0.0, 10.5, 0.0, 0.0, 0.0, 0.0, 1.0], [3.0, 29.69911764705882, 0.0, 0.0, 7.75, 1.0, 1.0, 0.0, 1.0, 0.0], [1.0, 48.0, 0.0, 0.0, 26.55, 1.0, 0.0, 0.0, 0.0, 1.0], [3.0, 34.0, 0.0, 0.0, 8.05, 1.0, 0.0, 0.0, 0.0, 1.0], [1.0, 47.0, 0.0, 0.0, 38.5, 1.0, 0.0, 0.0, 0.0, 1.0], [2.0, 48.0, 0.0, 0.0, 13.0, 1.0, 0.0, 0.0, 0.0, 1.0], [3.0, 29.69911764705882, 0.0, 0.0, 8.05, 1.0, 1.0, 0.0, 0.0, 1.0], [3.0, 38.0, 0.0, 0.0, 7.05, 1.0, 0.0, 0.0, 0.0, 1.0], [2.0, 29.69911764705882, 0.0, 0.0, 0.0, 1.0, 1.0, 0.0, 0.0, 1.0], [1.0, 56.0, 0.0, 0.0, 26.55, 1.0, 0.0, 0.0, 0.0, 1.0], [3.0, 29.69911764705882, 0.0, 0.0, 7.725, 1.0, 1.0, 0.0, 1.0, 0.0], [3.0, 0.75, 2.0, 1.0, 19.2583, 0.0, 0.0, 1.0, 0.0, 0.0], [3.0, 29.69911764705882, 0.0, 0.0, 7.25, 1.0, 1.0, 0.0, 0.0, 1.0], [3.0, 38.0, 0.0, 0.0, 8.6625, 1.0, 0.0, 0.0, 0.0, 1.0], [2.0, 33.0, 1.0, 2.0, 27.75, 0.0, 0.0, 0.0, 0.0, 1.0], [2.0, 23.0, 0.0, 0.0, 13.7917, 0.0, 0.0, 1.0, 0.0, 0.0], [3.0, 22.0, 0.0, 0.0, 9.8375, 0.0, 0.0, 0.0, 0.0, 1.0], [1.0, 29.69911764705882, 0.0, 0.0, 52.0, 1.0, 1.0, 0.0, 0.0, 1.0], [2.0, 34.0, 1.0, 0.0, 21.0, 1.0, 0.0, 0.0, 0.0, 1.0], [3.0, 29.0, 1.0, 0.0, 7.0458, 1.0, 0.0, 0.0, 0.0, 1.0], [3.0, 22.0, 0.0, 0.0, 7.5208, 1.0, 0.0, 0.0, 0.0, 1.0], [3.0, 2.0, 0.0, 1.0, 12.2875, 0.0, 0.0, 0.0, 0.0, 1.0], [3.0, 9.0, 5.0, 2.0, 46.9, 1.0, 0.0, 0.0, 0.0, 1.0], [2.0, 29.69911764705882, 0.0, 0.0, 0.0, 1.0, 1.0, 0.0, 0.0, 1.0], [3.0, 50.0, 0.0, 0.0, 8.05, 1.0, 0.0, 0.0, 0.0, 1.0], [3.0, 63.0, 0.0, 0.0, 9.5875, 0.0, 0.0, 0.0, 0.0, 1.0], [1.0, 25.0, 1.0, 0.0, 91.0792, 1.0, 0.0, 1.0, 0.0, 0.0], [3.0, 29.69911764705882, 3.0, 1.0, 25.4667, 0.0, 1.0, 0.0, 0.0, 1.0], [1.0, 35.0, 1.0, 0.0, 90.0, 0.0, 0.0, 0.0, 0.0, 1.0], [1.0, 58.0, 0.0, 0.0, 29.7, 1.0, 0.0, 1.0, 0.0, 0.0], [3.0, 30.0, 0.0, 0.0, 8.05, 1.0, 0.0, 0.0, 0.0, 1.0], [3.0, 9.0, 1.0, 1.0, 15.9, 1.0, 0.0, 0.0, 0.0, 1.0], [3.0, 29.69911764705882, 1.0, 0.0, 19.9667, 1.0, 1.0, 0.0, 0.0, 1.0], [3.0, 21.0, 0.0, 0.0, 7.25, 1.0, 0.0, 0.0, 0.0, 1.0], [1.0, 55.0, 0.0, 0.0, 30.5, 1.0, 0.0, 0.0, 0.0, 1.0], [1.0, 71.0, 0.0, 0.0, 49.5042, 1.0, 0.0, 1.0, 0.0, 0.0], [3.0, 21.0, 0.0, 0.0, 8.05, 1.0, 0.0, 0.0, 0.0, 1.0], [3.0, 29.69911764705882, 0.0, 0.0, 14.4583, 1.0, 1.0, 1.0, 0.0, 0.0], [1.0, 54.0, 1.0, 0.0, 78.2667, 0.0, 0.0, 1.0, 0.0, 0.0], [3.0, 29.69911764705882, 0.0, 0.0, 15.1, 1.0, 1.0, 0.0, 0.0, 1.0], [1.0, 25.0, 1.0, 2.0, 151.55, 0.0, 0.0, 0.0, 0.0, 1.0], [3.0, 24.0, 0.0, 0.0, 7.7958, 1.0, 0.0, 0.0, 0.0, 1.0], [3.0, 17.0, 0.0, 0.0, 8.6625, 1.0, 0.0, 0.0, 0.0, 1.0], [3.0, 21.0, 0.0, 0.0, 7.75, 0.0, 0.0, 0.0, 1.0, 0.0], [3.0, 29.69911764705882, 0.0, 0.0, 7.6292, 0.0, 1.0, 0.0, 1.0, 0.0], [3.0, 37.0, 0.0, 0.0, 9.5875, 0.0, 0.0, 0.0, 0.0, 1.0], [1.0, 16.0, 0.0, 0.0, 86.5, 0.0, 0.0, 0.0, 0.0, 1.0], [1.0, 18.0, 1.0, 0.0, 108.9, 1.0, 0.0, 1.0, 0.0, 0.0], [2.0, 33.0, 0.0, 2.0, 26.0, 0.0, 0.0, 0.0, 0.0, 1.0], [1.0, 29.69911764705882, 0.0, 0.0, 26.55, 1.0, 1.0, 0.0, 0.0, 1.0], [3.0, 28.0, 0.0, 0.0, 22.525, 1.0, 0.0, 0.0, 0.0, 1.0], [3.0, 26.0, 0.0, 0.0, 56.4958, 1.0, 0.0, 0.0, 0.0, 1.0], [3.0, 29.0, 0.0, 0.0, 7.75, 1.0, 0.0, 0.0, 1.0, 0.0], [3.0, 29.69911764705882, 0.0, 0.0, 8.05, 1.0, 1.0, 0.0, 0.0, 1.0], [1.0, 36.0, 0.0, 0.0, 26.2875, 1.0, 0.0, 0.0, 0.0, 1.0], [1.0, 54.0, 1.0, 0.0, 59.4, 0.0, 0.0, 1.0, 0.0, 0.0], [3.0, 24.0, 0.0, 0.0, 7.4958, 1.0, 0.0, 0.0, 0.0, 1.0], [1.0, 47.0, 0.0, 0.0, 34.0208, 1.0, 0.0, 0.0, 0.0, 1.0], [2.0, 34.0, 0.0, 0.0, 10.5, 0.0, 0.0, 0.0, 0.0, 1.0], [3.0, 29.69911764705882, 0.0, 0.0, 24.15, 1.0, 1.0, 0.0, 1.0, 0.0], [2.0, 36.0, 1.0, 0.0, 26.0, 0.0, 0.0, 0.0, 0.0, 1.0], [3.0, 32.0, 0.0, 0.0, 7.8958, 1.0, 0.0, 0.0, 0.0, 1.0], [1.0, 30.0, 0.0, 0.0, 93.5, 0.0, 0.0, 0.0, 0.0, 1.0], [3.0, 22.0, 0.0, 0.0, 7.8958, 1.0, 0.0, 0.0, 0.0, 1.0], [3.0, 29.69911764705882, 0.0, 0.0, 7.225, 1.0, 1.0, 1.0, 0.0, 0.0], [1.0, 44.0, 0.0, 1.0, 57.9792, 0.0, 0.0, 1.0, 0.0, 0.0], [3.0, 29.69911764705882, 0.0, 0.0, 7.2292, 1.0, 1.0, 1.0, 0.0, 0.0], [3.0, 40.5, 0.0, 0.0, 7.75, 1.0, 0.0, 0.0, 1.0, 0.0], [2.0, 50.0, 0.0, 0.0, 10.5, 0.0, 0.0, 0.0, 0.0, 1.0], [1.0, 29.69911764705882, 0.0, 0.0, 221.7792, 1.0, 1.0, 0.0, 0.0, 1.0], [3.0, 39.0, 0.0, 0.0, 7.925, 1.0, 0.0, 0.0, 0.0, 1.0], [2.0, 23.0, 2.0, 1.0, 11.5, 1.0, 0.0, 0.0, 0.0, 1.0], [2.0, 2.0, 1.0, 1.0, 26.0, 0.0, 0.0, 0.0, 0.0, 1.0], [3.0, 29.69911764705882, 0.0, 0.0, 7.2292, 1.0, 1.0, 1.0, 0.0, 0.0], [3.0, 17.0, 1.0, 1.0, 7.2292, 1.0, 0.0, 1.0, 0.0, 0.0], [3.0, 29.69911764705882, 0.0, 2.0, 22.3583, 0.0, 1.0, 1.0, 0.0, 0.0], [3.0, 30.0, 0.0, 0.0, 8.6625, 0.0, 0.0, 0.0, 0.0, 1.0], [2.0, 7.0, 0.0, 2.0, 26.25, 0.0, 0.0, 0.0, 0.0, 1.0], [1.0, 45.0, 0.0, 0.0, 26.55, 1.0, 0.0, 0.0, 0.0, 1.0], [1.0, 30.0, 0.0, 0.0, 106.425, 0.0, 0.0, 1.0, 0.0, 0.0], [3.0, 29.69911764705882, 0.0, 0.0, 14.5, 1.0, 1.0, 0.0, 0.0, 1.0], [1.0, 22.0, 0.0, 2.0, 49.5, 0.0, 0.0, 1.0, 0.0, 0.0], [1.0, 36.0, 0.0, 2.0, 71.0, 0.0, 0.0, 0.0, 0.0, 1.0], [3.0, 9.0, 4.0, 2.0, 31.275, 0.0, 0.0, 0.0, 0.0, 1.0], [3.0, 11.0, 4.0, 2.0, 31.275, 0.0, 0.0, 0.0, 0.0, 1.0], [2.0, 32.0, 1.0, 0.0, 26.0, 1.0, 0.0, 0.0, 0.0, 1.0], [1.0, 50.0, 1.0, 0.0, 106.425, 1.0, 0.0, 1.0, 0.0, 0.0], [1.0, 64.0, 0.0, 0.0, 26.0, 1.0, 0.0, 0.0, 0.0, 1.0], [2.0, 19.0, 1.0, 0.0, 26.0, 0.0, 0.0, 0.0, 0.0, 1.0], [2.0, 29.69911764705882, 0.0, 0.0, 13.8625, 1.0, 1.0, 1.0, 0.0, 0.0], [3.0, 33.0, 1.0, 1.0, 20.525, 1.0, 0.0, 0.0, 0.0, 1.0], [2.0, 8.0, 1.0, 1.0, 36.75, 1.0, 0.0, 0.0, 0.0, 1.0], [1.0, 17.0, 0.0, 2.0, 110.8833, 1.0, 0.0, 1.0, 0.0, 0.0], [2.0, 27.0, 0.0, 0.0, 26.0, 1.0, 0.0, 0.0, 0.0, 1.0], [3.0, 29.69911764705882, 0.0, 0.0, 7.8292, 1.0, 1.0, 0.0, 1.0, 0.0], [3.0, 22.0, 0.0, 0.0, 7.225, 1.0, 0.0, 1.0, 0.0, 0.0], [3.0, 22.0, 0.0, 0.0, 7.775, 0.0, 0.0, 0.0, 0.0, 1.0], [1.0, 62.0, 0.0, 0.0, 26.55, 1.0, 0.0, 0.0, 0.0, 1.0], [1.0, 48.0, 1.0, 0.0, 39.6, 0.0, 0.0, 1.0, 0.0, 0.0], [1.0, 29.69911764705882, 0.0, 0.0, 227.525, 1.0, 1.0, 1.0, 0.0, 0.0], [1.0, 39.0, 1.0, 1.0, 79.65, 0.0, 0.0, 0.0, 0.0, 1.0], [3.0, 36.0, 1.0, 0.0, 17.4, 0.0, 0.0, 0.0, 0.0, 1.0], [3.0, 29.69911764705882, 0.0, 0.0, 7.75, 1.0, 1.0, 0.0, 1.0, 0.0], [3.0, 40.0, 0.0, 0.0, 7.8958, 1.0, 0.0, 0.0, 0.0, 1.0], [2.0, 28.0, 0.0, 0.0, 13.5, 1.0, 0.0, 0.0, 0.0, 1.0], [3.0, 29.69911764705882, 0.0, 0.0, 8.05, 1.0, 1.0, 0.0, 0.0, 1.0], [3.0, 29.69911764705882, 0.0, 0.0, 8.05, 0.0, 1.0, 0.0, 0.0, 1.0], [3.0, 24.0, 2.0, 0.0, 24.15, 1.0, 0.0, 0.0, 0.0, 1.0], [3.0, 19.0, 0.0, 0.0, 7.8958, 1.0, 0.0, 0.0, 0.0, 1.0], [3.0, 29.0, 0.0, 4.0, 21.075, 0.0, 0.0, 0.0, 0.0, 1.0], [3.0, 29.69911764705882, 0.0, 0.0, 7.2292, 1.0, 1.0, 1.0, 0.0, 0.0], [3.0, 32.0, 0.0, 0.0, 7.8542, 1.0, 0.0, 0.0, 0.0, 1.0], [2.0, 62.0, 0.0, 0.0, 10.5, 1.0, 0.0, 0.0, 0.0, 1.0], [1.0, 53.0, 2.0, 0.0, 51.4792, 0.0, 0.0, 0.0, 0.0, 1.0], [1.0, 36.0, 0.0, 0.0, 26.3875, 1.0, 0.0, 0.0, 0.0, 1.0], [3.0, 29.69911764705882, 0.0, 0.0, 7.75, 0.0, 1.0, 0.0, 1.0, 0.0], [3.0, 16.0, 0.0, 0.0, 8.05, 1.0, 0.0, 0.0, 0.0, 1.0], [3.0, 19.0, 0.0, 0.0, 14.5, 1.0, 0.0, 0.0, 0.0, 1.0], [2.0, 34.0, 0.0, 0.0, 13.0, 0.0, 0.0, 0.0, 0.0, 1.0], [1.0, 39.0, 1.0, 0.0, 55.9, 0.0, 0.0, 0.0, 0.0, 1.0], [3.0, 29.69911764705882, 1.0, 0.0, 14.4583, 0.0, 1.0, 1.0, 0.0, 0.0], [3.0, 32.0, 0.0, 0.0, 7.925, 1.0, 0.0, 0.0, 0.0, 1.0], [2.0, 25.0, 1.0, 1.0, 30.0, 0.0, 0.0, 0.0, 0.0, 1.0], [1.0, 39.0, 1.0, 1.0, 110.8833, 0.0, 0.0, 1.0, 0.0, 0.0], [2.0, 54.0, 0.0, 0.0, 26.0, 1.0, 0.0, 0.0, 0.0, 1.0], [1.0, 36.0, 0.0, 0.0, 40.125, 1.0, 0.0, 1.0, 0.0, 0.0], [3.0, 29.69911764705882, 0.0, 0.0, 8.7125, 1.0, 1.0, 1.0, 0.0, 0.0], [1.0, 18.0, 0.0, 2.0, 79.65, 0.0, 0.0, 0.0, 0.0, 1.0], [2.0, 47.0, 0.0, 0.0, 15.0, 1.0, 0.0, 0.0, 0.0, 1.0], [1.0, 60.0, 1.0, 1.0, 79.2, 1.0, 0.0, 1.0, 0.0, 0.0], [3.0, 22.0, 0.0, 0.0, 8.05, 1.0, 0.0, 0.0, 0.0, 1.0], [3.0, 29.69911764705882, 0.0, 0.0, 8.05, 1.0, 1.0, 0.0, 0.0, 1.0], [3.0, 35.0, 0.0, 0.0, 7.125, 1.0, 0.0, 0.0, 0.0, 1.0], [1.0, 52.0, 1.0, 0.0, 78.2667, 0.0, 0.0, 1.0, 0.0, 0.0], [3.0, 47.0, 0.0, 0.0, 7.25, 1.0, 0.0, 0.0, 0.0, 1.0], [3.0, 29.69911764705882, 0.0, 2.0, 7.75, 0.0, 1.0, 0.0, 1.0, 0.0], [2.0, 37.0, 1.0, 0.0, 26.0, 1.0, 0.0, 0.0, 0.0, 1.0], [3.0, 36.0, 1.0, 1.0, 24.15, 1.0, 0.0, 0.0, 0.0, 1.0], [2.0, 29.69911764705882, 0.0, 0.0, 33.0, 0.0, 1.0, 0.0, 0.0, 1.0], [3.0, 49.0, 0.0, 0.0, 0.0, 1.0, 0.0, 0.0, 0.0, 1.0], [3.0, 29.69911764705882, 0.0, 0.0, 7.225, 1.0, 1.0, 1.0, 0.0, 0.0], [1.0, 49.0, 1.0, 0.0, 56.9292, 1.0, 0.0, 1.0, 0.0, 0.0], [2.0, 24.0, 2.0, 1.0, 27.0, 0.0, 0.0, 0.0, 0.0, 1.0], [3.0, 29.69911764705882, 0.0, 0.0, 7.8958, 1.0, 1.0, 0.0, 0.0, 1.0], [1.0, 29.69911764705882, 0.0, 0.0, 42.4, 1.0, 1.0, 0.0, 0.0, 1.0], [3.0, 44.0, 0.0, 0.0, 8.05, 1.0, 0.0, 0.0, 0.0, 1.0], [1.0, 35.0, 0.0, 0.0, 26.55, 1.0, 0.0, 1.0, 0.0, 0.0], [3.0, 36.0, 1.0, 0.0, 15.55, 1.0, 0.0, 0.0, 0.0, 1.0], [3.0, 30.0, 0.0, 0.0, 7.8958, 1.0, 0.0, 0.0, 0.0, 1.0], [1.0, 27.0, 0.0, 0.0, 30.5, 1.0, 0.0, 0.0, 0.0, 1.0], [2.0, 22.0, 1.0, 2.0, 41.5792, 0.0, 0.0, 1.0, 0.0, 0.0], [1.0, 40.0, 0.0, 0.0, 153.4625, 0.0, 0.0, 0.0, 0.0, 1.0], [3.0, 39.0, 1.0, 5.0, 31.275, 0.0, 0.0, 0.0, 0.0, 1.0], [3.0, 29.69911764705882, 0.0, 0.0, 7.05, 1.0, 1.0, 0.0, 0.0, 1.0], [3.0, 29.69911764705882, 1.0, 0.0, 15.5, 0.0, 1.0, 0.0, 1.0, 0.0], [3.0, 29.69911764705882, 0.0, 0.0, 7.75, 1.0, 1.0, 0.0, 1.0, 0.0], [3.0, 35.0, 0.0, 0.0, 8.05, 1.0, 0.0, 0.0, 0.0, 1.0], [2.0, 24.0, 1.0, 2.0, 65.0, 0.0, 0.0, 0.0, 0.0, 1.0], [3.0, 34.0, 1.0, 1.0, 14.4, 1.0, 0.0, 0.0, 0.0, 1.0], [3.0, 26.0, 1.0, 0.0, 16.1, 0.0, 0.0, 0.0, 0.0, 1.0], [2.0, 4.0, 2.0, 1.0, 39.0, 0.0, 0.0, 0.0, 0.0, 1.0], [2.0, 26.0, 0.0, 0.0, 10.5, 1.0, 0.0, 0.0, 0.0, 1.0], [3.0, 27.0, 1.0, 0.0, 14.4542, 1.0, 0.0, 1.0, 0.0, 0.0], [1.0, 42.0, 1.0, 0.0, 52.5542, 1.0, 0.0, 0.0, 0.0, 1.0], [3.0, 20.0, 1.0, 1.0, 15.7417, 1.0, 0.0, 1.0, 0.0, 0.0], [3.0, 21.0, 0.0, 0.0, 7.8542, 1.0, 0.0, 0.0, 0.0, 1.0], [3.0, 21.0, 0.0, 0.0, 16.1, 1.0, 0.0, 0.0, 0.0, 1.0], [1.0, 61.0, 0.0, 0.0, 32.3208, 1.0, 0.0, 0.0, 0.0, 1.0], [2.0, 57.0, 0.0, 0.0, 12.35, 1.0, 0.0, 0.0, 1.0, 0.0], [1.0, 21.0, 0.0, 0.0, 77.9583, 0.0, 0.0, 0.0, 0.0, 1.0], [3.0, 26.0, 0.0, 0.0, 7.8958, 1.0, 0.0, 0.0, 0.0, 1.0], [3.0, 29.69911764705882, 0.0, 0.0, 7.7333, 1.0, 1.0, 0.0, 1.0, 0.0], [1.0, 80.0, 0.0, 0.0, 30.0, 1.0, 0.0, 0.0, 0.0, 1.0], [3.0, 51.0, 0.0, 0.0, 7.0542, 1.0, 0.0, 0.0, 0.0, 1.0], [1.0, 32.0, 0.0, 0.0, 30.5, 1.0, 0.0, 1.0, 0.0, 0.0], [1.0, 29.69911764705882, 0.0, 0.0, 0.0, 1.0, 1.0, 0.0, 0.0, 1.0], [3.0, 9.0, 3.0, 2.0, 27.9, 0.0, 0.0, 0.0, 0.0, 1.0], [2.0, 28.0, 0.0, 0.0, 13.0, 0.0, 0.0, 0.0, 0.0, 1.0], [3.0, 32.0, 0.0, 0.0, 7.925, 1.0, 0.0, 0.0, 0.0, 1.0], [2.0, 31.0, 1.0, 1.0, 26.25, 1.0, 0.0, 0.0, 0.0, 1.0], [3.0, 41.0, 0.0, 5.0, 39.6875, 0.0, 0.0, 0.0, 0.0, 1.0], [3.0, 29.69911764705882, 1.0, 0.0, 16.1, 1.0, 1.0, 0.0, 0.0, 1.0], [3.0, 20.0, 0.0, 0.0, 7.8542, 1.0, 0.0, 0.0, 0.0, 1.0], [1.0, 24.0, 0.0, 0.0, 69.3, 0.0, 0.0, 1.0, 0.0, 0.0], [3.0, 2.0, 3.0, 2.0, 27.9, 0.0, 0.0, 0.0, 0.0, 1.0], [3.0, 29.69911764705882, 0.0, 0.0, 56.4958, 1.0, 1.0, 0.0, 0.0, 1.0], [3.0, 0.75, 2.0, 1.0, 19.2583, 0.0, 0.0, 1.0, 0.0, 0.0], [1.0, 48.0, 1.0, 0.0, 76.7292, 1.0, 0.0, 1.0, 0.0, 0.0], [3.0, 19.0, 0.0, 0.0, 7.8958, 1.0, 0.0, 0.0, 0.0, 1.0], [1.0, 56.0, 0.0, 0.0, 35.5, 1.0, 0.0, 1.0, 0.0, 0.0], [3.0, 29.69911764705882, 0.0, 0.0, 7.55, 1.0, 1.0, 0.0, 0.0, 1.0], [3.0, 23.0, 0.0, 0.0, 7.55, 0.0, 0.0, 0.0, 0.0, 1.0], [3.0, 29.69911764705882, 0.0, 0.0, 7.8958, 1.0, 1.0, 0.0, 0.0, 1.0], [2.0, 18.0, 0.0, 1.0, 23.0, 0.0, 0.0, 0.0, 0.0, 1.0], [3.0, 21.0, 0.0, 0.0, 8.4333, 1.0, 0.0, 0.0, 0.0, 1.0], [3.0, 29.69911764705882, 0.0, 0.0, 7.8292, 0.0, 1.0, 0.0, 1.0, 0.0], [3.0, 18.0, 0.0, 0.0, 6.75, 0.0, 0.0, 0.0, 1.0, 0.0], [2.0, 24.0, 2.0, 0.0, 73.5, 1.0, 0.0, 0.0, 0.0, 1.0], [3.0, 29.69911764705882, 0.0, 0.0, 7.8958, 1.0, 1.0, 0.0, 0.0, 1.0], [3.0, 32.0, 1.0, 1.0, 15.5, 0.0, 0.0, 0.0, 1.0, 0.0], [2.0, 23.0, 0.0, 0.0, 13.0, 1.0, 0.0, 0.0, 0.0, 1.0], [1.0, 58.0, 0.0, 2.0, 113.275, 1.0, 0.0, 1.0, 0.0, 0.0], [1.0, 50.0, 2.0, 0.0, 133.65, 1.0, 0.0, 0.0, 0.0, 1.0], [3.0, 40.0, 0.0, 0.0, 7.225, 1.0, 0.0, 1.0, 0.0, 0.0], [1.0, 47.0, 0.0, 0.0, 25.5875, 1.0, 0.0, 0.0, 0.0, 1.0], [3.0, 36.0, 0.0, 0.0, 7.4958, 1.0, 0.0, 0.0, 0.0, 1.0], [3.0, 20.0, 1.0, 0.0, 7.925, 1.0, 0.0, 0.0, 0.0, 1.0], [2.0, 32.0, 2.0, 0.0, 73.5, 1.0, 0.0, 0.0, 0.0, 1.0], [2.0, 25.0, 0.0, 0.0, 13.0, 1.0, 0.0, 0.0, 0.0, 1.0], [3.0, 29.69911764705882, 0.0, 0.0, 7.775, 1.0, 1.0, 0.0, 0.0, 1.0], [3.0, 43.0, 0.0, 0.0, 8.05, 1.0, 0.0, 0.0, 0.0, 1.0], [1.0, 29.69911764705882, 1.0, 0.0, 52.0, 0.0, 1.0, 0.0, 0.0, 1.0], [2.0, 40.0, 1.0, 1.0, 39.0, 0.0, 0.0, 0.0, 0.0, 1.0], [1.0, 31.0, 1.0, 0.0, 52.0, 1.0, 0.0, 0.0, 0.0, 1.0], [2.0, 70.0, 0.0, 0.0, 10.5, 1.0, 0.0, 0.0, 0.0, 1.0], [2.0, 31.0, 0.0, 0.0, 13.0, 1.0, 0.0, 0.0, 0.0, 1.0], [2.0, 29.69911764705882, 0.0, 0.0, 0.0, 1.0, 1.0, 0.0, 0.0, 1.0], [3.0, 18.0, 0.0, 0.0, 7.775, 1.0, 0.0, 0.0, 0.0, 1.0], [3.0, 24.5, 0.0, 0.0, 8.05, 1.0, 0.0, 0.0, 0.0, 1.0], [3.0, 18.0, 0.0, 0.0, 9.8417, 0.0, 0.0, 0.0, 0.0, 1.0], [3.0, 43.0, 1.0, 6.0, 46.9, 0.0, 0.0, 0.0, 0.0, 1.0], [1.0, 36.0, 0.0, 1.0, 512.3292, 1.0, 0.0, 1.0, 0.0, 0.0], [3.0, 29.69911764705882, 0.0, 0.0, 8.1375, 0.0, 1.0, 0.0, 1.0, 0.0], [1.0, 27.0, 0.0, 0.0, 76.7292, 1.0, 0.0, 1.0, 0.0, 0.0], [3.0, 20.0, 0.0, 0.0, 9.225, 1.0, 0.0, 0.0, 0.0, 1.0], [3.0, 14.0, 5.0, 2.0, 46.9, 1.0, 0.0, 0.0, 0.0, 1.0], [2.0, 60.0, 1.0, 1.0, 39.0, 1.0, 0.0, 0.0, 0.0, 1.0], [2.0, 25.0, 1.0, 2.0, 41.5792, 1.0, 0.0, 1.0, 0.0, 0.0], [3.0, 14.0, 4.0, 1.0, 39.6875, 1.0, 0.0, 0.0, 0.0, 1.0], [3.0, 19.0, 0.0, 0.0, 10.1708, 1.0, 0.0, 0.0, 0.0, 1.0], [3.0, 18.0, 0.0, 0.0, 7.7958, 1.0, 0.0, 0.0, 0.0, 1.0], [1.0, 15.0, 0.0, 1.0, 211.3375, 0.0, 0.0, 0.0, 0.0, 1.0], [1.0, 31.0, 1.0, 0.0, 57.0, 1.0, 0.0, 0.0, 0.0, 1.0], [3.0, 4.0, 0.0, 1.0, 13.4167, 0.0, 0.0, 1.0, 0.0, 0.0], [3.0, 29.69911764705882, 0.0, 0.0, 56.4958, 1.0, 1.0, 0.0, 0.0, 1.0], [3.0, 25.0, 0.0, 0.0, 7.225, 1.0, 0.0, 1.0, 0.0, 0.0], [1.0, 60.0, 0.0, 0.0, 26.55, 1.0, 0.0, 0.0, 0.0, 1.0], [2.0, 52.0, 0.0, 0.0, 13.5, 1.0, 0.0, 0.0, 0.0, 1.0], [3.0, 44.0, 0.0, 0.0, 8.05, 1.0, 0.0, 0.0, 0.0, 1.0], [3.0, 29.69911764705882, 0.0, 0.0, 7.7333, 0.0, 1.0, 0.0, 1.0, 0.0], [1.0, 49.0, 1.0, 1.0, 110.8833, 1.0, 0.0, 1.0, 0.0, 0.0], [3.0, 42.0, 0.0, 0.0, 7.65, 1.0, 0.0, 0.0, 0.0, 1.0], [1.0, 18.0, 1.0, 0.0, 227.525, 0.0, 0.0, 1.0, 0.0, 0.0], [1.0, 35.0, 0.0, 0.0, 26.2875, 1.0, 0.0, 0.0, 0.0, 1.0], [3.0, 18.0, 0.0, 1.0, 14.4542, 0.0, 0.0, 1.0, 0.0, 0.0], [3.0, 25.0, 0.0, 0.0, 7.7417, 1.0, 0.0, 0.0, 1.0, 0.0], [3.0, 26.0, 1.0, 0.0, 7.8542, 1.0, 0.0, 0.0, 0.0, 1.0], [2.0, 39.0, 0.0, 0.0, 26.0, 1.0, 0.0, 0.0, 0.0, 1.0], [2.0, 45.0, 0.0, 0.0, 13.5, 0.0, 0.0, 0.0, 0.0, 1.0], [1.0, 42.0, 0.0, 0.0, 26.2875, 1.0, 0.0, 0.0, 0.0, 1.0], [1.0, 22.0, 0.0, 0.0, 151.55, 0.0, 0.0, 0.0, 0.0, 1.0], [3.0, 29.69911764705882, 1.0, 1.0, 15.2458, 1.0, 1.0, 1.0, 0.0, 0.0], [1.0, 24.0, 0.0, 0.0, 49.5042, 0.0, 0.0, 1.0, 0.0, 0.0], [1.0, 29.69911764705882, 0.0, 0.0, 26.55, 1.0, 1.0, 0.0, 0.0, 1.0], [1.0, 48.0, 1.0, 0.0, 52.0, 1.0, 0.0, 0.0, 0.0, 1.0], [3.0, 29.0, 0.0, 0.0, 9.4833, 1.0, 0.0, 0.0, 0.0, 1.0], [2.0, 52.0, 0.0, 0.0, 13.0, 1.0, 0.0, 0.0, 0.0, 1.0], [3.0, 19.0, 0.0, 0.0, 7.65, 1.0, 0.0, 0.0, 0.0, 1.0], [1.0, 38.0, 0.0, 0.0, 227.525, 0.0, 0.0, 1.0, 0.0, 0.0], [2.0, 27.0, 0.0, 0.0, 10.5, 0.0, 0.0, 0.0, 0.0, 1.0], [3.0, 29.69911764705882, 0.0, 0.0, 15.5, 1.0, 1.0, 0.0, 1.0, 0.0], [3.0, 33.0, 0.0, 0.0, 7.775, 1.0, 0.0, 0.0, 0.0, 1.0], [2.0, 6.0, 0.0, 1.0, 33.0, 0.0, 0.0, 0.0, 0.0, 1.0], [3.0, 17.0, 1.0, 0.0, 7.0542, 1.0, 0.0, 0.0, 0.0, 1.0], [2.0, 34.0, 0.0, 0.0, 13.0, 1.0, 0.0, 0.0, 0.0, 1.0], [2.0, 50.0, 0.0, 0.0, 13.0, 1.0, 0.0, 0.0, 0.0, 1.0], [1.0, 27.0, 1.0, 0.0, 53.1, 1.0, 0.0, 0.0, 0.0, 1.0], [3.0, 20.0, 0.0, 0.0, 8.6625, 1.0, 0.0, 0.0, 0.0, 1.0], [2.0, 30.0, 3.0, 0.0, 21.0, 0.0, 0.0, 0.0, 0.0, 1.0], [3.0, 29.69911764705882, 0.0, 0.0, 7.7375, 0.0, 1.0, 0.0, 1.0, 0.0], [2.0, 25.0, 1.0, 0.0, 26.0, 1.0, 0.0, 0.0, 0.0, 1.0], [3.0, 25.0, 1.0, 0.0, 7.925, 0.0, 0.0, 0.0, 0.0, 1.0], [1.0, 29.0, 0.0, 0.0, 211.3375, 0.0, 0.0, 0.0, 0.0, 1.0], [3.0, 11.0, 0.0, 0.0, 18.7875, 1.0, 0.0, 1.0, 0.0, 0.0], [2.0, 29.69911764705882, 0.0, 0.0, 0.0, 1.0, 1.0, 0.0, 0.0, 1.0], [2.0, 23.0, 0.0, 0.0, 13.0, 1.0, 0.0, 0.0, 0.0, 1.0], [2.0, 23.0, 0.0, 0.0, 13.0, 1.0, 0.0, 0.0, 0.0, 1.0], [3.0, 28.5, 0.0, 0.0, 16.1, 1.0, 0.0, 0.0, 0.0, 1.0], [3.0, 48.0, 1.0, 3.0, 34.375, 0.0, 0.0, 0.0, 0.0, 1.0], [1.0, 35.0, 0.0, 0.0, 512.3292, 1.0, 0.0, 1.0, 0.0, 0.0], [3.0, 29.69911764705882, 0.0, 0.0, 7.8958, 1.0, 1.0, 0.0, 0.0, 1.0], [3.0, 29.69911764705882, 0.0, 0.0, 7.8958, 1.0, 1.0, 0.0, 0.0, 1.0], [1.0, 29.69911764705882, 0.0, 0.0, 30.0, 1.0, 1.0, 0.0, 0.0, 1.0], [1.0, 36.0, 1.0, 0.0, 78.85, 1.0, 0.0, 0.0, 0.0, 1.0], [1.0, 21.0, 2.0, 2.0, 262.375, 0.0, 0.0, 1.0, 0.0, 0.0], [3.0, 24.0, 1.0, 0.0, 16.1, 1.0, 0.0, 0.0, 0.0, 1.0], [3.0, 31.0, 0.0, 0.0, 7.925, 1.0, 0.0, 0.0, 0.0, 1.0], [1.0, 70.0, 1.0, 1.0, 71.0, 1.0, 0.0, 0.0, 0.0, 1.0], [3.0, 16.0, 1.0, 1.0, 20.25, 1.0, 0.0, 0.0, 0.0, 1.0], [2.0, 30.0, 0.0, 0.0, 13.0, 0.0, 0.0, 0.0, 0.0, 1.0], [1.0, 19.0, 1.0, 0.0, 53.1, 1.0, 0.0, 0.0, 0.0, 1.0], [3.0, 31.0, 0.0, 0.0, 7.75, 1.0, 0.0, 0.0, 1.0, 0.0], [2.0, 4.0, 1.0, 1.0, 23.0, 0.0, 0.0, 0.0, 0.0, 1.0], [3.0, 6.0, 0.0, 1.0, 12.475, 1.0, 0.0, 0.0, 0.0, 1.0], [3.0, 33.0, 0.0, 0.0, 9.5, 1.0, 0.0, 0.0, 0.0, 1.0], [3.0, 23.0, 0.0, 0.0, 7.8958, 1.0, 0.0, 0.0, 0.0, 1.0], [2.0, 48.0, 1.0, 2.0, 65.0, 0.0, 0.0, 0.0, 0.0, 1.0], [2.0, 0.67, 1.0, 1.0, 14.5, 1.0, 0.0, 0.0, 0.0, 1.0], [3.0, 28.0, 0.0, 0.0, 7.7958, 1.0, 0.0, 0.0, 0.0, 1.0], [2.0, 18.0, 0.0, 0.0, 11.5, 1.0, 0.0, 0.0, 0.0, 1.0], [3.0, 34.0, 0.0, 0.0, 8.05, 1.0, 0.0, 0.0, 0.0, 1.0], [1.0, 33.0, 0.0, 0.0, 86.5, 0.0, 0.0, 0.0, 0.0, 1.0], [3.0, 29.69911764705882, 0.0, 0.0, 14.5, 1.0, 1.0, 0.0, 0.0, 1.0], [3.0, 41.0, 0.0, 0.0, 7.125, 1.0, 0.0, 0.0, 0.0, 1.0], [3.0, 20.0, 0.0, 0.0, 7.2292, 1.0, 0.0, 1.0, 0.0, 0.0], [1.0, 36.0, 1.0, 2.0, 120.0, 0.0, 0.0, 0.0, 0.0, 1.0], [3.0, 16.0, 0.0, 0.0, 7.775, 1.0, 0.0, 0.0, 0.0, 1.0], [1.0, 51.0, 1.0, 0.0, 77.9583, 0.0, 0.0, 0.0, 0.0, 1.0], [1.0, 29.69911764705882, 0.0, 0.0, 39.6, 1.0, 1.0, 1.0, 0.0, 0.0], [3.0, 30.5, 0.0, 0.0, 7.75, 0.0, 0.0, 0.0, 1.0, 0.0], [3.0, 29.69911764705882, 1.0, 0.0, 24.15, 1.0, 1.0, 0.0, 1.0, 0.0], [3.0, 32.0, 0.0, 0.0, 8.3625, 1.0, 0.0, 0.0, 0.0, 1.0], [3.0, 24.0, 0.0, 0.0, 9.5, 1.0, 0.0, 0.0, 0.0, 1.0], [3.0, 48.0, 0.0, 0.0, 7.8542, 1.0, 0.0, 0.0, 0.0, 1.0], [2.0, 57.0, 0.0, 0.0, 10.5, 0.0, 0.0, 0.0, 0.0, 1.0], [3.0, 29.69911764705882, 0.0, 0.0, 7.225, 1.0, 1.0, 1.0, 0.0, 0.0], [2.0, 54.0, 1.0, 3.0, 23.0, 0.0, 0.0, 0.0, 0.0, 1.0], [3.0, 18.0, 0.0, 0.0, 7.75, 1.0, 0.0, 0.0, 0.0, 1.0], [3.0, 29.69911764705882, 0.0, 0.0, 7.75, 1.0, 1.0, 0.0, 1.0, 0.0], [3.0, 5.0, 0.0, 0.0, 12.475, 0.0, 0.0, 0.0, 0.0, 1.0], [3.0, 29.69911764705882, 0.0, 0.0, 7.7375, 1.0, 1.0, 0.0, 1.0, 0.0], [1.0, 43.0, 0.0, 1.0, 211.3375, 0.0, 0.0, 0.0, 0.0, 1.0], [3.0, 13.0, 0.0, 0.0, 7.2292, 0.0, 0.0, 1.0, 0.0, 0.0], [1.0, 17.0, 1.0, 0.0, 57.0, 0.0, 0.0, 0.0, 0.0, 1.0], [1.0, 29.0, 0.0, 0.0, 30.0, 1.0, 0.0, 0.0, 0.0, 1.0], [3.0, 29.69911764705882, 1.0, 2.0, 23.45, 1.0, 1.0, 0.0, 0.0, 1.0], [3.0, 25.0, 0.0, 0.0, 7.05, 1.0, 0.0, 0.0, 0.0, 1.0], [3.0, 25.0, 0.0, 0.0, 7.25, 1.0, 0.0, 0.0, 0.0, 1.0], [3.0, 18.0, 0.0, 0.0, 7.4958, 0.0, 0.0, 0.0, 0.0, 1.0], [3.0, 8.0, 4.0, 1.0, 29.125, 1.0, 0.0, 0.0, 1.0, 0.0], [3.0, 1.0, 1.0, 2.0, 20.575, 1.0, 0.0, 0.0, 0.0, 1.0], [1.0, 46.0, 0.0, 0.0, 79.2, 1.0, 0.0, 1.0, 0.0, 0.0], [3.0, 29.69911764705882, 0.0, 0.0, 7.75, 1.0, 1.0, 0.0, 1.0, 0.0], [2.0, 16.0, 0.0, 0.0, 26.0, 1.0, 0.0, 0.0, 0.0, 1.0], [3.0, 29.69911764705882, 8.0, 2.0, 69.55, 0.0, 1.0, 0.0, 0.0, 1.0], [1.0, 29.69911764705882, 0.0, 0.0, 30.6958, 1.0, 1.0, 1.0, 0.0, 0.0], [3.0, 25.0, 0.0, 0.0, 7.8958, 1.0, 0.0, 0.0, 0.0, 1.0], [2.0, 39.0, 0.0, 0.0, 13.0, 1.0, 0.0, 0.0, 0.0, 1.0], [1.0, 49.0, 0.0, 0.0, 25.9292, 0.0, 0.0, 0.0, 0.0, 1.0], [3.0, 31.0, 0.0, 0.0, 8.6833, 0.0, 0.0, 0.0, 0.0, 1.0], [3.0, 30.0, 0.0, 0.0, 7.2292, 1.0, 0.0, 1.0, 0.0, 0.0], [3.0, 30.0, 1.0, 1.0, 24.15, 0.0, 0.0, 0.0, 0.0, 1.0], [2.0, 34.0, 0.0, 0.0, 13.0, 1.0, 0.0, 0.0, 0.0, 1.0], [2.0, 31.0, 1.0, 1.0, 26.25, 0.0, 0.0, 0.0, 0.0, 1.0], [1.0, 11.0, 1.0, 2.0, 120.0, 1.0, 0.0, 0.0, 0.0, 1.0], [3.0, 0.42, 0.0, 1.0, 8.5167, 1.0, 0.0, 1.0, 0.0, 0.0], [3.0, 27.0, 0.0, 0.0, 6.975, 1.0, 0.0, 0.0, 0.0, 1.0], [3.0, 31.0, 0.0, 0.0, 7.775, 1.0, 0.0, 0.0, 0.0, 1.0], [1.0, 39.0, 0.0, 0.0, 0.0, 1.0, 0.0, 0.0, 0.0, 1.0], [3.0, 18.0, 0.0, 0.0, 7.775, 0.0, 0.0, 0.0, 0.0, 1.0], [2.0, 39.0, 0.0, 0.0, 13.0, 1.0, 0.0, 0.0, 0.0, 1.0], [1.0, 33.0, 1.0, 0.0, 53.1, 0.0, 0.0, 0.0, 0.0, 1.0], [3.0, 26.0, 0.0, 0.0, 7.8875, 1.0, 0.0, 0.0, 0.0, 1.0], [3.0, 39.0, 0.0, 0.0, 24.15, 1.0, 0.0, 0.0, 0.0, 1.0], [2.0, 35.0, 0.0, 0.0, 10.5, 1.0, 0.0, 0.0, 0.0, 1.0], [3.0, 6.0, 4.0, 2.0, 31.275, 0.0, 0.0, 0.0, 0.0, 1.0], [3.0, 30.5, 0.0, 0.0, 8.05, 1.0, 0.0, 0.0, 0.0, 1.0], [1.0, 29.69911764705882, 0.0, 0.0, 0.0, 1.0, 1.0, 0.0, 0.0, 1.0], [3.0, 23.0, 0.0, 0.0, 7.925, 0.0, 0.0, 0.0, 0.0, 1.0], [2.0, 31.0, 1.0, 1.0, 37.0042, 1.0, 0.0, 1.0, 0.0, 0.0], [3.0, 43.0, 0.0, 0.0, 6.45, 1.0, 0.0, 0.0, 0.0, 1.0], [3.0, 10.0, 3.0, 2.0, 27.9, 1.0, 0.0, 0.0, 0.0, 1.0], [1.0, 52.0, 1.0, 1.0, 93.5, 0.0, 0.0, 0.0, 0.0, 1.0], [3.0, 27.0, 0.0, 0.0, 8.6625, 1.0, 0.0, 0.0, 0.0, 1.0], [1.0, 38.0, 0.0, 0.0, 0.0, 1.0, 0.0, 0.0, 0.0, 1.0], [3.0, 27.0, 0.0, 1.0, 12.475, 0.0, 0.0, 0.0, 0.0, 1.0], [3.0, 2.0, 4.0, 1.0, 39.6875, 1.0, 0.0, 0.0, 0.0, 1.0], [3.0, 29.69911764705882, 0.0, 0.0, 6.95, 1.0, 1.0, 0.0, 1.0, 0.0], [3.0, 29.69911764705882, 0.0, 0.0, 56.4958, 1.0, 1.0, 0.0, 0.0, 1.0], [2.0, 1.0, 0.0, 2.0, 37.0042, 1.0, 0.0, 1.0, 0.0, 0.0], [3.0, 29.69911764705882, 0.0, 0.0, 7.75, 1.0, 1.0, 0.0, 1.0, 0.0], [1.0, 62.0, 0.0, 0.0, 80.0, 0.0, 0.0, 0.0, 0.0, 0.0], [3.0, 15.0, 1.0, 0.0, 14.4542, 0.0, 0.0, 1.0, 0.0, 0.0], [2.0, 0.83, 1.0, 1.0, 18.75, 1.0, 0.0, 0.0, 0.0, 1.0], [3.0, 29.69911764705882, 0.0, 0.0, 7.2292, 1.0, 1.0, 1.0, 0.0, 0.0], [3.0, 23.0, 0.0, 0.0, 7.8542, 1.0, 0.0, 0.0, 0.0, 1.0], [3.0, 18.0, 0.0, 0.0, 8.3, 1.0, 0.0, 0.0, 0.0, 1.0], [1.0, 39.0, 1.0, 1.0, 83.1583, 0.0, 0.0, 1.0, 0.0, 0.0], [3.0, 21.0, 0.0, 0.0, 8.6625, 1.0, 0.0, 0.0, 0.0, 1.0], [3.0, 29.69911764705882, 0.0, 0.0, 8.05, 1.0, 1.0, 0.0, 0.0, 1.0], [3.0, 32.0, 0.0, 0.0, 56.4958, 1.0, 0.0, 0.0, 0.0, 1.0], [1.0, 29.69911764705882, 0.0, 0.0, 29.7, 1.0, 1.0, 1.0, 0.0, 0.0], [3.0, 20.0, 0.0, 0.0, 7.925, 1.0, 0.0, 0.0, 0.0, 1.0], [2.0, 16.0, 0.0, 0.0, 10.5, 1.0, 0.0, 0.0, 0.0, 1.0], [1.0, 30.0, 0.0, 0.0, 31.0, 0.0, 0.0, 1.0, 0.0, 0.0], [3.0, 34.5, 0.0, 0.0, 6.4375, 1.0, 0.0, 1.0, 0.0, 0.0], [3.0, 17.0, 0.0, 0.0, 8.6625, 1.0, 0.0, 0.0, 0.0, 1.0], [3.0, 42.0, 0.0, 0.0, 7.55, 1.0, 0.0, 0.0, 0.0, 1.0], [3.0, 29.69911764705882, 8.0, 2.0, 69.55, 1.0, 1.0, 0.0, 0.0, 1.0], [3.0, 35.0, 0.0, 0.0, 7.8958, 1.0, 0.0, 1.0, 0.0, 0.0], [2.0, 28.0, 0.0, 1.0, 33.0, 1.0, 0.0, 0.0, 0.0, 1.0], [1.0, 29.69911764705882, 1.0, 0.0, 89.1042, 0.0, 1.0, 1.0, 0.0, 0.0], [3.0, 4.0, 4.0, 2.0, 31.275, 1.0, 0.0, 0.0, 0.0, 1.0], [3.0, 74.0, 0.0, 0.0, 7.775, 1.0, 0.0, 0.0, 0.0, 1.0], [3.0, 9.0, 1.0, 1.0, 15.2458, 0.0, 0.0, 1.0, 0.0, 0.0], [1.0, 16.0, 0.0, 1.0, 39.4, 0.0, 0.0, 0.0, 0.0, 1.0], [2.0, 44.0, 1.0, 0.0, 26.0, 0.0, 0.0, 0.0, 0.0, 1.0], [3.0, 18.0, 0.0, 1.0, 9.35, 0.0, 0.0, 0.0, 0.0, 1.0], [1.0, 45.0, 1.0, 1.0, 164.8667, 0.0, 0.0, 0.0, 0.0, 1.0], [1.0, 51.0, 0.0, 0.0, 26.55, 1.0, 0.0, 0.0, 0.0, 1.0], [3.0, 24.0, 0.0, 3.0, 19.2583, 0.0, 0.0, 1.0, 0.0, 0.0], [3.0, 29.69911764705882, 0.0, 0.0, 7.2292, 1.0, 1.0, 1.0, 0.0, 0.0], [3.0, 41.0, 2.0, 0.0, 14.1083, 1.0, 0.0, 0.0, 0.0, 1.0], [2.0, 21.0, 1.0, 0.0, 11.5, 1.0, 0.0, 0.0, 0.0, 1.0], [1.0, 48.0, 0.0, 0.0, 25.9292, 0.0, 0.0, 0.0, 0.0, 1.0], [3.0, 29.69911764705882, 8.0, 2.0, 69.55, 0.0, 1.0, 0.0, 0.0, 1.0], [2.0, 24.0, 0.0, 0.0, 13.0, 1.0, 0.0, 0.0, 0.0, 1.0], [2.0, 42.0, 0.0, 0.0, 13.0, 0.0, 0.0, 0.0, 0.0, 1.0], [2.0, 27.0, 1.0, 0.0, 13.8583, 0.0, 0.0, 1.0, 0.0, 0.0], [1.0, 31.0, 0.0, 0.0, 50.4958, 1.0, 0.0, 0.0, 0.0, 1.0], [3.0, 29.69911764705882, 0.0, 0.0, 9.5, 1.0, 1.0, 0.0, 0.0, 1.0], [3.0, 4.0, 1.0, 1.0, 11.1333, 1.0, 0.0, 0.0, 0.0, 1.0], [3.0, 26.0, 0.0, 0.0, 7.8958, 1.0, 0.0, 0.0, 0.0, 1.0], [1.0, 47.0, 1.0, 1.0, 52.5542, 0.0, 0.0, 0.0, 0.0, 1.0], [1.0, 33.0, 0.0, 0.0, 5.0, 1.0, 0.0, 0.0, 0.0, 1.0], [3.0, 47.0, 0.0, 0.0, 9.0, 1.0, 0.0, 0.0, 0.0, 1.0], [2.0, 28.0, 1.0, 0.0, 24.0, 0.0, 0.0, 1.0, 0.0, 0.0], [3.0, 15.0, 0.0, 0.0, 7.225, 0.0, 0.0, 1.0, 0.0, 0.0], [3.0, 20.0, 0.0, 0.0, 9.8458, 1.0, 0.0, 0.0, 0.0, 1.0], [3.0, 19.0, 0.0, 0.0, 7.8958, 1.0, 0.0, 0.0, 0.0, 1.0], [3.0, 29.69911764705882, 0.0, 0.0, 7.8958, 1.0, 1.0, 0.0, 0.0, 1.0], [1.0, 56.0, 0.0, 1.0, 83.1583, 0.0, 0.0, 1.0, 0.0, 0.0], [2.0, 25.0, 0.0, 1.0, 26.0, 0.0, 0.0, 0.0, 0.0, 1.0], [3.0, 33.0, 0.0, 0.0, 7.8958, 1.0, 0.0, 0.0, 0.0, 1.0], [3.0, 22.0, 0.0, 0.0, 10.5167, 0.0, 0.0, 0.0, 0.0, 1.0], [2.0, 28.0, 0.0, 0.0, 10.5, 1.0, 0.0, 0.0, 0.0, 1.0], [3.0, 25.0, 0.0, 0.0, 7.05, 1.0, 0.0, 0.0, 0.0, 1.0], [3.0, 39.0, 0.0, 5.0, 29.125, 0.0, 0.0, 0.0, 1.0, 0.0], [2.0, 27.0, 0.0, 0.0, 13.0, 1.0, 0.0, 0.0, 0.0, 1.0], [1.0, 19.0, 0.0, 0.0, 30.0, 0.0, 0.0, 0.0, 0.0, 1.0], [3.0, 29.69911764705882, 1.0, 2.0, 23.45, 0.0, 1.0, 0.0, 0.0, 1.0], [1.0, 26.0, 0.0, 0.0, 30.0, 1.0, 0.0, 1.0, 0.0, 0.0], [3.0, 32.0, 0.0, 0.0, 7.75, 1.0, 0.0, 0.0, 1.0, 0.0]])\n",
    "n_cols = 10"
   ]
  },
  {
   "cell_type": "code",
   "execution_count": 111,
   "metadata": {},
   "outputs": [
    {
     "name": "stdout",
     "output_type": "stream",
     "text": [
      "Epoch 1/1\n",
      "891/891 [==============================] - 0s 166us/step - loss: 1.4222 - acc: 0.6004\n"
     ]
    },
    {
     "data": {
      "text/plain": [
       "<keras.callbacks.History at 0x1156e87b8>"
      ]
     },
     "execution_count": 111,
     "metadata": {},
     "output_type": "execute_result"
    }
   ],
   "source": [
    "# Import necessary modules\n",
    "import keras\n",
    "from keras.layers import Dense\n",
    "from keras.models import Sequential\n",
    "from keras.utils import to_categorical\n",
    "\n",
    "# Convert the target to categorical: target\n",
    "target = to_categorical(df.survived)\n",
    "\n",
    "# Set up the model\n",
    "model = Sequential()\n",
    "\n",
    "# Add the first layer\n",
    "model.add(Dense(32, activation='relu', input_shape=(n_cols,)))\n",
    "\n",
    "# Add the output layer\n",
    "# Add the Dense output layer. Because there are two outcomes, it should have 2 units, and because it is a classification model, the activation should be 'softmax'.\n",
    "model.add(Dense(2, activation='softmax'))\n",
    "\n",
    "# Compile the model\n",
    "model.compile(optimizer='sgd', loss='categorical_crossentropy', metrics=['accuracy'])\n",
    "\n",
    "# Fit the model\n",
    "model.fit(predictors, target)"
   ]
  },
  {
   "cell_type": "code",
   "execution_count": null,
   "metadata": {},
   "outputs": [],
   "source": []
  },
  {
   "cell_type": "code",
   "execution_count": null,
   "metadata": {},
   "outputs": [],
   "source": []
  },
  {
   "cell_type": "code",
   "execution_count": null,
   "metadata": {},
   "outputs": [],
   "source": []
  },
  {
   "cell_type": "code",
   "execution_count": null,
   "metadata": {},
   "outputs": [],
   "source": []
  }
 ],
 "metadata": {
  "kernelspec": {
   "display_name": "Python 3",
   "language": "python",
   "name": "python3"
  },
  "language_info": {
   "codemirror_mode": {
    "name": "ipython",
    "version": 3
   },
   "file_extension": ".py",
   "mimetype": "text/x-python",
   "name": "python",
   "nbconvert_exporter": "python",
   "pygments_lexer": "ipython3",
   "version": "3.7.1"
  }
 },
 "nbformat": 4,
 "nbformat_minor": 2
}

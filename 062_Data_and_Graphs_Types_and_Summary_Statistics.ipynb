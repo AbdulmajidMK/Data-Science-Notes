{
 "cells": [
  {
   "cell_type": "raw",
   "metadata": {},
   "source": [
    "From: https://github.com/ksatola\n",
    "Version: 0.0.1"
   ]
  },
  {
   "cell_type": "markdown",
   "metadata": {},
   "source": [
    "## Table of Contents\n",
    "\n",
    "- [Data Types](#data)\n",
    "- [Graph Types](#graphs)\n",
    "- [Summary Statistics](#sum)\n",
    "- [Resources](#res)"
   ]
  },
  {
   "cell_type": "code",
   "execution_count": 59,
   "metadata": {},
   "outputs": [],
   "source": [
    "import pandas as pd\n",
    "import numpy as np\n",
    "import matplotlib.pyplot as plt\n",
    "%matplotlib inline\n",
    "\n",
    "from math import modf"
   ]
  },
  {
   "cell_type": "markdown",
   "metadata": {},
   "source": [
    "---\n",
    "<a id='data'></a>"
   ]
  },
  {
   "cell_type": "markdown",
   "metadata": {},
   "source": [
    "# Data Types\n",
    "\n",
    "**Statistics** is the science of learning from data. However, there are different types of variables, and they record various kinds of information. Crucially, the type of information determines what you can learn from it, and, importantly, what you cannot learn from it. Consequently, you must understand the different types of data. **Data** carries information that you are gathering for an inquiry. **Data** are evidence you can use to answer questions.\n",
    "\n",
    "<img src=\"images/stat-datatypes.png\" alt=\"\" style=\"width: 400px;\"/>\n"
   ]
  },
  {
   "cell_type": "markdown",
   "metadata": {},
   "source": [
    "## Quantitative versus Qualitative Data\n",
    "\n",
    "- **Quantitative**: The information is recorded as `numbers` and represents an objective measurement or a count. Temperature, weight, and a count of transactions are all quantitative data. Analysts also refer to this type as `numerical data`.\n",
    "\n",
    "    - **Continuous** variables can take on any numeric value, and the scale can be meaningfully divided into smaller increments, including fractional and decimal values. There are an infinite number of possible values between any two values. And differences between any two values are always meaningful. Typically, you measure continuous variables on a scale. For example, when you measure height, weight, and tempera- ture, you have continuous data.\n",
    "    \n",
    "        - **Intervals**: On interval scales, the interval, or distance, between any two points is meaningful. For example, the 20-degree difference between 10 and 30 Celsius is equivalent to the difference between 50 and 70 degrees. However, `these scales don’t have a zero measurement that indicates the lack of the characteristic`. For example, Celsius has a zero measure, but it does not mean there is no temperature.\n",
    "        \n",
    "        Due to this lack of a true zero, `measurement ratios are not valid on interval scales`. Thirty degrees Celsius is not three times the temperature as 10 degrees Celsius. **You can add and subtract values on an in-terval scale, but you cannot multiply or divide them**.\n",
    "        \n",
    "        - **Ratio**: On ratio scales, intervals are still meaningful. Additionally, `these scales have a zero measurement that represents a lack of the property`. For example, zero kilograms indicates a lack of weight. Consequently, measurements ratios are valid for these scales. 30 kg is three times the weight of 10 kg. **You can add, subtract, multiply, and divide values on an interval scale**.\n",
    "        \n",
    "    With continuous variables, you can assess properties such as the `mean`, `median`, `distribution`, `range`, and `standard deviation`. **Continuous variables** allow you to assess the wide variety of properties.\n",
    "        \n",
    "    Graphical representations: `histogram`, `scatter plot`, `time series`, `box plot`, `individual value plot`.\n",
    "        \n",
    "    - **Discrete** quantitative data are a count of the presence of a characteristic, result, item, or activity. These counts are nonnegative integers that cannot be divided into smaller increments. For example, a single household can have 1 or 2 cars, but it cannot have 1.6. There are a finite number of possible values between any two values. Other examples of discrete variables include class sizes, number of candies in a jar, and the number of calls that a call center receives.\n",
    "    \n",
    "    With discrete variables, you can calculate and assess a rate of occurrence or a summary of the count, such as the `mean`, `sum`, and `standard deviation`. For example, U.S. households had an average of 2.11 vehicles in 2014.\n",
    "    \n",
    "    Graphical representations: `bar chart`.\n",
    "\n",
    "- **Qualitative**: The information represents characteristics that you do `not measure with numbers`. Instead, observations fall within a countable number of groups. This type of variable can capture information that isn’t easily measured and can be subjective. Taste, eye color, architectural style, and marital status are all types of qualitative variables.\n",
    "\n",
    "    When you record information that categorizes your observations, you are collecting **qualitative data**. There are three types of qualitative variables: **categorical**, **binary**, and **ordinal**. With these data types, you’re often interested in the proportions of each category. \n",
    "    \n",
    "    Graphical representations: `bar chart`, `pie chart` (useful for displaying counts and relative percentages of each group).\n",
    "    \n",
    "    - **Categorical** data have values that you can put into a countable number of distinct groups based on a characteristic. For a categorical variable, you can assign categories, but the categories have `no natural order`. Categorical variables can define groups in your data that you want to compare, such as the experimental conditions of treatment and control. Analysts also refer to categorical data as both **attribute** and **nominal** variables. For example, college major is a categorical variable that can have val- ues such as psychology, political science, engineering, biology, etc.\n",
    "    \n",
    "    - **Binary** data can have only two values. If you can place an observation into only two categories, you have a binary variable. Statisticians also refer to binary data as both **dichotomous** data and **indicator** variables. For example, pass/fail, male/female, and the presence/absence of a characteristic are all binary data. From binary variables, analysts can calculate `proportions` or `percentages`, such as the proportion of defective products in a sample. Simply take the number of faulty products and divide by the sample size.\n",
    "    \n",
    "    - **Ordinal** data have `at least three categories, and the categories have a natural order`. Examples of ordinal variables include overall status (poor to excellent), agreement (strongly disagree to strongly agree), and rank (such as sporting teams).\n",
    "    \n",
    "        **Ordinal variables** have a `combination of qualitative and quantitative properties`. On the one hand, these variables have a limited number of discrete values like categorical variables. On the other hand, the differences between the values provides some information like qualitive variables. However, the difference between adjacent values might not be consistent. For example, first, second, and third in a race are ordinal data. The difference in time between first and second place might not be the same the difference between second and third place.\n",
    "    \n",
    "        Analysts often represent **ordinal variables** using numbers, such as a 1-5 Likert scale that measures satisfaction. In number form, you can calculate `average scores` as with quantitative variables. However, `the numbers have limited usefulness because the differences between ranks might not be constant`.\n",
    "\n",
    "In cases where you have a choice about recording a characteristic as a **continuous** or **qualitative** variable, `the best practice is to record the continuous data because you can learn so much more`."
   ]
  },
  {
   "cell_type": "markdown",
   "metadata": {},
   "source": [
    "---\n",
    "<a id='graphs'></a>"
   ]
  },
  {
   "cell_type": "markdown",
   "metadata": {},
   "source": [
    "# Graph Types\n",
    "\n",
    "**Graphs** summarize a dataset visually. **Graphs** provide an intuitive view of your dataset, but there are several cautions about using them.\n",
    "\n",
    "- Scaling can either amplify or diminish the appearance rela- tionships between variables.\n",
    "- Making inferences about a population requires a hypothesis test.\n",
    "\n",
    "## Histograms (1) - Distributions\n",
    "\n",
    "**Histograms** are an excellent way `to graph continuous variables` because they show the distribution of values. Understanding the distribution allows you to determine which values are more and less common amongst other properties.\n",
    "\n",
    "Each histogram bar spans a range of values for the continuous variable on the horizontal X-axis. These ranges are also known as `bins`. The height of each bar represents either the number or proportion of observations that fall within each bin.\n",
    "\n",
    "<img src=\"images/stat-histogram.png\" alt=\"\" style=\"width: 400px;\"/>\n",
    "\n",
    "Histograms help in determining whether the distribution is symmetric or skewed (shape of the distribution), understanding the central tendency, spread of values, identifying where the most common values fall, and outliers.\n",
    "\n",
    "Use histograms when you have continuous measurements and want to understand the distribution of values and look for outliers. They are fantastic exploratory tools because they reveal properties about your sample data in ways that summary statistics cannot.\n",
    "\n",
    "A `measure of central tendency` is a single value that represents the center point or typical value of a dataset, such as the mean. A `measure of variability` is another type of summary statistic that describes how spread out the values are in your dataset. The standard deviation is a conventional measure of dispersion. Histograms indicate which values occur more and less frequently along with their dispersion.\n",
    "\n",
    "I always recommend that you graph your data before assessing the numbers. The problem with summary statistics is that they are simplifications of your dataset. Graphing the data brings it to life much more fully and intuitively. Generally, I find that using graphs in conjunction with statistics provides the best of both worlds."
   ]
  },
  {
   "cell_type": "markdown",
   "metadata": {},
   "source": [
    "## Scatter Plot - Trends\n",
    "\n",
    "When you have `two continuous variables`, you can graph them using a **scatterplot**. Scatterplots are great for displaying the relationship between two continuous variables. Each dot on the graph has an X and Y coordinate that corresponds to a pair of values for one subject or item.\n",
    "\n",
    "On scatterplots, statisticians have guidelines for which variable you place along each axis.\n",
    "- **X-axis**: This is the horizontal axis on the chart. Typically, analysts place the `explanatory variable` on this axis. This variable explains the changes in the other variable.\n",
    "- **Y-axis**: This is the vertical axis on a graph. By tradition, analysts place the `outcome variable` on this axis. The other variable explains changes in this variable. \n",
    "\n",
    "In cases where there isn’t a clear explanatory and outcome relationship between variables, it does not matter where you place each variable.\n",
    "\n",
    "<img src=\"images/stat-scatterplot.png\" alt=\"\" style=\"width: 400px;\"/>\n",
    "\n",
    "**Scatterplots** display relationships between pairs of continuous variables. A relationship between a pair of variables indicates the value of one variable depends on the value of another variable. In other words, if you know the value of one variable, you can predict the value of the other variable more accurately.\n",
    "\n",
    "## Time Series - Trends & Patterns over Time\n",
    "\n",
    "**Time series** plots do the same, except `one of the continuous variables is time`. These plots display the continuous variable over time and allow you to determine whether the continuous variable changes over time. You can look for both trends and patterns over time. Time series plots `typically take measurements at regular intervals`, such as daily, weekly, monthly, and annually. These graphs display time on the X-axis. The Y-axis shows the continuous measurement scale.\n",
    "\n",
    "<img src=\"images/stat-timeseries.png\" alt=\"\" style=\"width: 400px;\"/>\n"
   ]
  },
  {
   "cell_type": "markdown",
   "metadata": {},
   "source": [
    "## Bar Chart (1)\n",
    "\n",
    "**Bar charts** are a standard way to graph discrete variables. Each bar represents a distinct value, and the height represents its proportion in the entire sample. Use bar charts to indicate which values occur are more and less frequently.\n",
    "\n",
    "<img src=\"images/stat-barchart.png\" alt=\"\" style=\"width: 400px;\"/>\n",
    "\n",
    "**Bar charts** and **histograms** look similar. However, the bars on a **histogram** touch while they are separate on a **bar chart**. Each bar on **histogram** represents a range of values that continuous measurements fall within. On a **bar chart**, a bar represents one of the discrete values."
   ]
  },
  {
   "cell_type": "markdown",
   "metadata": {},
   "source": [
    "## Pie Chart\n",
    "\n",
    "**Pie charts** are great for highlighting the proportions that groups comprise of the whole. You can use them with categorical, binary, and ordinal data that define groups in your sample.\n",
    "\n",
    "<img src=\"images/stat-piechart.png\" alt=\"\" style=\"width: 400px;\"/>\n"
   ]
  },
  {
   "cell_type": "markdown",
   "metadata": {},
   "source": [
    "## Histograms (2)\n",
    "\n",
    "**Histograms** reveal:\n",
    "- the shape of the distribution, and its central tendency, \n",
    "- the spread of values in your sample data.\n",
    "\n",
    "You can also learn:\n",
    "- how to identify outliers, \n",
    "- how histograms relate to probability distribution functions,\n",
    "- why you might need to use hypothesis tests with them.\n",
    "\n",
    "Histograms are the best method for detecting `multimodal distributions`.\n",
    "\n",
    "You can `use histograms to contrast different groups`. Comparing properties across groups is a fundamental statistical method that can help you learn about a subject area. The primary way scientific experiments create new knowledge is by carefully setting up contrasts between groups, such as a treatment and control group.\n",
    "\n",
    "Histograms are usually pretty good for displaying two groups, and up to four groups if you present them in separate panels. If your primary goal is to compare distributions and your histograms are challenging to interpret, consider using **boxplots** or **individual plots**. Those other plots are `better for comparing distributions when you have more groups`. But they don’t provide quite as much detail for each distribution as histograms.\n",
    "\n",
    "# XXXX dac multimodal distribution, skewed... + dac python code do przykladow\n",
    "\n",
    "<img src=\"images/stat-piechart2.png\" alt=\"\" style=\"width: 400px;\"/>"
   ]
  },
  {
   "cell_type": "markdown",
   "metadata": {},
   "source": [
    "## Boxplots and Individual Value Plots\n",
    "\n",
    "**Boxplots** and **individual value plots** are used to compare distributions of continuous measurements between groups. Use boxplots and individual value plots when you have a `categorical grouping variable` and a `continuous outcome variable`. The categorical variables form the groups in your data, and the researchers measure the continuous variable. These graphs display relationships between a categorical variable and a continuous variable.\n",
    "\n",
    "Both graphs allow you to compare the distribution of values between the groups in your sample data. You can assess properties such as the center, spread, and shapes of the distributions while looking out for `outliers` (unusual values in your dataset). \n",
    "\n",
    "### Individual Value Plots\n",
    "\n",
    "**Individual value plots** display the value of each observation. This graph is best when you have fewer than 50 data points per group. With a larger sample size, the data points can become packed close together, jumbled, and hard to evaluate.\n",
    "- Assess the central tendency by noting the vertical position of each group’s center.\n",
    "- Assess the variability by gauging the vertical range of data points within each group.\n",
    "\n",
    "<img src=\"images/stat-individualvalueplot.png\" alt=\"\" style=\"width: 400px;\"/>\n",
    "\n",
    "### Boxplots\n",
    "\n",
    "Like individual value plots, use **boxplots** to compare the shapes of distributions, find central tendencies, assess variability, and identify outliers. **Boxplots** are also known as **box and whisker diagrams**.\n",
    "\n",
    "Instead of displaying the raw data points, boxplots take your sample data and present ranges of values based on quartiles and display asterisks for outliers that fall outside the whiskers. Boxplots work by breaking your data down into quarters. When your sample size is too small, the quartile estimates might not be meaningful. Consequently, these graphs work best when you have at least 20 data points per group.\n",
    "\n",
    "**Boxplots** display what statisticians refer to as a `five-number summary`, which are five vital descriptive statistics for samples. These values are the `minimum`, `first quartile`, `median`, `third quartile`, and `maximum`. These five values divide your data into quarters — at least approximately because the upper and lower whiskers do not include **outliers**, which the chart displays separately. Outliers display as aster- isks beyond the upper and lower whiskers.\n",
    "\n",
    "<img src=\"images/stat-boxplot.png\" alt=\"\" style=\"width: 400px;\"/>\n",
    "\n",
    "When you’re assessing a single distribution, using a **histogram** is probably better. However, for comparing multiple distributions, **boxplots** are an excellent method.\n",
    "\n",
    "<img src=\"images/stat-boxplot2.png\" alt=\"\" style=\"width: 400px;\"/>\n"
   ]
  },
  {
   "cell_type": "markdown",
   "metadata": {},
   "source": [
    "Histograms, individual value plots, and boxplots can contrast the distributions for groups within your dataset. They illustrate relationships between a categorical and continuous variable. However, what do you use when you have a pair of categorical variables? Use **two-way contingency tables** and **bar charts**!\n",
    "\n",
    "## Two-Way Contingency Tables\n",
    "\n",
    "**Two-way contingency tables** represent the frequency of combinations for two categorical variables. These tables help identify relationships between a pair of categorical variables. You can also graph them using **bar charts**. Each value in a table cell indicates the number of times researchers observed a particular combination of categorical values.\n",
    "\n",
    "<img src=\"images/stat-contingencytable.png\" alt=\"\" style=\"width: 400px;\"/>\n",
    "\n",
    "The Total column indicates the researchers surveyed 66 females and 71 males. Because we have roughly equal numbers, we can `compare the raw counts directly`. However, when you have unequal groups, `use percentages to compare` them.\n",
    "\n",
    "# zrobic raw values i raw percentages"
   ]
  },
  {
   "cell_type": "markdown",
   "metadata": {},
   "source": [
    "## Bar Chart (2)\n",
    "\n",
    "You can also use bar charts to display the results of a contingency table.\n",
    "\n",
    "<img src=\"images/stat-barchart2.png\" alt=\"\" style=\"width: 400px;\"/>\n"
   ]
  },
  {
   "cell_type": "markdown",
   "metadata": {},
   "source": [
    "---\n",
    "<a id='sum'></a>"
   ]
  },
  {
   "cell_type": "markdown",
   "metadata": {},
   "source": [
    "# Summary Statistics\n",
    "\n",
    "A **summary statistic** is a number derived from a dataset that summarizes a property of the entire dataset. \n",
    "\n",
    "There are four categories of summary statistics:\n",
    "\n",
    "- **Measures of central tendency or location**, such as the mean.\n",
    "- **Measures of spread or dispersion**, such as the standard deviation.\n",
    "- **Measures of correlation or dependency**, such as Pearson’s correlation coefficient.\n",
    "- **Measures of the shape of a distribution**, such as skewness or thickness of the tails. Summary statistics about the shape of a distribution are not used as commonly and generally not covered in basic statistics.\n",
    "\n",
    "**Percentiles** measures the relative standing of an observation. Technically, it’s not a summary statistic, but it does indicate where a particular observation falls relative to the entire dataset. Although you can also use `percentiles as a measure of central tendency and a measure of variability`.\n",
    "\n",
    "**Graphs** can give the wrong impression by changing the scaling of the axes. These problems are particularly prevalent when you’re comparing groups or assessing correlations between variables. **Summary statistics** help avoid these problems by providing an objective number."
   ]
  },
  {
   "cell_type": "markdown",
   "metadata": {},
   "source": [
    "## Percentiles\n",
    "\n",
    "Percentiles are a great tool to use when you need to know the `relative standing of a value`. Where does a value fall within a distribution of values? While the concept behind percentiles is straightforward, there are different mathematical methods for calculating them. \n",
    "\n",
    "Percentiles tell you how a value compares to other values. The general rule is that `if value X is at the kth percentile, then X is greater than K% of the values`.\n",
    "\n",
    "We give names to particular percentiles. The 50th percentile is the **median**. This value splits a dataset in half. Half the values are below the 50th percentile, and half are above it. The **median** is a `measure of central tendency` in statistics.\n",
    "\n",
    "**Quartiles** are values that divide your data into quarters, and they are based on percentiles. \n",
    "\n",
    "- The first quartile, also known as **Q1** or the `lower quartile`, is the value of the 25th percentile. The bottom quarter of the scores fall below this value, while three-quarters fall above it.\n",
    "- The second quartile, also known as **Q2** or the **median**, is the value of the 50th percentile. Half the scores are above and half below.\n",
    "- The third quartile, also known as **Q3** or the `upper quartile`, is the value of the 75% percentile. The top quarter of the scores fall above this value, while three-quarters fall below it.\n",
    "\n",
    "The **interquartile range (IQR)** is a `measure of dispersion` in statistics. This range corresponds to the distance between the first quartile and the third quartile **(IQR = Q3 – Q1)**. Larger IQRs indicate that the data are more spread out. The interquartile range represents the middle half of the data. One-quarter of the values fall below the IQR while another quarter of the values are above it.\n",
    "\n",
    "Percentiles are surprisingly versatile because you can use them purposes other than just obtaining a relative standing. They can also divide your dataset into portions, identify the central tendency, and measure the dispersion of a distribution.\n",
    "\n",
    "The following three definitions for percentiles based on data points define the kth percentile in the following different ways:\n",
    "\n",
    "- **Definition 1**: The smallest value that is greater than k percent of the values.\n",
    "- **Definition 2**: The smallest value that is greater than or equal to k percent of values.\n",
    "- **Definition 3**: An interpolated value between the two closest ranks."
   ]
  },
  {
   "cell_type": "code",
   "execution_count": 5,
   "metadata": {},
   "outputs": [
    {
     "data": {
      "text/html": [
       "<div>\n",
       "<style scoped>\n",
       "    .dataframe tbody tr th:only-of-type {\n",
       "        vertical-align: middle;\n",
       "    }\n",
       "\n",
       "    .dataframe tbody tr th {\n",
       "        vertical-align: top;\n",
       "    }\n",
       "\n",
       "    .dataframe thead th {\n",
       "        text-align: right;\n",
       "    }\n",
       "</style>\n",
       "<table border=\"1\" class=\"dataframe\">\n",
       "  <thead>\n",
       "    <tr style=\"text-align: right;\">\n",
       "      <th></th>\n",
       "      <th>Rank</th>\n",
       "      <th>Value</th>\n",
       "    </tr>\n",
       "  </thead>\n",
       "  <tbody>\n",
       "    <tr>\n",
       "      <td>0</td>\n",
       "      <td>1</td>\n",
       "      <td>2</td>\n",
       "    </tr>\n",
       "    <tr>\n",
       "      <td>1</td>\n",
       "      <td>2</td>\n",
       "      <td>3</td>\n",
       "    </tr>\n",
       "    <tr>\n",
       "      <td>2</td>\n",
       "      <td>3</td>\n",
       "      <td>6</td>\n",
       "    </tr>\n",
       "    <tr>\n",
       "      <td>3</td>\n",
       "      <td>4</td>\n",
       "      <td>8</td>\n",
       "    </tr>\n",
       "    <tr>\n",
       "      <td>4</td>\n",
       "      <td>5</td>\n",
       "      <td>13</td>\n",
       "    </tr>\n",
       "    <tr>\n",
       "      <td>5</td>\n",
       "      <td>6</td>\n",
       "      <td>16</td>\n",
       "    </tr>\n",
       "    <tr>\n",
       "      <td>6</td>\n",
       "      <td>7</td>\n",
       "      <td>22</td>\n",
       "    </tr>\n",
       "    <tr>\n",
       "      <td>7</td>\n",
       "      <td>8</td>\n",
       "      <td>35</td>\n",
       "    </tr>\n",
       "    <tr>\n",
       "      <td>8</td>\n",
       "      <td>9</td>\n",
       "      <td>40</td>\n",
       "    </tr>\n",
       "    <tr>\n",
       "      <td>9</td>\n",
       "      <td>10</td>\n",
       "      <td>42</td>\n",
       "    </tr>\n",
       "    <tr>\n",
       "      <td>10</td>\n",
       "      <td>11</td>\n",
       "      <td>48</td>\n",
       "    </tr>\n",
       "  </tbody>\n",
       "</table>\n",
       "</div>"
      ],
      "text/plain": [
       "    Rank  Value\n",
       "0      1      2\n",
       "1      2      3\n",
       "2      3      6\n",
       "3      4      8\n",
       "4      5     13\n",
       "5      6     16\n",
       "6      7     22\n",
       "7      8     35\n",
       "8      9     40\n",
       "9     10     42\n",
       "10    11     48"
      ]
     },
     "execution_count": 5,
     "metadata": {},
     "output_type": "execute_result"
    }
   ],
   "source": [
    "data = {1:2, 2:3, 3:6, 4:8, 5:13, 6:16, 7:22, 8:35, 9:40, 10:42, 11:48}\n",
    "df = pd.DataFrame(list(data.items()), columns=['Rank', 'Value'])\n",
    "df"
   ]
  },
  {
   "cell_type": "code",
   "execution_count": 28,
   "metadata": {},
   "outputs": [
    {
     "data": {
      "text/plain": [
       "11"
      ]
     },
     "execution_count": 28,
     "metadata": {},
     "output_type": "execute_result"
    }
   ],
   "source": [
    "# Find 65th percentile\n",
    "p = 0.65\n",
    "\n",
    "# Number of values\n",
    "nvalues = df.shape[0]\n",
    "nvalues"
   ]
  },
  {
   "cell_type": "code",
   "execution_count": 53,
   "metadata": {},
   "outputs": [
    {
     "name": "stdout",
     "output_type": "stream",
     "text": [
      "7    35\n",
      "Name: Value, dtype: int64\n",
      "35\n"
     ]
    }
   ],
   "source": [
    "# Definition 1: Greater Than\n",
    "perc = df['Value'][df['Rank'] == round(p*nvalues)+1]\n",
    "print(perc)\n",
    "print(perc.values[0])"
   ]
  },
  {
   "cell_type": "code",
   "execution_count": 54,
   "metadata": {},
   "outputs": [
    {
     "name": "stdout",
     "output_type": "stream",
     "text": [
      "6    22\n",
      "Name: Value, dtype: int64\n",
      "22\n"
     ]
    }
   ],
   "source": [
    "# Definition 2: Greater Than or Equal To\n",
    "perc = df['Value'][df['Rank'] == round(p*nvalues)]\n",
    "print(perc)\n",
    "print(perc.values[0])"
   ]
  },
  {
   "cell_type": "code",
   "execution_count": 58,
   "metadata": {},
   "outputs": [
    {
     "name": "stdout",
     "output_type": "stream",
     "text": [
      "7.800000000000001\n"
     ]
    }
   ],
   "source": [
    "# Definition 3: Using an Interpolation Approach\n",
    "rank = p * (nvalues + 1)\n",
    "print(rank)\n",
    "\n",
    "if rank.is_integer():\n",
    "    perc = rank\n",
    "else:\n",
    "    # Interpolate between the two closest observations\n",
    "    # Find values below and above the rank\n",
    "    below = df['Value'][df['Rank'] == round(p*nvalues)].values[0]\n",
    "    above = df['Value'][df['Rank'] == round(p*nvalues)+1].values[0]\n",
    "    print(below, above)\n",
    "    # Get fractional part of rank\n",
    "    from math import modf"
   ]
  },
  {
   "cell_type": "markdown",
   "metadata": {},
   "source": [
    "---\n",
    "<a id='res'></a>"
   ]
  },
  {
   "cell_type": "markdown",
   "metadata": {},
   "source": [
    "# Resources\n",
    "\n",
    "- [Statistics by Jim](https://statisticsbyjim.com/)"
   ]
  },
  {
   "cell_type": "code",
   "execution_count": null,
   "metadata": {},
   "outputs": [],
   "source": []
  },
  {
   "cell_type": "code",
   "execution_count": null,
   "metadata": {},
   "outputs": [],
   "source": []
  }
 ],
 "metadata": {
  "kernelspec": {
   "display_name": "Python 3",
   "language": "python",
   "name": "python3"
  },
  "language_info": {
   "codemirror_mode": {
    "name": "ipython",
    "version": 3
   },
   "file_extension": ".py",
   "mimetype": "text/x-python",
   "name": "python",
   "nbconvert_exporter": "python",
   "pygments_lexer": "ipython3",
   "version": "3.7.1"
  }
 },
 "nbformat": 4,
 "nbformat_minor": 4
}

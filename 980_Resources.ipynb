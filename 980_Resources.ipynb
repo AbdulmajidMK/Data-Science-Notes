{
 "cells": [
  {
   "cell_type": "markdown",
   "metadata": {},
   "source": [
    "# Resources"
   ]
  },
  {
   "cell_type": "markdown",
   "metadata": {},
   "source": [
    "## Multi-topic sources"
   ]
  },
  {
   "cell_type": "markdown",
   "metadata": {},
   "source": [
    "- [Open Text Book Library](https://open.umn.edu/opentextbooks/subjects/applied) - Open textbooks are textbooks that have been funded, published, and licensed to be freely used, adapted, and distributed. These books have been reviewed by faculty from a variety of colleges and universities to assess their quality. These books can be downloaded for no cost, or printed at low cost. All textbooks are either used at multiple higher education institutions; or affiliated with an institution, scholarly society, or professional organization. The library currently includes 615 textbooks, with more being added all the time.\n",
    "- [OpenStax](https://openstax.org/) - Peer-reviewed. Openly licensed. 100% free. And backed by additional learning resources. Review our OpenStax textbooks and decide if they are right for your course. Simple to adopt, free to use. We make it easy to improve student access to higher education.\n",
    "- [Open Textbooks](https://scholarworks.gvsu.edu/books/) - at Grand Valley State University.\n",
    "\n",
    "- [Notes On Using Python and Data Science To Make Cool Stuff](https://napsterinblue.github.io/notes/)\n",
    "\n",
    "- [Papers with code](https://github.com/zziz/pwc)\n",
    "\n",
    "- [Programming Notes for Professionals books](https://books.goalkicker.com/) - free PDF books for programmers\n",
    "\n",
    "- [Green Tea Press](http://greenteapress.com/wp/) - free ebooks, python, statistics..."
   ]
  },
  {
   "cell_type": "markdown",
   "metadata": {},
   "source": [
    "# Programming Environment Setup\n",
    "\n",
    "- [macOS Setup Guide](https://sourabhbajaj.com/mac-setup/)"
   ]
  },
  {
   "cell_type": "markdown",
   "metadata": {},
   "source": [
    "## Data Science"
   ]
  },
  {
   "cell_type": "markdown",
   "metadata": {},
   "source": [
    "- What is data science\n",
    "    - [What Is Data Science?](https://winderresearch.com/what-is-data-science/)\n",
    "    - [What on earth is data science?](https://hackernoon.com/what-on-earth-is-data-science-eb1237d8cb37)\n",
    "    - [Is data science a bubble?](https://hackernoon.com/is-data-science-a-bubble-c70ceac0f264)\n",
    "    - [Wikipedia](https://en.wikipedia.org/wiki/Data_science)\n",
    "\n",
    "- History of data science\n",
    "    - [A Very Short History Of Data Science](https://www.forbes.com/sites/gilpress/2013/05/28/a-very-short-history-of-data-science/#61ca3b1555cf) \n",
    "    \n",
    "    \n",
    "- [sebastianraschka blog and educational resources](https://sebastianraschka.com/resources.html)"
   ]
  },
  {
   "cell_type": "markdown",
   "metadata": {},
   "source": [
    "## Statistics"
   ]
  },
  {
   "cell_type": "markdown",
   "metadata": {},
   "source": [
    "- [Statistics for people in a hurry](https://towardsdatascience.com/statistics-for-people-in-a-hurry-a9613c0ed0b)\n",
    "- [Populations — You’re doing it wrong](https://hackernoon.com/populations-youre-doing-it-wrong-820ae76beb95)\n",
    "- [Statistician proves that statistics are boring](https://towardsdatascience.com/statistician-proves-that-statistics-are-boring-4fc22c95031b)\n",
    "\n",
    "- [SciPy](https://scipy.org/) - SciPy (pronounced “Sigh Pie”) is a Python-based ecosystem of open-source software for mathematics, science, and engineering.\n",
    "- [Pandas](https://pandas.pydata.org/) - pandas is an open source, BSD-licensed library providing high-performance, easy-to-use data structures and data analysis tools for the Python programming language.\n",
    "- [StatsModels](http://www.statsmodels.org/stable/index.html) - a Python module that provides classes and functions for the estimation of many different statistical models, as well as for conducting statistical tests, and statistical data exploratio\n",
    "\n",
    "- [Online Statistics Education: An Interactive Multimedia Course of Study](http://onlinestatbook.com/) - An Interactive Multimedia Course of Study is a resource for learning and teaching introductory statistics. It contains material presented in textbook format and as video presentations. This resource features interactive demonstrations and simulations, case studies, and an analysis lab.\n",
    "\n",
    "Statistical t-test: https://machinelearningmastery.com/how-to-code-the-students-t-test-from-scratch-in-python/\n",
    "https://machinelearningmastery.com/critical-values-for-statistical-hypothesis-testing/\n",
    "http://eric.univ-lyon2.fr/~ricco/tanagra/fichiers/en_Tanagra_Calcul_P_Value.pdf\n",
    "https://machinelearningmastery.com/statistical-power-and-power-analysis-in-python/"
   ]
  },
  {
   "cell_type": "markdown",
   "metadata": {},
   "source": [
    "## Probability"
   ]
  },
  {
   "cell_type": "markdown",
   "metadata": {},
   "source": [
    "- [Introduction to Probability](http://www.dartmouth.edu/~chance/teaching_aids/books_articles/probability_book/book.html) - the book emphasizes the use of computing to simulate experiments and make computations."
   ]
  },
  {
   "cell_type": "markdown",
   "metadata": {},
   "source": [
    "## Roles"
   ]
  },
  {
   "cell_type": "markdown",
   "metadata": {},
   "source": [
    "- [What Great Data Analysts Do — and Why Every Organization Needs Them](https://hbr.org/2018/12/what-great-data-analysts-do-and-why-every-organization-needs-them)\n",
    "- [Why Data Science Teams Need Generalists, Not Specialists](https://hbr.org/2019/03/why-data-science-teams-need-generalists-not-specialists)"
   ]
  },
  {
   "cell_type": "markdown",
   "metadata": {},
   "source": [
    "## Python"
   ]
  },
  {
   "cell_type": "markdown",
   "metadata": {},
   "source": [
    "- [Tiny Python 3.6 Notebook](https://github.com/mattharrison/Tiny-Python-3.6-Notebook)\n",
    "- [Real Python in Github](https://github.com/realpython) - Python developers resource center: Python news, tutorials, code examples, snippets, articles, and more.\n",
    "- [Scrapy](https://scrapy.org/) - An open source and collaborative framework for extracting the data you need from websites. In a fast, simple, yet extensible way.\n",
    "\n",
    "\n",
    "Dash/Python\n",
    "- https://www.datacamp.com/community/tutorials/learn-build-dash-python\n",
    "- https://www.pythonanywhere.com/pricing/\n",
    "- https://blog.miguelgrinberg.com/post/the-flask-mega-tutorial-part-i-hello-world"
   ]
  },
  {
   "cell_type": "markdown",
   "metadata": {},
   "source": [
    "## R"
   ]
  },
  {
   "cell_type": "markdown",
   "metadata": {},
   "source": [
    "- [STAT 545](https://stat545.com/index.html) - Data wrangling, exploration, and analysis with R\n",
    "- [The tidyverse style guide](https://style.tidyverse.org/)\n",
    "- [R for Data Science](https://r4ds.had.co.nz/)\n",
    "- [swirl](https://swirlstats.com/) - Learn R, in R. swirl teaches you R programming and data science interactively, at your own pace, and right in the R console!\n",
    "- [Quick-R](https://www.statmethods.net/index.html) - R is an elegant and comprehensive statistical and graphical programming language. Unfortunately, it can also have a steep learning curve. I created this website for both current R users, and experienced users of other statistical packages (e.g., SAS, SPSS, Stata) who would like to transition to R. My goal is to help you quickly access this language in your work."
   ]
  },
  {
   "cell_type": "markdown",
   "metadata": {},
   "source": [
    "## Visualizations"
   ]
  },
  {
   "cell_type": "markdown",
   "metadata": {},
   "source": [
    "- [The Python Graph Gallery](https://python-graph-gallery.com/) - This website displays hundreds of charts, always providing the reproducible python code! It aims to showcase the awesome dataviz possibilities of python and to help you benefit it."
   ]
  },
  {
   "cell_type": "markdown",
   "metadata": {},
   "source": [
    "## Image Processing"
   ]
  },
  {
   "cell_type": "markdown",
   "metadata": {},
   "source": [
    "- [ImageNet: A Large-Scale Hierarchical Image Database](http://www.image-net.org/papers/imagenet_cvpr09.pdf)"
   ]
  },
  {
   "cell_type": "markdown",
   "metadata": {},
   "source": [
    "## NLP - Natural Language Processing\n",
    "\n",
    "- [NLTK](http://www.nltk.org/) - a leading platform for building Python programs to work with human language data. It provides easy-to-use interfaces to over 50 corpora and lexical resources such as WordNet, along with a suite of text processing libraries for classification, tokenization, stemming, tagging, parsing, and semantic reasoning, wrappers for industrial-strength NLP libraries, and an active discussion forum. There is a free [Natural Language Processing with Python](http://www.nltk.org/book/).\n",
    "- [Gensim](https://radimrehurek.com/gensim/) - the most robust, efficient and hassle-free piece of software to realize unsupervised semantic modelling from plain text.\n",
    "- [spaCy](https://spacy.io/) - an open-source software library for advanced Natural Language Processing.\n",
    "- [AllenNLP](https://allennlp.org/) - an open-source NLP research library, built on PyTorch."
   ]
  },
  {
   "cell_type": "markdown",
   "metadata": {},
   "source": [
    "## Recommenders\n",
    "\n",
    "- [Surprise](http://surpriselib.com/) - Surprise is a Python scikit building and analyzing recommender systems."
   ]
  },
  {
   "cell_type": "markdown",
   "metadata": {},
   "source": [
    "## Mathematics"
   ]
  },
  {
   "cell_type": "markdown",
   "metadata": {},
   "source": [
    "- [3blue1brown](https://www.youtube.com/channel/UCYO_jab_esuFRV4b17AJtAw), by Grant Sanderson, is some combination of math and entertainment, depending on your disposition. The goal is for explanations to be driven by animations and for difficult problems to be made simple with changes in perspective.\n",
    "- [How To Write Mathematical Equations, Expressions, and Symbols with LaTeX: A cheatsheet](https://www.authorea.com/users/77723/articles/110898-how-to-write-mathematical-equations-expressions-and-symbols-with-latex-a-cheatsheet)\n",
    "- [LaTeX Cookbook](http://www.personal.ceu.hu/tex/cookbook.html#inline)\n",
    "- [Convert Radians to Degrees](https://www.mathwarehouse.com/trigonometry/radians/convert-degee-to-radians.php)\n",
    "- [Math Warehouse](https://www.mathwarehouse.com/) - theory and visualizations for algebr, geometry, trigonometry, and calculus.\n",
    "- [SoftSchools.com](http://www.softschools.com/) provides free math worksheets, free math games, grammar quizzes, free phonics worksheets, and games. Worksheets and games are organized by grades and topics. These printable math and phonics worksheets are auto generated.\n",
    "\n",
    "- [Linear Algebra](http://joshua.smcvt.edu/linearalgebra/) - is a text for a first US undergraduate Linear Algebra course. You can use it as a main text, as a supplement, or for independent study.\n",
    "- [Linear Algebra](https://www.math.ucdavis.edu/~linear/linear-guest.pdf) - text by David Cherney, Tom Denton,\n",
    "Rohit Thomas and Andrew Waldron"
   ]
  },
  {
   "cell_type": "markdown",
   "metadata": {},
   "source": [
    "---"
   ]
  },
  {
   "cell_type": "markdown",
   "metadata": {},
   "source": [
    "## Datasets"
   ]
  },
  {
   "cell_type": "markdown",
   "metadata": {},
   "source": [
    "- [Google Datasets Search](https://toolbox.google.com/datasetsearch)\n",
    "\n",
    "- [Apache SpamAssassin](https://spamassassin.apache.org/), and its [dataset](https://spamassassin.apache.org/old/publiccorpus/)"
   ]
  },
  {
   "cell_type": "markdown",
   "metadata": {},
   "source": [
    "# Git"
   ]
  },
  {
   "cell_type": "markdown",
   "metadata": {},
   "source": [
    "- [How to Write a Git Commit Message](https://chris.beams.io/posts/git-commit/)"
   ]
  },
  {
   "cell_type": "code",
   "execution_count": null,
   "metadata": {},
   "outputs": [],
   "source": [
    "- Machine learning for good (Machine learning fundamentals lesson in interactive notebooks)\n",
    "    - https://github.com/DeltaAnalytics/machine_learning_for_good"
   ]
  },
  {
   "cell_type": "code",
   "execution_count": null,
   "metadata": {},
   "outputs": [],
   "source": []
  },
  {
   "cell_type": "code",
   "execution_count": null,
   "metadata": {},
   "outputs": [],
   "source": [
    "Deep reinforcement learning\n",
    "https://github.com/brianspiering/awesome-deep-rl"
   ]
  },
  {
   "cell_type": "code",
   "execution_count": null,
   "metadata": {},
   "outputs": [],
   "source": [
    "free ebooks: http://greenteapress.com/wp/\n",
    "\t- http://greenteapress.com/thinkstats/"
   ]
  },
  {
   "cell_type": "code",
   "execution_count": null,
   "metadata": {},
   "outputs": [],
   "source": [
    "https://github.com/WillKoehrsen/Data-Analysis"
   ]
  },
  {
   "cell_type": "code",
   "execution_count": null,
   "metadata": {},
   "outputs": [],
   "source": [
    "https://www.linkedin.com/pulse/expert-guide-machine-learning-free-video-series-16-hours-patel/"
   ]
  },
  {
   "cell_type": "markdown",
   "metadata": {},
   "source": [
    "- [Scikit-plot](https://scikit-plot.readthedocs.io/en/stable/Quickstart.html)"
   ]
  },
  {
   "cell_type": "code",
   "execution_count": null,
   "metadata": {},
   "outputs": [],
   "source": [
    "!!! http://www.idane.pl/minipodrecznik/"
   ]
  },
  {
   "cell_type": "code",
   "execution_count": null,
   "metadata": {},
   "outputs": [],
   "source": [
    "PyData\n",
    "https://pydata.org/downloads/"
   ]
  },
  {
   "cell_type": "code",
   "execution_count": null,
   "metadata": {},
   "outputs": [],
   "source": [
    "Latency numbers every programmer should know\n",
    "http://people.eecs.berkeley.edu/~rcs/research/interactive_latency.html"
   ]
  },
  {
   "cell_type": "code",
   "execution_count": 28,
   "metadata": {},
   "outputs": [
    {
     "name": "stdout",
     "output_type": "stream",
     "text": [
      "     0   1  2  3   4\n",
      "0  0.6 -15  2  5  98\n",
      "    0     1   2\n",
      "0   2   2.0  -4\n",
      "1   9 -14.0   0\n",
      "2  13  -0.5  44\n",
      "3   1   9.0   4\n",
      "4   0   0.0   5\n",
      "       0      1      2\n",
      "0 -102.8  255.2  595.6\n"
     ]
    }
   ],
   "source": [
    "import pandas as pd\n",
    "\n",
    "# 1x5 matrix\n",
    "X = [[0.6,-15,2,5,98]]\n",
    "# 5x3 matrix\n",
    "Y = [[2,2,-4],\n",
    "    [9,-14,0],\n",
    "    [13,-0.5,44],\n",
    "    [1,9,4],\n",
    "    [0,0,5]]\n",
    "\n",
    "X = pd.DataFrame(X)\n",
    "Y = pd.DataFrame(Y)\n",
    "print(X)\n",
    "print(Y)\n",
    "print(X.dot(Y))"
   ]
  }
 ],
 "metadata": {
  "kernelspec": {
   "display_name": "Python 3",
   "language": "python",
   "name": "python3"
  },
  "language_info": {
   "codemirror_mode": {
    "name": "ipython",
    "version": 3
   },
   "file_extension": ".py",
   "mimetype": "text/x-python",
   "name": "python",
   "nbconvert_exporter": "python",
   "pygments_lexer": "ipython3",
   "version": "3.7.1"
  }
 },
 "nbformat": 4,
 "nbformat_minor": 4
}

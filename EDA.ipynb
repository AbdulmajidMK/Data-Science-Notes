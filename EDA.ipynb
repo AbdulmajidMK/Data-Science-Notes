{
 "cells": [
  {
   "cell_type": "markdown",
   "metadata": {},
   "source": [
    "# Data Exploration and Analysis\n",
    "\n",
    "- Variables Identification\n",
    "- Univariate Analysis\n",
    "- Bi-variate Analysis\n",
    "- Dealing with Missing Values\n",
    "- Outliers\n",
    "- Variables transformation\n",
    "- Variable creation\n",
    "- Re-assessment and iteration"
   ]
  },
  {
   "cell_type": "markdown",
   "metadata": {},
   "source": [
    "## Variables Identification"
   ]
  },
  {
   "cell_type": "markdown",
   "metadata": {},
   "source": [
    "### Variables types\n",
    "- **input** (predictors, independent features / variables / observations)\n",
    "- **output** (target, dependent feature / variable)\n",
    "\n",
    "### Variables categories\n",
    "- Continuous / Discrete\n",
    "- Categorical\n",
    "\n",
    "### Data types\n",
    "- Numeric\n",
    "- Textual"
   ]
  },
  {
   "cell_type": "code",
   "execution_count": null,
   "metadata": {},
   "outputs": [],
   "source": []
  },
  {
   "cell_type": "code",
   "execution_count": null,
   "metadata": {},
   "outputs": [],
   "source": []
  },
  {
   "cell_type": "code",
   "execution_count": null,
   "metadata": {},
   "outputs": [],
   "source": []
  },
  {
   "cell_type": "code",
   "execution_count": null,
   "metadata": {},
   "outputs": [],
   "source": []
  },
  {
   "cell_type": "code",
   "execution_count": null,
   "metadata": {},
   "outputs": [],
   "source": []
  },
  {
   "cell_type": "markdown",
   "metadata": {},
   "source": [
    "## Univariate Analysis\n",
    "Explore variables individually.\n",
    "\n",
    "### Continuous Variables\n",
    "- Understand the central tendency and spread (dispersion).\n",
    "    - Central tendency\n",
    "        - Mean\n",
    "        - Median\n",
    "        - Mode\n",
    "        - Min\n",
    "        - Max\n",
    "    - Measures of dispersion\n",
    "        - Range\n",
    "        - Quartiles\n",
    "        - IQR\n",
    "        - Variance\n",
    "        - Standard deviation\n",
    "        - Skewness and Kurtosis\n",
    "- Identify missing values and outliers\n",
    "- Visualization methods\n",
    "    - Histogram\n",
    "    - BoxPlot\n",
    "    \n",
    "### Categorical Variables\n",
    "- Understand distribution of each category\n",
    "    - Frequency table (count and percentage of values under each category)\n",
    "- Visualization methods\n",
    "    - Bar chart"
   ]
  },
  {
   "cell_type": "markdown",
   "metadata": {},
   "source": [
    "## Bi-variate Analysis\n",
    "Find relationships between any two variables, continuous and categorical.\n",
    "\n",
    "### Continuous and Continuous\n",
    "Identify any linear or non-linear relationship (pattern) between two variables.\n",
    "\n",
    "- Visualization methods\n",
    "    - Scatter plot\n",
    "\n",
    "### Categorical and Categorical\n",
    "\n",
    "\n",
    "### Categorical and Continuous\n"
   ]
  },
  {
   "cell_type": "markdown",
   "metadata": {},
   "source": [
    "## Dealing with Missing Values"
   ]
  },
  {
   "cell_type": "markdown",
   "metadata": {},
   "source": [
    "## Outliers"
   ]
  },
  {
   "cell_type": "markdown",
   "metadata": {},
   "source": [
    "## Variables transformation"
   ]
  },
  {
   "cell_type": "markdown",
   "metadata": {},
   "source": [
    "## Variables creation"
   ]
  },
  {
   "cell_type": "code",
   "execution_count": null,
   "metadata": {},
   "outputs": [],
   "source": []
  },
  {
   "cell_type": "code",
   "execution_count": null,
   "metadata": {},
   "outputs": [],
   "source": []
  },
  {
   "cell_type": "code",
   "execution_count": null,
   "metadata": {},
   "outputs": [],
   "source": []
  },
  {
   "cell_type": "code",
   "execution_count": null,
   "metadata": {},
   "outputs": [],
   "source": []
  },
  {
   "cell_type": "code",
   "execution_count": null,
   "metadata": {},
   "outputs": [],
   "source": []
  }
 ],
 "metadata": {
  "kernelspec": {
   "display_name": "Python 3",
   "language": "python",
   "name": "python3"
  },
  "language_info": {
   "codemirror_mode": {
    "name": "ipython",
    "version": 3
   },
   "file_extension": ".py",
   "mimetype": "text/x-python",
   "name": "python",
   "nbconvert_exporter": "python",
   "pygments_lexer": "ipython3",
   "version": "3.7.1"
  }
 },
 "nbformat": 4,
 "nbformat_minor": 2
}

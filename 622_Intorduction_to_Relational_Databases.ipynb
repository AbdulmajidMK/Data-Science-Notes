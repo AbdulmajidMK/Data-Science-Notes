{
 "cells": [
  {
   "cell_type": "markdown",
   "metadata": {},
   "source": [
    "# Introduction to Relational Databases\n",
    "\n",
    "You’ve already used SQL to query data from databases. But did you know that there's a lot more you can do with databases? You can model different phenomena in your data, as well as the relationships between them. This gives your data structure and consistency, which results in better data quality. In this course, you'll experience this firsthand by working with a real-life dataset that was used to investigate questionable university affiliations. Column by column, table by table, you'll get to unlock and admire the full potential of databases. You'll learn how to create tables and specify their relationships, as well as how to enforce data integrity. You'll also discover other unique features of database systems, such as constraints."
   ]
  },
  {
   "cell_type": "markdown",
   "metadata": {},
   "source": [
    "## Query information_schema with SELECT\n",
    "\n",
    "`information_schema` is a meta-database that holds information about your current database. `information_schema` has multiple tables you can query with the known `SELECT * FROM` syntax:\n",
    "\n",
    "- `tables`: information about all tables in your current database\n",
    "- `columns`: information about all columns in all of the tables in your current database\n",
    "- ...\n",
    "\n",
    "In this exercise, you'll only need information from the 'public' schema, which is specified as the column `table_schema` of the tables and columns tables. The 'public' schema holds information about user-defined tables and databases. The other types of `table_schema` hold system information – for this course, you're only interested in user-defined stuff."
   ]
  },
  {
   "cell_type": "raw",
   "metadata": {},
   "source": [
    "Get information on all table names in the current database, while limiting your query to the 'public' table_schema.\n",
    "\n",
    "-- Query the right table in information_schema\n",
    "SELECT table_name \n",
    "FROM information_schema.tables\n",
    "-- Specify the correct table_schema value\n",
    "WHERE table_schema = 'public';"
   ]
  },
  {
   "cell_type": "raw",
   "metadata": {},
   "source": [
    "Now have a look at the columns in university_professors by selecting all entries in information_schema.columns that correspond to that table.\n",
    "\n",
    "-- Query the right table in information_schema to get columns\n",
    "SELECT column_name, data_type \n",
    "FROM information_schema.columns \n",
    "WHERE table_name = 'university_professors' AND table_schema = 'public';"
   ]
  },
  {
   "cell_type": "markdown",
   "metadata": {},
   "source": [
    "## CREATE your first few TABLEs\n",
    "\n",
    "You'll now start implementing a better database model. For this, you'll create tables for the professors and universities entity types. The other tables will be created for you.\n",
    "\n",
    "The syntax for creating simple tables is as follows:"
   ]
  },
  {
   "cell_type": "raw",
   "metadata": {},
   "source": [
    "CREATE TABLE table_name (\n",
    " column_a data_type,\n",
    " column_b data_type,\n",
    " column_c data_type\n",
    ");"
   ]
  },
  {
   "cell_type": "markdown",
   "metadata": {},
   "source": [
    "**Attention:** Table and columns names, as well as data types, don't need to be surrounded by quotation marks."
   ]
  },
  {
   "cell_type": "raw",
   "metadata": {},
   "source": [
    "Create a table professors with two text columns: firstname and lastname.\n",
    "\n",
    "-- Create a table for the professors entity type\n",
    "CREATE TABLE professors (\n",
    " firstname text,\n",
    " lastname text\n",
    ");\n",
    "\n",
    "-- Print the contents of this table\n",
    "SELECT * \n",
    "FROM professors\n",
    "\n",
    "Create a table universities with three text columns: university_shortname, university, and university_city.\n",
    "\n",
    "CREATE TABLE universities (\n",
    " university_shortname text,\n",
    " university text,\n",
    " university_city text\n",
    ");"
   ]
  },
  {
   "cell_type": "markdown",
   "metadata": {},
   "source": [
    "## ADD a COLUMN with ALTER TABLE\n",
    "\n",
    "Oops! We forgot to add the `university_shortname` column to the professors table. However, adding columns to existing tables is easy, especially if they're still empty. To add columns you can use the following SQL query:"
   ]
  },
  {
   "cell_type": "raw",
   "metadata": {},
   "source": [
    "ALTER TABLE table_name\n",
    "ADD COLUMN column_name data_type;"
   ]
  },
  {
   "cell_type": "raw",
   "metadata": {},
   "source": [
    "Alter professors to add the text column university_shortname.\n",
    "\n",
    "-- Add the university_shortname column\n",
    "ALTER TABLE professors\n",
    "ADD COLUMN university_shortname text;\n",
    "\n",
    "-- Print the contents of this table\n",
    "SELECT * \n",
    "FROM professors"
   ]
  },
  {
   "cell_type": "markdown",
   "metadata": {},
   "source": [
    "## RENAME and DROP COLUMNs in affiliations\n",
    "\n",
    "The still empty affiliations table has some flaws. In this exercise. To correct them you'll use the following queries:"
   ]
  },
  {
   "cell_type": "raw",
   "metadata": {},
   "source": [
    "To rename columns:\n",
    "\n",
    "ALTER TABLE table_name\n",
    "RENAME COLUMN old_name TO new_name;\n",
    "\n",
    "To delete columns:\n",
    "\n",
    "ALTER TABLE table_name\n",
    "DROP COLUMN column_name;"
   ]
  },
  {
   "cell_type": "raw",
   "metadata": {},
   "source": [
    "Rename the organisation column to organization in affiliations.\n",
    "\n",
    "-- Rename the organisation column\n",
    "ALTER TABLE affiliations\n",
    "RENAME COLUMN organisation TO organization;\n",
    "\n",
    "Delete the university_shortname column in affiliations.\n",
    "\n",
    "-- Delete the university_shortname column\n",
    "ALTER TABLE affiliations\n",
    "DROP COLUMN university_shortname;"
   ]
  },
  {
   "cell_type": "markdown",
   "metadata": {},
   "source": [
    "## Migrate data with INSERT INTO SELECT DISTINCT\n",
    "\n",
    "Now it's finally time to migrate the data into the new tables. You'll use the following pattern:"
   ]
  },
  {
   "cell_type": "raw",
   "metadata": {},
   "source": [
    "INSERT INTO ... \n",
    "SELECT DISTINCT ... \n",
    "FROM ...;\n",
    "\n",
    "It can be broken up into two parts:\n",
    "\n",
    "First part:\n",
    "\n",
    "SELECT DISTINCT column_name1, column_name2, ... \n",
    "FROM table_a;\n",
    "This selects all distinct values in table table_a – nothing new for you.\n",
    "\n",
    "Second part:\n",
    "\n",
    "INSERT INTO table_b ...;\n",
    "Take this part and append it to the first, so it inserts all distinct rows from table_a into table_b.\n",
    "\n",
    "One last thing: It is important that you run all of the code at the same time once you have filled out the blanks."
   ]
  },
  {
   "cell_type": "raw",
   "metadata": {},
   "source": [
    "Insert all DISTINCT professors from university_professors into professors.\n",
    "Print all the rows in professors.\n",
    "\n",
    "-- Insert unique professors into the new table\n",
    "INSERT INTO professors \n",
    "SELECT DISTINCT firstname, lastname, university_shortname \n",
    "FROM university_professors;\n",
    "\n",
    "-- Doublecheck the contents of professors\n",
    "SELECT * \n",
    "FROM professors;\n",
    "\n",
    "Insert all DISTINCT affiliations into affiliations.\n",
    "\n",
    "-- Insert unique affiliations into the new table\n",
    "INSERT INTO affiliations \n",
    "SELECT DISTINCT firstname, lastname, function, organization \n",
    "FROM university_professors;\n",
    "\n",
    "-- Doublecheck the contents of affiliations\n",
    "SELECT * \n",
    "FROM affiliations;"
   ]
  },
  {
   "cell_type": "markdown",
   "metadata": {},
   "source": [
    "## Delete tables with DROP TABLE\n",
    "\n",
    "Obviously, the university_professors table is now no longer needed and can safely be deleted. For table deletion, you can use the simple command:"
   ]
  },
  {
   "cell_type": "raw",
   "metadata": {},
   "source": [
    "DROP TABLE table_name;"
   ]
  },
  {
   "cell_type": "raw",
   "metadata": {},
   "source": [
    "Delete the university_professors table.\n",
    "\n",
    "-- Delete the university_professors table\n",
    "DROP TABLE university_professors;"
   ]
  },
  {
   "cell_type": "markdown",
   "metadata": {},
   "source": [
    "## Conforming with data types\n",
    "\n",
    "For demonstration purposes, I created a fictional database table that only holds three records. The columns have the data types date, integer, and text, respectively."
   ]
  },
  {
   "cell_type": "raw",
   "metadata": {},
   "source": [
    "CREATE TABLE transactions (\n",
    " transaction_date date, \n",
    " amount integer,\n",
    " fee text\n",
    ");"
   ]
  },
  {
   "cell_type": "markdown",
   "metadata": {},
   "source": [
    "Have a look at the contents of the transactions table.\n",
    "\n",
    "The transaction_date accepts date values. According to the [PostgreSQL documentation](https://www.postgresql.org/docs/10/datatype-datetime.html#DATATYPE-DATETIME-INPUT), it accepts values in the form of YYYY-MM-DD, DD/MM/YY, and so forth.\n",
    "\n",
    "Both columns amount and fee appear to be numeric, however, the latter is modeled as text – which you will account for in the next exercise."
   ]
  },
  {
   "cell_type": "raw",
   "metadata": {},
   "source": [
    "-- Let's add a record to the table\n",
    "INSERT INTO transactions (transaction_date, amount, fee) \n",
    "VALUES ('2018-09-24', 5454, '30');\n",
    "\n",
    "-- Doublecheck the contents\n",
    "SELECT *\n",
    "FROM transactions;"
   ]
  },
  {
   "cell_type": "markdown",
   "metadata": {},
   "source": [
    "## Type CASTs\n",
    "\n",
    "Type casts are a possible solution for data type issues. If you know that a certain column stores numbers as text, you can cast the column to a numeric form, i.e. to integer."
   ]
  },
  {
   "cell_type": "raw",
   "metadata": {},
   "source": [
    "SELECT CAST(some_column AS integer)\n",
    "FROM table;"
   ]
  },
  {
   "cell_type": "markdown",
   "metadata": {},
   "source": [
    "Now, the some_column column is temporarily represented as integer instead of text, meaning that you can perform numeric calculations on the column."
   ]
  },
  {
   "cell_type": "raw",
   "metadata": {},
   "source": [
    "-- Calculate the net amount as amount + fee\n",
    "SELECT transaction_date, amount + CAST(fee AS integer) AS net_amount \n",
    "FROM transactions;"
   ]
  },
  {
   "cell_type": "markdown",
   "metadata": {},
   "source": [
    "## Change types with ALTER COLUMN\n",
    "\n",
    "The syntax for changing the data type of a column is straightforward. The following code changes the data type of the column_name column in table_name to varchar(10):"
   ]
  },
  {
   "cell_type": "raw",
   "metadata": {},
   "source": [
    "ALTER TABLE table_name\n",
    "ALTER COLUMN column_name\n",
    "TYPE varchar(10)"
   ]
  },
  {
   "cell_type": "raw",
   "metadata": {},
   "source": [
    "Have a look at the distinct university_shortname values and take note of the length of the strings.\n",
    "\n",
    "-- Select the university_shortname column\n",
    "SELECT DISTINCT(university_shortname) \n",
    "FROM professors;\n",
    "\n",
    "Now specify a fixed-length character type with the correct length for university_shortname.\n",
    "\n",
    "-- Specify the correct fixed-length character type\n",
    "ALTER TABLE professors\n",
    "ALTER COLUMN university_shortname\n",
    "TYPE char(3);\n",
    "\n",
    "Change the type of the firstname column to varchar(64).\n",
    "\n",
    "-- Change the type of firstname\n",
    "ALTER TABLE professors\n",
    "ALTER COLUMN firstname\n",
    "TYPE varchar(64);"
   ]
  },
  {
   "cell_type": "markdown",
   "metadata": {},
   "source": [
    "## Convert types USING a function\n",
    "\n",
    "If you don't want to reserve too much space for a certain varchar column, you can truncate the values before converting its type.\n",
    "\n",
    "For this, you can use the following syntax:"
   ]
  },
  {
   "cell_type": "raw",
   "metadata": {},
   "source": [
    "ALTER TABLE table_name\n",
    "ALTER COLUMN column_name\n",
    "TYPE varchar(x)\n",
    "USING SUBSTRING(column_name FROM 1 FOR x)"
   ]
  },
  {
   "cell_type": "markdown",
   "metadata": {},
   "source": [
    "You should read it like this: Because you want to reserve only x characters for column_name, you have to retain a SUBSTRING of every value, i.e. the first x characters of it, and throw away the rest. This way, the values will fit the varchar(x) requirement."
   ]
  },
  {
   "cell_type": "raw",
   "metadata": {},
   "source": [
    "Now use SUBSTRING() to reduce firstname to 16 characters so its type can be altered to varchar(16).\n",
    "\n",
    "-- Convert the values in firstname to a max. of 16 characters\n",
    "ALTER TABLE professors \n",
    "ALTER COLUMN firstname \n",
    "TYPE varchar(16)\n",
    "USING SUBSTRING(firstname FROM 1 FOR 16)"
   ]
  },
  {
   "cell_type": "markdown",
   "metadata": {},
   "source": [
    "## Disallow NULL values with SET NOT NULL\n",
    "\n",
    "The professors table is almost ready now. However, it still allows for NULLs to be entered. Although some information might be missing about some professors, there's certainly columns that always need to be specified."
   ]
  },
  {
   "cell_type": "raw",
   "metadata": {},
   "source": [
    "-- Disallow NULL values in firstname\n",
    "ALTER TABLE professors \n",
    "ALTER COLUMN firstname SET NOT NULL;\n",
    "\n",
    "-- Disallow NULL values in lastname\n",
    "ALTER TABLE professors \n",
    "ALTER COLUMN lastname SET NOT NULL;"
   ]
  },
  {
   "cell_type": "markdown",
   "metadata": {},
   "source": [
    "## Make your columns UNIQUE with ADD CONSTRAINT\n",
    "\n",
    "You add the UNIQUE keyword after the column_name that should be unique. This, of course, only works for new tables:"
   ]
  },
  {
   "cell_type": "raw",
   "metadata": {},
   "source": [
    "CREATE TABLE table_name (\n",
    " column_name UNIQUE\n",
    ");"
   ]
  },
  {
   "cell_type": "markdown",
   "metadata": {},
   "source": [
    "If you want to add a unique constraint to an existing table, you do it like that:"
   ]
  },
  {
   "cell_type": "raw",
   "metadata": {},
   "source": [
    "ALTER TABLE table_name\n",
    "ADD CONSTRAINT some_name UNIQUE(column_name);"
   ]
  },
  {
   "cell_type": "markdown",
   "metadata": {},
   "source": [
    "Note that this is different from the ALTER COLUMN syntax for the not-null constraint. Also, you have to give the constraint a name some_name."
   ]
  },
  {
   "cell_type": "raw",
   "metadata": {},
   "source": [
    "Add a unique constraint to the university_shortname column in universities. Give it the name university_shortname_unq.\n",
    "\n",
    "-- Make universities.university_shortname unique\n",
    "ALTER TABLE universities\n",
    "ADD CONSTRAINT university_shortname_unq UNIQUE(university_shortname);\n",
    "\n",
    "Add a unique constraint to the organization column in organizations. Give it the name organization_unq.\n",
    "\n",
    "-- Make organizations.organization unique\n",
    "ALTER TABLE organizations\n",
    "ADD CONSTRAINT organization_unq UNIQUE(organization);"
   ]
  },
  {
   "cell_type": "markdown",
   "metadata": {},
   "source": [
    "## Get to know SELECT COUNT DISTINCT\n",
    "\n",
    "Your database doesn't have any defined keys so far, and you don't know which columns or combinations of columns are suited as keys.\n",
    "\n",
    "There's a simple way of finding out whether a certain column (or a combination) contains only unique values – and thus identifies the records in the table.\n",
    "\n",
    "You already know the SELECT DISTINCT query from the first chapter. Now you just have to wrap everything within the COUNT() function and PostgreSQL will return the number of unique rows for the given columns:"
   ]
  },
  {
   "cell_type": "raw",
   "metadata": {},
   "source": [
    "SELECT COUNT(DISTINCT(column_a, column_b, ...))\n",
    "FROM table;"
   ]
  },
  {
   "cell_type": "raw",
   "metadata": {},
   "source": [
    "First, find out the number of rows in universities.\n",
    "\n",
    "-- Count the number of rows in universities\n",
    "SELECT COUNT(DISTINCT(universities)) \n",
    "FROM universities;\n",
    "\n",
    "Then, find out how many unique values there are in the university_city column.\n",
    "\n",
    "-- Count the number of distinct values in the university_city column\n",
    "SELECT COUNT(DISTINCT(university_city)) \n",
    "FROM universities;"
   ]
  },
  {
   "cell_type": "markdown",
   "metadata": {},
   "source": [
    "## Identify keys with SELECT COUNT DISTINCT\n",
    "\n",
    "There's a very basic way of finding out what qualifies for a key in an existing, populated table:\n",
    "\n",
    "Count the distinct records for all possible combinations of columns. If the resulting number x equals the number of all rows in the table for a combination, you have discovered a `superkey`.\n",
    "\n",
    "Then remove one column after another until you can no longer remove columns without seeing the number x decrease. If that is the case, you have discovered a (candidate) `key`.\n",
    "\n",
    "The table professors has 551 rows. It has only one possible candidate key, which is a combination of two attributes."
   ]
  },
  {
   "cell_type": "raw",
   "metadata": {},
   "source": [
    "-- Try out different combinations\n",
    "SELECT COUNT(DISTINCT(lastname, firstname)) \n",
    "FROM professors;"
   ]
  },
  {
   "cell_type": "markdown",
   "metadata": {},
   "source": [
    "Indeed, the only combination that uniquely identifies professors is {firstname, lastname}. {firstname, lastname, university_shortname} is a superkey, and all other combinations give duplicate values. Hopefully, the concept of superkeys and keys is now a bit more clear. "
   ]
  },
  {
   "cell_type": "markdown",
   "metadata": {},
   "source": [
    "## ADD key CONSTRAINTs to the tables\n",
    "\n",
    "Two of the tables in your database already have well-suited candidate keys consisting of one column each: organizations and universities with the organization and university_shortname columns, respectively.\n",
    "\n",
    "In this exercise, you'll specify primary key constraints for these columns and rename them to id.\n",
    "\n",
    "Adding primary key constraints is as straightforward as adding unique constraints (see the last exercise of Chapter 2):"
   ]
  },
  {
   "cell_type": "raw",
   "metadata": {},
   "source": [
    "ALTER TABLE table_name\n",
    "ADD CONSTRAINT some_name PRIMARY KEY (column_name)"
   ]
  },
  {
   "cell_type": "markdown",
   "metadata": {},
   "source": [
    "Note that you can also specify more than one column in the brackets."
   ]
  },
  {
   "cell_type": "raw",
   "metadata": {},
   "source": [
    "Rename the organization column to id in organizations.\n",
    "Make id a primary key and name it organization_pk.\n",
    "\n",
    "-- Rename the organization column to id\n",
    "ALTER TABLE organizations\n",
    "RENAME COLUMN organization TO id;\n",
    "\n",
    "-- Make id a primary key\n",
    "ALTER TABLE organizations\n",
    "ADD CONSTRAINT organization_pk PRIMARY KEY (id);\n",
    "\n",
    "Rename the university_shortname column to id in universities.\n",
    "Make id a primary key and name it university_pk.\n",
    "\n",
    "-- Rename the university_shortname column to id\n",
    "ALTER TABLE universities\n",
    "RENAME COLUMN university_shortname TO id;\n",
    "\n",
    "-- Make id a primary key\n",
    "ALTER TABLE universities\n",
    "ADD CONSTRAINT university_pk PRIMARY KEY (id);"
   ]
  },
  {
   "cell_type": "markdown",
   "metadata": {},
   "source": [
    "## Add a SERIAL surrogate key\n",
    "\n",
    "Since there's no single column candidate key in professors (only a composite key candidate consisting of firstname, lastname), you'll add a new column id to that table.\n",
    "\n",
    "This column has a special data type serial, which turns the column into an auto-incrementing number. This means that, whenever you add a new professor to the table, it will automatically get an id that does not exist yet in the table: a perfect primary key!"
   ]
  },
  {
   "cell_type": "raw",
   "metadata": {},
   "source": [
    "Add a new column id with data type serial to the professors table.\n",
    "\n",
    "-- Add the new column to the table\n",
    "ALTER TABLE professors \n",
    "ADD COLUMN id serial;\n",
    "\n",
    "Make id a primary key and name it professors_pkey.\n",
    "\n",
    "-- Make id a primary key\n",
    "ALTER TABLE professors \n",
    "ADD CONSTRAINT professors_pkey PRIMARY KEY (id);\n",
    "\n",
    "Write a query that returns all the columns and 10 rows from professors.\n",
    "\n",
    "-- Have a look at the first 10 rows of professors\n",
    "SELECT *\n",
    "FROM professors\n",
    "LIMIT 10;"
   ]
  },
  {
   "cell_type": "markdown",
   "metadata": {},
   "source": [
    "## CONCATenate columns to a surrogate key\n",
    "\n",
    "Another strategy to add a surrogate key to an existing table is to concatenate existing columns with the CONCAT() function.\n",
    "\n",
    "Let's think of the following example table:"
   ]
  },
  {
   "cell_type": "raw",
   "metadata": {},
   "source": [
    "CREATE TABLE cars (\n",
    " make varchar(64) NOT NULL,\n",
    " model varchar(64) NOT NULL,\n",
    " mpg integer NOT NULL\n",
    ")"
   ]
  },
  {
   "cell_type": "markdown",
   "metadata": {},
   "source": [
    "The table is populated with 10 rows of completely fictional data.\n",
    "\n",
    "Unfortunately, the table doesn't have a primary key yet. None of the columns consists of only unique values, so some columns can be combined to form a key.\n",
    "\n",
    "In the course of the following exercises, you will combine make and model into such a surrogate key."
   ]
  },
  {
   "cell_type": "raw",
   "metadata": {},
   "source": [
    "Count the number of distinct rows with a combination of the make and model columns.\n",
    "\n",
    "-- Count the number of distinct rows with columns make, model\n",
    "SELECT COUNT(DISTINCT(make, model))\n",
    "FROM cars;\n",
    "\n",
    "Add a new column id with the data type varchar(128).\n",
    "\n",
    "-- Add the id column\n",
    "ALTER TABLE cars\n",
    "ADD COLUMN id varchar(128);\n",
    "\n",
    "Concatenate make and model into id using an UPDATE query and the CONCAT() function.\n",
    "\n",
    "-- Update id with make + model\n",
    "UPDATE cars\n",
    "SET id = CONCAT(make, model);\n",
    "\n",
    "Make id a primary key and name it id_pk.\n",
    "\n",
    "-- Make id a primary key\n",
    "ALTER TABLE cars\n",
    "ADD CONSTRAINT id_pk PRIMARY KEY (id);"
   ]
  },
  {
   "cell_type": "markdown",
   "metadata": {},
   "source": [
    "## Test your knowledge before advancing\n",
    "\n",
    "Before you move on to the next chapter, let's quickly review what you've learned so far about attributes and key constraints. If you're unsure about the answer, please quickly review chapters 2 and 3, respectively.\n",
    "\n",
    "Let's think of an entity type \"student\". A student has:\n",
    "\n",
    "- a last name consisting of up to 128 characters (this cannot contain a missing value),\n",
    "- a unique social security number of length 9, consisting only of integers,\n",
    "- a phone number of fixed length 12, consisting of numbers and characters (but some students don't have one).\n",
    "\n",
    "Given the above description of a student entity, create a table students with the correct column types. Add a primary key for the social security number."
   ]
  },
  {
   "cell_type": "raw",
   "metadata": {},
   "source": [
    "-- Create the table\n",
    "CREATE TABLE students (\n",
    "  last_name varchar(128) NOT NULL,\n",
    "  ssn integer PRIMARY KEY,\n",
    "  phone_no char(12)\n",
    ");"
   ]
  },
  {
   "cell_type": "markdown",
   "metadata": {},
   "source": [
    "## REFERENCE a table with a FOREIGN KEY\n",
    "\n",
    "In your database, you want the professors table to reference the universities table. You can do that by specifying a column in professors table that references a column in the universities table.\n",
    "\n",
    "The syntax for that looks like this:"
   ]
  },
  {
   "cell_type": "raw",
   "metadata": {},
   "source": [
    "ALTER TABLE a \n",
    "ADD CONSTRAINT a_fkey FOREIGN KEY (b_id) REFERENCES b (id);"
   ]
  },
  {
   "cell_type": "markdown",
   "metadata": {},
   "source": [
    "Table a should now refer to table b, via b_id, which points to id. a_fkey is, as usual, a constraint name you can choose on your own.\n",
    "\n",
    "Pay attention to the naming convention employed here: Usually, a foreign key referencing another primary key with name id is named x_id, where x is the name of the referencing table in the singular form."
   ]
  },
  {
   "cell_type": "raw",
   "metadata": {},
   "source": [
    "Rename the university_shortname column to university_id in professors.\n",
    "\n",
    "-- Rename the university_shortname column\n",
    "ALTER TABLE professors\n",
    "RENAME COLUMN university_shortname TO university_id;\n",
    "\n",
    "Add a foreign key on university_id column in professors that references the id column in universities. Name this foreign key professors_fkey.\n",
    "\n",
    "-- Add a foreign key on professors referencing universities\n",
    "ALTER TABLE professors \n",
    "ADD CONSTRAINT professors_fkey FOREIGN KEY (university_id) REFERENCES universities (id);"
   ]
  },
  {
   "cell_type": "markdown",
   "metadata": {},
   "source": [
    "## Explore foreign key constraints\n",
    "\n",
    "Foreign key constraints help you to keep order in your database mini-world. In your database, for instance, only professors belonging to Swiss universities should be allowed, as only Swiss universities are part of the universities table.\n",
    "\n",
    "The foreign key on professors referencing universities you just created thus makes sure that only existing universities can be specified when inserting new data. Let's test this!"
   ]
  },
  {
   "cell_type": "raw",
   "metadata": {},
   "source": [
    "-- Try to insert a new professor\n",
    "INSERT INTO professors (firstname, lastname, university_id)\n",
    "VALUES ('Albert', 'Einstein', 'UZH');"
   ]
  },
  {
   "cell_type": "markdown",
   "metadata": {},
   "source": [
    "## JOIN tables linked by a foreign key\n",
    "\n",
    "Let's join these two tables to analyze the data further!\n",
    "\n",
    "While foreign keys and primary keys are not strictly necessary for join queries, they greatly help by telling you what to expect. For instance, you can be sure that records referenced from table A will always be present in table B – so a join from table A will always find something in table B. If not, the foreign key constraint would be violated."
   ]
  },
  {
   "cell_type": "raw",
   "metadata": {},
   "source": [
    "JOIN professors with universities on professors.university_id = universities.id, i.e., retain all records where the foreign key of professors is equal to the primary key of universities.\n",
    "Filter for university_city = 'Zurich'.\n",
    "\n",
    "-- Select all professors working for universities in the city of Zurich\n",
    "SELECT professors.lastname, universities.id, universities.university_city\n",
    "FROM professors\n",
    "JOIN universities\n",
    "ON professors.university_id = universities.id\n",
    "WHERE universities.university_city = 'Zurich';"
   ]
  },
  {
   "cell_type": "markdown",
   "metadata": {},
   "source": [
    "## Add foreign keys to the \"affiliations\" table\n",
    "\n",
    "At the moment, the affiliations table has the structure {firstname, lastname, function, organization}. In the next three exercises, you're going to turn this table into the form {professor_id, organization_id, function}, with professor_id and organization_id being foreign keys that point to the respective tables.\n",
    "\n",
    "You're going to transform the affiliations table in-place, i.e., without creating a temporary table to cache your intermediate results."
   ]
  },
  {
   "cell_type": "raw",
   "metadata": {},
   "source": [
    "Add a professor_id column with integer data type to affiliations, and declare it to be a foreign key that references the id column in professors.\n",
    "\n",
    "-- Add a professor_id column\n",
    "ALTER TABLE affiliations\n",
    "ADD COLUMN professor_id integer REFERENCES professors (id);\n",
    "\n",
    "Rename the organization column in affiliations to organization_id.\n",
    "\n",
    "-- Rename the organization column to organization_id\n",
    "ALTER TABLE affiliations\n",
    "RENAME organization TO organization_id;\n",
    "\n",
    "Add a foreign key constraint on organization_id so that it references the id column in organizations.\n",
    "\n",
    "-- Add a foreign key on organization_id\n",
    "ALTER TABLE affiliations\n",
    "ADD CONSTRAINT affiliations_organization_fkey FOREIGN KEY (organization_id) REFERENCES organizations (id);"
   ]
  },
  {
   "cell_type": "markdown",
   "metadata": {},
   "source": [
    "## Populate the \"professor_id\" column\n",
    "\n",
    "Now it's time to also populate professors_id. You'll take the ID directly from professors.\n",
    "\n",
    "Here's a way to update columns of a table based on values in another table:"
   ]
  },
  {
   "cell_type": "raw",
   "metadata": {},
   "source": [
    "UPDATE table_a\n",
    "SET column_to_update = table_b.column_to_update_from\n",
    "FROM table_b\n",
    "WHERE condition1 AND condition2 AND ...;"
   ]
  },
  {
   "cell_type": "markdown",
   "metadata": {},
   "source": [
    "This query does the following:\n",
    "\n",
    "- For each row in table_a, find the corresponding row in table_b where condition1, condition2, etc., are met.\n",
    "- Set the value of column_to_update to the value of column_to_update_from (from that corresponding row).\n",
    "\n",
    "The conditions usually compare other columns of both tables, e.g. table_a.some_column = table_b.some_column. Of course, this query only makes sense if there is only one matching row in table_b."
   ]
  },
  {
   "cell_type": "raw",
   "metadata": {},
   "source": [
    "First, have a look at the current state of affiliations by fetching 10 rows and all columns.\n",
    "\n",
    "-- Have a look at the 10 first rows of affiliations\n",
    "SELECT *\n",
    "FROM affiliations\n",
    "LIMIT 10;\n",
    "\n",
    "Update the professor_id column with the corresponding value of the id column in professors.\n",
    "\"Corresponding\" means rows in professors where the firstname and lastname are identical to the ones in affiliations.\n",
    "\n",
    "-- Set professor_id to professors.id where firstname, lastname correspond to rows in professors\n",
    "UPDATE affiliations\n",
    "SET professor_id = professors.id\n",
    "FROM professors\n",
    "WHERE affiliations.firstname = professors.firstname AND affiliations.lastname = professors.lastname;\n",
    "\n",
    "Check out the first 10 rows and all columns of affiliations again. Have the professor_ids been correctly matched?\n",
    "\n",
    "-- Have a look at the 10 first rows of affiliations again\n",
    "SELECT *\n",
    "FROM affiliations\n",
    "LIMIT 10;"
   ]
  },
  {
   "cell_type": "markdown",
   "metadata": {},
   "source": [
    "## Drop \"firstname\" and \"lastname\"\n",
    "\n",
    "The firstname and lastname columns of affiliations were used to establish a link to the professors table in the last exercise – so the appropriate professor IDs could be copied over. This only worked because there is exactly one corresponding professor for each row in affiliations. In other words: {firstname, lastname} is a candidate key of professors – a unique combination of columns.\n",
    "\n",
    "It isn't one in affiliations though, because professors can have more than one affiliation.\n",
    "\n",
    "Because professors are referenced by professor_id now, the firstname and lastname columns are no longer needed, so it's time to drop them. After all, one of the goals of a database is to reduce redundancy where possible."
   ]
  },
  {
   "cell_type": "raw",
   "metadata": {},
   "source": [
    "Drop the firstname and lastname columns from the affiliations table.\n",
    "\n",
    "-- Drop the firstname column\n",
    "ALTER TABLE affiliations\n",
    "DROP COLUMN firstname;\n",
    "\n",
    "-- Drop the lastname column\n",
    "ALTER TABLE affiliations\n",
    "DROP COLUMN lastname;"
   ]
  },
  {
   "cell_type": "markdown",
   "metadata": {},
   "source": [
    "## Referential integrity violations\n",
    "\n",
    "Given the current state of your database, what happens if you execute the following SQL statement?"
   ]
  },
  {
   "cell_type": "raw",
   "metadata": {},
   "source": [
    "DELETE FROM universities WHERE id = 'EPF';\n",
    "\n",
    "update or delete on table \"universities\" violates foreign key constraint \"professors_fkey\" on table \"professors\"\n",
    "DETAIL:  Key (id)=(EPF) is still referenced from table \"professors\"."
   ]
  },
  {
   "cell_type": "markdown",
   "metadata": {},
   "source": [
    "## Change the referential integrity behavior of a key\n",
    "\n",
    "So far, you implemented three foreign key constraints:\n",
    "\n",
    "- professors.university_id to universities.id\n",
    "- affiliations.organization_id to organizations.id\n",
    "- affiliations.professor_id to professors.id\n",
    "\n",
    "These foreign keys currently have the behavior `ON DELETE NO ACTION`. Here, you're going to change that behavior for the column referencing organizations from affiliations. If an organization is deleted, all its affiliations (by any professor) should also be deleted.\n",
    "\n",
    "Altering a key constraint doesn't work with `ALTER COLUMN`. Instead, you have to delete the key constraint and then add a new one with a different `ON DELETE` behavior.\n",
    "\n",
    "For deleting constraints, though, you need to know their name. This information is also stored in information_schema."
   ]
  },
  {
   "cell_type": "raw",
   "metadata": {},
   "source": [
    "Have a look at the existing foreign key constraints by querying table_constraints in information_schema.\n",
    "\n",
    "-- Identify the correct constraint name\n",
    "SELECT constraint_name, table_name, constraint_type\n",
    "FROM information_schema.table_constraints\n",
    "WHERE constraint_type = 'FOREIGN KEY';\n",
    "\n",
    "Delete the affiliations_organization_id_fkey foreign key constraint in affiliations.\n",
    "\n",
    "-- Drop the right foreign key constraint\n",
    "ALTER TABLE affiliations\n",
    "DROP CONSTRAINT affiliations_organization_id_fkey;\n",
    "\n",
    "Add a new foreign key that cascades deletion if a referenced record is deleted from organizations. Name it affiliations_organization_id_fkey.\n",
    "\n",
    "-- Add a new foreign key constraint from affiliations to organizations which cascades deletion\n",
    "ALTER TABLE affiliations\n",
    "ADD CONSTRAINT affiliations_organization_id_fkey FOREIGN KEY (organization_id) REFERENCES organizations (id) ON DELETE CASCADE;\n",
    "\n",
    "Run the DELETE and SELECT queries to double check that the deletion cascade actually works.\n",
    "\n",
    "-- Delete an organization \n",
    "DELETE FROM organizations \n",
    "WHERE id = 'CUREM';\n",
    "\n",
    "-- Check that no more affiliations with this organization exist\n",
    "SELECT * FROM organizations\n",
    "WHERE id = 'CUREM';"
   ]
  },
  {
   "cell_type": "markdown",
   "metadata": {},
   "source": [
    "## Count affiliations per university\n",
    "\n",
    "Now that your data is ready for analysis, let's run some exemplary SQL queries on the database. You'll now use already known concepts such as grouping by columns and joining tables.\n",
    "\n",
    "In this exercise, you will find out which university has the most affiliations (through its professors). For that, you need both affiliations and professors tables, as the latter also holds the university_id.\n",
    "\n",
    "As a quick repetition, remember that joins have the following structure:"
   ]
  },
  {
   "cell_type": "raw",
   "metadata": {},
   "source": [
    "SELECT table_a.column1, table_a.column2, table_b.column1, ... \n",
    "FROM table_a\n",
    "JOIN table_b \n",
    "ON table_a.column = table_b.column"
   ]
  },
  {
   "cell_type": "markdown",
   "metadata": {},
   "source": [
    "This results in a combination of table_a and table_b, but only with rows where table_a.column is equal to table_b.column."
   ]
  },
  {
   "cell_type": "raw",
   "metadata": {},
   "source": [
    "Count the number of total affiliations by university.\n",
    "Sort the result by that count, in descending order.\n",
    "\n",
    "-- Count the total number of affiliations per university\n",
    "SELECT COUNT(*), professors.university_id \n",
    "FROM professors\n",
    "JOIN affiliations\n",
    "ON affiliations.professor_id = professors.id\n",
    "GROUP BY professors.university_id \n",
    "ORDER BY count DESC;"
   ]
  },
  {
   "cell_type": "markdown",
   "metadata": {},
   "source": [
    "## Join all the tables together\n",
    "\n",
    "In this last exercise, you will find the university city of the professor with the most affiliations in the sector \"Media & communication\".\n",
    "\n",
    "For this, you need to join all the tables, group by a column, and then use selection criteria to get only the rows in the correct sector."
   ]
  },
  {
   "cell_type": "raw",
   "metadata": {},
   "source": [
    "Join all tables in the database (starting with affiliations, professors, organizations, and universities) and look at the result.\n",
    "\n",
    "-- Join all tables\n",
    "SELECT *\n",
    "FROM affiliations\n",
    "JOIN professors\n",
    "ON affiliations.professor_id = professors.id\n",
    "JOIN organizations\n",
    "ON affiliations.organization_id = organizations.id\n",
    "JOIN universities\n",
    "ON professors.university_id = universities.id;\n",
    "\n",
    "Now group the result by organization sector, professor, and university city.\n",
    "Count the resulting number of rows.\n",
    "\n",
    "-- Group the table by organization sector, professor and university city\n",
    "SELECT COUNT(*), organizations.organization_sector, \n",
    "professors.id, universities.university_city\n",
    "FROM affiliations\n",
    "JOIN professors\n",
    "ON affiliations.professor_id = professors.id\n",
    "JOIN organizations\n",
    "ON affiliations.organization_id = organizations.id\n",
    "JOIN universities\n",
    "ON professors.university_id = universities.id\n",
    "GROUP BY organizations.organization_sector, \n",
    "professors.id, universities.university_city;\n",
    "\n",
    "Only retain rows with \"Media & communication\" as organization sector, and sort the table by count, in descending order.\n",
    "\n",
    "-- Filter the table and sort it\n",
    "SELECT COUNT(*), organizations.organization_sector, \n",
    "professors.id, universities.university_city\n",
    "FROM affiliations\n",
    "JOIN professors\n",
    "ON affiliations.professor_id = professors.id\n",
    "JOIN organizations\n",
    "ON affiliations.organization_id = organizations.id\n",
    "JOIN universities\n",
    "ON professors.university_id = universities.id\n",
    "WHERE organizations.organization_sector = 'Media & communication'\n",
    "GROUP BY organizations.organization_sector, \n",
    "professors.id, universities.university_city\n",
    "ORDER BY count DESC;"
   ]
  },
  {
   "cell_type": "markdown",
   "metadata": {},
   "source": [
    "The professor with id 538 has the most affiliations in the \"Media & communication\" sector, and he or she lives in the city of Lausanne. Thanks to your database design, you can be sure that the data you've just queried is consistent. Of course, you could also put university_city and organization_sector in their own tables, making the data model even more formal. However, in database design, you have to strike a balance between modeling overhead, desired data consistency, and usability for queries like the one you've just wrote. Congratulations, you made it to the end!"
   ]
  },
  {
   "cell_type": "code",
   "execution_count": null,
   "metadata": {},
   "outputs": [],
   "source": []
  }
 ],
 "metadata": {
  "kernelspec": {
   "display_name": "Python 3",
   "language": "python",
   "name": "python3"
  },
  "language_info": {
   "codemirror_mode": {
    "name": "ipython",
    "version": 3
   },
   "file_extension": ".py",
   "mimetype": "text/x-python",
   "name": "python",
   "nbconvert_exporter": "python",
   "pygments_lexer": "ipython3",
   "version": "3.7.1"
  }
 },
 "nbformat": 4,
 "nbformat_minor": 2
}

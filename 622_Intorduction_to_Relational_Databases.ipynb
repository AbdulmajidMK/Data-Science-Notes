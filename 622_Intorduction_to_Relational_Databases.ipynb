{
 "cells": [
  {
   "cell_type": "markdown",
   "metadata": {},
   "source": [
    "# Introduction to Relational Databases\n",
    "\n",
    "You’ve already used SQL to query data from databases. But did you know that there's a lot more you can do with databases? You can model different phenomena in your data, as well as the relationships between them. This gives your data structure and consistency, which results in better data quality. In this course, you'll experience this firsthand by working with a real-life dataset that was used to investigate questionable university affiliations. Column by column, table by table, you'll get to unlock and admire the full potential of databases. You'll learn how to create tables and specify their relationships, as well as how to enforce data integrity. You'll also discover other unique features of database systems, such as constraints."
   ]
  },
  {
   "cell_type": "markdown",
   "metadata": {},
   "source": [
    "## Query information_schema with SELECT\n",
    "\n",
    "`information_schema` is a meta-database that holds information about your current database. `information_schema` has multiple tables you can query with the known `SELECT * FROM` syntax:\n",
    "\n",
    "- `tables`: information about all tables in your current database\n",
    "- `columns`: information about all columns in all of the tables in your current database\n",
    "- ...\n",
    "\n",
    "In this exercise, you'll only need information from the 'public' schema, which is specified as the column `table_schema` of the tables and columns tables. The 'public' schema holds information about user-defined tables and databases. The other types of `table_schema` hold system information – for this course, you're only interested in user-defined stuff."
   ]
  },
  {
   "cell_type": "raw",
   "metadata": {},
   "source": [
    "Get information on all table names in the current database, while limiting your query to the 'public' table_schema.\n",
    "\n",
    "-- Query the right table in information_schema\n",
    "SELECT table_name \n",
    "FROM information_schema.tables\n",
    "-- Specify the correct table_schema value\n",
    "WHERE table_schema = 'public';"
   ]
  },
  {
   "cell_type": "raw",
   "metadata": {},
   "source": [
    "Now have a look at the columns in university_professors by selecting all entries in information_schema.columns that correspond to that table.\n",
    "\n",
    "-- Query the right table in information_schema to get columns\n",
    "SELECT column_name, data_type \n",
    "FROM information_schema.columns \n",
    "WHERE table_name = 'university_professors' AND table_schema = 'public';"
   ]
  },
  {
   "cell_type": "markdown",
   "metadata": {},
   "source": [
    "## CREATE your first few TABLEs\n",
    "\n",
    "You'll now start implementing a better database model. For this, you'll create tables for the professors and universities entity types. The other tables will be created for you.\n",
    "\n",
    "The syntax for creating simple tables is as follows:"
   ]
  },
  {
   "cell_type": "raw",
   "metadata": {},
   "source": [
    "CREATE TABLE table_name (\n",
    " column_a data_type,\n",
    " column_b data_type,\n",
    " column_c data_type\n",
    ");"
   ]
  },
  {
   "cell_type": "markdown",
   "metadata": {},
   "source": [
    "**Attention:** Table and columns names, as well as data types, don't need to be surrounded by quotation marks."
   ]
  },
  {
   "cell_type": "raw",
   "metadata": {},
   "source": [
    "Create a table professors with two text columns: firstname and lastname.\n",
    "\n",
    "-- Create a table for the professors entity type\n",
    "CREATE TABLE professors (\n",
    " firstname text,\n",
    " lastname text\n",
    ");\n",
    "\n",
    "-- Print the contents of this table\n",
    "SELECT * \n",
    "FROM professors\n",
    "\n",
    "Create a table universities with three text columns: university_shortname, university, and university_city.\n",
    "\n",
    "CREATE TABLE universities (\n",
    " university_shortname text,\n",
    " university text,\n",
    " university_city text\n",
    ");"
   ]
  },
  {
   "cell_type": "markdown",
   "metadata": {},
   "source": [
    "## ADD a COLUMN with ALTER TABLE\n",
    "\n",
    "Oops! We forgot to add the `university_shortname` column to the professors table. However, adding columns to existing tables is easy, especially if they're still empty. To add columns you can use the following SQL query:"
   ]
  },
  {
   "cell_type": "raw",
   "metadata": {},
   "source": [
    "ALTER TABLE table_name\n",
    "ADD COLUMN column_name data_type;"
   ]
  },
  {
   "cell_type": "raw",
   "metadata": {},
   "source": [
    "Alter professors to add the text column university_shortname.\n",
    "\n",
    "-- Add the university_shortname column\n",
    "ALTER TABLE professors\n",
    "ADD COLUMN university_shortname text;\n",
    "\n",
    "-- Print the contents of this table\n",
    "SELECT * \n",
    "FROM professors"
   ]
  },
  {
   "cell_type": "markdown",
   "metadata": {},
   "source": [
    "## RENAME and DROP COLUMNs in affiliations\n",
    "\n",
    "The still empty affiliations table has some flaws. In this exercise. To correct them you'll use the following queries:"
   ]
  },
  {
   "cell_type": "raw",
   "metadata": {},
   "source": [
    "To rename columns:\n",
    "\n",
    "ALTER TABLE table_name\n",
    "RENAME COLUMN old_name TO new_name;\n",
    "\n",
    "To delete columns:\n",
    "\n",
    "ALTER TABLE table_name\n",
    "DROP COLUMN column_name;"
   ]
  },
  {
   "cell_type": "code",
   "execution_count": null,
   "metadata": {},
   "outputs": [],
   "source": []
  },
  {
   "cell_type": "code",
   "execution_count": null,
   "metadata": {},
   "outputs": [],
   "source": []
  },
  {
   "cell_type": "code",
   "execution_count": null,
   "metadata": {},
   "outputs": [],
   "source": []
  },
  {
   "cell_type": "code",
   "execution_count": null,
   "metadata": {},
   "outputs": [],
   "source": []
  },
  {
   "cell_type": "code",
   "execution_count": null,
   "metadata": {},
   "outputs": [],
   "source": []
  },
  {
   "cell_type": "code",
   "execution_count": null,
   "metadata": {},
   "outputs": [],
   "source": []
  },
  {
   "cell_type": "code",
   "execution_count": null,
   "metadata": {},
   "outputs": [],
   "source": []
  },
  {
   "cell_type": "code",
   "execution_count": null,
   "metadata": {},
   "outputs": [],
   "source": []
  },
  {
   "cell_type": "code",
   "execution_count": null,
   "metadata": {},
   "outputs": [],
   "source": []
  },
  {
   "cell_type": "code",
   "execution_count": null,
   "metadata": {},
   "outputs": [],
   "source": []
  },
  {
   "cell_type": "code",
   "execution_count": null,
   "metadata": {},
   "outputs": [],
   "source": []
  },
  {
   "cell_type": "code",
   "execution_count": null,
   "metadata": {},
   "outputs": [],
   "source": []
  },
  {
   "cell_type": "code",
   "execution_count": null,
   "metadata": {},
   "outputs": [],
   "source": []
  },
  {
   "cell_type": "code",
   "execution_count": null,
   "metadata": {},
   "outputs": [],
   "source": []
  }
 ],
 "metadata": {
  "kernelspec": {
   "display_name": "Python 3",
   "language": "python",
   "name": "python3"
  },
  "language_info": {
   "codemirror_mode": {
    "name": "ipython",
    "version": 3
   },
   "file_extension": ".py",
   "mimetype": "text/x-python",
   "name": "python",
   "nbconvert_exporter": "python",
   "pygments_lexer": "ipython3",
   "version": "3.7.1"
  }
 },
 "nbformat": 4,
 "nbformat_minor": 2
}

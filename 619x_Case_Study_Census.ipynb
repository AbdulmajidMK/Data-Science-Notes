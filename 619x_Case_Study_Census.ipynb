{
 "cells": [
  {
   "cell_type": "markdown",
   "metadata": {},
   "source": [
    "# Census Case Study\n",
    "\n",
    "Bring together all of the skills you acquired to work on a real-life project. From connecting to a database and populating it, to reading and querying it."
   ]
  },
  {
   "cell_type": "code",
   "execution_count": 1,
   "metadata": {},
   "outputs": [],
   "source": [
    "path='data/dc25/'"
   ]
  },
  {
   "cell_type": "markdown",
   "metadata": {},
   "source": [
    "## Setup the engine and metadata\n",
    "\n",
    "In this exercise, your job is to create an engine to the database that will be used in this case study. Then, you need to initialize its metadata."
   ]
  },
  {
   "cell_type": "code",
   "execution_count": 9,
   "metadata": {},
   "outputs": [],
   "source": [
    "# Import create_engine, MetaData\n",
    "from sqlalchemy import create_engine, MetaData\n",
    "\n",
    "# Define an engine to connect to chapter5.sqlite: engine\n",
    "engine = create_engine('sqlite:///'+path+'CensusCaseStudy.sqlite')\n",
    "\n",
    "# Create a connection on engine\n",
    "connection = engine.connect()\n",
    "\n",
    "# Initialize MetaData: metadata\n",
    "metadata = MetaData()"
   ]
  },
  {
   "cell_type": "markdown",
   "metadata": {},
   "source": [
    "## Create the table to the database\n",
    "\n",
    "Having setup the engine and initialized the metadata, you will now define the census table object and then create it in the database using the metadata and engine. To create it in the database, you will have to use the `.create_all()` method on the metadata with engine as the argument."
   ]
  },
  {
   "cell_type": "code",
   "execution_count": 3,
   "metadata": {},
   "outputs": [],
   "source": [
    "# Import Table, Column, String, and Integer\n",
    "from sqlalchemy import (Table, Column, String, Integer, Boolean)\n",
    "\n",
    "# Build a census table: census\n",
    "census = Table('census', metadata,\n",
    "               Column('state', String(30)),\n",
    "               Column('sex', String(1)),\n",
    "               Column('age', Integer()),\n",
    "               Column('pop2000', Integer()),\n",
    "               Column('pop2008', Integer()))\n",
    "\n",
    "# Create the table in the database\n",
    "metadata.create_all(engine)"
   ]
  },
  {
   "cell_type": "markdown",
   "metadata": {},
   "source": [
    "When creating columns of type `String()`, it's important to spend some time thinking about what their maximum lengths should be."
   ]
  },
  {
   "cell_type": "markdown",
   "metadata": {},
   "source": [
    "## Reading the data from the CSV\n",
    "\n",
    "Leverage the Python CSV module from the standard library and load the data into a list of dictionaries."
   ]
  },
  {
   "cell_type": "code",
   "execution_count": 5,
   "metadata": {},
   "outputs": [],
   "source": [
    "import csv\n",
    "\n",
    "# Create an empty list: values_list\n",
    "values_list = []\n",
    "\n",
    "with open(path+'census.csv') as csv_file:\n",
    "    csv_reader = csv.reader(csv_file, delimiter=',')\n",
    "    for row in csv_reader:\n",
    "        # Create a dictionary with the values\n",
    "        data = {'state': row[0], 'sex': row[1], 'age':row[2], 'pop2000': row[3],\n",
    "                'pop2008': row[4]}\n",
    "        # Append the dictionary to the values list\n",
    "        values_list.append(data)"
   ]
  },
  {
   "cell_type": "code",
   "execution_count": 7,
   "metadata": {},
   "outputs": [
    {
     "data": {
      "text/plain": [
       "[{'state': 'Illinois',\n",
       "  'sex': 'M',\n",
       "  'age': '0',\n",
       "  'pop2000': '89600',\n",
       "  'pop2008': '95012'},\n",
       " {'state': 'Illinois',\n",
       "  'sex': 'M',\n",
       "  'age': '1',\n",
       "  'pop2000': '88445',\n",
       "  'pop2008': '91829'},\n",
       " {'state': 'Illinois',\n",
       "  'sex': 'M',\n",
       "  'age': '2',\n",
       "  'pop2000': '88729',\n",
       "  'pop2008': '89547'},\n",
       " {'state': 'Illinois',\n",
       "  'sex': 'M',\n",
       "  'age': '3',\n",
       "  'pop2000': '88868',\n",
       "  'pop2008': '90037'},\n",
       " {'state': 'Illinois',\n",
       "  'sex': 'M',\n",
       "  'age': '4',\n",
       "  'pop2000': '91947',\n",
       "  'pop2008': '91111'}]"
      ]
     },
     "execution_count": 7,
     "metadata": {},
     "output_type": "execute_result"
    }
   ],
   "source": [
    "values_list[:5]"
   ]
  },
  {
   "cell_type": "markdown",
   "metadata": {},
   "source": [
    "## Load data from a list into the Table\n",
    "\n",
    "Using the multiple insert pattern, in this exercise, you will load the data from values_list into the table."
   ]
  },
  {
   "cell_type": "code",
   "execution_count": 10,
   "metadata": {},
   "outputs": [
    {
     "name": "stdout",
     "output_type": "stream",
     "text": [
      "8772\n"
     ]
    }
   ],
   "source": [
    "# Import insert\n",
    "from sqlalchemy import insert\n",
    "\n",
    "# Build insert statement: stmt\n",
    "stmt = insert(census)\n",
    "\n",
    "# Use values_list to insert data: results\n",
    "results = connection.execute(stmt, values_list)\n",
    "\n",
    "# Print rowcount\n",
    "print(results.rowcount)"
   ]
  },
  {
   "cell_type": "markdown",
   "metadata": {},
   "source": [
    "## Determine the average age by population\n",
    "\n",
    "To calculate a weighted average, we first find the total sum of weights multiplied by the values we're averaging, then divide by the sum of all the weights.\n",
    "\n",
    "For example, if we wanted to find a weighted average of `data = [10, 30, 50]` weighted by `weights = [2,4,6]`, we would compute `(2⋅10+4⋅30+6⋅50) / (2+4+6)`, or `sum(weights * data) / sum(weights)`.\n",
    "\n",
    "In this exercise, however, you will make use of `func.sum()` together with `select` to select the weighted average of a column from a table. You will still work with the census data, and you will compute the average of age weighted by state population in the year 2000, and then group this weighted average by sex."
   ]
  },
  {
   "cell_type": "code",
   "execution_count": 11,
   "metadata": {},
   "outputs": [
    {
     "name": "stdout",
     "output_type": "stream",
     "text": [
      "F 37\n",
      "M 34\n"
     ]
    }
   ],
   "source": [
    "# Import select and func\n",
    "from sqlalchemy import select, func\n",
    "\n",
    "# Select sex and average age weighted by 2000 population\n",
    "stmt = select([(func.sum(census.columns.pop2000 * census.columns.age) \\\n",
    "                / func.sum(census.columns.pop2000)).label('average_age'),\n",
    "               census.columns.sex])\n",
    "\n",
    "# Group by sex\n",
    "stmt = stmt.group_by(census.columns.sex)\n",
    "\n",
    "# Execute the query and fetch all the results\n",
    "results = connection.execute(stmt).fetchall()\n",
    "\n",
    "# Print the sex and average age column for each result\n",
    "for result in results:\n",
    "    print(result.sex, result.average_age)"
   ]
  },
  {
   "cell_type": "markdown",
   "metadata": {},
   "source": [
    "## Determine the percentage of population by gender and state\n",
    "\n",
    "In this exercise, you will write a query to determine the percentage of the population in 2000 that comprised of women. You will group this query by state."
   ]
  },
  {
   "cell_type": "code",
   "execution_count": 19,
   "metadata": {},
   "outputs": [
    {
     "name": "stdout",
     "output_type": "stream",
     "text": [
      "District of Columbia 53.129626141738385\n",
      "Rhode Island 52.07343391902215\n",
      "Maryland 51.93575549972231\n",
      "Mississippi 51.92229481794672\n",
      "Massachusetts 51.843023571316785\n",
      "New York 51.83453865150073\n",
      "Alabama 51.832407770179465\n",
      "Louisiana 51.75351596554121\n",
      "Pennsylvania 51.74043473051053\n",
      "South Carolina 51.73072129765755\n",
      "Connecticut 51.66816507130644\n",
      "Virginia 51.657252447241795\n",
      "Delaware 51.61109733558627\n",
      "New Jersey 51.51713956125773\n",
      "Maine 51.50570813418951\n",
      "North Carolina 51.482262322084594\n",
      "Missouri 51.46888602639692\n",
      "Ohio 51.46550350015544\n",
      "Tennessee 51.430689699449275\n",
      "West Virginia 51.40042318092286\n",
      "Florida 51.36488001165242\n",
      "Kentucky 51.32687036927168\n",
      "Arkansas 51.26992846221834\n",
      "Hawaii 51.118011836915514\n",
      "Georgia 51.11408350339436\n",
      "Oklahoma 51.11362457075227\n",
      "Illinois 51.11224234802867\n",
      "New Mexico 51.0471720798335\n",
      "Vermont 51.018573209949466\n",
      "Michigan 50.97246518318712\n",
      "Indiana 50.95480313297678\n",
      "Iowa 50.950398342534264\n",
      "Nebraska 50.8584549336086\n",
      "New Hampshire 50.858019844961746\n",
      "Kansas 50.821864107754735\n",
      "Wisconsin 50.61486452653393\n",
      "South Dakota 50.52583581373275\n",
      "Washington 50.518565087218334\n",
      "Texas 50.515721664207966\n",
      "North Dakota 50.50069363231332\n",
      "Minnesota 50.49332944301148\n",
      "Oregon 50.4294670361772\n",
      "California 50.35233214901979\n",
      "Montana 50.32202690728538\n",
      "Arizona 50.22361303057914\n",
      "Idaho 49.98972623903102\n",
      "Utah 49.97295275106927\n",
      "Wyoming 49.94595542648306\n",
      "Colorado 49.84767060299562\n",
      "Nevada 49.36736361384359\n",
      "Alaska 49.301497893484594\n"
     ]
    }
   ],
   "source": [
    "# import case, cast and Float from sqlalchemy\n",
    "from sqlalchemy import case, cast, Float, desc\n",
    "\n",
    "# Build a query to calculate the percentage of women in 2000: stmt\n",
    "stmt = select([census.columns.state,\n",
    "    (func.sum(\n",
    "        case([\n",
    "            (census.columns.sex == 'F', census.columns.pop2000)\n",
    "        ], else_=0)) /\n",
    "     cast(func.sum(census.columns.pop2000), Float) * 100).label('percent_female')\n",
    "])\n",
    "\n",
    "# Group By state\n",
    "stmt = stmt.group_by(census.columns.state)\n",
    "\n",
    "# Order By 'percent_female'\n",
    "stmt = stmt.order_by(desc('percent_female'))\n",
    "\n",
    "# Execute the query and store the results: results\n",
    "results = connection.execute(stmt).fetchall()\n",
    "\n",
    "# Print the percentage\n",
    "for result in results:\n",
    "    print(result.state, result.percent_female)"
   ]
  },
  {
   "cell_type": "markdown",
   "metadata": {},
   "source": [
    "Interestingly, the District of Columbia had the highest percentage of women in 2000, while Alaska had the highest percentage of males."
   ]
  },
  {
   "cell_type": "markdown",
   "metadata": {},
   "source": [
    "## Determine the difference by state from the 2000 and 2008 censuses\n",
    "In this final exercise, you will write a query to calculate the states that changed the most in population. You will limit your query to display only the top 10 states."
   ]
  },
  {
   "cell_type": "code",
   "execution_count": 20,
   "metadata": {},
   "outputs": [
    {
     "name": "stdout",
     "output_type": "stream",
     "text": [
      "Texas:40137\n",
      "California:35406\n",
      "Florida:21954\n",
      "Arizona:14377\n",
      "Georgia:13357\n",
      "North Carolina:11574\n",
      "Virginia:6639\n",
      "Colorado:6425\n",
      "Utah:5934\n",
      "Illinois:5412\n"
     ]
    }
   ],
   "source": [
    "# Build query to return state name and population difference from 2008 to 2000\n",
    "stmt = select([census.columns.state,\n",
    "     (census.columns.pop2008-census.columns.pop2000).label('pop_change')\n",
    "])\n",
    "\n",
    "# Group by State\n",
    "stmt = stmt.group_by(census.columns.state)\n",
    "\n",
    "# Order by Population Change\n",
    "stmt = stmt.order_by(desc('pop_change'))\n",
    "\n",
    "# Limit to top 10\n",
    "stmt = stmt.limit(10)\n",
    "\n",
    "# Use connection to execute the statement and fetch all results\n",
    "results = connection.execute(stmt).fetchall()\n",
    "\n",
    "# Print the state and population change for each record\n",
    "for result in results:\n",
    "    print('{}:{}'.format(result.state, result.pop_change))"
   ]
  },
  {
   "cell_type": "markdown",
   "metadata": {},
   "source": [
    "It looks like the state that grew the least in population between 2000 and 2008 was North Carolina."
   ]
  },
  {
   "cell_type": "code",
   "execution_count": null,
   "metadata": {},
   "outputs": [],
   "source": []
  }
 ],
 "metadata": {
  "kernelspec": {
   "display_name": "Python 3",
   "language": "python",
   "name": "python3"
  },
  "language_info": {
   "codemirror_mode": {
    "name": "ipython",
    "version": 3
   },
   "file_extension": ".py",
   "mimetype": "text/x-python",
   "name": "python",
   "nbconvert_exporter": "python",
   "pygments_lexer": "ipython3",
   "version": "3.7.1"
  }
 },
 "nbformat": 4,
 "nbformat_minor": 4
}

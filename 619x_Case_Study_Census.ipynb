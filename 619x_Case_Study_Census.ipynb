{
 "cells": [
  {
   "cell_type": "markdown",
   "metadata": {},
   "source": [
    "# Census Case Study\n",
    "\n",
    "Bring together all of the skills you acquired to work on a real-life project. From connecting to a database and populating it, to reading and querying it."
   ]
  },
  {
   "cell_type": "code",
   "execution_count": 1,
   "metadata": {},
   "outputs": [],
   "source": [
    "path='data/dc25/'"
   ]
  },
  {
   "cell_type": "markdown",
   "metadata": {},
   "source": [
    "## Setup the engine and metadata\n",
    "\n",
    "In this exercise, your job is to create an engine to the database that will be used in this case study. Then, you need to initialize its metadata."
   ]
  },
  {
   "cell_type": "code",
   "execution_count": 2,
   "metadata": {},
   "outputs": [],
   "source": [
    "# Import create_engine, MetaData\n",
    "from sqlalchemy import create_engine, MetaData\n",
    "\n",
    "# Define an engine to connect to chapter5.sqlite: engine\n",
    "engine = create_engine('sqlite:///'+path+'CensusCaseStudy.sqlite')\n",
    "\n",
    "# Initialize MetaData: metadata\n",
    "metadata = MetaData()"
   ]
  },
  {
   "cell_type": "markdown",
   "metadata": {},
   "source": [
    "## Create the table to the database\n",
    "\n",
    "Having setup the engine and initialized the metadata, you will now define the census table object and then create it in the database using the metadata and engine. To create it in the database, you will have to use the `.create_all()` method on the metadata with engine as the argument."
   ]
  },
  {
   "cell_type": "code",
   "execution_count": 3,
   "metadata": {},
   "outputs": [],
   "source": [
    "# Import Table, Column, String, and Integer\n",
    "from sqlalchemy import (Table, Column, String, Integer, Boolean)\n",
    "\n",
    "# Build a census table: census\n",
    "census = Table('census', metadata,\n",
    "               Column('state', String(30)),\n",
    "               Column('sex', String(1)),\n",
    "               Column('age', Integer()),\n",
    "               Column('pop2000', Integer()),\n",
    "               Column('pop2008', Integer()))\n",
    "\n",
    "# Create the table in the database\n",
    "metadata.create_all(engine)"
   ]
  },
  {
   "cell_type": "markdown",
   "metadata": {},
   "source": [
    "When creating columns of type `String()`, it's important to spend some time thinking about what their maximum lengths should be."
   ]
  },
  {
   "cell_type": "markdown",
   "metadata": {},
   "source": [
    "## Reading the data from the CSV\n",
    "\n",
    "Leverage the Python CSV module from the standard library and load the data into a list of dictionaries."
   ]
  },
  {
   "cell_type": "code",
   "execution_count": 5,
   "metadata": {},
   "outputs": [],
   "source": [
    "import csv\n",
    "\n",
    "# Create an empty list: values_list\n",
    "values_list = []\n",
    "\n",
    "with open(path+'census.csv') as csv_file:\n",
    "    csv_reader = csv.reader(csv_file, delimiter=',')\n",
    "    for row in csv_reader:\n",
    "        # Create a dictionary with the values\n",
    "        data = {'state': row[0], 'sex': row[1], 'age':row[2], 'pop2000': row[3],\n",
    "                'pop2008': row[4]}\n",
    "        # Append the dictionary to the values list\n",
    "        values_list.append(data)"
   ]
  },
  {
   "cell_type": "code",
   "execution_count": 7,
   "metadata": {},
   "outputs": [
    {
     "data": {
      "text/plain": [
       "[{'state': 'Illinois',\n",
       "  'sex': 'M',\n",
       "  'age': '0',\n",
       "  'pop2000': '89600',\n",
       "  'pop2008': '95012'},\n",
       " {'state': 'Illinois',\n",
       "  'sex': 'M',\n",
       "  'age': '1',\n",
       "  'pop2000': '88445',\n",
       "  'pop2008': '91829'},\n",
       " {'state': 'Illinois',\n",
       "  'sex': 'M',\n",
       "  'age': '2',\n",
       "  'pop2000': '88729',\n",
       "  'pop2008': '89547'},\n",
       " {'state': 'Illinois',\n",
       "  'sex': 'M',\n",
       "  'age': '3',\n",
       "  'pop2000': '88868',\n",
       "  'pop2008': '90037'},\n",
       " {'state': 'Illinois',\n",
       "  'sex': 'M',\n",
       "  'age': '4',\n",
       "  'pop2000': '91947',\n",
       "  'pop2008': '91111'}]"
      ]
     },
     "execution_count": 7,
     "metadata": {},
     "output_type": "execute_result"
    }
   ],
   "source": [
    "values_list[:5]"
   ]
  },
  {
   "cell_type": "markdown",
   "metadata": {},
   "source": [
    "## "
   ]
  },
  {
   "cell_type": "code",
   "execution_count": null,
   "metadata": {},
   "outputs": [],
   "source": []
  },
  {
   "cell_type": "code",
   "execution_count": null,
   "metadata": {},
   "outputs": [],
   "source": []
  },
  {
   "cell_type": "code",
   "execution_count": null,
   "metadata": {},
   "outputs": [],
   "source": []
  },
  {
   "cell_type": "code",
   "execution_count": null,
   "metadata": {},
   "outputs": [],
   "source": []
  }
 ],
 "metadata": {
  "kernelspec": {
   "display_name": "Python 3",
   "language": "python",
   "name": "python3"
  },
  "language_info": {
   "codemirror_mode": {
    "name": "ipython",
    "version": 3
   },
   "file_extension": ".py",
   "mimetype": "text/x-python",
   "name": "python",
   "nbconvert_exporter": "python",
   "pygments_lexer": "ipython3",
   "version": "3.7.1"
  }
 },
 "nbformat": 4,
 "nbformat_minor": 4
}

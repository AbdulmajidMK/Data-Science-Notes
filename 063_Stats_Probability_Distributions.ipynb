{
 "cells": [
  {
   "cell_type": "raw",
   "metadata": {},
   "source": [
    "From: https://github.com/ksatola\n",
    "Version: 0.0.1"
   ]
  },
  {
   "cell_type": "markdown",
   "metadata": {},
   "source": [
    "# Probability distributions\n",
    "\n",
    "Probability distributions help you understand the distribution of values and calculate probabilities."
   ]
  },
  {
   "cell_type": "markdown",
   "metadata": {},
   "source": [
    "## Table of Contents\n",
    "\n",
    "- [Random Variables and Probability Distribution](#rvars)\n",
    "- [xxxGraph Types](#graphs)\n",
    "- [xxxSummary Statistics](#sum)\n",
    "    - [xxxMeasures of Central Tendency](#sum-central)\n",
    "    - [xxxMeasures of Variability](#sum-var)\n",
    "    - [xxxCorrelation (coefficient)](#corr)\n",
    "- [xxxResources](#res)\n",
    "\n",
    "<img src=\"images/stat-datatypes.png\" alt=\"\" style=\"width: 400px;\"/>"
   ]
  },
  {
   "cell_type": "code",
   "execution_count": null,
   "metadata": {},
   "outputs": [],
   "source": [
    "import pandas as pd\n",
    "import numpy as np\n",
    "import matplotlib.pyplot as plt\n",
    "%matplotlib inline"
   ]
  },
  {
   "cell_type": "markdown",
   "metadata": {},
   "source": [
    "---\n",
    "<a id='rvars'></a>"
   ]
  },
  {
   "cell_type": "markdown",
   "metadata": {},
   "source": [
    "# Random Variables\n",
    "\n",
    "In statistics, **random variables** are characteristics that you can observe, but you don’t control them. They can be a `characteristic, measurement, or a count that varies randomly according to a function`. **Random** in this context indicates that you don’t know the value of the next observation, but you do know the probability associated with values and ranges of values.\n",
    "\n",
    "# Probability Distribution\n",
    "\n",
    "A **probability distribution** is a mathematical function that describes the probabilities for all possible outcomes of a **random variable**. In other words, the frequency of the observed values varies based on the underlying **probability distribution**."
   ]
  },
  {
   "cell_type": "code",
   "execution_count": null,
   "metadata": {},
   "outputs": [],
   "source": []
  },
  {
   "cell_type": "code",
   "execution_count": null,
   "metadata": {},
   "outputs": [],
   "source": []
  },
  {
   "cell_type": "code",
   "execution_count": null,
   "metadata": {},
   "outputs": [],
   "source": []
  },
  {
   "cell_type": "markdown",
   "metadata": {},
   "source": [
    "---\n",
    "<a id='res'></a>"
   ]
  },
  {
   "cell_type": "markdown",
   "metadata": {},
   "source": [
    "# Resources\n",
    "\n",
    "- [Statistics by Jim](https://statisticsbyjim.com/)\n",
    "- [onlinemathlearning.com](https://www.onlinemathlearning.com)"
   ]
  },
  {
   "cell_type": "code",
   "execution_count": null,
   "metadata": {},
   "outputs": [],
   "source": []
  }
 ],
 "metadata": {
  "kernelspec": {
   "display_name": "Python 3",
   "language": "python",
   "name": "python3"
  },
  "language_info": {
   "codemirror_mode": {
    "name": "ipython",
    "version": 3
   },
   "file_extension": ".py",
   "mimetype": "text/x-python",
   "name": "python",
   "nbconvert_exporter": "python",
   "pygments_lexer": "ipython3",
   "version": "3.7.1"
  }
 },
 "nbformat": 4,
 "nbformat_minor": 4
}

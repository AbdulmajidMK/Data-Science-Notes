{
 "cells": [
  {
   "cell_type": "markdown",
   "metadata": {},
   "source": [
    "# Bottom-Up Hierarchical Clustering\n",
    "\n",
    "An alternative approach to clustering is to “grow” clusters from the bottom up. We can do this in the following way:\n",
    "\n",
    "1. Make each input its own cluster of one.\n",
    "2. As long as there are multiple clusters remaining, find the two closest clusters and merge them.\n",
    "\n",
    "At the end, we’ll have one giant cluster containing all the inputs. If we keep track of the merge order, we can recreate any number of clusters by unmerging. For example, if we want three clusters, we can just undo the last two merges."
   ]
  },
  {
   "cell_type": "code",
   "execution_count": 33,
   "metadata": {},
   "outputs": [],
   "source": [
    "from typing import NamedTuple, Union\n",
    "from scratch.linear_algebra import Vector, List\n",
    "\n",
    "class Leaf(NamedTuple):\n",
    "    value: Vector"
   ]
  },
  {
   "cell_type": "code",
   "execution_count": 34,
   "metadata": {},
   "outputs": [],
   "source": [
    "class Merged(NamedTuple):\n",
    "    children: tuple\n",
    "    order: int"
   ]
  },
  {
   "cell_type": "code",
   "execution_count": 38,
   "metadata": {},
   "outputs": [],
   "source": [
    "leaf1 = ([10, 20],) # to make a 1-tuple you need the trailing comma\n",
    "leaf2 = ([30, -15],) # otherwise Python treats the parentheses as parentheses\n",
    "\n",
    "merged = (1, [leaf1, leaf2])\n",
    "\n",
    "def is_leaf(cluster):\n",
    "    \"\"\"\n",
    "    a cluster is a leaf if it has length 1\n",
    "    \"\"\" \n",
    "    return len(cluster) == 1\n",
    "\n",
    "def get_children(cluster):\n",
    "    \"\"\"\n",
    "    returns the two children of this cluster if it's a merged cluster; \n",
    "    raises an exception if this is a leaf cluster\n",
    "    \"\"\"\n",
    "    if is_leaf(cluster):\n",
    "        raise TypeError(\"a leaf cluster has no children\") \n",
    "    else:\n",
    "        return cluster[1]\n",
    "\n",
    "def get_values(cluster):\n",
    "    \"\"\"\n",
    "    returns the value in this cluster (if it's a leaf cluster) \n",
    "    or all the values in the leaf clusters below it (if it's not)\n",
    "    \"\"\" \n",
    "    if is_leaf(cluster):\n",
    "        return cluster # is already a 1-tuple containing value else:\n",
    "    return [value for child in get_children(cluster) for value in get_values(child)]"
   ]
  },
  {
   "cell_type": "code",
   "execution_count": 37,
   "metadata": {},
   "outputs": [
    {
     "data": {
      "text/plain": [
       "[[10, 20], [30, -15]]"
      ]
     },
     "execution_count": 37,
     "metadata": {},
     "output_type": "execute_result"
    }
   ],
   "source": [
    "assert get_values(merged) == [[10, 20], [30, -15]]\n",
    "get_values(merged)"
   ]
  },
  {
   "cell_type": "markdown",
   "metadata": {},
   "source": [
    "In order to merge the closest clusters, `we need some notion of the distance between clusters`. We’ll use the `minimum distance` between elements of the two clusters, which merges the two clusters that are closest to touching (but will sometimes produce large chain-like clusters that aren’t very tight). If we wanted tight spherical clusters, we might use the `maximum distance` instead, as it merges the two clusters that fit in the smallest ball. Both are common choices, as is the `average distance`:"
   ]
  },
  {
   "cell_type": "code",
   "execution_count": 39,
   "metadata": {},
   "outputs": [],
   "source": [
    "def cluster_distance(cluster1, cluster2, distance_agg=min):\n",
    "    \"\"\"\n",
    "    compute all the pairwise distances between cluster1 and cluster2 \n",
    "    and apply _distance_agg_ to the resulting list\n",
    "    \"\"\"\n",
    "    return distance_agg([distance(input1, input2) \n",
    "                         for input1 in get_values(cluster1) \n",
    "                         for input2 in get_values(cluster2)])"
   ]
  },
  {
   "cell_type": "markdown",
   "metadata": {},
   "source": [
    "We’ll use the `merge order slot` to track the order in which we did the merging. Smaller numbers will represent later merges. This means when we want to unmerge clusters, we do so from lowest merge order to highest. Since leaf clusters were never merged (which means we never want to unmerge them), we’ll assign them infinity:"
   ]
  },
  {
   "cell_type": "code",
   "execution_count": 40,
   "metadata": {},
   "outputs": [],
   "source": [
    "def get_merge_order(cluster): \n",
    "    if is_leaf(cluster):\n",
    "        return float('inf') \n",
    "    else:\n",
    "        return cluster[0] # merge_order is first element of 2-tuple"
   ]
  },
  {
   "cell_type": "code",
   "execution_count": 45,
   "metadata": {},
   "outputs": [
    {
     "ename": "SyntaxError",
     "evalue": "invalid syntax (<ipython-input-45-281f96509c08>, line 11)",
     "output_type": "error",
     "traceback": [
      "\u001b[0;36m  File \u001b[0;32m\"<ipython-input-45-281f96509c08>\"\u001b[0;36m, line \u001b[0;32m11\u001b[0m\n\u001b[0;31m    key=lambda (x, y): cluster_distance(x, y, distance_agg))\u001b[0m\n\u001b[0m               ^\u001b[0m\n\u001b[0;31mSyntaxError\u001b[0m\u001b[0;31m:\u001b[0m invalid syntax\n"
     ]
    }
   ],
   "source": [
    "def bottom_up_cluster(inputs, distance_agg=min):\n",
    "    \n",
    "    # start with every input a leaf cluster / 1-tuple clusters = [(input,) for input in inputs]\n",
    "    # as long as we have more than one cluster left...\n",
    "    while len(clusters) > 1:\n",
    "        \n",
    "        # find the two closest clusters \n",
    "        c1, c2 = min([(cluster1, cluster2) \n",
    "                      for i, cluster1 in enumerate(clusters) \n",
    "                      for cluster2 in clusters[:i]], \n",
    "                     key=lambda (x, y): cluster_distance(x, y, distance_agg))\n",
    "            \n",
    "        # remove them from the list of clusters\n",
    "        clusters=[cforcinclustersifc!=c1andc!=c2] \n",
    "        \n",
    "        # merge them, using merge_order = # of clusters left\n",
    "        merged_cluster = (len(clusters), [c1, c2]) \n",
    "        \n",
    "        # and add their merge\n",
    "        clusters.append(merged_cluster)\n",
    "        \n",
    "    # when there's only one cluster left, return it\n",
    "    return clusters[0]"
   ]
  },
  {
   "cell_type": "code",
   "execution_count": null,
   "metadata": {},
   "outputs": [],
   "source": [
    "base_cluster = bottom_up_cluster(inputs)"
   ]
  },
  {
   "cell_type": "code",
   "execution_count": 70,
   "metadata": {},
   "outputs": [],
   "source": [
    "from typing import NamedTuple, Union\n",
    "\n",
    "class Leaf(NamedTuple):\n",
    "    value: Vector\n",
    "\n",
    "leaf1 = Leaf([10,  20])\n",
    "leaf2 = Leaf([30, -15])\n",
    "\n",
    "class Merged(NamedTuple):\n",
    "    children: tuple\n",
    "    order: int\n",
    "\n",
    "merged = Merged((leaf1, leaf2), order=1)\n",
    "\n",
    "Cluster = Union[Leaf, Merged]\n",
    "\n",
    "def get_values(cluster: Cluster) -> List[Vector]:\n",
    "    if isinstance(cluster, Leaf):\n",
    "        return [cluster.value]\n",
    "    else:\n",
    "        return [value\n",
    "                for child in cluster.children\n",
    "                for value in get_values(child)]\n",
    "\n",
    "assert get_values(merged) == [[10, 20], [30, -15]]\n",
    "\n",
    "from typing import Callable\n",
    "from scratch.linear_algebra import distance\n",
    "\n",
    "def cluster_distance(cluster1: Cluster,\n",
    "                     cluster2: Cluster,\n",
    "                     distance_agg: Callable = min) -> float:\n",
    "    \"\"\"\n",
    "    compute all the pairwise distances between cluster1 and cluster2\n",
    "    and apply the aggregation function _distance_agg_ to the resulting list\n",
    "    \"\"\"\n",
    "    return distance_agg([distance(v1, v2)\n",
    "                         for v1 in get_values(cluster1)\n",
    "                         for v2 in get_values(cluster2)])\n",
    "\n",
    "def get_merge_order(cluster: Cluster) -> float:\n",
    "    if isinstance(cluster, Leaf):\n",
    "        return float('inf')  # was never merged\n",
    "    else:\n",
    "        return cluster.order\n",
    "\n",
    "from typing import Tuple\n",
    "\n",
    "def get_children(cluster: Cluster):\n",
    "    if isinstance(cluster, Leaf):\n",
    "        raise TypeError(\"Leaf has no children\")\n",
    "    else:\n",
    "        return cluster.children\n",
    "\n",
    "def bottom_up_cluster(inputs: List[Vector],\n",
    "                      distance_agg: Callable = min) -> Cluster:\n",
    "    # Start with all leaves\n",
    "    clusters: List[Cluster] = [Leaf(input) for input in inputs]\n",
    "\n",
    "    def pair_distance(pair: Tuple[Cluster, Cluster]) -> float:\n",
    "        return cluster_distance(pair[0], pair[1], distance_agg)\n",
    "\n",
    "    # as long as we have more than one cluster left...\n",
    "    while len(clusters) > 1:\n",
    "        # find the two closest clusters\n",
    "        c1, c2 = min(((cluster1, cluster2)\n",
    "                      for i, cluster1 in enumerate(clusters)\n",
    "                      for cluster2 in clusters[:i]),\n",
    "                      key=pair_distance)\n",
    "\n",
    "        # remove them from the list of clusters\n",
    "        clusters = [c for c in clusters if c != c1 and c != c2]\n",
    "\n",
    "        # merge them, using merge_order = # of clusters left\n",
    "        merged_cluster = Merged((c1, c2), order=len(clusters))\n",
    "\n",
    "        # and add their merge\n",
    "        clusters.append(merged_cluster)\n",
    "\n",
    "    # when there's only one cluster left, return it\n",
    "    return clusters[0]\n",
    "\n",
    "def generate_clusters(base_cluster: Cluster,\n",
    "                      num_clusters: int) -> List[Cluster]:\n",
    "    # start with a list with just the base cluster\n",
    "    clusters = [base_cluster]\n",
    "\n",
    "    # as long as we don't have enough clusters yet...\n",
    "    while len(clusters) < num_clusters:\n",
    "        # choose the last-merged of our clusters\n",
    "        next_cluster = min(clusters, key=get_merge_order)\n",
    "        # remove it from the list\n",
    "        clusters = [c for c in clusters if c != next_cluster]\n",
    "\n",
    "        # and add its children to the list (i.e., unmerge it)\n",
    "        clusters.extend(get_children(next_cluster))\n",
    "\n",
    "    # once we have enough clusters...\n",
    "    return clusters"
   ]
  },
  {
   "cell_type": "code",
   "execution_count": 71,
   "metadata": {},
   "outputs": [],
   "source": [
    "# Small number of points for learning how algorythm works\n",
    "inputs1: List[List[float]] = [[-14,-5],\n",
    "                             [-13,-6],\n",
    "                             [5,6], [7,8]]"
   ]
  },
  {
   "cell_type": "code",
   "execution_count": 72,
   "metadata": {},
   "outputs": [
    {
     "data": {
      "text/plain": [
       "Merged(children=(Merged(children=(Leaf(value=[7, 8]), Leaf(value=[5, 6])), order=1), Merged(children=(Leaf(value=[-13, -6]), Leaf(value=[-14, -5])), order=2)), order=0)"
      ]
     },
     "execution_count": 72,
     "metadata": {},
     "output_type": "execute_result"
    }
   ],
   "source": [
    "base_cluster = bottom_up_cluster(inputs1)\n",
    "base_cluster"
   ]
  },
  {
   "cell_type": "code",
   "execution_count": 73,
   "metadata": {},
   "outputs": [],
   "source": [
    "three_clusters = [get_values(cluster) \n",
    "                  for cluster in generate_clusters(base_cluster, 3)]"
   ]
  },
  {
   "cell_type": "code",
   "execution_count": 74,
   "metadata": {},
   "outputs": [
    {
     "data": {
      "image/png": "[encoded data removed]",
      "text/plain": [
       "<Figure size 432x288 with 1 Axes>"
      ]
     },
     "metadata": {
      "needs_background": "light"
     },
     "output_type": "display_data"
    }
   ],
   "source": [
    "import matplotlib.pyplot as plt\n",
    "%matplotlib inline\n",
    "from scratch.linear_algebra import vector_mean\n",
    "\n",
    "for i, cluster, marker, color in zip([1, 2, 3],\n",
    "                                     three_clusters,\n",
    "                                     ['D','o','*'],\n",
    "                                     ['r','g','b']):\n",
    "    xs, ys = zip(*cluster)  # magic unzipping trick\n",
    "    plt.scatter(xs, ys, color=color, marker=marker)\n",
    "\n",
    "    # put a number at the mean of the cluster\n",
    "    x, y = vector_mean(cluster)\n",
    "    plt.plot(x, y, marker='$' + str(i) + '$', color='black')\n",
    "\n",
    "plt.title(\"User Locations -- 3 Bottom-Up Clusters, Min\")\n",
    "plt.xlabel(\"blocks east of city center\")\n",
    "plt.ylabel(\"blocks north of city center\")\n",
    "plt.savefig('images/clustering4.png')\n",
    "plt.show()"
   ]
  },
  {
   "cell_type": "code",
   "execution_count": 75,
   "metadata": {},
   "outputs": [],
   "source": [
    "inputs2: List[List[float]] = [[-14,-5],[13,13],[20,23],\n",
    "                             [-19,-11],[-9,-16],[21,27],[-49,15],[26,13],[-46,5],\n",
    "                             [-34,-1],[11,15],[-49,0],[-22,-16],[19,28],[-12,-8],\n",
    "                             [-13,-19],[-41,8],[-11,-6],[-25,-9],[-18,-3]]\n",
    "    \n",
    "base_cluster = bottom_up_cluster(inputs2)\n",
    "three_clusters = [get_values(cluster) \n",
    "                  for cluster in generate_clusters(base_cluster, 3)]"
   ]
  },
  {
   "cell_type": "code",
   "execution_count": 76,
   "metadata": {},
   "outputs": [
    {
     "data": {
      "image/png": "[encoded data removed]",
      "text/plain": [
       "<Figure size 432x288 with 1 Axes>"
      ]
     },
     "metadata": {
      "needs_background": "light"
     },
     "output_type": "display_data"
    }
   ],
   "source": [
    "for i, cluster, marker, color in zip([1, 2, 3],\n",
    "                                     three_clusters,\n",
    "                                     ['D','o','*'],\n",
    "                                     ['r','g','b']):\n",
    "    xs, ys = zip(*cluster)  # magic unzipping trick\n",
    "    plt.scatter(xs, ys, color=color, marker=marker)\n",
    "\n",
    "    # put a number at the mean of the cluster\n",
    "    x, y = vector_mean(cluster)\n",
    "    plt.plot(x, y, marker='$' + str(i) + '$', color='black')\n",
    "\n",
    "plt.title(\"User Locations -- 3 Bottom-Up Clusters, Min\")\n",
    "plt.xlabel(\"blocks east of city center\")\n",
    "plt.ylabel(\"blocks north of city center\")\n",
    "plt.savefig('images/clustering4.png')\n",
    "plt.show()"
   ]
  },
  {
   "cell_type": "markdown",
   "metadata": {},
   "source": [
    "This gives very different results than k-means did. This is because using `min` in `cluster_distance` tends to give chain-like clusters. If we instead use `max` (which gives tight clusters) it looks the same as the 3-means result:"
   ]
  },
  {
   "cell_type": "code",
   "execution_count": 78,
   "metadata": {},
   "outputs": [],
   "source": [
    "base_cluster = bottom_up_cluster(inputs2, max)\n",
    "three_clusters = [get_values(cluster) \n",
    "                  for cluster in generate_clusters(base_cluster, 3)]"
   ]
  },
  {
   "cell_type": "code",
   "execution_count": 79,
   "metadata": {},
   "outputs": [
    {
     "data": {
      "image/png": "[encoded data removed]",
      "text/plain": [
       "<Figure size 432x288 with 1 Axes>"
      ]
     },
     "metadata": {
      "needs_background": "light"
     },
     "output_type": "display_data"
    }
   ],
   "source": [
    "for i, cluster, marker, color in zip([1, 2, 3],\n",
    "                                     three_clusters,\n",
    "                                     ['D','o','*'],\n",
    "                                     ['r','g','b']):\n",
    "    xs, ys = zip(*cluster)  # magic unzipping trick\n",
    "    plt.scatter(xs, ys, color=color, marker=marker)\n",
    "\n",
    "    # put a number at the mean of the cluster\n",
    "    x, y = vector_mean(cluster)\n",
    "    plt.plot(x, y, marker='$' + str(i) + '$', color='black')\n",
    "\n",
    "plt.title(\"User Locations -- 3 Bottom-Up Clusters, Min\")\n",
    "plt.xlabel(\"blocks east of city center\")\n",
    "plt.ylabel(\"blocks north of city center\")\n",
    "plt.savefig('images/clustering5.png')\n",
    "plt.show()"
   ]
  }
 ],
 "metadata": {
  "kernelspec": {
   "display_name": "Python 3",
   "language": "python",
   "name": "python3"
  },
  "language_info": {
   "codemirror_mode": {
    "name": "ipython",
    "version": 3
   },
   "file_extension": ".py",
   "mimetype": "text/x-python",
   "name": "python",
   "nbconvert_exporter": "python",
   "pygments_lexer": "ipython3",
   "version": "3.7.1"
  }
 },
 "nbformat": 4,
 "nbformat_minor": 2
}

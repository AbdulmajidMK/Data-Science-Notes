{
 "cells": [
  {
   "cell_type": "code",
   "execution_count": null,
   "metadata": {},
   "outputs": [],
   "source": []
  },
  {
   "cell_type": "markdown",
   "metadata": {},
   "source": [
    "# Statistics"
   ]
  },
  {
   "cell_type": "markdown",
   "metadata": {},
   "source": [
    "## TODO:\n",
    "\n",
    "- !!! http://greenteapress.com/thinkstats/\n",
    "\n",
    "- https://github.com/HeinrichHartmann/Statistics-for-Engineers\n",
    "- Visualizing distributions: http://seaborn.pydata.org/tutorial/distributions.html\n",
    "- Plotly: Basic Statistics in Python: https://plot.ly/python/basic-statistics/#visualize-the-statistics"
   ]
  },
  {
   "cell_type": "code",
   "execution_count": null,
   "metadata": {},
   "outputs": [],
   "source": []
  },
  {
   "cell_type": "markdown",
   "metadata": {},
   "source": [
    "## Hypothesis Testing\n",
    "\n",
    "Hypothesis tests are statistical tests that are used to determine whether there is enough evidence in a sample of data to infer that a particular condition is true for the entire population.\n",
    "\n",
    "The two central concepts of these tests are the null hypothesis and the alternative hypothesis, but also the p-value is fundamental to hypothesis testing. These things are very hard to understand when you’re new to the field, and it will require some effort to grasp the alpha value or significance level for your p-value and what makes the difference between rejecting or failing to reject the null hypothesis.\n",
    "\n",
    "- https://docs.scipy.org/doc/scipy/reference/tutorial/stats.html\n",
    "- http://scipy-lectures.org/packages/statistics/index.html#hypothesis-testing-comparing-two-groups\n",
    "- http://hamelg.blogspot.com/2015/11/python-for-data-analysis-part-24.html"
   ]
  },
  {
   "cell_type": "markdown",
   "metadata": {},
   "source": [
    "## Statistical Modeling And Fitting in Python\n",
    "\n",
    "Now that you've gotten the hang of hypothesis testing and distributions, you can first review or go deeper into how you can make statistical models and fit distributions to data.\n",
    "\n",
    "Statistical models approximate that what generates your data and can be used in data analysis to summarize data, to predict, and to simulate. In other words, it’s a representation of complex phenomena that generated the data, and that can be used for summaries, predictions or simulations.\n",
    "\n",
    "This, however, entails that you also need to be able to find out whether your data fits that model.\n",
    "\n",
    "To provide the best fit between the model and the data estimation can be used. Estimation is concerned with making inferences about a population, based on information obtained from a sample. Next to hypothesis testing, it’s a way of learning something about the population from the sample.\n",
    "\n",
    "- https://github.com/fonnesbeck/statistical-analysis-python-tutorial\n",
    "- https://www.youtube.com/watch?v=DXPwSiRTxYY&feature=youtu.be\n",
    "- https://nbviewer.jupyter.org/github/rasbt/pattern_classification/blob/master/parameter_estimation_techniques/maximum_likelihood_estimate.ipynb\n",
    "- https://nbviewer.jupyter.org/github/rasbt/pattern_classification/blob/master/parameter_estimation_techniques/max_likelihood_est_distributions.ipynb"
   ]
  },
  {
   "cell_type": "code",
   "execution_count": null,
   "metadata": {},
   "outputs": [],
   "source": []
  },
  {
   "cell_type": "code",
   "execution_count": null,
   "metadata": {},
   "outputs": [],
   "source": []
  }
 ],
 "metadata": {
  "kernelspec": {
   "display_name": "Python 3",
   "language": "python",
   "name": "python3"
  },
  "language_info": {
   "codemirror_mode": {
    "name": "ipython",
    "version": 3
   },
   "file_extension": ".py",
   "mimetype": "text/x-python",
   "name": "python",
   "nbconvert_exporter": "python",
   "pygments_lexer": "ipython3",
   "version": "3.7.1"
  }
 },
 "nbformat": 4,
 "nbformat_minor": 2
}

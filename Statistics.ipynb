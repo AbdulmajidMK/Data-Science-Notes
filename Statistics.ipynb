{
 "cells": [
  {
   "cell_type": "code",
   "execution_count": null,
   "metadata": {},
   "outputs": [],
   "source": []
  },
  {
   "cell_type": "markdown",
   "metadata": {},
   "source": [
    "# Statistics"
   ]
  },
  {
   "cell_type": "markdown",
   "metadata": {},
   "source": [
    "## TODO:\n",
    "\n",
    "- !!! http://greenteapress.com/thinkstats/\n",
    "- !!! Computational statistics with Python: https://people.duke.edu/~ccc14/sta-663/\n",
    "\n",
    "- Statistical-Inference-for-Everyone: https://github.com/bblais/Statistical-Inference-for-Everyone\n",
    "- Bootstrap Confidence Intervals and Permutation Hypothesis Testing: https://codingdisciple.com/bootstrap-hypothesis-testing.html\n",
    "- The Statistical Bootstrap and Other Resampling Methods: https://www.burns-stat.com/documents/tutorials/the-statistical-bootstrap-and-other-resampling-methods-2/\n",
    "\n",
    "- Introduction to statistics: https://github.com/rouseguy/intro2stats\n",
    "- Statistical data analysis in Python: https://www.youtube.com/watch?v=DXPwSiRTxYY&feature=youtu.be\n",
    "\n",
    "- https://github.com/HeinrichHartmann/Statistics-for-Engineers\n",
    "- Visualizing distributions: http://seaborn.pydata.org/tutorial/distributions.html\n",
    "- Plotly: Basic Statistics in Python: https://plot.ly/python/basic-statistics/#visualize-the-statistics\n",
    "\n",
    "- regression analysis using the StatsModels package with Quandl: http://www.turingfinance.com/regression-analysis-using-python-statsmodels-and-quandl/\n",
    "\n",
    "- linear regression tutorial: http://connor-johnson.com/2014/02/18/linear-regression-with-python/\n",
    "\n",
    "- ridge and lasso regression in Python: https://www.analyticsvidhya.com/blog/2016/01/complete-tutorial-ridge-lasso-regression-python/\n",
    "\n",
    "- logistic regression: https://nbviewer.jupyter.org/github/tfolkman/learningwithdata/blob/master/Logistic%20Gradient%20Descent.ipynb\n",
    "\n",
    "- 6 Easy Steps to Learn Naive Bayes Algorithm (with codes in Python and R): https://www.analyticsvidhya.com/blog/2017/09/naive-bayes-explained/"
   ]
  },
  {
   "cell_type": "markdown",
   "metadata": {},
   "source": [
    "# Computational Statistics\n",
    "\n",
    "- Computational Statistics in Python: \n",
    "    - http://people.duke.edu/~ccc14/cspy/index.html#\n",
    "    - http://people.duke.edu/~ccc14/sta-663-2017/\n",
    "- http://www.mpia.de/~calj/compstat_ss2015/main.html\n",
    "- https://www.amazon.com/Computational-Statistics-Computing-James-Gentle/dp/0387981438/\n",
    "- https://github.com/AllenDowney/CompStats\n",
    "- https://github.com/cliburn/Computational-statistics-with-Python\n",
    "- https://www.youtube.com/watch?v=VR52vSbHBAk&feature=youtu.be\n",
    "- http://ptweir.github.io/pyresampling/\n",
    "\n",
    "- zob. ebooks in downloads\n",
    "\n",
    "- Probabilistic Programming & Bayesian Methods for Hackers: http://camdavidsonpilon.github.io/Probabilistic-Programming-and-Bayesian-Methods-for-Hackers/"
   ]
  },
  {
   "cell_type": "markdown",
   "metadata": {},
   "source": [
    "## Hypothesis Testing\n",
    "\n",
    "Hypothesis tests are statistical tests that are used to determine whether there is enough evidence in a sample of data to infer that a particular condition is true for the entire population.\n",
    "\n",
    "The two central concepts of these tests are the null hypothesis and the alternative hypothesis, but also the p-value is fundamental to hypothesis testing. These things are very hard to understand when you’re new to the field, and it will require some effort to grasp the alpha value or significance level for your p-value and what makes the difference between rejecting or failing to reject the null hypothesis.\n",
    "\n",
    "- https://docs.scipy.org/doc/scipy/reference/tutorial/stats.html\n",
    "- http://scipy-lectures.org/packages/statistics/index.html#hypothesis-testing-comparing-two-groups\n",
    "- http://hamelg.blogspot.com/2015/11/python-for-data-analysis-part-24.html\n",
    "\n",
    "- https://github.com/bblais/Statistical-Inference-for-Everyone\n",
    "- https://www.inferentialthinking.com/chapters/01/1/intro.html\n",
    "\n",
    "Probability distributions\n",
    "- https://bigdata-madesimple.com/how-to-implement-these-5-powerful-probability-distributions-in-python/\n",
    "- https://www.datacamp.com/community/tutorials/probability-distributions-python\n",
    "- http://www.dannowitz.co/blog/2015/10/26/distribution-fitting-defining-the-underlying-truth"
   ]
  },
  {
   "cell_type": "markdown",
   "metadata": {},
   "source": [
    "## Statistical Modeling And Fitting in Python\n",
    "\n",
    "Now that you've gotten the hang of hypothesis testing and distributions, you can first review or go deeper into how you can make statistical models and fit distributions to data.\n",
    "\n",
    "Statistical models approximate that what generates your data and can be used in data analysis to summarize data, to predict, and to simulate. In other words, it’s a representation of complex phenomena that generated the data, and that can be used for summaries, predictions or simulations.\n",
    "\n",
    "This, however, entails that you also need to be able to find out whether your data fits that model.\n",
    "\n",
    "To provide the best fit between the model and the data estimation can be used. Estimation is concerned with making inferences about a population, based on information obtained from a sample. Next to hypothesis testing, it’s a way of learning something about the population from the sample.\n",
    "\n",
    "- https://github.com/fonnesbeck/statistical-analysis-python-tutorial\n",
    "- https://www.youtube.com/watch?v=DXPwSiRTxYY&feature=youtu.be\n",
    "- https://nbviewer.jupyter.org/github/rasbt/pattern_classification/blob/master/parameter_estimation_techniques/maximum_likelihood_estimate.ipynb\n",
    "- https://nbviewer.jupyter.org/github/rasbt/pattern_classification/blob/master/parameter_estimation_techniques/max_likelihood_est_distributions.ipynb\n",
    "\n",
    "- https://machinelearningmastery.com/how-to-code-the-students-t-test-from-scratch-in-python/\n",
    "- https://machinelearningmastery.com/statistical-hypothesis-tests-in-python-cheat-sheet/\n",
    "\n",
    "normality test: https://machinelearningmastery.com/a-gentle-introduction-to-normality-tests-in-python/"
   ]
  },
  {
   "cell_type": "markdown",
   "metadata": {},
   "source": [
    "## Bayesian Statistics\n",
    "\n",
    "Bayesian statistics is a theory that expresses the evidence about the true state of the world in terms of degrees of belief known as Bayesian probabilities. Sometimes, you will want to take a Bayesian approach to data science problems.\n",
    "\n",
    "- https://nbviewer.jupyter.org/github/tfolkman/learningwithdata/blob/master/Bayes_Primer.ipynb\n",
    "- https://github.com/jakevdp/ESAC-stats-2014/tree/master/notebooks\n",
    "- Tutorial: Bayesian Statistical Analysis in Python: https://github.com/fonnesbeck/scipy2014_tutorial\n",
    "    - https://www.youtube.com/watch?v=vOBB_ycQ0RA&feature=youtu.be\n",
    "- https://pyvideo.org/scipy-2014/pymc-markov-chain-monte-carlo-in-python.html\n",
    "- https://www.quantstart.com/articles/Bayesian-Linear-Regression-Models-with-PyMC3\n",
    "- http://jakevdp.github.io/blog/2014/03/11/frequentism-and-bayesianism-a-practical-intro/\n",
    "- https://www.amazon.com/gp/product/1449370780/\n",
    "- Probabilistic-Programming-and-Bayesian-Methods-for-Hackers: https://github.com/CamDavidsonPilon/Probabilistic-Programming-and-Bayesian-Methods-for-Hackers"
   ]
  },
  {
   "cell_type": "markdown",
   "metadata": {},
   "source": [
    "## Markov Chains\n",
    "\n",
    "Simply stated, Markov chains are mathematical systems that hop from one \"state\" to another. These states can be a situation or set of values. That means that you have a list of states available and, on top of that, a Markov chain tells you the probability of hopping, or \"transitioning,\" from one state to any other state.\n",
    "\n",
    "- https://www.youtube.com/watch?v=VR52vSbHBAk&feature=youtu.be\n",
    "- https://people.duke.edu/~ccc14/sta-663/MCMC.html"
   ]
  },
  {
   "cell_type": "markdown",
   "metadata": {},
   "source": [
    "Interesting series of movies and blog posts by Cassie Kozyrkov (Google):\n",
    "\n",
    "- [Statistics Savvy Self-Test](https://hackernoon.com/statistics-savvy-self-test-25c2ef4cf73f)\n",
    "- [Incompetence, delegation, and population](https://hackernoon.com/incompetence-delegation-and-population-95ebeb9beb93)\n",
    "- [What on earth is data science?](https://hackernoon.com/what-on-earth-is-data-science-eb1237d8cb37)\n",
    "- [The simplest explanation of machine learning you’ll ever read](https://hackernoon.com/the-simplest-explanation-of-machine-learning-youll-ever-read-bebc0700047c)\n",
    "- [Machine learning — Is the emperor wearing clothes?](https://hackernoon.com/machine-learning-is-the-emperor-wearing-clothes-59933d12a3cc)\n",
    "- [Advice for finding AI use cases](https://hackernoon.com/imagine-a-drunk-island-advice-for-finding-ai-use-cases-8d47495d4c3f)\n",
    "- [Is data science a bubble?](https://hackernoon.com/is-data-science-a-bubble-c70ceac0f264)\n",
    "- "
   ]
  }
 ],
 "metadata": {
  "kernelspec": {
   "display_name": "Python 3",
   "language": "python",
   "name": "python3"
  },
  "language_info": {
   "codemirror_mode": {
    "name": "ipython",
    "version": 3
   },
   "file_extension": ".py",
   "mimetype": "text/x-python",
   "name": "python",
   "nbconvert_exporter": "python",
   "pygments_lexer": "ipython3",
   "version": "3.7.1"
  }
 },
 "nbformat": 4,
 "nbformat_minor": 2
}

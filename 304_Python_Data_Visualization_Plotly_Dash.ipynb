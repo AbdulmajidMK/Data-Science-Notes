{
 "cells": [
  {
   "cell_type": "markdown",
   "metadata": {},
   "source": [
    "From: https://github.com/ksatola\n",
    "Version: 0.0.1"
   ]
  },
  {
   "cell_type": "markdown",
   "metadata": {},
   "source": [
    "# Python Visualization Dashboards with Plotly's Dash"
   ]
  },
  {
   "cell_type": "markdown",
   "metadata": {},
   "source": [
    "## Table of Contents\n",
    "\n",
    "- [Introduction](#intro)\n",
    "- [Environment Setup](#set)\n",
    "- [Data Visualization libraries for Python](#libs)\n",
    "- [Numpy Crash Course](#np)\n",
    "- [Resources](#res)\n"
   ]
  },
  {
   "cell_type": "markdown",
   "metadata": {},
   "source": [
    "---\n",
    "<a id='intro'></a>"
   ]
  },
  {
   "cell_type": "markdown",
   "metadata": {},
   "source": [
    "## Introduction\n",
    "\n",
    "This notebook will teach your everything you need to know to use Python to create interactive dashboard's with Plotly's new Dash library! You will be able to create fully customization, interactive dashboards with the open source libraries of Plotly and Dash.\n",
    "\n",
    "Contents:\n",
    "- Learn about Plotly to create plots like Bar Charts, Line Charts, Scatter Plots, Heat Maps, and more!\n",
    "- Create Layouts with Plotly's Dash library.\n",
    "- Use Dash to create interactive components with Plotly.\n",
    "- Learn how to connect multiple inputs and outputs with a dashboard.\n",
    "- Update live interactive graphs with clicks, hover overs, and more.\n",
    "- Connect the interactive dashboard to live updating data for streaming information.\n",
    "- Learn how to secure your interactive dashboards with App Authorization.\n",
    "- Deploy your interactive dashboards to the internet with services like Heroku."
   ]
  },
  {
   "cell_type": "markdown",
   "metadata": {},
   "source": [
    "---\n",
    "<a id='set'></a>"
   ]
  },
  {
   "cell_type": "markdown",
   "metadata": {},
   "source": [
    "## Environment Setup\n",
    "- Install Python interpreter\n",
    "- [Install Atom IDE](https://atom.io/)\n",
    "- Install Atom's packages:\n",
    "    - autocomplete-python package + kite ML package\n",
    "    - platformio-ide-terminal / atom-terminal\n",
    "- Configure Python virtual environment"
   ]
  },
  {
   "cell_type": "raw",
   "metadata": {},
   "source": [
    "# Configuring Python virtual environment\n",
    "$ cd DashCourse/\n",
    "$ pip install virtualenv\n",
    "$ virtualenv dashenv\n",
    "bash -> $ source dashenv/bin/activate\n",
    "fish -> $ source dashenv/bin/activate.fish\n",
    "# $ deactivate\n",
    "$ pip install -r requirements.txt"
   ]
  },
  {
   "cell_type": "markdown",
   "metadata": {},
   "source": [
    "---\n",
    "<a id='libs'></a>"
   ]
  },
  {
   "cell_type": "markdown",
   "metadata": {},
   "source": [
    "## Data Visualization libraries for Python\n",
    "\n",
    "- **Matplotlib** for static image files.\n",
    "- **Seaborn**, based on Matplotlib, designed to show static statistics plots, have cleaner syntax but only plots described in its documnetation are available.\n",
    "- **Pandas**, main purpose is data analysis but uses simple .plot() calls (based on Matplotlib), limited scope of plot types, static plots.\n",
    "- **Plotly** \n",
    "    - An open source general data visualization library focused on interactive visualizations. It has libraries for JavaScript, React, R and Python. \n",
    "    - The plots themselves cannot be connected to dynamic data sources (they are HTML files containing data visualization as of publishing). For that, they need **Dash**.\n",
    "- **Dash** \n",
    "    - Allows you to create a full dashboard with multiple components, interactivity, and mutliple plots.\n",
    "    - Produce a web application dashboard."
   ]
  },
  {
   "cell_type": "markdown",
   "metadata": {},
   "source": [
    "---\n",
    "<a id='np'></a>"
   ]
  },
  {
   "cell_type": "markdown",
   "metadata": {},
   "source": [
    "## Numpy Crash Course\n",
    "\n",
    "NumPy is a scientific computing and mathematical library."
   ]
  },
  {
   "cell_type": "code",
   "execution_count": null,
   "metadata": {},
   "outputs": [],
   "source": []
  },
  {
   "cell_type": "code",
   "execution_count": null,
   "metadata": {},
   "outputs": [],
   "source": []
  },
  {
   "cell_type": "code",
   "execution_count": null,
   "metadata": {},
   "outputs": [],
   "source": []
  },
  {
   "cell_type": "code",
   "execution_count": null,
   "metadata": {},
   "outputs": [],
   "source": []
  },
  {
   "cell_type": "code",
   "execution_count": null,
   "metadata": {},
   "outputs": [],
   "source": []
  },
  {
   "cell_type": "code",
   "execution_count": null,
   "metadata": {},
   "outputs": [],
   "source": []
  },
  {
   "cell_type": "code",
   "execution_count": null,
   "metadata": {},
   "outputs": [],
   "source": []
  },
  {
   "cell_type": "code",
   "execution_count": null,
   "metadata": {},
   "outputs": [],
   "source": []
  },
  {
   "cell_type": "code",
   "execution_count": null,
   "metadata": {},
   "outputs": [],
   "source": []
  },
  {
   "cell_type": "code",
   "execution_count": null,
   "metadata": {},
   "outputs": [],
   "source": []
  },
  {
   "cell_type": "code",
   "execution_count": null,
   "metadata": {},
   "outputs": [],
   "source": []
  },
  {
   "cell_type": "code",
   "execution_count": null,
   "metadata": {},
   "outputs": [],
   "source": []
  },
  {
   "cell_type": "code",
   "execution_count": null,
   "metadata": {},
   "outputs": [],
   "source": []
  },
  {
   "cell_type": "code",
   "execution_count": null,
   "metadata": {},
   "outputs": [],
   "source": []
  },
  {
   "cell_type": "code",
   "execution_count": null,
   "metadata": {},
   "outputs": [],
   "source": []
  },
  {
   "cell_type": "markdown",
   "metadata": {},
   "source": [
    "---\n",
    "<a id='res'></a>"
   ]
  },
  {
   "cell_type": "markdown",
   "metadata": {},
   "source": [
    "## Resources\n",
    "\n",
    "- [Course notes](https://github.com/Pierian-Data/Plotly-Dashboards-with-Dash)\n",
    "- [Guide book](https://docs.google.com/document/d/1DjWL2DxLiRaBrlD3ELyQlCBRu7UQuuWfgjv9LncNp_M/edit?usp=sharing)\n",
    "- [Public datasets](https://docs.google.com/document/d/1vI84_EpRTh4xfcFkTunFzZT0RWMcRSqdkPueVNBcLx8/edit)"
   ]
  },
  {
   "cell_type": "code",
   "execution_count": null,
   "metadata": {},
   "outputs": [],
   "source": [
    "<img src=\"images/data_science.png\" alt=\"\" style=\"width: 400px;\"/>"
   ]
  },
  {
   "cell_type": "code",
   "execution_count": null,
   "metadata": {},
   "outputs": [],
   "source": [
    "---\n",
    "<a id='intro'></a>"
   ]
  }
 ],
 "metadata": {
  "kernelspec": {
   "display_name": "Python 3",
   "language": "python",
   "name": "python3"
  },
  "language_info": {
   "codemirror_mode": {
    "name": "ipython",
    "version": 3
   },
   "file_extension": ".py",
   "mimetype": "text/x-python",
   "name": "python",
   "nbconvert_exporter": "python",
   "pygments_lexer": "ipython3",
   "version": "3.7.1"
  }
 },
 "nbformat": 4,
 "nbformat_minor": 4
}

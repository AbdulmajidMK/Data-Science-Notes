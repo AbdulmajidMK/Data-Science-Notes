{
 "cells": [
  {
   "cell_type": "markdown",
   "metadata": {},
   "source": [
    "# Forecasting\n",
    "\n",
    "Forecasting for Facebook\n",
    "- demand forecasting for long-term capacity planning\n",
    "- special events\n",
    "- anomaly detection\n",
    "\n",
    "Tools / Methodologies for forcasting\n",
    "- Prophet\n",
    "- ALM (Active Last Minute) forecasting\n",
    "- ARIMA\n",
    "- Holt winters\n",
    "- Multivariate time series models\n",
    "- Exponential smoothing\n",
    "- Machine Learning (Neural Networks)"
   ]
  }
 ],
 "metadata": {
  "kernelspec": {
   "display_name": "",
   "name": ""
  },
  "language_info": {
   "name": ""
  }
 },
 "nbformat": 4,
 "nbformat_minor": 4
}

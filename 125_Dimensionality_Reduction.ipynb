{
 "cells": [
  {
   "cell_type": "markdown",
   "metadata": {},
   "source": [
    "# Dimensionality Reduction"
   ]
  },
  {
   "cell_type": "markdown",
   "metadata": {},
   "source": [
    "## PCA - Principal Components Analysis"
   ]
  },
  {
   "cell_type": "markdown",
   "metadata": {},
   "source": [
    "Principal Component Analysis is a technique used to extract one or more dimensions that capture as much of the variation of data as possible."
   ]
  },
  {
   "cell_type": "code",
   "execution_count": 1,
   "metadata": {},
   "outputs": [],
   "source": [
    "pca_data = [\n",
    "[20.9666776351559,-13.1138080189357],\n",
    "[22.7719907680008,-19.8890894944696],\n",
    "[25.6687103160153,-11.9956004517219],\n",
    "[18.0019794950564,-18.1989191165133],\n",
    "[21.3967402102156,-10.8893126308196],\n",
    "[0.443696899177716,-19.7221132386308],\n",
    "[29.9198322142127,-14.0958668502427],\n",
    "[19.0805843080126,-13.7888747608312],\n",
    "[16.4685063521314,-11.2612927034291],\n",
    "[21.4597664701884,-12.4740034586705],\n",
    "[3.87655283720532,-17.575162461771],\n",
    "[34.5713920556787,-10.705185165378],\n",
    "[13.3732115747722,-16.7270274494424],\n",
    "[20.7281704141919,-8.81165591556553],\n",
    "[24.839851437942,-12.1240962157419],\n",
    "[20.3019544741252,-12.8725060780898],\n",
    "[21.9021426929599,-17.3225432396452],\n",
    "[23.2285885715486,-12.2676568419045],\n",
    "[28.5749111681851,-13.2616470619453],\n",
    "[29.2957424128701,-14.6299928678996],\n",
    "[15.2495527798625,-18.4649714274207],\n",
    "[26.5567257400476,-9.19794350561966],\n",
    "[30.1934232346361,-12.6272709845971],\n",
    "[36.8267446011057,-7.25409849336718],\n",
    "[32.157416823084,-10.4729534347553],\n",
    "[5.85964365291694,-22.6573731626132],\n",
    "[25.7426190674693,-14.8055803854566],\n",
    "[16.237602636139,-16.5920595763719],\n",
    "[14.7408608850568,-20.0537715298403],\n",
    "[6.85907008242544,-18.3965586884781],\n",
    "[26.5918329233128,-8.92664811750842],\n",
    "[-11.2216019958228,-27.0519081982856],\n",
    "[8.93593745011035,-20.8261235122575],\n",
    "[24.4481258671796,-18.0324012215159],\n",
    "[2.82048515404903,-22.4208457598703],\n",
    "[30.8803004755948,-11.455358009593],\n",
    "[15.4586738236098,-11.1242825084309],\n",
    "[28.5332537090494,-14.7898744423126],\n",
    "[40.4830293441052,-2.41946428697183],\n",
    "[15.7563759125684,-13.5771266003795],\n",
    "[19.3635588851727,-20.6224770470434],\n",
    "[13.4212840786467,-19.0238227375766],\n",
    "[7.77570680426702,-16.6385739839089],\n",
    "[21.4865983854408,-15.290799330002],\n",
    "[12.6392705930724,-23.6433305964301],\n",
    "[12.4746151388128,-17.9720169566614],\n",
    "[23.4572410437998,-14.602080545086],\n",
    "[13.6878189833565,-18.9687408182414],\n",
    "[15.4077465943441,-14.5352487124086],\n",
    "[20.3356581548895,-10.0883159703702],\n",
    "[20.7093833689359,-12.6939091236766],\n",
    "[11.1032293684441,-14.1383848928755],\n",
    "[17.5048321498308,-9.2338593361801],\n",
    "[16.3303688220188,-15.1054735529158],\n",
    "[26.6929062710726,-13.306030567991],\n",
    "[34.4985678099711,-9.86199941278607],\n",
    "[39.1374291499406,-10.5621430853401],\n",
    "[21.9088956482146,-9.95198845621849],\n",
    "[22.2367457578087,-17.2200123442707],\n",
    "[10.0032784145577,-19.3557700653426],\n",
    "[14.045833906665,-15.871937521131],\n",
    "[15.5640911917607,-18.3396956121887],\n",
    "[24.4771926581586,-14.8715313479137],\n",
    "[26.533415556629,-14.693883922494],\n",
    "[12.8722580202544,-21.2750596021509],\n",
    "[24.4768291376862,-15.9592080959207],\n",
    "[18.2230748567433,-14.6541444069985],\n",
    "[4.1902148367447,-20.6144032528762],\n",
    "[12.4332594022086,-16.6079789231489],\n",
    "[20.5483758651873,-18.8512560786321],\n",
    "[17.8180560451358,-12.5451990696752],\n",
    "[11.0071081078049,-20.3938092335862],\n",
    "[8.30560561422449,-22.9503944138682],\n",
    "[33.9857852657284,-4.8371294974382],\n",
    "[17.4376502239652,-14.5095976075022],\n",
    "[29.0379635148943,-14.8461553663227],\n",
    "[29.1344666599319,-7.70862921632672],\n",
    "[32.9730697624544,-15.5839178785654],\n",
    "[13.4211493998212,-20.150199857584],\n",
    "[11.380538260355,-12.8619410359766],\n",
    "[28.672631499186,-8.51866271785711],\n",
    "[16.4296061111902,-23.3326051279759],\n",
    "[25.7168371582585,-13.8899296143829],\n",
    "[13.3185154732595,-17.8959160024249],\n",
    "[3.60832478605376,-25.4023343597712],\n",
    "[39.5445949652652,-11.466377647931],\n",
    "[25.1693484426101,-12.2752652925707],\n",
    "[25.2884257196471,-7.06710309184533],\n",
    "[6.77665715793125,-22.3947299635571],\n",
    "[20.1844223778907,-16.0427471125407],\n",
    "[25.5506805272535,-9.33856532270204],\n",
    "[25.1495682602477,-7.17350567090738],\n",
    "[15.6978431006492,-17.5979197162642],\n",
    "[37.42780451491,-10.843637288504],\n",
    "[22.974620174842,-10.6171162611686],\n",
    "[34.6327117468934,-9.26182440487384],\n",
    "[34.7042513789061,-6.9630753351114],\n",
    "[15.6563953929008,-17.2196961218915],\n",
    "[25.2049825789225,-14.1592086208169]\n",
    "]"
   ]
  },
  {
   "cell_type": "code",
   "execution_count": null,
   "metadata": {},
   "outputs": [],
   "source": [
    "eigen value - wartosc wlasna\n",
    "singular vector - eigen vector - vektor wlasny"
   ]
  },
  {
   "cell_type": "code",
   "execution_count": null,
   "metadata": {},
   "outputs": [],
   "source": [
    "- [A Tutorial on Principal Component Analysis](https://arxiv.org/pdf/1404.1100.pdf?utm_content=bufferb37df)"
   ]
  },
  {
   "cell_type": "code",
   "execution_count": null,
   "metadata": {},
   "outputs": [],
   "source": []
  },
  {
   "cell_type": "code",
   "execution_count": null,
   "metadata": {},
   "outputs": [],
   "source": []
  },
  {
   "cell_type": "code",
   "execution_count": null,
   "metadata": {},
   "outputs": [],
   "source": []
  },
  {
   "cell_type": "code",
   "execution_count": null,
   "metadata": {},
   "outputs": [],
   "source": []
  },
  {
   "cell_type": "code",
   "execution_count": null,
   "metadata": {},
   "outputs": [],
   "source": []
  },
  {
   "cell_type": "code",
   "execution_count": null,
   "metadata": {},
   "outputs": [],
   "source": []
  },
  {
   "cell_type": "markdown",
   "metadata": {},
   "source": [
    "Most of the variation in the data seems to be along a single dimension that doesn't correspond to either the x-axis or the y-axis.\n",
    "\n",
    "When this is the case, we can use a technique called Principal Component Analysis (PCA) to extract one or more dimensions that capture as much of the variation in the data as possible.\n",
    "\n",
    "Dimensionality reduction is mostly useful when your dataset has a large number of dimensions and you want to find a small subset that captures most of the variation."
   ]
  },
  {
   "cell_type": "markdown",
   "metadata": {},
   "source": [
    "## Regularization I: Lasso\n",
    "\n",
    "<img src=\"images/lasso-regression3.png\" alt=\"\" style=\"width: 600px;\"/>\n",
    "\n",
    "You see how Lasso selected out the 'RM' feature as being the most important for predicting Boston house prices, while shrinking the coefficients of certain other features to 0. Its ability to perform **feature selection** in this way becomes even more useful when you are dealing with data involving thousands of features.\n",
    "\n",
    "In this exercise, you will fit a lasso regression to the Gapminder data you have been working with and plot the coefficients. Just as with the Boston data, you will find that the coefficients of some features are shrunk to 0, with only the most important ones remaining.\n",
    "\n",
    "The feature and target variable arrays have been pre-loaded as X and y.\n",
    "\n",
    "**Regularization** means penalizing large coefficients as large coefficients can lead to overfitting.\n",
    "\n",
    "<img src=\"images/ridge-regression.png\" alt=\"\" style=\"width: 400px;\"/> \n",
    "\n",
    "<img src=\"images/lasso-regression1.png\" alt=\"\" style=\"width: 400px;\"/>\n",
    "\n",
    "<img src=\"images/lasso-regression2.png\" alt=\"\" style=\"width: 600px;\"/>\n"
   ]
  },
  {
   "cell_type": "code",
   "execution_count": 4,
   "metadata": {},
   "outputs": [],
   "source": [
    "import numpy as np\n",
    "import pandas as pd\n",
    "import matplotlib.pyplot as plt\n",
    "%matplotlib inline\n",
    "import seaborn as sns\n",
    "\n",
    "path = 'data/dc18/'\n",
    "\n",
    "# Read the CSV file into a DataFrame: df\n",
    "df = pd.read_csv(path+'gapminder.csv')\n",
    "X = np.array(df.drop('life', axis=1).values)\n",
    "y = np.array(df.life.values)"
   ]
  },
  {
   "cell_type": "code",
   "execution_count": 5,
   "metadata": {},
   "outputs": [
    {
     "name": "stdout",
     "output_type": "stream",
     "text": [
      "[-0.         -0.         -0.          0.          0.          0.\n",
      " -0.         -0.07087587]\n"
     ]
    },
    {
     "data": {
      "image/png": "[encoded data removed]",
      "text/plain": [
       "<Figure size 432x288 with 1 Axes>"
      ]
     },
     "metadata": {
      "needs_background": "light"
     },
     "output_type": "display_data"
    }
   ],
   "source": [
    "# Import Lasso\n",
    "from sklearn.linear_model import Lasso\n",
    "\n",
    "# Return a list of columns without the target column\n",
    "df_columns = df.drop('life', axis=1).columns\n",
    "\n",
    "# Instantiate a lasso regressor: lasso\n",
    "lasso = Lasso(alpha=0.4, normalize=True)\n",
    "\n",
    "# Fit the regressor to the data\n",
    "lasso.fit(X, y) # should ne X_train, y_train\n",
    "\n",
    "# Compute and print the coefficients\n",
    "lasso_coef = lasso.coef_\n",
    "print(lasso_coef)\n",
    "\n",
    "# Plot the coefficients\n",
    "plt.plot(range(len(df_columns)), lasso_coef)\n",
    "plt.xticks(range(len(df_columns)), df_columns.values, rotation=60)\n",
    "plt.margins(0.02)\n",
    "plt.show();"
   ]
  },
  {
   "cell_type": "code",
   "execution_count": null,
   "metadata": {},
   "outputs": [],
   "source": []
  },
  {
   "cell_type": "code",
   "execution_count": null,
   "metadata": {},
   "outputs": [],
   "source": []
  },
  {
   "cell_type": "code",
   "execution_count": null,
   "metadata": {},
   "outputs": [],
   "source": []
  },
  {
   "cell_type": "code",
   "execution_count": null,
   "metadata": {},
   "outputs": [],
   "source": []
  },
  {
   "cell_type": "code",
   "execution_count": null,
   "metadata": {},
   "outputs": [],
   "source": []
  },
  {
   "cell_type": "code",
   "execution_count": null,
   "metadata": {},
   "outputs": [],
   "source": []
  },
  {
   "cell_type": "markdown",
   "metadata": {},
   "source": [
    "## Resources\n",
    "\n",
    "- [PCA](https://napsterinblue.github.io/notes/stats/techniques/pca/)\n",
    "- [Principal Component Analysis (PCA) clearly explained (2015)](https://www.youtube.com/watch?v=_UVHneBUBW0)\n",
    "- [StatQuest PCA (short)](https://www.youtube.com/watch?v=HMOI_lkzW08)\n",
    "- [StatQuest PCA Step-By-Step](https://www.youtube.com/watch?v=FgakZw6K1QQ)\n",
    "- [StatQuest PCA in Python](https://www.youtube.com/watch?v=Lsue2gEM9D0)"
   ]
  },
  {
   "cell_type": "code",
   "execution_count": null,
   "metadata": {},
   "outputs": [],
   "source": []
  }
 ],
 "metadata": {
  "kernelspec": {
   "display_name": "Python 3",
   "language": "python",
   "name": "python3"
  },
  "language_info": {
   "codemirror_mode": {
    "name": "ipython",
    "version": 3
   },
   "file_extension": ".py",
   "mimetype": "text/x-python",
   "name": "python",
   "nbconvert_exporter": "python",
   "pygments_lexer": "ipython3",
   "version": "3.7.1"
  }
 },
 "nbformat": 4,
 "nbformat_minor": 2
}

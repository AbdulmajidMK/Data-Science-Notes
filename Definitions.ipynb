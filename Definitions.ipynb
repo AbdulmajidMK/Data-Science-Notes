{
 "cells": [
  {
   "cell_type": "markdown",
   "metadata": {},
   "source": [
    "# Definitions"
   ]
  },
  {
   "cell_type": "markdown",
   "metadata": {},
   "source": [
    "- **data engineer** - prepare, guard, and curate data\n",
    "- **data scientist** - analyze the data with a view toward the organization's goals"
   ]
  },
  {
   "cell_type": "markdown",
   "metadata": {},
   "source": [
    "Observation\n",
    "A single unit in our level of observation—for example, a person, a sale, or a record.\n",
    "\n",
    "Learning algorithms\n",
    "An algorithm used to learn the best parameters of a model—for example, linear regression, naive Bayes, or decision trees.\n",
    "\n",
    "Models\n",
    "An output of a learning algorithm’s training. Learning algorithms train models, which we then use to make predictions.\n",
    "\n",
    "Parameters\n",
    "The weights or coefficients of a model learned through training.\n",
    "\n",
    "Hyperparameters\n",
    "The settings of a learning algorithm that need to be set before training.\n",
    "\n",
    "Performance\n",
    "A metric used to evaluate a model.\n",
    "\n",
    "Loss\n",
    "A metric to maximize or minimize through training.\n",
    "\n",
    "An objective function (loss function) \n",
    "\n",
    "Train\n",
    "Applying a learning algorithm to data using numerical approaches like gradient descent.\n",
    "\n",
    "Fit\n",
    "Applying a learning algorithm to data using analytical approaches.\n",
    "\n",
    "Data\n",
    "A collection of observations."
   ]
  },
  {
   "cell_type": "code",
   "execution_count": null,
   "metadata": {},
   "outputs": [],
   "source": []
  },
  {
   "cell_type": "code",
   "execution_count": null,
   "metadata": {},
   "outputs": [],
   "source": []
  },
  {
   "cell_type": "code",
   "execution_count": null,
   "metadata": {},
   "outputs": [],
   "source": []
  },
  {
   "cell_type": "code",
   "execution_count": null,
   "metadata": {},
   "outputs": [],
   "source": []
  }
 ],
 "metadata": {
  "kernelspec": {
   "display_name": "Python 3",
   "language": "python",
   "name": "python3"
  },
  "language_info": {
   "codemirror_mode": {
    "name": "ipython",
    "version": 3
   },
   "file_extension": ".py",
   "mimetype": "text/x-python",
   "name": "python",
   "nbconvert_exporter": "python",
   "pygments_lexer": "ipython3",
   "version": "3.7.1"
  }
 },
 "nbformat": 4,
 "nbformat_minor": 2
}

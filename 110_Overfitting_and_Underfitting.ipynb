{
 "cells": [
  {
   "cell_type": "markdown",
   "metadata": {},
   "source": [
    "# Overfitting and Underfitting"
   ]
  },
  {
   "cell_type": "markdown",
   "metadata": {},
   "source": [
    "A common danger in machine learning is **overfitting** - producing a model that performs well on the data that you train it on but generalizes poorly to any new data (`low bias` and `high variance`). This could involve learning `noise` in the data. The other side of this is **underfitting** - producing a model that doesn't perform well even on the training data (`high bias` and `low variance`).\n",
    "\n",
    "Models that are too complex lead to `overfitting` and don't generalize well beyond the data they were trained on. The most fundamental approach to ensure our model is not too complex is `using different data to train the model and to test the model`. If the model performs well on the test data (completely separate and not used for training), then you can be more confident that it is `fitting` rather than `overfitting`.\n",
    "\n",
    "This can go wrong if there are common patterns in the test and training data that wouldn't generalize to a larger dataset.\n",
    "\n",
    "A bigger problem is if you use train/test split not just to judge a model but also to choose from among many models. In such a situation, you should split the data into three parts: a `training set` for building models, a `validation set` for choosing among trained models, and a `test set` for judging the final model."
   ]
  },
  {
   "cell_type": "markdown",
   "metadata": {},
   "source": [
    "For more see Bias-Variance Tradeoff"
   ]
  },
  {
   "cell_type": "markdown",
   "metadata": {},
   "source": [
    "For more see Model Complexity Curve in 350_Model_Performance_Metrics"
   ]
  },
  {
   "cell_type": "code",
   "execution_count": null,
   "metadata": {},
   "outputs": [],
   "source": []
  }
 ],
 "metadata": {
  "kernelspec": {
   "display_name": "Python 3",
   "language": "python",
   "name": "python3"
  },
  "language_info": {
   "codemirror_mode": {
    "name": "ipython",
    "version": 3
   },
   "file_extension": ".py",
   "mimetype": "text/x-python",
   "name": "python",
   "nbconvert_exporter": "python",
   "pygments_lexer": "ipython3",
   "version": "3.7.1"
  }
 },
 "nbformat": 4,
 "nbformat_minor": 2
}

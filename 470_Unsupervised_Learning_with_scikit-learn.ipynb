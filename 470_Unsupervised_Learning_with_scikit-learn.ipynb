{
 "cells": [
  {
   "cell_type": "markdown",
   "metadata": {},
   "source": [
    "# Unsupervised Learning with scikit-learn\n",
    "\n",
    "Say you have a collection of customers with a variety of characteristics such as age, location, and financial history, and you wish to **discover patterns and sort them into clusters**. Or perhaps you have a set of texts, such as wikipedia pages, and you wish to **segment them into categories based on their content**. This is the world of **unsupervised learning**, called as such because you are not guiding, or supervising, the pattern discovery by some prediction task, but instead **uncovering hidden structure from unlabeled data**. \n",
    "\n",
    "**Unsupervised learning** encompasses a variety of techniques in machine learning, from clustering to dimension reduction to matrix factorization. In this notebook, you'll learn the fundamentals of unsupervised learning and implement the essential algorithms using `scikit-learn` and `scipy`. You will learn how to cluster, transform, visualize, and extract insights from unlabeled datasets, and end the course by building a **recommender system** to recommend popular musical artists."
   ]
  },
  {
   "cell_type": "code",
   "execution_count": null,
   "metadata": {},
   "outputs": [],
   "source": []
  }
 ],
 "metadata": {
  "kernelspec": {
   "display_name": "Python 3",
   "language": "python",
   "name": "python3"
  },
  "language_info": {
   "codemirror_mode": {
    "name": "ipython",
    "version": 3
   },
   "file_extension": ".py",
   "mimetype": "text/x-python",
   "name": "python",
   "nbconvert_exporter": "python",
   "pygments_lexer": "ipython3",
   "version": "3.7.1"
  }
 },
 "nbformat": 4,
 "nbformat_minor": 2
}

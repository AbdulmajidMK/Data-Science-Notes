{
 "cells": [
  {
   "cell_type": "markdown",
   "metadata": {},
   "source": [
    "# Information vs. Data"
   ]
  },
  {
   "cell_type": "markdown",
   "metadata": {},
   "source": [
    "It’s important to distinguish between **information** and **data** and to differentiate **information architecture** from **data architecture**. According to Peter Drucker, **information** is `“data endowed with relevance and purpose.”` Raw **data**, such as customer retention rates, sales figures, and supply costs, is of limited value until it has been integrated with other data and transformed into **information** that can guide decision making. Sales figures put into a historical or a market context suddenly have meaning—they may be climbing or falling relative to benchmarks or in response to a specific strategy.\n",
    "\n",
    "A company’s **data architecture** `describes how data is collected, stored, transformed, distributed, and consumed`. It includes the rules governing structured formats, such as databases and file systems, and the systems for connecting data with the business processes that consume it. **Information architecture** `governs the processes and rules that convert data into useful information`. For example, data architecture might feed raw daily advertising and sales data into information architecture systems, such as marketing dashboards, where it is integrated and analyzed to reveal relationships between ad spend and sales by channel and region."
   ]
  },
  {
   "cell_type": "code",
   "execution_count": null,
   "metadata": {},
   "outputs": [],
   "source": []
  }
 ],
 "metadata": {
  "kernelspec": {
   "display_name": "Python 3",
   "language": "python",
   "name": "python3"
  },
  "language_info": {
   "name": ""
  }
 },
 "nbformat": 4,
 "nbformat_minor": 2
}

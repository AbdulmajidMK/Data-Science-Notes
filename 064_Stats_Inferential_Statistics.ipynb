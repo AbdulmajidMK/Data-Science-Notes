{
 "cells": [
  {
   "cell_type": "raw",
   "metadata": {},
   "source": [
    "From: https://github.com/ksatola\n",
    "Version: 0.0.1"
   ]
  },
  {
   "cell_type": "markdown",
   "metadata": {},
   "source": [
    "# Inferential Statistics\n",
    "\n",
    "Inferential statistics allow you to use a relatively small sample to learn about an entire population."
   ]
  },
  {
   "cell_type": "markdown",
   "metadata": {},
   "source": [
    "The primary way scientific experiments create new knowledge is by carefully setting up contrasts between groups, such as a treatment and control group."
   ]
  },
  {
   "cell_type": "markdown",
   "metadata": {},
   "source": [
    "## Table of Contents\n",
    "\n",
    "- [Descriptive and Inferential Statistics](#intro)\n",
    "    - [Descriptive statistics](#desc)\n",
    "    - [Inferential Statistics](#infer)"
   ]
  },
  {
   "cell_type": "markdown",
   "metadata": {},
   "source": [
    "---\n",
    "<a id='intro'></a>"
   ]
  },
  {
   "cell_type": "markdown",
   "metadata": {},
   "source": [
    "## Descriptive and Inferential Statistics\n",
    "\n",
    "Descriptive and inferential statistics are two broad categories in the field of statistics. Here’s the difference in a nutshell:\n",
    "\n",
    "- **Descriptive statistics** `describe a dataset` for a particular group of objects, observations, or people. They don’t attempt to generalize beyond the set of observations.\n",
    "\n",
    "- **Inferential statistics** `use a dataset to make conclusions about the larger population from which the sample was drawn`. These statistics generalize beyond the specific observations that are in the dataset to a larger group or population."
   ]
  },
  {
   "cell_type": "markdown",
   "metadata": {},
   "source": [
    "---\n",
    "<a id='desc'></a>"
   ]
  },
  {
   "cell_type": "markdown",
   "metadata": {},
   "source": [
    "### Descriptive statistics\n",
    "\n",
    "**Descriptive statistics** describe a sample. Use descriptive statistics to summarize and graph the data for a group that you choose. This process allows you to understand that specific set of observations.\n",
    "\n",
    "The process involves taking a potentially large number of data points in the sample and reducing them down to a few meaningful summary values and graphs. This procedure allows us to gain more insights and visualize the data than merely pouring through row upon row of raw numbers.\n",
    "\n",
    "**Descriptive statistics** frequently use `statistical measures` to describe a particular group:\n",
    "\n",
    "- **Central tendency**: Use the `mean` or the `median` to locate the center of the dataset. This measure tells you where most values fall.\n",
    "\n",
    "- **Dispersion**: How far out from the center do the data extend? You can use the `range` or `standard deviation` to measure the dispersion. Low dispersion indicates that values cluster more tightly around the center. Higher dispersion signifies that data points fall further away from the center. We can also graph the `frequency distribution`.\n",
    "\n",
    "- **Skewness**: The measure tells you whether the distribution of values is `symmetric` or `skewed`.\n",
    "\n",
    "- **Correlation**: The strength of the tendency for two variables to change together.\n",
    "\n",
    "You can present this summary information using both `numbers` and `graphs`."
   ]
  },
  {
   "cell_type": "markdown",
   "metadata": {},
   "source": [
    "---\n",
    "<a id='infer'></a>"
   ]
  },
  {
   "cell_type": "markdown",
   "metadata": {},
   "source": [
    "### Inferential Statistics\n",
    "\n",
    "**Inferential statistics** takes data from a sample and makes inferences about the larger population from which the sample was drawn. Because the `goal of inferential statistics is to take a sample and generalize its properties to a population`, we need to have confidence that our sample accurately reflects the population. This requirement affects our process. At a broad level, we must do the following:\n",
    "\n",
    "1. Define the population we are studying.\n",
    "2. Draw a representative sample from that population.\n",
    "3. Use analyses that incorporate the sampling error."
   ]
  },
  {
   "cell_type": "code",
   "execution_count": null,
   "metadata": {},
   "outputs": [],
   "source": []
  },
  {
   "cell_type": "code",
   "execution_count": null,
   "metadata": {},
   "outputs": [],
   "source": []
  },
  {
   "cell_type": "markdown",
   "metadata": {},
   "source": [
    "---\n",
    "<a id='res'></a>"
   ]
  },
  {
   "cell_type": "markdown",
   "metadata": {},
   "source": [
    "# Resources\n",
    "\n",
    "- [Statistics by Jim](https://statisticsbyjim.com/)\n",
    "- [onlinemathlearning.com](https://www.onlinemathlearning.com)"
   ]
  },
  {
   "cell_type": "code",
   "execution_count": null,
   "metadata": {},
   "outputs": [],
   "source": []
  }
 ],
 "metadata": {
  "kernelspec": {
   "display_name": "Python 3",
   "language": "python",
   "name": "python3"
  },
  "language_info": {
   "codemirror_mode": {
    "name": "ipython",
    "version": 3
   },
   "file_extension": ".py",
   "mimetype": "text/x-python",
   "name": "python",
   "nbconvert_exporter": "python",
   "pygments_lexer": "ipython3",
   "version": "3.7.1"
  }
 },
 "nbformat": 4,
 "nbformat_minor": 4
}

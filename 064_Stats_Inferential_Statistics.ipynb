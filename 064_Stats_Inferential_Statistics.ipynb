{
 "cells": [
  {
   "cell_type": "raw",
   "metadata": {},
   "source": [
    "From: https://github.com/ksatola\n",
    "Version: 0.0.1"
   ]
  },
  {
   "cell_type": "markdown",
   "metadata": {},
   "source": [
    "# Inferential Statistics\n",
    "\n",
    "Inferential statistics allow you to use a relatively small sample to learn about an entire population."
   ]
  },
  {
   "cell_type": "markdown",
   "metadata": {},
   "source": [
    "The primary way scientific experiments create new knowledge is by carefully setting up contrasts between groups, such as a treatment and control group."
   ]
  },
  {
   "cell_type": "markdown",
   "metadata": {},
   "source": [
    "## Table of Contents\n",
    "\n",
    "- [Descriptive and Inferential Statistics](#intro)\n",
    "    - [Descriptive statistics](#desc)\n",
    "    - [Inferential Statistics](#infer)\n",
    "- [Populations](#pop)\n",
    "- [Subpopulations](#subpop)\n",
    "- [Population Parameters versus Sample Statistics](#popsampl)\n",
    "- [Tools for Inferential Statistics](#tools)\n",
    "- [Sample Size and Margins of Error](#size)\n",
    "- [Sampling Distributions of the Mean](#dis)\n",
    "- [Confidence Intervals and Precision](#conf)"
   ]
  },
  {
   "cell_type": "markdown",
   "metadata": {},
   "source": [
    "---\n",
    "<a id='intro'></a>"
   ]
  },
  {
   "cell_type": "markdown",
   "metadata": {},
   "source": [
    "## Descriptive and Inferential Statistics\n",
    "\n",
    "Descriptive and inferential statistics are two broad categories in the field of statistics. Here’s the difference in a nutshell:\n",
    "\n",
    "- **Descriptive statistics** `describe a dataset` for a particular group of objects, observations, or people. They don’t attempt to generalize beyond the set of observations.\n",
    "\n",
    "- **Inferential statistics** `use a dataset to make conclusions about the larger population from which the sample was drawn`. These statistics generalize beyond the specific observations that are in the dataset to a larger group or population."
   ]
  },
  {
   "cell_type": "markdown",
   "metadata": {},
   "source": [
    "---\n",
    "<a id='desc'></a>"
   ]
  },
  {
   "cell_type": "markdown",
   "metadata": {},
   "source": [
    "### Descriptive statistics\n",
    "\n",
    "**Descriptive statistics** describe a sample. Use descriptive statistics to summarize and graph the data for a group that you choose. This process allows you to understand that specific set of observations.\n",
    "\n",
    "The process involves taking a potentially large number of data points in the sample and reducing them down to a few meaningful summary values and graphs. This procedure allows us to gain more insights and visualize the data than merely pouring through row upon row of raw numbers.\n",
    "\n",
    "**Descriptive statistics** frequently use `statistical measures` to describe a particular group:\n",
    "\n",
    "- **Central tendency**: Use the `mean` or the `median` to locate the center of the dataset. This measure tells you where most values fall.\n",
    "\n",
    "- **Dispersion**: How far out from the center do the data extend? You can use the `range` or `standard deviation` to measure the dispersion. Low dispersion indicates that values cluster more tightly around the center. Higher dispersion signifies that data points fall further away from the center. We can also graph the `frequency distribution`.\n",
    "\n",
    "- **Skewness**: The measure tells you whether the distribution of values is `symmetric` or `skewed`.\n",
    "\n",
    "- **Correlation**: The strength of the tendency for two variables to change together.\n",
    "\n",
    "You can present this summary information using both `numbers` and `graphs`."
   ]
  },
  {
   "cell_type": "markdown",
   "metadata": {},
   "source": [
    "---\n",
    "<a id='infer'></a>"
   ]
  },
  {
   "cell_type": "markdown",
   "metadata": {},
   "source": [
    "### Inferential Statistics\n",
    "\n",
    "In most cases, it is simply impossible to measure the entire population to understand its properties. The alternative is to gather a **random sample** and then use the methodologies of **inferential statistics** to analyze the sample data.\n",
    "\n",
    "**Inferential statistics** takes data from a sample and makes inferences about the larger population from which the sample was drawn. Because the `goal of inferential statistics is to take a sample and generalize its properties to a population`, we need to have confidence that our sample accurately reflects the population. This requirement affects our process. At a broad level, we must do the following:\n",
    "\n",
    "1. Define the population we are studying.\n",
    "2. Draw a representative sample from that population.\n",
    "3. Use analyses that incorporate the sampling error.\n",
    "\n",
    "We need a sampling procedure that tends to produce a sample that accurately reflects the population from which you draw it. **Random sampling** is a procedure that allows us to have confidence that the sample represents the population. The random nature of this process helps `avoid any systematic bias` that would invalidate our results.\n",
    "\n",
    "**Random sampling** is a primary method `for obtaining samples that mirrors the population on average`. This type of sampling produces statistics, such as the mean, that are not systematically too high or too low. In other words, the critical characteristic of **random samples** is that they produce **sample statistics** that tend to be correct on average.\n",
    "\n",
    "Consequently, when we obtain a **random sample**, `we can generalize from the sample to the broader population`. Unfortunately, gathering a genuinely random sample can be a complicated process.\n",
    "\n",
    "When you estimate the properties of a population from a sample, the sample statistics are unlikely to equal the actual population value exactly. For instance, your sample mean is unlikely to equal the population mean exactly.\n",
    "\n",
    "**Sampling error** `is the difference between the sample statistic and the population value`. Inferential statistics incorporate estimates of this error into the statistical results.\n",
    "\n",
    "Summary values in **descriptive statistics** are straightforward. The average score in a specific class is a known value because we measured all individuals in that class. There is little uncertainty.\n",
    "\n",
    "To gain the benefits of **inferential statistics**, you must understand the relationship between `populations`, `subpopulations`, `population parameters`, `samples`, and `sample statistics`."
   ]
  },
  {
   "cell_type": "markdown",
   "metadata": {},
   "source": [
    "---\n",
    "<a id='pop'></a>"
   ]
  },
  {
   "cell_type": "markdown",
   "metadata": {},
   "source": [
    "## Populations\n",
    "\n",
    "**Populations** can include people, but other examples include objects, events, businesses, and so on. In statistics, there are two general types of populations.\n",
    "\n",
    "- Populations can be the complete set of all similar items that exist. It’s a finite but potentially extensive list of members.\n",
    "- A population can be a theoretical construct that is potentially infinite in size\n",
    "\n",
    "**Populations** share a set of attributes that you define. For example, the following are populations:\n",
    "\n",
    "- Stars in the Milky Way galaxy.\n",
    "- Parts from a production line.\n",
    "- Citizens of the United States.\n",
    "- 8th grade students in the State of Pennsylvania.\n",
    "\n",
    "`Before you begin a study, you must carefully define the population that you are studying`. These populations can be narrowly defined to meet the needs of your analysis. For example, your population can be adult Swedish women who are otherwise healthy but have osteoporosis."
   ]
  },
  {
   "cell_type": "markdown",
   "metadata": {},
   "source": [
    "---\n",
    "<a id='subpop'></a>"
   ]
  },
  {
   "cell_type": "markdown",
   "metadata": {},
   "source": [
    "## Subpopulations\n",
    "\n",
    "**Subpopulations** share additional attributes. For instance, the population of the United States contains the subpopulations of men and women. You can also subdivide it in other ways such as region, age, socioeconomic status, and so on. Different studies that involve the same population can divide it into different subpopulations depending on what makes sense for the data and the analyses.\n",
    "\n",
    "Understanding the **subpopulations** in your study helps you grasp the subject matter more thoroughly. They can also help you produce statistical models that fit the data better. Subpopulations are particularly important when they have characteristics that are systematically different than the overall population. When you analyze your data, you need to be aware of these deeper divisions. In fact, you can treat the relevant subpopulations as additional factors in later analyses.\n",
    "\n",
    "<img src=\"images/stat-infer.png\" alt=\"\" style=\"width: 400px;\"/>\n",
    "\n",
    "Gender is a crucial **subpopulation** that relates to height and increases our understanding of the subject matter. In future studies about height, we can include gender as a variable. That’s how scientists think about research questions and add to their knowledge."
   ]
  },
  {
   "cell_type": "markdown",
   "metadata": {},
   "source": [
    "---\n",
    "<a id='popsampl'></a>"
   ]
  },
  {
   "cell_type": "markdown",
   "metadata": {},
   "source": [
    "## Population Parameters versus Sample Statistics\n",
    "\n",
    "A **parameter** is a `value that describes a characteristic of an entire population`, such as the population mean. Because you can rarely measure a population as a whole, you usually don’t know the real value of a parameter. While we can’t measure the parameter value, it exists.\n",
    "\n",
    "While we’ll never know the precise value of these **population parameters**, we can use inferential statistics to estimate them and incorporate a margin of error.\n",
    "\n",
    "The population mean and standard deviation are two common parameters. `In statistics, Greek symbols usually represent population parameters`, such as `μ` (mu) for the mean and `σ` (sigma) for the standard deviation.\n",
    "\n",
    "A **statistic** is a `characteristic of a sample`. If you collect a sample and calculate the mean and standard deviation, these are **sample statistics**. Inferential statistics allow you to use sample statistics to make conclusions about a population. However, to draw valid conclusions, you must use **random sampling** techniques, as discussed earlier.\n",
    "\n",
    "<img src=\"images/stat-infer2.png\" alt=\"\" style=\"width: 400px;\"/>\n",
    "\n",
    "In **inferential statistics**, `sample statistics are estimates of population parameters`. For example, if we collect a random sample of adult women in the United States and measure their heights, we can calculate the sample mean and standard deviation and use them as unbiased estimates of the population parameters.\n",
    "\n",
    "You can calculate the following types of estimates for population parameters:\n",
    "\n",
    "- **Point estimates**: These estimates use the sample data to produce a single value that is the most likely value for the population parameter. Sample statistics, such as the mean, are typically the point estimate for the population. Unfortunately, point estimates are always wrong by an unknown amount because of **random sampling error**.\n",
    "\n",
    "- **Interval estimates**: A range of values that likely contains the value of the population parameter. These intervals include a **margin of error** around the point estimate to account for **random sampling error**.\n",
    "\n",
    "In short, **point estimates** are the best guess value but are guaranteed to be wrong by at least a little bit because you’re working with a sample that is small in comparison to the population. **Intervals estimates** are ranges of values that probably contain the parameter value."
   ]
  },
  {
   "cell_type": "markdown",
   "metadata": {},
   "source": [
    "---\n",
    "<a id='tools'></a>"
   ]
  },
  {
   "cell_type": "markdown",
   "metadata": {},
   "source": [
    "## Tools for Inferential Statistics\n",
    "\n",
    "Inferential methods can produce similar summary values as descriptive statistics, such as the mean and standard deviation. However, we use them very differently when making inferences.\n",
    "\n",
    "### Hypothesis tests\n",
    "\n",
    "**Hypothesis tests** use sample data answer questions about point estimates, such as the following:\n",
    "\n",
    "- Is the population mean greater than or less than a particular value?\n",
    "- Are the means of two or more populations different from each other?\n",
    "\n",
    "### Confidence intervals (CIs)\n",
    "\n",
    "`In inferential statistics, a primary goal is to estimate population parameters`. These parameters are the unknown values for the entire population, such as the population mean and standard deviation. These parameter values are not only unknown but almost always unknowable. The **sampling error** produces uncertainty, or a **margin of error**, around our estimates. \n",
    "\n",
    "**Confidence intervals** incorporate the uncertainty and sample error to create a range of values the actual population value is like to fall within. For example, a confidence interval of [176 186] indicates that we can be confident that the real population mean falls within this range.\n",
    "\n",
    "### Regression analysis\n",
    "\n",
    "**Regression analysis** describes the relationship between a set of `independent variables` and a `dependent variable`. This analysis incorporates hypothesis tests that help determine whether the relationships we observe in the sample data also exist in the population."
   ]
  },
  {
   "cell_type": "markdown",
   "metadata": {},
   "source": [
    "---\n",
    "<a id='size'></a>"
   ]
  },
  {
   "cell_type": "markdown",
   "metadata": {},
   "source": [
    "## Sample Size and Margins of Error\n",
    "\n",
    "Having a large sample size is a good thing but sample statistics are always wrong. When you use samples to estimate the properties of populations, you never obtain the correct values exactly.\n",
    "\n",
    "**Inferential statistics** is a powerful tool because it `allows you to use a relatively small sample to learn about an entire population`. However, to have any chance of obtaining good results, you must follow sampling procedures that help your sample to represent the population faithfully. Upon seeing an estimate, you should wonder - how large is the difference between the estimate and the actual population value? What is the margin of error?\n",
    "\n",
    "The margin of error relates to the sample size. Let’s explore why larger samples are better.\n",
    "\n",
    "The primary goal of inferential statistics is to generalize from a sample to a population. To accomplish this objective, the sample must be similar to the population. The simple truth is that `it’s more difficult for a small sample to approximate an entire population closely`. Larger samples tend to better represent the full complexities of a population.\n",
    "\n",
    "Additionally, `larger sample sizes help you avoid unusual samples`. Think about coin tosses. You expect to obtain heads 50% of the time. If you have four coin tosses, it is not be surprising to get heads 3 out of 4 times (75%). That’s a considerable distance from 50%—but it’s just one extra heads. However, if you have 100 coin tosses, it’s im- probable that you’d get heads 75% of the time. It’s possible, but you’d need very fluky luck to get those 25 extra heads (50 + 25 = 75).\n"
   ]
  },
  {
   "cell_type": "markdown",
   "metadata": {},
   "source": [
    "---\n",
    "<a id='dis'></a>"
   ]
  },
  {
   "cell_type": "markdown",
   "metadata": {},
   "source": [
    "## Sampling Distributions of the Mean\n",
    "\n",
    "A vital concept in inferential statistics is that the particular random sample that you draw for a study is just one of a large number of possible samples that you could have pulled from your population of interest. Understanding this broader context of all possible samples and how your study’s sample fits within it provides valuable information.\n",
    "\n",
    "Suppose we draw a substantial number of random samples of the same size from the same population and calculate the sample mean for each sample. During this process, we’d observe a broad spectrum of sample means, and we can graph their distribution. \n",
    "\n",
    "**Sampling distribution of the mean** are distributions of sample means for samples of a particular size that you draw from a population with specific properties. These distributions represent the idea of conducting the same experiment many times and observing the distribution of sample means. **Sampling distributions** also exist for other population properties such as the standard deviation, median, and proportion.\n",
    "\n",
    "<img src=\"images/stat-infer3.png\" alt=\"\" style=\"width: 400px;\"/>\n",
    "\n",
    "The first thing to notice is that all three distributions center on the population’s mean IQ of 100 and they are distributed symmetrically around that mean. These properties indicate that the sample means are unbiased because they are not systematically too high or too low. Stated another way, samples have an equal probability of being too high or too low. They’re correct on average. These sample means are unbiased because the simulation used random sampling.\n",
    "\n",
    "However, the spreads of the distributions are clearly different. The `variability of these distributions` reflects the amount of **sampling error** associated with different sample sizes.\n",
    "\n",
    "Let’s start with the `grey distribution for a sample size of five`, which is the widest. While this distribution centers on 100, the broader spread indicates that a greater percentage of sample means will fall further away from the population value in the center and instead be out in the tails. Consequently, obtaining a sample mean as low as 88 or as high as 112 is not surprising when the sample size is five. The wider spread of this distribution shows that you are more likely to obtain an unusual sample mean with a small sample size. In other words, you have greater uncertainty that your sample mean is close to the actual population value. `Estimates from smaller samples have a larger margin of error`.\n",
    "\n",
    "Now, let’s look at the `blue distribution, which represents samples of size 60`. It’s still centered on 100, but the narrow distribution indicates that you are unlikely to obtain sample means far from 100. It would be implausible to obtain sample means less than 95 or higher than 105. Most sample means are packed close to the population value in the center while few are out in the tails. The narrower spread of this distribution shows that `you are less likely to obtain an unusual sample mean when you have a large sample size`. In other words, you have more confidence that your sample mean is close to the actual population value. `Estimates from larger samples have a smaller margin of error`.\n",
    "\n",
    "The wider distributions for small sample sizes indicate your sample mean has a higher probability of falling further away from the population mean. As you increase the sample size, the sampling distributions tighten up, which signifies you can be more confident that the sample mean is relatively close to the population mean.\n",
    "\n",
    "In statistics, we refer to this concept as the **precision of the estimates**. `More precise estimates have smaller margins of error around the estimate`. Conversely, less precise estimates have larger margins of error and provide a vaguer idea about a population’s characteristics. You want greater precision because you’ll have better information about the actual value of the population parameter.\n",
    "\n",
    "**Precision** is a function of both the variability in the population and the size of the sample. However, we can usually control only the sample size in our studies. Consequently, `increasing the sample size is the method to use improve the precision of your sample estimates`."
   ]
  },
  {
   "cell_type": "markdown",
   "metadata": {},
   "source": [
    "---\n",
    "<a id='conf'></a>"
   ]
  },
  {
   "cell_type": "markdown",
   "metadata": {},
   "source": [
    "## Confidence Intervals and Precision\n",
    "\n",
    "**Confidence intervals** help you assess the precision of your estimates.\n",
    "\n",
    "<img src=\"images/stat-infer4.png\" alt=\"\" style=\"width: 400px;\"/>\n",
    "\n",
    "Statisticians usually consider a sample size of 10 to be a bit on the small side. From the histogram, the data do not look much like the original population. The estimates for the mean and standard deviation are 103.25 and 12.89, respectively. They are the **point estimates** for the population parameters, which are both in the right ballpark for the correct values of 100 and 15.\n",
    "\n",
    "We have our point estimates, but we know that those aren’t exactly correct. Let’s check the **confidence intervals** to see the ranges for where the actual parameter values are likely to fall.\n",
    "\n",
    "The **confidence interval** for the mean is [94.03 112.46], and for the standard deviation it is [8.86 23.52]. `The population parameters usually fall within their confidence intervals`. Typically, we don’t know the actual parameter values, but for this illustration we can see that both estimates fall within their intervals. The sample does not provide an exact representation of the population, but the estimates are not too far off. If we didn’t know the actual values, the CIs would give us useful guidance.\n",
    "\n",
    "<img src=\"images/stat-infer5.png\" alt=\"\" style=\"width: 400px;\"/>\n",
    "\n",
    "For this larger sample, this histogram is beginning to look more like the underlying population distribution. The estimates for the mean and standard deviation are 99.553 and 15.597, respectively. Both of these point estimates are closer to the actual population values than their counterparts in the smaller sample.\n",
    "\n",
    "For the **confidence intervals**, both of the CIs again contain the parameters. However, notice that these intervals are tighter than for the sample size of 10. For example, the CI for the mean is [96.458 102.648] compared to [94.03 112.46] for the sample size of 10. That’s a range of about 6 IQ points rather than 18. The tighter intervals indicate that these estimates are more precise than those from the smaller sample. In other words, the difference between the sample estimate and actual parameter value is likely to be smaller for the larger sample.\n",
    "\n",
    "`Narrower confidence intervals represent more precise estimates`.\n",
    "\n",
    "In summary, `use confidence intervals to evaluate the precision of your sample estimates`. If your intervals are too broad to be meaningful, you’ll need to increase your sample size."
   ]
  },
  {
   "cell_type": "code",
   "execution_count": null,
   "metadata": {},
   "outputs": [],
   "source": []
  },
  {
   "cell_type": "code",
   "execution_count": null,
   "metadata": {},
   "outputs": [],
   "source": [
    "<img src=\"images/stat-infer2.png\" alt=\"\" style=\"width: 400px;\"/>"
   ]
  },
  {
   "cell_type": "markdown",
   "metadata": {},
   "source": [
    "---\n",
    "<a id='res'></a>"
   ]
  },
  {
   "cell_type": "markdown",
   "metadata": {},
   "source": [
    "# Resources\n",
    "\n",
    "- [Statistics by Jim](https://statisticsbyjim.com/)\n",
    "- [onlinemathlearning.com](https://www.onlinemathlearning.com)"
   ]
  },
  {
   "cell_type": "code",
   "execution_count": null,
   "metadata": {},
   "outputs": [],
   "source": []
  }
 ],
 "metadata": {
  "kernelspec": {
   "display_name": "Python 3",
   "language": "python",
   "name": "python3"
  },
  "language_info": {
   "codemirror_mode": {
    "name": "ipython",
    "version": 3
   },
   "file_extension": ".py",
   "mimetype": "text/x-python",
   "name": "python",
   "nbconvert_exporter": "python",
   "pygments_lexer": "ipython3",
   "version": "3.7.1"
  }
 },
 "nbformat": 4,
 "nbformat_minor": 4
}

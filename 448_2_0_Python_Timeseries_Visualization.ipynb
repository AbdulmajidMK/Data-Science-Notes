{
 "cells": [
  {
   "cell_type": "raw",
   "metadata": {},
   "source": [
    "From: https://github.com/ksatola\n",
    "Version: 1.0.0"
   ]
  },
  {
   "cell_type": "markdown",
   "metadata": {},
   "source": [
    "# Visualizing Time Series Data in Python\n",
    "\n",
    "Time series data is omnipresent in the field of Data Science. Whether it is analyzing business trends, forecasting company revenue or exploring customer behavior, every data scientist is likely to encounter time series data at some point during their work. To get you started on working with time series data, this notebook will provide practical knowledge on visualizing time series data using Python."
   ]
  },
  {
   "cell_type": "markdown",
   "metadata": {},
   "source": [
    "## Table of Contents\n",
    "\n",
    "- [Introduction](#intro)"
   ]
  },
  {
   "cell_type": "code",
   "execution_count": 1,
   "metadata": {},
   "outputs": [],
   "source": [
    "import pandas as pd\n",
    "import matplotlib.pyplot as plt\n",
    "%matplotlib inline\n",
    "\n",
    "path = \"data/dc28/\""
   ]
  },
  {
   "cell_type": "markdown",
   "metadata": {},
   "source": [
    "---\n",
    "<a id='intro'></a>"
   ]
  },
  {
   "cell_type": "markdown",
   "metadata": {},
   "source": [
    "## Introduction"
   ]
  },
  {
   "cell_type": "markdown",
   "metadata": {},
   "source": [
    "## Load your time series data\n",
    "\n",
    "The most common way to import time series data in Python is by using the pandas library. You can use the `read_csv()` from pandas to read the contents of a file into a DataFrame. This can be achieved using the following command: `df = pd.read_csv(\"name_of_your_file.csv\")`.\n",
    "\n",
    "Once your data is loaded into Python, you can display the first rows of your DataFrame by calling the `.head(n=5)` method, where n=5 indicates that you want to print the first five rows of your DataFrame.\n",
    "\n",
    "In this exercise, you will read in a time series dataset that contains the number of \"great\" inventions and scientific discoveries from 1860 to 1959, and display its first five rows."
   ]
  },
  {
   "cell_type": "code",
   "execution_count": 2,
   "metadata": {},
   "outputs": [
    {
     "name": "stdout",
     "output_type": "stream",
     "text": [
      "         date  Y\n",
      "0  01-01-1860  5\n",
      "1  01-01-1861  3\n",
      "2  01-01-1862  0\n",
      "3  01-01-1863  2\n",
      "4  01-01-1864  0\n"
     ]
    }
   ],
   "source": [
    "# Read in the file content in a DataFrame called discoveries\n",
    "discoveries = pd.read_csv(path+'ch1_discoveries.csv')\n",
    "\n",
    "# Display the first five lines of the DataFrame\n",
    "print(discoveries.head())"
   ]
  },
  {
   "cell_type": "markdown",
   "metadata": {},
   "source": [
    "## Test whether your data is of the correct type\n",
    "\n",
    "When working with time series data in pandas, any date information should be formatted as a `datetime64` type. Therefore, it is important to check that the columns containing the date information are of the correct type. You can check the type of each column in a DataFrame by using the `.dtypes` attribute. Fortunately, if your date columns come as strings, epochs, etc... you can use the `to_datetime()` function to convert them to the appropriate datetime64 type: `df['date_column'] = pd.to_datetime(df['date_column'])`.\n",
    "\n",
    "In this exercise, you will learn how to check the data type of the columns in your time series data and convert a date column to the appropriate datetime type."
   ]
  },
  {
   "cell_type": "code",
   "execution_count": 3,
   "metadata": {},
   "outputs": [
    {
     "name": "stdout",
     "output_type": "stream",
     "text": [
      "date    object\n",
      "Y        int64\n",
      "dtype: object\n",
      "date    datetime64[ns]\n",
      "Y                int64\n",
      "dtype: object\n"
     ]
    }
   ],
   "source": [
    "# Print the data type of each column in discoveries\n",
    "print(discoveries.dtypes)\n",
    "\n",
    "# Convert the date column to a datestamp type\n",
    "discoveries['date'] = pd.to_datetime(discoveries['date'])\n",
    "\n",
    "# Print the data type of each column in discoveries, again\n",
    "print(discoveries.dtypes)"
   ]
  },
  {
   "cell_type": "code",
   "execution_count": null,
   "metadata": {},
   "outputs": [],
   "source": []
  },
  {
   "cell_type": "code",
   "execution_count": null,
   "metadata": {},
   "outputs": [],
   "source": []
  },
  {
   "cell_type": "code",
   "execution_count": null,
   "metadata": {},
   "outputs": [],
   "source": []
  },
  {
   "cell_type": "code",
   "execution_count": null,
   "metadata": {},
   "outputs": [],
   "source": []
  },
  {
   "cell_type": "code",
   "execution_count": null,
   "metadata": {},
   "outputs": [],
   "source": []
  },
  {
   "cell_type": "markdown",
   "metadata": {},
   "source": [
    "---\n",
    "<a id='intro'></a>"
   ]
  },
  {
   "cell_type": "markdown",
   "metadata": {},
   "source": [
    "<img src=\"images/ts2_001.png\" alt=\"\" style=\"width: 400px;\"/>"
   ]
  }
 ],
 "metadata": {
  "kernelspec": {
   "display_name": "Python 3",
   "language": "python",
   "name": "python3"
  },
  "language_info": {
   "codemirror_mode": {
    "name": "ipython",
    "version": 3
   },
   "file_extension": ".py",
   "mimetype": "text/x-python",
   "name": "python",
   "nbconvert_exporter": "python",
   "pygments_lexer": "ipython3",
   "version": "3.7.1"
  }
 },
 "nbformat": 4,
 "nbformat_minor": 4
}

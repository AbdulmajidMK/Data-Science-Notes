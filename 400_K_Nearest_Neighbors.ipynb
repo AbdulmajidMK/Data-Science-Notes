{
 "cells": [
  {
   "cell_type": "markdown",
   "metadata": {},
   "source": [
    "# K-Nearest Neighbors"
   ]
  },
  {
   "cell_type": "markdown",
   "metadata": {},
   "source": [
    "Nearest neighbors is one of the simplest predictive models. It makes no mathematical assumptions. The only things it requires are:\n",
    "- Some notion of distance\n",
    "- An assumption that points that are close to one another are similar\n",
    "\n",
    "Most of the techniques look at the dataset as a whole to learn patterns un the data. Nearest neighbors:\n",
    "- neglects a lot of information, since the prediction for each new point depends only on the handful of points closest to it.\n",
    "- is probably not going to help you understand the drivers of whatever phenomenon you're looking at.\n",
    "\n",
    "In general situation, we have some data points and we have a corresponding set of labels (a classificartion problem, with 2 or more labels).\n",
    "\n",
    "Let's say we've picked a number k. Then we want to classify some new data point, we find the k nearest labeled points and let them vote on the new output. To do this, we need a function that counts votes."
   ]
  },
  {
   "cell_type": "markdown",
   "metadata": {},
   "source": [
    "## The Model"
   ]
  },
  {
   "cell_type": "code",
   "execution_count": 8,
   "metadata": {},
   "outputs": [],
   "source": [
    "labels = ['a', 'b', 'c', 'b', 'a']"
   ]
  },
  {
   "cell_type": "code",
   "execution_count": 11,
   "metadata": {},
   "outputs": [
    {
     "data": {
      "text/plain": [
       "Counter({'a': 2, 'b': 2, 'c': 1})"
      ]
     },
     "execution_count": 11,
     "metadata": {},
     "output_type": "execute_result"
    }
   ],
   "source": [
    "from collections import Counter\n",
    "vote_counts = Counter(labels)\n",
    "vote_counts"
   ]
  },
  {
   "cell_type": "code",
   "execution_count": 15,
   "metadata": {},
   "outputs": [
    {
     "data": {
      "text/plain": [
       "[('a', 2)]"
      ]
     },
     "execution_count": 15,
     "metadata": {},
     "output_type": "execute_result"
    }
   ],
   "source": [
    "vote_counts.most_common(1)"
   ]
  },
  {
   "cell_type": "code",
   "execution_count": 16,
   "metadata": {},
   "outputs": [
    {
     "data": {
      "text/plain": [
       "('a', 2)"
      ]
     },
     "execution_count": 16,
     "metadata": {},
     "output_type": "execute_result"
    }
   ],
   "source": [
    "vote_counts.most_common(1)[0]"
   ]
  },
  {
   "cell_type": "code",
   "execution_count": 24,
   "metadata": {},
   "outputs": [
    {
     "data": {
      "text/plain": [
       "('a', 2)"
      ]
     },
     "execution_count": 24,
     "metadata": {},
     "output_type": "execute_result"
    }
   ],
   "source": [
    "winner, winner_count = vote_counts.most_common(1)[0]\n",
    "winner, winner_count"
   ]
  },
  {
   "cell_type": "code",
   "execution_count": 18,
   "metadata": {},
   "outputs": [
    {
     "data": {
      "text/plain": [
       "dict_keys(['a', 'b', 'c'])"
      ]
     },
     "execution_count": 18,
     "metadata": {},
     "output_type": "execute_result"
    }
   ],
   "source": [
    "vote_counts.keys()"
   ]
  },
  {
   "cell_type": "code",
   "execution_count": 17,
   "metadata": {},
   "outputs": [
    {
     "data": {
      "text/plain": [
       "dict_values([2, 2, 1])"
      ]
     },
     "execution_count": 17,
     "metadata": {},
     "output_type": "execute_result"
    }
   ],
   "source": [
    "vote_counts.values()"
   ]
  },
  {
   "cell_type": "code",
   "execution_count": 25,
   "metadata": {},
   "outputs": [
    {
     "data": {
      "text/plain": [
       "[2, 2]"
      ]
     },
     "execution_count": 25,
     "metadata": {},
     "output_type": "execute_result"
    }
   ],
   "source": [
    "[count \n",
    "for count in vote_counts.values()\n",
    "if count == winner_count]"
   ]
  },
  {
   "cell_type": "code",
   "execution_count": 28,
   "metadata": {},
   "outputs": [
    {
     "data": {
      "text/plain": [
       "2"
      ]
     },
     "execution_count": 28,
     "metadata": {},
     "output_type": "execute_result"
    }
   ],
   "source": [
    "num_winners = len([count \n",
    "                    for count in vote_counts.values()\n",
    "                    if count == winner_count])\n",
    "num_winners"
   ]
  },
  {
   "cell_type": "code",
   "execution_count": 30,
   "metadata": {},
   "outputs": [],
   "source": [
    "from typing import List\n",
    "\n",
    "def majority_vote(labels: List[str]) -> str:\n",
    "    '''Assumes that labels are ordered from nearest to farthest.'''\n",
    "    vote_counts = Counter(labels)\n",
    "    winner, winner_count = vote_counts.most_common(1)[0]\n",
    "    num_winners = len([count \n",
    "                    for count in vote_counts.values()\n",
    "                    if count == winner_count])\n",
    "    if num_winners == 1:\n",
    "        return winner # unique winner, so return it\n",
    "    else:\n",
    "        return majority_vote(labels[:-1]) # try again without the farthest"
   ]
  },
  {
   "cell_type": "code",
   "execution_count": 31,
   "metadata": {},
   "outputs": [
    {
     "data": {
      "text/plain": [
       "'b'"
      ]
     },
     "execution_count": 31,
     "metadata": {},
     "output_type": "execute_result"
    }
   ],
   "source": [
    "assert majority_vote(['a', 'b', 'c', 'b', 'a']) == 'b'"
   ]
  },
  {
   "cell_type": "code",
   "execution_count": 32,
   "metadata": {},
   "outputs": [],
   "source": [
    "from typing import NamedTuple\n",
    "from scratch.linear_algebra import Vector, distance\n",
    "\n",
    "class LabeledPoint(NamedTuple):\n",
    "    point: Vector\n",
    "    label: str"
   ]
  },
  {
   "cell_type": "code",
   "execution_count": 34,
   "metadata": {},
   "outputs": [],
   "source": [
    "# kNN Classifier\n",
    "def knn_classify(k: int,\n",
    "                labeled_points: List[LabeledPoint],\n",
    "                new_point: Vector) -> str:\n",
    "    \n",
    "    # Order the labeled points from nearest to farthest.\n",
    "    by_distance = sorted(labeled_points,\n",
    "                        key=lambda lp: distance(lp.point, new_point))\n",
    "    \n",
    "    # Find the labels for the k closest\n",
    "    k_nearest_labels = [lp.label for lp in by_distance[:k]]\n",
    "    \n",
    "    # and let them vote.\n",
    "    return majority_vote(k_nearest_labels)"
   ]
  },
  {
   "cell_type": "markdown",
   "metadata": {},
   "source": [
    "## Example 1: Favorite Languages"
   ]
  },
  {
   "cell_type": "code",
   "execution_count": 40,
   "metadata": {},
   "outputs": [
    {
     "data": {
      "text/plain": [
       "75"
      ]
     },
     "execution_count": 40,
     "metadata": {},
     "output_type": "execute_result"
    }
   ],
   "source": [
    "# each entry is ([longitude, latitude], favorite_language)\n",
    "\n",
    "cities = [([-122.3 , 47.53], \"Python\"), # Seattle \n",
    "          ([ -96.85, 32.85], \"Java\"), # Austin\n",
    "          ([ -89.33, 43.13], \"R\"), # Madison # ... and so on\n",
    "]\n",
    "\n",
    "cities = [(-86.75,33.5666666666667,'Python'),(-88.25,30.6833333333333,'Python'),(-112.016666666667,33.4333333333333,'Java'),(-110.933333333333,32.1166666666667,'Java'),(-92.2333333333333,34.7333333333333,'R'),(-121.95,37.7,'R'),(-118.15,33.8166666666667,'Python'),(-118.233333333333,34.05,'Java'),(-122.316666666667,37.8166666666667,'R'),(-117.6,34.05,'Python'),(-116.533333333333,33.8166666666667,'Python'),(-121.5,38.5166666666667,'R'),(-117.166666666667,32.7333333333333,'R'),(-122.383333333333,37.6166666666667,'R'),(-121.933333333333,37.3666666666667,'R'),(-122.016666666667,36.9833333333333,'Python'),(-104.716666666667,38.8166666666667,'Python'),(-104.866666666667,39.75,'Python'),(-72.65,41.7333333333333,'R'),(-75.6,39.6666666666667,'Python'),(-77.0333333333333,38.85,'Python'),(-80.2666666666667,25.8,'Java'),(-81.3833333333333,28.55,'Java'),(-82.5333333333333,27.9666666666667,'Java'),(-84.4333333333333,33.65,'Python'),(-116.216666666667,43.5666666666667,'Python'),(-87.75,41.7833333333333,'Java'),(-86.2833333333333,39.7333333333333,'Java'),(-93.65,41.5333333333333,'Java'),(-97.4166666666667,37.65,'Java'),(-85.7333333333333,38.1833333333333,'Python'),(-90.25,29.9833333333333,'Java'),(-70.3166666666667,43.65,'R'),(-76.6666666666667,39.1833333333333,'R'),(-71.0333333333333,42.3666666666667,'R'),(-72.5333333333333,42.2,'R'),(-83.0166666666667,42.4166666666667,'Python'),(-84.6,42.7833333333333,'Python'),(-93.2166666666667,44.8833333333333,'Python'),(-90.0833333333333,32.3166666666667,'Java'),(-94.5833333333333,39.1166666666667,'Java'),(-90.3833333333333,38.75,'Python'),(-108.533333333333,45.8,'Python'),(-95.9,41.3,'Python'),(-115.166666666667,36.0833333333333,'Java'),(-71.4333333333333,42.9333333333333,'R'),(-74.1666666666667,40.7,'R'),(-106.616666666667,35.05,'Python'),(-78.7333333333333,42.9333333333333,'R'),(-73.9666666666667,40.7833333333333,'R'),(-80.9333333333333,35.2166666666667,'Python'),(-78.7833333333333,35.8666666666667,'Python'),(-100.75,46.7666666666667,'Java'),(-84.5166666666667,39.15,'Java'),(-81.85,41.4,'Java'),(-82.8833333333333,40,'Java'),(-97.6,35.4,'Python'),(-122.666666666667,45.5333333333333,'Python'),(-75.25,39.8833333333333,'Python'),(-80.2166666666667,40.5,'Python'),(-71.4333333333333,41.7333333333333,'R'),(-81.1166666666667,33.95,'R'),(-96.7333333333333,43.5666666666667,'Python'),(-90,35.05,'R'),(-86.6833333333333,36.1166666666667,'R'),(-97.7,30.3,'Python'),(-96.85,32.85,'Java'),(-95.35,29.9666666666667,'Java'),(-98.4666666666667,29.5333333333333,'Java'),(-111.966666666667,40.7666666666667,'Python'),(-73.15,44.4666666666667,'R'),(-77.3333333333333,37.5,'Python'),(-122.3,47.5333333333333,'Python'),(-89.3333333333333,43.1333333333333,'R'),(-104.816666666667,41.15,'Java')]\n",
    "cities = [([longitude, latitude], language) for longitude, latitude, language in cities]\n",
    "\n",
    "len(cities)\n"
   ]
  },
  {
   "cell_type": "code",
   "execution_count": 36,
   "metadata": {},
   "outputs": [],
   "source": [
    "# Predict the favorite programming languages for places that weren’t part of the survey"
   ]
  },
  {
   "cell_type": "code",
   "execution_count": 45,
   "metadata": {},
   "outputs": [],
   "source": [
    "import matplotlib.pyplot as plt\n",
    "%matplotlib inline"
   ]
  },
  {
   "cell_type": "code",
   "execution_count": 54,
   "metadata": {},
   "outputs": [],
   "source": [
    "# Step 1: Plot the data\n",
    "\n",
    "def plot_state_borders(plt, color='0.8'):\n",
    "    pass\n",
    "\n",
    "def plot_cities():\n",
    "\n",
    "    # key is language, value is pair (longitudes, latitudes)\n",
    "    plots = { \"Java\" : ([], []), \"Python\" : ([], []), \"R\" : ([], []) }\n",
    "\n",
    "    # we want each language to have a different marker and color\n",
    "    markers = { \"Java\" : \"o\", \"Python\" : \"s\", \"R\" : \"^\" }\n",
    "    colors  = { \"Java\" : \"r\", \"Python\" : \"b\", \"R\" : \"g\" }\n",
    "\n",
    "    for (longitude, latitude), language in cities:\n",
    "        plots[language][0].append(longitude)\n",
    "        plots[language][1].append(latitude)\n",
    "\n",
    "    # create a scatter series for each language\n",
    "    for language, (x, y) in plots.items():\n",
    "        plt.scatter(x, y, color=colors[language], marker=markers[language],\n",
    "                          label=language, zorder=10)\n",
    "\n",
    "    plot_state_borders(plt)    # assume we have a function that does this\n",
    "\n",
    "    plt.legend(loc=0)          # let matplotlib choose the location\n",
    "    plt.axis([-130,-60,20,55]) # set the axes\n",
    "    plt.title(\"Favorite Programming Languages\")\n",
    "    plt.show()"
   ]
  },
  {
   "cell_type": "code",
   "execution_count": 55,
   "metadata": {},
   "outputs": [
    {
     "data": {
      "image/png": "[encoded data removed]",
      "text/plain": [
       "<Figure size 432x288 with 1 Axes>"
      ]
     },
     "metadata": {
      "needs_background": "light"
     },
     "output_type": "display_data"
    }
   ],
   "source": [
    "plot_cities()"
   ]
  },
  {
   "cell_type": "raw",
   "metadata": {},
   "source": [
    "cities = [([-122.3 , 47.53], \"Python\"), \n",
    "          ([ -96.85, 32.85], \"Java\")]"
   ]
  },
  {
   "cell_type": "code",
   "execution_count": 90,
   "metadata": {},
   "outputs": [],
   "source": [
    "locations = [location for (location, language) in cities]\n",
    "#locations"
   ]
  },
  {
   "cell_type": "code",
   "execution_count": 93,
   "metadata": {},
   "outputs": [],
   "source": [
    "languages = [language for (location, language) in cities]\n",
    "#languages"
   ]
  },
  {
   "cell_type": "code",
   "execution_count": 100,
   "metadata": {},
   "outputs": [],
   "source": [
    "# Non-pythonic way\n",
    "cities2 = []\n",
    "for i in range (len(cities)):\n",
    "    cities2.append(LabeledPoint(locations[i], languages[i]))\n",
    "    \n",
    "#cities2"
   ]
  },
  {
   "cell_type": "code",
   "execution_count": 104,
   "metadata": {},
   "outputs": [
    {
     "data": {
      "text/plain": [
       "[LabeledPoint(point=[-86.75, 33.5666666666667], label='Python'),\n",
       " LabeledPoint(point=[-88.25, 30.6833333333333], label='Python'),\n",
       " LabeledPoint(point=[-112.016666666667, 33.4333333333333], label='Java'),\n",
       " LabeledPoint(point=[-110.933333333333, 32.1166666666667], label='Java'),\n",
       " LabeledPoint(point=[-92.2333333333333, 34.7333333333333], label='R')]"
      ]
     },
     "execution_count": 104,
     "metadata": {},
     "output_type": "execute_result"
    }
   ],
   "source": [
    "# Pythonic way using list comprehension\n",
    "cities2 = [LabeledPoint(locations[_], languages[_])\n",
    "          for _ in range(len(cities))]\n",
    "cities2[:5]"
   ]
  },
  {
   "cell_type": "code",
   "execution_count": 105,
   "metadata": {},
   "outputs": [
    {
     "name": "stdout",
     "output_type": "stream",
     "text": [
      "1 neighbor[s]: 40 correct out of 75\n",
      "3 neighbor[s]: 44 correct out of 75\n",
      "5 neighbor[s]: 41 correct out of 75\n",
      "7 neighbor[s]: 35 correct out of 75\n"
     ]
    }
   ],
   "source": [
    "# try several different values for k\n",
    "for k in[1, 3, 5, 7]: \n",
    "    num_correct = 0\n",
    "\n",
    "    for city in cities2:\n",
    "        location, actual_language = city \n",
    "        other_cities = [other_city\n",
    "                        for other_city in cities2 \n",
    "                        if other_city != city]\n",
    "        \n",
    "        predicted_language = knn_classify(k, other_cities, location) \n",
    "        if predicted_language == actual_language:\n",
    "            num_correct += 1\n",
    "\n",
    "    print(k, \"neighbor[s]:\", num_correct, \"correct out of\", len(cities2))"
   ]
  },
  {
   "cell_type": "code",
   "execution_count": 106,
   "metadata": {},
   "outputs": [
    {
     "data": {
      "text/plain": [
       "58.666666666666664"
      ]
     },
     "execution_count": 106,
     "metadata": {},
     "output_type": "execute_result"
    }
   ],
   "source": [
    "44/75*100"
   ]
  },
  {
   "cell_type": "markdown",
   "metadata": {},
   "source": [
    "It looks like 3-nearest neighbors performs the best, giving the correct result about 59% of the time."
   ]
  },
  {
   "cell_type": "markdown",
   "metadata": {},
   "source": [
    "What regions would get classified to which languages under each nearest neighbors scheme? We can do that by classifying an entire grid worth of points, and then plotting them as we did the cities"
   ]
  },
  {
   "cell_type": "code",
   "execution_count": 109,
   "metadata": {},
   "outputs": [],
   "source": [
    "plots = { \"Java\" : ([], []), \"Python\" : ([], []), \"R\" : ([], []) }\n",
    "k = 1 # or 3, or 5, or ...\n",
    "for longitude in range(-130, -60): \n",
    "    for latitude in range(20, 55):\n",
    "        predicted_language = knn_classify(k, cities2, [longitude, latitude])\n",
    "        plots[predicted_language][0].append(longitude)\n",
    "        plots[predicted_language][1].append(latitude)"
   ]
  },
  {
   "cell_type": "code",
   "execution_count": 139,
   "metadata": {},
   "outputs": [],
   "source": [
    "def plot_cities2(k: int):\n",
    "\n",
    "    # key is language, value is pair (longitudes, latitudes)\n",
    "    plots = { \"Java\" : ([], []), \"Python\" : ([], []), \"R\" : ([], []) }\n",
    "\n",
    "    # we want each language to have a different marker and color\n",
    "    markers = { \"Java\" : \"o\", \"Python\" : \"s\", \"R\" : \"^\" }\n",
    "    colors  = { \"Java\" : \"r\", \"Python\" : \"b\", \"R\" : \"g\" }\n",
    "\n",
    "    #k = 1 # or 3, or 5, or ...\n",
    "    for longitude in range(-130, -60): \n",
    "        for latitude in range(20, 55):\n",
    "            predicted_language = knn_classify(k, cities2, [longitude, latitude])\n",
    "            plots[predicted_language][0].append(longitude)\n",
    "            plots[predicted_language][1].append(latitude)\n",
    "            \n",
    "    plt.figure(figsize=(10,8))\n",
    "\n",
    "    # create a scatter series for each language\n",
    "    for language, (x, y) in plots.items():\n",
    "        plt.scatter(x, y, color=colors[language], marker=markers[language],\n",
    "                          label=language, zorder=10)\n",
    "\n",
    "    plot_state_borders(plt)    # assume we have a function that does this\n",
    "\n",
    "    plt.legend(loc=0)          # let matplotlib choose the location\n",
    "    plt.axis([-130,-60,20,55]) # set the axes\n",
    "    plt.title(\"Favorite Programming Languages\")\n",
    "    plt.show()"
   ]
  },
  {
   "cell_type": "code",
   "execution_count": 140,
   "metadata": {},
   "outputs": [
    {
     "data": {
      "image/png": "[encoded data removed]",
      "text/plain": [
       "<Figure size 720x576 with 1 Axes>"
      ]
     },
     "metadata": {
      "needs_background": "light"
     },
     "output_type": "display_data"
    }
   ],
   "source": [
    "plot_cities2(1)"
   ]
  },
  {
   "cell_type": "code",
   "execution_count": 141,
   "metadata": {},
   "outputs": [
    {
     "data": {
      "image/png": "[encoded data removed]",
      "text/plain": [
       "<Figure size 720x576 with 1 Axes>"
      ]
     },
     "metadata": {
      "needs_background": "light"
     },
     "output_type": "display_data"
    }
   ],
   "source": [
    "plot_cities2(3)"
   ]
  },
  {
   "cell_type": "code",
   "execution_count": 142,
   "metadata": {},
   "outputs": [
    {
     "data": {
      "image/png": "[encoded data removed]",
      "text/plain": [
       "<Figure size 720x576 with 1 Axes>"
      ]
     },
     "metadata": {
      "needs_background": "light"
     },
     "output_type": "display_data"
    }
   ],
   "source": [
    "plot_cities2(5)"
   ]
  },
  {
   "cell_type": "code",
   "execution_count": null,
   "metadata": {},
   "outputs": [],
   "source": []
  },
  {
   "cell_type": "markdown",
   "metadata": {},
   "source": [
    "## Example 2"
   ]
  },
  {
   "cell_type": "code",
   "execution_count": null,
   "metadata": {},
   "outputs": [],
   "source": [
    "import requests\n",
    "data = requests.get()"
   ]
  },
  {
   "cell_type": "code",
   "execution_count": null,
   "metadata": {},
   "outputs": [],
   "source": []
  },
  {
   "cell_type": "code",
   "execution_count": null,
   "metadata": {},
   "outputs": [],
   "source": []
  },
  {
   "cell_type": "code",
   "execution_count": null,
   "metadata": {},
   "outputs": [],
   "source": []
  },
  {
   "cell_type": "code",
   "execution_count": null,
   "metadata": {},
   "outputs": [],
   "source": []
  },
  {
   "cell_type": "code",
   "execution_count": null,
   "metadata": {},
   "outputs": [],
   "source": []
  }
 ],
 "metadata": {
  "kernelspec": {
   "display_name": "Python 3",
   "language": "python",
   "name": "python3"
  },
  "language_info": {
   "codemirror_mode": {
    "name": "ipython",
    "version": 3
   },
   "file_extension": ".py",
   "mimetype": "text/x-python",
   "name": "python",
   "nbconvert_exporter": "python",
   "pygments_lexer": "ipython3",
   "version": "3.7.1"
  }
 },
 "nbformat": 4,
 "nbformat_minor": 2
}

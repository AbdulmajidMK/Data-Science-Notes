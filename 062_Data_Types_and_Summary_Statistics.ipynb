{
 "cells": [
  {
   "cell_type": "markdown",
   "metadata": {},
   "source": [
    "# Summary Statistics\n",
    "\n",
    "Summary statistics represent an entire dataset and describe where an observation falls within it. These statistics in- clude measures of central tendency, measures of variability, percen- tiles, and correlation."
   ]
  },
  {
   "cell_type": "markdown",
   "metadata": {},
   "source": [
    "## Data Types\n",
    "\n",
    "**Statistics** is the science of learning from data. However, there are different types of variables, and they record various kinds of information. Crucially, the type of information determines what you can learn from it, and, importantly, what you cannot learn from it. Consequently, you must understand the different types of data. **Data** carries information that you are gathering for an inquiry. **Data** are evidence you can use to answer questions.\n",
    "\n",
    "<img src=\"images/stat-datatypes.png\" alt=\"\" style=\"width: 400px;\"/>\n"
   ]
  },
  {
   "cell_type": "markdown",
   "metadata": {},
   "source": [
    "### Quantitative versus Qualitative Data\n",
    "\n",
    "- **Quantitative**: The information is recorded as `numbers` and represents an objective measurement or a count. Temperature, weight, and a count of transactions are all quantitative data. Analysts also refer to this type as `numerical data`.\n",
    "\n",
    "    - **Continuous** variables can take on any numeric value, and the scale can be meaningfully divided into smaller increments, including fractional and decimal values. There are an infinite number of possible values between any two values. And differences between any two values are always meaningful. Typically, you measure continuous variables on a scale. For example, when you measure height, weight, and tempera- ture, you have continuous data.\n",
    "    \n",
    "        - **Intervals**: On interval scales, the interval, or distance, between any two points is meaningful. For example, the 20-degree difference between 10 and 30 Celsius is equivalent to the difference between 50 and 70 degrees. However, `these scales don’t have a zero measurement that indicates the lack of the characteristic`. For example, Celsius has a zero measure, but it does not mean there is no temperature.\n",
    "        \n",
    "        Due to this lack of a true zero, `measurement ratios are not valid on interval scales`. Thirty degrees Celsius is not three times the temperature as 10 degrees Celsius. **You can add and subtract values on an in-terval scale, but you cannot multiply or divide them**.\n",
    "        \n",
    "        - **Ratio**: On ratio scales, intervals are still meaningful. Additionally, `these scales have a zero measurement that represents a lack of the property`. For example, zero kilograms indicates a lack of weight. Consequently, measurements ratios are valid for these scales. 30 kg is three times the weight of 10 kg. **You can add, subtract, multiply, and divide values on an interval scale**.\n",
    "        \n",
    "    With continuous variables, you can assess properties such as the `mean`, `median`, `distribution`, `range`, and `standard deviation`. **Continuous variables** allow you to assess the wide variety of properties.\n",
    "        \n",
    "    Graphical representations: `histogram`, `scatter plot`, `time series`.\n",
    "        \n",
    "    - **Discrete** quantitative data are a count of the presence of a characteristic, result, item, or activity. These counts are nonnegative integers that cannot be divided into smaller increments. For example, a single household can have 1 or 2 cars, but it cannot have 1.6. There are a finite number of possible values between any two values. Other examples of discrete variables include class sizes, number of candies in a jar, and the number of calls that a call center receives.\n",
    "    \n",
    "    With discrete variables, you can calculate and assess a rate of occurrence or a summary of the count, such as the `mean`, `sum`, and `standard deviation`. For example, U.S. households had an average of 2.11 vehicles in 2014.\n",
    "    \n",
    "    Graphical representations: `bar chart`.\n",
    "\n",
    "- **Qualitative**: The information represents characteristics that you do `not measure with numbers`. Instead, observations fall within a countable number of groups. This type of variable can capture information that isn’t easily measured and can be subjective. Taste, eye color, architectural style, and marital status are all types of qualitative variables.\n",
    "\n",
    "    When you record information that categorizes your observations, you are collecting **qualitative data**. There are three types of qualitative variables: **categorical**, **binary**, and **ordinal**. With these data types, you’re often interested in the proportions of each category. \n",
    "    \n",
    "    Graphical representations: `bar chart`, `pie chart` (useful for displaying counts and relative percentages of each group).\n",
    "    \n",
    "    - **Categorical** data have values that you can put into a countable number of distinct groups based on a characteristic. For a categorical variable, you can assign categories, but the categories have `no natural order`. Categorical variables can define groups in your data that you want to compare, such as the experimental conditions of treatment and control. Analysts also refer to categorical data as both **attribute** and **nominal** variables. For example, college major is a categorical variable that can have val- ues such as psychology, political science, engineering, biology, etc.\n",
    "    \n",
    "    - **Binary** data can have only two values. If you can place an observation into only two categories, you have a binary variable. Statisticians also refer to binary data as both **dichotomous** data and **indicator** variables. For example, pass/fail, male/female, and the presence/absence of a characteristic are all binary data. From binary variables, analysts can calculate `proportions` or `percentages`, such as the proportion of defective products in a sample. Simply take the number of faulty products and divide by the sample size.\n",
    "    \n",
    "    - **Ordinal** data have `at least three categories, and the categories have a natural order`. Examples of ordinal variables include overall status (poor to excellent), agreement (strongly disagree to strongly agree), and rank (such as sporting teams).\n",
    "    \n",
    "    **Ordinal variables** have a `combination of qualitative and quantitative properties`. On the one hand, these variables have a limited number of discrete values like categorical variables. On the other hand, the differences between the values provides some information like qualitive variables. However, the difference between adjacent values might not be consistent. For example, first, second, and third in a race are ordinal data. The difference in time between first and second place might not be the same the difference between second and third place.\n",
    "    \n",
    "    Analysts often represent ordinal variables using numbers, such as a 1-5 Likert scale that measures satisfaction. In number form, you can calculate `average scores` as with quantitative variables. However, `the numbers have limited usefulness because the differences between ranks might not be constant`.\n",
    "\n",
    "In cases where you have a choice about recording a characteristic as a **continuous** or **qualitative** variable, `the best practice is to record the continuous data because you can learn so much more`."
   ]
  },
  {
   "cell_type": "markdown",
   "metadata": {},
   "source": [
    "### Histograms - Distributions\n",
    "\n",
    "**Histograms** are an excellent way `to graph continuous variables` because they show the distribution of values. Understanding the distribution allows you to determine which values are more and less common amongst other properties.\n",
    "\n",
    "Each histogram bar spans a range of values for the continuous variable on the horizontal X-axis. These ranges are also known as `bins`. The height of each bar represents either the number or proportion of observations that fall within each bin.\n",
    "\n",
    "<img src=\"images/stat-histogram.png\" alt=\"\" style=\"width: 400px;\"/>\n",
    "\n",
    "Histograms help in determining whether the distribution is symmetric or skewed (shape of the distribution), understanding the central tendency, spread of values, identifying where the most common values fall, and outliers."
   ]
  },
  {
   "cell_type": "markdown",
   "metadata": {},
   "source": [
    "### Scatter Plot - Trends\n",
    "\n",
    "When you have `two continuous variables`, you can graph them using a **scatterplot**. Scatterplots are great for displaying the relationship between two continuous variables. Each dot on the graph has an X and Y coordinate that corresponds to a pair of values for one subject or item.\n",
    "\n",
    "On scatterplots, statisticians have guidelines for which variable you place along each axis.\n",
    "- **X-axis**: This is the horizontal axis on the chart. Typically, analysts place the `explanatory variable` on this axis. This variable explains the changes in the other variable.\n",
    "- **Y-axis**: This is the vertical axis on a graph. By tradition, analysts place the `outcome variable` on this axis. The other variable explains changes in this variable. \n",
    "\n",
    "In cases where there isn’t a clear explanatory and outcome relationship between variables, it does not matter where you place each variable.\n",
    "\n",
    "<img src=\"images/stat-scatterplot.png\" alt=\"\" style=\"width: 400px;\"/>\n",
    "\n",
    "**Scatterplots** display relationships between pairs of continuous variables. \n",
    "\n",
    "### Time Series - Trends & Patterns over Time\n",
    "\n",
    "**Time series** plots do the same, except `one of the continuous variables is time`. These plots display the continuous variable over time and allow you to determine whether the continuous variable changes over time. You can look for both trends and patterns over time. Time series plots `typically take measurements at regular intervals`, such as daily, weekly, monthly, and annually. These graphs display time on the X-axis. The Y-axis shows the continuous measurement scale.\n",
    "\n",
    "<img src=\"images/stat-timeseries.png\" alt=\"\" style=\"width: 400px;\"/>\n"
   ]
  },
  {
   "cell_type": "markdown",
   "metadata": {},
   "source": [
    "### Bar Chart\n",
    "\n",
    "**Bar charts** are a standard way to graph discrete variables. Each bar represents a distinct value, and the height represents its proportion in the entire sample. Use bar charts to indicate which values occur are more and less frequently.\n",
    "\n",
    "<img src=\"images/stat-barchart.png\" alt=\"\" style=\"width: 400px;\"/>\n",
    "\n",
    "**Bar charts** and **histograms** look similar. However, the bars on a **histogram** touch while they are separate on a **bar chart**. Each bar on **histogram** represents a range of values that continuous measurements fall within. On a **bar chart**, a bar represents one of the discrete values."
   ]
  },
  {
   "cell_type": "markdown",
   "metadata": {},
   "source": [
    "### Pie Chart\n",
    "\n",
    "**Pie charts** are great for highlighting the proportions that groups comprise of the whole. You can use them with categorical, binary, and ordinal data that define groups in your sample.\n",
    "\n",
    "<img src=\"images/stat-piechart.png\" alt=\"\" style=\"width: 400px;\"/>\n"
   ]
  },
  {
   "cell_type": "code",
   "execution_count": null,
   "metadata": {},
   "outputs": [],
   "source": []
  },
  {
   "cell_type": "code",
   "execution_count": null,
   "metadata": {},
   "outputs": [],
   "source": []
  },
  {
   "cell_type": "code",
   "execution_count": null,
   "metadata": {},
   "outputs": [],
   "source": []
  },
  {
   "cell_type": "markdown",
   "metadata": {},
   "source": [
    "A relationship between a pair of variables indicates the value of one variable depends on the value of another variable. In other words, if you know the value of one variable, you can predict the value of the other variable more accurately."
   ]
  },
  {
   "cell_type": "code",
   "execution_count": null,
   "metadata": {},
   "outputs": [],
   "source": []
  },
  {
   "cell_type": "code",
   "execution_count": null,
   "metadata": {},
   "outputs": [],
   "source": []
  },
  {
   "cell_type": "code",
   "execution_count": null,
   "metadata": {},
   "outputs": [],
   "source": []
  },
  {
   "cell_type": "code",
   "execution_count": null,
   "metadata": {},
   "outputs": [],
   "source": []
  },
  {
   "cell_type": "code",
   "execution_count": null,
   "metadata": {},
   "outputs": [],
   "source": []
  }
 ],
 "metadata": {
  "kernelspec": {
   "display_name": "Python 3",
   "language": "python",
   "name": "python3"
  },
  "language_info": {
   "codemirror_mode": {
    "name": "ipython",
    "version": 3
   },
   "file_extension": ".py",
   "mimetype": "text/x-python",
   "name": "python",
   "nbconvert_exporter": "python",
   "pygments_lexer": "ipython3",
   "version": "3.7.1"
  }
 },
 "nbformat": 4,
 "nbformat_minor": 4
}

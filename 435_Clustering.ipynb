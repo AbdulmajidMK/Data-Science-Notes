{
 "cells": [
  {
   "cell_type": "markdown",
   "metadata": {},
   "source": [
    "# Clustering"
   ]
  },
  {
   "cell_type": "markdown",
   "metadata": {},
   "source": [
    "In `supervised learning`, algorithms start with a set of labeled data and use that as the basis for making predictions about new, unlabeled data. **Clustering**, however, is an example of `unsupervised learning`, in which we work with completely unlabeled data (or in which our data has labels but we ignore them).\n",
    "\n",
    "Whenever you look at some source of data, `it’s likely that the data will somehow form clusters`. There is generally no “correct” clustering and the `clusters won’t label themselves`. You’ll have to do that by looking at the data underlying each one."
   ]
  },
  {
   "cell_type": "markdown",
   "metadata": {},
   "source": [
    "## k-means\n",
    "One of the simplest clustering methods is **k-means**, in which the number of clusters `k` is chosen in advance, after which the goal is to partition the inputs into sets `S1, ..., Sk` in a way that minimizes the total sum of squared distances from each point to the mean of its assigned cluster.\n",
    "\n",
    "There are a lot of ways to assign `n` points to `k` clusters, which means that finding an optimal clustering is a very hard problem. We’ll settle for an iterative algorithm that usually finds a good clustering:\n",
    "\n",
    "1. Start with a set of k-means, which are points in d-dimensional space.\n",
    "2. Assign each point to the mean to which it is closest.\n",
    "3. If no point’s assignment has changed, stop and keep the clusters.\n",
    "4. If some point’s assignment has changed, recompute the means and return to step 2.\n",
    "\n",
    "To start with, we will create a helper function that measures how many coordinates two vectors differ in. We will us this to track our training progress:"
   ]
  },
  {
   "cell_type": "code",
   "execution_count": 1,
   "metadata": {},
   "outputs": [],
   "source": [
    "from scratch.linear_algebra import Vector\n",
    "\n",
    "def num_differences(v1: Vector, v2: Vector) -> int:\n",
    "    assert len(v1) == len(v2)\n",
    "    return len([x1 for x1, x2 in zip(v1, v2) if x1 != x2])"
   ]
  },
  {
   "cell_type": "code",
   "execution_count": 4,
   "metadata": {},
   "outputs": [],
   "source": [
    "assert num_differences([1,2,3], [2,1,3]) == 2\n",
    "assert num_differences([1,2], [1,2]) == 0"
   ]
  },
  {
   "cell_type": "markdown",
   "metadata": {},
   "source": [
    "We also need a function, that given some vectors and their assignments to clusters, computes the means of the clusters."
   ]
  },
  {
   "cell_type": "code",
   "execution_count": 6,
   "metadata": {},
   "outputs": [],
   "source": [
    "from typing import List\n",
    "from scratch.linear_algebra import vector_mean\n",
    "\n",
    "assert vector_mean([[1, 2], [3, 4], [5, 6]]) == [3, 4]\n",
    "\n",
    "def cluster_means(k: int,\n",
    "                 inputs: List[Vector],\n",
    "                 assignments: List[int]) -> List[Vector]:\n",
    "    \n",
    "    # clusters[i] contains the inputs whose assignment is i\n",
    "    clusters = [[] for i in range(k)]\n",
    "    \n",
    "    for input, assignment in zip(inputs, assignments):\n",
    "        clusters[assignment].append(input)\n",
    "        \n",
    "    # if a cluster is empty, just use a random point\n",
    "    return [vector_mean(cluster) if cluster else random.choice(inputs)\n",
    "           for cluster in clusters]"
   ]
  },
  {
   "cell_type": "code",
   "execution_count": 57,
   "metadata": {},
   "outputs": [],
   "source": [
    "import itertools\n",
    "import random\n",
    "import tqdm\n",
    "from scratch.linear_algebra import squared_distance\n",
    "\n",
    "class KMeans:\n",
    "    \n",
    "    def __init__(self, k: int) -> None:\n",
    "        self.k = k # number of clusters\n",
    "        self.means = None # mean of clusters\n",
    "        \n",
    "    def classify(self, input: Vector) -> int:\n",
    "        \"\"\"\n",
    "        Return the index of the cluster closest to the input\n",
    "        \"\"\"\n",
    "        return min(range(self.k),\n",
    "                  key=lambda i: squared_distance(input, self.means[i]))\n",
    "    \n",
    "    def train(self, inputs: List[Vector]) -> None:\n",
    "        \n",
    "        # start with random assignmnets\n",
    "        assignments = [random.randrange(self.k) for _ in inputs]\n",
    "        \n",
    "        with tqdm.tqdm(itertools.count()) as t:\n",
    "            for _ in t:\n",
    "                \n",
    "                # compute means and find new assignmnets\n",
    "                self.means = cluster_means(self.k, inputs, assignments)\n",
    "                new_assignments = [self.classify(input) for input in inputs]\n",
    "                \n",
    "                #print(self.means)\n",
    "                \n",
    "                # check how many assignmnets changed and if we're done\n",
    "                num_changed = num_differences(assignments, new_assignments)\n",
    "                if num_changed == 0:\n",
    "                    return\n",
    "                \n",
    "                # otherwise keep the new assignments, and compute new means\n",
    "                assignments = new_assignments\n",
    "                self.means = cluster_means(self.k, inputs, assignments)\n",
    "                t.set_description(f\"changed: {num_changed} / {len(inputs)}\")"
   ]
  },
  {
   "cell_type": "code",
   "execution_count": 11,
   "metadata": {},
   "outputs": [],
   "source": [
    "inputs: List[List[float]] = [[-14,-5],[13,13],[20,23],\n",
    "                             [-19,-11],[-9,-16],[21,27],[-49,15],[26,13],[-46,5],\n",
    "                             [-34,-1],[11,15],[-49,0],[-22,-16],[19,28],[-12,-8],\n",
    "                             [-13,-19],[-41,8],[-11,-6],[-25,-9],[-18,-3]]"
   ]
  },
  {
   "cell_type": "code",
   "execution_count": 42,
   "metadata": {},
   "outputs": [],
   "source": [
    "inputs: List[List[float]] = [[-14,-5],\n",
    "                             [-19,-11],\n",
    "                             [-22,-16],[-12,-8],\n",
    "                             [-11,-6],[-25,-9],[-18,-3]]"
   ]
  },
  {
   "cell_type": "code",
   "execution_count": 52,
   "metadata": {},
   "outputs": [],
   "source": [
    "inputs: List[List[float]] = [[-14,-5],\n",
    "                             [-13,-6],\n",
    "                             [5,6], [7,8]]"
   ]
  },
  {
   "cell_type": "code",
   "execution_count": 20,
   "metadata": {},
   "outputs": [],
   "source": [
    "# Plot the data\n",
    "\n",
    "import matplotlib.pyplot as plt\n",
    "%matplotlib inline\n",
    "\n",
    "def plot_user_locations(xs, ys):\n",
    "    \n",
    "    plt.figure(figsize=(10,8))\n",
    "\n",
    "    plt.scatter(xs, ys)\n",
    "\n",
    "    plt.title(\"User Locations\")\n",
    "    plt.xlabel(\"Blocks east of city center\")\n",
    "    plt.ylabel(\"Blocks north of city center\")\n",
    "    plt.savefig('images/clustering1.png')\n",
    "    plt.show()"
   ]
  },
  {
   "cell_type": "code",
   "execution_count": 53,
   "metadata": {},
   "outputs": [
    {
     "data": {
      "text/plain": [
       "[-14, -13, 5, 7]"
      ]
     },
     "execution_count": 53,
     "metadata": {},
     "output_type": "execute_result"
    }
   ],
   "source": [
    "xs = [x for x, y in inputs]\n",
    "xs"
   ]
  },
  {
   "cell_type": "code",
   "execution_count": 54,
   "metadata": {},
   "outputs": [],
   "source": [
    "ys = [y for x, y in inputs]\n",
    "#ys"
   ]
  },
  {
   "cell_type": "code",
   "execution_count": 55,
   "metadata": {},
   "outputs": [
    {
     "data": {
      "image/png": "[encoded data removed]",
      "text/plain": [
       "<Figure size 720x576 with 1 Axes>"
      ]
     },
     "metadata": {
      "needs_background": "light"
     },
     "output_type": "display_data"
    }
   ],
   "source": [
    "plot_user_locations(xs, ys)"
   ]
  },
  {
   "cell_type": "markdown",
   "metadata": {},
   "source": [
    "Depending on how you look at it, you can see 2 or 3 clusters. It is easy to do visually because the data is only two-dimensional. With more dimensions, it would be a lot harder to eyeball."
   ]
  },
  {
   "cell_type": "code",
   "execution_count": 56,
   "metadata": {},
   "outputs": [
    {
     "name": "stderr",
     "output_type": "stream",
     "text": [
      "changed: 1 / 4: : 0it [00:00, ?it/s]"
     ]
    },
    {
     "name": "stdout",
     "output_type": "stream",
     "text": [
      "[[5, 6], [-13.5, -5.5], [6.0, 7.0]]\n",
      "[[5.0, 6.0], [-13.5, -5.5], [7.0, 8.0]]\n"
     ]
    },
    {
     "name": "stderr",
     "output_type": "stream",
     "text": [
      "\n"
     ]
    }
   ],
   "source": [
    "random.seed(12) # to get the same results every time\n",
    "clusterer = KMeans(k=3)\n",
    "clusterer.train(inputs)\n",
    "means = sorted(clusterer.means) # sort for the unit test"
   ]
  },
  {
   "cell_type": "code",
   "execution_count": 40,
   "metadata": {},
   "outputs": [],
   "source": [
    "assert len(means) == 3"
   ]
  },
  {
   "cell_type": "code",
   "execution_count": null,
   "metadata": {},
   "outputs": [],
   "source": []
  },
  {
   "cell_type": "code",
   "execution_count": null,
   "metadata": {},
   "outputs": [],
   "source": []
  },
  {
   "cell_type": "code",
   "execution_count": null,
   "metadata": {},
   "outputs": [],
   "source": []
  }
 ],
 "metadata": {
  "kernelspec": {
   "display_name": "Python 3",
   "language": "python",
   "name": "python3"
  },
  "language_info": {
   "codemirror_mode": {
    "name": "ipython",
    "version": 3
   },
   "file_extension": ".py",
   "mimetype": "text/x-python",
   "name": "python",
   "nbconvert_exporter": "python",
   "pygments_lexer": "ipython3",
   "version": "3.7.1"
  }
 },
 "nbformat": 4,
 "nbformat_minor": 2
}

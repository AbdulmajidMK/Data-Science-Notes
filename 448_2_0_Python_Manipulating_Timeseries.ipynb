{
 "cells": [
  {
   "cell_type": "raw",
   "metadata": {},
   "source": [
    "From: https://github.com/ksatola\n",
    "Version: 1.0.0"
   ]
  },
  {
   "cell_type": "markdown",
   "metadata": {},
   "source": [
    "# Manipulating Time Series Data in Python"
   ]
  },
  {
   "cell_type": "markdown",
   "metadata": {},
   "source": [
    "## Table of Contents\n",
    "\n",
    "- [Introduction](#intro)\n",
    "- [Working with Time Series in Pandas](#s1)\n",
    "    - [Indexing & resampling time series](#s2)\n",
    "    - [Lags, changes, and returns for stock price series](s#3)\n",
    "- [Basic Time Series Metrics & Resampling](s#4)\n",
    "    - Compare the performance of several asset classes\n",
    "    - Comparing stock prices with a benchmark\n",
    "    - Plot performance difference vs benchmark index\n",
    "    - Changing the time series frequency: resampling\n",
    "    - Convert monthly to weekly data"
   ]
  },
  {
   "cell_type": "markdown",
   "metadata": {},
   "source": [
    "---\n",
    "<a id='intro'></a>"
   ]
  },
  {
   "cell_type": "markdown",
   "metadata": {},
   "source": [
    "## Introduction\n",
    "\n",
    "In this course you'll learn the basics of manipulating time series data. Time series data are data that are indexed by a sequence of dates or times. You'll learn how to use methods built into Pandas to work with this index. You'll also learn how resample time series to change the frequency. This course will also show you how to calculate rolling and cumulative values for times series."
   ]
  },
  {
   "cell_type": "code",
   "execution_count": 13,
   "metadata": {},
   "outputs": [],
   "source": [
    "import pandas as pd\n",
    "import matplotlib.pyplot as plt\n",
    "%matplotlib inline\n",
    "\n",
    "path = \"data/dc27/\""
   ]
  },
  {
   "cell_type": "markdown",
   "metadata": {},
   "source": [
    "---\n",
    "<a id='s1'></a>"
   ]
  },
  {
   "cell_type": "markdown",
   "metadata": {},
   "source": [
    "## Working with Time Series in Pandas\n",
    "\n",
    "<img src=\"images/ts2_001.png\" alt=\"\" style=\"width: 400px;\"/>\n",
    "\n",
    "### Your first time series\n",
    "\n",
    "Create a week of data, iterate over the result, and obtain the `dayofweek` and `weekday_name` for each date."
   ]
  },
  {
   "cell_type": "code",
   "execution_count": 4,
   "metadata": {},
   "outputs": [
    {
     "data": {
      "text/plain": [
       "DatetimeIndex(['2017-01-01', '2017-01-02', '2017-01-03', '2017-01-04',\n",
       "               '2017-01-05', '2017-01-06', '2017-01-07'],\n",
       "              dtype='datetime64[ns]', freq='D')"
      ]
     },
     "execution_count": 4,
     "metadata": {},
     "output_type": "execute_result"
    }
   ],
   "source": [
    "# Create the range of dates here\n",
    "# Use pd.date_range to create seven dates starting from '2017-1-1' \n",
    "#  at (default) daily frequency. Use the arguments start and periods. \n",
    "#  Assign the result to seven_days.\n",
    "seven_days = pd.date_range(start='2017-1-1', periods=7, freq='D')\n",
    "\n",
    "seven_days"
   ]
  },
  {
   "cell_type": "code",
   "execution_count": 11,
   "metadata": {},
   "outputs": [
    {
     "name": "stdout",
     "output_type": "stream",
     "text": [
      "6 Sunday\n",
      "0 Monday\n",
      "1 Tuesday\n",
      "2 Wednesday\n",
      "3 Thursday\n",
      "4 Friday\n",
      "5 Saturday\n"
     ]
    }
   ],
   "source": [
    "# Iterate over the dates and print the number and name of the weekday\n",
    "for day in seven_days:\n",
    "    print(day.dayofweek, day.day_name())"
   ]
  },
  {
   "cell_type": "markdown",
   "metadata": {},
   "source": [
    "---\n",
    "<a id='s2'></a>"
   ]
  },
  {
   "cell_type": "markdown",
   "metadata": {},
   "source": [
    "## Indexing & resampling time series"
   ]
  },
  {
   "cell_type": "code",
   "execution_count": 35,
   "metadata": {},
   "outputs": [
    {
     "data": {
      "text/html": [
       "<div>\n",
       "<style scoped>\n",
       "    .dataframe tbody tr th:only-of-type {\n",
       "        vertical-align: middle;\n",
       "    }\n",
       "\n",
       "    .dataframe tbody tr th {\n",
       "        vertical-align: top;\n",
       "    }\n",
       "\n",
       "    .dataframe thead th {\n",
       "        text-align: right;\n",
       "    }\n",
       "</style>\n",
       "<table border=\"1\" class=\"dataframe\">\n",
       "  <thead>\n",
       "    <tr style=\"text-align: right;\">\n",
       "      <th></th>\n",
       "      <th>date</th>\n",
       "      <th>ozone</th>\n",
       "      <th>pm25</th>\n",
       "      <th>co</th>\n",
       "    </tr>\n",
       "  </thead>\n",
       "  <tbody>\n",
       "    <tr>\n",
       "      <td>0</td>\n",
       "      <td>1999-07-01</td>\n",
       "      <td>0.012024</td>\n",
       "      <td>20.000000</td>\n",
       "      <td>1.300686</td>\n",
       "    </tr>\n",
       "    <tr>\n",
       "      <td>1</td>\n",
       "      <td>1999-07-02</td>\n",
       "      <td>0.027699</td>\n",
       "      <td>23.900000</td>\n",
       "      <td>0.958194</td>\n",
       "    </tr>\n",
       "    <tr>\n",
       "      <td>2</td>\n",
       "      <td>1999-07-03</td>\n",
       "      <td>0.043969</td>\n",
       "      <td>36.700000</td>\n",
       "      <td>1.194444</td>\n",
       "    </tr>\n",
       "    <tr>\n",
       "      <td>3</td>\n",
       "      <td>1999-07-04</td>\n",
       "      <td>0.035162</td>\n",
       "      <td>39.000000</td>\n",
       "      <td>1.081548</td>\n",
       "    </tr>\n",
       "    <tr>\n",
       "      <td>4</td>\n",
       "      <td>1999-07-05</td>\n",
       "      <td>0.038359</td>\n",
       "      <td>28.171429</td>\n",
       "      <td>0.939583</td>\n",
       "    </tr>\n",
       "  </tbody>\n",
       "</table>\n",
       "</div>"
      ],
      "text/plain": [
       "         date     ozone       pm25        co\n",
       "0  1999-07-01  0.012024  20.000000  1.300686\n",
       "1  1999-07-02  0.027699  23.900000  0.958194\n",
       "2  1999-07-03  0.043969  36.700000  1.194444\n",
       "3  1999-07-04  0.035162  39.000000  1.081548\n",
       "4  1999-07-05  0.038359  28.171429  0.939583"
      ]
     },
     "execution_count": 35,
     "metadata": {},
     "output_type": "execute_result"
    }
   ],
   "source": [
    "df = pd.read_csv(path+'data.csv')#, index_col='date')\n",
    "df.drop(['Unnamed: 0'], axis=1, inplace=True)\n",
    "df.head()"
   ]
  },
  {
   "cell_type": "code",
   "execution_count": 36,
   "metadata": {},
   "outputs": [
    {
     "name": "stdout",
     "output_type": "stream",
     "text": [
      "<class 'pandas.core.frame.DataFrame'>\n",
      "RangeIndex: 6317 entries, 0 to 6316\n",
      "Data columns (total 4 columns):\n",
      "date     6317 non-null object\n",
      "ozone    6317 non-null float64\n",
      "pm25     6317 non-null float64\n",
      "co       6317 non-null float64\n",
      "dtypes: float64(3), object(1)\n",
      "memory usage: 197.5+ KB\n",
      "None\n"
     ]
    }
   ],
   "source": [
    "data = df\n",
    "# Inspect data\n",
    "print(data.info())"
   ]
  },
  {
   "cell_type": "code",
   "execution_count": 37,
   "metadata": {},
   "outputs": [
    {
     "data": {
      "text/html": [
       "<div>\n",
       "<style scoped>\n",
       "    .dataframe tbody tr th:only-of-type {\n",
       "        vertical-align: middle;\n",
       "    }\n",
       "\n",
       "    .dataframe tbody tr th {\n",
       "        vertical-align: top;\n",
       "    }\n",
       "\n",
       "    .dataframe thead th {\n",
       "        text-align: right;\n",
       "    }\n",
       "</style>\n",
       "<table border=\"1\" class=\"dataframe\">\n",
       "  <thead>\n",
       "    <tr style=\"text-align: right;\">\n",
       "      <th></th>\n",
       "      <th>date</th>\n",
       "      <th>ozone</th>\n",
       "      <th>pm25</th>\n",
       "      <th>co</th>\n",
       "    </tr>\n",
       "  </thead>\n",
       "  <tbody>\n",
       "    <tr>\n",
       "      <td>0</td>\n",
       "      <td>1999-07-01</td>\n",
       "      <td>0.012024</td>\n",
       "      <td>20.000000</td>\n",
       "      <td>1.300686</td>\n",
       "    </tr>\n",
       "    <tr>\n",
       "      <td>1</td>\n",
       "      <td>1999-07-02</td>\n",
       "      <td>0.027699</td>\n",
       "      <td>23.900000</td>\n",
       "      <td>0.958194</td>\n",
       "    </tr>\n",
       "    <tr>\n",
       "      <td>2</td>\n",
       "      <td>1999-07-03</td>\n",
       "      <td>0.043969</td>\n",
       "      <td>36.700000</td>\n",
       "      <td>1.194444</td>\n",
       "    </tr>\n",
       "    <tr>\n",
       "      <td>3</td>\n",
       "      <td>1999-07-04</td>\n",
       "      <td>0.035162</td>\n",
       "      <td>39.000000</td>\n",
       "      <td>1.081548</td>\n",
       "    </tr>\n",
       "    <tr>\n",
       "      <td>4</td>\n",
       "      <td>1999-07-05</td>\n",
       "      <td>0.038359</td>\n",
       "      <td>28.171429</td>\n",
       "      <td>0.939583</td>\n",
       "    </tr>\n",
       "  </tbody>\n",
       "</table>\n",
       "</div>"
      ],
      "text/plain": [
       "         date     ozone       pm25        co\n",
       "0  1999-07-01  0.012024  20.000000  1.300686\n",
       "1  1999-07-02  0.027699  23.900000  0.958194\n",
       "2  1999-07-03  0.043969  36.700000  1.194444\n",
       "3  1999-07-04  0.035162  39.000000  1.081548\n",
       "4  1999-07-05  0.038359  28.171429  0.939583"
      ]
     },
     "execution_count": 37,
     "metadata": {},
     "output_type": "execute_result"
    }
   ],
   "source": [
    "# Convert the date column to datetime64\n",
    "pd.to_datetime(data.date)\n",
    "data.head()"
   ]
  },
  {
   "cell_type": "code",
   "execution_count": 38,
   "metadata": {},
   "outputs": [
    {
     "name": "stdout",
     "output_type": "stream",
     "text": [
      "<class 'pandas.core.frame.DataFrame'>\n",
      "RangeIndex: 6317 entries, 0 to 6316\n",
      "Data columns (total 4 columns):\n",
      "date     6317 non-null object\n",
      "ozone    6317 non-null float64\n",
      "pm25     6317 non-null float64\n",
      "co       6317 non-null float64\n",
      "dtypes: float64(3), object(1)\n",
      "memory usage: 197.5+ KB\n",
      "None\n"
     ]
    }
   ],
   "source": [
    "# Inspect data \n",
    "print(data.info())"
   ]
  },
  {
   "cell_type": "code",
   "execution_count": 39,
   "metadata": {},
   "outputs": [
    {
     "name": "stdout",
     "output_type": "stream",
     "text": [
      "<class 'pandas.core.frame.DataFrame'>\n",
      "Index: 6317 entries, 1999-07-01 to 2017-03-31\n",
      "Data columns (total 3 columns):\n",
      "ozone    6317 non-null float64\n",
      "pm25     6317 non-null float64\n",
      "co       6317 non-null float64\n",
      "dtypes: float64(3)\n",
      "memory usage: 197.4+ KB\n",
      "None\n"
     ]
    }
   ],
   "source": [
    "# Set date column as index\n",
    "data.set_index('date', inplace=True)\n",
    "# Inspect data \n",
    "print(data.info())"
   ]
  },
  {
   "cell_type": "code",
   "execution_count": 40,
   "metadata": {},
   "outputs": [
    {
     "data": {
      "image/png": "[encoded data removed]",
      "text/plain": [
       "<Figure size 432x288 with 3 Axes>"
      ]
     },
     "metadata": {
      "needs_background": "light"
     },
     "output_type": "display_data"
    }
   ],
   "source": [
    "# Plot data\n",
    "data.plot(subplots=True)\n",
    "plt.show();"
   ]
  },
  {
   "cell_type": "markdown",
   "metadata": {},
   "source": [
    "## Compare annual stock price trends\n",
    "\n",
    "In the video, you have seen how to select sub-periods from a time series.\n",
    "\n",
    "You'll use this to compare the performance for three years of Yahoo stock prices."
   ]
  },
  {
   "cell_type": "code",
   "execution_count": 51,
   "metadata": {},
   "outputs": [
    {
     "data": {
      "text/html": [
       "<div>\n",
       "<style scoped>\n",
       "    .dataframe tbody tr th:only-of-type {\n",
       "        vertical-align: middle;\n",
       "    }\n",
       "\n",
       "    .dataframe tbody tr th {\n",
       "        vertical-align: top;\n",
       "    }\n",
       "\n",
       "    .dataframe thead th {\n",
       "        text-align: right;\n",
       "    }\n",
       "</style>\n",
       "<table border=\"1\" class=\"dataframe\">\n",
       "  <thead>\n",
       "    <tr style=\"text-align: right;\">\n",
       "      <th></th>\n",
       "      <th>price</th>\n",
       "    </tr>\n",
       "    <tr>\n",
       "      <th>date</th>\n",
       "      <th></th>\n",
       "    </tr>\n",
       "  </thead>\n",
       "  <tbody>\n",
       "    <tr>\n",
       "      <td>2013-01-02</td>\n",
       "      <td>20.08</td>\n",
       "    </tr>\n",
       "    <tr>\n",
       "      <td>2013-01-03</td>\n",
       "      <td>19.78</td>\n",
       "    </tr>\n",
       "    <tr>\n",
       "      <td>2013-01-04</td>\n",
       "      <td>19.86</td>\n",
       "    </tr>\n",
       "    <tr>\n",
       "      <td>2013-01-07</td>\n",
       "      <td>19.40</td>\n",
       "    </tr>\n",
       "    <tr>\n",
       "      <td>2013-01-08</td>\n",
       "      <td>19.66</td>\n",
       "    </tr>\n",
       "  </tbody>\n",
       "</table>\n",
       "</div>"
      ],
      "text/plain": [
       "            price\n",
       "date             \n",
       "2013-01-02  20.08\n",
       "2013-01-03  19.78\n",
       "2013-01-04  19.86\n",
       "2013-01-07  19.40\n",
       "2013-01-08  19.66"
      ]
     },
     "execution_count": 51,
     "metadata": {},
     "output_type": "execute_result"
    }
   ],
   "source": [
    "df = pd.read_csv(path+'yahoo.csv', parse_dates=True, index_col='date')\n",
    "#df.drop(['Unnamed: 0'], axis=1, inplace=True)\n",
    "df.head()"
   ]
  },
  {
   "cell_type": "code",
   "execution_count": 53,
   "metadata": {},
   "outputs": [
    {
     "data": {
      "text/html": [
       "<div>\n",
       "<style scoped>\n",
       "    .dataframe tbody tr th:only-of-type {\n",
       "        vertical-align: middle;\n",
       "    }\n",
       "\n",
       "    .dataframe tbody tr th {\n",
       "        vertical-align: top;\n",
       "    }\n",
       "\n",
       "    .dataframe thead th {\n",
       "        text-align: right;\n",
       "    }\n",
       "</style>\n",
       "<table border=\"1\" class=\"dataframe\">\n",
       "  <thead>\n",
       "    <tr style=\"text-align: right;\">\n",
       "      <th></th>\n",
       "      <th>2013</th>\n",
       "      <th>2014</th>\n",
       "      <th>2015</th>\n",
       "    </tr>\n",
       "  </thead>\n",
       "  <tbody>\n",
       "    <tr>\n",
       "      <td>0</td>\n",
       "      <td>20.08</td>\n",
       "      <td>NaN</td>\n",
       "      <td>NaN</td>\n",
       "    </tr>\n",
       "    <tr>\n",
       "      <td>1</td>\n",
       "      <td>19.78</td>\n",
       "      <td>39.59</td>\n",
       "      <td>50.17</td>\n",
       "    </tr>\n",
       "    <tr>\n",
       "      <td>2</td>\n",
       "      <td>19.86</td>\n",
       "      <td>40.12</td>\n",
       "      <td>49.13</td>\n",
       "    </tr>\n",
       "    <tr>\n",
       "      <td>3</td>\n",
       "      <td>19.40</td>\n",
       "      <td>39.93</td>\n",
       "      <td>49.21</td>\n",
       "    </tr>\n",
       "    <tr>\n",
       "      <td>4</td>\n",
       "      <td>19.66</td>\n",
       "      <td>40.92</td>\n",
       "      <td>48.59</td>\n",
       "    </tr>\n",
       "  </tbody>\n",
       "</table>\n",
       "</div>"
      ],
      "text/plain": [
       "    2013   2014   2015\n",
       "0  20.08    NaN    NaN\n",
       "1  19.78  39.59  50.17\n",
       "2  19.86  40.12  49.13\n",
       "3  19.40  39.93  49.21\n",
       "4  19.66  40.92  48.59"
      ]
     },
     "execution_count": 53,
     "metadata": {},
     "output_type": "execute_result"
    }
   ],
   "source": [
    "yahoo = df\n",
    "# Create dataframe prices here\n",
    "prices = pd.DataFrame()\n",
    "\n",
    "# Select data for each year and concatenate with prices here \n",
    "for year in ['2013', '2014', '2015']:\n",
    "    price_per_year = yahoo.loc[year, ['price']].reset_index(drop=True)\n",
    "    price_per_year.rename(columns={'price': year}, inplace=True)\n",
    "    prices = pd.concat([prices, price_per_year], axis=1)\n",
    "\n",
    "prices.head()"
   ]
  },
  {
   "cell_type": "code",
   "execution_count": 54,
   "metadata": {},
   "outputs": [
    {
     "data": {
      "image/png": "[encoded data removed]",
      "text/plain": [
       "<Figure size 432x288 with 1 Axes>"
      ]
     },
     "metadata": {
      "needs_background": "light"
     },
     "output_type": "display_data"
    }
   ],
   "source": [
    "# Plot prices\n",
    "prices.plot()\n",
    "plt.show();"
   ]
  },
  {
   "cell_type": "markdown",
   "metadata": {},
   "source": [
    "## Set and change time series frequency\n",
    "\n",
    "Use data on the daily carbon monoxide concentration in NYC, LA and Chicago from 2005-17.\n",
    "\n",
    "You'll set the frequency to calendar daily and then resample to monthly frequency, and visualize both series to see how the different frequencies affect the data."
   ]
  },
  {
   "cell_type": "code",
   "execution_count": 55,
   "metadata": {},
   "outputs": [
    {
     "data": {
      "text/html": [
       "<div>\n",
       "<style scoped>\n",
       "    .dataframe tbody tr th:only-of-type {\n",
       "        vertical-align: middle;\n",
       "    }\n",
       "\n",
       "    .dataframe tbody tr th {\n",
       "        vertical-align: top;\n",
       "    }\n",
       "\n",
       "    .dataframe thead th {\n",
       "        text-align: right;\n",
       "    }\n",
       "</style>\n",
       "<table border=\"1\" class=\"dataframe\">\n",
       "  <thead>\n",
       "    <tr style=\"text-align: right;\">\n",
       "      <th></th>\n",
       "      <th>Chicago</th>\n",
       "      <th>Los Angeles</th>\n",
       "      <th>New York</th>\n",
       "    </tr>\n",
       "    <tr>\n",
       "      <th>date</th>\n",
       "      <th></th>\n",
       "      <th></th>\n",
       "      <th></th>\n",
       "    </tr>\n",
       "  </thead>\n",
       "  <tbody>\n",
       "    <tr>\n",
       "      <td>2005-01-01</td>\n",
       "      <td>0.317763</td>\n",
       "      <td>0.777657</td>\n",
       "      <td>0.639830</td>\n",
       "    </tr>\n",
       "    <tr>\n",
       "      <td>2005-01-03</td>\n",
       "      <td>0.520833</td>\n",
       "      <td>0.349547</td>\n",
       "      <td>0.969572</td>\n",
       "    </tr>\n",
       "    <tr>\n",
       "      <td>2005-01-04</td>\n",
       "      <td>0.477083</td>\n",
       "      <td>0.626630</td>\n",
       "      <td>0.905208</td>\n",
       "    </tr>\n",
       "    <tr>\n",
       "      <td>2005-01-05</td>\n",
       "      <td>0.348822</td>\n",
       "      <td>0.613814</td>\n",
       "      <td>0.769176</td>\n",
       "    </tr>\n",
       "    <tr>\n",
       "      <td>2005-01-06</td>\n",
       "      <td>0.572917</td>\n",
       "      <td>0.792596</td>\n",
       "      <td>0.815761</td>\n",
       "    </tr>\n",
       "  </tbody>\n",
       "</table>\n",
       "</div>"
      ],
      "text/plain": [
       "             Chicago  Los Angeles  New York\n",
       "date                                       \n",
       "2005-01-01  0.317763     0.777657  0.639830\n",
       "2005-01-03  0.520833     0.349547  0.969572\n",
       "2005-01-04  0.477083     0.626630  0.905208\n",
       "2005-01-05  0.348822     0.613814  0.769176\n",
       "2005-01-06  0.572917     0.792596  0.815761"
      ]
     },
     "execution_count": 55,
     "metadata": {},
     "output_type": "execute_result"
    }
   ],
   "source": [
    "df = pd.read_csv(path+'co.csv', parse_dates=True, index_col='date')\n",
    "#df.drop(['Unnamed: 0'], axis=1, inplace=True)\n",
    "df.head()"
   ]
  },
  {
   "cell_type": "code",
   "execution_count": 57,
   "metadata": {},
   "outputs": [
    {
     "name": "stdout",
     "output_type": "stream",
     "text": [
      "<class 'pandas.core.frame.DataFrame'>\n",
      "DatetimeIndex: 1898 entries, 2005-01-01 to 2010-12-31\n",
      "Data columns (total 3 columns):\n",
      "Chicago        1898 non-null float64\n",
      "Los Angeles    1898 non-null float64\n",
      "New York       1898 non-null float64\n",
      "dtypes: float64(3)\n",
      "memory usage: 59.3 KB\n",
      "None\n"
     ]
    }
   ],
   "source": [
    "co = df\n",
    "# Inspect data\n",
    "print(co.info())"
   ]
  },
  {
   "cell_type": "code",
   "execution_count": 58,
   "metadata": {},
   "outputs": [],
   "source": [
    "# Set the frequency to calendar daily\n",
    "co = co.asfreq('D')"
   ]
  },
  {
   "cell_type": "code",
   "execution_count": 59,
   "metadata": {},
   "outputs": [
    {
     "data": {
      "image/png": "[encoded data removed]",
      "text/plain": [
       "<Figure size 432x288 with 3 Axes>"
      ]
     },
     "metadata": {
      "needs_background": "light"
     },
     "output_type": "display_data"
    }
   ],
   "source": [
    "# Plot the data\n",
    "co.plot(subplots=True)\n",
    "plt.show();"
   ]
  },
  {
   "cell_type": "code",
   "execution_count": 60,
   "metadata": {},
   "outputs": [],
   "source": [
    "# Set frequency to monthly\n",
    "co = co.asfreq('M')"
   ]
  },
  {
   "cell_type": "code",
   "execution_count": 61,
   "metadata": {},
   "outputs": [
    {
     "data": {
      "image/png": "[encoded data removed]",
      "text/plain": [
       "<Figure size 432x288 with 3 Axes>"
      ]
     },
     "metadata": {
      "needs_background": "light"
     },
     "output_type": "display_data"
    }
   ],
   "source": [
    "# Plot the data\n",
    "co.plot(subplots=True)\n",
    "plt.show();"
   ]
  },
  {
   "cell_type": "markdown",
   "metadata": {},
   "source": [
    "---\n",
    "<a id='s3'></a>"
   ]
  },
  {
   "cell_type": "markdown",
   "metadata": {},
   "source": [
    "## Lags, changes, and returns for stock price series\n",
    "\n",
    "## Shifting stock prices across time\n",
    "\n",
    "The first method to manipulate time series is `.shift()`, which allows you shift all values in a Series or DataFrame by a number of periods to a different time along the DateTimeIndex.\n",
    "\n",
    "Let's use this to visually compare a stock price series for Google shifted 90 business days into both past and future."
   ]
  },
  {
   "cell_type": "code",
   "execution_count": 66,
   "metadata": {},
   "outputs": [
    {
     "data": {
      "text/html": [
       "<div>\n",
       "<style scoped>\n",
       "    .dataframe tbody tr th:only-of-type {\n",
       "        vertical-align: middle;\n",
       "    }\n",
       "\n",
       "    .dataframe tbody tr th {\n",
       "        vertical-align: top;\n",
       "    }\n",
       "\n",
       "    .dataframe thead th {\n",
       "        text-align: right;\n",
       "    }\n",
       "</style>\n",
       "<table border=\"1\" class=\"dataframe\">\n",
       "  <thead>\n",
       "    <tr style=\"text-align: right;\">\n",
       "      <th></th>\n",
       "      <th>Close</th>\n",
       "    </tr>\n",
       "    <tr>\n",
       "      <th>Date</th>\n",
       "      <th></th>\n",
       "    </tr>\n",
       "  </thead>\n",
       "  <tbody>\n",
       "    <tr>\n",
       "      <td>2014-01-02</td>\n",
       "      <td>556.00</td>\n",
       "    </tr>\n",
       "    <tr>\n",
       "      <td>2014-01-03</td>\n",
       "      <td>551.95</td>\n",
       "    </tr>\n",
       "    <tr>\n",
       "      <td>2014-01-04</td>\n",
       "      <td>NaN</td>\n",
       "    </tr>\n",
       "    <tr>\n",
       "      <td>2014-01-05</td>\n",
       "      <td>NaN</td>\n",
       "    </tr>\n",
       "    <tr>\n",
       "      <td>2014-01-06</td>\n",
       "      <td>558.10</td>\n",
       "    </tr>\n",
       "  </tbody>\n",
       "</table>\n",
       "</div>"
      ],
      "text/plain": [
       "             Close\n",
       "Date              \n",
       "2014-01-02  556.00\n",
       "2014-01-03  551.95\n",
       "2014-01-04     NaN\n",
       "2014-01-05     NaN\n",
       "2014-01-06  558.10"
      ]
     },
     "execution_count": 66,
     "metadata": {},
     "output_type": "execute_result"
    }
   ],
   "source": [
    "# Import data here\n",
    "google = pd.read_csv(path+'google.csv', parse_dates=['Date'], index_col='Date')\n",
    "google.head()"
   ]
  },
  {
   "cell_type": "code",
   "execution_count": 67,
   "metadata": {},
   "outputs": [],
   "source": [
    "# Set data frequency to business daily\n",
    "google = google.asfreq('B')"
   ]
  },
  {
   "cell_type": "code",
   "execution_count": 68,
   "metadata": {},
   "outputs": [
    {
     "data": {
      "text/html": [
       "<div>\n",
       "<style scoped>\n",
       "    .dataframe tbody tr th:only-of-type {\n",
       "        vertical-align: middle;\n",
       "    }\n",
       "\n",
       "    .dataframe tbody tr th {\n",
       "        vertical-align: top;\n",
       "    }\n",
       "\n",
       "    .dataframe thead th {\n",
       "        text-align: right;\n",
       "    }\n",
       "</style>\n",
       "<table border=\"1\" class=\"dataframe\">\n",
       "  <thead>\n",
       "    <tr style=\"text-align: right;\">\n",
       "      <th></th>\n",
       "      <th>Close</th>\n",
       "      <th>lagged</th>\n",
       "      <th>shifted</th>\n",
       "    </tr>\n",
       "    <tr>\n",
       "      <th>Date</th>\n",
       "      <th></th>\n",
       "      <th></th>\n",
       "      <th></th>\n",
       "    </tr>\n",
       "  </thead>\n",
       "  <tbody>\n",
       "    <tr>\n",
       "      <td>2014-01-02</td>\n",
       "      <td>556.00</td>\n",
       "      <td>511.00</td>\n",
       "      <td>NaN</td>\n",
       "    </tr>\n",
       "    <tr>\n",
       "      <td>2014-01-03</td>\n",
       "      <td>551.95</td>\n",
       "      <td>518.73</td>\n",
       "      <td>NaN</td>\n",
       "    </tr>\n",
       "    <tr>\n",
       "      <td>2014-01-06</td>\n",
       "      <td>558.10</td>\n",
       "      <td>529.92</td>\n",
       "      <td>NaN</td>\n",
       "    </tr>\n",
       "    <tr>\n",
       "      <td>2014-01-07</td>\n",
       "      <td>568.86</td>\n",
       "      <td>533.09</td>\n",
       "      <td>NaN</td>\n",
       "    </tr>\n",
       "    <tr>\n",
       "      <td>2014-01-08</td>\n",
       "      <td>570.04</td>\n",
       "      <td>526.65</td>\n",
       "      <td>NaN</td>\n",
       "    </tr>\n",
       "    <tr>\n",
       "      <td>2014-01-09</td>\n",
       "      <td>564.55</td>\n",
       "      <td>519.98</td>\n",
       "      <td>NaN</td>\n",
       "    </tr>\n",
       "    <tr>\n",
       "      <td>2014-01-10</td>\n",
       "      <td>564.52</td>\n",
       "      <td>520.63</td>\n",
       "      <td>NaN</td>\n",
       "    </tr>\n",
       "    <tr>\n",
       "      <td>2014-01-13</td>\n",
       "      <td>560.93</td>\n",
       "      <td>528.86</td>\n",
       "      <td>NaN</td>\n",
       "    </tr>\n",
       "    <tr>\n",
       "      <td>2014-01-14</td>\n",
       "      <td>574.13</td>\n",
       "      <td>529.77</td>\n",
       "      <td>NaN</td>\n",
       "    </tr>\n",
       "    <tr>\n",
       "      <td>2014-01-15</td>\n",
       "      <td>573.74</td>\n",
       "      <td>538.94</td>\n",
       "      <td>NaN</td>\n",
       "    </tr>\n",
       "  </tbody>\n",
       "</table>\n",
       "</div>"
      ],
      "text/plain": [
       "             Close  lagged  shifted\n",
       "Date                               \n",
       "2014-01-02  556.00  511.00      NaN\n",
       "2014-01-03  551.95  518.73      NaN\n",
       "2014-01-06  558.10  529.92      NaN\n",
       "2014-01-07  568.86  533.09      NaN\n",
       "2014-01-08  570.04  526.65      NaN\n",
       "2014-01-09  564.55  519.98      NaN\n",
       "2014-01-10  564.52  520.63      NaN\n",
       "2014-01-13  560.93  528.86      NaN\n",
       "2014-01-14  574.13  529.77      NaN\n",
       "2014-01-15  573.74  538.94      NaN"
      ]
     },
     "execution_count": 68,
     "metadata": {},
     "output_type": "execute_result"
    }
   ],
   "source": [
    "# Create 'lagged' and 'shifted'\n",
    "# Add new columns lagged and shifted to google that contain the Close \n",
    "#  shifted by 90 business days into past and future, respectively.\n",
    "google['lagged'] = google.Close.shift(periods=-90)\n",
    "google['shifted'] = google.Close.shift(periods=90)\n",
    "google.head(10)"
   ]
  },
  {
   "cell_type": "code",
   "execution_count": 70,
   "metadata": {},
   "outputs": [
    {
     "data": {
      "text/html": [
       "<div>\n",
       "<style scoped>\n",
       "    .dataframe tbody tr th:only-of-type {\n",
       "        vertical-align: middle;\n",
       "    }\n",
       "\n",
       "    .dataframe tbody tr th {\n",
       "        vertical-align: top;\n",
       "    }\n",
       "\n",
       "    .dataframe thead th {\n",
       "        text-align: right;\n",
       "    }\n",
       "</style>\n",
       "<table border=\"1\" class=\"dataframe\">\n",
       "  <thead>\n",
       "    <tr style=\"text-align: right;\">\n",
       "      <th></th>\n",
       "      <th>Close</th>\n",
       "      <th>lagged</th>\n",
       "      <th>shifted</th>\n",
       "    </tr>\n",
       "    <tr>\n",
       "      <th>Date</th>\n",
       "      <th></th>\n",
       "      <th></th>\n",
       "      <th></th>\n",
       "    </tr>\n",
       "  </thead>\n",
       "  <tbody>\n",
       "    <tr>\n",
       "      <td>2016-12-19</td>\n",
       "      <td>794.20</td>\n",
       "      <td>NaN</td>\n",
       "      <td>782.44</td>\n",
       "    </tr>\n",
       "    <tr>\n",
       "      <td>2016-12-20</td>\n",
       "      <td>796.42</td>\n",
       "      <td>NaN</td>\n",
       "      <td>777.14</td>\n",
       "    </tr>\n",
       "    <tr>\n",
       "      <td>2016-12-21</td>\n",
       "      <td>794.56</td>\n",
       "      <td>NaN</td>\n",
       "      <td>779.91</td>\n",
       "    </tr>\n",
       "    <tr>\n",
       "      <td>2016-12-22</td>\n",
       "      <td>791.26</td>\n",
       "      <td>NaN</td>\n",
       "      <td>777.50</td>\n",
       "    </tr>\n",
       "    <tr>\n",
       "      <td>2016-12-23</td>\n",
       "      <td>789.91</td>\n",
       "      <td>NaN</td>\n",
       "      <td>775.42</td>\n",
       "    </tr>\n",
       "    <tr>\n",
       "      <td>2016-12-26</td>\n",
       "      <td>NaN</td>\n",
       "      <td>NaN</td>\n",
       "      <td>772.15</td>\n",
       "    </tr>\n",
       "    <tr>\n",
       "      <td>2016-12-27</td>\n",
       "      <td>791.55</td>\n",
       "      <td>NaN</td>\n",
       "      <td>772.08</td>\n",
       "    </tr>\n",
       "    <tr>\n",
       "      <td>2016-12-28</td>\n",
       "      <td>785.05</td>\n",
       "      <td>NaN</td>\n",
       "      <td>769.64</td>\n",
       "    </tr>\n",
       "    <tr>\n",
       "      <td>2016-12-29</td>\n",
       "      <td>782.79</td>\n",
       "      <td>NaN</td>\n",
       "      <td>769.41</td>\n",
       "    </tr>\n",
       "    <tr>\n",
       "      <td>2016-12-30</td>\n",
       "      <td>771.82</td>\n",
       "      <td>NaN</td>\n",
       "      <td>769.54</td>\n",
       "    </tr>\n",
       "  </tbody>\n",
       "</table>\n",
       "</div>"
      ],
      "text/plain": [
       "             Close  lagged  shifted\n",
       "Date                               \n",
       "2016-12-19  794.20     NaN   782.44\n",
       "2016-12-20  796.42     NaN   777.14\n",
       "2016-12-21  794.56     NaN   779.91\n",
       "2016-12-22  791.26     NaN   777.50\n",
       "2016-12-23  789.91     NaN   775.42\n",
       "2016-12-26     NaN     NaN   772.15\n",
       "2016-12-27  791.55     NaN   772.08\n",
       "2016-12-28  785.05     NaN   769.64\n",
       "2016-12-29  782.79     NaN   769.41\n",
       "2016-12-30  771.82     NaN   769.54"
      ]
     },
     "execution_count": 70,
     "metadata": {},
     "output_type": "execute_result"
    }
   ],
   "source": [
    "google.tail(10)"
   ]
  },
  {
   "cell_type": "code",
   "execution_count": 69,
   "metadata": {},
   "outputs": [
    {
     "data": {
      "image/png": "[encoded data removed]",
      "text/plain": [
       "<Figure size 432x288 with 1 Axes>"
      ]
     },
     "metadata": {
      "needs_background": "light"
     },
     "output_type": "display_data"
    }
   ],
   "source": [
    "# Plot the google price series\n",
    "google.plot()\n",
    "plt.show();"
   ]
  },
  {
   "cell_type": "markdown",
   "metadata": {},
   "source": [
    "## Calculating stock price changes\n",
    "\n",
    "Calculate **returns** using current and shifted prices as input. Now you'll practice a similar calculation to "
   ]
  },
  {
   "cell_type": "code",
   "execution_count": 75,
   "metadata": {},
   "outputs": [
    {
     "data": {
      "text/html": [
       "<div>\n",
       "<style scoped>\n",
       "    .dataframe tbody tr th:only-of-type {\n",
       "        vertical-align: middle;\n",
       "    }\n",
       "\n",
       "    .dataframe tbody tr th {\n",
       "        vertical-align: top;\n",
       "    }\n",
       "\n",
       "    .dataframe thead th {\n",
       "        text-align: right;\n",
       "    }\n",
       "</style>\n",
       "<table border=\"1\" class=\"dataframe\">\n",
       "  <thead>\n",
       "    <tr style=\"text-align: right;\">\n",
       "      <th></th>\n",
       "      <th>Close</th>\n",
       "      <th>lagged</th>\n",
       "      <th>shifted</th>\n",
       "      <th>change</th>\n",
       "      <th>return</th>\n",
       "    </tr>\n",
       "    <tr>\n",
       "      <th>Date</th>\n",
       "      <th></th>\n",
       "      <th></th>\n",
       "      <th></th>\n",
       "      <th></th>\n",
       "      <th></th>\n",
       "    </tr>\n",
       "  </thead>\n",
       "  <tbody>\n",
       "    <tr>\n",
       "      <td>2016-12-19</td>\n",
       "      <td>794.20</td>\n",
       "      <td>NaN</td>\n",
       "      <td>782.44</td>\n",
       "      <td>1.015030</td>\n",
       "      <td>1.502991</td>\n",
       "    </tr>\n",
       "    <tr>\n",
       "      <td>2016-12-20</td>\n",
       "      <td>796.42</td>\n",
       "      <td>NaN</td>\n",
       "      <td>777.14</td>\n",
       "      <td>1.024809</td>\n",
       "      <td>2.480891</td>\n",
       "    </tr>\n",
       "    <tr>\n",
       "      <td>2016-12-21</td>\n",
       "      <td>794.56</td>\n",
       "      <td>NaN</td>\n",
       "      <td>779.91</td>\n",
       "      <td>1.018784</td>\n",
       "      <td>1.878422</td>\n",
       "    </tr>\n",
       "    <tr>\n",
       "      <td>2016-12-22</td>\n",
       "      <td>791.26</td>\n",
       "      <td>NaN</td>\n",
       "      <td>777.50</td>\n",
       "      <td>1.017698</td>\n",
       "      <td>1.769775</td>\n",
       "    </tr>\n",
       "    <tr>\n",
       "      <td>2016-12-23</td>\n",
       "      <td>789.91</td>\n",
       "      <td>NaN</td>\n",
       "      <td>775.42</td>\n",
       "      <td>1.018687</td>\n",
       "      <td>1.868665</td>\n",
       "    </tr>\n",
       "    <tr>\n",
       "      <td>2016-12-26</td>\n",
       "      <td>NaN</td>\n",
       "      <td>NaN</td>\n",
       "      <td>772.15</td>\n",
       "      <td>NaN</td>\n",
       "      <td>NaN</td>\n",
       "    </tr>\n",
       "    <tr>\n",
       "      <td>2016-12-27</td>\n",
       "      <td>791.55</td>\n",
       "      <td>NaN</td>\n",
       "      <td>772.08</td>\n",
       "      <td>1.025218</td>\n",
       "      <td>2.521759</td>\n",
       "    </tr>\n",
       "    <tr>\n",
       "      <td>2016-12-28</td>\n",
       "      <td>785.05</td>\n",
       "      <td>NaN</td>\n",
       "      <td>769.64</td>\n",
       "      <td>1.020022</td>\n",
       "      <td>2.002235</td>\n",
       "    </tr>\n",
       "    <tr>\n",
       "      <td>2016-12-29</td>\n",
       "      <td>782.79</td>\n",
       "      <td>NaN</td>\n",
       "      <td>769.41</td>\n",
       "      <td>1.017390</td>\n",
       "      <td>1.738995</td>\n",
       "    </tr>\n",
       "    <tr>\n",
       "      <td>2016-12-30</td>\n",
       "      <td>771.82</td>\n",
       "      <td>NaN</td>\n",
       "      <td>769.54</td>\n",
       "      <td>1.002963</td>\n",
       "      <td>0.296281</td>\n",
       "    </tr>\n",
       "  </tbody>\n",
       "</table>\n",
       "</div>"
      ],
      "text/plain": [
       "             Close  lagged  shifted    change    return\n",
       "Date                                                   \n",
       "2016-12-19  794.20     NaN   782.44  1.015030  1.502991\n",
       "2016-12-20  796.42     NaN   777.14  1.024809  2.480891\n",
       "2016-12-21  794.56     NaN   779.91  1.018784  1.878422\n",
       "2016-12-22  791.26     NaN   777.50  1.017698  1.769775\n",
       "2016-12-23  789.91     NaN   775.42  1.018687  1.868665\n",
       "2016-12-26     NaN     NaN   772.15       NaN       NaN\n",
       "2016-12-27  791.55     NaN   772.08  1.025218  2.521759\n",
       "2016-12-28  785.05     NaN   769.64  1.020022  2.002235\n",
       "2016-12-29  782.79     NaN   769.41  1.017390  1.738995\n",
       "2016-12-30  771.82     NaN   769.54  1.002963  0.296281"
      ]
     },
     "execution_count": 75,
     "metadata": {},
     "output_type": "execute_result"
    }
   ],
   "source": [
    "# Return Floating division of series and other, element-wise (binary operator truediv)\n",
    "# xt / xt-1\n",
    "google['change'] = google.Close.div(google.shifted)\n",
    "# Return Subtraction of series and other, element-wise (binary operator sub).\n",
    "# Return Multiplication of series and other, element-wise (binary operator mul).\n",
    "google['return'] = google.change.sub(1).mul(100)\n",
    "google.tail(10)"
   ]
  },
  {
   "cell_type": "markdown",
   "metadata": {},
   "source": [
    "Calculate **absolute changes** from current and shifted prices, and compare the result to the function `.diff()`."
   ]
  },
  {
   "cell_type": "code",
   "execution_count": 79,
   "metadata": {},
   "outputs": [
    {
     "data": {
      "text/html": [
       "<div>\n",
       "<style scoped>\n",
       "    .dataframe tbody tr th:only-of-type {\n",
       "        vertical-align: middle;\n",
       "    }\n",
       "\n",
       "    .dataframe tbody tr th {\n",
       "        vertical-align: top;\n",
       "    }\n",
       "\n",
       "    .dataframe thead th {\n",
       "        text-align: right;\n",
       "    }\n",
       "</style>\n",
       "<table border=\"1\" class=\"dataframe\">\n",
       "  <thead>\n",
       "    <tr style=\"text-align: right;\">\n",
       "      <th></th>\n",
       "      <th>Close</th>\n",
       "      <th>lagged</th>\n",
       "      <th>shifted</th>\n",
       "      <th>change</th>\n",
       "      <th>return</th>\n",
       "      <th>diff</th>\n",
       "    </tr>\n",
       "    <tr>\n",
       "      <th>Date</th>\n",
       "      <th></th>\n",
       "      <th></th>\n",
       "      <th></th>\n",
       "      <th></th>\n",
       "      <th></th>\n",
       "      <th></th>\n",
       "    </tr>\n",
       "  </thead>\n",
       "  <tbody>\n",
       "    <tr>\n",
       "      <td>2016-12-19</td>\n",
       "      <td>794.20</td>\n",
       "      <td>NaN</td>\n",
       "      <td>782.44</td>\n",
       "      <td>1.015030</td>\n",
       "      <td>1.502991</td>\n",
       "      <td>3.40</td>\n",
       "    </tr>\n",
       "    <tr>\n",
       "      <td>2016-12-20</td>\n",
       "      <td>796.42</td>\n",
       "      <td>NaN</td>\n",
       "      <td>777.14</td>\n",
       "      <td>1.024809</td>\n",
       "      <td>2.480891</td>\n",
       "      <td>2.22</td>\n",
       "    </tr>\n",
       "    <tr>\n",
       "      <td>2016-12-21</td>\n",
       "      <td>794.56</td>\n",
       "      <td>NaN</td>\n",
       "      <td>779.91</td>\n",
       "      <td>1.018784</td>\n",
       "      <td>1.878422</td>\n",
       "      <td>-1.86</td>\n",
       "    </tr>\n",
       "    <tr>\n",
       "      <td>2016-12-22</td>\n",
       "      <td>791.26</td>\n",
       "      <td>NaN</td>\n",
       "      <td>777.50</td>\n",
       "      <td>1.017698</td>\n",
       "      <td>1.769775</td>\n",
       "      <td>-3.30</td>\n",
       "    </tr>\n",
       "    <tr>\n",
       "      <td>2016-12-23</td>\n",
       "      <td>789.91</td>\n",
       "      <td>NaN</td>\n",
       "      <td>775.42</td>\n",
       "      <td>1.018687</td>\n",
       "      <td>1.868665</td>\n",
       "      <td>-1.35</td>\n",
       "    </tr>\n",
       "    <tr>\n",
       "      <td>2016-12-26</td>\n",
       "      <td>NaN</td>\n",
       "      <td>NaN</td>\n",
       "      <td>772.15</td>\n",
       "      <td>NaN</td>\n",
       "      <td>NaN</td>\n",
       "      <td>NaN</td>\n",
       "    </tr>\n",
       "    <tr>\n",
       "      <td>2016-12-27</td>\n",
       "      <td>791.55</td>\n",
       "      <td>NaN</td>\n",
       "      <td>772.08</td>\n",
       "      <td>1.025218</td>\n",
       "      <td>2.521759</td>\n",
       "      <td>NaN</td>\n",
       "    </tr>\n",
       "    <tr>\n",
       "      <td>2016-12-28</td>\n",
       "      <td>785.05</td>\n",
       "      <td>NaN</td>\n",
       "      <td>769.64</td>\n",
       "      <td>1.020022</td>\n",
       "      <td>2.002235</td>\n",
       "      <td>-6.50</td>\n",
       "    </tr>\n",
       "    <tr>\n",
       "      <td>2016-12-29</td>\n",
       "      <td>782.79</td>\n",
       "      <td>NaN</td>\n",
       "      <td>769.41</td>\n",
       "      <td>1.017390</td>\n",
       "      <td>1.738995</td>\n",
       "      <td>-2.26</td>\n",
       "    </tr>\n",
       "    <tr>\n",
       "      <td>2016-12-30</td>\n",
       "      <td>771.82</td>\n",
       "      <td>NaN</td>\n",
       "      <td>769.54</td>\n",
       "      <td>1.002963</td>\n",
       "      <td>0.296281</td>\n",
       "      <td>-10.97</td>\n",
       "    </tr>\n",
       "  </tbody>\n",
       "</table>\n",
       "</div>"
      ],
      "text/plain": [
       "             Close  lagged  shifted    change    return   diff\n",
       "Date                                                          \n",
       "2016-12-19  794.20     NaN   782.44  1.015030  1.502991   3.40\n",
       "2016-12-20  796.42     NaN   777.14  1.024809  2.480891   2.22\n",
       "2016-12-21  794.56     NaN   779.91  1.018784  1.878422  -1.86\n",
       "2016-12-22  791.26     NaN   777.50  1.017698  1.769775  -3.30\n",
       "2016-12-23  789.91     NaN   775.42  1.018687  1.868665  -1.35\n",
       "2016-12-26     NaN     NaN   772.15       NaN       NaN    NaN\n",
       "2016-12-27  791.55     NaN   772.08  1.025218  2.521759    NaN\n",
       "2016-12-28  785.05     NaN   769.64  1.020022  2.002235  -6.50\n",
       "2016-12-29  782.79     NaN   769.41  1.017390  1.738995  -2.26\n",
       "2016-12-30  771.82     NaN   769.54  1.002963  0.296281 -10.97"
      ]
     },
     "execution_count": 79,
     "metadata": {},
     "output_type": "execute_result"
    }
   ],
   "source": [
    "google['diff'] = google.Close.diff() # xt - xt-1\n",
    "google.tail(10)"
   ]
  },
  {
   "cell_type": "code",
   "execution_count": 80,
   "metadata": {},
   "outputs": [
    {
     "data": {
      "text/html": [
       "<div>\n",
       "<style scoped>\n",
       "    .dataframe tbody tr th:only-of-type {\n",
       "        vertical-align: middle;\n",
       "    }\n",
       "\n",
       "    .dataframe tbody tr th {\n",
       "        vertical-align: top;\n",
       "    }\n",
       "\n",
       "    .dataframe thead th {\n",
       "        text-align: right;\n",
       "    }\n",
       "</style>\n",
       "<table border=\"1\" class=\"dataframe\">\n",
       "  <thead>\n",
       "    <tr style=\"text-align: right;\">\n",
       "      <th></th>\n",
       "      <th>price</th>\n",
       "    </tr>\n",
       "    <tr>\n",
       "      <th>date</th>\n",
       "      <th></th>\n",
       "    </tr>\n",
       "  </thead>\n",
       "  <tbody>\n",
       "    <tr>\n",
       "      <td>2013-01-02</td>\n",
       "      <td>20.08</td>\n",
       "    </tr>\n",
       "    <tr>\n",
       "      <td>2013-01-03</td>\n",
       "      <td>19.78</td>\n",
       "    </tr>\n",
       "    <tr>\n",
       "      <td>2013-01-04</td>\n",
       "      <td>19.86</td>\n",
       "    </tr>\n",
       "    <tr>\n",
       "      <td>2013-01-07</td>\n",
       "      <td>19.40</td>\n",
       "    </tr>\n",
       "    <tr>\n",
       "      <td>2013-01-08</td>\n",
       "      <td>19.66</td>\n",
       "    </tr>\n",
       "  </tbody>\n",
       "</table>\n",
       "</div>"
      ],
      "text/plain": [
       "            price\n",
       "date             \n",
       "2013-01-02  20.08\n",
       "2013-01-03  19.78\n",
       "2013-01-04  19.86\n",
       "2013-01-07  19.40\n",
       "2013-01-08  19.66"
      ]
     },
     "execution_count": 80,
     "metadata": {},
     "output_type": "execute_result"
    }
   ],
   "source": [
    "df = pd.read_csv(path+'yahoo.csv', parse_dates=True, index_col='date')\n",
    "#df.drop(['Unnamed: 0'], axis=1, inplace=True)\n",
    "df.head()"
   ]
  },
  {
   "cell_type": "code",
   "execution_count": 81,
   "metadata": {},
   "outputs": [
    {
     "data": {
      "text/html": [
       "<div>\n",
       "<style scoped>\n",
       "    .dataframe tbody tr th:only-of-type {\n",
       "        vertical-align: middle;\n",
       "    }\n",
       "\n",
       "    .dataframe tbody tr th {\n",
       "        vertical-align: top;\n",
       "    }\n",
       "\n",
       "    .dataframe thead th {\n",
       "        text-align: right;\n",
       "    }\n",
       "</style>\n",
       "<table border=\"1\" class=\"dataframe\">\n",
       "  <thead>\n",
       "    <tr style=\"text-align: right;\">\n",
       "      <th></th>\n",
       "      <th>price</th>\n",
       "      <th>shifted_30</th>\n",
       "      <th>change_30</th>\n",
       "      <th>diff_30</th>\n",
       "    </tr>\n",
       "    <tr>\n",
       "      <th>date</th>\n",
       "      <th></th>\n",
       "      <th></th>\n",
       "      <th></th>\n",
       "      <th></th>\n",
       "    </tr>\n",
       "  </thead>\n",
       "  <tbody>\n",
       "    <tr>\n",
       "      <td>2015-12-25</td>\n",
       "      <td>NaN</td>\n",
       "      <td>32.19</td>\n",
       "      <td>NaN</td>\n",
       "      <td>NaN</td>\n",
       "    </tr>\n",
       "    <tr>\n",
       "      <td>2015-12-28</td>\n",
       "      <td>33.60</td>\n",
       "      <td>32.94</td>\n",
       "      <td>0.66</td>\n",
       "      <td>0.66</td>\n",
       "    </tr>\n",
       "    <tr>\n",
       "      <td>2015-12-29</td>\n",
       "      <td>34.04</td>\n",
       "      <td>32.86</td>\n",
       "      <td>1.18</td>\n",
       "      <td>1.18</td>\n",
       "    </tr>\n",
       "    <tr>\n",
       "      <td>2015-12-30</td>\n",
       "      <td>33.37</td>\n",
       "      <td>32.98</td>\n",
       "      <td>0.39</td>\n",
       "      <td>0.39</td>\n",
       "    </tr>\n",
       "    <tr>\n",
       "      <td>2015-12-31</td>\n",
       "      <td>33.26</td>\n",
       "      <td>32.62</td>\n",
       "      <td>0.64</td>\n",
       "      <td>0.64</td>\n",
       "    </tr>\n",
       "  </tbody>\n",
       "</table>\n",
       "</div>"
      ],
      "text/plain": [
       "            price  shifted_30  change_30  diff_30\n",
       "date                                             \n",
       "2015-12-25    NaN       32.19        NaN      NaN\n",
       "2015-12-28  33.60       32.94       0.66     0.66\n",
       "2015-12-29  34.04       32.86       1.18     1.18\n",
       "2015-12-30  33.37       32.98       0.39     0.39\n",
       "2015-12-31  33.26       32.62       0.64     0.64"
      ]
     },
     "execution_count": 81,
     "metadata": {},
     "output_type": "execute_result"
    }
   ],
   "source": [
    "yahoo = df\n",
    "# Created shifted_30 here\n",
    "yahoo['shifted_30'] = yahoo.price.shift(periods=30)\n",
    " \n",
    "# Subtract shifted_30 from price\n",
    "yahoo['change_30'] = yahoo['price'] - yahoo['shifted_30']\n",
    " \n",
    "# Get the 30-day price difference\n",
    "yahoo['diff_30'] = yahoo.price.diff(periods=30)\n",
    " \n",
    "# Inspect the last five rows of price\n",
    "yahoo.tail()"
   ]
  },
  {
   "cell_type": "code",
   "execution_count": 86,
   "metadata": {},
   "outputs": [
    {
     "name": "stdout",
     "output_type": "stream",
     "text": [
      "0.0    703\n",
      "dtype: int64\n"
     ]
    }
   ],
   "source": [
    "# Is there any difference between change_30 and diff_30 values?\n",
    "# Show the value_counts of the difference between change_30 and diff_30\n",
    "print(yahoo.change_30.sub(yahoo.diff_30).value_counts())"
   ]
  },
  {
   "cell_type": "markdown",
   "metadata": {},
   "source": [
    "## Plotting multi-period returns\n",
    "\n",
    "Let's use `.pct_change()` function to calculate returns for various calendar day periods, and plot the result to compare the different patterns. We'll be using Google stock prices from 2014-2016.\n",
    "\n",
    "Create the columns 'daily_return', 'monthly_return', and 'annual_return' that contain the pct_change() of 'Close' for 1, 30 and 360 calendar days, respectively, and multiply each by 100."
   ]
  },
  {
   "cell_type": "code",
   "execution_count": 88,
   "metadata": {},
   "outputs": [
    {
     "data": {
      "text/html": [
       "<div>\n",
       "<style scoped>\n",
       "    .dataframe tbody tr th:only-of-type {\n",
       "        vertical-align: middle;\n",
       "    }\n",
       "\n",
       "    .dataframe tbody tr th {\n",
       "        vertical-align: top;\n",
       "    }\n",
       "\n",
       "    .dataframe thead th {\n",
       "        text-align: right;\n",
       "    }\n",
       "</style>\n",
       "<table border=\"1\" class=\"dataframe\">\n",
       "  <thead>\n",
       "    <tr style=\"text-align: right;\">\n",
       "      <th></th>\n",
       "      <th>Close</th>\n",
       "      <th>lagged</th>\n",
       "      <th>shifted</th>\n",
       "      <th>change</th>\n",
       "      <th>return</th>\n",
       "      <th>diff</th>\n",
       "      <th>daily_return</th>\n",
       "      <th>monthly_return</th>\n",
       "      <th>annual_return</th>\n",
       "    </tr>\n",
       "    <tr>\n",
       "      <th>Date</th>\n",
       "      <th></th>\n",
       "      <th></th>\n",
       "      <th></th>\n",
       "      <th></th>\n",
       "      <th></th>\n",
       "      <th></th>\n",
       "      <th></th>\n",
       "      <th></th>\n",
       "      <th></th>\n",
       "    </tr>\n",
       "  </thead>\n",
       "  <tbody>\n",
       "    <tr>\n",
       "      <td>2016-12-26</td>\n",
       "      <td>NaN</td>\n",
       "      <td>NaN</td>\n",
       "      <td>772.15</td>\n",
       "      <td>NaN</td>\n",
       "      <td>NaN</td>\n",
       "      <td>NaN</td>\n",
       "      <td>0.000000</td>\n",
       "      <td>7.313064</td>\n",
       "      <td>24.644565</td>\n",
       "    </tr>\n",
       "    <tr>\n",
       "      <td>2016-12-27</td>\n",
       "      <td>791.55</td>\n",
       "      <td>NaN</td>\n",
       "      <td>772.08</td>\n",
       "      <td>1.025218</td>\n",
       "      <td>2.521759</td>\n",
       "      <td>NaN</td>\n",
       "      <td>0.207619</td>\n",
       "      <td>4.358660</td>\n",
       "      <td>19.790248</td>\n",
       "    </tr>\n",
       "    <tr>\n",
       "      <td>2016-12-28</td>\n",
       "      <td>785.05</td>\n",
       "      <td>NaN</td>\n",
       "      <td>769.64</td>\n",
       "      <td>1.020022</td>\n",
       "      <td>2.002235</td>\n",
       "      <td>-6.50</td>\n",
       "      <td>-0.821174</td>\n",
       "      <td>2.690718</td>\n",
       "      <td>19.026321</td>\n",
       "    </tr>\n",
       "    <tr>\n",
       "      <td>2016-12-29</td>\n",
       "      <td>782.79</td>\n",
       "      <td>NaN</td>\n",
       "      <td>769.41</td>\n",
       "      <td>1.017390</td>\n",
       "      <td>1.738995</td>\n",
       "      <td>-2.26</td>\n",
       "      <td>-0.287880</td>\n",
       "      <td>1.498904</td>\n",
       "      <td>19.245944</td>\n",
       "    </tr>\n",
       "    <tr>\n",
       "      <td>2016-12-30</td>\n",
       "      <td>771.82</td>\n",
       "      <td>NaN</td>\n",
       "      <td>769.54</td>\n",
       "      <td>1.002963</td>\n",
       "      <td>0.296281</td>\n",
       "      <td>-10.97</td>\n",
       "      <td>-1.401398</td>\n",
       "      <td>1.483157</td>\n",
       "      <td>17.454955</td>\n",
       "    </tr>\n",
       "  </tbody>\n",
       "</table>\n",
       "</div>"
      ],
      "text/plain": [
       "             Close  lagged  shifted    change    return   diff  daily_return  \\\n",
       "Date                                                                           \n",
       "2016-12-26     NaN     NaN   772.15       NaN       NaN    NaN      0.000000   \n",
       "2016-12-27  791.55     NaN   772.08  1.025218  2.521759    NaN      0.207619   \n",
       "2016-12-28  785.05     NaN   769.64  1.020022  2.002235  -6.50     -0.821174   \n",
       "2016-12-29  782.79     NaN   769.41  1.017390  1.738995  -2.26     -0.287880   \n",
       "2016-12-30  771.82     NaN   769.54  1.002963  0.296281 -10.97     -1.401398   \n",
       "\n",
       "            monthly_return  annual_return  \n",
       "Date                                       \n",
       "2016-12-26        7.313064      24.644565  \n",
       "2016-12-27        4.358660      19.790248  \n",
       "2016-12-28        2.690718      19.026321  \n",
       "2016-12-29        1.498904      19.245944  \n",
       "2016-12-30        1.483157      17.454955  "
      ]
     },
     "execution_count": 88,
     "metadata": {},
     "output_type": "execute_result"
    }
   ],
   "source": [
    "# Create daily_return\n",
    "google['daily_return'] = google.Close.pct_change(1).mul(100)\n",
    "\n",
    "# Create monthly_return\n",
    "google['monthly_return'] = google.Close.pct_change(30).mul(100)\n",
    "\n",
    "# Create annual_return\n",
    "google['annual_return'] = google.Close.pct_change(360).mul(100)\n",
    "\n",
    "google.tail()"
   ]
  },
  {
   "cell_type": "code",
   "execution_count": 91,
   "metadata": {},
   "outputs": [
    {
     "data": {
      "image/png": "[encoded data removed]",
      "text/plain": [
       "<Figure size 432x288 with 3 Axes>"
      ]
     },
     "metadata": {
      "needs_background": "light"
     },
     "output_type": "display_data"
    }
   ],
   "source": [
    "# Plot the result\n",
    "google[['daily_return', 'monthly_return', 'annual_return']].plot(subplots=True)\n",
    "plt.show();"
   ]
  },
  {
   "cell_type": "markdown",
   "metadata": {},
   "source": [
    "---\n",
    "<a id='s4'></a>"
   ]
  },
  {
   "cell_type": "markdown",
   "metadata": {},
   "source": [
    "## Basic Time Series Metrics & Resampling\n",
    "\n",
    "## Compare the performance of several asset classes\n",
    "\n",
    "You can easily `compare several time series by normalizing their starting points to 100`, and plot the result. To broaden your perspective on financial markets, let's compare four key assets: stocks, bonds, gold, and oil."
   ]
  },
  {
   "cell_type": "code",
   "execution_count": 93,
   "metadata": {},
   "outputs": [
    {
     "data": {
      "text/html": [
       "<div>\n",
       "<style scoped>\n",
       "    .dataframe tbody tr th:only-of-type {\n",
       "        vertical-align: middle;\n",
       "    }\n",
       "\n",
       "    .dataframe tbody tr th {\n",
       "        vertical-align: top;\n",
       "    }\n",
       "\n",
       "    .dataframe thead th {\n",
       "        text-align: right;\n",
       "    }\n",
       "</style>\n",
       "<table border=\"1\" class=\"dataframe\">\n",
       "  <thead>\n",
       "    <tr style=\"text-align: right;\">\n",
       "      <th></th>\n",
       "      <th>SP500</th>\n",
       "      <th>Bonds</th>\n",
       "      <th>Gold</th>\n",
       "      <th>Oil</th>\n",
       "    </tr>\n",
       "    <tr>\n",
       "      <th>DATE</th>\n",
       "      <th></th>\n",
       "      <th></th>\n",
       "      <th></th>\n",
       "      <th></th>\n",
       "    </tr>\n",
       "  </thead>\n",
       "  <tbody>\n",
       "    <tr>\n",
       "      <td>2007-06-29</td>\n",
       "      <td>1503.35</td>\n",
       "      <td>402.15</td>\n",
       "      <td>648.50</td>\n",
       "      <td>70.47</td>\n",
       "    </tr>\n",
       "    <tr>\n",
       "      <td>2007-07-02</td>\n",
       "      <td>1519.43</td>\n",
       "      <td>402.96</td>\n",
       "      <td>650.50</td>\n",
       "      <td>71.11</td>\n",
       "    </tr>\n",
       "    <tr>\n",
       "      <td>2007-07-03</td>\n",
       "      <td>1524.87</td>\n",
       "      <td>402.02</td>\n",
       "      <td>657.25</td>\n",
       "      <td>71.41</td>\n",
       "    </tr>\n",
       "    <tr>\n",
       "      <td>2007-07-05</td>\n",
       "      <td>1525.40</td>\n",
       "      <td>400.15</td>\n",
       "      <td>655.90</td>\n",
       "      <td>71.81</td>\n",
       "    </tr>\n",
       "    <tr>\n",
       "      <td>2007-07-06</td>\n",
       "      <td>1530.44</td>\n",
       "      <td>399.31</td>\n",
       "      <td>647.75</td>\n",
       "      <td>72.80</td>\n",
       "    </tr>\n",
       "  </tbody>\n",
       "</table>\n",
       "</div>"
      ],
      "text/plain": [
       "              SP500   Bonds    Gold    Oil\n",
       "DATE                                      \n",
       "2007-06-29  1503.35  402.15  648.50  70.47\n",
       "2007-07-02  1519.43  402.96  650.50  71.11\n",
       "2007-07-03  1524.87  402.02  657.25  71.41\n",
       "2007-07-05  1525.40  400.15  655.90  71.81\n",
       "2007-07-06  1530.44  399.31  647.75  72.80"
      ]
     },
     "execution_count": 93,
     "metadata": {},
     "output_type": "execute_result"
    }
   ],
   "source": [
    "# Import data here\n",
    "# Import 'asset_classes.csv', using .read_csv() to parse dates in the 'DATE' \n",
    "#  column and set this column as the index, then assign the result to prices.\n",
    "prices = pd.read_csv(path+'asset_classes.csv', parse_dates=['DATE'], index_col='DATE')\n",
    "prices.head()"
   ]
  },
  {
   "cell_type": "code",
   "execution_count": 94,
   "metadata": {},
   "outputs": [
    {
     "name": "stdout",
     "output_type": "stream",
     "text": [
      "<class 'pandas.core.frame.DataFrame'>\n",
      "DatetimeIndex: 2469 entries, 2007-06-29 to 2017-06-26\n",
      "Data columns (total 4 columns):\n",
      "SP500    2469 non-null float64\n",
      "Bonds    2469 non-null float64\n",
      "Gold     2469 non-null float64\n",
      "Oil      2469 non-null float64\n",
      "dtypes: float64(4)\n",
      "memory usage: 96.4 KB\n",
      "None\n"
     ]
    }
   ],
   "source": [
    "# Inspect prices here\n",
    "print(prices.info())"
   ]
  },
  {
   "cell_type": "code",
   "execution_count": 95,
   "metadata": {},
   "outputs": [
    {
     "data": {
      "text/plain": [
       "SP500    1503.35\n",
       "Bonds     402.15\n",
       "Gold      648.50\n",
       "Oil        70.47\n",
       "Name: 2007-06-29 00:00:00, dtype: float64"
      ]
     },
     "execution_count": 95,
     "metadata": {},
     "output_type": "execute_result"
    }
   ],
   "source": [
    "# Select first prices\n",
    "# Select the first price for each series using .iloc[0] on prices \n",
    "#  and assign the result to first_prices.\n",
    "first_prices = prices.iloc[0]\n",
    "first_prices"
   ]
  },
  {
   "cell_type": "code",
   "execution_count": 97,
   "metadata": {},
   "outputs": [
    {
     "data": {
      "image/png": "[encoded data removed]",
      "text/plain": [
       "<Figure size 432x288 with 1 Axes>"
      ]
     },
     "metadata": {
      "needs_background": "light"
     },
     "output_type": "display_data"
    }
   ],
   "source": [
    "prices.plot()\n",
    "plt.show();"
   ]
  },
  {
   "cell_type": "code",
   "execution_count": 98,
   "metadata": {},
   "outputs": [
    {
     "data": {
      "text/html": [
       "<div>\n",
       "<style scoped>\n",
       "    .dataframe tbody tr th:only-of-type {\n",
       "        vertical-align: middle;\n",
       "    }\n",
       "\n",
       "    .dataframe tbody tr th {\n",
       "        vertical-align: top;\n",
       "    }\n",
       "\n",
       "    .dataframe thead th {\n",
       "        text-align: right;\n",
       "    }\n",
       "</style>\n",
       "<table border=\"1\" class=\"dataframe\">\n",
       "  <thead>\n",
       "    <tr style=\"text-align: right;\">\n",
       "      <th></th>\n",
       "      <th>SP500</th>\n",
       "      <th>Bonds</th>\n",
       "      <th>Gold</th>\n",
       "      <th>Oil</th>\n",
       "    </tr>\n",
       "    <tr>\n",
       "      <th>DATE</th>\n",
       "      <th></th>\n",
       "      <th></th>\n",
       "      <th></th>\n",
       "      <th></th>\n",
       "    </tr>\n",
       "  </thead>\n",
       "  <tbody>\n",
       "    <tr>\n",
       "      <td>2007-06-29</td>\n",
       "      <td>100.000000</td>\n",
       "      <td>100.000000</td>\n",
       "      <td>100.000000</td>\n",
       "      <td>100.000000</td>\n",
       "    </tr>\n",
       "    <tr>\n",
       "      <td>2007-07-02</td>\n",
       "      <td>101.069611</td>\n",
       "      <td>100.201417</td>\n",
       "      <td>100.308404</td>\n",
       "      <td>100.908188</td>\n",
       "    </tr>\n",
       "    <tr>\n",
       "      <td>2007-07-03</td>\n",
       "      <td>101.431470</td>\n",
       "      <td>99.967674</td>\n",
       "      <td>101.349268</td>\n",
       "      <td>101.333901</td>\n",
       "    </tr>\n",
       "    <tr>\n",
       "      <td>2007-07-05</td>\n",
       "      <td>101.466724</td>\n",
       "      <td>99.502673</td>\n",
       "      <td>101.141095</td>\n",
       "      <td>101.901518</td>\n",
       "    </tr>\n",
       "    <tr>\n",
       "      <td>2007-07-06</td>\n",
       "      <td>101.801976</td>\n",
       "      <td>99.293796</td>\n",
       "      <td>99.884348</td>\n",
       "      <td>103.306372</td>\n",
       "    </tr>\n",
       "  </tbody>\n",
       "</table>\n",
       "</div>"
      ],
      "text/plain": [
       "                 SP500       Bonds        Gold         Oil\n",
       "DATE                                                      \n",
       "2007-06-29  100.000000  100.000000  100.000000  100.000000\n",
       "2007-07-02  101.069611  100.201417  100.308404  100.908188\n",
       "2007-07-03  101.431470   99.967674  101.349268  101.333901\n",
       "2007-07-05  101.466724   99.502673  101.141095  101.901518\n",
       "2007-07-06  101.801976   99.293796   99.884348  103.306372"
      ]
     },
     "execution_count": 98,
     "metadata": {},
     "output_type": "execute_result"
    }
   ],
   "source": [
    "# Create normalized\n",
    "# Divide prices by first_prices, multiply by 100 \n",
    "#  and assign the result to normalized.\n",
    "normalized = prices.div(first_prices).mul(100)\n",
    "normalized.head()"
   ]
  },
  {
   "cell_type": "code",
   "execution_count": 99,
   "metadata": {},
   "outputs": [
    {
     "data": {
      "image/png": "[encoded data removed]",
      "text/plain": [
       "<Figure size 432x288 with 1 Axes>"
      ]
     },
     "metadata": {
      "needs_background": "light"
     },
     "output_type": "display_data"
    }
   ],
   "source": [
    "# Plot normalized\n",
    "normalized.plot()\n",
    "plt.show();"
   ]
  },
  {
   "cell_type": "markdown",
   "metadata": {},
   "source": [
    "## Comparing stock prices with a benchmark\n",
    "\n",
    "Compare the performance of various stocks against a benchmark. Learn more about the stock market by comparing the three largest stocks on the NYSE to the Dow Jones Industrial Average, which contains the 30 largest US companies.\n",
    "\n",
    "The three largest companies on the NYSE are:\n",
    "\n",
    "Company (Stock Ticker):\n",
    "- Johnson & Johnson (JNJ)\n",
    "- Exxon Mobil (XOM)\n",
    "- JP Morgan Chase (JPM)"
   ]
  },
  {
   "cell_type": "code",
   "execution_count": 100,
   "metadata": {},
   "outputs": [],
   "source": [
    "# Import stock prices and index here\n",
    "stocks = pd.read_csv(path+'nyse.csv', parse_dates=['date'], index_col='date')\n",
    "dow_jones = pd.read_csv(path+'dow_jones.csv', parse_dates=['date'], index_col='date')"
   ]
  },
  {
   "cell_type": "code",
   "execution_count": 101,
   "metadata": {},
   "outputs": [
    {
     "data": {
      "text/html": [
       "<div>\n",
       "<style scoped>\n",
       "    .dataframe tbody tr th:only-of-type {\n",
       "        vertical-align: middle;\n",
       "    }\n",
       "\n",
       "    .dataframe tbody tr th {\n",
       "        vertical-align: top;\n",
       "    }\n",
       "\n",
       "    .dataframe thead th {\n",
       "        text-align: right;\n",
       "    }\n",
       "</style>\n",
       "<table border=\"1\" class=\"dataframe\">\n",
       "  <thead>\n",
       "    <tr style=\"text-align: right;\">\n",
       "      <th></th>\n",
       "      <th>JNJ</th>\n",
       "      <th>JPM</th>\n",
       "      <th>XOM</th>\n",
       "    </tr>\n",
       "    <tr>\n",
       "      <th>date</th>\n",
       "      <th></th>\n",
       "      <th></th>\n",
       "      <th></th>\n",
       "    </tr>\n",
       "  </thead>\n",
       "  <tbody>\n",
       "    <tr>\n",
       "      <td>2010-01-04</td>\n",
       "      <td>64.68</td>\n",
       "      <td>42.85</td>\n",
       "      <td>69.15</td>\n",
       "    </tr>\n",
       "    <tr>\n",
       "      <td>2010-01-05</td>\n",
       "      <td>63.93</td>\n",
       "      <td>43.68</td>\n",
       "      <td>69.42</td>\n",
       "    </tr>\n",
       "    <tr>\n",
       "      <td>2010-01-06</td>\n",
       "      <td>64.45</td>\n",
       "      <td>43.92</td>\n",
       "      <td>70.02</td>\n",
       "    </tr>\n",
       "    <tr>\n",
       "      <td>2010-01-07</td>\n",
       "      <td>63.99</td>\n",
       "      <td>44.79</td>\n",
       "      <td>69.80</td>\n",
       "    </tr>\n",
       "    <tr>\n",
       "      <td>2010-01-08</td>\n",
       "      <td>64.21</td>\n",
       "      <td>44.68</td>\n",
       "      <td>69.52</td>\n",
       "    </tr>\n",
       "  </tbody>\n",
       "</table>\n",
       "</div>"
      ],
      "text/plain": [
       "              JNJ    JPM    XOM\n",
       "date                           \n",
       "2010-01-04  64.68  42.85  69.15\n",
       "2010-01-05  63.93  43.68  69.42\n",
       "2010-01-06  64.45  43.92  70.02\n",
       "2010-01-07  63.99  44.79  69.80\n",
       "2010-01-08  64.21  44.68  69.52"
      ]
     },
     "execution_count": 101,
     "metadata": {},
     "output_type": "execute_result"
    }
   ],
   "source": [
    "stocks.head()"
   ]
  },
  {
   "cell_type": "code",
   "execution_count": 102,
   "metadata": {},
   "outputs": [
    {
     "data": {
      "text/html": [
       "<div>\n",
       "<style scoped>\n",
       "    .dataframe tbody tr th:only-of-type {\n",
       "        vertical-align: middle;\n",
       "    }\n",
       "\n",
       "    .dataframe tbody tr th {\n",
       "        vertical-align: top;\n",
       "    }\n",
       "\n",
       "    .dataframe thead th {\n",
       "        text-align: right;\n",
       "    }\n",
       "</style>\n",
       "<table border=\"1\" class=\"dataframe\">\n",
       "  <thead>\n",
       "    <tr style=\"text-align: right;\">\n",
       "      <th></th>\n",
       "      <th>DJIA</th>\n",
       "    </tr>\n",
       "    <tr>\n",
       "      <th>date</th>\n",
       "      <th></th>\n",
       "    </tr>\n",
       "  </thead>\n",
       "  <tbody>\n",
       "    <tr>\n",
       "      <td>2010-01-04</td>\n",
       "      <td>10583.96</td>\n",
       "    </tr>\n",
       "    <tr>\n",
       "      <td>2010-01-05</td>\n",
       "      <td>10572.02</td>\n",
       "    </tr>\n",
       "    <tr>\n",
       "      <td>2010-01-06</td>\n",
       "      <td>10573.68</td>\n",
       "    </tr>\n",
       "    <tr>\n",
       "      <td>2010-01-07</td>\n",
       "      <td>10606.86</td>\n",
       "    </tr>\n",
       "    <tr>\n",
       "      <td>2010-01-08</td>\n",
       "      <td>10618.19</td>\n",
       "    </tr>\n",
       "  </tbody>\n",
       "</table>\n",
       "</div>"
      ],
      "text/plain": [
       "                DJIA\n",
       "date                \n",
       "2010-01-04  10583.96\n",
       "2010-01-05  10572.02\n",
       "2010-01-06  10573.68\n",
       "2010-01-07  10606.86\n",
       "2010-01-08  10618.19"
      ]
     },
     "execution_count": 102,
     "metadata": {},
     "output_type": "execute_result"
    }
   ],
   "source": [
    "dow_jones.head()"
   ]
  },
  {
   "cell_type": "code",
   "execution_count": 103,
   "metadata": {},
   "outputs": [
    {
     "name": "stdout",
     "output_type": "stream",
     "text": [
      "<class 'pandas.core.frame.DataFrame'>\n",
      "DatetimeIndex: 1762 entries, 2010-01-04 to 2016-12-30\n",
      "Data columns (total 4 columns):\n",
      "JNJ     1762 non-null float64\n",
      "JPM     1762 non-null float64\n",
      "XOM     1762 non-null float64\n",
      "DJIA    1762 non-null float64\n",
      "dtypes: float64(4)\n",
      "memory usage: 68.8 KB\n",
      "None\n"
     ]
    },
    {
     "data": {
      "text/html": [
       "<div>\n",
       "<style scoped>\n",
       "    .dataframe tbody tr th:only-of-type {\n",
       "        vertical-align: middle;\n",
       "    }\n",
       "\n",
       "    .dataframe tbody tr th {\n",
       "        vertical-align: top;\n",
       "    }\n",
       "\n",
       "    .dataframe thead th {\n",
       "        text-align: right;\n",
       "    }\n",
       "</style>\n",
       "<table border=\"1\" class=\"dataframe\">\n",
       "  <thead>\n",
       "    <tr style=\"text-align: right;\">\n",
       "      <th></th>\n",
       "      <th>JNJ</th>\n",
       "      <th>JPM</th>\n",
       "      <th>XOM</th>\n",
       "      <th>DJIA</th>\n",
       "    </tr>\n",
       "    <tr>\n",
       "      <th>date</th>\n",
       "      <th></th>\n",
       "      <th></th>\n",
       "      <th></th>\n",
       "      <th></th>\n",
       "    </tr>\n",
       "  </thead>\n",
       "  <tbody>\n",
       "    <tr>\n",
       "      <td>2010-01-04</td>\n",
       "      <td>64.68</td>\n",
       "      <td>42.85</td>\n",
       "      <td>69.15</td>\n",
       "      <td>10583.96</td>\n",
       "    </tr>\n",
       "    <tr>\n",
       "      <td>2010-01-05</td>\n",
       "      <td>63.93</td>\n",
       "      <td>43.68</td>\n",
       "      <td>69.42</td>\n",
       "      <td>10572.02</td>\n",
       "    </tr>\n",
       "    <tr>\n",
       "      <td>2010-01-06</td>\n",
       "      <td>64.45</td>\n",
       "      <td>43.92</td>\n",
       "      <td>70.02</td>\n",
       "      <td>10573.68</td>\n",
       "    </tr>\n",
       "    <tr>\n",
       "      <td>2010-01-07</td>\n",
       "      <td>63.99</td>\n",
       "      <td>44.79</td>\n",
       "      <td>69.80</td>\n",
       "      <td>10606.86</td>\n",
       "    </tr>\n",
       "    <tr>\n",
       "      <td>2010-01-08</td>\n",
       "      <td>64.21</td>\n",
       "      <td>44.68</td>\n",
       "      <td>69.52</td>\n",
       "      <td>10618.19</td>\n",
       "    </tr>\n",
       "  </tbody>\n",
       "</table>\n",
       "</div>"
      ],
      "text/plain": [
       "              JNJ    JPM    XOM      DJIA\n",
       "date                                     \n",
       "2010-01-04  64.68  42.85  69.15  10583.96\n",
       "2010-01-05  63.93  43.68  69.42  10572.02\n",
       "2010-01-06  64.45  43.92  70.02  10573.68\n",
       "2010-01-07  63.99  44.79  69.80  10606.86\n",
       "2010-01-08  64.21  44.68  69.52  10618.19"
      ]
     },
     "execution_count": 103,
     "metadata": {},
     "output_type": "execute_result"
    }
   ],
   "source": [
    "# Concatenate data and inspect result here\n",
    "# Use pd.concat() along axis=1 to combine stocks and dow_jones \n",
    "#  and assign the result to data. Inspect the .info() of data.\n",
    "data = pd.concat([stocks, dow_jones], axis=1)\n",
    "print(data.info())\n",
    "data.head()"
   ]
  },
  {
   "cell_type": "code",
   "execution_count": 104,
   "metadata": {},
   "outputs": [
    {
     "data": {
      "image/png": "[encoded data removed]",
      "text/plain": [
       "<Figure size 432x288 with 1 Axes>"
      ]
     },
     "metadata": {
      "needs_background": "light"
     },
     "output_type": "display_data"
    }
   ],
   "source": [
    "data.plot()\n",
    "plt.show();"
   ]
  },
  {
   "cell_type": "code",
   "execution_count": 105,
   "metadata": {},
   "outputs": [
    {
     "data": {
      "image/png": "[encoded data removed]",
      "text/plain": [
       "<Figure size 432x288 with 1 Axes>"
      ]
     },
     "metadata": {
      "needs_background": "light"
     },
     "output_type": "display_data"
    }
   ],
   "source": [
    "# Normalize and plot your data here\n",
    "data.div(data.iloc[0]).mul(100).plot()\n",
    "plt.show();"
   ]
  },
  {
   "cell_type": "markdown",
   "metadata": {},
   "source": [
    "## Plot performance difference vs benchmark index\n",
    "\n",
    "Calculate and plot the **performance difference** of a stock in percentage points relative to a benchmark index. Let's compare the performance of Microsoft (MSFT) and Apple (AAPL) to the S&P 500 over the last 10 years."
   ]
  },
  {
   "cell_type": "code",
   "execution_count": 106,
   "metadata": {},
   "outputs": [
    {
     "data": {
      "text/html": [
       "<div>\n",
       "<style scoped>\n",
       "    .dataframe tbody tr th:only-of-type {\n",
       "        vertical-align: middle;\n",
       "    }\n",
       "\n",
       "    .dataframe tbody tr th {\n",
       "        vertical-align: top;\n",
       "    }\n",
       "\n",
       "    .dataframe thead th {\n",
       "        text-align: right;\n",
       "    }\n",
       "</style>\n",
       "<table border=\"1\" class=\"dataframe\">\n",
       "  <thead>\n",
       "    <tr style=\"text-align: right;\">\n",
       "      <th></th>\n",
       "      <th>AAPL</th>\n",
       "      <th>MSFT</th>\n",
       "    </tr>\n",
       "    <tr>\n",
       "      <th>date</th>\n",
       "      <th></th>\n",
       "      <th></th>\n",
       "    </tr>\n",
       "  </thead>\n",
       "  <tbody>\n",
       "    <tr>\n",
       "      <td>2007-01-03</td>\n",
       "      <td>11.97</td>\n",
       "      <td>29.86</td>\n",
       "    </tr>\n",
       "    <tr>\n",
       "      <td>2007-01-04</td>\n",
       "      <td>12.24</td>\n",
       "      <td>29.81</td>\n",
       "    </tr>\n",
       "    <tr>\n",
       "      <td>2007-01-05</td>\n",
       "      <td>12.15</td>\n",
       "      <td>29.64</td>\n",
       "    </tr>\n",
       "    <tr>\n",
       "      <td>2007-01-08</td>\n",
       "      <td>12.21</td>\n",
       "      <td>29.93</td>\n",
       "    </tr>\n",
       "    <tr>\n",
       "      <td>2007-01-09</td>\n",
       "      <td>13.22</td>\n",
       "      <td>29.96</td>\n",
       "    </tr>\n",
       "  </tbody>\n",
       "</table>\n",
       "</div>"
      ],
      "text/plain": [
       "             AAPL   MSFT\n",
       "date                    \n",
       "2007-01-03  11.97  29.86\n",
       "2007-01-04  12.24  29.81\n",
       "2007-01-05  12.15  29.64\n",
       "2007-01-08  12.21  29.93\n",
       "2007-01-09  13.22  29.96"
      ]
     },
     "execution_count": 106,
     "metadata": {},
     "output_type": "execute_result"
    }
   ],
   "source": [
    "# Import stock data here\n",
    "stocks = pd.read_csv(path+'msft_aapl.csv', parse_dates=['date'], index_col='date')\n",
    "stocks.head()"
   ]
  },
  {
   "cell_type": "code",
   "execution_count": 107,
   "metadata": {},
   "outputs": [
    {
     "data": {
      "text/html": [
       "<div>\n",
       "<style scoped>\n",
       "    .dataframe tbody tr th:only-of-type {\n",
       "        vertical-align: middle;\n",
       "    }\n",
       "\n",
       "    .dataframe tbody tr th {\n",
       "        vertical-align: top;\n",
       "    }\n",
       "\n",
       "    .dataframe thead th {\n",
       "        text-align: right;\n",
       "    }\n",
       "</style>\n",
       "<table border=\"1\" class=\"dataframe\">\n",
       "  <thead>\n",
       "    <tr style=\"text-align: right;\">\n",
       "      <th></th>\n",
       "      <th>SP500</th>\n",
       "    </tr>\n",
       "    <tr>\n",
       "      <th>date</th>\n",
       "      <th></th>\n",
       "    </tr>\n",
       "  </thead>\n",
       "  <tbody>\n",
       "    <tr>\n",
       "      <td>2007-06-29</td>\n",
       "      <td>1503.35</td>\n",
       "    </tr>\n",
       "    <tr>\n",
       "      <td>2007-07-02</td>\n",
       "      <td>1519.43</td>\n",
       "    </tr>\n",
       "    <tr>\n",
       "      <td>2007-07-03</td>\n",
       "      <td>1524.87</td>\n",
       "    </tr>\n",
       "    <tr>\n",
       "      <td>2007-07-05</td>\n",
       "      <td>1525.40</td>\n",
       "    </tr>\n",
       "    <tr>\n",
       "      <td>2007-07-06</td>\n",
       "      <td>1530.44</td>\n",
       "    </tr>\n",
       "  </tbody>\n",
       "</table>\n",
       "</div>"
      ],
      "text/plain": [
       "              SP500\n",
       "date               \n",
       "2007-06-29  1503.35\n",
       "2007-07-02  1519.43\n",
       "2007-07-03  1524.87\n",
       "2007-07-05  1525.40\n",
       "2007-07-06  1530.44"
      ]
     },
     "execution_count": 107,
     "metadata": {},
     "output_type": "execute_result"
    }
   ],
   "source": [
    "# Import index here\n",
    "sp500 = pd.read_csv(path+'sp500.csv', parse_dates=['date'], index_col='date')\n",
    "sp500.head()"
   ]
  },
  {
   "cell_type": "code",
   "execution_count": 108,
   "metadata": {},
   "outputs": [
    {
     "data": {
      "text/html": [
       "<div>\n",
       "<style scoped>\n",
       "    .dataframe tbody tr th:only-of-type {\n",
       "        vertical-align: middle;\n",
       "    }\n",
       "\n",
       "    .dataframe tbody tr th {\n",
       "        vertical-align: top;\n",
       "    }\n",
       "\n",
       "    .dataframe thead th {\n",
       "        text-align: right;\n",
       "    }\n",
       "</style>\n",
       "<table border=\"1\" class=\"dataframe\">\n",
       "  <thead>\n",
       "    <tr style=\"text-align: right;\">\n",
       "      <th></th>\n",
       "      <th>AAPL</th>\n",
       "      <th>MSFT</th>\n",
       "      <th>SP500</th>\n",
       "    </tr>\n",
       "    <tr>\n",
       "      <th>date</th>\n",
       "      <th></th>\n",
       "      <th></th>\n",
       "      <th></th>\n",
       "    </tr>\n",
       "  </thead>\n",
       "  <tbody>\n",
       "    <tr>\n",
       "      <td>2007-06-29</td>\n",
       "      <td>17.43</td>\n",
       "      <td>29.47</td>\n",
       "      <td>1503.35</td>\n",
       "    </tr>\n",
       "    <tr>\n",
       "      <td>2007-07-02</td>\n",
       "      <td>17.32</td>\n",
       "      <td>29.74</td>\n",
       "      <td>1519.43</td>\n",
       "    </tr>\n",
       "    <tr>\n",
       "      <td>2007-07-03</td>\n",
       "      <td>18.17</td>\n",
       "      <td>30.02</td>\n",
       "      <td>1524.87</td>\n",
       "    </tr>\n",
       "    <tr>\n",
       "      <td>2007-07-05</td>\n",
       "      <td>18.96</td>\n",
       "      <td>29.99</td>\n",
       "      <td>1525.40</td>\n",
       "    </tr>\n",
       "    <tr>\n",
       "      <td>2007-07-06</td>\n",
       "      <td>18.90</td>\n",
       "      <td>29.97</td>\n",
       "      <td>1530.44</td>\n",
       "    </tr>\n",
       "  </tbody>\n",
       "</table>\n",
       "</div>"
      ],
      "text/plain": [
       "             AAPL   MSFT    SP500\n",
       "date                             \n",
       "2007-06-29  17.43  29.47  1503.35\n",
       "2007-07-02  17.32  29.74  1519.43\n",
       "2007-07-03  18.17  30.02  1524.87\n",
       "2007-07-05  18.96  29.99  1525.40\n",
       "2007-07-06  18.90  29.97  1530.44"
      ]
     },
     "execution_count": 108,
     "metadata": {},
     "output_type": "execute_result"
    }
   ],
   "source": [
    "# Concatenate stocks and index here\n",
    "# Use pd.concat() to concatenate stocks and sp500 along axis=1, \n",
    "#  apply .dropna() to drop all missing values, and assign the result to data.\n",
    "data = pd.concat([stocks, sp500], axis=1).dropna()\n",
    "data.head()"
   ]
  },
  {
   "cell_type": "code",
   "execution_count": 111,
   "metadata": {},
   "outputs": [
    {
     "data": {
      "image/png": "[encoded data removed]",
      "text/plain": [
       "<Figure size 432x288 with 1 Axes>"
      ]
     },
     "metadata": {
      "needs_background": "light"
     },
     "output_type": "display_data"
    }
   ],
   "source": [
    "data.plot()\n",
    "plt.show();"
   ]
  },
  {
   "cell_type": "code",
   "execution_count": 109,
   "metadata": {},
   "outputs": [
    {
     "data": {
      "text/html": [
       "<div>\n",
       "<style scoped>\n",
       "    .dataframe tbody tr th:only-of-type {\n",
       "        vertical-align: middle;\n",
       "    }\n",
       "\n",
       "    .dataframe tbody tr th {\n",
       "        vertical-align: top;\n",
       "    }\n",
       "\n",
       "    .dataframe thead th {\n",
       "        text-align: right;\n",
       "    }\n",
       "</style>\n",
       "<table border=\"1\" class=\"dataframe\">\n",
       "  <thead>\n",
       "    <tr style=\"text-align: right;\">\n",
       "      <th></th>\n",
       "      <th>AAPL</th>\n",
       "      <th>MSFT</th>\n",
       "      <th>SP500</th>\n",
       "    </tr>\n",
       "    <tr>\n",
       "      <th>date</th>\n",
       "      <th></th>\n",
       "      <th></th>\n",
       "      <th></th>\n",
       "    </tr>\n",
       "  </thead>\n",
       "  <tbody>\n",
       "    <tr>\n",
       "      <td>2007-06-29</td>\n",
       "      <td>100.000000</td>\n",
       "      <td>100.000000</td>\n",
       "      <td>100.000000</td>\n",
       "    </tr>\n",
       "    <tr>\n",
       "      <td>2007-07-02</td>\n",
       "      <td>99.368904</td>\n",
       "      <td>100.916186</td>\n",
       "      <td>101.069611</td>\n",
       "    </tr>\n",
       "    <tr>\n",
       "      <td>2007-07-03</td>\n",
       "      <td>104.245554</td>\n",
       "      <td>101.866305</td>\n",
       "      <td>101.431470</td>\n",
       "    </tr>\n",
       "    <tr>\n",
       "      <td>2007-07-05</td>\n",
       "      <td>108.777969</td>\n",
       "      <td>101.764506</td>\n",
       "      <td>101.466724</td>\n",
       "    </tr>\n",
       "    <tr>\n",
       "      <td>2007-07-06</td>\n",
       "      <td>108.433735</td>\n",
       "      <td>101.696641</td>\n",
       "      <td>101.801976</td>\n",
       "    </tr>\n",
       "  </tbody>\n",
       "</table>\n",
       "</div>"
      ],
      "text/plain": [
       "                  AAPL        MSFT       SP500\n",
       "date                                          \n",
       "2007-06-29  100.000000  100.000000  100.000000\n",
       "2007-07-02   99.368904  100.916186  101.069611\n",
       "2007-07-03  104.245554  101.866305  101.431470\n",
       "2007-07-05  108.777969  101.764506  101.466724\n",
       "2007-07-06  108.433735  101.696641  101.801976"
      ]
     },
     "execution_count": 109,
     "metadata": {},
     "output_type": "execute_result"
    }
   ],
   "source": [
    "# Normalize data\n",
    "normalized = data.div(data.iloc[0]).mul(100)\n",
    "normalized.head()"
   ]
  },
  {
   "cell_type": "code",
   "execution_count": 112,
   "metadata": {},
   "outputs": [
    {
     "data": {
      "image/png": "[encoded data removed]",
      "text/plain": [
       "<Figure size 432x288 with 1 Axes>"
      ]
     },
     "metadata": {
      "needs_background": "light"
     },
     "output_type": "display_data"
    }
   ],
   "source": [
    "normalized.plot()\n",
    "plt.show();"
   ]
  },
  {
   "cell_type": "code",
   "execution_count": 113,
   "metadata": {},
   "outputs": [
    {
     "data": {
      "image/png": "[encoded data removed]",
      "text/plain": [
       "<Figure size 432x288 with 1 Axes>"
      ]
     },
     "metadata": {
      "needs_background": "light"
     },
     "output_type": "display_data"
    }
   ],
   "source": [
    "# Create tickers\n",
    "tickers = ['MSFT', 'AAPL']\n",
    "\n",
    "# Subtract the normalized index from the normalized stock prices, and plot the result\n",
    "# Select tickers from normalized, and subtract normalized['SP500'] \n",
    "#  with keyword axis=0 to align the indexes, then plot the result.\n",
    "normalized[tickers].sub(normalized['SP500'], axis=0).plot()\n",
    "plt.show();"
   ]
  },
  {
   "cell_type": "markdown",
   "metadata": {},
   "source": [
    "Now you can compare these stocks to the overall market so you can more easily spot trends and outliers."
   ]
  },
  {
   "cell_type": "markdown",
   "metadata": {},
   "source": [
    "## Convert monthly to weekly data\n",
    "\n",
    "<img src=\"images/ts2_002.png\" alt=\"\" style=\"width: 400px;\"/>\n",
    "\n",
    "<img src=\"images/ts2_003.png\" alt=\"\" style=\"width: 400px;\"/>\n",
    "\n",
    "Use `.reindex()` to conform an existing time series to a DateTimeIndex at a different frequency.\n",
    "\n",
    "Let's practice this method by creating monthly data and then converting this data to weekly frequency while applying various fill logic options."
   ]
  },
  {
   "cell_type": "code",
   "execution_count": 114,
   "metadata": {},
   "outputs": [],
   "source": [
    "# Set start and end dates\n",
    "start = '2016-1-1'\n",
    "end = '2016-2-29'"
   ]
  },
  {
   "cell_type": "code",
   "execution_count": 118,
   "metadata": {},
   "outputs": [
    {
     "name": "stdout",
     "output_type": "stream",
     "text": [
      "DatetimeIndex(['2016-01-31', '2016-02-29'], dtype='datetime64[ns]', freq='M')\n"
     ]
    }
   ],
   "source": [
    "# Create monthly_dates here\n",
    "# Create monthly_dates using pd.date_range with start, \n",
    "#  end and frequency alias 'M'.\n",
    "monthly_dates = pd.date_range(start=start, end=end, freq='M')\n",
    "print(monthly_dates)"
   ]
  },
  {
   "cell_type": "code",
   "execution_count": 117,
   "metadata": {},
   "outputs": [
    {
     "name": "stdout",
     "output_type": "stream",
     "text": [
      "2016-01-31    1\n",
      "2016-02-29    2\n",
      "Freq: M, dtype: int64\n"
     ]
    }
   ],
   "source": [
    "# Create and print monthly here\n",
    "# Create and print the pd.Series monthly, passing the list [1, 2] \n",
    "#  as the data argument, and using monthly_dates as index.\n",
    "monthly = pd.Series(data=[1, 2], index=monthly_dates)\n",
    "print(monthly)"
   ]
  },
  {
   "cell_type": "code",
   "execution_count": 119,
   "metadata": {},
   "outputs": [
    {
     "name": "stdout",
     "output_type": "stream",
     "text": [
      "DatetimeIndex(['2016-01-03', '2016-01-10', '2016-01-17', '2016-01-24',\n",
      "               '2016-01-31', '2016-02-07', '2016-02-14', '2016-02-21',\n",
      "               '2016-02-28'],\n",
      "              dtype='datetime64[ns]', freq='W-SUN')\n"
     ]
    }
   ],
   "source": [
    "# Create weekly_dates here\n",
    "weekly_dates = pd.date_range(start=start, end=end, freq='W')\n",
    "print(weekly_dates)"
   ]
  },
  {
   "cell_type": "code",
   "execution_count": 121,
   "metadata": {},
   "outputs": [
    {
     "name": "stdout",
     "output_type": "stream",
     "text": [
      "2016-01-03    NaN\n",
      "2016-01-10    NaN\n",
      "2016-01-17    NaN\n",
      "2016-01-24    NaN\n",
      "2016-01-31    1.0\n",
      "2016-02-07    NaN\n",
      "2016-02-14    NaN\n",
      "2016-02-21    NaN\n",
      "2016-02-28    NaN\n",
      "Freq: W-SUN, dtype: float64\n"
     ]
    }
   ],
   "source": [
    "# Print monthly, reindexed using weekly_dates\n",
    "# Apply .reindex() to monthly three times: first without additional options, \n",
    "#  then with ffill and then with bfill, print()-ing each result.\n",
    "print(monthly.reindex(weekly_dates))"
   ]
  },
  {
   "cell_type": "code",
   "execution_count": 122,
   "metadata": {},
   "outputs": [
    {
     "name": "stdout",
     "output_type": "stream",
     "text": [
      "2016-01-03    1\n",
      "2016-01-10    1\n",
      "2016-01-17    1\n",
      "2016-01-24    1\n",
      "2016-01-31    1\n",
      "2016-02-07    2\n",
      "2016-02-14    2\n",
      "2016-02-21    2\n",
      "2016-02-28    2\n",
      "Freq: W-SUN, dtype: int64\n"
     ]
    }
   ],
   "source": [
    "print(monthly.reindex(weekly_dates, method='bfill'))"
   ]
  },
  {
   "cell_type": "code",
   "execution_count": 123,
   "metadata": {},
   "outputs": [
    {
     "name": "stdout",
     "output_type": "stream",
     "text": [
      "2016-01-03    NaN\n",
      "2016-01-10    NaN\n",
      "2016-01-17    NaN\n",
      "2016-01-24    NaN\n",
      "2016-01-31    1.0\n",
      "2016-02-07    1.0\n",
      "2016-02-14    1.0\n",
      "2016-02-21    1.0\n",
      "2016-02-28    1.0\n",
      "Freq: W-SUN, dtype: float64\n"
     ]
    }
   ],
   "source": [
    "print(monthly.reindex(weekly_dates, method='ffill'))"
   ]
  },
  {
   "cell_type": "code",
   "execution_count": null,
   "metadata": {},
   "outputs": [],
   "source": []
  },
  {
   "cell_type": "code",
   "execution_count": 12,
   "metadata": {},
   "outputs": [
    {
     "ename": "SyntaxError",
     "evalue": "invalid syntax (<ipython-input-12-345b3885c024>, line 1)",
     "output_type": "error",
     "traceback": [
      "\u001b[0;36m  File \u001b[0;32m\"<ipython-input-12-345b3885c024>\"\u001b[0;36m, line \u001b[0;32m1\u001b[0m\n\u001b[0;31m    ---\u001b[0m\n\u001b[0m       ^\u001b[0m\n\u001b[0;31mSyntaxError\u001b[0m\u001b[0;31m:\u001b[0m invalid syntax\n"
     ]
    }
   ],
   "source": [
    "---\n",
    "<a id='s5'></a>"
   ]
  },
  {
   "cell_type": "code",
   "execution_count": null,
   "metadata": {},
   "outputs": [],
   "source": [
    "<img src=\"images/ts2_001.png\" alt=\"\" style=\"width: 400px;\"/>"
   ]
  }
 ],
 "metadata": {
  "kernelspec": {
   "display_name": "Python 3",
   "language": "python",
   "name": "python3"
  },
  "language_info": {
   "codemirror_mode": {
    "name": "ipython",
    "version": 3
   },
   "file_extension": ".py",
   "mimetype": "text/x-python",
   "name": "python",
   "nbconvert_exporter": "python",
   "pygments_lexer": "ipython3",
   "version": "3.7.1"
  }
 },
 "nbformat": 4,
 "nbformat_minor": 4
}

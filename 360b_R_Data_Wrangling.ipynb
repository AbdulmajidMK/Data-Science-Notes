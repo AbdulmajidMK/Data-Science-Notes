{
 "cells": [
  {
   "cell_type": "raw",
   "metadata": {},
   "source": [
    "From: https://github.com/ksatola\n",
    "Version: 0.0.1"
   ]
  },
  {
   "cell_type": "markdown",
   "metadata": {},
   "source": [
    "# Data Wrangling in R\n",
    "\n",
    "**Data wrangling** covers loading, manipulating, reshaping, and exploring data structures.\n",
    "\n",
    "1. **Where data come from?** - `When working with any data set, it is vital to consider where the data came from, who, how and why recorded it - to effectively and meaningfully analyze it`.\n",
    "    - **Sensors** - assuming these devices have been properly calibrated, they offer a reliable and consistent mechanism for data collection.\n",
    "    - **Surveys** - are dependent on individuals self-reporting, their quality may vary. The biases inherent in survey responses should be recognized and (if possible) adjusted.\n",
    "    - **Record keeping** - based on manual or automatic process to keep track of different (business) activities. The reliability depends on quality of systems producing it and the way they are gathered. Record keeping may only focus on particular tasks.\n",
    "    - **Secondary data analysis** - data compiled from existing knowledge artifacts or measurements (such as historical texts). These artifacts may already exclude perspectives.\n",
    "    \n",
    "2. **Dataset sources**\n",
    "    - Government piblications\n",
    "    - News and journalism (New York time, FiveThirtyEight)\n",
    "    - Scientific research (Nature Recommended Data Repositories)\n",
    "    - Social networks and media organizations (Facebook, Twitter, Google)\n",
    "    - Online communities (Kaggle, Socrata, UCI ML Repository)\n",
    "    \n",
    "3. Once you acquire a data set, you will have to **understand its structure and content** before (programmatically) investigating it."
   ]
  },
  {
   "cell_type": "markdown",
   "metadata": {},
   "source": [
    "## Table of Contents\n",
    "\n",
    "- [Understanding Data](#data)\n"
   ]
  },
  {
   "cell_type": "markdown",
   "metadata": {},
   "source": [
    "---\n",
    "<a id='data'></a>"
   ]
  },
  {
   "cell_type": "markdown",
   "metadata": {},
   "source": [
    "## Understanding Data"
   ]
  },
  {
   "cell_type": "code",
   "execution_count": null,
   "metadata": {},
   "outputs": [],
   "source": []
  }
 ],
 "metadata": {
  "kernelspec": {
   "display_name": "R",
   "language": "R",
   "name": "ir"
  },
  "language_info": {
   "codemirror_mode": "r",
   "file_extension": ".r",
   "mimetype": "text/x-r-source",
   "name": "R",
   "pygments_lexer": "r",
   "version": "3.6.1"
  }
 },
 "nbformat": 4,
 "nbformat_minor": 4
}

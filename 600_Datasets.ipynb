{
 "cells": [
  {
   "cell_type": "markdown",
   "metadata": {},
   "source": [
    "# Datasets\n",
    "\n",
    "Use these datasets as validation or proofs of concept, but don’t forget to test or prototype how the product will function and obtain new, more realistic data to improve its operation. Successful data-driven companies usually derive strength from their ability to collect new, proprietary data that improves their performance in a defensible way."
   ]
  },
  {
   "cell_type": "markdown",
   "metadata": {},
   "source": [
    "## Different Categories"
   ]
  },
  {
   "cell_type": "markdown",
   "metadata": {},
   "source": [
    "- [A list of some open datasets that you can’t afford not to know about in the AI world](https://medium.com/startup-grind/fueling-the-ai-gold-rush-7ae438505bc2) - computer vision, natural language, speach, recommendation and ranking systems, networks and graphs, geospatial data."
   ]
  },
  {
   "cell_type": "markdown",
   "metadata": {},
   "source": [
    "## Computer Vision\n",
    "\n",
    "- [Train your AI with the world's largest video data platform](https://20bn.com/products/datasets)\n",
    "- [Google Open Images Dataset](https://storage.googleapis.com/openimages/web/index.html)"
   ]
  },
  {
   "cell_type": "markdown",
   "metadata": {},
   "source": [
    "## NLP\n",
    "\n",
    "- [Wine Reviews](https://www.kaggle.com/zynicide/wine-reviews/downloads/wine-reviews.zip/4) - This collection is a great dataset for learning with no missing values (which will take time to handle) and a lot of text (wine reviews), categorical, and numerical data."
   ]
  },
  {
   "cell_type": "markdown",
   "metadata": {},
   "source": [
    "## Various\n",
    "\n",
    "Data is everywhere, but here are some starting points:\n",
    "- [Data.gov](https://www.data.gov/) is the government’s open data portal. If you want data on anything that has to do with the government (which seems to be most things these days), it’s a good place to start.\n",
    "- [data.europa.eu](http://data.europa.eu/)\n",
    "- Reddit has a couple of forums, [r/datasets](https://www.reddit.com/r/datasets/) and [r/data](https://www.reddit.com/r/data/), that are places to both ask for and discover data.\n",
    "- [Amazon.com](https://aws.amazon.com/opendata/public-datasets/) maintains a collection of public datasets that they’d like you to analyze using their products (but that you can analyze with whatever products you want).\n",
    "- Robb Seaton has a quirky [list of curated datasets](http://rs.io/100-interesting-data-sets-for-statistics/) on his blog.\n",
    "- [Kaggle](https://www.kaggle.com/) is a site that holds data science competitions. \n",
    "- Google has a newish [Dataset Search](https://toolbox.google.com/datasetsearch) that lets you (you guessed it) search for datasets.\n",
    "\n",
    "- [University of California, Irvine's Machine Learning repository](http://archive.ics.uci.edu/ml/index.php) - We currently maintain 481 data sets as a service to the machine learning community.\n",
    "\n",
    "- [Open Data for All New Yorkers](https://opendata.cityofnewyork.us/) - Open Data is free public data published by New York City agencies and other partners.\n",
    "\n",
    "- [The Humanitarian Data Exchange](https://data.humdata.org) - The Humanitarian Data Exchange (HDX) is an open platform for sharing data across crises and organisations. Launched in July 2014, the goal of HDX is to make humanitarian data easy to find and use for analysis. Our growing collection of datasets has been accessed by users in over 200 countries and territories."
   ]
  },
  {
   "cell_type": "markdown",
   "metadata": {},
   "source": [
    "- You can find the LIGO data plus loads of documentation and tutorials [here](https://www.gw-openscience.org/events/GW150914/). There is also a great tutorial on Signal Processing with the data [here](https://www.gw-openscience.org/GW150914data/LOSC_Event_tutorial_GW150914.html).\n",
    "\n",
    "- The file contains gene expression data from the Albeck Lab at UCDavis. You can find the data and some great documentation [here](https://www.mcb.ucdavis.edu/faculty-labs/albeck/workshop.htm).\n",
    "\n",
    "- [Chinook](https://github.com/lerocha/chinook-database) is a sample database available for SQL Server, Oracle, MySQL, etc. It can be created by running a single SQL script. Chinook database is an alternative to the Northwind database, being ideal for demos and testing ORM tools targeting single and multiple database servers.\n",
    "\n",
    "- [The Institute of Education Sciences (IES)](https://ies.ed.gov/data.asp) - is the statistics, research, and evaluation arm of the U.S. Department of Education. We are independent and non-partisan. Our mission is to provide scientific evidence on which to ground education practice and policy and to share this information in formats that are useful and accessible to educators, parents, policymakers, researchers, and the public.\n",
    "\n",
    "- [Titanic](http://biostat.mc.vanderbilt.edu/wiki/pub/Main/DataSets/titanic.html) - The titanic and titanic2 data frames describe the survival status of individual passengers on the Titanic. The titanic data frame does not contain information from the crew, but it does contain actual ages of half of the passengers. The principal source for data about Titanic passengers is the Encyclopedia Titanica. The datasets used here were begun by a variety of researchers. One of the original sources is Eaton & Haas (1994) Titanic: Triumph and Tragedy, Patrick Stephens Ltd, which includes a passenger list created by many researchers and edited by Michael A. Findlay.\n",
    "\n",
    "- [World Development Indicators](https://databank.worldbank.org/reports.aspx?source=2&type=metadata&series=SP.URB.TOTL.IN.ZS#) - from [World Bank Open Data](https://data.worldbank.org/) - Free and open access to global development data"
   ]
  },
  {
   "cell_type": "markdown",
   "metadata": {},
   "source": [
    "Resources"
   ]
  }
 ],
 "metadata": {
  "kernelspec": {
   "display_name": "Python 3",
   "language": "python",
   "name": "python3"
  },
  "language_info": {
   "codemirror_mode": {
    "name": "ipython",
    "version": 3
   },
   "file_extension": ".py",
   "mimetype": "text/x-python",
   "name": "python",
   "nbconvert_exporter": "python",
   "pygments_lexer": "ipython3",
   "version": "3.7.1"
  }
 },
 "nbformat": 4,
 "nbformat_minor": 2
}

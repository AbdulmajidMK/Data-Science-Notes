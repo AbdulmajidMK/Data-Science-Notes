{
 "cells": [
  {
   "cell_type": "markdown",
   "metadata": {},
   "source": [
    "# Model Perfomance Metrics"
   ]
  },
  {
   "cell_type": "markdown",
   "metadata": {},
   "source": [
    "- Regression Models\n",
    "    - R2\n",
    "    - Residual Sum of Squares (RSS)\n",
    "    - Mean Squared Error (MSE)\n",
    "    - Mean Absolute Error (MAE)\n",
    "    - Median Absolute Error / Median Absolute Deviation (MAD)\n",
    "    - Root mean squared error (RMSE)\n",
    "    - Explained variance score"
   ]
  },
  {
   "cell_type": "markdown",
   "metadata": {},
   "source": [
    "Once we've built a model, it's important to understand how well it works. To do so, we evaluate the model against one or more metrics."
   ]
  },
  {
   "cell_type": "markdown",
   "metadata": {},
   "source": [
    "## Regression Models"
   ]
  },
  {
   "cell_type": "code",
   "execution_count": 14,
   "metadata": {},
   "outputs": [],
   "source": [
    "import numpy as np\n",
    "from matplotlib import pyplot as plt\n",
    "from sklearn.linear_model import LinearRegression\n",
    "\n",
    "%matplotlib inline"
   ]
  },
  {
   "cell_type": "code",
   "execution_count": 6,
   "metadata": {},
   "outputs": [],
   "source": [
    "np.random.seed(42)\n",
    "\n",
    "# Np.newaxis comes in very handy when you want to explicitly convert an 1D array \n",
    "# to either a row vector or a column vector.\n",
    "\n",
    "X = (np.array(sorted(list(range(5))*20)) \n",
    "     + np.random.normal(size=100, scale=0.5))[:, np.newaxis]\n",
    "\n",
    "y = (np.array(sorted(list(range(5))*20)) \n",
    "     + np.random.normal(size=100, scale=0.25))[:, np.newaxis]"
   ]
  },
  {
   "cell_type": "code",
   "execution_count": 7,
   "metadata": {},
   "outputs": [
    {
     "data": {
      "text/plain": [
       "array([[ 0.24835708],\n",
       "       [-0.06913215],\n",
       "       [ 0.32384427],\n",
       "       [ 0.76151493],\n",
       "       [-0.11707669],\n",
       "       [-0.11706848],\n",
       "       [ 0.78960641],\n",
       "       [ 0.38371736],\n",
       "       [-0.23473719],\n",
       "       [ 0.27128002],\n",
       "       [-0.23170885],\n",
       "       [-0.23286488],\n",
       "       [ 0.12098114],\n",
       "       [-0.95664012],\n",
       "       [-0.86245892],\n",
       "       [-0.28114376],\n",
       "       [-0.50641556],\n",
       "       [ 0.15712367],\n",
       "       [-0.45401204],\n",
       "       [-0.70615185],\n",
       "       [ 1.73282438],\n",
       "       [ 0.88711185],\n",
       "       [ 1.0337641 ],\n",
       "       [ 0.28762591],\n",
       "       [ 0.72780864],\n",
       "       [ 1.05546129],\n",
       "       [ 0.42450321],\n",
       "       [ 1.18784901],\n",
       "       [ 0.69968066],\n",
       "       [ 0.85415313],\n",
       "       [ 0.69914669],\n",
       "       [ 1.92613909],\n",
       "       [ 0.99325139],\n",
       "       [ 0.47114454],\n",
       "       [ 1.41127246],\n",
       "       [ 0.38957818],\n",
       "       [ 1.1044318 ],\n",
       "       [ 0.02016494],\n",
       "       [ 0.33590698],\n",
       "       [ 1.09843062],\n",
       "       [ 2.36923329],\n",
       "       [ 2.08568414],\n",
       "       [ 1.94217586],\n",
       "       [ 1.84944815],\n",
       "       [ 1.260739  ],\n",
       "       [ 1.6400779 ],\n",
       "       [ 1.76968061],\n",
       "       [ 2.52856111],\n",
       "       [ 2.17180914],\n",
       "       [ 1.11847992],\n",
       "       [ 2.16204198],\n",
       "       [ 1.80745886],\n",
       "       [ 1.661539  ],\n",
       "       [ 2.30583814],\n",
       "       [ 2.51549976],\n",
       "       [ 2.46564006],\n",
       "       [ 1.58039124],\n",
       "       [ 1.84539381],\n",
       "       [ 2.16563172],\n",
       "       [ 2.48777256],\n",
       "       [ 2.76041288],\n",
       "       [ 2.90717051],\n",
       "       [ 2.44683251],\n",
       "       [ 2.40189669],\n",
       "       [ 3.40626291],\n",
       "       [ 3.67812001],\n",
       "       [ 2.96399494],\n",
       "       [ 3.50176645],\n",
       "       [ 3.18081801],\n",
       "       [ 2.67744012],\n",
       "       [ 3.1806978 ],\n",
       "       [ 3.76901828],\n",
       "       [ 2.98208698],\n",
       "       [ 3.78232183],\n",
       "       [ 1.69012745],\n",
       "       [ 3.41095125],\n",
       "       [ 3.04352353],\n",
       "       [ 2.85049632],\n",
       "       [ 3.04588039],\n",
       "       [ 2.00621554],\n",
       "       [ 3.89016406],\n",
       "       [ 4.17855629],\n",
       "       [ 4.73894702],\n",
       "       [ 3.74086489],\n",
       "       [ 3.5957532 ],\n",
       "       [ 3.74912148],\n",
       "       [ 4.45770106],\n",
       "       [ 4.16437555],\n",
       "       [ 3.7351199 ],\n",
       "       [ 4.25663372],\n",
       "       [ 4.04853877],\n",
       "       [ 4.4843225 ],\n",
       "       [ 3.64897345],\n",
       "       [ 3.83616893],\n",
       "       [ 3.80394592],\n",
       "       [ 3.26824253],\n",
       "       [ 4.14806014],\n",
       "       [ 4.13052764],\n",
       "       [ 4.00255673],\n",
       "       [ 3.88270643]])"
      ]
     },
     "execution_count": 7,
     "metadata": {},
     "output_type": "execute_result"
    }
   ],
   "source": [
    "X"
   ]
  },
  {
   "cell_type": "code",
   "execution_count": 8,
   "metadata": {},
   "outputs": [
    {
     "data": {
      "text/plain": [
       "array([[-0.35384269],\n",
       "       [-0.10516133],\n",
       "       [-0.08567863],\n",
       "       [-0.20056932],\n",
       "       [-0.04032143],\n",
       "       [ 0.10101271],\n",
       "       [ 0.47154648],\n",
       "       [ 0.04364445],\n",
       "       [ 0.0643876 ],\n",
       "       [-0.01861148],\n",
       "       [-0.4796928 ],\n",
       "       [-0.00662847],\n",
       "       [ 0.01505755],\n",
       "       [ 0.61581053],\n",
       "       [-0.04809024],\n",
       "       [ 0.07538684],\n",
       "       [-0.00867794],\n",
       "       [-0.29216951],\n",
       "       [ 0.2857057 ],\n",
       "       [ 0.18798326],\n",
       "       [ 1.19775799],\n",
       "       [ 0.77265314],\n",
       "       [ 1.35069858],\n",
       "       [ 0.64953723],\n",
       "       [ 1.14671427],\n",
       "       [ 1.54761391],\n",
       "       [ 0.75236592],\n",
       "       [ 0.85842557],\n",
       "       [ 1.02491284],\n",
       "       [ 0.87413109],\n",
       "       [ 0.61233414],\n",
       "       [ 1.01714074],\n",
       "       [ 0.73442407],\n",
       "       [ 1.11839811],\n",
       "       [ 0.77014394],\n",
       "       [ 1.3874836 ],\n",
       "       [ 0.80418668],\n",
       "       [ 0.91948462],\n",
       "       [ 1.2033793 ],\n",
       "       [ 0.69228392],\n",
       "       [ 2.05686498],\n",
       "       [ 2.32678569],\n",
       "       [ 1.59812919],\n",
       "       [ 2.04615846],\n",
       "       [ 2.0649707 ],\n",
       "       [ 2.19545572],\n",
       "       [ 1.69076232],\n",
       "       [ 1.66988585],\n",
       "       [ 2.13048539],\n",
       "       [ 2.07424617],\n",
       "       [ 2.06262321],\n",
       "       [ 2.08661205],\n",
       "       [ 1.82999382],\n",
       "       [ 2.05806342],\n",
       "       [ 2.07326812],\n",
       "       [ 1.82141215],\n",
       "       [ 2.46644363],\n",
       "       [ 2.11845823],\n",
       "       [ 1.70217413],\n",
       "       [ 2.1641384 ],\n",
       "       [ 2.75632958],\n",
       "       [ 3.19677115],\n",
       "       [ 3.28964889],\n",
       "       [ 2.79482942],\n",
       "       [ 3.24084403],\n",
       "       [ 3.10319523],\n",
       "       [ 3.20551504],\n",
       "       [ 3.47419825],\n",
       "       [ 2.93865297],\n",
       "       [ 2.81156596],\n",
       "       [ 2.77762139],\n",
       "       [ 2.79604743],\n",
       "       [ 2.98072457],\n",
       "       [ 3.08528799],\n",
       "       [ 3.0691727 ],\n",
       "       [ 3.20679581],\n",
       "       [ 3.00325047],\n",
       "       [ 3.36338352],\n",
       "       [ 2.93383579],\n",
       "       [ 3.68004229],\n",
       "       [ 4.15641684],\n",
       "       [ 3.78571061],\n",
       "       [ 3.73227688],\n",
       "       [ 4.1206181 ],\n",
       "       [ 3.9441343 ],\n",
       "       [ 4.17850012],\n",
       "       [ 4.11830941],\n",
       "       [ 3.98179277],\n",
       "       [ 3.78830157],\n",
       "       [ 3.62128819],\n",
       "       [ 3.88837126],\n",
       "       [ 4.2140997 ],\n",
       "       [ 4.05352344],\n",
       "       [ 3.68856531],\n",
       "       [ 4.04329523],\n",
       "       [ 4.09632934],\n",
       "       [ 3.77903564],\n",
       "       [ 4.03843128],\n",
       "       [ 4.01455218],\n",
       "       [ 3.71425743]])"
      ]
     },
     "execution_count": 8,
     "metadata": {},
     "output_type": "execute_result"
    }
   ],
   "source": [
    "y"
   ]
  },
  {
   "cell_type": "code",
   "execution_count": 16,
   "metadata": {},
   "outputs": [
    {
     "data": {
      "image/png": "[encoded data removed]",
      "text/plain": [
       "<Figure size 432x288 with 1 Axes>"
      ]
     },
     "metadata": {
      "needs_background": "light"
     },
     "output_type": "display_data"
    }
   ],
   "source": [
    "plt.scatter(X,y);"
   ]
  },
  {
   "cell_type": "code",
   "execution_count": 18,
   "metadata": {},
   "outputs": [],
   "source": [
    "clf = LinearRegression()\n",
    "clf.fit(X, y)\n",
    "y_pred = clf.predict(y)"
   ]
  },
  {
   "cell_type": "markdown",
   "metadata": {},
   "source": [
    "### R2 (R squared)\n",
    "\n",
    "The first and most immediately useful metric to use in regression is the **R2**, also known as the **coefficient of determination**. \n",
    "\n",
    "<img src=\"images/metric_rsquared.png\" alt=\"\" style=\"width: 800px;\"/>\n",
    "\n",
    "From: [Model Fit Metrics](https://www.kaggle.com/residentmario/model-fit-metrics/)\n",
    "\n",
    "The **coefficient of determination** is a measure of how well future samples will be predicted by the model. `The best possible score is 1. A constant model which always predicts the average will recieve a score of 0.` A model which is arbitrarily worse than an averaging model will recieve a negative score (this shouldn't happen in practice obviously!).\n",
    "\n",
    "In practice, it is a \"best default\" model score: other metrics may be better to use, depending on what you are optimizing for, but the  R2  is just generally very good, and should be the first number you look at in most cases.\n",
    "\n",
    "R2 is such a popular metric that there are artificial R2 scores, designed to work in a similar way but with completely different underlying mathematics, which are defined for other non-regression operations."
   ]
  },
  {
   "cell_type": "code",
   "execution_count": 21,
   "metadata": {},
   "outputs": [
    {
     "data": {
      "text/plain": [
       "0.9846558399170495"
      ]
     },
     "execution_count": 21,
     "metadata": {},
     "output_type": "execute_result"
    }
   ],
   "source": [
    "def r2_score(y, y_pred):\n",
    "    n = len(y)\n",
    "    y_avg = (1 / n) * np.sum(y) # y bar\n",
    "    pred_error = np.sum((y - y_pred)**2)\n",
    "    avg_error = np.sum((y - y_avg)**2)\n",
    "    return 1 - pred_error / avg_error\n",
    "\n",
    "r2_score(y, y_pred)"
   ]
  },
  {
   "cell_type": "code",
   "execution_count": 22,
   "metadata": {},
   "outputs": [
    {
     "data": {
      "text/plain": [
       "0.9846558399170495"
      ]
     },
     "execution_count": 22,
     "metadata": {},
     "output_type": "execute_result"
    }
   ],
   "source": [
    "from sklearn.metrics import r2_score\n",
    "r2_score(y, y_pred)"
   ]
  },
  {
   "cell_type": "markdown",
   "metadata": {},
   "source": [
    "### Residual Sum of Squares (RSS)\n",
    "\n",
    "The **residual sum of squares** is the top term in the  R2  metric (albeit adjusted by 1 to account for degrees of freedom). It takes the distance between observed and predicted values (the **residuals**), squares them, and sums them all together. Ordinary least squares regression is designed to minimize exactly this value.\n",
    "\n",
    "<img src=\"images/metric_rss.png\" alt=\"\" style=\"width: 800px;\"/>\n",
    "\n",
    "From: [Model Fit Metrics](https://www.kaggle.com/residentmario/model-fit-metrics/)\n",
    "\n",
    "RSS is not very interpretable on its own, because it is the sum of many (potentially very large) residuals. For this reason it is rarely used as a metric, but because it is so important to regression, it's often included in statistical fit assays."
   ]
  },
  {
   "cell_type": "code",
   "execution_count": 23,
   "metadata": {},
   "outputs": [
    {
     "data": {
      "text/plain": [
       "3.147418578949139"
      ]
     },
     "execution_count": 23,
     "metadata": {},
     "output_type": "execute_result"
    }
   ],
   "source": [
    "def rss_score(y, y_pred):\n",
    "    return np.sum((y - y_pred)**2)\n",
    "\n",
    "rss_score(y, y_pred)"
   ]
  },
  {
   "cell_type": "markdown",
   "metadata": {},
   "source": [
    "### Mean Squared Error (MSE)\n",
    "\n",
    "**Mean squared error** is the interpretable version of RSS. MSE divides RSS (again adjusted be 1, to account for degrees of freedom) by the number of samples in the dataset to arrive at the average amount of squared error in the model:\n",
    "\n",
    "<img src=\"images/metric_mse.png\" alt=\"\" style=\"width: 800px;\"/>\n",
    "\n",
    "From: [Model Fit Metrics](https://www.kaggle.com/residentmario/model-fit-metrics/)\n",
    "\n",
    "This is easily interpretable, because it makes a lot of intrinsic sense. Ordinary least squares regression asks that we minimize quadratic error; MSE measures, on average, how much such error is left in the model. However, due to the squaring involved, it is not very robust against outliers."
   ]
  },
  {
   "cell_type": "code",
   "execution_count": 24,
   "metadata": {},
   "outputs": [
    {
     "data": {
      "text/plain": [
       "0.03147418578949139"
      ]
     },
     "execution_count": 24,
     "metadata": {},
     "output_type": "execute_result"
    }
   ],
   "source": [
    "def mean_squared_error(y, y_pred):\n",
    "    return (1 / len(y)) * np.sum((y - y_pred)**2)\n",
    "\n",
    "mean_squared_error(y, y_pred)"
   ]
  },
  {
   "cell_type": "code",
   "execution_count": 25,
   "metadata": {},
   "outputs": [
    {
     "data": {
      "text/plain": [
       "0.03147418578949139"
      ]
     },
     "execution_count": 25,
     "metadata": {},
     "output_type": "execute_result"
    }
   ],
   "source": [
    "from sklearn.metrics import mean_squared_error\n",
    "mean_squared_error(y, y_pred)"
   ]
  },
  {
   "cell_type": "markdown",
   "metadata": {},
   "source": [
    "### Mean Absolute Error (MAE)\n",
    "\n",
    "**Mean absolute error** computes the expected absolute error (or L1-norm loss). Because it involves means, not squared residuals, mean absolute error is more resistant to outliers than MSE is.\n",
    "\n",
    "<img src=\"images/metric_mae.png\" alt=\"\" style=\"width: 800px;\"/>\n",
    "\n",
    "From: [Model Fit Metrics](https://www.kaggle.com/residentmario/model-fit-metrics/)"
   ]
  },
  {
   "cell_type": "code",
   "execution_count": 26,
   "metadata": {},
   "outputs": [
    {
     "data": {
      "text/plain": [
       "0.15371923162949003"
      ]
     },
     "execution_count": 26,
     "metadata": {},
     "output_type": "execute_result"
    }
   ],
   "source": [
    "def mean_absolute_error(y, y_pred):\n",
    "    return (1 / len(y)) * np.sum(np.abs(y - y_pred))\n",
    "    \n",
    "mean_absolute_error(y, y_pred)"
   ]
  },
  {
   "cell_type": "code",
   "execution_count": 27,
   "metadata": {},
   "outputs": [
    {
     "data": {
      "text/plain": [
       "0.15371923162949003"
      ]
     },
     "execution_count": 27,
     "metadata": {},
     "output_type": "execute_result"
    }
   ],
   "source": [
    "from sklearn.metrics import mean_absolute_error   \n",
    "mean_absolute_error(y, y_pred)"
   ]
  },
  {
   "cell_type": "markdown",
   "metadata": {},
   "source": [
    "### Median Absolute Error / Median Absolute Deviation (MAD)\n",
    "\n",
    "**Median absolute error** is the most resistant metric to outliers that's possible using simple methods.\n",
    "\n",
    "<img src=\"images/metric_mad.png\" alt=\"\" style=\"width: 800px;\"/>\n",
    "\n",
    "From: [Model Fit Metrics](https://www.kaggle.com/residentmario/model-fit-metrics/)"
   ]
  },
  {
   "cell_type": "code",
   "execution_count": 28,
   "metadata": {},
   "outputs": [
    {
     "data": {
      "text/plain": [
       "0.15371923162949003"
      ]
     },
     "execution_count": 28,
     "metadata": {},
     "output_type": "execute_result"
    }
   ],
   "source": [
    "def median_absolute_error(y, y_pred):\n",
    "    return np.median(np.abs(y - y_pred))\n",
    "    \n",
    "mean_absolute_error(y, y_pred)"
   ]
  },
  {
   "cell_type": "code",
   "execution_count": 29,
   "metadata": {},
   "outputs": [
    {
     "data": {
      "text/plain": [
       "0.15514813323997423"
      ]
     },
     "execution_count": 29,
     "metadata": {},
     "output_type": "execute_result"
    }
   ],
   "source": [
    "from sklearn.metrics import median_absolute_error\n",
    "median_absolute_error(y, y_pred)"
   ]
  },
  {
   "cell_type": "markdown",
   "metadata": {},
   "source": [
    "### Root mean squared error (RMSE)\n",
    "\n",
    "**Root mean squared error** is an error metric that's popular in the literature. It is defined as the square root of mean squared error:\n",
    "\n",
    "<img src=\"images/metric_rmse.png\" alt=\"\" style=\"width: 800px;\"/>\n",
    "\n",
    "From: [Model Fit Metrics](https://www.kaggle.com/residentmario/model-fit-metrics/)\n",
    "\n",
    "`RMSE is directly comparable to, and serves a similar role as, the MAE, mean absolute error`.\n",
    "\n",
    "The computational effect is that RMSE is less resistant to outliers, and thus reports a poorer-fitting model when outliers are not properly accounted for. This is considered a good thing when doing cetain things, like performing hyperparameter searches. However, `MAE is a more useful reporting statistic because MAE is interpretable, while RMSE is not`."
   ]
  },
  {
   "cell_type": "code",
   "execution_count": 31,
   "metadata": {},
   "outputs": [
    {
     "data": {
      "text/plain": [
       "0.17740965528823788"
      ]
     },
     "execution_count": 31,
     "metadata": {},
     "output_type": "execute_result"
    }
   ],
   "source": [
    "def root_mean_squared_error(y, y_pred):\n",
    "    return np.sqrt((1 / len(y)) * np.sum((y - y_pred)**2))\n",
    "\n",
    "root_mean_squared_error(y, y_pred)"
   ]
  },
  {
   "cell_type": "markdown",
   "metadata": {},
   "source": [
    "### Explained variance score\n",
    "\n",
    "The **explained variance score** is a very clever (IMO) metric which looks at the ratio between the variance of the model/truth differences and the variance of the ground truth alone:\n",
    "\n",
    "<img src=\"images/metric_evs.png\" alt=\"\" style=\"width: 800px;\"/>\n",
    "\n",
    "From: [Model Fit Metrics](https://www.kaggle.com/residentmario/model-fit-metrics/)\n",
    "\n",
    "Hence the moniker \"explained variance\". `The best possible score is 1 (all variance is explained)` and the score goes down from there. "
   ]
  },
  {
   "cell_type": "code",
   "execution_count": 32,
   "metadata": {},
   "outputs": [
    {
     "data": {
      "text/plain": [
       "0.9859076890259523"
      ]
     },
     "execution_count": 32,
     "metadata": {},
     "output_type": "execute_result"
    }
   ],
   "source": [
    "def explained_variance_score(y, y_pred):\n",
    "    return 1 - (np.var(y - y_pred) / np.var(y))\n",
    "\n",
    "explained_variance_score(y, y_pred)"
   ]
  },
  {
   "cell_type": "code",
   "execution_count": 33,
   "metadata": {},
   "outputs": [
    {
     "data": {
      "text/plain": [
       "0.9859076890259523"
      ]
     },
     "execution_count": 33,
     "metadata": {},
     "output_type": "execute_result"
    }
   ],
   "source": [
    "from sklearn.metrics import explained_variance_score\n",
    "explained_variance_score(y, y_pred)"
   ]
  },
  {
   "cell_type": "code",
   "execution_count": null,
   "metadata": {},
   "outputs": [],
   "source": []
  },
  {
   "cell_type": "code",
   "execution_count": null,
   "metadata": {},
   "outputs": [],
   "source": []
  },
  {
   "cell_type": "code",
   "execution_count": null,
   "metadata": {},
   "outputs": [],
   "source": []
  },
  {
   "cell_type": "markdown",
   "metadata": {},
   "source": [
    "## Resources\n",
    "\n",
    "- [Model Fit Metrics](https://www.kaggle.com/residentmario/model-fit-metrics/)\n",
    "- [np.newaxis](https://medium.com/@ian.dzindo01/what-is-numpy-newaxis-and-when-to-use-it-8cb61c7ed6ae)"
   ]
  }
 ],
 "metadata": {
  "kernelspec": {
   "display_name": "Python 3",
   "language": "python",
   "name": "python3"
  },
  "language_info": {
   "codemirror_mode": {
    "name": "ipython",
    "version": 3
   },
   "file_extension": ".py",
   "mimetype": "text/x-python",
   "name": "python",
   "nbconvert_exporter": "python",
   "pygments_lexer": "ipython3",
   "version": "3.7.1"
  }
 },
 "nbformat": 4,
 "nbformat_minor": 2
}

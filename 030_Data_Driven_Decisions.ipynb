{
 "cells": [
  {
   "cell_type": "markdown",
   "metadata": {},
   "source": [
    "# Data-Driven Decision Making\n",
    "\n",
    "From: [Data-Driven? Think again](https://hackernoon.com/data-inspired-5c78db3999b2)"
   ]
  },
  {
   "cell_type": "markdown",
   "metadata": {},
   "source": [
    "Businesses are hiring data scientists in droves to make rigorous, scientific, unbiased, data-driven decisions. And now, the bad news: those decisions usually aren’t.\n",
    "\n",
    "`For a decision to be data-driven, it has to be the data — as opposed to something else entirely — that drive it.` Seems so straightforward, and yet it’s so rare in practice because decision-makers lack a key psychological habit."
   ]
  },
  {
   "cell_type": "markdown",
   "metadata": {},
   "source": [
    "## Data-drivenness destroyed\n",
    "\n",
    "Imagine that you are considering buying something online instead of making a pilgrimage to the other side of town to fetch it. You’ve boiled your decision down to whether or not you trust the online seller. A quick search yields some relevant data: you see that the seller has an average rating of 4.2 out of 5.\n",
    "\n",
    "Without decision-making fundamentals, **your decision will be at best inspired by data, but not driven by it**.\n",
    "Now you can’t use that 4.2 to drive your decision. Game over! Once we’ve seen the answer, we’re free to pick the most convenient question. `If the first thing we do is poke around in our data, our decision will be, at best, something I like to call data-inspired.`\n",
    "\n",
    "## Data-inspired\n",
    "\n",
    "That’s where we, like whales encountering plankton, swim around in some numbers, and then reach an emotional tipping point and... decide. There are numbers near our decision somewhere, but those numbers don’t drive it. The decision comes from somewhere else entirely.\n",
    "\n",
    "The decision-maker’s mind was made up before the data, so the decision was there all along. Turns out humans interact with data selectively to confirm choices we’ve already made in our heart of hearts. We find the most convenient light in which to see evidence, and we don’t always know we’re doing it. Psychologists have a lovely name for this: [**confirmation bias**](https://pdfs.semanticscholar.org/70c9/3e5e38a8176590f69c0491fd63ab2a9e67c4.pdf).\n",
    "\n",
    "`Many people only use data to feel better about decisions they’ve already made.`\n",
    "\n",
    "## Fitting the question to the answer\n",
    "\n",
    "Is 4.2/5 a good number? Depends on your unconscious biases. A decision-maker who really wants to make the online purchase will squint at that 4.2 and sing a happy song about how that’s a high number. “It’s more than 4.0!” They can even show a rigorous analysis about how it is statistically significantly higher than 4.0. (With certainty! It’s the p-value you’ve always wanted.) In the meantime, someone who really doesn’t want to use that seller will find another way to frame the question in response to the data: “Why would I settle for a seller with less than 4.5 stars?” Or perhaps “But look at those 1-star reviews. I don’t like how many there are.” Sound familiar?\n",
    "\n",
    "Mathematical complexity doesn’t provide the antidote, it merely makes it harder to see the problem. As a result, what’s obvious in the trivial example we just saw becomes hidden in a jumble of gorgeous Gaussians. Don’t assume your friendly neighborhood data scientist sees it either. The more ways there are to slice the data, the more your analysis is a breeding ground for confirmation bias.\n",
    "\n",
    "`The result? Decision-makers end up using data to feel better about doing what they were going to do anyway.`\n",
    "\n",
    "<img src=\"images/confirmation_bias.png\" alt=\"Confirmation bias\" style=\"width: 800px;\"/>\n",
    "\n",
    "From: [Data-Driven? Think again](https://hackernoon.com/data-inspired-5c78db3999b2)"
   ]
  },
  {
   "cell_type": "markdown",
   "metadata": {},
   "source": []
  },
  {
   "cell_type": "markdown",
   "metadata": {},
   "source": []
  },
  {
   "cell_type": "markdown",
   "metadata": {},
   "source": []
  }
 ],
 "metadata": {
  "kernelspec": {
   "display_name": "Python 3",
   "language": "python",
   "name": "python3"
  },
  "language_info": {
   "codemirror_mode": {
    "name": "ipython",
    "version": 3
   },
   "file_extension": ".py",
   "mimetype": "text/x-python",
   "name": "python",
   "nbconvert_exporter": "python",
   "pygments_lexer": "ipython3",
   "version": "3.7.1"
  }
 },
 "nbformat": 4,
 "nbformat_minor": 2
}

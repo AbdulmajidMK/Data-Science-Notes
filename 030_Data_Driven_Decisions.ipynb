{
 "cells": [
  {
   "cell_type": "markdown",
   "metadata": {},
   "source": [
    "# Data-Driven Decision Making\n",
    "\n",
    "From: [Data-Driven? Think again](https://hackernoon.com/data-inspired-5c78db3999b2)"
   ]
  },
  {
   "cell_type": "markdown",
   "metadata": {},
   "source": [
    "Businesses are hiring data scientists in droves to make rigorous, scientific, unbiased, data-driven decisions. And now, the bad news: those decisions usually aren’t.\n",
    "\n",
    "`For a decision to be data-driven, it has to be the data — as opposed to something else entirely — that drive it.` Seems so straightforward, and yet it’s so rare in practice because decision-makers lack a key psychological habit."
   ]
  },
  {
   "cell_type": "markdown",
   "metadata": {},
   "source": [
    "## Data-drivenness destroyed\n",
    "\n",
    "Imagine that you are considering buying something online instead of making a pilgrimage to the other side of town to fetch it. You’ve boiled your decision down to whether or not you trust the online seller. A quick search yields some relevant data: you see that the seller has an average rating of 4.2 out of 5.\n",
    "\n",
    "Without decision-making fundamentals, **your decision will be at best inspired by data, but not driven by it**.\n",
    "Now you can’t use that 4.2 to drive your decision. Game over! Once we’ve seen the answer, we’re free to pick the most convenient question. `If the first thing we do is poke around in our data, our decision will be, at best, something I like to call data-inspired.`\n",
    "\n",
    "When decision-makers lack fundamental skills, there’s no math in the world that can fix it. Your data science team will not contribute to data-driven decision-making. If your organization suffers from this kind of decision-maker, then I suggest sticking to the most lightweight and simple analyses to save time and money. Until the decision-makers are better trained, your showy mathematical jiu jitsu is producing nothing but dissipated heat.\n",
    "\n",
    "## Data-inspired\n",
    "\n",
    "That’s where we, like whales encountering plankton, swim around in some numbers, and then reach an emotional tipping point and... decide. There are numbers near our decision somewhere, but those numbers don’t drive it. The decision comes from somewhere else entirely.\n",
    "\n",
    "The decision-maker’s mind was made up before the data, so the decision was there all along. Turns out humans interact with data selectively to confirm choices we’ve already made in our heart of hearts. We find the most convenient light in which to see evidence, and we don’t always know we’re doing it. Psychologists have a lovely name for this: [**confirmation bias**](https://pdfs.semanticscholar.org/70c9/3e5e38a8176590f69c0491fd63ab2a9e67c4.pdf).\n",
    "\n",
    "`Many people only use data to feel better about decisions they’ve already made.`\n",
    "\n",
    "## Fitting the question to the answer\n",
    "\n",
    "Is 4.2/5 a good number? Depends on your unconscious biases. A decision-maker who really wants to make the online purchase will squint at that 4.2 and sing a happy song about how that’s a high number. “It’s more than 4.0!” They can even show a rigorous analysis about how it is statistically significantly higher than 4.0. (With certainty! It’s the p-value you’ve always wanted.) In the meantime, someone who really doesn’t want to use that seller will find another way to frame the question in response to the data: “Why would I settle for a seller with less than 4.5 stars?” Or perhaps “But look at those 1-star reviews. I don’t like how many there are.” Sound familiar?\n",
    "\n",
    "Mathematical complexity doesn’t provide the antidote, it merely makes it harder to see the problem. As a result, what’s obvious in the trivial example we just saw becomes hidden in a jumble of gorgeous Gaussians. Don’t assume your friendly neighborhood data scientist sees it either. The more ways there are to slice the data, the more your analysis is a breeding ground for confirmation bias.\n",
    "\n",
    "`The result? Decision-makers end up using data to feel better about doing what they were going to do anyway.`\n",
    "\n",
    "<img src=\"images/confirmation_bias.png\" alt=\"Confirmation bias\" style=\"width: 800px;\"/>\n",
    "\n",
    "From: [Data-Driven? Think again](https://hackernoon.com/data-inspired-5c78db3999b2)"
   ]
  },
  {
   "cell_type": "markdown",
   "metadata": {},
   "source": [
    "## Antidote to confirmation bias\n",
    "\n",
    "Problem: you’re free to move the goalposts after you find out where the data landed. (Of course you score a goal every time. You’re just that good.)\n",
    "\n",
    "Solution: set the goalposts in advance and resist temptation to move them later.\n",
    "\n",
    "In other words, the decision-maker has some homework to do before anyone analyzes the data.\n",
    "\n",
    "Until decision-makers are better trained, showy mathematical jiu jitsu only produces dissipated heat.\n",
    "Framing the decision and setting decision criteria is a science of its own (we’ll dive into it in future posts, as the problem we examine here is just the tip of the iceberg), but in the meantime a quick fix that goes a long way is to come up with your decision boundary up front in your data science project.\n",
    "\n",
    "## Practice makes perfect\n",
    "\n",
    "I recently went clothes shopping in Brooklyn with my friend Emma. Showing off a pretty dress, she tugs at the pricetag on the back. “Hey, what does this say?” she asks me. “If it’s less than 80 bucks, I’ll buy it.”\n",
    "\n",
    "Now that’s some decision intelligence! Instead of first seeing the price and then talking herself into a decision she’s already made, she uses the data to drive it. With a well-practiced reflex, she weighs how much she likes the dress and her budget, then sets the decision boundary, and only allows herself to see the data (price) once that’s done. She’s in the habit of using data in the right order and that’s a muscle you can exercise too.\n",
    "\n",
    "People don’t always need to be data-driven and Emma knows that. She doesn’t have to make unimportant decisions that way, but she also knows that practice makes perfect. It’s much easier to build the habit on trivial decisions than to struggle when the important ones come around.\n",
    "\n",
    "## Lessons from negotiation class\n",
    "\n",
    "This idea is not new. Many different courses teach it, though one that’s almost guaranteed to cover it on day 1 is negotiation. If you haven’t put a value on your BATNA (~ a walk-away point) before entering a negotiation, you may as well paint “no idea what I’m doing” on your forehead. It’s the same thing by a different name: figuring out your decision boundary between your default action and the alternative.\n",
    "\n",
    "## The antidote is setting your decision criteria in advance.\n",
    "\n",
    "In fact, standard advice for negotiators is to think through the entire range of potential offer combinations and plan your reactions to them in advance, otherwise it’s very easy for an experienced opponent to take advantage of you. Even without all the persuasion tactics at your counterpart’s disposal, irrelevant short-term factors like your blood sugar levels, your mood, how much the other party is smiling, and whether the sun is shining can have a disproportionate effect on the deal. Again, the same goes for data analysis — think of the data as negotiating with you to change your mind. The antidote there is planning your response in advance. Next time you’re negotiating a salary, for example, make sure you’ve thought about your number before you hear theirs.\n",
    "\n",
    "## It’s easy when you get the hang of it\n",
    "\n",
    "Whether you think about what a number means to you before or after you see it, you still have to think about it. Doing it beforehand helps you counter some of the bugs in your human programming, with large payoffs in decision quality and negotiation performance. Improving the order of operations here is a valuable habit to cultivate and crucial if you’d like to be involved in data-driven decision-making. And here’s some bonus good news: with practice it’ll feel automatic."
   ]
  },
  {
   "cell_type": "markdown",
   "metadata": {},
   "source": []
  },
  {
   "cell_type": "markdown",
   "metadata": {},
   "source": []
  }
 ],
 "metadata": {
  "kernelspec": {
   "display_name": "Python 3",
   "language": "python",
   "name": "python3"
  },
  "language_info": {
   "codemirror_mode": {
    "name": "ipython",
    "version": 3
   },
   "file_extension": ".py",
   "mimetype": "text/x-python",
   "name": "python",
   "nbconvert_exporter": "python",
   "pygments_lexer": "ipython3",
   "version": "3.7.1"
  }
 },
 "nbformat": 4,
 "nbformat_minor": 2
}

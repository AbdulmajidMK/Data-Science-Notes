{
 "cells": [
  {
   "cell_type": "markdown",
   "metadata": {},
   "source": [
    "# SQL"
   ]
  },
  {
   "cell_type": "markdown",
   "metadata": {},
   "source": [
    "## Beginning your SQL journey\n",
    "\n",
    "**SQL**, which stands for **Structured Query Language**, is a language for interacting with data stored in something called a **relational database**.\n",
    "\n",
    "You can think of a **relational database** as a collection of tables. A **table** is just a set of rows and columns, like a spreadsheet, which represents exactly one type of entity. For example, a table might represent employees in a company or purchases made, but not both.\n",
    "\n",
    "Each row, or record, of a table contains information about a **single entity**. For example, in a table representing employees, each row represents a single person. Each **column**, or **field,** of a table contains a single attribute for all rows in the table. For example, in a table representing employees, we might have a column containing first and last names for all employees."
   ]
  },
  {
   "cell_type": "markdown",
   "metadata": {},
   "source": [
    "## SELECTing single columns\n",
    "\n",
    "While SQL can be used to create and modify databases, the focus of this course will be querying databases. A query is a request for data from a database table (or combination of tables). Querying is an essential skill for a data scientist, since the data you need for your analyses will often live in databases.\n",
    "\n",
    "In SQL, you can select data from a table using a `SELECT` statement. For example, the following query selects the name column from the people table:"
   ]
  },
  {
   "cell_type": "raw",
   "metadata": {},
   "source": [
    "SELECT name\n",
    "FROM people;"
   ]
  },
  {
   "cell_type": "markdown",
   "metadata": {},
   "source": [
    "In this query, `SELECT` and `FROM` are called **keywords**. In SQL, keywords are not case-sensitive, which means you can write the same query as:"
   ]
  },
  {
   "cell_type": "raw",
   "metadata": {},
   "source": [
    "select name\n",
    "from people;"
   ]
  },
  {
   "cell_type": "markdown",
   "metadata": {},
   "source": [
    "That said, it's good practice to `make SQL keywords uppercase` to distinguish them from other parts of your query, like column and table names.\n",
    "\n",
    "It's also good practice (but not necessary for the exercises in this course) to include a `semicolon` at the end of your query. This tells SQL where the end of your query is!"
   ]
  },
  {
   "cell_type": "markdown",
   "metadata": {},
   "source": [
    "## SELECTing multiple columns\n",
    "\n",
    "To select multiple columns from a table, simply separate the column names with commas!\n",
    "\n",
    "For example, this query selects two columns, `name` and `birthdate`, from the `people` table:"
   ]
  },
  {
   "cell_type": "raw",
   "metadata": {},
   "source": [
    "SELECT name, birthdate\n",
    "FROM people;"
   ]
  },
  {
   "cell_type": "markdown",
   "metadata": {},
   "source": [
    "Sometimes, you may want to select all columns from a table. Typing out every column name would be a pain, so there's a handy shortcut:"
   ]
  },
  {
   "cell_type": "raw",
   "metadata": {},
   "source": [
    "SELECT *\n",
    "FROM people;"
   ]
  },
  {
   "cell_type": "markdown",
   "metadata": {},
   "source": [
    "If you only want to return a certain number of results, you can use the `LIMIT` keyword to limit the number of rows returned:"
   ]
  },
  {
   "cell_type": "raw",
   "metadata": {},
   "source": [
    "SELECT *\n",
    "FROM people\n",
    "LIMIT 10;"
   ]
  },
  {
   "cell_type": "markdown",
   "metadata": {},
   "source": [
    "## SELECT DISTINCT\n",
    "\n",
    "Often your results will include many duplicate values. If you want to select all the unique values from a column, you can use the `DISTINCT` keyword.\n",
    "\n",
    "This might be useful if, for example, you're interested in knowing which languages are represented in the films table:"
   ]
  },
  {
   "cell_type": "raw",
   "metadata": {},
   "source": [
    "SELECT DISTINCT language\n",
    "FROM films;"
   ]
  },
  {
   "cell_type": "markdown",
   "metadata": {},
   "source": [
    "## "
   ]
  },
  {
   "cell_type": "code",
   "execution_count": null,
   "metadata": {},
   "outputs": [],
   "source": []
  },
  {
   "cell_type": "code",
   "execution_count": null,
   "metadata": {},
   "outputs": [],
   "source": []
  }
 ],
 "metadata": {
  "kernelspec": {
   "display_name": "Python 3",
   "language": "python",
   "name": "python3"
  },
  "language_info": {
   "codemirror_mode": {
    "name": "ipython",
    "version": 3
   },
   "file_extension": ".py",
   "mimetype": "text/x-python",
   "name": "python",
   "nbconvert_exporter": "python",
   "pygments_lexer": "ipython3",
   "version": "3.7.1"
  }
 },
 "nbformat": 4,
 "nbformat_minor": 2
}

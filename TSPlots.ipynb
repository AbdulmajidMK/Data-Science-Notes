{
 "cells": [
  {
   "cell_type": "markdown",
   "metadata": {},
   "source": [
    "# Time Series"
   ]
  },
  {
   "cell_type": "markdown",
   "metadata": {},
   "source": [
    "## Plotly Basics\n",
    "\n",
    "- **[Plotly examples](https://plot.ly/python/)**\n",
    "- **[Python Figure Reference](https://plot.ly/python/reference/)**\n",
    "- **[Plotly Time Series](https://plot.ly/python/time-series/)**"
   ]
  },
  {
   "cell_type": "code",
   "execution_count": null,
   "metadata": {},
   "outputs": [],
   "source": [
    "import plotly.graph_objs as go"
   ]
  },
  {
   "cell_type": "code",
   "execution_count": null,
   "metadata": {},
   "outputs": [],
   "source": [
    "data = [go.Scatter(x=random_x, y=random_y, mode='markers')]\n",
    "layout = go.Layout(title='Scatter Plot',\n",
    "                  xaxis={'title':'X-Axis'},\n",
    "                  yaxis=dict(title='Y-Axis'),\n",
    "                  hovermode='closest')\n",
    "fig = go.Figure(data=data, layout=layout)\n",
    "pyo.plot(fig, filename='dash/var/scatter2test.html')"
   ]
  },
  {
   "cell_type": "code",
   "execution_count": null,
   "metadata": {},
   "outputs": [],
   "source": [
    "fig"
   ]
  },
  {
   "cell_type": "code",
   "execution_count": null,
   "metadata": {},
   "outputs": [],
   "source": [
    "np.random.seed(56)\n",
    "# from 0-1 give me 100 evenly spaced values\n",
    "x_values = np.linspace(0,1,100)\n",
    "# from normal distribution give me 100 random values\n",
    "y_values = np.random.randn(100)"
   ]
  },
  {
   "cell_type": "code",
   "execution_count": null,
   "metadata": {},
   "outputs": [],
   "source": [
    "trace0 = go.Scatter(x=x_values, \n",
    "                   y=y_values+5, \n",
    "                   mode='markers',\n",
    "                   name='markers')\n",
    "trace1 = go.Scatter(x=x_values, \n",
    "                   y=y_values, \n",
    "                   mode='lines',\n",
    "                   name='line')\n",
    "trace2 = go.Scatter(x=x_values, \n",
    "                   y=y_values-5, \n",
    "                   mode='lines+markers',\n",
    "                   name='line with markers')\n",
    "data = [trace0, trace1, trace2]\n",
    "layout = go.Layout(title=\"Line Charts\")\n",
    "fig = go.Figure(data=data, layout=layout)\n",
    "pyo.plot(fig, filename='dash/var/line3.html')"
   ]
  },
  {
   "cell_type": "code",
   "execution_count": null,
   "metadata": {},
   "outputs": [],
   "source": []
  },
  {
   "cell_type": "code",
   "execution_count": null,
   "metadata": {},
   "outputs": [],
   "source": []
  },
  {
   "cell_type": "code",
   "execution_count": null,
   "metadata": {},
   "outputs": [],
   "source": []
  }
 ],
 "metadata": {
  "kernelspec": {
   "display_name": "Python 3",
   "language": "python",
   "name": "python3"
  },
  "language_info": {
   "codemirror_mode": {
    "name": "ipython",
    "version": 3
   },
   "file_extension": ".py",
   "mimetype": "text/x-python",
   "name": "python",
   "nbconvert_exporter": "python",
   "pygments_lexer": "ipython3",
   "version": "3.7.1"
  }
 },
 "nbformat": 4,
 "nbformat_minor": 4
}

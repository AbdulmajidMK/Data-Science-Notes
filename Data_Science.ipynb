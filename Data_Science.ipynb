{
 "cells": [
  {
   "cell_type": "markdown",
   "metadata": {},
   "source": [
    "# Data Science "
   ]
  },
  {
   "cell_type": "markdown",
   "metadata": {},
   "source": [
    "Data science is the discipline of making data useful. (from https://hackernoon.com/what-on-earth-is-data-science-eb1237d8cb37)\n",
    "\n",
    "Data science is a ‘concept to unify statistics, data analysis, machine learning and their related methods’ in order to ‘understand and analyze actual phenomena’ with data.\n",
    "\n",
    "<img src=\"images/data_science.png\" alt=\"Analytics, Data Science, Machine Learning\" style=\"width: 800px;\"/>\n",
    "\n",
    "From: [What on earth is data science?](https://hackernoon.com/what-on-earth-is-data-science-eb1237d8cb37)\n",
    "\n",
    "- [A Very Short History Of Data Science](https://www.forbes.com/sites/gilpress/2013/05/28/a-very-short-history-of-data-science/#61ca3b1555cf)"
   ]
  },
  {
   "cell_type": "markdown",
   "metadata": {},
   "source": [
    "## Data-mining / Analytics\n",
    "If you don’t know what decisions you want to make yet, the best you can do is go out there in search of inspiration. That’s called data-mining or analytics or descriptive analytics or exploratory data analysis (EDA) or knowledge discovery (KD), depending on which crowd you hung out with during your impressionable years.\n",
    "\n",
    "Golden rule of analytics: only make conclusions about what you can see.\n",
    "\n",
    "Unless you know how you intend to frame your decision-making, start here. The great news is that this one is easy. Think of your dataset as a bunch of negatives you found in a darkroom. Data-mining is about working the equipment to expose all the images as quickly as possible so you can see whether there’s anything inspiring on them. As with photos, remember not to take what you see too seriously. You didn’t take the photos, so you don’t know much about what’s off-screen. The golden rule of data-mining is: stick to what is here. Only make conclusions about what you can see, never about what you can’t see (for that you need statistics and lot more expertise).\n",
    "\n",
    "The darkroom’s intimidating at first, but there’s not that much to it. Just learn to work the equipment. Here’s a tutorial in R and here’s one in Python to get you started. You can call yourself a data analyst as soon as you start having fun and you can call yourself an expert analyst when you’re able to expose photos (and all the other kinds of datasets) with lightning speed.\n",
    "\n",
    "<img src=\"images/data_science2.png\" alt=\"Analytics, Data Science, Machine Learning\" style=\"width: 800px;\"/>\n",
    "\n",
    "From: [What on earth is data science?](https://hackernoon.com/what-on-earth-is-data-science-eb1237d8cb37)"
   ]
  },
  {
   "cell_type": "markdown",
   "metadata": {},
   "source": [
    "## Statistical inference\n",
    "Inspiration is cheap, but rigor is expensive. If you want to leap beyond the data, you’re going to need specialist training. As someone with undergrad and graduate majors in statistics, I may be just a tad biased here, but in my opinion statistical inference (statistics for short) is the most difficult and philosophy-laden of the three areas. Getting good at it takes the most time.\n",
    "\n",
    "If you intend to make high-quality, risk-controlled, important decisions that rely on conclusions about the world beyond the data available to you, you’re going to have to bring statistical skills onto your team. A great example is that moment when your finger is hovering over the launch button for an AI system and it occurs to you that you need to check it works before releasing it (always a good idea, seriously). Step away from the button and call in the statistician.\n",
    "\n",
    "**(Inferential) Statistics** is the science of changing your mind (under uncertainty)."
   ]
  },
  {
   "cell_type": "markdown",
   "metadata": {},
   "source": [
    "## Machine learning\n",
    "Machine learning is essentially making thing-labeling recipes using examples instead of instructions.\n",
    "\n",
    "Machine learning is a thing-labeler, essentially.\n",
    "\n",
    "Contrary to popular belief, machine learning is not a magical box of magic, nor is it the reason for $30bn in VC funding. At its core, machine learning is just a thing-labeler, taking your description of something and telling you what label it should get.\n",
    "\n",
    "You just took in some pretty complex data through your senses and, as if by magic, you labeled it ‘cat.’ That was so easy for you! How about if we wanted a computer to do the same task, to classify (label) photos as cat/not-cat?\n",
    "\n",
    "Machine learning is a new programming paradigm, a new way of communicating your wishes to a computer.\n",
    "\n",
    "In the traditional programming approach, a programmer would think hard about the pixels and the labels, communicate with the universe, channel inspiration, and finally handcraft a model. A model’s just a fancy word for recipe, or a set of instructions your computer has to follow to turn pixels into labels.\n",
    "\n",
    "A **model** is a recipe that a computer uses to turn data into labels. It’s just some code that the machine uses to convert inputs into outputs, and could be handcrafted by a programmer or learned from data by an algorithm.\n",
    "\n",
    "But think about what those instructions would be. What are you actually doing with these pixels? Can you express it? Your brain had the benefit of eons of evolution and now it just works, you don’t even know how does it. That recipe is pretty hard to come up with.\n",
    "\n",
    "Explain with examples, not instructions.\n",
    "\n",
    "Wouldn’t it be better if you could just say to the computer, “Here, look at a bunch of examples of cats, look at a bunch of examples of not-cats, and just figure it out yourself”? That is the essence of machine learning. It is a completely different programming paradigm. Now, instead of giving explicit instructions, you program with examples and the machine learning algorithm finds patterns in your data and turns them into those instructions you couldn’t write yourself. No more handcrafting of recipes!\n",
    "\n",
    "AI allows you to automate the ineffable.\n",
    "\n",
    "Why is that exciting? This is about expressing our wishes to computers in a way we couldn’t before. We love to get computers to do stuff for us. But how can we possibly give instructions if the instructions are really hard to think up? If they’re ineffable?\n",
    "\n",
    "AI and machine learning are about automating the ineffable. They’re about explaining yourself using examples instead of instructions. This unlocks a huge class of tasks that we couldn’t get computers to help us with in the past because we couldn’t express the instructions. Now all of these tasks become possible — machine learning represents a fundamental leap in human progress. It is the future and the future is here!\n",
    "\n",
    "Machine learning uses patterns in data to label things.\n",
    "\n",
    "Traditionally in ML, we like sticks more than carrots — the points are penalties for mistakes (getting a label on the wrong side of the fence) and the game is to get as few of these bad points as possible. That’s why the objective function in ML tends to be called a **“loss function”** and the goal is to minimize loss.\n",
    "\n",
    "The loss function is like the rule for scoring a board game, optimizing it is figuring out how to play so you get the best score possible.\n",
    "\n",
    "### The spice of life\n",
    "If you like variety, you’ll love algorithms. There are plenty of them. One way they differ from one another is in how they try on different positions for the separating boundary.\n",
    "\n",
    "If you like variety, you’ll love algorithms. There are so many!\n",
    "Optimization nerds will tell you that rotating the fence in tiny increments is certifiably lame (sorry for tricking you into it!) and there are much better ways to get to the optimal position faster. Some researchers devote their whole lives to coming up with ways to get the best fence position in fewest hops, no matter how perverse the terrain (determined by your inputs) becomes.\n",
    "\n",
    "Another source of variety is the shape of the boundary. Turns out the fence needn’t be straight. Different algorithms use different kinds of fences.\n",
    "\n",
    "<img src=\"images/machine_learning_algorithms.png\" alt=\"Analytics, Data Science, Machine Learning\" style=\"width: 800px;\"/>\n",
    "\n",
    "From: [Machine learning — Is the emperor wearing clothes?](https://hackernoon.com/machine-learning-is-the-emperor-wearing-clothes-59933d12a3cc)\n",
    "\n",
    "When we pick these gobbledygook names, we are simply picking the shape of the boundary that we are drawing between the labels. Do we want to separate them with one diagonal line or many horizontal/vertical lines or flexible squigglers… or something else? There are lots and lots of algorithms to pick from.\n",
    "\n",
    "### Algorithms for hipsters\n",
    "These days, no data science hipster is into the humble straight line. Flexible, squiggly shapes are all the rage among today’s fashionable crowd (you may know these as neural networks, though there isn’t much that’s neural about them — they were named rather aspirationally more than half a century ago and no one seems to like my suggestion that we rename them to “yoga networks” or “many-layers-of-mathematical-operations”).\n",
    "\n",
    "Those gobbledygook algorithm names tell you what shape of fence they’re going try to put in your data. If you’re an applied machine learning enthusiast, it’s okay if you don’t memorize them — in practice you’ll just shove your data through as many algorithms as you can and iterate on what seems promising. The proof of the pudding’s always in the eating… so let’s eat.\n",
    "\n",
    "Even if you study the textbook, you won’t get the solution right on your first try. Don’t sweat it. This isn’t a game with one right answer and no one gets their solution on the first try. Give yourself permission to tinker, dabble, and play. The proof of machine learning pudding’s in the eating — does it work on new data? Leave the “how does it work” for researchers who design new algorithms. (And you’ll probably end up getting familiar with those names the same way you learned the characters of whichever bad soap opera haunts your town’s TV screens. Against your will. Give it time.)\n",
    "\n",
    "### Model\n",
    "Once the fence in place, the algorithm is finished and what you get out of it is what you wanted along: a model, which is just a fancy word for recipe. It’s now some instructions for the computer to use to convert data into a decision next time I show it a new bottle of wine. If the data lands in the blue bit, call it blue. In the red bit? Call it red.\n",
    "\n",
    "<img src=\"images/machine_learning_model.png\" alt=\"Analytics, Data Science, Machine Learning\" style=\"width: 800px;\"/>\n",
    "\n",
    "From: [Machine learning — Is the emperor wearing clothes?](https://hackernoon.com/machine-learning-is-the-emperor-wearing-clothes-59933d12a3cc)\n",
    "\n",
    "### Label\n",
    "Once you put your freshly-minted model into production, you use it by feeding the computer an age and review score. Your system looks up which region that corresponds to and it outputs a label.\n",
    "\n",
    "How do we know if it works? The same way we know if a bunch of monkeys on typewriters wrote some Shakespeare. By checking the output!\n",
    "\n",
    "The proof of the pudding is in the eating.\n",
    "Test your system by running a bunch of new data through it and make sure it performs well on it. In fact, do that anyway, regardless of whether an algorithm or a programmer came up with that recipe for you.\n",
    "\n",
    "### ML models vs traditional code\n",
    "I’d like to point out that the recipe isn’t all that different from code that a programmer might have written by eyeballing the problem and manually making up some rules. Quit anthropomorphizing machine learning already. A model is conceptually the same kind of thing as regular code. You know, the kind of recipe that’s handcrafted by some human armed with an opinion and a caffeine source.\n",
    "\n",
    "Quit anthropomorphizing machine learning already.\n",
    "\n",
    "And don’t go around saying that retraining — jargon for rerunning the algorithm to adjust the boundary as new examples are gathered — makes it creature-like or inherently different from your programmer’s standard work product. Humans can sit there tweaking the code in response to new info too. If you’re worried that your machine learning system now does the update much faster, invest in good testing or avail yourself of a long time.sleep().\n",
    "\n",
    "### Is this all there is to it?\n",
    "Yeah, pretty much. The hard part of ML engineering is installing packages and then wrangling your hairy beast of a dataset so a finicky algorithm deigns to run on it. This is followed by an eternity of fiddling with the code settings (don’t let the noble name “hyperparameter tuning” fool you) until voila! A model! One that turns out not to work when you evaluate its performance on new data… and you’re back to the drawing board, over and over, until finally the heavens open up and your solution stops embarrassing itself. That’s why it’s so important to hire failure-tolerant personalities for this endeavor.\n",
    "\n",
    "Don’t hate it for being simple. Levers are simple too, but they can move the world.\n",
    "\n",
    "If you were expecting magic, well, the sooner you’re disappointed, the better. The death of superstitious excitement for sci-fi makes way for rebirth: excitement for getting cool things done. Machine learning may be prosaic, but what you can do with it is incredible! It lets helps you write the code you couldn’t come up with yourself, allowing you to automate the ineffable. Don’t hate it for being simple. Levers are simple too, but they can move the world."
   ]
  },
  {
   "cell_type": "markdown",
   "metadata": {},
   "source": [
    "## Data engineering\n",
    "What about data engineering, the work that delivers data to the data science team in the first place? Since it’s a sophisticated field in its own right, I prefer to shield it from data science’s hegemonic aspirations. Besides, it’s much closer in species to software engineering than to statistics.\n",
    "\n",
    "The difference between data engineering and data science is a difference of before and after.\n",
    "\n",
    "Feel free to see the data engineering versus data science difference as before versus after. Most of the technical work leading up to the birthing of the data (before) may comfortably be called “data engineering” and everything we do once some data have arrived (after) is “data science”."
   ]
  },
  {
   "cell_type": "markdown",
   "metadata": {},
   "source": [
    "## Decision intelligence\n",
    "DI is all about decisions, including decision-making at scale with data, which makes it an engineering discipline. It augments the applied aspects of data science with ideas from the social and managerial sciences.\n",
    "\n",
    "Decision intelligence adds components from the social and managerial sciences.\n",
    "\n",
    "In other words, it’s a superset of those bits of data science not concerned with researchy things like creating fundamental methodologies for general-purpose use."
   ]
  },
  {
   "cell_type": "markdown",
   "metadata": {},
   "source": [
    "## Process\n",
    "\n",
    "- Problem, hypothesis, goal, question definition\n",
    "- Data wrangling\n",
    "    - gathering, collecting\n",
    "    - understanding\n",
    "    - quality and structure tidyness (mess) assessment\n",
    "        - missing values\n",
    "        - invalid values\n",
    "        - inaccurate values\n",
    "        - inconsistent values\n",
    "    - cleaning\n",
    "    - re-assess and iterate\n",
    "- Data preprocessing\n",
    "- Data storing\n",
    "- EDA\n",
    "- Modeling"
   ]
  },
  {
   "cell_type": "markdown",
   "metadata": {},
   "source": [
    "- Data exploration analysis (EDA) and CLeaning (ensure better information understanding, availability and accuracy)\n",
    "    - Variables Identification\n",
    "        - Naming convention consistency application\n",
    "        - (classification) ballanced/imbalance dataset handling\n",
    "    - Univariate Analysis\n",
    "    - Bi-variate Analysis\n",
    "    - Missing Values Handling\n",
    "    - Outliers\n",
    "- Data preprocessing, feature engineering (make data ready for ML, have a remarkable impact on the power of prediction)\n",
    "    - Variables transformation\n",
    "        - normalization\n",
    "        - standardization\n",
    "    - Variable creation\n",
    "        - character encoding\n",
    "    - Working with dates\n",
    "    - Inconsistent data entry\n",
    "- Re-assessment and iteration"
   ]
  },
  {
   "cell_type": "code",
   "execution_count": null,
   "metadata": {},
   "outputs": [],
   "source": [
    "# "
   ]
  },
  {
   "cell_type": "markdown",
   "metadata": {},
   "source": [
    "## Big Data and Data Science Industries\n",
    "\n",
    "- Agriculture (Precision Farming), [Big Data in Smart Farming](https://www.sciencedirect.com/science/article/pii/S0308521X16303754)\n",
    "- [Manufacturing](https://www.mckinsey.com/business-functions/operations/our-insights/how-big-data-can-improve-manufacturing), [Modeling Smart Farm](https://pdf.sciencedirectassets.com/287278/1-s2.0-S2214317317X00048/1-s2.0-S2214317316301287/main.pdf)\n",
    "- [Construction](https://www.bostonglobe.com/business/2018/11/23/she-building-better-construction-process/tkR6qB9Ngp6ELpqw0AVfHO/story.html)\n",
    "- [Smart Cities](https://datafloq.com/read/how-barcelona-deploys-big-data-to-improve-lives-an/297)\n",
    "\n",
    "## Advantages of using big data and statistics:\n",
    "\n",
    "- finding hidden opportunities for efficiency,\n",
    "- using data to become more responsive to clients,\n",
    "- developing entirely new and unanticipated product lines.\n",
    "\n",
    "## Three Types of Analytics\n",
    "\n",
    "- **Descriptive analytics** tell you what happened.\n",
    "- **Predictive analytics** tell you what is likely to happen in the future.\n",
    "- **Prescriptive analytics** are build on top of predictive analytics to make recommendations."
   ]
  },
  {
   "cell_type": "code",
   "execution_count": null,
   "metadata": {},
   "outputs": [],
   "source": []
  },
  {
   "cell_type": "markdown",
   "metadata": {},
   "source": []
  },
  {
   "cell_type": "markdown",
   "metadata": {},
   "source": []
  },
  {
   "cell_type": "code",
   "execution_count": null,
   "metadata": {},
   "outputs": [],
   "source": []
  },
  {
   "cell_type": "code",
   "execution_count": null,
   "metadata": {},
   "outputs": [],
   "source": []
  }
 ],
 "metadata": {
  "kernelspec": {
   "display_name": "Python 3",
   "language": "python",
   "name": "python3"
  },
  "language_info": {
   "codemirror_mode": {
    "name": "ipython",
    "version": 3
   },
   "file_extension": ".py",
   "mimetype": "text/x-python",
   "name": "python",
   "nbconvert_exporter": "python",
   "pygments_lexer": "ipython3",
   "version": "3.7.1"
  }
 },
 "nbformat": 4,
 "nbformat_minor": 2
}

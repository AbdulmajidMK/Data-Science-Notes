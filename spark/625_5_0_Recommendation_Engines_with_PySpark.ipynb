{
 "cells": [
  {
   "cell_type": "raw",
   "metadata": {},
   "source": [
    "From: https://github.com/ksatola\n",
    "Version: 1.0.0"
   ]
  },
  {
   "cell_type": "markdown",
   "metadata": {},
   "source": [
    "# Building Recommendation Engines with PySpark\n",
    "\n",
    "This course will show you how to build recommendation engines using `Alternating Least Squares` in PySpark. Using the popular MovieLens dataset and the Million Songs dataset, this course will take you step by step through the intuition of the Alternating Least Squares algorithm as well as the code to train, test and implement ALS models on various types of customer data."
   ]
  },
  {
   "cell_type": "markdown",
   "metadata": {},
   "source": [
    "## Table of Contents\n",
    "\n",
    "- [Introduction](#intro)\n",
    "- "
   ]
  },
  {
   "cell_type": "code",
   "execution_count": null,
   "metadata": {},
   "outputs": [],
   "source": [
    "import pandas as pd\n",
    "import numpy as np\n",
    "import matplotlib.pyplot as plt\n",
    "%matplotlib inline\n",
    "\n",
    "import seaborn as sns\n",
    "\n",
    "path = \"data/dc36/\""
   ]
  },
  {
   "cell_type": "code",
   "execution_count": null,
   "metadata": {},
   "outputs": [],
   "source": [
    "from pyspark import SparkContext\n",
    "sc = SparkContext(\"local\", \"First App\")\n",
    "print(sc)"
   ]
  },
  {
   "cell_type": "code",
   "execution_count": null,
   "metadata": {},
   "outputs": [],
   "source": [
    "from pyspark.sql import SparkSession\n",
    "spark = SparkSession.builder.appName('First App').getOrCreate()"
   ]
  },
  {
   "cell_type": "code",
   "execution_count": null,
   "metadata": {},
   "outputs": [],
   "source": [
    "# Return spark version\n",
    "print(spark.version)\n",
    "\n",
    "# Return python version\n",
    "import sys\n",
    "print(sys.version_info)"
   ]
  },
  {
   "cell_type": "markdown",
   "metadata": {},
   "source": [
    "---\n",
    "<a id='intro'></a>"
   ]
  },
  {
   "cell_type": "markdown",
   "metadata": {},
   "source": [
    "## Why learn how to build recommendation engines?\n",
    "\n",
    "<img src=\"images/spark6_001.png\" alt=\"\" style=\"width: 800px;\"/>\n",
    "\n",
    "<img src=\"images/spark6_002.png\" alt=\"\" style=\"width: 800px;\"/>\n",
    "\n",
    "<img src=\"images/spark6_003.png\" alt=\"\" style=\"width: 800px;\"/>"
   ]
  },
  {
   "cell_type": "markdown",
   "metadata": {},
   "source": [
    "## See the power of a recommendation engine\n",
    "\n",
    "Taylor and Jane both like watching movies. Taylor only likes dramas, comedies, and romances. Jane likes only action, adventure, and otherwise exciting films. One of the greatest benefits of `ALS-based recommendation engines` is that they can identify movies or items that users will like, even if they themselves think that they might not like them. Take a look at the movie ratings that Taylor and Jane have provided below. It would stand to reason that their different preferences would generate different recommendations.\n",
    "\n",
    "- Take a look at TJ_ratings using the .show() method and any other methods you prefer to see how each of them rated the various movies they've seen.\n",
    "- Input user names into the get_ALS_recs() function provided to see what movies ALS recommends for Jane and Taylor based on the ratings provided. Do the ratings make sense to you?\n",
    "\n",
    "```\n",
    "In [1]: TJ_ratings.show()\n",
    "+---------+--------------------+------+\n",
    "|user_name|          movie_name|rating|\n",
    "+---------+--------------------+------+\n",
    "|   Taylor|            Twilight|   4.9|\n",
    "|   Taylor|  A Walk to Remember|   4.5|\n",
    "|   Taylor|        The Notebook|   5.0|\n",
    "|   Taylor|Raiders of the Lo...|   1.2|\n",
    "|   Taylor|      The Terminator|   1.0|\n",
    "|   Taylor|      Mrs. Doubtfire|   1.0|\n",
    "|     Jane|            Iron Man|   4.8|\n",
    "|     Jane|Raiders of the Lo...|   4.9|\n",
    "|     Jane|      The Terminator|   4.6|\n",
    "|     Jane|           Anchorman|   1.2|\n",
    "|     Jane|        Pretty Woman|   1.0|\n",
    "|     Jane|           Toy Story|   1.2|\n",
    "+---------+--------------------+------+\n",
    "\n",
    "In [2]: get_ALS_recs([\"Taylor\",\"Jane\"])\n",
    "    userId  pred_rating                 title          genres\n",
    "0   Taylor         3.89   Seven Pounds (2008)           Drama\n",
    "1   Taylor         3.61      Cure, The (1995)           Drama\n",
    "2   Taylor         3.55  Kiss Me, Guido (1997          Comedy\n",
    "3   Taylor         3.29  You've Got Mail (199  Comedy|Romance\n",
    "4   Taylor         3.27  10 Things I Hate Abo  Comedy|Romance\n",
    "5   Taylor         3.26  Corrina, Corrina (19  Comedy|Drama|R\n",
    "6     Jane         4.96           Fear (1996)        Thriller\n",
    "7     Jane         4.85  Lord of the Rings: T  Adventure|Fant\n",
    "8     Jane         4.70  Lord of the Rings: T  Adventure|Fant\n",
    "9     Jane         4.55  No Holds Barred (198          Action\n",
    "10    Jane         4.54  Lord of the Rings: T  Action|Adventu\n",
    "11    Jane         4.30  Band of Brothers (20  Action|Drama|W\n",
    "12    Jane         4.26   Transformers (2007)  Action|Sci-Fi|\n",
    "```"
   ]
  },
  {
   "cell_type": "markdown",
   "metadata": {},
   "source": [
    "## Recommendation Engine Types and Data Types\n",
    "\n",
    "<img src=\"images/spark6_004.png\" alt=\"\" style=\"width: 800px;\"/>\n",
    "\n",
    "<img src=\"images/spark6_005.png\" alt=\"\" style=\"width: 800px;\"/>"
   ]
  },
  {
   "cell_type": "code",
   "execution_count": null,
   "metadata": {},
   "outputs": [],
   "source": []
  },
  {
   "cell_type": "code",
   "execution_count": null,
   "metadata": {},
   "outputs": [],
   "source": []
  },
  {
   "cell_type": "code",
   "execution_count": null,
   "metadata": {},
   "outputs": [],
   "source": []
  },
  {
   "cell_type": "code",
   "execution_count": null,
   "metadata": {},
   "outputs": [],
   "source": []
  },
  {
   "cell_type": "code",
   "execution_count": null,
   "metadata": {},
   "outputs": [],
   "source": []
  },
  {
   "cell_type": "code",
   "execution_count": null,
   "metadata": {},
   "outputs": [],
   "source": []
  },
  {
   "cell_type": "code",
   "execution_count": null,
   "metadata": {},
   "outputs": [],
   "source": []
  },
  {
   "cell_type": "code",
   "execution_count": null,
   "metadata": {},
   "outputs": [],
   "source": [
    "# Terminate the cluster\n",
    "spark.stop()"
   ]
  },
  {
   "cell_type": "code",
   "execution_count": null,
   "metadata": {},
   "outputs": [],
   "source": [
    "<img src=\"images/spark6_006.png\" alt=\"\" style=\"width: 800px;\"/>"
   ]
  },
  {
   "cell_type": "code",
   "execution_count": null,
   "metadata": {},
   "outputs": [],
   "source": [
    "---\n",
    "<a id='intro'></a>"
   ]
  }
 ],
 "metadata": {
  "kernelspec": {
   "display_name": "Python 3",
   "language": "python",
   "name": "python3"
  },
  "language_info": {
   "codemirror_mode": {
    "name": "ipython",
    "version": 3
   },
   "file_extension": ".py",
   "mimetype": "text/x-python",
   "name": "python",
   "nbconvert_exporter": "python",
   "pygments_lexer": "ipython3",
   "version": "3.7.3"
  }
 },
 "nbformat": 4,
 "nbformat_minor": 4
}

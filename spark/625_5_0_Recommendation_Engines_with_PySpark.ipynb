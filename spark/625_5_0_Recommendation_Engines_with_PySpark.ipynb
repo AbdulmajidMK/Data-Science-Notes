{
 "cells": [
  {
   "cell_type": "raw",
   "metadata": {},
   "source": [
    "From: https://github.com/ksatola\n",
    "Version: 1.0.0"
   ]
  },
  {
   "cell_type": "markdown",
   "metadata": {},
   "source": [
    "# Building Recommendation Engines with PySpark\n",
    "\n",
    "This course will show you how to build recommendation engines using `Alternating Least Squares` in PySpark. Using the popular MovieLens dataset and the Million Songs dataset, this course will take you step by step through the intuition of the Alternating Least Squares algorithm as well as the code to train, test and implement ALS models on various types of customer data."
   ]
  },
  {
   "cell_type": "markdown",
   "metadata": {},
   "source": [
    "## Table of Contents\n",
    "\n",
    "- [Introduction](#intro)\n",
    "- [How does ALS work?](#als)"
   ]
  },
  {
   "cell_type": "code",
   "execution_count": null,
   "metadata": {},
   "outputs": [],
   "source": [
    "import pandas as pd\n",
    "import numpy as np\n",
    "import matplotlib.pyplot as plt\n",
    "%matplotlib inline\n",
    "\n",
    "import seaborn as sns\n",
    "\n",
    "path = \"data/dc36/\""
   ]
  },
  {
   "cell_type": "code",
   "execution_count": null,
   "metadata": {},
   "outputs": [],
   "source": [
    "from pyspark import SparkContext\n",
    "sc = SparkContext(\"local\", \"First App\")\n",
    "print(sc)"
   ]
  },
  {
   "cell_type": "code",
   "execution_count": null,
   "metadata": {},
   "outputs": [],
   "source": [
    "from pyspark.sql import SparkSession\n",
    "spark = SparkSession.builder.appName('First App').getOrCreate()"
   ]
  },
  {
   "cell_type": "code",
   "execution_count": null,
   "metadata": {},
   "outputs": [],
   "source": [
    "# Return spark version\n",
    "print(spark.version)\n",
    "\n",
    "# Return python version\n",
    "import sys\n",
    "print(sys.version_info)"
   ]
  },
  {
   "cell_type": "markdown",
   "metadata": {},
   "source": [
    "---\n",
    "<a id='intro'></a>"
   ]
  },
  {
   "cell_type": "markdown",
   "metadata": {},
   "source": [
    "## Why learn how to build recommendation engines?\n",
    "\n",
    "<img src=\"images/spark6_001.png\" alt=\"\" style=\"width: 800px;\"/>\n",
    "\n",
    "<img src=\"images/spark6_002.png\" alt=\"\" style=\"width: 800px;\"/>\n",
    "\n",
    "<img src=\"images/spark6_003.png\" alt=\"\" style=\"width: 800px;\"/>"
   ]
  },
  {
   "cell_type": "markdown",
   "metadata": {},
   "source": [
    "## See the power of a recommendation engine\n",
    "\n",
    "Taylor and Jane both like watching movies. Taylor only likes dramas, comedies, and romances. Jane likes only action, adventure, and otherwise exciting films. One of the greatest benefits of `ALS-based recommendation engines` is that they can identify movies or items that users will like, even if they themselves think that they might not like them. Take a look at the movie ratings that Taylor and Jane have provided below. It would stand to reason that their different preferences would generate different recommendations.\n",
    "\n",
    "- Take a look at TJ_ratings using the .show() method and any other methods you prefer to see how each of them rated the various movies they've seen.\n",
    "- Input user names into the get_ALS_recs() function provided to see what movies ALS recommends for Jane and Taylor based on the ratings provided. Do the ratings make sense to you?\n",
    "\n",
    "```\n",
    "In [1]: TJ_ratings.show()\n",
    "+---------+--------------------+------+\n",
    "|user_name|          movie_name|rating|\n",
    "+---------+--------------------+------+\n",
    "|   Taylor|            Twilight|   4.9|\n",
    "|   Taylor|  A Walk to Remember|   4.5|\n",
    "|   Taylor|        The Notebook|   5.0|\n",
    "|   Taylor|Raiders of the Lo...|   1.2|\n",
    "|   Taylor|      The Terminator|   1.0|\n",
    "|   Taylor|      Mrs. Doubtfire|   1.0|\n",
    "|     Jane|            Iron Man|   4.8|\n",
    "|     Jane|Raiders of the Lo...|   4.9|\n",
    "|     Jane|      The Terminator|   4.6|\n",
    "|     Jane|           Anchorman|   1.2|\n",
    "|     Jane|        Pretty Woman|   1.0|\n",
    "|     Jane|           Toy Story|   1.2|\n",
    "+---------+--------------------+------+\n",
    "\n",
    "In [2]: get_ALS_recs([\"Taylor\",\"Jane\"])\n",
    "    userId  pred_rating                 title          genres\n",
    "0   Taylor         3.89   Seven Pounds (2008)           Drama\n",
    "1   Taylor         3.61      Cure, The (1995)           Drama\n",
    "2   Taylor         3.55  Kiss Me, Guido (1997          Comedy\n",
    "3   Taylor         3.29  You've Got Mail (199  Comedy|Romance\n",
    "4   Taylor         3.27  10 Things I Hate Abo  Comedy|Romance\n",
    "5   Taylor         3.26  Corrina, Corrina (19  Comedy|Drama|R\n",
    "6     Jane         4.96           Fear (1996)        Thriller\n",
    "7     Jane         4.85  Lord of the Rings: T  Adventure|Fant\n",
    "8     Jane         4.70  Lord of the Rings: T  Adventure|Fant\n",
    "9     Jane         4.55  No Holds Barred (198          Action\n",
    "10    Jane         4.54  Lord of the Rings: T  Action|Adventu\n",
    "11    Jane         4.30  Band of Brothers (20  Action|Drama|W\n",
    "12    Jane         4.26   Transformers (2007)  Action|Sci-Fi|\n",
    "```"
   ]
  },
  {
   "cell_type": "markdown",
   "metadata": {},
   "source": [
    "## Recommendation Engine Types and Data Types\n",
    "\n",
    "<img src=\"images/spark6_004.png\" alt=\"\" style=\"width: 800px;\"/>\n",
    "\n",
    "<img src=\"images/spark6_005.png\" alt=\"\" style=\"width: 800px;\"/>"
   ]
  },
  {
   "cell_type": "markdown",
   "metadata": {},
   "source": [
    "## Collaborative vs Content-Based Filtering Part II\n",
    "\n",
    "Look at the df dataframe using the .show() method and/or the .columns method, and determine whether it is best suited for \"collaborative filtering\", \"content-based filtering\", or \"both\".\n",
    "\n",
    "```\n",
    "In [1]: df.show()\n",
    "+------+-------+-----------------+--------+--------+-------------+------+\n",
    "|UserId|MovieId|      Movie_Title|   Genre|Language|Year_Produced|rating|\n",
    "+------+-------+-----------------+--------+--------+-------------+------+\n",
    "| User1|   2112|     Finding Nemo|Animated| English|         2003|     3|\n",
    "| User1|   2113|   The Terminator|  Action| English|         1984|     0|\n",
    "| User1|   2114|       Spinal Tap|  Satire| English|         1984|     4|\n",
    "| User1|   2115|Life Is Beautiful|   Drama| Italian|         1998|     4|\n",
    "| User2|   2112|     Finding Nemo|Animated| English|         2003|     4|\n",
    "| User2|   2113|   The Terminator|  Action| English|         1984|     0|\n",
    "| User2|   2114|       Spinal Tap|  Satire| English|         1984|     0|\n",
    "| User2|   2115|Life Is Beautiful|   Drama| Italian|         1998|     4|\n",
    "| User3|   2112|     Finding Nemo|Animated| English|         2003|     1|\n",
    "| User3|   2113|   The Terminator|  Action| English|         1984|     2|\n",
    "| User3|   2114|       Spinal Tap|  Satire| English|         1984|     1|\n",
    "| User3|   2115|Life Is Beautiful|   Drama| Italian|         1998|     0|\n",
    "| User4|   2112|     Finding Nemo|Animated| English|         2003|     3|\n",
    "| User4|   2113|   The Terminator|  Action| English|         1984|     1|\n",
    "| User4|   2114|       Spinal Tap|  Satire| English|         1984|     0|\n",
    "| User4|   2115|Life Is Beautiful|   Drama| Italian|         1998|     0|\n",
    "+------+-------+-----------------+--------+--------+-------------+------+\n",
    "```\n",
    "\n",
    "Possible Answers\n",
    "- Collaborative filtering\n",
    "- Content-based filtering\n",
    "- Both collaborative and content-based filtering (correct)\n",
    "\n",
    "Because this dataset includes descriptive tags like genre and language, as well as user ratings, it is suited for both collaborative and content-based filtering."
   ]
  },
  {
   "cell_type": "markdown",
   "metadata": {},
   "source": [
    "## Implicit vs Explicit Data\n",
    "\n",
    "Recall the differences between implicit and explicit ratings. Take a look at the df1 dataframe to understand whether the data includes implicit or explicit ratings data.\n",
    "\n",
    "- Use the .columns and .show() methods to get an idea of the data provided, and see if the data includes implicit or explicit ratings.\n",
    "- Type \"implicit\" or \"explicit\" based on whether you think this data contains \"implicit\" ratings or \"explicit\" ratings. Name your response answer.\n",
    "\n",
    "```\n",
    "In [1]: df1.columns\n",
    "Out[1]: ['Movie_Title', 'Genre', 'Num_Views']\n",
    "\n",
    "In [2]: df1.show()\n",
    "+--------------------+------------------+---------+\n",
    "|         Movie_Title|             Genre|Num_Views|\n",
    "+--------------------+------------------+---------+\n",
    "|        Finding Nemo|Animated Childrens|       12|\n",
    "|           Toy Story|Animated Childrens|        6|\n",
    "|            Iron Man|            Action|        1|\n",
    "|     Captain America|            Action|        1|\n",
    "|     The Incredibles|Animated Childrens|        9|\n",
    "|              Frozen|Animated Childrens|       22|\n",
    "|The Shawshank Red...|             Drama|        2|\n",
    "|  Rabbit Proof Fence|             Drama|        2|\n",
    "|Searching for Sug...|       Documentary|        3|\n",
    "|              Powder|             Drama|        1|\n",
    "|        The Fugitive|            Action|        2|\n",
    "+--------------------+------------------+---------+\n",
    "```\n",
    "This dataset includes user behavior counts which are used as implicit ratings."
   ]
  },
  {
   "cell_type": "markdown",
   "metadata": {},
   "source": [
    "## Ratings data types\n",
    "\n",
    "Markus watches a lot of movies, including documentaries, superhero movies, classics, and dramas. Drawing on your previous experience with Spark, use the markus_ratings dataframe, which contains data on the number of times Markus has seen movies in various genres, and think about whether these are implicit or explicit ratings. Use the groupBy() method to determine which genre has the highest rating, which could likely influence what recommendations ALS would generate for Markus.\n",
    "\n",
    "- Use the groupBy() method to group the markus_ratings dataframe by \"Genre\".\n",
    "- Apply the .sum() method to get the total number of movies watched for each genre.\n",
    "- Be sure to add the .show() method at the end to view the counts.\n",
    "\n",
    "```\n",
    "In [1]: markus_ratings.show()\n",
    "+--------------------+------------------+---------+\n",
    "|         Movie_Title|             Genre|Num_Views|\n",
    "+--------------------+------------------+---------+\n",
    "|        Finding Nemo|Animated Childrens|       12|\n",
    "|           Toy Story|Animated Childrens|        6|\n",
    "|            Iron Man|            Action|        1|\n",
    "|     Captain America|            Action|        1|\n",
    "|     The Incredibles|Animated Childrens|        9|\n",
    "|              Frozen|Animated Childrens|       22|\n",
    "|The Shawshank Red...|             Drama|        2|\n",
    "|  Rabbit Proof Fence|             Drama|        2|\n",
    "|Searching for Sug...|       Documentary|        3|\n",
    "|              Powder|             Drama|        1|\n",
    "|        The Fugitive|            Action|        2|\n",
    "+--------------------+------------------+---------+\n",
    "\n",
    "In [2]: # Group the data by \"Genre\"\n",
    "        markus_ratings.groupBy(\"Genre\").sum().show()\n",
    "+------------------+--------------+\n",
    "|             Genre|sum(Num_Views)|\n",
    "+------------------+--------------+\n",
    "|             Drama|             5|\n",
    "|       Documentary|             3|\n",
    "|            Action|             4|\n",
    "|Animated Childrens|            49|\n",
    "+------------------+--------------+\n",
    "```\n",
    "Markus seems to like animated children's movies. Or perhaps his 3 kids use his movie streaming account more than he does."
   ]
  },
  {
   "cell_type": "markdown",
   "metadata": {},
   "source": [
    "## Uses for Recommendation Engines\n",
    "\n",
    "<img src=\"images/spark6_006.png\" alt=\"\" style=\"width: 800px;\"/>\n",
    "\n",
    "<img src=\"images/spark6_007.png\" alt=\"\" style=\"width: 800px;\"/>\n",
    "\n",
    "<img src=\"images/spark6_008.png\" alt=\"\" style=\"width: 800px;\"/>\n",
    "\n",
    "<img src=\"images/spark6_009.png\" alt=\"\" style=\"width: 800px;\"/>\n",
    "\n",
    "`Latent features` aren't directly observable by humans, and need mathematical operations to uncover them."
   ]
  },
  {
   "cell_type": "markdown",
   "metadata": {},
   "source": [
    "## Confirm understanding of latent features\n",
    "\n",
    "Matrix P is provided here. Its columns represent movies and its rows represent several latent features. Use your understanding of Spark commands to view matrix P and see if you can determine what some of the latent features might represent. After examining the matrix, look at the dataframe Pi, which contains a rough approximation of what these latent features could represent. See if you weren't far off.\n",
    "\n",
    "- Examine matrix P using the .show() method.\n",
    "- Examine matrix Pi using the .show() method.\n",
    "\n",
    "```\n",
    "<script.py> output:\n",
    "    +--------+------------+--------+---------+------------+------+----------+\n",
    "    |Iron Man|Finding Nemo|Avengers|Toy Story|Forrest Gump|Wall-E|Green Mile|\n",
    "    +--------+------------+--------+---------+------------+------+----------+\n",
    "    |     0.2|         2.4|     0.1|      2.4|           0|   2.5|         0|\n",
    "    |     1.5|         1.4|     1.4|      1.3|         1.8|   1.8|       2.5|\n",
    "    |     2.5|         1.1|     2.4|      0.9|         0.2|   0.9|      0.09|\n",
    "    |     1.9|           2|     1.5|      2.2|         1.2|   0.3|      0.01|\n",
    "    |       0|           0|       0|      2.3|         2.2|     0|       2.5|\n",
    "    +--------+------------+--------+---------+------------+------+----------+\n",
    "    \n",
    "    +---------+--------+------------+--------+---------+------------+------+----------+\n",
    "    | Lat Feat|Iron Man|Finding Nemo|Avengers|Toy Story|Forrest Gump|Wall-E|Green Mile|\n",
    "    +---------+--------+------------+--------+---------+------------+------+----------+\n",
    "    | Animated|     0.2|         2.4|     0.1|      2.4|           0|   2.5|         0|\n",
    "    |    Drama|     1.5|         1.4|     1.4|      1.3|         1.8|   1.8|       2.5|\n",
    "    |Superhero|     2.5|         1.1|     2.4|      0.9|         0.2|   0.9|      0.09|\n",
    "    |   Comedy|     1.9|           2|     1.5|      2.2|         1.2|   0.3|      0.01|\n",
    "    |Tom Hanks|       0|           0|       0|      1.8|         2.2|     0|       2.5|\n",
    "    +---------+--------+------------+--------+---------+------------+------+----------+\n",
    "```"
   ]
  },
  {
   "cell_type": "markdown",
   "metadata": {},
   "source": [
    "---\n",
    "<a id='als'></a>"
   ]
  },
  {
   "cell_type": "markdown",
   "metadata": {},
   "source": [
    "## How does ALS work?\n",
    "\n",
    "<img src=\"images/spark6_010.png\" alt=\"\" style=\"width: 800px;\"/>\n",
    "\n",
    "<img src=\"images/spark6_011.png\" alt=\"\" style=\"width: 800px;\"/>\n",
    "\n",
    "<img src=\"images/spark6_012.png\" alt=\"\" style=\"width: 800px;\"/>\n",
    "\n",
    "<img src=\"images/spark6_013.png\" alt=\"\" style=\"width: 800px;\"/>\n",
    "\n",
    "<img src=\"images/spark6_014.png\" alt=\"\" style=\"width: 800px;\"/>\n",
    "\n",
    "<img src=\"images/spark6_015.png\" alt=\"\" style=\"width: 800px;\"/>\n",
    "\n",
    "<img src=\"images/spark6_016.png\" alt=\"\" style=\"width: 800px;\"/>\n",
    "\n",
    "<img src=\"images/spark6_017.png\" alt=\"\" style=\"width: 800px;\"/>\n",
    "\n",
    "<img src=\"images/spark6_018.png\" alt=\"\" style=\"width: 800px;\"/>\n",
    "\n",
    "<img src=\"images/spark6_019.png\" alt=\"\" style=\"width: 800px;\"/>"
   ]
  },
  {
   "cell_type": "markdown",
   "metadata": {},
   "source": [
    "## "
   ]
  },
  {
   "cell_type": "code",
   "execution_count": null,
   "metadata": {},
   "outputs": [],
   "source": []
  },
  {
   "cell_type": "code",
   "execution_count": null,
   "metadata": {},
   "outputs": [],
   "source": []
  },
  {
   "cell_type": "code",
   "execution_count": null,
   "metadata": {},
   "outputs": [],
   "source": []
  },
  {
   "cell_type": "code",
   "execution_count": null,
   "metadata": {},
   "outputs": [],
   "source": []
  },
  {
   "cell_type": "code",
   "execution_count": null,
   "metadata": {},
   "outputs": [],
   "source": []
  },
  {
   "cell_type": "code",
   "execution_count": null,
   "metadata": {},
   "outputs": [],
   "source": []
  },
  {
   "cell_type": "code",
   "execution_count": null,
   "metadata": {},
   "outputs": [],
   "source": []
  },
  {
   "cell_type": "code",
   "execution_count": null,
   "metadata": {},
   "outputs": [],
   "source": []
  },
  {
   "cell_type": "code",
   "execution_count": null,
   "metadata": {},
   "outputs": [],
   "source": []
  },
  {
   "cell_type": "code",
   "execution_count": null,
   "metadata": {},
   "outputs": [],
   "source": [
    "# Terminate the cluster\n",
    "spark.stop()"
   ]
  },
  {
   "cell_type": "code",
   "execution_count": null,
   "metadata": {},
   "outputs": [],
   "source": [
    "<img src=\"images/spark6_020.png\" alt=\"\" style=\"width: 800px;\"/>"
   ]
  },
  {
   "cell_type": "code",
   "execution_count": null,
   "metadata": {},
   "outputs": [],
   "source": [
    "---\n",
    "<a id='intro'></a>"
   ]
  }
 ],
 "metadata": {
  "kernelspec": {
   "display_name": "Python 3",
   "language": "python",
   "name": "python3"
  },
  "language_info": {
   "codemirror_mode": {
    "name": "ipython",
    "version": 3
   },
   "file_extension": ".py",
   "mimetype": "text/x-python",
   "name": "python",
   "nbconvert_exporter": "python",
   "pygments_lexer": "ipython3",
   "version": "3.7.3"
  }
 },
 "nbformat": 4,
 "nbformat_minor": 4
}
